{
 "cells": [
  {
   "cell_type": "code",
   "execution_count": 18,
   "id": "7d763b0e",
   "metadata": {},
   "outputs": [],
   "source": [
    "import asyncio\n",
    "import itertools\n",
    "import logging\n",
    "import random\n",
    "import nest_asyncio\n",
    "import pandas as pd\n",
    "\n",
    "nest_asyncio.apply()  #"
   ]
  },
  {
   "cell_type": "code",
   "execution_count": 19,
   "id": "33f6d65f",
   "metadata": {},
   "outputs": [
    {
     "data": {
      "text/plain": [
       "True"
      ]
     },
     "execution_count": 19,
     "metadata": {},
     "output_type": "execute_result"
    }
   ],
   "source": [
    "import torch\n",
    "\n",
    "torch.cuda.is_available()"
   ]
  },
  {
   "cell_type": "code",
   "execution_count": 20,
   "id": "ad69bb62",
   "metadata": {},
   "outputs": [],
   "source": [
    "import os\n",
    "from pathlib import Path\n",
    "import tempfile\n",
    "\n",
    "from shutil import rmtree\n",
    "from typing import List, Optional, Union\n",
    "\n",
    "from nuplan.planning.script.run_simulation import main as main_simulation"
   ]
  },
  {
   "cell_type": "code",
   "execution_count": 4,
   "id": "8233f21e",
   "metadata": {},
   "outputs": [
    {
     "name": "stdout",
     "output_type": "stream",
     "text": [
      "env: NUPLAN_DATA_ROOT=../../../datasets/nuplan/dataset\n",
      "env: NUPLAN_MAPS_ROOT=../../data/nuplan/maps\n",
      "env: NUPLAN_EXP_ROOT=../../data/nuplan/exp\n",
      "env: NUPLAN_DEVKIT_ROOT=../../nuplan-devkit/\n"
     ]
    },
    {
     "data": {
      "text/plain": [
       "'/home/ehdykhne/nuplan-devkit/experiments'"
      ]
     },
     "execution_count": 4,
     "metadata": {},
     "output_type": "execute_result"
    }
   ],
   "source": [
    "%env NUPLAN_DATA_ROOT=../../../datasets/nuplan/dataset\n",
    "%env NUPLAN_MAPS_ROOT=../../data/nuplan/maps\n",
    "%env NUPLAN_EXP_ROOT=../../data/nuplan/exp\n",
    "%env NUPLAN_DEVKIT_ROOT=../../nuplan-devkit/\n",
    "%pwd"
   ]
  },
  {
   "cell_type": "code",
   "execution_count": 21,
   "id": "f17ea3ea",
   "metadata": {},
   "outputs": [],
   "source": [
    "import hydra\n",
    "import pytorch_lightning as pl\n",
    "from omegaconf import DictConfig, OmegaConf\n",
    "\n",
    "from nuplan.common.utils.s3_utils import is_s3_path\n",
    "from nuplan.planning.script.builders.simulation_builder import build_simulations\n",
    "from nuplan.planning.script.builders.simulation_callback_builder import (\n",
    "    build_callbacks_worker,\n",
    "    build_simulation_callbacks,\n",
    ")\n",
    "from nuplan.planning.script.utils import (\n",
    "    run_runners,\n",
    "    set_default_path,\n",
    "    set_up_common_builder,\n",
    ")\n",
    "from nuplan.planning.simulation.planner.abstract_planner import AbstractPlanner\n",
    "\n",
    "logging.basicConfig(level=logging.INFO)\n",
    "logger = logging.getLogger(__name__)\n",
    "\n",
    "# If set, use the env. variable to overwrite the default dataset and experiment paths\n",
    "set_default_path()\n",
    "\n",
    "# If set, use the env. variable to overwrite the Hydra config\n",
    "CONFIG_PATH = os.getenv(\"NUPLAN_HYDRA_CONFIG_PATH\", \"config/simulation\")\n",
    "\n",
    "if os.environ.get(\"NUPLAN_HYDRA_CONFIG_PATH\") is not None:\n",
    "    CONFIG_PATH = os.path.join(\"../../../../\", CONFIG_PATH)\n",
    "\n",
    "if os.path.basename(CONFIG_PATH) != \"simulation\":\n",
    "    CONFIG_PATH = os.path.join(CONFIG_PATH, \"simulation\")\n",
    "CONFIG_NAME = \"default_simulation\""
   ]
  },
  {
   "cell_type": "code",
   "execution_count": 6,
   "id": "8a2350b5",
   "metadata": {},
   "outputs": [
    {
     "name": "stdout",
     "output_type": "stream",
     "text": [
      "['d6234553edc95d50', '98ddd7851e445b7a', '5ac5795b9b5851e8']\n",
      "['014c7f3502d4597d', '02828821ef045829', '02fa9b8d43465e0d']\n"
     ]
    }
   ],
   "source": [
    "# list of selected scenario tokens\n",
    "from tokens import selected_scenario_tokens, modifiable_scenario_tokens\n",
    "\n",
    "print(selected_scenario_tokens[0:3])\n",
    "print(modifiable_scenario_tokens[0:3])\n",
    "\n",
    "selected_scenario_tokens = [\"8b80aa05d88b518b\"]"
   ]
  },
  {
   "cell_type": "code",
   "execution_count": 7,
   "id": "69170726",
   "metadata": {},
   "outputs": [],
   "source": [
    "from tutorials.utils.tutorial_utils import construct_simulation_hydra_paths\n",
    "\n",
    "# Location of paths with all simulation configs\n",
    "BASE_CONFIG_PATH = os.path.join(\n",
    "    os.getenv(\"NUPLAN_TUTORIAL_PATH\", \"\"), \"../nuplan/planning/script\"\n",
    ")\n",
    "simulation_hydra_paths = construct_simulation_hydra_paths(BASE_CONFIG_PATH)"
   ]
  },
  {
   "cell_type": "code",
   "execution_count": 22,
   "id": "dc132c71",
   "metadata": {},
   "outputs": [],
   "source": [
    "left_turn_types = [\n",
    "    \"stopping_at_crosswalk\",\n",
    "    \"high_lateral_acceleration\",\n",
    "    \"near_multiple_vehicles\",\n",
    "    \"on_stopline_stop_sign\",\n",
    "    \"near_long_vehicle\",\n",
    "    \"unknown\",\n",
    "    \"near_barrier_on_driveable\",\n",
    "    \"near_high_speed_vehicle\",\n",
    "]\n",
    "scenario_types = [\n",
    "    \"starting_left_turn\",\n",
    "    # \"accelerating_at_traffic_light_with_lead\",\n",
    "    # \"crossed_by_bike\",\n",
    "    # \"crossed_by_vehicle\",\n",
    "    # \"on_intersection\",\n",
    "    # \"on_stopline_crosswalk\",\n",
    "    # \"on_stopline_stop_sign\",\n",
    "    # \"on_stopline_traffic_light\",\n",
    "    # \"on_traffic_light_intersection\",\n",
    "    # \"starting_protected_cross_turn\",\n",
    "    # \"starting_protected_noncross_turn\",\n",
    "    \"starting_right_turn\",\n",
    "    \"starting_straight_stop_sign_intersection_traversal\",\n",
    "    \"starting_straight_traffic_light_intersection_traversal\",\n",
    "    # \"starting_u_turn\",\n",
    "    \"starting_unprotected_cross_turn\",\n",
    "    \"starting_unprotected_noncross_turn\",\n",
    "    # \"stationary_at_crosswalk\",\n",
    "    # \"stationary_at_traffic_light_with_lead\",\n",
    "    # \"stationary_at_traffic_light_without_lead\",\n",
    "    # \"traversing_crosswalk\",\n",
    "    \"traversing_intersection\",\n",
    "    \"traversing_traffic_light_intersection\",\n",
    "]\n",
    "\n",
    "left_turn_potential = [\n",
    "    \"starting_left_turn\",\n",
    "    \"starting_unprotected_cross_turn\",\n",
    "]\n",
    "\n",
    "# scenario_types = ['stationary_at_traffic_light_without_lead']\n",
    "\n",
    "# selected_scenario_tokens = [\"4b95591c786b5558\"]  # cross bug\n",
    "# selected_scenario_tokens = [\"2b430abcf49554c7\"]  # merge occlusion bug\n",
    "\n",
    "experiment_name = \"base_bench\"\n",
    "\n",
    "scenario_builder = \"val\"  # [nuplan (uses trainval), nuplan_mini, test, val, train_boston, train_pittsburgh, train_singapore]\n",
    "DATASET_PARAMS = [\n",
    "    f\"scenario_builder={scenario_builder}\",\n",
    "    \"scenario_filter=all_scenarios\",  # [all_scenarios, val14_split]\n",
    "    f\"scenario_filter.scenario_types={scenario_types}\",  # there are 70 scenario types in the trainingset and 58 in the validation set including \"unknown\" which make up the majority\n",
    "    \"scenario_filter.ego_displacement_minimum_m=10\",  # use scenarios where the ego vehicle moves at least 10m\n",
    "    #    'scenario_filter.remove_invalid_goals=true',  # remove scenarios where the goal is not invalid\n",
    "    # \"scenario_filter.ego_start_speed_threshold=5\",  # Exclusive threshold that the ego's speed must rise above (meters per second) for scenario to be kept\n",
    "    #    'scenario_filter.stop_speed_threshold=10',  # Inclusive threshold that the ego's speed must fall below (meters per second) for scenario to be kept:\n",
    "    \"scenario_filter.map_names=[sg-one-north, us-ma-boston, us-pa-pittsburgh-hazelwood, us-nv-las-vegas-strip]\",  # select multiple [sg-one-north, us-ma-boston, us-pa-pittsburgh-hazelwood, us-nv-las-vegas-strip]\n",
    "    # \"scenario_filter.limit_total_scenarios=0.05\",  # use n total scenarios if int, or if float smaller than 1, use n as a fraction of total scenarios (changes sampling frequency, unchanged leaves the frequency at 20Hz)\n",
    "    \"scenario_filter.num_scenarios_per_type=400\",  # use 10 scenarios per scenario type #bring this back to 25 for testing the cross bug\n",
    "    # f\"scenario_filter.scenario_tokens={selected_scenario_tokens}\",  # List of scenarios to include (token)\n",
    "    #'scenario_filter.log_names=[\"2021.08.24.20.03.01_veh-45_01091_01622\"]',  # specific scenrios to simulate\n",
    "    # turn off if you are selecting scenarios manually. turn on for initial filtering (0.05 gives us 1 scenario per second)\n",
    "]"
   ]
  },
  {
   "cell_type": "code",
   "execution_count": 16,
   "id": "5eba4239",
   "metadata": {},
   "outputs": [
    {
     "ename": "NameError",
     "evalue": "name 'hydra' is not defined",
     "output_type": "error",
     "traceback": [
      "\u001b[0;31m---------------------------------------------------------------------------\u001b[0m",
      "\u001b[0;31mNameError\u001b[0m                                 Traceback (most recent call last)",
      "Cell \u001b[0;32mIn[16], line 7\u001b[0m\n\u001b[1;32m      3\u001b[0m hybrid_ckpt \u001b[38;5;241m=\u001b[39m \u001b[38;5;124m\"\u001b[39m\u001b[38;5;124m/home/ehdykhne/nuplan-devkit/experiments/pretrained_checkpoints/pdm_offset_checkpoint.ckpt\u001b[39m\u001b[38;5;124m\"\u001b[39m\n\u001b[1;32m      4\u001b[0m \u001b[38;5;66;03m#'/home/ehdykhne/nuplan-devkit/experiments/pretrained_checkpoints/urbandriver_checkpoint.ckpt'\u001b[39;00m\n\u001b[1;32m      5\u001b[0m \u001b[38;5;66;03m#'/home/ehdykhne/Repos/nuplan-devkit/experiments/pretrained_checkpoints/urbandriver_checkpoint.ckpt'\u001b[39;00m\n\u001b[1;32m      6\u001b[0m \u001b[38;5;66;03m# Initialize configuration management system\u001b[39;00m\n\u001b[0;32m----> 7\u001b[0m \u001b[43mhydra\u001b[49m\u001b[38;5;241m.\u001b[39mcore\u001b[38;5;241m.\u001b[39mglobal_hydra\u001b[38;5;241m.\u001b[39mGlobalHydra\u001b[38;5;241m.\u001b[39minstance()\u001b[38;5;241m.\u001b[39mclear()  \u001b[38;5;66;03m# reinitialize hydra if already initialized\u001b[39;00m\n\u001b[1;32m      8\u001b[0m hydra\u001b[38;5;241m.\u001b[39minitialize(config_path\u001b[38;5;241m=\u001b[39msimulation_hydra_paths\u001b[38;5;241m.\u001b[39mconfig_path)\n\u001b[1;32m     10\u001b[0m \u001b[38;5;66;03m# Compose the configuration\u001b[39;00m\n",
      "\u001b[0;31mNameError\u001b[0m: name 'hydra' is not defined"
     ]
    }
   ],
   "source": [
    "urban_ckpt = \"/home/ehdykhne/nuplan-devkit/experiments/pretrained_checkpoints/urbandriver_checkpoint.ckpt\"\n",
    "gc_pgp_ckpt = \"/home/ehdykhne/nuplan-devkit/experiments/pretrained_checkpoints/gc_pgp_checkpoint.ckpt\"\n",
    "hybrid_ckpt = \"/home/ehdykhne/nuplan-devkit/experiments/pretrained_checkpoints/pdm_offset_checkpoint.ckpt\"\n",
    "#'/home/ehdykhne/nuplan-devkit/experiments/pretrained_checkpoints/urbandriver_checkpoint.ckpt'\n",
    "#'/home/ehdykhne/Repos/nuplan-devkit/experiments/pretrained_checkpoints/urbandriver_checkpoint.ckpt'\n",
    "# Initialize configuration management system\n",
    "hydra.core.global_hydra.GlobalHydra.instance().clear()  # reinitialize hydra if already initialized\n",
    "hydra.initialize(config_path=simulation_hydra_paths.config_path)\n",
    "\n",
    "# Compose the configuration\n",
    "print(simulation_hydra_paths.config_name)\n",
    "cfg_occ = hydra.compose(\n",
    "    config_name=simulation_hydra_paths.config_name,\n",
    "    overrides=[\n",
    "        \"+simulation=closed_loop_multiagent\",  # [open_loop_boxes, closed_loop_nonreactive_agents, closed_loop_reactive_agents, closed_loop_multiagent]\n",
    "        \"planner=pdm_closed_planner\",  # [ml_planner, pdm_hybrid_planner, pdm_closed_planner, idm_planner, log_future_planner, simple_planner]\n",
    "        # \"model=gc_pgp_model\",\n",
    "        # \"model.aggregator.pre_train=false\",\n",
    "        # \"planner.ml_planner.model_config=${model}\",\n",
    "        # f\"planner.ml_planner.checkpoint_path={gc_pgp_ckpt}\",\n",
    "        # f\"planner.pdm_closed_planner.checkpoint_path={hybrid_ckpt}\",\n",
    "        # \"+observation.model=gc_pgp_model\",\n",
    "        # \"+observation.model.aggregator.pre_train=false\",\n",
    "        # \"+observation.model_config=${model}\",\n",
    "        # f\"+observation.checkpoint_path={gc_pgp_ckpt}\",\n",
    "        f\"observation.planner_type=pdm_closed\",\n",
    "        # # f\"observation.pdm_hybrid_ckpt={hybrid_ckpt}\",\n",
    "        f\"observation.occlusion_cfg.occlusion=True\",\n",
    "        f\"observation.occlusion_cfg.manager_type=wedge\",\n",
    "        f\"+observation.occlusion_cfg.uncloak_reaction_time=1.5\",\n",
    "        f\"+observation.occlusion_cfg.notice_threshold=1.0\",\n",
    "        \"+modify_scenario_simulations=true\",\n",
    "        \"+modifier_types=[diverge-conflict-with-occlusion-injection]\",  # can select multiple: [occlusion-injection, left-and-right,\n",
    "        # oncoming-left-turn-and-occlusion-injection, conflict-and-occlusion-injection,\n",
    "        # sequential-conflict-with-occlusion-injection, cross-conflict-with-occlusion-injection\n",
    "        # merge-conflict-with-occlusion-injection, diverge-conflict-with-occlusion-injection]\n",
    "        \"+remove_other_agents=true\",\n",
    "        \"+occlusion=true\",\n",
    "        \"+occlusion.manager_type=wedge\",  # options: [range, shadow, wedge]\n",
    "        \"+occlusion.uncloak_reaction_time=1.5\",  # 0.1\n",
    "        \"+occlusion.notice_threshold=1.0\",  # 0.1\n",
    "        \"worker=ray_distributed\",  # [sequential, ray_distributed]\n",
    "        \"hydra.searchpath=[pkg://tuplan_garage.planning.script.config.common, pkg://tuplan_garage.planning.script.config.simulation, pkg://nuplan.planning.script.config.common, pkg://nuplan.planning.script.experiments]\",\n",
    "        *DATASET_PARAMS,\n",
    "    ],\n",
    ")\n",
    "\n",
    "output_folder_occ = cfg_occ.output_dir\n",
    "print('output_folder_occ = \"' + output_folder_occ + '\"')\n",
    "\n",
    "\n",
    "# closed mixed for simulation\n",
    "# \"+simulation=closed_loop_multiagent\",  # [open_loop_boxes, closed_loop_nonreactive_agents, closed_loop_reactive_agents, closed_loop_multiagent]\n",
    "# \"planner=pdm_closed_planner\",  # [ml_planner, pdm_hybrid_planner, pdm_closed_planner, idm_planner, log_future_planner, simple_planner]\n",
    "# # \"model=gc_pgp_model\",\n",
    "# # \"model.aggregator.pre_train=false\",\n",
    "# # \"planner.ml_planner.model_config=${model}\",\n",
    "# # f\"planner.ml_planner.checkpoint_path={gc_pgp_ckpt}\",\n",
    "# # f\"planner.pdm_closed_planner.checkpoint_path={hybrid_ckpt}\",\n",
    "# # \"+observation.model=gc_pgp_model\",\n",
    "# # \"+observation.model.aggregator.pre_train=false\",\n",
    "# # \"+observation.model_config=${model}\",\n",
    "# # f\"+observation.checkpoint_path={gc_pgp_ckpt}\",\n",
    "# f\"observation.planner_type=pdm_closed\",\n",
    "# # # f\"observation.pdm_hybrid_ckpt={hybrid_ckpt}\",\n",
    "# f\"observation.occlusion_cfg.occlusion=true\",\n",
    "# f\"observation.occlusion_cfg.manager_type=wedge\",\n",
    "# f\"+observation.occlusion_cfg.uncloak_reaction_time=1.5\",\n",
    "# f\"+observation.occlusion_cfg.notice_threshold=1.0\",\n",
    "# \"+modify_scenario_simulations=true\",\n",
    "# \"+modifier_types=[occlusion-injection]\",  # can select multiple: [occlusion-injection, left-and-right]\n",
    "# \"+occlusion=true\",\n",
    "# \"+occlusion.manager_type=wedge\",  # options: [range, shadow, wedge]\n",
    "# \"+occlusion.uncloak_reaction_time=1.0\",\n",
    "# \"+occlusion.notice_threshold=0.1\",\n",
    "# \"worker=ray_distributed\",  # [sequential, ray_distributed]\n",
    "# \"hydra.searchpath=[pkg://tuplan_garage.planning.script.config.common, pkg://tuplan_garage.planning.script.config.simulation, pkg://nuplan.planning.script.config.common, pkg://nuplan.planning.script.experiments]\",\n",
    "# *DATASET_PARAMS,\n",
    "\n",
    "\n",
    "# \"+simulation=open_loop_boxes\",  # [open_loop_boxes, closed_loop_nonreactive_agents, closed_loop_reactive_agents, closed_loop_multiagent]\n",
    "#         \"planner=log_future_planner\",  # [ml_planner, pdm_hybrid_planner, gc_pgp_planner, idm_planner, log_future_planner, simple_planner]\n",
    "#         \"ego_controller=perfect_tracking_controller\",\n",
    "#         \"worker=ray_distributed\",  # [sequential, ray_distributed]\n",
    "#         \"+occlusion=true\",  # [true, false]\n",
    "#         \"+occlusion.manager_type=wedge\",  # options: [range, shadow, wedge]\n",
    "#         \"+occlusion.uncloak_reaction_time=1.5\",\n",
    "#         \"+occlusion.notice_threshold=1.0\",\n",
    "#         # \"hydra.searchpath=[pkg://tuplan_garage.planning.script.config.common, pkg://tuplan_garage.planning.script.config.simulation, pkg://nuplan.planning.script.config.common, pkg://nuplan.planning.script.experiments]\",\n",
    "#         *DATASET_PARAMS,"
   ]
  },
  {
   "cell_type": "markdown",
   "id": "066580da",
   "metadata": {},
   "source": [
    "# Now we can run with the following"
   ]
  },
  {
   "cell_type": "code",
   "execution_count": 10,
   "id": "58e7424b",
   "metadata": {},
   "outputs": [
    {
     "name": "stderr",
     "output_type": "stream",
     "text": [
      "Global seed set to 0\n",
      "INFO:nuplan.planning.script.builders.main_callback_builder:Building MultiMainCallback...\n",
      "INFO:nuplan.planning.script.builders.main_callback_builder:Building MultiMainCallback: 4...DONE!\n"
     ]
    },
    {
     "name": "stdout",
     "output_type": "stream",
     "text": [
      "2024-04-10 04:41:03,162 INFO {/home/ehdykhne/nuplan-devkit/nuplan/planning/script/builders/worker_pool_builder.py:19}  Building WorkerPool...\n",
      "2024-04-10 04:41:03,200 INFO {/home/ehdykhne/nuplan-devkit/nuplan/planning/utils/multithreading/worker_ray.py:78}  Starting ray local!\n"
     ]
    },
    {
     "name": "stderr",
     "output_type": "stream",
     "text": [
      "2024-04-10 04:41:03,980\tINFO worker.py:1636 -- Started a local Ray instance.\n"
     ]
    },
    {
     "name": "stdout",
     "output_type": "stream",
     "text": [
      "2024-04-10 04:41:04,734 INFO {/home/ehdykhne/nuplan-devkit/nuplan/planning/utils/multithreading/worker_pool.py:101}  Worker: RayDistributed\n",
      "2024-04-10 04:41:04,734 INFO {/home/ehdykhne/nuplan-devkit/nuplan/planning/utils/multithreading/worker_pool.py:102}  Number of nodes: 1\n",
      "Number of CPUs per node: 32\n",
      "Number of GPUs per node: 4\n",
      "Number of threads across all nodes: 32\n",
      "2024-04-10 04:41:04,735 INFO {/home/ehdykhne/nuplan-devkit/nuplan/planning/script/builders/worker_pool_builder.py:27}  Building WorkerPool...DONE!\n",
      "2024-04-10 04:41:04,735 INFO {/home/ehdykhne/nuplan-devkit/nuplan/planning/script/builders/folder_builder.py:32}  Building experiment folders...\n",
      "2024-04-10 04:41:04,735 INFO {/home/ehdykhne/nuplan-devkit/nuplan/planning/script/builders/folder_builder.py:35}  \n",
      "\n",
      "\tFolder where all results are stored: ../../data/nuplan/exp/exp/simulation/closed_loop_multiagent/2024.04.10.04.41.02\n",
      "\n",
      "2024-04-10 04:41:04,737 INFO {/home/ehdykhne/nuplan-devkit/nuplan/planning/script/builders/folder_builder.py:70}  Building experiment folders...DONE!\n",
      "2024-04-10 04:41:04,737 INFO {/home/ehdykhne/nuplan-devkit/nuplan/planning/script/builders/simulation_callback_builder.py:52}  Building AbstractCallback...\n",
      "2024-04-10 04:41:04,738 INFO {/home/ehdykhne/nuplan-devkit/nuplan/planning/script/builders/simulation_callback_builder.py:68}  Building AbstractCallback: 0...DONE!\n",
      "2024-04-10 04:41:04,738 INFO {/home/ehdykhne/nuplan-devkit/nuplan/planning/script/builders/simulation_builder.py:56}  Building simulations...\n",
      "2024-04-10 04:41:04,738 INFO {/home/ehdykhne/nuplan-devkit/nuplan/planning/script/builders/simulation_builder.py:62}  Extracting scenarios...\n",
      "2024-04-10 04:41:04,738 INFO {/home/ehdykhne/nuplan-devkit/nuplan/common/utils/distributed_scenario_filter.py:83}  Building Scenarios in mode DistributedMode.SINGLE_NODE\n",
      "2024-04-10 04:41:04,738 INFO {/home/ehdykhne/nuplan-devkit/nuplan/planning/script/builders/scenario_building_builder.py:18}  Building AbstractScenarioBuilder...\n",
      "2024-04-10 04:41:04,758 INFO {/home/ehdykhne/nuplan-devkit/nuplan/planning/script/builders/scenario_building_builder.py:21}  Building AbstractScenarioBuilder...DONE!\n",
      "2024-04-10 04:41:04,758 INFO {/home/ehdykhne/nuplan-devkit/nuplan/planning/script/builders/scenario_filter_builder.py:35}  Building ScenarioFilter...\n",
      "2024-04-10 04:41:04,759 INFO {/home/ehdykhne/nuplan-devkit/nuplan/planning/script/builders/scenario_filter_builder.py:44}  Building ScenarioFilter...DONE!\n"
     ]
    },
    {
     "name": "stderr",
     "output_type": "stream",
     "text": [
      "Ray objects: 100%|██████████| 32/32 [00:08<00:00,  3.90it/s]\n",
      "\u001b[2m\u001b[33m(raylet)\u001b[0m [2024-04-10 04:41:13,958 E 3140827 3140839] (raylet) file_system_monitor.cc:111: /tmp/ray/session_2024-04-10_04-41-03_233374_3140476 is over 95% full, available space: 642566479872; capacity: 16125711347712. Object creation will fail if spilling is required.\n",
      "\u001b[2m\u001b[33m(raylet)\u001b[0m [2024-04-10 04:41:23,963 E 3140827 3140839] (raylet) file_system_monitor.cc:111: /tmp/ray/session_2024-04-10_04-41-03_233374_3140476 is over 95% full, available space: 642559029248; capacity: 16125711347712. Object creation will fail if spilling is required.\n",
      "\u001b[2m\u001b[33m(raylet)\u001b[0m [2024-04-10 04:41:33,968 E 3140827 3140839] (raylet) file_system_monitor.cc:111: /tmp/ray/session_2024-04-10_04-41-03_233374_3140476 is over 95% full, available space: 642564599808; capacity: 16125711347712. Object creation will fail if spilling is required.\n",
      "\u001b[2m\u001b[33m(raylet)\u001b[0m [2024-04-10 04:41:43,974 E 3140827 3140839] (raylet) file_system_monitor.cc:111: /tmp/ray/session_2024-04-10_04-41-03_233374_3140476 is over 95% full, available space: 642562461696; capacity: 16125711347712. Object creation will fail if spilling is required.\n",
      "\u001b[2m\u001b[33m(raylet)\u001b[0m [2024-04-10 04:41:53,979 E 3140827 3140839] (raylet) file_system_monitor.cc:111: /tmp/ray/session_2024-04-10_04-41-03_233374_3140476 is over 95% full, available space: 642566459392; capacity: 16125711347712. Object creation will fail if spilling is required.\n",
      "\u001b[2m\u001b[33m(raylet)\u001b[0m [2024-04-10 04:42:03,984 E 3140827 3140839] (raylet) file_system_monitor.cc:111: /tmp/ray/session_2024-04-10_04-41-03_233374_3140476 is over 95% full, available space: 642566434816; capacity: 16125711347712. Object creation will fail if spilling is required.\n",
      "\u001b[2m\u001b[33m(raylet)\u001b[0m [2024-04-10 04:42:13,990 E 3140827 3140839] (raylet) file_system_monitor.cc:111: /tmp/ray/session_2024-04-10_04-41-03_233374_3140476 is over 95% full, available space: 642566291456; capacity: 16125711347712. Object creation will fail if spilling is required.\n"
     ]
    },
    {
     "name": "stdout",
     "output_type": "stream",
     "text": [
      "2024-04-10 04:42:14,847 INFO {/home/ehdykhne/nuplan-devkit/nuplan/planning/script/builders/simulation_builder.py:83}  Building metric engines...\n",
      "2024-04-10 04:42:14,990 INFO {/home/ehdykhne/nuplan-devkit/nuplan/planning/script/builders/simulation_builder.py:85}  Building metric engines...DONE\n",
      "2024-04-10 04:42:14,990 INFO {/home/ehdykhne/nuplan-devkit/nuplan/planning/script/builders/simulation_builder.py:89}  Building simulations from 2689 scenarios...\n"
     ]
    },
    {
     "name": "stderr",
     "output_type": "stream",
     "text": [
      "\u001b[2m\u001b[33m(raylet)\u001b[0m [2024-04-10 04:42:23,995 E 3140827 3140839] (raylet) file_system_monitor.cc:111: /tmp/ray/session_2024-04-10_04-41-03_233374_3140476 is over 95% full, available space: 642566291456; capacity: 16125711347712. Object creation will fail if spilling is required.\n",
      "\u001b[2m\u001b[33m(raylet)\u001b[0m [2024-04-10 04:42:34,000 E 3140827 3140839] (raylet) file_system_monitor.cc:111: /tmp/ray/session_2024-04-10_04-41-03_233374_3140476 is over 95% full, available space: 642566291456; capacity: 16125711347712. Object creation will fail if spilling is required.\n",
      "\u001b[2m\u001b[33m(raylet)\u001b[0m [2024-04-10 04:42:44,005 E 3140827 3140839] (raylet) file_system_monitor.cc:111: /tmp/ray/session_2024-04-10_04-41-03_233374_3140476 is over 95% full, available space: 642566283264; capacity: 16125711347712. Object creation will fail if spilling is required.\n"
     ]
    },
    {
     "name": "stdout",
     "output_type": "stream",
     "text": [
      "2024-04-10 04:42:51,043 INFO {/home/ehdykhne/nuplan-devkit/nuplan/planning/script/builders/simulation_builder.py:151}  Modyfing Scenarios...\n",
      "1 0 are the number of cpus and gpus\n",
      "2024-04-10 04:42:51,044 INFO {/home/ehdykhne/nuplan-devkit/nuplan/planning/utils/multithreading/worker_pool.py:116}  Submitting 2689 tasks!\n"
     ]
    },
    {
     "name": "stderr",
     "output_type": "stream",
     "text": [
      "\u001b[2m\u001b[33m(raylet)\u001b[0m [2024-04-10 04:42:54,010 E 3140827 3140839] (raylet) file_system_monitor.cc:111: /tmp/ray/session_2024-04-10_04-41-03_233374_3140476 is over 95% full, available space: 642566279168; capacity: 16125711347712. Object creation will fail if spilling is required.\n",
      "\u001b[2m\u001b[33m(raylet)\u001b[0m [2024-04-10 04:43:04,018 E 3140827 3140839] (raylet) file_system_monitor.cc:111: /tmp/ray/session_2024-04-10_04-41-03_233374_3140476 is over 95% full, available space: 642558275584; capacity: 16125711347712. Object creation will fail if spilling is required.\n",
      "\u001b[2m\u001b[33m(raylet)\u001b[0m [2024-04-10 04:43:14,026 E 3140827 3140839] (raylet) file_system_monitor.cc:111: /tmp/ray/session_2024-04-10_04-41-03_233374_3140476 is over 95% full, available space: 642566238208; capacity: 16125711347712. Object creation will fail if spilling is required.\n",
      "\u001b[2m\u001b[33m(raylet)\u001b[0m [2024-04-10 04:43:24,035 E 3140827 3140839] (raylet) file_system_monitor.cc:111: /tmp/ray/session_2024-04-10_04-41-03_233374_3140476 is over 95% full, available space: 642566238208; capacity: 16125711347712. Object creation will fail if spilling is required.\n",
      "\u001b[2m\u001b[33m(raylet)\u001b[0m [2024-04-10 04:43:34,043 E 3140827 3140839] (raylet) file_system_monitor.cc:111: /tmp/ray/session_2024-04-10_04-41-03_233374_3140476 is over 95% full, available space: 642566234112; capacity: 16125711347712. Object creation will fail if spilling is required.\n",
      "\u001b[2m\u001b[33m(raylet)\u001b[0m [2024-04-10 04:43:44,052 E 3140827 3140839] (raylet) file_system_monitor.cc:111: /tmp/ray/session_2024-04-10_04-41-03_233374_3140476 is over 95% full, available space: 642566230016; capacity: 16125711347712. Object creation will fail if spilling is required.\n",
      "\u001b[2m\u001b[33m(raylet)\u001b[0m [2024-04-10 04:43:54,060 E 3140827 3140839] (raylet) file_system_monitor.cc:111: /tmp/ray/session_2024-04-10_04-41-03_233374_3140476 is over 95% full, available space: 642566230016; capacity: 16125711347712. Object creation will fail if spilling is required.\n",
      "\u001b[2m\u001b[33m(raylet)\u001b[0m [2024-04-10 04:44:04,068 E 3140827 3140839] (raylet) file_system_monitor.cc:111: /tmp/ray/session_2024-04-10_04-41-03_233374_3140476 is over 95% full, available space: 642566193152; capacity: 16125711347712. Object creation will fail if spilling is required.\n",
      "\u001b[2m\u001b[33m(raylet)\u001b[0m [2024-04-10 04:44:14,078 E 3140827 3140839] (raylet) file_system_monitor.cc:111: /tmp/ray/session_2024-04-10_04-41-03_233374_3140476 is over 95% full, available space: 642566062080; capacity: 16125711347712. Object creation will fail if spilling is required.\n",
      "\u001b[2m\u001b[33m(raylet)\u001b[0m [2024-04-10 04:44:24,086 E 3140827 3140839] (raylet) file_system_monitor.cc:111: /tmp/ray/session_2024-04-10_04-41-03_233374_3140476 is over 95% full, available space: 642566053888; capacity: 16125711347712. Object creation will fail if spilling is required.\n",
      "\u001b[2m\u001b[33m(raylet)\u001b[0m [2024-04-10 04:44:34,094 E 3140827 3140839] (raylet) file_system_monitor.cc:111: /tmp/ray/session_2024-04-10_04-41-03_233374_3140476 is over 95% full, available space: 642566053888; capacity: 16125711347712. Object creation will fail if spilling is required.\n",
      "\u001b[2m\u001b[33m(raylet)\u001b[0m [2024-04-10 04:44:44,101 E 3140827 3140839] (raylet) file_system_monitor.cc:111: /tmp/ray/session_2024-04-10_04-41-03_233374_3140476 is over 95% full, available space: 642566053888; capacity: 16125711347712. Object creation will fail if spilling is required.\n",
      "\u001b[2m\u001b[33m(raylet)\u001b[0m [2024-04-10 04:44:54,110 E 3140827 3140839] (raylet) file_system_monitor.cc:111: /tmp/ray/session_2024-04-10_04-41-03_233374_3140476 is over 95% full, available space: 642566049792; capacity: 16125711347712. Object creation will fail if spilling is required.\n",
      "\u001b[2m\u001b[33m(raylet)\u001b[0m [2024-04-10 04:45:04,118 E 3140827 3140839] (raylet) file_system_monitor.cc:111: /tmp/ray/session_2024-04-10_04-41-03_233374_3140476 is over 95% full, available space: 642566017024; capacity: 16125711347712. Object creation will fail if spilling is required.\n",
      "\u001b[2m\u001b[33m(raylet)\u001b[0m [2024-04-10 04:45:14,125 E 3140827 3140839] (raylet) file_system_monitor.cc:111: /tmp/ray/session_2024-04-10_04-41-03_233374_3140476 is over 95% full, available space: 642564001792; capacity: 16125711347712. Object creation will fail if spilling is required.\n",
      "\u001b[2m\u001b[33m(raylet)\u001b[0m [2024-04-10 04:45:24,133 E 3140827 3140839] (raylet) file_system_monitor.cc:111: /tmp/ray/session_2024-04-10_04-41-03_233374_3140476 is over 95% full, available space: 642566004736; capacity: 16125711347712. Object creation will fail if spilling is required.\n",
      "\u001b[2m\u001b[33m(raylet)\u001b[0m [2024-04-10 04:45:34,141 E 3140827 3140839] (raylet) file_system_monitor.cc:111: /tmp/ray/session_2024-04-10_04-41-03_233374_3140476 is over 95% full, available space: 642566017024; capacity: 16125711347712. Object creation will fail if spilling is required.\n",
      "\u001b[2m\u001b[33m(raylet)\u001b[0m [2024-04-10 04:45:44,149 E 3140827 3140839] (raylet) file_system_monitor.cc:111: /tmp/ray/session_2024-04-10_04-41-03_233374_3140476 is over 95% full, available space: 642566012928; capacity: 16125711347712. Object creation will fail if spilling is required.\n",
      "\u001b[2m\u001b[33m(raylet)\u001b[0m [2024-04-10 04:45:54,158 E 3140827 3140839] (raylet) file_system_monitor.cc:111: /tmp/ray/session_2024-04-10_04-41-03_233374_3140476 is over 95% full, available space: 642566004736; capacity: 16125711347712. Object creation will fail if spilling is required.\n",
      "\u001b[2m\u001b[33m(raylet)\u001b[0m [2024-04-10 04:46:04,166 E 3140827 3140839] (raylet) file_system_monitor.cc:111: /tmp/ray/session_2024-04-10_04-41-03_233374_3140476 is over 95% full, available space: 642565980160; capacity: 16125711347712. Object creation will fail if spilling is required.\n",
      "\u001b[2m\u001b[33m(raylet)\u001b[0m [2024-04-10 04:46:14,174 E 3140827 3140839] (raylet) file_system_monitor.cc:111: /tmp/ray/session_2024-04-10_04-41-03_233374_3140476 is over 95% full, available space: 642565836800; capacity: 16125711347712. Object creation will fail if spilling is required.\n",
      "\u001b[2m\u001b[33m(raylet)\u001b[0m [2024-04-10 04:46:24,182 E 3140827 3140839] (raylet) file_system_monitor.cc:111: /tmp/ray/session_2024-04-10_04-41-03_233374_3140476 is over 95% full, available space: 642563817472; capacity: 16125711347712. Object creation will fail if spilling is required.\n",
      "\u001b[2m\u001b[33m(raylet)\u001b[0m [2024-04-10 04:46:34,190 E 3140827 3140839] (raylet) file_system_monitor.cc:111: /tmp/ray/session_2024-04-10_04-41-03_233374_3140476 is over 95% full, available space: 642565828608; capacity: 16125711347712. Object creation will fail if spilling is required.\n",
      "\u001b[2m\u001b[33m(raylet)\u001b[0m [2024-04-10 04:46:44,198 E 3140827 3140839] (raylet) file_system_monitor.cc:111: /tmp/ray/session_2024-04-10_04-41-03_233374_3140476 is over 95% full, available space: 642563448832; capacity: 16125711347712. Object creation will fail if spilling is required.\n",
      "\u001b[2m\u001b[33m(raylet)\u001b[0m [2024-04-10 04:46:54,206 E 3140827 3140839] (raylet) file_system_monitor.cc:111: /tmp/ray/session_2024-04-10_04-41-03_233374_3140476 is over 95% full, available space: 642565824512; capacity: 16125711347712. Object creation will fail if spilling is required.\n",
      "\u001b[2m\u001b[33m(raylet)\u001b[0m [2024-04-10 04:47:04,213 E 3140827 3140839] (raylet) file_system_monitor.cc:111: /tmp/ray/session_2024-04-10_04-41-03_233374_3140476 is over 95% full, available space: 642565791744; capacity: 16125711347712. Object creation will fail if spilling is required.\n",
      "\u001b[2m\u001b[33m(raylet)\u001b[0m [2024-04-10 04:47:14,220 E 3140827 3140839] (raylet) file_system_monitor.cc:111: /tmp/ray/session_2024-04-10_04-41-03_233374_3140476 is over 95% full, available space: 642565791744; capacity: 16125711347712. Object creation will fail if spilling is required.\n",
      "\u001b[2m\u001b[33m(raylet)\u001b[0m [2024-04-10 04:47:24,228 E 3140827 3140839] (raylet) file_system_monitor.cc:111: /tmp/ray/session_2024-04-10_04-41-03_233374_3140476 is over 95% full, available space: 642565783552; capacity: 16125711347712. Object creation will fail if spilling is required.\n",
      "\u001b[2m\u001b[33m(raylet)\u001b[0m [2024-04-10 04:47:34,235 E 3140827 3140839] (raylet) file_system_monitor.cc:111: /tmp/ray/session_2024-04-10_04-41-03_233374_3140476 is over 95% full, available space: 642565779456; capacity: 16125711347712. Object creation will fail if spilling is required.\n",
      "\u001b[2m\u001b[33m(raylet)\u001b[0m [2024-04-10 04:47:44,259 E 3140827 3140839] (raylet) file_system_monitor.cc:111: /tmp/ray/session_2024-04-10_04-41-03_233374_3140476 is over 95% full, available space: 642565779456; capacity: 16125711347712. Object creation will fail if spilling is required.\n",
      "\u001b[2m\u001b[33m(raylet)\u001b[0m [2024-04-10 04:47:54,267 E 3140827 3140839] (raylet) file_system_monitor.cc:111: /tmp/ray/session_2024-04-10_04-41-03_233374_3140476 is over 95% full, available space: 642565775360; capacity: 16125711347712. Object creation will fail if spilling is required.\n",
      "\u001b[2m\u001b[33m(raylet)\u001b[0m [2024-04-10 04:48:04,274 E 3140827 3140839] (raylet) file_system_monitor.cc:111: /tmp/ray/session_2024-04-10_04-41-03_233374_3140476 is over 95% full, available space: 642565742592; capacity: 16125711347712. Object creation will fail if spilling is required.\n",
      "\u001b[2m\u001b[33m(raylet)\u001b[0m [2024-04-10 04:48:14,282 E 3140827 3140839] (raylet) file_system_monitor.cc:111: /tmp/ray/session_2024-04-10_04-41-03_233374_3140476 is over 95% full, available space: 642565476352; capacity: 16125711347712. Object creation will fail if spilling is required.\n",
      "\u001b[2m\u001b[33m(raylet)\u001b[0m [2024-04-10 04:48:24,290 E 3140827 3140839] (raylet) file_system_monitor.cc:111: /tmp/ray/session_2024-04-10_04-41-03_233374_3140476 is over 95% full, available space: 642565472256; capacity: 16125711347712. Object creation will fail if spilling is required.\n",
      "\u001b[2m\u001b[33m(raylet)\u001b[0m [2024-04-10 04:48:34,298 E 3140827 3140839] (raylet) file_system_monitor.cc:111: /tmp/ray/session_2024-04-10_04-41-03_233374_3140476 is over 95% full, available space: 642565472256; capacity: 16125711347712. Object creation will fail if spilling is required.\n",
      "\u001b[2m\u001b[33m(raylet)\u001b[0m [2024-04-10 04:48:44,305 E 3140827 3140839] (raylet) file_system_monitor.cc:111: /tmp/ray/session_2024-04-10_04-41-03_233374_3140476 is over 95% full, available space: 642565472256; capacity: 16125711347712. Object creation will fail if spilling is required.\n",
      "\u001b[2m\u001b[33m(raylet)\u001b[0m [2024-04-10 04:48:54,313 E 3140827 3140839] (raylet) file_system_monitor.cc:111: /tmp/ray/session_2024-04-10_04-41-03_233374_3140476 is over 95% full, available space: 642565464064; capacity: 16125711347712. Object creation will fail if spilling is required.\n",
      "\u001b[2m\u001b[33m(raylet)\u001b[0m [2024-04-10 04:49:04,320 E 3140827 3140839] (raylet) file_system_monitor.cc:111: /tmp/ray/session_2024-04-10_04-41-03_233374_3140476 is over 95% full, available space: 642565431296; capacity: 16125711347712. Object creation will fail if spilling is required.\n",
      "\u001b[2m\u001b[33m(raylet)\u001b[0m [2024-04-10 04:49:14,328 E 3140827 3140839] (raylet) file_system_monitor.cc:111: /tmp/ray/session_2024-04-10_04-41-03_233374_3140476 is over 95% full, available space: 642565423104; capacity: 16125711347712. Object creation will fail if spilling is required.\n",
      "\u001b[2m\u001b[33m(raylet)\u001b[0m [2024-04-10 04:49:24,336 E 3140827 3140839] (raylet) file_system_monitor.cc:111: /tmp/ray/session_2024-04-10_04-41-03_233374_3140476 is over 95% full, available space: 642565423104; capacity: 16125711347712. Object creation will fail if spilling is required.\n",
      "\u001b[2m\u001b[33m(raylet)\u001b[0m [2024-04-10 04:49:34,345 E 3140827 3140839] (raylet) file_system_monitor.cc:111: /tmp/ray/session_2024-04-10_04-41-03_233374_3140476 is over 95% full, available space: 642565423104; capacity: 16125711347712. Object creation will fail if spilling is required.\n",
      "\u001b[2m\u001b[33m(raylet)\u001b[0m [2024-04-10 04:49:44,353 E 3140827 3140839] (raylet) file_system_monitor.cc:111: /tmp/ray/session_2024-04-10_04-41-03_233374_3140476 is over 95% full, available space: 642565414912; capacity: 16125711347712. Object creation will fail if spilling is required.\n",
      "\u001b[2m\u001b[33m(raylet)\u001b[0m [2024-04-10 04:49:54,361 E 3140827 3140839] (raylet) file_system_monitor.cc:111: /tmp/ray/session_2024-04-10_04-41-03_233374_3140476 is over 95% full, available space: 642565414912; capacity: 16125711347712. Object creation will fail if spilling is required.\n",
      "\u001b[2m\u001b[33m(raylet)\u001b[0m [2024-04-10 04:50:04,369 E 3140827 3140839] (raylet) file_system_monitor.cc:111: /tmp/ray/session_2024-04-10_04-41-03_233374_3140476 is over 95% full, available space: 642558050304; capacity: 16125711347712. Object creation will fail if spilling is required.\n",
      "\u001b[2m\u001b[33m(raylet)\u001b[0m [2024-04-10 04:50:14,377 E 3140827 3140839] (raylet) file_system_monitor.cc:111: /tmp/ray/session_2024-04-10_04-41-03_233374_3140476 is over 95% full, available space: 642565251072; capacity: 16125711347712. Object creation will fail if spilling is required.\n",
      "\u001b[2m\u001b[33m(raylet)\u001b[0m [2024-04-10 04:50:24,386 E 3140827 3140839] (raylet) file_system_monitor.cc:111: /tmp/ray/session_2024-04-10_04-41-03_233374_3140476 is over 95% full, available space: 642565246976; capacity: 16125711347712. Object creation will fail if spilling is required.\n",
      "\u001b[2m\u001b[33m(raylet)\u001b[0m [2024-04-10 04:50:34,394 E 3140827 3140839] (raylet) file_system_monitor.cc:111: /tmp/ray/session_2024-04-10_04-41-03_233374_3140476 is over 95% full, available space: 642565238784; capacity: 16125711347712. Object creation will fail if spilling is required.\n",
      "\u001b[2m\u001b[33m(raylet)\u001b[0m [2024-04-10 04:50:44,403 E 3140827 3140839] (raylet) file_system_monitor.cc:111: /tmp/ray/session_2024-04-10_04-41-03_233374_3140476 is over 95% full, available space: 642565238784; capacity: 16125711347712. Object creation will fail if spilling is required.\n",
      "\u001b[2m\u001b[33m(raylet)\u001b[0m [2024-04-10 04:50:54,411 E 3140827 3140839] (raylet) file_system_monitor.cc:111: /tmp/ray/session_2024-04-10_04-41-03_233374_3140476 is over 95% full, available space: 642565238784; capacity: 16125711347712. Object creation will fail if spilling is required.\n",
      "\u001b[2m\u001b[33m(raylet)\u001b[0m [2024-04-10 04:51:04,419 E 3140827 3140839] (raylet) file_system_monitor.cc:111: /tmp/ray/session_2024-04-10_04-41-03_233374_3140476 is over 95% full, available space: 642565206016; capacity: 16125711347712. Object creation will fail if spilling is required.\n",
      "\u001b[2m\u001b[33m(raylet)\u001b[0m [2024-04-10 04:51:14,443 E 3140827 3140839] (raylet) file_system_monitor.cc:111: /tmp/ray/session_2024-04-10_04-41-03_233374_3140476 is over 95% full, available space: 642565197824; capacity: 16125711347712. Object creation will fail if spilling is required.\n",
      "\u001b[2m\u001b[33m(raylet)\u001b[0m [2024-04-10 04:51:24,451 E 3140827 3140839] (raylet) file_system_monitor.cc:111: /tmp/ray/session_2024-04-10_04-41-03_233374_3140476 is over 95% full, available space: 642562707456; capacity: 16125711347712. Object creation will fail if spilling is required.\n",
      "\u001b[2m\u001b[33m(raylet)\u001b[0m [2024-04-10 04:51:34,460 E 3140827 3140839] (raylet) file_system_monitor.cc:111: /tmp/ray/session_2024-04-10_04-41-03_233374_3140476 is over 95% full, available space: 642565193728; capacity: 16125711347712. Object creation will fail if spilling is required.\n",
      "\u001b[2m\u001b[33m(raylet)\u001b[0m [2024-04-10 04:51:44,467 E 3140827 3140839] (raylet) file_system_monitor.cc:111: /tmp/ray/session_2024-04-10_04-41-03_233374_3140476 is over 95% full, available space: 642565185536; capacity: 16125711347712. Object creation will fail if spilling is required.\n",
      "\u001b[2m\u001b[33m(raylet)\u001b[0m [2024-04-10 04:51:54,478 E 3140827 3140839] (raylet) file_system_monitor.cc:111: /tmp/ray/session_2024-04-10_04-41-03_233374_3140476 is over 95% full, available space: 642565177344; capacity: 16125711347712. Object creation will fail if spilling is required.\n",
      "\u001b[2m\u001b[33m(raylet)\u001b[0m [2024-04-10 04:52:04,486 E 3140827 3140839] (raylet) file_system_monitor.cc:111: /tmp/ray/session_2024-04-10_04-41-03_233374_3140476 is over 95% full, available space: 642565148672; capacity: 16125711347712. Object creation will fail if spilling is required.\n",
      "Ray objects:  29%|██▊       | 771/2689 [00:01<00:03, 598.76it/s]\u001b[2m\u001b[33m(raylet)\u001b[0m [2024-04-10 04:52:14,494 E 3140827 3140839] (raylet) file_system_monitor.cc:111: /tmp/ray/session_2024-04-10_04-41-03_233374_3140476 is over 95% full, available space: 642565009408; capacity: 16125711347712. Object creation will fail if spilling is required.\n",
      "Ray objects:  91%|█████████ | 2449/2689 [00:09<00:02, 96.72it/s]  \u001b[2m\u001b[33m(raylet)\u001b[0m [2024-04-10 04:52:24,506 E 3140827 3140839] (raylet) file_system_monitor.cc:111: /tmp/ray/session_2024-04-10_04-41-03_233374_3140476 is over 95% full, available space: 642561081344; capacity: 16125711347712. Object creation will fail if spilling is required.\n",
      "\u001b[2m\u001b[33m(raylet)\u001b[0m [2024-04-10 04:52:34,514 E 3140827 3140839] (raylet) file_system_monitor.cc:111: /tmp/ray/session_2024-04-10_04-41-03_233374_3140476 is over 95% full, available space: 642565009408; capacity: 16125711347712. Object creation will fail if spilling is required.\n",
      "Ray objects:  94%|█████████▍| 2532/2689 [00:29<00:06, 23.94it/s]\u001b[2m\u001b[33m(raylet)\u001b[0m [2024-04-10 04:52:44,522 E 3140827 3140839] (raylet) file_system_monitor.cc:111: /tmp/ray/session_2024-04-10_04-41-03_233374_3140476 is over 95% full, available space: 642565005312; capacity: 16125711347712. Object creation will fail if spilling is required.\n",
      "\u001b[2m\u001b[33m(raylet)\u001b[0m [2024-04-10 04:52:54,530 E 3140827 3140839] (raylet) file_system_monitor.cc:111: /tmp/ray/session_2024-04-10_04-41-03_233374_3140476 is over 95% full, available space: 642565005312; capacity: 16125711347712. Object creation will fail if spilling is required.\n",
      "Ray objects:  97%|█████████▋| 2614/2689 [00:49<00:06, 11.48it/s]\u001b[2m\u001b[33m(raylet)\u001b[0m [2024-04-10 04:53:04,539 E 3140827 3140839] (raylet) file_system_monitor.cc:111: /tmp/ray/session_2024-04-10_04-41-03_233374_3140476 is over 95% full, available space: 642562945024; capacity: 16125711347712. Object creation will fail if spilling is required.\n",
      "\u001b[2m\u001b[33m(raylet)\u001b[0m [2024-04-10 04:53:14,547 E 3140827 3140839] (raylet) file_system_monitor.cc:111: /tmp/ray/session_2024-04-10_04-41-03_233374_3140476 is over 95% full, available space: 642564968448; capacity: 16125711347712. Object creation will fail if spilling is required.\n",
      "Ray objects: 100%|█████████▉| 2678/2689 [01:08<00:01,  6.98it/s]\u001b[2m\u001b[33m(raylet)\u001b[0m [2024-04-10 04:53:24,553 E 3140827 3140839] (raylet) file_system_monitor.cc:111: /tmp/ray/session_2024-04-10_04-41-03_233374_3140476 is over 95% full, available space: 642564968448; capacity: 16125711347712. Object creation will fail if spilling is required.\n",
      "Ray objects: 100%|█████████▉| 2680/2689 [01:12<00:01,  6.22it/s]\u001b[2m\u001b[33m(raylet)\u001b[0m [2024-04-10 04:53:34,559 E 3140827 3140839] (raylet) file_system_monitor.cc:111: /tmp/ray/session_2024-04-10_04-41-03_233374_3140476 is over 95% full, available space: 642564964352; capacity: 16125711347712. Object creation will fail if spilling is required.\n",
      "Ray objects: 100%|██████████| 2689/2689 [01:23<00:00, 32.30it/s]\n",
      "100%|██████████| 3/3 [00:00<00:00, 501.99it/s]\n",
      "100%|██████████| 1/1 [00:00<00:00, 430.27it/s]\n",
      "100%|██████████| 1/1 [00:00<00:00, 558.35it/s]\n",
      "100%|██████████| 4/4 [00:00<00:00, 707.48it/s]\n",
      "100%|██████████| 8/8 [00:00<00:00, 790.97it/s]\n",
      "100%|██████████| 1/1 [00:00<00:00, 627.33it/s]\n",
      "100%|██████████| 2/2 [00:00<00:00, 709.82it/s]\n",
      "100%|██████████| 3/3 [00:00<00:00, 750.19it/s]\n",
      "100%|██████████| 1/1 [00:00<00:00, 648.67it/s]\n",
      "100%|██████████| 3/3 [00:00<00:00, 757.14it/s]\n",
      "100%|██████████| 7/7 [00:00<00:00, 696.20it/s]\n",
      "100%|██████████| 1/1 [00:00<00:00, 630.53it/s]\n",
      "100%|██████████| 2/2 [00:00<00:00, 709.28it/s]\n",
      "100%|██████████| 2/2 [00:00<00:00, 739.15it/s]\n",
      "100%|██████████| 7/7 [00:00<00:00, 823.61it/s]\n",
      "100%|██████████| 1/1 [00:00<00:00, 681.67it/s]\n",
      "100%|██████████| 2/2 [00:00<00:00, 741.83it/s]\n",
      "100%|██████████| 3/3 [00:00<00:00, 749.30it/s]\n",
      "100%|██████████| 4/4 [00:00<00:00, 788.48it/s]\n",
      "100%|██████████| 1/1 [00:00<00:00, 637.92it/s]\n",
      "100%|██████████| 2/2 [00:00<00:00, 763.92it/s]\n",
      "2689it [00:00, 22494.93it/s]\n"
     ]
    },
    {
     "name": "stdout",
     "output_type": "stream",
     "text": [
      "[\n",
      "\t'0515fc10ca0a5c10',\n",
      "\t'0a559c2fb46d588d',\n",
      "\t'25b0e5c53483588e',\n",
      "\t'4b72fa3bd965544f',\n",
      "\t'56e7d278ce1658c3',\n",
      "\t'5fae6b21738d55b6',\n",
      "\t'6d5c2860b3e656bb',\n",
      "\t'72039a4d54c85a03',\n",
      "\t'758f4fcc4d68573a',\n",
      "\t'813f97097203543c',\n",
      "\t'8bcd750101ab51fc',\n",
      "\t'9bec699bc10a5a07',\n",
      "\t'b28b1dc4b5ac5522',\n",
      "\t'bdd0d3d47ca650c1',\n",
      "\t'c2172be77f2b508e',\n",
      "\t'cac25430abed56f7',\n",
      "\t'd67806dd745f575c',\n",
      "\t'e72f1ff10a7758b9',\n",
      "\t'f3610d9738ef589b',\n",
      "\t'f7fa42b8716f508c',\n",
      "\t'f9e3ad7860e2588e'\n",
      "]\n",
      "2024-04-10 04:53:36,366 INFO {/home/ehdykhne/nuplan-devkit/nuplan/planning/script/builders/simulation_builder.py:203}  Created 59 modified scenarios from 2689 scenarios, 21 of which were modifiable.\n",
      "2024-04-10 04:53:36,368 INFO {/home/ehdykhne/nuplan-devkit/nuplan/planning/script/builders/simulation_builder.py:204}  Building simulations...DONE!\n",
      "2024-04-10 04:53:36,381 INFO {/home/ehdykhne/nuplan-devkit/nuplan/planning/script/run_simulation.py:113}  Running simulation...\n",
      "2024-04-10 04:53:36,381 INFO {/home/ehdykhne/nuplan-devkit/nuplan/planning/script/utils.py:138}  Executing runners...\n",
      "2024-04-10 04:53:36,381 INFO {/home/ehdykhne/nuplan-devkit/nuplan/planning/simulation/runner/executor.py:82}  Starting 59 simulations using RayDistributed!\n"
     ]
    },
    {
     "name": "stderr",
     "output_type": "stream",
     "text": [
      "Ray objects:   0%|          | 0/59 [00:00<?, ?it/s]\u001b[2m\u001b[33m(raylet)\u001b[0m [2024-04-10 04:53:44,566 E 3140827 3140839] (raylet) file_system_monitor.cc:111: /tmp/ray/session_2024-04-10_04-41-03_233374_3140476 is over 95% full, available space: 642564730880; capacity: 16125711347712. Object creation will fail if spilling is required.\n",
      "\u001b[2m\u001b[33m(raylet)\u001b[0m [2024-04-10 04:53:54,574 E 3140827 3140839] (raylet) file_system_monitor.cc:111: /tmp/ray/session_2024-04-10_04-41-03_233374_3140476 is over 95% full, available space: 642564714496; capacity: 16125711347712. Object creation will fail if spilling is required.\n",
      "\u001b[2m\u001b[33m(raylet)\u001b[0m [2024-04-10 04:54:04,581 E 3140827 3140839] (raylet) file_system_monitor.cc:111: /tmp/ray/session_2024-04-10_04-41-03_233374_3140476 is over 95% full, available space: 642564644864; capacity: 16125711347712. Object creation will fail if spilling is required.\n",
      "\u001b[2m\u001b[33m(raylet)\u001b[0m [2024-04-10 04:54:14,588 E 3140827 3140839] (raylet) file_system_monitor.cc:111: /tmp/ray/session_2024-04-10_04-41-03_233374_3140476 is over 95% full, available space: 642564546560; capacity: 16125711347712. Object creation will fail if spilling is required.\n",
      "\u001b[2m\u001b[33m(raylet)\u001b[0m [2024-04-10 04:54:24,595 E 3140827 3140839] (raylet) file_system_monitor.cc:111: /tmp/ray/session_2024-04-10_04-41-03_233374_3140476 is over 95% full, available space: 642564538368; capacity: 16125711347712. Object creation will fail if spilling is required.\n",
      "\u001b[2m\u001b[33m(raylet)\u001b[0m [2024-04-10 04:54:34,601 E 3140827 3140839] (raylet) file_system_monitor.cc:111: /tmp/ray/session_2024-04-10_04-41-03_233374_3140476 is over 95% full, available space: 642564538368; capacity: 16125711347712. Object creation will fail if spilling is required.\n",
      "\u001b[2m\u001b[33m(raylet)\u001b[0m [2024-04-10 04:54:44,608 E 3140827 3140839] (raylet) file_system_monitor.cc:111: /tmp/ray/session_2024-04-10_04-41-03_233374_3140476 is over 95% full, available space: 642564415488; capacity: 16125711347712. Object creation will fail if spilling is required.\n",
      "Ray objects:  15%|█▌        | 9/59 [01:18<02:07,  2.54s/it]  \u001b[2m\u001b[33m(raylet)\u001b[0m [2024-04-10 04:54:54,618 E 3140827 3140839] (raylet) file_system_monitor.cc:111: /tmp/ray/session_2024-04-10_04-41-03_233374_3140476 is over 95% full, available space: 642448175104; capacity: 16125711347712. Object creation will fail if spilling is required.\n",
      "Ray objects:  36%|███▌      | 21/59 [01:28<00:33,  1.14it/s]\u001b[2m\u001b[33m(raylet)\u001b[0m [2024-04-10 04:55:04,625 E 3140827 3140839] (raylet) file_system_monitor.cc:111: /tmp/ray/session_2024-04-10_04-41-03_233374_3140476 is over 95% full, available space: 642281426944; capacity: 16125711347712. Object creation will fail if spilling is required.\n",
      "Ray objects:  46%|████▌     | 27/59 [01:37<00:50,  1.58s/it]\u001b[2m\u001b[33m(raylet)\u001b[0m [2024-04-10 04:55:14,632 E 3140827 3140839] (raylet) file_system_monitor.cc:111: /tmp/ray/session_2024-04-10_04-41-03_233374_3140476 is over 95% full, available space: 642224574464; capacity: 16125711347712. Object creation will fail if spilling is required.\n",
      "\u001b[2m\u001b[33m(raylet)\u001b[0m [2024-04-10 04:55:24,639 E 3140827 3140839] (raylet) file_system_monitor.cc:111: /tmp/ray/session_2024-04-10_04-41-03_233374_3140476 is over 95% full, available space: 642224566272; capacity: 16125711347712. Object creation will fail if spilling is required.\n",
      "\u001b[2m\u001b[33m(raylet)\u001b[0m [2024-04-10 04:55:34,647 E 3140827 3140839] (raylet) file_system_monitor.cc:111: /tmp/ray/session_2024-04-10_04-41-03_233374_3140476 is over 95% full, available space: 642224566272; capacity: 16125711347712. Object creation will fail if spilling is required.\n",
      "\u001b[2m\u001b[33m(raylet)\u001b[0m [2024-04-10 04:55:44,664 E 3140827 3140839] (raylet) file_system_monitor.cc:111: /tmp/ray/session_2024-04-10_04-41-03_233374_3140476 is over 95% full, available space: 642224562176; capacity: 16125711347712. Object creation will fail if spilling is required.\n",
      "\u001b[2m\u001b[33m(raylet)\u001b[0m [2024-04-10 04:55:54,671 E 3140827 3140839] (raylet) file_system_monitor.cc:111: /tmp/ray/session_2024-04-10_04-41-03_233374_3140476 is over 95% full, available space: 642224361472; capacity: 16125711347712. Object creation will fail if spilling is required.\n",
      "Ray objects:  54%|█████▍    | 32/59 [02:27<02:06,  4.69s/it]\u001b[2m\u001b[33m(raylet)\u001b[0m [2024-04-10 04:56:04,679 E 3140827 3140839] (raylet) file_system_monitor.cc:111: /tmp/ray/session_2024-04-10_04-41-03_233374_3140476 is over 95% full, available space: 642099888128; capacity: 16125711347712. Object creation will fail if spilling is required.\n",
      "Ray objects:  61%|██████    | 36/59 [02:32<00:45,  1.98s/it]\u001b[2m\u001b[33m(raylet)\u001b[0m [2024-04-10 04:56:14,686 E 3140827 3140839] (raylet) file_system_monitor.cc:111: /tmp/ray/session_2024-04-10_04-41-03_233374_3140476 is over 95% full, available space: 642044792832; capacity: 16125711347712. Object creation will fail if spilling is required.\n",
      "Ray objects:  78%|███████▊  | 46/59 [02:47<00:09,  1.34it/s]\u001b[2m\u001b[33m(raylet)\u001b[0m [2024-04-10 04:56:24,693 E 3140827 3140839] (raylet) file_system_monitor.cc:111: /tmp/ray/session_2024-04-10_04-41-03_233374_3140476 is over 95% full, available space: 641899663360; capacity: 16125711347712. Object creation will fail if spilling is required.\n",
      "Ray objects:  92%|█████████▏| 54/59 [02:52<00:02,  1.69it/s]\u001b[2m\u001b[33m(raylet)\u001b[0m [2024-04-10 04:56:34,698 E 3140827 3140839] (raylet) file_system_monitor.cc:111: /tmp/ray/session_2024-04-10_04-41-03_233374_3140476 is over 95% full, available space: 641783967744; capacity: 16125711347712. Object creation will fail if spilling is required.\n",
      "Ray objects:  98%|█████████▊| 58/59 [03:07<00:02,  2.52s/it]\u001b[2m\u001b[33m(raylet)\u001b[0m [2024-04-10 04:56:44,703 E 3140827 3140839] (raylet) file_system_monitor.cc:111: /tmp/ray/session_2024-04-10_04-41-03_233374_3140476 is over 95% full, available space: 641714040832; capacity: 16125711347712. Object creation will fail if spilling is required.\n",
      "Ray objects: 100%|██████████| 59/59 [03:08<00:00,  3.19s/it]\n"
     ]
    },
    {
     "name": "stdout",
     "output_type": "stream",
     "text": [
      "2024-04-10 04:56:44,794 INFO {/home/ehdykhne/nuplan-devkit/nuplan/planning/simulation/runner/executor.py:129}  Number of successful simulations: 59\n",
      "2024-04-10 04:56:44,794 INFO {/home/ehdykhne/nuplan-devkit/nuplan/planning/simulation/runner/executor.py:130}  Number of failed simulations: 0\n",
      "2024-04-10 04:56:44,794 INFO {/home/ehdykhne/nuplan-devkit/nuplan/planning/script/utils.py:147}  Finished executing runners!\n",
      "2024-04-10 04:56:44,806 INFO {/home/ehdykhne/nuplan-devkit/nuplan/planning/script/utils.py:74}  Saved runner reports to ../../data/nuplan/exp/exp/simulation/closed_loop_multiagent/2024.04.10.04.41.02/runner_report.parquet\n",
      "2024-04-10 04:56:44,806 INFO {/home/ehdykhne/nuplan-devkit/nuplan/planning/simulation/main_callback/time_callback.py:27}  Simulation duration: 00:15:41 [HH:MM:SS]\n",
      "2024-04-10 04:56:45,569 INFO {/home/ehdykhne/nuplan-devkit/nuplan/planning/simulation/main_callback/metric_file_callback.py:79}  Metric files integration: 00:00:00 [HH:MM:SS]\n",
      "2024-04-10 04:56:45,648 INFO {/home/ehdykhne/nuplan-devkit/nuplan/planning/simulation/main_callback/metric_aggregator_callback.py:58}  Running metric aggregator: closed_loop_multiagent_weighted_average\n",
      "2024-04-10 04:56:45,720 INFO {/home/ehdykhne/nuplan-devkit/nuplan/planning/simulation/main_callback/metric_aggregator_callback.py:69}  Metric aggregator: 00:00:00 [HH:MM:SS]\n",
      "2024-04-10 04:56:45,827 INFO {/home/ehdykhne/nuplan-devkit/nuplan/planning/simulation/main_callback/metric_summary_callback.py:344}  Metric summary: 00:00:00 [HH:MM:SS]\n",
      "2024-04-10 04:56:45,827 INFO {/home/ehdykhne/nuplan-devkit/nuplan/planning/script/run_simulation.py:115}  Finished running simulation!\n"
     ]
    }
   ],
   "source": [
    "# Run the simulation loop (real-time visualization not yet supported, see next section for visualization)\n",
    "main_simulation(cfg_occ)"
   ]
  },
  {
   "cell_type": "markdown",
   "id": "ddd45a08",
   "metadata": {},
   "source": [
    "# Now we set up the second running regime"
   ]
  },
  {
   "cell_type": "code",
   "execution_count": 11,
   "id": "e825205f",
   "metadata": {},
   "outputs": [
    {
     "name": "stdout",
     "output_type": "stream",
     "text": [
      "+scenarios_to_check_in_alternate_regime=['f3610d9738ef589b_diverge_conflict_injection_and_occlusion_injection_053522', 'c2172be77f2b508e_diverge_conflict_injection_and_occlusion_injection_253671', '0a559c2fb46d588d_diverge_conflict_injection_and_occlusion_injection_052956', 'f3610d9738ef589b_diverge_conflict_injection_and_occlusion_injection_253522', 'f3610d9738ef589b_diverge_conflict_injection_and_occlusion_injection_353522', '8bcd750101ab51fc_diverge_conflict_injection_and_occlusion_injection_053570']\n",
      "output_folder_unocc = \"../../data/nuplan/exp/exp/simulation/closed_loop_multiagent/2024.04.10.04.56.48\"\n"
     ]
    }
   ],
   "source": [
    "#########################################\n",
    "\n",
    "path = output_folder_occ + \"/metrics/\"\n",
    "file_path_1 = path + \"no_ego_at_fault_collisions.parquet\"\n",
    "df = pd.read_parquet(file_path_1)\n",
    "df = df.loc[df[\"number_of_ego_collisions_with_vehicles_stat_value\"] != 0]\n",
    "df = df[\"scenario_name\"]\n",
    "\n",
    "\n",
    "scenario_list = df.tolist()\n",
    "print(f\"+scenarios_to_check={scenario_list}\")\n",
    "\n",
    "hydra.core.global_hydra.GlobalHydra.instance().clear()  # reinitialize hydra if already initialized\n",
    "hydra.initialize(config_path=simulation_hydra_paths.config_path)\n",
    "cfg_unocc = hydra.compose(\n",
    "    config_name=simulation_hydra_paths.config_name,\n",
    "    overrides=[\n",
    "        \"+simulation=closed_loop_multiagent\",  # [open_loop_boxes, closed_loop_nonreactive_agents, closed_loop_reactive_agents, closed_loop_multiagent]\n",
    "        \"planner=pdm_closed_planner\",  # [ml_planner, pdm_hybrid_planner, pdm_closed_planner, idm_planner, log_future_planner, simple_planner]\n",
    "        # \"model=gc_pgp_model\",\n",
    "        # \"model.aggregator.pre_train=false\",\n",
    "        # \"planner.ml_planner.model_config=${model}\",\n",
    "        # f\"planner.ml_planner.checkpoint_path={gc_pgp_ckpt}\",\n",
    "        # f\"planner.pdm_closed_planner.checkpoint_path={hybrid_ckpt}\",\n",
    "        # \"+observation.model=gc_pgp_model\",\n",
    "        # \"+observation.model.aggregator.pre_train=false\",\n",
    "        # \"+observation.model_config=${model}\",\n",
    "        # f\"+observation.checkpoint_path={gc_pgp_ckpt}\",\n",
    "        f\"observation.planner_type=pdm_closed\",\n",
    "        # # f\"observation.pdm_hybrid_ckpt={hybrid_ckpt}\",\n",
    "        f\"observation.occlusion_cfg.occlusion=false\",\n",
    "        \"+modify_scenario_simulations=true\",\n",
    "        \"+second_testing_round=true\",\n",
    "        f\"+scenarios_to_check={scenario_list}\",\n",
    "        \"+modifier_types=[diverge-conflict-with-occlusion-injection]\",  # can select multiple: [occlusion-injection, left-and-right,\n",
    "        # oncoming-left-turn-and-occlusion-injection, conflict-and-occlusion-injection,\n",
    "        # sequential-conflict-with-occlusion-injection, cross-conflict-with-occlusion-injection\n",
    "        # merge-conflict-with-occlusion-injection, diverge-conflict-with-occlusion-injection]\n",
    "        \"+remove_other_agents=true\",\n",
    "        \"+occlusion=false\",\n",
    "        \"worker=ray_distributed\",  # [sequential, ray_distributed]\n",
    "        \"hydra.searchpath=[pkg://tuplan_garage.planning.script.config.common, pkg://tuplan_garage.planning.script.config.simulation, pkg://nuplan.planning.script.config.common, pkg://nuplan.planning.script.experiments]\",\n",
    "        *DATASET_PARAMS,\n",
    "    ],\n",
    ")\n",
    "\n",
    "output_folder_unocc = cfg_unocc.output_dir\n",
    "print('output_folder_unocc = \"' + output_folder_unocc + '\"')"
   ]
  },
  {
   "cell_type": "markdown",
   "id": "f5bffe3d",
   "metadata": {},
   "source": [
    "## Run Second Regime"
   ]
  },
  {
   "cell_type": "code",
   "execution_count": null,
   "id": "3d2c0871",
   "metadata": {},
   "outputs": [],
   "source": [
    "main_simulation(cfg_unocc)"
   ]
  },
  {
   "cell_type": "code",
   "execution_count": 24,
   "metadata": {},
   "outputs": [
    {
     "name": "stdout",
     "output_type": "stream",
     "text": [
      "scenario mods to save to npsc file=['f3610d9738ef589b_diverge_conflict_injection_and_occlusion_injection_053522', '8bcd750101ab51fc_diverge_conflict_injection_and_occlusion_injection_053570']\n",
      "base scenarios=['f3610d9738ef589b', '8bcd750101ab51fc']\n",
      "f3610d9738ef589b_diverge_conflict_injection_and_occlusion_injection_053522\n",
      "8bcd750101ab51fc_diverge_conflict_injection_and_occlusion_injection_053570\n",
      "dict_keys(['f3610d9738ef589b', '8bcd750101ab51fc'])\n",
      "['scenario_builder=val', 'scenario_filter=all_scenarios', \"scenario_filter.scenario_types=['starting_left_turn', 'starting_right_turn', 'starting_straight_stop_sign_intersection_traversal', 'starting_straight_traffic_light_intersection_traversal', 'starting_unprotected_cross_turn', 'starting_unprotected_noncross_turn', 'traversing_intersection', 'traversing_traffic_light_intersection']\", 'scenario_filter.ego_displacement_minimum_m=10', 'scenario_filter.map_names=[sg-one-north, us-ma-boston, us-pa-pittsburgh-hazelwood, us-nv-las-vegas-strip]', 'scenario_filter.num_scenarios_per_type=400']\n"
     ]
    }
   ],
   "source": [
    "import pandas as pd\n",
    "import re\n",
    "import pickle\n",
    "\n",
    "output_folder_unocc = (\n",
    "    \"../../data/nuplan/exp/exp/simulation/closed_loop_multiagent/2024.04.10.04.56.48\"\n",
    ")\n",
    "\n",
    "path_unocc = output_folder_unocc + \"/metrics/\"\n",
    "file_path_2 = path_unocc + \"no_ego_at_fault_collisions.parquet\"\n",
    "df = pd.read_parquet(file_path_2)\n",
    "df = df.loc[\n",
    "    df[\"number_of_ego_collisions_with_vehicles_stat_value\"] == 0\n",
    "]  # we know all these scenarios are ones where we crahsed in the occluded regime, so here, we are selecting all the ones where we also didnt crash in the unoccluded regime\n",
    "df = df[\"scenario_name\"]\n",
    "scenario_list = df.tolist()\n",
    "print(f\"scenario mods to save to npsc file={scenario_list}\")\n",
    "base_scenario_tokens = [re.split(\"_\", name, 1)[0] for name in scenario_list]\n",
    "print(f\"base scenarios={base_scenario_tokens}\")\n",
    "\n",
    "modification_list_dictionary = {}\n",
    "with open(r\"modifications_for_second_testing_round.pkl\", \"rb\") as input_file:\n",
    "    modifications_for_second_testing_round = pickle.load(input_file)\n",
    "\n",
    "    for token in base_scenario_tokens:\n",
    "        modification_list_dictionary[token] = []\n",
    "\n",
    "    for full_modification_token in scenario_list:\n",
    "        base_token = re.split(\"_\", full_modification_token, 1)[0]\n",
    "        for modification_object in modifications_for_second_testing_round[base_token]:\n",
    "            if (\n",
    "                base_token + modification_object.modifier_string\n",
    "                == full_modification_token\n",
    "            ):\n",
    "                modification_list_dictionary[base_token].append(modification_object)\n",
    "                print(base_token + modification_object.modifier_string)\n",
    "                break\n",
    "\n",
    "with open(\"npsc_files/\" + experiment_name + \".npsc.pkl\", \"wb\") as output_file:\n",
    "    pickle.dump(modification_list_dictionary, output_file)\n",
    "    pickle.dump(DATASET_PARAMS, output_file)\n",
    "\n",
    "with open(\"npsc_files/\" + experiment_name + \".npsc.pkl\", \"rb\") as output_file:\n",
    "    mod_list_dict = pickle.load(output_file)\n",
    "    print(mod_list_dict.keys())\n",
    "    data = pickle.load(output_file)\n",
    "    print(data)\n",
    "\n",
    "# print(experiment_name)"
   ]
  },
  {
   "cell_type": "code",
   "execution_count": 1,
   "id": "f5bb338e",
   "metadata": {},
   "outputs": [
    {
     "name": "stdout",
     "output_type": "stream",
     "text": [
      "env: NUPLAN_DATA_ROOT=../../../datasets/nuplan/dataset\n",
      "env: NUPLAN_MAPS_ROOT=../../data/nuplan/maps\n",
      "env: NUPLAN_EXP_ROOT=../../data/nuplan/exp\n",
      "env: NUPLAN_DEVKIT_ROOT=../../nuplan-devkit/\n",
      "number_of_ego_collisions_with_vehicles_stat_value (top 25 differences)\n",
      "positive diff\n",
      "                                                                scenario_name  difference                        scenario_type_1\n",
      "0  f3610d9738ef589b_diverge_conflict_injection_and_occlusion_injection_053522           1                traversing_intersection\n",
      "5  8bcd750101ab51fc_diverge_conflict_injection_and_occlusion_injection_053570           1                traversing_intersection\n",
      "1  c2172be77f2b508e_diverge_conflict_injection_and_occlusion_injection_253671           0                traversing_intersection\n",
      "2  0a559c2fb46d588d_diverge_conflict_injection_and_occlusion_injection_052956           0  traversing_traffic_light_intersection\n",
      "3  f3610d9738ef589b_diverge_conflict_injection_and_occlusion_injection_253522           0                traversing_intersection\n",
      "4  f3610d9738ef589b_diverge_conflict_injection_and_occlusion_injection_353522           0                traversing_intersection\n",
      "negative diff\n",
      "                                                                scenario_name  difference                        scenario_type_1\n",
      "1  c2172be77f2b508e_diverge_conflict_injection_and_occlusion_injection_253671           0                traversing_intersection\n",
      "2  0a559c2fb46d588d_diverge_conflict_injection_and_occlusion_injection_052956           0  traversing_traffic_light_intersection\n",
      "3  f3610d9738ef589b_diverge_conflict_injection_and_occlusion_injection_253522           0                traversing_intersection\n",
      "4  f3610d9738ef589b_diverge_conflict_injection_and_occlusion_injection_353522           0                traversing_intersection\n",
      "0  f3610d9738ef589b_diverge_conflict_injection_and_occlusion_injection_053522           1                traversing_intersection\n",
      "5  8bcd750101ab51fc_diverge_conflict_injection_and_occlusion_injection_053570           1                traversing_intersection\n"
     ]
    },
    {
     "data": {
      "image/png": "[encoded data removed]",
      "text/plain": [
       "<Figure size 1400x1000 with 1 Axes>"
      ]
     },
     "metadata": {},
     "output_type": "display_data"
    }
   ],
   "source": [
    "from vis_utils import plot_diff\n",
    "\n",
    "# %env NUPLAN_DATA_ROOT=../../../datasets/nuplan/dataset\n",
    "# %env NUPLAN_MAPS_ROOT=../../data/nuplan/maps\n",
    "# %env NUPLAN_EXP_ROOT=../../data/nuplan/exp\n",
    "# %env NUPLAN_DEVKIT_ROOT=../../nuplan-devkit/\n",
    "# %pwd\n",
    "\n",
    "# output_folder_occ = (\n",
    "#     \"../../data/nuplan/exp/exp/simulation/closed_loop_multiagent/2024.04.10.04.41.02\"\n",
    "# )\n",
    "# output_folder_unocc = (\n",
    "#     \"../../data/nuplan/exp/exp/simulation/closed_loop_multiagent/2024.04.10.04.56.48\"\n",
    "# )\n",
    "\n",
    "file_path_1 = output_folder_unocc + \"/metrics/\" + \"no_ego_at_fault_collisions.parquet\"\n",
    "file_path_2 = output_folder_occ + \"/metrics/\" + \"no_ego_at_fault_collisions.parquet\"\n",
    "\n",
    "\n",
    "metrics = [\n",
    "    \"number_of_ego_collisions_with_vehicles_stat_value\",\n",
    "]\n",
    "metric_op = [\n",
    "    \"sum\",\n",
    "]\n",
    "# metrics are 'good' if you would like to succeed at them. ex: amount of crashes is bad, amount of money is good\n",
    "good_metric = [\n",
    "    False,\n",
    "]\n",
    "\n",
    "plot_diff(\n",
    "    file_path_1,\n",
    "    file_path_2,\n",
    "    \"unocc\",\n",
    "    \"occ\",\n",
    "    metrics,\n",
    "    metric_op,\n",
    "    good_metric,\n",
    "    group_by=\"scenario_type\",\n",
    "    k_differences=25,\n",
    "    as_bool=True,\n",
    ")"
   ]
  },
  {
   "cell_type": "markdown",
   "id": "c81f0d3a",
   "metadata": {},
   "source": [
    "## Prepare the nuBoard config"
   ]
  },
  {
   "cell_type": "code",
   "execution_count": 2,
   "id": "b8fc89e1",
   "metadata": {},
   "outputs": [
    {
     "name": "stdout",
     "output_type": "stream",
     "text": [
      "../../data/nuplan/exp/exp/simulation/closed_loop_multiagent/2024.04.10.04.41.02\n",
      "../../data/nuplan/exp/exp/simulation/closed_loop_multiagent/2024.04.10.04.56.48\n"
     ]
    }
   ],
   "source": [
    "# import hydra\n",
    "\n",
    "# scenario_builder = \"val\"  # [nuplan (uses trainval), nuplan_mini, test, val, train_boston, train_pittsburgh, train_singapore]\n",
    "# output_folder_occ = \"../../data/nuplan/exp/exp/simulation/closed_loop_multiagent/2024.02.28.20.06.45\"\n",
    "# output_folder_unocc = \"../../data/nuplan/exp/exp/simulation/closed_loop_multiagent/2024.02.28.20.55.22\"\n",
    "# output_folder_occ = (\n",
    "#     \"../../data/nuplan/exp/exp/simulation/closed_loop_multiagent/2024.03.05.19.32.17\"\n",
    "# )\n",
    "# output_folder_unocc = (\n",
    "#     \"../../data/nuplan/exp/exp/simulation/closed_loop_multiagent/2024.03.05.20.12.11\"\n",
    "# )\n",
    "# output_folder_occ = \"../../data/nuplan/exp/exp/simulation/closed_loop_multiagent/2024.04.10.04.15.30\"\n",
    "# output_folder_unocc = \"../../data/nuplan/exp/exp/simulation/closed_loop_multiagent/2024.04.10.04.21.15\"\n",
    "\n",
    "# output_folder_unocc = '../../data/nuplan/exp/exp/simulation/closed_loop_multiagent/2024.04.02.00.15.36'\n",
    "output_folder = [output_folder_occ, output_folder_unocc]\n",
    "# output_folder_occ = (\n",
    "#     \"../../data/nuplan/exp/exp/simulation/closed_loop_multiagent/2024.04.05.04.32.36\"\n",
    "# )\n",
    "# output_folder = [output_folder_occ]\n",
    "print(output_folder_occ)\n",
    "print(output_folder_unocc)\n",
    "\n",
    "CONFIG_PATH = \"../nuplan/planning/script/config/nuboard\"\n",
    "CONFIG_NAME = \"default_nuboard\"\n",
    "\n",
    "# Initialize configuration management system\n",
    "hydra.core.global_hydra.GlobalHydra.instance().clear()  # reinitialize hydra if already initialized\n",
    "hydra.initialize(config_path=CONFIG_PATH)\n",
    "\n",
    "# Compose the configuration\n",
    "cfg = hydra.compose(\n",
    "    config_name=CONFIG_NAME,\n",
    "    overrides=[\n",
    "        f\"scenario_builder={scenario_builder}\",  # set the database (same as simulation) used to fetch data for visualization\n",
    "        f\"simulation_path={output_folder}\",  # [output_folder, output_folder_alt] nuboard file path(s), if left empty the user can open the file inside nuBoard\n",
    "    ],\n",
    ")"
   ]
  },
  {
   "cell_type": "markdown",
   "id": "cf22057a",
   "metadata": {},
   "source": [
    "## Launch nuBoard (open in new tab - recommended)\n"
   ]
  },
  {
   "cell_type": "code",
   "execution_count": 3,
   "id": "eea5a24e",
   "metadata": {},
   "outputs": [
    {
     "name": "stderr",
     "output_type": "stream",
     "text": [
      "INFO:nuplan.planning.script.builders.scenario_building_builder:Building AbstractScenarioBuilder...\n",
      "INFO:nuplan.planning.script.builders.scenario_building_builder:Building AbstractScenarioBuilder...DONE!\n",
      "INFO:nuplan.planning.nuboard.nuboard:Opening Bokeh application on http://localhost:5006/\n",
      "INFO:nuplan.planning.nuboard.nuboard:Async rendering is set to: True\n",
      "INFO:bokeh.server.server:Starting Bokeh server version 2.4.3 (running on Tornado 6.3.3)\n",
      "WARNING:bokeh.server.util:Host wildcard '*' will allow connections originating from multiple (or possibly all) hostnames or IPs. Use non-wildcard values to restrict access explicitly\n",
      "INFO:bokeh.server.tornado:User authentication hooks NOT provided (default user enabled)\n",
      "INFO:nuplan.planning.nuboard.base.simulation_tile:Minimum frame time=0.017 s\n",
      "INFO:nuplan.planning.nuboard.tabs.scenario_tab:Rending scenario plot takes 0.0009 seconds.\n",
      "INFO:tornado.access:200 GET / (127.0.0.1) 657.39ms\n",
      "INFO:tornado.access:200 GET / (127.0.0.1) 657.39ms\n",
      "INFO:tornado.access:101 GET /ws (127.0.0.1) 0.51ms\n",
      "INFO:tornado.access:101 GET /ws (127.0.0.1) 0.51ms\n",
      "INFO:bokeh.server.views.ws:WebSocket connection opened\n",
      "INFO:bokeh.server.views.ws:ServerConnection created\n",
      "INFO:nuplan.planning.nuboard.base.simulation_tile:Minimum frame time=0.017 s\n",
      "INFO:nuplan.planning.nuboard.tabs.scenario_tab:Rending scenario plot takes 0.0009 seconds.\n",
      "INFO:tornado.access:200 GET / (127.0.0.1) 353.25ms\n",
      "INFO:tornado.access:200 GET / (127.0.0.1) 353.25ms\n"
     ]
    }
   ],
   "source": [
    "from nuplan.planning.script.run_nuboard import main as main_nuboard\n",
    "\n",
    "# Run nuBoard\n",
    "main_nuboard(cfg)"
   ]
  }
 ],
 "metadata": {
  "kernelspec": {
   "display_name": "Python 3 (ipykernel)",
   "language": "python",
   "name": "python3"
  },
  "language_info": {
   "codemirror_mode": {
    "name": "ipython",
    "version": 3
   },
   "file_extension": ".py",
   "mimetype": "text/x-python",
   "name": "python",
   "nbconvert_exporter": "python",
   "pygments_lexer": "ipython3",
   "version": "3.9.18"
  }
 },
 "nbformat": 4,
 "nbformat_minor": 5
}

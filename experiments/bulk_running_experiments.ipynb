{
 "cells": [
  {
   "cell_type": "code",
   "execution_count": 1,
   "id": "7d763b0e",
   "metadata": {},
   "outputs": [],
   "source": [
    "import asyncio\n",
    "import itertools\n",
    "import logging\n",
    "import random\n",
    "import nest_asyncio\n",
    "import pandas as pd\n",
    "\n",
    "nest_asyncio.apply()  #"
   ]
  },
  {
   "cell_type": "code",
   "execution_count": 2,
   "id": "33f6d65f",
   "metadata": {},
   "outputs": [
    {
     "data": {
      "text/plain": [
       "True"
      ]
     },
     "execution_count": 2,
     "metadata": {},
     "output_type": "execute_result"
    }
   ],
   "source": [
    "import torch\n",
    "\n",
    "torch.cuda.is_available()"
   ]
  },
  {
   "cell_type": "code",
   "execution_count": 3,
   "id": "ad69bb62",
   "metadata": {},
   "outputs": [],
   "source": [
    "import os\n",
    "from pathlib import Path\n",
    "import tempfile\n",
    "\n",
    "from shutil import rmtree\n",
    "from typing import List, Optional, Union\n",
    "\n",
    "from nuplan.planning.script.run_simulation import main as main_simulation"
   ]
  },
  {
   "cell_type": "code",
   "execution_count": 4,
   "id": "8233f21e",
   "metadata": {},
   "outputs": [
    {
     "name": "stdout",
     "output_type": "stream",
     "text": [
      "env: NUPLAN_DATA_ROOT=../../../datasets/nuplan/dataset\n",
      "env: NUPLAN_MAPS_ROOT=../../data/nuplan/maps\n",
      "env: NUPLAN_EXP_ROOT=../../data/nuplan/exp\n",
      "env: NUPLAN_DEVKIT_ROOT=../../nuplan-devkit/\n"
     ]
    },
    {
     "data": {
      "text/plain": [
       "'/home/ehdykhne/nuplan-devkit/experiments'"
      ]
     },
     "execution_count": 4,
     "metadata": {},
     "output_type": "execute_result"
    }
   ],
   "source": [
    "%env NUPLAN_DATA_ROOT=../../../datasets/nuplan/dataset\n",
    "%env NUPLAN_MAPS_ROOT=../../data/nuplan/maps\n",
    "%env NUPLAN_EXP_ROOT=../../data/nuplan/exp\n",
    "%env NUPLAN_DEVKIT_ROOT=../../nuplan-devkit/\n",
    "%pwd"
   ]
  },
  {
   "cell_type": "code",
   "execution_count": 5,
   "id": "f17ea3ea",
   "metadata": {},
   "outputs": [],
   "source": [
    "import hydra\n",
    "import pytorch_lightning as pl\n",
    "from omegaconf import DictConfig, OmegaConf\n",
    "\n",
    "from nuplan.common.utils.s3_utils import is_s3_path\n",
    "from nuplan.planning.script.builders.simulation_builder import build_simulations\n",
    "from nuplan.planning.script.builders.simulation_callback_builder import (\n",
    "    build_callbacks_worker,\n",
    "    build_simulation_callbacks,\n",
    ")\n",
    "from nuplan.planning.script.utils import (\n",
    "    run_runners,\n",
    "    set_default_path,\n",
    "    set_up_common_builder,\n",
    ")\n",
    "from nuplan.planning.simulation.planner.abstract_planner import AbstractPlanner\n",
    "\n",
    "logging.basicConfig(level=logging.INFO)\n",
    "logger = logging.getLogger(__name__)\n",
    "\n",
    "# If set, use the env. variable to overwrite the default dataset and experiment paths\n",
    "set_default_path()\n",
    "\n",
    "# If set, use the env. variable to overwrite the Hydra config\n",
    "CONFIG_PATH = os.getenv(\"NUPLAN_HYDRA_CONFIG_PATH\", \"config/simulation\")\n",
    "\n",
    "if os.environ.get(\"NUPLAN_HYDRA_CONFIG_PATH\") is not None:\n",
    "    CONFIG_PATH = os.path.join(\"../../../../\", CONFIG_PATH)\n",
    "\n",
    "if os.path.basename(CONFIG_PATH) != \"simulation\":\n",
    "    CONFIG_PATH = os.path.join(CONFIG_PATH, \"simulation\")\n",
    "CONFIG_NAME = \"default_simulation\""
   ]
  },
  {
   "cell_type": "code",
   "execution_count": 6,
   "id": "8a2350b5",
   "metadata": {},
   "outputs": [
    {
     "name": "stdout",
     "output_type": "stream",
     "text": [
      "['d6234553edc95d50', '98ddd7851e445b7a', '5ac5795b9b5851e8']\n",
      "['014c7f3502d4597d', '02828821ef045829', '02fa9b8d43465e0d']\n"
     ]
    }
   ],
   "source": [
    "# list of selected scenario tokens\n",
    "from tokens import selected_scenario_tokens, modifiable_scenario_tokens\n",
    "\n",
    "print(selected_scenario_tokens[0:3])\n",
    "print(modifiable_scenario_tokens[0:3])\n",
    "\n",
    "selected_scenario_tokens = [\"8b80aa05d88b518b\"]"
   ]
  },
  {
   "cell_type": "code",
   "execution_count": 7,
   "id": "69170726",
   "metadata": {},
   "outputs": [],
   "source": [
    "from tutorials.utils.tutorial_utils import construct_simulation_hydra_paths\n",
    "\n",
    "# Location of paths with all simulation configs\n",
    "BASE_CONFIG_PATH = os.path.join(\n",
    "    os.getenv(\"NUPLAN_TUTORIAL_PATH\", \"\"), \"../nuplan/planning/script\"\n",
    ")\n",
    "simulation_hydra_paths = construct_simulation_hydra_paths(BASE_CONFIG_PATH)"
   ]
  },
  {
   "cell_type": "code",
   "execution_count": 8,
   "id": "dc132c71",
   "metadata": {},
   "outputs": [],
   "source": [
    "left_turn_types = [\n",
    "    \"stopping_at_crosswalk\",\n",
    "    \"high_lateral_acceleration\",\n",
    "    \"near_multiple_vehicles\",\n",
    "    \"on_stopline_stop_sign\",\n",
    "    \"near_long_vehicle\",\n",
    "    \"unknown\",\n",
    "    \"near_barrier_on_driveable\",\n",
    "    \"near_high_speed_vehicle\",\n",
    "]\n",
    "scenario_types = [\n",
    "    \"starting_left_turn\",\n",
    "    # \"accelerating_at_traffic_light_with_lead\",\n",
    "    # \"crossed_by_bike\",\n",
    "    # \"crossed_by_vehicle\",\n",
    "    # \"on_intersection\",\n",
    "    # \"on_stopline_crosswalk\",\n",
    "    # \"on_stopline_stop_sign\",\n",
    "    # \"on_stopline_traffic_light\",\n",
    "    # \"on_traffic_light_intersection\",\n",
    "    # \"starting_protected_cross_turn\",\n",
    "    # \"starting_protected_noncross_turn\",\n",
    "    \"starting_right_turn\",\n",
    "    \"starting_straight_stop_sign_intersection_traversal\",\n",
    "    \"starting_straight_traffic_light_intersection_traversal\",\n",
    "    # \"starting_u_turn\",\n",
    "    \"starting_unprotected_cross_turn\",\n",
    "    \"starting_unprotected_noncross_turn\",\n",
    "    # \"stationary_at_crosswalk\",\n",
    "    # \"stationary_at_traffic_light_with_lead\",\n",
    "    # \"stationary_at_traffic_light_without_lead\",\n",
    "    # \"traversing_crosswalk\",\n",
    "    \"traversing_intersection\",\n",
    "    \"traversing_traffic_light_intersection\",\n",
    "]\n",
    "\n",
    "left_turn_potential = [\n",
    "    \"starting_left_turn\",\n",
    "    \"starting_unprotected_cross_turn\",\n",
    "]\n",
    "\n",
    "# scenario_types = ['stationary_at_traffic_light_without_lead']\n",
    "\n",
    "scenario_builder = \"val\"  # [nuplan (uses trainval), nuplan_mini, test, val, train_boston, train_pittsburgh, train_singapore]\n",
    "DATASET_PARAMS = [\n",
    "    f\"scenario_builder={scenario_builder}\",\n",
    "    \"scenario_filter=all_scenarios\",  # [all_scenarios, val14_split]\n",
    "    f\"scenario_filter.scenario_types={scenario_types}\",  # there are 70 scenario types in the trainingset and 58 in the validation set including \"unknown\" which make up the majority\n",
    "    \"scenario_filter.ego_displacement_minimum_m=10\",  # use scenarios where the ego vehicle moves at least 10m\n",
    "    #    'scenario_filter.remove_invalid_goals=true',  # remove scenarios where the goal is not invalid\n",
    "    # \"scenario_filter.ego_start_speed_threshold=5\",  # Exclusive threshold that the ego's speed must rise above (meters per second) for scenario to be kept\n",
    "    #    'scenario_filter.stop_speed_threshold=10',  # Inclusive threshold that the ego's speed must fall below (meters per second) for scenario to be kept:\n",
    "    \"scenario_filter.map_names=[sg-one-north, us-ma-boston, us-pa-pittsburgh-hazelwood, us-nv-las-vegas-strip]\",  # select multiple [sg-one-north, us-ma-boston, us-pa-pittsburgh-hazelwood, us-nv-las-vegas-strip]\n",
    "    # \"scenario_filter.limit_total_scenarios=0.05\",  # use n total scenarios if int, or if float smaller than 1, use n as a fraction of total scenarios (changes sampling frequency, unchanged leaves the frequency at 20Hz)\n",
    "    \"scenario_filter.num_scenarios_per_type=70\",  # use 10 scenarios per scenario type\n",
    "    # f\"scenario_filter.scenario_tokens={selected_scenario_tokens}\",  # List of scenarios to include (token)\n",
    "    #'scenario_filter.log_names=[\"2021.08.24.20.03.01_veh-45_01091_01622\"]',  # specific scenrios to simulate\n",
    "    # turn off if you are selecting scenarios manually. turn on for initial filtering (0.05 gives us 1 scenario per second)\n",
    "]"
   ]
  },
  {
   "cell_type": "code",
   "execution_count": 9,
   "id": "5eba4239",
   "metadata": {},
   "outputs": [
    {
     "name": "stdout",
     "output_type": "stream",
     "text": [
      "default_simulation\n",
      "output_folder_occ = \"../../data/nuplan/exp/exp/simulation/closed_loop_multiagent/2024.03.06.00.31.10\"\n"
     ]
    }
   ],
   "source": [
    "urban_ckpt = \"/home/ehdykhne/nuplan-devkit/experiments/pretrained_checkpoints/urbandriver_checkpoint.ckpt\"\n",
    "gc_pgp_ckpt = \"/home/ehdykhne/nuplan-devkit/experiments/pretrained_checkpoints/gc_pgp_checkpoint.ckpt\"\n",
    "hybrid_ckpt = \"/home/ehdykhne/nuplan-devkit/experiments/pretrained_checkpoints/pdm_offset_checkpoint.ckpt\"\n",
    "#'/home/ehdykhne/nuplan-devkit/experiments/pretrained_checkpoints/urbandriver_checkpoint.ckpt'\n",
    "#'/home/ehdykhne/Repos/nuplan-devkit/experiments/pretrained_checkpoints/urbandriver_checkpoint.ckpt'\n",
    "# Initialize configuration management system\n",
    "hydra.core.global_hydra.GlobalHydra.instance().clear()  # reinitialize hydra if already initialized\n",
    "hydra.initialize(config_path=simulation_hydra_paths.config_path)\n",
    "\n",
    "# Compose the configuration\n",
    "print(simulation_hydra_paths.config_name)\n",
    "cfg_occ = hydra.compose(\n",
    "    config_name=simulation_hydra_paths.config_name,\n",
    "    overrides=[\n",
    "        \"+simulation=closed_loop_multiagent\",  # [open_loop_boxes, closed_loop_nonreactive_agents, closed_loop_reactive_agents, closed_loop_multiagent]\n",
    "        \"planner=pdm_closed_planner\",  # [ml_planner, pdm_hybrid_planner, pdm_closed_planner, idm_planner, log_future_planner, simple_planner]\n",
    "        # \"model=gc_pgp_model\",\n",
    "        # \"model.aggregator.pre_train=false\",\n",
    "        # \"planner.ml_planner.model_config=${model}\",\n",
    "        # f\"planner.ml_planner.checkpoint_path={gc_pgp_ckpt}\",\n",
    "        # f\"planner.pdm_closed_planner.checkpoint_path={hybrid_ckpt}\",\n",
    "        # \"+observation.model=gc_pgp_model\",\n",
    "        # \"+observation.model.aggregator.pre_train=false\",\n",
    "        # \"+observation.model_config=${model}\",\n",
    "        # f\"+observation.checkpoint_path={gc_pgp_ckpt}\",\n",
    "        f\"observation.planner_type=pdm_closed\",\n",
    "        # # f\"observation.pdm_hybrid_ckpt={hybrid_ckpt}\",\n",
    "        f\"observation.occlusion_cfg.occlusion=True\",\n",
    "        f\"observation.occlusion_cfg.manager_type=wedge\",\n",
    "        f\"+observation.occlusion_cfg.uncloak_reaction_time=1.5\",\n",
    "        f\"+observation.occlusion_cfg.notice_threshold=1.0\",\n",
    "        \"+modify_scenario_simulations=true\",\n",
    "        \"+modifier_types=[conflict-and-occlusion-injection]\",  # can select multiple: [occlusion-injection, left-and-right, oncoming-left-turn-and-occlusion-injection, conflict-and-occlusion-injection]\n",
    "        \"+occlusion=True\",\n",
    "        \"+occlusion.manager_type=wedge\",  # options: [range, shadow, wedge]\n",
    "        \"+occlusion.uncloak_reaction_time=1.5\",  # 0.1\n",
    "        \"+occlusion.notice_threshold=1.0\",  # 0.1\n",
    "        \"worker=ray_distributed\",  # [sequential, ray_distributed]\n",
    "        \"hydra.searchpath=[pkg://tuplan_garage.planning.script.config.common, pkg://tuplan_garage.planning.script.config.simulation, pkg://nuplan.planning.script.config.common, pkg://nuplan.planning.script.experiments]\",\n",
    "        *DATASET_PARAMS,\n",
    "    ],\n",
    ")\n",
    "\n",
    "output_folder_occ = cfg_occ.output_dir\n",
    "print('output_folder_occ = \"' + output_folder_occ + '\"')\n",
    "\n",
    "\n",
    "# closed mixed for simulation\n",
    "# \"+simulation=closed_loop_multiagent\",  # [open_loop_boxes, closed_loop_nonreactive_agents, closed_loop_reactive_agents, closed_loop_multiagent]\n",
    "# \"planner=pdm_closed_planner\",  # [ml_planner, pdm_hybrid_planner, pdm_closed_planner, idm_planner, log_future_planner, simple_planner]\n",
    "# # \"model=gc_pgp_model\",\n",
    "# # \"model.aggregator.pre_train=false\",\n",
    "# # \"planner.ml_planner.model_config=${model}\",\n",
    "# # f\"planner.ml_planner.checkpoint_path={gc_pgp_ckpt}\",\n",
    "# # f\"planner.pdm_closed_planner.checkpoint_path={hybrid_ckpt}\",\n",
    "# # \"+observation.model=gc_pgp_model\",\n",
    "# # \"+observation.model.aggregator.pre_train=false\",\n",
    "# # \"+observation.model_config=${model}\",\n",
    "# # f\"+observation.checkpoint_path={gc_pgp_ckpt}\",\n",
    "# f\"observation.planner_type=pdm_closed\",\n",
    "# # # f\"observation.pdm_hybrid_ckpt={hybrid_ckpt}\",\n",
    "# f\"observation.occlusion_cfg.occlusion=true\",\n",
    "# f\"observation.occlusion_cfg.manager_type=wedge\",\n",
    "# f\"+observation.occlusion_cfg.uncloak_reaction_time=1.5\",\n",
    "# f\"+observation.occlusion_cfg.notice_threshold=1.0\",\n",
    "# \"+modify_scenario_simulations=true\",\n",
    "# \"+modifier_types=[occlusion-injection]\",  # can select multiple: [occlusion-injection, left-and-right]\n",
    "# \"+occlusion=true\",\n",
    "# \"+occlusion.manager_type=wedge\",  # options: [range, shadow, wedge]\n",
    "# \"+occlusion.uncloak_reaction_time=1.0\",\n",
    "# \"+occlusion.notice_threshold=0.1\",\n",
    "# \"worker=ray_distributed\",  # [sequential, ray_distributed]\n",
    "# \"hydra.searchpath=[pkg://tuplan_garage.planning.script.config.common, pkg://tuplan_garage.planning.script.config.simulation, pkg://nuplan.planning.script.config.common, pkg://nuplan.planning.script.experiments]\",\n",
    "# *DATASET_PARAMS,\n",
    "\n",
    "# openloop config for finding risky scenarios\n",
    "# f\"scenario_builder={scenario_builder}\",\n",
    "# \"scenario_filter=all_scenarios\",  # [all_scenarios, val14_split]\n",
    "# # f\"scenario_filter.scenario_types={left_turn_types}\",  # there are 70 scenario types in the trainingset and 58 in the validation set including \"unknown\" which make up the majority\n",
    "# \"scenario_filter.ego_displacement_minimum_m=10\",  # use scenarios where the ego vehicle moves at least 10m\n",
    "# #    'scenario_filter.remove_invalid_goals=true',  # remove scenarios where the goal is not invalid\n",
    "# \"scenario_filter.ego_start_speed_threshold=5\",  # Exclusive threshold that the ego's speed must rise above (meters per second) for scenario to be kept\n",
    "# #    'scenario_filter.stop_speed_threshold=10',  # Inclusive threshold that the ego's speed must fall below (meters per second) for scenario to be kept:\n",
    "# \"scenario_filter.map_names=[sg-one-north, us-ma-boston, us-pa-pittsburgh-hazelwood]\",  # select multiple [sg-one-north, us-ma-boston, us-pa-pittsburgh-hazelwood, us-nv-las-vegas-strip]\n",
    "# # \"scenario_filter.num_scenarios_per_type=300\",  # use 10 scenarios per scenario type\n",
    "# # f\"scenario_filter.scenario_tokens={selected_scenario_tokens}\",  # List of scenarios to include (token)\n",
    "# #'scenario_filter.log_names=[\"2021.08.24.20.03.01_veh-45_01091_01622\"]',  # specific scenrios to simulate\n",
    "# \"scenario_filter.limit_total_scenarios=0.01\",  # use n total scenarios if int, or if float smaller than 1, use n as a fraction of total scenarios (changes sampling frequency, unchanged leaves the frequency at 20Hz)\n",
    "# # turn off if you are selecting scenarios manually. turn on for initial filtering (0.05 gives us 1 scenario per second)\n",
    "\n",
    "\n",
    "# \"+simulation=open_loop_boxes\",  # [open_loop_boxes, closed_loop_nonreactive_agents, closed_loop_reactive_agents, closed_loop_multiagent]\n",
    "#         \"planner=log_future_planner\",  # [ml_planner, pdm_hybrid_planner, gc_pgp_planner, idm_planner, log_future_planner, simple_planner]\n",
    "#         \"ego_controller=perfect_tracking_controller\",\n",
    "#         \"worker=ray_distributed\",  # [sequential, ray_distributed]\n",
    "#         \"+occlusion=true\",  # [true, false]\n",
    "#         \"+occlusion.manager_type=wedge\",  # options: [range, shadow, wedge]\n",
    "#         \"+occlusion.uncloak_reaction_time=1.5\",\n",
    "#         \"+occlusion.notice_threshold=1.0\",\n",
    "#         # \"hydra.searchpath=[pkg://tuplan_garage.planning.script.config.common, pkg://tuplan_garage.planning.script.config.simulation, pkg://nuplan.planning.script.config.common, pkg://nuplan.planning.script.experiments]\",\n",
    "#         *DATASET_PARAMS,\n",
    "\n",
    "\n",
    "# output folders for runs:\n",
    "# closed_loop_reactive_agents, wedge occlusions, urban_planner\n",
    "# output_folder = \"../../data/nuplan/exp/exp/simulation/closed_loop_reactive_agents/2023.12.09.21.59.48\"\n",
    "# overall score: 0.5041, ego_at_fault_collisions: 363\n",
    "\n",
    "# closed_loop_reactive_agents, occlusions = False, urban_planner\n",
    "# output_folder = \"../../data/nuplan/exp/exp/simulation/closed_loop_reactive_agents/2023.12.09.23.21.13\"\n",
    "# overall score: 0.5041, ego_at_fault_collisions: 357\n",
    "\n",
    "# closed_loop_nonreactive_agents, occlusions = False, urban_planner\n",
    "# output_folder = \"../../data/nuplan/exp/exp/simulation/closed_loop_nonreactive_agents/2023.12.10.02.01.14\"\n",
    "# output_folder = \"../../data/nuplan/exp/exp/simulation/closed_loop_nonreactive_agents/2023.12.10.07.32.41\"\n",
    "# overall score: , ego_at_fault_collisions:\n",
    "\n",
    "# closed_loop_nonreactive_agents, wedge occlusions, urban_planner\n",
    "# output_folder = \"../../data/nuplan/exp/exp/simulation/closed_loop_nonreactive_agents/2023.12.10.08.29.23\"\n",
    "# overall score: , ego_at_fault_collisions:\n",
    "\n",
    "# closed_loop_reactive_agents, wedge occlusions, gc_pgp\n",
    "# output_folder = \"../../data/nuplan/exp/exp/simulation/closed_loop_reactive_agents/2023.12.10.09.31.44\"\n",
    "# overall score: , ego_at_fault_collisions:\n",
    "\n",
    "# 'closed_loop_reactive_agents, occlusions = False, gc_pgp'\n",
    "# output_folder = \"../../data/nuplan/exp/exp/simulation/closed_loop_reactive_agents/2023.12.11.00.41.30\"\n",
    "\n",
    "# 'closed_loop_reactive_agents, occlusions = False, pdm_hybrid'\n",
    "# output_folder = \"../../data/nuplan/exp/exp/simulation/closed_loop_reactive_agents/2023.12.13.12.21.28\"\n",
    "\n",
    "# 'closed_loop_reactive_agents,  wedge occlusions, pdm_hybrid'\n",
    "# output_folder = \"../../data/nuplan/exp/exp/simulation/closed_loop_reactive_agents/2023.12.13.13.07.48\"\n",
    "\n",
    "# # be8c7a230b9c5b4e_oncoming_vehicle_injection_for_left_turn_and_occlusion_injection_0\n",
    "# # output_folder = \"../../data/nuplan/exp/exp/simulation/closed_loop_multiagent/2024.02.14.14.14.30\"\n",
    "# output_folder = \"../../data/nuplan/exp/exp/simulation/closed_loop_multiagent/2024.02.14.14.38.02\""
   ]
  },
  {
   "cell_type": "markdown",
   "id": "066580da",
   "metadata": {},
   "source": [
    "# Now we can run with the following"
   ]
  },
  {
   "cell_type": "code",
   "execution_count": 10,
   "id": "58e7424b",
   "metadata": {},
   "outputs": [
    {
     "name": "stderr",
     "output_type": "stream",
     "text": [
      "Global seed set to 0\n",
      "INFO:nuplan.planning.script.builders.main_callback_builder:Building MultiMainCallback...\n",
      "INFO:nuplan.planning.script.builders.main_callback_builder:Building MultiMainCallback: 4...DONE!\n"
     ]
    },
    {
     "name": "stdout",
     "output_type": "stream",
     "text": [
      "2024-03-06 00:31:10,927 INFO {/home/ehdykhne/nuplan-devkit/nuplan/planning/script/builders/worker_pool_builder.py:19}  Building WorkerPool...\n",
      "2024-03-06 00:31:10,929 INFO {/home/ehdykhne/nuplan-devkit/nuplan/planning/utils/multithreading/worker_ray.py:78}  Starting ray local!\n"
     ]
    },
    {
     "name": "stderr",
     "output_type": "stream",
     "text": [
      "2024-03-06 00:31:12,555\tINFO worker.py:1636 -- Started a local Ray instance.\n"
     ]
    },
    {
     "name": "stdout",
     "output_type": "stream",
     "text": [
      "2024-03-06 00:31:13,261 INFO {/home/ehdykhne/nuplan-devkit/nuplan/planning/utils/multithreading/worker_pool.py:101}  Worker: RayDistributed\n",
      "2024-03-06 00:31:13,262 INFO {/home/ehdykhne/nuplan-devkit/nuplan/planning/utils/multithreading/worker_pool.py:102}  Number of nodes: 1\n",
      "Number of CPUs per node: 32\n",
      "Number of GPUs per node: 4\n",
      "Number of threads across all nodes: 32\n",
      "2024-03-06 00:31:13,262 INFO {/home/ehdykhne/nuplan-devkit/nuplan/planning/script/builders/worker_pool_builder.py:27}  Building WorkerPool...DONE!\n",
      "2024-03-06 00:31:13,262 INFO {/home/ehdykhne/nuplan-devkit/nuplan/planning/script/builders/folder_builder.py:32}  Building experiment folders...\n",
      "2024-03-06 00:31:13,262 INFO {/home/ehdykhne/nuplan-devkit/nuplan/planning/script/builders/folder_builder.py:35}  \n",
      "\n",
      "\tFolder where all results are stored: ../../data/nuplan/exp/exp/simulation/closed_loop_multiagent/2024.03.06.00.31.10\n",
      "\n",
      "2024-03-06 00:31:13,264 INFO {/home/ehdykhne/nuplan-devkit/nuplan/planning/script/builders/folder_builder.py:70}  Building experiment folders...DONE!\n",
      "2024-03-06 00:31:13,264 INFO {/home/ehdykhne/nuplan-devkit/nuplan/planning/script/builders/simulation_callback_builder.py:52}  Building AbstractCallback...\n",
      "2024-03-06 00:31:13,264 INFO {/home/ehdykhne/nuplan-devkit/nuplan/planning/script/builders/simulation_callback_builder.py:68}  Building AbstractCallback: 0...DONE!\n",
      "2024-03-06 00:31:13,265 INFO {/home/ehdykhne/nuplan-devkit/nuplan/planning/script/builders/simulation_builder.py:56}  Building simulations...\n",
      "2024-03-06 00:31:13,265 INFO {/home/ehdykhne/nuplan-devkit/nuplan/planning/script/builders/simulation_builder.py:62}  Extracting scenarios...\n",
      "2024-03-06 00:31:13,265 INFO {/home/ehdykhne/nuplan-devkit/nuplan/common/utils/distributed_scenario_filter.py:83}  Building Scenarios in mode DistributedMode.SINGLE_NODE\n",
      "2024-03-06 00:31:13,265 INFO {/home/ehdykhne/nuplan-devkit/nuplan/planning/script/builders/scenario_building_builder.py:18}  Building AbstractScenarioBuilder...\n",
      "2024-03-06 00:31:13,283 INFO {/home/ehdykhne/nuplan-devkit/nuplan/planning/script/builders/scenario_building_builder.py:21}  Building AbstractScenarioBuilder...DONE!\n",
      "2024-03-06 00:31:13,283 INFO {/home/ehdykhne/nuplan-devkit/nuplan/planning/script/builders/scenario_filter_builder.py:35}  Building ScenarioFilter...\n",
      "2024-03-06 00:31:13,284 INFO {/home/ehdykhne/nuplan-devkit/nuplan/planning/script/builders/scenario_filter_builder.py:44}  Building ScenarioFilter...DONE!\n"
     ]
    },
    {
     "name": "stderr",
     "output_type": "stream",
     "text": [
      "Ray objects: 100%|██████████| 32/32 [00:07<00:00,  4.11it/s]\n",
      "\u001b[2m\u001b[33m(raylet)\u001b[0m [2024-03-06 00:31:22,526 E 458942 458954] (raylet) file_system_monitor.cc:111: /tmp/ray/session_2024-03-06_00-31-10_957136_458634 is over 95% full, available space: 631398117376; capacity: 16125711347712. Object creation will fail if spilling is required.\n"
     ]
    },
    {
     "name": "stdout",
     "output_type": "stream",
     "text": [
      "2024-03-06 00:31:32,150 INFO {/home/ehdykhne/nuplan-devkit/nuplan/planning/script/builders/simulation_builder.py:83}  Building metric engines...\n",
      "2024-03-06 00:31:32,412 INFO {/home/ehdykhne/nuplan-devkit/nuplan/planning/script/builders/simulation_builder.py:85}  Building metric engines...DONE\n",
      "2024-03-06 00:31:32,413 INFO {/home/ehdykhne/nuplan-devkit/nuplan/planning/script/builders/simulation_builder.py:89}  Building simulations from 499 scenarios...\n"
     ]
    },
    {
     "name": "stderr",
     "output_type": "stream",
     "text": [
      "\u001b[2m\u001b[33m(raylet)\u001b[0m [2024-03-06 00:31:32,530 E 458942 458954] (raylet) file_system_monitor.cc:111: /tmp/ray/session_2024-03-06_00-31-10_957136_458634 is over 95% full, available space: 631398105088; capacity: 16125711347712. Object creation will fail if spilling is required.\n"
     ]
    },
    {
     "name": "stdout",
     "output_type": "stream",
     "text": [
      "2024-03-06 00:31:38,876 INFO {/home/ehdykhne/nuplan-devkit/nuplan/planning/script/builders/simulation_builder.py:151}  Modyfing Scenarios...\n",
      "1 0 are the number of cpus and gpus\n",
      "2024-03-06 00:31:38,877 INFO {/home/ehdykhne/nuplan-devkit/nuplan/planning/utils/multithreading/worker_pool.py:116}  Submitting 499 tasks!\n"
     ]
    },
    {
     "name": "stderr",
     "output_type": "stream",
     "text": [
      "\u001b[2m\u001b[33m(raylet)\u001b[0m [2024-03-06 00:31:42,535 E 458942 458954] (raylet) file_system_monitor.cc:111: /tmp/ray/session_2024-03-06_00-31-10_957136_458634 is over 95% full, available space: 631398105088; capacity: 16125711347712. Object creation will fail if spilling is required.\n",
      "\u001b[2m\u001b[33m(raylet)\u001b[0m [2024-03-06 00:31:52,543 E 458942 458954] (raylet) file_system_monitor.cc:111: /tmp/ray/session_2024-03-06_00-31-10_957136_458634 is over 95% full, available space: 631398096896; capacity: 16125711347712. Object creation will fail if spilling is required.\n",
      "\u001b[2m\u001b[33m(raylet)\u001b[0m [2024-03-06 00:32:02,551 E 458942 458954] (raylet) file_system_monitor.cc:111: /tmp/ray/session_2024-03-06_00-31-10_957136_458634 is over 95% full, available space: 631398096896; capacity: 16125711347712. Object creation will fail if spilling is required.\n",
      "\u001b[2m\u001b[33m(raylet)\u001b[0m [2024-03-06 00:32:12,561 E 458942 458954] (raylet) file_system_monitor.cc:111: /tmp/ray/session_2024-03-06_00-31-10_957136_458634 is over 95% full, available space: 631398068224; capacity: 16125711347712. Object creation will fail if spilling is required.\n",
      "\u001b[2m\u001b[33m(raylet)\u001b[0m [2024-03-06 00:32:22,569 E 458942 458954] (raylet) file_system_monitor.cc:111: /tmp/ray/session_2024-03-06_00-31-10_957136_458634 is over 95% full, available space: 631397928960; capacity: 16125711347712. Object creation will fail if spilling is required.\n",
      "\u001b[2m\u001b[33m(raylet)\u001b[0m [2024-03-06 00:32:32,578 E 458942 458954] (raylet) file_system_monitor.cc:111: /tmp/ray/session_2024-03-06_00-31-10_957136_458634 is over 95% full, available space: 631397928960; capacity: 16125711347712. Object creation will fail if spilling is required.\n",
      "\u001b[2m\u001b[33m(raylet)\u001b[0m [2024-03-06 00:32:42,588 E 458942 458954] (raylet) file_system_monitor.cc:111: /tmp/ray/session_2024-03-06_00-31-10_957136_458634 is over 95% full, available space: 631397928960; capacity: 16125711347712. Object creation will fail if spilling is required.\n",
      "\u001b[2m\u001b[33m(raylet)\u001b[0m [2024-03-06 00:32:52,597 E 458942 458954] (raylet) file_system_monitor.cc:111: /tmp/ray/session_2024-03-06_00-31-10_957136_458634 is over 95% full, available space: 631397920768; capacity: 16125711347712. Object creation will fail if spilling is required.\n",
      "\u001b[2m\u001b[33m(raylet)\u001b[0m [2024-03-06 00:33:02,605 E 458942 458954] (raylet) file_system_monitor.cc:111: /tmp/ray/session_2024-03-06_00-31-10_957136_458634 is over 95% full, available space: 631397912576; capacity: 16125711347712. Object creation will fail if spilling is required.\n",
      "\u001b[2m\u001b[33m(raylet)\u001b[0m [2024-03-06 00:33:12,614 E 458942 458954] (raylet) file_system_monitor.cc:111: /tmp/ray/session_2024-03-06_00-31-10_957136_458634 is over 95% full, available space: 631397879808; capacity: 16125711347712. Object creation will fail if spilling is required.\n",
      "Ray objects:  51%|█████     | 253/499 [00:00<00:00, 985.55it/s]\u001b[2m\u001b[33m(raylet)\u001b[0m [2024-03-06 00:33:22,622 E 458942 458954] (raylet) file_system_monitor.cc:111: /tmp/ray/session_2024-03-06_00-31-10_957136_458634 is over 95% full, available space: 631397871616; capacity: 16125711347712. Object creation will fail if spilling is required.\n",
      "\u001b[2m\u001b[33m(raylet)\u001b[0m [2024-03-06 00:33:32,634 E 458942 458954] (raylet) file_system_monitor.cc:111: /tmp/ray/session_2024-03-06_00-31-10_957136_458634 is over 95% full, available space: 631397871616; capacity: 16125711347712. Object creation will fail if spilling is required.\n",
      "Ray objects:  59%|█████▉    | 295/499 [00:18<00:17, 11.98it/s] \u001b[2m\u001b[33m(raylet)\u001b[0m [2024-03-06 00:33:42,643 E 458942 458954] (raylet) file_system_monitor.cc:111: /tmp/ray/session_2024-03-06_00-31-10_957136_458634 is over 95% full, available space: 631397867520; capacity: 16125711347712. Object creation will fail if spilling is required.\n",
      "Ray objects:  68%|██████▊   | 337/499 [00:30<00:23,  6.92it/s]\u001b[2m\u001b[33m(raylet)\u001b[0m [2024-03-06 00:33:52,651 E 458942 458954] (raylet) file_system_monitor.cc:111: /tmp/ray/session_2024-03-06_00-31-10_957136_458634 is over 95% full, available space: 631397863424; capacity: 16125711347712. Object creation will fail if spilling is required.\n",
      "Ray objects:  72%|███████▏  | 361/499 [00:45<00:35,  3.87it/s]\u001b[2m\u001b[33m(raylet)\u001b[0m [2024-03-06 00:34:02,660 E 458942 458954] (raylet) file_system_monitor.cc:111: /tmp/ray/session_2024-03-06_00-31-10_957136_458634 is over 95% full, available space: 631397855232; capacity: 16125711347712. Object creation will fail if spilling is required.\n",
      "Ray objects:  77%|███████▋  | 384/499 [00:55<00:36,  3.15it/s]\u001b[2m\u001b[33m(raylet)\u001b[0m [2024-03-06 00:34:12,681 E 458942 458954] (raylet) file_system_monitor.cc:111: /tmp/ray/session_2024-03-06_00-31-10_957136_458634 is over 95% full, available space: 631397830656; capacity: 16125711347712. Object creation will fail if spilling is required.\n",
      "Ray objects:  84%|████████▍ | 418/499 [01:06<00:28,  2.81it/s]\u001b[2m\u001b[33m(raylet)\u001b[0m [2024-03-06 00:34:22,688 E 458942 458954] (raylet) file_system_monitor.cc:111: /tmp/ray/session_2024-03-06_00-31-10_957136_458634 is over 95% full, available space: 631397699584; capacity: 16125711347712. Object creation will fail if spilling is required.\n",
      "Ray objects:  88%|████████▊ | 441/499 [01:16<00:29,  1.94it/s]\u001b[2m\u001b[33m(raylet)\u001b[0m [2024-03-06 00:34:32,697 E 458942 458954] (raylet) file_system_monitor.cc:111: /tmp/ray/session_2024-03-06_00-31-10_957136_458634 is over 95% full, available space: 631397687296; capacity: 16125711347712. Object creation will fail if spilling is required.\n",
      "Ray objects:  93%|█████████▎| 464/499 [01:27<00:10,  3.49it/s]\u001b[2m\u001b[33m(raylet)\u001b[0m [2024-03-06 00:34:42,705 E 458942 458954] (raylet) file_system_monitor.cc:111: /tmp/ray/session_2024-03-06_00-31-10_957136_458634 is over 95% full, available space: 631397687296; capacity: 16125711347712. Object creation will fail if spilling is required.\n",
      "Ray objects:  96%|█████████▌| 478/499 [01:35<00:09,  2.14it/s]\u001b[2m\u001b[33m(raylet)\u001b[0m [2024-03-06 00:34:52,713 E 458942 458954] (raylet) file_system_monitor.cc:111: /tmp/ray/session_2024-03-06_00-31-10_957136_458634 is over 95% full, available space: 631397691392; capacity: 16125711347712. Object creation will fail if spilling is required.\n",
      "Ray objects:  98%|█████████▊| 488/499 [01:46<00:07,  1.50it/s]\u001b[2m\u001b[33m(raylet)\u001b[0m [2024-03-06 00:35:02,721 E 458942 458954] (raylet) file_system_monitor.cc:111: /tmp/ray/session_2024-03-06_00-31-10_957136_458634 is over 95% full, available space: 631397687296; capacity: 16125711347712. Object creation will fail if spilling is required.\n",
      "Ray objects:  99%|█████████▉| 495/499 [01:54<00:04,  1.06s/it]\u001b[2m\u001b[33m(raylet)\u001b[0m [2024-03-06 00:35:12,726 E 458942 458954] (raylet) file_system_monitor.cc:111: /tmp/ray/session_2024-03-06_00-31-10_957136_458634 is over 95% full, available space: 631397658624; capacity: 16125711347712. Object creation will fail if spilling is required.\n",
      "\u001b[2m\u001b[33m(raylet)\u001b[0m [2024-03-06 00:35:22,730 E 458942 458954] (raylet) file_system_monitor.cc:111: /tmp/ray/session_2024-03-06_00-31-10_957136_458634 is over 95% full, available space: 631397650432; capacity: 16125711347712. Object creation will fail if spilling is required.\n",
      "Ray objects:  99%|█████████▉| 496/499 [02:16<00:22,  7.44s/it]\u001b[2m\u001b[33m(raylet)\u001b[0m [2024-03-06 00:35:32,734 E 458942 458954] (raylet) file_system_monitor.cc:111: /tmp/ray/session_2024-03-06_00-31-10_957136_458634 is over 95% full, available space: 631397646336; capacity: 16125711347712. Object creation will fail if spilling is required.\n",
      "Ray objects: 100%|█████████▉| 497/499 [02:18<00:11,  5.71s/it]\u001b[2m\u001b[33m(raylet)\u001b[0m [2024-03-06 00:35:42,736 E 458942 458954] (raylet) file_system_monitor.cc:111: /tmp/ray/session_2024-03-06_00-31-10_957136_458634 is over 95% full, available space: 631397646336; capacity: 16125711347712. Object creation will fail if spilling is required.\n",
      "Ray objects: 100%|█████████▉| 498/499 [02:32<00:08,  8.20s/it]\u001b[2m\u001b[33m(raylet)\u001b[0m [2024-03-06 00:35:52,739 E 458942 458954] (raylet) file_system_monitor.cc:111: /tmp/ray/session_2024-03-06_00-31-10_957136_458634 is over 95% full, available space: 631397642240; capacity: 16125711347712. Object creation will fail if spilling is required.\n",
      "\u001b[2m\u001b[33m(raylet)\u001b[0m [2024-03-06 00:36:02,741 E 458942 458954] (raylet) file_system_monitor.cc:111: /tmp/ray/session_2024-03-06_00-31-10_957136_458634 is over 95% full, available space: 631397638144; capacity: 16125711347712. Object creation will fail if spilling is required.\n",
      "\u001b[2m\u001b[33m(raylet)\u001b[0m [2024-03-06 00:36:12,744 E 458942 458954] (raylet) file_system_monitor.cc:111: /tmp/ray/session_2024-03-06_00-31-10_957136_458634 is over 95% full, available space: 631397613568; capacity: 16125711347712. Object creation will fail if spilling is required.\n",
      "\u001b[2m\u001b[33m(raylet)\u001b[0m [2024-03-06 00:36:22,746 E 458942 458954] (raylet) file_system_monitor.cc:111: /tmp/ray/session_2024-03-06_00-31-10_957136_458634 is over 95% full, available space: 631397470208; capacity: 16125711347712. Object creation will fail if spilling is required.\n",
      "\u001b[2m\u001b[33m(raylet)\u001b[0m [2024-03-06 00:36:32,749 E 458942 458954] (raylet) file_system_monitor.cc:111: /tmp/ray/session_2024-03-06_00-31-10_957136_458634 is over 95% full, available space: 631397470208; capacity: 16125711347712. Object creation will fail if spilling is required.\n",
      "\u001b[2m\u001b[33m(raylet)\u001b[0m [2024-03-06 00:36:42,751 E 458942 458954] (raylet) file_system_monitor.cc:111: /tmp/ray/session_2024-03-06_00-31-10_957136_458634 is over 95% full, available space: 631397462016; capacity: 16125711347712. Object creation will fail if spilling is required.\n",
      "Ray objects: 100%|██████████| 499/499 [03:32<00:00,  2.35it/s]\n",
      "0it [00:00, ?it/s]"
     ]
    },
    {
     "name": "stdout",
     "output_type": "stream",
     "text": [
      "2024-03-06 00:36:48,418 INFO {/home/ehdykhne/nuplan-devkit/nuplan/planning/script/builders/simulation_builder.py:184}  Created 1 modified scenarios from scenario with token: 0539ebb5245c50e4.\n"
     ]
    },
    {
     "name": "stderr",
     "output_type": "stream",
     "text": [
      "100%|██████████| 1/1 [00:00<00:00, 542.53it/s]\n",
      "0it [00:00, ?it/s]"
     ]
    },
    {
     "name": "stdout",
     "output_type": "stream",
     "text": [
      "2024-03-06 00:36:48,422 INFO {/home/ehdykhne/nuplan-devkit/nuplan/planning/script/builders/simulation_builder.py:184}  Created 2 modified scenarios from scenario with token: 0788cecb193e53d7.\n"
     ]
    },
    {
     "name": "stderr",
     "output_type": "stream",
     "text": [
      "100%|██████████| 2/2 [00:00<00:00, 729.89it/s]\n",
      "0it [00:00, ?it/s]"
     ]
    },
    {
     "name": "stdout",
     "output_type": "stream",
     "text": [
      "2024-03-06 00:36:48,428 INFO {/home/ehdykhne/nuplan-devkit/nuplan/planning/script/builders/simulation_builder.py:184}  Created 4 modified scenarios from scenario with token: 084dc82b60f35d29.\n"
     ]
    },
    {
     "name": "stderr",
     "output_type": "stream",
     "text": [
      "100%|██████████| 4/4 [00:00<00:00, 812.18it/s]\n",
      "0it [00:00, ?it/s]"
     ]
    },
    {
     "name": "stdout",
     "output_type": "stream",
     "text": [
      "2024-03-06 00:36:48,435 INFO {/home/ehdykhne/nuplan-devkit/nuplan/planning/script/builders/simulation_builder.py:184}  Created 20 modified scenarios from scenario with token: 0913d55429e55eed.\n"
     ]
    },
    {
     "name": "stderr",
     "output_type": "stream",
     "text": [
      "100%|██████████| 20/20 [00:00<00:00, 835.60it/s]\n",
      "0it [00:00, ?it/s]"
     ]
    },
    {
     "name": "stdout",
     "output_type": "stream",
     "text": [
      "2024-03-06 00:36:48,463 INFO {/home/ehdykhne/nuplan-devkit/nuplan/planning/script/builders/simulation_builder.py:184}  Created 12 modified scenarios from scenario with token: 0970eb9bf88654d4.\n"
     ]
    },
    {
     "name": "stderr",
     "output_type": "stream",
     "text": [
      "100%|██████████| 12/12 [00:00<00:00, 856.20it/s]\n",
      "0it [00:00, ?it/s]"
     ]
    },
    {
     "name": "stdout",
     "output_type": "stream",
     "text": [
      "2024-03-06 00:36:48,480 INFO {/home/ehdykhne/nuplan-devkit/nuplan/planning/script/builders/simulation_builder.py:184}  Created 15 modified scenarios from scenario with token: 0ccdf7284b765a43.\n"
     ]
    },
    {
     "name": "stderr",
     "output_type": "stream",
     "text": [
      "100%|██████████| 15/15 [00:00<00:00, 837.70it/s]\n",
      "0it [00:00, ?it/s]"
     ]
    },
    {
     "name": "stdout",
     "output_type": "stream",
     "text": [
      "2024-03-06 00:36:48,501 INFO {/home/ehdykhne/nuplan-devkit/nuplan/planning/script/builders/simulation_builder.py:184}  Created 17 modified scenarios from scenario with token: 0ddd9da92c395ced.\n"
     ]
    },
    {
     "name": "stderr",
     "output_type": "stream",
     "text": [
      "100%|██████████| 17/17 [00:00<00:00, 816.32it/s]\n",
      "33it [00:00, 309.05it/s]"
     ]
    },
    {
     "name": "stdout",
     "output_type": "stream",
     "text": [
      "2024-03-06 00:36:48,525 INFO {/home/ehdykhne/nuplan-devkit/nuplan/planning/script/builders/simulation_builder.py:184}  Created 9 modified scenarios from scenario with token: 0ed413f698955f83.\n"
     ]
    },
    {
     "name": "stderr",
     "output_type": "stream",
     "text": [
      "100%|██████████| 9/9 [00:00<00:00, 817.51it/s]\n",
      "33it [00:00, 309.05it/s]"
     ]
    },
    {
     "name": "stdout",
     "output_type": "stream",
     "text": [
      "2024-03-06 00:36:48,539 INFO {/home/ehdykhne/nuplan-devkit/nuplan/planning/script/builders/simulation_builder.py:184}  Created 1 modified scenarios from scenario with token: 0efe585a30e25776.\n"
     ]
    },
    {
     "name": "stderr",
     "output_type": "stream",
     "text": [
      "100%|██████████| 1/1 [00:00<00:00, 519.23it/s]\n",
      "33it [00:00, 309.05it/s]"
     ]
    },
    {
     "name": "stdout",
     "output_type": "stream",
     "text": [
      "2024-03-06 00:36:48,544 INFO {/home/ehdykhne/nuplan-devkit/nuplan/planning/script/builders/simulation_builder.py:184}  Created 1 modified scenarios from scenario with token: 0f3f4bca99a75d06.\n"
     ]
    },
    {
     "name": "stderr",
     "output_type": "stream",
     "text": [
      "100%|██████████| 1/1 [00:00<00:00, 720.05it/s]\n",
      "33it [00:00, 309.05it/s]"
     ]
    },
    {
     "name": "stdout",
     "output_type": "stream",
     "text": [
      "2024-03-06 00:36:48,548 INFO {/home/ehdykhne/nuplan-devkit/nuplan/planning/script/builders/simulation_builder.py:184}  Created 6 modified scenarios from scenario with token: 0fc2b56bb99c5997.\n"
     ]
    },
    {
     "name": "stderr",
     "output_type": "stream",
     "text": [
      "100%|██████████| 6/6 [00:00<00:00, 805.74it/s]\n",
      "33it [00:00, 309.05it/s]"
     ]
    },
    {
     "name": "stdout",
     "output_type": "stream",
     "text": [
      "2024-03-06 00:36:48,558 INFO {/home/ehdykhne/nuplan-devkit/nuplan/planning/script/builders/simulation_builder.py:184}  Created 16 modified scenarios from scenario with token: 0fc5ed45b000594d.\n"
     ]
    },
    {
     "name": "stderr",
     "output_type": "stream",
     "text": [
      "100%|██████████| 16/16 [00:00<00:00, 865.13it/s]\n",
      "33it [00:00, 309.05it/s]"
     ]
    },
    {
     "name": "stdout",
     "output_type": "stream",
     "text": [
      "2024-03-06 00:36:48,580 INFO {/home/ehdykhne/nuplan-devkit/nuplan/planning/script/builders/simulation_builder.py:184}  Created 5 modified scenarios from scenario with token: 114d78c106945fa4.\n"
     ]
    },
    {
     "name": "stderr",
     "output_type": "stream",
     "text": [
      "100%|██████████| 5/5 [00:00<00:00, 823.61it/s]\n",
      "33it [00:00, 309.05it/s]"
     ]
    },
    {
     "name": "stdout",
     "output_type": "stream",
     "text": [
      "2024-03-06 00:36:48,589 INFO {/home/ehdykhne/nuplan-devkit/nuplan/planning/script/builders/simulation_builder.py:184}  Created 3 modified scenarios from scenario with token: 114dea6a571454a3.\n"
     ]
    },
    {
     "name": "stderr",
     "output_type": "stream",
     "text": [
      "100%|██████████| 3/3 [00:00<00:00, 830.34it/s]\n",
      "33it [00:00, 309.05it/s]"
     ]
    },
    {
     "name": "stdout",
     "output_type": "stream",
     "text": [
      "2024-03-06 00:36:48,595 INFO {/home/ehdykhne/nuplan-devkit/nuplan/planning/script/builders/simulation_builder.py:184}  Created 16 modified scenarios from scenario with token: 14322a75bc5b539d.\n"
     ]
    },
    {
     "name": "stderr",
     "output_type": "stream",
     "text": [
      "100%|██████████| 16/16 [00:00<00:00, 93.11it/s]\n",
      "33it [00:00, 309.05it/s]"
     ]
    },
    {
     "name": "stdout",
     "output_type": "stream",
     "text": [
      "2024-03-06 00:36:48,770 INFO {/home/ehdykhne/nuplan-devkit/nuplan/planning/script/builders/simulation_builder.py:184}  Created 4 modified scenarios from scenario with token: 14a437319809595c.\n"
     ]
    },
    {
     "name": "stderr",
     "output_type": "stream",
     "text": [
      "100%|██████████| 4/4 [00:00<00:00, 845.88it/s]\n",
      "33it [00:00, 309.05it/s]"
     ]
    },
    {
     "name": "stdout",
     "output_type": "stream",
     "text": [
      "2024-03-06 00:36:48,779 INFO {/home/ehdykhne/nuplan-devkit/nuplan/planning/script/builders/simulation_builder.py:184}  Created 13 modified scenarios from scenario with token: 16978efcc2615392.\n"
     ]
    },
    {
     "name": "stderr",
     "output_type": "stream",
     "text": [
      "100%|██████████| 13/13 [00:00<00:00, 853.93it/s]\n",
      "33it [00:00, 309.05it/s]"
     ]
    },
    {
     "name": "stdout",
     "output_type": "stream",
     "text": [
      "2024-03-06 00:36:48,798 INFO {/home/ehdykhne/nuplan-devkit/nuplan/planning/script/builders/simulation_builder.py:184}  Created 11 modified scenarios from scenario with token: 1725752437d153c7.\n"
     ]
    },
    {
     "name": "stderr",
     "output_type": "stream",
     "text": [
      "100%|██████████| 11/11 [00:00<00:00, 838.71it/s]\n",
      "64it [00:00, 148.48it/s]"
     ]
    },
    {
     "name": "stdout",
     "output_type": "stream",
     "text": [
      "2024-03-06 00:36:48,815 INFO {/home/ehdykhne/nuplan-devkit/nuplan/planning/script/builders/simulation_builder.py:184}  Created 4 modified scenarios from scenario with token: 184d8d991d99566d.\n"
     ]
    },
    {
     "name": "stderr",
     "output_type": "stream",
     "text": [
      "100%|██████████| 4/4 [00:00<00:00, 803.20it/s]\n",
      "64it [00:00, 148.48it/s]"
     ]
    },
    {
     "name": "stdout",
     "output_type": "stream",
     "text": [
      "2024-03-06 00:36:48,822 INFO {/home/ehdykhne/nuplan-devkit/nuplan/planning/script/builders/simulation_builder.py:184}  Created 2 modified scenarios from scenario with token: 1b9234d32b0750bb.\n"
     ]
    },
    {
     "name": "stderr",
     "output_type": "stream",
     "text": [
      "100%|██████████| 2/2 [00:00<00:00, 731.48it/s]\n",
      "64it [00:00, 148.48it/s]"
     ]
    },
    {
     "name": "stdout",
     "output_type": "stream",
     "text": [
      "2024-03-06 00:36:48,827 INFO {/home/ehdykhne/nuplan-devkit/nuplan/planning/script/builders/simulation_builder.py:184}  Created 8 modified scenarios from scenario with token: 1e8455e8d89856be.\n"
     ]
    },
    {
     "name": "stderr",
     "output_type": "stream",
     "text": [
      "100%|██████████| 8/8 [00:00<00:00, 853.00it/s]\n",
      "64it [00:00, 148.48it/s]"
     ]
    },
    {
     "name": "stdout",
     "output_type": "stream",
     "text": [
      "2024-03-06 00:36:48,840 INFO {/home/ehdykhne/nuplan-devkit/nuplan/planning/script/builders/simulation_builder.py:184}  Created 28 modified scenarios from scenario with token: 1ede20ecfc7757dc.\n"
     ]
    },
    {
     "name": "stderr",
     "output_type": "stream",
     "text": [
      "100%|██████████| 28/28 [00:00<00:00, 853.28it/s]\n",
      "64it [00:00, 148.48it/s]"
     ]
    },
    {
     "name": "stdout",
     "output_type": "stream",
     "text": [
      "2024-03-06 00:36:48,876 INFO {/home/ehdykhne/nuplan-devkit/nuplan/planning/script/builders/simulation_builder.py:184}  Created 1 modified scenarios from scenario with token: 25b0e5c53483588e.\n"
     ]
    },
    {
     "name": "stderr",
     "output_type": "stream",
     "text": [
      "100%|██████████| 1/1 [00:00<00:00, 762.60it/s]\n",
      "64it [00:00, 148.48it/s]"
     ]
    },
    {
     "name": "stdout",
     "output_type": "stream",
     "text": [
      "2024-03-06 00:36:48,880 INFO {/home/ehdykhne/nuplan-devkit/nuplan/planning/script/builders/simulation_builder.py:184}  Created 4 modified scenarios from scenario with token: 280588e369275cc1.\n"
     ]
    },
    {
     "name": "stderr",
     "output_type": "stream",
     "text": [
      "100%|██████████| 4/4 [00:00<00:00, 790.22it/s]\n",
      "64it [00:00, 148.48it/s]"
     ]
    },
    {
     "name": "stdout",
     "output_type": "stream",
     "text": [
      "2024-03-06 00:36:48,888 INFO {/home/ehdykhne/nuplan-devkit/nuplan/planning/script/builders/simulation_builder.py:184}  Created 1 modified scenarios from scenario with token: 290f3c08bd0d53a3.\n"
     ]
    },
    {
     "name": "stderr",
     "output_type": "stream",
     "text": [
      "100%|██████████| 1/1 [00:00<00:00, 652.61it/s]\n",
      "64it [00:00, 148.48it/s]"
     ]
    },
    {
     "name": "stdout",
     "output_type": "stream",
     "text": [
      "2024-03-06 00:36:48,892 INFO {/home/ehdykhne/nuplan-devkit/nuplan/planning/script/builders/simulation_builder.py:184}  Created 3 modified scenarios from scenario with token: 2a8e67d99adb511a.\n"
     ]
    },
    {
     "name": "stderr",
     "output_type": "stream",
     "text": [
      "100%|██████████| 3/3 [00:00<00:00, 778.65it/s]\n",
      "64it [00:00, 148.48it/s]"
     ]
    },
    {
     "name": "stdout",
     "output_type": "stream",
     "text": [
      "2024-03-06 00:36:48,899 INFO {/home/ehdykhne/nuplan-devkit/nuplan/planning/script/builders/simulation_builder.py:184}  Created 18 modified scenarios from scenario with token: 2b3a1359081d5ef9.\n"
     ]
    },
    {
     "name": "stderr",
     "output_type": "stream",
     "text": [
      "100%|██████████| 18/18 [00:00<00:00, 852.21it/s]\n",
      "95it [00:00, 189.32it/s]"
     ]
    },
    {
     "name": "stdout",
     "output_type": "stream",
     "text": [
      "2024-03-06 00:36:48,923 INFO {/home/ehdykhne/nuplan-devkit/nuplan/planning/script/builders/simulation_builder.py:184}  Created 7 modified scenarios from scenario with token: 2b9543b2672c5103.\n"
     ]
    },
    {
     "name": "stderr",
     "output_type": "stream",
     "text": [
      "100%|██████████| 7/7 [00:00<00:00, 829.24it/s]\n",
      "95it [00:00, 189.32it/s]"
     ]
    },
    {
     "name": "stdout",
     "output_type": "stream",
     "text": [
      "2024-03-06 00:36:48,934 INFO {/home/ehdykhne/nuplan-devkit/nuplan/planning/script/builders/simulation_builder.py:184}  Created 2 modified scenarios from scenario with token: 2c2643d45c8757be.\n"
     ]
    },
    {
     "name": "stderr",
     "output_type": "stream",
     "text": [
      "100%|██████████| 2/2 [00:00<00:00, 757.30it/s]\n",
      "95it [00:00, 189.32it/s]"
     ]
    },
    {
     "name": "stdout",
     "output_type": "stream",
     "text": [
      "2024-03-06 00:36:48,940 INFO {/home/ehdykhne/nuplan-devkit/nuplan/planning/script/builders/simulation_builder.py:184}  Created 11 modified scenarios from scenario with token: 3087aa37ac195446.\n"
     ]
    },
    {
     "name": "stderr",
     "output_type": "stream",
     "text": [
      "100%|██████████| 11/11 [00:00<00:00, 856.00it/s]\n",
      "95it [00:00, 189.32it/s]"
     ]
    },
    {
     "name": "stdout",
     "output_type": "stream",
     "text": [
      "2024-03-06 00:36:48,955 INFO {/home/ehdykhne/nuplan-devkit/nuplan/planning/script/builders/simulation_builder.py:184}  Created 7 modified scenarios from scenario with token: 32eef1f5969d5054.\n"
     ]
    },
    {
     "name": "stderr",
     "output_type": "stream",
     "text": [
      "100%|██████████| 7/7 [00:00<00:00, 800.57it/s]\n",
      "95it [00:00, 189.32it/s]"
     ]
    },
    {
     "name": "stdout",
     "output_type": "stream",
     "text": [
      "2024-03-06 00:36:48,967 INFO {/home/ehdykhne/nuplan-devkit/nuplan/planning/script/builders/simulation_builder.py:184}  Created 8 modified scenarios from scenario with token: 3380e8be77f956ca.\n"
     ]
    },
    {
     "name": "stderr",
     "output_type": "stream",
     "text": [
      "100%|██████████| 8/8 [00:00<00:00, 799.98it/s]\n",
      "95it [00:00, 189.32it/s]"
     ]
    },
    {
     "name": "stdout",
     "output_type": "stream",
     "text": [
      "2024-03-06 00:36:48,980 INFO {/home/ehdykhne/nuplan-devkit/nuplan/planning/script/builders/simulation_builder.py:184}  Created 12 modified scenarios from scenario with token: 37590d51254e58dc.\n"
     ]
    },
    {
     "name": "stderr",
     "output_type": "stream",
     "text": [
      "100%|██████████| 12/12 [00:00<00:00, 835.27it/s]\n",
      "95it [00:00, 189.32it/s]"
     ]
    },
    {
     "name": "stdout",
     "output_type": "stream",
     "text": [
      "2024-03-06 00:36:48,997 INFO {/home/ehdykhne/nuplan-devkit/nuplan/planning/script/builders/simulation_builder.py:184}  Created 5 modified scenarios from scenario with token: 393271786fbe5967.\n"
     ]
    },
    {
     "name": "stderr",
     "output_type": "stream",
     "text": [
      "100%|██████████| 5/5 [00:00<00:00, 842.53it/s]\n",
      "95it [00:00, 189.32it/s]"
     ]
    },
    {
     "name": "stdout",
     "output_type": "stream",
     "text": [
      "2024-03-06 00:36:49,006 INFO {/home/ehdykhne/nuplan-devkit/nuplan/planning/script/builders/simulation_builder.py:184}  Created 2 modified scenarios from scenario with token: 3984439f75ce58e1.\n"
     ]
    },
    {
     "name": "stderr",
     "output_type": "stream",
     "text": [
      "100%|██████████| 2/2 [00:00<00:00, 804.74it/s]\n",
      "95it [00:00, 189.32it/s]"
     ]
    },
    {
     "name": "stdout",
     "output_type": "stream",
     "text": [
      "2024-03-06 00:36:49,012 INFO {/home/ehdykhne/nuplan-devkit/nuplan/planning/script/builders/simulation_builder.py:184}  Created 7 modified scenarios from scenario with token: 3d0c3e52d86d551f.\n"
     ]
    },
    {
     "name": "stderr",
     "output_type": "stream",
     "text": [
      "100%|██████████| 7/7 [00:00<00:00, 778.16it/s]\n",
      "124it [00:00, 217.24it/s]"
     ]
    },
    {
     "name": "stdout",
     "output_type": "stream",
     "text": [
      "2024-03-06 00:36:49,024 INFO {/home/ehdykhne/nuplan-devkit/nuplan/planning/script/builders/simulation_builder.py:184}  Created 5 modified scenarios from scenario with token: 3dd15426dd5e5d10.\n"
     ]
    },
    {
     "name": "stderr",
     "output_type": "stream",
     "text": [
      "100%|██████████| 5/5 [00:00<00:00, 817.86it/s]\n",
      "124it [00:00, 217.24it/s]"
     ]
    },
    {
     "name": "stdout",
     "output_type": "stream",
     "text": [
      "2024-03-06 00:36:49,033 INFO {/home/ehdykhne/nuplan-devkit/nuplan/planning/script/builders/simulation_builder.py:184}  Created 6 modified scenarios from scenario with token: 4197fbbd54a95c24.\n"
     ]
    },
    {
     "name": "stderr",
     "output_type": "stream",
     "text": [
      "100%|██████████| 6/6 [00:00<00:00, 800.52it/s]\n",
      "124it [00:00, 217.24it/s]"
     ]
    },
    {
     "name": "stdout",
     "output_type": "stream",
     "text": [
      "2024-03-06 00:36:49,043 INFO {/home/ehdykhne/nuplan-devkit/nuplan/planning/script/builders/simulation_builder.py:184}  Created 4 modified scenarios from scenario with token: 4223c5519579545a.\n"
     ]
    },
    {
     "name": "stderr",
     "output_type": "stream",
     "text": [
      "100%|██████████| 4/4 [00:00<00:00, 821.61it/s]\n",
      "124it [00:00, 217.24it/s]"
     ]
    },
    {
     "name": "stdout",
     "output_type": "stream",
     "text": [
      "2024-03-06 00:36:49,052 INFO {/home/ehdykhne/nuplan-devkit/nuplan/planning/script/builders/simulation_builder.py:184}  Created 16 modified scenarios from scenario with token: 43a54fcac35e5cca.\n"
     ]
    },
    {
     "name": "stderr",
     "output_type": "stream",
     "text": [
      "100%|██████████| 16/16 [00:00<00:00, 850.48it/s]\n",
      "124it [00:00, 217.24it/s]"
     ]
    },
    {
     "name": "stdout",
     "output_type": "stream",
     "text": [
      "2024-03-06 00:36:49,074 INFO {/home/ehdykhne/nuplan-devkit/nuplan/planning/script/builders/simulation_builder.py:184}  Created 3 modified scenarios from scenario with token: 453d1de681af53f7.\n"
     ]
    },
    {
     "name": "stderr",
     "output_type": "stream",
     "text": [
      "100%|██████████| 3/3 [00:00<00:00, 738.35it/s]\n",
      "124it [00:00, 217.24it/s]"
     ]
    },
    {
     "name": "stdout",
     "output_type": "stream",
     "text": [
      "2024-03-06 00:36:49,080 INFO {/home/ehdykhne/nuplan-devkit/nuplan/planning/script/builders/simulation_builder.py:184}  Created 1 modified scenarios from scenario with token: 458241fe10ac5b60.\n"
     ]
    },
    {
     "name": "stderr",
     "output_type": "stream",
     "text": [
      "100%|██████████| 1/1 [00:00<00:00, 530.52it/s]\n",
      "124it [00:00, 217.24it/s]"
     ]
    },
    {
     "name": "stdout",
     "output_type": "stream",
     "text": [
      "2024-03-06 00:36:49,085 INFO {/home/ehdykhne/nuplan-devkit/nuplan/planning/script/builders/simulation_builder.py:184}  Created 2 modified scenarios from scenario with token: 46b0f246764053e8.\n"
     ]
    },
    {
     "name": "stderr",
     "output_type": "stream",
     "text": [
      "100%|██████████| 2/2 [00:00<00:00, 734.55it/s]\n",
      "124it [00:00, 217.24it/s]"
     ]
    },
    {
     "name": "stdout",
     "output_type": "stream",
     "text": [
      "2024-03-06 00:36:49,090 INFO {/home/ehdykhne/nuplan-devkit/nuplan/planning/script/builders/simulation_builder.py:184}  Created 2 modified scenarios from scenario with token: 4b170e32f5395f22.\n"
     ]
    },
    {
     "name": "stderr",
     "output_type": "stream",
     "text": [
      "100%|██████████| 2/2 [00:00<00:00, 763.43it/s]\n",
      "124it [00:00, 217.24it/s]"
     ]
    },
    {
     "name": "stdout",
     "output_type": "stream",
     "text": [
      "2024-03-06 00:36:49,096 INFO {/home/ehdykhne/nuplan-devkit/nuplan/planning/script/builders/simulation_builder.py:184}  Created 1 modified scenarios from scenario with token: 4bb3d62efd555aec.\n"
     ]
    },
    {
     "name": "stderr",
     "output_type": "stream",
     "text": [
      "100%|██████████| 1/1 [00:00<00:00, 653.62it/s]\n",
      "124it [00:00, 217.24it/s]"
     ]
    },
    {
     "name": "stdout",
     "output_type": "stream",
     "text": [
      "2024-03-06 00:36:49,100 INFO {/home/ehdykhne/nuplan-devkit/nuplan/planning/script/builders/simulation_builder.py:184}  Created 10 modified scenarios from scenario with token: 4d354b05fe6c5668.\n"
     ]
    },
    {
     "name": "stderr",
     "output_type": "stream",
     "text": [
      "100%|██████████| 10/10 [00:00<00:00, 837.04it/s]\n",
      "124it [00:00, 217.24it/s]"
     ]
    },
    {
     "name": "stdout",
     "output_type": "stream",
     "text": [
      "2024-03-06 00:36:49,115 INFO {/home/ehdykhne/nuplan-devkit/nuplan/planning/script/builders/simulation_builder.py:184}  Created 10 modified scenarios from scenario with token: 4de4f03ec8ac5b22.\n"
     ]
    },
    {
     "name": "stderr",
     "output_type": "stream",
     "text": [
      "100%|██████████| 10/10 [00:00<00:00, 841.57it/s]\n",
      "159it [00:00, 250.81it/s]"
     ]
    },
    {
     "name": "stdout",
     "output_type": "stream",
     "text": [
      "2024-03-06 00:36:49,130 INFO {/home/ehdykhne/nuplan-devkit/nuplan/planning/script/builders/simulation_builder.py:184}  Created 2 modified scenarios from scenario with token: 4f08b1e72b505e66.\n"
     ]
    },
    {
     "name": "stderr",
     "output_type": "stream",
     "text": [
      "100%|██████████| 2/2 [00:00<00:00, 734.23it/s]\n",
      "159it [00:00, 250.81it/s]"
     ]
    },
    {
     "name": "stdout",
     "output_type": "stream",
     "text": [
      "2024-03-06 00:36:49,135 INFO {/home/ehdykhne/nuplan-devkit/nuplan/planning/script/builders/simulation_builder.py:184}  Created 4 modified scenarios from scenario with token: 4fe0289baf5e5f07.\n"
     ]
    },
    {
     "name": "stderr",
     "output_type": "stream",
     "text": [
      "100%|██████████| 4/4 [00:00<00:00, 821.85it/s]\n",
      "159it [00:00, 250.81it/s]"
     ]
    },
    {
     "name": "stdout",
     "output_type": "stream",
     "text": [
      "2024-03-06 00:36:49,143 INFO {/home/ehdykhne/nuplan-devkit/nuplan/planning/script/builders/simulation_builder.py:184}  Created 1 modified scenarios from scenario with token: 550bb1760df3569b.\n"
     ]
    },
    {
     "name": "stderr",
     "output_type": "stream",
     "text": [
      "100%|██████████| 1/1 [00:00<00:00, 683.56it/s]\n",
      "159it [00:00, 250.81it/s]"
     ]
    },
    {
     "name": "stdout",
     "output_type": "stream",
     "text": [
      "2024-03-06 00:36:49,147 INFO {/home/ehdykhne/nuplan-devkit/nuplan/planning/script/builders/simulation_builder.py:184}  Created 5 modified scenarios from scenario with token: 56ac61be4b5d5b0f.\n"
     ]
    },
    {
     "name": "stderr",
     "output_type": "stream",
     "text": [
      "100%|██████████| 5/5 [00:00<00:00, 760.75it/s]\n",
      "159it [00:00, 250.81it/s]"
     ]
    },
    {
     "name": "stdout",
     "output_type": "stream",
     "text": [
      "2024-03-06 00:36:49,157 INFO {/home/ehdykhne/nuplan-devkit/nuplan/planning/script/builders/simulation_builder.py:184}  Created 9 modified scenarios from scenario with token: 57ca42e9a7095691.\n"
     ]
    },
    {
     "name": "stderr",
     "output_type": "stream",
     "text": [
      "100%|██████████| 9/9 [00:00<00:00, 833.75it/s]\n",
      "159it [00:00, 250.81it/s]"
     ]
    },
    {
     "name": "stdout",
     "output_type": "stream",
     "text": [
      "2024-03-06 00:36:49,171 INFO {/home/ehdykhne/nuplan-devkit/nuplan/planning/script/builders/simulation_builder.py:184}  Created 7 modified scenarios from scenario with token: 5954bd9e62795b0e.\n"
     ]
    },
    {
     "name": "stderr",
     "output_type": "stream",
     "text": [
      "100%|██████████| 7/7 [00:00<00:00, 846.24it/s]\n",
      "159it [00:00, 250.81it/s]"
     ]
    },
    {
     "name": "stdout",
     "output_type": "stream",
     "text": [
      "2024-03-06 00:36:49,182 INFO {/home/ehdykhne/nuplan-devkit/nuplan/planning/script/builders/simulation_builder.py:184}  Created 2 modified scenarios from scenario with token: 5b965f208a8a5c6c.\n"
     ]
    },
    {
     "name": "stderr",
     "output_type": "stream",
     "text": [
      "100%|██████████| 2/2 [00:00<00:00, 806.52it/s]\n",
      "159it [00:00, 250.81it/s]"
     ]
    },
    {
     "name": "stdout",
     "output_type": "stream",
     "text": [
      "2024-03-06 00:36:49,187 INFO {/home/ehdykhne/nuplan-devkit/nuplan/planning/script/builders/simulation_builder.py:184}  Created 15 modified scenarios from scenario with token: 5c49572d04685171.\n"
     ]
    },
    {
     "name": "stderr",
     "output_type": "stream",
     "text": [
      "100%|██████████| 15/15 [00:00<00:00, 812.34it/s]\n",
      "159it [00:00, 250.81it/s]"
     ]
    },
    {
     "name": "stdout",
     "output_type": "stream",
     "text": [
      "2024-03-06 00:36:49,208 INFO {/home/ehdykhne/nuplan-devkit/nuplan/planning/script/builders/simulation_builder.py:184}  Created 1 modified scenarios from scenario with token: 5d0a2d85408059a0.\n"
     ]
    },
    {
     "name": "stderr",
     "output_type": "stream",
     "text": [
      "100%|██████████| 1/1 [00:00<00:00, 656.39it/s]\n",
      "159it [00:00, 250.81it/s]"
     ]
    },
    {
     "name": "stdout",
     "output_type": "stream",
     "text": [
      "2024-03-06 00:36:49,213 INFO {/home/ehdykhne/nuplan-devkit/nuplan/planning/script/builders/simulation_builder.py:184}  Created 2 modified scenarios from scenario with token: 5dcfa71b73b35c83.\n"
     ]
    },
    {
     "name": "stderr",
     "output_type": "stream",
     "text": [
      "100%|██████████| 2/2 [00:00<00:00, 791.30it/s]\n",
      "159it [00:00, 250.81it/s]"
     ]
    },
    {
     "name": "stdout",
     "output_type": "stream",
     "text": [
      "2024-03-06 00:36:49,218 INFO {/home/ehdykhne/nuplan-devkit/nuplan/planning/script/builders/simulation_builder.py:184}  Created 3 modified scenarios from scenario with token: 5e41ac0fc6da55f4.\n"
     ]
    },
    {
     "name": "stderr",
     "output_type": "stream",
     "text": [
      "100%|██████████| 3/3 [00:00<00:00, 840.21it/s]\n",
      "159it [00:00, 250.81it/s]"
     ]
    },
    {
     "name": "stdout",
     "output_type": "stream",
     "text": [
      "2024-03-06 00:36:49,224 INFO {/home/ehdykhne/nuplan-devkit/nuplan/planning/script/builders/simulation_builder.py:184}  Created 1 modified scenarios from scenario with token: 5f19ed1bd1e056dd.\n"
     ]
    },
    {
     "name": "stderr",
     "output_type": "stream",
     "text": [
      "100%|██████████| 1/1 [00:00<00:00, 646.97it/s]\n",
      "159it [00:00, 250.81it/s]"
     ]
    },
    {
     "name": "stdout",
     "output_type": "stream",
     "text": [
      "2024-03-06 00:36:49,228 INFO {/home/ehdykhne/nuplan-devkit/nuplan/planning/script/builders/simulation_builder.py:184}  Created 1 modified scenarios from scenario with token: 60657629285c5714.\n"
     ]
    },
    {
     "name": "stderr",
     "output_type": "stream",
     "text": [
      "100%|██████████| 1/1 [00:00<00:00, 775.72it/s]\n",
      "195it [00:00, 279.87it/s]"
     ]
    },
    {
     "name": "stdout",
     "output_type": "stream",
     "text": [
      "2024-03-06 00:36:49,233 INFO {/home/ehdykhne/nuplan-devkit/nuplan/planning/script/builders/simulation_builder.py:184}  Created 4 modified scenarios from scenario with token: 639c28f726f45d52.\n"
     ]
    },
    {
     "name": "stderr",
     "output_type": "stream",
     "text": [
      "100%|██████████| 4/4 [00:00<00:00, 781.61it/s]\n",
      "195it [00:00, 279.87it/s]"
     ]
    },
    {
     "name": "stdout",
     "output_type": "stream",
     "text": [
      "2024-03-06 00:36:49,241 INFO {/home/ehdykhne/nuplan-devkit/nuplan/planning/script/builders/simulation_builder.py:184}  Created 4 modified scenarios from scenario with token: 646afdd7739d50aa.\n"
     ]
    },
    {
     "name": "stderr",
     "output_type": "stream",
     "text": [
      "100%|██████████| 4/4 [00:00<00:00, 753.49it/s]\n",
      "195it [00:00, 279.87it/s]"
     ]
    },
    {
     "name": "stdout",
     "output_type": "stream",
     "text": [
      "2024-03-06 00:36:49,249 INFO {/home/ehdykhne/nuplan-devkit/nuplan/planning/script/builders/simulation_builder.py:184}  Created 5 modified scenarios from scenario with token: 6807bf55df3154a3.\n"
     ]
    },
    {
     "name": "stderr",
     "output_type": "stream",
     "text": [
      "100%|██████████| 5/5 [00:00<00:00, 792.07it/s]\n",
      "195it [00:00, 279.87it/s]"
     ]
    },
    {
     "name": "stdout",
     "output_type": "stream",
     "text": [
      "2024-03-06 00:36:49,258 INFO {/home/ehdykhne/nuplan-devkit/nuplan/planning/script/builders/simulation_builder.py:184}  Created 4 modified scenarios from scenario with token: 6893d9de663b5445.\n"
     ]
    },
    {
     "name": "stderr",
     "output_type": "stream",
     "text": [
      "100%|██████████| 4/4 [00:00<00:00, 825.65it/s]\n",
      "195it [00:00, 279.87it/s]"
     ]
    },
    {
     "name": "stdout",
     "output_type": "stream",
     "text": [
      "2024-03-06 00:36:49,266 INFO {/home/ehdykhne/nuplan-devkit/nuplan/planning/script/builders/simulation_builder.py:184}  Created 5 modified scenarios from scenario with token: 6ab84d498ebe5d74.\n"
     ]
    },
    {
     "name": "stderr",
     "output_type": "stream",
     "text": [
      "100%|██████████| 5/5 [00:00<00:00, 788.73it/s]\n",
      "195it [00:00, 279.87it/s]"
     ]
    },
    {
     "name": "stdout",
     "output_type": "stream",
     "text": [
      "2024-03-06 00:36:49,275 INFO {/home/ehdykhne/nuplan-devkit/nuplan/planning/script/builders/simulation_builder.py:184}  Created 2 modified scenarios from scenario with token: 6c20015563bc5011.\n"
     ]
    },
    {
     "name": "stderr",
     "output_type": "stream",
     "text": [
      "100%|██████████| 2/2 [00:00<00:00, 690.76it/s]\n",
      "195it [00:00, 279.87it/s]"
     ]
    },
    {
     "name": "stdout",
     "output_type": "stream",
     "text": [
      "2024-03-06 00:36:49,281 INFO {/home/ehdykhne/nuplan-devkit/nuplan/planning/script/builders/simulation_builder.py:184}  Created 4 modified scenarios from scenario with token: 700331f835395505.\n"
     ]
    },
    {
     "name": "stderr",
     "output_type": "stream",
     "text": [
      "100%|██████████| 4/4 [00:00<00:00, 716.06it/s]\n",
      "195it [00:00, 279.87it/s]"
     ]
    },
    {
     "name": "stdout",
     "output_type": "stream",
     "text": [
      "2024-03-06 00:36:49,289 INFO {/home/ehdykhne/nuplan-devkit/nuplan/planning/script/builders/simulation_builder.py:184}  Created 8 modified scenarios from scenario with token: 70422d0fa90d576c.\n"
     ]
    },
    {
     "name": "stderr",
     "output_type": "stream",
     "text": [
      "100%|██████████| 8/8 [00:00<00:00, 758.82it/s]\n",
      "195it [00:00, 279.87it/s]"
     ]
    },
    {
     "name": "stdout",
     "output_type": "stream",
     "text": [
      "2024-03-06 00:36:49,303 INFO {/home/ehdykhne/nuplan-devkit/nuplan/planning/script/builders/simulation_builder.py:184}  Created 29 modified scenarios from scenario with token: 70c382ad73d25fab.\n"
     ]
    },
    {
     "name": "stderr",
     "output_type": "stream",
     "text": [
      "100%|██████████| 29/29 [00:00<00:00, 814.35it/s]\n",
      "231it [00:00, 295.51it/s]"
     ]
    },
    {
     "name": "stdout",
     "output_type": "stream",
     "text": [
      "2024-03-06 00:36:49,342 INFO {/home/ehdykhne/nuplan-devkit/nuplan/planning/script/builders/simulation_builder.py:184}  Created 4 modified scenarios from scenario with token: 720a01729e595780.\n"
     ]
    },
    {
     "name": "stderr",
     "output_type": "stream",
     "text": [
      "100%|██████████| 4/4 [00:00<00:00, 808.07it/s]\n",
      "231it [00:00, 295.51it/s]"
     ]
    },
    {
     "name": "stdout",
     "output_type": "stream",
     "text": [
      "2024-03-06 00:36:49,350 INFO {/home/ehdykhne/nuplan-devkit/nuplan/planning/script/builders/simulation_builder.py:184}  Created 2 modified scenarios from scenario with token: 75905b3d33c35de4.\n"
     ]
    },
    {
     "name": "stderr",
     "output_type": "stream",
     "text": [
      "100%|██████████| 2/2 [00:00<00:00, 812.30it/s]\n",
      "231it [00:00, 295.51it/s]"
     ]
    },
    {
     "name": "stdout",
     "output_type": "stream",
     "text": [
      "2024-03-06 00:36:49,355 INFO {/home/ehdykhne/nuplan-devkit/nuplan/planning/script/builders/simulation_builder.py:184}  Created 9 modified scenarios from scenario with token: 760f8c7570d455a1.\n"
     ]
    },
    {
     "name": "stderr",
     "output_type": "stream",
     "text": [
      "100%|██████████| 9/9 [00:00<00:00, 803.56it/s]\n",
      "231it [00:00, 295.51it/s]"
     ]
    },
    {
     "name": "stdout",
     "output_type": "stream",
     "text": [
      "2024-03-06 00:36:49,369 INFO {/home/ehdykhne/nuplan-devkit/nuplan/planning/script/builders/simulation_builder.py:184}  Created 3 modified scenarios from scenario with token: 76190a69629d51b3.\n"
     ]
    },
    {
     "name": "stderr",
     "output_type": "stream",
     "text": [
      "100%|██████████| 3/3 [00:00<00:00, 780.87it/s]\n",
      "231it [00:00, 295.51it/s]"
     ]
    },
    {
     "name": "stdout",
     "output_type": "stream",
     "text": [
      "2024-03-06 00:36:49,376 INFO {/home/ehdykhne/nuplan-devkit/nuplan/planning/script/builders/simulation_builder.py:184}  Created 6 modified scenarios from scenario with token: 77c08fc8149f54e1.\n"
     ]
    },
    {
     "name": "stderr",
     "output_type": "stream",
     "text": [
      "100%|██████████| 6/6 [00:00<00:00, 810.96it/s]\n",
      "231it [00:00, 295.51it/s]"
     ]
    },
    {
     "name": "stdout",
     "output_type": "stream",
     "text": [
      "2024-03-06 00:36:49,386 INFO {/home/ehdykhne/nuplan-devkit/nuplan/planning/script/builders/simulation_builder.py:184}  Created 7 modified scenarios from scenario with token: 7bbd685f3c425b6d.\n"
     ]
    },
    {
     "name": "stderr",
     "output_type": "stream",
     "text": [
      "100%|██████████| 7/7 [00:00<00:00, 813.01it/s]\n",
      "231it [00:00, 295.51it/s]"
     ]
    },
    {
     "name": "stdout",
     "output_type": "stream",
     "text": [
      "2024-03-06 00:36:49,397 INFO {/home/ehdykhne/nuplan-devkit/nuplan/planning/script/builders/simulation_builder.py:184}  Created 3 modified scenarios from scenario with token: 7c4a4b4f060551d9.\n"
     ]
    },
    {
     "name": "stderr",
     "output_type": "stream",
     "text": [
      "100%|██████████| 3/3 [00:00<00:00, 681.89it/s]\n",
      "231it [00:00, 295.51it/s]"
     ]
    },
    {
     "name": "stdout",
     "output_type": "stream",
     "text": [
      "2024-03-06 00:36:49,404 INFO {/home/ehdykhne/nuplan-devkit/nuplan/planning/script/builders/simulation_builder.py:184}  Created 15 modified scenarios from scenario with token: 7c5b326ec9ec5bfe.\n"
     ]
    },
    {
     "name": "stderr",
     "output_type": "stream",
     "text": [
      "100%|██████████| 15/15 [00:00<00:00, 818.24it/s]\n",
      "231it [00:01, 295.51it/s]"
     ]
    },
    {
     "name": "stdout",
     "output_type": "stream",
     "text": [
      "2024-03-06 00:36:49,426 INFO {/home/ehdykhne/nuplan-devkit/nuplan/planning/script/builders/simulation_builder.py:184}  Created 7 modified scenarios from scenario with token: 7e606542d9565b11.\n"
     ]
    },
    {
     "name": "stderr",
     "output_type": "stream",
     "text": [
      "100%|██████████| 7/7 [00:00<00:00, 837.90it/s]\n",
      "231it [00:01, 295.51it/s]"
     ]
    },
    {
     "name": "stdout",
     "output_type": "stream",
     "text": [
      "2024-03-06 00:36:49,437 INFO {/home/ehdykhne/nuplan-devkit/nuplan/planning/script/builders/simulation_builder.py:184}  Created 6 modified scenarios from scenario with token: 7f6d0756bc175a6b.\n"
     ]
    },
    {
     "name": "stderr",
     "output_type": "stream",
     "text": [
      "100%|██████████| 6/6 [00:00<00:00, 789.44it/s]\n",
      "231it [00:01, 295.51it/s]"
     ]
    },
    {
     "name": "stdout",
     "output_type": "stream",
     "text": [
      "2024-03-06 00:36:49,447 INFO {/home/ehdykhne/nuplan-devkit/nuplan/planning/script/builders/simulation_builder.py:184}  Created 8 modified scenarios from scenario with token: 81079a3f37ad5c9b.\n"
     ]
    },
    {
     "name": "stderr",
     "output_type": "stream",
     "text": [
      "100%|██████████| 8/8 [00:00<00:00, 800.90it/s]\n",
      "231it [00:01, 295.51it/s]"
     ]
    },
    {
     "name": "stdout",
     "output_type": "stream",
     "text": [
      "2024-03-06 00:36:49,460 INFO {/home/ehdykhne/nuplan-devkit/nuplan/planning/script/builders/simulation_builder.py:184}  Created 3 modified scenarios from scenario with token: 81276a47415e59ab.\n"
     ]
    },
    {
     "name": "stderr",
     "output_type": "stream",
     "text": [
      "100%|██████████| 3/3 [00:00<00:00, 706.03it/s]\n",
      "231it [00:01, 295.51it/s]"
     ]
    },
    {
     "name": "stdout",
     "output_type": "stream",
     "text": [
      "2024-03-06 00:36:49,467 INFO {/home/ehdykhne/nuplan-devkit/nuplan/planning/script/builders/simulation_builder.py:184}  Created 3 modified scenarios from scenario with token: 822d0ceef49b5023.\n"
     ]
    },
    {
     "name": "stderr",
     "output_type": "stream",
     "text": [
      "100%|██████████| 3/3 [00:00<00:00, 786.78it/s]\n",
      "263it [00:01, 276.57it/s]"
     ]
    },
    {
     "name": "stdout",
     "output_type": "stream",
     "text": [
      "2024-03-06 00:36:49,475 INFO {/home/ehdykhne/nuplan-devkit/nuplan/planning/script/builders/simulation_builder.py:184}  Created 8 modified scenarios from scenario with token: 83ffa69916295e18.\n"
     ]
    },
    {
     "name": "stderr",
     "output_type": "stream",
     "text": [
      "100%|██████████| 8/8 [00:00<00:00, 802.56it/s]\n",
      "263it [00:01, 276.57it/s]"
     ]
    },
    {
     "name": "stdout",
     "output_type": "stream",
     "text": [
      "2024-03-06 00:36:49,487 INFO {/home/ehdykhne/nuplan-devkit/nuplan/planning/script/builders/simulation_builder.py:184}  Created 5 modified scenarios from scenario with token: 853249f842455a4f.\n"
     ]
    },
    {
     "name": "stderr",
     "output_type": "stream",
     "text": [
      "100%|██████████| 5/5 [00:00<00:00, 808.40it/s]\n",
      "263it [00:01, 276.57it/s]"
     ]
    },
    {
     "name": "stdout",
     "output_type": "stream",
     "text": [
      "2024-03-06 00:36:49,497 INFO {/home/ehdykhne/nuplan-devkit/nuplan/planning/script/builders/simulation_builder.py:184}  Created 7 modified scenarios from scenario with token: 86e90694334d50a8.\n"
     ]
    },
    {
     "name": "stderr",
     "output_type": "stream",
     "text": [
      "100%|██████████| 7/7 [00:00<00:00, 804.61it/s]\n",
      "263it [00:01, 276.57it/s]"
     ]
    },
    {
     "name": "stdout",
     "output_type": "stream",
     "text": [
      "2024-03-06 00:36:49,508 INFO {/home/ehdykhne/nuplan-devkit/nuplan/planning/script/builders/simulation_builder.py:184}  Created 3 modified scenarios from scenario with token: 8a1f98f89e825c6e.\n"
     ]
    },
    {
     "name": "stderr",
     "output_type": "stream",
     "text": [
      "100%|██████████| 3/3 [00:00<00:00, 747.96it/s]\n",
      "263it [00:01, 276.57it/s]"
     ]
    },
    {
     "name": "stdout",
     "output_type": "stream",
     "text": [
      "2024-03-06 00:36:49,515 INFO {/home/ehdykhne/nuplan-devkit/nuplan/planning/script/builders/simulation_builder.py:184}  Created 8 modified scenarios from scenario with token: 8f7146c52287508b.\n"
     ]
    },
    {
     "name": "stderr",
     "output_type": "stream",
     "text": [
      "100%|██████████| 8/8 [00:00<00:00, 795.60it/s]\n",
      "263it [00:01, 276.57it/s]"
     ]
    },
    {
     "name": "stdout",
     "output_type": "stream",
     "text": [
      "2024-03-06 00:36:49,528 INFO {/home/ehdykhne/nuplan-devkit/nuplan/planning/script/builders/simulation_builder.py:184}  Created 11 modified scenarios from scenario with token: 908da0165fd1586b.\n"
     ]
    },
    {
     "name": "stderr",
     "output_type": "stream",
     "text": [
      "100%|██████████| 11/11 [00:00<00:00, 830.60it/s]\n",
      "263it [00:01, 276.57it/s]"
     ]
    },
    {
     "name": "stdout",
     "output_type": "stream",
     "text": [
      "2024-03-06 00:36:49,544 INFO {/home/ehdykhne/nuplan-devkit/nuplan/planning/script/builders/simulation_builder.py:184}  Created 2 modified scenarios from scenario with token: 90d9dad035075ecf.\n"
     ]
    },
    {
     "name": "stderr",
     "output_type": "stream",
     "text": [
      "100%|██████████| 2/2 [00:00<00:00, 764.69it/s]\n",
      "263it [00:01, 276.57it/s]"
     ]
    },
    {
     "name": "stdout",
     "output_type": "stream",
     "text": [
      "2024-03-06 00:36:49,550 INFO {/home/ehdykhne/nuplan-devkit/nuplan/planning/script/builders/simulation_builder.py:184}  Created 3 modified scenarios from scenario with token: 91afa2d80fde53b4.\n"
     ]
    },
    {
     "name": "stderr",
     "output_type": "stream",
     "text": [
      "100%|██████████| 3/3 [00:00<00:00, 771.15it/s]\n",
      "263it [00:01, 276.57it/s]"
     ]
    },
    {
     "name": "stdout",
     "output_type": "stream",
     "text": [
      "2024-03-06 00:36:49,557 INFO {/home/ehdykhne/nuplan-devkit/nuplan/planning/script/builders/simulation_builder.py:184}  Created 2 modified scenarios from scenario with token: 9356a1035feb5b19.\n"
     ]
    },
    {
     "name": "stderr",
     "output_type": "stream",
     "text": [
      "100%|██████████| 2/2 [00:00<00:00, 800.90it/s]\n",
      "263it [00:01, 276.57it/s]"
     ]
    },
    {
     "name": "stdout",
     "output_type": "stream",
     "text": [
      "2024-03-06 00:36:49,562 INFO {/home/ehdykhne/nuplan-devkit/nuplan/planning/script/builders/simulation_builder.py:184}  Created 2 modified scenarios from scenario with token: 9423ec93576b582c.\n"
     ]
    },
    {
     "name": "stderr",
     "output_type": "stream",
     "text": [
      "100%|██████████| 2/2 [00:00<00:00, 794.45it/s]\n",
      "263it [00:01, 276.57it/s]"
     ]
    },
    {
     "name": "stdout",
     "output_type": "stream",
     "text": [
      "2024-03-06 00:36:49,567 INFO {/home/ehdykhne/nuplan-devkit/nuplan/planning/script/builders/simulation_builder.py:184}  Created 7 modified scenarios from scenario with token: 96038fc668ea5205.\n"
     ]
    },
    {
     "name": "stderr",
     "output_type": "stream",
     "text": [
      "100%|██████████| 7/7 [00:00<00:00, 816.28it/s]\n",
      "297it [00:01, 290.52it/s]"
     ]
    },
    {
     "name": "stdout",
     "output_type": "stream",
     "text": [
      "2024-03-06 00:36:49,579 INFO {/home/ehdykhne/nuplan-devkit/nuplan/planning/script/builders/simulation_builder.py:184}  Created 4 modified scenarios from scenario with token: 9909b0ccfeb15078.\n"
     ]
    },
    {
     "name": "stderr",
     "output_type": "stream",
     "text": [
      "100%|██████████| 4/4 [00:00<00:00, 756.86it/s]\n",
      "297it [00:01, 290.52it/s]"
     ]
    },
    {
     "name": "stdout",
     "output_type": "stream",
     "text": [
      "2024-03-06 00:36:49,587 INFO {/home/ehdykhne/nuplan-devkit/nuplan/planning/script/builders/simulation_builder.py:184}  Created 4 modified scenarios from scenario with token: 9a310944423c5d7f.\n"
     ]
    },
    {
     "name": "stderr",
     "output_type": "stream",
     "text": [
      "100%|██████████| 4/4 [00:00<00:00, 746.12it/s]\n",
      "297it [00:01, 290.52it/s]"
     ]
    },
    {
     "name": "stdout",
     "output_type": "stream",
     "text": [
      "2024-03-06 00:36:49,595 INFO {/home/ehdykhne/nuplan-devkit/nuplan/planning/script/builders/simulation_builder.py:184}  Created 13 modified scenarios from scenario with token: 9ac6194e12e25835.\n"
     ]
    },
    {
     "name": "stderr",
     "output_type": "stream",
     "text": [
      "100%|██████████| 13/13 [00:00<00:00, 849.04it/s]\n",
      "297it [00:01, 290.52it/s]"
     ]
    },
    {
     "name": "stdout",
     "output_type": "stream",
     "text": [
      "2024-03-06 00:36:49,614 INFO {/home/ehdykhne/nuplan-devkit/nuplan/planning/script/builders/simulation_builder.py:184}  Created 1 modified scenarios from scenario with token: 9ad3c2d57e005f33.\n"
     ]
    },
    {
     "name": "stderr",
     "output_type": "stream",
     "text": [
      "100%|██████████| 1/1 [00:00<00:00, 672.81it/s]\n",
      "297it [00:01, 290.52it/s]"
     ]
    },
    {
     "name": "stdout",
     "output_type": "stream",
     "text": [
      "2024-03-06 00:36:49,618 INFO {/home/ehdykhne/nuplan-devkit/nuplan/planning/script/builders/simulation_builder.py:184}  Created 6 modified scenarios from scenario with token: 9ec33118c20755c3.\n"
     ]
    },
    {
     "name": "stderr",
     "output_type": "stream",
     "text": [
      "100%|██████████| 6/6 [00:00<00:00, 831.46it/s]\n",
      "297it [00:01, 290.52it/s]"
     ]
    },
    {
     "name": "stdout",
     "output_type": "stream",
     "text": [
      "2024-03-06 00:36:49,628 INFO {/home/ehdykhne/nuplan-devkit/nuplan/planning/script/builders/simulation_builder.py:184}  Created 3 modified scenarios from scenario with token: a02ec8ca7e0d59a7.\n"
     ]
    },
    {
     "name": "stderr",
     "output_type": "stream",
     "text": [
      "100%|██████████| 3/3 [00:00<00:00, 805.87it/s]\n",
      "297it [00:01, 290.52it/s]"
     ]
    },
    {
     "name": "stdout",
     "output_type": "stream",
     "text": [
      "2024-03-06 00:36:49,635 INFO {/home/ehdykhne/nuplan-devkit/nuplan/planning/script/builders/simulation_builder.py:184}  Created 5 modified scenarios from scenario with token: a084043f65845427.\n"
     ]
    },
    {
     "name": "stderr",
     "output_type": "stream",
     "text": [
      "100%|██████████| 5/5 [00:00<00:00, 815.09it/s]\n",
      "297it [00:01, 290.52it/s]"
     ]
    },
    {
     "name": "stdout",
     "output_type": "stream",
     "text": [
      "2024-03-06 00:36:49,644 INFO {/home/ehdykhne/nuplan-devkit/nuplan/planning/script/builders/simulation_builder.py:184}  Created 23 modified scenarios from scenario with token: a1c624f373555774.\n"
     ]
    },
    {
     "name": "stderr",
     "output_type": "stream",
     "text": [
      "100%|██████████| 23/23 [00:00<00:00, 817.26it/s]\n",
      "297it [00:01, 290.52it/s]"
     ]
    },
    {
     "name": "stdout",
     "output_type": "stream",
     "text": [
      "2024-03-06 00:36:49,675 INFO {/home/ehdykhne/nuplan-devkit/nuplan/planning/script/builders/simulation_builder.py:184}  Created 6 modified scenarios from scenario with token: a4e3c68261d25f32.\n"
     ]
    },
    {
     "name": "stderr",
     "output_type": "stream",
     "text": [
      "100%|██████████| 6/6 [00:00<00:00, 836.32it/s]\n",
      "331it [00:01, 298.78it/s]"
     ]
    },
    {
     "name": "stdout",
     "output_type": "stream",
     "text": [
      "2024-03-06 00:36:49,685 INFO {/home/ehdykhne/nuplan-devkit/nuplan/planning/script/builders/simulation_builder.py:184}  Created 5 modified scenarios from scenario with token: a4e69b0ef06a5b4c.\n"
     ]
    },
    {
     "name": "stderr",
     "output_type": "stream",
     "text": [
      "100%|██████████| 5/5 [00:00<00:00, 820.58it/s]\n",
      "331it [00:01, 298.78it/s]"
     ]
    },
    {
     "name": "stdout",
     "output_type": "stream",
     "text": [
      "2024-03-06 00:36:49,694 INFO {/home/ehdykhne/nuplan-devkit/nuplan/planning/script/builders/simulation_builder.py:184}  Created 11 modified scenarios from scenario with token: ac4c89ba8c2b5b0c.\n"
     ]
    },
    {
     "name": "stderr",
     "output_type": "stream",
     "text": [
      "100%|██████████| 11/11 [00:00<00:00, 782.09it/s]\n",
      "331it [00:01, 298.78it/s]"
     ]
    },
    {
     "name": "stdout",
     "output_type": "stream",
     "text": [
      "2024-03-06 00:36:49,711 INFO {/home/ehdykhne/nuplan-devkit/nuplan/planning/script/builders/simulation_builder.py:184}  Created 3 modified scenarios from scenario with token: acfff12449da5aa3.\n"
     ]
    },
    {
     "name": "stderr",
     "output_type": "stream",
     "text": [
      "100%|██████████| 3/3 [00:00<00:00, 770.35it/s]\n",
      "331it [00:01, 298.78it/s]"
     ]
    },
    {
     "name": "stdout",
     "output_type": "stream",
     "text": [
      "2024-03-06 00:36:49,718 INFO {/home/ehdykhne/nuplan-devkit/nuplan/planning/script/builders/simulation_builder.py:184}  Created 8 modified scenarios from scenario with token: aedee1fe96f75749.\n"
     ]
    },
    {
     "name": "stderr",
     "output_type": "stream",
     "text": [
      "100%|██████████| 8/8 [00:00<00:00, 825.18it/s]\n",
      "331it [00:01, 298.78it/s]"
     ]
    },
    {
     "name": "stdout",
     "output_type": "stream",
     "text": [
      "2024-03-06 00:36:49,730 INFO {/home/ehdykhne/nuplan-devkit/nuplan/planning/script/builders/simulation_builder.py:184}  Created 9 modified scenarios from scenario with token: b0f1f9c7df885081.\n"
     ]
    },
    {
     "name": "stderr",
     "output_type": "stream",
     "text": [
      "100%|██████████| 9/9 [00:00<00:00, 842.08it/s]\n",
      "331it [00:01, 298.78it/s]"
     ]
    },
    {
     "name": "stdout",
     "output_type": "stream",
     "text": [
      "2024-03-06 00:36:49,744 INFO {/home/ehdykhne/nuplan-devkit/nuplan/planning/script/builders/simulation_builder.py:184}  Created 3 modified scenarios from scenario with token: b11f51a1ab465c72.\n"
     ]
    },
    {
     "name": "stderr",
     "output_type": "stream",
     "text": [
      "100%|██████████| 3/3 [00:00<00:00, 778.79it/s]\n",
      "331it [00:01, 298.78it/s]"
     ]
    },
    {
     "name": "stdout",
     "output_type": "stream",
     "text": [
      "2024-03-06 00:36:49,750 INFO {/home/ehdykhne/nuplan-devkit/nuplan/planning/script/builders/simulation_builder.py:184}  Created 2 modified scenarios from scenario with token: b21304cfec325275.\n"
     ]
    },
    {
     "name": "stderr",
     "output_type": "stream",
     "text": [
      "100%|██████████| 2/2 [00:00<00:00, 725.28it/s]\n",
      "331it [00:01, 298.78it/s]"
     ]
    },
    {
     "name": "stdout",
     "output_type": "stream",
     "text": [
      "2024-03-06 00:36:49,756 INFO {/home/ehdykhne/nuplan-devkit/nuplan/planning/script/builders/simulation_builder.py:184}  Created 26 modified scenarios from scenario with token: b4c490ab6cac5c87.\n"
     ]
    },
    {
     "name": "stderr",
     "output_type": "stream",
     "text": [
      "100%|██████████| 26/26 [00:00<00:00, 832.10it/s]\n",
      "362it [00:01, 297.93it/s]"
     ]
    },
    {
     "name": "stdout",
     "output_type": "stream",
     "text": [
      "2024-03-06 00:36:49,790 INFO {/home/ehdykhne/nuplan-devkit/nuplan/planning/script/builders/simulation_builder.py:184}  Created 6 modified scenarios from scenario with token: b614c9a79df55edb.\n"
     ]
    },
    {
     "name": "stderr",
     "output_type": "stream",
     "text": [
      "100%|██████████| 6/6 [00:00<00:00, 730.08it/s]\n",
      "362it [00:01, 297.93it/s]"
     ]
    },
    {
     "name": "stdout",
     "output_type": "stream",
     "text": [
      "2024-03-06 00:36:49,801 INFO {/home/ehdykhne/nuplan-devkit/nuplan/planning/script/builders/simulation_builder.py:184}  Created 2 modified scenarios from scenario with token: b757ae920f6e560a.\n"
     ]
    },
    {
     "name": "stderr",
     "output_type": "stream",
     "text": [
      "100%|██████████| 2/2 [00:00<00:00, 768.26it/s]\n",
      "362it [00:01, 297.93it/s]"
     ]
    },
    {
     "name": "stdout",
     "output_type": "stream",
     "text": [
      "2024-03-06 00:36:49,806 INFO {/home/ehdykhne/nuplan-devkit/nuplan/planning/script/builders/simulation_builder.py:184}  Created 10 modified scenarios from scenario with token: b8a56a83fb3654b1.\n"
     ]
    },
    {
     "name": "stderr",
     "output_type": "stream",
     "text": [
      "100%|██████████| 10/10 [00:00<00:00, 840.83it/s]\n",
      "362it [00:01, 297.93it/s]"
     ]
    },
    {
     "name": "stdout",
     "output_type": "stream",
     "text": [
      "2024-03-06 00:36:49,821 INFO {/home/ehdykhne/nuplan-devkit/nuplan/planning/script/builders/simulation_builder.py:184}  Created 1 modified scenarios from scenario with token: baa3bd607325585e.\n"
     ]
    },
    {
     "name": "stderr",
     "output_type": "stream",
     "text": [
      "100%|██████████| 1/1 [00:00<00:00, 741.17it/s]\n",
      "362it [00:01, 297.93it/s]"
     ]
    },
    {
     "name": "stdout",
     "output_type": "stream",
     "text": [
      "2024-03-06 00:36:49,825 INFO {/home/ehdykhne/nuplan-devkit/nuplan/planning/script/builders/simulation_builder.py:184}  Created 4 modified scenarios from scenario with token: bb22ded9eacf5f3b.\n"
     ]
    },
    {
     "name": "stderr",
     "output_type": "stream",
     "text": [
      "100%|██████████| 4/4 [00:00<00:00, 847.59it/s]\n",
      "362it [00:01, 297.93it/s]"
     ]
    },
    {
     "name": "stdout",
     "output_type": "stream",
     "text": [
      "2024-03-06 00:36:49,833 INFO {/home/ehdykhne/nuplan-devkit/nuplan/planning/script/builders/simulation_builder.py:184}  Created 12 modified scenarios from scenario with token: bd4d7c492bb154d9.\n"
     ]
    },
    {
     "name": "stderr",
     "output_type": "stream",
     "text": [
      "100%|██████████| 12/12 [00:00<00:00, 834.26it/s]\n",
      "362it [00:01, 297.93it/s]"
     ]
    },
    {
     "name": "stdout",
     "output_type": "stream",
     "text": [
      "2024-03-06 00:36:49,850 INFO {/home/ehdykhne/nuplan-devkit/nuplan/planning/script/builders/simulation_builder.py:184}  Created 4 modified scenarios from scenario with token: bdf5196a742a596b.\n"
     ]
    },
    {
     "name": "stderr",
     "output_type": "stream",
     "text": [
      "100%|██████████| 4/4 [00:00<00:00, 745.19it/s]\n",
      "362it [00:01, 297.93it/s]"
     ]
    },
    {
     "name": "stdout",
     "output_type": "stream",
     "text": [
      "2024-03-06 00:36:49,859 INFO {/home/ehdykhne/nuplan-devkit/nuplan/planning/script/builders/simulation_builder.py:184}  Created 6 modified scenarios from scenario with token: bf47987224ba5cc0.\n"
     ]
    },
    {
     "name": "stderr",
     "output_type": "stream",
     "text": [
      "100%|██████████| 6/6 [00:00<00:00, 775.93it/s]\n",
      "362it [00:01, 297.93it/s]"
     ]
    },
    {
     "name": "stdout",
     "output_type": "stream",
     "text": [
      "2024-03-06 00:36:49,870 INFO {/home/ehdykhne/nuplan-devkit/nuplan/planning/script/builders/simulation_builder.py:184}  Created 3 modified scenarios from scenario with token: c559b4efaea35195.\n"
     ]
    },
    {
     "name": "stderr",
     "output_type": "stream",
     "text": [
      "100%|██████████| 3/3 [00:00<00:00, 798.21it/s]\n",
      "362it [00:01, 297.93it/s]"
     ]
    },
    {
     "name": "stdout",
     "output_type": "stream",
     "text": [
      "2024-03-06 00:36:49,877 INFO {/home/ehdykhne/nuplan-devkit/nuplan/planning/script/builders/simulation_builder.py:184}  Created 2 modified scenarios from scenario with token: c6aad7e45b5b55e9.\n"
     ]
    },
    {
     "name": "stderr",
     "output_type": "stream",
     "text": [
      "100%|██████████| 2/2 [00:00<00:00, 788.92it/s]\n",
      "362it [00:01, 297.93it/s]"
     ]
    },
    {
     "name": "stdout",
     "output_type": "stream",
     "text": [
      "2024-03-06 00:36:49,884 INFO {/home/ehdykhne/nuplan-devkit/nuplan/planning/script/builders/simulation_builder.py:184}  Created 7 modified scenarios from scenario with token: c787c6f2ec995212.\n"
     ]
    },
    {
     "name": "stderr",
     "output_type": "stream",
     "text": [
      "100%|██████████| 7/7 [00:00<00:00, 724.08it/s]\n",
      "362it [00:01, 297.93it/s]"
     ]
    },
    {
     "name": "stdout",
     "output_type": "stream",
     "text": [
      "2024-03-06 00:36:49,897 INFO {/home/ehdykhne/nuplan-devkit/nuplan/planning/script/builders/simulation_builder.py:184}  Created 4 modified scenarios from scenario with token: c78a8da4025d5cae.\n"
     ]
    },
    {
     "name": "stderr",
     "output_type": "stream",
     "text": [
      "100%|██████████| 4/4 [00:00<00:00, 827.93it/s]\n",
      "393it [00:01, 288.69it/s]"
     ]
    },
    {
     "name": "stdout",
     "output_type": "stream",
     "text": [
      "2024-03-06 00:36:49,906 INFO {/home/ehdykhne/nuplan-devkit/nuplan/planning/script/builders/simulation_builder.py:184}  Created 4 modified scenarios from scenario with token: c8fe55cc7464583f.\n"
     ]
    },
    {
     "name": "stderr",
     "output_type": "stream",
     "text": [
      "100%|██████████| 4/4 [00:00<00:00, 823.30it/s]\n",
      "393it [00:01, 288.69it/s]"
     ]
    },
    {
     "name": "stdout",
     "output_type": "stream",
     "text": [
      "2024-03-06 00:36:49,914 INFO {/home/ehdykhne/nuplan-devkit/nuplan/planning/script/builders/simulation_builder.py:184}  Created 2 modified scenarios from scenario with token: c95e2ec60b9353e5.\n"
     ]
    },
    {
     "name": "stderr",
     "output_type": "stream",
     "text": [
      "100%|██████████| 2/2 [00:00<00:00, 758.05it/s]\n",
      "393it [00:01, 288.69it/s]"
     ]
    },
    {
     "name": "stdout",
     "output_type": "stream",
     "text": [
      "2024-03-06 00:36:49,920 INFO {/home/ehdykhne/nuplan-devkit/nuplan/planning/script/builders/simulation_builder.py:184}  Created 17 modified scenarios from scenario with token: ccf23a9288075b08.\n"
     ]
    },
    {
     "name": "stderr",
     "output_type": "stream",
     "text": [
      "100%|██████████| 17/17 [00:00<00:00, 822.89it/s]\n",
      "393it [00:01, 288.69it/s]"
     ]
    },
    {
     "name": "stdout",
     "output_type": "stream",
     "text": [
      "2024-03-06 00:36:49,943 INFO {/home/ehdykhne/nuplan-devkit/nuplan/planning/script/builders/simulation_builder.py:184}  Created 2 modified scenarios from scenario with token: d12e218476cc5499.\n"
     ]
    },
    {
     "name": "stderr",
     "output_type": "stream",
     "text": [
      "100%|██████████| 2/2 [00:00<00:00, 808.00it/s]\n",
      "393it [00:01, 288.69it/s]"
     ]
    },
    {
     "name": "stdout",
     "output_type": "stream",
     "text": [
      "2024-03-06 00:36:49,949 INFO {/home/ehdykhne/nuplan-devkit/nuplan/planning/script/builders/simulation_builder.py:184}  Created 4 modified scenarios from scenario with token: d22001977f905450.\n"
     ]
    },
    {
     "name": "stderr",
     "output_type": "stream",
     "text": [
      "100%|██████████| 4/4 [00:00<00:00, 753.42it/s]\n",
      "393it [00:01, 288.69it/s]"
     ]
    },
    {
     "name": "stdout",
     "output_type": "stream",
     "text": [
      "2024-03-06 00:36:49,957 INFO {/home/ehdykhne/nuplan-devkit/nuplan/planning/script/builders/simulation_builder.py:184}  Created 4 modified scenarios from scenario with token: d40b0d1af9d05ddd.\n"
     ]
    },
    {
     "name": "stderr",
     "output_type": "stream",
     "text": [
      "100%|██████████| 4/4 [00:00<00:00, 846.01it/s]\n",
      "393it [00:01, 288.69it/s]"
     ]
    },
    {
     "name": "stdout",
     "output_type": "stream",
     "text": [
      "2024-03-06 00:36:49,965 INFO {/home/ehdykhne/nuplan-devkit/nuplan/planning/script/builders/simulation_builder.py:184}  Created 3 modified scenarios from scenario with token: d447c5d144ba546c.\n"
     ]
    },
    {
     "name": "stderr",
     "output_type": "stream",
     "text": [
      "100%|██████████| 3/3 [00:00<00:00, 822.04it/s]\n",
      "393it [00:01, 288.69it/s]"
     ]
    },
    {
     "name": "stdout",
     "output_type": "stream",
     "text": [
      "2024-03-06 00:36:49,972 INFO {/home/ehdykhne/nuplan-devkit/nuplan/planning/script/builders/simulation_builder.py:184}  Created 8 modified scenarios from scenario with token: d473e91962e5502c.\n"
     ]
    },
    {
     "name": "stderr",
     "output_type": "stream",
     "text": [
      "100%|██████████| 8/8 [00:00<00:00, 840.48it/s]\n",
      "393it [00:01, 288.69it/s]"
     ]
    },
    {
     "name": "stdout",
     "output_type": "stream",
     "text": [
      "2024-03-06 00:36:49,984 INFO {/home/ehdykhne/nuplan-devkit/nuplan/planning/script/builders/simulation_builder.py:184}  Created 3 modified scenarios from scenario with token: d6c152b610ed5fa4.\n"
     ]
    },
    {
     "name": "stderr",
     "output_type": "stream",
     "text": [
      "100%|██████████| 3/3 [00:00<00:00, 817.60it/s]\n",
      "393it [00:01, 288.69it/s]"
     ]
    },
    {
     "name": "stdout",
     "output_type": "stream",
     "text": [
      "2024-03-06 00:36:49,991 INFO {/home/ehdykhne/nuplan-devkit/nuplan/planning/script/builders/simulation_builder.py:184}  Created 1 modified scenarios from scenario with token: da55649d60e7575b.\n"
     ]
    },
    {
     "name": "stderr",
     "output_type": "stream",
     "text": [
      "100%|██████████| 1/1 [00:00<00:00, 695.34it/s]\n",
      "393it [00:01, 288.69it/s]"
     ]
    },
    {
     "name": "stdout",
     "output_type": "stream",
     "text": [
      "2024-03-06 00:36:49,995 INFO {/home/ehdykhne/nuplan-devkit/nuplan/planning/script/builders/simulation_builder.py:184}  Created 3 modified scenarios from scenario with token: da8f7d7db9065d59.\n"
     ]
    },
    {
     "name": "stderr",
     "output_type": "stream",
     "text": [
      "100%|██████████| 3/3 [00:00<00:00, 820.21it/s]\n",
      "393it [00:01, 288.69it/s]"
     ]
    },
    {
     "name": "stdout",
     "output_type": "stream",
     "text": [
      "2024-03-06 00:36:50,001 INFO {/home/ehdykhne/nuplan-devkit/nuplan/planning/script/builders/simulation_builder.py:184}  Created 1 modified scenarios from scenario with token: dbf54e2f8a835cc0.\n"
     ]
    },
    {
     "name": "stderr",
     "output_type": "stream",
     "text": [
      "100%|██████████| 1/1 [00:00<00:00, 651.49it/s]\n",
      "429it [00:01, 308.59it/s]"
     ]
    },
    {
     "name": "stdout",
     "output_type": "stream",
     "text": [
      "2024-03-06 00:36:50,006 INFO {/home/ehdykhne/nuplan-devkit/nuplan/planning/script/builders/simulation_builder.py:184}  Created 4 modified scenarios from scenario with token: dc3979b16e265fc8.\n"
     ]
    },
    {
     "name": "stderr",
     "output_type": "stream",
     "text": [
      "100%|██████████| 4/4 [00:00<00:00, 830.97it/s]\n",
      "429it [00:01, 308.59it/s]"
     ]
    },
    {
     "name": "stdout",
     "output_type": "stream",
     "text": [
      "2024-03-06 00:36:50,013 INFO {/home/ehdykhne/nuplan-devkit/nuplan/planning/script/builders/simulation_builder.py:184}  Created 2 modified scenarios from scenario with token: dd0c7e5ac49f55d3.\n"
     ]
    },
    {
     "name": "stderr",
     "output_type": "stream",
     "text": [
      "100%|██████████| 2/2 [00:00<00:00, 815.70it/s]\n",
      "429it [00:01, 308.59it/s]"
     ]
    },
    {
     "name": "stdout",
     "output_type": "stream",
     "text": [
      "2024-03-06 00:36:50,018 INFO {/home/ehdykhne/nuplan-devkit/nuplan/planning/script/builders/simulation_builder.py:184}  Created 4 modified scenarios from scenario with token: ddbe8e49eee95870.\n"
     ]
    },
    {
     "name": "stderr",
     "output_type": "stream",
     "text": [
      "100%|██████████| 4/4 [00:00<00:00, 805.36it/s]\n",
      "429it [00:01, 308.59it/s]"
     ]
    },
    {
     "name": "stdout",
     "output_type": "stream",
     "text": [
      "2024-03-06 00:36:50,026 INFO {/home/ehdykhne/nuplan-devkit/nuplan/planning/script/builders/simulation_builder.py:184}  Created 14 modified scenarios from scenario with token: de38cc6bbd455ab4.\n"
     ]
    },
    {
     "name": "stderr",
     "output_type": "stream",
     "text": [
      "100%|██████████| 14/14 [00:00<00:00, 811.67it/s]\n",
      "429it [00:01, 308.59it/s]"
     ]
    },
    {
     "name": "stdout",
     "output_type": "stream",
     "text": [
      "2024-03-06 00:36:50,046 INFO {/home/ehdykhne/nuplan-devkit/nuplan/planning/script/builders/simulation_builder.py:184}  Created 3 modified scenarios from scenario with token: e0321561bdb6508f.\n"
     ]
    },
    {
     "name": "stderr",
     "output_type": "stream",
     "text": [
      "100%|██████████| 3/3 [00:00<00:00, 779.47it/s]\n",
      "429it [00:01, 308.59it/s]"
     ]
    },
    {
     "name": "stdout",
     "output_type": "stream",
     "text": [
      "2024-03-06 00:36:50,053 INFO {/home/ehdykhne/nuplan-devkit/nuplan/planning/script/builders/simulation_builder.py:184}  Created 1 modified scenarios from scenario with token: e27a3ffe962a52ec.\n"
     ]
    },
    {
     "name": "stderr",
     "output_type": "stream",
     "text": [
      "100%|██████████| 1/1 [00:00<00:00, 695.11it/s]\n",
      "429it [00:01, 308.59it/s]"
     ]
    },
    {
     "name": "stdout",
     "output_type": "stream",
     "text": [
      "2024-03-06 00:36:50,057 INFO {/home/ehdykhne/nuplan-devkit/nuplan/planning/script/builders/simulation_builder.py:184}  Created 9 modified scenarios from scenario with token: e4f8858a21f159f6.\n"
     ]
    },
    {
     "name": "stderr",
     "output_type": "stream",
     "text": [
      "100%|██████████| 9/9 [00:00<00:00, 839.20it/s]\n",
      "429it [00:01, 308.59it/s]"
     ]
    },
    {
     "name": "stdout",
     "output_type": "stream",
     "text": [
      "2024-03-06 00:36:50,070 INFO {/home/ehdykhne/nuplan-devkit/nuplan/planning/script/builders/simulation_builder.py:184}  Created 12 modified scenarios from scenario with token: e80001adcba85f26.\n"
     ]
    },
    {
     "name": "stderr",
     "output_type": "stream",
     "text": [
      "100%|██████████| 12/12 [00:00<00:00, 818.40it/s]\n",
      "429it [00:01, 308.59it/s]"
     ]
    },
    {
     "name": "stdout",
     "output_type": "stream",
     "text": [
      "2024-03-06 00:36:50,087 INFO {/home/ehdykhne/nuplan-devkit/nuplan/planning/script/builders/simulation_builder.py:184}  Created 1 modified scenarios from scenario with token: e8195c905b795fd7.\n"
     ]
    },
    {
     "name": "stderr",
     "output_type": "stream",
     "text": [
      "100%|██████████| 1/1 [00:00<00:00, 650.89it/s]\n",
      "429it [00:01, 308.59it/s]"
     ]
    },
    {
     "name": "stdout",
     "output_type": "stream",
     "text": [
      "2024-03-06 00:36:50,092 INFO {/home/ehdykhne/nuplan-devkit/nuplan/planning/script/builders/simulation_builder.py:184}  Created 3 modified scenarios from scenario with token: e865e450a39a5f94.\n"
     ]
    },
    {
     "name": "stderr",
     "output_type": "stream",
     "text": [
      "100%|██████████| 3/3 [00:00<00:00, 800.64it/s]\n",
      "429it [00:01, 308.59it/s]"
     ]
    },
    {
     "name": "stdout",
     "output_type": "stream",
     "text": [
      "2024-03-06 00:36:50,098 INFO {/home/ehdykhne/nuplan-devkit/nuplan/planning/script/builders/simulation_builder.py:184}  Created 1 modified scenarios from scenario with token: eb10173422635eed.\n"
     ]
    },
    {
     "name": "stderr",
     "output_type": "stream",
     "text": [
      "100%|██████████| 1/1 [00:00<00:00, 730.84it/s]\n",
      "429it [00:01, 308.59it/s]"
     ]
    },
    {
     "name": "stdout",
     "output_type": "stream",
     "text": [
      "2024-03-06 00:36:50,102 INFO {/home/ehdykhne/nuplan-devkit/nuplan/planning/script/builders/simulation_builder.py:184}  Created 1 modified scenarios from scenario with token: eb594ad84dd4517c.\n"
     ]
    },
    {
     "name": "stderr",
     "output_type": "stream",
     "text": [
      "100%|██████████| 1/1 [00:00<00:00, 780.63it/s]\n",
      "429it [00:01, 308.59it/s]"
     ]
    },
    {
     "name": "stdout",
     "output_type": "stream",
     "text": [
      "2024-03-06 00:36:50,107 INFO {/home/ehdykhne/nuplan-devkit/nuplan/planning/script/builders/simulation_builder.py:184}  Created 6 modified scenarios from scenario with token: ebc8923880be5338.\n"
     ]
    },
    {
     "name": "stderr",
     "output_type": "stream",
     "text": [
      "100%|██████████| 6/6 [00:00<00:00, 820.83it/s]\n",
      "429it [00:01, 308.59it/s]"
     ]
    },
    {
     "name": "stdout",
     "output_type": "stream",
     "text": [
      "2024-03-06 00:36:50,117 INFO {/home/ehdykhne/nuplan-devkit/nuplan/planning/script/builders/simulation_builder.py:184}  Created 2 modified scenarios from scenario with token: ec1c624d44275107.\n"
     ]
    },
    {
     "name": "stderr",
     "output_type": "stream",
     "text": [
      "100%|██████████| 2/2 [00:00<00:00, 726.92it/s]\n",
      "461it [00:01, 297.38it/s]"
     ]
    },
    {
     "name": "stdout",
     "output_type": "stream",
     "text": [
      "2024-03-06 00:36:50,123 INFO {/home/ehdykhne/nuplan-devkit/nuplan/planning/script/builders/simulation_builder.py:184}  Created 6 modified scenarios from scenario with token: edfa1e16b8015936.\n"
     ]
    },
    {
     "name": "stderr",
     "output_type": "stream",
     "text": [
      "100%|██████████| 6/6 [00:00<00:00, 848.71it/s]\n",
      "461it [00:01, 297.38it/s]"
     ]
    },
    {
     "name": "stdout",
     "output_type": "stream",
     "text": [
      "2024-03-06 00:36:50,132 INFO {/home/ehdykhne/nuplan-devkit/nuplan/planning/script/builders/simulation_builder.py:184}  Created 2 modified scenarios from scenario with token: eecea1f3bef25182.\n"
     ]
    },
    {
     "name": "stderr",
     "output_type": "stream",
     "text": [
      "100%|██████████| 2/2 [00:00<00:00, 762.81it/s]\n",
      "461it [00:01, 297.38it/s]"
     ]
    },
    {
     "name": "stdout",
     "output_type": "stream",
     "text": [
      "2024-03-06 00:36:50,138 INFO {/home/ehdykhne/nuplan-devkit/nuplan/planning/script/builders/simulation_builder.py:184}  Created 13 modified scenarios from scenario with token: f113b1f7547f52d2.\n"
     ]
    },
    {
     "name": "stderr",
     "output_type": "stream",
     "text": [
      "100%|██████████| 13/13 [00:00<00:00, 832.62it/s]\n",
      "461it [00:01, 297.38it/s]"
     ]
    },
    {
     "name": "stdout",
     "output_type": "stream",
     "text": [
      "2024-03-06 00:36:50,156 INFO {/home/ehdykhne/nuplan-devkit/nuplan/planning/script/builders/simulation_builder.py:184}  Created 1 modified scenarios from scenario with token: f30de0173f315199.\n"
     ]
    },
    {
     "name": "stderr",
     "output_type": "stream",
     "text": [
      "100%|██████████| 1/1 [00:00<00:00, 697.19it/s]\n",
      "461it [00:01, 297.38it/s]"
     ]
    },
    {
     "name": "stdout",
     "output_type": "stream",
     "text": [
      "2024-03-06 00:36:50,161 INFO {/home/ehdykhne/nuplan-devkit/nuplan/planning/script/builders/simulation_builder.py:184}  Created 5 modified scenarios from scenario with token: f32b7cfbc7845d96.\n"
     ]
    },
    {
     "name": "stderr",
     "output_type": "stream",
     "text": [
      "100%|██████████| 5/5 [00:00<00:00, 809.77it/s]\n",
      "461it [00:01, 297.38it/s]"
     ]
    },
    {
     "name": "stdout",
     "output_type": "stream",
     "text": [
      "2024-03-06 00:36:50,169 INFO {/home/ehdykhne/nuplan-devkit/nuplan/planning/script/builders/simulation_builder.py:184}  Created 10 modified scenarios from scenario with token: f474720d72285418.\n"
     ]
    },
    {
     "name": "stderr",
     "output_type": "stream",
     "text": [
      "100%|██████████| 10/10 [00:00<00:00, 838.74it/s]\n",
      "461it [00:01, 297.38it/s]"
     ]
    },
    {
     "name": "stdout",
     "output_type": "stream",
     "text": [
      "2024-03-06 00:36:50,184 INFO {/home/ehdykhne/nuplan-devkit/nuplan/planning/script/builders/simulation_builder.py:184}  Created 4 modified scenarios from scenario with token: f6a4cb810d245696.\n"
     ]
    },
    {
     "name": "stderr",
     "output_type": "stream",
     "text": [
      "100%|██████████| 4/4 [00:00<00:00, 819.40it/s]\n",
      "461it [00:01, 297.38it/s]"
     ]
    },
    {
     "name": "stdout",
     "output_type": "stream",
     "text": [
      "2024-03-06 00:36:50,192 INFO {/home/ehdykhne/nuplan-devkit/nuplan/planning/script/builders/simulation_builder.py:184}  Created 6 modified scenarios from scenario with token: f6f98fb344275686.\n"
     ]
    },
    {
     "name": "stderr",
     "output_type": "stream",
     "text": [
      "100%|██████████| 6/6 [00:00<00:00, 829.30it/s]\n",
      "461it [00:01, 297.38it/s]"
     ]
    },
    {
     "name": "stdout",
     "output_type": "stream",
     "text": [
      "2024-03-06 00:36:50,202 INFO {/home/ehdykhne/nuplan-devkit/nuplan/planning/script/builders/simulation_builder.py:184}  Created 3 modified scenarios from scenario with token: f919a8d641e15161.\n"
     ]
    },
    {
     "name": "stderr",
     "output_type": "stream",
     "text": [
      "100%|██████████| 3/3 [00:00<00:00, 801.71it/s]\n",
      "461it [00:01, 297.38it/s]"
     ]
    },
    {
     "name": "stdout",
     "output_type": "stream",
     "text": [
      "2024-03-06 00:36:50,208 INFO {/home/ehdykhne/nuplan-devkit/nuplan/planning/script/builders/simulation_builder.py:184}  Created 1 modified scenarios from scenario with token: f92fa6d5cebc5486.\n"
     ]
    },
    {
     "name": "stderr",
     "output_type": "stream",
     "text": [
      "100%|██████████| 1/1 [00:00<00:00, 678.91it/s]\n",
      "461it [00:01, 297.38it/s]"
     ]
    },
    {
     "name": "stdout",
     "output_type": "stream",
     "text": [
      "2024-03-06 00:36:50,213 INFO {/home/ehdykhne/nuplan-devkit/nuplan/planning/script/builders/simulation_builder.py:184}  Created 1 modified scenarios from scenario with token: f9ebe725a35e51b7.\n"
     ]
    },
    {
     "name": "stderr",
     "output_type": "stream",
     "text": [
      "100%|██████████| 1/1 [00:00<00:00, 649.47it/s]\n",
      "461it [00:01, 297.38it/s]"
     ]
    },
    {
     "name": "stdout",
     "output_type": "stream",
     "text": [
      "2024-03-06 00:36:50,217 INFO {/home/ehdykhne/nuplan-devkit/nuplan/planning/script/builders/simulation_builder.py:184}  Created 3 modified scenarios from scenario with token: f9fb1ccf7b0a5936.\n"
     ]
    },
    {
     "name": "stderr",
     "output_type": "stream",
     "text": [
      "100%|██████████| 3/3 [00:00<00:00, 805.67it/s]\n",
      "461it [00:01, 297.38it/s]"
     ]
    },
    {
     "name": "stdout",
     "output_type": "stream",
     "text": [
      "2024-03-06 00:36:50,224 INFO {/home/ehdykhne/nuplan-devkit/nuplan/planning/script/builders/simulation_builder.py:184}  Created 14 modified scenarios from scenario with token: fa76193d96f95f6d.\n"
     ]
    },
    {
     "name": "stderr",
     "output_type": "stream",
     "text": [
      "100%|██████████| 14/14 [00:00<00:00, 70.21it/s]\n",
      "492it [00:02, 191.70it/s]"
     ]
    },
    {
     "name": "stdout",
     "output_type": "stream",
     "text": [
      "2024-03-06 00:36:50,426 INFO {/home/ehdykhne/nuplan-devkit/nuplan/planning/script/builders/simulation_builder.py:184}  Created 7 modified scenarios from scenario with token: fe846f10312e5f19.\n"
     ]
    },
    {
     "name": "stderr",
     "output_type": "stream",
     "text": [
      "100%|██████████| 7/7 [00:00<00:00, 826.35it/s]\n",
      "492it [00:02, 191.70it/s]"
     ]
    },
    {
     "name": "stdout",
     "output_type": "stream",
     "text": [
      "2024-03-06 00:36:50,437 INFO {/home/ehdykhne/nuplan-devkit/nuplan/planning/script/builders/simulation_builder.py:184}  Created 11 modified scenarios from scenario with token: feff21d4b31a5d76.\n"
     ]
    },
    {
     "name": "stderr",
     "output_type": "stream",
     "text": [
      "100%|██████████| 11/11 [00:00<00:00, 816.21it/s]\n",
      "492it [00:02, 191.70it/s]"
     ]
    },
    {
     "name": "stdout",
     "output_type": "stream",
     "text": [
      "2024-03-06 00:36:50,454 INFO {/home/ehdykhne/nuplan-devkit/nuplan/planning/script/builders/simulation_builder.py:184}  Created 2 modified scenarios from scenario with token: ff071fa031f25423.\n"
     ]
    },
    {
     "name": "stderr",
     "output_type": "stream",
     "text": [
      "100%|██████████| 2/2 [00:00<00:00, 809.16it/s]\n",
      "492it [00:02, 191.70it/s]"
     ]
    },
    {
     "name": "stdout",
     "output_type": "stream",
     "text": [
      "2024-03-06 00:36:50,459 INFO {/home/ehdykhne/nuplan-devkit/nuplan/planning/script/builders/simulation_builder.py:184}  Created 1 modified scenarios from scenario with token: ff835af887c05fc8.\n"
     ]
    },
    {
     "name": "stderr",
     "output_type": "stream",
     "text": [
      "100%|██████████| 1/1 [00:00<00:00, 706.59it/s]\n",
      "499it [00:02, 243.97it/s]\n"
     ]
    },
    {
     "name": "stdout",
     "output_type": "stream",
     "text": [
      "2024-03-06 00:36:50,508 INFO {/home/ehdykhne/nuplan-devkit/nuplan/planning/script/builders/simulation_builder.py:203}  Created 996 modified scenarios from 499 scenarios, 165 of which were modifiable.\n",
      "2024-03-06 00:36:50,509 INFO {/home/ehdykhne/nuplan-devkit/nuplan/planning/script/builders/simulation_builder.py:204}  Building simulations...DONE!\n",
      "2024-03-06 00:36:50,511 INFO {/home/ehdykhne/nuplan-devkit/nuplan/planning/script/run_simulation.py:113}  Running simulation...\n",
      "2024-03-06 00:36:50,511 INFO {/home/ehdykhne/nuplan-devkit/nuplan/planning/script/utils.py:138}  Executing runners...\n",
      "2024-03-06 00:36:50,511 INFO {/home/ehdykhne/nuplan-devkit/nuplan/planning/simulation/runner/executor.py:82}  Starting 996 simulations using RayDistributed!\n"
     ]
    },
    {
     "name": "stderr",
     "output_type": "stream",
     "text": [
      "Ray objects:   0%|          | 0/996 [00:00<?, ?it/s]\u001b[2m\u001b[33m(raylet)\u001b[0m [2024-03-06 00:36:52,756 E 458942 458954] (raylet) file_system_monitor.cc:111: /tmp/ray/session_2024-03-06_00-31-10_957136_458634 is over 95% full, available space: 631396720640; capacity: 16125711347712. Object creation will fail if spilling is required.\n",
      "\u001b[2m\u001b[33m(raylet)\u001b[0m [2024-03-06 00:37:02,766 E 458942 458954] (raylet) file_system_monitor.cc:111: /tmp/ray/session_2024-03-06_00-31-10_957136_458634 is over 95% full, available space: 631396659200; capacity: 16125711347712. Object creation will fail if spilling is required.\n",
      "\u001b[2m\u001b[33m(raylet)\u001b[0m [2024-03-06 00:37:12,776 E 458942 458954] (raylet) file_system_monitor.cc:111: /tmp/ray/session_2024-03-06_00-31-10_957136_458634 is over 95% full, available space: 631396630528; capacity: 16125711347712. Object creation will fail if spilling is required.\n",
      "\u001b[2m\u001b[33m(raylet)\u001b[0m [2024-03-06 00:37:22,785 E 458942 458954] (raylet) file_system_monitor.cc:111: /tmp/ray/session_2024-03-06_00-31-10_957136_458634 is over 95% full, available space: 631396630528; capacity: 16125711347712. Object creation will fail if spilling is required.\n",
      "\u001b[2m\u001b[33m(raylet)\u001b[0m [2024-03-06 00:37:32,793 E 458942 458954] (raylet) file_system_monitor.cc:111: /tmp/ray/session_2024-03-06_00-31-10_957136_458634 is over 95% full, available space: 631396618240; capacity: 16125711347712. Object creation will fail if spilling is required.\n",
      "\u001b[2m\u001b[33m(raylet)\u001b[0m [2024-03-06 00:37:42,802 E 458942 458954] (raylet) file_system_monitor.cc:111: /tmp/ray/session_2024-03-06_00-31-10_957136_458634 is over 95% full, available space: 631396614144; capacity: 16125711347712. Object creation will fail if spilling is required.\n",
      "\u001b[2m\u001b[33m(raylet)\u001b[0m [2024-03-06 00:37:52,812 E 458942 458954] (raylet) file_system_monitor.cc:111: /tmp/ray/session_2024-03-06_00-31-10_957136_458634 is over 95% full, available space: 631396614144; capacity: 16125711347712. Object creation will fail if spilling is required.\n",
      "\u001b[2m\u001b[33m(raylet)\u001b[0m [2024-03-06 00:38:02,821 E 458942 458954] (raylet) file_system_monitor.cc:111: /tmp/ray/session_2024-03-06_00-31-10_957136_458634 is over 95% full, available space: 631396614144; capacity: 16125711347712. Object creation will fail if spilling is required.\n",
      "\u001b[2m\u001b[33m(raylet)\u001b[0m [2024-03-06 00:38:12,829 E 458942 458954] (raylet) file_system_monitor.cc:111: /tmp/ray/session_2024-03-06_00-31-10_957136_458634 is over 95% full, available space: 631396581376; capacity: 16125711347712. Object creation will fail if spilling is required.\n",
      "Ray objects:   1%|          | 9/996 [01:29<43:06,  2.62s/it]   \u001b[2m\u001b[33m(raylet)\u001b[0m [2024-03-06 00:38:22,837 E 458942 458954] (raylet) file_system_monitor.cc:111: /tmp/ray/session_2024-03-06_00-31-10_957136_458634 is over 95% full, available space: 631289942016; capacity: 16125711347712. Object creation will fail if spilling is required.\n",
      "Ray objects:   3%|▎         | 27/996 [01:39<06:08,  2.63it/s]\u001b[2m\u001b[33m(raylet)\u001b[0m [2024-03-06 00:38:32,845 E 458942 458954] (raylet) file_system_monitor.cc:111: /tmp/ray/session_2024-03-06_00-31-10_957136_458634 is over 95% full, available space: 631045758976; capacity: 16125711347712. Object creation will fail if spilling is required.\n",
      "Ray objects:   3%|▎         | 30/996 [01:47<29:11,  1.81s/it]\u001b[2m\u001b[33m(raylet)\u001b[0m [2024-03-06 00:38:42,853 E 458942 458954] (raylet) file_system_monitor.cc:111: /tmp/ray/session_2024-03-06_00-31-10_957136_458634 is over 95% full, available space: 631013068800; capacity: 16125711347712. Object creation will fail if spilling is required.\n",
      "\u001b[2m\u001b[33m(raylet)\u001b[0m [2024-03-06 00:38:52,861 E 458942 458954] (raylet) file_system_monitor.cc:111: /tmp/ray/session_2024-03-06_00-31-10_957136_458634 is over 95% full, available space: 631013068800; capacity: 16125711347712. Object creation will fail if spilling is required.\n",
      "\u001b[2m\u001b[33m(raylet)\u001b[0m [2024-03-06 00:39:02,869 E 458942 458954] (raylet) file_system_monitor.cc:111: /tmp/ray/session_2024-03-06_00-31-10_957136_458634 is over 95% full, available space: 631013060608; capacity: 16125711347712. Object creation will fail if spilling is required.\n",
      "\u001b[2m\u001b[33m(raylet)\u001b[0m [2024-03-06 00:39:12,877 E 458942 458954] (raylet) file_system_monitor.cc:111: /tmp/ray/session_2024-03-06_00-31-10_957136_458634 is over 95% full, available space: 631013031936; capacity: 16125711347712. Object creation will fail if spilling is required.\n",
      "\u001b[2m\u001b[33m(raylet)\u001b[0m [2024-03-06 00:39:22,884 E 458942 458954] (raylet) file_system_monitor.cc:111: /tmp/ray/session_2024-03-06_00-31-10_957136_458634 is over 95% full, available space: 631012958208; capacity: 16125711347712. Object creation will fail if spilling is required.\n",
      "Ray objects:   3%|▎         | 32/996 [02:36<2:57:37, 11.06s/it]\u001b[2m\u001b[33m(raylet)\u001b[0m [2024-03-06 00:39:32,892 E 458942 458954] (raylet) file_system_monitor.cc:111: /tmp/ray/session_2024-03-06_00-31-10_957136_458634 is over 95% full, available space: 630986645504; capacity: 16125711347712. Object creation will fail if spilling is required.\n",
      "Ray objects:   4%|▎         | 35/996 [02:48<1:44:10,  6.50s/it]\u001b[2m\u001b[33m(raylet)\u001b[0m [2024-03-06 00:39:42,901 E 458942 458954] (raylet) file_system_monitor.cc:111: /tmp/ray/session_2024-03-06_00-31-10_957136_458634 is over 95% full, available space: 630961807360; capacity: 16125711347712. Object creation will fail if spilling is required.\n",
      "Ray objects:   4%|▍         | 39/996 [03:00<47:11,  2.96s/it]  \u001b[2m\u001b[33m(raylet)\u001b[0m [2024-03-06 00:39:52,908 E 458942 458954] (raylet) file_system_monitor.cc:111: /tmp/ray/session_2024-03-06_00-31-10_957136_458634 is over 95% full, available space: 630909415424; capacity: 16125711347712. Object creation will fail if spilling is required.\n",
      "Ray objects:   5%|▍         | 47/996 [03:10<25:38,  1.62s/it]\u001b[2m\u001b[33m(raylet)\u001b[0m [2024-03-06 00:40:02,916 E 458942 458954] (raylet) file_system_monitor.cc:111: /tmp/ray/session_2024-03-06_00-31-10_957136_458634 is over 95% full, available space: 630840733696; capacity: 16125711347712. Object creation will fail if spilling is required.\n",
      "\u001b[2m\u001b[33m(raylet)\u001b[0m [2024-03-06 00:40:12,924 E 458942 458954] (raylet) file_system_monitor.cc:111: /tmp/ray/session_2024-03-06_00-31-10_957136_458634 is over 95% full, available space: 630840696832; capacity: 16125711347712. Object creation will fail if spilling is required.\n",
      "\u001b[2m\u001b[33m(raylet)\u001b[0m [2024-03-06 00:40:22,932 E 458942 458954] (raylet) file_system_monitor.cc:111: /tmp/ray/session_2024-03-06_00-31-10_957136_458634 is over 95% full, available space: 630840561664; capacity: 16125711347712. Object creation will fail if spilling is required.\n",
      "\u001b[2m\u001b[33m(raylet)\u001b[0m [2024-03-06 00:40:32,940 E 458942 458954] (raylet) file_system_monitor.cc:111: /tmp/ray/session_2024-03-06_00-31-10_957136_458634 is over 95% full, available space: 630840557568; capacity: 16125711347712. Object creation will fail if spilling is required.\n",
      "\u001b[2m\u001b[33m(raylet)\u001b[0m [2024-03-06 00:40:42,948 E 458942 458954] (raylet) file_system_monitor.cc:111: /tmp/ray/session_2024-03-06_00-31-10_957136_458634 is over 95% full, available space: 630840422400; capacity: 16125711347712. Object creation will fail if spilling is required.\n",
      "Ray objects:   5%|▌         | 50/996 [03:59<2:18:41,  8.80s/it]\u001b[2m\u001b[33m(raylet)\u001b[0m [2024-03-06 00:40:52,956 E 458942 458954] (raylet) file_system_monitor.cc:111: /tmp/ray/session_2024-03-06_00-31-10_957136_458634 is over 95% full, available space: 630801297408; capacity: 16125711347712. Object creation will fail if spilling is required.\n",
      "Ray objects:   5%|▌         | 52/996 [04:05<1:29:51,  5.71s/it]\u001b[2m\u001b[33m(raylet)\u001b[0m [2024-03-06 00:41:02,964 E 458942 458954] (raylet) file_system_monitor.cc:111: /tmp/ray/session_2024-03-06_00-31-10_957136_458634 is over 95% full, available space: 630775214080; capacity: 16125711347712. Object creation will fail if spilling is required.\n",
      "Ray objects:   6%|▌         | 56/996 [04:17<46:33,  2.97s/it]  \u001b[2m\u001b[33m(raylet)\u001b[0m [2024-03-06 00:41:12,972 E 458942 458954] (raylet) file_system_monitor.cc:111: /tmp/ray/session_2024-03-06_00-31-10_957136_458634 is over 95% full, available space: 630723072000; capacity: 16125711347712. Object creation will fail if spilling is required.\n",
      "\u001b[2m\u001b[33m(raylet)\u001b[0m [2024-03-06 00:41:22,980 E 458942 458954] (raylet) file_system_monitor.cc:111: /tmp/ray/session_2024-03-06_00-31-10_957136_458634 is over 95% full, available space: 630723051520; capacity: 16125711347712. Object creation will fail if spilling is required.\n",
      "\u001b[2m\u001b[33m(raylet)\u001b[0m [2024-03-06 00:41:32,988 E 458942 458954] (raylet) file_system_monitor.cc:111: /tmp/ray/session_2024-03-06_00-31-10_957136_458634 is over 95% full, available space: 630723051520; capacity: 16125711347712. Object creation will fail if spilling is required.\n",
      "\u001b[2m\u001b[33m(raylet)\u001b[0m [2024-03-06 00:41:42,997 E 458942 458954] (raylet) file_system_monitor.cc:111: /tmp/ray/session_2024-03-06_00-31-10_957136_458634 is over 95% full, available space: 630723047424; capacity: 16125711347712. Object creation will fail if spilling is required.\n",
      "\u001b[2m\u001b[33m(raylet)\u001b[0m [2024-03-06 00:41:53,005 E 458942 458954] (raylet) file_system_monitor.cc:111: /tmp/ray/session_2024-03-06_00-31-10_957136_458634 is over 95% full, available space: 630723047424; capacity: 16125711347712. Object creation will fail if spilling is required.\n",
      "Ray objects:   6%|▌         | 57/996 [05:07<4:27:16, 17.08s/it]\u001b[2m\u001b[33m(raylet)\u001b[0m [2024-03-06 00:42:03,014 E 458942 458954] (raylet) file_system_monitor.cc:111: /tmp/ray/session_2024-03-06_00-31-10_957136_458634 is over 95% full, available space: 630717345792; capacity: 16125711347712. Object creation will fail if spilling is required.\n",
      "\u001b[2m\u001b[33m(raylet)\u001b[0m [2024-03-06 00:42:13,022 E 458942 458954] (raylet) file_system_monitor.cc:111: /tmp/ray/session_2024-03-06_00-31-10_957136_458634 is over 95% full, available space: 630717317120; capacity: 16125711347712. Object creation will fail if spilling is required.\n",
      "\u001b[2m\u001b[33m(raylet)\u001b[0m [2024-03-06 00:42:23,030 E 458942 458954] (raylet) file_system_monitor.cc:111: /tmp/ray/session_2024-03-06_00-31-10_957136_458634 is over 95% full, available space: 630717181952; capacity: 16125711347712. Object creation will fail if spilling is required.\n",
      "Ray objects:   6%|▌         | 59/996 [05:40<3:59:56, 15.36s/it]\u001b[2m\u001b[33m(raylet)\u001b[0m [2024-03-06 00:42:33,037 E 458942 458954] (raylet) file_system_monitor.cc:111: /tmp/ray/session_2024-03-06_00-31-10_957136_458634 is over 95% full, available space: 630704881664; capacity: 16125711347712. Object creation will fail if spilling is required.\n",
      "Ray objects:   6%|▋         | 64/996 [05:48<59:18,  3.82s/it]  \u001b[2m\u001b[33m(raylet)\u001b[0m [2024-03-06 00:42:43,045 E 458942 458954] (raylet) file_system_monitor.cc:111: /tmp/ray/session_2024-03-06_00-31-10_957136_458634 is over 95% full, available space: 630674149376; capacity: 16125711347712. Object creation will fail if spilling is required.\n",
      "Ray objects:   7%|▋         | 65/996 [05:51<57:45,  3.72s/it]\u001b[2m\u001b[33m(raylet)\u001b[0m [2024-03-06 00:42:53,052 E 458942 458954] (raylet) file_system_monitor.cc:111: /tmp/ray/session_2024-03-06_00-31-10_957136_458634 is over 95% full, available space: 630668058624; capacity: 16125711347712. Object creation will fail if spilling is required.\n",
      "\u001b[2m\u001b[33m(raylet)\u001b[0m [2024-03-06 00:43:03,060 E 458942 458954] (raylet) file_system_monitor.cc:111: /tmp/ray/session_2024-03-06_00-31-10_957136_458634 is over 95% full, available space: 630668058624; capacity: 16125711347712. Object creation will fail if spilling is required.\n",
      "\u001b[2m\u001b[33m(raylet)\u001b[0m [2024-03-06 00:43:13,067 E 458942 458954] (raylet) file_system_monitor.cc:111: /tmp/ray/session_2024-03-06_00-31-10_957136_458634 is over 95% full, available space: 630667968512; capacity: 16125711347712. Object creation will fail if spilling is required.\n",
      "Ray objects:   7%|▋         | 66/996 [06:23<3:09:41, 12.24s/it]\u001b[2m\u001b[33m(raylet)\u001b[0m [2024-03-06 00:43:23,075 E 458942 458954] (raylet) file_system_monitor.cc:111: /tmp/ray/session_2024-03-06_00-31-10_957136_458634 is over 95% full, available space: 630655311872; capacity: 16125711347712. Object creation will fail if spilling is required.\n",
      "Ray objects:   8%|▊         | 75/996 [06:40<20:47,  1.35s/it]  \u001b[2m\u001b[33m(raylet)\u001b[0m [2024-03-06 00:43:33,082 E 458942 458954] (raylet) file_system_monitor.cc:111: /tmp/ray/session_2024-03-06_00-31-10_957136_458634 is over 95% full, available space: 630507241472; capacity: 16125711347712. Object creation will fail if spilling is required.\n",
      "Ray objects:   8%|▊         | 76/996 [06:41<18:37,  1.21s/it]\u001b[2m\u001b[33m(raylet)\u001b[0m [2024-03-06 00:43:43,090 E 458942 458954] (raylet) file_system_monitor.cc:111: /tmp/ray/session_2024-03-06_00-31-10_957136_458634 is over 95% full, available space: 630489468928; capacity: 16125711347712. Object creation will fail if spilling is required.\n",
      "Ray objects:   8%|▊         | 82/996 [07:00<22:11,  1.46s/it]  \u001b[2m\u001b[33m(raylet)\u001b[0m [2024-03-06 00:43:53,097 E 458942 458954] (raylet) file_system_monitor.cc:111: /tmp/ray/session_2024-03-06_00-31-10_957136_458634 is over 95% full, available space: 630413508608; capacity: 16125711347712. Object creation will fail if spilling is required.\n",
      "Ray objects:   9%|▉         | 88/996 [07:10<21:07,  1.40s/it]\u001b[2m\u001b[33m(raylet)\u001b[0m [2024-03-06 00:44:03,105 E 458942 458954] (raylet) file_system_monitor.cc:111: /tmp/ray/session_2024-03-06_00-31-10_957136_458634 is over 95% full, available space: 630317428736; capacity: 16125711347712. Object creation will fail if spilling is required.\n",
      "Ray objects:   9%|▉         | 89/996 [07:15<40:01,  2.65s/it]\u001b[2m\u001b[33m(raylet)\u001b[0m [2024-03-06 00:44:13,113 E 458942 458954] (raylet) file_system_monitor.cc:111: /tmp/ray/session_2024-03-06_00-31-10_957136_458634 is over 95% full, available space: 630299627520; capacity: 16125711347712. Object creation will fail if spilling is required.\n",
      "Ray objects:   9%|▉         | 90/996 [07:22<58:31,  3.88s/it]\u001b[2m\u001b[33m(raylet)\u001b[0m [2024-03-06 00:44:23,120 E 458942 458954] (raylet) file_system_monitor.cc:111: /tmp/ray/session_2024-03-06_00-31-10_957136_458634 is over 95% full, available space: 630279888896; capacity: 16125711347712. Object creation will fail if spilling is required.\n",
      "Ray objects:   9%|▉         | 91/996 [07:36<1:45:37,  7.00s/it]\u001b[2m\u001b[33m(raylet)\u001b[0m [2024-03-06 00:44:33,128 E 458942 458954] (raylet) file_system_monitor.cc:111: /tmp/ray/session_2024-03-06_00-31-10_957136_458634 is over 95% full, available space: 630269296640; capacity: 16125711347712. Object creation will fail if spilling is required.\n",
      "Ray objects:   9%|▉         | 93/996 [07:50<1:38:56,  6.57s/it]\u001b[2m\u001b[33m(raylet)\u001b[0m [2024-03-06 00:44:43,136 E 458942 458954] (raylet) file_system_monitor.cc:111: /tmp/ray/session_2024-03-06_00-31-10_957136_458634 is over 95% full, available space: 630243758080; capacity: 16125711347712. Object creation will fail if spilling is required.\n",
      "Ray objects:  10%|▉         | 97/996 [07:53<35:12,  2.35s/it]  \u001b[2m\u001b[33m(raylet)\u001b[0m [2024-03-06 00:44:53,144 E 458942 458954] (raylet) file_system_monitor.cc:111: /tmp/ray/session_2024-03-06_00-31-10_957136_458634 is over 95% full, available space: 630193254400; capacity: 16125711347712. Object creation will fail if spilling is required.\n",
      "Ray objects:  10%|▉         | 99/996 [08:07<58:08,  3.89s/it]  \u001b[2m\u001b[33m(raylet)\u001b[0m [2024-03-06 00:45:03,151 E 458942 458954] (raylet) file_system_monitor.cc:111: /tmp/ray/session_2024-03-06_00-31-10_957136_458634 is over 95% full, available space: 630136168448; capacity: 16125711347712. Object creation will fail if spilling is required.\n",
      "Ray objects:  10%|█         | 102/996 [08:20<52:43,  3.54s/it]  \u001b[2m\u001b[33m(raylet)\u001b[0m [2024-03-06 00:45:13,159 E 458942 458954] (raylet) file_system_monitor.cc:111: /tmp/ray/session_2024-03-06_00-31-10_957136_458634 is over 95% full, available space: 630050390016; capacity: 16125711347712. Object creation will fail if spilling is required.\n",
      "Ray objects:  10%|█         | 103/996 [08:23<47:49,  3.21s/it]\u001b[2m\u001b[33m(raylet)\u001b[0m [2024-03-06 00:45:23,167 E 458942 458954] (raylet) file_system_monitor.cc:111: /tmp/ray/session_2024-03-06_00-31-10_957136_458634 is over 95% full, available space: 630021869568; capacity: 16125711347712. Object creation will fail if spilling is required.\n",
      "Ray objects:  11%|█         | 105/996 [08:40<1:21:22,  5.48s/it]\u001b[2m\u001b[33m(raylet)\u001b[0m [2024-03-06 00:45:33,175 E 458942 458954] (raylet) file_system_monitor.cc:111: /tmp/ray/session_2024-03-06_00-31-10_957136_458634 is over 95% full, available space: 629987598336; capacity: 16125711347712. Object creation will fail if spilling is required.\n",
      "Ray objects:  11%|█         | 108/996 [08:50<59:28,  4.02s/it]  \u001b[2m\u001b[33m(raylet)\u001b[0m [2024-03-06 00:45:43,183 E 458942 458954] (raylet) file_system_monitor.cc:111: /tmp/ray/session_2024-03-06_00-31-10_957136_458634 is over 95% full, available space: 629936340992; capacity: 16125711347712. Object creation will fail if spilling is required.\n",
      "Ray objects:  11%|█         | 110/996 [08:53<38:30,  2.61s/it]\u001b[2m\u001b[33m(raylet)\u001b[0m [2024-03-06 00:45:53,191 E 458942 458954] (raylet) file_system_monitor.cc:111: /tmp/ray/session_2024-03-06_00-31-10_957136_458634 is over 95% full, available space: 629902299136; capacity: 16125711347712. Object creation will fail if spilling is required.\n",
      "Ray objects:  11%|█         | 111/996 [09:03<1:10:36,  4.79s/it]\u001b[2m\u001b[33m(raylet)\u001b[0m [2024-03-06 00:46:03,199 E 458942 458954] (raylet) file_system_monitor.cc:111: /tmp/ray/session_2024-03-06_00-31-10_957136_458634 is over 95% full, available space: 629885308928; capacity: 16125711347712. Object creation will fail if spilling is required.\n",
      "\u001b[2m\u001b[33m(raylet)\u001b[0m [2024-03-06 00:46:13,207 E 458942 458954] (raylet) file_system_monitor.cc:111: /tmp/ray/session_2024-03-06_00-31-10_957136_458634 is over 95% full, available space: 629885128704; capacity: 16125711347712. Object creation will fail if spilling is required.\n",
      "Ray objects:  11%|█         | 112/996 [09:21<2:12:39,  9.00s/it]\u001b[2m\u001b[33m(raylet)\u001b[0m [2024-03-06 00:46:23,215 E 458942 458954] (raylet) file_system_monitor.cc:111: /tmp/ray/session_2024-03-06_00-31-10_957136_458634 is over 95% full, available space: 629868138496; capacity: 16125711347712. Object creation will fail if spilling is required.\n",
      "Ray objects:  11%|█▏        | 114/996 [09:37<1:54:40,  7.80s/it]\u001b[2m\u001b[33m(raylet)\u001b[0m [2024-03-06 00:46:33,222 E 458942 458954] (raylet) file_system_monitor.cc:111: /tmp/ray/session_2024-03-06_00-31-10_957136_458634 is over 95% full, available space: 629833850880; capacity: 16125711347712. Object creation will fail if spilling is required.\n",
      "Ray objects:  12%|█▏        | 119/996 [09:47<40:00,  2.74s/it]  \u001b[2m\u001b[33m(raylet)\u001b[0m [2024-03-06 00:46:43,230 E 458942 458954] (raylet) file_system_monitor.cc:111: /tmp/ray/session_2024-03-06_00-31-10_957136_458634 is over 95% full, available space: 629764186112; capacity: 16125711347712. Object creation will fail if spilling is required.\n",
      "Ray objects:  12%|█▏        | 122/996 [09:57<39:34,  2.72s/it]  \u001b[2m\u001b[33m(raylet)\u001b[0m [2024-03-06 00:46:53,238 E 458942 458954] (raylet) file_system_monitor.cc:111: /tmp/ray/session_2024-03-06_00-31-10_957136_458634 is over 95% full, available space: 629724618752; capacity: 16125711347712. Object creation will fail if spilling is required.\n",
      "Ray objects:  13%|█▎        | 125/996 [10:09<45:30,  3.13s/it]  \u001b[2m\u001b[33m(raylet)\u001b[0m [2024-03-06 00:47:03,246 E 458942 458954] (raylet) file_system_monitor.cc:111: /tmp/ray/session_2024-03-06_00-31-10_957136_458634 is over 95% full, available space: 629685510144; capacity: 16125711347712. Object creation will fail if spilling is required.\n",
      "Ray objects:  13%|█▎        | 126/996 [10:18<1:07:48,  4.68s/it]\u001b[2m\u001b[33m(raylet)\u001b[0m [2024-03-06 00:47:13,254 E 458942 458954] (raylet) file_system_monitor.cc:111: /tmp/ray/session_2024-03-06_00-31-10_957136_458634 is over 95% full, available space: 629672251392; capacity: 16125711347712. Object creation will fail if spilling is required.\n",
      "\u001b[2m\u001b[33m(raylet)\u001b[0m [2024-03-06 00:47:23,262 E 458942 458954] (raylet) file_system_monitor.cc:111: /tmp/ray/session_2024-03-06_00-31-10_957136_458634 is over 95% full, available space: 629672239104; capacity: 16125711347712. Object creation will fail if spilling is required.\n",
      "Ray objects:  13%|█▎        | 127/996 [10:37<2:10:22,  9.00s/it]\u001b[2m\u001b[33m(raylet)\u001b[0m [2024-03-06 00:47:33,269 E 458942 458954] (raylet) file_system_monitor.cc:111: /tmp/ray/session_2024-03-06_00-31-10_957136_458634 is over 95% full, available space: 629659107328; capacity: 16125711347712. Object creation will fail if spilling is required.\n",
      "\u001b[2m\u001b[33m(raylet)\u001b[0m [2024-03-06 00:47:43,277 E 458942 458954] (raylet) file_system_monitor.cc:111: /tmp/ray/session_2024-03-06_00-31-10_957136_458634 is over 95% full, available space: 629659041792; capacity: 16125711347712. Object creation will fail if spilling is required.\n",
      "Ray objects:  13%|█▎        | 128/996 [10:51<2:33:47, 10.63s/it]\u001b[2m\u001b[33m(raylet)\u001b[0m [2024-03-06 00:47:53,285 E 458942 458954] (raylet) file_system_monitor.cc:111: /tmp/ray/session_2024-03-06_00-31-10_957136_458634 is over 95% full, available space: 629646016512; capacity: 16125711347712. Object creation will fail if spilling is required.\n",
      "\u001b[2m\u001b[33m(raylet)\u001b[0m [2024-03-06 00:48:03,293 E 458942 458954] (raylet) file_system_monitor.cc:111: /tmp/ray/session_2024-03-06_00-31-10_957136_458634 is over 95% full, available space: 629646008320; capacity: 16125711347712. Object creation will fail if spilling is required.\n",
      "Ray objects:  13%|█▎        | 129/996 [11:13<3:22:46, 14.03s/it]\u001b[2m\u001b[33m(raylet)\u001b[0m [2024-03-06 00:48:13,301 E 458942 458954] (raylet) file_system_monitor.cc:111: /tmp/ray/session_2024-03-06_00-31-10_957136_458634 is over 95% full, available space: 629639843840; capacity: 16125711347712. Object creation will fail if spilling is required.\n",
      "\u001b[2m\u001b[33m(raylet)\u001b[0m [2024-03-06 00:48:23,309 E 458942 458954] (raylet) file_system_monitor.cc:111: /tmp/ray/session_2024-03-06_00-31-10_957136_458634 is over 95% full, available space: 629639778304; capacity: 16125711347712. Object creation will fail if spilling is required.\n",
      "Ray objects:  13%|█▎        | 131/996 [11:40<3:04:09, 12.77s/it]\u001b[2m\u001b[33m(raylet)\u001b[0m [2024-03-06 00:48:33,316 E 458942 458954] (raylet) file_system_monitor.cc:111: /tmp/ray/session_2024-03-06_00-31-10_957136_458634 is over 95% full, available space: 629584621568; capacity: 16125711347712. Object creation will fail if spilling is required.\n",
      "Ray objects:  14%|█▍        | 139/996 [11:50<26:24,  1.85s/it]  \u001b[2m\u001b[33m(raylet)\u001b[0m [2024-03-06 00:48:43,324 E 458942 458954] (raylet) file_system_monitor.cc:111: /tmp/ray/session_2024-03-06_00-31-10_957136_458634 is over 95% full, available space: 629450203136; capacity: 16125711347712. Object creation will fail if spilling is required.\n",
      "Ray objects:  15%|█▍        | 145/996 [11:58<22:07,  1.56s/it]\u001b[2m\u001b[33m(raylet)\u001b[0m [2024-03-06 00:48:53,331 E 458942 458954] (raylet) file_system_monitor.cc:111: /tmp/ray/session_2024-03-06_00-31-10_957136_458634 is over 95% full, available space: 629349429248; capacity: 16125711347712. Object creation will fail if spilling is required.\n",
      "Ray objects:  15%|█▍        | 149/996 [12:04<18:13,  1.29s/it]\u001b[2m\u001b[33m(raylet)\u001b[0m [2024-03-06 00:49:03,339 E 458942 458954] (raylet) file_system_monitor.cc:111: /tmp/ray/session_2024-03-06_00-31-10_957136_458634 is over 95% full, available space: 629282430976; capacity: 16125711347712. Object creation will fail if spilling is required.\n",
      "Ray objects:  15%|█▌        | 150/996 [12:14<56:35,  4.01s/it]\u001b[2m\u001b[33m(raylet)\u001b[0m [2024-03-06 00:49:13,346 E 458942 458954] (raylet) file_system_monitor.cc:111: /tmp/ray/session_2024-03-06_00-31-10_957136_458634 is over 95% full, available space: 629276061696; capacity: 16125711347712. Object creation will fail if spilling is required.\n",
      "Ray objects:  16%|█▌        | 155/996 [12:28<32:58,  2.35s/it]  \u001b[2m\u001b[33m(raylet)\u001b[0m [2024-03-06 00:49:23,354 E 458942 458954] (raylet) file_system_monitor.cc:111: /tmp/ray/session_2024-03-06_00-31-10_957136_458634 is over 95% full, available space: 629245722624; capacity: 16125711347712. Object creation will fail if spilling is required.\n",
      "\u001b[2m\u001b[33m(raylet)\u001b[0m [2024-03-06 00:49:33,362 E 458942 458954] (raylet) file_system_monitor.cc:111: /tmp/ray/session_2024-03-06_00-31-10_957136_458634 is over 95% full, available space: 629245710336; capacity: 16125711347712. Object creation will fail if spilling is required.\n",
      "\u001b[2m\u001b[33m(raylet)\u001b[0m [2024-03-06 00:49:43,369 E 458942 458954] (raylet) file_system_monitor.cc:111: /tmp/ray/session_2024-03-06_00-31-10_957136_458634 is over 95% full, available space: 629245710336; capacity: 16125711347712. Object creation will fail if spilling is required.\n",
      "\u001b[2m\u001b[33m(raylet)\u001b[0m [2024-03-06 00:49:53,377 E 458942 458954] (raylet) file_system_monitor.cc:111: /tmp/ray/session_2024-03-06_00-31-10_957136_458634 is over 95% full, available space: 629245706240; capacity: 16125711347712. Object creation will fail if spilling is required.\n",
      "\u001b[2m\u001b[33m(raylet)\u001b[0m [2024-03-06 00:50:03,385 E 458942 458954] (raylet) file_system_monitor.cc:111: /tmp/ray/session_2024-03-06_00-31-10_957136_458634 is over 95% full, available space: 629245702144; capacity: 16125711347712. Object creation will fail if spilling is required.\n",
      "\u001b[2m\u001b[33m(raylet)\u001b[0m [2024-03-06 00:50:13,392 E 458942 458954] (raylet) file_system_monitor.cc:111: /tmp/ray/session_2024-03-06_00-31-10_957136_458634 is over 95% full, available space: 629245612032; capacity: 16125711347712. Object creation will fail if spilling is required.\n",
      "Ray objects:  16%|█▌        | 160/996 [13:31<1:32:53,  6.67s/it]\u001b[2m\u001b[33m(raylet)\u001b[0m [2024-03-06 00:50:23,400 E 458942 458954] (raylet) file_system_monitor.cc:111: /tmp/ray/session_2024-03-06_00-31-10_957136_458634 is over 95% full, available space: 629162586112; capacity: 16125711347712. Object creation will fail if spilling is required.\n",
      "Ray objects:  17%|█▋        | 167/996 [13:40<33:02,  2.39s/it]  \u001b[2m\u001b[33m(raylet)\u001b[0m [2024-03-06 00:50:33,408 E 458942 458954] (raylet) file_system_monitor.cc:111: /tmp/ray/session_2024-03-06_00-31-10_957136_458634 is over 95% full, available space: 629068853248; capacity: 16125711347712. Object creation will fail if spilling is required.\n",
      "Ray objects:  17%|█▋        | 171/996 [13:50<28:01,  2.04s/it]\u001b[2m\u001b[33m(raylet)\u001b[0m [2024-03-06 00:50:43,415 E 458942 458954] (raylet) file_system_monitor.cc:111: /tmp/ray/session_2024-03-06_00-31-10_957136_458634 is over 95% full, available space: 628997431296; capacity: 16125711347712. Object creation will fail if spilling is required.\n",
      "Ray objects:  18%|█▊        | 175/996 [14:00<23:09,  1.69s/it]\u001b[2m\u001b[33m(raylet)\u001b[0m [2024-03-06 00:50:53,423 E 458942 458954] (raylet) file_system_monitor.cc:111: /tmp/ray/session_2024-03-06_00-31-10_957136_458634 is over 95% full, available space: 628929732608; capacity: 16125711347712. Object creation will fail if spilling is required.\n",
      "Ray objects:  18%|█▊        | 179/996 [14:10<36:05,  2.65s/it]\u001b[2m\u001b[33m(raylet)\u001b[0m [2024-03-06 00:51:03,431 E 458942 458954] (raylet) file_system_monitor.cc:111: /tmp/ray/session_2024-03-06_00-31-10_957136_458634 is over 95% full, available space: 628848054272; capacity: 16125711347712. Object creation will fail if spilling is required.\n",
      "Ray objects:  18%|█▊        | 180/996 [14:12<30:40,  2.26s/it]\u001b[2m\u001b[33m(raylet)\u001b[0m [2024-03-06 00:51:13,438 E 458942 458954] (raylet) file_system_monitor.cc:111: /tmp/ray/session_2024-03-06_00-31-10_957136_458634 is over 95% full, available space: 628820041728; capacity: 16125711347712. Object creation will fail if spilling is required.\n",
      "Ray objects:  18%|█▊        | 182/996 [14:27<1:03:12,  4.66s/it]\u001b[2m\u001b[33m(raylet)\u001b[0m [2024-03-06 00:51:23,446 E 458942 458954] (raylet) file_system_monitor.cc:111: /tmp/ray/session_2024-03-06_00-31-10_957136_458634 is over 95% full, available space: 628764348416; capacity: 16125711347712. Object creation will fail if spilling is required.\n",
      "\u001b[2m\u001b[33m(raylet)\u001b[0m [2024-03-06 00:51:33,453 E 458942 458954] (raylet) file_system_monitor.cc:111: /tmp/ray/session_2024-03-06_00-31-10_957136_458634 is over 95% full, available space: 628764217344; capacity: 16125711347712. Object creation will fail if spilling is required.\n",
      "Ray objects:  19%|█▊        | 186/996 [14:51<58:13,  4.31s/it]  \u001b[2m\u001b[33m(raylet)\u001b[0m [2024-03-06 00:51:43,461 E 458942 458954] (raylet) file_system_monitor.cc:111: /tmp/ray/session_2024-03-06_00-31-10_957136_458634 is over 95% full, available space: 628653150208; capacity: 16125711347712. Object creation will fail if spilling is required.\n",
      "Ray objects:  19%|█▉        | 188/996 [15:00<1:06:41,  4.95s/it]\u001b[2m\u001b[33m(raylet)\u001b[0m [2024-03-06 00:51:53,469 E 458942 458954] (raylet) file_system_monitor.cc:111: /tmp/ray/session_2024-03-06_00-31-10_957136_458634 is over 95% full, available space: 628611915776; capacity: 16125711347712. Object creation will fail if spilling is required.\n",
      "Ray objects:  20%|█▉        | 195/996 [15:09<20:50,  1.56s/it]  \u001b[2m\u001b[33m(raylet)\u001b[0m [2024-03-06 00:52:03,476 E 458942 458954] (raylet) file_system_monitor.cc:111: /tmp/ray/session_2024-03-06_00-31-10_957136_458634 is over 95% full, available space: 628519718912; capacity: 16125711347712. Object creation will fail if spilling is required.\n",
      "Ray objects:  20%|█▉        | 199/996 [15:15<17:12,  1.30s/it]\u001b[2m\u001b[33m(raylet)\u001b[0m [2024-03-06 00:52:13,484 E 458942 458954] (raylet) file_system_monitor.cc:111: /tmp/ray/session_2024-03-06_00-31-10_957136_458634 is over 95% full, available space: 628467458048; capacity: 16125711347712. Object creation will fail if spilling is required.\n",
      "\u001b[2m\u001b[33m(raylet)\u001b[0m [2024-03-06 00:52:23,492 E 458942 458954] (raylet) file_system_monitor.cc:111: /tmp/ray/session_2024-03-06_00-31-10_957136_458634 is over 95% full, available space: 628467458048; capacity: 16125711347712. Object creation will fail if spilling is required.\n",
      "\u001b[2m\u001b[33m(raylet)\u001b[0m [2024-03-06 00:52:33,500 E 458942 458954] (raylet) file_system_monitor.cc:111: /tmp/ray/session_2024-03-06_00-31-10_957136_458634 is over 95% full, available space: 628467449856; capacity: 16125711347712. Object creation will fail if spilling is required.\n",
      "\u001b[2m\u001b[33m(raylet)\u001b[0m [2024-03-06 00:52:43,507 E 458942 458954] (raylet) file_system_monitor.cc:111: /tmp/ray/session_2024-03-06_00-31-10_957136_458634 is over 95% full, available space: 628467445760; capacity: 16125711347712. Object creation will fail if spilling is required.\n",
      "\u001b[2m\u001b[33m(raylet)\u001b[0m [2024-03-06 00:52:53,515 E 458942 458954] (raylet) file_system_monitor.cc:111: /tmp/ray/session_2024-03-06_00-31-10_957136_458634 is over 95% full, available space: 628467261440; capacity: 16125711347712. Object creation will fail if spilling is required.\n",
      "Ray objects:  20%|██        | 202/996 [16:05<1:53:59,  8.61s/it]\u001b[2m\u001b[33m(raylet)\u001b[0m [2024-03-06 00:53:03,523 E 458942 458954] (raylet) file_system_monitor.cc:111: /tmp/ray/session_2024-03-06_00-31-10_957136_458634 is over 95% full, available space: 628427976704; capacity: 16125711347712. Object creation will fail if spilling is required.\n",
      "\u001b[2m\u001b[33m(raylet)\u001b[0m [2024-03-06 00:53:13,531 E 458942 458954] (raylet) file_system_monitor.cc:111: /tmp/ray/session_2024-03-06_00-31-10_957136_458634 is over 95% full, available space: 628427816960; capacity: 16125711347712. Object creation will fail if spilling is required.\n",
      "\u001b[2m\u001b[33m(raylet)\u001b[0m [2024-03-06 00:53:23,538 E 458942 458954] (raylet) file_system_monitor.cc:111: /tmp/ray/session_2024-03-06_00-31-10_957136_458634 is over 95% full, available space: 628427812864; capacity: 16125711347712. Object creation will fail if spilling is required.\n",
      "\u001b[2m\u001b[33m(raylet)\u001b[0m [2024-03-06 00:53:33,545 E 458942 458954] (raylet) file_system_monitor.cc:111: /tmp/ray/session_2024-03-06_00-31-10_957136_458634 is over 95% full, available space: 628427812864; capacity: 16125711347712. Object creation will fail if spilling is required.\n",
      "Ray objects:  20%|██        | 204/996 [16:51<2:58:32, 13.53s/it]\u001b[2m\u001b[33m(raylet)\u001b[0m [2024-03-06 00:53:43,553 E 458942 458954] (raylet) file_system_monitor.cc:111: /tmp/ray/session_2024-03-06_00-31-10_957136_458634 is over 95% full, available space: 628415299584; capacity: 16125711347712. Object creation will fail if spilling is required.\n",
      "Ray objects:  21%|██        | 206/996 [16:55<1:47:19,  8.15s/it]\u001b[2m\u001b[33m(raylet)\u001b[0m [2024-03-06 00:53:53,560 E 458942 458954] (raylet) file_system_monitor.cc:111: /tmp/ray/session_2024-03-06_00-31-10_957136_458634 is over 95% full, available space: 628402876416; capacity: 16125711347712. Object creation will fail if spilling is required.\n",
      "\u001b[2m\u001b[33m(raylet)\u001b[0m [2024-03-06 00:54:03,568 E 458942 458954] (raylet) file_system_monitor.cc:111: /tmp/ray/session_2024-03-06_00-31-10_957136_458634 is over 95% full, available space: 628402806784; capacity: 16125711347712. Object creation will fail if spilling is required.\n",
      "Ray objects:  21%|██        | 208/996 [17:17<1:54:58,  8.75s/it]\u001b[2m\u001b[33m(raylet)\u001b[0m [2024-03-06 00:54:13,576 E 458942 458954] (raylet) file_system_monitor.cc:111: /tmp/ray/session_2024-03-06_00-31-10_957136_458634 is over 95% full, available space: 628377255936; capacity: 16125711347712. Object creation will fail if spilling is required.\n",
      "\u001b[2m\u001b[33m(raylet)\u001b[0m [2024-03-06 00:54:23,583 E 458942 458954] (raylet) file_system_monitor.cc:111: /tmp/ray/session_2024-03-06_00-31-10_957136_458634 is over 95% full, available space: 628377251840; capacity: 16125711347712. Object creation will fail if spilling is required.\n",
      "\u001b[2m\u001b[33m(raylet)\u001b[0m [2024-03-06 00:54:33,591 E 458942 458954] (raylet) file_system_monitor.cc:111: /tmp/ray/session_2024-03-06_00-31-10_957136_458634 is over 95% full, available space: 628377247744; capacity: 16125711347712. Object creation will fail if spilling is required.\n",
      "\u001b[2m\u001b[33m(raylet)\u001b[0m [2024-03-06 00:54:43,599 E 458942 458954] (raylet) file_system_monitor.cc:111: /tmp/ray/session_2024-03-06_00-31-10_957136_458634 is over 95% full, available space: 628377243648; capacity: 16125711347712. Object creation will fail if spilling is required.\n",
      "\u001b[2m\u001b[33m(raylet)\u001b[0m [2024-03-06 00:54:53,607 E 458942 458954] (raylet) file_system_monitor.cc:111: /tmp/ray/session_2024-03-06_00-31-10_957136_458634 is over 95% full, available space: 628377243648; capacity: 16125711347712. Object creation will fail if spilling is required.\n",
      "\u001b[2m\u001b[33m(raylet)\u001b[0m [2024-03-06 00:55:03,614 E 458942 458954] (raylet) file_system_monitor.cc:111: /tmp/ray/session_2024-03-06_00-31-10_957136_458634 is over 95% full, available space: 628377243648; capacity: 16125711347712. Object creation will fail if spilling is required.\n",
      "\u001b[2m\u001b[33m(raylet)\u001b[0m [2024-03-06 00:55:13,621 E 458942 458954] (raylet) file_system_monitor.cc:111: /tmp/ray/session_2024-03-06_00-31-10_957136_458634 is over 95% full, available space: 628376895488; capacity: 16125711347712. Object creation will fail if spilling is required.\n",
      "Ray objects:  21%|██        | 211/996 [18:29<2:59:03, 13.69s/it]\u001b[2m\u001b[33m(raylet)\u001b[0m [2024-03-06 00:55:23,630 E 458942 458954] (raylet) file_system_monitor.cc:111: /tmp/ray/session_2024-03-06_00-31-10_957136_458634 is over 95% full, available space: 628293582848; capacity: 16125711347712. Object creation will fail if spilling is required.\n",
      "Ray objects:  21%|██▏       | 213/996 [18:37<1:55:24,  8.84s/it]\u001b[2m\u001b[33m(raylet)\u001b[0m [2024-03-06 00:55:33,638 E 458942 458954] (raylet) file_system_monitor.cc:111: /tmp/ray/session_2024-03-06_00-31-10_957136_458634 is over 95% full, available space: 628238233600; capacity: 16125711347712. Object creation will fail if spilling is required.\n",
      "Ray objects:  21%|██▏       | 214/996 [18:46<1:58:53,  9.12s/it]\u001b[2m\u001b[33m(raylet)\u001b[0m [2024-03-06 00:55:43,646 E 458942 458954] (raylet) file_system_monitor.cc:111: /tmp/ray/session_2024-03-06_00-31-10_957136_458634 is over 95% full, available space: 628210556928; capacity: 16125711347712. Object creation will fail if spilling is required.\n",
      "\u001b[2m\u001b[33m(raylet)\u001b[0m [2024-03-06 00:55:53,653 E 458942 458954] (raylet) file_system_monitor.cc:111: /tmp/ray/session_2024-03-06_00-31-10_957136_458634 is over 95% full, available space: 628210487296; capacity: 16125711347712. Object creation will fail if spilling is required.\n",
      "Ray objects:  22%|██▏       | 215/996 [19:03<2:26:25, 11.25s/it]\u001b[2m\u001b[33m(raylet)\u001b[0m [2024-03-06 00:56:03,661 E 458942 458954] (raylet) file_system_monitor.cc:111: /tmp/ray/session_2024-03-06_00-31-10_957136_458634 is over 95% full, available space: 628181639168; capacity: 16125711347712. Object creation will fail if spilling is required.\n",
      "Ray objects:  22%|██▏       | 216/996 [19:14<2:27:15, 11.33s/it]\u001b[2m\u001b[33m(raylet)\u001b[0m [2024-03-06 00:56:13,669 E 458942 458954] (raylet) file_system_monitor.cc:111: /tmp/ray/session_2024-03-06_00-31-10_957136_458634 is over 95% full, available space: 628153729024; capacity: 16125711347712. Object creation will fail if spilling is required.\n",
      "\u001b[2m\u001b[33m(raylet)\u001b[0m [2024-03-06 00:56:23,677 E 458942 458954] (raylet) file_system_monitor.cc:111: /tmp/ray/session_2024-03-06_00-31-10_957136_458634 is over 95% full, available space: 628153724928; capacity: 16125711347712. Object creation will fail if spilling is required.\n",
      "\u001b[2m\u001b[33m(raylet)\u001b[0m [2024-03-06 00:56:33,685 E 458942 458954] (raylet) file_system_monitor.cc:111: /tmp/ray/session_2024-03-06_00-31-10_957136_458634 is over 95% full, available space: 628153724928; capacity: 16125711347712. Object creation will fail if spilling is required.\n",
      "\u001b[2m\u001b[33m(raylet)\u001b[0m [2024-03-06 00:56:43,693 E 458942 458954] (raylet) file_system_monitor.cc:111: /tmp/ray/session_2024-03-06_00-31-10_957136_458634 is over 95% full, available space: 628153724928; capacity: 16125711347712. Object creation will fail if spilling is required.\n",
      "\u001b[2m\u001b[33m(raylet)\u001b[0m [2024-03-06 00:56:53,701 E 458942 458954] (raylet) file_system_monitor.cc:111: /tmp/ray/session_2024-03-06_00-31-10_957136_458634 is over 95% full, available space: 628153720832; capacity: 16125711347712. Object creation will fail if spilling is required.\n",
      "\u001b[2m\u001b[33m(raylet)\u001b[0m [2024-03-06 00:57:03,709 E 458942 458954] (raylet) file_system_monitor.cc:111: /tmp/ray/session_2024-03-06_00-31-10_957136_458634 is over 95% full, available space: 628153716736; capacity: 16125711347712. Object creation will fail if spilling is required.\n",
      "\u001b[2m\u001b[33m(raylet)\u001b[0m [2024-03-06 00:57:13,717 E 458942 458954] (raylet) file_system_monitor.cc:111: /tmp/ray/session_2024-03-06_00-31-10_957136_458634 is over 95% full, available space: 628153556992; capacity: 16125711347712. Object creation will fail if spilling is required.\n",
      "\u001b[2m\u001b[33m(raylet)\u001b[0m [2024-03-06 00:57:23,725 E 458942 458954] (raylet) file_system_monitor.cc:111: /tmp/ray/session_2024-03-06_00-31-10_957136_458634 is over 95% full, available space: 628153552896; capacity: 16125711347712. Object creation will fail if spilling is required.\n",
      "\u001b[2m\u001b[33m(raylet)\u001b[0m [2024-03-06 00:57:33,733 E 458942 458954] (raylet) file_system_monitor.cc:111: /tmp/ray/session_2024-03-06_00-31-10_957136_458634 is over 95% full, available space: 628153552896; capacity: 16125711347712. Object creation will fail if spilling is required.\n",
      "\u001b[2m\u001b[33m(raylet)\u001b[0m [2024-03-06 00:57:43,741 E 458942 458954] (raylet) file_system_monitor.cc:111: /tmp/ray/session_2024-03-06_00-31-10_957136_458634 is over 95% full, available space: 628153548800; capacity: 16125711347712. Object creation will fail if spilling is required.\n",
      "\u001b[2m\u001b[33m(raylet)\u001b[0m [2024-03-06 00:57:53,749 E 458942 458954] (raylet) file_system_monitor.cc:111: /tmp/ray/session_2024-03-06_00-31-10_957136_458634 is over 95% full, available space: 628153487360; capacity: 16125711347712. Object creation will fail if spilling is required.\n",
      "Ray objects:  22%|██▏       | 217/996 [21:09<9:08:28, 42.24s/it]\u001b[2m\u001b[33m(raylet)\u001b[0m [2024-03-06 00:58:03,757 E 458942 458954] (raylet) file_system_monitor.cc:111: /tmp/ray/session_2024-03-06_00-31-10_957136_458634 is over 95% full, available space: 628125327360; capacity: 16125711347712. Object creation will fail if spilling is required.\n",
      "Ray objects:  22%|██▏       | 218/996 [21:13<6:39:00, 30.77s/it]\u001b[2m\u001b[33m(raylet)\u001b[0m [2024-03-06 00:58:13,765 E 458942 458954] (raylet) file_system_monitor.cc:111: /tmp/ray/session_2024-03-06_00-31-10_957136_458634 is over 95% full, available space: 628097187840; capacity: 16125711347712. Object creation will fail if spilling is required.\n",
      "\u001b[2m\u001b[33m(raylet)\u001b[0m [2024-03-06 00:58:23,773 E 458942 458954] (raylet) file_system_monitor.cc:111: /tmp/ray/session_2024-03-06_00-31-10_957136_458634 is over 95% full, available space: 628097064960; capacity: 16125711347712. Object creation will fail if spilling is required.\n",
      "Ray objects:  22%|██▏       | 220/996 [21:38<4:28:50, 20.79s/it]\u001b[2m\u001b[33m(raylet)\u001b[0m [2024-03-06 00:58:33,781 E 458942 458954] (raylet) file_system_monitor.cc:111: /tmp/ray/session_2024-03-06_00-31-10_957136_458634 is over 95% full, available space: 628040822784; capacity: 16125711347712. Object creation will fail if spilling is required.\n",
      "\u001b[2m\u001b[33m(raylet)\u001b[0m [2024-03-06 00:58:43,788 E 458942 458954] (raylet) file_system_monitor.cc:111: /tmp/ray/session_2024-03-06_00-31-10_957136_458634 is over 95% full, available space: 628040753152; capacity: 16125711347712. Object creation will fail if spilling is required.\n",
      "Ray objects:  22%|██▏       | 222/996 [22:00<3:17:04, 15.28s/it]\u001b[2m\u001b[33m(raylet)\u001b[0m [2024-03-06 00:58:53,796 E 458942 458954] (raylet) file_system_monitor.cc:111: /tmp/ray/session_2024-03-06_00-31-10_957136_458634 is over 95% full, available space: 627984531456; capacity: 16125711347712. Object creation will fail if spilling is required.\n",
      "\u001b[2m\u001b[33m(raylet)\u001b[0m [2024-03-06 00:59:03,804 E 458942 458954] (raylet) file_system_monitor.cc:111: /tmp/ray/session_2024-03-06_00-31-10_957136_458634 is over 95% full, available space: 627984404480; capacity: 16125711347712. Object creation will fail if spilling is required.\n",
      "Ray objects:  23%|██▎       | 227/996 [22:21<58:04,  4.53s/it]  \u001b[2m\u001b[33m(raylet)\u001b[0m [2024-03-06 00:59:13,812 E 458942 458954] (raylet) file_system_monitor.cc:111: /tmp/ray/session_2024-03-06_00-31-10_957136_458634 is over 95% full, available space: 627843477504; capacity: 16125711347712. Object creation will fail if spilling is required.\n",
      "Ray objects:  23%|██▎       | 229/996 [22:29<57:52,  4.53s/it]\u001b[2m\u001b[33m(raylet)\u001b[0m [2024-03-06 00:59:23,820 E 458942 458954] (raylet) file_system_monitor.cc:111: /tmp/ray/session_2024-03-06_00-31-10_957136_458634 is over 95% full, available space: 627787231232; capacity: 16125711347712. Object creation will fail if spilling is required.\n",
      "Ray objects:  23%|██▎       | 231/996 [22:40<59:53,  4.70s/it]  \u001b[2m\u001b[33m(raylet)\u001b[0m [2024-03-06 00:59:33,828 E 458942 458954] (raylet) file_system_monitor.cc:111: /tmp/ray/session_2024-03-06_00-31-10_957136_458634 is over 95% full, available space: 627730960384; capacity: 16125711347712. Object creation will fail if spilling is required.\n",
      "\u001b[2m\u001b[33m(raylet)\u001b[0m [2024-03-06 00:59:43,835 E 458942 458954] (raylet) file_system_monitor.cc:111: /tmp/ray/session_2024-03-06_00-31-10_957136_458634 is over 95% full, available space: 627730771968; capacity: 16125711347712. Object creation will fail if spilling is required.\n",
      "Ray objects:  24%|██▎       | 236/996 [23:01<40:54,  3.23s/it]  \u001b[2m\u001b[33m(raylet)\u001b[0m [2024-03-06 00:59:53,843 E 458942 458954] (raylet) file_system_monitor.cc:111: /tmp/ray/session_2024-03-06_00-31-10_957136_458634 is over 95% full, available space: 627589746688; capacity: 16125711347712. Object creation will fail if spilling is required.\n",
      "Ray objects:  25%|██▍       | 246/996 [23:11<13:40,  1.09s/it]\u001b[2m\u001b[33m(raylet)\u001b[0m [2024-03-06 01:00:03,851 E 458942 458954] (raylet) file_system_monitor.cc:111: /tmp/ray/session_2024-03-06_00-31-10_957136_458634 is over 95% full, available space: 627351986176; capacity: 16125711347712. Object creation will fail if spilling is required.\n",
      "Ray objects:  25%|██▍       | 248/996 [23:14<14:41,  1.18s/it]\u001b[2m\u001b[33m(raylet)\u001b[0m [2024-03-06 01:00:13,858 E 458942 458954] (raylet) file_system_monitor.cc:111: /tmp/ray/session_2024-03-06_00-31-10_957136_458634 is over 95% full, available space: 627317420032; capacity: 16125711347712. Object creation will fail if spilling is required.\n",
      "\u001b[2m\u001b[33m(raylet)\u001b[0m [2024-03-06 01:00:23,866 E 458942 458954] (raylet) file_system_monitor.cc:111: /tmp/ray/session_2024-03-06_00-31-10_957136_458634 is over 95% full, available space: 627317399552; capacity: 16125711347712. Object creation will fail if spilling is required.\n",
      "Ray objects:  25%|██▌       | 250/996 [23:41<1:19:35,  6.40s/it]\u001b[2m\u001b[33m(raylet)\u001b[0m [2024-03-06 01:00:33,874 E 458942 458954] (raylet) file_system_monitor.cc:111: /tmp/ray/session_2024-03-06_00-31-10_957136_458634 is over 95% full, available space: 627305754624; capacity: 16125711347712. Object creation will fail if spilling is required.\n",
      "Ray objects:  25%|██▌       | 253/996 [23:49<54:18,  4.39s/it]  \u001b[2m\u001b[33m(raylet)\u001b[0m [2024-03-06 01:00:43,881 E 458942 458954] (raylet) file_system_monitor.cc:111: /tmp/ray/session_2024-03-06_00-31-10_957136_458634 is over 95% full, available space: 627288436736; capacity: 16125711347712. Object creation will fail if spilling is required.\n",
      "Ray objects:  26%|██▌       | 256/996 [23:58<35:57,  2.92s/it]  \u001b[2m\u001b[33m(raylet)\u001b[0m [2024-03-06 01:00:53,889 E 458942 458954] (raylet) file_system_monitor.cc:111: /tmp/ray/session_2024-03-06_00-31-10_957136_458634 is over 95% full, available space: 627259805696; capacity: 16125711347712. Object creation will fail if spilling is required.\n",
      "Ray objects:  26%|██▌       | 261/996 [24:11<27:33,  2.25s/it]\u001b[2m\u001b[33m(raylet)\u001b[0m [2024-03-06 01:01:03,896 E 458942 458954] (raylet) file_system_monitor.cc:111: /tmp/ray/session_2024-03-06_00-31-10_957136_458634 is over 95% full, available space: 627186388992; capacity: 16125711347712. Object creation will fail if spilling is required.\n",
      "Ray objects:  27%|██▋       | 267/996 [24:19<12:53,  1.06s/it]\u001b[2m\u001b[33m(raylet)\u001b[0m [2024-03-06 01:01:13,904 E 458942 458954] (raylet) file_system_monitor.cc:111: /tmp/ray/session_2024-03-06_00-31-10_957136_458634 is over 95% full, available space: 627084816384; capacity: 16125711347712. Object creation will fail if spilling is required.\n",
      "Ray objects:  27%|██▋       | 268/996 [24:24<24:08,  1.99s/it]\u001b[2m\u001b[33m(raylet)\u001b[0m [2024-03-06 01:01:23,912 E 458942 458954] (raylet) file_system_monitor.cc:111: /tmp/ray/session_2024-03-06_00-31-10_957136_458634 is over 95% full, available space: 627067961344; capacity: 16125711347712. Object creation will fail if spilling is required.\n",
      "\u001b[2m\u001b[33m(raylet)\u001b[0m [2024-03-06 01:01:33,919 E 458942 458954] (raylet) file_system_monitor.cc:111: /tmp/ray/session_2024-03-06_00-31-10_957136_458634 is over 95% full, available space: 627067957248; capacity: 16125711347712. Object creation will fail if spilling is required.\n",
      "\u001b[2m\u001b[33m(raylet)\u001b[0m [2024-03-06 01:01:43,926 E 458942 458954] (raylet) file_system_monitor.cc:111: /tmp/ray/session_2024-03-06_00-31-10_957136_458634 is over 95% full, available space: 627067936768; capacity: 16125711347712. Object creation will fail if spilling is required.\n",
      "\u001b[2m\u001b[33m(raylet)\u001b[0m [2024-03-06 01:01:53,933 E 458942 458954] (raylet) file_system_monitor.cc:111: /tmp/ray/session_2024-03-06_00-31-10_957136_458634 is over 95% full, available space: 627067936768; capacity: 16125711347712. Object creation will fail if spilling is required.\n",
      "\u001b[2m\u001b[33m(raylet)\u001b[0m [2024-03-06 01:02:03,941 E 458942 458954] (raylet) file_system_monitor.cc:111: /tmp/ray/session_2024-03-06_00-31-10_957136_458634 is over 95% full, available space: 627067801600; capacity: 16125711347712. Object creation will fail if spilling is required.\n",
      "Ray objects:  27%|██▋       | 270/996 [25:14<2:20:47, 11.64s/it]\u001b[2m\u001b[33m(raylet)\u001b[0m [2024-03-06 01:02:13,950 E 458942 458954] (raylet) file_system_monitor.cc:111: /tmp/ray/session_2024-03-06_00-31-10_957136_458634 is over 95% full, available space: 627055013888; capacity: 16125711347712. Object creation will fail if spilling is required.\n",
      "\u001b[2m\u001b[33m(raylet)\u001b[0m [2024-03-06 01:02:23,957 E 458942 458954] (raylet) file_system_monitor.cc:111: /tmp/ray/session_2024-03-06_00-31-10_957136_458634 is over 95% full, available space: 627055013888; capacity: 16125711347712. Object creation will fail if spilling is required.\n",
      "Ray objects:  27%|██▋       | 272/996 [25:41<2:21:51, 11.76s/it]\u001b[2m\u001b[33m(raylet)\u001b[0m [2024-03-06 01:02:33,965 E 458942 458954] (raylet) file_system_monitor.cc:111: /tmp/ray/session_2024-03-06_00-31-10_957136_458634 is over 95% full, available space: 627042254848; capacity: 16125711347712. Object creation will fail if spilling is required.\n",
      "\u001b[2m\u001b[33m(raylet)\u001b[0m [2024-03-06 01:02:43,973 E 458942 458954] (raylet) file_system_monitor.cc:111: /tmp/ray/session_2024-03-06_00-31-10_957136_458634 is over 95% full, available space: 627042250752; capacity: 16125711347712. Object creation will fail if spilling is required.\n",
      "\u001b[2m\u001b[33m(raylet)\u001b[0m [2024-03-06 01:02:53,982 E 458942 458954] (raylet) file_system_monitor.cc:111: /tmp/ray/session_2024-03-06_00-31-10_957136_458634 is over 95% full, available space: 627042250752; capacity: 16125711347712. Object creation will fail if spilling is required.\n",
      "\u001b[2m\u001b[33m(raylet)\u001b[0m [2024-03-06 01:03:03,990 E 458942 458954] (raylet) file_system_monitor.cc:111: /tmp/ray/session_2024-03-06_00-31-10_957136_458634 is over 95% full, available space: 627042242560; capacity: 16125711347712. Object creation will fail if spilling is required.\n",
      "\u001b[2m\u001b[33m(raylet)\u001b[0m [2024-03-06 01:03:13,998 E 458942 458954] (raylet) file_system_monitor.cc:111: /tmp/ray/session_2024-03-06_00-31-10_957136_458634 is over 95% full, available space: 627042086912; capacity: 16125711347712. Object creation will fail if spilling is required.\n",
      "Ray objects:  28%|██▊       | 275/996 [26:28<2:16:03, 11.32s/it]\u001b[2m\u001b[33m(raylet)\u001b[0m [2024-03-06 01:03:24,006 E 458942 458954] (raylet) file_system_monitor.cc:111: /tmp/ray/session_2024-03-06_00-31-10_957136_458634 is over 95% full, available space: 627002986496; capacity: 16125711347712. Object creation will fail if spilling is required.\n",
      "Ray objects:  28%|██▊       | 276/996 [26:35<2:01:37, 10.14s/it]\u001b[2m\u001b[33m(raylet)\u001b[0m [2024-03-06 01:03:34,015 E 458942 458954] (raylet) file_system_monitor.cc:111: /tmp/ray/session_2024-03-06_00-31-10_957136_458634 is over 95% full, available space: 626989936640; capacity: 16125711347712. Object creation will fail if spilling is required.\n",
      "Ray objects:  28%|██▊       | 277/996 [26:43<1:54:27,  9.55s/it]\u001b[2m\u001b[33m(raylet)\u001b[0m [2024-03-06 01:03:44,025 E 458942 458954] (raylet) file_system_monitor.cc:111: /tmp/ray/session_2024-03-06_00-31-10_957136_458634 is over 95% full, available space: 626976948224; capacity: 16125711347712. Object creation will fail if spilling is required.\n",
      "\u001b[2m\u001b[33m(raylet)\u001b[0m [2024-03-06 01:03:54,034 E 458942 458954] (raylet) file_system_monitor.cc:111: /tmp/ray/session_2024-03-06_00-31-10_957136_458634 is over 95% full, available space: 626976694272; capacity: 16125711347712. Object creation will fail if spilling is required.\n",
      "Ray objects:  28%|██▊       | 281/996 [27:06<1:02:18,  5.23s/it]\u001b[2m\u001b[33m(raylet)\u001b[0m [2024-03-06 01:04:04,042 E 458942 458954] (raylet) file_system_monitor.cc:111: /tmp/ray/session_2024-03-06_00-31-10_957136_458634 is over 95% full, available space: 626879401984; capacity: 16125711347712. Object creation will fail if spilling is required.\n",
      "Ray objects:  28%|██▊       | 283/996 [27:18<1:01:59,  5.22s/it]\u001b[2m\u001b[33m(raylet)\u001b[0m [2024-03-06 01:04:14,050 E 458942 458954] (raylet) file_system_monitor.cc:111: /tmp/ray/session_2024-03-06_00-31-10_957136_458634 is over 95% full, available space: 626822991872; capacity: 16125711347712. Object creation will fail if spilling is required.\n",
      "Ray objects:  29%|██▊       | 285/996 [27:27<56:40,  4.78s/it]  \u001b[2m\u001b[33m(raylet)\u001b[0m [2024-03-06 01:04:24,058 E 458942 458954] (raylet) file_system_monitor.cc:111: /tmp/ray/session_2024-03-06_00-31-10_957136_458634 is over 95% full, available space: 626781954048; capacity: 16125711347712. Object creation will fail if spilling is required.\n",
      "Ray objects:  29%|██▊       | 286/996 [27:33<59:44,  5.05s/it]\u001b[2m\u001b[33m(raylet)\u001b[0m [2024-03-06 01:04:34,066 E 458942 458954] (raylet) file_system_monitor.cc:111: /tmp/ray/session_2024-03-06_00-31-10_957136_458634 is over 95% full, available space: 626768908288; capacity: 16125711347712. Object creation will fail if spilling is required.\n",
      "\u001b[2m\u001b[33m(raylet)\u001b[0m [2024-03-06 01:04:44,073 E 458942 458954] (raylet) file_system_monitor.cc:111: /tmp/ray/session_2024-03-06_00-31-10_957136_458634 is over 95% full, available space: 626768900096; capacity: 16125711347712. Object creation will fail if spilling is required.\n",
      "Ray objects:  29%|██▉       | 287/996 [28:01<2:21:09, 11.95s/it]\u001b[2m\u001b[33m(raylet)\u001b[0m [2024-03-06 01:04:54,081 E 458942 458954] (raylet) file_system_monitor.cc:111: /tmp/ray/session_2024-03-06_00-31-10_957136_458634 is over 95% full, available space: 626740514816; capacity: 16125711347712. Object creation will fail if spilling is required.\n",
      "Ray objects:  29%|██▉       | 291/996 [28:11<52:29,  4.47s/it]  \u001b[2m\u001b[33m(raylet)\u001b[0m [2024-03-06 01:05:04,089 E 458942 458954] (raylet) file_system_monitor.cc:111: /tmp/ray/session_2024-03-06_00-31-10_957136_458634 is over 95% full, available space: 626627371008; capacity: 16125711347712. Object creation will fail if spilling is required.\n",
      "Ray objects:  30%|██▉       | 295/996 [28:20<37:02,  3.17s/it]\u001b[2m\u001b[33m(raylet)\u001b[0m [2024-03-06 01:05:14,097 E 458942 458954] (raylet) file_system_monitor.cc:111: /tmp/ray/session_2024-03-06_00-31-10_957136_458634 is over 95% full, available space: 626575163392; capacity: 16125711347712. Object creation will fail if spilling is required.\n",
      "Ray objects:  30%|██▉       | 296/996 [28:22<35:01,  3.00s/it]\u001b[2m\u001b[33m(raylet)\u001b[0m [2024-03-06 01:05:24,105 E 458942 458954] (raylet) file_system_monitor.cc:111: /tmp/ray/session_2024-03-06_00-31-10_957136_458634 is over 95% full, available space: 626562166784; capacity: 16125711347712. Object creation will fail if spilling is required.\n",
      "\u001b[2m\u001b[33m(raylet)\u001b[0m [2024-03-06 01:05:34,112 E 458942 458954] (raylet) file_system_monitor.cc:111: /tmp/ray/session_2024-03-06_00-31-10_957136_458634 is over 95% full, available space: 626562162688; capacity: 16125711347712. Object creation will fail if spilling is required.\n",
      "Ray objects:  30%|██▉       | 297/996 [28:51<2:05:46, 10.80s/it]\u001b[2m\u001b[33m(raylet)\u001b[0m [2024-03-06 01:05:44,120 E 458942 458954] (raylet) file_system_monitor.cc:111: /tmp/ray/session_2024-03-06_00-31-10_957136_458634 is over 95% full, available space: 626549088256; capacity: 16125711347712. Object creation will fail if spilling is required.\n",
      "Ray objects:  30%|███       | 300/996 [29:00<1:02:14,  5.37s/it]\u001b[2m\u001b[33m(raylet)\u001b[0m [2024-03-06 01:05:54,128 E 458942 458954] (raylet) file_system_monitor.cc:111: /tmp/ray/session_2024-03-06_00-31-10_957136_458634 is over 95% full, available space: 626509844480; capacity: 16125711347712. Object creation will fail if spilling is required.\n",
      "\u001b[2m\u001b[33m(raylet)\u001b[0m [2024-03-06 01:06:04,136 E 458942 458954] (raylet) file_system_monitor.cc:111: /tmp/ray/session_2024-03-06_00-31-10_957136_458634 is over 95% full, available space: 626509709312; capacity: 16125711347712. Object creation will fail if spilling is required.\n",
      "Ray objects:  30%|███       | 303/996 [29:20<1:09:41,  6.03s/it]\u001b[2m\u001b[33m(raylet)\u001b[0m [2024-03-06 01:06:14,144 E 458942 458954] (raylet) file_system_monitor.cc:111: /tmp/ray/session_2024-03-06_00-31-10_957136_458634 is over 95% full, available space: 626470313984; capacity: 16125711347712. Object creation will fail if spilling is required.\n",
      "Ray objects:  31%|███       | 304/996 [29:22<55:12,  4.79s/it]  \u001b[2m\u001b[33m(raylet)\u001b[0m [2024-03-06 01:06:24,152 E 458942 458954] (raylet) file_system_monitor.cc:111: /tmp/ray/session_2024-03-06_00-31-10_957136_458634 is over 95% full, available space: 626457280512; capacity: 16125711347712. Object creation will fail if spilling is required.\n",
      "Ray objects:  31%|███       | 306/996 [29:40<1:14:27,  6.47s/it]\u001b[2m\u001b[33m(raylet)\u001b[0m [2024-03-06 01:06:34,160 E 458942 458954] (raylet) file_system_monitor.cc:111: /tmp/ray/session_2024-03-06_00-31-10_957136_458634 is over 95% full, available space: 626431496192; capacity: 16125711347712. Object creation will fail if spilling is required.\n",
      "Ray objects:  31%|███       | 307/996 [29:48<1:18:55,  6.87s/it]\u001b[2m\u001b[33m(raylet)\u001b[0m [2024-03-06 01:06:44,168 E 458942 458954] (raylet) file_system_monitor.cc:111: /tmp/ray/session_2024-03-06_00-31-10_957136_458634 is over 95% full, available space: 626424840192; capacity: 16125711347712. Object creation will fail if spilling is required.\n",
      "Ray objects:  31%|███       | 310/996 [29:58<49:58,  4.37s/it]  \u001b[2m\u001b[33m(raylet)\u001b[0m [2024-03-06 01:06:54,177 E 458942 458954] (raylet) file_system_monitor.cc:111: /tmp/ray/session_2024-03-06_00-31-10_957136_458634 is over 95% full, available space: 626400403456; capacity: 16125711347712. Object creation will fail if spilling is required.\n",
      "Ray objects:  31%|███▏      | 312/996 [30:05<42:31,  3.73s/it]\u001b[2m\u001b[33m(raylet)\u001b[0m [2024-03-06 01:07:04,185 E 458942 458954] (raylet) file_system_monitor.cc:111: /tmp/ray/session_2024-03-06_00-31-10_957136_458634 is over 95% full, available space: 626374660096; capacity: 16125711347712. Object creation will fail if spilling is required.\n",
      "Ray objects:  32%|███▏      | 317/996 [30:21<26:30,  2.34s/it]  \u001b[2m\u001b[33m(raylet)\u001b[0m [2024-03-06 01:07:14,193 E 458942 458954] (raylet) file_system_monitor.cc:111: /tmp/ray/session_2024-03-06_00-31-10_957136_458634 is over 95% full, available space: 626335043584; capacity: 16125711347712. Object creation will fail if spilling is required.\n",
      "Ray objects:  32%|███▏      | 321/996 [30:32<24:00,  2.13s/it]\u001b[2m\u001b[33m(raylet)\u001b[0m [2024-03-06 01:07:24,200 E 458942 458954] (raylet) file_system_monitor.cc:111: /tmp/ray/session_2024-03-06_00-31-10_957136_458634 is over 95% full, available space: 626285215744; capacity: 16125711347712. Object creation will fail if spilling is required.\n",
      "Ray objects:  33%|███▎      | 324/996 [30:38<21:30,  1.92s/it]\u001b[2m\u001b[33m(raylet)\u001b[0m [2024-03-06 01:07:34,208 E 458942 458954] (raylet) file_system_monitor.cc:111: /tmp/ray/session_2024-03-06_00-31-10_957136_458634 is over 95% full, available space: 626230333440; capacity: 16125711347712. Object creation will fail if spilling is required.\n",
      "Ray objects:  33%|███▎      | 326/996 [30:45<27:36,  2.47s/it]\u001b[2m\u001b[33m(raylet)\u001b[0m [2024-03-06 01:07:44,216 E 458942 458954] (raylet) file_system_monitor.cc:111: /tmp/ray/session_2024-03-06_00-31-10_957136_458634 is over 95% full, available space: 626206437376; capacity: 16125711347712. Object creation will fail if spilling is required.\n",
      "\u001b[2m\u001b[33m(raylet)\u001b[0m [2024-03-06 01:07:54,223 E 458942 458954] (raylet) file_system_monitor.cc:111: /tmp/ray/session_2024-03-06_00-31-10_957136_458634 is over 95% full, available space: 626206375936; capacity: 16125711347712. Object creation will fail if spilling is required.\n",
      "Ray objects:  33%|███▎      | 327/996 [31:04<1:22:14,  7.38s/it]\u001b[2m\u001b[33m(raylet)\u001b[0m [2024-03-06 01:08:04,231 E 458942 458954] (raylet) file_system_monitor.cc:111: /tmp/ray/session_2024-03-06_00-31-10_957136_458634 is over 95% full, available space: 626189213696; capacity: 16125711347712. Object creation will fail if spilling is required.\n",
      "Ray objects:  33%|███▎      | 329/996 [31:21<1:23:09,  7.48s/it]\u001b[2m\u001b[33m(raylet)\u001b[0m [2024-03-06 01:08:14,239 E 458942 458954] (raylet) file_system_monitor.cc:111: /tmp/ray/session_2024-03-06_00-31-10_957136_458634 is over 95% full, available space: 626177220608; capacity: 16125711347712. Object creation will fail if spilling is required.\n",
      "Ray objects:  33%|███▎      | 330/996 [31:29<1:25:31,  7.71s/it]\u001b[2m\u001b[33m(raylet)\u001b[0m [2024-03-06 01:08:24,247 E 458942 458954] (raylet) file_system_monitor.cc:111: /tmp/ray/session_2024-03-06_00-31-10_957136_458634 is over 95% full, available space: 626171289600; capacity: 16125711347712. Object creation will fail if spilling is required.\n",
      "Ray objects:  33%|███▎      | 332/996 [31:37<1:02:19,  5.63s/it]\u001b[2m\u001b[33m(raylet)\u001b[0m [2024-03-06 01:08:34,255 E 458942 458954] (raylet) file_system_monitor.cc:111: /tmp/ray/session_2024-03-06_00-31-10_957136_458634 is over 95% full, available space: 626159386624; capacity: 16125711347712. Object creation will fail if spilling is required.\n",
      "Ray objects:  34%|███▎      | 335/996 [31:51<52:42,  4.78s/it]  \u001b[2m\u001b[33m(raylet)\u001b[0m [2024-03-06 01:08:44,263 E 458942 458954] (raylet) file_system_monitor.cc:111: /tmp/ray/session_2024-03-06_00-31-10_957136_458634 is over 95% full, available space: 626141478912; capacity: 16125711347712. Object creation will fail if spilling is required.\n",
      "Ray objects:  34%|███▎      | 336/996 [32:01<1:08:34,  6.23s/it]\u001b[2m\u001b[33m(raylet)\u001b[0m [2024-03-06 01:08:54,270 E 458942 458954] (raylet) file_system_monitor.cc:111: /tmp/ray/session_2024-03-06_00-31-10_957136_458634 is over 95% full, available space: 626135293952; capacity: 16125711347712. Object creation will fail if spilling is required.\n",
      "\u001b[2m\u001b[33m(raylet)\u001b[0m [2024-03-06 01:09:04,278 E 458942 458954] (raylet) file_system_monitor.cc:111: /tmp/ray/session_2024-03-06_00-31-10_957136_458634 is over 95% full, available space: 626135277568; capacity: 16125711347712. Object creation will fail if spilling is required.\n",
      "Ray objects:  34%|███▍      | 339/996 [32:21<58:32,  5.35s/it]  \u001b[2m\u001b[33m(raylet)\u001b[0m [2024-03-06 01:09:14,286 E 458942 458954] (raylet) file_system_monitor.cc:111: /tmp/ray/session_2024-03-06_00-31-10_957136_458634 is over 95% full, available space: 626102067200; capacity: 16125711347712. Object creation will fail if spilling is required.\n",
      "Ray objects:  34%|███▍      | 341/996 [32:23<32:41,  2.99s/it]\u001b[2m\u001b[33m(raylet)\u001b[0m [2024-03-06 01:09:24,293 E 458942 458954] (raylet) file_system_monitor.cc:111: /tmp/ray/session_2024-03-06_00-31-10_957136_458634 is over 95% full, available space: 626089435136; capacity: 16125711347712. Object creation will fail if spilling is required.\n",
      "Ray objects:  35%|███▍      | 347/996 [32:36<19:22,  1.79s/it]\u001b[2m\u001b[33m(raylet)\u001b[0m [2024-03-06 01:09:34,301 E 458942 458954] (raylet) file_system_monitor.cc:111: /tmp/ray/session_2024-03-06_00-31-10_957136_458634 is over 95% full, available space: 625986170880; capacity: 16125711347712. Object creation will fail if spilling is required.\n",
      "Ray objects:  35%|███▌      | 349/996 [32:49<37:56,  3.52s/it]\u001b[2m\u001b[33m(raylet)\u001b[0m [2024-03-06 01:09:44,309 E 458942 458954] (raylet) file_system_monitor.cc:111: /tmp/ray/session_2024-03-06_00-31-10_957136_458634 is over 95% full, available space: 625925558272; capacity: 16125711347712. Object creation will fail if spilling is required.\n",
      "\u001b[2m\u001b[33m(raylet)\u001b[0m [2024-03-06 01:09:54,317 E 458942 458954] (raylet) file_system_monitor.cc:111: /tmp/ray/session_2024-03-06_00-31-10_957136_458634 is over 95% full, available space: 625925550080; capacity: 16125711347712. Object creation will fail if spilling is required.\n",
      "Ray objects:  35%|███▌      | 351/996 [33:11<1:08:34,  6.38s/it]\u001b[2m\u001b[33m(raylet)\u001b[0m [2024-03-06 01:10:04,325 E 458942 458954] (raylet) file_system_monitor.cc:111: /tmp/ray/session_2024-03-06_00-31-10_957136_458634 is over 95% full, available space: 625869606912; capacity: 16125711347712. Object creation will fail if spilling is required.\n",
      "Ray objects:  35%|███▌      | 353/996 [33:21<1:04:38,  6.03s/it]\u001b[2m\u001b[36m(wrapped_fn pid=459032)\u001b[0m WARNING:nuplan.planning.simulation.planner.idm_planner:IDMPlanner could not find valid path to the target roadblock. Using longest route found instead\n",
      "\u001b[2m\u001b[33m(raylet)\u001b[0m [2024-03-06 01:10:14,332 E 458942 458954] (raylet) file_system_monitor.cc:111: /tmp/ray/session_2024-03-06_00-31-10_957136_458634 is over 95% full, available space: 625813577728; capacity: 16125711347712. Object creation will fail if spilling is required.\n",
      "Ray objects:  36%|███▌      | 355/996 [33:23<35:55,  3.36s/it]  \u001b[2m\u001b[33m(raylet)\u001b[0m [2024-03-06 01:10:24,340 E 458942 458954] (raylet) file_system_monitor.cc:111: /tmp/ray/session_2024-03-06_00-31-10_957136_458634 is over 95% full, available space: 625757339648; capacity: 16125711347712. Object creation will fail if spilling is required.\n",
      "\u001b[2m\u001b[36m(wrapped_fn pid=459050)\u001b[0m WARNING:nuplan.planning.simulation.planner.idm_planner:IDMPlanner could not find valid path to the target roadblock. Using longest route found instead\u001b[32m [repeated 3x across cluster] (Ray deduplicates logs by default. Set RAY_DEDUP_LOGS=0 to disable log deduplication, or see https://docs.ray.io/en/master/ray-observability/ray-logging.html#log-deduplication for more options.)\u001b[0m\n",
      "\u001b[2m\u001b[33m(raylet)\u001b[0m [2024-03-06 01:10:34,347 E 458942 458954] (raylet) file_system_monitor.cc:111: /tmp/ray/session_2024-03-06_00-31-10_957136_458634 is over 95% full, available space: 625757315072; capacity: 16125711347712. Object creation will fail if spilling is required.\n",
      "\u001b[2m\u001b[33m(raylet)\u001b[0m [2024-03-06 01:10:44,355 E 458942 458954] (raylet) file_system_monitor.cc:111: /tmp/ray/session_2024-03-06_00-31-10_957136_458634 is over 95% full, available space: 625757310976; capacity: 16125711347712. Object creation will fail if spilling is required.\n",
      "\u001b[2m\u001b[36m(wrapped_fn pid=459056)\u001b[0m WARNING:nuplan.planning.simulation.planner.idm_planner:IDMPlanner could not find valid path to the target roadblock. Using longest route found instead\u001b[32m [repeated 2x across cluster]\u001b[0m\n",
      "\u001b[2m\u001b[33m(raylet)\u001b[0m [2024-03-06 01:10:54,363 E 458942 458954] (raylet) file_system_monitor.cc:111: /tmp/ray/session_2024-03-06_00-31-10_957136_458634 is over 95% full, available space: 625757294592; capacity: 16125711347712. Object creation will fail if spilling is required.\n",
      "\u001b[2m\u001b[36m(wrapped_fn pid=459040)\u001b[0m WARNING:nuplan.planning.simulation.planner.idm_planner:IDMPlanner could not find valid path to the target roadblock. Using longest route found instead\u001b[32m [repeated 3x across cluster]\u001b[0m\n",
      "\u001b[2m\u001b[33m(raylet)\u001b[0m [2024-03-06 01:11:04,371 E 458942 458954] (raylet) file_system_monitor.cc:111: /tmp/ray/session_2024-03-06_00-31-10_957136_458634 is over 95% full, available space: 625757282304; capacity: 16125711347712. Object creation will fail if spilling is required.\n",
      "\u001b[2m\u001b[33m(raylet)\u001b[0m [2024-03-06 01:11:14,378 E 458942 458954] (raylet) file_system_monitor.cc:111: /tmp/ray/session_2024-03-06_00-31-10_957136_458634 is over 95% full, available space: 625757249536; capacity: 16125711347712. Object creation will fail if spilling is required.\n",
      "\u001b[2m\u001b[33m(raylet)\u001b[0m [2024-03-06 01:11:24,386 E 458942 458954] (raylet) file_system_monitor.cc:111: /tmp/ray/session_2024-03-06_00-31-10_957136_458634 is over 95% full, available space: 625757245440; capacity: 16125711347712. Object creation will fail if spilling is required.\n",
      "\u001b[2m\u001b[33m(raylet)\u001b[0m [2024-03-06 01:11:34,393 E 458942 458954] (raylet) file_system_monitor.cc:111: /tmp/ray/session_2024-03-06_00-31-10_957136_458634 is over 95% full, available space: 625757245440; capacity: 16125711347712. Object creation will fail if spilling is required.\n",
      "\u001b[2m\u001b[33m(raylet)\u001b[0m [2024-03-06 01:11:44,401 E 458942 458954] (raylet) file_system_monitor.cc:111: /tmp/ray/session_2024-03-06_00-31-10_957136_458634 is over 95% full, available space: 625757241344; capacity: 16125711347712. Object creation will fail if spilling is required.\n",
      "\u001b[2m\u001b[33m(raylet)\u001b[0m [2024-03-06 01:11:54,410 E 458942 458954] (raylet) file_system_monitor.cc:111: /tmp/ray/session_2024-03-06_00-31-10_957136_458634 is over 95% full, available space: 625757241344; capacity: 16125711347712. Object creation will fail if spilling is required.\n",
      "Ray objects:  36%|███▌      | 356/996 [35:05<5:51:39, 32.97s/it]\u001b[2m\u001b[33m(raylet)\u001b[0m [2024-03-06 01:12:04,419 E 458942 458954] (raylet) file_system_monitor.cc:111: /tmp/ray/session_2024-03-06_00-31-10_957136_458634 is over 95% full, available space: 625750884352; capacity: 16125711347712. Object creation will fail if spilling is required.\n",
      "Ray objects:  36%|███▌      | 359/996 [35:21<2:30:59, 14.22s/it]\u001b[2m\u001b[33m(raylet)\u001b[0m [2024-03-06 01:12:14,427 E 458942 458954] (raylet) file_system_monitor.cc:111: /tmp/ray/session_2024-03-06_00-31-10_957136_458634 is over 95% full, available space: 625731608576; capacity: 16125711347712. Object creation will fail if spilling is required.\n",
      "Ray objects:  36%|███▌      | 361/996 [35:30<1:34:01,  8.88s/it]\u001b[2m\u001b[33m(raylet)\u001b[0m [2024-03-06 01:12:24,435 E 458942 458954] (raylet) file_system_monitor.cc:111: /tmp/ray/session_2024-03-06_00-31-10_957136_458634 is over 95% full, available space: 625718886400; capacity: 16125711347712. Object creation will fail if spilling is required.\n",
      "Ray objects:  37%|███▋      | 365/996 [35:39<39:36,  3.77s/it]  \u001b[2m\u001b[33m(raylet)\u001b[0m [2024-03-06 01:12:34,442 E 458942 458954] (raylet) file_system_monitor.cc:111: /tmp/ray/session_2024-03-06_00-31-10_957136_458634 is over 95% full, available space: 625649811456; capacity: 16125711347712. Object creation will fail if spilling is required.\n",
      "Ray objects:  37%|███▋      | 367/996 [35:49<45:12,  4.31s/it]\u001b[2m\u001b[33m(raylet)\u001b[0m [2024-03-06 01:12:44,450 E 458942 458954] (raylet) file_system_monitor.cc:111: /tmp/ray/session_2024-03-06_00-31-10_957136_458634 is over 95% full, available space: 625637142528; capacity: 16125711347712. Object creation will fail if spilling is required.\n",
      "\u001b[2m\u001b[36m(wrapped_fn pid=459044)\u001b[0m WARNING:nuplan.planning.simulation.planner.idm_planner:IDMPlanner could not find valid path to the target roadblock. Using longest route found instead\u001b[32m [repeated 3x across cluster]\u001b[0m\n",
      "\u001b[2m\u001b[33m(raylet)\u001b[0m [2024-03-06 01:12:54,457 E 458942 458954] (raylet) file_system_monitor.cc:111: /tmp/ray/session_2024-03-06_00-31-10_957136_458634 is over 95% full, available space: 625637130240; capacity: 16125711347712. Object creation will fail if spilling is required.\n",
      "\u001b[2m\u001b[36m(wrapped_fn pid=459041)\u001b[0m WARNING:nuplan.planning.simulation.planner.idm_planner:IDMPlanner could not find valid path to the target roadblock. Using longest route found instead\n",
      "\u001b[2m\u001b[36m(wrapped_fn pid=459028)\u001b[0m WARNING:nuplan.planning.simulation.planner.idm_planner:IDMPlanner could not find valid path to the target roadblock. Using longest route found instead\n",
      "\u001b[2m\u001b[33m(raylet)\u001b[0m [2024-03-06 01:13:04,465 E 458942 458954] (raylet) file_system_monitor.cc:111: /tmp/ray/session_2024-03-06_00-31-10_957136_458634 is over 95% full, available space: 625637113856; capacity: 16125711347712. Object creation will fail if spilling is required.\n",
      "\u001b[2m\u001b[33m(raylet)\u001b[0m [2024-03-06 01:13:14,473 E 458942 458954] (raylet) file_system_monitor.cc:111: /tmp/ray/session_2024-03-06_00-31-10_957136_458634 is over 95% full, available space: 625636986880; capacity: 16125711347712. Object creation will fail if spilling is required.\n",
      "Ray objects:  37%|███▋      | 368/996 [36:27<2:31:31, 14.48s/it]\u001b[2m\u001b[33m(raylet)\u001b[0m [2024-03-06 01:13:24,481 E 458942 458954] (raylet) file_system_monitor.cc:111: /tmp/ray/session_2024-03-06_00-31-10_957136_458634 is over 95% full, available space: 625630666752; capacity: 16125711347712. Object creation will fail if spilling is required.\n",
      "\u001b[2m\u001b[33m(raylet)\u001b[0m [2024-03-06 01:13:34,488 E 458942 458954] (raylet) file_system_monitor.cc:111: /tmp/ray/session_2024-03-06_00-31-10_957136_458634 is over 95% full, available space: 625630658560; capacity: 16125711347712. Object creation will fail if spilling is required.\n",
      "Ray objects:  37%|███▋      | 370/996 [36:46<1:56:17, 11.15s/it]\u001b[2m\u001b[33m(raylet)\u001b[0m [2024-03-06 01:13:44,506 E 458942 458954] (raylet) file_system_monitor.cc:111: /tmp/ray/session_2024-03-06_00-31-10_957136_458634 is over 95% full, available space: 625618280448; capacity: 16125711347712. Object creation will fail if spilling is required.\n",
      "Ray objects:  37%|███▋      | 371/996 [37:02<2:10:55, 12.57s/it]\u001b[2m\u001b[33m(raylet)\u001b[0m [2024-03-06 01:13:54,513 E 458942 458954] (raylet) file_system_monitor.cc:111: /tmp/ray/session_2024-03-06_00-31-10_957136_458634 is over 95% full, available space: 625612111872; capacity: 16125711347712. Object creation will fail if spilling is required.\n",
      "Ray objects:  37%|███▋      | 373/996 [37:09<1:22:43,  7.97s/it]\u001b[2m\u001b[33m(raylet)\u001b[0m [2024-03-06 01:14:04,521 E 458942 458954] (raylet) file_system_monitor.cc:111: /tmp/ray/session_2024-03-06_00-31-10_957136_458634 is over 95% full, available space: 625599639552; capacity: 16125711347712. Object creation will fail if spilling is required.\n",
      "Ray objects:  38%|███▊      | 374/996 [37:13<1:09:39,  6.72s/it]\u001b[2m\u001b[33m(raylet)\u001b[0m [2024-03-06 01:14:14,529 E 458942 458954] (raylet) file_system_monitor.cc:111: /tmp/ray/session_2024-03-06_00-31-10_957136_458634 is over 95% full, available space: 625593335808; capacity: 16125711347712. Object creation will fail if spilling is required.\n",
      "Ray objects:  38%|███▊      | 377/996 [37:31<1:01:13,  5.93s/it]\u001b[2m\u001b[33m(raylet)\u001b[0m [2024-03-06 01:14:24,536 E 458942 458954] (raylet) file_system_monitor.cc:111: /tmp/ray/session_2024-03-06_00-31-10_957136_458634 is over 95% full, available space: 625519001600; capacity: 16125711347712. Object creation will fail if spilling is required.\n",
      "Ray objects:  38%|███▊      | 379/996 [37:36<41:36,  4.05s/it]  \u001b[2m\u001b[33m(raylet)\u001b[0m [2024-03-06 01:14:34,544 E 458942 458954] (raylet) file_system_monitor.cc:111: /tmp/ray/session_2024-03-06_00-31-10_957136_458634 is over 95% full, available space: 625492606976; capacity: 16125711347712. Object creation will fail if spilling is required.\n",
      "\u001b[2m\u001b[33m(raylet)\u001b[0m [2024-03-06 01:14:44,552 E 458942 458954] (raylet) file_system_monitor.cc:111: /tmp/ray/session_2024-03-06_00-31-10_957136_458634 is over 95% full, available space: 625492602880; capacity: 16125711347712. Object creation will fail if spilling is required.\n",
      "\u001b[2m\u001b[33m(raylet)\u001b[0m [2024-03-06 01:14:54,560 E 458942 458954] (raylet) file_system_monitor.cc:111: /tmp/ray/session_2024-03-06_00-31-10_957136_458634 is over 95% full, available space: 625492598784; capacity: 16125711347712. Object creation will fail if spilling is required.\n",
      "\u001b[2m\u001b[33m(raylet)\u001b[0m [2024-03-06 01:15:04,568 E 458942 458954] (raylet) file_system_monitor.cc:111: /tmp/ray/session_2024-03-06_00-31-10_957136_458634 is over 95% full, available space: 625492537344; capacity: 16125711347712. Object creation will fail if spilling is required.\n",
      "Ray objects:  38%|███▊      | 380/996 [38:14<2:27:32, 14.37s/it]\u001b[2m\u001b[33m(raylet)\u001b[0m [2024-03-06 01:15:14,576 E 458942 458954] (raylet) file_system_monitor.cc:111: /tmp/ray/session_2024-03-06_00-31-10_957136_458634 is over 95% full, available space: 625486180352; capacity: 16125711347712. Object creation will fail if spilling is required.\n",
      "\u001b[2m\u001b[33m(raylet)\u001b[0m [2024-03-06 01:15:24,584 E 458942 458954] (raylet) file_system_monitor.cc:111: /tmp/ray/session_2024-03-06_00-31-10_957136_458634 is over 95% full, available space: 625486180352; capacity: 16125711347712. Object creation will fail if spilling is required.\n",
      "\u001b[2m\u001b[33m(raylet)\u001b[0m [2024-03-06 01:15:34,591 E 458942 458954] (raylet) file_system_monitor.cc:111: /tmp/ray/session_2024-03-06_00-31-10_957136_458634 is over 95% full, available space: 625486176256; capacity: 16125711347712. Object creation will fail if spilling is required.\n",
      "\u001b[2m\u001b[33m(raylet)\u001b[0m [2024-03-06 01:15:44,599 E 458942 458954] (raylet) file_system_monitor.cc:111: /tmp/ray/session_2024-03-06_00-31-10_957136_458634 is over 95% full, available space: 625486172160; capacity: 16125711347712. Object creation will fail if spilling is required.\n",
      "Ray objects:  38%|███▊      | 381/996 [38:59<4:00:33, 23.47s/it]\u001b[2m\u001b[33m(raylet)\u001b[0m [2024-03-06 01:15:54,607 E 458942 458954] (raylet) file_system_monitor.cc:111: /tmp/ray/session_2024-03-06_00-31-10_957136_458634 is over 95% full, available space: 625480024064; capacity: 16125711347712. Object creation will fail if spilling is required.\n",
      "Ray objects:  38%|███▊      | 383/996 [39:07<2:16:57, 13.41s/it]\u001b[2m\u001b[33m(raylet)\u001b[0m [2024-03-06 01:16:04,614 E 458942 458954] (raylet) file_system_monitor.cc:111: /tmp/ray/session_2024-03-06_00-31-10_957136_458634 is over 95% full, available space: 625467768832; capacity: 16125711347712. Object creation will fail if spilling is required.\n",
      "Ray objects:  39%|███▉      | 386/996 [39:21<1:10:29,  6.93s/it]\u001b[2m\u001b[33m(raylet)\u001b[0m [2024-03-06 01:16:14,622 E 458942 458954] (raylet) file_system_monitor.cc:111: /tmp/ray/session_2024-03-06_00-31-10_957136_458634 is over 95% full, available space: 625401864192; capacity: 16125711347712. Object creation will fail if spilling is required.\n",
      "Ray objects:  39%|███▉      | 389/996 [39:30<41:43,  4.12s/it]  \u001b[2m\u001b[33m(raylet)\u001b[0m [2024-03-06 01:16:24,629 E 458942 458954] (raylet) file_system_monitor.cc:111: /tmp/ray/session_2024-03-06_00-31-10_957136_458634 is over 95% full, available space: 625345298432; capacity: 16125711347712. Object creation will fail if spilling is required.\n",
      "Ray objects:  39%|███▉      | 392/996 [39:41<36:17,  3.61s/it]\u001b[2m\u001b[33m(raylet)\u001b[0m [2024-03-06 01:16:34,637 E 458942 458954] (raylet) file_system_monitor.cc:111: /tmp/ray/session_2024-03-06_00-31-10_957136_458634 is over 95% full, available space: 625272283136; capacity: 16125711347712. Object creation will fail if spilling is required.\n",
      "Ray objects:  39%|███▉      | 393/996 [39:44<33:18,  3.31s/it]\u001b[2m\u001b[33m(raylet)\u001b[0m [2024-03-06 01:16:44,645 E 458942 458954] (raylet) file_system_monitor.cc:111: /tmp/ray/session_2024-03-06_00-31-10_957136_458634 is over 95% full, available space: 625258754048; capacity: 16125711347712. Object creation will fail if spilling is required.\n",
      "Ray objects:  40%|███▉      | 397/996 [40:01<36:32,  3.66s/it]\u001b[2m\u001b[33m(raylet)\u001b[0m [2024-03-06 01:16:54,653 E 458942 458954] (raylet) file_system_monitor.cc:111: /tmp/ray/session_2024-03-06_00-31-10_957136_458634 is over 95% full, available space: 625140363264; capacity: 16125711347712. Object creation will fail if spilling is required.\n",
      "Ray objects:  40%|████      | 401/996 [40:10<22:39,  2.29s/it]\u001b[2m\u001b[33m(raylet)\u001b[0m [2024-03-06 01:17:04,661 E 458942 458954] (raylet) file_system_monitor.cc:111: /tmp/ray/session_2024-03-06_00-31-10_957136_458634 is over 95% full, available space: 625039335424; capacity: 16125711347712. Object creation will fail if spilling is required.\n",
      "Ray objects:  40%|████      | 402/996 [40:12<23:57,  2.42s/it]\u001b[2m\u001b[33m(raylet)\u001b[0m [2024-03-06 01:17:14,669 E 458942 458954] (raylet) file_system_monitor.cc:111: /tmp/ray/session_2024-03-06_00-31-10_957136_458634 is over 95% full, available space: 625009270784; capacity: 16125711347712. Object creation will fail if spilling is required.\n",
      "\u001b[2m\u001b[33m(raylet)\u001b[0m [2024-03-06 01:17:24,677 E 458942 458954] (raylet) file_system_monitor.cc:111: /tmp/ray/session_2024-03-06_00-31-10_957136_458634 is over 95% full, available space: 625009266688; capacity: 16125711347712. Object creation will fail if spilling is required.\n",
      "\u001b[2m\u001b[33m(raylet)\u001b[0m [2024-03-06 01:17:34,685 E 458942 458954] (raylet) file_system_monitor.cc:111: /tmp/ray/session_2024-03-06_00-31-10_957136_458634 is over 95% full, available space: 625009266688; capacity: 16125711347712. Object creation will fail if spilling is required.\n",
      "Ray objects:  40%|████      | 403/996 [40:50<2:08:37, 13.01s/it]\u001b[2m\u001b[33m(raylet)\u001b[0m [2024-03-06 01:17:44,693 E 458942 458954] (raylet) file_system_monitor.cc:111: /tmp/ray/session_2024-03-06_00-31-10_957136_458634 is over 95% full, available space: 625002917888; capacity: 16125711347712. Object creation will fail if spilling is required.\n",
      "Ray objects:  41%|████      | 405/996 [40:58<1:20:25,  8.17s/it]\u001b[2m\u001b[33m(raylet)\u001b[0m [2024-03-06 01:17:54,701 E 458942 458954] (raylet) file_system_monitor.cc:111: /tmp/ray/session_2024-03-06_00-31-10_957136_458634 is over 95% full, available space: 624946995200; capacity: 16125711347712. Object creation will fail if spilling is required.\n",
      "Ray objects:  41%|████      | 407/996 [41:12<1:11:56,  7.33s/it]\u001b[2m\u001b[33m(raylet)\u001b[0m [2024-03-06 01:18:04,709 E 458942 458954] (raylet) file_system_monitor.cc:111: /tmp/ray/session_2024-03-06_00-31-10_957136_458634 is over 95% full, available space: 624891088896; capacity: 16125711347712. Object creation will fail if spilling is required.\n",
      "Ray objects:  41%|████▏     | 411/996 [41:18<27:58,  2.87s/it]  \u001b[2m\u001b[33m(raylet)\u001b[0m [2024-03-06 01:18:14,717 E 458942 458954] (raylet) file_system_monitor.cc:111: /tmp/ray/session_2024-03-06_00-31-10_957136_458634 is over 95% full, available space: 624866418688; capacity: 16125711347712. Object creation will fail if spilling is required.\n",
      "Ray objects:  42%|████▏     | 416/996 [41:29<18:35,  1.92s/it]\u001b[2m\u001b[33m(raylet)\u001b[0m [2024-03-06 01:18:24,724 E 458942 458954] (raylet) file_system_monitor.cc:111: /tmp/ray/session_2024-03-06_00-31-10_957136_458634 is over 95% full, available space: 624835952640; capacity: 16125711347712. Object creation will fail if spilling is required.\n",
      "\u001b[2m\u001b[33m(raylet)\u001b[0m [2024-03-06 01:18:34,732 E 458942 458954] (raylet) file_system_monitor.cc:111: /tmp/ray/session_2024-03-06_00-31-10_957136_458634 is over 95% full, available space: 624835825664; capacity: 16125711347712. Object creation will fail if spilling is required.\n",
      "Ray objects:  42%|████▏     | 418/996 [41:49<54:28,  5.66s/it]\u001b[2m\u001b[33m(raylet)\u001b[0m [2024-03-06 01:18:44,740 E 458942 458954] (raylet) file_system_monitor.cc:111: /tmp/ray/session_2024-03-06_00-31-10_957136_458634 is over 95% full, available space: 624799395840; capacity: 16125711347712. Object creation will fail if spilling is required.\n",
      "Ray objects:  42%|████▏     | 419/996 [41:59<1:07:05,  6.98s/it]\u001b[2m\u001b[33m(raylet)\u001b[0m [2024-03-06 01:18:54,747 E 458942 458954] (raylet) file_system_monitor.cc:111: /tmp/ray/session_2024-03-06_00-31-10_957136_458634 is over 95% full, available space: 624739540992; capacity: 16125711347712. Object creation will fail if spilling is required.\n",
      "Ray objects:  42%|████▏     | 421/996 [42:04<44:49,  4.68s/it]  \u001b[2m\u001b[33m(raylet)\u001b[0m [2024-03-06 01:19:04,755 E 458942 458954] (raylet) file_system_monitor.cc:111: /tmp/ray/session_2024-03-06_00-31-10_957136_458634 is over 95% full, available space: 624709537792; capacity: 16125711347712. Object creation will fail if spilling is required.\n",
      "Ray objects:  43%|████▎     | 424/996 [42:20<41:42,  4.38s/it]  \u001b[2m\u001b[33m(raylet)\u001b[0m [2024-03-06 01:19:14,763 E 458942 458954] (raylet) file_system_monitor.cc:111: /tmp/ray/session_2024-03-06_00-31-10_957136_458634 is over 95% full, available space: 624625270784; capacity: 16125711347712. Object creation will fail if spilling is required.\n",
      "Ray objects:  43%|████▎     | 426/996 [42:31<42:12,  4.44s/it]\u001b[2m\u001b[33m(raylet)\u001b[0m [2024-03-06 01:19:24,770 E 458942 458954] (raylet) file_system_monitor.cc:111: /tmp/ray/session_2024-03-06_00-31-10_957136_458634 is over 95% full, available space: 624599158784; capacity: 16125711347712. Object creation will fail if spilling is required.\n",
      "Ray objects:  43%|████▎     | 428/996 [42:38<37:01,  3.91s/it]\u001b[2m\u001b[33m(raylet)\u001b[0m [2024-03-06 01:19:34,778 E 458942 458954] (raylet) file_system_monitor.cc:111: /tmp/ray/session_2024-03-06_00-31-10_957136_458634 is over 95% full, available space: 624572821504; capacity: 16125711347712. Object creation will fail if spilling is required.\n",
      "Ray objects:  43%|████▎     | 432/996 [42:52<30:23,  3.23s/it]\u001b[2m\u001b[33m(raylet)\u001b[0m [2024-03-06 01:19:44,785 E 458942 458954] (raylet) file_system_monitor.cc:111: /tmp/ray/session_2024-03-06_00-31-10_957136_458634 is over 95% full, available space: 624505520128; capacity: 16125711347712. Object creation will fail if spilling is required.\n",
      "Ray objects:  44%|████▍     | 439/996 [43:01<09:41,  1.04s/it]\u001b[2m\u001b[33m(raylet)\u001b[0m [2024-03-06 01:19:54,793 E 458942 458954] (raylet) file_system_monitor.cc:111: /tmp/ray/session_2024-03-06_00-31-10_957136_458634 is over 95% full, available space: 624398716928; capacity: 16125711347712. Object creation will fail if spilling is required.\n",
      "\u001b[2m\u001b[33m(raylet)\u001b[0m [2024-03-06 01:20:04,800 E 458942 458954] (raylet) file_system_monitor.cc:111: /tmp/ray/session_2024-03-06_00-31-10_957136_458634 is over 95% full, available space: 624398622720; capacity: 16125711347712. Object creation will fail if spilling is required.\n",
      "Ray objects:  44%|████▍     | 440/996 [43:18<53:56,  5.82s/it]\u001b[2m\u001b[33m(raylet)\u001b[0m [2024-03-06 01:20:14,808 E 458942 458954] (raylet) file_system_monitor.cc:111: /tmp/ray/session_2024-03-06_00-31-10_957136_458634 is over 95% full, available space: 624370401280; capacity: 16125711347712. Object creation will fail if spilling is required.\n",
      "Ray objects:  44%|████▍     | 441/996 [43:26<57:55,  6.26s/it]\u001b[2m\u001b[33m(raylet)\u001b[0m [2024-03-06 01:20:24,815 E 458942 458954] (raylet) file_system_monitor.cc:111: /tmp/ray/session_2024-03-06_00-31-10_957136_458634 is over 95% full, available space: 624357269504; capacity: 16125711347712. Object creation will fail if spilling is required.\n",
      "Ray objects:  45%|████▍     | 445/996 [43:40<34:51,  3.80s/it]  \u001b[2m\u001b[33m(raylet)\u001b[0m [2024-03-06 01:20:34,823 E 458942 458954] (raylet) file_system_monitor.cc:111: /tmp/ray/session_2024-03-06_00-31-10_957136_458634 is over 95% full, available space: 624304992256; capacity: 16125711347712. Object creation will fail if spilling is required.\n",
      "\u001b[2m\u001b[33m(raylet)\u001b[0m [2024-03-06 01:20:44,830 E 458942 458954] (raylet) file_system_monitor.cc:111: /tmp/ray/session_2024-03-06_00-31-10_957136_458634 is over 95% full, available space: 624304926720; capacity: 16125711347712. Object creation will fail if spilling is required.\n",
      "Ray objects:  45%|████▍     | 448/996 [43:57<38:05,  4.17s/it]  \u001b[2m\u001b[33m(raylet)\u001b[0m [2024-03-06 01:20:54,838 E 458942 458954] (raylet) file_system_monitor.cc:111: /tmp/ray/session_2024-03-06_00-31-10_957136_458634 is over 95% full, available space: 624265519104; capacity: 16125711347712. Object creation will fail if spilling is required.\n",
      "Ray objects:  45%|████▌     | 450/996 [44:07<40:45,  4.48s/it]\u001b[2m\u001b[33m(raylet)\u001b[0m [2024-03-06 01:21:04,846 E 458942 458954] (raylet) file_system_monitor.cc:111: /tmp/ray/session_2024-03-06_00-31-10_957136_458634 is over 95% full, available space: 624239210496; capacity: 16125711347712. Object creation will fail if spilling is required.\n",
      "Ray objects:  46%|████▌     | 454/996 [44:21<29:47,  3.30s/it]\u001b[2m\u001b[33m(raylet)\u001b[0m [2024-03-06 01:21:14,854 E 458942 458954] (raylet) file_system_monitor.cc:111: /tmp/ray/session_2024-03-06_00-31-10_957136_458634 is over 95% full, available space: 624186556416; capacity: 16125711347712. Object creation will fail if spilling is required.\n",
      "Ray objects:  46%|████▌     | 456/996 [44:23<18:48,  2.09s/it]\u001b[2m\u001b[33m(raylet)\u001b[0m [2024-03-06 01:21:24,861 E 458942 458954] (raylet) file_system_monitor.cc:111: /tmp/ray/session_2024-03-06_00-31-10_957136_458634 is over 95% full, available space: 624160546816; capacity: 16125711347712. Object creation will fail if spilling is required.\n",
      "\u001b[2m\u001b[33m(raylet)\u001b[0m [2024-03-06 01:21:34,869 E 458942 458954] (raylet) file_system_monitor.cc:111: /tmp/ray/session_2024-03-06_00-31-10_957136_458634 is over 95% full, available space: 624160534528; capacity: 16125711347712. Object creation will fail if spilling is required.\n",
      "\u001b[2m\u001b[33m(raylet)\u001b[0m [2024-03-06 01:21:44,877 E 458942 458954] (raylet) file_system_monitor.cc:111: /tmp/ray/session_2024-03-06_00-31-10_957136_458634 is over 95% full, available space: 624160530432; capacity: 16125711347712. Object creation will fail if spilling is required.\n",
      "\u001b[2m\u001b[33m(raylet)\u001b[0m [2024-03-06 01:21:54,885 E 458942 458954] (raylet) file_system_monitor.cc:111: /tmp/ray/session_2024-03-06_00-31-10_957136_458634 is over 95% full, available space: 624160530432; capacity: 16125711347712. Object creation will fail if spilling is required.\n",
      "\u001b[2m\u001b[33m(raylet)\u001b[0m [2024-03-06 01:22:04,893 E 458942 458954] (raylet) file_system_monitor.cc:111: /tmp/ray/session_2024-03-06_00-31-10_957136_458634 is over 95% full, available space: 624160526336; capacity: 16125711347712. Object creation will fail if spilling is required.\n",
      "\u001b[2m\u001b[33m(raylet)\u001b[0m [2024-03-06 01:22:14,901 E 458942 458954] (raylet) file_system_monitor.cc:111: /tmp/ray/session_2024-03-06_00-31-10_957136_458634 is over 95% full, available space: 624160485376; capacity: 16125711347712. Object creation will fail if spilling is required.\n",
      "Ray objects:  46%|████▌     | 457/996 [45:28<3:08:56, 21.03s/it]\u001b[2m\u001b[33m(raylet)\u001b[0m [2024-03-06 01:22:24,909 E 458942 458954] (raylet) file_system_monitor.cc:111: /tmp/ray/session_2024-03-06_00-31-10_957136_458634 is over 95% full, available space: 624148201472; capacity: 16125711347712. Object creation will fail if spilling is required.\n",
      "Ray objects:  46%|████▌     | 459/996 [45:39<1:56:43, 13.04s/it]\u001b[2m\u001b[33m(raylet)\u001b[0m [2024-03-06 01:22:34,917 E 458942 458954] (raylet) file_system_monitor.cc:111: /tmp/ray/session_2024-03-06_00-31-10_957136_458634 is over 95% full, available space: 624134918144; capacity: 16125711347712. Object creation will fail if spilling is required.\n",
      "Ray objects:  47%|████▋     | 466/996 [45:51<19:32,  2.21s/it]  \u001b[2m\u001b[33m(raylet)\u001b[0m [2024-03-06 01:22:44,924 E 458942 458954] (raylet) file_system_monitor.cc:111: /tmp/ray/session_2024-03-06_00-31-10_957136_458634 is over 95% full, available space: 624055119872; capacity: 16125711347712. Object creation will fail if spilling is required.\n",
      "Ray objects:  47%|████▋     | 472/996 [46:01<17:53,  2.05s/it]\u001b[2m\u001b[33m(raylet)\u001b[0m [2024-03-06 01:22:54,932 E 458942 458954] (raylet) file_system_monitor.cc:111: /tmp/ray/session_2024-03-06_00-31-10_957136_458634 is over 95% full, available space: 623939260416; capacity: 16125711347712. Object creation will fail if spilling is required.\n",
      "Ray objects:  48%|████▊     | 476/996 [46:11<23:45,  2.74s/it]\u001b[2m\u001b[33m(raylet)\u001b[0m [2024-03-06 01:23:04,939 E 458942 458954] (raylet) file_system_monitor.cc:111: /tmp/ray/session_2024-03-06_00-31-10_957136_458634 is over 95% full, available space: 623890386944; capacity: 16125711347712. Object creation will fail if spilling is required.\n",
      "\u001b[2m\u001b[33m(raylet)\u001b[0m [2024-03-06 01:23:14,947 E 458942 458954] (raylet) file_system_monitor.cc:111: /tmp/ray/session_2024-03-06_00-31-10_957136_458634 is over 95% full, available space: 623890219008; capacity: 16125711347712. Object creation will fail if spilling is required.\n",
      "Ray objects:  48%|████▊     | 477/996 [46:29<1:03:57,  7.39s/it]\u001b[2m\u001b[33m(raylet)\u001b[0m [2024-03-06 01:23:24,956 E 458942 458954] (raylet) file_system_monitor.cc:111: /tmp/ray/session_2024-03-06_00-31-10_957136_458634 is over 95% full, available space: 623883522048; capacity: 16125711347712. Object creation will fail if spilling is required.\n",
      "\u001b[2m\u001b[33m(raylet)\u001b[0m [2024-03-06 01:23:34,963 E 458942 458954] (raylet) file_system_monitor.cc:111: /tmp/ray/session_2024-03-06_00-31-10_957136_458634 is over 95% full, available space: 623883513856; capacity: 16125711347712. Object creation will fail if spilling is required.\n",
      "\u001b[2m\u001b[33m(raylet)\u001b[0m [2024-03-06 01:23:44,971 E 458942 458954] (raylet) file_system_monitor.cc:111: /tmp/ray/session_2024-03-06_00-31-10_957136_458634 is over 95% full, available space: 623883513856; capacity: 16125711347712. Object creation will fail if spilling is required.\n",
      "\u001b[2m\u001b[33m(raylet)\u001b[0m [2024-03-06 01:23:54,978 E 458942 458954] (raylet) file_system_monitor.cc:111: /tmp/ray/session_2024-03-06_00-31-10_957136_458634 is over 95% full, available space: 623883509760; capacity: 16125711347712. Object creation will fail if spilling is required.\n",
      "\u001b[2m\u001b[33m(raylet)\u001b[0m [2024-03-06 01:24:04,987 E 458942 458954] (raylet) file_system_monitor.cc:111: /tmp/ray/session_2024-03-06_00-31-10_957136_458634 is over 95% full, available space: 623883509760; capacity: 16125711347712. Object creation will fail if spilling is required.\n",
      "\u001b[2m\u001b[33m(raylet)\u001b[0m [2024-03-06 01:24:14,995 E 458942 458954] (raylet) file_system_monitor.cc:111: /tmp/ray/session_2024-03-06_00-31-10_957136_458634 is over 95% full, available space: 623883472896; capacity: 16125711347712. Object creation will fail if spilling is required.\n",
      "Ray objects:  48%|████▊     | 478/996 [47:27<3:13:35, 22.42s/it]\u001b[2m\u001b[33m(raylet)\u001b[0m [2024-03-06 01:24:25,003 E 458942 458954] (raylet) file_system_monitor.cc:111: /tmp/ray/session_2024-03-06_00-31-10_957136_458634 is over 95% full, available space: 623876931584; capacity: 16125711347712. Object creation will fail if spilling is required.\n",
      "Ray objects:  48%|████▊     | 480/996 [47:37<1:55:36, 13.44s/it]\u001b[2m\u001b[33m(raylet)\u001b[0m [2024-03-06 01:24:35,010 E 458942 458954] (raylet) file_system_monitor.cc:111: /tmp/ray/session_2024-03-06_00-31-10_957136_458634 is over 95% full, available space: 623821180928; capacity: 16125711347712. Object creation will fail if spilling is required.\n",
      "Ray objects:  48%|████▊     | 482/996 [47:51<1:26:11, 10.06s/it]\u001b[2m\u001b[33m(raylet)\u001b[0m [2024-03-06 01:24:45,018 E 458942 458954] (raylet) file_system_monitor.cc:111: /tmp/ray/session_2024-03-06_00-31-10_957136_458634 is over 95% full, available space: 623787184128; capacity: 16125711347712. Object creation will fail if spilling is required.\n",
      "\u001b[2m\u001b[33m(raylet)\u001b[0m [2024-03-06 01:24:55,026 E 458942 458954] (raylet) file_system_monitor.cc:111: /tmp/ray/session_2024-03-06_00-31-10_957136_458634 is over 95% full, available space: 623786811392; capacity: 16125711347712. Object creation will fail if spilling is required.\n",
      "Ray objects:  49%|████▉     | 489/996 [48:11<18:38,  2.21s/it]  \u001b[2m\u001b[33m(raylet)\u001b[0m [2024-03-06 01:25:05,035 E 458942 458954] (raylet) file_system_monitor.cc:111: /tmp/ray/session_2024-03-06_00-31-10_957136_458634 is over 95% full, available space: 623603236864; capacity: 16125711347712. Object creation will fail if spilling is required.\n",
      "Ray objects:  49%|████▉     | 492/996 [48:22<23:53,  2.84s/it]\u001b[2m\u001b[33m(raylet)\u001b[0m [2024-03-06 01:25:15,044 E 458942 458954] (raylet) file_system_monitor.cc:111: /tmp/ray/session_2024-03-06_00-31-10_957136_458634 is over 95% full, available space: 623590395904; capacity: 16125711347712. Object creation will fail if spilling is required.\n",
      "Ray objects:  50%|████▉     | 495/996 [48:31<23:15,  2.79s/it]\u001b[2m\u001b[33m(raylet)\u001b[0m [2024-03-06 01:25:25,052 E 458942 458954] (raylet) file_system_monitor.cc:111: /tmp/ray/session_2024-03-06_00-31-10_957136_458634 is over 95% full, available space: 623565582336; capacity: 16125711347712. Object creation will fail if spilling is required.\n",
      "Ray objects:  50%|████▉     | 497/996 [48:37<23:46,  2.86s/it]\u001b[2m\u001b[33m(raylet)\u001b[0m [2024-03-06 01:25:35,060 E 458942 458954] (raylet) file_system_monitor.cc:111: /tmp/ray/session_2024-03-06_00-31-10_957136_458634 is over 95% full, available space: 623553232896; capacity: 16125711347712. Object creation will fail if spilling is required.\n",
      "Ray objects:  50%|█████     | 498/996 [48:48<43:12,  5.21s/it]\u001b[2m\u001b[33m(raylet)\u001b[0m [2024-03-06 01:25:45,067 E 458942 458954] (raylet) file_system_monitor.cc:111: /tmp/ray/session_2024-03-06_00-31-10_957136_458634 is over 95% full, available space: 623547256832; capacity: 16125711347712. Object creation will fail if spilling is required.\n",
      "Ray objects:  50%|█████     | 499/996 [48:56<50:53,  6.14s/it]\u001b[2m\u001b[33m(raylet)\u001b[0m [2024-03-06 01:25:55,075 E 458942 458954] (raylet) file_system_monitor.cc:111: /tmp/ray/session_2024-03-06_00-31-10_957136_458634 is over 95% full, available space: 623541010432; capacity: 16125711347712. Object creation will fail if spilling is required.\n",
      "\u001b[2m\u001b[33m(raylet)\u001b[0m [2024-03-06 01:26:05,083 E 458942 458954] (raylet) file_system_monitor.cc:111: /tmp/ray/session_2024-03-06_00-31-10_957136_458634 is over 95% full, available space: 623541006336; capacity: 16125711347712. Object creation will fail if spilling is required.\n",
      "\u001b[2m\u001b[33m(raylet)\u001b[0m [2024-03-06 01:26:15,091 E 458942 458954] (raylet) file_system_monitor.cc:111: /tmp/ray/session_2024-03-06_00-31-10_957136_458634 is over 95% full, available space: 623540965376; capacity: 16125711347712. Object creation will fail if spilling is required.\n",
      "Ray objects:  50%|█████     | 501/996 [49:30<1:23:54, 10.17s/it]\u001b[2m\u001b[33m(raylet)\u001b[0m [2024-03-06 01:26:25,099 E 458942 458954] (raylet) file_system_monitor.cc:111: /tmp/ray/session_2024-03-06_00-31-10_957136_458634 is over 95% full, available space: 623521173504; capacity: 16125711347712. Object creation will fail if spilling is required.\n",
      "Ray objects:  51%|█████     | 505/996 [49:37<29:58,  3.66s/it]  \u001b[2m\u001b[33m(raylet)\u001b[0m [2024-03-06 01:26:35,107 E 458942 458954] (raylet) file_system_monitor.cc:111: /tmp/ray/session_2024-03-06_00-31-10_957136_458634 is over 95% full, available space: 623475470336; capacity: 16125711347712. Object creation will fail if spilling is required.\n",
      "Ray objects:  52%|█████▏    | 514/996 [49:52<09:27,  1.18s/it]\u001b[2m\u001b[33m(raylet)\u001b[0m [2024-03-06 01:26:45,116 E 458942 458954] (raylet) file_system_monitor.cc:111: /tmp/ray/session_2024-03-06_00-31-10_957136_458634 is over 95% full, available space: 623398055936; capacity: 16125711347712. Object creation will fail if spilling is required.\n",
      "Ray objects:  52%|█████▏    | 516/996 [50:00<19:33,  2.45s/it]\u001b[2m\u001b[33m(raylet)\u001b[0m [2024-03-06 01:26:55,124 E 458942 458954] (raylet) file_system_monitor.cc:111: /tmp/ray/session_2024-03-06_00-31-10_957136_458634 is over 95% full, available space: 623372177408; capacity: 16125711347712. Object creation will fail if spilling is required.\n",
      "Ray objects:  52%|█████▏    | 521/996 [50:11<19:56,  2.52s/it]\u001b[2m\u001b[33m(raylet)\u001b[0m [2024-03-06 01:27:05,132 E 458942 458954] (raylet) file_system_monitor.cc:111: /tmp/ray/session_2024-03-06_00-31-10_957136_458634 is over 95% full, available space: 623314358272; capacity: 16125711347712. Object creation will fail if spilling is required.\n",
      "Ray objects:  53%|█████▎    | 525/996 [50:18<15:58,  2.03s/it]\u001b[2m\u001b[33m(raylet)\u001b[0m [2024-03-06 01:27:15,139 E 458942 458954] (raylet) file_system_monitor.cc:111: /tmp/ray/session_2024-03-06_00-31-10_957136_458634 is over 95% full, available space: 623276130304; capacity: 16125711347712. Object creation will fail if spilling is required.\n",
      "\u001b[2m\u001b[33m(raylet)\u001b[0m [2024-03-06 01:27:25,149 E 458942 458954] (raylet) file_system_monitor.cc:111: /tmp/ray/session_2024-03-06_00-31-10_957136_458634 is over 95% full, available space: 623276122112; capacity: 16125711347712. Object creation will fail if spilling is required.\n",
      "Ray objects:  53%|█████▎    | 526/996 [50:40<57:25,  7.33s/it]\u001b[2m\u001b[33m(raylet)\u001b[0m [2024-03-06 01:27:35,157 E 458942 458954] (raylet) file_system_monitor.cc:111: /tmp/ray/session_2024-03-06_00-31-10_957136_458634 is over 95% full, available space: 623259164672; capacity: 16125711347712. Object creation will fail if spilling is required.\n",
      "Ray objects:  53%|█████▎    | 530/996 [50:51<28:56,  3.73s/it]\u001b[2m\u001b[33m(raylet)\u001b[0m [2024-03-06 01:27:45,165 E 458942 458954] (raylet) file_system_monitor.cc:111: /tmp/ray/session_2024-03-06_00-31-10_957136_458634 is over 95% full, available space: 623199780864; capacity: 16125711347712. Object creation will fail if spilling is required.\n",
      "Ray objects:  54%|█████▎    | 534/996 [51:00<22:49,  2.96s/it]\u001b[2m\u001b[33m(raylet)\u001b[0m [2024-03-06 01:27:55,173 E 458942 458954] (raylet) file_system_monitor.cc:111: /tmp/ray/session_2024-03-06_00-31-10_957136_458634 is over 95% full, available space: 623136432128; capacity: 16125711347712. Object creation will fail if spilling is required.\n",
      "Ray objects:  54%|█████▍    | 536/996 [51:04<19:11,  2.50s/it]\u001b[2m\u001b[33m(raylet)\u001b[0m [2024-03-06 01:28:05,180 E 458942 458954] (raylet) file_system_monitor.cc:111: /tmp/ray/session_2024-03-06_00-31-10_957136_458634 is over 95% full, available space: 623124873216; capacity: 16125711347712. Object creation will fail if spilling is required.\n",
      "\u001b[2m\u001b[33m(raylet)\u001b[0m [2024-03-06 01:28:15,188 E 458942 458954] (raylet) file_system_monitor.cc:111: /tmp/ray/session_2024-03-06_00-31-10_957136_458634 is over 95% full, available space: 623124594688; capacity: 16125711347712. Object creation will fail if spilling is required.\n",
      "Ray objects:  54%|█████▍    | 542/996 [51:30<20:17,  2.68s/it]\u001b[2m\u001b[33m(raylet)\u001b[0m [2024-03-06 01:28:25,196 E 458942 458954] (raylet) file_system_monitor.cc:111: /tmp/ray/session_2024-03-06_00-31-10_957136_458634 is over 95% full, available space: 623089405952; capacity: 16125711347712. Object creation will fail if spilling is required.\n",
      "\u001b[2m\u001b[33m(raylet)\u001b[0m [2024-03-06 01:28:35,203 E 458942 458954] (raylet) file_system_monitor.cc:111: /tmp/ray/session_2024-03-06_00-31-10_957136_458634 is over 95% full, available space: 623089405952; capacity: 16125711347712. Object creation will fail if spilling is required.\n",
      "Ray objects:  55%|█████▍    | 546/996 [51:50<22:33,  3.01s/it]\u001b[2m\u001b[33m(raylet)\u001b[0m [2024-03-06 01:28:45,211 E 458942 458954] (raylet) file_system_monitor.cc:111: /tmp/ray/session_2024-03-06_00-31-10_957136_458634 is over 95% full, available space: 623037378560; capacity: 16125711347712. Object creation will fail if spilling is required.\n",
      "\u001b[2m\u001b[33m(raylet)\u001b[0m [2024-03-06 01:28:55,219 E 458942 458954] (raylet) file_system_monitor.cc:111: /tmp/ray/session_2024-03-06_00-31-10_957136_458634 is over 95% full, available space: 623037378560; capacity: 16125711347712. Object creation will fail if spilling is required.\n",
      "Ray objects:  55%|█████▌    | 550/996 [52:12<27:26,  3.69s/it]\u001b[2m\u001b[33m(raylet)\u001b[0m [2024-03-06 01:29:05,226 E 458942 458954] (raylet) file_system_monitor.cc:111: /tmp/ray/session_2024-03-06_00-31-10_957136_458634 is over 95% full, available space: 623004897280; capacity: 16125711347712. Object creation will fail if spilling is required.\n",
      "Ray objects:  56%|█████▌    | 555/996 [52:21<15:13,  2.07s/it]\u001b[2m\u001b[33m(raylet)\u001b[0m [2024-03-06 01:29:15,237 E 458942 458954] (raylet) file_system_monitor.cc:111: /tmp/ray/session_2024-03-06_00-31-10_957136_458634 is over 95% full, available space: 622959665152; capacity: 16125711347712. Object creation will fail if spilling is required.\n",
      "Ray objects:  56%|█████▌    | 557/996 [52:24<11:50,  1.62s/it]\u001b[2m\u001b[33m(raylet)\u001b[0m [2024-03-06 01:29:25,245 E 458942 458954] (raylet) file_system_monitor.cc:111: /tmp/ray/session_2024-03-06_00-31-10_957136_458634 is over 95% full, available space: 622947446784; capacity: 16125711347712. Object creation will fail if spilling is required.\n",
      "Ray objects:  56%|█████▋    | 561/996 [52:39<15:38,  2.16s/it]\u001b[2m\u001b[33m(raylet)\u001b[0m [2024-03-06 01:29:35,253 E 458942 458954] (raylet) file_system_monitor.cc:111: /tmp/ray/session_2024-03-06_00-31-10_957136_458634 is over 95% full, available space: 622899843072; capacity: 16125711347712. Object creation will fail if spilling is required.\n",
      "Ray objects:  57%|█████▋    | 563/996 [52:46<18:55,  2.62s/it]\u001b[2m\u001b[33m(raylet)\u001b[0m [2024-03-06 01:29:45,260 E 458942 458954] (raylet) file_system_monitor.cc:111: /tmp/ray/session_2024-03-06_00-31-10_957136_458634 is over 95% full, available space: 622843568128; capacity: 16125711347712. Object creation will fail if spilling is required.\n",
      "Ray objects:  57%|█████▋    | 565/996 [52:56<27:16,  3.80s/it]\u001b[2m\u001b[33m(raylet)\u001b[0m [2024-03-06 01:29:55,268 E 458942 458954] (raylet) file_system_monitor.cc:111: /tmp/ray/session_2024-03-06_00-31-10_957136_458634 is over 95% full, available space: 622786891776; capacity: 16125711347712. Object creation will fail if spilling is required.\n",
      "Ray objects:  57%|█████▋    | 569/996 [53:12<19:37,  2.76s/it]\u001b[2m\u001b[33m(raylet)\u001b[0m [2024-03-06 01:30:05,275 E 458942 458954] (raylet) file_system_monitor.cc:111: /tmp/ray/session_2024-03-06_00-31-10_957136_458634 is over 95% full, available space: 622720270336; capacity: 16125711347712. Object creation will fail if spilling is required.\n",
      "Ray objects:  58%|█████▊    | 573/996 [53:16<10:01,  1.42s/it]\u001b[2m\u001b[33m(raylet)\u001b[0m [2024-03-06 01:30:15,283 E 458942 458954] (raylet) file_system_monitor.cc:111: /tmp/ray/session_2024-03-06_00-31-10_957136_458634 is over 95% full, available space: 622694354944; capacity: 16125711347712. Object creation will fail if spilling is required.\n",
      "Ray objects:  58%|█████▊    | 575/996 [53:28<24:28,  3.49s/it]\u001b[2m\u001b[33m(raylet)\u001b[0m [2024-03-06 01:30:25,290 E 458942 458954] (raylet) file_system_monitor.cc:111: /tmp/ray/session_2024-03-06_00-31-10_957136_458634 is over 95% full, available space: 622667976704; capacity: 16125711347712. Object creation will fail if spilling is required.\n",
      "\u001b[2m\u001b[33m(raylet)\u001b[0m [2024-03-06 01:30:35,298 E 458942 458954] (raylet) file_system_monitor.cc:111: /tmp/ray/session_2024-03-06_00-31-10_957136_458634 is over 95% full, available space: 622667898880; capacity: 16125711347712. Object creation will fail if spilling is required.\n",
      "Ray objects:  58%|█████▊    | 579/996 [53:52<28:30,  4.10s/it]\u001b[2m\u001b[33m(raylet)\u001b[0m [2024-03-06 01:30:45,305 E 458942 458954] (raylet) file_system_monitor.cc:111: /tmp/ray/session_2024-03-06_00-31-10_957136_458634 is over 95% full, available space: 622643523584; capacity: 16125711347712. Object creation will fail if spilling is required.\n",
      "Ray objects:  59%|█████▊    | 583/996 [54:02<17:05,  2.48s/it]\u001b[2m\u001b[33m(raylet)\u001b[0m [2024-03-06 01:30:55,313 E 458942 458954] (raylet) file_system_monitor.cc:111: /tmp/ray/session_2024-03-06_00-31-10_957136_458634 is over 95% full, available space: 622590910464; capacity: 16125711347712. Object creation will fail if spilling is required.\n",
      "Ray objects:  59%|█████▊    | 585/996 [54:10<21:31,  3.14s/it]\u001b[2m\u001b[33m(raylet)\u001b[0m [2024-03-06 01:31:05,322 E 458942 458954] (raylet) file_system_monitor.cc:111: /tmp/ray/session_2024-03-06_00-31-10_957136_458634 is over 95% full, available space: 622564470784; capacity: 16125711347712. Object creation will fail if spilling is required.\n",
      "\u001b[2m\u001b[33m(raylet)\u001b[0m [2024-03-06 01:31:15,330 E 458942 458954] (raylet) file_system_monitor.cc:111: /tmp/ray/session_2024-03-06_00-31-10_957136_458634 is over 95% full, available space: 622564438016; capacity: 16125711347712. Object creation will fail if spilling is required.\n",
      "\u001b[2m\u001b[33m(raylet)\u001b[0m [2024-03-06 01:31:25,337 E 458942 458954] (raylet) file_system_monitor.cc:111: /tmp/ray/session_2024-03-06_00-31-10_957136_458634 is over 95% full, available space: 622564433920; capacity: 16125711347712. Object creation will fail if spilling is required.\n",
      "\u001b[2m\u001b[36m(wrapped_fn pid=459056)\u001b[0m WARNING:nuplan.planning.simulation.planner.idm_planner:IDMPlanner could not find valid path to the target roadblock. Using longest route found instead\u001b[32m [repeated 2x across cluster]\u001b[0m\n",
      "\u001b[2m\u001b[33m(raylet)\u001b[0m [2024-03-06 01:31:35,345 E 458942 458954] (raylet) file_system_monitor.cc:111: /tmp/ray/session_2024-03-06_00-31-10_957136_458634 is over 95% full, available space: 622564421632; capacity: 16125711347712. Object creation will fail if spilling is required.\n",
      "\u001b[2m\u001b[36m(wrapped_fn pid=459043)\u001b[0m WARNING:nuplan.planning.simulation.planner.idm_planner:IDMPlanner could not find valid path to the target roadblock. Using longest route found instead\u001b[32m [repeated 2x across cluster]\u001b[0m\n",
      "\u001b[2m\u001b[33m(raylet)\u001b[0m [2024-03-06 01:31:45,352 E 458942 458954] (raylet) file_system_monitor.cc:111: /tmp/ray/session_2024-03-06_00-31-10_957136_458634 is over 95% full, available space: 622564405248; capacity: 16125711347712. Object creation will fail if spilling is required.\n",
      "\u001b[2m\u001b[36m(wrapped_fn pid=459046)\u001b[0m WARNING:nuplan.planning.simulation.planner.idm_planner:IDMPlanner could not find valid path to the target roadblock. Using longest route found instead\u001b[32m [repeated 2x across cluster]\u001b[0m\n",
      "\u001b[2m\u001b[36m(wrapped_fn pid=459041)\u001b[0m WARNING:nuplan.planning.simulation.planner.idm_planner:IDMPlanner could not find valid path to the target roadblock. Using longest route found instead\n",
      "\u001b[2m\u001b[33m(raylet)\u001b[0m [2024-03-06 01:31:55,359 E 458942 458954] (raylet) file_system_monitor.cc:111: /tmp/ray/session_2024-03-06_00-31-10_957136_458634 is over 95% full, available space: 622564397056; capacity: 16125711347712. Object creation will fail if spilling is required.\n",
      "\u001b[2m\u001b[33m(raylet)\u001b[0m [2024-03-06 01:32:05,367 E 458942 458954] (raylet) file_system_monitor.cc:111: /tmp/ray/session_2024-03-06_00-31-10_957136_458634 is over 95% full, available space: 622564397056; capacity: 16125711347712. Object creation will fail if spilling is required.\n",
      "\u001b[2m\u001b[36m(wrapped_fn pid=459055)\u001b[0m WARNING:nuplan.planning.simulation.planner.idm_planner:IDMPlanner could not find valid path to the target roadblock. Using longest route found instead\n",
      "\u001b[2m\u001b[33m(raylet)\u001b[0m [2024-03-06 01:32:15,376 E 458942 458954] (raylet) file_system_monitor.cc:111: /tmp/ray/session_2024-03-06_00-31-10_957136_458634 is over 95% full, available space: 622564225024; capacity: 16125711347712. Object creation will fail if spilling is required.\n",
      "Ray objects:  59%|█████▉    | 591/996 [55:32<35:55,  5.32s/it]  \u001b[2m\u001b[33m(raylet)\u001b[0m [2024-03-06 01:32:25,383 E 458942 458954] (raylet) file_system_monitor.cc:111: /tmp/ray/session_2024-03-06_00-31-10_957136_458634 is over 95% full, available space: 622527938560; capacity: 16125711347712. Object creation will fail if spilling is required.\n",
      "\u001b[2m\u001b[33m(raylet)\u001b[0m [2024-03-06 01:32:35,391 E 458942 458954] (raylet) file_system_monitor.cc:111: /tmp/ray/session_2024-03-06_00-31-10_957136_458634 is over 95% full, available space: 622527913984; capacity: 16125711347712. Object creation will fail if spilling is required.\n",
      "\u001b[2m\u001b[33m(raylet)\u001b[0m [2024-03-06 01:32:45,399 E 458942 458954] (raylet) file_system_monitor.cc:111: /tmp/ray/session_2024-03-06_00-31-10_957136_458634 is over 95% full, available space: 622527905792; capacity: 16125711347712. Object creation will fail if spilling is required.\n",
      "\u001b[2m\u001b[33m(raylet)\u001b[0m [2024-03-06 01:32:55,407 E 458942 458954] (raylet) file_system_monitor.cc:111: /tmp/ray/session_2024-03-06_00-31-10_957136_458634 is over 95% full, available space: 622527778816; capacity: 16125711347712. Object creation will fail if spilling is required.\n",
      "Ray objects:  60%|█████▉    | 596/996 [56:13<33:09,  4.97s/it]  \u001b[2m\u001b[33m(raylet)\u001b[0m [2024-03-06 01:33:05,415 E 458942 458954] (raylet) file_system_monitor.cc:111: /tmp/ray/session_2024-03-06_00-31-10_957136_458634 is over 95% full, available space: 622451953664; capacity: 16125711347712. Object creation will fail if spilling is required.\n",
      "Ray objects:  60%|██████    | 599/996 [56:18<17:45,  2.68s/it]\u001b[2m\u001b[33m(raylet)\u001b[0m [2024-03-06 01:33:15,423 E 458942 458954] (raylet) file_system_monitor.cc:111: /tmp/ray/session_2024-03-06_00-31-10_957136_458634 is over 95% full, available space: 622389166080; capacity: 16125711347712. Object creation will fail if spilling is required.\n",
      "\u001b[2m\u001b[33m(raylet)\u001b[0m [2024-03-06 01:33:25,431 E 458942 458954] (raylet) file_system_monitor.cc:111: /tmp/ray/session_2024-03-06_00-31-10_957136_458634 is over 95% full, available space: 622389153792; capacity: 16125711347712. Object creation will fail if spilling is required.\n",
      "\u001b[2m\u001b[33m(raylet)\u001b[0m [2024-03-06 01:33:35,438 E 458942 458954] (raylet) file_system_monitor.cc:111: /tmp/ray/session_2024-03-06_00-31-10_957136_458634 is over 95% full, available space: 622389149696; capacity: 16125711347712. Object creation will fail if spilling is required.\n",
      "\u001b[2m\u001b[33m(raylet)\u001b[0m [2024-03-06 01:33:45,446 E 458942 458954] (raylet) file_system_monitor.cc:111: /tmp/ray/session_2024-03-06_00-31-10_957136_458634 is over 95% full, available space: 622389149696; capacity: 16125711347712. Object creation will fail if spilling is required.\n",
      "\u001b[2m\u001b[33m(raylet)\u001b[0m [2024-03-06 01:33:55,453 E 458942 458954] (raylet) file_system_monitor.cc:111: /tmp/ray/session_2024-03-06_00-31-10_957136_458634 is over 95% full, available space: 622389145600; capacity: 16125711347712. Object creation will fail if spilling is required.\n",
      "\u001b[2m\u001b[33m(raylet)\u001b[0m [2024-03-06 01:34:05,461 E 458942 458954] (raylet) file_system_monitor.cc:111: /tmp/ray/session_2024-03-06_00-31-10_957136_458634 is over 95% full, available space: 622389145600; capacity: 16125711347712. Object creation will fail if spilling is required.\n",
      "\u001b[2m\u001b[33m(raylet)\u001b[0m [2024-03-06 01:34:15,469 E 458942 458954] (raylet) file_system_monitor.cc:111: /tmp/ray/session_2024-03-06_00-31-10_957136_458634 is over 95% full, available space: 622388981760; capacity: 16125711347712. Object creation will fail if spilling is required.\n",
      "\u001b[2m\u001b[33m(raylet)\u001b[0m [2024-03-06 01:34:25,479 E 458942 458954] (raylet) file_system_monitor.cc:111: /tmp/ray/session_2024-03-06_00-31-10_957136_458634 is over 95% full, available space: 622388977664; capacity: 16125711347712. Object creation will fail if spilling is required.\n",
      "\u001b[2m\u001b[33m(raylet)\u001b[0m [2024-03-06 01:34:35,487 E 458942 458954] (raylet) file_system_monitor.cc:111: /tmp/ray/session_2024-03-06_00-31-10_957136_458634 is over 95% full, available space: 622388977664; capacity: 16125711347712. Object creation will fail if spilling is required.\n",
      "\u001b[2m\u001b[33m(raylet)\u001b[0m [2024-03-06 01:34:45,494 E 458942 458954] (raylet) file_system_monitor.cc:111: /tmp/ray/session_2024-03-06_00-31-10_957136_458634 is over 95% full, available space: 622388908032; capacity: 16125711347712. Object creation will fail if spilling is required.\n",
      "Ray objects:  60%|██████    | 602/996 [58:01<1:49:56, 16.74s/it]\u001b[2m\u001b[33m(raylet)\u001b[0m [2024-03-06 01:34:55,502 E 458942 458954] (raylet) file_system_monitor.cc:111: /tmp/ray/session_2024-03-06_00-31-10_957136_458634 is over 95% full, available space: 622349520896; capacity: 16125711347712. Object creation will fail if spilling is required.\n",
      "\u001b[2m\u001b[33m(raylet)\u001b[0m [2024-03-06 01:35:05,513 E 458942 458954] (raylet) file_system_monitor.cc:111: /tmp/ray/session_2024-03-06_00-31-10_957136_458634 is over 95% full, available space: 622349508608; capacity: 16125711347712. Object creation will fail if spilling is required.\n",
      "\u001b[2m\u001b[33m(raylet)\u001b[0m [2024-03-06 01:35:15,559 E 458942 458954] (raylet) file_system_monitor.cc:111: /tmp/ray/session_2024-03-06_00-31-10_957136_458634 is over 95% full, available space: 622349475840; capacity: 16125711347712. Object creation will fail if spilling is required.\n",
      "Ray objects:  61%|██████    | 603/996 [58:32<2:17:18, 20.96s/it]\u001b[2m\u001b[33m(raylet)\u001b[0m [2024-03-06 01:35:25,567 E 458942 458954] (raylet) file_system_monitor.cc:111: /tmp/ray/session_2024-03-06_00-31-10_957136_458634 is over 95% full, available space: 622321627136; capacity: 16125711347712. Object creation will fail if spilling is required.\n",
      "\u001b[2m\u001b[33m(raylet)\u001b[0m [2024-03-06 01:35:35,575 E 458942 458954] (raylet) file_system_monitor.cc:111: /tmp/ray/session_2024-03-06_00-31-10_957136_458634 is over 95% full, available space: 622321627136; capacity: 16125711347712. Object creation will fail if spilling is required.\n",
      "\u001b[2m\u001b[33m(raylet)\u001b[0m [2024-03-06 01:35:45,584 E 458942 458954] (raylet) file_system_monitor.cc:111: /tmp/ray/session_2024-03-06_00-31-10_957136_458634 is over 95% full, available space: 622321618944; capacity: 16125711347712. Object creation will fail if spilling is required.\n",
      "\u001b[2m\u001b[33m(raylet)\u001b[0m [2024-03-06 01:35:55,594 E 458942 458954] (raylet) file_system_monitor.cc:111: /tmp/ray/session_2024-03-06_00-31-10_957136_458634 is over 95% full, available space: 622321614848; capacity: 16125711347712. Object creation will fail if spilling is required.\n",
      "\u001b[2m\u001b[33m(raylet)\u001b[0m [2024-03-06 01:36:05,604 E 458942 458954] (raylet) file_system_monitor.cc:111: /tmp/ray/session_2024-03-06_00-31-10_957136_458634 is over 95% full, available space: 622321602560; capacity: 16125711347712. Object creation will fail if spilling is required.\n",
      "Ray objects:  61%|██████    | 604/996 [59:20<3:10:12, 29.11s/it]\u001b[2m\u001b[33m(raylet)\u001b[0m [2024-03-06 01:36:15,611 E 458942 458954] (raylet) file_system_monitor.cc:111: /tmp/ray/session_2024-03-06_00-31-10_957136_458634 is over 95% full, available space: 622308696064; capacity: 16125711347712. Object creation will fail if spilling is required.\n",
      "Ray objects:  61%|██████    | 607/996 [59:26<1:11:53, 11.09s/it]\u001b[2m\u001b[33m(raylet)\u001b[0m [2024-03-06 01:36:25,619 E 458942 458954] (raylet) file_system_monitor.cc:111: /tmp/ray/session_2024-03-06_00-31-10_957136_458634 is over 95% full, available space: 622296104960; capacity: 16125711347712. Object creation will fail if spilling is required.\n",
      "\u001b[2m\u001b[33m(raylet)\u001b[0m [2024-03-06 01:36:35,626 E 458942 458954] (raylet) file_system_monitor.cc:111: /tmp/ray/session_2024-03-06_00-31-10_957136_458634 is over 95% full, available space: 622296096768; capacity: 16125711347712. Object creation will fail if spilling is required.\n",
      "Ray objects:  61%|██████▏   | 611/996 [59:52<40:12,  6.27s/it]  \u001b[2m\u001b[33m(raylet)\u001b[0m [2024-03-06 01:36:45,633 E 458942 458954] (raylet) file_system_monitor.cc:111: /tmp/ray/session_2024-03-06_00-31-10_957136_458634 is over 95% full, available space: 622270644224; capacity: 16125711347712. Object creation will fail if spilling is required.\n",
      "Ray objects:  62%|██████▏   | 613/996 [1:00:00<31:31,  4.94s/it]\u001b[2m\u001b[33m(raylet)\u001b[0m [2024-03-06 01:36:55,641 E 458942 458954] (raylet) file_system_monitor.cc:111: /tmp/ray/session_2024-03-06_00-31-10_957136_458634 is over 95% full, available space: 622257860608; capacity: 16125711347712. Object creation will fail if spilling is required.\n",
      "Ray objects:  62%|██████▏   | 614/996 [1:00:05<32:04,  5.04s/it]\u001b[2m\u001b[33m(raylet)\u001b[0m [2024-03-06 01:37:05,649 E 458942 458954] (raylet) file_system_monitor.cc:111: /tmp/ray/session_2024-03-06_00-31-10_957136_458634 is over 95% full, available space: 622251642880; capacity: 16125711347712. Object creation will fail if spilling is required.\n",
      "\u001b[2m\u001b[36m(wrapped_fn pid=459052)\u001b[0m WARNING:nuplan.planning.simulation.planner.idm_planner:IDMPlanner could not find valid path to the target roadblock. Using longest route found instead\n",
      "Ray objects:  62%|██████▏   | 615/996 [1:00:22<54:49,  8.63s/it]\u001b[2m\u001b[33m(raylet)\u001b[0m [2024-03-06 01:37:15,656 E 458942 458954] (raylet) file_system_monitor.cc:111: /tmp/ray/session_2024-03-06_00-31-10_957136_458634 is over 95% full, available space: 622245347328; capacity: 16125711347712. Object creation will fail if spilling is required.\n",
      "\u001b[2m\u001b[36m(wrapped_fn pid=459052)\u001b[0m WARNING:nuplan.planning.simulation.planner.idm_planner:IDMPlanner could not find valid path to the target roadblock. Using longest route found instead\n",
      "\u001b[2m\u001b[33m(raylet)\u001b[0m [2024-03-06 01:37:25,664 E 458942 458954] (raylet) file_system_monitor.cc:111: /tmp/ray/session_2024-03-06_00-31-10_957136_458634 is over 95% full, available space: 622245326848; capacity: 16125711347712. Object creation will fail if spilling is required.\n",
      "Ray objects:  62%|██████▏   | 618/996 [1:00:43<38:37,  6.13s/it]  \u001b[2m\u001b[33m(raylet)\u001b[0m [2024-03-06 01:37:35,671 E 458942 458954] (raylet) file_system_monitor.cc:111: /tmp/ray/session_2024-03-06_00-31-10_957136_458634 is over 95% full, available space: 622226305024; capacity: 16125711347712. Object creation will fail if spilling is required.\n",
      "\u001b[2m\u001b[33m(raylet)\u001b[0m [2024-03-06 01:37:45,679 E 458942 458954] (raylet) file_system_monitor.cc:111: /tmp/ray/session_2024-03-06_00-31-10_957136_458634 is over 95% full, available space: 622226296832; capacity: 16125711347712. Object creation will fail if spilling is required.\n",
      "\u001b[2m\u001b[33m(raylet)\u001b[0m [2024-03-06 01:37:55,686 E 458942 458954] (raylet) file_system_monitor.cc:111: /tmp/ray/session_2024-03-06_00-31-10_957136_458634 is over 95% full, available space: 622226288640; capacity: 16125711347712. Object creation will fail if spilling is required.\n",
      "\u001b[2m\u001b[36m(wrapped_fn pid=459038)\u001b[0m WARNING:nuplan.planning.simulation.planner.idm_planner:IDMPlanner could not find valid path to the target roadblock. Using longest route found instead\n",
      "\u001b[2m\u001b[36m(wrapped_fn pid=459033)\u001b[0m WARNING:nuplan.planning.simulation.planner.idm_planner:IDMPlanner could not find valid path to the target roadblock. Using longest route found instead\n",
      "\u001b[2m\u001b[33m(raylet)\u001b[0m [2024-03-06 01:38:05,694 E 458942 458954] (raylet) file_system_monitor.cc:111: /tmp/ray/session_2024-03-06_00-31-10_957136_458634 is over 95% full, available space: 622226268160; capacity: 16125711347712. Object creation will fail if spilling is required.\n",
      "\u001b[2m\u001b[36m(wrapped_fn pid=459038)\u001b[0m WARNING:nuplan.planning.simulation.planner.idm_planner:IDMPlanner could not find valid path to the target roadblock. Using longest route found instead\u001b[32m [repeated 3x across cluster]\u001b[0m\n",
      "\u001b[2m\u001b[36m(wrapped_fn pid=459054)\u001b[0m WARNING:nuplan.planning.simulation.planner.idm_planner:IDMPlanner could not find valid path to the target roadblock. Using longest route found instead\u001b[32m [repeated 3x across cluster]\u001b[0m\n",
      "\u001b[2m\u001b[33m(raylet)\u001b[0m [2024-03-06 01:38:15,701 E 458942 458954] (raylet) file_system_monitor.cc:111: /tmp/ray/session_2024-03-06_00-31-10_957136_458634 is over 95% full, available space: 622226092032; capacity: 16125711347712. Object creation will fail if spilling is required.\n",
      "\u001b[2m\u001b[33m(raylet)\u001b[0m [2024-03-06 01:38:25,709 E 458942 458954] (raylet) file_system_monitor.cc:111: /tmp/ray/session_2024-03-06_00-31-10_957136_458634 is over 95% full, available space: 622226087936; capacity: 16125711347712. Object creation will fail if spilling is required.\n",
      "\u001b[2m\u001b[36m(wrapped_fn pid=459028)\u001b[0m WARNING:nuplan.planning.simulation.planner.idm_planner:IDMPlanner could not find valid path to the target roadblock. Using longest route found instead\n",
      "\u001b[2m\u001b[36m(wrapped_fn pid=459025)\u001b[0m WARNING:nuplan.planning.simulation.planner.idm_planner:IDMPlanner could not find valid path to the target roadblock. Using longest route found instead\n",
      "\u001b[2m\u001b[33m(raylet)\u001b[0m [2024-03-06 01:38:35,716 E 458942 458954] (raylet) file_system_monitor.cc:111: /tmp/ray/session_2024-03-06_00-31-10_957136_458634 is over 95% full, available space: 622226071552; capacity: 16125711347712. Object creation will fail if spilling is required.\n",
      "\u001b[2m\u001b[36m(wrapped_fn pid=459032)\u001b[0m WARNING:nuplan.planning.simulation.planner.idm_planner:IDMPlanner could not find valid path to the target roadblock. Using longest route found instead\u001b[32m [repeated 3x across cluster]\u001b[0m\n",
      "\u001b[2m\u001b[36m(wrapped_fn pid=459040)\u001b[0m WARNING:nuplan.planning.simulation.planner.idm_planner:IDMPlanner could not find valid path to the target roadblock. Using longest route found instead\u001b[32m [repeated 5x across cluster]\u001b[0m\n",
      "\u001b[2m\u001b[33m(raylet)\u001b[0m [2024-03-06 01:38:45,724 E 458942 458954] (raylet) file_system_monitor.cc:111: /tmp/ray/session_2024-03-06_00-31-10_957136_458634 is over 95% full, available space: 622226059264; capacity: 16125711347712. Object creation will fail if spilling is required.\n",
      "\u001b[2m\u001b[36m(wrapped_fn pid=459051)\u001b[0m WARNING:nuplan.planning.simulation.planner.idm_planner:IDMPlanner could not find valid path to the target roadblock. Using longest route found instead\u001b[32m [repeated 2x across cluster]\u001b[0m\n",
      "\u001b[2m\u001b[33m(raylet)\u001b[0m [2024-03-06 01:38:55,731 E 458942 458954] (raylet) file_system_monitor.cc:111: /tmp/ray/session_2024-03-06_00-31-10_957136_458634 is over 95% full, available space: 622225924096; capacity: 16125711347712. Object creation will fail if spilling is required.\n",
      "\u001b[2m\u001b[36m(wrapped_fn pid=459051)\u001b[0m WARNING:nuplan.planning.simulation.planner.idm_planner:IDMPlanner could not find valid path to the target roadblock. Using longest route found instead\u001b[32m [repeated 2x across cluster]\u001b[0m\n",
      "Ray objects:  62%|██████▏   | 620/996 [1:02:09<2:14:07, 21.40s/it]\u001b[2m\u001b[33m(raylet)\u001b[0m [2024-03-06 01:39:05,739 E 458942 458954] (raylet) file_system_monitor.cc:111: /tmp/ray/session_2024-03-06_00-31-10_957136_458634 is over 95% full, available space: 622168313856; capacity: 16125711347712. Object creation will fail if spilling is required.\n",
      "Ray objects:  62%|██████▏   | 621/996 [1:02:15<1:45:31, 16.89s/it]\u001b[2m\u001b[36m(wrapped_fn pid=459029)\u001b[0m WARNING:nuplan.planning.simulation.planner.idm_planner:IDMPlanner could not find valid path to the target roadblock. Using longest route found instead\u001b[32m [repeated 2x across cluster]\u001b[0m\n",
      "\u001b[2m\u001b[33m(raylet)\u001b[0m [2024-03-06 01:39:15,747 E 458942 458954] (raylet) file_system_monitor.cc:111: /tmp/ray/session_2024-03-06_00-31-10_957136_458634 is over 95% full, available space: 622139367424; capacity: 16125711347712. Object creation will fail if spilling is required.\n",
      "Ray objects:  63%|██████▎   | 623/996 [1:02:26<1:05:32, 10.54s/it]\u001b[2m\u001b[36m(wrapped_fn pid=459049)\u001b[0m WARNING:nuplan.planning.simulation.planner.idm_planner:IDMPlanner could not find valid path to the target roadblock. Using longest route found instead\n",
      "\u001b[2m\u001b[36m(wrapped_fn pid=459048)\u001b[0m WARNING:nuplan.planning.simulation.planner.idm_planner:IDMPlanner could not find valid path to the target roadblock. Using longest route found instead\n",
      "Ray objects:  63%|██████▎   | 624/996 [1:02:29<51:24,  8.29s/it]  \u001b[2m\u001b[33m(raylet)\u001b[0m [2024-03-06 01:39:25,754 E 458942 458954] (raylet) file_system_monitor.cc:111: /tmp/ray/session_2024-03-06_00-31-10_957136_458634 is over 95% full, available space: 622120513536; capacity: 16125711347712. Object creation will fail if spilling is required.\n",
      "\u001b[2m\u001b[36m(wrapped_fn pid=459049)\u001b[0m WARNING:nuplan.planning.simulation.planner.idm_planner:IDMPlanner could not find valid path to the target roadblock. Using longest route found instead\u001b[32m [repeated 2x across cluster]\u001b[0m\n",
      "\u001b[2m\u001b[33m(raylet)\u001b[0m [2024-03-06 01:39:35,762 E 458942 458954] (raylet) file_system_monitor.cc:111: /tmp/ray/session_2024-03-06_00-31-10_957136_458634 is over 95% full, available space: 622120325120; capacity: 16125711347712. Object creation will fail if spilling is required.\n",
      "Ray objects:  63%|██████▎   | 627/996 [1:02:50<38:54,  6.33s/it]  \u001b[2m\u001b[33m(raylet)\u001b[0m [2024-03-06 01:39:45,770 E 458942 458954] (raylet) file_system_monitor.cc:111: /tmp/ray/session_2024-03-06_00-31-10_957136_458634 is over 95% full, available space: 622034001920; capacity: 16125711347712. Object creation will fail if spilling is required.\n",
      "Ray objects:  63%|██████▎   | 628/996 [1:03:03<50:35,  8.25s/it]\u001b[2m\u001b[33m(raylet)\u001b[0m [2024-03-06 01:39:55,778 E 458942 458954] (raylet) file_system_monitor.cc:111: /tmp/ray/session_2024-03-06_00-31-10_957136_458634 is over 95% full, available space: 622004523008; capacity: 16125711347712. Object creation will fail if spilling is required.\n",
      "Ray objects:  63%|██████▎   | 630/996 [1:03:11<38:47,  6.36s/it]\u001b[2m\u001b[33m(raylet)\u001b[0m [2024-03-06 01:40:05,785 E 458942 458954] (raylet) file_system_monitor.cc:111: /tmp/ray/session_2024-03-06_00-31-10_957136_458634 is over 95% full, available space: 621945720832; capacity: 16125711347712. Object creation will fail if spilling is required.\n",
      "Ray objects:  63%|██████▎   | 632/996 [1:03:20<32:59,  5.44s/it]\u001b[2m\u001b[33m(raylet)\u001b[0m [2024-03-06 01:40:15,793 E 458942 458954] (raylet) file_system_monitor.cc:111: /tmp/ray/session_2024-03-06_00-31-10_957136_458634 is over 95% full, available space: 621886926848; capacity: 16125711347712. Object creation will fail if spilling is required.\n",
      "Ray objects:  64%|██████▎   | 633/996 [1:03:33<45:00,  7.44s/it]\u001b[2m\u001b[33m(raylet)\u001b[0m [2024-03-06 01:40:25,800 E 458942 458954] (raylet) file_system_monitor.cc:111: /tmp/ray/session_2024-03-06_00-31-10_957136_458634 is over 95% full, available space: 621857570816; capacity: 16125711347712. Object creation will fail if spilling is required.\n",
      "\u001b[2m\u001b[33m(raylet)\u001b[0m [2024-03-06 01:40:35,808 E 458942 458954] (raylet) file_system_monitor.cc:111: /tmp/ray/session_2024-03-06_00-31-10_957136_458634 is over 95% full, available space: 621857501184; capacity: 16125711347712. Object creation will fail if spilling is required.\n",
      "Ray objects:  64%|██████▎   | 634/996 [1:03:48<59:33,  9.87s/it]\u001b[2m\u001b[36m(wrapped_fn pid=459031)\u001b[0m WARNING:nuplan.planning.simulation.planner.idm_planner:IDMPlanner could not find valid path to the target roadblock. Using longest route found instead\u001b[32m [repeated 3x across cluster]\u001b[0m\n",
      "\u001b[2m\u001b[33m(raylet)\u001b[0m [2024-03-06 01:40:45,816 E 458942 458954] (raylet) file_system_monitor.cc:111: /tmp/ray/session_2024-03-06_00-31-10_957136_458634 is over 95% full, available space: 621828198400; capacity: 16125711347712. Object creation will fail if spilling is required.\n",
      "\u001b[2m\u001b[36m(wrapped_fn pid=459031)\u001b[0m WARNING:nuplan.planning.simulation.planner.idm_planner:IDMPlanner could not find valid path to the target roadblock. Using longest route found instead\u001b[32m [repeated 2x across cluster]\u001b[0m\n",
      "\u001b[2m\u001b[33m(raylet)\u001b[0m [2024-03-06 01:40:55,824 E 458942 458954] (raylet) file_system_monitor.cc:111: /tmp/ray/session_2024-03-06_00-31-10_957136_458634 is over 95% full, available space: 621828182016; capacity: 16125711347712. Object creation will fail if spilling is required.\n",
      "\u001b[2m\u001b[36m(wrapped_fn pid=459037)\u001b[0m WARNING:nuplan.planning.simulation.planner.idm_planner:IDMPlanner could not find valid path to the target roadblock. Using longest route found instead\u001b[32m [repeated 3x across cluster]\u001b[0m\n",
      "\u001b[2m\u001b[33m(raylet)\u001b[0m [2024-03-06 01:41:05,832 E 458942 458954] (raylet) file_system_monitor.cc:111: /tmp/ray/session_2024-03-06_00-31-10_957136_458634 is over 95% full, available space: 621828169728; capacity: 16125711347712. Object creation will fail if spilling is required.\n",
      "\u001b[2m\u001b[36m(wrapped_fn pid=459036)\u001b[0m WARNING:nuplan.planning.simulation.planner.idm_planner:IDMPlanner could not find valid path to the target roadblock. Using longest route found instead\u001b[32m [repeated 4x across cluster]\u001b[0m\n",
      "\u001b[2m\u001b[33m(raylet)\u001b[0m [2024-03-06 01:41:15,840 E 458942 458954] (raylet) file_system_monitor.cc:111: /tmp/ray/session_2024-03-06_00-31-10_957136_458634 is over 95% full, available space: 621828075520; capacity: 16125711347712. Object creation will fail if spilling is required.\n",
      "\u001b[2m\u001b[33m(raylet)\u001b[0m [2024-03-06 01:41:25,853 E 458942 458954] (raylet) file_system_monitor.cc:111: /tmp/ray/session_2024-03-06_00-31-10_957136_458634 is over 95% full, available space: 621828071424; capacity: 16125711347712. Object creation will fail if spilling is required.\n",
      "\u001b[2m\u001b[36m(wrapped_fn pid=459034)\u001b[0m WARNING:nuplan.planning.simulation.planner.idm_planner:IDMPlanner could not find valid path to the target roadblock. Using longest route found instead\u001b[32m [repeated 3x across cluster]\u001b[0m\n",
      "\u001b[2m\u001b[36m(wrapped_fn pid=459034)\u001b[0m WARNING:nuplan.planning.simulation.planner.idm_planner:IDMPlanner could not find valid path to the target roadblock. Using longest route found instead\n",
      "\u001b[2m\u001b[33m(raylet)\u001b[0m [2024-03-06 01:41:35,861 E 458942 458954] (raylet) file_system_monitor.cc:111: /tmp/ray/session_2024-03-06_00-31-10_957136_458634 is over 95% full, available space: 621828063232; capacity: 16125711347712. Object creation will fail if spilling is required.\n",
      "\u001b[2m\u001b[33m(raylet)\u001b[0m [2024-03-06 01:41:45,869 E 458942 458954] (raylet) file_system_monitor.cc:111: /tmp/ray/session_2024-03-06_00-31-10_957136_458634 is over 95% full, available space: 621828063232; capacity: 16125711347712. Object creation will fail if spilling is required.\n",
      "\u001b[2m\u001b[33m(raylet)\u001b[0m [2024-03-06 01:41:55,876 E 458942 458954] (raylet) file_system_monitor.cc:111: /tmp/ray/session_2024-03-06_00-31-10_957136_458634 is over 95% full, available space: 621828059136; capacity: 16125711347712. Object creation will fail if spilling is required.\n",
      "\u001b[2m\u001b[33m(raylet)\u001b[0m [2024-03-06 01:42:05,888 E 458942 458954] (raylet) file_system_monitor.cc:111: /tmp/ray/session_2024-03-06_00-31-10_957136_458634 is over 95% full, available space: 621828059136; capacity: 16125711347712. Object creation will fail if spilling is required.\n",
      "Ray objects:  64%|██████▍   | 636/996 [1:05:18<2:23:03, 23.84s/it]\u001b[2m\u001b[33m(raylet)\u001b[0m [2024-03-06 01:42:15,896 E 458942 458954] (raylet) file_system_monitor.cc:111: /tmp/ray/session_2024-03-06_00-31-10_957136_458634 is over 95% full, available space: 621815857152; capacity: 16125711347712. Object creation will fail if spilling is required.\n",
      "Ray objects:  64%|██████▍   | 639/996 [1:05:32<1:06:31, 11.18s/it]\u001b[2m\u001b[33m(raylet)\u001b[0m [2024-03-06 01:42:25,904 E 458942 458954] (raylet) file_system_monitor.cc:111: /tmp/ray/session_2024-03-06_00-31-10_957136_458634 is over 95% full, available space: 621797785600; capacity: 16125711347712. Object creation will fail if spilling is required.\n",
      "Ray objects:  64%|██████▍   | 640/996 [1:05:40<1:00:05, 10.13s/it]\u001b[2m\u001b[33m(raylet)\u001b[0m [2024-03-06 01:42:35,912 E 458942 458954] (raylet) file_system_monitor.cc:111: /tmp/ray/session_2024-03-06_00-31-10_957136_458634 is over 95% full, available space: 621791703040; capacity: 16125711347712. Object creation will fail if spilling is required.\n",
      "\u001b[2m\u001b[33m(raylet)\u001b[0m [2024-03-06 01:42:45,919 E 458942 458954] (raylet) file_system_monitor.cc:111: /tmp/ray/session_2024-03-06_00-31-10_957136_458634 is over 95% full, available space: 621791694848; capacity: 16125711347712. Object creation will fail if spilling is required.\n",
      "\u001b[2m\u001b[33m(raylet)\u001b[0m [2024-03-06 01:42:55,927 E 458942 458954] (raylet) file_system_monitor.cc:111: /tmp/ray/session_2024-03-06_00-31-10_957136_458634 is over 95% full, available space: 621791694848; capacity: 16125711347712. Object creation will fail if spilling is required.\n",
      "\u001b[2m\u001b[33m(raylet)\u001b[0m [2024-03-06 01:43:05,935 E 458942 458954] (raylet) file_system_monitor.cc:111: /tmp/ray/session_2024-03-06_00-31-10_957136_458634 is over 95% full, available space: 621791694848; capacity: 16125711347712. Object creation will fail if spilling is required.\n",
      "\u001b[2m\u001b[33m(raylet)\u001b[0m [2024-03-06 01:43:15,943 E 458942 458954] (raylet) file_system_monitor.cc:111: /tmp/ray/session_2024-03-06_00-31-10_957136_458634 is over 95% full, available space: 621791522816; capacity: 16125711347712. Object creation will fail if spilling is required.\n",
      "\u001b[2m\u001b[33m(raylet)\u001b[0m [2024-03-06 01:43:25,951 E 458942 458954] (raylet) file_system_monitor.cc:111: /tmp/ray/session_2024-03-06_00-31-10_957136_458634 is over 95% full, available space: 621791518720; capacity: 16125711347712. Object creation will fail if spilling is required.\n",
      "\u001b[2m\u001b[33m(raylet)\u001b[0m [2024-03-06 01:43:35,959 E 458942 458954] (raylet) file_system_monitor.cc:111: /tmp/ray/session_2024-03-06_00-31-10_957136_458634 is over 95% full, available space: 621791514624; capacity: 16125711347712. Object creation will fail if spilling is required.\n",
      "\u001b[2m\u001b[33m(raylet)\u001b[0m [2024-03-06 01:43:45,967 E 458942 458954] (raylet) file_system_monitor.cc:111: /tmp/ray/session_2024-03-06_00-31-10_957136_458634 is over 95% full, available space: 621791514624; capacity: 16125711347712. Object creation will fail if spilling is required.\n",
      "\u001b[2m\u001b[33m(raylet)\u001b[0m [2024-03-06 01:43:55,976 E 458942 458954] (raylet) file_system_monitor.cc:111: /tmp/ray/session_2024-03-06_00-31-10_957136_458634 is over 95% full, available space: 621791510528; capacity: 16125711347712. Object creation will fail if spilling is required.\n",
      "\u001b[2m\u001b[33m(raylet)\u001b[0m [2024-03-06 01:44:05,991 E 458942 458954] (raylet) file_system_monitor.cc:111: /tmp/ray/session_2024-03-06_00-31-10_957136_458634 is over 95% full, available space: 621791506432; capacity: 16125711347712. Object creation will fail if spilling is required.\n",
      "\u001b[2m\u001b[33m(raylet)\u001b[0m [2024-03-06 01:44:15,999 E 458942 458954] (raylet) file_system_monitor.cc:111: /tmp/ray/session_2024-03-06_00-31-10_957136_458634 is over 95% full, available space: 621791473664; capacity: 16125711347712. Object creation will fail if spilling is required.\n",
      "\u001b[2m\u001b[33m(raylet)\u001b[0m [2024-03-06 01:44:26,006 E 458942 458954] (raylet) file_system_monitor.cc:111: /tmp/ray/session_2024-03-06_00-31-10_957136_458634 is over 95% full, available space: 621791473664; capacity: 16125711347712. Object creation will fail if spilling is required.\n",
      "\u001b[2m\u001b[33m(raylet)\u001b[0m [2024-03-06 01:44:36,014 E 458942 458954] (raylet) file_system_monitor.cc:111: /tmp/ray/session_2024-03-06_00-31-10_957136_458634 is over 95% full, available space: 621791469568; capacity: 16125711347712. Object creation will fail if spilling is required.\n",
      "\u001b[2m\u001b[33m(raylet)\u001b[0m [2024-03-06 01:44:46,021 E 458942 458954] (raylet) file_system_monitor.cc:111: /tmp/ray/session_2024-03-06_00-31-10_957136_458634 is over 95% full, available space: 621791469568; capacity: 16125711347712. Object creation will fail if spilling is required.\n",
      "\u001b[2m\u001b[33m(raylet)\u001b[0m [2024-03-06 01:44:56,029 E 458942 458954] (raylet) file_system_monitor.cc:111: /tmp/ray/session_2024-03-06_00-31-10_957136_458634 is over 95% full, available space: 621791465472; capacity: 16125711347712. Object creation will fail if spilling is required.\n",
      "\u001b[2m\u001b[33m(raylet)\u001b[0m [2024-03-06 01:45:06,037 E 458942 458954] (raylet) file_system_monitor.cc:111: /tmp/ray/session_2024-03-06_00-31-10_957136_458634 is over 95% full, available space: 621791461376; capacity: 16125711347712. Object creation will fail if spilling is required.\n",
      "\u001b[2m\u001b[33m(raylet)\u001b[0m [2024-03-06 01:45:16,045 E 458942 458954] (raylet) file_system_monitor.cc:111: /tmp/ray/session_2024-03-06_00-31-10_957136_458634 is over 95% full, available space: 621791301632; capacity: 16125711347712. Object creation will fail if spilling is required.\n",
      "\u001b[2m\u001b[33m(raylet)\u001b[0m [2024-03-06 01:45:26,053 E 458942 458954] (raylet) file_system_monitor.cc:111: /tmp/ray/session_2024-03-06_00-31-10_957136_458634 is over 95% full, available space: 621791293440; capacity: 16125711347712. Object creation will fail if spilling is required.\n",
      "\u001b[2m\u001b[33m(raylet)\u001b[0m [2024-03-06 01:45:36,060 E 458942 458954] (raylet) file_system_monitor.cc:111: /tmp/ray/session_2024-03-06_00-31-10_957136_458634 is over 95% full, available space: 621791232000; capacity: 16125711347712. Object creation will fail if spilling is required.\n",
      "Ray objects:  64%|██████▍   | 641/996 [1:08:48<6:17:02, 63.72s/it]\u001b[2m\u001b[33m(raylet)\u001b[0m [2024-03-06 01:45:46,068 E 458942 458954] (raylet) file_system_monitor.cc:111: /tmp/ray/session_2024-03-06_00-31-10_957136_458634 is over 95% full, available space: 621759942656; capacity: 16125711347712. Object creation will fail if spilling is required.\n",
      "\u001b[2m\u001b[33m(raylet)\u001b[0m [2024-03-06 01:45:56,075 E 458942 458954] (raylet) file_system_monitor.cc:111: /tmp/ray/session_2024-03-06_00-31-10_957136_458634 is over 95% full, available space: 621759873024; capacity: 16125711347712. Object creation will fail if spilling is required.\n",
      "Ray objects:  64%|██████▍   | 642/996 [1:09:12<5:05:09, 51.72s/it]\u001b[2m\u001b[33m(raylet)\u001b[0m [2024-03-06 01:46:06,083 E 458942 458954] (raylet) file_system_monitor.cc:111: /tmp/ray/session_2024-03-06_00-31-10_957136_458634 is over 95% full, available space: 621729136640; capacity: 16125711347712. Object creation will fail if spilling is required.\n",
      "Ray objects:  65%|██████▍   | 643/996 [1:09:23<3:52:40, 39.55s/it]\u001b[2m\u001b[33m(raylet)\u001b[0m [2024-03-06 01:46:16,091 E 458942 458954] (raylet) file_system_monitor.cc:111: /tmp/ray/session_2024-03-06_00-31-10_957136_458634 is over 95% full, available space: 621722738688; capacity: 16125711347712. Object creation will fail if spilling is required.\n",
      "Ray objects:  65%|██████▍   | 646/996 [1:09:31<1:28:44, 15.21s/it]\u001b[2m\u001b[33m(raylet)\u001b[0m [2024-03-06 01:46:26,099 E 458942 458954] (raylet) file_system_monitor.cc:111: /tmp/ray/session_2024-03-06_00-31-10_957136_458634 is over 95% full, available space: 621679288320; capacity: 16125711347712. Object creation will fail if spilling is required.\n",
      "Ray objects:  65%|██████▌   | 650/996 [1:09:43<31:44,  5.50s/it]  \u001b[2m\u001b[33m(raylet)\u001b[0m [2024-03-06 01:46:36,107 E 458942 458954] (raylet) file_system_monitor.cc:111: /tmp/ray/session_2024-03-06_00-31-10_957136_458634 is over 95% full, available space: 621579362304; capacity: 16125711347712. Object creation will fail if spilling is required.\n",
      "Ray objects:  65%|██████▌   | 651/996 [1:09:52<37:44,  6.56s/it]\u001b[2m\u001b[33m(raylet)\u001b[0m [2024-03-06 01:46:46,114 E 458942 458954] (raylet) file_system_monitor.cc:111: /tmp/ray/session_2024-03-06_00-31-10_957136_458634 is over 95% full, available space: 621547978752; capacity: 16125711347712. Object creation will fail if spilling is required.\n",
      "Ray objects:  65%|██████▌   | 652/996 [1:09:57<34:14,  5.97s/it]\u001b[2m\u001b[33m(raylet)\u001b[0m [2024-03-06 01:46:56,122 E 458942 458954] (raylet) file_system_monitor.cc:111: /tmp/ray/session_2024-03-06_00-31-10_957136_458634 is over 95% full, available space: 621516525568; capacity: 16125711347712. Object creation will fail if spilling is required.\n",
      "Ray objects:  66%|██████▌   | 654/996 [1:10:13<36:21,  6.38s/it]\u001b[2m\u001b[33m(raylet)\u001b[0m [2024-03-06 01:47:06,130 E 458942 458954] (raylet) file_system_monitor.cc:111: /tmp/ray/session_2024-03-06_00-31-10_957136_458634 is over 95% full, available space: 621453307904; capacity: 16125711347712. Object creation will fail if spilling is required.\n",
      "Ray objects:  66%|██████▌   | 656/996 [1:10:15<19:42,  3.48s/it]\u001b[2m\u001b[33m(raylet)\u001b[0m [2024-03-06 01:47:16,138 E 458942 458954] (raylet) file_system_monitor.cc:111: /tmp/ray/session_2024-03-06_00-31-10_957136_458634 is over 95% full, available space: 621390016512; capacity: 16125711347712. Object creation will fail if spilling is required.\n",
      "Ray objects:  66%|██████▌   | 657/996 [1:10:28<36:31,  6.46s/it]\u001b[2m\u001b[33m(raylet)\u001b[0m [2024-03-06 01:47:26,145 E 458942 458954] (raylet) file_system_monitor.cc:111: /tmp/ray/session_2024-03-06_00-31-10_957136_458634 is over 95% full, available space: 621358350336; capacity: 16125711347712. Object creation will fail if spilling is required.\n",
      "Ray objects:  66%|██████▌   | 659/996 [1:10:40<33:42,  6.00s/it]\u001b[2m\u001b[33m(raylet)\u001b[0m [2024-03-06 01:47:36,153 E 458942 458954] (raylet) file_system_monitor.cc:111: /tmp/ray/session_2024-03-06_00-31-10_957136_458634 is over 95% full, available space: 621295210496; capacity: 16125711347712. Object creation will fail if spilling is required.\n",
      "Ray objects:  66%|██████▋   | 660/996 [1:10:45<32:24,  5.79s/it]\u001b[2m\u001b[33m(raylet)\u001b[0m [2024-03-06 01:47:46,161 E 458942 458954] (raylet) file_system_monitor.cc:111: /tmp/ray/session_2024-03-06_00-31-10_957136_458634 is over 95% full, available space: 621263826944; capacity: 16125711347712. Object creation will fail if spilling is required.\n",
      "\u001b[2m\u001b[33m(raylet)\u001b[0m [2024-03-06 01:47:56,169 E 458942 458954] (raylet) file_system_monitor.cc:111: /tmp/ray/session_2024-03-06_00-31-10_957136_458634 is over 95% full, available space: 621232050176; capacity: 16125711347712. Object creation will fail if spilling is required.\n",
      "Ray objects:  67%|██████▋   | 665/996 [1:11:13<22:48,  4.13s/it]\u001b[2m\u001b[33m(raylet)\u001b[0m [2024-03-06 01:48:06,177 E 458942 458954] (raylet) file_system_monitor.cc:111: /tmp/ray/session_2024-03-06_00-31-10_957136_458634 is over 95% full, available space: 621098496000; capacity: 16125711347712. Object creation will fail if spilling is required.\n",
      "\u001b[2m\u001b[33m(raylet)\u001b[0m [2024-03-06 01:48:16,185 E 458942 458954] (raylet) file_system_monitor.cc:111: /tmp/ray/session_2024-03-06_00-31-10_957136_458634 is over 95% full, available space: 621107671040; capacity: 16125711347712. Object creation will fail if spilling is required.\n",
      "\u001b[2m\u001b[33m(raylet)\u001b[0m [2024-03-06 01:48:26,192 E 458942 458954] (raylet) file_system_monitor.cc:111: /tmp/ray/session_2024-03-06_00-31-10_957136_458634 is over 95% full, available space: 621107658752; capacity: 16125711347712. Object creation will fail if spilling is required.\n",
      "\u001b[2m\u001b[33m(raylet)\u001b[0m [2024-03-06 01:48:36,200 E 458942 458954] (raylet) file_system_monitor.cc:111: /tmp/ray/session_2024-03-06_00-31-10_957136_458634 is over 95% full, available space: 621107658752; capacity: 16125711347712. Object creation will fail if spilling is required.\n",
      "\u001b[2m\u001b[33m(raylet)\u001b[0m [2024-03-06 01:48:46,208 E 458942 458954] (raylet) file_system_monitor.cc:111: /tmp/ray/session_2024-03-06_00-31-10_957136_458634 is over 95% full, available space: 621107654656; capacity: 16125711347712. Object creation will fail if spilling is required.\n",
      "\u001b[2m\u001b[33m(raylet)\u001b[0m [2024-03-06 01:48:56,215 E 458942 458954] (raylet) file_system_monitor.cc:111: /tmp/ray/session_2024-03-06_00-31-10_957136_458634 is over 95% full, available space: 621107589120; capacity: 16125711347712. Object creation will fail if spilling is required.\n",
      "Ray objects:  67%|██████▋   | 667/996 [1:12:11<1:21:24, 14.85s/it]\u001b[2m\u001b[33m(raylet)\u001b[0m [2024-03-06 01:49:06,223 E 458942 458954] (raylet) file_system_monitor.cc:111: /tmp/ray/session_2024-03-06_00-31-10_957136_458634 is over 95% full, available space: 621095616512; capacity: 16125711347712. Object creation will fail if spilling is required.\n",
      "\u001b[2m\u001b[33m(raylet)\u001b[0m [2024-03-06 01:49:16,231 E 458942 458954] (raylet) file_system_monitor.cc:111: /tmp/ray/session_2024-03-06_00-31-10_957136_458634 is over 95% full, available space: 621095383040; capacity: 16125711347712. Object creation will fail if spilling is required.\n",
      "Ray objects:  67%|██████▋   | 672/996 [1:12:34<28:16,  5.23s/it]  \u001b[2m\u001b[33m(raylet)\u001b[0m [2024-03-06 01:49:26,239 E 458942 458954] (raylet) file_system_monitor.cc:111: /tmp/ray/session_2024-03-06_00-31-10_957136_458634 is over 95% full, available space: 621039730688; capacity: 16125711347712. Object creation will fail if spilling is required.\n",
      "Ray objects:  68%|██████▊   | 674/996 [1:12:43<28:07,  5.24s/it]\u001b[2m\u001b[33m(raylet)\u001b[0m [2024-03-06 01:49:36,245 E 458942 458954] (raylet) file_system_monitor.cc:111: /tmp/ray/session_2024-03-06_00-31-10_957136_458634 is over 95% full, available space: 620976848896; capacity: 16125711347712. Object creation will fail if spilling is required.\n",
      "Ray objects:  68%|██████▊   | 679/996 [1:12:52<12:08,  2.30s/it]\u001b[2m\u001b[33m(raylet)\u001b[0m [2024-03-06 01:49:46,253 E 458942 458954] (raylet) file_system_monitor.cc:111: /tmp/ray/session_2024-03-06_00-31-10_957136_458634 is over 95% full, available space: 620867215360; capacity: 16125711347712. Object creation will fail if spilling is required.\n",
      "Ray objects:  68%|██████▊   | 680/996 [1:12:54<10:46,  2.04s/it]\u001b[2m\u001b[36m(wrapped_fn pid=459050)\u001b[0m WARNING:nuplan.planning.simulation.planner.idm_planner:IDMPlanner could not find valid path to the target roadblock. Using longest route found instead\n",
      "\u001b[2m\u001b[33m(raylet)\u001b[0m [2024-03-06 01:49:56,260 E 458942 458954] (raylet) file_system_monitor.cc:111: /tmp/ray/session_2024-03-06_00-31-10_957136_458634 is over 95% full, available space: 620864409600; capacity: 16125711347712. Object creation will fail if spilling is required.\n",
      "Ray objects:  68%|██████▊   | 681/996 [1:13:14<38:36,  7.35s/it]\u001b[2m\u001b[33m(raylet)\u001b[0m [2024-03-06 01:50:06,268 E 458942 458954] (raylet) file_system_monitor.cc:111: /tmp/ray/session_2024-03-06_00-31-10_957136_458634 is over 95% full, available space: 620858134528; capacity: 16125711347712. Object creation will fail if spilling is required.\n",
      "Ray objects:  69%|██████▊   | 683/996 [1:13:23<33:08,  6.35s/it]\u001b[2m\u001b[33m(raylet)\u001b[0m [2024-03-06 01:50:16,277 E 458942 458954] (raylet) file_system_monitor.cc:111: /tmp/ray/session_2024-03-06_00-31-10_957136_458634 is over 95% full, available space: 620820434944; capacity: 16125711347712. Object creation will fail if spilling is required.\n",
      "Ray objects:  69%|██████▉   | 687/996 [1:13:33<17:06,  3.32s/it]\u001b[2m\u001b[33m(raylet)\u001b[0m [2024-03-06 01:50:26,284 E 458942 458954] (raylet) file_system_monitor.cc:111: /tmp/ray/session_2024-03-06_00-31-10_957136_458634 is over 95% full, available space: 620795600896; capacity: 16125711347712. Object creation will fail if spilling is required.\n",
      "\u001b[2m\u001b[33m(raylet)\u001b[0m [2024-03-06 01:50:36,292 E 458942 458954] (raylet) file_system_monitor.cc:111: /tmp/ray/session_2024-03-06_00-31-10_957136_458634 is over 95% full, available space: 620795580416; capacity: 16125711347712. Object creation will fail if spilling is required.\n",
      "\u001b[2m\u001b[33m(raylet)\u001b[0m [2024-03-06 01:50:46,299 E 458942 458954] (raylet) file_system_monitor.cc:111: /tmp/ray/session_2024-03-06_00-31-10_957136_458634 is over 95% full, available space: 620795580416; capacity: 16125711347712. Object creation will fail if spilling is required.\n",
      "\u001b[2m\u001b[33m(raylet)\u001b[0m [2024-03-06 01:50:56,306 E 458942 458954] (raylet) file_system_monitor.cc:111: /tmp/ray/session_2024-03-06_00-31-10_957136_458634 is over 95% full, available space: 620795576320; capacity: 16125711347712. Object creation will fail if spilling is required.\n",
      "\u001b[2m\u001b[33m(raylet)\u001b[0m [2024-03-06 01:51:06,314 E 458942 458954] (raylet) file_system_monitor.cc:111: /tmp/ray/session_2024-03-06_00-31-10_957136_458634 is over 95% full, available space: 620795572224; capacity: 16125711347712. Object creation will fail if spilling is required.\n",
      "\u001b[2m\u001b[33m(raylet)\u001b[0m [2024-03-06 01:51:16,322 E 458942 458954] (raylet) file_system_monitor.cc:111: /tmp/ray/session_2024-03-06_00-31-10_957136_458634 is over 95% full, available space: 620795408384; capacity: 16125711347712. Object creation will fail if spilling is required.\n",
      "\u001b[2m\u001b[33m(raylet)\u001b[0m [2024-03-06 01:51:26,330 E 458942 458954] (raylet) file_system_monitor.cc:111: /tmp/ray/session_2024-03-06_00-31-10_957136_458634 is over 95% full, available space: 620795400192; capacity: 16125711347712. Object creation will fail if spilling is required.\n",
      "\u001b[2m\u001b[33m(raylet)\u001b[0m [2024-03-06 01:51:36,337 E 458942 458954] (raylet) file_system_monitor.cc:111: /tmp/ray/session_2024-03-06_00-31-10_957136_458634 is over 95% full, available space: 620795392000; capacity: 16125711347712. Object creation will fail if spilling is required.\n",
      "\u001b[2m\u001b[33m(raylet)\u001b[0m [2024-03-06 01:51:46,345 E 458942 458954] (raylet) file_system_monitor.cc:111: /tmp/ray/session_2024-03-06_00-31-10_957136_458634 is over 95% full, available space: 620795392000; capacity: 16125711347712. Object creation will fail if spilling is required.\n",
      "\u001b[2m\u001b[33m(raylet)\u001b[0m [2024-03-06 01:51:56,353 E 458942 458954] (raylet) file_system_monitor.cc:111: /tmp/ray/session_2024-03-06_00-31-10_957136_458634 is over 95% full, available space: 620795322368; capacity: 16125711347712. Object creation will fail if spilling is required.\n",
      "Ray objects:  69%|██████▉   | 688/996 [1:15:07<2:36:37, 30.51s/it]\u001b[2m\u001b[33m(raylet)\u001b[0m [2024-03-06 01:52:06,361 E 458942 458954] (raylet) file_system_monitor.cc:111: /tmp/ray/session_2024-03-06_00-31-10_957136_458634 is over 95% full, available space: 620767023104; capacity: 16125711347712. Object creation will fail if spilling is required.\n",
      "\u001b[2m\u001b[33m(raylet)\u001b[0m [2024-03-06 01:52:16,369 E 458942 458954] (raylet) file_system_monitor.cc:111: /tmp/ray/session_2024-03-06_00-31-10_957136_458634 is over 95% full, available space: 620766994432; capacity: 16125711347712. Object creation will fail if spilling is required.\n",
      "\u001b[2m\u001b[33m(raylet)\u001b[0m [2024-03-06 01:52:26,377 E 458942 458954] (raylet) file_system_monitor.cc:111: /tmp/ray/session_2024-03-06_00-31-10_957136_458634 is over 95% full, available space: 620766986240; capacity: 16125711347712. Object creation will fail if spilling is required.\n",
      "\u001b[2m\u001b[33m(raylet)\u001b[0m [2024-03-06 01:52:36,385 E 458942 458954] (raylet) file_system_monitor.cc:111: /tmp/ray/session_2024-03-06_00-31-10_957136_458634 is over 95% full, available space: 620766986240; capacity: 16125711347712. Object creation will fail if spilling is required.\n",
      "Ray objects:  69%|██████▉   | 689/996 [1:15:52<2:58:54, 34.97s/it]\u001b[2m\u001b[33m(raylet)\u001b[0m [2024-03-06 01:52:46,393 E 458942 458954] (raylet) file_system_monitor.cc:111: /tmp/ray/session_2024-03-06_00-31-10_957136_458634 is over 95% full, available space: 620738871296; capacity: 16125711347712. Object creation will fail if spilling is required.\n",
      "Ray objects:  69%|██████▉   | 690/996 [1:15:58<2:13:42, 26.22s/it]\u001b[2m\u001b[33m(raylet)\u001b[0m [2024-03-06 01:52:56,409 E 458942 458954] (raylet) file_system_monitor.cc:111: /tmp/ray/session_2024-03-06_00-31-10_957136_458634 is over 95% full, available space: 620710608896; capacity: 16125711347712. Object creation will fail if spilling is required.\n",
      "\u001b[2m\u001b[33m(raylet)\u001b[0m [2024-03-06 01:53:06,417 E 458942 458954] (raylet) file_system_monitor.cc:111: /tmp/ray/session_2024-03-06_00-31-10_957136_458634 is over 95% full, available space: 620681707520; capacity: 16125711347712. Object creation will fail if spilling is required.\n",
      "Ray objects:  69%|██████▉   | 691/996 [1:16:14<1:57:19, 23.08s/it]\u001b[2m\u001b[33m(raylet)\u001b[0m [2024-03-06 01:53:16,425 E 458942 458954] (raylet) file_system_monitor.cc:111: /tmp/ray/session_2024-03-06_00-31-10_957136_458634 is over 95% full, available space: 620681396224; capacity: 16125711347712. Object creation will fail if spilling is required.\n",
      "Ray objects:  70%|██████▉   | 693/996 [1:16:30<1:16:51, 15.22s/it]\u001b[2m\u001b[33m(raylet)\u001b[0m [2024-03-06 01:53:26,433 E 458942 458954] (raylet) file_system_monitor.cc:111: /tmp/ray/session_2024-03-06_00-31-10_957136_458634 is over 95% full, available space: 620623650816; capacity: 16125711347712. Object creation will fail if spilling is required.\n",
      "\u001b[2m\u001b[33m(raylet)\u001b[0m [2024-03-06 01:53:36,440 E 458942 458954] (raylet) file_system_monitor.cc:111: /tmp/ray/session_2024-03-06_00-31-10_957136_458634 is over 95% full, available space: 620623646720; capacity: 16125711347712. Object creation will fail if spilling is required.\n",
      "\u001b[2m\u001b[33m(raylet)\u001b[0m [2024-03-06 01:53:46,448 E 458942 458954] (raylet) file_system_monitor.cc:111: /tmp/ray/session_2024-03-06_00-31-10_957136_458634 is over 95% full, available space: 620623642624; capacity: 16125711347712. Object creation will fail if spilling is required.\n",
      "\u001b[2m\u001b[33m(raylet)\u001b[0m [2024-03-06 01:53:56,455 E 458942 458954] (raylet) file_system_monitor.cc:111: /tmp/ray/session_2024-03-06_00-31-10_957136_458634 is over 95% full, available space: 620623638528; capacity: 16125711347712. Object creation will fail if spilling is required.\n",
      "\u001b[2m\u001b[33m(raylet)\u001b[0m [2024-03-06 01:54:06,463 E 458942 458954] (raylet) file_system_monitor.cc:111: /tmp/ray/session_2024-03-06_00-31-10_957136_458634 is over 95% full, available space: 620623630336; capacity: 16125711347712. Object creation will fail if spilling is required.\n",
      "\u001b[2m\u001b[33m(raylet)\u001b[0m [2024-03-06 01:54:16,471 E 458942 458954] (raylet) file_system_monitor.cc:111: /tmp/ray/session_2024-03-06_00-31-10_957136_458634 is over 95% full, available space: 620623585280; capacity: 16125711347712. Object creation will fail if spilling is required.\n",
      "\u001b[2m\u001b[33m(raylet)\u001b[0m [2024-03-06 01:54:26,479 E 458942 458954] (raylet) file_system_monitor.cc:111: /tmp/ray/session_2024-03-06_00-31-10_957136_458634 is over 95% full, available space: 620623581184; capacity: 16125711347712. Object creation will fail if spilling is required.\n",
      "\u001b[2m\u001b[33m(raylet)\u001b[0m [2024-03-06 01:54:36,487 E 458942 458954] (raylet) file_system_monitor.cc:111: /tmp/ray/session_2024-03-06_00-31-10_957136_458634 is over 95% full, available space: 620623577088; capacity: 16125711347712. Object creation will fail if spilling is required.\n",
      "\u001b[2m\u001b[33m(raylet)\u001b[0m [2024-03-06 01:54:46,525 E 458942 458954] (raylet) file_system_monitor.cc:111: /tmp/ray/session_2024-03-06_00-31-10_957136_458634 is over 95% full, available space: 620623380480; capacity: 16125711347712. Object creation will fail if spilling is required.\n",
      "Ray objects:  70%|██████▉   | 696/996 [1:18:00<1:34:23, 18.88s/it]\u001b[2m\u001b[33m(raylet)\u001b[0m [2024-03-06 01:54:56,536 E 458942 458954] (raylet) file_system_monitor.cc:111: /tmp/ray/session_2024-03-06_00-31-10_957136_458634 is over 95% full, available space: 620533616640; capacity: 16125711347712. Object creation will fail if spilling is required.\n",
      "Ray objects:  70%|██████▉   | 697/996 [1:18:06<1:14:52, 15.02s/it]\u001b[2m\u001b[33m(raylet)\u001b[0m [2024-03-06 01:55:06,544 E 458942 458954] (raylet) file_system_monitor.cc:111: /tmp/ray/session_2024-03-06_00-31-10_957136_458634 is over 95% full, available space: 620504395776; capacity: 16125711347712. Object creation will fail if spilling is required.\n",
      "Ray objects:  70%|███████   | 698/996 [1:18:23<1:18:05, 15.72s/it]\u001b[2m\u001b[33m(raylet)\u001b[0m [2024-03-06 01:55:16,552 E 458942 458954] (raylet) file_system_monitor.cc:111: /tmp/ray/session_2024-03-06_00-31-10_957136_458634 is over 95% full, available space: 620474691584; capacity: 16125711347712. Object creation will fail if spilling is required.\n",
      "Ray objects:  70%|███████   | 702/996 [1:18:33<25:05,  5.12s/it]  \u001b[2m\u001b[33m(raylet)\u001b[0m [2024-03-06 01:55:26,560 E 458942 458954] (raylet) file_system_monitor.cc:111: /tmp/ray/session_2024-03-06_00-31-10_957136_458634 is over 95% full, available space: 620358701056; capacity: 16125711347712. Object creation will fail if spilling is required.\n",
      "\u001b[2m\u001b[33m(raylet)\u001b[0m [2024-03-06 01:55:36,569 E 458942 458954] (raylet) file_system_monitor.cc:111: /tmp/ray/session_2024-03-06_00-31-10_957136_458634 is over 95% full, available space: 620358692864; capacity: 16125711347712. Object creation will fail if spilling is required.\n",
      "\u001b[2m\u001b[33m(raylet)\u001b[0m [2024-03-06 01:55:46,576 E 458942 458954] (raylet) file_system_monitor.cc:111: /tmp/ray/session_2024-03-06_00-31-10_957136_458634 is over 95% full, available space: 620358692864; capacity: 16125711347712. Object creation will fail if spilling is required.\n",
      "\u001b[2m\u001b[33m(raylet)\u001b[0m [2024-03-06 01:55:56,584 E 458942 458954] (raylet) file_system_monitor.cc:111: /tmp/ray/session_2024-03-06_00-31-10_957136_458634 is over 95% full, available space: 620358680576; capacity: 16125711347712. Object creation will fail if spilling is required.\n",
      "\u001b[2m\u001b[33m(raylet)\u001b[0m [2024-03-06 01:56:06,591 E 458942 458954] (raylet) file_system_monitor.cc:111: /tmp/ray/session_2024-03-06_00-31-10_957136_458634 is over 95% full, available space: 620358615040; capacity: 16125711347712. Object creation will fail if spilling is required.\n",
      "Ray objects:  71%|███████   | 703/996 [1:19:16<1:21:13, 16.63s/it]\u001b[2m\u001b[33m(raylet)\u001b[0m [2024-03-06 01:56:16,599 E 458942 458954] (raylet) file_system_monitor.cc:111: /tmp/ray/session_2024-03-06_00-31-10_957136_458634 is over 95% full, available space: 620329361408; capacity: 16125711347712. Object creation will fail if spilling is required.\n",
      "Ray objects:  71%|███████   | 704/996 [1:19:32<1:20:04, 16.45s/it]\u001b[2m\u001b[33m(raylet)\u001b[0m [2024-03-06 01:56:26,607 E 458942 458954] (raylet) file_system_monitor.cc:111: /tmp/ray/session_2024-03-06_00-31-10_957136_458634 is over 95% full, available space: 620300308480; capacity: 16125711347712. Object creation will fail if spilling is required.\n",
      "\u001b[2m\u001b[33m(raylet)\u001b[0m [2024-03-06 01:56:36,615 E 458942 458954] (raylet) file_system_monitor.cc:111: /tmp/ray/session_2024-03-06_00-31-10_957136_458634 is over 95% full, available space: 620300242944; capacity: 16125711347712. Object creation will fail if spilling is required.\n",
      "Ray objects:  71%|███████   | 705/996 [1:19:48<1:19:36, 16.42s/it]\u001b[2m\u001b[33m(raylet)\u001b[0m [2024-03-06 01:56:46,623 E 458942 458954] (raylet) file_system_monitor.cc:111: /tmp/ray/session_2024-03-06_00-31-10_957136_458634 is over 95% full, available space: 620271181824; capacity: 16125711347712. Object creation will fail if spilling is required.\n",
      "\u001b[2m\u001b[33m(raylet)\u001b[0m [2024-03-06 01:56:56,630 E 458942 458954] (raylet) file_system_monitor.cc:111: /tmp/ray/session_2024-03-06_00-31-10_957136_458634 is over 95% full, available space: 620270993408; capacity: 16125711347712. Object creation will fail if spilling is required.\n",
      "Ray objects:  71%|███████   | 709/996 [1:20:13<35:16,  7.37s/it]  \u001b[2m\u001b[33m(raylet)\u001b[0m [2024-03-06 01:57:06,638 E 458942 458954] (raylet) file_system_monitor.cc:111: /tmp/ray/session_2024-03-06_00-31-10_957136_458634 is over 95% full, available space: 620176519168; capacity: 16125711347712. Object creation will fail if spilling is required.\n",
      "Ray objects:  72%|███████▏  | 715/996 [1:20:20<07:39,  1.64s/it]\u001b[2m\u001b[33m(raylet)\u001b[0m [2024-03-06 01:57:16,646 E 458942 458954] (raylet) file_system_monitor.cc:111: /tmp/ray/session_2024-03-06_00-31-10_957136_458634 is over 95% full, available space: 620070150144; capacity: 16125711347712. Object creation will fail if spilling is required.\n",
      "Ray objects:  72%|███████▏  | 718/996 [1:20:32<11:49,  2.55s/it]\u001b[2m\u001b[33m(raylet)\u001b[0m [2024-03-06 01:57:26,654 E 458942 458954] (raylet) file_system_monitor.cc:111: /tmp/ray/session_2024-03-06_00-31-10_957136_458634 is over 95% full, available space: 619982639104; capacity: 16125711347712. Object creation will fail if spilling is required.\n",
      "Ray objects:  72%|███████▏  | 720/996 [1:20:41<14:16,  3.10s/it]\u001b[2m\u001b[33m(raylet)\u001b[0m [2024-03-06 01:57:36,662 E 458942 458954] (raylet) file_system_monitor.cc:111: /tmp/ray/session_2024-03-06_00-31-10_957136_458634 is over 95% full, available space: 619924086784; capacity: 16125711347712. Object creation will fail if spilling is required.\n",
      "Ray objects:  73%|███████▎  | 723/996 [1:20:49<11:40,  2.56s/it]\u001b[2m\u001b[33m(raylet)\u001b[0m [2024-03-06 01:57:46,670 E 458942 458954] (raylet) file_system_monitor.cc:111: /tmp/ray/session_2024-03-06_00-31-10_957136_458634 is over 95% full, available space: 619837079552; capacity: 16125711347712. Object creation will fail if spilling is required.\n",
      "Ray objects:  73%|███████▎  | 724/996 [1:21:01<23:45,  5.24s/it]\u001b[2m\u001b[33m(raylet)\u001b[0m [2024-03-06 01:57:56,681 E 458942 458954] (raylet) file_system_monitor.cc:111: /tmp/ray/session_2024-03-06_00-31-10_957136_458634 is over 95% full, available space: 619830886400; capacity: 16125711347712. Object creation will fail if spilling is required.\n",
      "Ray objects:  73%|███████▎  | 725/996 [1:21:11<30:34,  6.77s/it]\u001b[2m\u001b[33m(raylet)\u001b[0m [2024-03-06 01:58:06,689 E 458942 458954] (raylet) file_system_monitor.cc:111: /tmp/ray/session_2024-03-06_00-31-10_957136_458634 is over 95% full, available space: 619817906176; capacity: 16125711347712. Object creation will fail if spilling is required.\n",
      "Ray objects:  73%|███████▎  | 726/996 [1:21:20<34:10,  7.59s/it]\u001b[2m\u001b[33m(raylet)\u001b[0m [2024-03-06 01:58:16,696 E 458942 458954] (raylet) file_system_monitor.cc:111: /tmp/ray/session_2024-03-06_00-31-10_957136_458634 is over 95% full, available space: 619811487744; capacity: 16125711347712. Object creation will fail if spilling is required.\n",
      "Ray objects:  73%|███████▎  | 727/996 [1:21:26<31:48,  7.09s/it]\u001b[2m\u001b[33m(raylet)\u001b[0m [2024-03-06 01:58:26,704 E 458942 458954] (raylet) file_system_monitor.cc:111: /tmp/ray/session_2024-03-06_00-31-10_957136_458634 is over 95% full, available space: 619798552576; capacity: 16125711347712. Object creation will fail if spilling is required.\n",
      "\u001b[2m\u001b[33m(raylet)\u001b[0m [2024-03-06 01:58:36,711 E 458942 458954] (raylet) file_system_monitor.cc:111: /tmp/ray/session_2024-03-06_00-31-10_957136_458634 is over 95% full, available space: 619798552576; capacity: 16125711347712. Object creation will fail if spilling is required.\n",
      "\u001b[2m\u001b[33m(raylet)\u001b[0m [2024-03-06 01:58:46,719 E 458942 458954] (raylet) file_system_monitor.cc:111: /tmp/ray/session_2024-03-06_00-31-10_957136_458634 is over 95% full, available space: 619798552576; capacity: 16125711347712. Object creation will fail if spilling is required.\n",
      "\u001b[2m\u001b[33m(raylet)\u001b[0m [2024-03-06 01:58:56,727 E 458942 458954] (raylet) file_system_monitor.cc:111: /tmp/ray/session_2024-03-06_00-31-10_957136_458634 is over 95% full, available space: 619798544384; capacity: 16125711347712. Object creation will fail if spilling is required.\n",
      "Ray objects:  73%|███████▎  | 728/996 [1:22:09<1:19:51, 17.88s/it]\u001b[2m\u001b[33m(raylet)\u001b[0m [2024-03-06 01:59:06,734 E 458942 458954] (raylet) file_system_monitor.cc:111: /tmp/ray/session_2024-03-06_00-31-10_957136_458634 is over 95% full, available space: 619792379904; capacity: 16125711347712. Object creation will fail if spilling is required.\n",
      "Ray objects:  73%|███████▎  | 731/996 [1:22:23<39:48,  9.01s/it]  \u001b[2m\u001b[33m(raylet)\u001b[0m [2024-03-06 01:59:16,742 E 458942 458954] (raylet) file_system_monitor.cc:111: /tmp/ray/session_2024-03-06_00-31-10_957136_458634 is over 95% full, available space: 619751018496; capacity: 16125711347712. Object creation will fail if spilling is required.\n",
      "Ray objects:  73%|███████▎  | 732/996 [1:22:24<28:58,  6.59s/it]\u001b[2m\u001b[33m(raylet)\u001b[0m [2024-03-06 01:59:26,749 E 458942 458954] (raylet) file_system_monitor.cc:111: /tmp/ray/session_2024-03-06_00-31-10_957136_458634 is over 95% full, available space: 619744944128; capacity: 16125711347712. Object creation will fail if spilling is required.\n",
      "\u001b[2m\u001b[33m(raylet)\u001b[0m [2024-03-06 01:59:36,757 E 458942 458954] (raylet) file_system_monitor.cc:111: /tmp/ray/session_2024-03-06_00-31-10_957136_458634 is over 95% full, available space: 619744944128; capacity: 16125711347712. Object creation will fail if spilling is required.\n",
      "\u001b[2m\u001b[33m(raylet)\u001b[0m [2024-03-06 01:59:46,764 E 458942 458954] (raylet) file_system_monitor.cc:111: /tmp/ray/session_2024-03-06_00-31-10_957136_458634 is over 95% full, available space: 619744878592; capacity: 16125711347712. Object creation will fail if spilling is required.\n",
      "Ray objects:  74%|███████▎  | 734/996 [1:22:58<46:49, 10.72s/it]\u001b[2m\u001b[33m(raylet)\u001b[0m [2024-03-06 01:59:56,772 E 458942 458954] (raylet) file_system_monitor.cc:111: /tmp/ray/session_2024-03-06_00-31-10_957136_458634 is over 95% full, available space: 619731968000; capacity: 16125711347712. Object creation will fail if spilling is required.\n",
      "Ray objects:  74%|███████▍  | 736/996 [1:23:08<31:38,  7.30s/it]\u001b[2m\u001b[33m(raylet)\u001b[0m [2024-03-06 02:00:06,780 E 458942 458954] (raylet) file_system_monitor.cc:111: /tmp/ray/session_2024-03-06_00-31-10_957136_458634 is over 95% full, available space: 619696562176; capacity: 16125711347712. Object creation will fail if spilling is required.\n",
      "Ray objects:  74%|███████▍  | 739/996 [1:23:19<20:05,  4.69s/it]\u001b[2m\u001b[33m(raylet)\u001b[0m [2024-03-06 02:00:16,787 E 458942 458954] (raylet) file_system_monitor.cc:111: /tmp/ray/session_2024-03-06_00-31-10_957136_458634 is over 95% full, available space: 619631759360; capacity: 16125711347712. Object creation will fail if spilling is required.\n",
      "Ray objects:  74%|███████▍  | 741/996 [1:23:32<21:38,  5.09s/it]\u001b[2m\u001b[33m(raylet)\u001b[0m [2024-03-06 02:00:26,794 E 458942 458954] (raylet) file_system_monitor.cc:111: /tmp/ray/session_2024-03-06_00-31-10_957136_458634 is over 95% full, available space: 619589087232; capacity: 16125711347712. Object creation will fail if spilling is required.\n",
      "Ray objects:  75%|███████▍  | 743/996 [1:23:39<19:03,  4.52s/it]\u001b[2m\u001b[33m(raylet)\u001b[0m [2024-03-06 02:00:36,802 E 458942 458954] (raylet) file_system_monitor.cc:111: /tmp/ray/session_2024-03-06_00-31-10_957136_458634 is over 95% full, available space: 619559841792; capacity: 16125711347712. Object creation will fail if spilling is required.\n",
      "Ray objects:  75%|███████▍  | 744/996 [1:23:54<31:57,  7.61s/it]\u001b[2m\u001b[33m(raylet)\u001b[0m [2024-03-06 02:00:46,809 E 458942 458954] (raylet) file_system_monitor.cc:111: /tmp/ray/session_2024-03-06_00-31-10_957136_458634 is over 95% full, available space: 619530489856; capacity: 16125711347712. Object creation will fail if spilling is required.\n",
      "Ray objects:  75%|███████▍  | 746/996 [1:24:03<24:54,  5.98s/it]\u001b[2m\u001b[33m(raylet)\u001b[0m [2024-03-06 02:00:56,817 E 458942 458954] (raylet) file_system_monitor.cc:111: /tmp/ray/session_2024-03-06_00-31-10_957136_458634 is over 95% full, available space: 619517378560; capacity: 16125711347712. Object creation will fail if spilling is required.\n",
      "Ray objects:  75%|███████▌  | 749/996 [1:24:11<14:01,  3.41s/it]\u001b[2m\u001b[33m(raylet)\u001b[0m [2024-03-06 02:01:06,825 E 458942 458954] (raylet) file_system_monitor.cc:111: /tmp/ray/session_2024-03-06_00-31-10_957136_458634 is over 95% full, available space: 619497791488; capacity: 16125711347712. Object creation will fail if spilling is required.\n",
      "Ray objects:  76%|███████▌  | 754/996 [1:24:24<12:49,  3.18s/it]\u001b[2m\u001b[33m(raylet)\u001b[0m [2024-03-06 02:01:16,832 E 458942 458954] (raylet) file_system_monitor.cc:111: /tmp/ray/session_2024-03-06_00-31-10_957136_458634 is over 95% full, available space: 619465560064; capacity: 16125711347712. Object creation will fail if spilling is required.\n",
      "Ray objects:  76%|███████▌  | 757/996 [1:24:34<13:11,  3.31s/it]\u001b[2m\u001b[33m(raylet)\u001b[0m [2024-03-06 02:01:26,840 E 458942 458954] (raylet) file_system_monitor.cc:111: /tmp/ray/session_2024-03-06_00-31-10_957136_458634 is over 95% full, available space: 619439267840; capacity: 16125711347712. Object creation will fail if spilling is required.\n",
      "\u001b[2m\u001b[33m(raylet)\u001b[0m [2024-03-06 02:01:36,847 E 458942 458954] (raylet) file_system_monitor.cc:111: /tmp/ray/session_2024-03-06_00-31-10_957136_458634 is over 95% full, available space: 619439185920; capacity: 16125711347712. Object creation will fail if spilling is required.\n",
      "Ray objects:  76%|███████▌  | 759/996 [1:24:47<18:32,  4.69s/it]\u001b[2m\u001b[33m(raylet)\u001b[0m [2024-03-06 02:01:46,854 E 458942 458954] (raylet) file_system_monitor.cc:111: /tmp/ray/session_2024-03-06_00-31-10_957136_458634 is over 95% full, available space: 619432747008; capacity: 16125711347712. Object creation will fail if spilling is required.\n",
      "Ray objects:  76%|███████▋  | 760/996 [1:25:03<29:29,  7.50s/it]\u001b[2m\u001b[33m(raylet)\u001b[0m [2024-03-06 02:01:56,862 E 458942 458954] (raylet) file_system_monitor.cc:111: /tmp/ray/session_2024-03-06_00-31-10_957136_458634 is over 95% full, available space: 619426156544; capacity: 16125711347712. Object creation will fail if spilling is required.\n",
      "Ray objects:  76%|███████▋  | 761/996 [1:25:12<31:28,  8.04s/it]\u001b[2m\u001b[33m(raylet)\u001b[0m [2024-03-06 02:02:06,869 E 458942 458954] (raylet) file_system_monitor.cc:111: /tmp/ray/session_2024-03-06_00-31-10_957136_458634 is over 95% full, available space: 619396800512; capacity: 16125711347712. Object creation will fail if spilling is required.\n",
      "Ray objects:  77%|███████▋  | 765/996 [1:25:23<14:59,  3.89s/it]\u001b[2m\u001b[33m(raylet)\u001b[0m [2024-03-06 02:02:16,877 E 458942 458954] (raylet) file_system_monitor.cc:111: /tmp/ray/session_2024-03-06_00-31-10_957136_458634 is over 95% full, available space: 619280908288; capacity: 16125711347712. Object creation will fail if spilling is required.\n",
      "Ray objects:  77%|███████▋  | 768/996 [1:25:34<15:30,  4.08s/it]\u001b[2m\u001b[33m(raylet)\u001b[0m [2024-03-06 02:02:26,884 E 458942 458954] (raylet) file_system_monitor.cc:111: /tmp/ray/session_2024-03-06_00-31-10_957136_458634 is over 95% full, available space: 619197059072; capacity: 16125711347712. Object creation will fail if spilling is required.\n",
      "Ray objects:  77%|███████▋  | 769/996 [1:25:36<12:17,  3.25s/it]\u001b[2m\u001b[33m(raylet)\u001b[0m [2024-03-06 02:02:36,892 E 458942 458954] (raylet) file_system_monitor.cc:111: /tmp/ray/session_2024-03-06_00-31-10_957136_458634 is over 95% full, available space: 619167789056; capacity: 16125711347712. Object creation will fail if spilling is required.\n",
      "\u001b[2m\u001b[33m(raylet)\u001b[0m [2024-03-06 02:02:46,900 E 458942 458954] (raylet) file_system_monitor.cc:111: /tmp/ray/session_2024-03-06_00-31-10_957136_458634 is over 95% full, available space: 619167789056; capacity: 16125711347712. Object creation will fail if spilling is required.\n",
      "Ray objects:  77%|███████▋  | 771/996 [1:26:03<28:28,  7.59s/it]\u001b[2m\u001b[33m(raylet)\u001b[0m [2024-03-06 02:02:56,907 E 458942 458954] (raylet) file_system_monitor.cc:111: /tmp/ray/session_2024-03-06_00-31-10_957136_458634 is over 95% full, available space: 619155099648; capacity: 16125711347712. Object creation will fail if spilling is required.\n",
      "Ray objects:  78%|███████▊  | 772/996 [1:26:06<24:08,  6.47s/it]\u001b[2m\u001b[33m(raylet)\u001b[0m [2024-03-06 02:03:06,915 E 458942 458954] (raylet) file_system_monitor.cc:111: /tmp/ray/session_2024-03-06_00-31-10_957136_458634 is over 95% full, available space: 619148967936; capacity: 16125711347712. Object creation will fail if spilling is required.\n",
      "Ray objects:  78%|███████▊  | 773/996 [1:26:16<27:51,  7.50s/it]\u001b[2m\u001b[33m(raylet)\u001b[0m [2024-03-06 02:03:16,923 E 458942 458954] (raylet) file_system_monitor.cc:111: /tmp/ray/session_2024-03-06_00-31-10_957136_458634 is over 95% full, available space: 619142291456; capacity: 16125711347712. Object creation will fail if spilling is required.\n",
      "Ray objects:  78%|███████▊  | 778/996 [1:26:33<13:10,  3.62s/it]\u001b[2m\u001b[33m(raylet)\u001b[0m [2024-03-06 02:03:26,932 E 458942 458954] (raylet) file_system_monitor.cc:111: /tmp/ray/session_2024-03-06_00-31-10_957136_458634 is over 95% full, available space: 619066339328; capacity: 16125711347712. Object creation will fail if spilling is required.\n",
      "Ray objects:  78%|███████▊  | 779/996 [1:26:38<14:09,  3.92s/it]\u001b[2m\u001b[33m(raylet)\u001b[0m [2024-03-06 02:03:36,939 E 458942 458954] (raylet) file_system_monitor.cc:111: /tmp/ray/session_2024-03-06_00-31-10_957136_458634 is over 95% full, available space: 619038121984; capacity: 16125711347712. Object creation will fail if spilling is required.\n",
      "\u001b[2m\u001b[33m(raylet)\u001b[0m [2024-03-06 02:03:46,947 E 458942 458954] (raylet) file_system_monitor.cc:111: /tmp/ray/session_2024-03-06_00-31-10_957136_458634 is over 95% full, available space: 619038117888; capacity: 16125711347712. Object creation will fail if spilling is required.\n",
      "Ray objects:  78%|███████▊  | 780/996 [1:27:03<36:21, 10.10s/it]\u001b[2m\u001b[33m(raylet)\u001b[0m [2024-03-06 02:03:56,954 E 458942 458954] (raylet) file_system_monitor.cc:111: /tmp/ray/session_2024-03-06_00-31-10_957136_458634 is over 95% full, available space: 619010109440; capacity: 16125711347712. Object creation will fail if spilling is required.\n",
      "\u001b[2m\u001b[33m(raylet)\u001b[0m [2024-03-06 02:04:06,962 E 458942 458954] (raylet) file_system_monitor.cc:111: /tmp/ray/session_2024-03-06_00-31-10_957136_458634 is over 95% full, available space: 619009916928; capacity: 16125711347712. Object creation will fail if spilling is required.\n",
      "Ray objects:  79%|███████▉  | 785/996 [1:27:22<13:09,  3.74s/it]\u001b[2m\u001b[33m(raylet)\u001b[0m [2024-03-06 02:04:16,993 E 458942 458954] (raylet) file_system_monitor.cc:111: /tmp/ray/session_2024-03-06_00-31-10_957136_458634 is over 95% full, available space: 618935492608; capacity: 16125711347712. Object creation will fail if spilling is required.\n",
      "Ray objects:  79%|███████▉  | 788/996 [1:27:33<12:25,  3.59s/it]\u001b[2m\u001b[33m(raylet)\u001b[0m [2024-03-06 02:04:27,002 E 458942 458954] (raylet) file_system_monitor.cc:111: /tmp/ray/session_2024-03-06_00-31-10_957136_458634 is over 95% full, available space: 618916179968; capacity: 16125711347712. Object creation will fail if spilling is required.\n",
      "\u001b[2m\u001b[33m(raylet)\u001b[0m [2024-03-06 02:04:37,010 E 458942 458954] (raylet) file_system_monitor.cc:111: /tmp/ray/session_2024-03-06_00-31-10_957136_458634 is over 95% full, available space: 618916175872; capacity: 16125711347712. Object creation will fail if spilling is required.\n",
      "Ray objects:  79%|███████▉  | 790/996 [1:27:52<21:26,  6.24s/it]\u001b[2m\u001b[33m(raylet)\u001b[0m [2024-03-06 02:04:47,018 E 458942 458954] (raylet) file_system_monitor.cc:111: /tmp/ray/session_2024-03-06_00-31-10_957136_458634 is over 95% full, available space: 618904154112; capacity: 16125711347712. Object creation will fail if spilling is required.\n",
      "\u001b[2m\u001b[33m(raylet)\u001b[0m [2024-03-06 02:04:57,026 E 458942 458954] (raylet) file_system_monitor.cc:111: /tmp/ray/session_2024-03-06_00-31-10_957136_458634 is over 95% full, available space: 618904137728; capacity: 16125711347712. Object creation will fail if spilling is required.\n",
      "\u001b[2m\u001b[33m(raylet)\u001b[0m [2024-03-06 02:05:07,034 E 458942 458954] (raylet) file_system_monitor.cc:111: /tmp/ray/session_2024-03-06_00-31-10_957136_458634 is over 95% full, available space: 618904125440; capacity: 16125711347712. Object creation will fail if spilling is required.\n",
      "\u001b[2m\u001b[33m(raylet)\u001b[0m [2024-03-06 02:05:17,041 E 458942 458954] (raylet) file_system_monitor.cc:111: /tmp/ray/session_2024-03-06_00-31-10_957136_458634 is over 95% full, available space: 618904092672; capacity: 16125711347712. Object creation will fail if spilling is required.\n",
      "Ray objects:  79%|███████▉  | 791/996 [1:28:34<57:25, 16.81s/it]\u001b[2m\u001b[33m(raylet)\u001b[0m [2024-03-06 02:05:27,049 E 458942 458954] (raylet) file_system_monitor.cc:111: /tmp/ray/session_2024-03-06_00-31-10_957136_458634 is over 95% full, available space: 618897866752; capacity: 16125711347712. Object creation will fail if spilling is required.\n",
      "Ray objects:  80%|███████▉  | 792/996 [1:28:36<41:39, 12.25s/it]\u001b[2m\u001b[33m(raylet)\u001b[0m [2024-03-06 02:05:37,057 E 458942 458954] (raylet) file_system_monitor.cc:111: /tmp/ray/session_2024-03-06_00-31-10_957136_458634 is over 95% full, available space: 618891689984; capacity: 16125711347712. Object creation will fail if spilling is required.\n",
      "\u001b[2m\u001b[33m(raylet)\u001b[0m [2024-03-06 02:05:47,065 E 458942 458954] (raylet) file_system_monitor.cc:111: /tmp/ray/session_2024-03-06_00-31-10_957136_458634 is over 95% full, available space: 618891689984; capacity: 16125711347712. Object creation will fail if spilling is required.\n",
      "Ray objects:  80%|███████▉  | 793/996 [1:29:01<55:09, 16.30s/it]\u001b[2m\u001b[33m(raylet)\u001b[0m [2024-03-06 02:05:57,072 E 458942 458954] (raylet) file_system_monitor.cc:111: /tmp/ray/session_2024-03-06_00-31-10_957136_458634 is over 95% full, available space: 618885263360; capacity: 16125711347712. Object creation will fail if spilling is required.\n",
      "Ray objects:  80%|███████▉  | 795/996 [1:29:12<36:53, 11.01s/it]\u001b[2m\u001b[33m(raylet)\u001b[0m [2024-03-06 02:06:07,080 E 458942 458954] (raylet) file_system_monitor.cc:111: /tmp/ray/session_2024-03-06_00-31-10_957136_458634 is over 95% full, available space: 618849832960; capacity: 16125711347712. Object creation will fail if spilling is required.\n",
      "Ray objects:  80%|████████  | 798/996 [1:29:22<18:43,  5.68s/it]\u001b[2m\u001b[33m(raylet)\u001b[0m [2024-03-06 02:06:17,087 E 458942 458954] (raylet) file_system_monitor.cc:111: /tmp/ray/session_2024-03-06_00-31-10_957136_458634 is over 95% full, available space: 618762616832; capacity: 16125711347712. Object creation will fail if spilling is required.\n",
      "Ray objects:  80%|████████  | 799/996 [1:29:32<23:24,  7.13s/it]\u001b[2m\u001b[33m(raylet)\u001b[0m [2024-03-06 02:06:27,095 E 458942 458954] (raylet) file_system_monitor.cc:111: /tmp/ray/session_2024-03-06_00-31-10_957136_458634 is over 95% full, available space: 618733576192; capacity: 16125711347712. Object creation will fail if spilling is required.\n",
      "Ray objects:  80%|████████  | 800/996 [1:29:38<22:13,  6.80s/it]\u001b[2m\u001b[33m(raylet)\u001b[0m [2024-03-06 02:06:37,102 E 458942 458954] (raylet) file_system_monitor.cc:111: /tmp/ray/session_2024-03-06_00-31-10_957136_458634 is over 95% full, available space: 618704470016; capacity: 16125711347712. Object creation will fail if spilling is required.\n",
      "Ray objects:  81%|████████  | 803/996 [1:29:48<13:11,  4.10s/it]\u001b[2m\u001b[33m(raylet)\u001b[0m [2024-03-06 02:06:47,110 E 458942 458954] (raylet) file_system_monitor.cc:111: /tmp/ray/session_2024-03-06_00-31-10_957136_458634 is over 95% full, available space: 618662473728; capacity: 16125711347712. Object creation will fail if spilling is required.\n",
      "Ray objects:  81%|████████  | 804/996 [1:29:59<19:19,  6.04s/it]\u001b[2m\u001b[33m(raylet)\u001b[0m [2024-03-06 02:06:57,118 E 458942 458954] (raylet) file_system_monitor.cc:111: /tmp/ray/session_2024-03-06_00-31-10_957136_458634 is over 95% full, available space: 618633318400; capacity: 16125711347712. Object creation will fail if spilling is required.\n",
      "\u001b[2m\u001b[36m(wrapped_fn pid=459046)\u001b[0m WARNING:nuplan.planning.simulation.planner.idm_planner:IDMPlanner could not find valid path to the target roadblock. Using longest route found instead\u001b[32m [repeated 3x across cluster]\u001b[0m\n",
      "\u001b[2m\u001b[36m(wrapped_fn pid=459038)\u001b[0m WARNING:nuplan.planning.simulation.planner.idm_planner:IDMPlanner could not find valid path to the target roadblock. Using longest route found instead\u001b[32m [repeated 2x across cluster]\u001b[0m\n",
      "Ray objects:  81%|████████  | 805/996 [1:30:13<26:48,  8.42s/it]\u001b[2m\u001b[33m(raylet)\u001b[0m [2024-03-06 02:07:07,125 E 458942 458954] (raylet) file_system_monitor.cc:111: /tmp/ray/session_2024-03-06_00-31-10_957136_458634 is over 95% full, available space: 618604163072; capacity: 16125711347712. Object creation will fail if spilling is required.\n",
      "Ray objects:  81%|████████  | 806/996 [1:30:19<24:32,  7.75s/it]\u001b[2m\u001b[36m(wrapped_fn pid=459035)\u001b[0m WARNING:nuplan.planning.simulation.planner.idm_planner:IDMPlanner could not find valid path to the target roadblock. Using longest route found instead\n",
      "\u001b[2m\u001b[33m(raylet)\u001b[0m [2024-03-06 02:07:17,137 E 458942 458954] (raylet) file_system_monitor.cc:111: /tmp/ray/session_2024-03-06_00-31-10_957136_458634 is over 95% full, available space: 618574872576; capacity: 16125711347712. Object creation will fail if spilling is required.\n",
      "Ray objects:  81%|████████  | 807/996 [1:30:28<25:29,  8.09s/it]\u001b[2m\u001b[36m(wrapped_fn pid=459050)\u001b[0m WARNING:nuplan.planning.simulation.planner.idm_planner:IDMPlanner could not find valid path to the target roadblock. Using longest route found instead\n",
      "Ray objects:  81%|████████▏ | 810/996 [1:30:35<13:35,  4.38s/it]\u001b[2m\u001b[33m(raylet)\u001b[0m [2024-03-06 02:07:27,183 E 458942 458954] (raylet) file_system_monitor.cc:111: /tmp/ray/session_2024-03-06_00-31-10_957136_458634 is over 95% full, available space: 618458402816; capacity: 16125711347712. Object creation will fail if spilling is required.\n",
      "\u001b[2m\u001b[36m(wrapped_fn pid=459032)\u001b[0m WARNING:nuplan.planning.simulation.planner.idm_planner:IDMPlanner could not find valid path to the target roadblock. Using longest route found instead\n",
      "Ray objects:  81%|████████▏ | 811/996 [1:30:37<11:48,  3.83s/it]\u001b[2m\u001b[36m(wrapped_fn pid=459045)\u001b[0m WARNING:nuplan.planning.simulation.planner.idm_planner:IDMPlanner could not find valid path to the target roadblock. Using longest route found instead\n",
      "\u001b[2m\u001b[33m(raylet)\u001b[0m [2024-03-06 02:07:37,191 E 458942 458954] (raylet) file_system_monitor.cc:111: /tmp/ray/session_2024-03-06_00-31-10_957136_458634 is over 95% full, available space: 618429337600; capacity: 16125711347712. Object creation will fail if spilling is required.\n",
      "Ray objects:  82%|████████▏ | 813/996 [1:30:50<14:42,  4.82s/it]\u001b[2m\u001b[33m(raylet)\u001b[0m [2024-03-06 02:07:47,199 E 458942 458954] (raylet) file_system_monitor.cc:111: /tmp/ray/session_2024-03-06_00-31-10_957136_458634 is over 95% full, available space: 618417033216; capacity: 16125711347712. Object creation will fail if spilling is required.\n",
      "Ray objects:  82%|████████▏ | 815/996 [1:31:00<14:08,  4.69s/it]\u001b[2m\u001b[33m(raylet)\u001b[0m [2024-03-06 02:07:57,229 E 458942 458954] (raylet) file_system_monitor.cc:111: /tmp/ray/session_2024-03-06_00-31-10_957136_458634 is over 95% full, available space: 618381914112; capacity: 16125711347712. Object creation will fail if spilling is required.\n",
      "Ray objects:  82%|████████▏ | 816/996 [1:31:09<18:15,  6.09s/it]\u001b[2m\u001b[33m(raylet)\u001b[0m [2024-03-06 02:08:07,246 E 458942 458954] (raylet) file_system_monitor.cc:111: /tmp/ray/session_2024-03-06_00-31-10_957136_458634 is over 95% full, available space: 618352869376; capacity: 16125711347712. Object creation will fail if spilling is required.\n",
      "Ray objects:  82%|████████▏ | 817/996 [1:31:18<20:15,  6.79s/it]\u001b[2m\u001b[33m(raylet)\u001b[0m [2024-03-06 02:08:17,253 E 458942 458954] (raylet) file_system_monitor.cc:111: /tmp/ray/session_2024-03-06_00-31-10_957136_458634 is over 95% full, available space: 618346160128; capacity: 16125711347712. Object creation will fail if spilling is required.\n",
      "Ray objects:  82%|████████▏ | 818/996 [1:31:32<26:49,  9.04s/it]\u001b[2m\u001b[33m(raylet)\u001b[0m [2024-03-06 02:08:27,274 E 458942 458954] (raylet) file_system_monitor.cc:111: /tmp/ray/session_2024-03-06_00-31-10_957136_458634 is over 95% full, available space: 618339643392; capacity: 16125711347712. Object creation will fail if spilling is required.\n",
      "Ray objects:  82%|████████▏ | 819/996 [1:31:38<23:43,  8.04s/it]\u001b[2m\u001b[33m(raylet)\u001b[0m [2024-03-06 02:08:37,281 E 458942 458954] (raylet) file_system_monitor.cc:111: /tmp/ray/session_2024-03-06_00-31-10_957136_458634 is over 95% full, available space: 618332884992; capacity: 16125711347712. Object creation will fail if spilling is required.\n",
      "Ray objects:  82%|████████▏ | 821/996 [1:31:50<19:22,  6.64s/it]\u001b[2m\u001b[33m(raylet)\u001b[0m [2024-03-06 02:08:47,289 E 458942 458954] (raylet) file_system_monitor.cc:111: /tmp/ray/session_2024-03-06_00-31-10_957136_458634 is over 95% full, available space: 618307104768; capacity: 16125711347712. Object creation will fail if spilling is required.\n",
      "\u001b[2m\u001b[33m(raylet)\u001b[0m [2024-03-06 02:08:57,297 E 458942 458954] (raylet) file_system_monitor.cc:111: /tmp/ray/session_2024-03-06_00-31-10_957136_458634 is over 95% full, available space: 618307096576; capacity: 16125711347712. Object creation will fail if spilling is required.\n",
      "\u001b[2m\u001b[33m(raylet)\u001b[0m [2024-03-06 02:09:07,305 E 458942 458954] (raylet) file_system_monitor.cc:111: /tmp/ray/session_2024-03-06_00-31-10_957136_458634 is over 95% full, available space: 618307096576; capacity: 16125711347712. Object creation will fail if spilling is required.\n",
      "\u001b[2m\u001b[33m(raylet)\u001b[0m [2024-03-06 02:09:17,313 E 458942 458954] (raylet) file_system_monitor.cc:111: /tmp/ray/session_2024-03-06_00-31-10_957136_458634 is over 95% full, available space: 618307018752; capacity: 16125711347712. Object creation will fail if spilling is required.\n",
      "\u001b[2m\u001b[33m(raylet)\u001b[0m [2024-03-06 02:09:27,321 E 458942 458954] (raylet) file_system_monitor.cc:111: /tmp/ray/session_2024-03-06_00-31-10_957136_458634 is over 95% full, available space: 618307010560; capacity: 16125711347712. Object creation will fail if spilling is required.\n",
      "\u001b[2m\u001b[33m(raylet)\u001b[0m [2024-03-06 02:09:37,328 E 458942 458954] (raylet) file_system_monitor.cc:111: /tmp/ray/session_2024-03-06_00-31-10_957136_458634 is over 95% full, available space: 618307010560; capacity: 16125711347712. Object creation will fail if spilling is required.\n",
      "\u001b[2m\u001b[33m(raylet)\u001b[0m [2024-03-06 02:09:47,336 E 458942 458954] (raylet) file_system_monitor.cc:111: /tmp/ray/session_2024-03-06_00-31-10_957136_458634 is over 95% full, available space: 618307006464; capacity: 16125711347712. Object creation will fail if spilling is required.\n",
      "Ray objects:  83%|████████▎ | 822/996 [1:33:01<1:15:17, 25.96s/it]\u001b[2m\u001b[33m(raylet)\u001b[0m [2024-03-06 02:09:57,344 E 458942 458954] (raylet) file_system_monitor.cc:111: /tmp/ray/session_2024-03-06_00-31-10_957136_458634 is over 95% full, available space: 618290024448; capacity: 16125711347712. Object creation will fail if spilling is required.\n",
      "Ray objects:  83%|████████▎ | 824/996 [1:33:10<42:30, 14.83s/it]  \u001b[2m\u001b[33m(raylet)\u001b[0m [2024-03-06 02:10:07,353 E 458942 458954] (raylet) file_system_monitor.cc:111: /tmp/ray/session_2024-03-06_00-31-10_957136_458634 is over 95% full, available space: 618266689536; capacity: 16125711347712. Object creation will fail if spilling is required.\n",
      "Ray objects:  83%|████████▎ | 831/996 [1:33:22<05:52,  2.13s/it]\u001b[2m\u001b[33m(raylet)\u001b[0m [2024-03-06 02:10:17,361 E 458942 458954] (raylet) file_system_monitor.cc:111: /tmp/ray/session_2024-03-06_00-31-10_957136_458634 is over 95% full, available space: 618130403328; capacity: 16125711347712. Object creation will fail if spilling is required.\n",
      "Ray objects:  84%|████████▍ | 836/996 [1:33:32<04:08,  1.55s/it]\u001b[2m\u001b[33m(raylet)\u001b[0m [2024-03-06 02:10:27,368 E 458942 458954] (raylet) file_system_monitor.cc:111: /tmp/ray/session_2024-03-06_00-31-10_957136_458634 is over 95% full, available space: 618004979712; capacity: 16125711347712. Object creation will fail if spilling is required.\n",
      "\u001b[2m\u001b[33m(raylet)\u001b[0m [2024-03-06 02:10:37,376 E 458942 458954] (raylet) file_system_monitor.cc:111: /tmp/ray/session_2024-03-06_00-31-10_957136_458634 is over 95% full, available space: 618004967424; capacity: 16125711347712. Object creation will fail if spilling is required.\n",
      "\u001b[2m\u001b[33m(raylet)\u001b[0m [2024-03-06 02:10:47,384 E 458942 458954] (raylet) file_system_monitor.cc:111: /tmp/ray/session_2024-03-06_00-31-10_957136_458634 is over 95% full, available space: 618004963328; capacity: 16125711347712. Object creation will fail if spilling is required.\n",
      "\u001b[2m\u001b[33m(raylet)\u001b[0m [2024-03-06 02:10:57,393 E 458942 458954] (raylet) file_system_monitor.cc:111: /tmp/ray/session_2024-03-06_00-31-10_957136_458634 is over 95% full, available space: 618004959232; capacity: 16125711347712. Object creation will fail if spilling is required.\n",
      "\u001b[2m\u001b[33m(raylet)\u001b[0m [2024-03-06 02:11:07,401 E 458942 458954] (raylet) file_system_monitor.cc:111: /tmp/ray/session_2024-03-06_00-31-10_957136_458634 is over 95% full, available space: 618004889600; capacity: 16125711347712. Object creation will fail if spilling is required.\n",
      "Ray objects:  84%|████████▍ | 837/996 [1:34:21<41:46, 15.76s/it]\u001b[2m\u001b[33m(raylet)\u001b[0m [2024-03-06 02:11:17,409 E 458942 458954] (raylet) file_system_monitor.cc:111: /tmp/ray/session_2024-03-06_00-31-10_957136_458634 is over 95% full, available space: 617976692736; capacity: 16125711347712. Object creation will fail if spilling is required.\n",
      "Ray objects:  84%|████████▍ | 838/996 [1:34:27<33:20, 12.66s/it]\u001b[2m\u001b[33m(raylet)\u001b[0m [2024-03-06 02:11:27,417 E 458942 458954] (raylet) file_system_monitor.cc:111: /tmp/ray/session_2024-03-06_00-31-10_957136_458634 is over 95% full, available space: 617948897280; capacity: 16125711347712. Object creation will fail if spilling is required.\n",
      "\u001b[2m\u001b[33m(raylet)\u001b[0m [2024-03-06 02:11:37,425 E 458942 458954] (raylet) file_system_monitor.cc:111: /tmp/ray/session_2024-03-06_00-31-10_957136_458634 is over 95% full, available space: 617948893184; capacity: 16125711347712. Object creation will fail if spilling is required.\n",
      "\u001b[2m\u001b[33m(raylet)\u001b[0m [2024-03-06 02:11:47,433 E 458942 458954] (raylet) file_system_monitor.cc:111: /tmp/ray/session_2024-03-06_00-31-10_957136_458634 is over 95% full, available space: 617948889088; capacity: 16125711347712. Object creation will fail if spilling is required.\n",
      "Ray objects:  84%|████████▍ | 839/996 [1:34:58<47:22, 18.10s/it]\u001b[2m\u001b[33m(raylet)\u001b[0m [2024-03-06 02:11:57,440 E 458942 458954] (raylet) file_system_monitor.cc:111: /tmp/ray/session_2024-03-06_00-31-10_957136_458634 is over 95% full, available space: 617942786048; capacity: 16125711347712. Object creation will fail if spilling is required.\n",
      "Ray objects:  85%|████████▍ | 845/996 [1:35:14<10:27,  4.16s/it]\u001b[2m\u001b[33m(raylet)\u001b[0m [2024-03-06 02:12:07,448 E 458942 458954] (raylet) file_system_monitor.cc:111: /tmp/ray/session_2024-03-06_00-31-10_957136_458634 is over 95% full, available space: 617906769920; capacity: 16125711347712. Object creation will fail if spilling is required.\n",
      "Ray objects:  85%|████████▌ | 849/996 [1:35:23<06:12,  2.53s/it]\u001b[2m\u001b[33m(raylet)\u001b[0m [2024-03-06 02:12:17,455 E 458942 458954] (raylet) file_system_monitor.cc:111: /tmp/ray/session_2024-03-06_00-31-10_957136_458634 is over 95% full, available space: 617882550272; capacity: 16125711347712. Object creation will fail if spilling is required.\n",
      "Ray objects:  86%|████████▌ | 852/996 [1:35:31<05:42,  2.38s/it]\u001b[2m\u001b[33m(raylet)\u001b[0m [2024-03-06 02:12:27,463 E 458942 458954] (raylet) file_system_monitor.cc:111: /tmp/ray/session_2024-03-06_00-31-10_957136_458634 is over 95% full, available space: 617864486912; capacity: 16125711347712. Object creation will fail if spilling is required.\n",
      "Ray objects:  86%|████████▌ | 853/996 [1:35:35<07:18,  3.07s/it]\u001b[2m\u001b[33m(raylet)\u001b[0m [2024-03-06 02:12:37,471 E 458942 458954] (raylet) file_system_monitor.cc:111: /tmp/ray/session_2024-03-06_00-31-10_957136_458634 is over 95% full, available space: 617836474368; capacity: 16125711347712. Object creation will fail if spilling is required.\n",
      "\u001b[2m\u001b[33m(raylet)\u001b[0m [2024-03-06 02:12:47,478 E 458942 458954] (raylet) file_system_monitor.cc:111: /tmp/ray/session_2024-03-06_00-31-10_957136_458634 is over 95% full, available space: 617836470272; capacity: 16125711347712. Object creation will fail if spilling is required.\n",
      "\u001b[2m\u001b[33m(raylet)\u001b[0m [2024-03-06 02:12:57,486 E 458942 458954] (raylet) file_system_monitor.cc:111: /tmp/ray/session_2024-03-06_00-31-10_957136_458634 is over 95% full, available space: 617836466176; capacity: 16125711347712. Object creation will fail if spilling is required.\n",
      "\u001b[2m\u001b[33m(raylet)\u001b[0m [2024-03-06 02:13:07,494 E 458942 458954] (raylet) file_system_monitor.cc:111: /tmp/ray/session_2024-03-06_00-31-10_957136_458634 is over 95% full, available space: 617836466176; capacity: 16125711347712. Object creation will fail if spilling is required.\n",
      "Ray objects:  86%|████████▌ | 854/996 [1:36:24<39:32, 16.71s/it]\u001b[2m\u001b[33m(raylet)\u001b[0m [2024-03-06 02:13:17,502 E 458942 458954] (raylet) file_system_monitor.cc:111: /tmp/ray/session_2024-03-06_00-31-10_957136_458634 is over 95% full, available space: 617830191104; capacity: 16125711347712. Object creation will fail if spilling is required.\n",
      "\u001b[2m\u001b[33m(raylet)\u001b[0m [2024-03-06 02:13:27,509 E 458942 458954] (raylet) file_system_monitor.cc:111: /tmp/ray/session_2024-03-06_00-31-10_957136_458634 is over 95% full, available space: 617830125568; capacity: 16125711347712. Object creation will fail if spilling is required.\n",
      "Ray objects:  86%|████████▌ | 855/996 [1:36:42<39:38, 16.87s/it]\u001b[2m\u001b[33m(raylet)\u001b[0m [2024-03-06 02:13:37,517 E 458942 458954] (raylet) file_system_monitor.cc:111: /tmp/ray/session_2024-03-06_00-31-10_957136_458634 is over 95% full, available space: 617802027008; capacity: 16125711347712. Object creation will fail if spilling is required.\n",
      "Ray objects:  86%|████████▌ | 857/996 [1:36:49<23:13, 10.03s/it]\u001b[2m\u001b[33m(raylet)\u001b[0m [2024-03-06 02:13:47,525 E 458942 458954] (raylet) file_system_monitor.cc:111: /tmp/ray/session_2024-03-06_00-31-10_957136_458634 is over 95% full, available space: 617767469056; capacity: 16125711347712. Object creation will fail if spilling is required.\n",
      "\u001b[2m\u001b[33m(raylet)\u001b[0m [2024-03-06 02:13:57,533 E 458942 458954] (raylet) file_system_monitor.cc:111: /tmp/ray/session_2024-03-06_00-31-10_957136_458634 is over 95% full, available space: 617767399424; capacity: 16125711347712. Object creation will fail if spilling is required.\n",
      "Ray objects:  86%|████████▌ | 859/996 [1:37:14<24:03, 10.54s/it]\u001b[2m\u001b[33m(raylet)\u001b[0m [2024-03-06 02:14:07,551 E 458942 458954] (raylet) file_system_monitor.cc:111: /tmp/ray/session_2024-03-06_00-31-10_957136_458634 is over 95% full, available space: 617729855488; capacity: 16125711347712. Object creation will fail if spilling is required.\n",
      "Ray objects:  86%|████████▋ | 861/996 [1:37:19<14:43,  6.54s/it]\u001b[2m\u001b[33m(raylet)\u001b[0m [2024-03-06 02:14:17,559 E 458942 458954] (raylet) file_system_monitor.cc:111: /tmp/ray/session_2024-03-06_00-31-10_957136_458634 is over 95% full, available space: 617666895872; capacity: 16125711347712. Object creation will fail if spilling is required.\n",
      "Ray objects:  87%|████████▋ | 862/996 [1:37:31<18:08,  8.12s/it]\u001b[2m\u001b[33m(raylet)\u001b[0m [2024-03-06 02:14:27,566 E 458942 458954] (raylet) file_system_monitor.cc:111: /tmp/ray/session_2024-03-06_00-31-10_957136_458634 is over 95% full, available space: 617635319808; capacity: 16125711347712. Object creation will fail if spilling is required.\n",
      "Ray objects:  87%|████████▋ | 864/996 [1:37:44<15:21,  6.98s/it]\u001b[2m\u001b[33m(raylet)\u001b[0m [2024-03-06 02:14:37,574 E 458942 458954] (raylet) file_system_monitor.cc:111: /tmp/ray/session_2024-03-06_00-31-10_957136_458634 is over 95% full, available space: 617565679616; capacity: 16125711347712. Object creation will fail if spilling is required.\n",
      "Ray objects:  88%|████████▊ | 872/996 [1:37:53<02:38,  1.28s/it]\u001b[2m\u001b[33m(raylet)\u001b[0m [2024-03-06 02:14:47,582 E 458942 458954] (raylet) file_system_monitor.cc:111: /tmp/ray/session_2024-03-06_00-31-10_957136_458634 is over 95% full, available space: 617459900416; capacity: 16125711347712. Object creation will fail if spilling is required.\n",
      "Ray objects:  88%|████████▊ | 879/996 [1:38:04<02:30,  1.29s/it]\u001b[2m\u001b[33m(raylet)\u001b[0m [2024-03-06 02:14:57,590 E 458942 458954] (raylet) file_system_monitor.cc:111: /tmp/ray/session_2024-03-06_00-31-10_957136_458634 is over 95% full, available space: 617416101888; capacity: 16125711347712. Object creation will fail if spilling is required.\n",
      "Ray objects:  88%|████████▊ | 880/996 [1:38:05<02:16,  1.17s/it]\u001b[2m\u001b[36m(wrapped_fn pid=459051)\u001b[0m WARNING:nuplan.planning.simulation.planner.idm_planner:IDMPlanner could not find valid path to the target roadblock. Using longest route found instead\u001b[32m [repeated 2x across cluster]\u001b[0m\n",
      "\u001b[2m\u001b[36m(wrapped_fn pid=459055)\u001b[0m WARNING:nuplan.planning.simulation.planner.idm_planner:IDMPlanner could not find valid path to the target roadblock. Using longest route found instead\u001b[32m [repeated 5x across cluster]\u001b[0m\n",
      "Ray objects:  88%|████████▊ | 881/996 [1:38:14<06:58,  3.64s/it]\u001b[2m\u001b[33m(raylet)\u001b[0m [2024-03-06 02:15:07,598 E 458942 458954] (raylet) file_system_monitor.cc:111: /tmp/ray/session_2024-03-06_00-31-10_957136_458634 is over 95% full, available space: 617403793408; capacity: 16125711347712. Object creation will fail if spilling is required.\n",
      "\u001b[2m\u001b[33m(raylet)\u001b[0m [2024-03-06 02:15:17,605 E 458942 458954] (raylet) file_system_monitor.cc:111: /tmp/ray/session_2024-03-06_00-31-10_957136_458634 is over 95% full, available space: 617403621376; capacity: 16125711347712. Object creation will fail if spilling is required.\n",
      "\u001b[2m\u001b[33m(raylet)\u001b[0m [2024-03-06 02:15:27,613 E 458942 458954] (raylet) file_system_monitor.cc:111: /tmp/ray/session_2024-03-06_00-31-10_957136_458634 is over 95% full, available space: 617403609088; capacity: 16125711347712. Object creation will fail if spilling is required.\n",
      "Ray objects:  89%|████████▊ | 882/996 [1:38:44<21:29, 11.31s/it]\u001b[2m\u001b[33m(raylet)\u001b[0m [2024-03-06 02:15:37,621 E 458942 458954] (raylet) file_system_monitor.cc:111: /tmp/ray/session_2024-03-06_00-31-10_957136_458634 is over 95% full, available space: 617386676224; capacity: 16125711347712. Object creation will fail if spilling is required.\n",
      "\u001b[2m\u001b[33m(raylet)\u001b[0m [2024-03-06 02:15:47,629 E 458942 458954] (raylet) file_system_monitor.cc:111: /tmp/ray/session_2024-03-06_00-31-10_957136_458634 is over 95% full, available space: 617386676224; capacity: 16125711347712. Object creation will fail if spilling is required.\n",
      "Ray objects:  89%|████████▊ | 883/996 [1:39:04<26:19, 13.98s/it]\u001b[2m\u001b[33m(raylet)\u001b[0m [2024-03-06 02:15:57,637 E 458942 458954] (raylet) file_system_monitor.cc:111: /tmp/ray/session_2024-03-06_00-31-10_957136_458634 is over 95% full, available space: 617380442112; capacity: 16125711347712. Object creation will fail if spilling is required.\n",
      "Ray objects:  89%|████████▉ | 886/996 [1:39:10<11:12,  6.11s/it]\u001b[2m\u001b[33m(raylet)\u001b[0m [2024-03-06 02:16:07,645 E 458942 458954] (raylet) file_system_monitor.cc:111: /tmp/ray/session_2024-03-06_00-31-10_957136_458634 is over 95% full, available space: 617329995776; capacity: 16125711347712. Object creation will fail if spilling is required.\n",
      "Ray objects:  89%|████████▉ | 887/996 [1:39:19<12:31,  6.90s/it]\u001b[2m\u001b[33m(raylet)\u001b[0m [2024-03-06 02:16:17,652 E 458942 458954] (raylet) file_system_monitor.cc:111: /tmp/ray/session_2024-03-06_00-31-10_957136_458634 is over 95% full, available space: 617323642880; capacity: 16125711347712. Object creation will fail if spilling is required.\n",
      "Ray objects:  89%|████████▉ | 891/996 [1:39:31<07:00,  4.01s/it]\u001b[2m\u001b[33m(raylet)\u001b[0m [2024-03-06 02:16:27,660 E 458942 458954] (raylet) file_system_monitor.cc:111: /tmp/ray/session_2024-03-06_00-31-10_957136_458634 is over 95% full, available space: 617271152640; capacity: 16125711347712. Object creation will fail if spilling is required.\n",
      "\u001b[2m\u001b[33m(raylet)\u001b[0m [2024-03-06 02:16:37,667 E 458942 458954] (raylet) file_system_monitor.cc:111: /tmp/ray/session_2024-03-06_00-31-10_957136_458634 is over 95% full, available space: 617271152640; capacity: 16125711347712. Object creation will fail if spilling is required.\n",
      "Ray objects:  90%|████████▉ | 894/996 [1:39:54<09:47,  5.76s/it]\u001b[2m\u001b[33m(raylet)\u001b[0m [2024-03-06 02:16:47,675 E 458942 458954] (raylet) file_system_monitor.cc:111: /tmp/ray/session_2024-03-06_00-31-10_957136_458634 is over 95% full, available space: 617258930176; capacity: 16125711347712. Object creation will fail if spilling is required.\n",
      "Ray objects:  90%|████████▉ | 895/996 [1:40:00<09:56,  5.90s/it]\u001b[2m\u001b[33m(raylet)\u001b[0m [2024-03-06 02:16:57,682 E 458942 458954] (raylet) file_system_monitor.cc:111: /tmp/ray/session_2024-03-06_00-31-10_957136_458634 is over 95% full, available space: 617252782080; capacity: 16125711347712. Object creation will fail if spilling is required.\n",
      "\u001b[2m\u001b[33m(raylet)\u001b[0m [2024-03-06 02:17:07,690 E 458942 458954] (raylet) file_system_monitor.cc:111: /tmp/ray/session_2024-03-06_00-31-10_957136_458634 is over 95% full, available space: 617252782080; capacity: 16125711347712. Object creation will fail if spilling is required.\n",
      "Ray objects:  90%|████████▉ | 896/996 [1:40:19<15:38,  9.38s/it]\u001b[2m\u001b[33m(raylet)\u001b[0m [2024-03-06 02:17:17,698 E 458942 458954] (raylet) file_system_monitor.cc:111: /tmp/ray/session_2024-03-06_00-31-10_957136_458634 is over 95% full, available space: 617246478336; capacity: 16125711347712. Object creation will fail if spilling is required.\n",
      "Ray objects:  90%|█████████ | 897/996 [1:40:30<15:55,  9.65s/it]\u001b[2m\u001b[33m(raylet)\u001b[0m [2024-03-06 02:17:27,706 E 458942 458954] (raylet) file_system_monitor.cc:111: /tmp/ray/session_2024-03-06_00-31-10_957136_458634 is over 95% full, available space: 617233354752; capacity: 16125711347712. Object creation will fail if spilling is required.\n",
      "Ray objects:  90%|█████████ | 898/996 [1:40:35<13:50,  8.47s/it]\u001b[2m\u001b[33m(raylet)\u001b[0m [2024-03-06 02:17:37,714 E 458942 458954] (raylet) file_system_monitor.cc:111: /tmp/ray/session_2024-03-06_00-31-10_957136_458634 is over 95% full, available space: 617220157440; capacity: 16125711347712. Object creation will fail if spilling is required.\n",
      "Ray objects:  91%|█████████ | 902/996 [1:40:55<07:33,  4.82s/it]\u001b[2m\u001b[33m(raylet)\u001b[0m [2024-03-06 02:17:47,721 E 458942 458954] (raylet) file_system_monitor.cc:111: /tmp/ray/session_2024-03-06_00-31-10_957136_458634 is over 95% full, available space: 617167675392; capacity: 16125711347712. Object creation will fail if spilling is required.\n",
      "\u001b[2m\u001b[33m(raylet)\u001b[0m [2024-03-06 02:17:57,730 E 458942 458954] (raylet) file_system_monitor.cc:111: /tmp/ray/session_2024-03-06_00-31-10_957136_458634 is over 95% full, available space: 617167601664; capacity: 16125711347712. Object creation will fail if spilling is required.\n",
      "Ray objects:  91%|█████████ | 903/996 [1:41:08<11:34,  7.47s/it]\u001b[2m\u001b[33m(raylet)\u001b[0m [2024-03-06 02:18:07,737 E 458942 458954] (raylet) file_system_monitor.cc:111: /tmp/ray/session_2024-03-06_00-31-10_957136_458634 is over 95% full, available space: 617154277376; capacity: 16125711347712. Object creation will fail if spilling is required.\n",
      "Ray objects:  91%|█████████▏| 910/996 [1:41:24<03:35,  2.51s/it]\u001b[2m\u001b[33m(raylet)\u001b[0m [2024-03-06 02:18:17,745 E 458942 458954] (raylet) file_system_monitor.cc:111: /tmp/ray/session_2024-03-06_00-31-10_957136_458634 is over 95% full, available space: 617061842944; capacity: 16125711347712. Object creation will fail if spilling is required.\n",
      "\u001b[2m\u001b[33m(raylet)\u001b[0m [2024-03-06 02:18:27,753 E 458942 458954] (raylet) file_system_monitor.cc:111: /tmp/ray/session_2024-03-06_00-31-10_957136_458634 is over 95% full, available space: 617061707776; capacity: 16125711347712. Object creation will fail if spilling is required.\n",
      "Ray objects:  92%|█████████▏| 915/996 [1:41:45<03:44,  2.77s/it]\u001b[2m\u001b[33m(raylet)\u001b[0m [2024-03-06 02:18:37,760 E 458942 458954] (raylet) file_system_monitor.cc:111: /tmp/ray/session_2024-03-06_00-31-10_957136_458634 is over 95% full, available space: 616936931328; capacity: 16125711347712. Object creation will fail if spilling is required.\n",
      "Ray objects:  92%|█████████▏| 920/996 [1:41:55<02:44,  2.16s/it]\u001b[2m\u001b[33m(raylet)\u001b[0m [2024-03-06 02:18:47,768 E 458942 458954] (raylet) file_system_monitor.cc:111: /tmp/ray/session_2024-03-06_00-31-10_957136_458634 is over 95% full, available space: 616841838592; capacity: 16125711347712. Object creation will fail if spilling is required.\n",
      "Ray objects:  92%|█████████▏| 921/996 [1:41:55<02:13,  1.78s/it]\u001b[2m\u001b[33m(raylet)\u001b[0m [2024-03-06 02:18:57,776 E 458942 458954] (raylet) file_system_monitor.cc:111: /tmp/ray/session_2024-03-06_00-31-10_957136_458634 is over 95% full, available space: 616828579840; capacity: 16125711347712. Object creation will fail if spilling is required.\n",
      "\u001b[2m\u001b[33m(raylet)\u001b[0m [2024-03-06 02:19:07,783 E 458942 458954] (raylet) file_system_monitor.cc:111: /tmp/ray/session_2024-03-06_00-31-10_957136_458634 is over 95% full, available space: 616828579840; capacity: 16125711347712. Object creation will fail if spilling is required.\n",
      "\u001b[2m\u001b[33m(raylet)\u001b[0m [2024-03-06 02:19:17,791 E 458942 458954] (raylet) file_system_monitor.cc:111: /tmp/ray/session_2024-03-06_00-31-10_957136_458634 is over 95% full, available space: 616828346368; capacity: 16125711347712. Object creation will fail if spilling is required.\n",
      "Ray objects:  93%|█████████▎| 922/996 [1:42:29<13:52, 11.25s/it]\u001b[2m\u001b[33m(raylet)\u001b[0m [2024-03-06 02:19:27,798 E 458942 458954] (raylet) file_system_monitor.cc:111: /tmp/ray/session_2024-03-06_00-31-10_957136_458634 is over 95% full, available space: 616800169984; capacity: 16125711347712. Object creation will fail if spilling is required.\n",
      "\u001b[2m\u001b[33m(raylet)\u001b[0m [2024-03-06 02:19:37,806 E 458942 458954] (raylet) file_system_monitor.cc:111: /tmp/ray/session_2024-03-06_00-31-10_957136_458634 is over 95% full, available space: 616800169984; capacity: 16125711347712. Object creation will fail if spilling is required.\n",
      "\u001b[2m\u001b[33m(raylet)\u001b[0m [2024-03-06 02:19:47,813 E 458942 458954] (raylet) file_system_monitor.cc:111: /tmp/ray/session_2024-03-06_00-31-10_957136_458634 is over 95% full, available space: 616800169984; capacity: 16125711347712. Object creation will fail if spilling is required.\n",
      "Ray objects:  93%|█████████▎| 923/996 [1:43:04<22:04, 18.14s/it]\u001b[2m\u001b[33m(raylet)\u001b[0m [2024-03-06 02:19:57,821 E 458942 458954] (raylet) file_system_monitor.cc:111: /tmp/ray/session_2024-03-06_00-31-10_957136_458634 is over 95% full, available space: 616793559040; capacity: 16125711347712. Object creation will fail if spilling is required.\n",
      "Ray objects:  93%|█████████▎| 926/996 [1:43:12<09:14,  7.92s/it]\u001b[2m\u001b[33m(raylet)\u001b[0m [2024-03-06 02:20:07,828 E 458942 458954] (raylet) file_system_monitor.cc:111: /tmp/ray/session_2024-03-06_00-31-10_957136_458634 is over 95% full, available space: 616730599424; capacity: 16125711347712. Object creation will fail if spilling is required.\n",
      "Ray objects:  93%|█████████▎| 928/996 [1:43:25<08:17,  7.32s/it]\u001b[2m\u001b[33m(raylet)\u001b[0m [2024-03-06 02:20:17,836 E 458942 458954] (raylet) file_system_monitor.cc:111: /tmp/ray/session_2024-03-06_00-31-10_957136_458634 is over 95% full, available space: 616717574144; capacity: 16125711347712. Object creation will fail if spilling is required.\n",
      "Ray objects:  94%|█████████▍| 940/996 [1:43:35<00:41,  1.34it/s]\u001b[2m\u001b[33m(raylet)\u001b[0m [2024-03-06 02:20:27,844 E 458942 458954] (raylet) file_system_monitor.cc:111: /tmp/ray/session_2024-03-06_00-31-10_957136_458634 is over 95% full, available space: 616596316160; capacity: 16125711347712. Object creation will fail if spilling is required.\n",
      "Ray objects:  95%|█████████▍| 943/996 [1:43:42<01:29,  1.69s/it]\u001b[2m\u001b[33m(raylet)\u001b[0m [2024-03-06 02:20:37,852 E 458942 458954] (raylet) file_system_monitor.cc:111: /tmp/ray/session_2024-03-06_00-31-10_957136_458634 is over 95% full, available space: 616555433984; capacity: 16125711347712. Object creation will fail if spilling is required.\n",
      "Ray objects:  95%|█████████▍| 944/996 [1:43:49<02:57,  3.41s/it]\u001b[2m\u001b[33m(raylet)\u001b[0m [2024-03-06 02:20:47,860 E 458942 458954] (raylet) file_system_monitor.cc:111: /tmp/ray/session_2024-03-06_00-31-10_957136_458634 is over 95% full, available space: 616548884480; capacity: 16125711347712. Object creation will fail if spilling is required.\n",
      "\u001b[2m\u001b[33m(raylet)\u001b[0m [2024-03-06 02:20:57,868 E 458942 458954] (raylet) file_system_monitor.cc:111: /tmp/ray/session_2024-03-06_00-31-10_957136_458634 is over 95% full, available space: 616548884480; capacity: 16125711347712. Object creation will fail if spilling is required.\n",
      "\u001b[2m\u001b[33m(raylet)\u001b[0m [2024-03-06 02:21:07,876 E 458942 458954] (raylet) file_system_monitor.cc:111: /tmp/ray/session_2024-03-06_00-31-10_957136_458634 is over 95% full, available space: 616548876288; capacity: 16125711347712. Object creation will fail if spilling is required.\n",
      "\u001b[2m\u001b[33m(raylet)\u001b[0m [2024-03-06 02:21:17,883 E 458942 458954] (raylet) file_system_monitor.cc:111: /tmp/ray/session_2024-03-06_00-31-10_957136_458634 is over 95% full, available space: 616548651008; capacity: 16125711347712. Object creation will fail if spilling is required.\n",
      "\u001b[2m\u001b[33m(raylet)\u001b[0m [2024-03-06 02:21:27,891 E 458942 458954] (raylet) file_system_monitor.cc:111: /tmp/ray/session_2024-03-06_00-31-10_957136_458634 is over 95% full, available space: 616548589568; capacity: 16125711347712. Object creation will fail if spilling is required.\n",
      "Ray objects:  95%|█████████▍| 946/996 [1:44:37<09:46, 11.73s/it]\u001b[2m\u001b[33m(raylet)\u001b[0m [2024-03-06 02:21:37,899 E 458942 458954] (raylet) file_system_monitor.cc:111: /tmp/ray/session_2024-03-06_00-31-10_957136_458634 is over 95% full, available space: 616480358400; capacity: 16125711347712. Object creation will fail if spilling is required.\n",
      "Ray objects:  95%|█████████▌| 948/996 [1:44:51<07:11,  8.98s/it]\u001b[2m\u001b[33m(raylet)\u001b[0m [2024-03-06 02:21:47,907 E 458942 458954] (raylet) file_system_monitor.cc:111: /tmp/ray/session_2024-03-06_00-31-10_957136_458634 is over 95% full, available space: 616412205056; capacity: 16125711347712. Object creation will fail if spilling is required.\n",
      "Ray objects:  95%|█████████▌| 949/996 [1:45:02<07:35,  9.68s/it]\u001b[2m\u001b[33m(raylet)\u001b[0m [2024-03-06 02:21:57,915 E 458942 458954] (raylet) file_system_monitor.cc:111: /tmp/ray/session_2024-03-06_00-31-10_957136_458634 is over 95% full, available space: 616383623168; capacity: 16125711347712. Object creation will fail if spilling is required.\n",
      "Ray objects:  95%|█████████▌| 950/996 [1:45:08<06:25,  8.38s/it]\u001b[2m\u001b[33m(raylet)\u001b[0m [2024-03-06 02:22:07,922 E 458942 458954] (raylet) file_system_monitor.cc:111: /tmp/ray/session_2024-03-06_00-31-10_957136_458634 is over 95% full, available space: 616377278464; capacity: 16125711347712. Object creation will fail if spilling is required.\n",
      "\u001b[2m\u001b[33m(raylet)\u001b[0m [2024-03-06 02:22:17,930 E 458942 458954] (raylet) file_system_monitor.cc:111: /tmp/ray/session_2024-03-06_00-31-10_957136_458634 is over 95% full, available space: 616377241600; capacity: 16125711347712. Object creation will fail if spilling is required.\n",
      "\u001b[2m\u001b[33m(raylet)\u001b[0m [2024-03-06 02:22:27,937 E 458942 458954] (raylet) file_system_monitor.cc:111: /tmp/ray/session_2024-03-06_00-31-10_957136_458634 is over 95% full, available space: 616377114624; capacity: 16125711347712. Object creation will fail if spilling is required.\n",
      "Ray objects:  96%|█████████▌| 952/996 [1:45:43<08:55, 12.16s/it]\u001b[2m\u001b[33m(raylet)\u001b[0m [2024-03-06 02:22:37,945 E 458942 458954] (raylet) file_system_monitor.cc:111: /tmp/ray/session_2024-03-06_00-31-10_957136_458634 is over 95% full, available space: 616320176128; capacity: 16125711347712. Object creation will fail if spilling is required.\n",
      "\u001b[2m\u001b[33m(raylet)\u001b[0m [2024-03-06 02:22:47,953 E 458942 458954] (raylet) file_system_monitor.cc:111: /tmp/ray/session_2024-03-06_00-31-10_957136_458634 is over 95% full, available space: 616320110592; capacity: 16125711347712. Object creation will fail if spilling is required.\n",
      "Ray objects:  97%|█████████▋| 962/996 [1:46:04<00:47,  1.38s/it]\u001b[2m\u001b[33m(raylet)\u001b[0m [2024-03-06 02:22:57,960 E 458942 458954] (raylet) file_system_monitor.cc:111: /tmp/ray/session_2024-03-06_00-31-10_957136_458634 is over 95% full, available space: 616235864064; capacity: 16125711347712. Object creation will fail if spilling is required.\n",
      "Ray objects:  97%|█████████▋| 966/996 [1:46:11<00:38,  1.27s/it]\u001b[2m\u001b[33m(raylet)\u001b[0m [2024-03-06 02:23:07,968 E 458942 458954] (raylet) file_system_monitor.cc:111: /tmp/ray/session_2024-03-06_00-31-10_957136_458634 is over 95% full, available space: 616204869632; capacity: 16125711347712. Object creation will fail if spilling is required.\n",
      "Ray objects:  97%|█████████▋| 968/996 [1:46:23<01:36,  3.46s/it]\u001b[2m\u001b[33m(raylet)\u001b[0m [2024-03-06 02:23:17,975 E 458942 458954] (raylet) file_system_monitor.cc:111: /tmp/ray/session_2024-03-06_00-31-10_957136_458634 is over 95% full, available space: 616191557632; capacity: 16125711347712. Object creation will fail if spilling is required.\n",
      "\u001b[2m\u001b[33m(raylet)\u001b[0m [2024-03-06 02:23:27,983 E 458942 458954] (raylet) file_system_monitor.cc:111: /tmp/ray/session_2024-03-06_00-31-10_957136_458634 is over 95% full, available space: 616191479808; capacity: 16125711347712. Object creation will fail if spilling is required.\n",
      "Ray objects:  98%|█████████▊| 974/996 [1:46:43<00:43,  1.97s/it]\u001b[2m\u001b[33m(raylet)\u001b[0m [2024-03-06 02:23:37,990 E 458942 458954] (raylet) file_system_monitor.cc:111: /tmp/ray/session_2024-03-06_00-31-10_957136_458634 is over 95% full, available space: 616139984896; capacity: 16125711347712. Object creation will fail if spilling is required.\n",
      "Ray objects:  98%|█████████▊| 976/996 [1:46:53<01:09,  3.47s/it]\u001b[2m\u001b[33m(raylet)\u001b[0m [2024-03-06 02:23:47,997 E 458942 458954] (raylet) file_system_monitor.cc:111: /tmp/ray/session_2024-03-06_00-31-10_957136_458634 is over 95% full, available space: 616113647616; capacity: 16125711347712. Object creation will fail if spilling is required.\n",
      "Ray objects:  98%|█████████▊| 979/996 [1:47:05<01:03,  3.73s/it]\u001b[2m\u001b[33m(raylet)\u001b[0m [2024-03-06 02:23:58,003 E 458942 458954] (raylet) file_system_monitor.cc:111: /tmp/ray/session_2024-03-06_00-31-10_957136_458634 is over 95% full, available space: 616058478592; capacity: 16125711347712. Object creation will fail if spilling is required.\n",
      "Ray objects:  99%|█████████▊| 982/996 [1:47:14<00:40,  2.92s/it]\u001b[2m\u001b[33m(raylet)\u001b[0m [2024-03-06 02:24:08,009 E 458942 458954] (raylet) file_system_monitor.cc:111: /tmp/ray/session_2024-03-06_00-31-10_957136_458634 is over 95% full, available space: 615987204096; capacity: 16125711347712. Object creation will fail if spilling is required.\n",
      "Ray objects:  99%|█████████▊| 983/996 [1:47:19<00:46,  3.60s/it]\u001b[2m\u001b[33m(raylet)\u001b[0m [2024-03-06 02:24:18,016 E 458942 458954] (raylet) file_system_monitor.cc:111: /tmp/ray/session_2024-03-06_00-31-10_957136_458634 is over 95% full, available space: 615973711872; capacity: 16125711347712. Object creation will fail if spilling is required.\n",
      "Ray objects:  99%|█████████▉| 990/996 [1:47:35<00:09,  1.63s/it]\u001b[2m\u001b[33m(raylet)\u001b[0m [2024-03-06 02:24:28,023 E 458942 458954] (raylet) file_system_monitor.cc:111: /tmp/ray/session_2024-03-06_00-31-10_957136_458634 is over 95% full, available space: 615880667136; capacity: 16125711347712. Object creation will fail if spilling is required.\n",
      "Ray objects: 100%|█████████▉| 995/996 [1:47:43<00:01,  1.79s/it]\u001b[2m\u001b[33m(raylet)\u001b[0m [2024-03-06 02:24:38,026 E 458942 458954] (raylet) file_system_monitor.cc:111: /tmp/ray/session_2024-03-06_00-31-10_957136_458634 is over 95% full, available space: 615821869056; capacity: 16125711347712. Object creation will fail if spilling is required.\n",
      "\u001b[2m\u001b[33m(raylet)\u001b[0m [2024-03-06 02:24:48,029 E 458942 458954] (raylet) file_system_monitor.cc:111: /tmp/ray/session_2024-03-06_00-31-10_957136_458634 is over 95% full, available space: 615821864960; capacity: 16125711347712. Object creation will fail if spilling is required.\n",
      "\u001b[2m\u001b[33m(raylet)\u001b[0m [2024-03-06 02:24:58,031 E 458942 458954] (raylet) file_system_monitor.cc:111: /tmp/ray/session_2024-03-06_00-31-10_957136_458634 is over 95% full, available space: 615821864960; capacity: 16125711347712. Object creation will fail if spilling is required.\n",
      "\u001b[2m\u001b[33m(raylet)\u001b[0m [2024-03-06 02:25:08,033 E 458942 458954] (raylet) file_system_monitor.cc:111: /tmp/ray/session_2024-03-06_00-31-10_957136_458634 is over 95% full, available space: 615821860864; capacity: 16125711347712. Object creation will fail if spilling is required.\n",
      "\u001b[2m\u001b[33m(raylet)\u001b[0m [2024-03-06 02:25:18,036 E 458942 458954] (raylet) file_system_monitor.cc:111: /tmp/ray/session_2024-03-06_00-31-10_957136_458634 is over 95% full, available space: 615821758464; capacity: 16125711347712. Object creation will fail if spilling is required.\n",
      "\u001b[2m\u001b[33m(raylet)\u001b[0m [2024-03-06 02:25:28,038 E 458942 458954] (raylet) file_system_monitor.cc:111: /tmp/ray/session_2024-03-06_00-31-10_957136_458634 is over 95% full, available space: 615821692928; capacity: 16125711347712. Object creation will fail if spilling is required.\n",
      "Ray objects: 100%|██████████| 996/996 [1:48:40<00:00,  6.55s/it]\n"
     ]
    },
    {
     "name": "stdout",
     "output_type": "stream",
     "text": [
      "2024-03-06 02:25:32,626 INFO {/home/ehdykhne/nuplan-devkit/nuplan/planning/simulation/runner/executor.py:129}  Number of successful simulations: 996\n",
      "2024-03-06 02:25:32,627 INFO {/home/ehdykhne/nuplan-devkit/nuplan/planning/simulation/runner/executor.py:130}  Number of failed simulations: 0\n",
      "2024-03-06 02:25:32,627 INFO {/home/ehdykhne/nuplan-devkit/nuplan/planning/script/utils.py:147}  Finished executing runners!\n",
      "2024-03-06 02:25:32,705 INFO {/home/ehdykhne/nuplan-devkit/nuplan/planning/script/utils.py:74}  Saved runner reports to ../../data/nuplan/exp/exp/simulation/closed_loop_multiagent/2024.03.06.00.31.10/runner_report.parquet\n",
      "2024-03-06 02:25:32,705 INFO {/home/ehdykhne/nuplan-devkit/nuplan/planning/simulation/main_callback/time_callback.py:27}  Simulation duration: 01:54:21 [HH:MM:SS]\n"
     ]
    },
    {
     "name": "stderr",
     "output_type": "stream",
     "text": [
      "\u001b[2m\u001b[33m(raylet)\u001b[0m [2024-03-06 02:25:38,042 E 458942 458954] (raylet) file_system_monitor.cc:111: /tmp/ray/session_2024-03-06_00-31-10_957136_458634 is over 95% full, available space: 615829454848; capacity: 16125711347712. Object creation will fail if spilling is required.\n"
     ]
    },
    {
     "name": "stdout",
     "output_type": "stream",
     "text": [
      "2024-03-06 02:25:45,950 INFO {/home/ehdykhne/nuplan-devkit/nuplan/planning/simulation/main_callback/metric_file_callback.py:79}  Metric files integration: 00:00:13 [HH:MM:SS]\n",
      "2024-03-06 02:25:46,241 INFO {/home/ehdykhne/nuplan-devkit/nuplan/planning/simulation/main_callback/metric_aggregator_callback.py:58}  Running metric aggregator: closed_loop_multiagent_weighted_average\n",
      "2024-03-06 02:25:47,239 INFO {/home/ehdykhne/nuplan-devkit/nuplan/planning/simulation/main_callback/metric_aggregator_callback.py:69}  Metric aggregator: 00:00:01 [HH:MM:SS]\n",
      "2024-03-06 02:25:47,450 INFO {/home/ehdykhne/nuplan-devkit/nuplan/planning/simulation/main_callback/metric_summary_callback.py:344}  Metric summary: 00:00:00 [HH:MM:SS]\n",
      "2024-03-06 02:25:47,453 INFO {/home/ehdykhne/nuplan-devkit/nuplan/planning/script/run_simulation.py:115}  Finished running simulation!\n"
     ]
    }
   ],
   "source": [
    "# Run the simulation loop (real-time visualization not yet supported, see next section for visualization)\n",
    "main_simulation(cfg_occ)"
   ]
  },
  {
   "cell_type": "markdown",
   "id": "ddd45a08",
   "metadata": {},
   "source": [
    "# Now we set up the second running regime"
   ]
  },
  {
   "cell_type": "code",
   "execution_count": 11,
   "id": "e825205f",
   "metadata": {},
   "outputs": [
    {
     "name": "stdout",
     "output_type": "stream",
     "text": [
      "+scenarios_to_check_in_alternate_regime=['de38cc6bbd455ab4_conflict_injection_and_occlusion_injection_0_-5.0_19993', '37590d51254e58dc_conflict_injection_and_occlusion_injection_3_0.0_53064', 'de38cc6bbd455ab4_conflict_injection_and_occlusion_injection_3_0.0_19993', '4f08b1e72b505e66_conflict_injection_and_occlusion_injection_0_natural_occlusion_5.0_64483', '16978efcc2615392_conflict_injection_and_occlusion_injection_0_5.0_49454', '81079a3f37ad5c9b_conflict_injection_and_occlusion_injection_0_0.0_48667', '4d354b05fe6c5668_conflict_injection_and_occlusion_injection_2_5.0_52804', '4d354b05fe6c5668_conflict_injection_and_occlusion_injection_3_5.0_52804', '7c5b326ec9ec5bfe_conflict_injection_and_occlusion_injection_3_5.0_20368', 'e80001adcba85f26_conflict_injection_and_occlusion_injection_6_5.0_20187', '90d9dad035075ecf_conflict_injection_and_occlusion_injection_1_5.0_19960', 'de38cc6bbd455ab4_conflict_injection_and_occlusion_injection_1_-5.0_19994', 'de38cc6bbd455ab4_conflict_injection_and_occlusion_injection_0_-5.0_18569', '37590d51254e58dc_conflict_injection_and_occlusion_injection_4_5.0_53064', '37590d51254e58dc_conflict_injection_and_occlusion_injection_2_5.0_53064', '4223c5519579545a_conflict_injection_and_occlusion_injection_0_5.0_63980', '37590d51254e58dc_conflict_injection_and_occlusion_injection_4_0.0_53064', '3380e8be77f956ca_conflict_injection_and_occlusion_injection_4_0.0_20005', '37590d51254e58dc_conflict_injection_and_occlusion_injection_0_5.0_53064', '14322a75bc5b539d_conflict_injection_and_occlusion_injection_1_5.0_20350', '70c382ad73d25fab_conflict_injection_and_occlusion_injection_1_0.0_53137', '3380e8be77f956ca_conflict_injection_and_occlusion_injection_3_0.0_20005', '37590d51254e58dc_conflict_injection_and_occlusion_injection_1_5.0_53064', '3380e8be77f956ca_conflict_injection_and_occlusion_injection_0_5.0_20005', 'edfa1e16b8015936_conflict_injection_and_occlusion_injection_0_0.0_53065', 'e80001adcba85f26_conflict_injection_and_occlusion_injection_8_5.0_20187', '8f7146c52287508b_conflict_injection_and_occlusion_injection_0_0.0_20109', 'e80001adcba85f26_conflict_injection_and_occlusion_injection_9_5.0_20187', 'e80001adcba85f26_conflict_injection_and_occlusion_injection_5_5.0_20187', 'ec1c624d44275107_conflict_injection_and_occlusion_injection_0_0.0_52023', '3380e8be77f956ca_conflict_injection_and_occlusion_injection_2_5.0_20005', '908da0165fd1586b_conflict_injection_and_occlusion_injection_0_0.0_52850', 'a02ec8ca7e0d59a7_conflict_injection_and_occlusion_injection_2_5.0_53065', '90d9dad035075ecf_conflict_injection_and_occlusion_injection_0_5.0_19960', '70c382ad73d25fab_conflict_injection_and_occlusion_injection_4_5.0_52839', 'edfa1e16b8015936_conflict_injection_and_occlusion_injection_1_5.0_53065', '7e606542d9565b11_conflict_injection_and_occlusion_injection_0_natural_occlusion_5.0_53811', 'de38cc6bbd455ab4_conflict_injection_and_occlusion_injection_0_-5.0_18568', 'de38cc6bbd455ab4_conflict_injection_and_occlusion_injection_2_0.0_19993', '7c5b326ec9ec5bfe_conflict_injection_and_occlusion_injection_0_natural_occlusion_5.0_20363', 'ec1c624d44275107_conflict_injection_and_occlusion_injection_0_5.0_52023', 'e80001adcba85f26_conflict_injection_and_occlusion_injection_1_5.0_20187', '4d354b05fe6c5668_conflict_injection_and_occlusion_injection_1_5.0_52804', 'de38cc6bbd455ab4_conflict_injection_and_occlusion_injection_3_-5.0_19993', '37590d51254e58dc_conflict_injection_and_occlusion_injection_2_0.0_53064', '7c5b326ec9ec5bfe_conflict_injection_and_occlusion_injection_8_5.0_20368', 'de38cc6bbd455ab4_conflict_injection_and_occlusion_injection_1_0.0_19993', '16978efcc2615392_conflict_injection_and_occlusion_injection_2_5.0_49454', '37590d51254e58dc_conflict_injection_and_occlusion_injection_0_0.0_53064', '7c5b326ec9ec5bfe_conflict_injection_and_occlusion_injection_7_5.0_20368', 'edfa1e16b8015936_conflict_injection_and_occlusion_injection_4_5.0_53065', '16978efcc2615392_conflict_injection_and_occlusion_injection_1_5.0_49454', 'e80001adcba85f26_conflict_injection_and_occlusion_injection_2_5.0_20187', '4f08b1e72b505e66_conflict_injection_and_occlusion_injection_0_natural_occlusion_0.0_64483', 'a02ec8ca7e0d59a7_conflict_injection_and_occlusion_injection_1_5.0_53065', '0539ebb5245c50e4_conflict_injection_and_occlusion_injection_0_0.0_48425', '81079a3f37ad5c9b_conflict_injection_and_occlusion_injection_0_0.0_48668', '3380e8be77f956ca_conflict_injection_and_occlusion_injection_2_0.0_20005', 'de38cc6bbd455ab4_conflict_injection_and_occlusion_injection_0_0.0_19994', '70c382ad73d25fab_conflict_injection_and_occlusion_injection_3_5.0_52839', '70c382ad73d25fab_conflict_injection_and_occlusion_injection_0_0.0_53137', '4223c5519579545a_conflict_injection_and_occlusion_injection_1_5.0_63982', '4bb3d62efd555aec_conflict_injection_and_occlusion_injection_0_natural_occlusion_-5.0_18886', 'e80001adcba85f26_conflict_injection_and_occlusion_injection_7_5.0_20187', 'de38cc6bbd455ab4_conflict_injection_and_occlusion_injection_0_0.0_19993', 'edfa1e16b8015936_conflict_injection_and_occlusion_injection_3_5.0_53065', 'e80001adcba85f26_conflict_injection_and_occlusion_injection_0_5.0_20187', '7c5b326ec9ec5bfe_conflict_injection_and_occlusion_injection_1_5.0_20368', '37590d51254e58dc_conflict_injection_and_occlusion_injection_3_5.0_53064', 'de38cc6bbd455ab4_conflict_injection_and_occlusion_injection_2_-5.0_19993', '4223c5519579545a_conflict_injection_and_occlusion_injection_0_5.0_63982', 'de38cc6bbd455ab4_conflict_injection_and_occlusion_injection_1_-5.0_18568', '37590d51254e58dc_conflict_injection_and_occlusion_injection_1_0.0_53064', 'e80001adcba85f26_conflict_injection_and_occlusion_injection_4_5.0_20187', 'de38cc6bbd455ab4_conflict_injection_and_occlusion_injection_1_-5.0_19993', '4223c5519579545a_conflict_injection_and_occlusion_injection_1_5.0_63980', '114d78c106945fa4_conflict_injection_and_occlusion_injection_0_0.0_47161', 'edfa1e16b8015936_conflict_injection_and_occlusion_injection_2_5.0_53065', 'e80001adcba85f26_conflict_injection_and_occlusion_injection_10_5.0_20187', 'de38cc6bbd455ab4_conflict_injection_and_occlusion_injection_0_-5.0_19994', 'f6f98fb344275686_conflict_injection_and_occlusion_injection_0_5.0_20144', '7c5b326ec9ec5bfe_conflict_injection_and_occlusion_injection_0_5.0_20368', '8f7146c52287508b_conflict_injection_and_occlusion_injection_1_0.0_20109', '0ddd9da92c395ced_conflict_injection_and_occlusion_injection_0_5.0_49454', 'e80001adcba85f26_conflict_injection_and_occlusion_injection_3_5.0_20187', '5d0a2d85408059a0_conflict_injection_and_occlusion_injection_0_0.0_20195', 'edfa1e16b8015936_conflict_injection_and_occlusion_injection_0_5.0_53065', '8a1f98f89e825c6e_conflict_injection_and_occlusion_injection_0_0.0_20144', 'a02ec8ca7e0d59a7_conflict_injection_and_occlusion_injection_0_5.0_53065']\n"
     ]
    },
    {
     "name": "stderr",
     "output_type": "stream",
     "text": [
      "\u001b[2m\u001b[33m(raylet)\u001b[0m [2024-03-06 02:25:48,045 E 458942 458954] (raylet) file_system_monitor.cc:111: /tmp/ray/session_2024-03-06_00-31-10_957136_458634 is over 95% full, available space: 615840059392; capacity: 16125711347712. Object creation will fail if spilling is required.\n"
     ]
    },
    {
     "name": "stdout",
     "output_type": "stream",
     "text": [
      "output_folder_unocc = \"../../data/nuplan/exp/exp/simulation/closed_loop_multiagent/2024.03.06.02.25.50\"\n"
     ]
    }
   ],
   "source": [
    "#########################################\n",
    "\n",
    "path = output_folder_occ + \"/metrics/\"\n",
    "file_path_1 = path + \"no_ego_at_fault_collisions.parquet\"\n",
    "df = pd.read_parquet(file_path_1)\n",
    "df = df.loc[df[\"no_ego_collisions_stat_value\"] == False]\n",
    "df = df[\"scenario_name\"]\n",
    "\n",
    "\n",
    "scenario_list = df.tolist()\n",
    "print(f\"+scenarios_to_check_in_alternate_regime={scenario_list}\")\n",
    "\n",
    "hydra.core.global_hydra.GlobalHydra.instance().clear()  # reinitialize hydra if already initialized\n",
    "hydra.initialize(config_path=simulation_hydra_paths.config_path)\n",
    "cfg_unocc = hydra.compose(\n",
    "    config_name=simulation_hydra_paths.config_name,\n",
    "    overrides=[\n",
    "        \"+simulation=closed_loop_multiagent\",  # [open_loop_boxes, closed_loop_nonreactive_agents, closed_loop_reactive_agents, closed_loop_multiagent]\n",
    "        \"planner=pdm_closed_planner\",  # [ml_planner, pdm_hybrid_planner, pdm_closed_planner, idm_planner, log_future_planner, simple_planner]\n",
    "        # \"model=gc_pgp_model\",\n",
    "        # \"model.aggregator.pre_train=false\",\n",
    "        # \"planner.ml_planner.model_config=${model}\",\n",
    "        # f\"planner.ml_planner.checkpoint_path={gc_pgp_ckpt}\",\n",
    "        # f\"planner.pdm_closed_planner.checkpoint_path={hybrid_ckpt}\",\n",
    "        # \"+observation.model=gc_pgp_model\",\n",
    "        # \"+observation.model.aggregator.pre_train=false\",\n",
    "        # \"+observation.model_config=${model}\",\n",
    "        # f\"+observation.checkpoint_path={gc_pgp_ckpt}\",\n",
    "        f\"observation.planner_type=pdm_closed\",\n",
    "        # # f\"observation.pdm_hybrid_ckpt={hybrid_ckpt}\",\n",
    "        f\"observation.occlusion_cfg.occlusion=false\",\n",
    "        \"+modify_scenario_simulations=true\",\n",
    "        \"+second_testing_round=true\",\n",
    "        f\"+scenarios_to_check_in_alternate_regime={scenario_list}\",\n",
    "        \"+modifier_types=[conflict-and-occlusion-injection]\",  # can select multiple: [occlusion-injection, left-and-right, oncoming-left-turn-and-occlusion-injection, conflict-and-occlusion-injection]\n",
    "        \"+occlusion=false\",\n",
    "        \"worker=ray_distributed\",  # [sequential, ray_distributed]\n",
    "        \"hydra.searchpath=[pkg://tuplan_garage.planning.script.config.common, pkg://tuplan_garage.planning.script.config.simulation, pkg://nuplan.planning.script.config.common, pkg://nuplan.planning.script.experiments]\",\n",
    "        *DATASET_PARAMS,\n",
    "    ],\n",
    ")\n",
    "\n",
    "output_folder_unocc = cfg_unocc.output_dir\n",
    "print('output_folder_unocc = \"' + output_folder_unocc + '\"')"
   ]
  },
  {
   "cell_type": "markdown",
   "id": "f5bffe3d",
   "metadata": {},
   "source": [
    "## Run Second Regime"
   ]
  },
  {
   "cell_type": "code",
   "execution_count": 12,
   "id": "3d2c0871",
   "metadata": {},
   "outputs": [
    {
     "name": "stderr",
     "output_type": "stream",
     "text": [
      "Global seed set to 0\n"
     ]
    },
    {
     "name": "stdout",
     "output_type": "stream",
     "text": [
      "2024-03-06 02:25:50,037 INFO {/home/ehdykhne/nuplan-devkit/nuplan/planning/script/builders/main_callback_builder.py:20}  Building MultiMainCallback...\n",
      "2024-03-06 02:25:50,058 INFO {/home/ehdykhne/nuplan-devkit/nuplan/planning/script/builders/main_callback_builder.py:35}  Building MultiMainCallback: 4...DONE!\n",
      "2024-03-06 02:25:50,221 INFO {/home/ehdykhne/nuplan-devkit/nuplan/planning/script/builders/worker_pool_builder.py:19}  Building WorkerPool...\n",
      "2024-03-06 02:25:50,222 WARNING {/home/ehdykhne/nuplan-devkit/nuplan/planning/utils/multithreading/worker_ray.py:135}  Ray is running, we will shut it down before starting again!\n",
      "2024-03-06 02:25:53,820 INFO {/home/ehdykhne/nuplan-devkit/nuplan/planning/utils/multithreading/worker_ray.py:78}  Starting ray local!\n"
     ]
    },
    {
     "name": "stderr",
     "output_type": "stream",
     "text": [
      "2024-03-06 02:25:55,539\tINFO worker.py:1636 -- Started a local Ray instance.\n"
     ]
    },
    {
     "name": "stdout",
     "output_type": "stream",
     "text": [
      "2024-03-06 02:25:56,265 INFO {/home/ehdykhne/nuplan-devkit/nuplan/planning/utils/multithreading/worker_pool.py:101}  Worker: RayDistributed\n",
      "2024-03-06 02:25:56,266 INFO {/home/ehdykhne/nuplan-devkit/nuplan/planning/utils/multithreading/worker_pool.py:102}  Number of nodes: 1\n",
      "Number of CPUs per node: 32\n",
      "Number of GPUs per node: 4\n",
      "Number of threads across all nodes: 32\n",
      "2024-03-06 02:25:56,266 INFO {/home/ehdykhne/nuplan-devkit/nuplan/planning/script/builders/worker_pool_builder.py:27}  Building WorkerPool...DONE!\n",
      "2024-03-06 02:25:56,266 INFO {/home/ehdykhne/nuplan-devkit/nuplan/planning/script/builders/folder_builder.py:32}  Building experiment folders...\n",
      "2024-03-06 02:25:56,266 INFO {/home/ehdykhne/nuplan-devkit/nuplan/planning/script/builders/folder_builder.py:35}  \n",
      "\n",
      "\tFolder where all results are stored: ../../data/nuplan/exp/exp/simulation/closed_loop_multiagent/2024.03.06.02.25.50\n",
      "\n",
      "2024-03-06 02:25:56,268 INFO {/home/ehdykhne/nuplan-devkit/nuplan/planning/script/builders/folder_builder.py:70}  Building experiment folders...DONE!\n",
      "2024-03-06 02:25:56,268 INFO {/home/ehdykhne/nuplan-devkit/nuplan/planning/script/builders/simulation_callback_builder.py:52}  Building AbstractCallback...\n",
      "2024-03-06 02:25:56,269 INFO {/home/ehdykhne/nuplan-devkit/nuplan/planning/script/builders/simulation_callback_builder.py:68}  Building AbstractCallback: 0...DONE!\n",
      "2024-03-06 02:25:56,269 INFO {/home/ehdykhne/nuplan-devkit/nuplan/planning/script/builders/simulation_builder.py:56}  Building simulations...\n",
      "2024-03-06 02:25:56,269 INFO {/home/ehdykhne/nuplan-devkit/nuplan/planning/script/builders/simulation_builder.py:62}  Extracting scenarios...\n",
      "2024-03-06 02:25:56,269 INFO {/home/ehdykhne/nuplan-devkit/nuplan/common/utils/distributed_scenario_filter.py:83}  Building Scenarios in mode DistributedMode.SINGLE_NODE\n",
      "2024-03-06 02:25:56,269 INFO {/home/ehdykhne/nuplan-devkit/nuplan/planning/script/builders/scenario_building_builder.py:18}  Building AbstractScenarioBuilder...\n",
      "2024-03-06 02:25:56,288 INFO {/home/ehdykhne/nuplan-devkit/nuplan/planning/script/builders/scenario_building_builder.py:21}  Building AbstractScenarioBuilder...DONE!\n",
      "2024-03-06 02:25:56,289 INFO {/home/ehdykhne/nuplan-devkit/nuplan/planning/script/builders/scenario_filter_builder.py:35}  Building ScenarioFilter...\n",
      "2024-03-06 02:25:56,290 INFO {/home/ehdykhne/nuplan-devkit/nuplan/planning/script/builders/scenario_filter_builder.py:44}  Building ScenarioFilter...DONE!\n"
     ]
    },
    {
     "name": "stderr",
     "output_type": "stream",
     "text": [
      "Ray objects: 100%|██████████| 32/32 [00:07<00:00,  4.01it/s]\n",
      "\u001b[2m\u001b[33m(raylet)\u001b[0m [2024-03-06 02:26:05,494 E 467588 467600] (raylet) file_system_monitor.cc:111: /tmp/ray/session_2024-03-06_02-25-53_846650_458634 is over 95% full, available space: 615839453184; capacity: 16125711347712. Object creation will fail if spilling is required.\n"
     ]
    },
    {
     "name": "stdout",
     "output_type": "stream",
     "text": [
      "2024-03-06 02:26:14,374 INFO {/home/ehdykhne/nuplan-devkit/nuplan/planning/script/builders/simulation_builder.py:83}  Building metric engines...\n",
      "2024-03-06 02:26:14,501 INFO {/home/ehdykhne/nuplan-devkit/nuplan/planning/script/builders/simulation_builder.py:85}  Building metric engines...DONE\n",
      "2024-03-06 02:26:14,501 INFO {/home/ehdykhne/nuplan-devkit/nuplan/planning/script/builders/simulation_builder.py:89}  Building simulations from 499 scenarios...\n"
     ]
    },
    {
     "name": "stderr",
     "output_type": "stream",
     "text": [
      "\u001b[2m\u001b[33m(raylet)\u001b[0m [2024-03-06 02:26:15,498 E 467588 467600] (raylet) file_system_monitor.cc:111: /tmp/ray/session_2024-03-06_02-25-53_846650_458634 is over 95% full, available space: 615839436800; capacity: 16125711347712. Object creation will fail if spilling is required.\n"
     ]
    },
    {
     "name": "stdout",
     "output_type": "stream",
     "text": [
      "2024-03-06 02:26:20,361 INFO {/home/ehdykhne/nuplan-devkit/nuplan/planning/script/builders/simulation_builder.py:151}  Modyfing Scenarios...\n",
      "[\n",
      "\t'0539ebb5245c50e4',\n",
      "\t'0ddd9da92c395ced',\n",
      "\t'114d78c106945fa4',\n",
      "\t'14322a75bc5b539d',\n",
      "\t'16978efcc2615392',\n",
      "\t'3380e8be77f956ca',\n",
      "\t'37590d51254e58dc',\n",
      "\t'4223c5519579545a',\n",
      "\t'4bb3d62efd555aec',\n",
      "\t'4d354b05fe6c5668',\n",
      "\t'4f08b1e72b505e66',\n",
      "\t'5d0a2d85408059a0',\n",
      "\t'70c382ad73d25fab',\n",
      "\t'7c5b326ec9ec5bfe',\n",
      "\t'7e606542d9565b11',\n",
      "\t'81079a3f37ad5c9b',\n",
      "\t'8a1f98f89e825c6e',\n",
      "\t'8f7146c52287508b',\n",
      "\t'908da0165fd1586b',\n",
      "\t'90d9dad035075ecf',\n",
      "\t'a02ec8ca7e0d59a7',\n",
      "\t'de38cc6bbd455ab4',\n",
      "\t'e80001adcba85f26',\n",
      "\t'ec1c624d44275107',\n",
      "\t'edfa1e16b8015936',\n",
      "\t'f6f98fb344275686'\n",
      "]\n",
      "2024-03-06 02:26:20,820 INFO {/home/ehdykhne/nuplan-devkit/nuplan/planning/script/builders/simulation_builder.py:203}  Created 89 modified scenarios from 499 scenarios, 165 of which were modifiable.\n",
      "2024-03-06 02:26:20,820 INFO {/home/ehdykhne/nuplan-devkit/nuplan/planning/script/builders/simulation_builder.py:204}  Building simulations...DONE!\n",
      "2024-03-06 02:26:20,825 INFO {/home/ehdykhne/nuplan-devkit/nuplan/planning/script/run_simulation.py:113}  Running simulation...\n",
      "2024-03-06 02:26:20,825 INFO {/home/ehdykhne/nuplan-devkit/nuplan/planning/script/utils.py:138}  Executing runners...\n",
      "2024-03-06 02:26:20,826 INFO {/home/ehdykhne/nuplan-devkit/nuplan/planning/simulation/runner/executor.py:82}  Starting 89 simulations using RayDistributed!\n"
     ]
    },
    {
     "name": "stderr",
     "output_type": "stream",
     "text": [
      "Ray objects:   0%|          | 0/89 [00:00<?, ?it/s]\u001b[2m\u001b[33m(raylet)\u001b[0m [2024-03-06 02:26:25,504 E 467588 467600] (raylet) file_system_monitor.cc:111: /tmp/ray/session_2024-03-06_02-25-53_846650_458634 is over 95% full, available space: 615839318016; capacity: 16125711347712. Object creation will fail if spilling is required.\n",
      "\u001b[2m\u001b[33m(raylet)\u001b[0m [2024-03-06 02:26:35,511 E 467588 467600] (raylet) file_system_monitor.cc:111: /tmp/ray/session_2024-03-06_02-25-53_846650_458634 is over 95% full, available space: 615839244288; capacity: 16125711347712. Object creation will fail if spilling is required.\n",
      "\u001b[2m\u001b[33m(raylet)\u001b[0m [2024-03-06 02:26:45,518 E 467588 467600] (raylet) file_system_monitor.cc:111: /tmp/ray/session_2024-03-06_02-25-53_846650_458634 is over 95% full, available space: 615839244288; capacity: 16125711347712. Object creation will fail if spilling is required.\n",
      "\u001b[2m\u001b[33m(raylet)\u001b[0m [2024-03-06 02:26:55,525 E 467588 467600] (raylet) file_system_monitor.cc:111: /tmp/ray/session_2024-03-06_02-25-53_846650_458634 is over 95% full, available space: 615839191040; capacity: 16125711347712. Object creation will fail if spilling is required.\n",
      "\u001b[2m\u001b[33m(raylet)\u001b[0m [2024-03-06 02:27:05,533 E 467588 467600] (raylet) file_system_monitor.cc:111: /tmp/ray/session_2024-03-06_02-25-53_846650_458634 is over 95% full, available space: 615839051776; capacity: 16125711347712. Object creation will fail if spilling is required.\n",
      "\u001b[2m\u001b[33m(raylet)\u001b[0m [2024-03-06 02:27:15,541 E 467588 467600] (raylet) file_system_monitor.cc:111: /tmp/ray/session_2024-03-06_02-25-53_846650_458634 is over 95% full, available space: 615838924800; capacity: 16125711347712. Object creation will fail if spilling is required.\n",
      "Ray objects:   8%|▊         | 7/89 [01:02<04:15,  3.11s/it]  \u001b[2m\u001b[33m(raylet)\u001b[0m [2024-03-06 02:27:25,548 E 467588 467600] (raylet) file_system_monitor.cc:111: /tmp/ray/session_2024-03-06_02-25-53_846650_458634 is over 95% full, available space: 615732355072; capacity: 16125711347712. Object creation will fail if spilling is required.\n",
      "Ray objects:  22%|██▏       | 20/89 [01:13<00:38,  1.80it/s]\u001b[2m\u001b[33m(raylet)\u001b[0m [2024-03-06 02:27:35,556 E 467588 467600] (raylet) file_system_monitor.cc:111: /tmp/ray/session_2024-03-06_02-25-53_846650_458634 is over 95% full, available space: 615561543680; capacity: 16125711347712. Object creation will fail if spilling is required.\n",
      "Ray objects:  25%|██▍       | 22/89 [01:23<02:23,  2.15s/it]\u001b[2m\u001b[33m(raylet)\u001b[0m [2024-03-06 02:27:45,564 E 467588 467600] (raylet) file_system_monitor.cc:111: /tmp/ray/session_2024-03-06_02-25-53_846650_458634 is over 95% full, available space: 615538806784; capacity: 16125711347712. Object creation will fail if spilling is required.\n",
      "Ray objects:  26%|██▌       | 23/89 [01:31<04:21,  3.95s/it]\u001b[2m\u001b[33m(raylet)\u001b[0m [2024-03-06 02:27:55,572 E 467588 467600] (raylet) file_system_monitor.cc:111: /tmp/ray/session_2024-03-06_02-25-53_846650_458634 is over 95% full, available space: 615532974080; capacity: 16125711347712. Object creation will fail if spilling is required.\n",
      "Ray objects:  27%|██▋       | 24/89 [01:42<06:18,  5.83s/it]\u001b[2m\u001b[33m(raylet)\u001b[0m [2024-03-06 02:28:05,579 E 467588 467600] (raylet) file_system_monitor.cc:111: /tmp/ray/session_2024-03-06_02-25-53_846650_458634 is over 95% full, available space: 615515942912; capacity: 16125711347712. Object creation will fail if spilling is required.\n",
      "\u001b[2m\u001b[33m(raylet)\u001b[0m [2024-03-06 02:28:15,587 E 467588 467600] (raylet) file_system_monitor.cc:111: /tmp/ray/session_2024-03-06_02-25-53_846650_458634 is over 95% full, available space: 615515934720; capacity: 16125711347712. Object creation will fail if spilling is required.\n",
      "\u001b[2m\u001b[33m(raylet)\u001b[0m [2024-03-06 02:28:25,595 E 467588 467600] (raylet) file_system_monitor.cc:111: /tmp/ray/session_2024-03-06_02-25-53_846650_458634 is over 95% full, available space: 615515930624; capacity: 16125711347712. Object creation will fail if spilling is required.\n",
      "Ray objects:  29%|██▉       | 26/89 [02:13<10:02,  9.56s/it]\u001b[2m\u001b[33m(raylet)\u001b[0m [2024-03-06 02:28:35,602 E 467588 467600] (raylet) file_system_monitor.cc:111: /tmp/ray/session_2024-03-06_02-25-53_846650_458634 is over 95% full, available space: 615502913536; capacity: 16125711347712. Object creation will fail if spilling is required.\n",
      "Ray objects:  33%|███▎      | 29/89 [02:20<04:38,  4.64s/it]\u001b[2m\u001b[33m(raylet)\u001b[0m [2024-03-06 02:28:45,609 E 467588 467600] (raylet) file_system_monitor.cc:111: /tmp/ray/session_2024-03-06_02-25-53_846650_458634 is over 95% full, available space: 615463997440; capacity: 16125711347712. Object creation will fail if spilling is required.\n",
      "Ray objects:  36%|███▌      | 32/89 [02:31<03:13,  3.40s/it]\u001b[2m\u001b[33m(raylet)\u001b[0m [2024-03-06 02:28:55,617 E 467588 467600] (raylet) file_system_monitor.cc:111: /tmp/ray/session_2024-03-06_02-25-53_846650_458634 is over 95% full, available space: 615432368128; capacity: 16125711347712. Object creation will fail if spilling is required.\n",
      "\u001b[2m\u001b[33m(raylet)\u001b[0m [2024-03-06 02:29:05,625 E 467588 467600] (raylet) file_system_monitor.cc:111: /tmp/ray/session_2024-03-06_02-25-53_846650_458634 is over 95% full, available space: 615432228864; capacity: 16125711347712. Object creation will fail if spilling is required.\n",
      "Ray objects:  38%|███▊      | 34/89 [02:53<05:53,  6.43s/it]\u001b[2m\u001b[33m(raylet)\u001b[0m [2024-03-06 02:29:15,633 E 467588 467600] (raylet) file_system_monitor.cc:111: /tmp/ray/session_2024-03-06_02-25-53_846650_458634 is over 95% full, available space: 615406006272; capacity: 16125711347712. Object creation will fail if spilling is required.\n",
      "Ray objects:  46%|████▌     | 41/89 [03:04<01:19,  1.67s/it]\u001b[2m\u001b[33m(raylet)\u001b[0m [2024-03-06 02:29:25,641 E 467588 467600] (raylet) file_system_monitor.cc:111: /tmp/ray/session_2024-03-06_02-25-53_846650_458634 is over 95% full, available space: 615335632896; capacity: 16125711347712. Object creation will fail if spilling is required.\n",
      "Ray objects:  53%|█████▎    | 47/89 [03:14<01:01,  1.47s/it]\u001b[2m\u001b[33m(raylet)\u001b[0m [2024-03-06 02:29:35,649 E 467588 467600] (raylet) file_system_monitor.cc:111: /tmp/ray/session_2024-03-06_02-25-53_846650_458634 is over 95% full, available space: 615276527616; capacity: 16125711347712. Object creation will fail if spilling is required.\n",
      "Ray objects:  54%|█████▍    | 48/89 [03:15<01:00,  1.47s/it]\u001b[2m\u001b[33m(raylet)\u001b[0m [2024-03-06 02:29:45,656 E 467588 467600] (raylet) file_system_monitor.cc:111: /tmp/ray/session_2024-03-06_02-25-53_846650_458634 is over 95% full, available space: 615248351232; capacity: 16125711347712. Object creation will fail if spilling is required.\n",
      "\u001b[2m\u001b[33m(raylet)\u001b[0m [2024-03-06 02:29:55,665 E 467588 467600] (raylet) file_system_monitor.cc:111: /tmp/ray/session_2024-03-06_02-25-53_846650_458634 is over 95% full, available space: 615248322560; capacity: 16125711347712. Object creation will fail if spilling is required.\n",
      "Ray objects:  55%|█████▌    | 49/89 [03:42<05:53,  8.83s/it]\u001b[2m\u001b[33m(raylet)\u001b[0m [2024-03-06 02:30:05,673 E 467588 467600] (raylet) file_system_monitor.cc:111: /tmp/ray/session_2024-03-06_02-25-53_846650_458634 is over 95% full, available space: 615242215424; capacity: 16125711347712. Object creation will fail if spilling is required.\n",
      "Ray objects:  60%|█████▉    | 53/89 [03:52<02:22,  3.96s/it]\u001b[2m\u001b[33m(raylet)\u001b[0m [2024-03-06 02:30:15,681 E 467588 467600] (raylet) file_system_monitor.cc:111: /tmp/ray/session_2024-03-06_02-25-53_846650_458634 is over 95% full, available space: 615218135040; capacity: 16125711347712. Object creation will fail if spilling is required.\n",
      "Ray objects:  65%|██████▌   | 58/89 [04:04<01:06,  2.16s/it]\u001b[2m\u001b[33m(raylet)\u001b[0m [2024-03-06 02:30:25,689 E 467588 467600] (raylet) file_system_monitor.cc:111: /tmp/ray/session_2024-03-06_02-25-53_846650_458634 is over 95% full, available space: 615187988480; capacity: 16125711347712. Object creation will fail if spilling is required.\n",
      "\u001b[2m\u001b[33m(raylet)\u001b[0m [2024-03-06 02:30:35,697 E 467588 467600] (raylet) file_system_monitor.cc:111: /tmp/ray/session_2024-03-06_02-25-53_846650_458634 is over 95% full, available space: 615187910656; capacity: 16125711347712. Object creation will fail if spilling is required.\n",
      "Ray objects:  70%|██████▉   | 62/89 [04:24<01:28,  3.29s/it]\u001b[2m\u001b[33m(raylet)\u001b[0m [2024-03-06 02:30:45,704 E 467588 467600] (raylet) file_system_monitor.cc:111: /tmp/ray/session_2024-03-06_02-25-53_846650_458634 is over 95% full, available space: 615163887616; capacity: 16125711347712. Object creation will fail if spilling is required.\n",
      "Ray objects:  71%|███████   | 63/89 [04:25<01:10,  2.73s/it]\u001b[2m\u001b[33m(raylet)\u001b[0m [2024-03-06 02:30:55,712 E 467588 467600] (raylet) file_system_monitor.cc:111: /tmp/ray/session_2024-03-06_02-25-53_846650_458634 is over 95% full, available space: 615157878784; capacity: 16125711347712. Object creation will fail if spilling is required.\n",
      "Ray objects:  73%|███████▎  | 65/89 [04:43<02:12,  5.52s/it]\u001b[2m\u001b[33m(raylet)\u001b[0m [2024-03-06 02:31:05,719 E 467588 467600] (raylet) file_system_monitor.cc:111: /tmp/ray/session_2024-03-06_02-25-53_846650_458634 is over 95% full, available space: 615134932992; capacity: 16125711347712. Object creation will fail if spilling is required.\n",
      "Ray objects:  74%|███████▍  | 66/89 [04:46<01:53,  4.94s/it]\u001b[2m\u001b[33m(raylet)\u001b[0m [2024-03-06 02:31:15,726 E 467588 467600] (raylet) file_system_monitor.cc:111: /tmp/ray/session_2024-03-06_02-25-53_846650_458634 is over 95% full, available space: 615117860864; capacity: 16125711347712. Object creation will fail if spilling is required.\n",
      "Ray objects:  85%|████████▌ | 76/89 [05:03<00:13,  1.05s/it]\u001b[2m\u001b[33m(raylet)\u001b[0m [2024-03-06 02:31:25,732 E 467588 467600] (raylet) file_system_monitor.cc:111: /tmp/ray/session_2024-03-06_02-25-53_846650_458634 is over 95% full, available space: 614967042048; capacity: 16125711347712. Object creation will fail if spilling is required.\n",
      "Ray objects:  92%|█████████▏| 82/89 [05:14<00:15,  2.27s/it]\u001b[2m\u001b[33m(raylet)\u001b[0m [2024-03-06 02:31:35,737 E 467588 467600] (raylet) file_system_monitor.cc:111: /tmp/ray/session_2024-03-06_02-25-53_846650_458634 is over 95% full, available space: 614930550784; capacity: 16125711347712. Object creation will fail if spilling is required.\n",
      "\u001b[2m\u001b[33m(raylet)\u001b[0m [2024-03-06 02:31:45,742 E 467588 467600] (raylet) file_system_monitor.cc:111: /tmp/ray/session_2024-03-06_02-25-53_846650_458634 is over 95% full, available space: 614930550784; capacity: 16125711347712. Object creation will fail if spilling is required.\n",
      "\u001b[2m\u001b[33m(raylet)\u001b[0m [2024-03-06 02:31:55,748 E 467588 467600] (raylet) file_system_monitor.cc:111: /tmp/ray/session_2024-03-06_02-25-53_846650_458634 is over 95% full, available space: 614930456576; capacity: 16125711347712. Object creation will fail if spilling is required.\n",
      "Ray objects:  93%|█████████▎| 83/89 [05:35<00:46,  7.83s/it]\u001b[2m\u001b[33m(raylet)\u001b[0m [2024-03-06 02:32:05,754 E 467588 467600] (raylet) file_system_monitor.cc:111: /tmp/ray/session_2024-03-06_02-25-53_846650_458634 is over 95% full, available space: 614923984896; capacity: 16125711347712. Object creation will fail if spilling is required.\n",
      "\u001b[2m\u001b[33m(raylet)\u001b[0m [2024-03-06 02:32:15,759 E 467588 467600] (raylet) file_system_monitor.cc:111: /tmp/ray/session_2024-03-06_02-25-53_846650_458634 is over 95% full, available space: 614923968512; capacity: 16125711347712. Object creation will fail if spilling is required.\n",
      "Ray objects:  94%|█████████▍| 84/89 [06:03<01:09, 13.92s/it]\u001b[2m\u001b[33m(raylet)\u001b[0m [2024-03-06 02:32:25,764 E 467588 467600] (raylet) file_system_monitor.cc:111: /tmp/ray/session_2024-03-06_02-25-53_846650_458634 is over 95% full, available space: 614910693376; capacity: 16125711347712. Object creation will fail if spilling is required.\n",
      "Ray objects:  98%|█████████▊| 87/89 [06:12<00:13,  6.64s/it]\u001b[2m\u001b[33m(raylet)\u001b[0m [2024-03-06 02:32:35,768 E 467588 467600] (raylet) file_system_monitor.cc:111: /tmp/ray/session_2024-03-06_02-25-53_846650_458634 is over 95% full, available space: 614870835200; capacity: 16125711347712. Object creation will fail if spilling is required.\n",
      "\u001b[2m\u001b[33m(raylet)\u001b[0m [2024-03-06 02:32:45,772 E 467588 467600] (raylet) file_system_monitor.cc:111: /tmp/ray/session_2024-03-06_02-25-53_846650_458634 is over 95% full, available space: 614870835200; capacity: 16125711347712. Object creation will fail if spilling is required.\n",
      "Ray objects: 100%|██████████| 89/89 [06:30<00:00,  4.39s/it]\n"
     ]
    },
    {
     "name": "stdout",
     "output_type": "stream",
     "text": [
      "2024-03-06 02:32:51,435 INFO {/home/ehdykhne/nuplan-devkit/nuplan/planning/simulation/runner/executor.py:129}  Number of successful simulations: 89\n",
      "2024-03-06 02:32:51,436 INFO {/home/ehdykhne/nuplan-devkit/nuplan/planning/simulation/runner/executor.py:130}  Number of failed simulations: 0\n",
      "2024-03-06 02:32:51,436 INFO {/home/ehdykhne/nuplan-devkit/nuplan/planning/script/utils.py:147}  Finished executing runners!\n",
      "2024-03-06 02:32:51,445 INFO {/home/ehdykhne/nuplan-devkit/nuplan/planning/script/utils.py:74}  Saved runner reports to ../../data/nuplan/exp/exp/simulation/closed_loop_multiagent/2024.03.06.02.25.50/runner_report.parquet\n",
      "2024-03-06 02:32:51,446 INFO {/home/ehdykhne/nuplan-devkit/nuplan/planning/simulation/main_callback/time_callback.py:27}  Simulation duration: 00:07:01 [HH:MM:SS]\n",
      "2024-03-06 02:32:52,514 INFO {/home/ehdykhne/nuplan-devkit/nuplan/planning/simulation/main_callback/metric_file_callback.py:79}  Metric files integration: 00:00:01 [HH:MM:SS]\n",
      "2024-03-06 02:32:52,588 INFO {/home/ehdykhne/nuplan-devkit/nuplan/planning/simulation/main_callback/metric_aggregator_callback.py:58}  Running metric aggregator: closed_loop_multiagent_weighted_average\n",
      "2024-03-06 02:32:52,687 INFO {/home/ehdykhne/nuplan-devkit/nuplan/planning/simulation/main_callback/metric_aggregator_callback.py:69}  Metric aggregator: 00:00:00 [HH:MM:SS]\n",
      "2024-03-06 02:32:52,800 INFO {/home/ehdykhne/nuplan-devkit/nuplan/planning/simulation/main_callback/metric_summary_callback.py:344}  Metric summary: 00:00:00 [HH:MM:SS]\n",
      "2024-03-06 02:32:52,801 INFO {/home/ehdykhne/nuplan-devkit/nuplan/planning/script/run_simulation.py:115}  Finished running simulation!\n"
     ]
    }
   ],
   "source": [
    "main_simulation(cfg_unocc)"
   ]
  },
  {
   "cell_type": "markdown",
   "id": "c81f0d3a",
   "metadata": {},
   "source": [
    "## Prepare the nuBoard config"
   ]
  },
  {
   "cell_type": "code",
   "execution_count": 13,
   "id": "34176ce5",
   "metadata": {},
   "outputs": [],
   "source": [
    "# output_folder_alt = []\n",
    "# output_folder_alt.append(\n",
    "#     \"../../data/nuplan/exp/exp/simulation/closed_loop_reactive_agents/2023.12.09.21.59.48\"\n",
    "# )\n",
    "# output_folder_alt.append(\n",
    "#     \"../../data/nuplan/exp/exp/simulation/closed_loop_reactive_agents/2023.12.09.23.21.13\"\n",
    "# )\n",
    "# output_folder_alt.append(\n",
    "#     \"../../data/nuplan/exp/exp/simulation/closed_loop_nonreactive_agents/2023.12.10.07.32.41\"\n",
    "# )\n",
    "# output_folder_alt.append(\n",
    "#     \"../../data/nuplan/exp/exp/simulation/closed_loop_nonreactive_agents/2023.12.10.08.29.23\"\n",
    "# )\n",
    "# output_folder_alt.append(\n",
    "#     \"../../data/nuplan/exp/exp/simulation/closed_loop_reactive_agents/2023.12.11.00.41.30\"\n",
    "# )\n",
    "# output_folder_alt.append(\n",
    "#     \"../../data/nuplan/exp/exp/simulation/closed_loop_reactive_agents/2023.12.10.09.31.44\"\n",
    "# )\n",
    "# output_folder_alt.append(\n",
    "#     \"../../data/nuplan/exp/exp/simulation/closed_loop_reactive_agents/2023.12.13.12.21.28\"\n",
    "# )\n",
    "# output_folder_alt.append(\n",
    "#     \"../../data/nuplan/exp/exp/simulation/closed_loop_reactive_agents/2023.12.13.13.07.48\"\n",
    "# )"
   ]
  },
  {
   "cell_type": "code",
   "execution_count": 14,
   "id": "b8fc89e1",
   "metadata": {},
   "outputs": [
    {
     "name": "stdout",
     "output_type": "stream",
     "text": [
      "../../data/nuplan/exp/exp/simulation/closed_loop_multiagent/2024.03.06.00.31.10\n",
      "../../data/nuplan/exp/exp/simulation/closed_loop_multiagent/2024.03.06.02.25.50\n"
     ]
    }
   ],
   "source": [
    "# scenario_builder = \"val\"  # [nuplan (uses trainval), nuplan_mini, test, val, train_boston, train_pittsburgh, train_singapore]\n",
    "# output_folder_occ = \"../../data/nuplan/exp/exp/simulation/closed_loop_multiagent/2024.02.28.20.06.45\"\n",
    "# output_folder_unocc = \"../../data/nuplan/exp/exp/simulation/closed_loop_multiagent/2024.02.28.20.55.22\"\n",
    "# output_folder_occ = (\n",
    "#     \"../../data/nuplan/exp/exp/simulation/closed_loop_multiagent/2024.03.05.19.32.17\"\n",
    "# )\n",
    "# output_folder_unocc = (\n",
    "#     \"../../data/nuplan/exp/exp/simulation/closed_loop_multiagent/2024.03.05.20.12.11\"\n",
    "# )\n",
    "\n",
    "output_folder = [output_folder_occ, output_folder_unocc]\n",
    "print(output_folder_occ)\n",
    "print(output_folder_unocc)\n",
    "\n",
    "CONFIG_PATH = \"../nuplan/planning/script/config/nuboard\"\n",
    "CONFIG_NAME = \"default_nuboard\"\n",
    "\n",
    "# Initialize configuration management system\n",
    "hydra.core.global_hydra.GlobalHydra.instance().clear()  # reinitialize hydra if already initialized\n",
    "hydra.initialize(config_path=CONFIG_PATH)\n",
    "\n",
    "# Compose the configuration\n",
    "cfg = hydra.compose(\n",
    "    config_name=CONFIG_NAME,\n",
    "    overrides=[\n",
    "        f\"scenario_builder={scenario_builder}\",  # set the database (same as simulation) used to fetch data for visualization\n",
    "        f\"simulation_path={output_folder}\",  # [output_folder, output_folder_alt] nuboard file path(s), if left empty the user can open the file inside nuBoard\n",
    "    ],\n",
    ")"
   ]
  },
  {
   "cell_type": "markdown",
   "id": "cf22057a",
   "metadata": {},
   "source": [
    "## Launch nuBoard (open in new tab - recommended)\n"
   ]
  },
  {
   "cell_type": "code",
   "execution_count": 15,
   "id": "eea5a24e",
   "metadata": {},
   "outputs": [
    {
     "name": "stdout",
     "output_type": "stream",
     "text": [
      "2024-03-06 02:32:53,006 INFO {/home/ehdykhne/nuplan-devkit/nuplan/planning/script/builders/scenario_building_builder.py:18}  Building AbstractScenarioBuilder...\n",
      "2024-03-06 02:32:53,023 INFO {/home/ehdykhne/nuplan-devkit/nuplan/planning/script/builders/scenario_building_builder.py:21}  Building AbstractScenarioBuilder...DONE!\n",
      "2024-03-06 02:32:53,024 INFO {/home/ehdykhne/nuplan-devkit/nuplan/planning/nuboard/nuboard.py:84}  Opening Bokeh application on http://localhost:5006/\n",
      "2024-03-06 02:32:53,024 INFO {/home/ehdykhne/nuplan-devkit/nuplan/planning/nuboard/nuboard.py:85}  Async rendering is set to: True\n",
      "2024-03-06 02:32:53,024 INFO {/home/ehdykhne/miniconda3/envs/nuplan/lib/python3.9/site-packages/bokeh/server/server.py:403}  Starting Bokeh server version 2.4.3 (running on Tornado 6.3.3)\n",
      "2024-03-06 02:32:53,025 WARNING {/home/ehdykhne/miniconda3/envs/nuplan/lib/python3.9/site-packages/bokeh/server/util.py:145}  Host wildcard '*' will allow connections originating from multiple (or possibly all) hostnames or IPs. Use non-wildcard values to restrict access explicitly\n",
      "2024-03-06 02:32:53,025 INFO {/home/ehdykhne/miniconda3/envs/nuplan/lib/python3.9/site-packages/bokeh/server/tornado.py:360}  User authentication hooks NOT provided (default user enabled)\n"
     ]
    },
    {
     "name": "stdout",
     "output_type": "stream",
     "text": [
      "2024-03-06 02:32:53,954 INFO {/home/ehdykhne/nuplan-devkit/nuplan/planning/nuboard/base/simulation_tile.py:172}  Minimum frame time=0.017 s\n",
      "2024-03-06 02:32:54,226 INFO {/home/ehdykhne/nuplan-devkit/nuplan/planning/nuboard/tabs/scenario_tab.py:485}  Rending scenario plot takes 0.0067 seconds.\n",
      "2024-03-06 02:32:54,327 INFO {/home/ehdykhne/miniconda3/envs/nuplan/lib/python3.9/site-packages/tornado/web.py:2344}  200 GET / (127.0.0.1) 733.68ms\n"
     ]
    },
    {
     "name": "stderr",
     "output_type": "stream",
     "text": [
      "INFO:tornado.access:200 GET / (127.0.0.1) 733.68ms\n",
      "INFO:tornado.access:101 GET /ws (127.0.0.1) 0.51ms\n"
     ]
    },
    {
     "name": "stdout",
     "output_type": "stream",
     "text": [
      "2024-03-06 02:32:54,926 INFO {/home/ehdykhne/miniconda3/envs/nuplan/lib/python3.9/site-packages/tornado/web.py:2344}  101 GET /ws (127.0.0.1) 0.51ms\n",
      "2024-03-06 02:32:54,927 INFO {/home/ehdykhne/miniconda3/envs/nuplan/lib/python3.9/site-packages/bokeh/server/views/ws.py:132}  WebSocket connection opened\n",
      "2024-03-06 02:32:54,927 INFO {/home/ehdykhne/miniconda3/envs/nuplan/lib/python3.9/site-packages/bokeh/server/views/ws.py:213}  ServerConnection created\n",
      "2024-03-06 02:32:55,590 INFO {/home/ehdykhne/nuplan-devkit/nuplan/planning/nuboard/base/simulation_tile.py:172}  Minimum frame time=0.017 s\n"
     ]
    },
    {
     "name": "stderr",
     "output_type": "stream",
     "text": [
      "\u001b[2m\u001b[33m(raylet)\u001b[0m [2024-03-06 02:32:55,776 E 467588 467600] (raylet) file_system_monitor.cc:111: /tmp/ray/session_2024-03-06_02-25-53_846650_458634 is over 95% full, available space: 614847938560; capacity: 16125711347712. Object creation will fail if spilling is required.\n",
      "INFO:tornado.access:200 GET / (127.0.0.1) 714.96ms\n"
     ]
    },
    {
     "name": "stdout",
     "output_type": "stream",
     "text": [
      "2024-03-06 02:32:55,863 INFO {/home/ehdykhne/nuplan-devkit/nuplan/planning/nuboard/tabs/scenario_tab.py:485}  Rending scenario plot takes 0.0067 seconds.\n",
      "2024-03-06 02:32:55,958 INFO {/home/ehdykhne/miniconda3/envs/nuplan/lib/python3.9/site-packages/tornado/web.py:2344}  200 GET / (127.0.0.1) 714.96ms\n"
     ]
    },
    {
     "name": "stderr",
     "output_type": "stream",
     "text": [
      "\u001b[2m\u001b[33m(raylet)\u001b[0m [2024-03-06 02:33:05,778 E 467588 467600] (raylet) file_system_monitor.cc:111: /tmp/ray/session_2024-03-06_02-25-53_846650_458634 is over 95% full, available space: 614847668224; capacity: 16125711347712. Object creation will fail if spilling is required.\n",
      "\u001b[2m\u001b[33m(raylet)\u001b[0m [2024-03-06 02:33:15,780 E 467588 467600] (raylet) file_system_monitor.cc:111: /tmp/ray/session_2024-03-06_02-25-53_846650_458634 is over 95% full, available space: 614847668224; capacity: 16125711347712. Object creation will fail if spilling is required.\n",
      "\u001b[2m\u001b[33m(raylet)\u001b[0m [2024-03-06 02:33:25,783 E 467588 467600] (raylet) file_system_monitor.cc:111: /tmp/ray/session_2024-03-06_02-25-53_846650_458634 is over 95% full, available space: 614847664128; capacity: 16125711347712. Object creation will fail if spilling is required.\n",
      "\u001b[2m\u001b[33m(raylet)\u001b[0m [2024-03-06 02:33:35,785 E 467588 467600] (raylet) file_system_monitor.cc:111: /tmp/ray/session_2024-03-06_02-25-53_846650_458634 is over 95% full, available space: 614847664128; capacity: 16125711347712. Object creation will fail if spilling is required.\n",
      "\u001b[2m\u001b[33m(raylet)\u001b[0m [2024-03-06 02:33:45,788 E 467588 467600] (raylet) file_system_monitor.cc:111: /tmp/ray/session_2024-03-06_02-25-53_846650_458634 is over 95% full, available space: 614847655936; capacity: 16125711347712. Object creation will fail if spilling is required.\n",
      "\u001b[2m\u001b[33m(raylet)\u001b[0m [2024-03-06 02:33:55,790 E 467588 467600] (raylet) file_system_monitor.cc:111: /tmp/ray/session_2024-03-06_02-25-53_846650_458634 is over 95% full, available space: 614847631360; capacity: 16125711347712. Object creation will fail if spilling is required.\n",
      "\u001b[2m\u001b[33m(raylet)\u001b[0m [2024-03-06 02:34:05,793 E 467588 467600] (raylet) file_system_monitor.cc:111: /tmp/ray/session_2024-03-06_02-25-53_846650_458634 is over 95% full, available space: 614847627264; capacity: 16125711347712. Object creation will fail if spilling is required.\n",
      "\u001b[2m\u001b[33m(raylet)\u001b[0m [2024-03-06 02:34:15,795 E 467588 467600] (raylet) file_system_monitor.cc:111: /tmp/ray/session_2024-03-06_02-25-53_846650_458634 is over 95% full, available space: 614847623168; capacity: 16125711347712. Object creation will fail if spilling is required.\n",
      "\u001b[2m\u001b[33m(raylet)\u001b[0m [2024-03-06 02:34:25,798 E 467588 467600] (raylet) file_system_monitor.cc:111: /tmp/ray/session_2024-03-06_02-25-53_846650_458634 is over 95% full, available space: 614847623168; capacity: 16125711347712. Object creation will fail if spilling is required.\n",
      "\u001b[2m\u001b[33m(raylet)\u001b[0m [2024-03-06 02:34:35,800 E 467588 467600] (raylet) file_system_monitor.cc:111: /tmp/ray/session_2024-03-06_02-25-53_846650_458634 is over 95% full, available space: 614847623168; capacity: 16125711347712. Object creation will fail if spilling is required.\n",
      "\u001b[2m\u001b[33m(raylet)\u001b[0m [2024-03-06 02:34:45,803 E 467588 467600] (raylet) file_system_monitor.cc:111: /tmp/ray/session_2024-03-06_02-25-53_846650_458634 is over 95% full, available space: 614847619072; capacity: 16125711347712. Object creation will fail if spilling is required.\n",
      "\u001b[2m\u001b[33m(raylet)\u001b[0m [2024-03-06 02:34:55,805 E 467588 467600] (raylet) file_system_monitor.cc:111: /tmp/ray/session_2024-03-06_02-25-53_846650_458634 is over 95% full, available space: 614847594496; capacity: 16125711347712. Object creation will fail if spilling is required.\n",
      "\u001b[2m\u001b[33m(raylet)\u001b[0m [2024-03-06 02:35:05,808 E 467588 467600] (raylet) file_system_monitor.cc:111: /tmp/ray/session_2024-03-06_02-25-53_846650_458634 is over 95% full, available space: 614847451136; capacity: 16125711347712. Object creation will fail if spilling is required.\n",
      "\u001b[2m\u001b[33m(raylet)\u001b[0m [2024-03-06 02:35:15,810 E 467588 467600] (raylet) file_system_monitor.cc:111: /tmp/ray/session_2024-03-06_02-25-53_846650_458634 is over 95% full, available space: 614847447040; capacity: 16125711347712. Object creation will fail if spilling is required.\n",
      "\u001b[2m\u001b[33m(raylet)\u001b[0m [2024-03-06 02:35:25,813 E 467588 467600] (raylet) file_system_monitor.cc:111: /tmp/ray/session_2024-03-06_02-25-53_846650_458634 is over 95% full, available space: 614847447040; capacity: 16125711347712. Object creation will fail if spilling is required.\n",
      "\u001b[2m\u001b[33m(raylet)\u001b[0m [2024-03-06 02:35:35,816 E 467588 467600] (raylet) file_system_monitor.cc:111: /tmp/ray/session_2024-03-06_02-25-53_846650_458634 is over 95% full, available space: 614847438848; capacity: 16125711347712. Object creation will fail if spilling is required.\n",
      "\u001b[2m\u001b[33m(raylet)\u001b[0m [2024-03-06 02:35:45,819 E 467588 467600] (raylet) file_system_monitor.cc:111: /tmp/ray/session_2024-03-06_02-25-53_846650_458634 is over 95% full, available space: 614847438848; capacity: 16125711347712. Object creation will fail if spilling is required.\n",
      "\u001b[2m\u001b[33m(raylet)\u001b[0m [2024-03-06 02:35:55,822 E 467588 467600] (raylet) file_system_monitor.cc:111: /tmp/ray/session_2024-03-06_02-25-53_846650_458634 is over 95% full, available space: 614847414272; capacity: 16125711347712. Object creation will fail if spilling is required.\n",
      "\u001b[2m\u001b[33m(raylet)\u001b[0m [2024-03-06 02:36:05,824 E 467588 467600] (raylet) file_system_monitor.cc:111: /tmp/ray/session_2024-03-06_02-25-53_846650_458634 is over 95% full, available space: 614847406080; capacity: 16125711347712. Object creation will fail if spilling is required.\n",
      "\u001b[2m\u001b[33m(raylet)\u001b[0m [2024-03-06 02:36:15,827 E 467588 467600] (raylet) file_system_monitor.cc:111: /tmp/ray/session_2024-03-06_02-25-53_846650_458634 is over 95% full, available space: 614847401984; capacity: 16125711347712. Object creation will fail if spilling is required.\n",
      "\u001b[2m\u001b[33m(raylet)\u001b[0m [2024-03-06 02:36:25,829 E 467588 467600] (raylet) file_system_monitor.cc:111: /tmp/ray/session_2024-03-06_02-25-53_846650_458634 is over 95% full, available space: 614847397888; capacity: 16125711347712. Object creation will fail if spilling is required.\n",
      "\u001b[2m\u001b[33m(raylet)\u001b[0m [2024-03-06 02:36:35,832 E 467588 467600] (raylet) file_system_monitor.cc:111: /tmp/ray/session_2024-03-06_02-25-53_846650_458634 is over 95% full, available space: 614847397888; capacity: 16125711347712. Object creation will fail if spilling is required.\n",
      "\u001b[2m\u001b[33m(raylet)\u001b[0m [2024-03-06 02:36:45,834 E 467588 467600] (raylet) file_system_monitor.cc:111: /tmp/ray/session_2024-03-06_02-25-53_846650_458634 is over 95% full, available space: 614847385600; capacity: 16125711347712. Object creation will fail if spilling is required.\n",
      "\u001b[2m\u001b[33m(raylet)\u001b[0m [2024-03-06 02:36:55,837 E 467588 467600] (raylet) file_system_monitor.cc:111: /tmp/ray/session_2024-03-06_02-25-53_846650_458634 is over 95% full, available space: 614847356928; capacity: 16125711347712. Object creation will fail if spilling is required.\n",
      "\u001b[2m\u001b[33m(raylet)\u001b[0m [2024-03-06 02:37:05,840 E 467588 467600] (raylet) file_system_monitor.cc:111: /tmp/ray/session_2024-03-06_02-25-53_846650_458634 is over 95% full, available space: 614847225856; capacity: 16125711347712. Object creation will fail if spilling is required.\n",
      "\u001b[2m\u001b[33m(raylet)\u001b[0m [2024-03-06 02:37:15,845 E 467588 467600] (raylet) file_system_monitor.cc:111: /tmp/ray/session_2024-03-06_02-25-53_846650_458634 is over 95% full, available space: 614847225856; capacity: 16125711347712. Object creation will fail if spilling is required.\n",
      "\u001b[2m\u001b[33m(raylet)\u001b[0m [2024-03-06 02:37:25,847 E 467588 467600] (raylet) file_system_monitor.cc:111: /tmp/ray/session_2024-03-06_02-25-53_846650_458634 is over 95% full, available space: 614847221760; capacity: 16125711347712. Object creation will fail if spilling is required.\n",
      "\u001b[2m\u001b[33m(raylet)\u001b[0m [2024-03-06 02:37:35,849 E 467588 467600] (raylet) file_system_monitor.cc:111: /tmp/ray/session_2024-03-06_02-25-53_846650_458634 is over 95% full, available space: 614847221760; capacity: 16125711347712. Object creation will fail if spilling is required.\n",
      "\u001b[2m\u001b[33m(raylet)\u001b[0m [2024-03-06 02:37:45,852 E 467588 467600] (raylet) file_system_monitor.cc:111: /tmp/ray/session_2024-03-06_02-25-53_846650_458634 is over 95% full, available space: 614847217664; capacity: 16125711347712. Object creation will fail if spilling is required.\n",
      "\u001b[2m\u001b[33m(raylet)\u001b[0m [2024-03-06 02:37:55,855 E 467588 467600] (raylet) file_system_monitor.cc:111: /tmp/ray/session_2024-03-06_02-25-53_846650_458634 is over 95% full, available space: 614847188992; capacity: 16125711347712. Object creation will fail if spilling is required.\n",
      "\u001b[2m\u001b[33m(raylet)\u001b[0m [2024-03-06 02:38:05,858 E 467588 467600] (raylet) file_system_monitor.cc:111: /tmp/ray/session_2024-03-06_02-25-53_846650_458634 is over 95% full, available space: 614847184896; capacity: 16125711347712. Object creation will fail if spilling is required.\n",
      "\u001b[2m\u001b[33m(raylet)\u001b[0m [2024-03-06 02:38:15,860 E 467588 467600] (raylet) file_system_monitor.cc:111: /tmp/ray/session_2024-03-06_02-25-53_846650_458634 is over 95% full, available space: 614847176704; capacity: 16125711347712. Object creation will fail if spilling is required.\n",
      "\u001b[2m\u001b[33m(raylet)\u001b[0m [2024-03-06 02:38:25,863 E 467588 467600] (raylet) file_system_monitor.cc:111: /tmp/ray/session_2024-03-06_02-25-53_846650_458634 is over 95% full, available space: 614847176704; capacity: 16125711347712. Object creation will fail if spilling is required.\n",
      "\u001b[2m\u001b[33m(raylet)\u001b[0m [2024-03-06 02:38:35,866 E 467588 467600] (raylet) file_system_monitor.cc:111: /tmp/ray/session_2024-03-06_02-25-53_846650_458634 is over 95% full, available space: 614847176704; capacity: 16125711347712. Object creation will fail if spilling is required.\n",
      "\u001b[2m\u001b[33m(raylet)\u001b[0m [2024-03-06 02:38:45,869 E 467588 467600] (raylet) file_system_monitor.cc:111: /tmp/ray/session_2024-03-06_02-25-53_846650_458634 is over 95% full, available space: 614847168512; capacity: 16125711347712. Object creation will fail if spilling is required.\n",
      "\u001b[2m\u001b[33m(raylet)\u001b[0m [2024-03-06 02:38:55,872 E 467588 467600] (raylet) file_system_monitor.cc:111: /tmp/ray/session_2024-03-06_02-25-53_846650_458634 is over 95% full, available space: 614847148032; capacity: 16125711347712. Object creation will fail if spilling is required.\n",
      "\u001b[2m\u001b[33m(raylet)\u001b[0m [2024-03-06 02:39:05,874 E 467588 467600] (raylet) file_system_monitor.cc:111: /tmp/ray/session_2024-03-06_02-25-53_846650_458634 is over 95% full, available space: 614847008768; capacity: 16125711347712. Object creation will fail if spilling is required.\n",
      "\u001b[2m\u001b[33m(raylet)\u001b[0m [2024-03-06 02:39:15,877 E 467588 467600] (raylet) file_system_monitor.cc:111: /tmp/ray/session_2024-03-06_02-25-53_846650_458634 is over 95% full, available space: 614847008768; capacity: 16125711347712. Object creation will fail if spilling is required.\n",
      "\u001b[2m\u001b[33m(raylet)\u001b[0m [2024-03-06 02:39:25,880 E 467588 467600] (raylet) file_system_monitor.cc:111: /tmp/ray/session_2024-03-06_02-25-53_846650_458634 is over 95% full, available space: 614847000576; capacity: 16125711347712. Object creation will fail if spilling is required.\n",
      "\u001b[2m\u001b[33m(raylet)\u001b[0m [2024-03-06 02:39:35,883 E 467588 467600] (raylet) file_system_monitor.cc:111: /tmp/ray/session_2024-03-06_02-25-53_846650_458634 is over 95% full, available space: 614846996480; capacity: 16125711347712. Object creation will fail if spilling is required.\n",
      "\u001b[2m\u001b[33m(raylet)\u001b[0m [2024-03-06 02:39:45,886 E 467588 467600] (raylet) file_system_monitor.cc:111: /tmp/ray/session_2024-03-06_02-25-53_846650_458634 is over 95% full, available space: 614846992384; capacity: 16125711347712. Object creation will fail if spilling is required.\n",
      "\u001b[2m\u001b[33m(raylet)\u001b[0m [2024-03-06 02:39:55,888 E 467588 467600] (raylet) file_system_monitor.cc:111: /tmp/ray/session_2024-03-06_02-25-53_846650_458634 is over 95% full, available space: 614846971904; capacity: 16125711347712. Object creation will fail if spilling is required.\n",
      "\u001b[2m\u001b[33m(raylet)\u001b[0m [2024-03-06 02:40:05,891 E 467588 467600] (raylet) file_system_monitor.cc:111: /tmp/ray/session_2024-03-06_02-25-53_846650_458634 is over 95% full, available space: 614846963712; capacity: 16125711347712. Object creation will fail if spilling is required.\n",
      "\u001b[2m\u001b[33m(raylet)\u001b[0m [2024-03-06 02:40:15,894 E 467588 467600] (raylet) file_system_monitor.cc:111: /tmp/ray/session_2024-03-06_02-25-53_846650_458634 is over 95% full, available space: 614846963712; capacity: 16125711347712. Object creation will fail if spilling is required.\n",
      "\u001b[2m\u001b[33m(raylet)\u001b[0m [2024-03-06 02:40:25,897 E 467588 467600] (raylet) file_system_monitor.cc:111: /tmp/ray/session_2024-03-06_02-25-53_846650_458634 is over 95% full, available space: 614846959616; capacity: 16125711347712. Object creation will fail if spilling is required.\n",
      "\u001b[2m\u001b[33m(raylet)\u001b[0m [2024-03-06 02:40:35,900 E 467588 467600] (raylet) file_system_monitor.cc:111: /tmp/ray/session_2024-03-06_02-25-53_846650_458634 is over 95% full, available space: 614846959616; capacity: 16125711347712. Object creation will fail if spilling is required.\n",
      "\u001b[2m\u001b[33m(raylet)\u001b[0m [2024-03-06 02:40:45,903 E 467588 467600] (raylet) file_system_monitor.cc:111: /tmp/ray/session_2024-03-06_02-25-53_846650_458634 is over 95% full, available space: 614846959616; capacity: 16125711347712. Object creation will fail if spilling is required.\n",
      "\u001b[2m\u001b[33m(raylet)\u001b[0m [2024-03-06 02:40:55,905 E 467588 467600] (raylet) file_system_monitor.cc:111: /tmp/ray/session_2024-03-06_02-25-53_846650_458634 is over 95% full, available space: 614846926848; capacity: 16125711347712. Object creation will fail if spilling is required.\n",
      "\u001b[2m\u001b[33m(raylet)\u001b[0m [2024-03-06 02:41:05,908 E 467588 467600] (raylet) file_system_monitor.cc:111: /tmp/ray/session_2024-03-06_02-25-53_846650_458634 is over 95% full, available space: 614846791680; capacity: 16125711347712. Object creation will fail if spilling is required.\n",
      "\u001b[2m\u001b[33m(raylet)\u001b[0m [2024-03-06 02:41:15,911 E 467588 467600] (raylet) file_system_monitor.cc:111: /tmp/ray/session_2024-03-06_02-25-53_846650_458634 is over 95% full, available space: 614846787584; capacity: 16125711347712. Object creation will fail if spilling is required.\n",
      "\u001b[2m\u001b[33m(raylet)\u001b[0m [2024-03-06 02:41:25,914 E 467588 467600] (raylet) file_system_monitor.cc:111: /tmp/ray/session_2024-03-06_02-25-53_846650_458634 is over 95% full, available space: 614846783488; capacity: 16125711347712. Object creation will fail if spilling is required.\n",
      "\u001b[2m\u001b[33m(raylet)\u001b[0m [2024-03-06 02:41:35,917 E 467588 467600] (raylet) file_system_monitor.cc:111: /tmp/ray/session_2024-03-06_02-25-53_846650_458634 is over 95% full, available space: 614846783488; capacity: 16125711347712. Object creation will fail if spilling is required.\n",
      "\u001b[2m\u001b[33m(raylet)\u001b[0m [2024-03-06 02:41:45,920 E 467588 467600] (raylet) file_system_monitor.cc:111: /tmp/ray/session_2024-03-06_02-25-53_846650_458634 is over 95% full, available space: 614846779392; capacity: 16125711347712. Object creation will fail if spilling is required.\n",
      "\u001b[2m\u001b[33m(raylet)\u001b[0m [2024-03-06 02:41:55,923 E 467588 467600] (raylet) file_system_monitor.cc:111: /tmp/ray/session_2024-03-06_02-25-53_846650_458634 is over 95% full, available space: 614846754816; capacity: 16125711347712. Object creation will fail if spilling is required.\n",
      "\u001b[2m\u001b[33m(raylet)\u001b[0m [2024-03-06 02:42:05,926 E 467588 467600] (raylet) file_system_monitor.cc:111: /tmp/ray/session_2024-03-06_02-25-53_846650_458634 is over 95% full, available space: 614846615552; capacity: 16125711347712. Object creation will fail if spilling is required.\n",
      "\u001b[2m\u001b[33m(raylet)\u001b[0m [2024-03-06 02:42:15,929 E 467588 467600] (raylet) file_system_monitor.cc:111: /tmp/ray/session_2024-03-06_02-25-53_846650_458634 is over 95% full, available space: 614846611456; capacity: 16125711347712. Object creation will fail if spilling is required.\n",
      "\u001b[2m\u001b[33m(raylet)\u001b[0m [2024-03-06 02:42:25,931 E 467588 467600] (raylet) file_system_monitor.cc:111: /tmp/ray/session_2024-03-06_02-25-53_846650_458634 is over 95% full, available space: 614846611456; capacity: 16125711347712. Object creation will fail if spilling is required.\n",
      "\u001b[2m\u001b[33m(raylet)\u001b[0m [2024-03-06 02:42:35,934 E 467588 467600] (raylet) file_system_monitor.cc:111: /tmp/ray/session_2024-03-06_02-25-53_846650_458634 is over 95% full, available space: 614846607360; capacity: 16125711347712. Object creation will fail if spilling is required.\n",
      "\u001b[2m\u001b[33m(raylet)\u001b[0m [2024-03-06 02:42:45,937 E 467588 467600] (raylet) file_system_monitor.cc:111: /tmp/ray/session_2024-03-06_02-25-53_846650_458634 is over 95% full, available space: 614846599168; capacity: 16125711347712. Object creation will fail if spilling is required.\n",
      "\u001b[2m\u001b[33m(raylet)\u001b[0m [2024-03-06 02:42:55,939 E 467588 467600] (raylet) file_system_monitor.cc:111: /tmp/ray/session_2024-03-06_02-25-53_846650_458634 is over 95% full, available space: 614846574592; capacity: 16125711347712. Object creation will fail if spilling is required.\n",
      "\u001b[2m\u001b[33m(raylet)\u001b[0m [2024-03-06 02:43:05,942 E 467588 467600] (raylet) file_system_monitor.cc:111: /tmp/ray/session_2024-03-06_02-25-53_846650_458634 is over 95% full, available space: 614846570496; capacity: 16125711347712. Object creation will fail if spilling is required.\n",
      "\u001b[2m\u001b[33m(raylet)\u001b[0m [2024-03-06 02:43:15,945 E 467588 467600] (raylet) file_system_monitor.cc:111: /tmp/ray/session_2024-03-06_02-25-53_846650_458634 is over 95% full, available space: 614846566400; capacity: 16125711347712. Object creation will fail if spilling is required.\n",
      "\u001b[2m\u001b[33m(raylet)\u001b[0m [2024-03-06 02:43:25,948 E 467588 467600] (raylet) file_system_monitor.cc:111: /tmp/ray/session_2024-03-06_02-25-53_846650_458634 is over 95% full, available space: 614846566400; capacity: 16125711347712. Object creation will fail if spilling is required.\n",
      "\u001b[2m\u001b[33m(raylet)\u001b[0m [2024-03-06 02:43:35,950 E 467588 467600] (raylet) file_system_monitor.cc:111: /tmp/ray/session_2024-03-06_02-25-53_846650_458634 is over 95% full, available space: 614846562304; capacity: 16125711347712. Object creation will fail if spilling is required.\n",
      "\u001b[2m\u001b[33m(raylet)\u001b[0m [2024-03-06 02:43:45,953 E 467588 467600] (raylet) file_system_monitor.cc:111: /tmp/ray/session_2024-03-06_02-25-53_846650_458634 is over 95% full, available space: 614846562304; capacity: 16125711347712. Object creation will fail if spilling is required.\n",
      "\u001b[2m\u001b[33m(raylet)\u001b[0m [2024-03-06 02:43:55,956 E 467588 467600] (raylet) file_system_monitor.cc:111: /tmp/ray/session_2024-03-06_02-25-53_846650_458634 is over 95% full, available space: 614846537728; capacity: 16125711347712. Object creation will fail if spilling is required.\n",
      "\u001b[2m\u001b[33m(raylet)\u001b[0m [2024-03-06 02:44:05,959 E 467588 467600] (raylet) file_system_monitor.cc:111: /tmp/ray/session_2024-03-06_02-25-53_846650_458634 is over 95% full, available space: 614846398464; capacity: 16125711347712. Object creation will fail if spilling is required.\n",
      "\u001b[2m\u001b[33m(raylet)\u001b[0m [2024-03-06 02:44:15,961 E 467588 467600] (raylet) file_system_monitor.cc:111: /tmp/ray/session_2024-03-06_02-25-53_846650_458634 is over 95% full, available space: 614846394368; capacity: 16125711347712. Object creation will fail if spilling is required.\n",
      "\u001b[2m\u001b[33m(raylet)\u001b[0m [2024-03-06 02:44:25,964 E 467588 467600] (raylet) file_system_monitor.cc:111: /tmp/ray/session_2024-03-06_02-25-53_846650_458634 is over 95% full, available space: 614846394368; capacity: 16125711347712. Object creation will fail if spilling is required.\n",
      "\u001b[2m\u001b[33m(raylet)\u001b[0m [2024-03-06 02:44:35,966 E 467588 467600] (raylet) file_system_monitor.cc:111: /tmp/ray/session_2024-03-06_02-25-53_846650_458634 is over 95% full, available space: 614846390272; capacity: 16125711347712. Object creation will fail if spilling is required.\n",
      "\u001b[2m\u001b[33m(raylet)\u001b[0m [2024-03-06 02:44:45,968 E 467588 467600] (raylet) file_system_monitor.cc:111: /tmp/ray/session_2024-03-06_02-25-53_846650_458634 is over 95% full, available space: 614846386176; capacity: 16125711347712. Object creation will fail if spilling is required.\n",
      "\u001b[2m\u001b[33m(raylet)\u001b[0m [2024-03-06 02:44:55,971 E 467588 467600] (raylet) file_system_monitor.cc:111: /tmp/ray/session_2024-03-06_02-25-53_846650_458634 is over 95% full, available space: 614846357504; capacity: 16125711347712. Object creation will fail if spilling is required.\n",
      "\u001b[2m\u001b[33m(raylet)\u001b[0m [2024-03-06 02:45:05,973 E 467588 467600] (raylet) file_system_monitor.cc:111: /tmp/ray/session_2024-03-06_02-25-53_846650_458634 is over 95% full, available space: 614846353408; capacity: 16125711347712. Object creation will fail if spilling is required.\n",
      "\u001b[2m\u001b[33m(raylet)\u001b[0m [2024-03-06 02:45:15,976 E 467588 467600] (raylet) file_system_monitor.cc:111: /tmp/ray/session_2024-03-06_02-25-53_846650_458634 is over 95% full, available space: 614846353408; capacity: 16125711347712. Object creation will fail if spilling is required.\n",
      "\u001b[2m\u001b[33m(raylet)\u001b[0m [2024-03-06 02:45:25,979 E 467588 467600] (raylet) file_system_monitor.cc:111: /tmp/ray/session_2024-03-06_02-25-53_846650_458634 is over 95% full, available space: 614846349312; capacity: 16125711347712. Object creation will fail if spilling is required.\n",
      "\u001b[2m\u001b[33m(raylet)\u001b[0m [2024-03-06 02:45:35,981 E 467588 467600] (raylet) file_system_monitor.cc:111: /tmp/ray/session_2024-03-06_02-25-53_846650_458634 is over 95% full, available space: 614846349312; capacity: 16125711347712. Object creation will fail if spilling is required.\n",
      "\u001b[2m\u001b[33m(raylet)\u001b[0m [2024-03-06 02:45:45,984 E 467588 467600] (raylet) file_system_monitor.cc:111: /tmp/ray/session_2024-03-06_02-25-53_846650_458634 is over 95% full, available space: 614846341120; capacity: 16125711347712. Object creation will fail if spilling is required.\n",
      "\u001b[2m\u001b[33m(raylet)\u001b[0m [2024-03-06 02:45:55,986 E 467588 467600] (raylet) file_system_monitor.cc:111: /tmp/ray/session_2024-03-06_02-25-53_846650_458634 is over 95% full, available space: 614846312448; capacity: 16125711347712. Object creation will fail if spilling is required.\n",
      "\u001b[2m\u001b[33m(raylet)\u001b[0m [2024-03-06 02:46:05,989 E 467588 467600] (raylet) file_system_monitor.cc:111: /tmp/ray/session_2024-03-06_02-25-53_846650_458634 is over 95% full, available space: 614846181376; capacity: 16125711347712. Object creation will fail if spilling is required.\n",
      "\u001b[2m\u001b[33m(raylet)\u001b[0m [2024-03-06 02:46:15,991 E 467588 467600] (raylet) file_system_monitor.cc:111: /tmp/ray/session_2024-03-06_02-25-53_846650_458634 is over 95% full, available space: 614846173184; capacity: 16125711347712. Object creation will fail if spilling is required.\n",
      "\u001b[2m\u001b[33m(raylet)\u001b[0m [2024-03-06 02:46:25,994 E 467588 467600] (raylet) file_system_monitor.cc:111: /tmp/ray/session_2024-03-06_02-25-53_846650_458634 is over 95% full, available space: 614846173184; capacity: 16125711347712. Object creation will fail if spilling is required.\n",
      "\u001b[2m\u001b[33m(raylet)\u001b[0m [2024-03-06 02:46:35,997 E 467588 467600] (raylet) file_system_monitor.cc:111: /tmp/ray/session_2024-03-06_02-25-53_846650_458634 is over 95% full, available space: 614846173184; capacity: 16125711347712. Object creation will fail if spilling is required.\n",
      "\u001b[2m\u001b[33m(raylet)\u001b[0m [2024-03-06 02:46:45,999 E 467588 467600] (raylet) file_system_monitor.cc:111: /tmp/ray/session_2024-03-06_02-25-53_846650_458634 is over 95% full, available space: 614846169088; capacity: 16125711347712. Object creation will fail if spilling is required.\n",
      "\u001b[2m\u001b[33m(raylet)\u001b[0m [2024-03-06 02:46:56,002 E 467588 467600] (raylet) file_system_monitor.cc:111: /tmp/ray/session_2024-03-06_02-25-53_846650_458634 is over 95% full, available space: 614846144512; capacity: 16125711347712. Object creation will fail if spilling is required.\n",
      "\u001b[2m\u001b[33m(raylet)\u001b[0m [2024-03-06 02:47:06,005 E 467588 467600] (raylet) file_system_monitor.cc:111: /tmp/ray/session_2024-03-06_02-25-53_846650_458634 is over 95% full, available space: 614846140416; capacity: 16125711347712. Object creation will fail if spilling is required.\n",
      "\u001b[2m\u001b[33m(raylet)\u001b[0m [2024-03-06 02:47:16,007 E 467588 467600] (raylet) file_system_monitor.cc:111: /tmp/ray/session_2024-03-06_02-25-53_846650_458634 is over 95% full, available space: 614846132224; capacity: 16125711347712. Object creation will fail if spilling is required.\n",
      "\u001b[2m\u001b[33m(raylet)\u001b[0m [2024-03-06 02:47:26,010 E 467588 467600] (raylet) file_system_monitor.cc:111: /tmp/ray/session_2024-03-06_02-25-53_846650_458634 is over 95% full, available space: 614846128128; capacity: 16125711347712. Object creation will fail if spilling is required.\n",
      "\u001b[2m\u001b[33m(raylet)\u001b[0m [2024-03-06 02:47:36,013 E 467588 467600] (raylet) file_system_monitor.cc:111: /tmp/ray/session_2024-03-06_02-25-53_846650_458634 is over 95% full, available space: 614846124032; capacity: 16125711347712. Object creation will fail if spilling is required.\n",
      "\u001b[2m\u001b[33m(raylet)\u001b[0m [2024-03-06 02:47:46,015 E 467588 467600] (raylet) file_system_monitor.cc:111: /tmp/ray/session_2024-03-06_02-25-53_846650_458634 is over 95% full, available space: 614846124032; capacity: 16125711347712. Object creation will fail if spilling is required.\n",
      "\u001b[2m\u001b[33m(raylet)\u001b[0m [2024-03-06 02:47:56,018 E 467588 467600] (raylet) file_system_monitor.cc:111: /tmp/ray/session_2024-03-06_02-25-53_846650_458634 is over 95% full, available space: 614846099456; capacity: 16125711347712. Object creation will fail if spilling is required.\n",
      "\u001b[2m\u001b[33m(raylet)\u001b[0m [2024-03-06 02:48:06,020 E 467588 467600] (raylet) file_system_monitor.cc:111: /tmp/ray/session_2024-03-06_02-25-53_846650_458634 is over 95% full, available space: 614845960192; capacity: 16125711347712. Object creation will fail if spilling is required.\n",
      "\u001b[2m\u001b[33m(raylet)\u001b[0m [2024-03-06 02:48:16,023 E 467588 467600] (raylet) file_system_monitor.cc:111: /tmp/ray/session_2024-03-06_02-25-53_846650_458634 is over 95% full, available space: 614845960192; capacity: 16125711347712. Object creation will fail if spilling is required.\n",
      "\u001b[2m\u001b[33m(raylet)\u001b[0m [2024-03-06 02:48:26,026 E 467588 467600] (raylet) file_system_monitor.cc:111: /tmp/ray/session_2024-03-06_02-25-53_846650_458634 is over 95% full, available space: 614845960192; capacity: 16125711347712. Object creation will fail if spilling is required.\n",
      "\u001b[2m\u001b[33m(raylet)\u001b[0m [2024-03-06 02:48:36,028 E 467588 467600] (raylet) file_system_monitor.cc:111: /tmp/ray/session_2024-03-06_02-25-53_846650_458634 is over 95% full, available space: 614845956096; capacity: 16125711347712. Object creation will fail if spilling is required.\n",
      "\u001b[2m\u001b[33m(raylet)\u001b[0m [2024-03-06 02:48:46,030 E 467588 467600] (raylet) file_system_monitor.cc:111: /tmp/ray/session_2024-03-06_02-25-53_846650_458634 is over 95% full, available space: 614845947904; capacity: 16125711347712. Object creation will fail if spilling is required.\n",
      "\u001b[2m\u001b[33m(raylet)\u001b[0m [2024-03-06 02:48:56,036 E 467588 467600] (raylet) file_system_monitor.cc:111: /tmp/ray/session_2024-03-06_02-25-53_846650_458634 is over 95% full, available space: 614845919232; capacity: 16125711347712. Object creation will fail if spilling is required.\n",
      "\u001b[2m\u001b[33m(raylet)\u001b[0m [2024-03-06 02:49:06,044 E 467588 467600] (raylet) file_system_monitor.cc:111: /tmp/ray/session_2024-03-06_02-25-53_846650_458634 is over 95% full, available space: 614845919232; capacity: 16125711347712. Object creation will fail if spilling is required.\n",
      "\u001b[2m\u001b[33m(raylet)\u001b[0m [2024-03-06 02:49:16,055 E 467588 467600] (raylet) file_system_monitor.cc:111: /tmp/ray/session_2024-03-06_02-25-53_846650_458634 is over 95% full, available space: 614845919232; capacity: 16125711347712. Object creation will fail if spilling is required.\n",
      "\u001b[2m\u001b[33m(raylet)\u001b[0m [2024-03-06 02:49:26,071 E 467588 467600] (raylet) file_system_monitor.cc:111: /tmp/ray/session_2024-03-06_02-25-53_846650_458634 is over 95% full, available space: 614845911040; capacity: 16125711347712. Object creation will fail if spilling is required.\n",
      "\u001b[2m\u001b[33m(raylet)\u001b[0m [2024-03-06 02:49:36,083 E 467588 467600] (raylet) file_system_monitor.cc:111: /tmp/ray/session_2024-03-06_02-25-53_846650_458634 is over 95% full, available space: 614845911040; capacity: 16125711347712. Object creation will fail if spilling is required.\n",
      "\u001b[2m\u001b[33m(raylet)\u001b[0m [2024-03-06 02:49:46,094 E 467588 467600] (raylet) file_system_monitor.cc:111: /tmp/ray/session_2024-03-06_02-25-53_846650_458634 is over 95% full, available space: 614845911040; capacity: 16125711347712. Object creation will fail if spilling is required.\n",
      "\u001b[2m\u001b[33m(raylet)\u001b[0m [2024-03-06 02:49:56,099 E 467588 467600] (raylet) file_system_monitor.cc:111: /tmp/ray/session_2024-03-06_02-25-53_846650_458634 is over 95% full, available space: 614845792256; capacity: 16125711347712. Object creation will fail if spilling is required.\n",
      "\u001b[2m\u001b[33m(raylet)\u001b[0m [2024-03-06 02:50:06,102 E 467588 467600] (raylet) file_system_monitor.cc:111: /tmp/ray/session_2024-03-06_02-25-53_846650_458634 is over 95% full, available space: 614845743104; capacity: 16125711347712. Object creation will fail if spilling is required.\n",
      "\u001b[2m\u001b[33m(raylet)\u001b[0m [2024-03-06 02:50:16,105 E 467588 467600] (raylet) file_system_monitor.cc:111: /tmp/ray/session_2024-03-06_02-25-53_846650_458634 is over 95% full, available space: 614845734912; capacity: 16125711347712. Object creation will fail if spilling is required.\n",
      "\u001b[2m\u001b[33m(raylet)\u001b[0m [2024-03-06 02:50:26,108 E 467588 467600] (raylet) file_system_monitor.cc:111: /tmp/ray/session_2024-03-06_02-25-53_846650_458634 is over 95% full, available space: 614845734912; capacity: 16125711347712. Object creation will fail if spilling is required.\n",
      "\u001b[2m\u001b[33m(raylet)\u001b[0m [2024-03-06 02:50:36,110 E 467588 467600] (raylet) file_system_monitor.cc:111: /tmp/ray/session_2024-03-06_02-25-53_846650_458634 is over 95% full, available space: 614845734912; capacity: 16125711347712. Object creation will fail if spilling is required.\n",
      "\u001b[2m\u001b[33m(raylet)\u001b[0m [2024-03-06 02:50:46,113 E 467588 467600] (raylet) file_system_monitor.cc:111: /tmp/ray/session_2024-03-06_02-25-53_846650_458634 is over 95% full, available space: 614845730816; capacity: 16125711347712. Object creation will fail if spilling is required.\n",
      "\u001b[2m\u001b[33m(raylet)\u001b[0m [2024-03-06 02:50:56,116 E 467588 467600] (raylet) file_system_monitor.cc:111: /tmp/ray/session_2024-03-06_02-25-53_846650_458634 is over 95% full, available space: 614845702144; capacity: 16125711347712. Object creation will fail if spilling is required.\n",
      "\u001b[2m\u001b[33m(raylet)\u001b[0m [2024-03-06 02:51:06,119 E 467588 467600] (raylet) file_system_monitor.cc:111: /tmp/ray/session_2024-03-06_02-25-53_846650_458634 is over 95% full, available space: 614845698048; capacity: 16125711347712. Object creation will fail if spilling is required.\n",
      "\u001b[2m\u001b[33m(raylet)\u001b[0m [2024-03-06 02:51:16,121 E 467588 467600] (raylet) file_system_monitor.cc:111: /tmp/ray/session_2024-03-06_02-25-53_846650_458634 is over 95% full, available space: 614845693952; capacity: 16125711347712. Object creation will fail if spilling is required.\n",
      "\u001b[2m\u001b[33m(raylet)\u001b[0m [2024-03-06 02:51:26,124 E 467588 467600] (raylet) file_system_monitor.cc:111: /tmp/ray/session_2024-03-06_02-25-53_846650_458634 is over 95% full, available space: 614845693952; capacity: 16125711347712. Object creation will fail if spilling is required.\n",
      "\u001b[2m\u001b[33m(raylet)\u001b[0m [2024-03-06 02:51:36,127 E 467588 467600] (raylet) file_system_monitor.cc:111: /tmp/ray/session_2024-03-06_02-25-53_846650_458634 is over 95% full, available space: 614845689856; capacity: 16125711347712. Object creation will fail if spilling is required.\n",
      "\u001b[2m\u001b[33m(raylet)\u001b[0m [2024-03-06 02:51:46,130 E 467588 467600] (raylet) file_system_monitor.cc:111: /tmp/ray/session_2024-03-06_02-25-53_846650_458634 is over 95% full, available space: 614845685760; capacity: 16125711347712. Object creation will fail if spilling is required.\n",
      "\u001b[2m\u001b[33m(raylet)\u001b[0m [2024-03-06 02:51:56,132 E 467588 467600] (raylet) file_system_monitor.cc:111: /tmp/ray/session_2024-03-06_02-25-53_846650_458634 is over 95% full, available space: 614845554688; capacity: 16125711347712. Object creation will fail if spilling is required.\n",
      "\u001b[2m\u001b[33m(raylet)\u001b[0m [2024-03-06 02:52:06,135 E 467588 467600] (raylet) file_system_monitor.cc:111: /tmp/ray/session_2024-03-06_02-25-53_846650_458634 is over 95% full, available space: 614845521920; capacity: 16125711347712. Object creation will fail if spilling is required.\n",
      "\u001b[2m\u001b[33m(raylet)\u001b[0m [2024-03-06 02:52:16,138 E 467588 467600] (raylet) file_system_monitor.cc:111: /tmp/ray/session_2024-03-06_02-25-53_846650_458634 is over 95% full, available space: 614845521920; capacity: 16125711347712. Object creation will fail if spilling is required.\n",
      "\u001b[2m\u001b[33m(raylet)\u001b[0m [2024-03-06 02:52:26,140 E 467588 467600] (raylet) file_system_monitor.cc:111: /tmp/ray/session_2024-03-06_02-25-53_846650_458634 is over 95% full, available space: 614845517824; capacity: 16125711347712. Object creation will fail if spilling is required.\n",
      "\u001b[2m\u001b[33m(raylet)\u001b[0m [2024-03-06 02:52:36,143 E 467588 467600] (raylet) file_system_monitor.cc:111: /tmp/ray/session_2024-03-06_02-25-53_846650_458634 is over 95% full, available space: 614845513728; capacity: 16125711347712. Object creation will fail if spilling is required.\n",
      "\u001b[2m\u001b[33m(raylet)\u001b[0m [2024-03-06 02:52:46,146 E 467588 467600] (raylet) file_system_monitor.cc:111: /tmp/ray/session_2024-03-06_02-25-53_846650_458634 is over 95% full, available space: 614845509632; capacity: 16125711347712. Object creation will fail if spilling is required.\n",
      "\u001b[2m\u001b[33m(raylet)\u001b[0m [2024-03-06 02:52:56,149 E 467588 467600] (raylet) file_system_monitor.cc:111: /tmp/ray/session_2024-03-06_02-25-53_846650_458634 is over 95% full, available space: 614845485056; capacity: 16125711347712. Object creation will fail if spilling is required.\n",
      "\u001b[2m\u001b[33m(raylet)\u001b[0m [2024-03-06 02:53:06,151 E 467588 467600] (raylet) file_system_monitor.cc:111: /tmp/ray/session_2024-03-06_02-25-53_846650_458634 is over 95% full, available space: 614845480960; capacity: 16125711347712. Object creation will fail if spilling is required.\n",
      "\u001b[2m\u001b[33m(raylet)\u001b[0m [2024-03-06 02:53:16,154 E 467588 467600] (raylet) file_system_monitor.cc:111: /tmp/ray/session_2024-03-06_02-25-53_846650_458634 is over 95% full, available space: 614845476864; capacity: 16125711347712. Object creation will fail if spilling is required.\n",
      "\u001b[2m\u001b[33m(raylet)\u001b[0m [2024-03-06 02:53:26,156 E 467588 467600] (raylet) file_system_monitor.cc:111: /tmp/ray/session_2024-03-06_02-25-53_846650_458634 is over 95% full, available space: 614845472768; capacity: 16125711347712. Object creation will fail if spilling is required.\n",
      "\u001b[2m\u001b[33m(raylet)\u001b[0m [2024-03-06 02:53:36,159 E 467588 467600] (raylet) file_system_monitor.cc:111: /tmp/ray/session_2024-03-06_02-25-53_846650_458634 is over 95% full, available space: 614845472768; capacity: 16125711347712. Object creation will fail if spilling is required.\n",
      "\u001b[2m\u001b[33m(raylet)\u001b[0m [2024-03-06 02:53:46,162 E 467588 467600] (raylet) file_system_monitor.cc:111: /tmp/ray/session_2024-03-06_02-25-53_846650_458634 is over 95% full, available space: 614845472768; capacity: 16125711347712. Object creation will fail if spilling is required.\n",
      "\u001b[2m\u001b[33m(raylet)\u001b[0m [2024-03-06 02:53:56,164 E 467588 467600] (raylet) file_system_monitor.cc:111: /tmp/ray/session_2024-03-06_02-25-53_846650_458634 is over 95% full, available space: 614845321216; capacity: 16125711347712. Object creation will fail if spilling is required.\n",
      "\u001b[2m\u001b[33m(raylet)\u001b[0m [2024-03-06 02:54:06,167 E 467588 467600] (raylet) file_system_monitor.cc:111: /tmp/ray/session_2024-03-06_02-25-53_846650_458634 is over 95% full, available space: 614845300736; capacity: 16125711347712. Object creation will fail if spilling is required.\n",
      "\u001b[2m\u001b[33m(raylet)\u001b[0m [2024-03-06 02:54:16,170 E 467588 467600] (raylet) file_system_monitor.cc:111: /tmp/ray/session_2024-03-06_02-25-53_846650_458634 is over 95% full, available space: 614845300736; capacity: 16125711347712. Object creation will fail if spilling is required.\n",
      "\u001b[2m\u001b[33m(raylet)\u001b[0m [2024-03-06 02:54:26,173 E 467588 467600] (raylet) file_system_monitor.cc:111: /tmp/ray/session_2024-03-06_02-25-53_846650_458634 is over 95% full, available space: 614845296640; capacity: 16125711347712. Object creation will fail if spilling is required.\n",
      "\u001b[2m\u001b[33m(raylet)\u001b[0m [2024-03-06 02:54:36,176 E 467588 467600] (raylet) file_system_monitor.cc:111: /tmp/ray/session_2024-03-06_02-25-53_846650_458634 is over 95% full, available space: 614845296640; capacity: 16125711347712. Object creation will fail if spilling is required.\n",
      "\u001b[2m\u001b[33m(raylet)\u001b[0m [2024-03-06 02:54:46,179 E 467588 467600] (raylet) file_system_monitor.cc:111: /tmp/ray/session_2024-03-06_02-25-53_846650_458634 is over 95% full, available space: 614845288448; capacity: 16125711347712. Object creation will fail if spilling is required.\n",
      "\u001b[2m\u001b[33m(raylet)\u001b[0m [2024-03-06 02:54:56,182 E 467588 467600] (raylet) file_system_monitor.cc:111: /tmp/ray/session_2024-03-06_02-25-53_846650_458634 is over 95% full, available space: 614845145088; capacity: 16125711347712. Object creation will fail if spilling is required.\n",
      "\u001b[2m\u001b[33m(raylet)\u001b[0m [2024-03-06 02:55:06,185 E 467588 467600] (raylet) file_system_monitor.cc:111: /tmp/ray/session_2024-03-06_02-25-53_846650_458634 is over 95% full, available space: 614845128704; capacity: 16125711347712. Object creation will fail if spilling is required.\n",
      "\u001b[2m\u001b[33m(raylet)\u001b[0m [2024-03-06 02:55:16,187 E 467588 467600] (raylet) file_system_monitor.cc:111: /tmp/ray/session_2024-03-06_02-25-53_846650_458634 is over 95% full, available space: 614845124608; capacity: 16125711347712. Object creation will fail if spilling is required.\n",
      "\u001b[2m\u001b[33m(raylet)\u001b[0m [2024-03-06 02:55:26,190 E 467588 467600] (raylet) file_system_monitor.cc:111: /tmp/ray/session_2024-03-06_02-25-53_846650_458634 is over 95% full, available space: 614845120512; capacity: 16125711347712. Object creation will fail if spilling is required.\n",
      "\u001b[2m\u001b[33m(raylet)\u001b[0m [2024-03-06 02:55:36,193 E 467588 467600] (raylet) file_system_monitor.cc:111: /tmp/ray/session_2024-03-06_02-25-53_846650_458634 is over 95% full, available space: 614845116416; capacity: 16125711347712. Object creation will fail if spilling is required.\n",
      "\u001b[2m\u001b[33m(raylet)\u001b[0m [2024-03-06 02:55:46,196 E 467588 467600] (raylet) file_system_monitor.cc:111: /tmp/ray/session_2024-03-06_02-25-53_846650_458634 is over 95% full, available space: 614845112320; capacity: 16125711347712. Object creation will fail if spilling is required.\n",
      "\u001b[2m\u001b[33m(raylet)\u001b[0m [2024-03-06 02:55:56,199 E 467588 467600] (raylet) file_system_monitor.cc:111: /tmp/ray/session_2024-03-06_02-25-53_846650_458634 is over 95% full, available space: 614845091840; capacity: 16125711347712. Object creation will fail if spilling is required.\n",
      "\u001b[2m\u001b[33m(raylet)\u001b[0m [2024-03-06 02:56:06,201 E 467588 467600] (raylet) file_system_monitor.cc:111: /tmp/ray/session_2024-03-06_02-25-53_846650_458634 is over 95% full, available space: 614845087744; capacity: 16125711347712. Object creation will fail if spilling is required.\n",
      "\u001b[2m\u001b[33m(raylet)\u001b[0m [2024-03-06 02:56:16,204 E 467588 467600] (raylet) file_system_monitor.cc:111: /tmp/ray/session_2024-03-06_02-25-53_846650_458634 is over 95% full, available space: 614845079552; capacity: 16125711347712. Object creation will fail if spilling is required.\n",
      "\u001b[2m\u001b[33m(raylet)\u001b[0m [2024-03-06 02:56:26,207 E 467588 467600] (raylet) file_system_monitor.cc:111: /tmp/ray/session_2024-03-06_02-25-53_846650_458634 is over 95% full, available space: 614845079552; capacity: 16125711347712. Object creation will fail if spilling is required.\n",
      "\u001b[2m\u001b[33m(raylet)\u001b[0m [2024-03-06 02:56:36,210 E 467588 467600] (raylet) file_system_monitor.cc:111: /tmp/ray/session_2024-03-06_02-25-53_846650_458634 is over 95% full, available space: 614845075456; capacity: 16125711347712. Object creation will fail if spilling is required.\n",
      "\u001b[2m\u001b[33m(raylet)\u001b[0m [2024-03-06 02:56:46,212 E 467588 467600] (raylet) file_system_monitor.cc:111: /tmp/ray/session_2024-03-06_02-25-53_846650_458634 is over 95% full, available space: 614845075456; capacity: 16125711347712. Object creation will fail if spilling is required.\n",
      "\u001b[2m\u001b[33m(raylet)\u001b[0m [2024-03-06 02:56:56,215 E 467588 467600] (raylet) file_system_monitor.cc:111: /tmp/ray/session_2024-03-06_02-25-53_846650_458634 is over 95% full, available space: 614844923904; capacity: 16125711347712. Object creation will fail if spilling is required.\n",
      "\u001b[2m\u001b[33m(raylet)\u001b[0m [2024-03-06 02:57:06,219 E 467588 467600] (raylet) file_system_monitor.cc:111: /tmp/ray/session_2024-03-06_02-25-53_846650_458634 is over 95% full, available space: 614843904000; capacity: 16125711347712. Object creation will fail if spilling is required.\n",
      "\u001b[2m\u001b[33m(raylet)\u001b[0m [2024-03-06 02:57:16,221 E 467588 467600] (raylet) file_system_monitor.cc:111: /tmp/ray/session_2024-03-06_02-25-53_846650_458634 is over 95% full, available space: 614843875328; capacity: 16125711347712. Object creation will fail if spilling is required.\n",
      "\u001b[2m\u001b[33m(raylet)\u001b[0m [2024-03-06 02:57:26,224 E 467588 467600] (raylet) file_system_monitor.cc:111: /tmp/ray/session_2024-03-06_02-25-53_846650_458634 is over 95% full, available space: 614843846656; capacity: 16125711347712. Object creation will fail if spilling is required.\n",
      "\u001b[2m\u001b[33m(raylet)\u001b[0m [2024-03-06 02:57:36,227 E 467588 467600] (raylet) file_system_monitor.cc:111: /tmp/ray/session_2024-03-06_02-25-53_846650_458634 is over 95% full, available space: 614843846656; capacity: 16125711347712. Object creation will fail if spilling is required.\n",
      "\u001b[2m\u001b[33m(raylet)\u001b[0m [2024-03-06 02:57:46,229 E 467588 467600] (raylet) file_system_monitor.cc:111: /tmp/ray/session_2024-03-06_02-25-53_846650_458634 is over 95% full, available space: 614843842560; capacity: 16125711347712. Object creation will fail if spilling is required.\n",
      "\u001b[2m\u001b[33m(raylet)\u001b[0m [2024-03-06 02:57:56,232 E 467588 467600] (raylet) file_system_monitor.cc:111: /tmp/ray/session_2024-03-06_02-25-53_846650_458634 is over 95% full, available space: 614843813888; capacity: 16125711347712. Object creation will fail if spilling is required.\n",
      "\u001b[2m\u001b[33m(raylet)\u001b[0m [2024-03-06 02:58:06,235 E 467588 467600] (raylet) file_system_monitor.cc:111: /tmp/ray/session_2024-03-06_02-25-53_846650_458634 is over 95% full, available space: 614843801600; capacity: 16125711347712. Object creation will fail if spilling is required.\n",
      "\u001b[2m\u001b[33m(raylet)\u001b[0m [2024-03-06 02:58:16,244 E 467588 467600] (raylet) file_system_monitor.cc:111: /tmp/ray/session_2024-03-06_02-25-53_846650_458634 is over 95% full, available space: 614843801600; capacity: 16125711347712. Object creation will fail if spilling is required.\n",
      "\u001b[2m\u001b[33m(raylet)\u001b[0m [2024-03-06 02:58:26,257 E 467588 467600] (raylet) file_system_monitor.cc:111: /tmp/ray/session_2024-03-06_02-25-53_846650_458634 is over 95% full, available space: 614843789312; capacity: 16125711347712. Object creation will fail if spilling is required.\n",
      "\u001b[2m\u001b[33m(raylet)\u001b[0m [2024-03-06 02:58:36,272 E 467588 467600] (raylet) file_system_monitor.cc:111: /tmp/ray/session_2024-03-06_02-25-53_846650_458634 is over 95% full, available space: 614843789312; capacity: 16125711347712. Object creation will fail if spilling is required.\n",
      "\u001b[2m\u001b[33m(raylet)\u001b[0m [2024-03-06 02:58:46,283 E 467588 467600] (raylet) file_system_monitor.cc:111: /tmp/ray/session_2024-03-06_02-25-53_846650_458634 is over 95% full, available space: 614843781120; capacity: 16125711347712. Object creation will fail if spilling is required.\n",
      "\u001b[2m\u001b[33m(raylet)\u001b[0m [2024-03-06 02:58:56,291 E 467588 467600] (raylet) file_system_monitor.cc:111: /tmp/ray/session_2024-03-06_02-25-53_846650_458634 is over 95% full, available space: 614843609088; capacity: 16125711347712. Object creation will fail if spilling is required.\n",
      "\u001b[2m\u001b[33m(raylet)\u001b[0m [2024-03-06 02:59:06,294 E 467588 467600] (raylet) file_system_monitor.cc:111: /tmp/ray/session_2024-03-06_02-25-53_846650_458634 is over 95% full, available space: 614843609088; capacity: 16125711347712. Object creation will fail if spilling is required.\n",
      "\u001b[2m\u001b[33m(raylet)\u001b[0m [2024-03-06 02:59:16,297 E 467588 467600] (raylet) file_system_monitor.cc:111: /tmp/ray/session_2024-03-06_02-25-53_846650_458634 is over 95% full, available space: 614843592704; capacity: 16125711347712. Object creation will fail if spilling is required.\n",
      "\u001b[2m\u001b[33m(raylet)\u001b[0m [2024-03-06 02:59:26,301 E 467588 467600] (raylet) file_system_monitor.cc:111: /tmp/ray/session_2024-03-06_02-25-53_846650_458634 is over 95% full, available space: 614843322368; capacity: 16125711347712. Object creation will fail if spilling is required.\n",
      "\u001b[2m\u001b[33m(raylet)\u001b[0m [2024-03-06 02:59:36,304 E 467588 467600] (raylet) file_system_monitor.cc:111: /tmp/ray/session_2024-03-06_02-25-53_846650_458634 is over 95% full, available space: 614843256832; capacity: 16125711347712. Object creation will fail if spilling is required.\n",
      "\u001b[2m\u001b[33m(raylet)\u001b[0m [2024-03-06 02:59:46,307 E 467588 467600] (raylet) file_system_monitor.cc:111: /tmp/ray/session_2024-03-06_02-25-53_846650_458634 is over 95% full, available space: 614843252736; capacity: 16125711347712. Object creation will fail if spilling is required.\n",
      "\u001b[2m\u001b[33m(raylet)\u001b[0m [2024-03-06 02:59:56,310 E 467588 467600] (raylet) file_system_monitor.cc:111: /tmp/ray/session_2024-03-06_02-25-53_846650_458634 is over 95% full, available space: 614843224064; capacity: 16125711347712. Object creation will fail if spilling is required.\n",
      "Rendering a scenario: 100%|██████████| 2/2 [00:00<00:00,  7.51it/s]\n"
     ]
    },
    {
     "name": "stdout",
     "output_type": "stream",
     "text": [
      "2024-03-06 03:00:00,824 INFO {/home/ehdykhne/nuplan-devkit/nuplan/planning/nuboard/tabs/scenario_tab.py:485}  Rending scenario plot takes 5.1561 seconds.\n"
     ]
    },
    {
     "name": "stderr",
     "output_type": "stream",
     "text": [
      "\u001b[2m\u001b[33m(raylet)\u001b[0m [2024-03-06 03:00:06,313 E 467588 467600] (raylet) file_system_monitor.cc:111: /tmp/ray/session_2024-03-06_02-25-53_846650_458634 is over 95% full, available space: 614842744832; capacity: 16125711347712. Object creation will fail if spilling is required.\n",
      "\u001b[2m\u001b[33m(raylet)\u001b[0m [2024-03-06 03:00:16,317 E 467588 467600] (raylet) file_system_monitor.cc:111: /tmp/ray/session_2024-03-06_02-25-53_846650_458634 is over 95% full, available space: 614842744832; capacity: 16125711347712. Object creation will fail if spilling is required.\n",
      "\u001b[2m\u001b[33m(raylet)\u001b[0m [2024-03-06 03:00:26,321 E 467588 467600] (raylet) file_system_monitor.cc:111: /tmp/ray/session_2024-03-06_02-25-53_846650_458634 is over 95% full, available space: 614842744832; capacity: 16125711347712. Object creation will fail if spilling is required.\n",
      "\u001b[2m\u001b[33m(raylet)\u001b[0m [2024-03-06 03:00:36,323 E 467588 467600] (raylet) file_system_monitor.cc:111: /tmp/ray/session_2024-03-06_02-25-53_846650_458634 is over 95% full, available space: 614842740736; capacity: 16125711347712. Object creation will fail if spilling is required.\n",
      "\u001b[2m\u001b[33m(raylet)\u001b[0m [2024-03-06 03:00:46,326 E 467588 467600] (raylet) file_system_monitor.cc:111: /tmp/ray/session_2024-03-06_02-25-53_846650_458634 is over 95% full, available space: 614842728448; capacity: 16125711347712. Object creation will fail if spilling is required.\n",
      "\u001b[2m\u001b[33m(raylet)\u001b[0m [2024-03-06 03:00:56,329 E 467588 467600] (raylet) file_system_monitor.cc:111: /tmp/ray/session_2024-03-06_02-25-53_846650_458634 is over 95% full, available space: 614842568704; capacity: 16125711347712. Object creation will fail if spilling is required.\n",
      "Rendering a scenario: 100%|██████████| 2/2 [00:00<00:00,  3.80it/s]\n",
      "\u001b[2m\u001b[33m(raylet)\u001b[0m [2024-03-06 03:01:06,332 E 467588 467600] (raylet) file_system_monitor.cc:111: /tmp/ray/session_2024-03-06_02-25-53_846650_458634 is over 95% full, available space: 614842564608; capacity: 16125711347712. Object creation will fail if spilling is required.\n"
     ]
    },
    {
     "name": "stdout",
     "output_type": "stream",
     "text": [
      "2024-03-06 03:01:06,634 INFO {/home/ehdykhne/nuplan-devkit/nuplan/planning/nuboard/tabs/scenario_tab.py:485}  Rending scenario plot takes 5.0169 seconds.\n"
     ]
    },
    {
     "name": "stderr",
     "output_type": "stream",
     "text": [
      "\u001b[2m\u001b[33m(raylet)\u001b[0m [2024-03-06 03:01:16,335 E 467588 467600] (raylet) file_system_monitor.cc:111: /tmp/ray/session_2024-03-06_02-25-53_846650_458634 is over 95% full, available space: 614842560512; capacity: 16125711347712. Object creation will fail if spilling is required.\n",
      "\u001b[2m\u001b[33m(raylet)\u001b[0m [2024-03-06 03:01:26,338 E 467588 467600] (raylet) file_system_monitor.cc:111: /tmp/ray/session_2024-03-06_02-25-53_846650_458634 is over 95% full, available space: 614842552320; capacity: 16125711347712. Object creation will fail if spilling is required.\n",
      "\u001b[2m\u001b[33m(raylet)\u001b[0m [2024-03-06 03:01:36,341 E 467588 467600] (raylet) file_system_monitor.cc:111: /tmp/ray/session_2024-03-06_02-25-53_846650_458634 is over 95% full, available space: 614842552320; capacity: 16125711347712. Object creation will fail if spilling is required.\n",
      "\u001b[2m\u001b[33m(raylet)\u001b[0m [2024-03-06 03:01:46,343 E 467588 467600] (raylet) file_system_monitor.cc:111: /tmp/ray/session_2024-03-06_02-25-53_846650_458634 is over 95% full, available space: 614842548224; capacity: 16125711347712. Object creation will fail if spilling is required.\n",
      "\u001b[2m\u001b[33m(raylet)\u001b[0m [2024-03-06 03:01:56,346 E 467588 467600] (raylet) file_system_monitor.cc:111: /tmp/ray/session_2024-03-06_02-25-53_846650_458634 is over 95% full, available space: 614842519552; capacity: 16125711347712. Object creation will fail if spilling is required.\n",
      "\u001b[2m\u001b[33m(raylet)\u001b[0m [2024-03-06 03:02:06,349 E 467588 467600] (raylet) file_system_monitor.cc:111: /tmp/ray/session_2024-03-06_02-25-53_846650_458634 is over 95% full, available space: 614842519552; capacity: 16125711347712. Object creation will fail if spilling is required.\n",
      "\u001b[2m\u001b[33m(raylet)\u001b[0m [2024-03-06 03:02:16,351 E 467588 467600] (raylet) file_system_monitor.cc:111: /tmp/ray/session_2024-03-06_02-25-53_846650_458634 is over 95% full, available space: 614842519552; capacity: 16125711347712. Object creation will fail if spilling is required.\n",
      "\u001b[2m\u001b[33m(raylet)\u001b[0m [2024-03-06 03:02:26,353 E 467588 467600] (raylet) file_system_monitor.cc:111: /tmp/ray/session_2024-03-06_02-25-53_846650_458634 is over 95% full, available space: 614842507264; capacity: 16125711347712. Object creation will fail if spilling is required.\n",
      "\u001b[2m\u001b[33m(raylet)\u001b[0m [2024-03-06 03:02:36,356 E 467588 467600] (raylet) file_system_monitor.cc:111: /tmp/ray/session_2024-03-06_02-25-53_846650_458634 is over 95% full, available space: 614842507264; capacity: 16125711347712. Object creation will fail if spilling is required.\n",
      "\u001b[2m\u001b[33m(raylet)\u001b[0m [2024-03-06 03:02:46,359 E 467588 467600] (raylet) file_system_monitor.cc:111: /tmp/ray/session_2024-03-06_02-25-53_846650_458634 is over 95% full, available space: 614842503168; capacity: 16125711347712. Object creation will fail if spilling is required.\n",
      "\u001b[2m\u001b[33m(raylet)\u001b[0m [2024-03-06 03:02:56,361 E 467588 467600] (raylet) file_system_monitor.cc:111: /tmp/ray/session_2024-03-06_02-25-53_846650_458634 is over 95% full, available space: 614842347520; capacity: 16125711347712. Object creation will fail if spilling is required.\n",
      "\u001b[2m\u001b[33m(raylet)\u001b[0m [2024-03-06 03:03:06,364 E 467588 467600] (raylet) file_system_monitor.cc:111: /tmp/ray/session_2024-03-06_02-25-53_846650_458634 is over 95% full, available space: 614842343424; capacity: 16125711347712. Object creation will fail if spilling is required.\n",
      "\u001b[2m\u001b[33m(raylet)\u001b[0m [2024-03-06 03:03:16,366 E 467588 467600] (raylet) file_system_monitor.cc:111: /tmp/ray/session_2024-03-06_02-25-53_846650_458634 is over 95% full, available space: 614842339328; capacity: 16125711347712. Object creation will fail if spilling is required.\n",
      "\u001b[2m\u001b[33m(raylet)\u001b[0m [2024-03-06 03:03:26,369 E 467588 467600] (raylet) file_system_monitor.cc:111: /tmp/ray/session_2024-03-06_02-25-53_846650_458634 is over 95% full, available space: 614842335232; capacity: 16125711347712. Object creation will fail if spilling is required.\n",
      "\u001b[2m\u001b[33m(raylet)\u001b[0m [2024-03-06 03:03:36,371 E 467588 467600] (raylet) file_system_monitor.cc:111: /tmp/ray/session_2024-03-06_02-25-53_846650_458634 is over 95% full, available space: 614842335232; capacity: 16125711347712. Object creation will fail if spilling is required.\n",
      "\u001b[2m\u001b[33m(raylet)\u001b[0m [2024-03-06 03:03:46,374 E 467588 467600] (raylet) file_system_monitor.cc:111: /tmp/ray/session_2024-03-06_02-25-53_846650_458634 is over 95% full, available space: 614842331136; capacity: 16125711347712. Object creation will fail if spilling is required.\n",
      "\u001b[2m\u001b[33m(raylet)\u001b[0m [2024-03-06 03:03:56,377 E 467588 467600] (raylet) file_system_monitor.cc:111: /tmp/ray/session_2024-03-06_02-25-53_846650_458634 is over 95% full, available space: 614842294272; capacity: 16125711347712. Object creation will fail if spilling is required.\n",
      "\u001b[2m\u001b[33m(raylet)\u001b[0m [2024-03-06 03:04:06,380 E 467588 467600] (raylet) file_system_monitor.cc:111: /tmp/ray/session_2024-03-06_02-25-53_846650_458634 is over 95% full, available space: 614842294272; capacity: 16125711347712. Object creation will fail if spilling is required.\n",
      "\u001b[2m\u001b[33m(raylet)\u001b[0m [2024-03-06 03:04:16,382 E 467588 467600] (raylet) file_system_monitor.cc:111: /tmp/ray/session_2024-03-06_02-25-53_846650_458634 is over 95% full, available space: 614842290176; capacity: 16125711347712. Object creation will fail if spilling is required.\n",
      "\u001b[2m\u001b[33m(raylet)\u001b[0m [2024-03-06 03:04:26,385 E 467588 467600] (raylet) file_system_monitor.cc:111: /tmp/ray/session_2024-03-06_02-25-53_846650_458634 is over 95% full, available space: 614842290176; capacity: 16125711347712. Object creation will fail if spilling is required.\n",
      "\u001b[2m\u001b[33m(raylet)\u001b[0m [2024-03-06 03:04:36,387 E 467588 467600] (raylet) file_system_monitor.cc:111: /tmp/ray/session_2024-03-06_02-25-53_846650_458634 is over 95% full, available space: 614842286080; capacity: 16125711347712. Object creation will fail if spilling is required.\n",
      "\u001b[2m\u001b[33m(raylet)\u001b[0m [2024-03-06 03:04:46,390 E 467588 467600] (raylet) file_system_monitor.cc:111: /tmp/ray/session_2024-03-06_02-25-53_846650_458634 is over 95% full, available space: 614842286080; capacity: 16125711347712. Object creation will fail if spilling is required.\n",
      "\u001b[2m\u001b[33m(raylet)\u001b[0m [2024-03-06 03:04:56,392 E 467588 467600] (raylet) file_system_monitor.cc:111: /tmp/ray/session_2024-03-06_02-25-53_846650_458634 is over 95% full, available space: 614842130432; capacity: 16125711347712. Object creation will fail if spilling is required.\n",
      "\u001b[2m\u001b[33m(raylet)\u001b[0m [2024-03-06 03:05:06,395 E 467588 467600] (raylet) file_system_monitor.cc:111: /tmp/ray/session_2024-03-06_02-25-53_846650_458634 is over 95% full, available space: 614842126336; capacity: 16125711347712. Object creation will fail if spilling is required.\n",
      "\u001b[2m\u001b[33m(raylet)\u001b[0m [2024-03-06 03:05:16,397 E 467588 467600] (raylet) file_system_monitor.cc:111: /tmp/ray/session_2024-03-06_02-25-53_846650_458634 is over 95% full, available space: 614842126336; capacity: 16125711347712. Object creation will fail if spilling is required.\n",
      "\u001b[2m\u001b[33m(raylet)\u001b[0m [2024-03-06 03:05:26,400 E 467588 467600] (raylet) file_system_monitor.cc:111: /tmp/ray/session_2024-03-06_02-25-53_846650_458634 is over 95% full, available space: 614842122240; capacity: 16125711347712. Object creation will fail if spilling is required.\n",
      "\u001b[2m\u001b[33m(raylet)\u001b[0m [2024-03-06 03:05:36,403 E 467588 467600] (raylet) file_system_monitor.cc:111: /tmp/ray/session_2024-03-06_02-25-53_846650_458634 is over 95% full, available space: 614842114048; capacity: 16125711347712. Object creation will fail if spilling is required.\n",
      "\u001b[2m\u001b[33m(raylet)\u001b[0m [2024-03-06 03:05:46,406 E 467588 467600] (raylet) file_system_monitor.cc:111: /tmp/ray/session_2024-03-06_02-25-53_846650_458634 is over 95% full, available space: 614842114048; capacity: 16125711347712. Object creation will fail if spilling is required.\n",
      "\u001b[2m\u001b[33m(raylet)\u001b[0m [2024-03-06 03:05:56,408 E 467588 467600] (raylet) file_system_monitor.cc:111: /tmp/ray/session_2024-03-06_02-25-53_846650_458634 is over 95% full, available space: 614842085376; capacity: 16125711347712. Object creation will fail if spilling is required.\n",
      "\u001b[2m\u001b[33m(raylet)\u001b[0m [2024-03-06 03:06:06,411 E 467588 467600] (raylet) file_system_monitor.cc:111: /tmp/ray/session_2024-03-06_02-25-53_846650_458634 is over 95% full, available space: 614842077184; capacity: 16125711347712. Object creation will fail if spilling is required.\n",
      "\u001b[2m\u001b[33m(raylet)\u001b[0m [2024-03-06 03:06:16,413 E 467588 467600] (raylet) file_system_monitor.cc:111: /tmp/ray/session_2024-03-06_02-25-53_846650_458634 is over 95% full, available space: 614842077184; capacity: 16125711347712. Object creation will fail if spilling is required.\n"
     ]
    }
   ],
   "source": [
    "from nuplan.planning.script.run_nuboard import main as main_nuboard\n",
    "\n",
    "# Run nuBoard\n",
    "main_nuboard(cfg)"
   ]
  }
 ],
 "metadata": {
  "kernelspec": {
   "display_name": "Python 3 (ipykernel)",
   "language": "python",
   "name": "python3"
  },
  "language_info": {
   "codemirror_mode": {
    "name": "ipython",
    "version": 3
   },
   "file_extension": ".py",
   "mimetype": "text/x-python",
   "name": "python",
   "nbconvert_exporter": "python",
   "pygments_lexer": "ipython3",
   "version": "3.9.18"
  }
 },
 "nbformat": 4,
 "nbformat_minor": 5
}

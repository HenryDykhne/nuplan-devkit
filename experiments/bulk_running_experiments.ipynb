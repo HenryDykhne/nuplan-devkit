{
 "cells": [
  {
   "cell_type": "code",
   "execution_count": 1,
   "id": "3e31b233",
   "metadata": {
    "scrolled": true
   },
   "outputs": [],
   "source": [
    "import asyncio\n",
    "import itertools\n",
    "import logging\n",
    "import random\n",
    "import nest_asyncio\n",
    "\n",
    "nest_asyncio.apply()  # must be run at the start of every notebook to patch the event loop to allow nesting, eg. so we can run asyncio.run from within a notebook."
   ]
  },
  {
   "cell_type": "code",
   "execution_count": 2,
   "id": "5a4f8ab4",
   "metadata": {
    "scrolled": true
   },
   "outputs": [],
   "source": [
    "import os\n",
    "from pathlib import Path\n",
    "import tempfile\n",
    "\n",
    "from shutil import rmtree\n",
    "from typing import List, Optional, Union"
   ]
  },
  {
   "cell_type": "code",
   "execution_count": 3,
   "metadata": {},
   "outputs": [
    {
     "name": "stdout",
     "output_type": "stream",
     "text": [
      "env: NUPLAN_DATA_ROOT=../../../datasets/nuplan/dataset\n",
      "env: NUPLAN_MAPS_ROOT=../../data/nuplan/maps\n",
      "env: NUPLAN_EXP_ROOT=../../data/nuplan/exp\n",
      "env: NUPLAN_DEVKIT_ROOT=../../nuplan-devkit/\n"
     ]
    },
    {
     "data": {
      "text/plain": [
       "'/home/ehdykhne/nuplan-devkit/experiments'"
      ]
     },
     "execution_count": 3,
     "metadata": {},
     "output_type": "execute_result"
    }
   ],
   "source": [
    "# Adjust your env variables here if nescesary\n",
    "\n",
    "%env NUPLAN_DATA_ROOT=../../../datasets/nuplan/dataset\n",
    "%env NUPLAN_MAPS_ROOT=../../data/nuplan/maps\n",
    "%env NUPLAN_EXP_ROOT=../../data/nuplan/exp\n",
    "%env NUPLAN_DEVKIT_ROOT=../../nuplan-devkit/\n",
    "%pwd"
   ]
  },
  {
   "cell_type": "code",
   "execution_count": 4,
   "id": "64d027e9",
   "metadata": {
    "scrolled": true
   },
   "outputs": [],
   "source": [
    "import hydra\n",
    "import pytorch_lightning as pl\n",
    "from omegaconf import DictConfig, OmegaConf\n",
    "\n",
    "from nuplan.common.utils.s3_utils import is_s3_path\n",
    "from nuplan.planning.script.builders.simulation_builder import build_simulations\n",
    "from nuplan.planning.script.builders.simulation_callback_builder import (\n",
    "    build_callbacks_worker,\n",
    "    build_simulation_callbacks,\n",
    ")\n",
    "from nuplan.planning.script.utils import (\n",
    "    run_runners,\n",
    "    set_default_path,\n",
    "    set_up_common_builder,\n",
    ")\n",
    "from nuplan.planning.simulation.planner.abstract_planner import AbstractPlanner\n",
    "\n",
    "logging.basicConfig(level=logging.INFO)\n",
    "logger = logging.getLogger(__name__)\n",
    "\n",
    "# If set, use the env. variable to overwrite the default dataset and experiment paths\n",
    "set_default_path()\n",
    "\n",
    "# If set, use the env. variable to overwrite the Hydra config\n",
    "CONFIG_PATH = os.getenv(\"NUPLAN_HYDRA_CONFIG_PATH\", \"config/simulation\")\n",
    "\n",
    "if os.environ.get(\"NUPLAN_HYDRA_CONFIG_PATH\") is not None:\n",
    "    CONFIG_PATH = os.path.join(\"../../../../\", CONFIG_PATH)\n",
    "\n",
    "if os.path.basename(CONFIG_PATH) != \"simulation\":\n",
    "    CONFIG_PATH = os.path.join(CONFIG_PATH, \"simulation\")\n",
    "CONFIG_NAME = \"default_simulation\""
   ]
  },
  {
   "cell_type": "code",
   "execution_count": 5,
   "id": "ec762c52",
   "metadata": {
    "scrolled": true
   },
   "outputs": [
    {
     "name": "stdout",
     "output_type": "stream",
     "text": [
      "default_simulation\n",
      "output_folder = \"../../data/nuplan/exp/exp/simulation/open_loop_boxes/2023.12.19.20.05.40\"\n"
     ]
    }
   ],
   "source": [
    "from tutorials.utils.tutorial_utils import construct_simulation_hydra_paths\n",
    "\n",
    "# Location of paths with all simulation configs\n",
    "BASE_CONFIG_PATH = os.path.join(\n",
    "    os.getenv(\"NUPLAN_TUTORIAL_PATH\", \"\"), \"../nuplan/planning/script\"\n",
    ")\n",
    "simulation_hydra_paths = construct_simulation_hydra_paths(BASE_CONFIG_PATH)\n",
    "\n",
    "# Create a temporary directory to store the simulation artifacts\n",
    "\n",
    "\n",
    "scenario_types = [\n",
    "    \"accelerating_at_traffic_light_with_lead\",\n",
    "    \"crossed_by_bike\",\n",
    "    \"crossed_by_vehicle\",\n",
    "    \"on_intersection\",\n",
    "    \"on_stopline_crosswalk\",\n",
    "    \"on_stopline_stop_sign\",\n",
    "    \"on_stopline_traffic_light\",\n",
    "    \"on_traffic_light_intersection\",\n",
    "    \"starting_protected_cross_turn\",\n",
    "    \"starting_protected_noncross_turn\",\n",
    "    \"starting_right_turn\",\n",
    "    \"starting_straight_stop_sign_intersection_traversal\",\n",
    "    \"starting_straight_traffic_light_intersection_traversal\",\n",
    "    \"starting_u_turn\",\n",
    "    \"starting_unprotected_cross_turn\",\n",
    "    \"starting_unprotected_noncross_turn\",\n",
    "    \"stationary_at_crosswalk\",\n",
    "    \"stationary_at_traffic_light_with_lead\",\n",
    "    \"stationary_at_traffic_light_without_lead\",\n",
    "    \"traversing_crosswalk\",\n",
    "    \"traversing_intersection\",\n",
    "    \"traversing_traffic_light_intersection\",\n",
    "]\n",
    "\n",
    "# scenario_types = ['stationary_at_traffic_light_without_lead']\n",
    "\n",
    "scenario_builder = \"val\"  # [nuplan (uses trainval), nuplan_mini, test, val, train_boston, train_pittsburgh, train_singapore]\n",
    "DATASET_PARAMS = [\n",
    "    f\"scenario_builder={scenario_builder}\",\n",
    "    \"scenario_filter=all_scenarios\",  # [all_scenarios, val14_split]\n",
    "    f\"scenario_filter.scenario_types={scenario_types}\",  # there are 70 scenario types in the trainingset and 58 in the validation set including \"unknown\" which make up the majority\n",
    "    \"scenario_filter.ego_displacement_minimum_m=10\",  # use scenarios where the ego vehicle moves at least 10m\n",
    "    #    'scenario_filter.remove_invalid_goals=true',  # remove scenarios where the goal is not invalid\n",
    "    #    'scenario_filter.ego_start_speed_threshold=5',  # Exclusive threshold that the ego's speed must rise above (meters per second) for scenario to be kept\n",
    "    #    'scenario_filter.stop_speed_threshold=10',  # Inclusive threshold that the ego's speed must fall below (meters per second) for scenario to be kept:\n",
    "    \"scenario_filter.map_names=[us-ma-boston]\",  # [sg-one-north, us-ma-boston, us-pa-pittsburgh-hazelwood, us-nv-las-vegas-strip]\n",
    "    # \"scenario_filter.num_scenarios_per_type=200\",  # use 10 scenarios per scenario type\n",
    "    #     'scenario_filter.log_names=['2021.06.14.16.48.02_veh-12_04057_04438']', # specific scenrios to simulate\n",
    "    \"scenario_filter.limit_total_scenarios=0.05\",  # use n total scenarios if int, or if float smaller than 1, use n as a fraction of total scenarios (changes sampling frequency, unchanged leaves the frequency at 20Hz)\n",
    "]\n",
    "ckpt_dir = \"/home/ehdykhne/nuplan-devkit/experiments/pretrained_checkpoints/pdm_offset_checkpoint.ckpt\"\n",
    "#'/home/ehdykhne/nuplan-devkit/experiments/pretrained_checkpoints/urbandriver_checkpoint.ckpt'\n",
    "#'/home/ehdykhne/Repos/nuplan-devkit/experiments/pretrained_checkpoints/urbandriver_checkpoint.ckpt'\n",
    "# Initialize configuration management system\n",
    "hydra.core.global_hydra.GlobalHydra.instance().clear()  # reinitialize hydra if already initialized\n",
    "hydra.initialize(config_path=simulation_hydra_paths.config_path)\n",
    "\n",
    "# Compose the configuration\n",
    "print(simulation_hydra_paths.config_name)\n",
    "cfg = hydra.compose(\n",
    "    config_name=simulation_hydra_paths.config_name,\n",
    "    overrides=[\n",
    "        \"+simulation=open_loop_boxes\",  # [open_loop_boxes, closed_loop_nonreactive_agents, closed_loop_reactive_agents]\n",
    "        #'model=gc_pgp_model',\n",
    "        #'model.aggregator.pre_train=false',\n",
    "        # 'planner=pdm_hybrid_planner',\n",
    "        # f\"planner.pdm_hybrid_planner.checkpoint_path={ckpt_dir}\" ,\n",
    "        \"planner=log_future_planner\",  # [ml_planner, pdm_hybrid_planner, gc_pgp_planner, idm_planner, log_future_planner, simple_planner]\n",
    "        #'model=urban_driver_open_loop_model',\n",
    "        \"ego_controller=perfect_tracking_controller\",\n",
    "        #'planner.ml_planner.model_config=${model}',\n",
    "        # f'planner.ml_planner.checkpoint_path={obs_ckpt_dir}',\n",
    "        # f'observation=idm_agents_observation',\n",
    "        #'observation.model_config=${model}',\n",
    "        # f'observation.checkpoint_path={ckpt_dir}',\n",
    "        \"worker=ray_distributed\",  # [sequential, ray_distributed]\n",
    "        \"+occlusion=true\",  # [true, false]\n",
    "        \"+occlusion.manager_type=wedge\",  # options: [range, shadow, wedge]\n",
    "        # \"hydra.searchpath=[pkg://tuplan_garage.planning.script.config.common, pkg://tuplan_garage.planning.script.config.simulation, pkg://nuplan.planning.script.config.common, pkg://nuplan.planning.script.experiments]\",\n",
    "        *DATASET_PARAMS,\n",
    "    ],\n",
    ")\n",
    "\n",
    "output_folder = cfg.output_dir\n",
    "print('output_folder = \"' + output_folder + '\"')\n",
    "# output folders for runs:\n",
    "# closed_loop_reactive_agents, wedge occlusions, urban_planner\n",
    "# output_folder = \"../../data/nuplan/exp/exp/simulation/closed_loop_reactive_agents/2023.12.09.21.59.48\"\n",
    "# overall score: 0.5041, ego_at_fault_collisions: 363\n",
    "\n",
    "# closed_loop_reactive_agents, occlusions = False, urban_planner\n",
    "# output_folder = \"../../data/nuplan/exp/exp/simulation/closed_loop_reactive_agents/2023.12.09.23.21.13\"\n",
    "# overall score: 0.5041, ego_at_fault_collisions: 357\n",
    "\n",
    "# closed_loop_nonreactive_agents, occlusions = False, urban_planner\n",
    "# output_folder = \"../../data/nuplan/exp/exp/simulation/closed_loop_nonreactive_agents/2023.12.10.02.01.14\"\n",
    "# output_folder = \"../../data/nuplan/exp/exp/simulation/closed_loop_nonreactive_agents/2023.12.10.07.32.41\"\n",
    "# overall score: , ego_at_fault_collisions:\n",
    "\n",
    "# closed_loop_nonreactive_agents, wedge occlusions, urban_planner\n",
    "# output_folder = \"../../data/nuplan/exp/exp/simulation/closed_loop_nonreactive_agents/2023.12.10.08.29.23\"\n",
    "# overall score: , ego_at_fault_collisions:\n",
    "\n",
    "# closed_loop_reactive_agents, wedge occlusions, gc_pgp\n",
    "# output_folder = \"../../data/nuplan/exp/exp/simulation/closed_loop_reactive_agents/2023.12.10.09.31.44\"\n",
    "# overall score: , ego_at_fault_collisions:\n",
    "\n",
    "# 'closed_loop_reactive_agents, occlusions = False, gc_pgp'\n",
    "# output_folder = \"../../data/nuplan/exp/exp/simulation/closed_loop_reactive_agents/2023.12.11.00.41.30\"\n",
    "\n",
    "# 'closed_loop_reactive_agents, occlusions = False, pdm_hybrid'\n",
    "# output_folder = \"../../data/nuplan/exp/exp/simulation/closed_loop_reactive_agents/2023.12.13.12.21.28\"\n",
    "\n",
    "# 'closed_loop_reactive_agents,  wedge occlusions, pdm_hybrid'\n",
    "# output_folder = \"../../data/nuplan/exp/exp/simulation/closed_loop_reactive_agents/2023.12.13.13.07.48\""
   ]
  },
  {
   "cell_type": "markdown",
   "id": "1c215b7f",
   "metadata": {},
   "source": [
    "# Now we can run with the following"
   ]
  },
  {
   "cell_type": "code",
   "execution_count": 6,
   "id": "c221b637",
   "metadata": {
    "scrolled": false
   },
   "outputs": [
    {
     "name": "stderr",
     "output_type": "stream",
     "text": [
      "Global seed set to 0\n",
      "INFO:nuplan.planning.script.builders.main_callback_builder:Building MultiMainCallback...\n",
      "INFO:nuplan.planning.script.builders.main_callback_builder:Building MultiMainCallback: 4...DONE!\n"
     ]
    },
    {
     "name": "stdout",
     "output_type": "stream",
     "text": [
      "2023-12-19 20:05:40,564 INFO {/home/ehdykhne/nuplan-devkit/nuplan/planning/script/builders/worker_pool_builder.py:19}  Building WorkerPool...\n",
      "2023-12-19 20:05:40,615 INFO {/home/ehdykhne/nuplan-devkit/nuplan/planning/utils/multithreading/worker_ray.py:78}  Starting ray local!\n"
     ]
    },
    {
     "name": "stderr",
     "output_type": "stream",
     "text": [
      "2023-12-19 20:05:42,229\tINFO worker.py:1636 -- Started a local Ray instance.\n"
     ]
    },
    {
     "name": "stdout",
     "output_type": "stream",
     "text": [
      "2023-12-19 20:05:42,875 INFO {/home/ehdykhne/nuplan-devkit/nuplan/planning/utils/multithreading/worker_pool.py:101}  Worker: RayDistributed\n",
      "2023-12-19 20:05:42,875 INFO {/home/ehdykhne/nuplan-devkit/nuplan/planning/utils/multithreading/worker_pool.py:102}  Number of nodes: 1\n",
      "Number of CPUs per node: 32\n",
      "Number of GPUs per node: 4\n",
      "Number of threads across all nodes: 32\n",
      "2023-12-19 20:05:42,875 INFO {/home/ehdykhne/nuplan-devkit/nuplan/planning/script/builders/worker_pool_builder.py:27}  Building WorkerPool...DONE!\n",
      "2023-12-19 20:05:42,875 INFO {/home/ehdykhne/nuplan-devkit/nuplan/planning/script/builders/folder_builder.py:32}  Building experiment folders...\n",
      "2023-12-19 20:05:42,875 INFO {/home/ehdykhne/nuplan-devkit/nuplan/planning/script/builders/folder_builder.py:35}  \n",
      "\n",
      "\tFolder where all results are stored: ../../data/nuplan/exp/exp/simulation/open_loop_boxes/2023.12.19.20.05.40\n",
      "\n",
      "2023-12-19 20:05:42,886 INFO {/home/ehdykhne/nuplan-devkit/nuplan/planning/script/builders/folder_builder.py:70}  Building experiment folders...DONE!\n",
      "2023-12-19 20:05:42,886 INFO {/home/ehdykhne/nuplan-devkit/nuplan/planning/script/builders/simulation_callback_builder.py:52}  Building AbstractCallback...\n",
      "2023-12-19 20:05:42,886 INFO {/home/ehdykhne/nuplan-devkit/nuplan/planning/script/builders/simulation_callback_builder.py:68}  Building AbstractCallback: 0...DONE!\n",
      "2023-12-19 20:05:42,886 INFO {/home/ehdykhne/nuplan-devkit/nuplan/planning/script/builders/simulation_builder.py:49}  Building simulations...\n",
      "2023-12-19 20:05:42,886 INFO {/home/ehdykhne/nuplan-devkit/nuplan/planning/script/builders/simulation_builder.py:55}  Extracting scenarios...\n",
      "2023-12-19 20:05:42,886 INFO {/home/ehdykhne/nuplan-devkit/nuplan/common/utils/distributed_scenario_filter.py:83}  Building Scenarios in mode DistributedMode.SINGLE_NODE\n",
      "2023-12-19 20:05:42,887 INFO {/home/ehdykhne/nuplan-devkit/nuplan/planning/script/builders/scenario_building_builder.py:18}  Building AbstractScenarioBuilder...\n",
      "2023-12-19 20:05:42,904 INFO {/home/ehdykhne/nuplan-devkit/nuplan/planning/script/builders/scenario_building_builder.py:21}  Building AbstractScenarioBuilder...DONE!\n",
      "2023-12-19 20:05:42,904 INFO {/home/ehdykhne/nuplan-devkit/nuplan/planning/script/builders/scenario_filter_builder.py:35}  Building ScenarioFilter...\n",
      "2023-12-19 20:05:42,906 INFO {/home/ehdykhne/nuplan-devkit/nuplan/planning/script/builders/scenario_filter_builder.py:44}  Building ScenarioFilter...DONE!\n"
     ]
    },
    {
     "name": "stderr",
     "output_type": "stream",
     "text": [
      "Ray objects: 100%|██████████| 32/32 [00:03<00:00, 10.56it/s]\n"
     ]
    },
    {
     "name": "stdout",
     "output_type": "stream",
     "text": [
      "2023-12-19 20:05:46,057 INFO {/home/ehdykhne/nuplan-devkit/nuplan/planning/script/builders/simulation_builder.py:76}  Building metric engines...\n",
      "2023-12-19 20:05:46,210 INFO {/home/ehdykhne/nuplan-devkit/nuplan/planning/script/builders/simulation_builder.py:78}  Building metric engines...DONE\n",
      "2023-12-19 20:05:46,211 INFO {/home/ehdykhne/nuplan-devkit/nuplan/planning/script/builders/simulation_builder.py:82}  Building simulations from 7411 scenarios...\n",
      "2023-12-19 20:06:13,674 INFO {/home/ehdykhne/nuplan-devkit/nuplan/planning/script/builders/simulation_builder.py:142}  Building simulations...DONE!\n",
      "2023-12-19 20:06:13,674 INFO {/home/ehdykhne/nuplan-devkit/nuplan/planning/script/run_simulation.py:114}  Running simulation...\n",
      "2023-12-19 20:06:13,674 INFO {/home/ehdykhne/nuplan-devkit/nuplan/planning/script/utils.py:138}  Executing runners...\n",
      "2023-12-19 20:06:13,674 INFO {/home/ehdykhne/nuplan-devkit/nuplan/planning/simulation/runner/executor.py:82}  Starting 7411 simulations using RayDistributed!\n"
     ]
    },
    {
     "name": "stderr",
     "output_type": "stream",
     "text": [
      "Ray objects:   0%|          | 0/7411 [00:04<?, ?it/s]\n"
     ]
    },
    {
     "name": "stdout",
     "output_type": "stream",
     "text": [
      "\u001b[2m\u001b[36m(wrapped_fn pid=87500)\u001b[0m 150 9 0.1000361442565918\n"
     ]
    },
    {
     "ename": "KeyboardInterrupt",
     "evalue": "",
     "output_type": "error",
     "traceback": [
      "\u001b[0;31m---------------------------------------------------------------------------\u001b[0m",
      "\u001b[0;31mKeyboardInterrupt\u001b[0m                         Traceback (most recent call last)",
      "\u001b[1;32m/home/ehdykhne/nuplan-devkit/experiments/bulk_running_experiments.ipynb Cell 7\u001b[0m line \u001b[0;36m4\n\u001b[1;32m      <a href='vscode-notebook-cell://ssh-remote%2Bwisedave.eng.uwaterloo.ca/home/ehdykhne/nuplan-devkit/experiments/bulk_running_experiments.ipynb#W6sdnNjb2RlLXJlbW90ZQ%3D%3D?line=0'>1</a>\u001b[0m \u001b[39mfrom\u001b[39;00m \u001b[39mnuplan\u001b[39;00m\u001b[39m.\u001b[39;00m\u001b[39mplanning\u001b[39;00m\u001b[39m.\u001b[39;00m\u001b[39mscript\u001b[39;00m\u001b[39m.\u001b[39;00m\u001b[39mrun_simulation\u001b[39;00m \u001b[39mimport\u001b[39;00m main \u001b[39mas\u001b[39;00m main_simulation\n\u001b[1;32m      <a href='vscode-notebook-cell://ssh-remote%2Bwisedave.eng.uwaterloo.ca/home/ehdykhne/nuplan-devkit/experiments/bulk_running_experiments.ipynb#W6sdnNjb2RlLXJlbW90ZQ%3D%3D?line=2'>3</a>\u001b[0m \u001b[39m# Run the simulation loop (real-time visualization not yet supported, see next section for visualization)\u001b[39;00m\n\u001b[0;32m----> <a href='vscode-notebook-cell://ssh-remote%2Bwisedave.eng.uwaterloo.ca/home/ehdykhne/nuplan-devkit/experiments/bulk_running_experiments.ipynb#W6sdnNjb2RlLXJlbW90ZQ%3D%3D?line=3'>4</a>\u001b[0m main_simulation(cfg)\n",
      "File \u001b[0;32m~/miniconda3/envs/nuplan/lib/python3.9/site-packages/hydra/main.py:44\u001b[0m, in \u001b[0;36mmain.<locals>.main_decorator.<locals>.decorated_main\u001b[0;34m(cfg_passthrough)\u001b[0m\n\u001b[1;32m     41\u001b[0m \u001b[39m@functools\u001b[39m\u001b[39m.\u001b[39mwraps(task_function)\n\u001b[1;32m     42\u001b[0m \u001b[39mdef\u001b[39;00m \u001b[39mdecorated_main\u001b[39m(cfg_passthrough: Optional[DictConfig] \u001b[39m=\u001b[39m \u001b[39mNone\u001b[39;00m) \u001b[39m-\u001b[39m\u001b[39m>\u001b[39m Any:\n\u001b[1;32m     43\u001b[0m     \u001b[39mif\u001b[39;00m cfg_passthrough \u001b[39mis\u001b[39;00m \u001b[39mnot\u001b[39;00m \u001b[39mNone\u001b[39;00m:\n\u001b[0;32m---> 44\u001b[0m         \u001b[39mreturn\u001b[39;00m task_function(cfg_passthrough)\n\u001b[1;32m     45\u001b[0m     \u001b[39melse\u001b[39;00m:\n\u001b[1;32m     46\u001b[0m         args \u001b[39m=\u001b[39m get_args_parser()\n",
      "File \u001b[0;32m~/nuplan-devkit/nuplan/planning/script/run_simulation.py:146\u001b[0m, in \u001b[0;36mmain\u001b[0;34m(cfg)\u001b[0m\n\u001b[1;32m    143\u001b[0m \u001b[39massert\u001b[39;00m cfg\u001b[39m.\u001b[39msimulation_log_main_path \u001b[39mis\u001b[39;00m \u001b[39mNone\u001b[39;00m, \u001b[39m'\u001b[39m\u001b[39mSimulation_log_main_path must not be set when running simulation.\u001b[39m\u001b[39m'\u001b[39m\n\u001b[1;32m    145\u001b[0m \u001b[39m# Execute simulation with preconfigured planner(s).\u001b[39;00m\n\u001b[0;32m--> 146\u001b[0m run_simulation(cfg\u001b[39m=\u001b[39;49mcfg)\n\u001b[1;32m    148\u001b[0m \u001b[39mif\u001b[39;00m is_s3_path(Path(cfg\u001b[39m.\u001b[39moutput_dir)):\n\u001b[1;32m    149\u001b[0m     clean_up_s3_artifacts()\n",
      "File \u001b[0;32m~/nuplan-devkit/nuplan/planning/script/run_simulation.py:115\u001b[0m, in \u001b[0;36mrun_simulation\u001b[0;34m(cfg, planners)\u001b[0m\n\u001b[1;32m    112\u001b[0m     common_builder\u001b[39m.\u001b[39mprofiler\u001b[39m.\u001b[39msave_profiler(profiler_name)\n\u001b[1;32m    114\u001b[0m logger\u001b[39m.\u001b[39minfo(\u001b[39m'\u001b[39m\u001b[39mRunning simulation...\u001b[39m\u001b[39m'\u001b[39m)\n\u001b[0;32m--> 115\u001b[0m run_runners(runners\u001b[39m=\u001b[39;49mrunners, common_builder\u001b[39m=\u001b[39;49mcommon_builder, cfg\u001b[39m=\u001b[39;49mcfg, profiler_name\u001b[39m=\u001b[39;49m\u001b[39m'\u001b[39;49m\u001b[39mrunning_simulation\u001b[39;49m\u001b[39m'\u001b[39;49m)\n\u001b[1;32m    116\u001b[0m logger\u001b[39m.\u001b[39minfo(\u001b[39m'\u001b[39m\u001b[39mFinished running simulation!\u001b[39m\u001b[39m'\u001b[39m)\n",
      "File \u001b[0;32m~/nuplan-devkit/nuplan/planning/script/utils.py:139\u001b[0m, in \u001b[0;36mrun_runners\u001b[0;34m(runners, common_builder, profiler_name, cfg)\u001b[0m\n\u001b[1;32m    136\u001b[0m     common_builder\u001b[39m.\u001b[39mprofiler\u001b[39m.\u001b[39mstart_profiler(profiler_name)\n\u001b[1;32m    138\u001b[0m logger\u001b[39m.\u001b[39minfo(\u001b[39m'\u001b[39m\u001b[39mExecuting runners...\u001b[39m\u001b[39m'\u001b[39m)\n\u001b[0;32m--> 139\u001b[0m reports \u001b[39m=\u001b[39m execute_runners(\n\u001b[1;32m    140\u001b[0m     runners\u001b[39m=\u001b[39;49mrunners,\n\u001b[1;32m    141\u001b[0m     worker\u001b[39m=\u001b[39;49mcommon_builder\u001b[39m.\u001b[39;49mworker,\n\u001b[1;32m    142\u001b[0m     num_gpus\u001b[39m=\u001b[39;49mcfg\u001b[39m.\u001b[39;49mnumber_of_gpus_allocated_per_simulation,\n\u001b[1;32m    143\u001b[0m     num_cpus\u001b[39m=\u001b[39;49mcfg\u001b[39m.\u001b[39;49mnumber_of_cpus_allocated_per_simulation,\n\u001b[1;32m    144\u001b[0m     exit_on_failure\u001b[39m=\u001b[39;49mcfg\u001b[39m.\u001b[39;49mexit_on_failure,\n\u001b[1;32m    145\u001b[0m     verbose\u001b[39m=\u001b[39;49mcfg\u001b[39m.\u001b[39;49mverbose,\n\u001b[1;32m    146\u001b[0m )\n\u001b[1;32m    147\u001b[0m logger\u001b[39m.\u001b[39minfo(\u001b[39m'\u001b[39m\u001b[39mFinished executing runners!\u001b[39m\u001b[39m'\u001b[39m)\n\u001b[1;32m    149\u001b[0m \u001b[39m# Save RunnerReports as parquet file\u001b[39;00m\n",
      "File \u001b[0;32m~/nuplan-devkit/nuplan/planning/simulation/runner/executor.py:83\u001b[0m, in \u001b[0;36mexecute_runners\u001b[0;34m(runners, worker, num_gpus, num_cpus, exit_on_failure, verbose)\u001b[0m\n\u001b[1;32m     81\u001b[0m number_of_sims \u001b[39m=\u001b[39m \u001b[39mlen\u001b[39m(runners)\n\u001b[1;32m     82\u001b[0m logger\u001b[39m.\u001b[39minfo(\u001b[39mf\u001b[39m\u001b[39m\"\u001b[39m\u001b[39mStarting \u001b[39m\u001b[39m{\u001b[39;00mnumber_of_sims\u001b[39m}\u001b[39;00m\u001b[39m simulations using \u001b[39m\u001b[39m{\u001b[39;00mworker\u001b[39m.\u001b[39m\u001b[39m__class__\u001b[39m\u001b[39m.\u001b[39m\u001b[39m__name__\u001b[39m\u001b[39m}\u001b[39;00m\u001b[39m!\u001b[39m\u001b[39m\"\u001b[39m)\n\u001b[0;32m---> 83\u001b[0m reports: List[RunnerReport] \u001b[39m=\u001b[39m worker\u001b[39m.\u001b[39;49mmap(\n\u001b[1;32m     84\u001b[0m     Task(fn\u001b[39m=\u001b[39;49mrun_simulation, num_gpus\u001b[39m=\u001b[39;49mnum_gpus, num_cpus\u001b[39m=\u001b[39;49mnum_cpus), runners, exit_on_failure, verbose\u001b[39m=\u001b[39;49mverbose\n\u001b[1;32m     85\u001b[0m )\n\u001b[1;32m     86\u001b[0m \u001b[39m# Store the results in a dictionary so we can easily store error tracebacks in the next step, if needed\u001b[39;00m\n\u001b[1;32m     87\u001b[0m results: Dict[Tuple[\u001b[39mstr\u001b[39m, \u001b[39mstr\u001b[39m, \u001b[39mstr\u001b[39m], RunnerReport] \u001b[39m=\u001b[39m {\n\u001b[1;32m     88\u001b[0m     (report\u001b[39m.\u001b[39mscenario_name, report\u001b[39m.\u001b[39mplanner_name, report\u001b[39m.\u001b[39mlog_name): report \u001b[39mfor\u001b[39;00m report \u001b[39min\u001b[39;00m reports\n\u001b[1;32m     89\u001b[0m }\n",
      "File \u001b[0;32m~/nuplan-devkit/nuplan/planning/utils/multithreading/worker_pool.py:117\u001b[0m, in \u001b[0;36mWorkerPool.map\u001b[0;34m(self, task, verbose, *item_lists)\u001b[0m\n\u001b[1;32m    115\u001b[0m \u001b[39mif\u001b[39;00m verbose:\n\u001b[1;32m    116\u001b[0m     logger\u001b[39m.\u001b[39minfo(\u001b[39mf\u001b[39m\u001b[39m'\u001b[39m\u001b[39mSubmitting \u001b[39m\u001b[39m{\u001b[39;00mmax_size\u001b[39m}\u001b[39;00m\u001b[39m tasks!\u001b[39m\u001b[39m'\u001b[39m)\n\u001b[0;32m--> 117\u001b[0m \u001b[39mreturn\u001b[39;00m \u001b[39mself\u001b[39;49m\u001b[39m.\u001b[39;49m_map(task, \u001b[39m*\u001b[39;49maligned_item_lists, verbose\u001b[39m=\u001b[39;49mverbose)\n",
      "File \u001b[0;32m~/nuplan-devkit/nuplan/planning/utils/multithreading/worker_ray.py:155\u001b[0m, in \u001b[0;36mRayDistributed._map\u001b[0;34m(***failed resolving arguments***)\u001b[0m\n\u001b[1;32m    153\u001b[0m \u001b[39m\u001b[39m\u001b[39m\"\"\"Inherited, see superclass.\"\"\"\u001b[39;00m\n\u001b[1;32m    154\u001b[0m \u001b[39mdel\u001b[39;00m verbose\n\u001b[0;32m--> 155\u001b[0m \u001b[39mreturn\u001b[39;00m ray_map(task, \u001b[39m*\u001b[39;49mitem_lists, log_dir\u001b[39m=\u001b[39;49m\u001b[39mself\u001b[39;49m\u001b[39m.\u001b[39;49m_log_dir)\n",
      "File \u001b[0;32m~/nuplan-devkit/nuplan/planning/utils/multithreading/ray_execution.py:117\u001b[0m, in \u001b[0;36mray_map\u001b[0;34m(task, log_dir, *item_lists)\u001b[0m\n\u001b[1;32m    109\u001b[0m \u001b[39m\u001b[39m\u001b[39m\"\"\"\u001b[39;00m\n\u001b[1;32m    110\u001b[0m \u001b[39mInitialize ray, align item lists and map each item of a list of arguments to a callable and executes in parallel.\u001b[39;00m\n\u001b[1;32m    111\u001b[0m \u001b[39m:param task: callable to be run\u001b[39;00m\n\u001b[0;32m   (...)\u001b[0m\n\u001b[1;32m    114\u001b[0m \u001b[39m:return: list of outputs\u001b[39;00m\n\u001b[1;32m    115\u001b[0m \u001b[39m\"\"\"\u001b[39;00m\n\u001b[1;32m    116\u001b[0m \u001b[39mtry\u001b[39;00m:\n\u001b[0;32m--> 117\u001b[0m     results \u001b[39m=\u001b[39m _ray_map_items(task, \u001b[39m*\u001b[39;49mitem_lists, log_dir\u001b[39m=\u001b[39;49mlog_dir)\n\u001b[1;32m    118\u001b[0m     \u001b[39mreturn\u001b[39;00m results\n\u001b[1;32m    119\u001b[0m \u001b[39mexcept\u001b[39;00m (RayTaskError, \u001b[39mException\u001b[39;00m) \u001b[39mas\u001b[39;00m exc:\n",
      "File \u001b[0;32m~/nuplan-devkit/nuplan/planning/utils/multithreading/ray_execution.py:100\u001b[0m, in \u001b[0;36m_ray_map_items\u001b[0;34m(task, log_dir, *item_lists)\u001b[0m\n\u001b[1;32m     97\u001b[0m object_result_map \u001b[39m=\u001b[39m \u001b[39mdict\u001b[39m\u001b[39m.\u001b[39mfromkeys(object_ids, \u001b[39mNone\u001b[39;00m)\n\u001b[1;32m     99\u001b[0m \u001b[39m# Asynchronously iterate through the object and track progress\u001b[39;00m\n\u001b[0;32m--> 100\u001b[0m \u001b[39mfor\u001b[39;00m object_id, output \u001b[39min\u001b[39;00m tqdm(_ray_object_iterator(object_ids), total\u001b[39m=\u001b[39m\u001b[39mlen\u001b[39m(object_ids), desc\u001b[39m=\u001b[39m\u001b[39m'\u001b[39m\u001b[39mRay objects\u001b[39m\u001b[39m'\u001b[39m):\n\u001b[1;32m    101\u001b[0m     object_result_map[object_id] \u001b[39m=\u001b[39m output\n\u001b[1;32m    103\u001b[0m results \u001b[39m=\u001b[39m \u001b[39mlist\u001b[39m(object_result_map\u001b[39m.\u001b[39mvalues())\n",
      "File \u001b[0;32m~/miniconda3/envs/nuplan/lib/python3.9/site-packages/tqdm/std.py:1182\u001b[0m, in \u001b[0;36mtqdm.__iter__\u001b[0;34m(self)\u001b[0m\n\u001b[1;32m   1179\u001b[0m time \u001b[39m=\u001b[39m \u001b[39mself\u001b[39m\u001b[39m.\u001b[39m_time\n\u001b[1;32m   1181\u001b[0m \u001b[39mtry\u001b[39;00m:\n\u001b[0;32m-> 1182\u001b[0m     \u001b[39mfor\u001b[39;00m obj \u001b[39min\u001b[39;00m iterable:\n\u001b[1;32m   1183\u001b[0m         \u001b[39myield\u001b[39;00m obj\n\u001b[1;32m   1184\u001b[0m         \u001b[39m# Update and possibly print the progressbar.\u001b[39;00m\n\u001b[1;32m   1185\u001b[0m         \u001b[39m# Note: does not call self.update(1) for speed optimisation.\u001b[39;00m\n",
      "File \u001b[0;32m~/nuplan-devkit/nuplan/planning/utils/multithreading/ray_execution.py:25\u001b[0m, in \u001b[0;36m_ray_object_iterator\u001b[0;34m(initial_ids)\u001b[0m\n\u001b[1;32m     22\u001b[0m next_ids \u001b[39m=\u001b[39m initial_ids\n\u001b[1;32m     24\u001b[0m \u001b[39mwhile\u001b[39;00m next_ids:\n\u001b[0;32m---> 25\u001b[0m     ready_ids, not_ready_ids \u001b[39m=\u001b[39m ray\u001b[39m.\u001b[39;49mwait(next_ids)\n\u001b[1;32m     26\u001b[0m     next_id \u001b[39m=\u001b[39m ready_ids[\u001b[39m0\u001b[39m]\n\u001b[1;32m     28\u001b[0m     \u001b[39myield\u001b[39;00m next_id, ray\u001b[39m.\u001b[39mget(next_id)\n",
      "File \u001b[0;32m~/miniconda3/envs/nuplan/lib/python3.9/site-packages/ray/_private/auto_init_hook.py:18\u001b[0m, in \u001b[0;36mwrap_auto_init.<locals>.auto_init_wrapper\u001b[0;34m(*args, **kwargs)\u001b[0m\n\u001b[1;32m     15\u001b[0m \u001b[39m@wraps\u001b[39m(fn)\n\u001b[1;32m     16\u001b[0m \u001b[39mdef\u001b[39;00m \u001b[39mauto_init_wrapper\u001b[39m(\u001b[39m*\u001b[39margs, \u001b[39m*\u001b[39m\u001b[39m*\u001b[39mkwargs):\n\u001b[1;32m     17\u001b[0m     auto_init_ray()\n\u001b[0;32m---> 18\u001b[0m     \u001b[39mreturn\u001b[39;00m fn(\u001b[39m*\u001b[39;49margs, \u001b[39m*\u001b[39;49m\u001b[39m*\u001b[39;49mkwargs)\n",
      "File \u001b[0;32m~/miniconda3/envs/nuplan/lib/python3.9/site-packages/ray/_private/client_mode_hook.py:103\u001b[0m, in \u001b[0;36mclient_mode_hook.<locals>.wrapper\u001b[0;34m(*args, **kwargs)\u001b[0m\n\u001b[1;32m    101\u001b[0m     \u001b[39mif\u001b[39;00m func\u001b[39m.\u001b[39m\u001b[39m__name__\u001b[39m \u001b[39m!=\u001b[39m \u001b[39m\"\u001b[39m\u001b[39minit\u001b[39m\u001b[39m\"\u001b[39m \u001b[39mor\u001b[39;00m is_client_mode_enabled_by_default:\n\u001b[1;32m    102\u001b[0m         \u001b[39mreturn\u001b[39;00m \u001b[39mgetattr\u001b[39m(ray, func\u001b[39m.\u001b[39m\u001b[39m__name__\u001b[39m)(\u001b[39m*\u001b[39margs, \u001b[39m*\u001b[39m\u001b[39m*\u001b[39mkwargs)\n\u001b[0;32m--> 103\u001b[0m \u001b[39mreturn\u001b[39;00m func(\u001b[39m*\u001b[39;49margs, \u001b[39m*\u001b[39;49m\u001b[39m*\u001b[39;49mkwargs)\n",
      "File \u001b[0;32m~/miniconda3/envs/nuplan/lib/python3.9/site-packages/ray/_private/worker.py:2737\u001b[0m, in \u001b[0;36mwait\u001b[0;34m(object_refs, num_returns, timeout, fetch_local)\u001b[0m\n\u001b[1;32m   2735\u001b[0m timeout \u001b[39m=\u001b[39m timeout \u001b[39mif\u001b[39;00m timeout \u001b[39mis\u001b[39;00m \u001b[39mnot\u001b[39;00m \u001b[39mNone\u001b[39;00m \u001b[39melse\u001b[39;00m \u001b[39m10\u001b[39m\u001b[39m*\u001b[39m\u001b[39m*\u001b[39m\u001b[39m6\u001b[39m\n\u001b[1;32m   2736\u001b[0m timeout_milliseconds \u001b[39m=\u001b[39m \u001b[39mint\u001b[39m(timeout \u001b[39m*\u001b[39m \u001b[39m1000\u001b[39m)\n\u001b[0;32m-> 2737\u001b[0m ready_ids, remaining_ids \u001b[39m=\u001b[39m worker\u001b[39m.\u001b[39;49mcore_worker\u001b[39m.\u001b[39;49mwait(\n\u001b[1;32m   2738\u001b[0m     object_refs,\n\u001b[1;32m   2739\u001b[0m     num_returns,\n\u001b[1;32m   2740\u001b[0m     timeout_milliseconds,\n\u001b[1;32m   2741\u001b[0m     worker\u001b[39m.\u001b[39;49mcurrent_task_id,\n\u001b[1;32m   2742\u001b[0m     fetch_local,\n\u001b[1;32m   2743\u001b[0m )\n\u001b[1;32m   2744\u001b[0m \u001b[39mreturn\u001b[39;00m ready_ids, remaining_ids\n",
      "File \u001b[0;32mpython/ray/_raylet.pyx:2760\u001b[0m, in \u001b[0;36mray._raylet.CoreWorker.wait\u001b[0;34m()\u001b[0m\n",
      "File \u001b[0;32mpython/ray/_raylet.pyx:444\u001b[0m, in \u001b[0;36mray._raylet.check_status\u001b[0;34m()\u001b[0m\n",
      "\u001b[0;31mKeyboardInterrupt\u001b[0m: "
     ]
    },
    {
     "name": "stdout",
     "output_type": "stream",
     "text": [
      "\u001b[2m\u001b[36m(wrapped_fn pid=87500)\u001b[0m hi there\n",
      "\u001b[2m\u001b[36m(wrapped_fn pid=87500)\u001b[0m hi there\n",
      "\u001b[2m\u001b[36m(wrapped_fn pid=87500)\u001b[0m hi there\n",
      "\u001b[2m\u001b[36m(wrapped_fn pid=87500)\u001b[0m hi there\n",
      "\u001b[2m\u001b[36m(wrapped_fn pid=87500)\u001b[0m hi there\n",
      "\u001b[2m\u001b[36m(wrapped_fn pid=87500)\u001b[0m hi there\n",
      "\u001b[2m\u001b[36m(wrapped_fn pid=87500)\u001b[0m hi there\n",
      "\u001b[2m\u001b[36m(wrapped_fn pid=87500)\u001b[0m hi there\n",
      "\u001b[2m\u001b[36m(wrapped_fn pid=87500)\u001b[0m hi there\n",
      "\u001b[2m\u001b[36m(wrapped_fn pid=87500)\u001b[0m hi there\n",
      "\u001b[2m\u001b[36m(wrapped_fn pid=87500)\u001b[0m hi there\n",
      "\u001b[2m\u001b[36m(wrapped_fn pid=87500)\u001b[0m hi there\n",
      "\u001b[2m\u001b[36m(wrapped_fn pid=87500)\u001b[0m hi there\n"
     ]
    },
    {
     "name": "stderr",
     "output_type": "stream",
     "text": [
      "\u001b[2m\u001b[36m(wrapped_fn pid=87512)\u001b[0m /home/ehdykhne/nuplan-devkit/nuplan/planning/metrics/evaluation_metrics/common/can_scenario_be_made_dangerous.py:105: RuntimeWarning: divide by zero encountered in double_scalars\n",
      "\u001b[2m\u001b[36m(wrapped_fn pid=87512)\u001b[0m   if  distance_to_connector / agent.velocity.magnitude() > 5:\n",
      "\u001b[2m\u001b[36m(wrapped_fn pid=87512)\u001b[0m /home/ehdykhne/nuplan-devkit/nuplan/planning/metrics/evaluation_metrics/common/can_scenario_be_made_dangerous.py:105: RuntimeWarning: divide by zero encountered in double_scalars\n",
      "\u001b[2m\u001b[36m(wrapped_fn pid=87512)\u001b[0m   if  distance_to_connector / agent.velocity.magnitude() > 5:\n",
      "\u001b[2m\u001b[36m(wrapped_fn pid=87512)\u001b[0m /home/ehdykhne/nuplan-devkit/nuplan/planning/metrics/evaluation_metrics/common/can_scenario_be_made_dangerous.py:105: RuntimeWarning: divide by zero encountered in double_scalars\n",
      "\u001b[2m\u001b[36m(wrapped_fn pid=87512)\u001b[0m   if  distance_to_connector / agent.velocity.magnitude() > 5:\n",
      "\u001b[2m\u001b[36m(wrapped_fn pid=87512)\u001b[0m /home/ehdykhne/nuplan-devkit/nuplan/planning/metrics/evaluation_metrics/common/can_scenario_be_made_dangerous.py:105: RuntimeWarning: divide by zero encountered in double_scalars\n",
      "\u001b[2m\u001b[36m(wrapped_fn pid=87512)\u001b[0m   if  distance_to_connector / agent.velocity.magnitude() > 5:\n",
      "\u001b[2m\u001b[36m(wrapped_fn pid=87512)\u001b[0m /home/ehdykhne/nuplan-devkit/nuplan/planning/metrics/evaluation_metrics/common/can_scenario_be_made_dangerous.py:105: RuntimeWarning: divide by zero encountered in double_scalars\n",
      "\u001b[2m\u001b[36m(wrapped_fn pid=87512)\u001b[0m   if  distance_to_connector / agent.velocity.magnitude() > 5:\n",
      "\u001b[2m\u001b[36m(wrapped_fn pid=87512)\u001b[0m /home/ehdykhne/nuplan-devkit/nuplan/planning/metrics/evaluation_metrics/common/can_scenario_be_made_dangerous.py:105: RuntimeWarning: divide by zero encountered in double_scalars\n",
      "\u001b[2m\u001b[36m(wrapped_fn pid=87512)\u001b[0m   if  distance_to_connector / agent.velocity.magnitude() > 5:\n",
      "\u001b[2m\u001b[36m(wrapped_fn pid=87512)\u001b[0m /home/ehdykhne/nuplan-devkit/nuplan/planning/metrics/evaluation_metrics/common/can_scenario_be_made_dangerous.py:105: RuntimeWarning: divide by zero encountered in double_scalars\n",
      "\u001b[2m\u001b[36m(wrapped_fn pid=87512)\u001b[0m   if  distance_to_connector / agent.velocity.magnitude() > 5:\n",
      "\u001b[2m\u001b[36m(wrapped_fn pid=87512)\u001b[0m /home/ehdykhne/nuplan-devkit/nuplan/planning/metrics/evaluation_metrics/common/can_scenario_be_made_dangerous.py:105: RuntimeWarning: divide by zero encountered in double_scalars\n",
      "\u001b[2m\u001b[36m(wrapped_fn pid=87512)\u001b[0m   if  distance_to_connector / agent.velocity.magnitude() > 5:\n",
      "\u001b[2m\u001b[36m(wrapped_fn pid=87512)\u001b[0m /home/ehdykhne/nuplan-devkit/nuplan/planning/metrics/evaluation_metrics/common/can_scenario_be_made_dangerous.py:105: RuntimeWarning: divide by zero encountered in double_scalars\n",
      "\u001b[2m\u001b[36m(wrapped_fn pid=87512)\u001b[0m   if  distance_to_connector / agent.velocity.magnitude() > 5:\n",
      "\u001b[2m\u001b[36m(wrapped_fn pid=87512)\u001b[0m /home/ehdykhne/nuplan-devkit/nuplan/planning/metrics/evaluation_metrics/common/can_scenario_be_made_dangerous.py:105: RuntimeWarning: divide by zero encountered in double_scalars\n",
      "\u001b[2m\u001b[36m(wrapped_fn pid=87512)\u001b[0m   if  distance_to_connector / agent.velocity.magnitude() > 5:\n",
      "\u001b[2m\u001b[36m(wrapped_fn pid=87512)\u001b[0m /home/ehdykhne/nuplan-devkit/nuplan/planning/metrics/evaluation_metrics/common/can_scenario_be_made_dangerous.py:105: RuntimeWarning: divide by zero encountered in double_scalars\n",
      "\u001b[2m\u001b[36m(wrapped_fn pid=87512)\u001b[0m   if  distance_to_connector / agent.velocity.magnitude() > 5:\n",
      "\u001b[2m\u001b[36m(wrapped_fn pid=87512)\u001b[0m /home/ehdykhne/nuplan-devkit/nuplan/planning/metrics/evaluation_metrics/common/can_scenario_be_made_dangerous.py:105: RuntimeWarning: divide by zero encountered in double_scalars\n",
      "\u001b[2m\u001b[36m(wrapped_fn pid=87512)\u001b[0m   if  distance_to_connector / agent.velocity.magnitude() > 5:\n",
      "\u001b[2m\u001b[36m(wrapped_fn pid=87512)\u001b[0m /home/ehdykhne/nuplan-devkit/nuplan/planning/metrics/evaluation_metrics/common/can_scenario_be_made_dangerous.py:105: RuntimeWarning: divide by zero encountered in double_scalars\n",
      "\u001b[2m\u001b[36m(wrapped_fn pid=87512)\u001b[0m   if  distance_to_connector / agent.velocity.magnitude() > 5:\n",
      "\u001b[2m\u001b[36m(wrapped_fn pid=87512)\u001b[0m /home/ehdykhne/nuplan-devkit/nuplan/planning/metrics/evaluation_metrics/common/can_scenario_be_made_dangerous.py:105: RuntimeWarning: divide by zero encountered in double_scalars\n",
      "\u001b[2m\u001b[36m(wrapped_fn pid=87512)\u001b[0m   if  distance_to_connector / agent.velocity.magnitude() > 5:\n",
      "\u001b[2m\u001b[36m(wrapped_fn pid=87512)\u001b[0m /home/ehdykhne/nuplan-devkit/nuplan/planning/metrics/evaluation_metrics/common/can_scenario_be_made_dangerous.py:105: RuntimeWarning: divide by zero encountered in double_scalars\n",
      "\u001b[2m\u001b[36m(wrapped_fn pid=87512)\u001b[0m   if  distance_to_connector / agent.velocity.magnitude() > 5:\n",
      "\u001b[2m\u001b[36m(wrapped_fn pid=87512)\u001b[0m /home/ehdykhne/nuplan-devkit/nuplan/planning/metrics/evaluation_metrics/common/can_scenario_be_made_dangerous.py:105: RuntimeWarning: divide by zero encountered in double_scalars\n",
      "\u001b[2m\u001b[36m(wrapped_fn pid=87512)\u001b[0m   if  distance_to_connector / agent.velocity.magnitude() > 5:\n",
      "\u001b[2m\u001b[36m(wrapped_fn pid=87512)\u001b[0m /home/ehdykhne/nuplan-devkit/nuplan/planning/metrics/evaluation_metrics/common/can_scenario_be_made_dangerous.py:105: RuntimeWarning: divide by zero encountered in double_scalars\n",
      "\u001b[2m\u001b[36m(wrapped_fn pid=87512)\u001b[0m   if  distance_to_connector / agent.velocity.magnitude() > 5:\n",
      "\u001b[2m\u001b[36m(wrapped_fn pid=87512)\u001b[0m /home/ehdykhne/nuplan-devkit/nuplan/planning/metrics/evaluation_metrics/common/can_scenario_be_made_dangerous.py:105: RuntimeWarning: divide by zero encountered in double_scalars\n",
      "\u001b[2m\u001b[36m(wrapped_fn pid=87512)\u001b[0m   if  distance_to_connector / agent.velocity.magnitude() > 5:\n",
      "\u001b[2m\u001b[36m(wrapped_fn pid=87512)\u001b[0m /home/ehdykhne/nuplan-devkit/nuplan/planning/metrics/evaluation_metrics/common/can_scenario_be_made_dangerous.py:105: RuntimeWarning: divide by zero encountered in double_scalars\n",
      "\u001b[2m\u001b[36m(wrapped_fn pid=87512)\u001b[0m   if  distance_to_connector / agent.velocity.magnitude() > 5:\n",
      "\u001b[2m\u001b[36m(wrapped_fn pid=87512)\u001b[0m /home/ehdykhne/nuplan-devkit/nuplan/planning/metrics/evaluation_metrics/common/can_scenario_be_made_dangerous.py:105: RuntimeWarning: divide by zero encountered in double_scalars\n",
      "\u001b[2m\u001b[36m(wrapped_fn pid=87512)\u001b[0m   if  distance_to_connector / agent.velocity.magnitude() > 5:\n",
      "\u001b[2m\u001b[36m(wrapped_fn pid=87512)\u001b[0m /home/ehdykhne/nuplan-devkit/nuplan/planning/metrics/evaluation_metrics/common/can_scenario_be_made_dangerous.py:105: RuntimeWarning: divide by zero encountered in double_scalars\n",
      "\u001b[2m\u001b[36m(wrapped_fn pid=87512)\u001b[0m   if  distance_to_connector / agent.velocity.magnitude() > 5:\n",
      "\u001b[2m\u001b[36m(wrapped_fn pid=87495)\u001b[0m /home/ehdykhne/nuplan-devkit/nuplan/planning/metrics/evaluation_metrics/common/can_scenario_be_made_dangerous.py:105: RuntimeWarning: invalid value encountered in double_scalars\n"
     ]
    },
    {
     "name": "stdout",
     "output_type": "stream",
     "text": [
      "\u001b[2m\u001b[36m(wrapped_fn pid=87489)\u001b[0m 149 10 0.09999680519104004\u001b[32m [repeated 24x across cluster] (Ray deduplicates logs by default. Set RAY_DEDUP_LOGS=0 to disable log deduplication, or see https://docs.ray.io/en/master/ray-observability/ray-logging.html#log-deduplication for more options.)\u001b[0m\n",
      "\u001b[2m\u001b[36m(wrapped_fn pid=87488)\u001b[0m hi there\u001b[32m [repeated 755x across cluster]\u001b[0m\n",
      "\u001b[2m\u001b[36m(wrapped_fn pid=87496)\u001b[0m 149 10 0.0999748706817627\u001b[32m [repeated 9x across cluster]\u001b[0m\n"
     ]
    },
    {
     "name": "stderr",
     "output_type": "stream",
     "text": [
      "\u001b[2m\u001b[36m(wrapped_fn pid=87507)\u001b[0m /home/ehdykhne/nuplan-devkit/nuplan/planning/metrics/evaluation_metrics/common/can_scenario_be_made_dangerous.py:105: RuntimeWarning: divide by zero encountered in double_scalars\u001b[32m [repeated 274x across cluster]\u001b[0m\n",
      "\u001b[2m\u001b[36m(wrapped_fn pid=87507)\u001b[0m   if  distance_to_connector / agent.velocity.magnitude() > 5:\u001b[32m [repeated 278x across cluster]\u001b[0m\n",
      "\u001b[2m\u001b[36m(wrapped_fn pid=87507)\u001b[0m /home/ehdykhne/nuplan-devkit/nuplan/planning/metrics/evaluation_metrics/common/can_scenario_be_made_dangerous.py:105: RuntimeWarning: invalid value encountered in double_scalars\u001b[32m [repeated 3x across cluster]\u001b[0m\n"
     ]
    },
    {
     "name": "stdout",
     "output_type": "stream",
     "text": [
      "\u001b[2m\u001b[36m(wrapped_fn pid=87507)\u001b[0m hi there\u001b[32m [repeated 298x across cluster]\u001b[0m\n",
      "\u001b[2m\u001b[36m(wrapped_fn pid=87486)\u001b[0m 150 10 0.09993910789489746\u001b[32m [repeated 17x across cluster]\u001b[0m\n"
     ]
    },
    {
     "name": "stderr",
     "output_type": "stream",
     "text": [
      "\u001b[2m\u001b[36m(wrapped_fn pid=87498)\u001b[0m /home/ehdykhne/nuplan-devkit/nuplan/planning/metrics/evaluation_metrics/common/can_scenario_be_made_dangerous.py:105: RuntimeWarning: divide by zero encountered in double_scalars\u001b[32m [repeated 247x across cluster]\u001b[0m\n",
      "\u001b[2m\u001b[36m(wrapped_fn pid=87498)\u001b[0m   if  distance_to_connector / agent.velocity.magnitude() > 5:\u001b[32m [repeated 273x across cluster]\u001b[0m\n",
      "\u001b[2m\u001b[36m(wrapped_fn pid=87498)\u001b[0m /home/ehdykhne/nuplan-devkit/nuplan/planning/metrics/evaluation_metrics/common/can_scenario_be_made_dangerous.py:105: RuntimeWarning: invalid value encountered in double_scalars\u001b[32m [repeated 26x across cluster]\u001b[0m\n"
     ]
    },
    {
     "name": "stdout",
     "output_type": "stream",
     "text": [
      "\u001b[2m\u001b[36m(wrapped_fn pid=87490)\u001b[0m hi there\u001b[32m [repeated 649x across cluster]\u001b[0m\n",
      "\u001b[2m\u001b[36m(wrapped_fn pid=87483)\u001b[0m 150 10 0.09996986389160156\u001b[32m [repeated 15x across cluster]\u001b[0m\n",
      "\u001b[2m\u001b[36m(wrapped_fn pid=87485)\u001b[0m hi there\u001b[32m [repeated 259x across cluster]\u001b[0m\n"
     ]
    },
    {
     "name": "stderr",
     "output_type": "stream",
     "text": [
      "\u001b[2m\u001b[36m(wrapped_fn pid=87492)\u001b[0m /home/ehdykhne/nuplan-devkit/nuplan/planning/metrics/evaluation_metrics/common/can_scenario_be_made_dangerous.py:105: RuntimeWarning: divide by zero encountered in double_scalars\u001b[32m [repeated 59x across cluster]\u001b[0m\n",
      "\u001b[2m\u001b[36m(wrapped_fn pid=87492)\u001b[0m   if  distance_to_connector / agent.velocity.magnitude() > 5:\u001b[32m [repeated 59x across cluster]\u001b[0m\n"
     ]
    },
    {
     "name": "stdout",
     "output_type": "stream",
     "text": [
      "\u001b[2m\u001b[36m(wrapped_fn pid=87509)\u001b[0m 149 10 0.09997081756591797\u001b[32m [repeated 17x across cluster]\u001b[0m\n",
      "\u001b[2m\u001b[36m(wrapped_fn pid=87511)\u001b[0m hi there\u001b[32m [repeated 344x across cluster]\u001b[0m\n"
     ]
    },
    {
     "name": "stderr",
     "output_type": "stream",
     "text": [
      "\u001b[2m\u001b[36m(wrapped_fn pid=87502)\u001b[0m /home/ehdykhne/nuplan-devkit/nuplan/planning/metrics/evaluation_metrics/common/can_scenario_be_made_dangerous.py:105: RuntimeWarning: invalid value encountered in double_scalars\n",
      "\u001b[2m\u001b[36m(wrapped_fn pid=87502)\u001b[0m /home/ehdykhne/nuplan-devkit/nuplan/planning/metrics/evaluation_metrics/common/can_scenario_be_made_dangerous.py:105: RuntimeWarning: invalid value encountered in double_scalars\n",
      "\u001b[2m\u001b[36m(wrapped_fn pid=87502)\u001b[0m /home/ehdykhne/nuplan-devkit/nuplan/planning/metrics/evaluation_metrics/common/can_scenario_be_made_dangerous.py:105: RuntimeWarning: invalid value encountered in double_scalars\n",
      "\u001b[2m\u001b[36m(wrapped_fn pid=87502)\u001b[0m /home/ehdykhne/nuplan-devkit/nuplan/planning/metrics/evaluation_metrics/common/can_scenario_be_made_dangerous.py:105: RuntimeWarning: invalid value encountered in double_scalars\n",
      "\u001b[2m\u001b[36m(wrapped_fn pid=87502)\u001b[0m /home/ehdykhne/nuplan-devkit/nuplan/planning/metrics/evaluation_metrics/common/can_scenario_be_made_dangerous.py:105: RuntimeWarning: invalid value encountered in double_scalars\n",
      "\u001b[2m\u001b[36m(wrapped_fn pid=87502)\u001b[0m /home/ehdykhne/nuplan-devkit/nuplan/planning/metrics/evaluation_metrics/common/can_scenario_be_made_dangerous.py:105: RuntimeWarning: invalid value encountered in double_scalars\n",
      "\u001b[2m\u001b[36m(wrapped_fn pid=87502)\u001b[0m /home/ehdykhne/nuplan-devkit/nuplan/planning/metrics/evaluation_metrics/common/can_scenario_be_made_dangerous.py:105: RuntimeWarning: invalid value encountered in double_scalars\n",
      "\u001b[2m\u001b[36m(wrapped_fn pid=87502)\u001b[0m /home/ehdykhne/nuplan-devkit/nuplan/planning/metrics/evaluation_metrics/common/can_scenario_be_made_dangerous.py:105: RuntimeWarning: invalid value encountered in double_scalars\n",
      "\u001b[2m\u001b[36m(wrapped_fn pid=87502)\u001b[0m /home/ehdykhne/nuplan-devkit/nuplan/planning/metrics/evaluation_metrics/common/can_scenario_be_made_dangerous.py:105: RuntimeWarning: invalid value encountered in double_scalars\n",
      "\u001b[2m\u001b[36m(wrapped_fn pid=87485)\u001b[0m /home/ehdykhne/nuplan-devkit/nuplan/planning/metrics/evaluation_metrics/common/can_scenario_be_made_dangerous.py:105: RuntimeWarning: divide by zero encountered in double_scalars\u001b[32m [repeated 62x across cluster]\u001b[0m\n",
      "\u001b[2m\u001b[36m(wrapped_fn pid=87485)\u001b[0m   if  distance_to_connector / agent.velocity.magnitude() > 5:\u001b[32m [repeated 71x across cluster]\u001b[0m\n"
     ]
    },
    {
     "name": "stdout",
     "output_type": "stream",
     "text": [
      "\u001b[2m\u001b[36m(wrapped_fn pid=87488)\u001b[0m 149 10 0.0999600887298584\u001b[32m [repeated 16x across cluster]\u001b[0m\n",
      "\u001b[2m\u001b[36m(wrapped_fn pid=87489)\u001b[0m hi there\u001b[32m [repeated 269x across cluster]\u001b[0m\n"
     ]
    },
    {
     "name": "stderr",
     "output_type": "stream",
     "text": [
      "\u001b[2m\u001b[36m(wrapped_fn pid=87484)\u001b[0m /home/ehdykhne/nuplan-devkit/nuplan/planning/metrics/evaluation_metrics/common/can_scenario_be_made_dangerous.py:105: RuntimeWarning: divide by zero encountered in double_scalars\u001b[32m [repeated 104x across cluster]\u001b[0m\n",
      "\u001b[2m\u001b[36m(wrapped_fn pid=87484)\u001b[0m   if  distance_to_connector / agent.velocity.magnitude() > 5:\u001b[32m [repeated 104x across cluster]\u001b[0m\n"
     ]
    },
    {
     "name": "stdout",
     "output_type": "stream",
     "text": [
      "\u001b[2m\u001b[36m(wrapped_fn pid=87481)\u001b[0m 149 10 0.09997701644897461\u001b[32m [repeated 13x across cluster]\u001b[0m\n",
      "\u001b[2m\u001b[36m(wrapped_fn pid=87491)\u001b[0m hi there\u001b[32m [repeated 369x across cluster]\u001b[0m\n"
     ]
    },
    {
     "name": "stderr",
     "output_type": "stream",
     "text": [
      "\u001b[2m\u001b[36m(wrapped_fn pid=87502)\u001b[0m /home/ehdykhne/nuplan-devkit/nuplan/planning/metrics/evaluation_metrics/common/can_scenario_be_made_dangerous.py:105: RuntimeWarning: invalid value encountered in double_scalars\n",
      "\u001b[2m\u001b[36m(wrapped_fn pid=87502)\u001b[0m /home/ehdykhne/nuplan-devkit/nuplan/planning/metrics/evaluation_metrics/common/can_scenario_be_made_dangerous.py:105: RuntimeWarning: invalid value encountered in double_scalars\n",
      "\u001b[2m\u001b[36m(wrapped_fn pid=87502)\u001b[0m /home/ehdykhne/nuplan-devkit/nuplan/planning/metrics/evaluation_metrics/common/can_scenario_be_made_dangerous.py:105: RuntimeWarning: invalid value encountered in double_scalars\n",
      "\u001b[2m\u001b[36m(wrapped_fn pid=87502)\u001b[0m /home/ehdykhne/nuplan-devkit/nuplan/planning/metrics/evaluation_metrics/common/can_scenario_be_made_dangerous.py:105: RuntimeWarning: invalid value encountered in double_scalars\n",
      "\u001b[2m\u001b[36m(wrapped_fn pid=87502)\u001b[0m /home/ehdykhne/nuplan-devkit/nuplan/planning/metrics/evaluation_metrics/common/can_scenario_be_made_dangerous.py:105: RuntimeWarning: invalid value encountered in double_scalars\n",
      "\u001b[2m\u001b[36m(wrapped_fn pid=87502)\u001b[0m /home/ehdykhne/nuplan-devkit/nuplan/planning/metrics/evaluation_metrics/common/can_scenario_be_made_dangerous.py:105: RuntimeWarning: invalid value encountered in double_scalars\n",
      "\u001b[2m\u001b[36m(wrapped_fn pid=87502)\u001b[0m /home/ehdykhne/nuplan-devkit/nuplan/planning/metrics/evaluation_metrics/common/can_scenario_be_made_dangerous.py:105: RuntimeWarning: invalid value encountered in double_scalars\n",
      "\u001b[2m\u001b[36m(wrapped_fn pid=87502)\u001b[0m /home/ehdykhne/nuplan-devkit/nuplan/planning/metrics/evaluation_metrics/common/can_scenario_be_made_dangerous.py:105: RuntimeWarning: invalid value encountered in double_scalars\n",
      "\u001b[2m\u001b[36m(wrapped_fn pid=87499)\u001b[0m /home/ehdykhne/nuplan-devkit/nuplan/planning/metrics/evaluation_metrics/common/can_scenario_be_made_dangerous.py:105: RuntimeWarning: divide by zero encountered in double_scalars\u001b[32m [repeated 72x across cluster]\u001b[0m\n",
      "\u001b[2m\u001b[36m(wrapped_fn pid=87499)\u001b[0m   if  distance_to_connector / agent.velocity.magnitude() > 5:\u001b[32m [repeated 80x across cluster]\u001b[0m\n"
     ]
    },
    {
     "name": "stdout",
     "output_type": "stream",
     "text": [
      "\u001b[2m\u001b[36m(wrapped_fn pid=87508)\u001b[0m 149 9 0.10004401206970215\u001b[32m [repeated 18x across cluster]\u001b[0m\n",
      "\u001b[2m\u001b[36m(wrapped_fn pid=87506)\u001b[0m hi there\u001b[32m [repeated 540x across cluster]\u001b[0m\n"
     ]
    },
    {
     "name": "stderr",
     "output_type": "stream",
     "text": [
      "\u001b[2m\u001b[36m(wrapped_fn pid=87506)\u001b[0m /home/ehdykhne/nuplan-devkit/nuplan/planning/metrics/evaluation_metrics/common/can_scenario_be_made_dangerous.py:105: RuntimeWarning: invalid value encountered in double_scalars\u001b[32m [repeated 8x across cluster]\u001b[0m\n"
     ]
    },
    {
     "name": "stdout",
     "output_type": "stream",
     "text": [
      "\u001b[2m\u001b[36m(wrapped_fn pid=87484)\u001b[0m 149 10 0.09999203681945801\u001b[32m [repeated 12x across cluster]\u001b[0m\n",
      "\u001b[2m\u001b[36m(wrapped_fn pid=87487)\u001b[0m hi there\u001b[32m [repeated 376x across cluster]\u001b[0m\n"
     ]
    },
    {
     "name": "stderr",
     "output_type": "stream",
     "text": [
      "\u001b[2m\u001b[36m(wrapped_fn pid=87485)\u001b[0m /home/ehdykhne/nuplan-devkit/nuplan/planning/metrics/evaluation_metrics/common/can_scenario_be_made_dangerous.py:105: RuntimeWarning: divide by zero encountered in double_scalars\u001b[32m [repeated 100x across cluster]\u001b[0m\n",
      "\u001b[2m\u001b[36m(wrapped_fn pid=87485)\u001b[0m   if  distance_to_connector / agent.velocity.magnitude() > 5:\u001b[32m [repeated 112x across cluster]\u001b[0m\n"
     ]
    },
    {
     "name": "stdout",
     "output_type": "stream",
     "text": [
      "\u001b[2m\u001b[36m(wrapped_fn pid=87506)\u001b[0m 149 9 0.10001397132873535\u001b[32m [repeated 14x across cluster]\u001b[0m\n",
      "\u001b[2m\u001b[36m(wrapped_fn pid=87508)\u001b[0m hi there\u001b[32m [repeated 259x across cluster]\u001b[0m\n"
     ]
    },
    {
     "name": "stderr",
     "output_type": "stream",
     "text": [
      "\u001b[2m\u001b[36m(wrapped_fn pid=87485)\u001b[0m /home/ehdykhne/nuplan-devkit/nuplan/planning/metrics/evaluation_metrics/common/can_scenario_be_made_dangerous.py:105: RuntimeWarning: invalid value encountered in double_scalars\u001b[32m [repeated 6x across cluster]\u001b[0m\n",
      "\u001b[2m\u001b[36m(wrapped_fn pid=87494)\u001b[0m /home/ehdykhne/nuplan-devkit/nuplan/planning/metrics/evaluation_metrics/common/can_scenario_be_made_dangerous.py:105: RuntimeWarning: divide by zero encountered in double_scalars\u001b[32m [repeated 71x across cluster]\u001b[0m\n",
      "\u001b[2m\u001b[36m(wrapped_fn pid=87494)\u001b[0m   if  distance_to_connector / agent.velocity.magnitude() > 5:\u001b[32m [repeated 73x across cluster]\u001b[0m\n"
     ]
    },
    {
     "name": "stdout",
     "output_type": "stream",
     "text": [
      "\u001b[2m\u001b[36m(wrapped_fn pid=87497)\u001b[0m 149 9 0.10000300407409668\u001b[32m [repeated 20x across cluster]\u001b[0m\n",
      "\u001b[2m\u001b[36m(wrapped_fn pid=87486)\u001b[0m hi there\u001b[32m [repeated 658x across cluster]\u001b[0m\n"
     ]
    },
    {
     "name": "stderr",
     "output_type": "stream",
     "text": [
      "\u001b[2m\u001b[36m(wrapped_fn pid=87484)\u001b[0m /home/ehdykhne/nuplan-devkit/nuplan/planning/metrics/evaluation_metrics/common/can_scenario_be_made_dangerous.py:105: RuntimeWarning: invalid value encountered in double_scalars\u001b[32m [repeated 6x across cluster]\u001b[0m\n",
      "\u001b[2m\u001b[36m(wrapped_fn pid=87496)\u001b[0m /home/ehdykhne/nuplan-devkit/nuplan/planning/metrics/evaluation_metrics/common/can_scenario_be_made_dangerous.py:105: RuntimeWarning: divide by zero encountered in double_scalars\u001b[32m [repeated 170x across cluster]\u001b[0m\n",
      "\u001b[2m\u001b[36m(wrapped_fn pid=87496)\u001b[0m   if  distance_to_connector / agent.velocity.magnitude() > 5:\u001b[32m [repeated 178x across cluster]\u001b[0m\n"
     ]
    },
    {
     "name": "stdout",
     "output_type": "stream",
     "text": [
      "\u001b[2m\u001b[36m(wrapped_fn pid=87503)\u001b[0m 149 9 0.10002303123474121\u001b[32m [repeated 10x across cluster]\u001b[0m\n",
      "\u001b[2m\u001b[36m(wrapped_fn pid=87492)\u001b[0m hi there\u001b[32m [repeated 203x across cluster]\u001b[0m\n"
     ]
    },
    {
     "name": "stderr",
     "output_type": "stream",
     "text": [
      "\u001b[2m\u001b[36m(wrapped_fn pid=87492)\u001b[0m /home/ehdykhne/nuplan-devkit/nuplan/planning/metrics/evaluation_metrics/common/can_scenario_be_made_dangerous.py:105: RuntimeWarning: invalid value encountered in double_scalars\u001b[32m [repeated 8x across cluster]\u001b[0m\n",
      "\u001b[2m\u001b[36m(wrapped_fn pid=87508)\u001b[0m /home/ehdykhne/nuplan-devkit/nuplan/planning/metrics/evaluation_metrics/common/can_scenario_be_made_dangerous.py:105: RuntimeWarning: divide by zero encountered in double_scalars\u001b[32m [repeated 71x across cluster]\u001b[0m\n",
      "\u001b[2m\u001b[36m(wrapped_fn pid=87508)\u001b[0m   if  distance_to_connector / agent.velocity.magnitude() > 5:\u001b[32m [repeated 97x across cluster]\u001b[0m\n"
     ]
    },
    {
     "name": "stdout",
     "output_type": "stream",
     "text": [
      "\u001b[2m\u001b[36m(wrapped_fn pid=87490)\u001b[0m 149 9 0.10002493858337402\u001b[32m [repeated 19x across cluster]\u001b[0m\n",
      "\u001b[2m\u001b[36m(wrapped_fn pid=87487)\u001b[0m hi there\u001b[32m [repeated 576x across cluster]\u001b[0m\n"
     ]
    },
    {
     "name": "stderr",
     "output_type": "stream",
     "text": [
      "\u001b[2m\u001b[36m(wrapped_fn pid=87508)\u001b[0m /home/ehdykhne/nuplan-devkit/nuplan/planning/metrics/evaluation_metrics/common/can_scenario_be_made_dangerous.py:105: RuntimeWarning: invalid value encountered in double_scalars\u001b[32m [repeated 20x across cluster]\u001b[0m\n",
      "\u001b[2m\u001b[36m(wrapped_fn pid=87481)\u001b[0m /home/ehdykhne/nuplan-devkit/nuplan/planning/metrics/evaluation_metrics/common/can_scenario_be_made_dangerous.py:105: RuntimeWarning: divide by zero encountered in double_scalars\u001b[32m [repeated 171x across cluster]\u001b[0m\n",
      "\u001b[2m\u001b[36m(wrapped_fn pid=87481)\u001b[0m   if  distance_to_connector / agent.velocity.magnitude() > 5:\u001b[32m [repeated 174x across cluster]\u001b[0m\n"
     ]
    },
    {
     "name": "stdout",
     "output_type": "stream",
     "text": [
      "\u001b[2m\u001b[36m(wrapped_fn pid=87509)\u001b[0m 149 10 0.09998583793640137\u001b[32m [repeated 15x across cluster]\u001b[0m\n"
     ]
    }
   ],
   "source": [
    "from nuplan.planning.script.run_simulation import main as main_simulation\n",
    "\n",
    "# Run the simulation loop (real-time visualization not yet supported, see next section for visualization)\n",
    "main_simulation(cfg)"
   ]
  },
  {
   "cell_type": "markdown",
   "id": "4ace6fd1",
   "metadata": {},
   "source": [
    "## Prepare the nuBoard config"
   ]
  },
  {
   "cell_type": "code",
   "execution_count": null,
   "metadata": {},
   "outputs": [],
   "source": [
    "output_folder_alt = []\n",
    "output_folder_alt.append(\n",
    "    \"../../data/nuplan/exp/exp/simulation/closed_loop_reactive_agents/2023.12.09.21.59.48\"\n",
    ")\n",
    "output_folder_alt.append(\n",
    "    \"../../data/nuplan/exp/exp/simulation/closed_loop_reactive_agents/2023.12.09.23.21.13\"\n",
    ")\n",
    "output_folder_alt.append(\n",
    "    \"../../data/nuplan/exp/exp/simulation/closed_loop_nonreactive_agents/2023.12.10.07.32.41\"\n",
    ")\n",
    "output_folder_alt.append(\n",
    "    \"../../data/nuplan/exp/exp/simulation/closed_loop_nonreactive_agents/2023.12.10.08.29.23\"\n",
    ")\n",
    "output_folder_alt.append(\n",
    "    \"../../data/nuplan/exp/exp/simulation/closed_loop_reactive_agents/2023.12.11.00.41.30\"\n",
    ")\n",
    "output_folder_alt.append(\n",
    "    \"../../data/nuplan/exp/exp/simulation/closed_loop_reactive_agents/2023.12.10.09.31.44\"\n",
    ")\n",
    "output_folder_alt.append(\n",
    "    \"../../data/nuplan/exp/exp/simulation/closed_loop_reactive_agents/2023.12.13.12.21.28\"\n",
    ")\n",
    "output_folder_alt.append(\n",
    "    \"../../data/nuplan/exp/exp/simulation/closed_loop_reactive_agents/2023.12.13.13.07.48\"\n",
    ")"
   ]
  },
  {
   "cell_type": "code",
   "execution_count": null,
   "id": "1bdb7bef",
   "metadata": {
    "scrolled": true
   },
   "outputs": [],
   "source": [
    "# output_folder = '../../data/nuplan/exp/exp/simulation/open_loop_boxes/2023.12.09.21.19.06'\n",
    "# output_folder = \"../../data/nuplan/exp/exp/simulation/closed_loop_reactive_agents/2023.12.09.21.59.48\"\n",
    "# Location of path with all nuBoard configs\n",
    "CONFIG_PATH = \"../nuplan/planning/script/config/nuboard\"\n",
    "CONFIG_NAME = \"default_nuboard\"\n",
    "\n",
    "# Initialize configuration management system\n",
    "hydra.core.global_hydra.GlobalHydra.instance().clear()  # reinitialize hydra if already initialized\n",
    "hydra.initialize(config_path=CONFIG_PATH)\n",
    "\n",
    "# Compose the configuration\n",
    "cfg = hydra.compose(\n",
    "    config_name=CONFIG_NAME,\n",
    "    overrides=[\n",
    "        f\"scenario_builder={scenario_builder}\",  # set the database (same as simulation) used to fetch data for visualization\n",
    "        f\"simulation_path={output_folder}\",  # [output_folder, output_folder_alt] nuboard file path(s), if left empty the user can open the file inside nuBoard\n",
    "    ],\n",
    ")"
   ]
  },
  {
   "cell_type": "markdown",
   "id": "91fe931f",
   "metadata": {},
   "source": [
    "## Launch nuBoard (open in new tab - recommended)"
   ]
  },
  {
   "cell_type": "code",
   "execution_count": null,
   "id": "e1f01dcc",
   "metadata": {
    "scrolled": false
   },
   "outputs": [
    {
     "name": "stdout",
     "output_type": "stream",
     "text": [
      "2023-12-19 17:39:32,564 INFO {/home/ehdykhne/nuplan-devkit/nuplan/planning/script/builders/scenario_building_builder.py:18}  Building AbstractScenarioBuilder...\n",
      "2023-12-19 17:39:32,582 INFO {/home/ehdykhne/nuplan-devkit/nuplan/planning/script/builders/scenario_building_builder.py:21}  Building AbstractScenarioBuilder...DONE!\n",
      "2023-12-19 17:39:32,583 INFO {/home/ehdykhne/nuplan-devkit/nuplan/planning/nuboard/nuboard.py:84}  Opening Bokeh application on http://localhost:5006/\n",
      "2023-12-19 17:39:32,583 INFO {/home/ehdykhne/nuplan-devkit/nuplan/planning/nuboard/nuboard.py:85}  Async rendering is set to: True\n",
      "2023-12-19 17:39:32,583 INFO {/home/ehdykhne/miniconda3/envs/nuplan/lib/python3.9/site-packages/bokeh/server/server.py:403}  Starting Bokeh server version 2.4.3 (running on Tornado 6.3.3)\n",
      "2023-12-19 17:39:32,584 WARNING {/home/ehdykhne/miniconda3/envs/nuplan/lib/python3.9/site-packages/bokeh/server/util.py:145}  Host wildcard '*' will allow connections originating from multiple (or possibly all) hostnames or IPs. Use non-wildcard values to restrict access explicitly\n",
      "2023-12-19 17:39:32,584 INFO {/home/ehdykhne/miniconda3/envs/nuplan/lib/python3.9/site-packages/bokeh/server/tornado.py:360}  User authentication hooks NOT provided (default user enabled)\n",
      "2023-12-19 17:39:33,353 INFO {/home/ehdykhne/nuplan-devkit/nuplan/planning/nuboard/base/simulation_tile.py:172}  Minimum frame time=0.017 s\n",
      "2023-12-19 17:39:33,434 INFO {/home/ehdykhne/nuplan-devkit/nuplan/planning/nuboard/tabs/scenario_tab.py:485}  Rending scenario plot takes 0.0025 seconds.\n",
      "2023-12-19 17:39:33,533 INFO {/home/ehdykhne/miniconda3/envs/nuplan/lib/python3.9/site-packages/tornado/web.py:2344}  200 GET / (127.0.0.1) 269.38ms\n"
     ]
    },
    {
     "name": "stderr",
     "output_type": "stream",
     "text": [
      "INFO:tornado.access:200 GET / (127.0.0.1) 269.38ms\n"
     ]
    },
    {
     "name": "stdout",
     "output_type": "stream",
     "text": [
      "2023-12-19 17:39:34,217 INFO {/home/ehdykhne/nuplan-devkit/nuplan/planning/nuboard/base/simulation_tile.py:172}  Minimum frame time=0.017 s\n",
      "2023-12-19 17:39:34,297 INFO {/home/ehdykhne/nuplan-devkit/nuplan/planning/nuboard/tabs/scenario_tab.py:485}  Rending scenario plot takes 0.0025 seconds.\n",
      "2023-12-19 17:39:34,391 INFO {/home/ehdykhne/miniconda3/envs/nuplan/lib/python3.9/site-packages/tornado/web.py:2344}  200 GET / (127.0.0.1) 258.64ms\n",
      "2023-12-19 17:39:34,401 INFO {/home/ehdykhne/miniconda3/envs/nuplan/lib/python3.9/site-packages/tornado/web.py:2344}  101 GET /ws (127.0.0.1) 0.42ms\n",
      "2023-12-19 17:39:34,401 INFO {/home/ehdykhne/miniconda3/envs/nuplan/lib/python3.9/site-packages/bokeh/server/views/ws.py:132}  WebSocket connection opened\n",
      "2023-12-19 17:39:34,401 INFO {/home/ehdykhne/miniconda3/envs/nuplan/lib/python3.9/site-packages/bokeh/server/views/ws.py:213}  ServerConnection created\n"
     ]
    },
    {
     "name": "stderr",
     "output_type": "stream",
     "text": [
      "INFO:tornado.access:200 GET / (127.0.0.1) 258.64ms\n",
      "INFO:tornado.access:101 GET /ws (127.0.0.1) 0.42ms\n",
      "Rendering a scenario: 100%|██████████| 1/1 [00:00<00:00, 23.77it/s]\n"
     ]
    },
    {
     "name": "stdout",
     "output_type": "stream",
     "text": [
      "2023-12-19 17:40:18,369 INFO {/home/ehdykhne/nuplan-devkit/nuplan/planning/nuboard/tabs/scenario_tab.py:485}  Rending scenario plot takes 2.4032 seconds.\n",
      "2023-12-19 17:48:27,771 INFO {/home/ehdykhne/nuplan-devkit/nuplan/planning/nuboard/base/simulation_tile.py:575}  Frame deferred: 0\n",
      "2023-12-19 17:48:28,204 INFO {/home/ehdykhne/nuplan-devkit/nuplan/planning/nuboard/base/simulation_tile.py:897}  Frame dropped 0\n"
     ]
    },
    {
     "name": "stderr",
     "output_type": "stream",
     "text": [
      "Rendering a scenario: 100%|██████████| 1/1 [00:00<00:00, 60.31it/s]\n"
     ]
    },
    {
     "name": "stdout",
     "output_type": "stream",
     "text": [
      "2023-12-19 17:49:23,768 INFO {/home/ehdykhne/nuplan-devkit/nuplan/planning/nuboard/tabs/scenario_tab.py:485}  Rending scenario plot takes 2.1506 seconds.\n",
      "2023-12-19 17:49:34,732 INFO {/home/ehdykhne/nuplan-devkit/nuplan/planning/nuboard/base/simulation_tile.py:575}  Frame deferred: 0\n",
      "2023-12-19 17:49:34,778 INFO {/home/ehdykhne/nuplan-devkit/nuplan/planning/nuboard/base/simulation_tile.py:897}  Frame dropped 0\n",
      "2023-12-19 17:49:40,748 INFO {/home/ehdykhne/nuplan-devkit/nuplan/planning/nuboard/base/simulation_tile.py:575}  Frame deferred: 23\n",
      "2023-12-19 17:49:40,785 INFO {/home/ehdykhne/nuplan-devkit/nuplan/planning/nuboard/base/simulation_tile.py:902}  Processing render queue for frame 23\n",
      "2023-12-19 17:49:40,884 INFO {/home/ehdykhne/nuplan-devkit/nuplan/planning/nuboard/base/simulation_tile.py:575}  Frame deferred: 26\n",
      "2023-12-19 17:49:41,786 INFO {/home/ehdykhne/nuplan-devkit/nuplan/planning/nuboard/base/simulation_tile.py:897}  Frame dropped 26\n",
      "2023-12-19 17:49:42,346 INFO {/home/ehdykhne/nuplan-devkit/nuplan/planning/nuboard/base/simulation_tile.py:575}  Frame deferred: 46\n",
      "2023-12-19 17:49:42,787 INFO {/home/ehdykhne/nuplan-devkit/nuplan/planning/nuboard/base/simulation_tile.py:897}  Frame dropped 46\n",
      "2023-12-19 17:49:42,840 INFO {/home/ehdykhne/nuplan-devkit/nuplan/planning/nuboard/base/simulation_tile.py:575}  Frame deferred: 61\n",
      "2023-12-19 17:49:43,026 INFO {/home/ehdykhne/nuplan-devkit/nuplan/planning/nuboard/base/simulation_tile.py:575}  Frame deferred: 67\n",
      "2023-12-19 17:49:43,334 INFO {/home/ehdykhne/nuplan-devkit/nuplan/planning/nuboard/base/simulation_tile.py:575}  Frame deferred: 74\n",
      "2023-12-19 17:49:43,788 INFO {/home/ehdykhne/nuplan-devkit/nuplan/planning/nuboard/base/simulation_tile.py:897}  Frame dropped 74\n",
      "2023-12-19 17:49:43,987 INFO {/home/ehdykhne/nuplan-devkit/nuplan/planning/nuboard/base/simulation_tile.py:575}  Frame deferred: 76\n",
      "2023-12-19 17:49:44,149 INFO {/home/ehdykhne/nuplan-devkit/nuplan/planning/nuboard/base/simulation_tile.py:575}  Frame deferred: 69\n",
      "2023-12-19 17:49:44,308 INFO {/home/ehdykhne/nuplan-devkit/nuplan/planning/nuboard/base/simulation_tile.py:575}  Frame deferred: 59\n",
      "2023-12-19 17:49:44,343 INFO {/home/ehdykhne/nuplan-devkit/nuplan/planning/nuboard/base/simulation_tile.py:575}  Frame deferred: 56\n",
      "2023-12-19 17:49:44,377 INFO {/home/ehdykhne/nuplan-devkit/nuplan/planning/nuboard/base/simulation_tile.py:575}  Frame deferred: 52\n",
      "2023-12-19 17:49:44,421 INFO {/home/ehdykhne/nuplan-devkit/nuplan/planning/nuboard/base/simulation_tile.py:575}  Frame deferred: 47\n",
      "2023-12-19 17:49:44,462 INFO {/home/ehdykhne/nuplan-devkit/nuplan/planning/nuboard/base/simulation_tile.py:575}  Frame deferred: 42\n",
      "2023-12-19 17:49:44,629 INFO {/home/ehdykhne/nuplan-devkit/nuplan/planning/nuboard/base/simulation_tile.py:575}  Frame deferred: 26\n",
      "2023-12-19 17:49:44,790 INFO {/home/ehdykhne/nuplan-devkit/nuplan/planning/nuboard/base/simulation_tile.py:897}  Frame dropped 26\n",
      "2023-12-19 17:49:44,858 INFO {/home/ehdykhne/nuplan-devkit/nuplan/planning/nuboard/base/simulation_tile.py:575}  Frame deferred: 14\n",
      "2023-12-19 17:49:45,790 INFO {/home/ehdykhne/nuplan-devkit/nuplan/planning/nuboard/base/simulation_tile.py:897}  Frame dropped 14\n",
      "2023-12-19 17:49:55,749 INFO {/home/ehdykhne/nuplan-devkit/nuplan/planning/nuboard/base/simulation_tile.py:575}  Frame deferred: 14\n",
      "2023-12-19 17:49:55,796 INFO {/home/ehdykhne/nuplan-devkit/nuplan/planning/nuboard/base/simulation_tile.py:897}  Frame dropped 14\n",
      "2023-12-19 17:49:56,193 INFO {/home/ehdykhne/nuplan-devkit/nuplan/planning/nuboard/base/simulation_tile.py:575}  Frame deferred: 7\n",
      "2023-12-19 17:49:56,523 INFO {/home/ehdykhne/nuplan-devkit/nuplan/planning/nuboard/base/simulation_tile.py:575}  Frame deferred: 8\n",
      "2023-12-19 17:49:56,797 INFO {/home/ehdykhne/nuplan-devkit/nuplan/planning/nuboard/base/simulation_tile.py:897}  Frame dropped 8\n",
      "2023-12-19 17:49:57,098 INFO {/home/ehdykhne/nuplan-devkit/nuplan/planning/nuboard/base/simulation_tile.py:575}  Frame deferred: 22\n",
      "2023-12-19 17:49:57,188 INFO {/home/ehdykhne/nuplan-devkit/nuplan/planning/nuboard/base/simulation_tile.py:575}  Frame deferred: 24\n",
      "2023-12-19 17:49:57,260 INFO {/home/ehdykhne/nuplan-devkit/nuplan/planning/nuboard/base/simulation_tile.py:575}  Frame deferred: 27\n",
      "2023-12-19 17:49:57,798 INFO {/home/ehdykhne/nuplan-devkit/nuplan/planning/nuboard/base/simulation_tile.py:897}  Frame dropped 27\n",
      "2023-12-19 17:49:59,140 INFO {/home/ehdykhne/nuplan-devkit/nuplan/planning/nuboard/base/simulation_tile.py:575}  Frame deferred: 47\n",
      "2023-12-19 17:49:59,428 INFO {/home/ehdykhne/nuplan-devkit/nuplan/planning/nuboard/base/simulation_tile.py:575}  Frame deferred: 52\n",
      "2023-12-19 17:49:59,429 INFO {/home/ehdykhne/nuplan-devkit/nuplan/planning/nuboard/base/simulation_tile.py:575}  Frame deferred: 53\n",
      "2023-12-19 17:49:59,758 INFO {/home/ehdykhne/nuplan-devkit/nuplan/planning/nuboard/base/simulation_tile.py:575}  Frame deferred: 64\n",
      "2023-12-19 17:49:59,799 INFO {/home/ehdykhne/nuplan-devkit/nuplan/planning/nuboard/base/simulation_tile.py:902}  Processing render queue for frame 64\n",
      "2023-12-19 17:50:00,372 INFO {/home/ehdykhne/nuplan-devkit/nuplan/planning/nuboard/base/simulation_tile.py:575}  Frame deferred: 69\n",
      "2023-12-19 17:50:00,421 INFO {/home/ehdykhne/nuplan-devkit/nuplan/planning/nuboard/base/simulation_tile.py:575}  Frame deferred: 67\n",
      "2023-12-19 17:50:00,557 INFO {/home/ehdykhne/nuplan-devkit/nuplan/planning/nuboard/base/simulation_tile.py:575}  Frame deferred: 59\n",
      "2023-12-19 17:50:00,664 INFO {/home/ehdykhne/nuplan-devkit/nuplan/planning/nuboard/base/simulation_tile.py:575}  Frame deferred: 57\n",
      "2023-12-19 17:50:00,799 INFO {/home/ehdykhne/nuplan-devkit/nuplan/planning/nuboard/base/simulation_tile.py:897}  Frame dropped 57\n",
      "2023-12-19 17:50:00,972 INFO {/home/ehdykhne/nuplan-devkit/nuplan/planning/nuboard/base/simulation_tile.py:575}  Frame deferred: 53\n",
      "2023-12-19 17:50:00,973 INFO {/home/ehdykhne/nuplan-devkit/nuplan/planning/nuboard/base/simulation_tile.py:575}  Frame deferred: 52\n",
      "2023-12-19 17:50:01,244 INFO {/home/ehdykhne/nuplan-devkit/nuplan/planning/nuboard/base/simulation_tile.py:575}  Frame deferred: 44\n",
      "2023-12-19 17:50:01,412 INFO {/home/ehdykhne/nuplan-devkit/nuplan/planning/nuboard/base/simulation_tile.py:575}  Frame deferred: 40\n",
      "2023-12-19 17:50:01,539 INFO {/home/ehdykhne/nuplan-devkit/nuplan/planning/nuboard/base/simulation_tile.py:575}  Frame deferred: 38\n",
      "2023-12-19 17:50:01,540 INFO {/home/ehdykhne/nuplan-devkit/nuplan/planning/nuboard/base/simulation_tile.py:575}  Frame deferred: 37\n",
      "2023-12-19 17:50:01,799 INFO {/home/ehdykhne/nuplan-devkit/nuplan/planning/nuboard/base/simulation_tile.py:897}  Frame dropped 37\n",
      "2023-12-19 17:50:01,898 INFO {/home/ehdykhne/nuplan-devkit/nuplan/planning/nuboard/base/simulation_tile.py:575}  Frame deferred: 30\n",
      "2023-12-19 17:50:02,006 INFO {/home/ehdykhne/nuplan-devkit/nuplan/planning/nuboard/base/simulation_tile.py:575}  Frame deferred: 27\n",
      "2023-12-19 17:50:02,380 INFO {/home/ehdykhne/nuplan-devkit/nuplan/planning/nuboard/base/simulation_tile.py:575}  Frame deferred: 18\n",
      "2023-12-19 17:50:02,441 INFO {/home/ehdykhne/nuplan-devkit/nuplan/planning/nuboard/base/simulation_tile.py:575}  Frame deferred: 15\n",
      "2023-12-19 17:50:02,800 INFO {/home/ehdykhne/nuplan-devkit/nuplan/planning/nuboard/base/simulation_tile.py:897}  Frame dropped 15\n",
      "2023-12-19 17:50:03,100 INFO {/home/ehdykhne/nuplan-devkit/nuplan/planning/nuboard/base/simulation_tile.py:575}  Frame deferred: 17\n",
      "2023-12-19 17:50:03,801 INFO {/home/ehdykhne/nuplan-devkit/nuplan/planning/nuboard/base/simulation_tile.py:897}  Frame dropped 17\n",
      "2023-12-19 17:50:04,497 INFO {/home/ehdykhne/nuplan-devkit/nuplan/planning/nuboard/base/simulation_tile.py:575}  Frame deferred: 18\n",
      "2023-12-19 17:50:04,802 INFO {/home/ehdykhne/nuplan-devkit/nuplan/planning/nuboard/base/simulation_tile.py:897}  Frame dropped 18\n",
      "2023-12-19 17:50:04,959 INFO {/home/ehdykhne/nuplan-devkit/nuplan/planning/nuboard/base/simulation_tile.py:575}  Frame deferred: 6\n",
      "2023-12-19 17:50:05,803 INFO {/home/ehdykhne/nuplan-devkit/nuplan/planning/nuboard/base/simulation_tile.py:897}  Frame dropped 6\n",
      "2023-12-19 17:50:07,390 INFO {/home/ehdykhne/nuplan-devkit/nuplan/planning/nuboard/base/simulation_tile.py:575}  Frame deferred: 4\n",
      "2023-12-19 17:50:07,805 INFO {/home/ehdykhne/nuplan-devkit/nuplan/planning/nuboard/base/simulation_tile.py:897}  Frame dropped 4\n",
      "2023-12-19 17:50:08,640 INFO {/home/ehdykhne/nuplan-devkit/nuplan/planning/nuboard/base/simulation_tile.py:575}  Frame deferred: 7\n",
      "2023-12-19 17:50:08,805 INFO {/home/ehdykhne/nuplan-devkit/nuplan/planning/nuboard/base/simulation_tile.py:897}  Frame dropped 7\n",
      "2023-12-19 17:50:20,481 INFO {/home/ehdykhne/nuplan-devkit/nuplan/planning/nuboard/base/simulation_tile.py:575}  Frame deferred: 42\n",
      "2023-12-19 17:50:20,817 INFO {/home/ehdykhne/nuplan-devkit/nuplan/planning/nuboard/base/simulation_tile.py:897}  Frame dropped 42\n",
      "2023-12-19 17:50:20,954 INFO {/home/ehdykhne/nuplan-devkit/nuplan/planning/nuboard/base/simulation_tile.py:575}  Frame deferred: 51\n",
      "2023-12-19 17:50:21,049 INFO {/home/ehdykhne/nuplan-devkit/nuplan/planning/nuboard/base/simulation_tile.py:575}  Frame deferred: 53\n",
      "2023-12-19 17:50:21,697 INFO {/home/ehdykhne/nuplan-devkit/nuplan/planning/nuboard/base/simulation_tile.py:575}  Frame deferred: 57\n",
      "2023-12-19 17:50:21,739 INFO {/home/ehdykhne/nuplan-devkit/nuplan/planning/nuboard/base/simulation_tile.py:575}  Frame deferred: 55\n",
      "2023-12-19 17:50:21,740 INFO {/home/ehdykhne/nuplan-devkit/nuplan/planning/nuboard/base/simulation_tile.py:575}  Frame deferred: 54\n",
      "2023-12-19 17:50:21,741 INFO {/home/ehdykhne/nuplan-devkit/nuplan/planning/nuboard/base/simulation_tile.py:575}  Frame deferred: 53\n",
      "2023-12-19 17:50:21,817 INFO {/home/ehdykhne/nuplan-devkit/nuplan/planning/nuboard/base/simulation_tile.py:897}  Frame dropped 53\n",
      "2023-12-19 17:50:21,886 INFO {/home/ehdykhne/nuplan-devkit/nuplan/planning/nuboard/base/simulation_tile.py:575}  Frame deferred: 49\n",
      "2023-12-19 17:50:21,887 INFO {/home/ehdykhne/nuplan-devkit/nuplan/planning/nuboard/base/simulation_tile.py:575}  Frame deferred: 48\n",
      "2023-12-19 17:50:22,009 INFO {/home/ehdykhne/nuplan-devkit/nuplan/planning/nuboard/base/simulation_tile.py:575}  Frame deferred: 43\n",
      "2023-12-19 17:50:22,266 INFO {/home/ehdykhne/nuplan-devkit/nuplan/planning/nuboard/base/simulation_tile.py:575}  Frame deferred: 40\n",
      "2023-12-19 17:50:22,561 INFO {/home/ehdykhne/nuplan-devkit/nuplan/planning/nuboard/base/simulation_tile.py:575}  Frame deferred: 32\n",
      "2023-12-19 17:50:22,818 INFO {/home/ehdykhne/nuplan-devkit/nuplan/planning/nuboard/base/simulation_tile.py:902}  Processing render queue for frame 32\n",
      "2023-12-19 17:50:22,917 INFO {/home/ehdykhne/nuplan-devkit/nuplan/planning/nuboard/base/simulation_tile.py:575}  Frame deferred: 36\n",
      "2023-12-19 17:50:22,921 INFO {/home/ehdykhne/nuplan-devkit/nuplan/planning/nuboard/base/simulation_tile.py:575}  Frame deferred: 37\n",
      "2023-12-19 17:50:23,432 INFO {/home/ehdykhne/nuplan-devkit/nuplan/planning/nuboard/base/simulation_tile.py:575}  Frame deferred: 52\n",
      "2023-12-19 17:50:23,819 INFO {/home/ehdykhne/nuplan-devkit/nuplan/planning/nuboard/base/simulation_tile.py:897}  Frame dropped 52\n",
      "2023-12-19 17:50:23,882 INFO {/home/ehdykhne/nuplan-devkit/nuplan/planning/nuboard/base/simulation_tile.py:575}  Frame deferred: 53\n",
      "2023-12-19 17:50:23,906 INFO {/home/ehdykhne/nuplan-devkit/nuplan/planning/nuboard/base/simulation_tile.py:575}  Frame deferred: 50\n",
      "2023-12-19 17:50:24,640 INFO {/home/ehdykhne/nuplan-devkit/nuplan/planning/nuboard/base/simulation_tile.py:575}  Frame deferred: 34\n",
      "2023-12-19 17:50:24,821 INFO {/home/ehdykhne/nuplan-devkit/nuplan/planning/nuboard/base/simulation_tile.py:897}  Frame dropped 34\n",
      "2023-12-19 17:50:25,039 INFO {/home/ehdykhne/nuplan-devkit/nuplan/planning/nuboard/base/simulation_tile.py:575}  Frame deferred: 27\n",
      "2023-12-19 17:50:25,197 INFO {/home/ehdykhne/nuplan-devkit/nuplan/planning/nuboard/base/simulation_tile.py:575}  Frame deferred: 24\n",
      "2023-12-19 17:50:25,822 INFO {/home/ehdykhne/nuplan-devkit/nuplan/planning/nuboard/base/simulation_tile.py:897}  Frame dropped 24\n",
      "2023-12-19 17:50:33,424 INFO {/home/ehdykhne/nuplan-devkit/nuplan/planning/nuboard/base/simulation_tile.py:575}  Frame deferred: 24\n",
      "2023-12-19 17:50:33,473 INFO {/home/ehdykhne/nuplan-devkit/nuplan/planning/nuboard/base/simulation_tile.py:575}  Frame deferred: 28\n",
      "2023-12-19 17:50:33,830 INFO {/home/ehdykhne/nuplan-devkit/nuplan/planning/nuboard/base/simulation_tile.py:897}  Frame dropped 28\n",
      "2023-12-19 17:50:40,141 INFO {/home/ehdykhne/nuplan-devkit/nuplan/planning/nuboard/base/simulation_tile.py:575}  Frame deferred: 32\n",
      "2023-12-19 17:50:40,836 INFO {/home/ehdykhne/nuplan-devkit/nuplan/planning/nuboard/base/simulation_tile.py:897}  Frame dropped 32\n",
      "2023-12-19 17:50:41,324 INFO {/home/ehdykhne/nuplan-devkit/nuplan/planning/nuboard/base/simulation_tile.py:575}  Frame deferred: 25\n",
      "2023-12-19 17:50:41,837 INFO {/home/ehdykhne/nuplan-devkit/nuplan/planning/nuboard/base/simulation_tile.py:897}  Frame dropped 25\n",
      "2023-12-19 17:50:42,486 INFO {/home/ehdykhne/nuplan-devkit/nuplan/planning/nuboard/base/simulation_tile.py:575}  Frame deferred: 29\n",
      "2023-12-19 17:50:42,838 INFO {/home/ehdykhne/nuplan-devkit/nuplan/planning/nuboard/base/simulation_tile.py:897}  Frame dropped 29\n",
      "2023-12-19 17:50:43,179 INFO {/home/ehdykhne/nuplan-devkit/nuplan/planning/nuboard/base/simulation_tile.py:575}  Frame deferred: 26\n",
      "2023-12-19 17:50:43,839 INFO {/home/ehdykhne/nuplan-devkit/nuplan/planning/nuboard/base/simulation_tile.py:897}  Frame dropped 26\n",
      "2023-12-19 17:50:44,947 INFO {/home/ehdykhne/nuplan-devkit/nuplan/planning/nuboard/base/simulation_tile.py:575}  Frame deferred: 29\n",
      "2023-12-19 17:50:45,840 INFO {/home/ehdykhne/nuplan-devkit/nuplan/planning/nuboard/base/simulation_tile.py:902}  Processing render queue for frame 29\n",
      "2023-12-19 17:50:46,718 INFO {/home/ehdykhne/nuplan-devkit/nuplan/planning/nuboard/base/simulation_tile.py:575}  Frame deferred: 32\n",
      "2023-12-19 17:50:46,842 INFO {/home/ehdykhne/nuplan-devkit/nuplan/planning/nuboard/base/simulation_tile.py:897}  Frame dropped 32\n",
      "2023-12-19 17:50:47,477 INFO {/home/ehdykhne/nuplan-devkit/nuplan/planning/nuboard/base/simulation_tile.py:575}  Frame deferred: 35\n",
      "2023-12-19 17:50:47,566 INFO {/home/ehdykhne/nuplan-devkit/nuplan/planning/nuboard/base/simulation_tile.py:575}  Frame deferred: 33\n",
      "2023-12-19 17:50:47,842 INFO {/home/ehdykhne/nuplan-devkit/nuplan/planning/nuboard/base/simulation_tile.py:897}  Frame dropped 33\n",
      "2023-12-19 17:50:48,476 INFO {/home/ehdykhne/nuplan-devkit/nuplan/planning/nuboard/base/simulation_tile.py:575}  Frame deferred: 23\n",
      "2023-12-19 17:50:48,477 INFO {/home/ehdykhne/nuplan-devkit/nuplan/planning/nuboard/base/simulation_tile.py:575}  Frame deferred: 24\n",
      "2023-12-19 17:50:48,842 INFO {/home/ehdykhne/nuplan-devkit/nuplan/planning/nuboard/base/simulation_tile.py:897}  Frame dropped 24\n",
      "2023-12-19 17:50:49,777 INFO {/home/ehdykhne/nuplan-devkit/nuplan/planning/nuboard/base/simulation_tile.py:575}  Frame deferred: 28\n",
      "2023-12-19 17:50:49,843 INFO {/home/ehdykhne/nuplan-devkit/nuplan/planning/nuboard/base/simulation_tile.py:902}  Processing render queue for frame 28\n",
      "2023-12-19 17:50:49,868 INFO {/home/ehdykhne/nuplan-devkit/nuplan/planning/nuboard/base/simulation_tile.py:575}  Frame deferred: 26\n",
      "2023-12-19 17:50:50,119 INFO {/home/ehdykhne/nuplan-devkit/nuplan/planning/nuboard/base/simulation_tile.py:575}  Frame deferred: 18\n",
      "2023-12-19 17:50:50,452 INFO {/home/ehdykhne/nuplan-devkit/nuplan/planning/nuboard/base/simulation_tile.py:575}  Frame deferred: 18\n",
      "2023-12-19 17:50:50,705 INFO {/home/ehdykhne/nuplan-devkit/nuplan/planning/nuboard/base/simulation_tile.py:575}  Frame deferred: 30\n",
      "2023-12-19 17:50:50,801 INFO {/home/ehdykhne/nuplan-devkit/nuplan/planning/nuboard/base/simulation_tile.py:575}  Frame deferred: 33\n",
      "2023-12-19 17:50:50,843 INFO {/home/ehdykhne/nuplan-devkit/nuplan/planning/nuboard/base/simulation_tile.py:902}  Processing render queue for frame 33\n",
      "2023-12-19 17:50:51,777 INFO {/home/ehdykhne/nuplan-devkit/nuplan/planning/nuboard/base/simulation_tile.py:575}  Frame deferred: 37\n",
      "2023-12-19 17:50:51,843 INFO {/home/ehdykhne/nuplan-devkit/nuplan/planning/nuboard/base/simulation_tile.py:897}  Frame dropped 37\n",
      "2023-12-19 17:50:51,920 INFO {/home/ehdykhne/nuplan-devkit/nuplan/planning/nuboard/base/simulation_tile.py:575}  Frame deferred: 34\n",
      "2023-12-19 17:50:52,278 INFO {/home/ehdykhne/nuplan-devkit/nuplan/planning/nuboard/base/simulation_tile.py:575}  Frame deferred: 30\n",
      "2023-12-19 17:50:52,499 INFO {/home/ehdykhne/nuplan-devkit/nuplan/planning/nuboard/base/simulation_tile.py:575}  Frame deferred: 26\n",
      "2023-12-19 17:50:52,844 INFO {/home/ehdykhne/nuplan-devkit/nuplan/planning/nuboard/base/simulation_tile.py:897}  Frame dropped 26\n",
      "2023-12-19 17:50:53,161 INFO {/home/ehdykhne/nuplan-devkit/nuplan/planning/nuboard/base/simulation_tile.py:575}  Frame deferred: 26\n",
      "2023-12-19 17:50:53,462 INFO {/home/ehdykhne/nuplan-devkit/nuplan/planning/nuboard/base/simulation_tile.py:575}  Frame deferred: 33\n",
      "2023-12-19 17:50:53,844 INFO {/home/ehdykhne/nuplan-devkit/nuplan/planning/nuboard/base/simulation_tile.py:897}  Frame dropped 33\n",
      "2023-12-19 17:50:54,975 INFO {/home/ehdykhne/nuplan-devkit/nuplan/planning/nuboard/base/simulation_tile.py:575}  Frame deferred: 45\n",
      "2023-12-19 17:50:55,059 INFO {/home/ehdykhne/nuplan-devkit/nuplan/planning/nuboard/base/simulation_tile.py:575}  Frame deferred: 42\n",
      "2023-12-19 17:50:55,324 INFO {/home/ehdykhne/nuplan-devkit/nuplan/planning/nuboard/base/simulation_tile.py:575}  Frame deferred: 37\n",
      "2023-12-19 17:50:55,455 INFO {/home/ehdykhne/nuplan-devkit/nuplan/planning/nuboard/base/simulation_tile.py:575}  Frame deferred: 35\n",
      "2023-12-19 17:50:55,629 INFO {/home/ehdykhne/nuplan-devkit/nuplan/planning/nuboard/base/simulation_tile.py:575}  Frame deferred: 31\n",
      "2023-12-19 17:50:55,805 INFO {/home/ehdykhne/nuplan-devkit/nuplan/planning/nuboard/base/simulation_tile.py:575}  Frame deferred: 27\n",
      "2023-12-19 17:50:55,845 INFO {/home/ehdykhne/nuplan-devkit/nuplan/planning/nuboard/base/simulation_tile.py:902}  Processing render queue for frame 27\n",
      "2023-12-19 17:51:02,512 INFO {/home/ehdykhne/nuplan-devkit/nuplan/planning/nuboard/base/simulation_tile.py:575}  Frame deferred: 38\n",
      "2023-12-19 17:51:02,853 INFO {/home/ehdykhne/nuplan-devkit/nuplan/planning/nuboard/base/simulation_tile.py:897}  Frame dropped 38\n",
      "2023-12-19 17:51:04,404 INFO {/home/ehdykhne/nuplan-devkit/nuplan/planning/nuboard/base/simulation_tile.py:575}  Frame deferred: 51\n",
      "2023-12-19 17:51:04,406 INFO {/home/ehdykhne/nuplan-devkit/nuplan/planning/nuboard/base/simulation_tile.py:575}  Frame deferred: 50\n",
      "2023-12-19 17:51:04,430 INFO {/home/ehdykhne/nuplan-devkit/nuplan/planning/nuboard/base/simulation_tile.py:575}  Frame deferred: 48\n",
      "2023-12-19 17:51:04,474 INFO {/home/ehdykhne/nuplan-devkit/nuplan/planning/nuboard/base/simulation_tile.py:575}  Frame deferred: 46\n",
      "2023-12-19 17:51:04,854 INFO {/home/ehdykhne/nuplan-devkit/nuplan/planning/nuboard/base/simulation_tile.py:897}  Frame dropped 46\n",
      "2023-12-19 17:51:06,133 INFO {/home/ehdykhne/nuplan-devkit/nuplan/planning/nuboard/base/simulation_tile.py:575}  Frame deferred: 26\n",
      "2023-12-19 17:51:06,137 INFO {/home/ehdykhne/nuplan-devkit/nuplan/planning/nuboard/base/simulation_tile.py:575}  Frame deferred: 25\n",
      "2023-12-19 17:51:06,856 INFO {/home/ehdykhne/nuplan-devkit/nuplan/planning/nuboard/base/simulation_tile.py:897}  Frame dropped 25\n",
      "2023-12-19 17:51:07,256 INFO {/home/ehdykhne/nuplan-devkit/nuplan/planning/nuboard/base/simulation_tile.py:575}  Frame deferred: 20\n",
      "2023-12-19 17:51:07,320 INFO {/home/ehdykhne/nuplan-devkit/nuplan/planning/nuboard/base/simulation_tile.py:575}  Frame deferred: 23\n",
      "2023-12-19 17:51:07,856 INFO {/home/ehdykhne/nuplan-devkit/nuplan/planning/nuboard/base/simulation_tile.py:897}  Frame dropped 23\n",
      "2023-12-19 17:51:07,929 INFO {/home/ehdykhne/nuplan-devkit/nuplan/planning/nuboard/base/simulation_tile.py:575}  Frame deferred: 37\n",
      "2023-12-19 17:51:08,463 INFO {/home/ehdykhne/nuplan-devkit/nuplan/planning/nuboard/base/simulation_tile.py:575}  Frame deferred: 46\n",
      "2023-12-19 17:51:08,691 INFO {/home/ehdykhne/nuplan-devkit/nuplan/planning/nuboard/base/simulation_tile.py:575}  Frame deferred: 51\n",
      "2023-12-19 17:51:08,857 INFO {/home/ehdykhne/nuplan-devkit/nuplan/planning/nuboard/base/simulation_tile.py:897}  Frame dropped 51\n",
      "2023-12-19 17:51:09,845 INFO {/home/ehdykhne/nuplan-devkit/nuplan/planning/nuboard/base/simulation_tile.py:575}  Frame deferred: 43\n",
      "2023-12-19 17:51:09,858 INFO {/home/ehdykhne/nuplan-devkit/nuplan/planning/nuboard/base/simulation_tile.py:902}  Processing render queue for frame 43\n",
      "2023-12-19 17:51:10,610 INFO {/home/ehdykhne/nuplan-devkit/nuplan/planning/nuboard/base/simulation_tile.py:575}  Frame deferred: 34\n",
      "2023-12-19 17:51:10,859 INFO {/home/ehdykhne/nuplan-devkit/nuplan/planning/nuboard/base/simulation_tile.py:897}  Frame dropped 34\n",
      "2023-12-19 17:51:11,114 INFO {/home/ehdykhne/nuplan-devkit/nuplan/planning/nuboard/base/simulation_tile.py:575}  Frame deferred: 27\n",
      "2023-12-19 17:51:11,689 INFO {/home/ehdykhne/nuplan-devkit/nuplan/planning/nuboard/base/simulation_tile.py:575}  Frame deferred: 23\n",
      "2023-12-19 17:51:11,860 INFO {/home/ehdykhne/nuplan-devkit/nuplan/planning/nuboard/base/simulation_tile.py:897}  Frame dropped 23\n"
     ]
    },
    {
     "name": "stderr",
     "output_type": "stream",
     "text": [
      "Rendering a scenario: 100%|██████████| 1/1 [00:00<00:00, 62.03it/s]\n"
     ]
    },
    {
     "name": "stdout",
     "output_type": "stream",
     "text": [
      "2023-12-19 17:51:39,705 INFO {/home/ehdykhne/nuplan-devkit/nuplan/planning/nuboard/tabs/scenario_tab.py:485}  Rending scenario plot takes 2.3115 seconds.\n"
     ]
    },
    {
     "name": "stderr",
     "output_type": "stream",
     "text": [
      "Rendering a scenario: 100%|██████████| 1/1 [00:00<00:00, 90.53it/s]\n"
     ]
    },
    {
     "name": "stdout",
     "output_type": "stream",
     "text": [
      "2023-12-19 17:52:07,141 INFO {/home/ehdykhne/nuplan-devkit/nuplan/planning/nuboard/tabs/scenario_tab.py:485}  Rending scenario plot takes 2.5427 seconds.\n"
     ]
    },
    {
     "name": "stderr",
     "output_type": "stream",
     "text": [
      "Rendering a scenario: 100%|██████████| 1/1 [00:00<00:00, 62.01it/s]\n"
     ]
    },
    {
     "name": "stdout",
     "output_type": "stream",
     "text": [
      "2023-12-19 17:53:25,582 INFO {/home/ehdykhne/nuplan-devkit/nuplan/planning/nuboard/tabs/scenario_tab.py:485}  Rending scenario plot takes 2.0993 seconds.\n",
      "2023-12-19 17:54:12,021 INFO {/home/ehdykhne/nuplan-devkit/nuplan/planning/nuboard/base/simulation_tile.py:575}  Frame deferred: 1\n",
      "2023-12-19 17:54:12,616 INFO {/home/ehdykhne/nuplan-devkit/nuplan/planning/nuboard/base/simulation_tile.py:897}  Frame dropped 1\n",
      "2023-12-19 17:54:18,827 INFO {/home/ehdykhne/nuplan-devkit/nuplan/planning/nuboard/base/simulation_tile.py:575}  Frame deferred: 3\n",
      "2023-12-19 17:54:18,833 INFO {/home/ehdykhne/nuplan-devkit/nuplan/planning/nuboard/base/simulation_tile.py:575}  Frame deferred: 4\n",
      "2023-12-19 17:54:18,871 INFO {/home/ehdykhne/nuplan-devkit/nuplan/planning/nuboard/base/simulation_tile.py:575}  Frame deferred: 6\n",
      "2023-12-19 17:54:18,912 INFO {/home/ehdykhne/nuplan-devkit/nuplan/planning/nuboard/base/simulation_tile.py:575}  Frame deferred: 9\n",
      "2023-12-19 17:54:19,613 INFO {/home/ehdykhne/nuplan-devkit/nuplan/planning/nuboard/base/simulation_tile.py:575}  Frame deferred: 9\n",
      "2023-12-19 17:54:19,616 INFO {/home/ehdykhne/nuplan-devkit/nuplan/planning/nuboard/base/simulation_tile.py:575}  Frame deferred: 8\n",
      "2023-12-19 17:54:19,619 INFO {/home/ehdykhne/nuplan-devkit/nuplan/planning/nuboard/base/simulation_tile.py:897}  Frame dropped 8\n",
      "2023-12-19 17:54:19,707 INFO {/home/ehdykhne/nuplan-devkit/nuplan/planning/nuboard/base/simulation_tile.py:575}  Frame deferred: 7\n",
      "2023-12-19 17:54:20,621 INFO {/home/ehdykhne/nuplan-devkit/nuplan/planning/nuboard/base/simulation_tile.py:897}  Frame dropped 7\n",
      "2023-12-19 17:54:22,466 INFO {/home/ehdykhne/nuplan-devkit/nuplan/planning/nuboard/base/simulation_tile.py:575}  Frame deferred: 18\n",
      "2023-12-19 17:54:22,625 INFO {/home/ehdykhne/nuplan-devkit/nuplan/planning/nuboard/base/simulation_tile.py:575}  Frame deferred: 15\n",
      "2023-12-19 17:54:22,625 INFO {/home/ehdykhne/nuplan-devkit/nuplan/planning/nuboard/base/simulation_tile.py:902}  Processing render queue for frame 15\n",
      "2023-12-19 17:54:23,318 INFO {/home/ehdykhne/nuplan-devkit/nuplan/planning/nuboard/base/simulation_tile.py:575}  Frame deferred: 10\n",
      "2023-12-19 17:54:23,449 INFO {/home/ehdykhne/nuplan-devkit/nuplan/planning/nuboard/base/simulation_tile.py:575}  Frame deferred: 13\n",
      "2023-12-19 17:54:23,549 INFO {/home/ehdykhne/nuplan-devkit/nuplan/planning/nuboard/base/simulation_tile.py:575}  Frame deferred: 15\n",
      "2023-12-19 17:54:23,622 INFO {/home/ehdykhne/nuplan-devkit/nuplan/planning/nuboard/base/simulation_tile.py:897}  Frame dropped 15\n",
      "2023-12-19 17:54:24,084 INFO {/home/ehdykhne/nuplan-devkit/nuplan/planning/nuboard/base/simulation_tile.py:575}  Frame deferred: 14\n",
      "2023-12-19 17:54:24,189 INFO {/home/ehdykhne/nuplan-devkit/nuplan/planning/nuboard/base/simulation_tile.py:575}  Frame deferred: 12\n",
      "2023-12-19 17:54:24,424 INFO {/home/ehdykhne/nuplan-devkit/nuplan/planning/nuboard/base/simulation_tile.py:575}  Frame deferred: 6\n",
      "2023-12-19 17:54:24,622 INFO {/home/ehdykhne/nuplan-devkit/nuplan/planning/nuboard/base/simulation_tile.py:897}  Frame dropped 6\n",
      "2023-12-19 17:54:26,984 INFO {/home/ehdykhne/nuplan-devkit/nuplan/planning/nuboard/base/simulation_tile.py:575}  Frame deferred: 7\n",
      "2023-12-19 17:54:27,128 INFO {/home/ehdykhne/nuplan-devkit/nuplan/planning/nuboard/base/simulation_tile.py:575}  Frame deferred: 10\n",
      "2023-12-19 17:54:27,625 INFO {/home/ehdykhne/nuplan-devkit/nuplan/planning/nuboard/base/simulation_tile.py:897}  Frame dropped 10\n",
      "2023-12-19 17:54:27,635 INFO {/home/ehdykhne/nuplan-devkit/nuplan/planning/nuboard/base/simulation_tile.py:575}  Frame deferred: 24\n",
      "2023-12-19 17:54:27,901 INFO {/home/ehdykhne/nuplan-devkit/nuplan/planning/nuboard/base/simulation_tile.py:575}  Frame deferred: 33\n",
      "2023-12-19 17:54:28,601 INFO {/home/ehdykhne/nuplan-devkit/nuplan/planning/nuboard/base/simulation_tile.py:575}  Frame deferred: 53\n",
      "2023-12-19 17:54:28,626 INFO {/home/ehdykhne/nuplan-devkit/nuplan/planning/nuboard/base/simulation_tile.py:902}  Processing render queue for frame 53\n",
      "2023-12-19 17:54:29,333 INFO {/home/ehdykhne/nuplan-devkit/nuplan/planning/nuboard/base/simulation_tile.py:575}  Frame deferred: 75\n",
      "2023-12-19 17:54:29,434 INFO {/home/ehdykhne/nuplan-devkit/nuplan/planning/nuboard/base/simulation_tile.py:575}  Frame deferred: 80\n",
      "2023-12-19 17:54:29,469 INFO {/home/ehdykhne/nuplan-devkit/nuplan/planning/nuboard/base/simulation_tile.py:575}  Frame deferred: 82\n",
      "2023-12-19 17:54:29,568 INFO {/home/ehdykhne/nuplan-devkit/nuplan/planning/nuboard/base/simulation_tile.py:575}  Frame deferred: 88\n",
      "2023-12-19 17:54:29,627 INFO {/home/ehdykhne/nuplan-devkit/nuplan/planning/nuboard/base/simulation_tile.py:897}  Frame dropped 88\n",
      "2023-12-19 17:54:29,701 INFO {/home/ehdykhne/nuplan-devkit/nuplan/planning/nuboard/base/simulation_tile.py:575}  Frame deferred: 93\n",
      "2023-12-19 17:54:30,142 INFO {/home/ehdykhne/nuplan-devkit/nuplan/planning/nuboard/base/simulation_tile.py:575}  Frame deferred: 115\n",
      "2023-12-19 17:54:30,627 INFO {/home/ehdykhne/nuplan-devkit/nuplan/planning/nuboard/base/simulation_tile.py:897}  Frame dropped 115\n",
      "2023-12-19 17:54:30,719 INFO {/home/ehdykhne/nuplan-devkit/nuplan/planning/nuboard/base/simulation_tile.py:575}  Frame deferred: 139\n",
      "2023-12-19 17:54:30,817 INFO {/home/ehdykhne/nuplan-devkit/nuplan/planning/nuboard/base/simulation_tile.py:575}  Frame deferred: 144\n",
      "2023-12-19 17:54:31,135 INFO {/home/ehdykhne/nuplan-devkit/nuplan/planning/nuboard/base/simulation_tile.py:575}  Frame deferred: 149\n",
      "2023-12-19 17:54:31,628 INFO {/home/ehdykhne/nuplan-devkit/nuplan/planning/nuboard/base/simulation_tile.py:902}  Processing render queue for frame 149\n",
      "2023-12-19 17:54:32,850 INFO {/home/ehdykhne/nuplan-devkit/nuplan/planning/nuboard/base/simulation_tile.py:575}  Frame deferred: 147\n",
      "2023-12-19 17:54:32,852 INFO {/home/ehdykhne/nuplan-devkit/nuplan/planning/nuboard/base/simulation_tile.py:575}  Frame deferred: 146\n",
      "2023-12-19 17:54:33,198 INFO {/home/ehdykhne/nuplan-devkit/nuplan/planning/nuboard/base/simulation_tile.py:575}  Frame deferred: 138\n",
      "2023-12-19 17:54:33,349 INFO {/home/ehdykhne/nuplan-devkit/nuplan/planning/nuboard/base/simulation_tile.py:575}  Frame deferred: 132\n",
      "2023-12-19 17:54:33,542 INFO {/home/ehdykhne/nuplan-devkit/nuplan/planning/nuboard/base/simulation_tile.py:575}  Frame deferred: 128\n",
      "2023-12-19 17:54:33,548 INFO {/home/ehdykhne/nuplan-devkit/nuplan/planning/nuboard/base/simulation_tile.py:575}  Frame deferred: 127\n",
      "2023-12-19 17:54:33,604 INFO {/home/ehdykhne/nuplan-devkit/nuplan/planning/nuboard/base/simulation_tile.py:575}  Frame deferred: 124\n",
      "2023-12-19 17:54:33,631 INFO {/home/ehdykhne/nuplan-devkit/nuplan/planning/nuboard/base/simulation_tile.py:902}  Processing render queue for frame 124\n",
      "2023-12-19 17:54:33,687 INFO {/home/ehdykhne/nuplan-devkit/nuplan/planning/nuboard/base/simulation_tile.py:575}  Frame deferred: 120\n",
      "2023-12-19 17:54:33,721 INFO {/home/ehdykhne/nuplan-devkit/nuplan/planning/nuboard/base/simulation_tile.py:575}  Frame deferred: 118\n",
      "2023-12-19 17:54:33,755 INFO {/home/ehdykhne/nuplan-devkit/nuplan/planning/nuboard/base/simulation_tile.py:575}  Frame deferred: 116\n",
      "2023-12-19 17:54:33,802 INFO {/home/ehdykhne/nuplan-devkit/nuplan/planning/nuboard/base/simulation_tile.py:575}  Frame deferred: 114\n",
      "2023-12-19 17:54:33,867 INFO {/home/ehdykhne/nuplan-devkit/nuplan/planning/nuboard/base/simulation_tile.py:575}  Frame deferred: 110\n",
      "2023-12-19 17:54:33,969 INFO {/home/ehdykhne/nuplan-devkit/nuplan/planning/nuboard/base/simulation_tile.py:575}  Frame deferred: 105\n",
      "2023-12-19 17:54:34,103 INFO {/home/ehdykhne/nuplan-devkit/nuplan/planning/nuboard/base/simulation_tile.py:575}  Frame deferred: 98\n",
      "2023-12-19 17:54:34,202 INFO {/home/ehdykhne/nuplan-devkit/nuplan/planning/nuboard/base/simulation_tile.py:575}  Frame deferred: 95\n",
      "2023-12-19 17:54:34,260 INFO {/home/ehdykhne/nuplan-devkit/nuplan/planning/nuboard/base/simulation_tile.py:575}  Frame deferred: 92\n",
      "2023-12-19 17:54:34,385 INFO {/home/ehdykhne/nuplan-devkit/nuplan/planning/nuboard/base/simulation_tile.py:575}  Frame deferred: 86\n",
      "2023-12-19 17:54:34,452 INFO {/home/ehdykhne/nuplan-devkit/nuplan/planning/nuboard/base/simulation_tile.py:575}  Frame deferred: 82\n",
      "2023-12-19 17:54:34,520 INFO {/home/ehdykhne/nuplan-devkit/nuplan/planning/nuboard/base/simulation_tile.py:575}  Frame deferred: 79\n",
      "2023-12-19 17:54:34,585 INFO {/home/ehdykhne/nuplan-devkit/nuplan/planning/nuboard/base/simulation_tile.py:575}  Frame deferred: 76\n",
      "2023-12-19 17:54:34,620 INFO {/home/ehdykhne/nuplan-devkit/nuplan/planning/nuboard/base/simulation_tile.py:575}  Frame deferred: 74\n",
      "2023-12-19 17:54:34,632 INFO {/home/ehdykhne/nuplan-devkit/nuplan/planning/nuboard/base/simulation_tile.py:902}  Processing render queue for frame 74\n",
      "2023-12-19 17:54:34,651 INFO {/home/ehdykhne/nuplan-devkit/nuplan/planning/nuboard/base/simulation_tile.py:575}  Frame deferred: 72\n",
      "2023-12-19 17:54:34,784 INFO {/home/ehdykhne/nuplan-devkit/nuplan/planning/nuboard/base/simulation_tile.py:575}  Frame deferred: 66\n",
      "2023-12-19 17:54:34,912 INFO {/home/ehdykhne/nuplan-devkit/nuplan/planning/nuboard/base/simulation_tile.py:575}  Frame deferred: 60\n",
      "2023-12-19 17:54:35,000 INFO {/home/ehdykhne/nuplan-devkit/nuplan/planning/nuboard/base/simulation_tile.py:575}  Frame deferred: 58\n",
      "2023-12-19 17:54:35,526 INFO {/home/ehdykhne/nuplan-devkit/nuplan/planning/nuboard/base/simulation_tile.py:575}  Frame deferred: 60\n",
      "2023-12-19 17:54:35,551 INFO {/home/ehdykhne/nuplan-devkit/nuplan/planning/nuboard/base/simulation_tile.py:575}  Frame deferred: 62\n",
      "2023-12-19 17:54:35,633 INFO {/home/ehdykhne/nuplan-devkit/nuplan/planning/nuboard/base/simulation_tile.py:897}  Frame dropped 62\n",
      "2023-12-19 17:54:37,673 INFO {/home/ehdykhne/nuplan-devkit/nuplan/planning/nuboard/base/simulation_tile.py:575}  Frame deferred: 94\n",
      "2023-12-19 17:54:37,977 INFO {/home/ehdykhne/nuplan-devkit/nuplan/planning/nuboard/base/simulation_tile.py:575}  Frame deferred: 92\n",
      "2023-12-19 17:54:37,978 INFO {/home/ehdykhne/nuplan-devkit/nuplan/planning/nuboard/base/simulation_tile.py:575}  Frame deferred: 90\n",
      "2023-12-19 17:54:37,984 INFO {/home/ehdykhne/nuplan-devkit/nuplan/planning/nuboard/base/simulation_tile.py:575}  Frame deferred: 88\n",
      "2023-12-19 17:54:38,051 INFO {/home/ehdykhne/nuplan-devkit/nuplan/planning/nuboard/base/simulation_tile.py:575}  Frame deferred: 78\n",
      "2023-12-19 17:54:38,087 INFO {/home/ehdykhne/nuplan-devkit/nuplan/planning/nuboard/base/simulation_tile.py:575}  Frame deferred: 73\n",
      "2023-12-19 17:54:38,184 INFO {/home/ehdykhne/nuplan-devkit/nuplan/planning/nuboard/base/simulation_tile.py:575}  Frame deferred: 63\n",
      "2023-12-19 17:54:38,251 INFO {/home/ehdykhne/nuplan-devkit/nuplan/planning/nuboard/base/simulation_tile.py:575}  Frame deferred: 57\n",
      "2023-12-19 17:54:38,351 INFO {/home/ehdykhne/nuplan-devkit/nuplan/planning/nuboard/base/simulation_tile.py:575}  Frame deferred: 51\n",
      "2023-12-19 17:54:38,386 INFO {/home/ehdykhne/nuplan-devkit/nuplan/planning/nuboard/base/simulation_tile.py:575}  Frame deferred: 48\n",
      "2023-12-19 17:54:38,437 INFO {/home/ehdykhne/nuplan-devkit/nuplan/planning/nuboard/base/simulation_tile.py:575}  Frame deferred: 44\n",
      "2023-12-19 17:54:38,586 INFO {/home/ehdykhne/nuplan-devkit/nuplan/planning/nuboard/base/simulation_tile.py:575}  Frame deferred: 32\n",
      "2023-12-19 17:54:38,641 INFO {/home/ehdykhne/nuplan-devkit/nuplan/planning/nuboard/base/simulation_tile.py:897}  Frame dropped 32\n",
      "2023-12-19 17:54:38,672 INFO {/home/ehdykhne/nuplan-devkit/nuplan/planning/nuboard/base/simulation_tile.py:575}  Frame deferred: 27\n",
      "2023-12-19 17:54:38,789 INFO {/home/ehdykhne/nuplan-devkit/nuplan/planning/nuboard/base/simulation_tile.py:575}  Frame deferred: 23\n",
      "2023-12-19 17:54:38,793 INFO {/home/ehdykhne/nuplan-devkit/nuplan/planning/nuboard/base/simulation_tile.py:575}  Frame deferred: 22\n",
      "2023-12-19 17:54:38,892 INFO {/home/ehdykhne/nuplan-devkit/nuplan/planning/nuboard/base/simulation_tile.py:575}  Frame deferred: 20\n",
      "2023-12-19 17:54:39,003 INFO {/home/ehdykhne/nuplan-devkit/nuplan/planning/nuboard/base/simulation_tile.py:575}  Frame deferred: 16\n",
      "2023-12-19 17:54:39,186 INFO {/home/ehdykhne/nuplan-devkit/nuplan/planning/nuboard/base/simulation_tile.py:575}  Frame deferred: 6\n",
      "2023-12-19 17:54:39,636 INFO {/home/ehdykhne/nuplan-devkit/nuplan/planning/nuboard/base/simulation_tile.py:897}  Frame dropped 6\n",
      "2023-12-19 17:54:43,493 INFO {/home/ehdykhne/nuplan-devkit/nuplan/planning/nuboard/base/simulation_tile.py:575}  Frame deferred: 14\n",
      "2023-12-19 17:54:43,623 INFO {/home/ehdykhne/nuplan-devkit/nuplan/planning/nuboard/base/simulation_tile.py:575}  Frame deferred: 16\n",
      "2023-12-19 17:54:43,639 INFO {/home/ehdykhne/nuplan-devkit/nuplan/planning/nuboard/base/simulation_tile.py:902}  Processing render queue for frame 16\n"
     ]
    },
    {
     "name": "stderr",
     "output_type": "stream",
     "text": [
      "Rendering a scenario: 100%|██████████| 1/1 [00:00<00:00, 12.98it/s]\n"
     ]
    },
    {
     "name": "stdout",
     "output_type": "stream",
     "text": [
      "2023-12-19 17:55:49,212 INFO {/home/ehdykhne/nuplan-devkit/nuplan/planning/nuboard/tabs/scenario_tab.py:485}  Rending scenario plot takes 2.3948 seconds.\n"
     ]
    },
    {
     "name": "stderr",
     "output_type": "stream",
     "text": [
      "Rendering a scenario: 100%|██████████| 1/1 [00:00<00:00, 62.35it/s]\n"
     ]
    },
    {
     "name": "stdout",
     "output_type": "stream",
     "text": [
      "2023-12-19 17:58:54,228 INFO {/home/ehdykhne/nuplan-devkit/nuplan/planning/nuboard/tabs/scenario_tab.py:485}  Rending scenario plot takes 2.3148 seconds.\n"
     ]
    },
    {
     "name": "stderr",
     "output_type": "stream",
     "text": [
      "Rendering a scenario: 100%|██████████| 1/1 [00:00<00:00,  2.01it/s]\n"
     ]
    },
    {
     "name": "stdout",
     "output_type": "stream",
     "text": [
      "2023-12-19 17:59:33,796 INFO {/home/ehdykhne/nuplan-devkit/nuplan/planning/nuboard/tabs/scenario_tab.py:485}  Rending scenario plot takes 2.2329 seconds.\n"
     ]
    },
    {
     "name": "stderr",
     "output_type": "stream",
     "text": [
      "Rendering a scenario: 100%|██████████| 1/1 [00:00<00:00, 10.73it/s]\n"
     ]
    },
    {
     "name": "stdout",
     "output_type": "stream",
     "text": [
      "2023-12-19 18:01:15,791 INFO {/home/ehdykhne/nuplan-devkit/nuplan/planning/nuboard/tabs/scenario_tab.py:485}  Rending scenario plot takes 2.0548 seconds.\n",
      "2023-12-19 18:01:32,578 INFO {/home/ehdykhne/nuplan-devkit/nuplan/planning/nuboard/base/simulation_tile.py:575}  Frame deferred: 1\n",
      "2023-12-19 18:01:32,804 INFO {/home/ehdykhne/nuplan-devkit/nuplan/planning/nuboard/base/simulation_tile.py:897}  Frame dropped 1\n",
      "2023-12-19 18:01:40,330 INFO {/home/ehdykhne/nuplan-devkit/nuplan/planning/nuboard/base/simulation_tile.py:575}  Frame deferred: 7\n",
      "2023-12-19 18:01:40,811 INFO {/home/ehdykhne/nuplan-devkit/nuplan/planning/nuboard/base/simulation_tile.py:897}  Frame dropped 7\n",
      "2023-12-19 18:01:41,053 INFO {/home/ehdykhne/nuplan-devkit/nuplan/planning/nuboard/base/simulation_tile.py:575}  Frame deferred: 17\n",
      "2023-12-19 18:01:41,287 INFO {/home/ehdykhne/nuplan-devkit/nuplan/planning/nuboard/base/simulation_tile.py:575}  Frame deferred: 24\n",
      "2023-12-19 18:01:41,352 INFO {/home/ehdykhne/nuplan-devkit/nuplan/planning/nuboard/base/simulation_tile.py:575}  Frame deferred: 26\n",
      "2023-12-19 18:01:41,552 INFO {/home/ehdykhne/nuplan-devkit/nuplan/planning/nuboard/base/simulation_tile.py:575}  Frame deferred: 33\n",
      "2023-12-19 18:01:41,620 INFO {/home/ehdykhne/nuplan-devkit/nuplan/planning/nuboard/base/simulation_tile.py:575}  Frame deferred: 36\n",
      "2023-12-19 18:01:41,719 INFO {/home/ehdykhne/nuplan-devkit/nuplan/planning/nuboard/base/simulation_tile.py:575}  Frame deferred: 43\n",
      "2023-12-19 18:01:41,811 INFO {/home/ehdykhne/nuplan-devkit/nuplan/planning/nuboard/base/simulation_tile.py:897}  Frame dropped 43\n",
      "2023-12-19 18:01:41,820 INFO {/home/ehdykhne/nuplan-devkit/nuplan/planning/nuboard/base/simulation_tile.py:575}  Frame deferred: 48\n",
      "2023-12-19 18:01:42,119 INFO {/home/ehdykhne/nuplan-devkit/nuplan/planning/nuboard/base/simulation_tile.py:575}  Frame deferred: 62\n",
      "2023-12-19 18:01:42,367 INFO {/home/ehdykhne/nuplan-devkit/nuplan/planning/nuboard/base/simulation_tile.py:575}  Frame deferred: 74\n",
      "2023-12-19 18:01:42,633 INFO {/home/ehdykhne/nuplan-devkit/nuplan/planning/nuboard/base/simulation_tile.py:575}  Frame deferred: 69\n",
      "2023-12-19 18:01:42,818 INFO {/home/ehdykhne/nuplan-devkit/nuplan/planning/nuboard/base/simulation_tile.py:897}  Frame dropped 69\n",
      "2023-12-19 18:01:43,067 INFO {/home/ehdykhne/nuplan-devkit/nuplan/planning/nuboard/base/simulation_tile.py:575}  Frame deferred: 59\n",
      "2023-12-19 18:01:43,504 INFO {/home/ehdykhne/nuplan-devkit/nuplan/planning/nuboard/base/simulation_tile.py:575}  Frame deferred: 53\n",
      "2023-12-19 18:01:43,522 INFO {/home/ehdykhne/nuplan-devkit/nuplan/planning/nuboard/base/simulation_tile.py:575}  Frame deferred: 51\n",
      "2023-12-19 18:01:43,676 INFO {/home/ehdykhne/nuplan-devkit/nuplan/planning/nuboard/base/simulation_tile.py:575}  Frame deferred: 42\n",
      "2023-12-19 18:01:43,771 INFO {/home/ehdykhne/nuplan-devkit/nuplan/planning/nuboard/base/simulation_tile.py:575}  Frame deferred: 38\n",
      "2023-12-19 18:01:43,812 INFO {/home/ehdykhne/nuplan-devkit/nuplan/planning/nuboard/base/simulation_tile.py:897}  Frame dropped 38\n",
      "2023-12-19 18:01:43,871 INFO {/home/ehdykhne/nuplan-devkit/nuplan/planning/nuboard/base/simulation_tile.py:575}  Frame deferred: 33\n",
      "2023-12-19 18:01:44,103 INFO {/home/ehdykhne/nuplan-devkit/nuplan/planning/nuboard/base/simulation_tile.py:575}  Frame deferred: 20\n",
      "2023-12-19 18:01:44,222 INFO {/home/ehdykhne/nuplan-devkit/nuplan/planning/nuboard/base/simulation_tile.py:575}  Frame deferred: 17\n",
      "2023-12-19 18:01:44,225 INFO {/home/ehdykhne/nuplan-devkit/nuplan/planning/nuboard/base/simulation_tile.py:575}  Frame deferred: 16\n",
      "2023-12-19 18:01:44,379 INFO {/home/ehdykhne/nuplan-devkit/nuplan/planning/nuboard/base/simulation_tile.py:575}  Frame deferred: 11\n",
      "2023-12-19 18:01:44,382 INFO {/home/ehdykhne/nuplan-devkit/nuplan/planning/nuboard/base/simulation_tile.py:575}  Frame deferred: 10\n",
      "2023-12-19 18:01:44,384 INFO {/home/ehdykhne/nuplan-devkit/nuplan/planning/nuboard/base/simulation_tile.py:575}  Frame deferred: 9\n",
      "2023-12-19 18:01:44,430 INFO {/home/ehdykhne/nuplan-devkit/nuplan/planning/nuboard/base/simulation_tile.py:575}  Frame deferred: 6\n",
      "2023-12-19 18:01:44,481 INFO {/home/ehdykhne/nuplan-devkit/nuplan/planning/nuboard/base/simulation_tile.py:575}  Frame deferred: 4\n",
      "2023-12-19 18:01:44,579 INFO {/home/ehdykhne/nuplan-devkit/nuplan/planning/nuboard/base/simulation_tile.py:575}  Frame deferred: 0\n",
      "2023-12-19 18:01:44,813 INFO {/home/ehdykhne/nuplan-devkit/nuplan/planning/nuboard/base/simulation_tile.py:902}  Processing render queue for frame 0\n",
      "2023-12-19 18:01:45,770 INFO {/home/ehdykhne/nuplan-devkit/nuplan/planning/nuboard/base/simulation_tile.py:575}  Frame deferred: 3\n",
      "2023-12-19 18:01:45,813 INFO {/home/ehdykhne/nuplan-devkit/nuplan/planning/nuboard/base/simulation_tile.py:897}  Frame dropped 3\n",
      "2023-12-19 18:01:45,820 INFO {/home/ehdykhne/nuplan-devkit/nuplan/planning/nuboard/base/simulation_tile.py:575}  Frame deferred: 7\n",
      "2023-12-19 18:01:45,921 INFO {/home/ehdykhne/nuplan-devkit/nuplan/planning/nuboard/base/simulation_tile.py:575}  Frame deferred: 15\n",
      "2023-12-19 18:01:46,030 INFO {/home/ehdykhne/nuplan-devkit/nuplan/planning/nuboard/base/simulation_tile.py:575}  Frame deferred: 24\n",
      "2023-12-19 18:01:46,036 INFO {/home/ehdykhne/nuplan-devkit/nuplan/planning/nuboard/base/simulation_tile.py:575}  Frame deferred: 25\n",
      "2023-12-19 18:01:46,073 INFO {/home/ehdykhne/nuplan-devkit/nuplan/planning/nuboard/base/simulation_tile.py:575}  Frame deferred: 28\n",
      "2023-12-19 18:01:46,170 INFO {/home/ehdykhne/nuplan-devkit/nuplan/planning/nuboard/base/simulation_tile.py:575}  Frame deferred: 34\n",
      "2023-12-19 18:01:46,815 INFO {/home/ehdykhne/nuplan-devkit/nuplan/planning/nuboard/base/simulation_tile.py:897}  Frame dropped 34\n",
      "2023-12-19 18:01:47,819 INFO {/home/ehdykhne/nuplan-devkit/nuplan/planning/nuboard/base/simulation_tile.py:575}  Frame deferred: 54\n",
      "2023-12-19 18:01:47,819 INFO {/home/ehdykhne/nuplan-devkit/nuplan/planning/nuboard/base/simulation_tile.py:902}  Processing render queue for frame 54\n",
      "2023-12-19 18:01:48,214 INFO {/home/ehdykhne/nuplan-devkit/nuplan/planning/nuboard/base/simulation_tile.py:575}  Frame deferred: 60\n",
      "2023-12-19 18:01:48,593 INFO {/home/ehdykhne/nuplan-devkit/nuplan/planning/nuboard/base/simulation_tile.py:575}  Frame deferred: 66\n",
      "2023-12-19 18:01:48,816 INFO {/home/ehdykhne/nuplan-devkit/nuplan/planning/nuboard/base/simulation_tile.py:897}  Frame dropped 66\n",
      "2023-12-19 18:01:50,241 INFO {/home/ehdykhne/nuplan-devkit/nuplan/planning/nuboard/base/simulation_tile.py:575}  Frame deferred: 74\n",
      "2023-12-19 18:01:50,818 INFO {/home/ehdykhne/nuplan-devkit/nuplan/planning/nuboard/base/simulation_tile.py:897}  Frame dropped 74\n",
      "2023-12-19 18:01:51,086 INFO {/home/ehdykhne/nuplan-devkit/nuplan/planning/nuboard/base/simulation_tile.py:575}  Frame deferred: 65\n",
      "2023-12-19 18:01:51,388 INFO {/home/ehdykhne/nuplan-devkit/nuplan/planning/nuboard/base/simulation_tile.py:575}  Frame deferred: 71\n",
      "2023-12-19 18:01:51,805 INFO {/home/ehdykhne/nuplan-devkit/nuplan/planning/nuboard/base/simulation_tile.py:575}  Frame deferred: 71\n",
      "2023-12-19 18:01:51,819 INFO {/home/ehdykhne/nuplan-devkit/nuplan/planning/nuboard/base/simulation_tile.py:902}  Processing render queue for frame 71\n",
      "2023-12-19 18:01:52,008 INFO {/home/ehdykhne/nuplan-devkit/nuplan/planning/nuboard/base/simulation_tile.py:575}  Frame deferred: 65\n",
      "2023-12-19 18:01:52,820 INFO {/home/ehdykhne/nuplan-devkit/nuplan/planning/nuboard/base/simulation_tile.py:897}  Frame dropped 65\n",
      "2023-12-19 18:01:53,153 INFO {/home/ehdykhne/nuplan-devkit/nuplan/planning/nuboard/base/simulation_tile.py:575}  Frame deferred: 58\n",
      "2023-12-19 18:01:53,316 INFO {/home/ehdykhne/nuplan-devkit/nuplan/planning/nuboard/base/simulation_tile.py:575}  Frame deferred: 63\n",
      "2023-12-19 18:01:53,496 INFO {/home/ehdykhne/nuplan-devkit/nuplan/planning/nuboard/base/simulation_tile.py:575}  Frame deferred: 66\n",
      "2023-12-19 18:01:53,820 INFO {/home/ehdykhne/nuplan-devkit/nuplan/planning/nuboard/base/simulation_tile.py:897}  Frame dropped 66\n",
      "2023-12-19 18:01:54,171 INFO {/home/ehdykhne/nuplan-devkit/nuplan/planning/nuboard/base/simulation_tile.py:575}  Frame deferred: 69\n",
      "2023-12-19 18:01:54,821 INFO {/home/ehdykhne/nuplan-devkit/nuplan/planning/nuboard/base/simulation_tile.py:897}  Frame dropped 69\n",
      "2023-12-19 18:01:55,597 INFO {/home/ehdykhne/nuplan-devkit/nuplan/planning/nuboard/base/simulation_tile.py:575}  Frame deferred: 59\n",
      "2023-12-19 18:01:55,665 INFO {/home/ehdykhne/nuplan-devkit/nuplan/planning/nuboard/base/simulation_tile.py:575}  Frame deferred: 61\n",
      "2023-12-19 18:01:55,732 INFO {/home/ehdykhne/nuplan-devkit/nuplan/planning/nuboard/base/simulation_tile.py:575}  Frame deferred: 63\n",
      "2023-12-19 18:01:55,824 INFO {/home/ehdykhne/nuplan-devkit/nuplan/planning/nuboard/base/simulation_tile.py:897}  Frame dropped 63\n",
      "2023-12-19 18:01:56,789 INFO {/home/ehdykhne/nuplan-devkit/nuplan/planning/nuboard/base/simulation_tile.py:575}  Frame deferred: 66\n",
      "2023-12-19 18:01:56,823 INFO {/home/ehdykhne/nuplan-devkit/nuplan/planning/nuboard/base/simulation_tile.py:902}  Processing render queue for frame 66\n",
      "2023-12-19 18:02:05,570 INFO {/home/ehdykhne/nuplan-devkit/nuplan/planning/nuboard/base/simulation_tile.py:575}  Frame deferred: 66\n",
      "2023-12-19 18:02:05,572 INFO {/home/ehdykhne/nuplan-devkit/nuplan/planning/nuboard/base/simulation_tile.py:575}  Frame deferred: 65\n",
      "2023-12-19 18:02:05,831 INFO {/home/ehdykhne/nuplan-devkit/nuplan/planning/nuboard/base/simulation_tile.py:897}  Frame dropped 65\n",
      "2023-12-19 18:02:10,456 INFO {/home/ehdykhne/nuplan-devkit/nuplan/planning/nuboard/base/simulation_tile.py:575}  Frame deferred: 57\n",
      "2023-12-19 18:02:10,560 INFO {/home/ehdykhne/nuplan-devkit/nuplan/planning/nuboard/base/simulation_tile.py:575}  Frame deferred: 51\n",
      "2023-12-19 18:02:10,623 INFO {/home/ehdykhne/nuplan-devkit/nuplan/planning/nuboard/base/simulation_tile.py:575}  Frame deferred: 48\n",
      "2023-12-19 18:02:10,835 INFO {/home/ehdykhne/nuplan-devkit/nuplan/planning/nuboard/base/simulation_tile.py:897}  Frame dropped 48\n",
      "2023-12-19 18:02:10,918 INFO {/home/ehdykhne/nuplan-devkit/nuplan/planning/nuboard/base/simulation_tile.py:575}  Frame deferred: 40\n",
      "2023-12-19 18:02:10,986 INFO {/home/ehdykhne/nuplan-devkit/nuplan/planning/nuboard/base/simulation_tile.py:575}  Frame deferred: 36\n",
      "2023-12-19 18:02:11,651 INFO {/home/ehdykhne/nuplan-devkit/nuplan/planning/nuboard/base/simulation_tile.py:575}  Frame deferred: 33\n",
      "2023-12-19 18:02:11,723 INFO {/home/ehdykhne/nuplan-devkit/nuplan/planning/nuboard/base/simulation_tile.py:575}  Frame deferred: 39\n",
      "2023-12-19 18:02:11,750 INFO {/home/ehdykhne/nuplan-devkit/nuplan/planning/nuboard/base/simulation_tile.py:575}  Frame deferred: 41\n",
      "2023-12-19 18:02:11,836 INFO {/home/ehdykhne/nuplan-devkit/nuplan/planning/nuboard/base/simulation_tile.py:897}  Frame dropped 41\n",
      "2023-12-19 18:02:11,974 INFO {/home/ehdykhne/nuplan-devkit/nuplan/planning/nuboard/base/simulation_tile.py:575}  Frame deferred: 49\n",
      "2023-12-19 18:02:12,110 INFO {/home/ehdykhne/nuplan-devkit/nuplan/planning/nuboard/base/simulation_tile.py:575}  Frame deferred: 54\n",
      "2023-12-19 18:02:12,246 INFO {/home/ehdykhne/nuplan-devkit/nuplan/planning/nuboard/base/simulation_tile.py:575}  Frame deferred: 59\n",
      "2023-12-19 18:02:12,343 INFO {/home/ehdykhne/nuplan-devkit/nuplan/planning/nuboard/base/simulation_tile.py:575}  Frame deferred: 63\n",
      "2023-12-19 18:02:12,430 INFO {/home/ehdykhne/nuplan-devkit/nuplan/planning/nuboard/base/simulation_tile.py:575}  Frame deferred: 68\n",
      "2023-12-19 18:02:12,577 INFO {/home/ehdykhne/nuplan-devkit/nuplan/planning/nuboard/base/simulation_tile.py:575}  Frame deferred: 72\n",
      "2023-12-19 18:02:12,753 INFO {/home/ehdykhne/nuplan-devkit/nuplan/planning/nuboard/base/simulation_tile.py:575}  Frame deferred: 76\n",
      "2023-12-19 18:02:12,836 INFO {/home/ehdykhne/nuplan-devkit/nuplan/planning/nuboard/base/simulation_tile.py:897}  Frame dropped 76\n",
      "2023-12-19 18:02:12,918 INFO {/home/ehdykhne/nuplan-devkit/nuplan/planning/nuboard/base/simulation_tile.py:575}  Frame deferred: 79\n",
      "2023-12-19 18:02:13,653 INFO {/home/ehdykhne/nuplan-devkit/nuplan/planning/nuboard/base/simulation_tile.py:575}  Frame deferred: 99\n",
      "2023-12-19 18:02:13,837 INFO {/home/ehdykhne/nuplan-devkit/nuplan/planning/nuboard/base/simulation_tile.py:897}  Frame dropped 99\n"
     ]
    },
    {
     "name": "stderr",
     "output_type": "stream",
     "text": [
      "Rendering a scenario: 100%|██████████| 1/1 [00:00<00:00, 14.76it/s]\n"
     ]
    },
    {
     "name": "stdout",
     "output_type": "stream",
     "text": [
      "2023-12-19 18:02:26,639 INFO {/home/ehdykhne/nuplan-devkit/nuplan/planning/nuboard/tabs/scenario_tab.py:485}  Rending scenario plot takes 2.4191 seconds.\n"
     ]
    },
    {
     "name": "stderr",
     "output_type": "stream",
     "text": [
      "Rendering a scenario: 100%|██████████| 1/1 [00:00<00:00, 21.66it/s]\n"
     ]
    },
    {
     "name": "stdout",
     "output_type": "stream",
     "text": [
      "2023-12-19 18:03:24,898 INFO {/home/ehdykhne/nuplan-devkit/nuplan/planning/nuboard/tabs/scenario_tab.py:485}  Rending scenario plot takes 2.6068 seconds.\n",
      "2023-12-19 18:03:42,675 INFO {/home/ehdykhne/nuplan-devkit/nuplan/planning/nuboard/base/simulation_tile.py:575}  Frame deferred: 120\n",
      "2023-12-19 18:03:42,744 INFO {/home/ehdykhne/nuplan-devkit/nuplan/planning/nuboard/base/simulation_tile.py:575}  Frame deferred: 117\n",
      "2023-12-19 18:03:42,841 INFO {/home/ehdykhne/nuplan-devkit/nuplan/planning/nuboard/base/simulation_tile.py:575}  Frame deferred: 113\n",
      "2023-12-19 18:03:43,153 INFO {/home/ehdykhne/nuplan-devkit/nuplan/planning/nuboard/base/simulation_tile.py:897}  Frame dropped 113\n",
      "2023-12-19 18:03:45,214 INFO {/home/ehdykhne/nuplan-devkit/nuplan/planning/nuboard/base/simulation_tile.py:575}  Frame deferred: 51\n",
      "2023-12-19 18:03:46,154 INFO {/home/ehdykhne/nuplan-devkit/nuplan/planning/nuboard/base/simulation_tile.py:897}  Frame dropped 51\n",
      "2023-12-19 18:03:46,397 INFO {/home/ehdykhne/nuplan-devkit/nuplan/planning/nuboard/base/simulation_tile.py:575}  Frame deferred: 58\n",
      "2023-12-19 18:03:46,420 INFO {/home/ehdykhne/nuplan-devkit/nuplan/planning/nuboard/base/simulation_tile.py:575}  Frame deferred: 55\n",
      "2023-12-19 18:03:46,643 INFO {/home/ehdykhne/nuplan-devkit/nuplan/planning/nuboard/base/simulation_tile.py:575}  Frame deferred: 49\n",
      "2023-12-19 18:03:46,892 INFO {/home/ehdykhne/nuplan-devkit/nuplan/planning/nuboard/base/simulation_tile.py:575}  Frame deferred: 41\n",
      "2023-12-19 18:03:47,042 INFO {/home/ehdykhne/nuplan-devkit/nuplan/planning/nuboard/base/simulation_tile.py:575}  Frame deferred: 35\n",
      "2023-12-19 18:03:47,155 INFO {/home/ehdykhne/nuplan-devkit/nuplan/planning/nuboard/base/simulation_tile.py:897}  Frame dropped 35\n",
      "2023-12-19 18:03:47,231 INFO {/home/ehdykhne/nuplan-devkit/nuplan/planning/nuboard/base/simulation_tile.py:575}  Frame deferred: 29\n",
      "2023-12-19 18:03:47,548 INFO {/home/ehdykhne/nuplan-devkit/nuplan/planning/nuboard/base/simulation_tile.py:575}  Frame deferred: 30\n",
      "2023-12-19 18:03:47,697 INFO {/home/ehdykhne/nuplan-devkit/nuplan/planning/nuboard/base/simulation_tile.py:575}  Frame deferred: 33\n",
      "2023-12-19 18:03:47,834 INFO {/home/ehdykhne/nuplan-devkit/nuplan/planning/nuboard/base/simulation_tile.py:575}  Frame deferred: 37\n",
      "2023-12-19 18:03:47,895 INFO {/home/ehdykhne/nuplan-devkit/nuplan/planning/nuboard/base/simulation_tile.py:575}  Frame deferred: 40\n",
      "2023-12-19 18:03:47,992 INFO {/home/ehdykhne/nuplan-devkit/nuplan/planning/nuboard/base/simulation_tile.py:575}  Frame deferred: 45\n",
      "2023-12-19 18:03:48,039 INFO {/home/ehdykhne/nuplan-devkit/nuplan/planning/nuboard/base/simulation_tile.py:575}  Frame deferred: 47\n",
      "2023-12-19 18:03:48,156 INFO {/home/ehdykhne/nuplan-devkit/nuplan/planning/nuboard/base/simulation_tile.py:897}  Frame dropped 47\n",
      "2023-12-19 18:03:48,326 INFO {/home/ehdykhne/nuplan-devkit/nuplan/planning/nuboard/base/simulation_tile.py:575}  Frame deferred: 58\n",
      "2023-12-19 18:03:49,169 INFO {/home/ehdykhne/nuplan-devkit/nuplan/planning/nuboard/base/simulation_tile.py:897}  Frame dropped 58\n",
      "2023-12-19 18:04:10,019 INFO {/home/ehdykhne/nuplan-devkit/nuplan/planning/nuboard/base/simulation_tile.py:575}  Frame deferred: 78\n",
      "2023-12-19 18:04:10,183 INFO {/home/ehdykhne/nuplan-devkit/nuplan/planning/nuboard/base/simulation_tile.py:897}  Frame dropped 78\n",
      "2023-12-19 18:04:10,366 INFO {/home/ehdykhne/nuplan-devkit/nuplan/planning/nuboard/base/simulation_tile.py:575}  Frame deferred: 73\n",
      "2023-12-19 18:04:11,184 INFO {/home/ehdykhne/nuplan-devkit/nuplan/planning/nuboard/base/simulation_tile.py:902}  Processing render queue for frame 73\n",
      "2023-12-19 18:04:11,548 INFO {/home/ehdykhne/nuplan-devkit/nuplan/planning/nuboard/base/simulation_tile.py:575}  Frame deferred: 70\n",
      "2023-12-19 18:04:12,184 INFO {/home/ehdykhne/nuplan-devkit/nuplan/planning/nuboard/base/simulation_tile.py:897}  Frame dropped 70\n",
      "2023-12-19 18:04:17,279 INFO {/home/ehdykhne/nuplan-devkit/nuplan/planning/nuboard/base/simulation_tile.py:575}  Frame deferred: 64\n",
      "2023-12-19 18:04:17,402 INFO {/home/ehdykhne/nuplan-devkit/nuplan/planning/nuboard/base/simulation_tile.py:575}  Frame deferred: 62\n",
      "2023-12-19 18:04:17,717 INFO {/home/ehdykhne/nuplan-devkit/nuplan/planning/nuboard/base/simulation_tile.py:575}  Frame deferred: 64\n",
      "2023-12-19 18:04:17,829 INFO {/home/ehdykhne/nuplan-devkit/nuplan/planning/nuboard/base/simulation_tile.py:575}  Frame deferred: 67\n",
      "2023-12-19 18:04:17,831 INFO {/home/ehdykhne/nuplan-devkit/nuplan/planning/nuboard/base/simulation_tile.py:575}  Frame deferred: 68\n",
      "2023-12-19 18:04:18,133 INFO {/home/ehdykhne/nuplan-devkit/nuplan/planning/nuboard/base/simulation_tile.py:575}  Frame deferred: 74\n",
      "2023-12-19 18:04:18,194 INFO {/home/ehdykhne/nuplan-devkit/nuplan/planning/nuboard/base/simulation_tile.py:902}  Processing render queue for frame 74\n",
      "2023-12-19 18:04:19,996 INFO {/home/ehdykhne/nuplan-devkit/nuplan/planning/nuboard/base/simulation_tile.py:575}  Frame deferred: 119\n",
      "2023-12-19 18:04:20,196 INFO {/home/ehdykhne/nuplan-devkit/nuplan/planning/nuboard/base/simulation_tile.py:902}  Processing render queue for frame 119\n"
     ]
    },
    {
     "name": "stderr",
     "output_type": "stream",
     "text": [
      "Rendering a scenario: 100%|██████████| 1/1 [00:00<00:00, 38.17it/s]\n"
     ]
    },
    {
     "name": "stdout",
     "output_type": "stream",
     "text": [
      "2023-12-19 18:08:48,681 INFO {/home/ehdykhne/nuplan-devkit/nuplan/planning/nuboard/tabs/scenario_tab.py:485}  Rending scenario plot takes 1.6079 seconds.\n"
     ]
    },
    {
     "name": "stderr",
     "output_type": "stream",
     "text": [
      "Rendering a scenario: 100%|██████████| 1/1 [00:00<00:00, 27.49it/s]\n"
     ]
    },
    {
     "name": "stdout",
     "output_type": "stream",
     "text": [
      "2023-12-19 18:13:11,132 INFO {/home/ehdykhne/nuplan-devkit/nuplan/planning/nuboard/tabs/scenario_tab.py:485}  Rending scenario plot takes 2.1623 seconds.\n"
     ]
    },
    {
     "name": "stderr",
     "output_type": "stream",
     "text": [
      "Rendering a scenario: 100%|██████████| 1/1 [00:00<00:00, 46.25it/s]\n"
     ]
    },
    {
     "name": "stdout",
     "output_type": "stream",
     "text": [
      "2023-12-19 18:19:53,860 INFO {/home/ehdykhne/nuplan-devkit/nuplan/planning/nuboard/tabs/scenario_tab.py:485}  Rending scenario plot takes 2.1316 seconds.\n"
     ]
    },
    {
     "name": "stderr",
     "output_type": "stream",
     "text": [
      "Rendering a scenario: 100%|██████████| 1/1 [00:00<00:00, 16.24it/s]\n"
     ]
    },
    {
     "name": "stdout",
     "output_type": "stream",
     "text": [
      "2023-12-19 18:20:25,935 INFO {/home/ehdykhne/nuplan-devkit/nuplan/planning/nuboard/tabs/scenario_tab.py:485}  Rending scenario plot takes 2.1964 seconds.\n"
     ]
    },
    {
     "name": "stderr",
     "output_type": "stream",
     "text": [
      "Rendering a scenario: 100%|██████████| 1/1 [00:00<00:00, 13.26it/s]\n"
     ]
    },
    {
     "name": "stdout",
     "output_type": "stream",
     "text": [
      "2023-12-19 18:20:59,618 INFO {/home/ehdykhne/nuplan-devkit/nuplan/planning/nuboard/tabs/scenario_tab.py:485}  Rending scenario plot takes 2.3172 seconds.\n"
     ]
    },
    {
     "name": "stderr",
     "output_type": "stream",
     "text": [
      "Rendering a scenario: 100%|██████████| 1/1 [00:00<00:00, 22.40it/s]\n"
     ]
    },
    {
     "name": "stdout",
     "output_type": "stream",
     "text": [
      "2023-12-19 18:21:45,917 INFO {/home/ehdykhne/nuplan-devkit/nuplan/planning/nuboard/tabs/scenario_tab.py:485}  Rending scenario plot takes 1.5985 seconds.\n",
      "2023-12-19 18:54:58,876 INFO {/home/ehdykhne/nuplan-devkit/nuplan/planning/nuboard/base/simulation_tile.py:575}  Frame deferred: 0\n",
      "2023-12-19 18:54:59,200 INFO {/home/ehdykhne/nuplan-devkit/nuplan/planning/nuboard/base/simulation_tile.py:897}  Frame dropped 0\n"
     ]
    },
    {
     "name": "stderr",
     "output_type": "stream",
     "text": [
      "Rendering a scenario: 100%|██████████| 1/1 [00:00<00:00, 41.10it/s]\n"
     ]
    },
    {
     "name": "stdout",
     "output_type": "stream",
     "text": [
      "2023-12-19 19:17:46,993 INFO {/home/ehdykhne/nuplan-devkit/nuplan/planning/nuboard/tabs/scenario_tab.py:485}  Rending scenario plot takes 2.0285 seconds.\n",
      "2023-12-19 19:18:05,179 INFO {/home/ehdykhne/nuplan-devkit/nuplan/planning/nuboard/base/simulation_tile.py:575}  Frame deferred: 1\n",
      "2023-12-19 19:18:06,005 INFO {/home/ehdykhne/nuplan-devkit/nuplan/planning/nuboard/base/simulation_tile.py:897}  Frame dropped 1\n",
      "2023-12-19 19:18:17,561 INFO {/home/ehdykhne/nuplan-devkit/nuplan/planning/nuboard/base/simulation_tile.py:575}  Frame deferred: 2\n",
      "2023-12-19 19:18:17,628 INFO {/home/ehdykhne/nuplan-devkit/nuplan/planning/nuboard/base/simulation_tile.py:575}  Frame deferred: 4\n",
      "2023-12-19 19:18:18,016 INFO {/home/ehdykhne/nuplan-devkit/nuplan/planning/nuboard/base/simulation_tile.py:902}  Processing render queue for frame 4\n",
      "2023-12-19 19:18:18,264 INFO {/home/ehdykhne/nuplan-devkit/nuplan/planning/nuboard/base/simulation_tile.py:575}  Frame deferred: 7\n",
      "2023-12-19 19:18:18,265 INFO {/home/ehdykhne/nuplan-devkit/nuplan/planning/nuboard/base/simulation_tile.py:575}  Frame deferred: 8\n",
      "2023-12-19 19:18:18,661 INFO {/home/ehdykhne/nuplan-devkit/nuplan/planning/nuboard/base/simulation_tile.py:575}  Frame deferred: 16\n",
      "2023-12-19 19:18:18,730 INFO {/home/ehdykhne/nuplan-devkit/nuplan/planning/nuboard/base/simulation_tile.py:575}  Frame deferred: 19\n",
      "2023-12-19 19:18:19,011 INFO {/home/ehdykhne/nuplan-devkit/nuplan/planning/nuboard/base/simulation_tile.py:575}  Frame deferred: 25\n",
      "2023-12-19 19:18:19,017 INFO {/home/ehdykhne/nuplan-devkit/nuplan/planning/nuboard/base/simulation_tile.py:902}  Processing render queue for frame 25\n",
      "2023-12-19 19:18:19,421 INFO {/home/ehdykhne/nuplan-devkit/nuplan/planning/nuboard/base/simulation_tile.py:575}  Frame deferred: 25\n",
      "2023-12-19 19:18:19,428 INFO {/home/ehdykhne/nuplan-devkit/nuplan/planning/nuboard/base/simulation_tile.py:575}  Frame deferred: 24\n",
      "2023-12-19 19:18:19,469 INFO {/home/ehdykhne/nuplan-devkit/nuplan/planning/nuboard/base/simulation_tile.py:575}  Frame deferred: 22\n",
      "2023-12-19 19:18:19,546 INFO {/home/ehdykhne/nuplan-devkit/nuplan/planning/nuboard/base/simulation_tile.py:575}  Frame deferred: 18\n",
      "2023-12-19 19:18:19,678 INFO {/home/ehdykhne/nuplan-devkit/nuplan/planning/nuboard/base/simulation_tile.py:575}  Frame deferred: 13\n",
      "2023-12-19 19:18:19,846 INFO {/home/ehdykhne/nuplan-devkit/nuplan/planning/nuboard/base/simulation_tile.py:575}  Frame deferred: 6\n",
      "2023-12-19 19:18:20,017 INFO {/home/ehdykhne/nuplan-devkit/nuplan/planning/nuboard/base/simulation_tile.py:897}  Frame dropped 6\n",
      "2023-12-19 19:18:23,164 INFO {/home/ehdykhne/nuplan-devkit/nuplan/planning/nuboard/base/simulation_tile.py:575}  Frame deferred: 4\n",
      "2023-12-19 19:18:23,640 INFO {/home/ehdykhne/nuplan-devkit/nuplan/planning/nuboard/base/simulation_tile.py:575}  Frame deferred: 17\n",
      "2023-12-19 19:18:23,641 INFO {/home/ehdykhne/nuplan-devkit/nuplan/planning/nuboard/base/simulation_tile.py:575}  Frame deferred: 18\n",
      "2023-12-19 19:18:23,662 INFO {/home/ehdykhne/nuplan-devkit/nuplan/planning/nuboard/base/simulation_tile.py:575}  Frame deferred: 20\n",
      "2023-12-19 19:18:23,918 INFO {/home/ehdykhne/nuplan-devkit/nuplan/planning/nuboard/base/simulation_tile.py:575}  Frame deferred: 23\n",
      "2023-12-19 19:18:23,920 INFO {/home/ehdykhne/nuplan-devkit/nuplan/planning/nuboard/base/simulation_tile.py:575}  Frame deferred: 24\n",
      "2023-12-19 19:18:23,969 INFO {/home/ehdykhne/nuplan-devkit/nuplan/planning/nuboard/base/simulation_tile.py:575}  Frame deferred: 27\n",
      "2023-12-19 19:18:24,021 INFO {/home/ehdykhne/nuplan-devkit/nuplan/planning/nuboard/base/simulation_tile.py:897}  Frame dropped 27\n",
      "2023-12-19 19:18:25,431 INFO {/home/ehdykhne/nuplan-devkit/nuplan/planning/nuboard/base/simulation_tile.py:575}  Frame deferred: 35\n",
      "2023-12-19 19:18:25,495 INFO {/home/ehdykhne/nuplan-devkit/nuplan/planning/nuboard/base/simulation_tile.py:575}  Frame deferred: 33\n",
      "2023-12-19 19:18:25,645 INFO {/home/ehdykhne/nuplan-devkit/nuplan/planning/nuboard/base/simulation_tile.py:575}  Frame deferred: 30\n",
      "2023-12-19 19:18:25,647 INFO {/home/ehdykhne/nuplan-devkit/nuplan/planning/nuboard/base/simulation_tile.py:575}  Frame deferred: 29\n",
      "2023-12-19 19:18:25,846 INFO {/home/ehdykhne/nuplan-devkit/nuplan/planning/nuboard/base/simulation_tile.py:575}  Frame deferred: 19\n",
      "2023-12-19 19:18:25,912 INFO {/home/ehdykhne/nuplan-devkit/nuplan/planning/nuboard/base/simulation_tile.py:575}  Frame deferred: 16\n",
      "2023-12-19 19:18:25,979 INFO {/home/ehdykhne/nuplan-devkit/nuplan/planning/nuboard/base/simulation_tile.py:575}  Frame deferred: 11\n",
      "2023-12-19 19:18:26,022 INFO {/home/ehdykhne/nuplan-devkit/nuplan/planning/nuboard/base/simulation_tile.py:902}  Processing render queue for frame 11\n",
      "2023-12-19 19:18:26,812 INFO {/home/ehdykhne/nuplan-devkit/nuplan/planning/nuboard/base/simulation_tile.py:575}  Frame deferred: 4\n",
      "2023-12-19 19:18:26,901 INFO {/home/ehdykhne/nuplan-devkit/nuplan/planning/nuboard/base/simulation_tile.py:575}  Frame deferred: 9\n",
      "2023-12-19 19:18:26,980 INFO {/home/ehdykhne/nuplan-devkit/nuplan/planning/nuboard/base/simulation_tile.py:575}  Frame deferred: 15\n",
      "2023-12-19 19:18:27,023 INFO {/home/ehdykhne/nuplan-devkit/nuplan/planning/nuboard/base/simulation_tile.py:897}  Frame dropped 15\n",
      "2023-12-19 19:18:27,096 INFO {/home/ehdykhne/nuplan-devkit/nuplan/planning/nuboard/base/simulation_tile.py:575}  Frame deferred: 26\n",
      "2023-12-19 19:18:27,130 INFO {/home/ehdykhne/nuplan-devkit/nuplan/planning/nuboard/base/simulation_tile.py:575}  Frame deferred: 29\n",
      "2023-12-19 19:18:27,380 INFO {/home/ehdykhne/nuplan-devkit/nuplan/planning/nuboard/base/simulation_tile.py:575}  Frame deferred: 51\n",
      "2023-12-19 19:18:27,416 INFO {/home/ehdykhne/nuplan-devkit/nuplan/planning/nuboard/base/simulation_tile.py:575}  Frame deferred: 55\n",
      "2023-12-19 19:18:27,450 INFO {/home/ehdykhne/nuplan-devkit/nuplan/planning/nuboard/base/simulation_tile.py:575}  Frame deferred: 59\n",
      "2023-12-19 19:18:27,481 INFO {/home/ehdykhne/nuplan-devkit/nuplan/planning/nuboard/base/simulation_tile.py:575}  Frame deferred: 62\n",
      "2023-12-19 19:18:27,551 INFO {/home/ehdykhne/nuplan-devkit/nuplan/planning/nuboard/base/simulation_tile.py:575}  Frame deferred: 67\n",
      "2023-12-19 19:18:27,615 INFO {/home/ehdykhne/nuplan-devkit/nuplan/planning/nuboard/base/simulation_tile.py:575}  Frame deferred: 71\n",
      "2023-12-19 19:18:27,680 INFO {/home/ehdykhne/nuplan-devkit/nuplan/planning/nuboard/base/simulation_tile.py:575}  Frame deferred: 76\n",
      "2023-12-19 19:18:27,778 INFO {/home/ehdykhne/nuplan-devkit/nuplan/planning/nuboard/base/simulation_tile.py:575}  Frame deferred: 83\n",
      "2023-12-19 19:18:28,023 INFO {/home/ehdykhne/nuplan-devkit/nuplan/planning/nuboard/base/simulation_tile.py:897}  Frame dropped 83\n",
      "2023-12-19 19:18:28,296 INFO {/home/ehdykhne/nuplan-devkit/nuplan/planning/nuboard/base/simulation_tile.py:575}  Frame deferred: 83\n",
      "2023-12-19 19:18:28,336 INFO {/home/ehdykhne/nuplan-devkit/nuplan/planning/nuboard/base/simulation_tile.py:575}  Frame deferred: 80\n",
      "2023-12-19 19:18:28,344 INFO {/home/ehdykhne/nuplan-devkit/nuplan/planning/nuboard/base/simulation_tile.py:575}  Frame deferred: 79\n",
      "2023-12-19 19:18:28,413 INFO {/home/ehdykhne/nuplan-devkit/nuplan/planning/nuboard/base/simulation_tile.py:575}  Frame deferred: 74\n",
      "2023-12-19 19:18:28,452 INFO {/home/ehdykhne/nuplan-devkit/nuplan/planning/nuboard/base/simulation_tile.py:575}  Frame deferred: 71\n",
      "2023-12-19 19:18:28,612 INFO {/home/ehdykhne/nuplan-devkit/nuplan/planning/nuboard/base/simulation_tile.py:575}  Frame deferred: 58\n",
      "2023-12-19 19:18:28,778 INFO {/home/ehdykhne/nuplan-devkit/nuplan/planning/nuboard/base/simulation_tile.py:575}  Frame deferred: 50\n",
      "2023-12-19 19:18:28,860 INFO {/home/ehdykhne/nuplan-devkit/nuplan/planning/nuboard/base/simulation_tile.py:575}  Frame deferred: 46\n",
      "2023-12-19 19:18:29,023 INFO {/home/ehdykhne/nuplan-devkit/nuplan/planning/nuboard/base/simulation_tile.py:897}  Frame dropped 46\n",
      "2023-12-19 19:18:29,223 INFO {/home/ehdykhne/nuplan-devkit/nuplan/planning/nuboard/base/simulation_tile.py:575}  Frame deferred: 22\n",
      "2023-12-19 19:18:29,616 INFO {/home/ehdykhne/nuplan-devkit/nuplan/planning/nuboard/base/simulation_tile.py:575}  Frame deferred: 1\n",
      "2023-12-19 19:18:30,024 INFO {/home/ehdykhne/nuplan-devkit/nuplan/planning/nuboard/base/simulation_tile.py:897}  Frame dropped 1\n",
      "2023-12-19 19:18:30,610 INFO {/home/ehdykhne/nuplan-devkit/nuplan/planning/nuboard/base/simulation_tile.py:575}  Frame deferred: 2\n",
      "2023-12-19 19:18:30,789 INFO {/home/ehdykhne/nuplan-devkit/nuplan/planning/nuboard/base/simulation_tile.py:575}  Frame deferred: 12\n",
      "2023-12-19 19:18:30,904 INFO {/home/ehdykhne/nuplan-devkit/nuplan/planning/nuboard/base/simulation_tile.py:575}  Frame deferred: 17\n",
      "2023-12-19 19:18:30,956 INFO {/home/ehdykhne/nuplan-devkit/nuplan/planning/nuboard/base/simulation_tile.py:575}  Frame deferred: 19\n",
      "2023-12-19 19:18:31,025 INFO {/home/ehdykhne/nuplan-devkit/nuplan/planning/nuboard/base/simulation_tile.py:897}  Frame dropped 19\n",
      "2023-12-19 19:18:32,558 INFO {/home/ehdykhne/nuplan-devkit/nuplan/planning/nuboard/base/simulation_tile.py:575}  Frame deferred: 13\n",
      "2023-12-19 19:18:33,026 INFO {/home/ehdykhne/nuplan-devkit/nuplan/planning/nuboard/base/simulation_tile.py:897}  Frame dropped 13\n",
      "2023-12-19 19:18:34,609 INFO {/home/ehdykhne/nuplan-devkit/nuplan/planning/nuboard/base/simulation_tile.py:575}  Frame deferred: 2\n",
      "2023-12-19 19:18:34,679 INFO {/home/ehdykhne/nuplan-devkit/nuplan/planning/nuboard/base/simulation_tile.py:575}  Frame deferred: 6\n",
      "2023-12-19 19:18:34,747 INFO {/home/ehdykhne/nuplan-devkit/nuplan/planning/nuboard/base/simulation_tile.py:575}  Frame deferred: 11\n",
      "2023-12-19 19:18:34,939 INFO {/home/ehdykhne/nuplan-devkit/nuplan/planning/nuboard/base/simulation_tile.py:575}  Frame deferred: 26\n",
      "2023-12-19 19:18:34,991 INFO {/home/ehdykhne/nuplan-devkit/nuplan/planning/nuboard/base/simulation_tile.py:575}  Frame deferred: 31\n",
      "2023-12-19 19:18:35,029 INFO {/home/ehdykhne/nuplan-devkit/nuplan/planning/nuboard/base/simulation_tile.py:902}  Processing render queue for frame 31\n",
      "2023-12-19 19:18:35,148 INFO {/home/ehdykhne/nuplan-devkit/nuplan/planning/nuboard/base/simulation_tile.py:575}  Frame deferred: 37\n",
      "2023-12-19 19:18:35,790 INFO {/home/ehdykhne/nuplan-devkit/nuplan/planning/nuboard/base/simulation_tile.py:575}  Frame deferred: 35\n",
      "2023-12-19 19:18:35,879 INFO {/home/ehdykhne/nuplan-devkit/nuplan/planning/nuboard/base/simulation_tile.py:575}  Frame deferred: 29\n",
      "2023-12-19 19:18:36,029 INFO {/home/ehdykhne/nuplan-devkit/nuplan/planning/nuboard/base/simulation_tile.py:897}  Frame dropped 29\n",
      "2023-12-19 19:18:36,176 INFO {/home/ehdykhne/nuplan-devkit/nuplan/planning/nuboard/base/simulation_tile.py:575}  Frame deferred: 15\n",
      "2023-12-19 19:18:36,269 INFO {/home/ehdykhne/nuplan-devkit/nuplan/planning/nuboard/base/simulation_tile.py:575}  Frame deferred: 11\n",
      "2023-12-19 19:18:36,359 INFO {/home/ehdykhne/nuplan-devkit/nuplan/planning/nuboard/base/simulation_tile.py:575}  Frame deferred: 8\n",
      "2023-12-19 19:18:37,030 INFO {/home/ehdykhne/nuplan-devkit/nuplan/planning/nuboard/base/simulation_tile.py:897}  Frame dropped 8\n",
      "2023-12-19 19:18:46,568 INFO {/home/ehdykhne/nuplan-devkit/nuplan/planning/nuboard/base/simulation_tile.py:575}  Frame deferred: 9\n",
      "2023-12-19 19:18:46,727 INFO {/home/ehdykhne/nuplan-devkit/nuplan/planning/nuboard/base/simulation_tile.py:575}  Frame deferred: 13\n",
      "2023-12-19 19:18:47,039 INFO {/home/ehdykhne/nuplan-devkit/nuplan/planning/nuboard/base/simulation_tile.py:897}  Frame dropped 13\n",
      "2023-12-19 19:18:48,572 INFO {/home/ehdykhne/nuplan-devkit/nuplan/planning/nuboard/base/simulation_tile.py:575}  Frame deferred: 25\n",
      "2023-12-19 19:18:49,042 INFO {/home/ehdykhne/nuplan-devkit/nuplan/planning/nuboard/base/simulation_tile.py:897}  Frame dropped 25\n",
      "2023-12-19 19:18:50,540 INFO {/home/ehdykhne/nuplan-devkit/nuplan/planning/nuboard/base/simulation_tile.py:575}  Frame deferred: 46\n",
      "2023-12-19 19:18:50,790 INFO {/home/ehdykhne/nuplan-devkit/nuplan/planning/nuboard/base/simulation_tile.py:575}  Frame deferred: 52\n",
      "2023-12-19 19:18:51,043 INFO {/home/ehdykhne/nuplan-devkit/nuplan/planning/nuboard/base/simulation_tile.py:897}  Frame dropped 52\n",
      "2023-12-19 19:18:51,840 INFO {/home/ehdykhne/nuplan-devkit/nuplan/planning/nuboard/base/simulation_tile.py:575}  Frame deferred: 46\n",
      "2023-12-19 19:18:52,044 INFO {/home/ehdykhne/nuplan-devkit/nuplan/planning/nuboard/base/simulation_tile.py:897}  Frame dropped 46\n",
      "2023-12-19 19:18:52,085 INFO {/home/ehdykhne/nuplan-devkit/nuplan/planning/nuboard/base/simulation_tile.py:575}  Frame deferred: 35\n",
      "2023-12-19 19:18:52,174 INFO {/home/ehdykhne/nuplan-devkit/nuplan/planning/nuboard/base/simulation_tile.py:575}  Frame deferred: 32\n",
      "2023-12-19 19:18:52,416 INFO {/home/ehdykhne/nuplan-devkit/nuplan/planning/nuboard/base/simulation_tile.py:575}  Frame deferred: 23\n",
      "2023-12-19 19:18:52,592 INFO {/home/ehdykhne/nuplan-devkit/nuplan/planning/nuboard/base/simulation_tile.py:575}  Frame deferred: 15\n",
      "2023-12-19 19:18:53,045 INFO {/home/ehdykhne/nuplan-devkit/nuplan/planning/nuboard/base/simulation_tile.py:897}  Frame dropped 15\n",
      "2023-12-19 19:18:53,612 INFO {/home/ehdykhne/nuplan-devkit/nuplan/planning/nuboard/base/simulation_tile.py:575}  Frame deferred: 3\n",
      "2023-12-19 19:18:53,713 INFO {/home/ehdykhne/nuplan-devkit/nuplan/planning/nuboard/base/simulation_tile.py:575}  Frame deferred: 10\n",
      "2023-12-19 19:18:53,781 INFO {/home/ehdykhne/nuplan-devkit/nuplan/planning/nuboard/base/simulation_tile.py:575}  Frame deferred: 15\n",
      "2023-12-19 19:18:54,015 INFO {/home/ehdykhne/nuplan-devkit/nuplan/planning/nuboard/base/simulation_tile.py:575}  Frame deferred: 25\n",
      "2023-12-19 19:18:54,046 INFO {/home/ehdykhne/nuplan-devkit/nuplan/planning/nuboard/base/simulation_tile.py:902}  Processing render queue for frame 25\n",
      "2023-12-19 19:18:54,610 INFO {/home/ehdykhne/nuplan-devkit/nuplan/planning/nuboard/base/simulation_tile.py:575}  Frame deferred: 36\n",
      "2023-12-19 19:18:55,047 INFO {/home/ehdykhne/nuplan-devkit/nuplan/planning/nuboard/base/simulation_tile.py:897}  Frame dropped 36\n",
      "2023-12-19 19:19:01,237 INFO {/home/ehdykhne/nuplan-devkit/nuplan/planning/nuboard/base/simulation_tile.py:575}  Frame deferred: 76\n",
      "2023-12-19 19:19:01,981 INFO {/home/ehdykhne/nuplan-devkit/nuplan/planning/nuboard/base/simulation_tile.py:575}  Frame deferred: 87\n",
      "2023-12-19 19:19:02,054 INFO {/home/ehdykhne/nuplan-devkit/nuplan/planning/nuboard/base/simulation_tile.py:897}  Frame dropped 87\n",
      "2023-12-19 19:19:02,388 INFO {/home/ehdykhne/nuplan-devkit/nuplan/planning/nuboard/base/simulation_tile.py:575}  Frame deferred: 96\n",
      "2023-12-19 19:19:02,782 INFO {/home/ehdykhne/nuplan-devkit/nuplan/planning/nuboard/base/simulation_tile.py:575}  Frame deferred: 88\n",
      "2023-12-19 19:19:02,896 INFO {/home/ehdykhne/nuplan-devkit/nuplan/planning/nuboard/base/simulation_tile.py:575}  Frame deferred: 79\n",
      "2023-12-19 19:19:03,053 INFO {/home/ehdykhne/nuplan-devkit/nuplan/planning/nuboard/base/simulation_tile.py:897}  Frame dropped 79\n",
      "2023-12-19 19:19:03,230 INFO {/home/ehdykhne/nuplan-devkit/nuplan/planning/nuboard/base/simulation_tile.py:575}  Frame deferred: 65\n",
      "2023-12-19 19:19:03,894 INFO {/home/ehdykhne/nuplan-devkit/nuplan/planning/nuboard/base/simulation_tile.py:575}  Frame deferred: 58\n",
      "2023-12-19 19:19:03,896 INFO {/home/ehdykhne/nuplan-devkit/nuplan/planning/nuboard/base/simulation_tile.py:575}  Frame deferred: 59\n",
      "2023-12-19 19:19:04,054 INFO {/home/ehdykhne/nuplan-devkit/nuplan/planning/nuboard/base/simulation_tile.py:897}  Frame dropped 59\n",
      "2023-12-19 19:19:04,316 INFO {/home/ehdykhne/nuplan-devkit/nuplan/planning/nuboard/base/simulation_tile.py:575}  Frame deferred: 74\n",
      "2023-12-19 19:19:04,643 INFO {/home/ehdykhne/nuplan-devkit/nuplan/planning/nuboard/base/simulation_tile.py:575}  Frame deferred: 82\n",
      "2023-12-19 19:19:04,729 INFO {/home/ehdykhne/nuplan-devkit/nuplan/planning/nuboard/base/simulation_tile.py:575}  Frame deferred: 84\n",
      "2023-12-19 19:19:04,914 INFO {/home/ehdykhne/nuplan-devkit/nuplan/planning/nuboard/base/simulation_tile.py:575}  Frame deferred: 90\n",
      "2023-12-19 19:19:05,055 INFO {/home/ehdykhne/nuplan-devkit/nuplan/planning/nuboard/base/simulation_tile.py:897}  Frame dropped 90\n",
      "2023-12-19 19:19:05,191 INFO {/home/ehdykhne/nuplan-devkit/nuplan/planning/nuboard/base/simulation_tile.py:575}  Frame deferred: 98\n",
      "2023-12-19 19:19:05,365 INFO {/home/ehdykhne/nuplan-devkit/nuplan/planning/nuboard/base/simulation_tile.py:575}  Frame deferred: 106\n",
      "2023-12-19 19:19:05,642 INFO {/home/ehdykhne/nuplan-devkit/nuplan/planning/nuboard/base/simulation_tile.py:575}  Frame deferred: 121\n",
      "2023-12-19 19:19:05,834 INFO {/home/ehdykhne/nuplan-devkit/nuplan/planning/nuboard/base/simulation_tile.py:575}  Frame deferred: 129\n",
      "2023-12-19 19:19:06,055 INFO {/home/ehdykhne/nuplan-devkit/nuplan/planning/nuboard/base/simulation_tile.py:897}  Frame dropped 129\n",
      "2023-12-19 19:19:06,284 INFO {/home/ehdykhne/nuplan-devkit/nuplan/planning/nuboard/base/simulation_tile.py:575}  Frame deferred: 118\n",
      "2023-12-19 19:19:06,417 INFO {/home/ehdykhne/nuplan-devkit/nuplan/planning/nuboard/base/simulation_tile.py:575}  Frame deferred: 107\n",
      "2023-12-19 19:19:06,482 INFO {/home/ehdykhne/nuplan-devkit/nuplan/planning/nuboard/base/simulation_tile.py:575}  Frame deferred: 102\n",
      "2023-12-19 19:19:06,567 INFO {/home/ehdykhne/nuplan-devkit/nuplan/planning/nuboard/base/simulation_tile.py:575}  Frame deferred: 97\n",
      "2023-12-19 19:19:06,600 INFO {/home/ehdykhne/nuplan-devkit/nuplan/planning/nuboard/base/simulation_tile.py:575}  Frame deferred: 95\n",
      "2023-12-19 19:19:06,698 INFO {/home/ehdykhne/nuplan-devkit/nuplan/planning/nuboard/base/simulation_tile.py:575}  Frame deferred: 86\n",
      "2023-12-19 19:19:06,810 INFO {/home/ehdykhne/nuplan-devkit/nuplan/planning/nuboard/base/simulation_tile.py:575}  Frame deferred: 78\n",
      "2023-12-19 19:19:07,056 INFO {/home/ehdykhne/nuplan-devkit/nuplan/planning/nuboard/base/simulation_tile.py:897}  Frame dropped 78\n",
      "2023-12-19 19:19:07,119 INFO {/home/ehdykhne/nuplan-devkit/nuplan/planning/nuboard/base/simulation_tile.py:575}  Frame deferred: 59\n",
      "2023-12-19 19:19:07,232 INFO {/home/ehdykhne/nuplan-devkit/nuplan/planning/nuboard/base/simulation_tile.py:575}  Frame deferred: 54\n",
      "2023-12-19 19:19:07,423 INFO {/home/ehdykhne/nuplan-devkit/nuplan/planning/nuboard/base/simulation_tile.py:575}  Frame deferred: 44\n",
      "2023-12-19 19:19:07,740 INFO {/home/ehdykhne/nuplan-devkit/nuplan/planning/nuboard/base/simulation_tile.py:575}  Frame deferred: 27\n",
      "2023-12-19 19:19:07,910 INFO {/home/ehdykhne/nuplan-devkit/nuplan/planning/nuboard/base/simulation_tile.py:575}  Frame deferred: 23\n",
      "2023-12-19 19:19:08,056 INFO {/home/ehdykhne/nuplan-devkit/nuplan/planning/nuboard/base/simulation_tile.py:897}  Frame dropped 23\n",
      "2023-12-19 19:19:08,127 INFO {/home/ehdykhne/nuplan-devkit/nuplan/planning/nuboard/base/simulation_tile.py:575}  Frame deferred: 18\n",
      "2023-12-19 19:19:08,356 INFO {/home/ehdykhne/nuplan-devkit/nuplan/planning/nuboard/base/simulation_tile.py:575}  Frame deferred: 11\n",
      "2023-12-19 19:19:08,448 INFO {/home/ehdykhne/nuplan-devkit/nuplan/planning/nuboard/base/simulation_tile.py:575}  Frame deferred: 9\n",
      "2023-12-19 19:19:08,534 INFO {/home/ehdykhne/nuplan-devkit/nuplan/planning/nuboard/base/simulation_tile.py:575}  Frame deferred: 6\n",
      "2023-12-19 19:19:09,057 INFO {/home/ehdykhne/nuplan-devkit/nuplan/planning/nuboard/base/simulation_tile.py:897}  Frame dropped 6\n",
      "2023-12-19 19:19:09,459 INFO {/home/ehdykhne/nuplan-devkit/nuplan/planning/nuboard/base/simulation_tile.py:575}  Frame deferred: 4\n",
      "2023-12-19 19:19:09,532 INFO {/home/ehdykhne/nuplan-devkit/nuplan/planning/nuboard/base/simulation_tile.py:575}  Frame deferred: 12\n",
      "2023-12-19 19:19:09,557 INFO {/home/ehdykhne/nuplan-devkit/nuplan/planning/nuboard/base/simulation_tile.py:575}  Frame deferred: 15\n",
      "2023-12-19 19:19:09,628 INFO {/home/ehdykhne/nuplan-devkit/nuplan/planning/nuboard/base/simulation_tile.py:575}  Frame deferred: 22\n",
      "2023-12-19 19:19:09,657 INFO {/home/ehdykhne/nuplan-devkit/nuplan/planning/nuboard/base/simulation_tile.py:575}  Frame deferred: 24\n",
      "2023-12-19 19:19:09,706 INFO {/home/ehdykhne/nuplan-devkit/nuplan/planning/nuboard/base/simulation_tile.py:575}  Frame deferred: 28\n",
      "2023-12-19 19:19:09,808 INFO {/home/ehdykhne/nuplan-devkit/nuplan/planning/nuboard/base/simulation_tile.py:575}  Frame deferred: 34\n",
      "2023-12-19 19:19:09,875 INFO {/home/ehdykhne/nuplan-devkit/nuplan/planning/nuboard/base/simulation_tile.py:575}  Frame deferred: 37\n",
      "2023-12-19 19:19:10,057 INFO {/home/ehdykhne/nuplan-devkit/nuplan/planning/nuboard/base/simulation_tile.py:897}  Frame dropped 37\n",
      "2023-12-19 19:19:10,231 INFO {/home/ehdykhne/nuplan-devkit/nuplan/planning/nuboard/base/simulation_tile.py:575}  Frame deferred: 54\n",
      "2023-12-19 19:19:10,436 INFO {/home/ehdykhne/nuplan-devkit/nuplan/planning/nuboard/base/simulation_tile.py:575}  Frame deferred: 63\n",
      "2023-12-19 19:19:10,528 INFO {/home/ehdykhne/nuplan-devkit/nuplan/planning/nuboard/base/simulation_tile.py:575}  Frame deferred: 67\n",
      "2023-12-19 19:19:10,851 INFO {/home/ehdykhne/nuplan-devkit/nuplan/planning/nuboard/base/simulation_tile.py:575}  Frame deferred: 80\n",
      "2023-12-19 19:19:10,944 INFO {/home/ehdykhne/nuplan-devkit/nuplan/planning/nuboard/base/simulation_tile.py:575}  Frame deferred: 84\n",
      "2023-12-19 19:19:11,033 INFO {/home/ehdykhne/nuplan-devkit/nuplan/planning/nuboard/base/simulation_tile.py:575}  Frame deferred: 89\n",
      "2023-12-19 19:19:11,058 INFO {/home/ehdykhne/nuplan-devkit/nuplan/planning/nuboard/base/simulation_tile.py:897}  Frame dropped 89\n",
      "2023-12-19 19:19:11,244 INFO {/home/ehdykhne/nuplan-devkit/nuplan/planning/nuboard/base/simulation_tile.py:575}  Frame deferred: 101\n",
      "2023-12-19 19:19:11,641 INFO {/home/ehdykhne/nuplan-devkit/nuplan/planning/nuboard/base/simulation_tile.py:575}  Frame deferred: 96\n",
      "2023-12-19 19:19:11,643 INFO {/home/ehdykhne/nuplan-devkit/nuplan/planning/nuboard/base/simulation_tile.py:575}  Frame deferred: 95\n",
      "2023-12-19 19:19:11,694 INFO {/home/ehdykhne/nuplan-devkit/nuplan/planning/nuboard/base/simulation_tile.py:575}  Frame deferred: 90\n",
      "2023-12-19 19:19:11,849 INFO {/home/ehdykhne/nuplan-devkit/nuplan/planning/nuboard/base/simulation_tile.py:575}  Frame deferred: 75\n",
      "2023-12-19 19:19:12,042 INFO {/home/ehdykhne/nuplan-devkit/nuplan/planning/nuboard/base/simulation_tile.py:575}  Frame deferred: 61\n",
      "2023-12-19 19:19:12,058 INFO {/home/ehdykhne/nuplan-devkit/nuplan/planning/nuboard/base/simulation_tile.py:902}  Processing render queue for frame 61\n",
      "2023-12-19 19:19:12,133 INFO {/home/ehdykhne/nuplan-devkit/nuplan/planning/nuboard/base/simulation_tile.py:575}  Frame deferred: 55\n",
      "2023-12-19 19:19:12,222 INFO {/home/ehdykhne/nuplan-devkit/nuplan/planning/nuboard/base/simulation_tile.py:575}  Frame deferred: 46\n",
      "2023-12-19 19:19:12,455 INFO {/home/ehdykhne/nuplan-devkit/nuplan/planning/nuboard/base/simulation_tile.py:575}  Frame deferred: 22\n",
      "2023-12-19 19:19:12,632 INFO {/home/ehdykhne/nuplan-devkit/nuplan/planning/nuboard/base/simulation_tile.py:575}  Frame deferred: 6\n",
      "2023-12-19 19:19:12,723 INFO {/home/ehdykhne/nuplan-devkit/nuplan/planning/nuboard/base/simulation_tile.py:575}  Frame deferred: 0\n",
      "2023-12-19 19:19:13,060 INFO {/home/ehdykhne/nuplan-devkit/nuplan/planning/nuboard/base/simulation_tile.py:902}  Processing render queue for frame 0\n",
      "2023-12-19 19:19:13,201 INFO {/home/ehdykhne/nuplan-devkit/nuplan/planning/nuboard/base/simulation_tile.py:575}  Frame deferred: 3\n",
      "2023-12-19 19:19:13,229 INFO {/home/ehdykhne/nuplan-devkit/nuplan/planning/nuboard/base/simulation_tile.py:575}  Frame deferred: 7\n",
      "2023-12-19 19:19:13,698 INFO {/home/ehdykhne/nuplan-devkit/nuplan/planning/nuboard/base/simulation_tile.py:575}  Frame deferred: 56\n",
      "2023-12-19 19:19:13,794 INFO {/home/ehdykhne/nuplan-devkit/nuplan/planning/nuboard/base/simulation_tile.py:575}  Frame deferred: 62\n",
      "2023-12-19 19:19:13,921 INFO {/home/ehdykhne/nuplan-devkit/nuplan/planning/nuboard/base/simulation_tile.py:575}  Frame deferred: 72\n",
      "2023-12-19 19:19:14,060 INFO {/home/ehdykhne/nuplan-devkit/nuplan/planning/nuboard/base/simulation_tile.py:897}  Frame dropped 72\n",
      "2023-12-19 19:19:14,097 INFO {/home/ehdykhne/nuplan-devkit/nuplan/planning/nuboard/base/simulation_tile.py:575}  Frame deferred: 88\n",
      "2023-12-19 19:19:14,186 INFO {/home/ehdykhne/nuplan-devkit/nuplan/planning/nuboard/base/simulation_tile.py:575}  Frame deferred: 94\n",
      "2023-12-19 19:19:14,236 INFO {/home/ehdykhne/nuplan-devkit/nuplan/planning/nuboard/base/simulation_tile.py:575}  Frame deferred: 98\n",
      "2023-12-19 19:19:14,500 INFO {/home/ehdykhne/nuplan-devkit/nuplan/planning/nuboard/base/simulation_tile.py:575}  Frame deferred: 110\n",
      "2023-12-19 19:19:14,634 INFO {/home/ehdykhne/nuplan-devkit/nuplan/planning/nuboard/base/simulation_tile.py:575}  Frame deferred: 115\n",
      "2023-12-19 19:19:14,928 INFO {/home/ehdykhne/nuplan-devkit/nuplan/planning/nuboard/base/simulation_tile.py:575}  Frame deferred: 129\n",
      "2023-12-19 19:19:15,025 INFO {/home/ehdykhne/nuplan-devkit/nuplan/planning/nuboard/base/simulation_tile.py:575}  Frame deferred: 133\n",
      "2023-12-19 19:19:15,060 INFO {/home/ehdykhne/nuplan-devkit/nuplan/planning/nuboard/base/simulation_tile.py:902}  Processing render queue for frame 133\n",
      "2023-12-19 19:19:15,274 INFO {/home/ehdykhne/nuplan-devkit/nuplan/planning/nuboard/base/simulation_tile.py:575}  Frame deferred: 146\n",
      "2023-12-19 19:19:16,062 INFO {/home/ehdykhne/nuplan-devkit/nuplan/planning/nuboard/base/simulation_tile.py:897}  Frame dropped 146\n",
      "2023-12-19 19:19:16,202 INFO {/home/ehdykhne/nuplan-devkit/nuplan/planning/nuboard/base/simulation_tile.py:575}  Frame deferred: 138\n",
      "2023-12-19 19:19:16,230 INFO {/home/ehdykhne/nuplan-devkit/nuplan/planning/nuboard/base/simulation_tile.py:575}  Frame deferred: 134\n",
      "2023-12-19 19:19:16,256 INFO {/home/ehdykhne/nuplan-devkit/nuplan/planning/nuboard/base/simulation_tile.py:575}  Frame deferred: 131\n",
      "2023-12-19 19:19:16,461 INFO {/home/ehdykhne/nuplan-devkit/nuplan/planning/nuboard/base/simulation_tile.py:575}  Frame deferred: 115\n",
      "2023-12-19 19:19:16,559 INFO {/home/ehdykhne/nuplan-devkit/nuplan/planning/nuboard/base/simulation_tile.py:575}  Frame deferred: 109\n",
      "2023-12-19 19:19:16,730 INFO {/home/ehdykhne/nuplan-devkit/nuplan/planning/nuboard/base/simulation_tile.py:575}  Frame deferred: 99\n",
      "2023-12-19 19:19:16,832 INFO {/home/ehdykhne/nuplan-devkit/nuplan/planning/nuboard/base/simulation_tile.py:575}  Frame deferred: 93\n",
      "2023-12-19 19:19:17,053 INFO {/home/ehdykhne/nuplan-devkit/nuplan/planning/nuboard/base/simulation_tile.py:575}  Frame deferred: 78\n",
      "2023-12-19 19:19:17,062 INFO {/home/ehdykhne/nuplan-devkit/nuplan/planning/nuboard/base/simulation_tile.py:902}  Processing render queue for frame 78\n",
      "2023-12-19 19:19:17,143 INFO {/home/ehdykhne/nuplan-devkit/nuplan/planning/nuboard/base/simulation_tile.py:575}  Frame deferred: 74\n",
      "2023-12-19 19:19:17,239 INFO {/home/ehdykhne/nuplan-devkit/nuplan/planning/nuboard/base/simulation_tile.py:575}  Frame deferred: 70\n",
      "2023-12-19 19:19:17,406 INFO {/home/ehdykhne/nuplan-devkit/nuplan/planning/nuboard/base/simulation_tile.py:575}  Frame deferred: 61\n",
      "2023-12-19 19:19:17,649 INFO {/home/ehdykhne/nuplan-devkit/nuplan/planning/nuboard/base/simulation_tile.py:575}  Frame deferred: 45\n",
      "2023-12-19 19:19:17,822 INFO {/home/ehdykhne/nuplan-devkit/nuplan/planning/nuboard/base/simulation_tile.py:575}  Frame deferred: 38\n",
      "2023-12-19 19:19:18,063 INFO {/home/ehdykhne/nuplan-devkit/nuplan/planning/nuboard/base/simulation_tile.py:897}  Frame dropped 38\n",
      "2023-12-19 19:19:18,092 INFO {/home/ehdykhne/nuplan-devkit/nuplan/planning/nuboard/base/simulation_tile.py:575}  Frame deferred: 26\n",
      "2023-12-19 19:19:18,231 INFO {/home/ehdykhne/nuplan-devkit/nuplan/planning/nuboard/base/simulation_tile.py:575}  Frame deferred: 20\n",
      "2023-12-19 19:19:18,427 INFO {/home/ehdykhne/nuplan-devkit/nuplan/planning/nuboard/base/simulation_tile.py:575}  Frame deferred: 12\n",
      "2023-12-19 19:19:18,750 INFO {/home/ehdykhne/nuplan-devkit/nuplan/planning/nuboard/base/simulation_tile.py:575}  Frame deferred: 0\n",
      "2023-12-19 19:19:19,064 INFO {/home/ehdykhne/nuplan-devkit/nuplan/planning/nuboard/base/simulation_tile.py:902}  Processing render queue for frame 0\n",
      "2023-12-19 19:19:19,512 INFO {/home/ehdykhne/nuplan-devkit/nuplan/planning/nuboard/base/simulation_tile.py:575}  Frame deferred: 5\n",
      "2023-12-19 19:19:19,514 INFO {/home/ehdykhne/nuplan-devkit/nuplan/planning/nuboard/base/simulation_tile.py:575}  Frame deferred: 7\n",
      "2023-12-19 19:19:19,575 INFO {/home/ehdykhne/nuplan-devkit/nuplan/planning/nuboard/base/simulation_tile.py:575}  Frame deferred: 13\n",
      "2023-12-19 19:19:19,641 INFO {/home/ehdykhne/nuplan-devkit/nuplan/planning/nuboard/base/simulation_tile.py:575}  Frame deferred: 18\n",
      "2023-12-19 19:19:19,777 INFO {/home/ehdykhne/nuplan-devkit/nuplan/planning/nuboard/base/simulation_tile.py:575}  Frame deferred: 28\n",
      "2023-12-19 19:19:19,922 INFO {/home/ehdykhne/nuplan-devkit/nuplan/planning/nuboard/base/simulation_tile.py:575}  Frame deferred: 39\n",
      "2023-12-19 19:19:20,067 INFO {/home/ehdykhne/nuplan-devkit/nuplan/planning/nuboard/base/simulation_tile.py:897}  Frame dropped 39\n",
      "2023-12-19 19:19:20,153 INFO {/home/ehdykhne/nuplan-devkit/nuplan/planning/nuboard/base/simulation_tile.py:575}  Frame deferred: 53\n",
      "2023-12-19 19:19:20,444 INFO {/home/ehdykhne/nuplan-devkit/nuplan/planning/nuboard/base/simulation_tile.py:575}  Frame deferred: 57\n",
      "2023-12-19 19:19:20,573 INFO {/home/ehdykhne/nuplan-devkit/nuplan/planning/nuboard/base/simulation_tile.py:575}  Frame deferred: 61\n",
      "2023-12-19 19:19:20,677 INFO {/home/ehdykhne/nuplan-devkit/nuplan/planning/nuboard/base/simulation_tile.py:575}  Frame deferred: 64\n",
      "2023-12-19 19:19:20,727 INFO {/home/ehdykhne/nuplan-devkit/nuplan/planning/nuboard/base/simulation_tile.py:575}  Frame deferred: 66\n",
      "2023-12-19 19:19:20,944 INFO {/home/ehdykhne/nuplan-devkit/nuplan/planning/nuboard/base/simulation_tile.py:575}  Frame deferred: 77\n",
      "2023-12-19 19:19:21,064 INFO {/home/ehdykhne/nuplan-devkit/nuplan/planning/nuboard/base/simulation_tile.py:897}  Frame dropped 77\n",
      "2023-12-19 19:19:21,184 INFO {/home/ehdykhne/nuplan-devkit/nuplan/planning/nuboard/base/simulation_tile.py:575}  Frame deferred: 86\n",
      "2023-12-19 19:19:21,992 INFO {/home/ehdykhne/nuplan-devkit/nuplan/planning/nuboard/base/simulation_tile.py:575}  Frame deferred: 88\n",
      "2023-12-19 19:19:22,048 INFO {/home/ehdykhne/nuplan-devkit/nuplan/planning/nuboard/base/simulation_tile.py:575}  Frame deferred: 84\n",
      "2023-12-19 19:19:22,052 INFO {/home/ehdykhne/nuplan-devkit/nuplan/planning/nuboard/base/simulation_tile.py:575}  Frame deferred: 83\n",
      "2023-12-19 19:19:22,068 INFO {/home/ehdykhne/nuplan-devkit/nuplan/planning/nuboard/base/simulation_tile.py:897}  Frame dropped 83\n",
      "2023-12-19 19:19:22,076 INFO {/home/ehdykhne/nuplan-devkit/nuplan/planning/nuboard/base/simulation_tile.py:575}  Frame deferred: 81\n",
      "2023-12-19 19:19:22,244 INFO {/home/ehdykhne/nuplan-devkit/nuplan/planning/nuboard/base/simulation_tile.py:575}  Frame deferred: 69\n",
      "2023-12-19 19:19:22,328 INFO {/home/ehdykhne/nuplan-devkit/nuplan/planning/nuboard/base/simulation_tile.py:575}  Frame deferred: 61\n",
      "2023-12-19 19:19:22,651 INFO {/home/ehdykhne/nuplan-devkit/nuplan/planning/nuboard/base/simulation_tile.py:575}  Frame deferred: 33\n",
      "2023-12-19 19:19:22,744 INFO {/home/ehdykhne/nuplan-devkit/nuplan/planning/nuboard/base/simulation_tile.py:575}  Frame deferred: 26\n",
      "2023-12-19 19:19:22,981 INFO {/home/ehdykhne/nuplan-devkit/nuplan/planning/nuboard/base/simulation_tile.py:575}  Frame deferred: 4\n",
      "2023-12-19 19:19:23,070 INFO {/home/ehdykhne/nuplan-devkit/nuplan/planning/nuboard/base/simulation_tile.py:897}  Frame dropped 4\n",
      "2023-12-19 19:19:23,911 INFO {/home/ehdykhne/nuplan-devkit/nuplan/planning/nuboard/base/simulation_tile.py:575}  Frame deferred: 3\n",
      "2023-12-19 19:19:23,913 INFO {/home/ehdykhne/nuplan-devkit/nuplan/planning/nuboard/base/simulation_tile.py:575}  Frame deferred: 5\n",
      "2023-12-19 19:19:23,946 INFO {/home/ehdykhne/nuplan-devkit/nuplan/planning/nuboard/base/simulation_tile.py:575}  Frame deferred: 11\n",
      "2023-12-19 19:19:24,066 INFO {/home/ehdykhne/nuplan-devkit/nuplan/planning/nuboard/base/simulation_tile.py:897}  Frame dropped 11\n",
      "2023-12-19 19:19:26,693 INFO {/home/ehdykhne/nuplan-devkit/nuplan/planning/nuboard/base/simulation_tile.py:575}  Frame deferred: 33\n",
      "2023-12-19 19:19:27,069 INFO {/home/ehdykhne/nuplan-devkit/nuplan/planning/nuboard/base/simulation_tile.py:897}  Frame dropped 33\n",
      "2023-12-19 19:19:40,024 INFO {/home/ehdykhne/nuplan-devkit/nuplan/planning/nuboard/base/simulation_tile.py:575}  Frame deferred: 40\n",
      "2023-12-19 19:19:40,080 INFO {/home/ehdykhne/nuplan-devkit/nuplan/planning/nuboard/base/simulation_tile.py:897}  Frame dropped 40\n",
      "2023-12-19 19:19:40,261 INFO {/home/ehdykhne/nuplan-devkit/nuplan/planning/nuboard/base/simulation_tile.py:575}  Frame deferred: 46\n",
      "2023-12-19 19:19:40,604 INFO {/home/ehdykhne/nuplan-devkit/nuplan/planning/nuboard/base/simulation_tile.py:575}  Frame deferred: 54\n",
      "2023-12-19 19:19:41,081 INFO {/home/ehdykhne/nuplan-devkit/nuplan/planning/nuboard/base/simulation_tile.py:897}  Frame dropped 54\n",
      "2023-12-19 19:19:41,449 INFO {/home/ehdykhne/nuplan-devkit/nuplan/planning/nuboard/base/simulation_tile.py:575}  Frame deferred: 69\n",
      "2023-12-19 19:19:42,088 INFO {/home/ehdykhne/nuplan-devkit/nuplan/planning/nuboard/base/simulation_tile.py:897}  Frame dropped 69\n",
      "2023-12-19 19:19:42,091 INFO {/home/ehdykhne/nuplan-devkit/nuplan/planning/nuboard/base/simulation_tile.py:575}  Frame deferred: 85\n",
      "2023-12-19 19:19:42,424 INFO {/home/ehdykhne/nuplan-devkit/nuplan/planning/nuboard/base/simulation_tile.py:575}  Frame deferred: 82\n",
      "2023-12-19 19:19:42,475 INFO {/home/ehdykhne/nuplan-devkit/nuplan/planning/nuboard/base/simulation_tile.py:575}  Frame deferred: 80\n",
      "2023-12-19 19:19:42,541 INFO {/home/ehdykhne/nuplan-devkit/nuplan/planning/nuboard/base/simulation_tile.py:575}  Frame deferred: 77\n",
      "2023-12-19 19:19:42,592 INFO {/home/ehdykhne/nuplan-devkit/nuplan/planning/nuboard/base/simulation_tile.py:575}  Frame deferred: 74\n",
      "2023-12-19 19:19:42,642 INFO {/home/ehdykhne/nuplan-devkit/nuplan/planning/nuboard/base/simulation_tile.py:575}  Frame deferred: 72\n",
      "2023-12-19 19:19:42,774 INFO {/home/ehdykhne/nuplan-devkit/nuplan/planning/nuboard/base/simulation_tile.py:575}  Frame deferred: 67\n",
      "2023-12-19 19:19:43,008 INFO {/home/ehdykhne/nuplan-devkit/nuplan/planning/nuboard/base/simulation_tile.py:575}  Frame deferred: 62\n",
      "2023-12-19 19:19:43,082 INFO {/home/ehdykhne/nuplan-devkit/nuplan/planning/nuboard/base/simulation_tile.py:897}  Frame dropped 62\n",
      "2023-12-19 19:19:43,225 INFO {/home/ehdykhne/nuplan-devkit/nuplan/planning/nuboard/base/simulation_tile.py:575}  Frame deferred: 54\n",
      "2023-12-19 19:19:43,293 INFO {/home/ehdykhne/nuplan-devkit/nuplan/planning/nuboard/base/simulation_tile.py:575}  Frame deferred: 51\n",
      "2023-12-19 19:19:43,620 INFO {/home/ehdykhne/nuplan-devkit/nuplan/planning/nuboard/base/simulation_tile.py:575}  Frame deferred: 37\n",
      "2023-12-19 19:19:43,626 INFO {/home/ehdykhne/nuplan-devkit/nuplan/planning/nuboard/base/simulation_tile.py:575}  Frame deferred: 36\n",
      "2023-12-19 19:19:43,824 INFO {/home/ehdykhne/nuplan-devkit/nuplan/planning/nuboard/base/simulation_tile.py:575}  Frame deferred: 30\n",
      "2023-12-19 19:19:44,067 INFO {/home/ehdykhne/nuplan-devkit/nuplan/planning/nuboard/base/simulation_tile.py:575}  Frame deferred: 25\n",
      "2023-12-19 19:19:44,083 INFO {/home/ehdykhne/nuplan-devkit/nuplan/planning/nuboard/base/simulation_tile.py:902}  Processing render queue for frame 25\n",
      "2023-12-19 19:19:44,696 INFO {/home/ehdykhne/nuplan-devkit/nuplan/planning/nuboard/base/simulation_tile.py:575}  Frame deferred: 12\n",
      "2023-12-19 19:19:44,977 INFO {/home/ehdykhne/nuplan-devkit/nuplan/planning/nuboard/base/simulation_tile.py:575}  Frame deferred: 2\n",
      "2023-12-19 19:19:45,084 INFO {/home/ehdykhne/nuplan-devkit/nuplan/planning/nuboard/base/simulation_tile.py:897}  Frame dropped 2\n",
      "2023-12-19 19:19:45,927 INFO {/home/ehdykhne/nuplan-devkit/nuplan/planning/nuboard/base/simulation_tile.py:575}  Frame deferred: 4\n",
      "2023-12-19 19:19:45,930 INFO {/home/ehdykhne/nuplan-devkit/nuplan/planning/nuboard/base/simulation_tile.py:575}  Frame deferred: 5\n",
      "2023-12-19 19:19:45,999 INFO {/home/ehdykhne/nuplan-devkit/nuplan/planning/nuboard/base/simulation_tile.py:575}  Frame deferred: 11\n",
      "2023-12-19 19:19:46,085 INFO {/home/ehdykhne/nuplan-devkit/nuplan/planning/nuboard/base/simulation_tile.py:897}  Frame dropped 11\n",
      "2023-12-19 19:19:46,120 INFO {/home/ehdykhne/nuplan-devkit/nuplan/planning/nuboard/base/simulation_tile.py:575}  Frame deferred: 20\n",
      "2023-12-19 19:19:46,213 INFO {/home/ehdykhne/nuplan-devkit/nuplan/planning/nuboard/base/simulation_tile.py:575}  Frame deferred: 23\n",
      "2023-12-19 19:19:46,299 INFO {/home/ehdykhne/nuplan-devkit/nuplan/planning/nuboard/base/simulation_tile.py:575}  Frame deferred: 26\n",
      "2023-12-19 19:19:47,086 INFO {/home/ehdykhne/nuplan-devkit/nuplan/planning/nuboard/base/simulation_tile.py:897}  Frame dropped 26\n",
      "2023-12-19 19:19:51,753 INFO {/home/ehdykhne/nuplan-devkit/nuplan/planning/nuboard/base/simulation_tile.py:575}  Frame deferred: 34\n",
      "2023-12-19 19:19:52,091 INFO {/home/ehdykhne/nuplan-devkit/nuplan/planning/nuboard/base/simulation_tile.py:897}  Frame dropped 34\n",
      "2023-12-19 19:20:13,477 INFO {/home/ehdykhne/nuplan-devkit/nuplan/planning/nuboard/base/simulation_tile.py:575}  Frame deferred: 32\n",
      "2023-12-19 19:20:13,889 INFO {/home/ehdykhne/nuplan-devkit/nuplan/planning/nuboard/base/simulation_tile.py:575}  Frame deferred: 45\n",
      "2023-12-19 19:20:13,981 INFO {/home/ehdykhne/nuplan-devkit/nuplan/planning/nuboard/base/simulation_tile.py:575}  Frame deferred: 49\n",
      "2023-12-19 19:20:14,065 INFO {/home/ehdykhne/nuplan-devkit/nuplan/planning/nuboard/base/simulation_tile.py:575}  Frame deferred: 52\n",
      "2023-12-19 19:20:14,112 INFO {/home/ehdykhne/nuplan-devkit/nuplan/planning/nuboard/base/simulation_tile.py:897}  Frame dropped 52\n",
      "2023-12-19 19:20:14,293 INFO {/home/ehdykhne/nuplan-devkit/nuplan/planning/nuboard/base/simulation_tile.py:575}  Frame deferred: 63\n",
      "2023-12-19 19:20:14,610 INFO {/home/ehdykhne/nuplan-devkit/nuplan/planning/nuboard/base/simulation_tile.py:575}  Frame deferred: 82\n",
      "2023-12-19 19:20:14,705 INFO {/home/ehdykhne/nuplan-devkit/nuplan/planning/nuboard/base/simulation_tile.py:575}  Frame deferred: 89\n",
      "2023-12-19 19:20:14,963 INFO {/home/ehdykhne/nuplan-devkit/nuplan/planning/nuboard/base/simulation_tile.py:575}  Frame deferred: 107\n",
      "2023-12-19 19:20:15,056 INFO {/home/ehdykhne/nuplan-devkit/nuplan/planning/nuboard/base/simulation_tile.py:575}  Frame deferred: 112\n",
      "2023-12-19 19:20:15,113 INFO {/home/ehdykhne/nuplan-devkit/nuplan/planning/nuboard/base/simulation_tile.py:897}  Frame dropped 112\n",
      "2023-12-19 19:20:15,340 INFO {/home/ehdykhne/nuplan-devkit/nuplan/planning/nuboard/base/simulation_tile.py:575}  Frame deferred: 137\n",
      "2023-12-19 19:20:15,435 INFO {/home/ehdykhne/nuplan-devkit/nuplan/planning/nuboard/base/simulation_tile.py:575}  Frame deferred: 146\n",
      "2023-12-19 19:20:16,115 INFO {/home/ehdykhne/nuplan-devkit/nuplan/planning/nuboard/base/simulation_tile.py:897}  Frame dropped 146\n",
      "2023-12-19 19:20:16,563 INFO {/home/ehdykhne/nuplan-devkit/nuplan/planning/nuboard/base/simulation_tile.py:575}  Frame deferred: 146\n",
      "2023-12-19 19:20:16,565 INFO {/home/ehdykhne/nuplan-devkit/nuplan/planning/nuboard/base/simulation_tile.py:575}  Frame deferred: 145\n",
      "2023-12-19 19:20:16,567 INFO {/home/ehdykhne/nuplan-devkit/nuplan/planning/nuboard/base/simulation_tile.py:575}  Frame deferred: 143\n",
      "2023-12-19 19:20:16,635 INFO {/home/ehdykhne/nuplan-devkit/nuplan/planning/nuboard/base/simulation_tile.py:575}  Frame deferred: 137\n",
      "2023-12-19 19:20:16,687 INFO {/home/ehdykhne/nuplan-devkit/nuplan/planning/nuboard/base/simulation_tile.py:575}  Frame deferred: 133\n",
      "2023-12-19 19:20:16,940 INFO {/home/ehdykhne/nuplan-devkit/nuplan/planning/nuboard/base/simulation_tile.py:575}  Frame deferred: 116\n",
      "2023-12-19 19:20:16,941 INFO {/home/ehdykhne/nuplan-devkit/nuplan/planning/nuboard/base/simulation_tile.py:575}  Frame deferred: 113\n",
      "2023-12-19 19:20:17,005 INFO {/home/ehdykhne/nuplan-devkit/nuplan/planning/nuboard/base/simulation_tile.py:575}  Frame deferred: 108\n",
      "2023-12-19 19:20:17,091 INFO {/home/ehdykhne/nuplan-devkit/nuplan/planning/nuboard/base/simulation_tile.py:575}  Frame deferred: 104\n",
      "2023-12-19 19:20:17,116 INFO {/home/ehdykhne/nuplan-devkit/nuplan/planning/nuboard/base/simulation_tile.py:902}  Processing render queue for frame 104\n",
      "2023-12-19 19:20:17,137 INFO {/home/ehdykhne/nuplan-devkit/nuplan/planning/nuboard/base/simulation_tile.py:575}  Frame deferred: 102\n",
      "2023-12-19 19:20:17,365 INFO {/home/ehdykhne/nuplan-devkit/nuplan/planning/nuboard/base/simulation_tile.py:575}  Frame deferred: 87\n",
      "2023-12-19 19:20:17,434 INFO {/home/ehdykhne/nuplan-devkit/nuplan/planning/nuboard/base/simulation_tile.py:575}  Frame deferred: 81\n",
      "2023-12-19 19:20:17,467 INFO {/home/ehdykhne/nuplan-devkit/nuplan/planning/nuboard/base/simulation_tile.py:575}  Frame deferred: 78\n",
      "2023-12-19 19:20:17,983 INFO {/home/ehdykhne/nuplan-devkit/nuplan/planning/nuboard/base/simulation_tile.py:575}  Frame deferred: 31\n",
      "2023-12-19 19:20:18,072 INFO {/home/ehdykhne/nuplan-devkit/nuplan/planning/nuboard/base/simulation_tile.py:575}  Frame deferred: 27\n",
      "2023-12-19 19:20:18,116 INFO {/home/ehdykhne/nuplan-devkit/nuplan/planning/nuboard/base/simulation_tile.py:902}  Processing render queue for frame 27\n",
      "2023-12-19 19:20:18,212 INFO {/home/ehdykhne/nuplan-devkit/nuplan/planning/nuboard/base/simulation_tile.py:575}  Frame deferred: 19\n",
      "2023-12-19 19:20:18,305 INFO {/home/ehdykhne/nuplan-devkit/nuplan/planning/nuboard/base/simulation_tile.py:575}  Frame deferred: 15\n",
      "2023-12-19 19:20:18,313 INFO {/home/ehdykhne/nuplan-devkit/nuplan/planning/nuboard/base/simulation_tile.py:575}  Frame deferred: 14\n",
      "2023-12-19 19:20:18,504 INFO {/home/ehdykhne/nuplan-devkit/nuplan/planning/nuboard/base/simulation_tile.py:575}  Frame deferred: 3\n",
      "2023-12-19 19:20:19,119 INFO {/home/ehdykhne/nuplan-devkit/nuplan/planning/nuboard/base/simulation_tile.py:897}  Frame dropped 3\n",
      "2023-12-19 19:20:19,410 INFO {/home/ehdykhne/nuplan-devkit/nuplan/planning/nuboard/base/simulation_tile.py:575}  Frame deferred: 8\n",
      "2023-12-19 19:20:19,418 INFO {/home/ehdykhne/nuplan-devkit/nuplan/planning/nuboard/base/simulation_tile.py:575}  Frame deferred: 14\n",
      "2023-12-19 19:20:19,443 INFO {/home/ehdykhne/nuplan-devkit/nuplan/planning/nuboard/base/simulation_tile.py:575}  Frame deferred: 17\n",
      "2023-12-19 19:20:19,513 INFO {/home/ehdykhne/nuplan-devkit/nuplan/planning/nuboard/base/simulation_tile.py:575}  Frame deferred: 26\n",
      "2023-12-19 19:20:19,561 INFO {/home/ehdykhne/nuplan-devkit/nuplan/planning/nuboard/base/simulation_tile.py:575}  Frame deferred: 29\n",
      "2023-12-19 19:20:19,633 INFO {/home/ehdykhne/nuplan-devkit/nuplan/planning/nuboard/base/simulation_tile.py:575}  Frame deferred: 32\n",
      "2023-12-19 19:20:19,680 INFO {/home/ehdykhne/nuplan-devkit/nuplan/planning/nuboard/base/simulation_tile.py:575}  Frame deferred: 34\n",
      "2023-12-19 19:20:19,743 INFO {/home/ehdykhne/nuplan-devkit/nuplan/planning/nuboard/base/simulation_tile.py:575}  Frame deferred: 37\n",
      "2023-12-19 19:20:19,981 INFO {/home/ehdykhne/nuplan-devkit/nuplan/planning/nuboard/base/simulation_tile.py:575}  Frame deferred: 46\n",
      "2023-12-19 19:20:20,060 INFO {/home/ehdykhne/nuplan-devkit/nuplan/planning/nuboard/base/simulation_tile.py:575}  Frame deferred: 48\n",
      "2023-12-19 19:20:20,119 INFO {/home/ehdykhne/nuplan-devkit/nuplan/planning/nuboard/base/simulation_tile.py:897}  Frame dropped 48\n",
      "2023-12-19 19:20:20,159 INFO {/home/ehdykhne/nuplan-devkit/nuplan/planning/nuboard/base/simulation_tile.py:575}  Frame deferred: 52\n",
      "2023-12-19 19:20:20,211 INFO {/home/ehdykhne/nuplan-devkit/nuplan/planning/nuboard/base/simulation_tile.py:575}  Frame deferred: 54\n",
      "2023-12-19 19:20:20,260 INFO {/home/ehdykhne/nuplan-devkit/nuplan/planning/nuboard/base/simulation_tile.py:575}  Frame deferred: 56\n",
      "2023-12-19 19:20:20,931 INFO {/home/ehdykhne/nuplan-devkit/nuplan/planning/nuboard/base/simulation_tile.py:575}  Frame deferred: 61\n",
      "2023-12-19 19:20:21,012 INFO {/home/ehdykhne/nuplan-devkit/nuplan/planning/nuboard/base/simulation_tile.py:575}  Frame deferred: 57\n",
      "2023-12-19 19:20:21,061 INFO {/home/ehdykhne/nuplan-devkit/nuplan/planning/nuboard/base/simulation_tile.py:575}  Frame deferred: 55\n",
      "2023-12-19 19:20:21,110 INFO {/home/ehdykhne/nuplan-devkit/nuplan/planning/nuboard/base/simulation_tile.py:575}  Frame deferred: 53\n",
      "2023-12-19 19:20:21,120 INFO {/home/ehdykhne/nuplan-devkit/nuplan/planning/nuboard/base/simulation_tile.py:902}  Processing render queue for frame 53\n",
      "2023-12-19 19:20:21,177 INFO {/home/ehdykhne/nuplan-devkit/nuplan/planning/nuboard/base/simulation_tile.py:575}  Frame deferred: 50\n",
      "2023-12-19 19:20:21,344 INFO {/home/ehdykhne/nuplan-devkit/nuplan/planning/nuboard/base/simulation_tile.py:575}  Frame deferred: 45\n",
      "2023-12-19 19:20:21,563 INFO {/home/ehdykhne/nuplan-devkit/nuplan/planning/nuboard/base/simulation_tile.py:575}  Frame deferred: 34\n",
      "2023-12-19 19:20:21,611 INFO {/home/ehdykhne/nuplan-devkit/nuplan/planning/nuboard/base/simulation_tile.py:575}  Frame deferred: 31\n",
      "2023-12-19 19:20:21,813 INFO {/home/ehdykhne/nuplan-devkit/nuplan/planning/nuboard/base/simulation_tile.py:575}  Frame deferred: 20\n",
      "2023-12-19 19:20:21,902 INFO {/home/ehdykhne/nuplan-devkit/nuplan/planning/nuboard/base/simulation_tile.py:575}  Frame deferred: 17\n",
      "2023-12-19 19:20:22,065 INFO {/home/ehdykhne/nuplan-devkit/nuplan/planning/nuboard/base/simulation_tile.py:575}  Frame deferred: 7\n",
      "2023-12-19 19:20:22,121 INFO {/home/ehdykhne/nuplan-devkit/nuplan/planning/nuboard/base/simulation_tile.py:902}  Processing render queue for frame 7\n",
      "2023-12-19 19:20:22,999 INFO {/home/ehdykhne/nuplan-devkit/nuplan/planning/nuboard/base/simulation_tile.py:575}  Frame deferred: 5\n",
      "2023-12-19 19:20:23,002 INFO {/home/ehdykhne/nuplan-devkit/nuplan/planning/nuboard/base/simulation_tile.py:575}  Frame deferred: 8\n",
      "2023-12-19 19:20:23,067 INFO {/home/ehdykhne/nuplan-devkit/nuplan/planning/nuboard/base/simulation_tile.py:575}  Frame deferred: 18\n",
      "2023-12-19 19:20:23,094 INFO {/home/ehdykhne/nuplan-devkit/nuplan/planning/nuboard/base/simulation_tile.py:575}  Frame deferred: 22\n",
      "2023-12-19 19:20:23,121 INFO {/home/ehdykhne/nuplan-devkit/nuplan/planning/nuboard/base/simulation_tile.py:902}  Processing render queue for frame 22\n",
      "2023-12-19 19:20:23,306 INFO {/home/ehdykhne/nuplan-devkit/nuplan/planning/nuboard/base/simulation_tile.py:575}  Frame deferred: 48\n",
      "2023-12-19 19:20:23,484 INFO {/home/ehdykhne/nuplan-devkit/nuplan/planning/nuboard/base/simulation_tile.py:575}  Frame deferred: 67\n",
      "2023-12-19 19:20:23,866 INFO {/home/ehdykhne/nuplan-devkit/nuplan/planning/nuboard/base/simulation_tile.py:575}  Frame deferred: 99\n",
      "2023-12-19 19:20:23,868 INFO {/home/ehdykhne/nuplan-devkit/nuplan/planning/nuboard/base/simulation_tile.py:575}  Frame deferred: 102\n",
      "2023-12-19 19:20:23,871 INFO {/home/ehdykhne/nuplan-devkit/nuplan/planning/nuboard/base/simulation_tile.py:575}  Frame deferred: 104\n",
      "2023-12-19 19:20:23,882 INFO {/home/ehdykhne/nuplan-devkit/nuplan/planning/nuboard/base/simulation_tile.py:575}  Frame deferred: 109\n",
      "2023-12-19 19:20:24,122 INFO {/home/ehdykhne/nuplan-devkit/nuplan/planning/nuboard/base/simulation_tile.py:897}  Frame dropped 109\n",
      "2023-12-19 19:20:24,318 INFO {/home/ehdykhne/nuplan-devkit/nuplan/planning/nuboard/base/simulation_tile.py:575}  Frame deferred: 124\n",
      "2023-12-19 19:20:24,350 INFO {/home/ehdykhne/nuplan-devkit/nuplan/planning/nuboard/base/simulation_tile.py:575}  Frame deferred: 120\n",
      "2023-12-19 19:20:24,476 INFO {/home/ehdykhne/nuplan-devkit/nuplan/planning/nuboard/base/simulation_tile.py:575}  Frame deferred: 100\n",
      "2023-12-19 19:20:24,702 INFO {/home/ehdykhne/nuplan-devkit/nuplan/planning/nuboard/base/simulation_tile.py:575}  Frame deferred: 69\n",
      "2023-12-19 19:20:24,897 INFO {/home/ehdykhne/nuplan-devkit/nuplan/planning/nuboard/base/simulation_tile.py:575}  Frame deferred: 34\n",
      "2023-12-19 19:20:25,044 INFO {/home/ehdykhne/nuplan-devkit/nuplan/planning/nuboard/base/simulation_tile.py:575}  Frame deferred: 15\n",
      "2023-12-19 19:20:25,122 INFO {/home/ehdykhne/nuplan-devkit/nuplan/planning/nuboard/base/simulation_tile.py:897}  Frame dropped 15\n",
      "2023-12-19 19:20:29,662 INFO {/home/ehdykhne/nuplan-devkit/nuplan/planning/nuboard/base/simulation_tile.py:575}  Frame deferred: 4\n",
      "2023-12-19 19:20:29,734 INFO {/home/ehdykhne/nuplan-devkit/nuplan/planning/nuboard/base/simulation_tile.py:575}  Frame deferred: 7\n",
      "2023-12-19 19:20:29,973 INFO {/home/ehdykhne/nuplan-devkit/nuplan/planning/nuboard/base/simulation_tile.py:575}  Frame deferred: 19\n",
      "2023-12-19 19:20:30,128 INFO {/home/ehdykhne/nuplan-devkit/nuplan/planning/nuboard/base/simulation_tile.py:897}  Frame dropped 19\n",
      "2023-12-19 19:20:30,827 INFO {/home/ehdykhne/nuplan-devkit/nuplan/planning/nuboard/base/simulation_tile.py:575}  Frame deferred: 12\n",
      "2023-12-19 19:20:31,123 INFO {/home/ehdykhne/nuplan-devkit/nuplan/planning/nuboard/base/simulation_tile.py:575}  Frame deferred: 2\n",
      "2023-12-19 19:20:31,128 INFO {/home/ehdykhne/nuplan-devkit/nuplan/planning/nuboard/base/simulation_tile.py:902}  Processing render queue for frame 2\n",
      "2023-12-19 19:20:34,250 INFO {/home/ehdykhne/nuplan-devkit/nuplan/planning/nuboard/base/simulation_tile.py:575}  Frame deferred: 20\n",
      "2023-12-19 19:20:34,699 INFO {/home/ehdykhne/nuplan-devkit/nuplan/planning/nuboard/base/simulation_tile.py:575}  Frame deferred: 19\n",
      "2023-12-19 19:20:35,139 INFO {/home/ehdykhne/nuplan-devkit/nuplan/planning/nuboard/base/simulation_tile.py:897}  Frame dropped 19\n",
      "2023-12-19 19:20:35,382 INFO {/home/ehdykhne/nuplan-devkit/nuplan/planning/nuboard/base/simulation_tile.py:575}  Frame deferred: 5\n",
      "2023-12-19 19:20:36,133 INFO {/home/ehdykhne/nuplan-devkit/nuplan/planning/nuboard/base/simulation_tile.py:897}  Frame dropped 5\n",
      "2023-12-19 19:20:40,064 INFO {/home/ehdykhne/nuplan-devkit/nuplan/planning/nuboard/base/simulation_tile.py:575}  Frame deferred: 3\n",
      "2023-12-19 19:20:40,094 INFO {/home/ehdykhne/nuplan-devkit/nuplan/planning/nuboard/base/simulation_tile.py:575}  Frame deferred: 5\n",
      "2023-12-19 19:20:40,138 INFO {/home/ehdykhne/nuplan-devkit/nuplan/planning/nuboard/base/simulation_tile.py:897}  Frame dropped 5\n",
      "2023-12-19 19:20:40,144 INFO {/home/ehdykhne/nuplan-devkit/nuplan/planning/nuboard/base/simulation_tile.py:575}  Frame deferred: 9\n",
      "2023-12-19 19:20:40,528 INFO {/home/ehdykhne/nuplan-devkit/nuplan/planning/nuboard/base/simulation_tile.py:575}  Frame deferred: 20\n",
      "2023-12-19 19:20:41,138 INFO {/home/ehdykhne/nuplan-devkit/nuplan/planning/nuboard/base/simulation_tile.py:897}  Frame dropped 20\n",
      "2023-12-19 19:20:41,754 INFO {/home/ehdykhne/nuplan-devkit/nuplan/planning/nuboard/base/simulation_tile.py:575}  Frame deferred: 40\n",
      "2023-12-19 19:20:42,023 INFO {/home/ehdykhne/nuplan-devkit/nuplan/planning/nuboard/base/simulation_tile.py:575}  Frame deferred: 46\n",
      "2023-12-19 19:20:42,145 INFO {/home/ehdykhne/nuplan-devkit/nuplan/planning/nuboard/base/simulation_tile.py:897}  Frame dropped 46\n",
      "2023-12-19 19:20:42,370 INFO {/home/ehdykhne/nuplan-devkit/nuplan/planning/nuboard/base/simulation_tile.py:575}  Frame deferred: 57\n",
      "2023-12-19 19:20:42,504 INFO {/home/ehdykhne/nuplan-devkit/nuplan/planning/nuboard/base/simulation_tile.py:575}  Frame deferred: 61\n",
      "2023-12-19 19:20:42,688 INFO {/home/ehdykhne/nuplan-devkit/nuplan/planning/nuboard/base/simulation_tile.py:575}  Frame deferred: 69\n",
      "2023-12-19 19:20:42,780 INFO {/home/ehdykhne/nuplan-devkit/nuplan/planning/nuboard/base/simulation_tile.py:575}  Frame deferred: 72\n",
      "2023-12-19 19:20:42,869 INFO {/home/ehdykhne/nuplan-devkit/nuplan/planning/nuboard/base/simulation_tile.py:575}  Frame deferred: 76\n",
      "2023-12-19 19:20:42,954 INFO {/home/ehdykhne/nuplan-devkit/nuplan/planning/nuboard/base/simulation_tile.py:575}  Frame deferred: 79\n",
      "2023-12-19 19:20:43,126 INFO {/home/ehdykhne/nuplan-devkit/nuplan/planning/nuboard/base/simulation_tile.py:575}  Frame deferred: 87\n",
      "2023-12-19 19:20:43,139 INFO {/home/ehdykhne/nuplan-devkit/nuplan/planning/nuboard/base/simulation_tile.py:902}  Processing render queue for frame 87\n",
      "2023-12-19 19:20:43,216 INFO {/home/ehdykhne/nuplan-devkit/nuplan/planning/nuboard/base/simulation_tile.py:575}  Frame deferred: 90\n",
      "2023-12-19 19:20:43,915 INFO {/home/ehdykhne/nuplan-devkit/nuplan/planning/nuboard/base/simulation_tile.py:575}  Frame deferred: 86\n",
      "2023-12-19 19:20:43,982 INFO {/home/ehdykhne/nuplan-devkit/nuplan/planning/nuboard/base/simulation_tile.py:575}  Frame deferred: 83\n",
      "2023-12-19 19:20:44,102 INFO {/home/ehdykhne/nuplan-devkit/nuplan/planning/nuboard/base/simulation_tile.py:575}  Frame deferred: 79\n",
      "2023-12-19 19:20:44,140 INFO {/home/ehdykhne/nuplan-devkit/nuplan/planning/nuboard/base/simulation_tile.py:897}  Frame dropped 79\n",
      "2023-12-19 19:20:44,585 INFO {/home/ehdykhne/nuplan-devkit/nuplan/planning/nuboard/base/simulation_tile.py:575}  Frame deferred: 68\n",
      "2023-12-19 19:20:44,890 INFO {/home/ehdykhne/nuplan-devkit/nuplan/planning/nuboard/base/simulation_tile.py:575}  Frame deferred: 54\n",
      "2023-12-19 19:20:44,981 INFO {/home/ehdykhne/nuplan-devkit/nuplan/planning/nuboard/base/simulation_tile.py:575}  Frame deferred: 49\n",
      "2023-12-19 19:20:45,140 INFO {/home/ehdykhne/nuplan-devkit/nuplan/planning/nuboard/base/simulation_tile.py:897}  Frame dropped 49\n",
      "2023-12-19 19:20:45,253 INFO {/home/ehdykhne/nuplan-devkit/nuplan/planning/nuboard/base/simulation_tile.py:575}  Frame deferred: 38\n",
      "2023-12-19 19:20:45,361 INFO {/home/ehdykhne/nuplan-devkit/nuplan/planning/nuboard/base/simulation_tile.py:575}  Frame deferred: 32\n",
      "2023-12-19 19:20:45,449 INFO {/home/ehdykhne/nuplan-devkit/nuplan/planning/nuboard/base/simulation_tile.py:575}  Frame deferred: 30\n",
      "2023-12-19 19:20:45,701 INFO {/home/ehdykhne/nuplan-devkit/nuplan/planning/nuboard/base/simulation_tile.py:575}  Frame deferred: 17\n",
      "2023-12-19 19:20:46,013 INFO {/home/ehdykhne/nuplan-devkit/nuplan/planning/nuboard/base/simulation_tile.py:575}  Frame deferred: 5\n",
      "2023-12-19 19:20:46,141 INFO {/home/ehdykhne/nuplan-devkit/nuplan/planning/nuboard/base/simulation_tile.py:897}  Frame dropped 5\n"
     ]
    },
    {
     "name": "stderr",
     "output_type": "stream",
     "text": [
      "Rendering a scenario: 100%|██████████| 1/1 [00:00<00:00, 46.59it/s]\n"
     ]
    },
    {
     "name": "stdout",
     "output_type": "stream",
     "text": [
      "2023-12-19 19:21:14,886 INFO {/home/ehdykhne/nuplan-devkit/nuplan/planning/nuboard/tabs/scenario_tab.py:485}  Rending scenario plot takes 2.6776 seconds.\n"
     ]
    },
    {
     "name": "stderr",
     "output_type": "stream",
     "text": [
      "Rendering a scenario: 100%|██████████| 1/1 [00:00<00:00, 29.18it/s]\n"
     ]
    },
    {
     "name": "stdout",
     "output_type": "stream",
     "text": [
      "2023-12-19 19:21:38,697 INFO {/home/ehdykhne/nuplan-devkit/nuplan/planning/nuboard/tabs/scenario_tab.py:485}  Rending scenario plot takes 2.2274 seconds.\n",
      "2023-12-19 19:21:56,353 INFO {/home/ehdykhne/nuplan-devkit/nuplan/planning/nuboard/base/simulation_tile.py:575}  Frame deferred: 0\n",
      "2023-12-19 19:21:56,711 INFO {/home/ehdykhne/nuplan-devkit/nuplan/planning/nuboard/base/simulation_tile.py:897}  Frame dropped 0\n"
     ]
    },
    {
     "name": "stderr",
     "output_type": "stream",
     "text": [
      "Rendering a scenario: 100%|██████████| 1/1 [00:00<00:00, 1748.36it/s]\n"
     ]
    },
    {
     "name": "stdout",
     "output_type": "stream",
     "text": [
      "2023-12-19 19:22:18,311 INFO {/home/ehdykhne/nuplan-devkit/nuplan/planning/nuboard/tabs/scenario_tab.py:485}  Rending scenario plot takes 2.7320 seconds.\n"
     ]
    },
    {
     "name": "stderr",
     "output_type": "stream",
     "text": [
      "Rendering a scenario: 100%|██████████| 1/1 [00:00<00:00, 32.01it/s]\n"
     ]
    },
    {
     "name": "stdout",
     "output_type": "stream",
     "text": [
      "2023-12-19 19:23:44,647 INFO {/home/ehdykhne/nuplan-devkit/nuplan/planning/nuboard/tabs/scenario_tab.py:485}  Rending scenario plot takes 3.0736 seconds.\n",
      "2023-12-19 19:23:57,712 INFO {/home/ehdykhne/nuplan-devkit/nuplan/planning/nuboard/base/simulation_tile.py:575}  Frame deferred: 95\n",
      "2023-12-19 19:23:57,812 INFO {/home/ehdykhne/nuplan-devkit/nuplan/planning/nuboard/base/simulation_tile.py:575}  Frame deferred: 94\n",
      "2023-12-19 19:23:58,509 INFO {/home/ehdykhne/nuplan-devkit/nuplan/planning/nuboard/base/simulation_tile.py:575}  Frame deferred: 95\n",
      "2023-12-19 19:23:58,658 INFO {/home/ehdykhne/nuplan-devkit/nuplan/planning/nuboard/base/simulation_tile.py:897}  Frame dropped 95\n"
     ]
    },
    {
     "name": "stderr",
     "output_type": "stream",
     "text": [
      "Rendering a scenario: 100%|██████████| 1/1 [00:00<00:00, 38.15it/s]\n"
     ]
    },
    {
     "name": "stdout",
     "output_type": "stream",
     "text": [
      "2023-12-19 19:25:04,893 INFO {/home/ehdykhne/nuplan-devkit/nuplan/planning/nuboard/tabs/scenario_tab.py:485}  Rending scenario plot takes 3.7040 seconds.\n"
     ]
    },
    {
     "name": "stderr",
     "output_type": "stream",
     "text": [
      "Rendering a scenario: 100%|██████████| 1/1 [00:00<00:00, 10.75it/s]\n"
     ]
    },
    {
     "name": "stdout",
     "output_type": "stream",
     "text": [
      "2023-12-19 19:26:36,601 INFO {/home/ehdykhne/nuplan-devkit/nuplan/planning/nuboard/tabs/scenario_tab.py:485}  Rending scenario plot takes 2.4362 seconds.\n",
      "2023-12-19 19:26:49,801 INFO {/home/ehdykhne/nuplan-devkit/nuplan/planning/nuboard/base/simulation_tile.py:575}  Frame deferred: 1\n",
      "2023-12-19 19:26:50,609 INFO {/home/ehdykhne/nuplan-devkit/nuplan/planning/nuboard/base/simulation_tile.py:897}  Frame dropped 1\n"
     ]
    },
    {
     "name": "stderr",
     "output_type": "stream",
     "text": [
      "Rendering a scenario: 100%|██████████| 1/1 [00:00<00:00, 37.75it/s]\n"
     ]
    },
    {
     "name": "stdout",
     "output_type": "stream",
     "text": [
      "2023-12-19 19:29:18,671 INFO {/home/ehdykhne/nuplan-devkit/nuplan/planning/nuboard/tabs/scenario_tab.py:485}  Rending scenario plot takes 2.2391 seconds.\n"
     ]
    },
    {
     "name": "stderr",
     "output_type": "stream",
     "text": [
      "Rendering a scenario: 100%|██████████| 1/1 [00:00<00:00, 14.72it/s]\n"
     ]
    },
    {
     "name": "stdout",
     "output_type": "stream",
     "text": [
      "2023-12-19 19:30:10,168 INFO {/home/ehdykhne/nuplan-devkit/nuplan/planning/nuboard/tabs/scenario_tab.py:485}  Rending scenario plot takes 2.1190 seconds.\n",
      "2023-12-19 19:30:32,568 INFO {/home/ehdykhne/nuplan-devkit/nuplan/planning/nuboard/base/simulation_tile.py:575}  Frame deferred: 0\n",
      "2023-12-19 19:30:33,187 INFO {/home/ehdykhne/nuplan-devkit/nuplan/planning/nuboard/base/simulation_tile.py:897}  Frame dropped 0\n"
     ]
    }
   ],
   "source": [
    "from nuplan.planning.script.run_nuboard import main as main_nuboard\n",
    "\n",
    "# Run nuBoard\n",
    "main_nuboard(cfg)"
   ]
  },
  {
   "cell_type": "code",
   "execution_count": null,
   "id": "455dd871",
   "metadata": {
    "scrolled": true
   },
   "outputs": [],
   "source": []
  }
 ],
 "metadata": {
  "kernelspec": {
   "display_name": "Python 3 (ipykernel)",
   "language": "python",
   "name": "python3"
  },
  "language_info": {
   "codemirror_mode": {
    "name": "ipython",
    "version": 3
   },
   "file_extension": ".py",
   "mimetype": "text/x-python",
   "name": "python",
   "nbconvert_exporter": "python",
   "pygments_lexer": "ipython3",
   "version": "3.9.18"
  }
 },
 "nbformat": 4,
 "nbformat_minor": 5
}

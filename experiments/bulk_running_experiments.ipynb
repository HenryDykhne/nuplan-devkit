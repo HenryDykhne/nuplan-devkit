{
 "cells": [
  {
   "cell_type": "code",
   "execution_count": 1,
   "id": "7d763b0e",
   "metadata": {},
   "outputs": [],
   "source": [
    "import asyncio\n",
    "import itertools\n",
    "import logging\n",
    "import random\n",
    "import nest_asyncio\n",
    "import pandas as pd\n",
    "\n",
    "nest_asyncio.apply()  #\n",
    "EXPERIMENT_NAME = \"shea_cross_testing4\""
   ]
  },
  {
   "cell_type": "code",
   "execution_count": 2,
   "id": "33f6d65f",
   "metadata": {},
   "outputs": [],
   "source": [
    "import torch\n",
    "\n",
    "torch.cuda.is_available()"
   ]
  },
  {
   "cell_type": "code",
   "execution_count": null,
   "id": "ad69bb62",
   "metadata": {},
   "outputs": [
    {
     "name": "stderr",
     "output_type": "stream",
     "text": [
      "INFO:nuplan.planning.script.utils:Setting default NUPLAN_DATA_ROOT: /home/sacardoz/nuplan/dataset\n",
      "INFO:nuplan.planning.script.utils:Setting default NUPLAN_EXP_ROOT: /home/sacardoz/nuplan/exp\n"
     ]
    }
   ],
   "source": [
    "import os\n",
    "from pathlib import Path\n",
    "import tempfile\n",
    "\n",
    "from shutil import rmtree\n",
    "from typing import List, Optional, Union\n",
    "\n",
    "from nuplan.planning.script.run_simulation import main as main_simulation"
   ]
  },
  {
   "cell_type": "code",
   "execution_count": null,
   "id": "8233f21e",
   "metadata": {},
   "outputs": [
    {
     "name": "stdout",
     "output_type": "stream",
     "text": [
      "env: NUPLAN_DATA_ROOT=/home/sacardoz/nuplan/dataset\n",
      "env: NUPLAN_MAPS_ROOT=/home/sacardoz/nuplan/maps\n",
      "env: NUPLAN_EXP_ROOT=/home/sacardoz/nuplan/exp\n",
      "env: NUPLAN_DEVKIT_ROOT=/home/sacardoz/nuplan-devkit\n"
     ]
    },
    {
     "data": {
      "text/plain": [
       "'/home/sacardoz/nuplan-devkit/experiments'"
      ]
     },
     "execution_count": 4,
     "metadata": {},
     "output_type": "execute_result"
    }
   ],
   "source": [
    "%env NUPLAN_DATA_ROOT=/home/sacardoz/nuplan/dataset\n",
    "%env NUPLAN_MAPS_ROOT=/home/sacardoz/nuplan/maps\n",
    "%env NUPLAN_EXP_ROOT=/home/sacardoz/nuplan/exp\n",
    "%env NUPLAN_DEVKIT_ROOT=/home/sacardoz/nuplan-devkit\n",
    "%pwd"
   ]
  },
  {
   "cell_type": "code",
   "execution_count": null,
   "id": "f17ea3ea",
   "metadata": {},
   "outputs": [],
   "source": [
    "import hydra\n",
    "import pytorch_lightning as pl\n",
    "from omegaconf import DictConfig, OmegaConf\n",
    "\n",
    "from nuplan.common.utils.s3_utils import is_s3_path\n",
    "from nuplan.planning.script.builders.simulation_builder import build_simulations\n",
    "from nuplan.planning.script.builders.simulation_callback_builder import (\n",
    "    build_callbacks_worker,\n",
    "    build_simulation_callbacks,\n",
    ")\n",
    "from nuplan.planning.script.utils import (\n",
    "    run_runners,\n",
    "    set_default_path,\n",
    "    set_up_common_builder,\n",
    ")\n",
    "from nuplan.planning.simulation.planner.abstract_planner import AbstractPlanner\n",
    "\n",
    "logging.basicConfig(level=logging.INFO)\n",
    "logger = logging.getLogger(__name__)\n",
    "\n",
    "# If set, use the env. variable to overwrite the default dataset and experiment paths\n",
    "set_default_path()\n",
    "\n",
    "# If set, use the env. variable to overwrite the Hydra config\n",
    "CONFIG_PATH = \"../nuplan/planning/script/config/simulation\"\n"
   ]
  },
  {
   "cell_type": "code",
   "execution_count": null,
   "id": "8a2350b5",
   "metadata": {},
   "outputs": [
    {
     "name": "stdout",
     "output_type": "stream",
     "text": [
      "['d6234553edc95d50', '98ddd7851e445b7a', '5ac5795b9b5851e8']\n",
      "['014c7f3502d4597d', '02828821ef045829', '02fa9b8d43465e0d']\n"
     ]
    }
   ],
   "source": [
    "# list of selected scenario tokens\n",
    "from tokens import selected_scenario_tokens, modifiable_scenario_tokens\n",
    "\n",
    "print(selected_scenario_tokens[0:3])\n",
    "print(modifiable_scenario_tokens[0:3])\n",
    "\n",
    "selected_scenario_tokens = [\"8b80aa05d88b518b\"]"
   ]
  },
  {
   "cell_type": "code",
   "execution_count": null,
   "id": "69170726",
   "metadata": {},
   "outputs": [],
   "source": [
    "from tutorials.utils.tutorial_utils import construct_simulation_hydra_paths\n",
    "\n",
    "# Location of paths with all simulation configs\n",
    "BASE_CONFIG_PATH = \"../nuplan/planning/script\"\n",
    "simulation_hydra_paths = construct_simulation_hydra_paths(BASE_CONFIG_PATH)"
   ]
  },
  {
   "cell_type": "code",
   "execution_count": null,
   "id": "dc132c71",
   "metadata": {},
   "outputs": [],
   "source": [
    "\n",
    "scenario_types = [\n",
    "    \"starting_left_turn\",\n",
    "    # \"accelerating_at_traffic_light_with_lead\",\n",
    "    # \"crossed_by_bike\",\n",
    "    # \"crossed_by_vehicle\",\n",
    "    # \"on_intersection\",\n",
    "    # \"on_stopline_crosswalk\",\n",
    "    # \"on_stopline_stop_sign\",\n",
    "    # \"on_stopline_traffic_light\",\n",
    "    # \"on_traffic_light_intersection\",\n",
    "    # \"starting_protected_cross_turn\",\n",
    "    # \"starting_protected_noncross_turn\",\n",
    "    \"starting_right_turn\",\n",
    "    \"starting_straight_stop_sign_intersection_traversal\",\n",
    "    \"starting_straight_traffic_light_intersection_traversal\",\n",
    "    # \"starting_u_turn\",\n",
    "    \"starting_unprotected_cross_turn\",\n",
    "    \"starting_unprotected_noncross_turn\",\n",
    "    # \"stationary_at_crosswalk\",\n",
    "    # \"stationary_at_traffic_light_with_lead\",\n",
    "    # \"stationary_at_traffic_light_without_lead\",\n",
    "    # \"traversing_crosswalk\",\n",
    "    \"traversing_intersection\",\n",
    "    \"traversing_traffic_light_intersection\",\n",
    "]\n",
    "\n",
    "scenario_builder = \"val\"  # [nuplan (uses trainval), nuplan_mini, test, val, train_boston, train_pittsburgh, train_singapore]\n",
    "DATASET_PARAMS = [\n",
    "    f\"scenario_builder={scenario_builder}\",\n",
    "    \"scenario_filter=all_scenarios\",  # [all_scenarios, val14_split]\n",
    "    f\"scenario_filter.scenario_types={scenario_types}\",  # there are 70 scenario types in the trainingset and 58 in the validation set including \"unknown\" which make up the majority\n",
    "    \"scenario_filter.ego_displacement_minimum_m=10\",  # use scenarios where the ego vehicle moves at least 10m\n",
    "    #    'scenario_filter.remove_invalid_goals=true',  # remove scenarios where the goal is not invalid\n",
    "    # \"scenario_filter.ego_start_speed_threshold=5\",  # Exclusive threshold that the ego's speed must rise above (meters per second) for scenario to be kept\n",
    "    #    'scenario_filter.stop_speed_threshold=10',  # Inclusive threshold that the ego's speed must fall below (meters per second) for scenario to be kept:\n",
    "    \"scenario_filter.map_names=[sg-one-north, us-ma-boston, us-pa-pittsburgh-hazelwood, us-nv-las-vegas-strip]\",  # select multiple [sg-one-north, us-ma-boston, us-pa-pittsburgh-hazelwood, us-nv-las-vegas-strip]\n",
    "    # \"scenario_filter.limit_total_scenarios=0.05\",  # use n total scenarios if int, or if float smaller than 1, use n as a fraction of total scenarios (changes sampling frequency, unchanged leaves the frequency at 20Hz)\n",
    "    \"scenario_filter.num_scenarios_per_type=2\",  # use 10 scenarios per scenario type #bring this back to 25 for testing the cross bug\n",
    "    # f\"scenario_filter.scenario_tokens={selected_scenario_tokens}\",  # List of scenarios to include (token)\n",
    "    #'scenario_filter.log_names=[\"2021.08.24.20.03.01_veh-45_01091_01622\"]',  # specific scenrios to simulate\n",
    "    # turn off if you are selecting scenarios manually. turn on for initial filtering (0.05 gives us 1 scenario per second)\n",
    "]"
   ]
  },
  {
   "cell_type": "code",
   "execution_count": null,
   "id": "5eba4239",
   "metadata": {},
   "outputs": [
    {
     "name": "stdout",
     "output_type": "stream",
     "text": [
      "default_simulation\n",
      "output_folder_occ = \"/home/sacardoz/nuplan/exp/exp/simulation/closed_loop_multiagent/2024.05.19.21.50.58\"\n"
     ]
    }
   ],
   "source": [
    "#'/home/ehdykhne/nuplan-devkit/experiments/pretrained_checkpoints/urbandriver_checkpoint.ckpt'\n",
    "#'/home/ehdykhne/Repos/nuplan-devkit/experiments/pretrained_checkpoints/urbandriver_checkpoint.ckpt'\n",
    "# Initialize configuration management system\n",
    "hydra.core.global_hydra.GlobalHydra.instance().clear()  # reinitialize hydra if already initialized\n",
    "hydra.initialize(config_path=simulation_hydra_paths.config_path)\n",
    "\n",
    "# Compose the configuration\n",
    "print(simulation_hydra_paths.config_name)\n",
    "cfg_occ = hydra.compose(\n",
    "    config_name=simulation_hydra_paths.config_name,\n",
    "    overrides=[\n",
    "        # planner\n",
    "        ################################################\n",
    "        \"planner=pdm_closed_planner\",  # [ml_planner, pdm_hybrid_planner, pdm_closed_planner, idm_planner, log_future_planner, simple_planner]\n",
    "        ################################################\n",
    "        # planner occlusion\n",
    "        ################################################\n",
    "        \"+occlusion_cfg.occlusion=true\",\n",
    "        \"+occlusion_cfg.manager_type=wedge\",  # options: [range, shadow, wedge]\n",
    "        \"+occlusion_cfg.uncloak_reaction_time=1.5\",  # 0.1\n",
    "        \"+occlusion_cfg.notice_threshold=1.0\",  # 0.1\n",
    "        ################################################\n",
    "        # obs\n",
    "        ################################################\n",
    "        f\"observation.planner_type=pdm_closed\",\n",
    "        ################################################\n",
    "        # obs occlusion\n",
    "        ################################################\n",
    "        f\"observation.occlusion_cfg.occlusion=true\",\n",
    "        f\"observation.occlusion_cfg.manager_type=wedge\",\n",
    "        f\"+observation.occlusion_cfg.uncloak_reaction_time=1.5\",\n",
    "        f\"+observation.occlusion_cfg.notice_threshold=1.0\",\n",
    "        ################################################\n",
    "        # scenario modification\n",
    "        ################################################\n",
    "        \"+modify_scenario_simulations=true\",\n",
    "        \"+modifier_types=[cross-conflict-occluder-only-injection-modifier]\",  # can select multiple: [occlusion-injection, left-and-right,\n",
    "        # oncoming-left-turn-and-occlusion-injection, conflict-and-occlusion-injection,\n",
    "        # sequential-conflict-with-occlusion-injection, cross-conflict-with-occlusion-injection\n",
    "        # merge-conflict-with-occlusion-injection, diverge-conflict-with-occlusion-injection]\n",
    "        \"+remove_other_agents=false\",\n",
    "        ################################################\n",
    "        # misc\n",
    "        ################################################\n",
    "        \"+simulation=closed_loop_multiagent\",  # [open_loop_boxes, closed_loop_nonreactive_agents, closed_loop_reactive_agents, closed_loop_multiagent]\n",
    "        \"worker=ray_distributed\",  # [sequential, ray_distributed]\n",
    "        \"hydra.searchpath=[pkg://tuplan_garage.planning.script.config.common, pkg://tuplan_garage.planning.script.config.simulation, pkg://nuplan.planning.script.config.common, pkg://nuplan.planning.script.experiments]\",\n",
    "        *DATASET_PARAMS,\n",
    "        ###############################################\n",
    "    ],\n",
    ")\n",
    "\n",
    "output_folder_occ = cfg_occ.output_dir\n",
    "print('output_folder_occ = \"' + output_folder_occ + '\"')\n",
    "\n",
    "\n",
    "# planner: pdm_closed\n",
    "##########################################\n",
    "# \"planner=pdm_closed_planner\",  # [ml_planner, pdm_hybrid_planner, pdm_closed_planner, idm_planner, log_future_planner, simple_planner]\n",
    "##########################################\n",
    "\n",
    "# obs: pdm_closed\n",
    "##########################################\n",
    "# f\"observation.planner_type=pdm_closed\",\n",
    "##########################################\n",
    "\n",
    "# planner: urban driver\n",
    "##########################################\n",
    "# \"planner=ml_planner\",  # [ml_planner, pdm_hybrid_planner, pdm_closed_planner, idm_planner, log_future_planner, simple_planner]\n",
    "# \"model=urban_driver_open_loop_model\",\n",
    "# \"planner.ml_planner.model_config=${model}\",\n",
    "# f\"planner.ml_planner.checkpoint_path={urban_ckpt}\",\n",
    "##########################################\n",
    "\n",
    "# obs: urban driver\n",
    "##########################################\n",
    "# \"+observation.model=urban_driver_open_loop_model\",\n",
    "# f\"observation.planner_type=ml\",\n",
    "# \"+observation.model_config=${model}\",\n",
    "# f\"observation.checkpoint_path={urban_ckpt}\",\n",
    "##########################################\n",
    "\n",
    "# planner: gc_pgp\n",
    "################################################\n",
    "# \"planner=ml_planner\",  # [ml_planner, pdm_hybrid_planner, pdm_closed_planner, idm_planner, log_future_planner, simple_planner]\n",
    "# \"model=gc_pgp_model\",\n",
    "# \"model.aggregator.pre_train=false\",\n",
    "# \"planner.ml_planner.model_config=${model}\",\n",
    "# f\"planner.ml_planner.checkpoint_path={gc_pgp_ckpt}\",\n",
    "###############################################\n",
    "\n",
    "# obs: gc_pgp\n",
    "###############################################\n",
    "# \"+observation.model_config=${model}\",\n",
    "# \"+observation.model=gc_pgp_model\",\n",
    "# \"+observation.model.aggregator.pre_train=false\",\n",
    "# f\"observation.planner_type=ml\",\n",
    "# f\"observation.checkpoint_path={gc_pgp_ckpt}\",\n",
    "################################################\n",
    "\n",
    "\n",
    "# \"+simulation=open_loop_boxes\",  # [open_loop_boxes, closed_loop_nonreactive_agents, closed_loop_reactive_agents, closed_loop_multiagent]\n",
    "#         \"planner=log_future_planner\",  # [ml_planner, pdm_hybrid_planner, gc_pgp_planner, idm_planner, log_future_planner, simple_planner]\n",
    "#         \"ego_controller=perfect_tracking_controller\",\n",
    "#         \"worker=ray_distributed\",  # [sequential, ray_distributed]\n",
    "#         \"+occlusion=true\",  # [true, false]\n",
    "#         \"+occlusion.manager_type=wedge\",  # options: [range, shadow, wedge]\n",
    "#         \"+occlusion.uncloak_reaction_time=1.5\",\n",
    "#         \"+occlusion.notice_threshold=1.0\",\n",
    "#         # \"hydra.searchpath=[pkg://tuplan_garage.planning.script.config.common, pkg://tuplan_garage.planning.script.config.simulation, pkg://nuplan.planning.script.config.common, pkg://nuplan.planning.script.experiments]\",\n",
    "#         *DATASET_PARAMS,"
   ]
  },
  {
   "cell_type": "markdown",
   "id": "066580da",
   "metadata": {},
   "source": [
    "# Now we can run with the following"
   ]
  },
  {
   "cell_type": "code",
   "execution_count": null,
   "id": "58e7424b",
   "metadata": {},
   "outputs": [
    {
     "name": "stderr",
     "output_type": "stream",
     "text": [
      "Global seed set to 0\n",
      "INFO:nuplan.planning.script.builders.main_callback_builder:Building MultiMainCallback...\n",
      "INFO:nuplan.planning.script.builders.main_callback_builder:Building MultiMainCallback: 4...DONE!\n"
     ]
    },
    {
     "name": "stdout",
     "output_type": "stream",
     "text": [
      "2024-05-19 21:50:58,598 INFO {/home/sacardoz/nuplan-devkit/nuplan/planning/script/builders/worker_pool_builder.py:19}  Building WorkerPool...\n",
      "2024-05-19 21:50:58,635 INFO {/home/sacardoz/nuplan-devkit/nuplan/planning/utils/multithreading/worker_ray.py:78}  Starting ray local!\n"
     ]
    },
    {
     "name": "stderr",
     "output_type": "stream",
     "text": [
      "2024-05-19 21:51:00,253\tINFO worker.py:1636 -- Started a local Ray instance.\n"
     ]
    },
    {
     "name": "stdout",
     "output_type": "stream",
     "text": [
      "2024-05-19 21:51:00,897 INFO {/home/sacardoz/nuplan-devkit/nuplan/planning/utils/multithreading/worker_pool.py:101}  Worker: RayDistributed\n",
      "2024-05-19 21:51:00,898 INFO {/home/sacardoz/nuplan-devkit/nuplan/planning/utils/multithreading/worker_pool.py:102}  Number of nodes: 1\n",
      "Number of CPUs per node: 32\n",
      "Number of GPUs per node: 4\n",
      "Number of threads across all nodes: 32\n",
      "2024-05-19 21:51:00,898 INFO {/home/sacardoz/nuplan-devkit/nuplan/planning/script/builders/worker_pool_builder.py:27}  Building WorkerPool...DONE!\n",
      "2024-05-19 21:51:00,898 INFO {/home/sacardoz/nuplan-devkit/nuplan/planning/script/builders/folder_builder.py:32}  Building experiment folders...\n",
      "2024-05-19 21:51:00,898 INFO {/home/sacardoz/nuplan-devkit/nuplan/planning/script/builders/folder_builder.py:35}  \n",
      "\n",
      "\tFolder where all results are stored: /home/sacardoz/nuplan/exp/exp/simulation/closed_loop_multiagent/2024.05.19.21.50.58\n",
      "\n",
      "2024-05-19 21:51:00,900 INFO {/home/sacardoz/nuplan-devkit/nuplan/planning/script/builders/folder_builder.py:70}  Building experiment folders...DONE!\n",
      "2024-05-19 21:51:00,900 INFO {/home/sacardoz/nuplan-devkit/nuplan/planning/script/builders/simulation_callback_builder.py:52}  Building AbstractCallback...\n",
      "2024-05-19 21:51:00,900 INFO {/home/sacardoz/nuplan-devkit/nuplan/planning/script/builders/simulation_callback_builder.py:68}  Building AbstractCallback: 0...DONE!\n",
      "2024-05-19 21:51:00,900 INFO {/home/sacardoz/nuplan-devkit/nuplan/planning/script/builders/simulation_builder.py:57}  Building simulations...\n",
      "2024-05-19 21:51:00,900 INFO {/home/sacardoz/nuplan-devkit/nuplan/planning/script/builders/simulation_builder.py:63}  Extracting scenarios...\n",
      "2024-05-19 21:51:00,900 INFO {/home/sacardoz/nuplan-devkit/nuplan/common/utils/distributed_scenario_filter.py:83}  Building Scenarios in mode DistributedMode.SINGLE_NODE\n",
      "2024-05-19 21:51:00,901 INFO {/home/sacardoz/nuplan-devkit/nuplan/planning/script/builders/scenario_building_builder.py:18}  Building AbstractScenarioBuilder...\n",
      "2024-05-19 21:51:00,918 INFO {/home/sacardoz/nuplan-devkit/nuplan/planning/script/builders/scenario_building_builder.py:21}  Building AbstractScenarioBuilder...DONE!\n",
      "2024-05-19 21:51:00,918 INFO {/home/sacardoz/nuplan-devkit/nuplan/planning/script/builders/scenario_filter_builder.py:35}  Building ScenarioFilter...\n",
      "2024-05-19 21:51:00,919 INFO {/home/sacardoz/nuplan-devkit/nuplan/planning/script/builders/scenario_filter_builder.py:44}  Building ScenarioFilter...DONE!\n"
     ]
    },
    {
     "name": "stderr",
     "output_type": "stream",
     "text": [
      "Ray objects: 100%|██████████| 32/32 [00:07<00:00,  4.23it/s]\n"
     ]
    },
    {
     "name": "stdout",
     "output_type": "stream",
     "text": [
      "2024-05-19 21:51:08,927 INFO {/home/sacardoz/nuplan-devkit/nuplan/planning/script/builders/simulation_builder.py:84}  Building metric engines...\n",
      "2024-05-19 21:51:09,062 INFO {/home/sacardoz/nuplan-devkit/nuplan/planning/script/builders/simulation_builder.py:86}  Building metric engines...DONE\n",
      "2024-05-19 21:51:09,062 INFO {/home/sacardoz/nuplan-devkit/nuplan/planning/script/builders/simulation_builder.py:90}  Building simulations from 16 scenarios...\n",
      "2024-05-19 21:51:09,507 INFO {/home/sacardoz/nuplan-devkit/nuplan/planning/script/builders/simulation_builder.py:152}  Modyfing Scenarios...\n",
      "1 0 are the number of cpus and gpus\n",
      "2024-05-19 21:51:09,508 INFO {/home/sacardoz/nuplan-devkit/nuplan/planning/utils/multithreading/worker_pool.py:116}  Submitting 16 tasks!\n"
     ]
    },
    {
     "name": "stderr",
     "output_type": "stream",
     "text": [
      "\u001b[2m\u001b[33m(raylet)\u001b[0m [2024-05-19 21:51:10,226 E 1494287 1494299] (raylet) file_system_monitor.cc:111: /tmp/ray/session_2024-05-19_21-50-58_662546_1494105 is over 95% full, available space: 650541047808; capacity: 16125711347712. Object creation will fail if spilling is required.\n",
      "Ray objects:  75%|███████▌  | 12/16 [00:04<00:01,  2.50it/s]\n",
      "Traceback (most recent call last):\n",
      "  File \"/home/sacardoz/nuplan-devkit/nuplan/planning/utils/multithreading/ray_execution.py\", line 117, in ray_map\n",
      "    results = _ray_map_items(task, *item_lists, log_dir=log_dir)\n",
      "  File \"/home/sacardoz/nuplan-devkit/nuplan/planning/utils/multithreading/ray_execution.py\", line 100, in _ray_map_items\n",
      "    for object_id, output in tqdm(_ray_object_iterator(object_ids), total=len(object_ids), desc='Ray objects'):\n",
      "  File \"/home/sacardoz/miniconda3/envs/tuplan/lib/python3.9/site-packages/tqdm/std.py\", line 1182, in __iter__\n",
      "    for obj in iterable:\n",
      "  File \"/home/sacardoz/nuplan-devkit/nuplan/planning/utils/multithreading/ray_execution.py\", line 28, in _ray_object_iterator\n",
      "    yield next_id, ray.get(next_id)\n",
      "  File \"/home/sacardoz/miniconda3/envs/tuplan/lib/python3.9/site-packages/ray/_private/auto_init_hook.py\", line 18, in auto_init_wrapper\n",
      "    return fn(*args, **kwargs)\n",
      "  File \"/home/sacardoz/miniconda3/envs/tuplan/lib/python3.9/site-packages/ray/_private/client_mode_hook.py\", line 103, in wrapper\n",
      "    return func(*args, **kwargs)\n",
      "  File \"/home/sacardoz/miniconda3/envs/tuplan/lib/python3.9/site-packages/ray/_private/worker.py\", line 2540, in get\n",
      "    raise value.as_instanceof_cause()\n",
      "ray.exceptions.RayTaskError(AttributeError): \u001b[36mray::wrapped_fn()\u001b[39m (pid=1494372, ip=129.97.228.41)\n",
      "  File \"/home/sacardoz/nuplan-devkit/nuplan/planning/utils/multithreading/ray_execution.py\", line 59, in wrapped_fn\n",
      "    result = fn(*args, **kwargs)\n",
      "  File \"/home/sacardoz/nuplan-devkit/nuplan/planning/script/builders/simulation_builder.py\", line 234, in modify_simulations\n",
      "    modified_simulations = modifier.modify_scenario(simulation)\n",
      "  File \"/home/sacardoz/nuplan-devkit/nuplan/planning/scenario_builder/scenario_modifier/cross_conflict_occluder_only_injection_modifier.py\", line 170, in modify_scenario\n",
      "    if len(visible_agent_tokens.difference(new_visible_relavant_agents)) > 0:\n",
      "AttributeError: 'list' object has no attribute 'difference'\n"
     ]
    },
    {
     "ename": "RuntimeError",
     "evalue": "\u001b[36mray::wrapped_fn()\u001b[39m (pid=1494372, ip=129.97.228.41)\n  File \"/home/sacardoz/nuplan-devkit/nuplan/planning/utils/multithreading/ray_execution.py\", line 59, in wrapped_fn\n    result = fn(*args, **kwargs)\n  File \"/home/sacardoz/nuplan-devkit/nuplan/planning/script/builders/simulation_builder.py\", line 234, in modify_simulations\n    modified_simulations = modifier.modify_scenario(simulation)\n  File \"/home/sacardoz/nuplan-devkit/nuplan/planning/scenario_builder/scenario_modifier/cross_conflict_occluder_only_injection_modifier.py\", line 170, in modify_scenario\n    if len(visible_agent_tokens.difference(new_visible_relavant_agents)) > 0:\nAttributeError: 'list' object has no attribute 'difference'",
     "output_type": "error",
     "traceback": [
      "\u001b[0;31m---------------------------------------------------------------------------\u001b[0m",
      "\u001b[0;31mRayTaskError(AttributeError)\u001b[0m              Traceback (most recent call last)",
      "File \u001b[0;32m~/nuplan-devkit/nuplan/planning/utils/multithreading/ray_execution.py:117\u001b[0m, in \u001b[0;36mray_map\u001b[0;34m(task, log_dir, *item_lists)\u001b[0m\n\u001b[1;32m    116\u001b[0m \u001b[38;5;28;01mtry\u001b[39;00m:\n\u001b[0;32m--> 117\u001b[0m     results \u001b[38;5;241m=\u001b[39m \u001b[43m_ray_map_items\u001b[49m\u001b[43m(\u001b[49m\u001b[43mtask\u001b[49m\u001b[43m,\u001b[49m\u001b[43m \u001b[49m\u001b[38;5;241;43m*\u001b[39;49m\u001b[43mitem_lists\u001b[49m\u001b[43m,\u001b[49m\u001b[43m \u001b[49m\u001b[43mlog_dir\u001b[49m\u001b[38;5;241;43m=\u001b[39;49m\u001b[43mlog_dir\u001b[49m\u001b[43m)\u001b[49m\n\u001b[1;32m    118\u001b[0m     \u001b[38;5;28;01mreturn\u001b[39;00m results\n",
      "File \u001b[0;32m~/nuplan-devkit/nuplan/planning/utils/multithreading/ray_execution.py:100\u001b[0m, in \u001b[0;36m_ray_map_items\u001b[0;34m(task, log_dir, *item_lists)\u001b[0m\n\u001b[1;32m     99\u001b[0m \u001b[38;5;66;03m# Asynchronously iterate through the object and track progress\u001b[39;00m\n\u001b[0;32m--> 100\u001b[0m \u001b[38;5;28;01mfor\u001b[39;00m object_id, output \u001b[38;5;129;01min\u001b[39;00m tqdm(_ray_object_iterator(object_ids), total\u001b[38;5;241m=\u001b[39m\u001b[38;5;28mlen\u001b[39m(object_ids), desc\u001b[38;5;241m=\u001b[39m\u001b[38;5;124m'\u001b[39m\u001b[38;5;124mRay objects\u001b[39m\u001b[38;5;124m'\u001b[39m):\n\u001b[1;32m    101\u001b[0m     object_result_map[object_id] \u001b[38;5;241m=\u001b[39m output\n",
      "File \u001b[0;32m~/miniconda3/envs/tuplan/lib/python3.9/site-packages/tqdm/std.py:1182\u001b[0m, in \u001b[0;36mtqdm.__iter__\u001b[0;34m(self)\u001b[0m\n\u001b[1;32m   1181\u001b[0m \u001b[38;5;28;01mtry\u001b[39;00m:\n\u001b[0;32m-> 1182\u001b[0m     \u001b[38;5;28;01mfor\u001b[39;00m obj \u001b[38;5;129;01min\u001b[39;00m iterable:\n\u001b[1;32m   1183\u001b[0m         \u001b[38;5;28;01myield\u001b[39;00m obj\n",
      "File \u001b[0;32m~/nuplan-devkit/nuplan/planning/utils/multithreading/ray_execution.py:28\u001b[0m, in \u001b[0;36m_ray_object_iterator\u001b[0;34m(initial_ids)\u001b[0m\n\u001b[1;32m     26\u001b[0m next_id \u001b[38;5;241m=\u001b[39m ready_ids[\u001b[38;5;241m0\u001b[39m]\n\u001b[0;32m---> 28\u001b[0m \u001b[38;5;28;01myield\u001b[39;00m next_id, \u001b[43mray\u001b[49m\u001b[38;5;241;43m.\u001b[39;49m\u001b[43mget\u001b[49m\u001b[43m(\u001b[49m\u001b[43mnext_id\u001b[49m\u001b[43m)\u001b[49m\n\u001b[1;32m     30\u001b[0m next_ids \u001b[38;5;241m=\u001b[39m not_ready_ids\n",
      "File \u001b[0;32m~/miniconda3/envs/tuplan/lib/python3.9/site-packages/ray/_private/auto_init_hook.py:18\u001b[0m, in \u001b[0;36mwrap_auto_init.<locals>.auto_init_wrapper\u001b[0;34m(*args, **kwargs)\u001b[0m\n\u001b[1;32m     17\u001b[0m auto_init_ray()\n\u001b[0;32m---> 18\u001b[0m \u001b[38;5;28;01mreturn\u001b[39;00m \u001b[43mfn\u001b[49m\u001b[43m(\u001b[49m\u001b[38;5;241;43m*\u001b[39;49m\u001b[43margs\u001b[49m\u001b[43m,\u001b[49m\u001b[43m \u001b[49m\u001b[38;5;241;43m*\u001b[39;49m\u001b[38;5;241;43m*\u001b[39;49m\u001b[43mkwargs\u001b[49m\u001b[43m)\u001b[49m\n",
      "File \u001b[0;32m~/miniconda3/envs/tuplan/lib/python3.9/site-packages/ray/_private/client_mode_hook.py:103\u001b[0m, in \u001b[0;36mclient_mode_hook.<locals>.wrapper\u001b[0;34m(*args, **kwargs)\u001b[0m\n\u001b[1;32m    102\u001b[0m         \u001b[38;5;28;01mreturn\u001b[39;00m \u001b[38;5;28mgetattr\u001b[39m(ray, func\u001b[38;5;241m.\u001b[39m\u001b[38;5;18m__name__\u001b[39m)(\u001b[38;5;241m*\u001b[39margs, \u001b[38;5;241m*\u001b[39m\u001b[38;5;241m*\u001b[39mkwargs)\n\u001b[0;32m--> 103\u001b[0m \u001b[38;5;28;01mreturn\u001b[39;00m \u001b[43mfunc\u001b[49m\u001b[43m(\u001b[49m\u001b[38;5;241;43m*\u001b[39;49m\u001b[43margs\u001b[49m\u001b[43m,\u001b[49m\u001b[43m \u001b[49m\u001b[38;5;241;43m*\u001b[39;49m\u001b[38;5;241;43m*\u001b[39;49m\u001b[43mkwargs\u001b[49m\u001b[43m)\u001b[49m\n",
      "File \u001b[0;32m~/miniconda3/envs/tuplan/lib/python3.9/site-packages/ray/_private/worker.py:2540\u001b[0m, in \u001b[0;36mget\u001b[0;34m(object_refs, timeout)\u001b[0m\n\u001b[1;32m   2539\u001b[0m \u001b[38;5;28;01mif\u001b[39;00m \u001b[38;5;28misinstance\u001b[39m(value, RayTaskError):\n\u001b[0;32m-> 2540\u001b[0m     \u001b[38;5;28;01mraise\u001b[39;00m value\u001b[38;5;241m.\u001b[39mas_instanceof_cause()\n\u001b[1;32m   2541\u001b[0m \u001b[38;5;28;01melse\u001b[39;00m:\n",
      "\u001b[0;31mRayTaskError(AttributeError)\u001b[0m: \u001b[36mray::wrapped_fn()\u001b[39m (pid=1494372, ip=129.97.228.41)\n  File \"/home/sacardoz/nuplan-devkit/nuplan/planning/utils/multithreading/ray_execution.py\", line 59, in wrapped_fn\n    result = fn(*args, **kwargs)\n  File \"/home/sacardoz/nuplan-devkit/nuplan/planning/script/builders/simulation_builder.py\", line 234, in modify_simulations\n    modified_simulations = modifier.modify_scenario(simulation)\n  File \"/home/sacardoz/nuplan-devkit/nuplan/planning/scenario_builder/scenario_modifier/cross_conflict_occluder_only_injection_modifier.py\", line 170, in modify_scenario\n    if len(visible_agent_tokens.difference(new_visible_relavant_agents)) > 0:\nAttributeError: 'list' object has no attribute 'difference'",
      "\nDuring handling of the above exception, another exception occurred:\n",
      "\u001b[0;31mRuntimeError\u001b[0m                              Traceback (most recent call last)",
      "Cell \u001b[0;32mIn[10], line 2\u001b[0m\n\u001b[1;32m      1\u001b[0m \u001b[38;5;66;03m# Run the simulation loop (real-time visualization not yet supported, see next section for visualization)\u001b[39;00m\n\u001b[0;32m----> 2\u001b[0m \u001b[43mmain_simulation\u001b[49m\u001b[43m(\u001b[49m\u001b[43mcfg_occ\u001b[49m\u001b[43m)\u001b[49m\n",
      "File \u001b[0;32m~/miniconda3/envs/tuplan/lib/python3.9/site-packages/hydra/main.py:44\u001b[0m, in \u001b[0;36mmain.<locals>.main_decorator.<locals>.decorated_main\u001b[0;34m(cfg_passthrough)\u001b[0m\n\u001b[1;32m     41\u001b[0m \u001b[38;5;129m@functools\u001b[39m\u001b[38;5;241m.\u001b[39mwraps(task_function)\n\u001b[1;32m     42\u001b[0m \u001b[38;5;28;01mdef\u001b[39;00m \u001b[38;5;21mdecorated_main\u001b[39m(cfg_passthrough: Optional[DictConfig] \u001b[38;5;241m=\u001b[39m \u001b[38;5;28;01mNone\u001b[39;00m) \u001b[38;5;241m-\u001b[39m\u001b[38;5;241m>\u001b[39m Any:\n\u001b[1;32m     43\u001b[0m     \u001b[38;5;28;01mif\u001b[39;00m cfg_passthrough \u001b[38;5;129;01mis\u001b[39;00m \u001b[38;5;129;01mnot\u001b[39;00m \u001b[38;5;28;01mNone\u001b[39;00m:\n\u001b[0;32m---> 44\u001b[0m         \u001b[38;5;28;01mreturn\u001b[39;00m \u001b[43mtask_function\u001b[49m\u001b[43m(\u001b[49m\u001b[43mcfg_passthrough\u001b[49m\u001b[43m)\u001b[49m\n\u001b[1;32m     45\u001b[0m     \u001b[38;5;28;01melse\u001b[39;00m:\n\u001b[1;32m     46\u001b[0m         args \u001b[38;5;241m=\u001b[39m get_args_parser()\n",
      "File \u001b[0;32m~/nuplan-devkit/nuplan/planning/script/run_simulation.py:145\u001b[0m, in \u001b[0;36mmain\u001b[0;34m(cfg)\u001b[0m\n\u001b[1;32m    142\u001b[0m \u001b[38;5;28;01massert\u001b[39;00m cfg\u001b[38;5;241m.\u001b[39msimulation_log_main_path \u001b[38;5;129;01mis\u001b[39;00m \u001b[38;5;28;01mNone\u001b[39;00m, \u001b[38;5;124m'\u001b[39m\u001b[38;5;124mSimulation_log_main_path must not be set when running simulation.\u001b[39m\u001b[38;5;124m'\u001b[39m\n\u001b[1;32m    144\u001b[0m \u001b[38;5;66;03m# Execute simulation with preconfigured planner(s).\u001b[39;00m\n\u001b[0;32m--> 145\u001b[0m \u001b[43mrun_simulation\u001b[49m\u001b[43m(\u001b[49m\u001b[43mcfg\u001b[49m\u001b[38;5;241;43m=\u001b[39;49m\u001b[43mcfg\u001b[49m\u001b[43m)\u001b[49m\n\u001b[1;32m    147\u001b[0m \u001b[38;5;28;01mif\u001b[39;00m is_s3_path(Path(cfg\u001b[38;5;241m.\u001b[39moutput_dir)):\n\u001b[1;32m    148\u001b[0m     clean_up_s3_artifacts()\n",
      "File \u001b[0;32m~/nuplan-devkit/nuplan/planning/script/run_simulation.py:102\u001b[0m, in \u001b[0;36mrun_simulation\u001b[0;34m(cfg, planners)\u001b[0m\n\u001b[1;32m     99\u001b[0m \u001b[38;5;28;01mif\u001b[39;00m \u001b[38;5;28misinstance\u001b[39m(planners, AbstractPlanner):\n\u001b[1;32m    100\u001b[0m     planners \u001b[38;5;241m=\u001b[39m [planners]\n\u001b[0;32m--> 102\u001b[0m runners \u001b[38;5;241m=\u001b[39m \u001b[43mbuild_simulations\u001b[49m\u001b[43m(\u001b[49m\n\u001b[1;32m    103\u001b[0m \u001b[43m    \u001b[49m\u001b[43mcfg\u001b[49m\u001b[38;5;241;43m=\u001b[39;49m\u001b[43mcfg\u001b[49m\u001b[43m,\u001b[49m\n\u001b[1;32m    104\u001b[0m \u001b[43m    \u001b[49m\u001b[43mcallbacks\u001b[49m\u001b[38;5;241;43m=\u001b[39;49m\u001b[43mcallbacks\u001b[49m\u001b[43m,\u001b[49m\n\u001b[1;32m    105\u001b[0m \u001b[43m    \u001b[49m\u001b[43mworker\u001b[49m\u001b[38;5;241;43m=\u001b[39;49m\u001b[43mcommon_builder\u001b[49m\u001b[38;5;241;43m.\u001b[39;49m\u001b[43mworker\u001b[49m\u001b[43m,\u001b[49m\n\u001b[1;32m    106\u001b[0m \u001b[43m    \u001b[49m\u001b[43mpre_built_planners\u001b[49m\u001b[38;5;241;43m=\u001b[39;49m\u001b[43mplanners\u001b[49m\u001b[43m,\u001b[49m\n\u001b[1;32m    107\u001b[0m \u001b[43m    \u001b[49m\u001b[43mcallbacks_worker\u001b[49m\u001b[38;5;241;43m=\u001b[39;49m\u001b[43mcallbacks_worker_pool\u001b[49m\u001b[43m,\u001b[49m\n\u001b[1;32m    108\u001b[0m \u001b[43m\u001b[49m\u001b[43m)\u001b[49m\n\u001b[1;32m    109\u001b[0m \u001b[38;5;28;01mif\u001b[39;00m common_builder\u001b[38;5;241m.\u001b[39mprofiler:\n\u001b[1;32m    110\u001b[0m     \u001b[38;5;66;03m# Stop simulation construction profiling\u001b[39;00m\n\u001b[1;32m    111\u001b[0m     common_builder\u001b[38;5;241m.\u001b[39mprofiler\u001b[38;5;241m.\u001b[39msave_profiler(profiler_name)\n",
      "File \u001b[0;32m~/nuplan-devkit/nuplan/planning/script/builders/simulation_builder.py:193\u001b[0m, in \u001b[0;36mbuild_simulations\u001b[0;34m(cfg, worker, callbacks, callbacks_worker, pre_built_planners)\u001b[0m\n\u001b[1;32m    191\u001b[0m num_cpus \u001b[38;5;241m=\u001b[39m cfg\u001b[38;5;241m.\u001b[39mnumber_of_cpus_allocated_per_simulation\n\u001b[1;32m    192\u001b[0m \u001b[38;5;28mprint\u001b[39m(num_cpus, num_gpus, \u001b[38;5;124m'\u001b[39m\u001b[38;5;124mare the number of cpus and gpus\u001b[39m\u001b[38;5;124m'\u001b[39m)\n\u001b[0;32m--> 193\u001b[0m offshoot_scenario_modifications: List[Tuple[\u001b[38;5;28mstr\u001b[39m, \u001b[38;5;28mstr\u001b[39m, List[AbstractModification]]] \u001b[38;5;241m=\u001b[39m \u001b[43mworker\u001b[49m\u001b[38;5;241;43m.\u001b[39;49m\u001b[43mmap\u001b[49m\u001b[43m(\u001b[49m\n\u001b[1;32m    194\u001b[0m \u001b[43m    \u001b[49m\u001b[43mTask\u001b[49m\u001b[43m(\u001b[49m\u001b[43mfn\u001b[49m\u001b[38;5;241;43m=\u001b[39;49m\u001b[43mmodify_simulations\u001b[49m\u001b[43m,\u001b[49m\u001b[43m \u001b[49m\u001b[43mnum_gpus\u001b[49m\u001b[38;5;241;43m=\u001b[39;49m\u001b[43mnum_gpus\u001b[49m\u001b[43m,\u001b[49m\u001b[43m \u001b[49m\u001b[43mnum_cpus\u001b[49m\u001b[38;5;241;43m=\u001b[39;49m\u001b[43mnum_cpus\u001b[49m\u001b[43m)\u001b[49m\u001b[43m,\u001b[49m\u001b[43m \u001b[49m\u001b[43msimulations\u001b[49m\u001b[43m,\u001b[49m\u001b[43m \u001b[49m\u001b[43m[\u001b[49m\u001b[43mcfg\u001b[49m\u001b[43m]\u001b[49m\u001b[38;5;241;43m*\u001b[39;49m\u001b[38;5;28;43mlen\u001b[39;49m\u001b[43m(\u001b[49m\u001b[43msimulations\u001b[49m\u001b[43m)\u001b[49m\u001b[43m,\u001b[49m\u001b[43m \u001b[49m\u001b[43mverbose\u001b[49m\u001b[38;5;241;43m=\u001b[39;49m\u001b[38;5;28;43;01mTrue\u001b[39;49;00m\u001b[43m)\u001b[49m\n\u001b[1;32m    195\u001b[0m modifications_for_second_testing_round \u001b[38;5;241m=\u001b[39m \u001b[38;5;28mdict\u001b[39m() \u001b[38;5;66;03m#we need this to store all modifications for the second round of testing when we want to compare with and without occlusions\u001b[39;00m\n\u001b[1;32m    196\u001b[0m \u001b[38;5;28;01mfor\u001b[39;00m mods_for_sim, sim \u001b[38;5;129;01min\u001b[39;00m tqdm(\u001b[38;5;28mzip\u001b[39m(offshoot_scenario_modifications, simulations)):\n",
      "File \u001b[0;32m~/nuplan-devkit/nuplan/planning/utils/multithreading/worker_pool.py:117\u001b[0m, in \u001b[0;36mWorkerPool.map\u001b[0;34m(self, task, verbose, *item_lists)\u001b[0m\n\u001b[1;32m    115\u001b[0m \u001b[38;5;28;01mif\u001b[39;00m verbose:\n\u001b[1;32m    116\u001b[0m     logger\u001b[38;5;241m.\u001b[39minfo(\u001b[38;5;124mf\u001b[39m\u001b[38;5;124m'\u001b[39m\u001b[38;5;124mSubmitting \u001b[39m\u001b[38;5;132;01m{\u001b[39;00mmax_size\u001b[38;5;132;01m}\u001b[39;00m\u001b[38;5;124m tasks!\u001b[39m\u001b[38;5;124m'\u001b[39m)\n\u001b[0;32m--> 117\u001b[0m \u001b[38;5;28;01mreturn\u001b[39;00m \u001b[38;5;28;43mself\u001b[39;49m\u001b[38;5;241;43m.\u001b[39;49m\u001b[43m_map\u001b[49m\u001b[43m(\u001b[49m\u001b[43mtask\u001b[49m\u001b[43m,\u001b[49m\u001b[43m \u001b[49m\u001b[38;5;241;43m*\u001b[39;49m\u001b[43maligned_item_lists\u001b[49m\u001b[43m,\u001b[49m\u001b[43m \u001b[49m\u001b[43mverbose\u001b[49m\u001b[38;5;241;43m=\u001b[39;49m\u001b[43mverbose\u001b[49m\u001b[43m)\u001b[49m\n",
      "File \u001b[0;32m~/nuplan-devkit/nuplan/planning/utils/multithreading/worker_ray.py:155\u001b[0m, in \u001b[0;36mRayDistributed._map\u001b[0;34m(***failed resolving arguments***)\u001b[0m\n\u001b[1;32m    153\u001b[0m \u001b[38;5;250m\u001b[39m\u001b[38;5;124;03m\"\"\"Inherited, see superclass.\"\"\"\u001b[39;00m\n\u001b[1;32m    154\u001b[0m \u001b[38;5;28;01mdel\u001b[39;00m verbose\n\u001b[0;32m--> 155\u001b[0m \u001b[38;5;28;01mreturn\u001b[39;00m \u001b[43mray_map\u001b[49m\u001b[43m(\u001b[49m\u001b[43mtask\u001b[49m\u001b[43m,\u001b[49m\u001b[43m \u001b[49m\u001b[38;5;241;43m*\u001b[39;49m\u001b[43mitem_lists\u001b[49m\u001b[43m,\u001b[49m\u001b[43m \u001b[49m\u001b[43mlog_dir\u001b[49m\u001b[38;5;241;43m=\u001b[39;49m\u001b[38;5;28;43mself\u001b[39;49m\u001b[38;5;241;43m.\u001b[39;49m\u001b[43m_log_dir\u001b[49m\u001b[43m)\u001b[49m\n",
      "File \u001b[0;32m~/nuplan-devkit/nuplan/planning/utils/multithreading/ray_execution.py:122\u001b[0m, in \u001b[0;36mray_map\u001b[0;34m(task, log_dir, *item_lists)\u001b[0m\n\u001b[1;32m    120\u001b[0m ray\u001b[38;5;241m.\u001b[39mshutdown()\n\u001b[1;32m    121\u001b[0m traceback\u001b[38;5;241m.\u001b[39mprint_exc()\n\u001b[0;32m--> 122\u001b[0m \u001b[38;5;28;01mraise\u001b[39;00m \u001b[38;5;167;01mRuntimeError\u001b[39;00m(exc)\n",
      "\u001b[0;31mRuntimeError\u001b[0m: \u001b[36mray::wrapped_fn()\u001b[39m (pid=1494372, ip=129.97.228.41)\n  File \"/home/sacardoz/nuplan-devkit/nuplan/planning/utils/multithreading/ray_execution.py\", line 59, in wrapped_fn\n    result = fn(*args, **kwargs)\n  File \"/home/sacardoz/nuplan-devkit/nuplan/planning/script/builders/simulation_builder.py\", line 234, in modify_simulations\n    modified_simulations = modifier.modify_scenario(simulation)\n  File \"/home/sacardoz/nuplan-devkit/nuplan/planning/scenario_builder/scenario_modifier/cross_conflict_occluder_only_injection_modifier.py\", line 170, in modify_scenario\n    if len(visible_agent_tokens.difference(new_visible_relavant_agents)) > 0:\nAttributeError: 'list' object has no attribute 'difference'"
     ]
    }
   ],
   "source": [
    "# Run the simulation loop (real-time visualization not yet supported, see next section for visualization)\n",
    "main_simulation(cfg_occ)"
   ]
  },
  {
   "cell_type": "markdown",
   "id": "ddd45a08",
   "metadata": {},
   "source": [
    "# Now we set up the second running regime"
   ]
  },
  {
   "cell_type": "code",
   "execution_count": null,
   "id": "e825205f",
   "metadata": {},
   "outputs": [
    {
     "name": "stdout",
     "output_type": "stream",
     "text": [
      "+scenarios_to_check=['83785721c5ce5452_cross_conflict_injection_and_occlusion_injection_0_0.0_52344', '83785721c5ce5452_cross_conflict_injection_and_occlusion_injection_1_4.6_52344', 'b2c4a296ae045c65_cross_conflict_injection_and_occlusion_injection_0_-4.6_53023', '83785721c5ce5452_cross_conflict_injection_and_occlusion_injection_0_4.6_52344']\n"
     ]
    },
    {
     "name": "stdout",
     "output_type": "stream",
     "text": [
      "output_folder_unocc = \"/home/sacardoz/nuplan/exp/exp/simulation/closed_loop_multiagent/2024.05.17.18.04.43\"\n"
     ]
    }
   ],
   "source": [
    "#########################################\n",
    "\n",
    "path = output_folder_occ + \"/metrics/\"\n",
    "file_path_1 = path + \"no_ego_at_fault_collisions.parquet\"\n",
    "df = pd.read_parquet(file_path_1)\n",
    "df = df.loc[df[\"number_of_ego_collisions_with_vehicles_stat_value\"] != 0]\n",
    "df = df[\"scenario_name\"]\n",
    "\n",
    "\n",
    "scenario_list = df.tolist()\n",
    "print(f\"+scenarios_to_check={scenario_list}\")\n",
    "\n",
    "hydra.core.global_hydra.GlobalHydra.instance().clear()  # reinitialize hydra if already initialized\n",
    "hydra.initialize(config_path=simulation_hydra_paths.config_path)\n",
    "cfg_unocc = hydra.compose(\n",
    "    config_name=simulation_hydra_paths.config_name,\n",
    "    overrides=[\n",
    "        # planner\n",
    "        ################################################\n",
    "        \"planner=pdm_closed_planner\",  # [ml_planner, pdm_hybrid_planner, pdm_closed_planner, idm_planner, log_future_planner, simple_planner]\n",
    "        ################################################\n",
    "        # planner occlusion\n",
    "        ################################################\n",
    "        \"+occlusion_cfg.occlusion=false\",\n",
    "        ################################################\n",
    "        # obs\n",
    "        ################################################\n",
    "        f\"observation.planner_type=pdm_closed\",\n",
    "        ################################################\n",
    "        # obs occlusion\n",
    "        ################################################\n",
    "        f\"observation.occlusion_cfg.occlusion=false\",\n",
    "        ################################################\n",
    "        # scenario modification\n",
    "        ################################################\n",
    "        \"+modify_scenario_simulations=true\",\n",
    "        \"+second_testing_round=true\",\n",
    "        f\"+scenarios_to_check={scenario_list}\",\n",
    "        \"+remove_other_agents=false\",\n",
    "        ################################################\n",
    "        # misc\n",
    "        ################################################\n",
    "        \"+simulation=closed_loop_multiagent\",  # [open_loop_boxes, closed_loop_nonreactive_agents, closed_loop_reactive_agents, closed_loop_multiagent]\n",
    "        \"worker=ray_distributed\",  # [sequential, ray_distributed]\n",
    "        \"hydra.searchpath=[pkg://tuplan_garage.planning.script.config.common, pkg://tuplan_garage.planning.script.config.simulation, pkg://nuplan.planning.script.config.common, pkg://nuplan.planning.script.experiments]\",\n",
    "        *DATASET_PARAMS,\n",
    "        ###############################################\n",
    "    ],\n",
    ")\n",
    "\n",
    "output_folder_unocc = cfg_unocc.output_dir\n",
    "print('output_folder_unocc = \"' + output_folder_unocc + '\"')"
   ]
  },
  {
   "cell_type": "markdown",
   "id": "f5bffe3d",
   "metadata": {},
   "source": [
    "## Run Second Regime"
   ]
  },
  {
   "cell_type": "code",
   "execution_count": null,
   "id": "3d2c0871",
   "metadata": {},
   "outputs": [
    {
     "name": "stderr",
     "output_type": "stream",
     "text": [
      "Global seed set to 0\n"
     ]
    },
    {
     "name": "stdout",
     "output_type": "stream",
     "text": [
      "2024-05-17 18:04:43,907 INFO {/home/sacardoz/nuplan-devkit/nuplan/planning/script/builders/main_callback_builder.py:20}  Building MultiMainCallback...\n",
      "2024-05-17 18:04:43,927 INFO {/home/sacardoz/nuplan-devkit/nuplan/planning/script/builders/main_callback_builder.py:35}  Building MultiMainCallback: 4...DONE!\n",
      "2024-05-17 18:04:44,090 INFO {/home/sacardoz/nuplan-devkit/nuplan/planning/script/builders/worker_pool_builder.py:19}  Building WorkerPool...\n",
      "2024-05-17 18:04:44,091 WARNING {/home/sacardoz/nuplan-devkit/nuplan/planning/utils/multithreading/worker_ray.py:135}  Ray is running, we will shut it down before starting again!\n",
      "2024-05-17 18:04:46,853 INFO {/home/sacardoz/nuplan-devkit/nuplan/planning/utils/multithreading/worker_ray.py:78}  Starting ray local!\n"
     ]
    },
    {
     "name": "stderr",
     "output_type": "stream",
     "text": [
      "2024-05-17 18:04:48,501\tINFO worker.py:1636 -- Started a local Ray instance.\n"
     ]
    },
    {
     "name": "stdout",
     "output_type": "stream",
     "text": [
      "2024-05-17 18:04:49,149 INFO {/home/sacardoz/nuplan-devkit/nuplan/planning/utils/multithreading/worker_pool.py:101}  Worker: RayDistributed\n",
      "2024-05-17 18:04:49,149 INFO {/home/sacardoz/nuplan-devkit/nuplan/planning/utils/multithreading/worker_pool.py:102}  Number of nodes: 1\n",
      "Number of CPUs per node: 32\n",
      "Number of GPUs per node: 4\n",
      "Number of threads across all nodes: 32\n",
      "2024-05-17 18:04:49,150 INFO {/home/sacardoz/nuplan-devkit/nuplan/planning/script/builders/worker_pool_builder.py:27}  Building WorkerPool...DONE!\n",
      "2024-05-17 18:04:49,150 INFO {/home/sacardoz/nuplan-devkit/nuplan/planning/script/builders/folder_builder.py:32}  Building experiment folders...\n",
      "2024-05-17 18:04:49,150 INFO {/home/sacardoz/nuplan-devkit/nuplan/planning/script/builders/folder_builder.py:35}  \n",
      "\n",
      "\tFolder where all results are stored: /home/sacardoz/nuplan/exp/exp/simulation/closed_loop_multiagent/2024.05.17.18.04.43\n",
      "\n",
      "2024-05-17 18:04:49,151 INFO {/home/sacardoz/nuplan-devkit/nuplan/planning/script/builders/folder_builder.py:70}  Building experiment folders...DONE!\n",
      "2024-05-17 18:04:49,152 INFO {/home/sacardoz/nuplan-devkit/nuplan/planning/script/builders/simulation_callback_builder.py:52}  Building AbstractCallback...\n",
      "2024-05-17 18:04:49,152 INFO {/home/sacardoz/nuplan-devkit/nuplan/planning/script/builders/simulation_callback_builder.py:68}  Building AbstractCallback: 0...DONE!\n",
      "2024-05-17 18:04:49,152 INFO {/home/sacardoz/nuplan-devkit/nuplan/planning/script/builders/simulation_builder.py:57}  Building simulations...\n",
      "2024-05-17 18:04:49,152 INFO {/home/sacardoz/nuplan-devkit/nuplan/planning/script/builders/simulation_builder.py:63}  Extracting scenarios...\n",
      "2024-05-17 18:04:49,152 INFO {/home/sacardoz/nuplan-devkit/nuplan/common/utils/distributed_scenario_filter.py:83}  Building Scenarios in mode DistributedMode.SINGLE_NODE\n",
      "2024-05-17 18:04:49,152 INFO {/home/sacardoz/nuplan-devkit/nuplan/planning/script/builders/scenario_building_builder.py:18}  Building AbstractScenarioBuilder...\n",
      "2024-05-17 18:04:49,171 INFO {/home/sacardoz/nuplan-devkit/nuplan/planning/script/builders/scenario_building_builder.py:21}  Building AbstractScenarioBuilder...DONE!\n",
      "2024-05-17 18:04:49,171 INFO {/home/sacardoz/nuplan-devkit/nuplan/planning/script/builders/scenario_filter_builder.py:35}  Building ScenarioFilter...\n",
      "2024-05-17 18:04:49,172 INFO {/home/sacardoz/nuplan-devkit/nuplan/planning/script/builders/scenario_filter_builder.py:44}  Building ScenarioFilter...DONE!\n"
     ]
    },
    {
     "name": "stderr",
     "output_type": "stream",
     "text": [
      "Ray objects: 100%|██████████| 32/32 [00:07<00:00,  4.08it/s]\n"
     ]
    },
    {
     "name": "stdout",
     "output_type": "stream",
     "text": [
      "2024-05-17 18:04:57,446 INFO {/home/sacardoz/nuplan-devkit/nuplan/planning/script/builders/simulation_builder.py:84}  Building metric engines...\n",
      "2024-05-17 18:04:57,575 INFO {/home/sacardoz/nuplan-devkit/nuplan/planning/script/builders/simulation_builder.py:86}  Building metric engines...DONE\n",
      "2024-05-17 18:04:57,576 INFO {/home/sacardoz/nuplan-devkit/nuplan/planning/script/builders/simulation_builder.py:90}  Building simulations from 16 scenarios...\n",
      "2024-05-17 18:04:57,763 INFO {/home/sacardoz/nuplan-devkit/nuplan/planning/script/builders/simulation_builder.py:152}  Modyfing Scenarios...\n",
      "# roadblock ids 4\n",
      "# unique roadblock ids 2\n",
      "unique roadblock ids ['50830', '50350']\n",
      "[\n",
      "\t'83785721c5ce5452',\n",
      "\t'b2c4a296ae045c65'\n",
      "]\n",
      "2024-05-17 18:04:58,290 INFO {/home/sacardoz/nuplan-devkit/nuplan/planning/script/builders/simulation_builder.py:219}  Created 4 modified scenarios from 16 scenarios, 5 of which were modifiable.\n",
      "2024-05-17 18:04:58,290 INFO {/home/sacardoz/nuplan-devkit/nuplan/planning/script/builders/simulation_builder.py:220}  Building simulations...DONE!\n",
      "2024-05-17 18:04:58,291 INFO {/home/sacardoz/nuplan-devkit/nuplan/planning/script/run_simulation.py:113}  Running simulation...\n",
      "2024-05-17 18:04:58,291 INFO {/home/sacardoz/nuplan-devkit/nuplan/planning/script/utils.py:138}  Executing runners...\n",
      "2024-05-17 18:04:58,291 INFO {/home/sacardoz/nuplan-devkit/nuplan/planning/simulation/runner/executor.py:82}  Starting 4 simulations using RayDistributed!\n"
     ]
    },
    {
     "name": "stderr",
     "output_type": "stream",
     "text": [
      "Ray objects:   0%|          | 0/4 [00:00<?, ?it/s]\u001b[2m\u001b[33m(raylet)\u001b[0m [2024-05-17 18:04:58,468 E 1247414 1247426] (raylet) file_system_monitor.cc:111: /tmp/ray/session_2024-05-17_18-04-46_879341_1243430 is over 95% full, available space: 650815496192; capacity: 16125711347712. Object creation will fail if spilling is required.\n",
      "\u001b[2m\u001b[33m(raylet)\u001b[0m [2024-05-17 18:05:08,473 E 1247414 1247426] (raylet) file_system_monitor.cc:111: /tmp/ray/session_2024-05-17_18-04-46_879341_1243430 is over 95% full, available space: 650815442944; capacity: 16125711347712. Object creation will fail if spilling is required.\n",
      "\u001b[2m\u001b[33m(raylet)\u001b[0m [2024-05-17 18:05:18,477 E 1247414 1247426] (raylet) file_system_monitor.cc:111: /tmp/ray/session_2024-05-17_18-04-46_879341_1243430 is over 95% full, available space: 650815442944; capacity: 16125711347712. Object creation will fail if spilling is required.\n",
      "\u001b[2m\u001b[33m(raylet)\u001b[0m [2024-05-17 18:05:28,482 E 1247414 1247426] (raylet) file_system_monitor.cc:111: /tmp/ray/session_2024-05-17_18-04-46_879341_1243430 is over 95% full, available space: 650815438848; capacity: 16125711347712. Object creation will fail if spilling is required.\n",
      "Ray objects:  25%|██▌       | 1/4 [00:35<01:47, 35.89s/it]\u001b[2m\u001b[33m(raylet)\u001b[0m [2024-05-17 18:05:38,486 E 1247414 1247426] (raylet) file_system_monitor.cc:111: /tmp/ray/session_2024-05-17_18-04-46_879341_1243430 is over 95% full, available space: 650798682112; capacity: 16125711347712. Object creation will fail if spilling is required.\n",
      "\u001b[2m\u001b[33m(raylet)\u001b[0m [2024-05-17 18:05:48,490 E 1247414 1247426] (raylet) file_system_monitor.cc:111: /tmp/ray/session_2024-05-17_18-04-46_879341_1243430 is over 95% full, available space: 650798592000; capacity: 16125711347712. Object creation will fail if spilling is required.\n",
      "Ray objects:  75%|███████▌  | 3/4 [00:53<00:13, 13.82s/it]\u001b[2m\u001b[33m(raylet)\u001b[0m [2024-05-17 18:05:58,494 E 1247414 1247426] (raylet) file_system_monitor.cc:111: /tmp/ray/session_2024-05-17_18-04-46_879341_1243430 is over 95% full, available space: 650764222464; capacity: 16125711347712. Object creation will fail if spilling is required.\n",
      "Ray objects: 100%|██████████| 4/4 [01:04<00:00, 16.10s/it]\n"
     ]
    },
    {
     "name": "stdout",
     "output_type": "stream",
     "text": [
      "2024-05-17 18:06:02,700 INFO {/home/sacardoz/nuplan-devkit/nuplan/planning/simulation/runner/executor.py:129}  Number of successful simulations: 4\n",
      "2024-05-17 18:06:02,700 INFO {/home/sacardoz/nuplan-devkit/nuplan/planning/simulation/runner/executor.py:130}  Number of failed simulations: 0\n",
      "2024-05-17 18:06:02,700 INFO {/home/sacardoz/nuplan-devkit/nuplan/planning/script/utils.py:147}  Finished executing runners!\n",
      "2024-05-17 18:06:02,703 INFO {/home/sacardoz/nuplan-devkit/nuplan/planning/script/utils.py:74}  Saved runner reports to /home/sacardoz/nuplan/exp/exp/simulation/closed_loop_multiagent/2024.05.17.18.04.43/runner_report.parquet\n",
      "2024-05-17 18:06:02,704 INFO {/home/sacardoz/nuplan-devkit/nuplan/planning/simulation/main_callback/time_callback.py:27}  Simulation duration: 00:01:18 [HH:MM:SS]\n",
      "2024-05-17 18:06:02,810 INFO {/home/sacardoz/nuplan-devkit/nuplan/planning/simulation/main_callback/metric_file_callback.py:79}  Metric files integration: 00:00:00 [HH:MM:SS]\n",
      "2024-05-17 18:06:02,868 INFO {/home/sacardoz/nuplan-devkit/nuplan/planning/simulation/main_callback/metric_aggregator_callback.py:58}  Running metric aggregator: closed_loop_multiagent_weighted_average\n",
      "2024-05-17 18:06:02,882 INFO {/home/sacardoz/nuplan-devkit/nuplan/planning/simulation/main_callback/metric_aggregator_callback.py:69}  Metric aggregator: 00:00:00 [HH:MM:SS]\n",
      "2024-05-17 18:06:02,986 INFO {/home/sacardoz/nuplan-devkit/nuplan/planning/simulation/main_callback/metric_summary_callback.py:344}  Metric summary: 00:00:00 [HH:MM:SS]\n",
      "2024-05-17 18:06:02,986 INFO {/home/sacardoz/nuplan-devkit/nuplan/planning/script/run_simulation.py:115}  Finished running simulation!\n"
     ]
    }
   ],
   "source": [
    "main_simulation(cfg_unocc)"
   ]
  },
  {
   "cell_type": "code",
   "execution_count": null,
   "metadata": {},
   "outputs": [
    {
     "name": "stdout",
     "output_type": "stream",
     "text": [
      "scenario mods to save to npsc file=['b2c4a296ae045c65_cross_conflict_injection_and_occlusion_injection_0_-4.6_53023']\n",
      "base scenarios=['b2c4a296ae045c65']\n",
      "number of generated OCC's 1\n",
      "b2c4a296ae045c65_cross_conflict_injection_and_occlusion_injection_0_-4.6_53023\n",
      "dict_keys(['b2c4a296ae045c65'])\n",
      "['scenario_builder=val', 'scenario_filter=all_scenarios', \"scenario_filter.scenario_types=['starting_left_turn', 'starting_right_turn', 'starting_straight_stop_sign_intersection_traversal', 'starting_straight_traffic_light_intersection_traversal', 'starting_unprotected_cross_turn', 'starting_unprotected_noncross_turn', 'traversing_intersection', 'traversing_traffic_light_intersection']\", 'scenario_filter.ego_displacement_minimum_m=10', 'scenario_filter.map_names=[sg-one-north, us-ma-boston, us-pa-pittsburgh-hazelwood, us-nv-las-vegas-strip]', 'scenario_filter.num_scenarios_per_type=2']\n",
      "shea_cross_testing3\n"
     ]
    }
   ],
   "source": [
    "import pandas as pd\n",
    "import re\n",
    "import pickle\n",
    "\n",
    "path_unocc = output_folder_unocc + \"/metrics/\"\n",
    "file_path_2 = path_unocc + \"no_ego_at_fault_collisions.parquet\"\n",
    "df = pd.read_parquet(file_path_2)\n",
    "df = df.loc[\n",
    "    df[\"number_of_ego_collisions_with_vehicles_stat_value\"] == 0\n",
    "]  # we know all these scenarios are ones where we crahsed in the occluded regime, so here, we are selecting all the ones where we also didnt crash in the unoccluded regime\n",
    "df = df[\"scenario_name\"]\n",
    "scenario_list = df.tolist()\n",
    "print(f\"scenario mods to save to npsc file={scenario_list}\")\n",
    "base_scenario_tokens = [re.split(\"_\", name, 1)[0] for name in scenario_list]\n",
    "print(f\"base scenarios={base_scenario_tokens}\")\n",
    "\n",
    "modification_list_dictionary = {}\n",
    "with open(r\"modifications_for_second_testing_round.pkl\", \"rb\") as input_file:\n",
    "    modifications_for_second_testing_round = pickle.load(input_file)\n",
    "\n",
    "    for token in base_scenario_tokens:\n",
    "        modification_list_dictionary[token] = []\n",
    "\n",
    "    print(\"number of generated OCC's\", len(scenario_list))\n",
    "\n",
    "    for full_modification_token in scenario_list:\n",
    "        base_token = re.split(\"_\", full_modification_token, 1)[0]\n",
    "        for modification_object in modifications_for_second_testing_round[base_token]:\n",
    "            if (\n",
    "                base_token + modification_object.modifier_string\n",
    "                == full_modification_token\n",
    "            ):\n",
    "                modification_list_dictionary[base_token].append(modification_object)\n",
    "                print(base_token + modification_object.modifier_string)\n",
    "                break\n",
    "\n",
    "\n",
    "with open(\"npsc_files/\" + EXPERIMENT_NAME + \".npsc.pkl\", \"wb\") as output_file:\n",
    "    pickle.dump(modification_list_dictionary, output_file)\n",
    "    pickle.dump(DATASET_PARAMS, output_file)\n",
    "\n",
    "with open(\"npsc_files/\" + EXPERIMENT_NAME + \".npsc.pkl\", \"rb\") as output_file:\n",
    "    mod_list_dict = pickle.load(output_file)\n",
    "    print(mod_list_dict.keys())\n",
    "    data = pickle.load(output_file)\n",
    "    print(data)\n",
    "\n",
    "print(EXPERIMENT_NAME)"
   ]
  },
  {
   "cell_type": "code",
   "execution_count": null,
   "id": "f5bb338e",
   "metadata": {},
   "outputs": [
    {
     "name": "stdout",
     "output_type": "stream",
     "text": [
      "number_of_ego_collisions_with_vehicles_stat_value (top 25 differences)\n",
      "positive diff\n",
      "                                                                    scenario_name  difference          scenario_type_1\n",
      "2  b2c4a296ae045c65_cross_conflict_injection_and_occlusion_injection_0_-4.6_53023           1       starting_left_turn\n",
      "0   83785721c5ce5452_cross_conflict_injection_and_occlusion_injection_0_0.0_52344           0  traversing_intersection\n",
      "1   83785721c5ce5452_cross_conflict_injection_and_occlusion_injection_1_4.6_52344           0  traversing_intersection\n",
      "3   83785721c5ce5452_cross_conflict_injection_and_occlusion_injection_0_4.6_52344           0  traversing_intersection\n",
      "negative diff\n",
      "                                                                    scenario_name  difference          scenario_type_1\n",
      "0   83785721c5ce5452_cross_conflict_injection_and_occlusion_injection_0_0.0_52344           0  traversing_intersection\n",
      "1   83785721c5ce5452_cross_conflict_injection_and_occlusion_injection_1_4.6_52344           0  traversing_intersection\n",
      "3   83785721c5ce5452_cross_conflict_injection_and_occlusion_injection_0_4.6_52344           0  traversing_intersection\n",
      "2  b2c4a296ae045c65_cross_conflict_injection_and_occlusion_injection_0_-4.6_53023           1       starting_left_turn\n"
     ]
    },
    {
     "data": {
      "image/png": "[encoded data removed]",
      "text/plain": [
       "<Figure size 1400x1000 with 1 Axes>"
      ]
     },
     "metadata": {},
     "output_type": "display_data"
    }
   ],
   "source": [
    "from vis_utils import plot_diff\n",
    "\n",
    "# %env NUPLAN_DATA_ROOT=../../../datasets/nuplan/dataset\n",
    "# %env NUPLAN_MAPS_ROOT=../../data/nuplan/maps\n",
    "# %env NUPLAN_EXP_ROOT=../../data/nuplan/exp\n",
    "# %env NUPLAN_DEVKIT_ROOT=../../nuplan-devkit/\n",
    "# %pwd\n",
    "\n",
    "# output_folder_occ = (\n",
    "#     \"../../data/nuplan/exp/exp/simulation/closed_loop_multiagent/2024.04.24.05.29.17\"\n",
    "# )\n",
    "# output_folder_unocc = (\n",
    "#     \"../../data/nuplan/exp/exp/simulation/closed_loop_multiagent/2024.04.24.05.36.28\"\n",
    "# )\n",
    "\n",
    "file_path_1 = output_folder_unocc + \"/metrics/\" + \"no_ego_at_fault_collisions.parquet\"\n",
    "file_path_2 = output_folder_occ + \"/metrics/\" + \"no_ego_at_fault_collisions.parquet\"\n",
    "\n",
    "\n",
    "metrics = [\n",
    "    \"number_of_ego_collisions_with_vehicles_stat_value\",\n",
    "]\n",
    "metric_op = [\n",
    "    \"sum\",\n",
    "]\n",
    "# metrics are 'good' if you would like to succeed at them. ex: amount of crashes is bad, amount of money is good\n",
    "good_metric = [\n",
    "    False,\n",
    "]\n",
    "\n",
    "plot_diff(\n",
    "    file_path_1,\n",
    "    file_path_2,\n",
    "    \"unocc\",\n",
    "    \"occ\",\n",
    "    metrics,\n",
    "    metric_op,\n",
    "    good_metric,\n",
    "    group_by=\"scenario_type\",\n",
    "    k_differences=25,\n",
    "    as_bool=True,\n",
    ")"
   ]
  },
  {
   "cell_type": "markdown",
   "id": "c81f0d3a",
   "metadata": {},
   "source": [
    "## Prepare the nuBoard config"
   ]
  },
  {
   "cell_type": "code",
   "execution_count": null,
   "id": "b8fc89e1",
   "metadata": {},
   "outputs": [
    {
     "name": "stdout",
     "output_type": "stream",
     "text": [
      "/home/sacardoz/nuplan/exp/exp/simulation/closed_loop_multiagent/2024.05.17.17.52.47\n",
      "/home/sacardoz/nuplan/exp/exp/simulation/closed_loop_multiagent/2024.05.17.18.04.43\n"
     ]
    }
   ],
   "source": [
    "# import hydra\n",
    "\n",
    "# scenario_builder = \"val\"  # [nuplan (uses trainval), nuplan_mini, test, val, train_boston, train_pittsburgh, train_singapore]\n",
    "# output_folder_occ = \"../../data/nuplan/exp/exp/simulation/closed_loop_multiagent/2024.02.28.20.06.45\"\n",
    "# output_folder_unocc = \"../../data/nuplan/exp/exp/simulation/closed_loop_multiagent/2024.02.28.20.55.22\"\n",
    "\n",
    "output_folder = [output_folder_occ, output_folder_unocc]\n",
    "\n",
    "# output_folder = [output_folder_occ]\n",
    "print(output_folder_occ)\n",
    "print(output_folder_unocc)\n",
    "\n",
    "CONFIG_PATH = \"../nuplan/planning/script/config/nuboard\"\n",
    "CONFIG_NAME = \"default_nuboard\"\n",
    "\n",
    "# Initialize configuration management system\n",
    "hydra.core.global_hydra.GlobalHydra.instance().clear()  # reinitialize hydra if already initialized\n",
    "hydra.initialize(config_path=CONFIG_PATH)\n",
    "\n",
    "# Compose the configuration\n",
    "cfg = hydra.compose(\n",
    "    config_name=CONFIG_NAME,\n",
    "    overrides=[\n",
    "        f\"scenario_builder={scenario_builder}\",  # set the database (same as simulation) used to fetch data for visualization\n",
    "        f\"simulation_path={output_folder}\",  # [output_folder, output_folder_alt] nuboard file path(s), if left empty the user can open the file inside nuBoard\n",
    "    ],\n",
    ")"
   ]
  },
  {
   "cell_type": "markdown",
   "id": "cf22057a",
   "metadata": {},
   "source": [
    "## Launch nuBoard (open in new tab - recommended)\n"
   ]
  },
  {
   "cell_type": "code",
   "execution_count": null,
   "id": "eea5a24e",
   "metadata": {},
   "outputs": [
    {
     "name": "stdout",
     "output_type": "stream",
     "text": [
      "2024-05-17 18:06:03,394 INFO {/home/sacardoz/nuplan-devkit/nuplan/planning/script/builders/scenario_building_builder.py:18}  Building AbstractScenarioBuilder...\n",
      "2024-05-17 18:06:03,411 INFO {/home/sacardoz/nuplan-devkit/nuplan/planning/script/builders/scenario_building_builder.py:21}  Building AbstractScenarioBuilder...DONE!\n",
      "2024-05-17 18:06:03,412 INFO {/home/sacardoz/nuplan-devkit/nuplan/planning/nuboard/nuboard.py:84}  Opening Bokeh application on http://localhost:5006/\n",
      "2024-05-17 18:06:03,412 INFO {/home/sacardoz/nuplan-devkit/nuplan/planning/nuboard/nuboard.py:85}  Async rendering is set to: True\n",
      "2024-05-17 18:06:03,412 INFO {/home/sacardoz/miniconda3/envs/tuplan/lib/python3.9/site-packages/bokeh/server/server.py:403}  Starting Bokeh server version 2.4.3 (running on Tornado 6.3.3)\n",
      "2024-05-17 18:06:03,413 WARNING {/home/sacardoz/miniconda3/envs/tuplan/lib/python3.9/site-packages/bokeh/server/util.py:145}  Host wildcard '*' will allow connections originating from multiple (or possibly all) hostnames or IPs. Use non-wildcard values to restrict access explicitly\n",
      "2024-05-17 18:06:03,413 INFO {/home/sacardoz/miniconda3/envs/tuplan/lib/python3.9/site-packages/bokeh/server/tornado.py:360}  User authentication hooks NOT provided (default user enabled)\n",
      "2024-05-17 18:06:04,340 INFO {/home/sacardoz/nuplan-devkit/nuplan/planning/nuboard/base/simulation_tile.py:172}  Minimum frame time=0.017 s\n",
      "2024-05-17 18:06:04,367 INFO {/home/sacardoz/nuplan-devkit/nuplan/planning/nuboard/tabs/scenario_tab.py:485}  Rending scenario plot takes 0.0009 seconds.\n",
      "2024-05-17 18:06:04,465 INFO {/home/sacardoz/miniconda3/envs/tuplan/lib/python3.9/site-packages/tornado/web.py:2344}  200 GET / (127.0.0.1) 368.11ms\n"
     ]
    },
    {
     "name": "stderr",
     "output_type": "stream",
     "text": [
      "INFO:tornado.access:200 GET / (127.0.0.1) 368.11ms\n",
      "INFO:tornado.access:200 GET /resource/spectre.min.css (127.0.0.1) 2.64ms\n",
      "INFO:tornado.access:200 GET /resource/css/scenario.css (127.0.0.1) 0.30ms\n",
      "INFO:tornado.access:200 GET /resource/css/histogram.css (127.0.0.1) 0.27ms\n",
      "INFO:tornado.access:200 GET /resource/spectre-icons.min.css (127.0.0.1) 0.48ms\n",
      "INFO:tornado.access:200 GET /resource/style.css (127.0.0.1) 0.60ms\n",
      "INFO:tornado.access:200 GET /resource/spectre-exp.min.css (127.0.0.1) 0.30ms\n",
      "INFO:tornado.access:200 GET /resource/css/overview.css (127.0.0.1) 0.27ms\n",
      "INFO:tornado.access:200 GET /resource/css/cloud.css (127.0.0.1) 0.27ms\n",
      "INFO:tornado.access:200 GET /resource/scripts/utils.js (127.0.0.1) 0.28ms\n",
      "INFO:tornado.access:200 GET /resource/motional_logo.png (127.0.0.1) 0.40ms\n"
     ]
    },
    {
     "name": "stdout",
     "output_type": "stream",
     "text": [
      "2024-05-17 18:06:04,811 INFO {/home/sacardoz/miniconda3/envs/tuplan/lib/python3.9/site-packages/tornado/web.py:2344}  200 GET /resource/spectre.min.css (127.0.0.1) 2.64ms\n",
      "2024-05-17 18:06:04,857 INFO {/home/sacardoz/miniconda3/envs/tuplan/lib/python3.9/site-packages/tornado/web.py:2344}  200 GET /resource/css/scenario.css (127.0.0.1) 0.30ms\n",
      "2024-05-17 18:06:04,897 INFO {/home/sacardoz/miniconda3/envs/tuplan/lib/python3.9/site-packages/tornado/web.py:2344}  200 GET /resource/css/histogram.css (127.0.0.1) 0.27ms\n",
      "2024-05-17 18:06:04,898 INFO {/home/sacardoz/miniconda3/envs/tuplan/lib/python3.9/site-packages/tornado/web.py:2344}  200 GET /resource/spectre-icons.min.css (127.0.0.1) 0.48ms\n",
      "2024-05-17 18:06:04,899 INFO {/home/sacardoz/miniconda3/envs/tuplan/lib/python3.9/site-packages/tornado/web.py:2344}  200 GET /resource/style.css (127.0.0.1) 0.60ms\n",
      "2024-05-17 18:06:04,913 INFO {/home/sacardoz/miniconda3/envs/tuplan/lib/python3.9/site-packages/tornado/web.py:2344}  200 GET /resource/spectre-exp.min.css (127.0.0.1) 0.30ms\n",
      "2024-05-17 18:06:04,913 INFO {/home/sacardoz/miniconda3/envs/tuplan/lib/python3.9/site-packages/tornado/web.py:2344}  200 GET /resource/css/overview.css (127.0.0.1) 0.27ms\n",
      "2024-05-17 18:06:04,914 INFO {/home/sacardoz/miniconda3/envs/tuplan/lib/python3.9/site-packages/tornado/web.py:2344}  200 GET /resource/css/cloud.css (127.0.0.1) 0.27ms\n",
      "2024-05-17 18:06:04,931 INFO {/home/sacardoz/miniconda3/envs/tuplan/lib/python3.9/site-packages/tornado/web.py:2344}  200 GET /resource/scripts/utils.js (127.0.0.1) 0.28ms\n",
      "2024-05-17 18:06:04,989 INFO {/home/sacardoz/miniconda3/envs/tuplan/lib/python3.9/site-packages/tornado/web.py:2344}  200 GET /resource/motional_logo.png (127.0.0.1) 0.40ms\n"
     ]
    },
    {
     "name": "stderr",
     "output_type": "stream",
     "text": [
      "WARNING:tornado.access:404 GET /favicon.ico (127.0.0.1) 0.23ms\n",
      "INFO:tornado.access:101 GET /ws (127.0.0.1) 0.42ms\n"
     ]
    },
    {
     "name": "stdout",
     "output_type": "stream",
     "text": [
      "2024-05-17 18:06:05,114 WARNING {/home/sacardoz/miniconda3/envs/tuplan/lib/python3.9/site-packages/tornado/web.py:2344}  404 GET /favicon.ico (127.0.0.1) 0.23ms\n",
      "2024-05-17 18:06:05,171 INFO {/home/sacardoz/miniconda3/envs/tuplan/lib/python3.9/site-packages/tornado/web.py:2344}  101 GET /ws (127.0.0.1) 0.42ms\n",
      "2024-05-17 18:06:05,171 INFO {/home/sacardoz/miniconda3/envs/tuplan/lib/python3.9/site-packages/bokeh/server/views/ws.py:132}  WebSocket connection opened\n",
      "2024-05-17 18:06:05,171 INFO {/home/sacardoz/miniconda3/envs/tuplan/lib/python3.9/site-packages/bokeh/server/views/ws.py:213}  ServerConnection created\n"
     ]
    },
    {
     "name": "stderr",
     "output_type": "stream",
     "text": [
      "\u001b[2m\u001b[33m(raylet)\u001b[0m [2024-05-17 18:06:08,497 E 1247414 1247426] (raylet) file_system_monitor.cc:111: /tmp/ray/session_2024-05-17_18-04-46_879341_1243430 is over 95% full, available space: 650746638336; capacity: 16125711347712. Object creation will fail if spilling is required.\n",
      "\u001b[2m\u001b[33m(raylet)\u001b[0m [2024-05-17 18:06:18,500 E 1247414 1247426] (raylet) file_system_monitor.cc:111: /tmp/ray/session_2024-05-17_18-04-46_879341_1243430 is over 95% full, available space: 650746638336; capacity: 16125711347712. Object creation will fail if spilling is required.\n",
      "Rendering a scenario: 100%|██████████| 1/1 [00:00<00:00, 61.22it/s]\n"
     ]
    },
    {
     "name": "stdout",
     "output_type": "stream",
     "text": [
      "2024-05-17 18:06:20,324 INFO {/home/sacardoz/nuplan-devkit/nuplan/planning/nuboard/tabs/scenario_tab.py:485}  Rending scenario plot takes 2.9625 seconds.\n"
     ]
    },
    {
     "name": "stderr",
     "output_type": "stream",
     "text": [
      "\u001b[2m\u001b[33m(raylet)\u001b[0m [2024-05-17 18:06:28,502 E 1247414 1247426] (raylet) file_system_monitor.cc:111: /tmp/ray/session_2024-05-17_18-04-46_879341_1243430 is over 95% full, available space: 650746630144; capacity: 16125711347712. Object creation will fail if spilling is required.\n",
      "\u001b[2m\u001b[33m(raylet)\u001b[0m [2024-05-17 18:06:38,504 E 1247414 1247426] (raylet) file_system_monitor.cc:111: /tmp/ray/session_2024-05-17_18-04-46_879341_1243430 is over 95% full, available space: 650746621952; capacity: 16125711347712. Object creation will fail if spilling is required.\n",
      "\u001b[2m\u001b[33m(raylet)\u001b[0m [2024-05-17 18:06:48,506 E 1247414 1247426] (raylet) file_system_monitor.cc:111: /tmp/ray/session_2024-05-17_18-04-46_879341_1243430 is over 95% full, available space: 650746593280; capacity: 16125711347712. Object creation will fail if spilling is required.\n",
      "\u001b[2m\u001b[33m(raylet)\u001b[0m [2024-05-17 18:06:58,508 E 1247414 1247426] (raylet) file_system_monitor.cc:111: /tmp/ray/session_2024-05-17_18-04-46_879341_1243430 is over 95% full, available space: 650746593280; capacity: 16125711347712. Object creation will fail if spilling is required.\n",
      "\u001b[2m\u001b[33m(raylet)\u001b[0m [2024-05-17 18:07:08,510 E 1247414 1247426] (raylet) file_system_monitor.cc:111: /tmp/ray/session_2024-05-17_18-04-46_879341_1243430 is over 95% full, available space: 650746593280; capacity: 16125711347712. Object creation will fail if spilling is required.\n",
      "\u001b[2m\u001b[33m(raylet)\u001b[0m [2024-05-17 18:07:18,512 E 1247414 1247426] (raylet) file_system_monitor.cc:111: /tmp/ray/session_2024-05-17_18-04-46_879341_1243430 is over 95% full, available space: 650746580992; capacity: 16125711347712. Object creation will fail if spilling is required.\n",
      "\u001b[2m\u001b[33m(raylet)\u001b[0m [2024-05-17 18:07:28,516 E 1247414 1247426] (raylet) file_system_monitor.cc:111: /tmp/ray/session_2024-05-17_18-04-46_879341_1243430 is over 95% full, available space: 650746576896; capacity: 16125711347712. Object creation will fail if spilling is required.\n",
      "\u001b[2m\u001b[33m(raylet)\u001b[0m [2024-05-17 18:07:38,519 E 1247414 1247426] (raylet) file_system_monitor.cc:111: /tmp/ray/session_2024-05-17_18-04-46_879341_1243430 is over 95% full, available space: 650746576896; capacity: 16125711347712. Object creation will fail if spilling is required.\n",
      "\u001b[2m\u001b[33m(raylet)\u001b[0m [2024-05-17 18:07:48,520 E 1247414 1247426] (raylet) file_system_monitor.cc:111: /tmp/ray/session_2024-05-17_18-04-46_879341_1243430 is over 95% full, available space: 650746552320; capacity: 16125711347712. Object creation will fail if spilling is required.\n",
      "\u001b[2m\u001b[33m(raylet)\u001b[0m [2024-05-17 18:07:58,523 E 1247414 1247426] (raylet) file_system_monitor.cc:111: /tmp/ray/session_2024-05-17_18-04-46_879341_1243430 is over 95% full, available space: 650746417152; capacity: 16125711347712. Object creation will fail if spilling is required.\n",
      "\u001b[2m\u001b[33m(raylet)\u001b[0m [2024-05-17 18:08:08,525 E 1247414 1247426] (raylet) file_system_monitor.cc:111: /tmp/ray/session_2024-05-17_18-04-46_879341_1243430 is over 95% full, available space: 650746408960; capacity: 16125711347712. Object creation will fail if spilling is required.\n",
      "\u001b[2m\u001b[33m(raylet)\u001b[0m [2024-05-17 18:08:18,533 E 1247414 1247426] (raylet) file_system_monitor.cc:111: /tmp/ray/session_2024-05-17_18-04-46_879341_1243430 is over 95% full, available space: 650746404864; capacity: 16125711347712. Object creation will fail if spilling is required.\n",
      "\u001b[2m\u001b[33m(raylet)\u001b[0m [2024-05-17 18:08:28,535 E 1247414 1247426] (raylet) file_system_monitor.cc:111: /tmp/ray/session_2024-05-17_18-04-46_879341_1243430 is over 95% full, available space: 650746404864; capacity: 16125711347712. Object creation will fail if spilling is required.\n"
     ]
    },
    {
     "name": "stdout",
     "output_type": "stream",
     "text": [
      "2024-05-17 18:08:32,895 INFO {/home/sacardoz/nuplan-devkit/nuplan/planning/nuboard/base/simulation_tile.py:575}  Frame deferred: 0\n",
      "2024-05-17 18:08:33,470 INFO {/home/sacardoz/nuplan-devkit/nuplan/planning/nuboard/base/simulation_tile.py:897}  Frame dropped 0\n"
     ]
    },
    {
     "name": "stderr",
     "output_type": "stream",
     "text": [
      "\u001b[2m\u001b[33m(raylet)\u001b[0m [2024-05-17 18:08:38,537 E 1247414 1247426] (raylet) file_system_monitor.cc:111: /tmp/ray/session_2024-05-17_18-04-46_879341_1243430 is over 95% full, available space: 650746404864; capacity: 16125711347712. Object creation will fail if spilling is required.\n"
     ]
    },
    {
     "name": "stdout",
     "output_type": "stream",
     "text": [
      "2024-05-17 18:08:48,336 INFO {/home/sacardoz/nuplan-devkit/nuplan/planning/nuboard/base/simulation_tile.py:575}  Frame deferred: 0\n",
      "2024-05-17 18:08:48,485 INFO {/home/sacardoz/nuplan-devkit/nuplan/planning/nuboard/base/simulation_tile.py:897}  Frame dropped 0\n"
     ]
    },
    {
     "name": "stderr",
     "output_type": "stream",
     "text": [
      "\u001b[2m\u001b[33m(raylet)\u001b[0m [2024-05-17 18:08:48,539 E 1247414 1247426] (raylet) file_system_monitor.cc:111: /tmp/ray/session_2024-05-17_18-04-46_879341_1243430 is over 95% full, available space: 650746380288; capacity: 16125711347712. Object creation will fail if spilling is required.\n",
      "\u001b[2m\u001b[33m(raylet)\u001b[0m [2024-05-17 18:08:58,541 E 1247414 1247426] (raylet) file_system_monitor.cc:111: /tmp/ray/session_2024-05-17_18-04-46_879341_1243430 is over 95% full, available space: 650746368000; capacity: 16125711347712. Object creation will fail if spilling is required.\n",
      "\u001b[2m\u001b[33m(raylet)\u001b[0m [2024-05-17 18:09:08,543 E 1247414 1247426] (raylet) file_system_monitor.cc:111: /tmp/ray/session_2024-05-17_18-04-46_879341_1243430 is over 95% full, available space: 650746363904; capacity: 16125711347712. Object creation will fail if spilling is required.\n"
     ]
    },
    {
     "name": "stdout",
     "output_type": "stream",
     "text": [
      "2024-05-17 18:09:15,834 INFO {/home/sacardoz/miniconda3/envs/tuplan/lib/python3.9/site-packages/bokeh/server/views/ws.py:306}  WebSocket connection closed: code=1001, reason=None\n",
      "2024-05-17 18:09:15,835 WARNING {/home/sacardoz/miniconda3/envs/tuplan/lib/python3.9/site-packages/bokeh/server/views/ws.py:287}  Failed sending message as connection was closed\n",
      "2024-05-17 18:09:15,835 WARNING {/home/sacardoz/miniconda3/envs/tuplan/lib/python3.9/site-packages/bokeh/server/views/ws.py:287}  Failed sending message as connection was closed\n",
      "2024-05-17 18:09:15,835 WARNING {/home/sacardoz/miniconda3/envs/tuplan/lib/python3.9/site-packages/bokeh/server/views/ws.py:287}  Failed sending message as connection was closed\n",
      "2024-05-17 18:09:15,835 WARNING {/home/sacardoz/miniconda3/envs/tuplan/lib/python3.9/site-packages/bokeh/server/views/ws.py:287}  Failed sending message as connection was closed\n",
      "2024-05-17 18:09:15,835 WARNING {/home/sacardoz/miniconda3/envs/tuplan/lib/python3.9/site-packages/bokeh/server/views/ws.py:287}  Failed sending message as connection was closed\n",
      "2024-05-17 18:09:15,835 WARNING {/home/sacardoz/miniconda3/envs/tuplan/lib/python3.9/site-packages/bokeh/server/views/ws.py:287}  Failed sending message as connection was closed\n",
      "2024-05-17 18:09:15,835 WARNING {/home/sacardoz/miniconda3/envs/tuplan/lib/python3.9/site-packages/bokeh/server/views/ws.py:287}  Failed sending message as connection was closed\n"
     ]
    },
    {
     "name": "stderr",
     "output_type": "stream",
     "text": [
      "\u001b[2m\u001b[33m(raylet)\u001b[0m [2024-05-17 18:09:18,545 E 1247414 1247426] (raylet) file_system_monitor.cc:111: /tmp/ray/session_2024-05-17_18-04-46_879341_1243430 is over 95% full, available space: 650746363904; capacity: 16125711347712. Object creation will fail if spilling is required.\n",
      "\u001b[2m\u001b[33m(raylet)\u001b[0m [2024-05-17 18:09:28,547 E 1247414 1247426] (raylet) file_system_monitor.cc:111: /tmp/ray/session_2024-05-17_18-04-46_879341_1243430 is over 95% full, available space: 650746363904; capacity: 16125711347712. Object creation will fail if spilling is required.\n",
      "\u001b[2m\u001b[33m(raylet)\u001b[0m [2024-05-17 18:09:38,549 E 1247414 1247426] (raylet) file_system_monitor.cc:111: /tmp/ray/session_2024-05-17_18-04-46_879341_1243430 is over 95% full, available space: 650746355712; capacity: 16125711347712. Object creation will fail if spilling is required.\n",
      "\u001b[2m\u001b[33m(raylet)\u001b[0m [2024-05-17 18:09:48,551 E 1247414 1247426] (raylet) file_system_monitor.cc:111: /tmp/ray/session_2024-05-17_18-04-46_879341_1243430 is over 95% full, available space: 650746331136; capacity: 16125711347712. Object creation will fail if spilling is required.\n",
      "\u001b[2m\u001b[33m(raylet)\u001b[0m [2024-05-17 18:09:58,554 E 1247414 1247426] (raylet) file_system_monitor.cc:111: /tmp/ray/session_2024-05-17_18-04-46_879341_1243430 is over 95% full, available space: 650746195968; capacity: 16125711347712. Object creation will fail if spilling is required.\n",
      "\u001b[2m\u001b[33m(raylet)\u001b[0m [2024-05-17 18:10:08,556 E 1247414 1247426] (raylet) file_system_monitor.cc:111: /tmp/ray/session_2024-05-17_18-04-46_879341_1243430 is over 95% full, available space: 650746187776; capacity: 16125711347712. Object creation will fail if spilling is required.\n",
      "\u001b[2m\u001b[33m(raylet)\u001b[0m [2024-05-17 18:10:18,558 E 1247414 1247426] (raylet) file_system_monitor.cc:111: /tmp/ray/session_2024-05-17_18-04-46_879341_1243430 is over 95% full, available space: 650746187776; capacity: 16125711347712. Object creation will fail if spilling is required.\n",
      "\u001b[2m\u001b[33m(raylet)\u001b[0m [2024-05-17 18:10:28,560 E 1247414 1247426] (raylet) file_system_monitor.cc:111: /tmp/ray/session_2024-05-17_18-04-46_879341_1243430 is over 95% full, available space: 650746183680; capacity: 16125711347712. Object creation will fail if spilling is required.\n",
      "\u001b[2m\u001b[33m(raylet)\u001b[0m [2024-05-17 18:10:38,562 E 1247414 1247426] (raylet) file_system_monitor.cc:111: /tmp/ray/session_2024-05-17_18-04-46_879341_1243430 is over 95% full, available space: 650746179584; capacity: 16125711347712. Object creation will fail if spilling is required.\n"
     ]
    },
    {
     "ename": "KeyboardInterrupt",
     "evalue": "",
     "output_type": "error",
     "traceback": [
      "\u001b[0;31m---------------------------------------------------------------------------\u001b[0m",
      "\u001b[0;31mKeyboardInterrupt\u001b[0m                         Traceback (most recent call last)",
      "Cell \u001b[0;32mIn[16], line 4\u001b[0m\n\u001b[1;32m      1\u001b[0m \u001b[38;5;28;01mfrom\u001b[39;00m \u001b[38;5;21;01mnuplan\u001b[39;00m\u001b[38;5;21;01m.\u001b[39;00m\u001b[38;5;21;01mplanning\u001b[39;00m\u001b[38;5;21;01m.\u001b[39;00m\u001b[38;5;21;01mscript\u001b[39;00m\u001b[38;5;21;01m.\u001b[39;00m\u001b[38;5;21;01mrun_nuboard\u001b[39;00m \u001b[38;5;28;01mimport\u001b[39;00m main \u001b[38;5;28;01mas\u001b[39;00m main_nuboard\n\u001b[1;32m      3\u001b[0m \u001b[38;5;66;03m# Run nuBoard\u001b[39;00m\n\u001b[0;32m----> 4\u001b[0m \u001b[43mmain_nuboard\u001b[49m\u001b[43m(\u001b[49m\u001b[43mcfg\u001b[49m\u001b[43m)\u001b[49m\n",
      "File \u001b[0;32m~/miniconda3/envs/tuplan/lib/python3.9/site-packages/hydra/main.py:44\u001b[0m, in \u001b[0;36mmain.<locals>.main_decorator.<locals>.decorated_main\u001b[0;34m(cfg_passthrough)\u001b[0m\n\u001b[1;32m     41\u001b[0m \u001b[38;5;129m@functools\u001b[39m\u001b[38;5;241m.\u001b[39mwraps(task_function)\n\u001b[1;32m     42\u001b[0m \u001b[38;5;28;01mdef\u001b[39;00m \u001b[38;5;21mdecorated_main\u001b[39m(cfg_passthrough: Optional[DictConfig] \u001b[38;5;241m=\u001b[39m \u001b[38;5;28;01mNone\u001b[39;00m) \u001b[38;5;241m-\u001b[39m\u001b[38;5;241m>\u001b[39m Any:\n\u001b[1;32m     43\u001b[0m     \u001b[38;5;28;01mif\u001b[39;00m cfg_passthrough \u001b[38;5;129;01mis\u001b[39;00m \u001b[38;5;129;01mnot\u001b[39;00m \u001b[38;5;28;01mNone\u001b[39;00m:\n\u001b[0;32m---> 44\u001b[0m         \u001b[38;5;28;01mreturn\u001b[39;00m \u001b[43mtask_function\u001b[49m\u001b[43m(\u001b[49m\u001b[43mcfg_passthrough\u001b[49m\u001b[43m)\u001b[49m\n\u001b[1;32m     45\u001b[0m     \u001b[38;5;28;01melse\u001b[39;00m:\n\u001b[1;32m     46\u001b[0m         args \u001b[38;5;241m=\u001b[39m get_args_parser()\n",
      "File \u001b[0;32m~/nuplan-devkit/nuplan/planning/script/run_nuboard.py:74\u001b[0m, in \u001b[0;36mmain\u001b[0;34m(cfg)\u001b[0m\n\u001b[1;32m     69\u001b[0m \u001b[38;5;250m\u001b[39m\u001b[38;5;124;03m\"\"\"\u001b[39;00m\n\u001b[1;32m     70\u001b[0m \u001b[38;5;124;03mExecute all available challenges simultaneously on the same scenario.\u001b[39;00m\n\u001b[1;32m     71\u001b[0m \u001b[38;5;124;03m:param cfg: DictConfig. Configuration that is used to run the experiment.\u001b[39;00m\n\u001b[1;32m     72\u001b[0m \u001b[38;5;124;03m\"\"\"\u001b[39;00m\n\u001b[1;32m     73\u001b[0m nuboard \u001b[38;5;241m=\u001b[39m initialize_nuboard(cfg)\n\u001b[0;32m---> 74\u001b[0m \u001b[43mnuboard\u001b[49m\u001b[38;5;241;43m.\u001b[39;49m\u001b[43mrun\u001b[49m\u001b[43m(\u001b[49m\u001b[43m)\u001b[49m\n",
      "File \u001b[0;32m~/nuplan-devkit/nuplan/planning/nuboard/nuboard.py:112\u001b[0m, in \u001b[0;36mNuBoard.run\u001b[0;34m(self)\u001b[0m\n\u001b[1;32m    110\u001b[0m \u001b[38;5;66;03m# Catch RuntimeError in jupyter notebook\u001b[39;00m\n\u001b[1;32m    111\u001b[0m \u001b[38;5;28;01mtry\u001b[39;00m:\n\u001b[0;32m--> 112\u001b[0m     \u001b[43mio_loop\u001b[49m\u001b[38;5;241;43m.\u001b[39;49m\u001b[43mstart\u001b[49m\u001b[43m(\u001b[49m\u001b[43m)\u001b[49m\n\u001b[1;32m    113\u001b[0m \u001b[38;5;28;01mexcept\u001b[39;00m \u001b[38;5;167;01mRuntimeError\u001b[39;00m \u001b[38;5;28;01mas\u001b[39;00m e:\n\u001b[1;32m    114\u001b[0m     logger\u001b[38;5;241m.\u001b[39mwarning(\u001b[38;5;124mf\u001b[39m\u001b[38;5;124m\"\u001b[39m\u001b[38;5;132;01m{\u001b[39;00me\u001b[38;5;132;01m}\u001b[39;00m\u001b[38;5;124m\"\u001b[39m)\n",
      "File \u001b[0;32m~/miniconda3/envs/tuplan/lib/python3.9/site-packages/tornado/platform/asyncio.py:195\u001b[0m, in \u001b[0;36mBaseAsyncIOLoop.start\u001b[0;34m(self)\u001b[0m\n\u001b[1;32m    194\u001b[0m \u001b[38;5;28;01mdef\u001b[39;00m \u001b[38;5;21mstart\u001b[39m(\u001b[38;5;28mself\u001b[39m) \u001b[38;5;241m-\u001b[39m\u001b[38;5;241m>\u001b[39m \u001b[38;5;28;01mNone\u001b[39;00m:\n\u001b[0;32m--> 195\u001b[0m     \u001b[38;5;28;43mself\u001b[39;49m\u001b[38;5;241;43m.\u001b[39;49m\u001b[43masyncio_loop\u001b[49m\u001b[38;5;241;43m.\u001b[39;49m\u001b[43mrun_forever\u001b[49m\u001b[43m(\u001b[49m\u001b[43m)\u001b[49m\n",
      "File \u001b[0;32m~/miniconda3/envs/tuplan/lib/python3.9/site-packages/nest_asyncio.py:82\u001b[0m, in \u001b[0;36m_patch_loop.<locals>.run_forever\u001b[0;34m(self)\u001b[0m\n\u001b[1;32m     80\u001b[0m \u001b[38;5;28;01mwith\u001b[39;00m manage_run(\u001b[38;5;28mself\u001b[39m), manage_asyncgens(\u001b[38;5;28mself\u001b[39m):\n\u001b[1;32m     81\u001b[0m     \u001b[38;5;28;01mwhile\u001b[39;00m \u001b[38;5;28;01mTrue\u001b[39;00m:\n\u001b[0;32m---> 82\u001b[0m         \u001b[38;5;28;43mself\u001b[39;49m\u001b[38;5;241;43m.\u001b[39;49m\u001b[43m_run_once\u001b[49m\u001b[43m(\u001b[49m\u001b[43m)\u001b[49m\n\u001b[1;32m     83\u001b[0m         \u001b[38;5;28;01mif\u001b[39;00m \u001b[38;5;28mself\u001b[39m\u001b[38;5;241m.\u001b[39m_stopping:\n\u001b[1;32m     84\u001b[0m             \u001b[38;5;28;01mbreak\u001b[39;00m\n",
      "File \u001b[0;32m~/miniconda3/envs/tuplan/lib/python3.9/site-packages/nest_asyncio.py:116\u001b[0m, in \u001b[0;36m_patch_loop.<locals>._run_once\u001b[0;34m(self)\u001b[0m\n\u001b[1;32m    109\u001b[0m     heappop(scheduled)\n\u001b[1;32m    111\u001b[0m timeout \u001b[38;5;241m=\u001b[39m (\n\u001b[1;32m    112\u001b[0m     \u001b[38;5;241m0\u001b[39m \u001b[38;5;28;01mif\u001b[39;00m ready \u001b[38;5;129;01mor\u001b[39;00m \u001b[38;5;28mself\u001b[39m\u001b[38;5;241m.\u001b[39m_stopping\n\u001b[1;32m    113\u001b[0m     \u001b[38;5;28;01melse\u001b[39;00m \u001b[38;5;28mmin\u001b[39m(\u001b[38;5;28mmax\u001b[39m(\n\u001b[1;32m    114\u001b[0m         scheduled[\u001b[38;5;241m0\u001b[39m]\u001b[38;5;241m.\u001b[39m_when \u001b[38;5;241m-\u001b[39m \u001b[38;5;28mself\u001b[39m\u001b[38;5;241m.\u001b[39mtime(), \u001b[38;5;241m0\u001b[39m), \u001b[38;5;241m86400\u001b[39m) \u001b[38;5;28;01mif\u001b[39;00m scheduled\n\u001b[1;32m    115\u001b[0m     \u001b[38;5;28;01melse\u001b[39;00m \u001b[38;5;28;01mNone\u001b[39;00m)\n\u001b[0;32m--> 116\u001b[0m event_list \u001b[38;5;241m=\u001b[39m \u001b[38;5;28;43mself\u001b[39;49m\u001b[38;5;241;43m.\u001b[39;49m\u001b[43m_selector\u001b[49m\u001b[38;5;241;43m.\u001b[39;49m\u001b[43mselect\u001b[49m\u001b[43m(\u001b[49m\u001b[43mtimeout\u001b[49m\u001b[43m)\u001b[49m\n\u001b[1;32m    117\u001b[0m \u001b[38;5;28mself\u001b[39m\u001b[38;5;241m.\u001b[39m_process_events(event_list)\n\u001b[1;32m    119\u001b[0m end_time \u001b[38;5;241m=\u001b[39m \u001b[38;5;28mself\u001b[39m\u001b[38;5;241m.\u001b[39mtime() \u001b[38;5;241m+\u001b[39m \u001b[38;5;28mself\u001b[39m\u001b[38;5;241m.\u001b[39m_clock_resolution\n",
      "File \u001b[0;32m~/miniconda3/envs/tuplan/lib/python3.9/selectors.py:469\u001b[0m, in \u001b[0;36mEpollSelector.select\u001b[0;34m(self, timeout)\u001b[0m\n\u001b[1;32m    467\u001b[0m ready \u001b[38;5;241m=\u001b[39m []\n\u001b[1;32m    468\u001b[0m \u001b[38;5;28;01mtry\u001b[39;00m:\n\u001b[0;32m--> 469\u001b[0m     fd_event_list \u001b[38;5;241m=\u001b[39m \u001b[38;5;28;43mself\u001b[39;49m\u001b[38;5;241;43m.\u001b[39;49m\u001b[43m_selector\u001b[49m\u001b[38;5;241;43m.\u001b[39;49m\u001b[43mpoll\u001b[49m\u001b[43m(\u001b[49m\u001b[43mtimeout\u001b[49m\u001b[43m,\u001b[49m\u001b[43m \u001b[49m\u001b[43mmax_ev\u001b[49m\u001b[43m)\u001b[49m\n\u001b[1;32m    470\u001b[0m \u001b[38;5;28;01mexcept\u001b[39;00m \u001b[38;5;167;01mInterruptedError\u001b[39;00m:\n\u001b[1;32m    471\u001b[0m     \u001b[38;5;28;01mreturn\u001b[39;00m ready\n",
      "\u001b[0;31mKeyboardInterrupt\u001b[0m: "
     ]
    },
    {
     "name": "stderr",
     "output_type": "stream",
     "text": [
      "\u001b[2m\u001b[33m(raylet)\u001b[0m [2024-05-17 18:10:48,564 E 1247414 1247426] (raylet) file_system_monitor.cc:111: /tmp/ray/session_2024-05-17_18-04-46_879341_1243430 is over 95% full, available space: 650746134528; capacity: 16125711347712. Object creation will fail if spilling is required.\n",
      "\u001b[2m\u001b[33m(raylet)\u001b[0m [2024-05-17 18:10:58,566 E 1247414 1247426] (raylet) file_system_monitor.cc:111: /tmp/ray/session_2024-05-17_18-04-46_879341_1243430 is over 95% full, available space: 650746122240; capacity: 16125711347712. Object creation will fail if spilling is required.\n",
      "\u001b[2m\u001b[33m(raylet)\u001b[0m [2024-05-17 18:11:08,569 E 1247414 1247426] (raylet) file_system_monitor.cc:111: /tmp/ray/session_2024-05-17_18-04-46_879341_1243430 is over 95% full, available space: 650746114048; capacity: 16125711347712. Object creation will fail if spilling is required.\n",
      "\u001b[2m\u001b[33m(raylet)\u001b[0m [2024-05-17 18:11:18,571 E 1247414 1247426] (raylet) file_system_monitor.cc:111: /tmp/ray/session_2024-05-17_18-04-46_879341_1243430 is over 95% full, available space: 650746114048; capacity: 16125711347712. Object creation will fail if spilling is required.\n",
      "\u001b[2m\u001b[33m(raylet)\u001b[0m [2024-05-17 18:11:28,573 E 1247414 1247426] (raylet) file_system_monitor.cc:111: /tmp/ray/session_2024-05-17_18-04-46_879341_1243430 is over 95% full, available space: 650746109952; capacity: 16125711347712. Object creation will fail if spilling is required.\n",
      "\u001b[2m\u001b[33m(raylet)\u001b[0m [2024-05-17 18:11:38,576 E 1247414 1247426] (raylet) file_system_monitor.cc:111: /tmp/ray/session_2024-05-17_18-04-46_879341_1243430 is over 95% full, available space: 650746077184; capacity: 16125711347712. Object creation will fail if spilling is required.\n",
      "\u001b[2m\u001b[33m(raylet)\u001b[0m [2024-05-17 18:11:48,578 E 1247414 1247426] (raylet) file_system_monitor.cc:111: /tmp/ray/session_2024-05-17_18-04-46_879341_1243430 is over 95% full, available space: 650746044416; capacity: 16125711347712. Object creation will fail if spilling is required.\n",
      "\u001b[2m\u001b[33m(raylet)\u001b[0m [2024-05-17 18:11:58,580 E 1247414 1247426] (raylet) file_system_monitor.cc:111: /tmp/ray/session_2024-05-17_18-04-46_879341_1243430 is over 95% full, available space: 650745778176; capacity: 16125711347712. Object creation will fail if spilling is required.\n",
      "\u001b[2m\u001b[33m(raylet)\u001b[0m [2024-05-17 18:12:08,584 E 1247414 1247426] (raylet) file_system_monitor.cc:111: /tmp/ray/session_2024-05-17_18-04-46_879341_1243430 is over 95% full, available space: 650745774080; capacity: 16125711347712. Object creation will fail if spilling is required.\n",
      "\u001b[2m\u001b[33m(raylet)\u001b[0m [2024-05-17 18:12:18,587 E 1247414 1247426] (raylet) file_system_monitor.cc:111: /tmp/ray/session_2024-05-17_18-04-46_879341_1243430 is over 95% full, available space: 650745769984; capacity: 16125711347712. Object creation will fail if spilling is required.\n",
      "\u001b[2m\u001b[33m(raylet)\u001b[0m [2024-05-17 18:12:28,590 E 1247414 1247426] (raylet) file_system_monitor.cc:111: /tmp/ray/session_2024-05-17_18-04-46_879341_1243430 is over 95% full, available space: 650745769984; capacity: 16125711347712. Object creation will fail if spilling is required.\n",
      "\u001b[2m\u001b[33m(raylet)\u001b[0m [2024-05-17 18:12:38,593 E 1247414 1247426] (raylet) file_system_monitor.cc:111: /tmp/ray/session_2024-05-17_18-04-46_879341_1243430 is over 95% full, available space: 650745765888; capacity: 16125711347712. Object creation will fail if spilling is required.\n",
      "\u001b[2m\u001b[33m(raylet)\u001b[0m [2024-05-17 18:12:48,595 E 1247414 1247426] (raylet) file_system_monitor.cc:111: /tmp/ray/session_2024-05-17_18-04-46_879341_1243430 is over 95% full, available space: 650745733120; capacity: 16125711347712. Object creation will fail if spilling is required.\n",
      "\u001b[2m\u001b[33m(raylet)\u001b[0m [2024-05-17 18:12:58,597 E 1247414 1247426] (raylet) file_system_monitor.cc:111: /tmp/ray/session_2024-05-17_18-04-46_879341_1243430 is over 95% full, available space: 650745733120; capacity: 16125711347712. Object creation will fail if spilling is required.\n",
      "\u001b[2m\u001b[33m(raylet)\u001b[0m [2024-05-17 18:13:08,600 E 1247414 1247426] (raylet) file_system_monitor.cc:111: /tmp/ray/session_2024-05-17_18-04-46_879341_1243430 is over 95% full, available space: 650745729024; capacity: 16125711347712. Object creation will fail if spilling is required.\n",
      "\u001b[2m\u001b[33m(raylet)\u001b[0m [2024-05-17 18:13:18,603 E 1247414 1247426] (raylet) file_system_monitor.cc:111: /tmp/ray/session_2024-05-17_18-04-46_879341_1243430 is over 95% full, available space: 650745729024; capacity: 16125711347712. Object creation will fail if spilling is required.\n",
      "\u001b[2m\u001b[33m(raylet)\u001b[0m [2024-05-17 18:13:28,605 E 1247414 1247426] (raylet) file_system_monitor.cc:111: /tmp/ray/session_2024-05-17_18-04-46_879341_1243430 is over 95% full, available space: 650745729024; capacity: 16125711347712. Object creation will fail if spilling is required.\n",
      "\u001b[2m\u001b[33m(raylet)\u001b[0m [2024-05-17 18:13:38,607 E 1247414 1247426] (raylet) file_system_monitor.cc:111: /tmp/ray/session_2024-05-17_18-04-46_879341_1243430 is over 95% full, available space: 650745724928; capacity: 16125711347712. Object creation will fail if spilling is required.\n",
      "\u001b[2m\u001b[33m(raylet)\u001b[0m [2024-05-17 18:13:48,610 E 1247414 1247426] (raylet) file_system_monitor.cc:111: /tmp/ray/session_2024-05-17_18-04-46_879341_1243430 is over 95% full, available space: 650745700352; capacity: 16125711347712. Object creation will fail if spilling is required.\n",
      "\u001b[2m\u001b[33m(raylet)\u001b[0m [2024-05-17 18:13:58,612 E 1247414 1247426] (raylet) file_system_monitor.cc:111: /tmp/ray/session_2024-05-17_18-04-46_879341_1243430 is over 95% full, available space: 650745565184; capacity: 16125711347712. Object creation will fail if spilling is required.\n",
      "\u001b[2m\u001b[33m(raylet)\u001b[0m [2024-05-17 18:14:08,614 E 1247414 1247426] (raylet) file_system_monitor.cc:111: /tmp/ray/session_2024-05-17_18-04-46_879341_1243430 is over 95% full, available space: 650745556992; capacity: 16125711347712. Object creation will fail if spilling is required.\n",
      "\u001b[2m\u001b[33m(raylet)\u001b[0m [2024-05-17 18:14:18,616 E 1247414 1247426] (raylet) file_system_monitor.cc:111: /tmp/ray/session_2024-05-17_18-04-46_879341_1243430 is over 95% full, available space: 650745556992; capacity: 16125711347712. Object creation will fail if spilling is required.\n",
      "\u001b[2m\u001b[33m(raylet)\u001b[0m [2024-05-17 18:14:28,618 E 1247414 1247426] (raylet) file_system_monitor.cc:111: /tmp/ray/session_2024-05-17_18-04-46_879341_1243430 is over 95% full, available space: 650745556992; capacity: 16125711347712. Object creation will fail if spilling is required.\n",
      "\u001b[2m\u001b[33m(raylet)\u001b[0m [2024-05-17 18:14:38,620 E 1247414 1247426] (raylet) file_system_monitor.cc:111: /tmp/ray/session_2024-05-17_18-04-46_879341_1243430 is over 95% full, available space: 650745548800; capacity: 16125711347712. Object creation will fail if spilling is required.\n",
      "\u001b[2m\u001b[33m(raylet)\u001b[0m [2024-05-17 18:14:48,624 E 1247414 1247426] (raylet) file_system_monitor.cc:111: /tmp/ray/session_2024-05-17_18-04-46_879341_1243430 is over 95% full, available space: 650745524224; capacity: 16125711347712. Object creation will fail if spilling is required.\n",
      "\u001b[2m\u001b[33m(raylet)\u001b[0m [2024-05-17 18:14:58,626 E 1247414 1247426] (raylet) file_system_monitor.cc:111: /tmp/ray/session_2024-05-17_18-04-46_879341_1243430 is over 95% full, available space: 650745516032; capacity: 16125711347712. Object creation will fail if spilling is required.\n",
      "\u001b[2m\u001b[33m(raylet)\u001b[0m [2024-05-17 18:15:08,629 E 1247414 1247426] (raylet) file_system_monitor.cc:111: /tmp/ray/session_2024-05-17_18-04-46_879341_1243430 is over 95% full, available space: 650745516032; capacity: 16125711347712. Object creation will fail if spilling is required.\n",
      "\u001b[2m\u001b[33m(raylet)\u001b[0m [2024-05-17 18:15:18,631 E 1247414 1247426] (raylet) file_system_monitor.cc:111: /tmp/ray/session_2024-05-17_18-04-46_879341_1243430 is over 95% full, available space: 650745516032; capacity: 16125711347712. Object creation will fail if spilling is required.\n",
      "\u001b[2m\u001b[33m(raylet)\u001b[0m [2024-05-17 18:15:28,633 E 1247414 1247426] (raylet) file_system_monitor.cc:111: /tmp/ray/session_2024-05-17_18-04-46_879341_1243430 is over 95% full, available space: 650745499648; capacity: 16125711347712. Object creation will fail if spilling is required.\n",
      "\u001b[2m\u001b[33m(raylet)\u001b[0m [2024-05-17 18:15:38,636 E 1247414 1247426] (raylet) file_system_monitor.cc:111: /tmp/ray/session_2024-05-17_18-04-46_879341_1243430 is over 95% full, available space: 650745495552; capacity: 16125711347712. Object creation will fail if spilling is required.\n",
      "\u001b[2m\u001b[33m(raylet)\u001b[0m [2024-05-17 18:15:48,640 E 1247414 1247426] (raylet) file_system_monitor.cc:111: /tmp/ray/session_2024-05-17_18-04-46_879341_1243430 is over 95% full, available space: 650745475072; capacity: 16125711347712. Object creation will fail if spilling is required.\n",
      "\u001b[2m\u001b[33m(raylet)\u001b[0m [2024-05-17 18:15:58,642 E 1247414 1247426] (raylet) file_system_monitor.cc:111: /tmp/ray/session_2024-05-17_18-04-46_879341_1243430 is over 95% full, available space: 650745339904; capacity: 16125711347712. Object creation will fail if spilling is required.\n",
      "\u001b[2m\u001b[33m(raylet)\u001b[0m [2024-05-17 18:16:08,645 E 1247414 1247426] (raylet) file_system_monitor.cc:111: /tmp/ray/session_2024-05-17_18-04-46_879341_1243430 is over 95% full, available space: 650745335808; capacity: 16125711347712. Object creation will fail if spilling is required.\n",
      "\u001b[2m\u001b[33m(raylet)\u001b[0m [2024-05-17 18:16:18,648 E 1247414 1247426] (raylet) file_system_monitor.cc:111: /tmp/ray/session_2024-05-17_18-04-46_879341_1243430 is over 95% full, available space: 650745331712; capacity: 16125711347712. Object creation will fail if spilling is required.\n",
      "\u001b[2m\u001b[33m(raylet)\u001b[0m [2024-05-17 18:16:28,650 E 1247414 1247426] (raylet) file_system_monitor.cc:111: /tmp/ray/session_2024-05-17_18-04-46_879341_1243430 is over 95% full, available space: 650745331712; capacity: 16125711347712. Object creation will fail if spilling is required.\n",
      "\u001b[2m\u001b[33m(raylet)\u001b[0m [2024-05-17 18:16:38,653 E 1247414 1247426] (raylet) file_system_monitor.cc:111: /tmp/ray/session_2024-05-17_18-04-46_879341_1243430 is over 95% full, available space: 650745331712; capacity: 16125711347712. Object creation will fail if spilling is required.\n",
      "\u001b[2m\u001b[33m(raylet)\u001b[0m [2024-05-17 18:16:48,655 E 1247414 1247426] (raylet) file_system_monitor.cc:111: /tmp/ray/session_2024-05-17_18-04-46_879341_1243430 is over 95% full, available space: 650745307136; capacity: 16125711347712. Object creation will fail if spilling is required.\n",
      "\u001b[2m\u001b[33m(raylet)\u001b[0m [2024-05-17 18:16:58,658 E 1247414 1247426] (raylet) file_system_monitor.cc:111: /tmp/ray/session_2024-05-17_18-04-46_879341_1243430 is over 95% full, available space: 650745298944; capacity: 16125711347712. Object creation will fail if spilling is required.\n",
      "\u001b[2m\u001b[33m(raylet)\u001b[0m [2024-05-17 18:17:08,661 E 1247414 1247426] (raylet) file_system_monitor.cc:111: /tmp/ray/session_2024-05-17_18-04-46_879341_1243430 is over 95% full, available space: 650745294848; capacity: 16125711347712. Object creation will fail if spilling is required.\n",
      "\u001b[2m\u001b[33m(raylet)\u001b[0m [2024-05-17 18:17:18,664 E 1247414 1247426] (raylet) file_system_monitor.cc:111: /tmp/ray/session_2024-05-17_18-04-46_879341_1243430 is over 95% full, available space: 650745290752; capacity: 16125711347712. Object creation will fail if spilling is required.\n",
      "\u001b[2m\u001b[33m(raylet)\u001b[0m [2024-05-17 18:17:28,667 E 1247414 1247426] (raylet) file_system_monitor.cc:111: /tmp/ray/session_2024-05-17_18-04-46_879341_1243430 is over 95% full, available space: 650745290752; capacity: 16125711347712. Object creation will fail if spilling is required.\n",
      "\u001b[2m\u001b[33m(raylet)\u001b[0m [2024-05-17 18:17:38,670 E 1247414 1247426] (raylet) file_system_monitor.cc:111: /tmp/ray/session_2024-05-17_18-04-46_879341_1243430 is over 95% full, available space: 650745286656; capacity: 16125711347712. Object creation will fail if spilling is required.\n",
      "\u001b[2m\u001b[33m(raylet)\u001b[0m [2024-05-17 18:17:48,673 E 1247414 1247426] (raylet) file_system_monitor.cc:111: /tmp/ray/session_2024-05-17_18-04-46_879341_1243430 is over 95% full, available space: 650745257984; capacity: 16125711347712. Object creation will fail if spilling is required.\n",
      "\u001b[2m\u001b[33m(raylet)\u001b[0m [2024-05-17 18:17:58,677 E 1247414 1247426] (raylet) file_system_monitor.cc:111: /tmp/ray/session_2024-05-17_18-04-46_879341_1243430 is over 95% full, available space: 650745122816; capacity: 16125711347712. Object creation will fail if spilling is required.\n",
      "\u001b[2m\u001b[33m(raylet)\u001b[0m [2024-05-17 18:18:08,680 E 1247414 1247426] (raylet) file_system_monitor.cc:111: /tmp/ray/session_2024-05-17_18-04-46_879341_1243430 is over 95% full, available space: 650745114624; capacity: 16125711347712. Object creation will fail if spilling is required.\n",
      "\u001b[2m\u001b[33m(raylet)\u001b[0m [2024-05-17 18:18:18,683 E 1247414 1247426] (raylet) file_system_monitor.cc:111: /tmp/ray/session_2024-05-17_18-04-46_879341_1243430 is over 95% full, available space: 650745114624; capacity: 16125711347712. Object creation will fail if spilling is required.\n",
      "\u001b[2m\u001b[33m(raylet)\u001b[0m [2024-05-17 18:18:28,686 E 1247414 1247426] (raylet) file_system_monitor.cc:111: /tmp/ray/session_2024-05-17_18-04-46_879341_1243430 is over 95% full, available space: 650745114624; capacity: 16125711347712. Object creation will fail if spilling is required.\n",
      "\u001b[2m\u001b[33m(raylet)\u001b[0m [2024-05-17 18:18:38,690 E 1247414 1247426] (raylet) file_system_monitor.cc:111: /tmp/ray/session_2024-05-17_18-04-46_879341_1243430 is over 95% full, available space: 650745106432; capacity: 16125711347712. Object creation will fail if spilling is required.\n",
      "\u001b[2m\u001b[33m(raylet)\u001b[0m [2024-05-17 18:18:48,693 E 1247414 1247426] (raylet) file_system_monitor.cc:111: /tmp/ray/session_2024-05-17_18-04-46_879341_1243430 is over 95% full, available space: 650745081856; capacity: 16125711347712. Object creation will fail if spilling is required.\n",
      "\u001b[2m\u001b[33m(raylet)\u001b[0m [2024-05-17 18:18:58,697 E 1247414 1247426] (raylet) file_system_monitor.cc:111: /tmp/ray/session_2024-05-17_18-04-46_879341_1243430 is over 95% full, available space: 650745077760; capacity: 16125711347712. Object creation will fail if spilling is required.\n",
      "\u001b[2m\u001b[33m(raylet)\u001b[0m [2024-05-17 18:19:08,700 E 1247414 1247426] (raylet) file_system_monitor.cc:111: /tmp/ray/session_2024-05-17_18-04-46_879341_1243430 is over 95% full, available space: 650745077760; capacity: 16125711347712. Object creation will fail if spilling is required.\n",
      "\u001b[2m\u001b[33m(raylet)\u001b[0m [2024-05-17 18:19:18,704 E 1247414 1247426] (raylet) file_system_monitor.cc:111: /tmp/ray/session_2024-05-17_18-04-46_879341_1243430 is over 95% full, available space: 650745077760; capacity: 16125711347712. Object creation will fail if spilling is required.\n",
      "\u001b[2m\u001b[33m(raylet)\u001b[0m [2024-05-17 18:19:28,707 E 1247414 1247426] (raylet) file_system_monitor.cc:111: /tmp/ray/session_2024-05-17_18-04-46_879341_1243430 is over 95% full, available space: 650745073664; capacity: 16125711347712. Object creation will fail if spilling is required.\n",
      "\u001b[2m\u001b[33m(raylet)\u001b[0m [2024-05-17 18:19:38,710 E 1247414 1247426] (raylet) file_system_monitor.cc:111: /tmp/ray/session_2024-05-17_18-04-46_879341_1243430 is over 95% full, available space: 650745073664; capacity: 16125711347712. Object creation will fail if spilling is required.\n",
      "\u001b[2m\u001b[33m(raylet)\u001b[0m [2024-05-17 18:19:48,713 E 1247414 1247426] (raylet) file_system_monitor.cc:111: /tmp/ray/session_2024-05-17_18-04-46_879341_1243430 is over 95% full, available space: 650745049088; capacity: 16125711347712. Object creation will fail if spilling is required.\n",
      "\u001b[2m\u001b[33m(raylet)\u001b[0m [2024-05-17 18:19:58,717 E 1247414 1247426] (raylet) file_system_monitor.cc:111: /tmp/ray/session_2024-05-17_18-04-46_879341_1243430 is over 95% full, available space: 650744909824; capacity: 16125711347712. Object creation will fail if spilling is required.\n",
      "\u001b[2m\u001b[33m(raylet)\u001b[0m [2024-05-17 18:20:08,721 E 1247414 1247426] (raylet) file_system_monitor.cc:111: /tmp/ray/session_2024-05-17_18-04-46_879341_1243430 is over 95% full, available space: 650744905728; capacity: 16125711347712. Object creation will fail if spilling is required.\n",
      "\u001b[2m\u001b[33m(raylet)\u001b[0m [2024-05-17 18:20:18,724 E 1247414 1247426] (raylet) file_system_monitor.cc:111: /tmp/ray/session_2024-05-17_18-04-46_879341_1243430 is over 95% full, available space: 650744676352; capacity: 16125711347712. Object creation will fail if spilling is required.\n",
      "\u001b[2m\u001b[33m(raylet)\u001b[0m [2024-05-17 18:20:28,727 E 1247414 1247426] (raylet) file_system_monitor.cc:111: /tmp/ray/session_2024-05-17_18-04-46_879341_1243430 is over 95% full, available space: 650744676352; capacity: 16125711347712. Object creation will fail if spilling is required.\n",
      "\u001b[2m\u001b[33m(raylet)\u001b[0m [2024-05-17 18:20:38,730 E 1247414 1247426] (raylet) file_system_monitor.cc:111: /tmp/ray/session_2024-05-17_18-04-46_879341_1243430 is over 95% full, available space: 650744668160; capacity: 16125711347712. Object creation will fail if spilling is required.\n",
      "\u001b[2m\u001b[33m(raylet)\u001b[0m [2024-05-17 18:20:48,734 E 1247414 1247426] (raylet) file_system_monitor.cc:111: /tmp/ray/session_2024-05-17_18-04-46_879341_1243430 is over 95% full, available space: 650744635392; capacity: 16125711347712. Object creation will fail if spilling is required.\n",
      "\u001b[2m\u001b[33m(raylet)\u001b[0m [2024-05-17 18:20:58,737 E 1247414 1247426] (raylet) file_system_monitor.cc:111: /tmp/ray/session_2024-05-17_18-04-46_879341_1243430 is over 95% full, available space: 650744500224; capacity: 16125711347712. Object creation will fail if spilling is required.\n",
      "\u001b[2m\u001b[33m(raylet)\u001b[0m [2024-05-17 18:21:08,740 E 1247414 1247426] (raylet) file_system_monitor.cc:111: /tmp/ray/session_2024-05-17_18-04-46_879341_1243430 is over 95% full, available space: 650744475648; capacity: 16125711347712. Object creation will fail if spilling is required.\n",
      "\u001b[2m\u001b[33m(raylet)\u001b[0m [2024-05-17 18:21:18,744 E 1247414 1247426] (raylet) file_system_monitor.cc:111: /tmp/ray/session_2024-05-17_18-04-46_879341_1243430 is over 95% full, available space: 650744471552; capacity: 16125711347712. Object creation will fail if spilling is required.\n",
      "\u001b[2m\u001b[33m(raylet)\u001b[0m [2024-05-17 18:21:28,747 E 1247414 1247426] (raylet) file_system_monitor.cc:111: /tmp/ray/session_2024-05-17_18-04-46_879341_1243430 is over 95% full, available space: 650744467456; capacity: 16125711347712. Object creation will fail if spilling is required.\n",
      "\u001b[2m\u001b[33m(raylet)\u001b[0m [2024-05-17 18:21:38,751 E 1247414 1247426] (raylet) file_system_monitor.cc:111: /tmp/ray/session_2024-05-17_18-04-46_879341_1243430 is over 95% full, available space: 650744459264; capacity: 16125711347712. Object creation will fail if spilling is required.\n",
      "\u001b[2m\u001b[33m(raylet)\u001b[0m [2024-05-17 18:21:48,754 E 1247414 1247426] (raylet) file_system_monitor.cc:111: /tmp/ray/session_2024-05-17_18-04-46_879341_1243430 is over 95% full, available space: 650744438784; capacity: 16125711347712. Object creation will fail if spilling is required.\n",
      "\u001b[2m\u001b[33m(raylet)\u001b[0m [2024-05-17 18:21:58,757 E 1247414 1247426] (raylet) file_system_monitor.cc:111: /tmp/ray/session_2024-05-17_18-04-46_879341_1243430 is over 95% full, available space: 650744438784; capacity: 16125711347712. Object creation will fail if spilling is required.\n",
      "\u001b[2m\u001b[33m(raylet)\u001b[0m [2024-05-17 18:22:08,761 E 1247414 1247426] (raylet) file_system_monitor.cc:111: /tmp/ray/session_2024-05-17_18-04-46_879341_1243430 is over 95% full, available space: 650744430592; capacity: 16125711347712. Object creation will fail if spilling is required.\n",
      "\u001b[2m\u001b[33m(raylet)\u001b[0m [2024-05-17 18:22:18,764 E 1247414 1247426] (raylet) file_system_monitor.cc:111: /tmp/ray/session_2024-05-17_18-04-46_879341_1243430 is over 95% full, available space: 650744430592; capacity: 16125711347712. Object creation will fail if spilling is required.\n",
      "\u001b[2m\u001b[33m(raylet)\u001b[0m [2024-05-17 18:22:28,767 E 1247414 1247426] (raylet) file_system_monitor.cc:111: /tmp/ray/session_2024-05-17_18-04-46_879341_1243430 is over 95% full, available space: 650744430592; capacity: 16125711347712. Object creation will fail if spilling is required.\n",
      "\u001b[2m\u001b[33m(raylet)\u001b[0m [2024-05-17 18:22:38,771 E 1247414 1247426] (raylet) file_system_monitor.cc:111: /tmp/ray/session_2024-05-17_18-04-46_879341_1243430 is over 95% full, available space: 650744418304; capacity: 16125711347712. Object creation will fail if spilling is required.\n",
      "\u001b[2m\u001b[33m(raylet)\u001b[0m [2024-05-17 18:22:48,775 E 1247414 1247426] (raylet) file_system_monitor.cc:111: /tmp/ray/session_2024-05-17_18-04-46_879341_1243430 is over 95% full, available space: 650744397824; capacity: 16125711347712. Object creation will fail if spilling is required.\n",
      "\u001b[2m\u001b[33m(raylet)\u001b[0m [2024-05-17 18:22:58,779 E 1247414 1247426] (raylet) file_system_monitor.cc:111: /tmp/ray/session_2024-05-17_18-04-46_879341_1243430 is over 95% full, available space: 650744254464; capacity: 16125711347712. Object creation will fail if spilling is required.\n",
      "\u001b[2m\u001b[33m(raylet)\u001b[0m [2024-05-17 18:23:08,782 E 1247414 1247426] (raylet) file_system_monitor.cc:111: /tmp/ray/session_2024-05-17_18-04-46_879341_1243430 is over 95% full, available space: 650744246272; capacity: 16125711347712. Object creation will fail if spilling is required.\n",
      "\u001b[2m\u001b[33m(raylet)\u001b[0m [2024-05-17 18:23:18,786 E 1247414 1247426] (raylet) file_system_monitor.cc:111: /tmp/ray/session_2024-05-17_18-04-46_879341_1243430 is over 95% full, available space: 650744242176; capacity: 16125711347712. Object creation will fail if spilling is required.\n",
      "\u001b[2m\u001b[33m(raylet)\u001b[0m [2024-05-17 18:23:28,789 E 1247414 1247426] (raylet) file_system_monitor.cc:111: /tmp/ray/session_2024-05-17_18-04-46_879341_1243430 is over 95% full, available space: 650744209408; capacity: 16125711347712. Object creation will fail if spilling is required.\n",
      "\u001b[2m\u001b[33m(raylet)\u001b[0m [2024-05-17 18:23:38,792 E 1247414 1247426] (raylet) file_system_monitor.cc:111: /tmp/ray/session_2024-05-17_18-04-46_879341_1243430 is over 95% full, available space: 650744209408; capacity: 16125711347712. Object creation will fail if spilling is required.\n",
      "\u001b[2m\u001b[33m(raylet)\u001b[0m [2024-05-17 18:23:48,795 E 1247414 1247426] (raylet) file_system_monitor.cc:111: /tmp/ray/session_2024-05-17_18-04-46_879341_1243430 is over 95% full, available space: 650744180736; capacity: 16125711347712. Object creation will fail if spilling is required.\n",
      "\u001b[2m\u001b[33m(raylet)\u001b[0m [2024-05-17 18:23:58,798 E 1247414 1247426] (raylet) file_system_monitor.cc:111: /tmp/ray/session_2024-05-17_18-04-46_879341_1243430 is over 95% full, available space: 650744172544; capacity: 16125711347712. Object creation will fail if spilling is required.\n",
      "\u001b[2m\u001b[33m(raylet)\u001b[0m [2024-05-17 18:24:08,802 E 1247414 1247426] (raylet) file_system_monitor.cc:111: /tmp/ray/session_2024-05-17_18-04-46_879341_1243430 is over 95% full, available space: 650744172544; capacity: 16125711347712. Object creation will fail if spilling is required.\n",
      "\u001b[2m\u001b[33m(raylet)\u001b[0m [2024-05-17 18:24:18,805 E 1247414 1247426] (raylet) file_system_monitor.cc:111: /tmp/ray/session_2024-05-17_18-04-46_879341_1243430 is over 95% full, available space: 650744139776; capacity: 16125711347712. Object creation will fail if spilling is required.\n",
      "\u001b[2m\u001b[33m(raylet)\u001b[0m [2024-05-17 18:24:28,808 E 1247414 1247426] (raylet) file_system_monitor.cc:111: /tmp/ray/session_2024-05-17_18-04-46_879341_1243430 is over 95% full, available space: 650744139776; capacity: 16125711347712. Object creation will fail if spilling is required.\n",
      "\u001b[2m\u001b[33m(raylet)\u001b[0m [2024-05-17 18:24:38,811 E 1247414 1247426] (raylet) file_system_monitor.cc:111: /tmp/ray/session_2024-05-17_18-04-46_879341_1243430 is over 95% full, available space: 650744135680; capacity: 16125711347712. Object creation will fail if spilling is required.\n",
      "\u001b[2m\u001b[33m(raylet)\u001b[0m [2024-05-17 18:24:48,814 E 1247414 1247426] (raylet) file_system_monitor.cc:111: /tmp/ray/session_2024-05-17_18-04-46_879341_1243430 is over 95% full, available space: 650744107008; capacity: 16125711347712. Object creation will fail if spilling is required.\n",
      "\u001b[2m\u001b[33m(raylet)\u001b[0m [2024-05-17 18:24:58,818 E 1247414 1247426] (raylet) file_system_monitor.cc:111: /tmp/ray/session_2024-05-17_18-04-46_879341_1243430 is over 95% full, available space: 650743947264; capacity: 16125711347712. Object creation will fail if spilling is required.\n",
      "\u001b[2m\u001b[33m(raylet)\u001b[0m [2024-05-17 18:25:08,820 E 1247414 1247426] (raylet) file_system_monitor.cc:111: /tmp/ray/session_2024-05-17_18-04-46_879341_1243430 is over 95% full, available space: 650743943168; capacity: 16125711347712. Object creation will fail if spilling is required.\n",
      "\u001b[2m\u001b[33m(raylet)\u001b[0m [2024-05-17 18:25:18,822 E 1247414 1247426] (raylet) file_system_monitor.cc:111: /tmp/ray/session_2024-05-17_18-04-46_879341_1243430 is over 95% full, available space: 650743939072; capacity: 16125711347712. Object creation will fail if spilling is required.\n",
      "\u001b[2m\u001b[33m(raylet)\u001b[0m [2024-05-17 18:25:28,825 E 1247414 1247426] (raylet) file_system_monitor.cc:111: /tmp/ray/session_2024-05-17_18-04-46_879341_1243430 is over 95% full, available space: 650743939072; capacity: 16125711347712. Object creation will fail if spilling is required.\n",
      "\u001b[2m\u001b[33m(raylet)\u001b[0m [2024-05-17 18:25:38,827 E 1247414 1247426] (raylet) file_system_monitor.cc:111: /tmp/ray/session_2024-05-17_18-04-46_879341_1243430 is over 95% full, available space: 650743939072; capacity: 16125711347712. Object creation will fail if spilling is required.\n",
      "\u001b[2m\u001b[33m(raylet)\u001b[0m [2024-05-17 18:25:48,829 E 1247414 1247426] (raylet) file_system_monitor.cc:111: /tmp/ray/session_2024-05-17_18-04-46_879341_1243430 is over 95% full, available space: 650743910400; capacity: 16125711347712. Object creation will fail if spilling is required.\n",
      "\u001b[2m\u001b[33m(raylet)\u001b[0m [2024-05-17 18:25:58,832 E 1247414 1247426] (raylet) file_system_monitor.cc:111: /tmp/ray/session_2024-05-17_18-04-46_879341_1243430 is over 95% full, available space: 650743902208; capacity: 16125711347712. Object creation will fail if spilling is required.\n",
      "\u001b[2m\u001b[33m(raylet)\u001b[0m [2024-05-17 18:26:08,834 E 1247414 1247426] (raylet) file_system_monitor.cc:111: /tmp/ray/session_2024-05-17_18-04-46_879341_1243430 is over 95% full, available space: 650743894016; capacity: 16125711347712. Object creation will fail if spilling is required.\n"
     ]
    }
   ],
   "source": [
    "from nuplan.planning.script.run_nuboard import main as main_nuboard\n",
    "\n",
    "# Run nuBoard\n",
    "main_nuboard(cfg)"
   ]
  }
 ],
 "metadata": {
  "kernelspec": {
   "display_name": "Python 3 (ipykernel)",
   "language": "python",
   "name": "python3"
  },
  "language_info": {
   "codemirror_mode": {
    "name": "ipython",
    "version": 3
   },
   "file_extension": ".py",
   "mimetype": "text/x-python",
   "name": "python",
   "nbconvert_exporter": "python",
   "pygments_lexer": "ipython3",
   "version": "3.9.18"
  }
 },
 "nbformat": 4,
 "nbformat_minor": 5
}

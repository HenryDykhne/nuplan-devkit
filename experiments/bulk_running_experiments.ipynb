{
 "cells": [
  {
   "cell_type": "code",
   "execution_count": 1,
   "id": "7d763b0e",
   "metadata": {},
   "outputs": [],
   "source": [
    "import asyncio\n",
    "import itertools\n",
    "import logging\n",
    "import random\n",
    "import nest_asyncio\n",
    "import pandas as pd\n",
    "\n",
    "nest_asyncio.apply()  #"
   ]
  },
  {
   "cell_type": "code",
   "execution_count": 2,
   "id": "33f6d65f",
   "metadata": {},
   "outputs": [
    {
     "data": {
      "text/plain": [
       "True"
      ]
     },
     "execution_count": 2,
     "metadata": {},
     "output_type": "execute_result"
    }
   ],
   "source": [
    "import torch\n",
    "\n",
    "torch.cuda.is_available()"
   ]
  },
  {
   "cell_type": "code",
   "execution_count": 3,
   "id": "ad69bb62",
   "metadata": {},
   "outputs": [],
   "source": [
    "import os\n",
    "from pathlib import Path\n",
    "import tempfile\n",
    "\n",
    "from shutil import rmtree\n",
    "from typing import List, Optional, Union\n",
    "\n",
    "from nuplan.planning.script.run_simulation import main as main_simulation"
   ]
  },
  {
   "cell_type": "code",
   "execution_count": 4,
   "id": "8233f21e",
   "metadata": {},
   "outputs": [
    {
     "name": "stdout",
     "output_type": "stream",
     "text": [
      "env: NUPLAN_DATA_ROOT=../../../datasets/nuplan/dataset\n",
      "env: NUPLAN_MAPS_ROOT=../../data/nuplan/maps\n",
      "env: NUPLAN_EXP_ROOT=../../data/nuplan/exp\n",
      "env: NUPLAN_DEVKIT_ROOT=../../nuplan-devkit/\n"
     ]
    },
    {
     "data": {
      "text/plain": [
       "'/home/ehdykhne/nuplan-devkit/experiments'"
      ]
     },
     "execution_count": 4,
     "metadata": {},
     "output_type": "execute_result"
    }
   ],
   "source": [
    "%env NUPLAN_DATA_ROOT=../../../datasets/nuplan/dataset\n",
    "%env NUPLAN_MAPS_ROOT=../../data/nuplan/maps\n",
    "%env NUPLAN_EXP_ROOT=../../data/nuplan/exp\n",
    "%env NUPLAN_DEVKIT_ROOT=../../nuplan-devkit/\n",
    "%pwd"
   ]
  },
  {
   "cell_type": "code",
   "execution_count": 5,
   "id": "f17ea3ea",
   "metadata": {},
   "outputs": [],
   "source": [
    "import hydra\n",
    "import pytorch_lightning as pl\n",
    "from omegaconf import DictConfig, OmegaConf\n",
    "\n",
    "from nuplan.common.utils.s3_utils import is_s3_path\n",
    "from nuplan.planning.script.builders.simulation_builder import build_simulations\n",
    "from nuplan.planning.script.builders.simulation_callback_builder import (\n",
    "    build_callbacks_worker,\n",
    "    build_simulation_callbacks,\n",
    ")\n",
    "from nuplan.planning.script.utils import (\n",
    "    run_runners,\n",
    "    set_default_path,\n",
    "    set_up_common_builder,\n",
    ")\n",
    "from nuplan.planning.simulation.planner.abstract_planner import AbstractPlanner\n",
    "\n",
    "logging.basicConfig(level=logging.INFO)\n",
    "logger = logging.getLogger(__name__)\n",
    "\n",
    "# If set, use the env. variable to overwrite the default dataset and experiment paths\n",
    "set_default_path()\n",
    "\n",
    "# If set, use the env. variable to overwrite the Hydra config\n",
    "CONFIG_PATH = os.getenv(\"NUPLAN_HYDRA_CONFIG_PATH\", \"config/simulation\")\n",
    "\n",
    "if os.environ.get(\"NUPLAN_HYDRA_CONFIG_PATH\") is not None:\n",
    "    CONFIG_PATH = os.path.join(\"../../../../\", CONFIG_PATH)\n",
    "\n",
    "if os.path.basename(CONFIG_PATH) != \"simulation\":\n",
    "    CONFIG_PATH = os.path.join(CONFIG_PATH, \"simulation\")\n",
    "CONFIG_NAME = \"default_simulation\""
   ]
  },
  {
   "cell_type": "code",
   "execution_count": 6,
   "id": "8a2350b5",
   "metadata": {},
   "outputs": [
    {
     "name": "stdout",
     "output_type": "stream",
     "text": [
      "['d6234553edc95d50', '98ddd7851e445b7a', '5ac5795b9b5851e8']\n",
      "['014c7f3502d4597d', '02828821ef045829', '02fa9b8d43465e0d']\n"
     ]
    }
   ],
   "source": [
    "# list of selected scenario tokens\n",
    "from tokens import selected_scenario_tokens, modifiable_scenario_tokens\n",
    "\n",
    "print(selected_scenario_tokens[0:3])\n",
    "print(modifiable_scenario_tokens[0:3])\n",
    "\n",
    "selected_scenario_tokens = [\"8b80aa05d88b518b\"]"
   ]
  },
  {
   "cell_type": "code",
   "execution_count": 7,
   "id": "69170726",
   "metadata": {},
   "outputs": [],
   "source": [
    "from tutorials.utils.tutorial_utils import construct_simulation_hydra_paths\n",
    "\n",
    "# Location of paths with all simulation configs\n",
    "BASE_CONFIG_PATH = os.path.join(\n",
    "    os.getenv(\"NUPLAN_TUTORIAL_PATH\", \"\"), \"../nuplan/planning/script\"\n",
    ")\n",
    "simulation_hydra_paths = construct_simulation_hydra_paths(BASE_CONFIG_PATH)"
   ]
  },
  {
   "cell_type": "code",
   "execution_count": 8,
   "id": "dc132c71",
   "metadata": {},
   "outputs": [],
   "source": [
    "left_turn_types = [\n",
    "    \"stopping_at_crosswalk\",\n",
    "    \"high_lateral_acceleration\",\n",
    "    \"near_multiple_vehicles\",\n",
    "    \"on_stopline_stop_sign\",\n",
    "    \"near_long_vehicle\",\n",
    "    \"unknown\",\n",
    "    \"near_barrier_on_driveable\",\n",
    "    \"near_high_speed_vehicle\",\n",
    "]\n",
    "scenario_types = [\n",
    "    \"starting_left_turn\",\n",
    "    # \"accelerating_at_traffic_light_with_lead\",\n",
    "    # \"crossed_by_bike\",\n",
    "    # \"crossed_by_vehicle\",\n",
    "    # \"on_intersection\",\n",
    "    # \"on_stopline_crosswalk\",\n",
    "    # \"on_stopline_stop_sign\",\n",
    "    # \"on_stopline_traffic_light\",\n",
    "    # \"on_traffic_light_intersection\",\n",
    "    # \"starting_protected_cross_turn\",\n",
    "    # \"starting_protected_noncross_turn\",\n",
    "    \"starting_right_turn\",\n",
    "    \"starting_straight_stop_sign_intersection_traversal\",\n",
    "    \"starting_straight_traffic_light_intersection_traversal\",\n",
    "    # \"starting_u_turn\",\n",
    "    \"starting_unprotected_cross_turn\",\n",
    "    \"starting_unprotected_noncross_turn\",\n",
    "    # \"stationary_at_crosswalk\",\n",
    "    # \"stationary_at_traffic_light_with_lead\",\n",
    "    # \"stationary_at_traffic_light_without_lead\",\n",
    "    # \"traversing_crosswalk\",\n",
    "    \"traversing_intersection\",\n",
    "    \"traversing_traffic_light_intersection\",\n",
    "]\n",
    "\n",
    "left_turn_potential = [\n",
    "    \"starting_left_turn\",\n",
    "    \"starting_unprotected_cross_turn\",\n",
    "]\n",
    "\n",
    "# scenario_types = ['stationary_at_traffic_light_without_lead']\n",
    "\n",
    "selected_scenario_tokens = [\"c819b4350255518f\"]\n",
    "\n",
    "scenario_builder = \"val\"  # [nuplan (uses trainval), nuplan_mini, test, val, train_boston, train_pittsburgh, train_singapore]\n",
    "DATASET_PARAMS = [\n",
    "    f\"scenario_builder={scenario_builder}\",\n",
    "    \"scenario_filter=all_scenarios\",  # [all_scenarios, val14_split]\n",
    "    f\"scenario_filter.scenario_types={scenario_types}\",  # there are 70 scenario types in the trainingset and 58 in the validation set including \"unknown\" which make up the majority\n",
    "    \"scenario_filter.ego_displacement_minimum_m=10\",  # use scenarios where the ego vehicle moves at least 10m\n",
    "    #    'scenario_filter.remove_invalid_goals=true',  # remove scenarios where the goal is not invalid\n",
    "    # \"scenario_filter.ego_start_speed_threshold=5\",  # Exclusive threshold that the ego's speed must rise above (meters per second) for scenario to be kept\n",
    "    #    'scenario_filter.stop_speed_threshold=10',  # Inclusive threshold that the ego's speed must fall below (meters per second) for scenario to be kept:\n",
    "    \"scenario_filter.map_names=[sg-one-north, us-ma-boston, us-pa-pittsburgh-hazelwood, us-nv-las-vegas-strip]\",  # select multiple [sg-one-north, us-ma-boston, us-pa-pittsburgh-hazelwood, us-nv-las-vegas-strip]\n",
    "    # \"scenario_filter.limit_total_scenarios=0.05\",  # use n total scenarios if int, or if float smaller than 1, use n as a fraction of total scenarios (changes sampling frequency, unchanged leaves the frequency at 20Hz)\n",
    "    \"scenario_filter.num_scenarios_per_type=10\",  # use 10 scenarios per scenario type\n",
    "    f\"scenario_filter.scenario_tokens={selected_scenario_tokens}\",  # List of scenarios to include (token)\n",
    "    #'scenario_filter.log_names=[\"2021.08.24.20.03.01_veh-45_01091_01622\"]',  # specific scenrios to simulate\n",
    "    # turn off if you are selecting scenarios manually. turn on for initial filtering (0.05 gives us 1 scenario per second)\n",
    "]"
   ]
  },
  {
   "cell_type": "code",
   "execution_count": 9,
   "id": "5eba4239",
   "metadata": {},
   "outputs": [
    {
     "name": "stdout",
     "output_type": "stream",
     "text": [
      "default_simulation\n",
      "output_folder_occ = \"../../data/nuplan/exp/exp/simulation/closed_loop_multiagent/2024.03.20.09.51.50\"\n"
     ]
    }
   ],
   "source": [
    "urban_ckpt = \"/home/ehdykhne/nuplan-devkit/experiments/pretrained_checkpoints/urbandriver_checkpoint.ckpt\"\n",
    "gc_pgp_ckpt = \"/home/ehdykhne/nuplan-devkit/experiments/pretrained_checkpoints/gc_pgp_checkpoint.ckpt\"\n",
    "hybrid_ckpt = \"/home/ehdykhne/nuplan-devkit/experiments/pretrained_checkpoints/pdm_offset_checkpoint.ckpt\"\n",
    "#'/home/ehdykhne/nuplan-devkit/experiments/pretrained_checkpoints/urbandriver_checkpoint.ckpt'\n",
    "#'/home/ehdykhne/Repos/nuplan-devkit/experiments/pretrained_checkpoints/urbandriver_checkpoint.ckpt'\n",
    "# Initialize configuration management system\n",
    "hydra.core.global_hydra.GlobalHydra.instance().clear()  # reinitialize hydra if already initialized\n",
    "hydra.initialize(config_path=simulation_hydra_paths.config_path)\n",
    "\n",
    "# Compose the configuration\n",
    "print(simulation_hydra_paths.config_name)\n",
    "cfg_occ = hydra.compose(\n",
    "    config_name=simulation_hydra_paths.config_name,\n",
    "    overrides=[\n",
    "        \"+simulation=closed_loop_multiagent\",  # [open_loop_boxes, closed_loop_nonreactive_agents, closed_loop_reactive_agents, closed_loop_multiagent]\n",
    "        \"planner=pdm_closed_planner\",  # [ml_planner, pdm_hybrid_planner, pdm_closed_planner, idm_planner, log_future_planner, simple_planner]\n",
    "        # \"model=gc_pgp_model\",\n",
    "        # \"model.aggregator.pre_train=false\",\n",
    "        # \"planner.ml_planner.model_config=${model}\",\n",
    "        # f\"planner.ml_planner.checkpoint_path={gc_pgp_ckpt}\",\n",
    "        # f\"planner.pdm_closed_planner.checkpoint_path={hybrid_ckpt}\",\n",
    "        # \"+observation.model=gc_pgp_model\",\n",
    "        # \"+observation.model.aggregator.pre_train=false\",\n",
    "        # \"+observation.model_config=${model}\",\n",
    "        # f\"+observation.checkpoint_path={gc_pgp_ckpt}\",\n",
    "        f\"observation.planner_type=pdm_closed\",\n",
    "        # # f\"observation.pdm_hybrid_ckpt={hybrid_ckpt}\",\n",
    "        f\"observation.occlusion_cfg.occlusion=True\",\n",
    "        f\"observation.occlusion_cfg.manager_type=wedge\",\n",
    "        f\"+observation.occlusion_cfg.uncloak_reaction_time=1.5\",\n",
    "        f\"+observation.occlusion_cfg.notice_threshold=1.0\",\n",
    "        \"+modify_scenario_simulations=true\",\n",
    "        \"+modifier_types=[sequential-conflict-with-occlusion-injection]\",  # can select multiple: [occlusion-injection, left-and-right, oncoming-left-turn-and-occlusion-injection, conflict-and-occlusion-injection, sequential-conflict-with-occlusion-injection]\n",
    "        \"+remove_other_agents=true\",\n",
    "        \"+occlusion=True\",\n",
    "        \"+occlusion.manager_type=wedge\",  # options: [range, shadow, wedge]\n",
    "        \"+occlusion.uncloak_reaction_time=1.5\",  # 0.1\n",
    "        \"+occlusion.notice_threshold=1.0\",  # 0.1\n",
    "        \"worker=ray_distributed\",  # [sequential, ray_distributed]\n",
    "        \"hydra.searchpath=[pkg://tuplan_garage.planning.script.config.common, pkg://tuplan_garage.planning.script.config.simulation, pkg://nuplan.planning.script.config.common, pkg://nuplan.planning.script.experiments]\",\n",
    "        *DATASET_PARAMS,\n",
    "    ],\n",
    ")\n",
    "\n",
    "output_folder_occ = cfg_occ.output_dir\n",
    "print('output_folder_occ = \"' + output_folder_occ + '\"')\n",
    "\n",
    "\n",
    "# closed mixed for simulation\n",
    "# \"+simulation=closed_loop_multiagent\",  # [open_loop_boxes, closed_loop_nonreactive_agents, closed_loop_reactive_agents, closed_loop_multiagent]\n",
    "# \"planner=pdm_closed_planner\",  # [ml_planner, pdm_hybrid_planner, pdm_closed_planner, idm_planner, log_future_planner, simple_planner]\n",
    "# # \"model=gc_pgp_model\",\n",
    "# # \"model.aggregator.pre_train=false\",\n",
    "# # \"planner.ml_planner.model_config=${model}\",\n",
    "# # f\"planner.ml_planner.checkpoint_path={gc_pgp_ckpt}\",\n",
    "# # f\"planner.pdm_closed_planner.checkpoint_path={hybrid_ckpt}\",\n",
    "# # \"+observation.model=gc_pgp_model\",\n",
    "# # \"+observation.model.aggregator.pre_train=false\",\n",
    "# # \"+observation.model_config=${model}\",\n",
    "# # f\"+observation.checkpoint_path={gc_pgp_ckpt}\",\n",
    "# f\"observation.planner_type=pdm_closed\",\n",
    "# # # f\"observation.pdm_hybrid_ckpt={hybrid_ckpt}\",\n",
    "# f\"observation.occlusion_cfg.occlusion=true\",\n",
    "# f\"observation.occlusion_cfg.manager_type=wedge\",\n",
    "# f\"+observation.occlusion_cfg.uncloak_reaction_time=1.5\",\n",
    "# f\"+observation.occlusion_cfg.notice_threshold=1.0\",\n",
    "# \"+modify_scenario_simulations=true\",\n",
    "# \"+modifier_types=[occlusion-injection]\",  # can select multiple: [occlusion-injection, left-and-right]\n",
    "# \"+occlusion=true\",\n",
    "# \"+occlusion.manager_type=wedge\",  # options: [range, shadow, wedge]\n",
    "# \"+occlusion.uncloak_reaction_time=1.0\",\n",
    "# \"+occlusion.notice_threshold=0.1\",\n",
    "# \"worker=ray_distributed\",  # [sequential, ray_distributed]\n",
    "# \"hydra.searchpath=[pkg://tuplan_garage.planning.script.config.common, pkg://tuplan_garage.planning.script.config.simulation, pkg://nuplan.planning.script.config.common, pkg://nuplan.planning.script.experiments]\",\n",
    "# *DATASET_PARAMS,\n",
    "\n",
    "\n",
    "# \"+simulation=open_loop_boxes\",  # [open_loop_boxes, closed_loop_nonreactive_agents, closed_loop_reactive_agents, closed_loop_multiagent]\n",
    "#         \"planner=log_future_planner\",  # [ml_planner, pdm_hybrid_planner, gc_pgp_planner, idm_planner, log_future_planner, simple_planner]\n",
    "#         \"ego_controller=perfect_tracking_controller\",\n",
    "#         \"worker=ray_distributed\",  # [sequential, ray_distributed]\n",
    "#         \"+occlusion=true\",  # [true, false]\n",
    "#         \"+occlusion.manager_type=wedge\",  # options: [range, shadow, wedge]\n",
    "#         \"+occlusion.uncloak_reaction_time=1.5\",\n",
    "#         \"+occlusion.notice_threshold=1.0\",\n",
    "#         # \"hydra.searchpath=[pkg://tuplan_garage.planning.script.config.common, pkg://tuplan_garage.planning.script.config.simulation, pkg://nuplan.planning.script.config.common, pkg://nuplan.planning.script.experiments]\",\n",
    "#         *DATASET_PARAMS,\n",
    "\n",
    "\n",
    "# output folders for runs:\n",
    "# closed_loop_reactive_agents, wedge occlusions, urban_planner\n",
    "# output_folder = \"../../data/nuplan/exp/exp/simulation/closed_loop_reactive_agents/2023.12.09.21.59.48\"\n",
    "# overall score: 0.5041, ego_at_fault_collisions: 363\n",
    "\n",
    "# closed_loop_reactive_agents, occlusions = False, urban_planner\n",
    "# output_folder = \"../../data/nuplan/exp/exp/simulation/closed_loop_reactive_agents/2023.12.09.23.21.13\"\n",
    "# overall score: 0.5041, ego_at_fault_collisions: 357\n",
    "\n",
    "# closed_loop_nonreactive_agents, occlusions = False, urban_planner\n",
    "# output_folder = \"../../data/nuplan/exp/exp/simulation/closed_loop_nonreactive_agents/2023.12.10.02.01.14\"\n",
    "# output_folder = \"../../data/nuplan/exp/exp/simulation/closed_loop_nonreactive_agents/2023.12.10.07.32.41\"\n",
    "# overall score: , ego_at_fault_collisions:\n",
    "\n",
    "# closed_loop_nonreactive_agents, wedge occlusions, urban_planner\n",
    "# output_folder = \"../../data/nuplan/exp/exp/simulation/closed_loop_nonreactive_agents/2023.12.10.08.29.23\"\n",
    "# overall score: , ego_at_fault_collisions:\n",
    "\n",
    "# closed_loop_reactive_agents, wedge occlusions, gc_pgp\n",
    "# output_folder = \"../../data/nuplan/exp/exp/simulation/closed_loop_reactive_agents/2023.12.10.09.31.44\"\n",
    "# overall score: , ego_at_fault_collisions:\n",
    "\n",
    "# 'closed_loop_reactive_agents, occlusions = False, gc_pgp'\n",
    "# output_folder = \"../../data/nuplan/exp/exp/simulation/closed_loop_reactive_agents/2023.12.11.00.41.30\"\n",
    "\n",
    "# 'closed_loop_reactive_agents, occlusions = False, pdm_hybrid'\n",
    "# output_folder = \"../../data/nuplan/exp/exp/simulation/closed_loop_reactive_agents/2023.12.13.12.21.28\"\n",
    "\n",
    "# 'closed_loop_reactive_agents,  wedge occlusions, pdm_hybrid'\n",
    "# output_folder = \"../../data/nuplan/exp/exp/simulation/closed_loop_reactive_agents/2023.12.13.13.07.48\"\n",
    "\n",
    "# # be8c7a230b9c5b4e_oncoming_vehicle_injection_for_left_turn_and_occlusion_injection_0\n",
    "# # output_folder = \"../../data/nuplan/exp/exp/simulation/closed_loop_multiagent/2024.02.14.14.14.30\"\n",
    "# output_folder = \"../../data/nuplan/exp/exp/simulation/closed_loop_multiagent/2024.02.14.14.38.02\""
   ]
  },
  {
   "cell_type": "markdown",
   "id": "066580da",
   "metadata": {},
   "source": [
    "# Now we can run with the following"
   ]
  },
  {
   "cell_type": "code",
   "execution_count": 10,
   "id": "58e7424b",
   "metadata": {},
   "outputs": [
    {
     "name": "stderr",
     "output_type": "stream",
     "text": [
      "Global seed set to 0\n",
      "INFO:nuplan.planning.script.builders.main_callback_builder:Building MultiMainCallback...\n",
      "INFO:nuplan.planning.script.builders.main_callback_builder:Building MultiMainCallback: 4...DONE!\n"
     ]
    },
    {
     "name": "stdout",
     "output_type": "stream",
     "text": [
      "2024-03-20 09:51:50,345 INFO {/home/ehdykhne/nuplan-devkit/nuplan/planning/script/builders/worker_pool_builder.py:19}  Building WorkerPool...\n",
      "2024-03-20 09:51:50,347 INFO {/home/ehdykhne/nuplan-devkit/nuplan/planning/utils/multithreading/worker_ray.py:78}  Starting ray local!\n"
     ]
    },
    {
     "name": "stderr",
     "output_type": "stream",
     "text": [
      "2024-03-20 09:51:52,072\tINFO worker.py:1636 -- Started a local Ray instance.\n"
     ]
    },
    {
     "name": "stdout",
     "output_type": "stream",
     "text": [
      "2024-03-20 09:51:52,903 INFO {/home/ehdykhne/nuplan-devkit/nuplan/planning/utils/multithreading/worker_pool.py:101}  Worker: RayDistributed\n",
      "2024-03-20 09:51:52,903 INFO {/home/ehdykhne/nuplan-devkit/nuplan/planning/utils/multithreading/worker_pool.py:102}  Number of nodes: 1\n",
      "Number of CPUs per node: 32\n",
      "Number of GPUs per node: 4\n",
      "Number of threads across all nodes: 32\n",
      "2024-03-20 09:51:52,903 INFO {/home/ehdykhne/nuplan-devkit/nuplan/planning/script/builders/worker_pool_builder.py:27}  Building WorkerPool...DONE!\n",
      "2024-03-20 09:51:52,903 INFO {/home/ehdykhne/nuplan-devkit/nuplan/planning/script/builders/folder_builder.py:32}  Building experiment folders...\n",
      "2024-03-20 09:51:52,904 INFO {/home/ehdykhne/nuplan-devkit/nuplan/planning/script/builders/folder_builder.py:35}  \n",
      "\n",
      "\tFolder where all results are stored: ../../data/nuplan/exp/exp/simulation/closed_loop_multiagent/2024.03.20.09.51.50\n",
      "\n",
      "2024-03-20 09:51:52,906 INFO {/home/ehdykhne/nuplan-devkit/nuplan/planning/script/builders/folder_builder.py:70}  Building experiment folders...DONE!\n",
      "2024-03-20 09:51:52,906 INFO {/home/ehdykhne/nuplan-devkit/nuplan/planning/script/builders/simulation_callback_builder.py:52}  Building AbstractCallback...\n",
      "2024-03-20 09:51:52,906 INFO {/home/ehdykhne/nuplan-devkit/nuplan/planning/script/builders/simulation_callback_builder.py:68}  Building AbstractCallback: 0...DONE!\n",
      "2024-03-20 09:51:52,907 INFO {/home/ehdykhne/nuplan-devkit/nuplan/planning/script/builders/simulation_builder.py:56}  Building simulations...\n",
      "2024-03-20 09:51:52,907 INFO {/home/ehdykhne/nuplan-devkit/nuplan/planning/script/builders/simulation_builder.py:62}  Extracting scenarios...\n",
      "2024-03-20 09:51:52,907 INFO {/home/ehdykhne/nuplan-devkit/nuplan/common/utils/distributed_scenario_filter.py:83}  Building Scenarios in mode DistributedMode.SINGLE_NODE\n",
      "2024-03-20 09:51:52,907 INFO {/home/ehdykhne/nuplan-devkit/nuplan/planning/script/builders/scenario_building_builder.py:18}  Building AbstractScenarioBuilder...\n",
      "2024-03-20 09:51:52,925 INFO {/home/ehdykhne/nuplan-devkit/nuplan/planning/script/builders/scenario_building_builder.py:21}  Building AbstractScenarioBuilder...DONE!\n",
      "2024-03-20 09:51:52,925 INFO {/home/ehdykhne/nuplan-devkit/nuplan/planning/script/builders/scenario_filter_builder.py:35}  Building ScenarioFilter...\n",
      "2024-03-20 09:51:52,927 INFO {/home/ehdykhne/nuplan-devkit/nuplan/planning/script/builders/scenario_filter_builder.py:44}  Building ScenarioFilter...DONE!\n"
     ]
    },
    {
     "name": "stderr",
     "output_type": "stream",
     "text": [
      "Ray objects: 100%|██████████| 32/32 [00:08<00:00,  3.90it/s]\n",
      "\u001b[2m\u001b[33m(raylet)\u001b[0m [2024-03-20 09:52:02,047 E 882333 882345] (raylet) file_system_monitor.cc:111: /tmp/ray/session_2024-03-20_09-51-50_375781_882040 is over 95% full, available space: 434766483456; capacity: 16125711347712. Object creation will fail if spilling is required.\n"
     ]
    },
    {
     "name": "stdout",
     "output_type": "stream",
     "text": [
      "2024-03-20 09:52:02,935 INFO {/home/ehdykhne/nuplan-devkit/nuplan/planning/script/builders/simulation_builder.py:83}  Building metric engines...\n",
      "2024-03-20 09:52:03,208 INFO {/home/ehdykhne/nuplan-devkit/nuplan/planning/script/builders/simulation_builder.py:85}  Building metric engines...DONE\n",
      "2024-03-20 09:52:03,209 INFO {/home/ehdykhne/nuplan-devkit/nuplan/planning/script/builders/simulation_builder.py:89}  Building simulations from 76 scenarios...\n",
      "2024-03-20 09:52:04,456 INFO {/home/ehdykhne/nuplan-devkit/nuplan/planning/script/builders/simulation_builder.py:151}  Modyfing Scenarios...\n",
      "1 0 are the number of cpus and gpus\n",
      "2024-03-20 09:52:04,457 INFO {/home/ehdykhne/nuplan-devkit/nuplan/planning/utils/multithreading/worker_pool.py:116}  Submitting 76 tasks!\n",
      "\u001b[2m\u001b[36m(wrapped_fn pid=882423)\u001b[0m True\n",
      "\u001b[2m\u001b[36m(wrapped_fn pid=882426)\u001b[0m removing\n",
      "\u001b[2m\u001b[36m(wrapped_fn pid=882426)\u001b[0m 1cb8625b8f995cf8 c, d 0 0\n",
      "\u001b[2m\u001b[36m(wrapped_fn pid=882426)\u001b[0m a, b 3 3\n",
      "\u001b[2m\u001b[36m(wrapped_fn pid=882436)\u001b[0m rem\n",
      "\u001b[2m\u001b[36m(wrapped_fn pid=882436)\u001b[0m hi2\n",
      "\u001b[2m\u001b[36m(wrapped_fn pid=882436)\u001b[0m rem\n",
      "\u001b[2m\u001b[36m(wrapped_fn pid=882436)\u001b[0m hi2\n",
      "\u001b[2m\u001b[36m(wrapped_fn pid=882436)\u001b[0m rem\n",
      "\u001b[2m\u001b[36m(wrapped_fn pid=882436)\u001b[0m hi2\n",
      "\u001b[2m\u001b[36m(wrapped_fn pid=882437)\u001b[0m True\u001b[32m [repeated 30x across cluster] (Ray deduplicates logs by default. Set RAY_DEDUP_LOGS=0 to disable log deduplication, or see https://docs.ray.io/en/master/ray-observability/ray-logging.html#log-deduplication for more options.)\u001b[0m\n"
     ]
    },
    {
     "name": "stderr",
     "output_type": "stream",
     "text": [
      "\u001b[2m\u001b[33m(raylet)\u001b[0m [2024-03-20 09:52:12,054 E 882333 882345] (raylet) file_system_monitor.cc:111: /tmp/ray/session_2024-03-20_09-51-50_375781_882040 is over 95% full, available space: 434766471168; capacity: 16125711347712. Object creation will fail if spilling is required.\n"
     ]
    },
    {
     "name": "stdout",
     "output_type": "stream",
     "text": [
      "\u001b[2m\u001b[36m(wrapped_fn pid=882423)\u001b[0m removing\u001b[32m [repeated 16x across cluster]\u001b[0m\n",
      "\u001b[2m\u001b[36m(wrapped_fn pid=882426)\u001b[0m 74529033e1145010 c, d 0 0\u001b[32m [repeated 8x across cluster]\u001b[0m\n",
      "\u001b[2m\u001b[36m(wrapped_fn pid=882426)\u001b[0m a, b 2 2\u001b[32m [repeated 8x across cluster]\u001b[0m\n",
      "\u001b[2m\u001b[36m(wrapped_fn pid=882418)\u001b[0m rem\u001b[32m [repeated 45x across cluster]\u001b[0m\n",
      "\u001b[2m\u001b[36m(wrapped_fn pid=882418)\u001b[0m hi2\u001b[32m [repeated 45x across cluster]\u001b[0m\n",
      "\u001b[2m\u001b[36m(wrapped_fn pid=882429)\u001b[0m True\u001b[32m [repeated 17x across cluster]\u001b[0m\n",
      "\u001b[2m\u001b[36m(wrapped_fn pid=882442)\u001b[0m removing\u001b[32m [repeated 17x across cluster]\u001b[0m\n",
      "\u001b[2m\u001b[36m(wrapped_fn pid=882423)\u001b[0m 068e5a16a8495b68 c, d 8 8\u001b[32m [repeated 17x across cluster]\u001b[0m\n",
      "\u001b[2m\u001b[36m(wrapped_fn pid=882423)\u001b[0m a, b 75 74\u001b[32m [repeated 16x across cluster]\u001b[0m\n"
     ]
    },
    {
     "name": "stderr",
     "output_type": "stream",
     "text": [
      "Ray objects:  36%|███▌      | 27/76 [00:01<00:01, 24.59it/s]"
     ]
    },
    {
     "name": "stdout",
     "output_type": "stream",
     "text": [
      "\u001b[2m\u001b[36m(wrapped_fn pid=882421)\u001b[0m rem\u001b[32m [repeated 50x across cluster]\u001b[0m\n",
      "\u001b[2m\u001b[36m(wrapped_fn pid=882421)\u001b[0m hi2\u001b[32m [repeated 50x across cluster]\u001b[0m\n"
     ]
    },
    {
     "name": "stderr",
     "output_type": "stream",
     "text": [
      "Ray objects:  42%|████▏     | 32/76 [00:02<00:04,  9.92it/s]\u001b[2m\u001b[33m(raylet)\u001b[0m [2024-03-20 09:52:22,062 E 882333 882345] (raylet) file_system_monitor.cc:111: /tmp/ray/session_2024-03-20_09-51-50_375781_882040 is over 95% full, available space: 434766462976; capacity: 16125711347712. Object creation will fail if spilling is required.\n"
     ]
    },
    {
     "name": "stdout",
     "output_type": "stream",
     "text": [
      "\u001b[2m\u001b[36m(wrapped_fn pid=882420)\u001b[0m True\u001b[32m [repeated 16x across cluster]\u001b[0m\n"
     ]
    },
    {
     "name": "stderr",
     "output_type": "stream",
     "text": [
      "Ray objects:  46%|████▌     | 35/76 [00:04<00:08,  4.86it/s]"
     ]
    },
    {
     "name": "stdout",
     "output_type": "stream",
     "text": [
      "\u001b[2m\u001b[36m(wrapped_fn pid=882434)\u001b[0m removing\u001b[32m [repeated 14x across cluster]\u001b[0m\n",
      "\u001b[2m\u001b[36m(wrapped_fn pid=882437)\u001b[0m c819b4350255518f c, d 2 2\u001b[32m [repeated 14x across cluster]\u001b[0m\n",
      "\u001b[2m\u001b[36m(wrapped_fn pid=882437)\u001b[0m a, b 17 14\u001b[32m [repeated 14x across cluster]\u001b[0m\n"
     ]
    },
    {
     "name": "stderr",
     "output_type": "stream",
     "text": [
      "Ray objects:  47%|████▋     | 36/76 [00:05<00:13,  3.01it/s]"
     ]
    },
    {
     "name": "stdout",
     "output_type": "stream",
     "text": [
      "\u001b[2m\u001b[36m(wrapped_fn pid=882440)\u001b[0m rem\u001b[32m [repeated 119x across cluster]\u001b[0m\n",
      "\u001b[2m\u001b[36m(wrapped_fn pid=882440)\u001b[0m hi2\u001b[32m [repeated 119x across cluster]\u001b[0m\n"
     ]
    },
    {
     "name": "stderr",
     "output_type": "stream",
     "text": [
      "Ray objects:  58%|█████▊    | 44/76 [00:08<00:09,  3.37it/s]"
     ]
    },
    {
     "name": "stdout",
     "output_type": "stream",
     "text": [
      "\u001b[2m\u001b[36m(wrapped_fn pid=882434)\u001b[0m True\u001b[32m [repeated 8x across cluster]\u001b[0m\n"
     ]
    },
    {
     "name": "stderr",
     "output_type": "stream",
     "text": [
      "Ray objects:  66%|██████▌   | 50/76 [00:10<00:06,  3.89it/s]"
     ]
    },
    {
     "name": "stdout",
     "output_type": "stream",
     "text": [
      "\u001b[2m\u001b[36m(wrapped_fn pid=882443)\u001b[0m removing\u001b[32m [repeated 11x across cluster]\u001b[0m\n",
      "\u001b[2m\u001b[36m(wrapped_fn pid=882429)\u001b[0m 919e1536dc2a56a6 c, d 4 4\u001b[32m [repeated 15x across cluster]\u001b[0m\n",
      "\u001b[2m\u001b[36m(wrapped_fn pid=882429)\u001b[0m a, b 72 70\u001b[32m [repeated 14x across cluster]\u001b[0m\n"
     ]
    },
    {
     "name": "stderr",
     "output_type": "stream",
     "text": [
      "Ray objects:  71%|███████   | 54/76 [00:11<00:05,  3.83it/s]"
     ]
    },
    {
     "name": "stdout",
     "output_type": "stream",
     "text": [
      "\u001b[2m\u001b[36m(wrapped_fn pid=882436)\u001b[0m rem\u001b[32m [repeated 139x across cluster]\u001b[0m\n",
      "\u001b[2m\u001b[36m(wrapped_fn pid=882436)\u001b[0m hi2\u001b[32m [repeated 139x across cluster]\u001b[0m\n"
     ]
    },
    {
     "name": "stderr",
     "output_type": "stream",
     "text": [
      "Ray objects:  75%|███████▌  | 57/76 [00:13<00:09,  1.95it/s]\u001b[2m\u001b[33m(raylet)\u001b[0m [2024-03-20 09:52:32,069 E 882333 882345] (raylet) file_system_monitor.cc:111: /tmp/ray/session_2024-03-20_09-51-50_375781_882040 is over 95% full, available space: 434744836096; capacity: 16125711347712. Object creation will fail if spilling is required.\n",
      "Ray objects:  76%|███████▋  | 58/76 [00:13<00:08,  2.18it/s]"
     ]
    },
    {
     "name": "stdout",
     "output_type": "stream",
     "text": [
      "\u001b[2m\u001b[36m(wrapped_fn pid=882447)\u001b[0m True\u001b[32m [repeated 4x across cluster]\u001b[0m\n"
     ]
    },
    {
     "name": "stderr",
     "output_type": "stream",
     "text": [
      "Ray objects:  78%|███████▊  | 59/76 [00:14<00:11,  1.43it/s]"
     ]
    },
    {
     "name": "stdout",
     "output_type": "stream",
     "text": [
      "\u001b[2m\u001b[36m(wrapped_fn pid=882420)\u001b[0m removing\u001b[32m [repeated 10x across cluster]\u001b[0m\n",
      "\u001b[2m\u001b[36m(wrapped_fn pid=882437)\u001b[0m dae5fa17c85f5a72 c, d 23 23\u001b[32m [repeated 8x across cluster]\u001b[0m\n",
      "\u001b[2m\u001b[36m(wrapped_fn pid=882437)\u001b[0m a, b 25 25\u001b[32m [repeated 8x across cluster]\u001b[0m\n"
     ]
    },
    {
     "name": "stderr",
     "output_type": "stream",
     "text": [
      "Ray objects:  79%|███████▉  | 60/76 [00:16<00:12,  1.24it/s]"
     ]
    },
    {
     "name": "stdout",
     "output_type": "stream",
     "text": [
      "\u001b[2m\u001b[36m(wrapped_fn pid=882440)\u001b[0m rem\u001b[32m [repeated 174x across cluster]\u001b[0m\n",
      "\u001b[2m\u001b[36m(wrapped_fn pid=882440)\u001b[0m hi2\u001b[32m [repeated 175x across cluster]\u001b[0m\n"
     ]
    },
    {
     "name": "stderr",
     "output_type": "stream",
     "text": [
      "Ray objects:  84%|████████▍ | 64/76 [00:19<00:09,  1.26it/s]"
     ]
    },
    {
     "name": "stdout",
     "output_type": "stream",
     "text": [
      "\u001b[2m\u001b[36m(wrapped_fn pid=882419)\u001b[0m removing\u001b[32m [repeated 4x across cluster]\u001b[0m\n",
      "\u001b[2m\u001b[36m(wrapped_fn pid=882434)\u001b[0m f216b1453e5352e4 c, d 11 11\u001b[32m [repeated 3x across cluster]\u001b[0m\n",
      "\u001b[2m\u001b[36m(wrapped_fn pid=882434)\u001b[0m a, b 162 162\u001b[32m [repeated 3x across cluster]\u001b[0m\n"
     ]
    },
    {
     "name": "stderr",
     "output_type": "stream",
     "text": [
      "Ray objects:  86%|████████▌ | 65/76 [00:21<00:12,  1.17s/it]"
     ]
    },
    {
     "name": "stdout",
     "output_type": "stream",
     "text": [
      "\u001b[2m\u001b[36m(wrapped_fn pid=882419)\u001b[0m rem\u001b[32m [repeated 97x across cluster]\u001b[0m\n",
      "\u001b[2m\u001b[36m(wrapped_fn pid=882419)\u001b[0m hi2\u001b[32m [repeated 96x across cluster]\u001b[0m\n"
     ]
    },
    {
     "name": "stderr",
     "output_type": "stream",
     "text": [
      "\u001b[2m\u001b[33m(raylet)\u001b[0m [2024-03-20 09:52:42,076 E 882333 882345] (raylet) file_system_monitor.cc:111: /tmp/ray/session_2024-03-20_09-51-50_375781_882040 is over 95% full, available space: 434744832000; capacity: 16125711347712. Object creation will fail if spilling is required.\n",
      "Ray objects:  88%|████████▊ | 67/76 [00:25<00:03,  2.61it/s]\n"
     ]
    },
    {
     "ename": "KeyboardInterrupt",
     "evalue": "",
     "output_type": "error",
     "traceback": [
      "\u001b[0;31m---------------------------------------------------------------------------\u001b[0m",
      "\u001b[0;31mKeyboardInterrupt\u001b[0m                         Traceback (most recent call last)",
      "Cell \u001b[0;32mIn[10], line 2\u001b[0m\n\u001b[1;32m      1\u001b[0m \u001b[38;5;66;03m# Run the simulation loop (real-time visualization not yet supported, see next section for visualization)\u001b[39;00m\n\u001b[0;32m----> 2\u001b[0m \u001b[43mmain_simulation\u001b[49m\u001b[43m(\u001b[49m\u001b[43mcfg_occ\u001b[49m\u001b[43m)\u001b[49m\n",
      "File \u001b[0;32m~/miniconda3/envs/nuplan/lib/python3.9/site-packages/hydra/main.py:44\u001b[0m, in \u001b[0;36mmain.<locals>.main_decorator.<locals>.decorated_main\u001b[0;34m(cfg_passthrough)\u001b[0m\n\u001b[1;32m     41\u001b[0m \u001b[38;5;129m@functools\u001b[39m\u001b[38;5;241m.\u001b[39mwraps(task_function)\n\u001b[1;32m     42\u001b[0m \u001b[38;5;28;01mdef\u001b[39;00m \u001b[38;5;21mdecorated_main\u001b[39m(cfg_passthrough: Optional[DictConfig] \u001b[38;5;241m=\u001b[39m \u001b[38;5;28;01mNone\u001b[39;00m) \u001b[38;5;241m-\u001b[39m\u001b[38;5;241m>\u001b[39m Any:\n\u001b[1;32m     43\u001b[0m     \u001b[38;5;28;01mif\u001b[39;00m cfg_passthrough \u001b[38;5;129;01mis\u001b[39;00m \u001b[38;5;129;01mnot\u001b[39;00m \u001b[38;5;28;01mNone\u001b[39;00m:\n\u001b[0;32m---> 44\u001b[0m         \u001b[38;5;28;01mreturn\u001b[39;00m \u001b[43mtask_function\u001b[49m\u001b[43m(\u001b[49m\u001b[43mcfg_passthrough\u001b[49m\u001b[43m)\u001b[49m\n\u001b[1;32m     45\u001b[0m     \u001b[38;5;28;01melse\u001b[39;00m:\n\u001b[1;32m     46\u001b[0m         args \u001b[38;5;241m=\u001b[39m get_args_parser()\n",
      "File \u001b[0;32m~/nuplan-devkit/nuplan/planning/script/run_simulation.py:145\u001b[0m, in \u001b[0;36mmain\u001b[0;34m(cfg)\u001b[0m\n\u001b[1;32m    142\u001b[0m \u001b[38;5;28;01massert\u001b[39;00m cfg\u001b[38;5;241m.\u001b[39msimulation_log_main_path \u001b[38;5;129;01mis\u001b[39;00m \u001b[38;5;28;01mNone\u001b[39;00m, \u001b[38;5;124m'\u001b[39m\u001b[38;5;124mSimulation_log_main_path must not be set when running simulation.\u001b[39m\u001b[38;5;124m'\u001b[39m\n\u001b[1;32m    144\u001b[0m \u001b[38;5;66;03m# Execute simulation with preconfigured planner(s).\u001b[39;00m\n\u001b[0;32m--> 145\u001b[0m \u001b[43mrun_simulation\u001b[49m\u001b[43m(\u001b[49m\u001b[43mcfg\u001b[49m\u001b[38;5;241;43m=\u001b[39;49m\u001b[43mcfg\u001b[49m\u001b[43m)\u001b[49m\n\u001b[1;32m    147\u001b[0m \u001b[38;5;28;01mif\u001b[39;00m is_s3_path(Path(cfg\u001b[38;5;241m.\u001b[39moutput_dir)):\n\u001b[1;32m    148\u001b[0m     clean_up_s3_artifacts()\n",
      "File \u001b[0;32m~/nuplan-devkit/nuplan/planning/script/run_simulation.py:102\u001b[0m, in \u001b[0;36mrun_simulation\u001b[0;34m(cfg, planners)\u001b[0m\n\u001b[1;32m     99\u001b[0m \u001b[38;5;28;01mif\u001b[39;00m \u001b[38;5;28misinstance\u001b[39m(planners, AbstractPlanner):\n\u001b[1;32m    100\u001b[0m     planners \u001b[38;5;241m=\u001b[39m [planners]\n\u001b[0;32m--> 102\u001b[0m runners \u001b[38;5;241m=\u001b[39m \u001b[43mbuild_simulations\u001b[49m\u001b[43m(\u001b[49m\n\u001b[1;32m    103\u001b[0m \u001b[43m    \u001b[49m\u001b[43mcfg\u001b[49m\u001b[38;5;241;43m=\u001b[39;49m\u001b[43mcfg\u001b[49m\u001b[43m,\u001b[49m\n\u001b[1;32m    104\u001b[0m \u001b[43m    \u001b[49m\u001b[43mcallbacks\u001b[49m\u001b[38;5;241;43m=\u001b[39;49m\u001b[43mcallbacks\u001b[49m\u001b[43m,\u001b[49m\n\u001b[1;32m    105\u001b[0m \u001b[43m    \u001b[49m\u001b[43mworker\u001b[49m\u001b[38;5;241;43m=\u001b[39;49m\u001b[43mcommon_builder\u001b[49m\u001b[38;5;241;43m.\u001b[39;49m\u001b[43mworker\u001b[49m\u001b[43m,\u001b[49m\n\u001b[1;32m    106\u001b[0m \u001b[43m    \u001b[49m\u001b[43mpre_built_planners\u001b[49m\u001b[38;5;241;43m=\u001b[39;49m\u001b[43mplanners\u001b[49m\u001b[43m,\u001b[49m\n\u001b[1;32m    107\u001b[0m \u001b[43m    \u001b[49m\u001b[43mcallbacks_worker\u001b[49m\u001b[38;5;241;43m=\u001b[39;49m\u001b[43mcallbacks_worker_pool\u001b[49m\u001b[43m,\u001b[49m\n\u001b[1;32m    108\u001b[0m \u001b[43m\u001b[49m\u001b[43m)\u001b[49m\n\u001b[1;32m    109\u001b[0m \u001b[38;5;28;01mif\u001b[39;00m common_builder\u001b[38;5;241m.\u001b[39mprofiler:\n\u001b[1;32m    110\u001b[0m     \u001b[38;5;66;03m# Stop simulation construction profiling\u001b[39;00m\n\u001b[1;32m    111\u001b[0m     common_builder\u001b[38;5;241m.\u001b[39mprofiler\u001b[38;5;241m.\u001b[39msave_profiler(profiler_name)\n",
      "File \u001b[0;32m~/nuplan-devkit/nuplan/planning/script/builders/simulation_builder.py:177\u001b[0m, in \u001b[0;36mbuild_simulations\u001b[0;34m(cfg, worker, callbacks, callbacks_worker, pre_built_planners)\u001b[0m\n\u001b[1;32m    175\u001b[0m num_cpus \u001b[38;5;241m=\u001b[39m cfg\u001b[38;5;241m.\u001b[39mnumber_of_cpus_allocated_per_simulation\n\u001b[1;32m    176\u001b[0m \u001b[38;5;28mprint\u001b[39m(num_cpus, num_gpus, \u001b[38;5;124m'\u001b[39m\u001b[38;5;124mare the number of cpus and gpus\u001b[39m\u001b[38;5;124m'\u001b[39m)\n\u001b[0;32m--> 177\u001b[0m offshoot_scenario_modifications: List[Tuple[\u001b[38;5;28mstr\u001b[39m, \u001b[38;5;28mstr\u001b[39m, List[AbstractModification]]] \u001b[38;5;241m=\u001b[39m \u001b[43mworker\u001b[49m\u001b[38;5;241;43m.\u001b[39;49m\u001b[43mmap\u001b[49m\u001b[43m(\u001b[49m\n\u001b[1;32m    178\u001b[0m \u001b[43m    \u001b[49m\u001b[43mTask\u001b[49m\u001b[43m(\u001b[49m\u001b[43mfn\u001b[49m\u001b[38;5;241;43m=\u001b[39;49m\u001b[43mmodify_simulations\u001b[49m\u001b[43m,\u001b[49m\u001b[43m \u001b[49m\u001b[43mnum_gpus\u001b[49m\u001b[38;5;241;43m=\u001b[39;49m\u001b[43mnum_gpus\u001b[49m\u001b[43m,\u001b[49m\u001b[43m \u001b[49m\u001b[43mnum_cpus\u001b[49m\u001b[38;5;241;43m=\u001b[39;49m\u001b[43mnum_cpus\u001b[49m\u001b[43m)\u001b[49m\u001b[43m,\u001b[49m\u001b[43m \u001b[49m\u001b[43msimulations\u001b[49m\u001b[43m,\u001b[49m\u001b[43m \u001b[49m\u001b[43m[\u001b[49m\u001b[43mcfg\u001b[49m\u001b[43m]\u001b[49m\u001b[38;5;241;43m*\u001b[39;49m\u001b[38;5;28;43mlen\u001b[39;49m\u001b[43m(\u001b[49m\u001b[43msimulations\u001b[49m\u001b[43m)\u001b[49m\u001b[43m,\u001b[49m\u001b[43m \u001b[49m\u001b[43mverbose\u001b[49m\u001b[38;5;241;43m=\u001b[39;49m\u001b[38;5;28;43;01mTrue\u001b[39;49;00m\u001b[43m)\u001b[49m\n\u001b[1;32m    179\u001b[0m modifications_for_second_testing_round \u001b[38;5;241m=\u001b[39m \u001b[38;5;28mdict\u001b[39m() \u001b[38;5;66;03m#we need this to store all modifications for the second round of testing when we want to compare with and without occlusions\u001b[39;00m\n\u001b[1;32m    180\u001b[0m \u001b[38;5;28;01mfor\u001b[39;00m mods_for_sim, sim \u001b[38;5;129;01min\u001b[39;00m tqdm(\u001b[38;5;28mzip\u001b[39m(offshoot_scenario_modifications, simulations)):\n",
      "File \u001b[0;32m~/nuplan-devkit/nuplan/planning/utils/multithreading/worker_pool.py:117\u001b[0m, in \u001b[0;36mWorkerPool.map\u001b[0;34m(self, task, verbose, *item_lists)\u001b[0m\n\u001b[1;32m    115\u001b[0m \u001b[38;5;28;01mif\u001b[39;00m verbose:\n\u001b[1;32m    116\u001b[0m     logger\u001b[38;5;241m.\u001b[39minfo(\u001b[38;5;124mf\u001b[39m\u001b[38;5;124m'\u001b[39m\u001b[38;5;124mSubmitting \u001b[39m\u001b[38;5;132;01m{\u001b[39;00mmax_size\u001b[38;5;132;01m}\u001b[39;00m\u001b[38;5;124m tasks!\u001b[39m\u001b[38;5;124m'\u001b[39m)\n\u001b[0;32m--> 117\u001b[0m \u001b[38;5;28;01mreturn\u001b[39;00m \u001b[38;5;28;43mself\u001b[39;49m\u001b[38;5;241;43m.\u001b[39;49m\u001b[43m_map\u001b[49m\u001b[43m(\u001b[49m\u001b[43mtask\u001b[49m\u001b[43m,\u001b[49m\u001b[43m \u001b[49m\u001b[38;5;241;43m*\u001b[39;49m\u001b[43maligned_item_lists\u001b[49m\u001b[43m,\u001b[49m\u001b[43m \u001b[49m\u001b[43mverbose\u001b[49m\u001b[38;5;241;43m=\u001b[39;49m\u001b[43mverbose\u001b[49m\u001b[43m)\u001b[49m\n",
      "File \u001b[0;32m~/nuplan-devkit/nuplan/planning/utils/multithreading/worker_ray.py:155\u001b[0m, in \u001b[0;36mRayDistributed._map\u001b[0;34m(***failed resolving arguments***)\u001b[0m\n\u001b[1;32m    153\u001b[0m \u001b[38;5;250m\u001b[39m\u001b[38;5;124;03m\"\"\"Inherited, see superclass.\"\"\"\u001b[39;00m\n\u001b[1;32m    154\u001b[0m \u001b[38;5;28;01mdel\u001b[39;00m verbose\n\u001b[0;32m--> 155\u001b[0m \u001b[38;5;28;01mreturn\u001b[39;00m \u001b[43mray_map\u001b[49m\u001b[43m(\u001b[49m\u001b[43mtask\u001b[49m\u001b[43m,\u001b[49m\u001b[43m \u001b[49m\u001b[38;5;241;43m*\u001b[39;49m\u001b[43mitem_lists\u001b[49m\u001b[43m,\u001b[49m\u001b[43m \u001b[49m\u001b[43mlog_dir\u001b[49m\u001b[38;5;241;43m=\u001b[39;49m\u001b[38;5;28;43mself\u001b[39;49m\u001b[38;5;241;43m.\u001b[39;49m\u001b[43m_log_dir\u001b[49m\u001b[43m)\u001b[49m\n",
      "File \u001b[0;32m~/nuplan-devkit/nuplan/planning/utils/multithreading/ray_execution.py:117\u001b[0m, in \u001b[0;36mray_map\u001b[0;34m(task, log_dir, *item_lists)\u001b[0m\n\u001b[1;32m    109\u001b[0m \u001b[38;5;250m\u001b[39m\u001b[38;5;124;03m\"\"\"\u001b[39;00m\n\u001b[1;32m    110\u001b[0m \u001b[38;5;124;03mInitialize ray, align item lists and map each item of a list of arguments to a callable and executes in parallel.\u001b[39;00m\n\u001b[1;32m    111\u001b[0m \u001b[38;5;124;03m:param task: callable to be run\u001b[39;00m\n\u001b[0;32m   (...)\u001b[0m\n\u001b[1;32m    114\u001b[0m \u001b[38;5;124;03m:return: list of outputs\u001b[39;00m\n\u001b[1;32m    115\u001b[0m \u001b[38;5;124;03m\"\"\"\u001b[39;00m\n\u001b[1;32m    116\u001b[0m \u001b[38;5;28;01mtry\u001b[39;00m:\n\u001b[0;32m--> 117\u001b[0m     results \u001b[38;5;241m=\u001b[39m \u001b[43m_ray_map_items\u001b[49m\u001b[43m(\u001b[49m\u001b[43mtask\u001b[49m\u001b[43m,\u001b[49m\u001b[43m \u001b[49m\u001b[38;5;241;43m*\u001b[39;49m\u001b[43mitem_lists\u001b[49m\u001b[43m,\u001b[49m\u001b[43m \u001b[49m\u001b[43mlog_dir\u001b[49m\u001b[38;5;241;43m=\u001b[39;49m\u001b[43mlog_dir\u001b[49m\u001b[43m)\u001b[49m\n\u001b[1;32m    118\u001b[0m     \u001b[38;5;28;01mreturn\u001b[39;00m results\n\u001b[1;32m    119\u001b[0m \u001b[38;5;28;01mexcept\u001b[39;00m (RayTaskError, \u001b[38;5;167;01mException\u001b[39;00m) \u001b[38;5;28;01mas\u001b[39;00m exc:\n",
      "File \u001b[0;32m~/nuplan-devkit/nuplan/planning/utils/multithreading/ray_execution.py:100\u001b[0m, in \u001b[0;36m_ray_map_items\u001b[0;34m(task, log_dir, *item_lists)\u001b[0m\n\u001b[1;32m     97\u001b[0m object_result_map \u001b[38;5;241m=\u001b[39m \u001b[38;5;28mdict\u001b[39m\u001b[38;5;241m.\u001b[39mfromkeys(object_ids, \u001b[38;5;28;01mNone\u001b[39;00m)\n\u001b[1;32m     99\u001b[0m \u001b[38;5;66;03m# Asynchronously iterate through the object and track progress\u001b[39;00m\n\u001b[0;32m--> 100\u001b[0m \u001b[38;5;28;01mfor\u001b[39;00m object_id, output \u001b[38;5;129;01min\u001b[39;00m tqdm(_ray_object_iterator(object_ids), total\u001b[38;5;241m=\u001b[39m\u001b[38;5;28mlen\u001b[39m(object_ids), desc\u001b[38;5;241m=\u001b[39m\u001b[38;5;124m'\u001b[39m\u001b[38;5;124mRay objects\u001b[39m\u001b[38;5;124m'\u001b[39m):\n\u001b[1;32m    101\u001b[0m     object_result_map[object_id] \u001b[38;5;241m=\u001b[39m output\n\u001b[1;32m    103\u001b[0m results \u001b[38;5;241m=\u001b[39m \u001b[38;5;28mlist\u001b[39m(object_result_map\u001b[38;5;241m.\u001b[39mvalues())\n",
      "File \u001b[0;32m~/miniconda3/envs/nuplan/lib/python3.9/site-packages/tqdm/std.py:1182\u001b[0m, in \u001b[0;36mtqdm.__iter__\u001b[0;34m(self)\u001b[0m\n\u001b[1;32m   1179\u001b[0m time \u001b[38;5;241m=\u001b[39m \u001b[38;5;28mself\u001b[39m\u001b[38;5;241m.\u001b[39m_time\n\u001b[1;32m   1181\u001b[0m \u001b[38;5;28;01mtry\u001b[39;00m:\n\u001b[0;32m-> 1182\u001b[0m     \u001b[38;5;28;01mfor\u001b[39;00m obj \u001b[38;5;129;01min\u001b[39;00m iterable:\n\u001b[1;32m   1183\u001b[0m         \u001b[38;5;28;01myield\u001b[39;00m obj\n\u001b[1;32m   1184\u001b[0m         \u001b[38;5;66;03m# Update and possibly print the progressbar.\u001b[39;00m\n\u001b[1;32m   1185\u001b[0m         \u001b[38;5;66;03m# Note: does not call self.update(1) for speed optimisation.\u001b[39;00m\n",
      "File \u001b[0;32m~/nuplan-devkit/nuplan/planning/utils/multithreading/ray_execution.py:25\u001b[0m, in \u001b[0;36m_ray_object_iterator\u001b[0;34m(initial_ids)\u001b[0m\n\u001b[1;32m     22\u001b[0m next_ids \u001b[38;5;241m=\u001b[39m initial_ids\n\u001b[1;32m     24\u001b[0m \u001b[38;5;28;01mwhile\u001b[39;00m next_ids:\n\u001b[0;32m---> 25\u001b[0m     ready_ids, not_ready_ids \u001b[38;5;241m=\u001b[39m \u001b[43mray\u001b[49m\u001b[38;5;241;43m.\u001b[39;49m\u001b[43mwait\u001b[49m\u001b[43m(\u001b[49m\u001b[43mnext_ids\u001b[49m\u001b[43m)\u001b[49m\n\u001b[1;32m     26\u001b[0m     next_id \u001b[38;5;241m=\u001b[39m ready_ids[\u001b[38;5;241m0\u001b[39m]\n\u001b[1;32m     28\u001b[0m     \u001b[38;5;28;01myield\u001b[39;00m next_id, ray\u001b[38;5;241m.\u001b[39mget(next_id)\n",
      "File \u001b[0;32m~/miniconda3/envs/nuplan/lib/python3.9/site-packages/ray/_private/auto_init_hook.py:18\u001b[0m, in \u001b[0;36mwrap_auto_init.<locals>.auto_init_wrapper\u001b[0;34m(*args, **kwargs)\u001b[0m\n\u001b[1;32m     15\u001b[0m \u001b[38;5;129m@wraps\u001b[39m(fn)\n\u001b[1;32m     16\u001b[0m \u001b[38;5;28;01mdef\u001b[39;00m \u001b[38;5;21mauto_init_wrapper\u001b[39m(\u001b[38;5;241m*\u001b[39margs, \u001b[38;5;241m*\u001b[39m\u001b[38;5;241m*\u001b[39mkwargs):\n\u001b[1;32m     17\u001b[0m     auto_init_ray()\n\u001b[0;32m---> 18\u001b[0m     \u001b[38;5;28;01mreturn\u001b[39;00m \u001b[43mfn\u001b[49m\u001b[43m(\u001b[49m\u001b[38;5;241;43m*\u001b[39;49m\u001b[43margs\u001b[49m\u001b[43m,\u001b[49m\u001b[43m \u001b[49m\u001b[38;5;241;43m*\u001b[39;49m\u001b[38;5;241;43m*\u001b[39;49m\u001b[43mkwargs\u001b[49m\u001b[43m)\u001b[49m\n",
      "File \u001b[0;32m~/miniconda3/envs/nuplan/lib/python3.9/site-packages/ray/_private/client_mode_hook.py:103\u001b[0m, in \u001b[0;36mclient_mode_hook.<locals>.wrapper\u001b[0;34m(*args, **kwargs)\u001b[0m\n\u001b[1;32m    101\u001b[0m     \u001b[38;5;28;01mif\u001b[39;00m func\u001b[38;5;241m.\u001b[39m\u001b[38;5;18m__name__\u001b[39m \u001b[38;5;241m!=\u001b[39m \u001b[38;5;124m\"\u001b[39m\u001b[38;5;124minit\u001b[39m\u001b[38;5;124m\"\u001b[39m \u001b[38;5;129;01mor\u001b[39;00m is_client_mode_enabled_by_default:\n\u001b[1;32m    102\u001b[0m         \u001b[38;5;28;01mreturn\u001b[39;00m \u001b[38;5;28mgetattr\u001b[39m(ray, func\u001b[38;5;241m.\u001b[39m\u001b[38;5;18m__name__\u001b[39m)(\u001b[38;5;241m*\u001b[39margs, \u001b[38;5;241m*\u001b[39m\u001b[38;5;241m*\u001b[39mkwargs)\n\u001b[0;32m--> 103\u001b[0m \u001b[38;5;28;01mreturn\u001b[39;00m \u001b[43mfunc\u001b[49m\u001b[43m(\u001b[49m\u001b[38;5;241;43m*\u001b[39;49m\u001b[43margs\u001b[49m\u001b[43m,\u001b[49m\u001b[43m \u001b[49m\u001b[38;5;241;43m*\u001b[39;49m\u001b[38;5;241;43m*\u001b[39;49m\u001b[43mkwargs\u001b[49m\u001b[43m)\u001b[49m\n",
      "File \u001b[0;32m~/miniconda3/envs/nuplan/lib/python3.9/site-packages/ray/_private/worker.py:2737\u001b[0m, in \u001b[0;36mwait\u001b[0;34m(object_refs, num_returns, timeout, fetch_local)\u001b[0m\n\u001b[1;32m   2735\u001b[0m timeout \u001b[38;5;241m=\u001b[39m timeout \u001b[38;5;28;01mif\u001b[39;00m timeout \u001b[38;5;129;01mis\u001b[39;00m \u001b[38;5;129;01mnot\u001b[39;00m \u001b[38;5;28;01mNone\u001b[39;00m \u001b[38;5;28;01melse\u001b[39;00m \u001b[38;5;241m10\u001b[39m\u001b[38;5;241m*\u001b[39m\u001b[38;5;241m*\u001b[39m\u001b[38;5;241m6\u001b[39m\n\u001b[1;32m   2736\u001b[0m timeout_milliseconds \u001b[38;5;241m=\u001b[39m \u001b[38;5;28mint\u001b[39m(timeout \u001b[38;5;241m*\u001b[39m \u001b[38;5;241m1000\u001b[39m)\n\u001b[0;32m-> 2737\u001b[0m ready_ids, remaining_ids \u001b[38;5;241m=\u001b[39m \u001b[43mworker\u001b[49m\u001b[38;5;241;43m.\u001b[39;49m\u001b[43mcore_worker\u001b[49m\u001b[38;5;241;43m.\u001b[39;49m\u001b[43mwait\u001b[49m\u001b[43m(\u001b[49m\n\u001b[1;32m   2738\u001b[0m \u001b[43m    \u001b[49m\u001b[43mobject_refs\u001b[49m\u001b[43m,\u001b[49m\n\u001b[1;32m   2739\u001b[0m \u001b[43m    \u001b[49m\u001b[43mnum_returns\u001b[49m\u001b[43m,\u001b[49m\n\u001b[1;32m   2740\u001b[0m \u001b[43m    \u001b[49m\u001b[43mtimeout_milliseconds\u001b[49m\u001b[43m,\u001b[49m\n\u001b[1;32m   2741\u001b[0m \u001b[43m    \u001b[49m\u001b[43mworker\u001b[49m\u001b[38;5;241;43m.\u001b[39;49m\u001b[43mcurrent_task_id\u001b[49m\u001b[43m,\u001b[49m\n\u001b[1;32m   2742\u001b[0m \u001b[43m    \u001b[49m\u001b[43mfetch_local\u001b[49m\u001b[43m,\u001b[49m\n\u001b[1;32m   2743\u001b[0m \u001b[43m\u001b[49m\u001b[43m)\u001b[49m\n\u001b[1;32m   2744\u001b[0m \u001b[38;5;28;01mreturn\u001b[39;00m ready_ids, remaining_ids\n",
      "File \u001b[0;32mpython/ray/_raylet.pyx:2760\u001b[0m, in \u001b[0;36mray._raylet.CoreWorker.wait\u001b[0;34m()\u001b[0m\n",
      "File \u001b[0;32mpython/ray/_raylet.pyx:444\u001b[0m, in \u001b[0;36mray._raylet.check_status\u001b[0;34m()\u001b[0m\n",
      "\u001b[0;31mKeyboardInterrupt\u001b[0m: "
     ]
    },
    {
     "name": "stdout",
     "output_type": "stream",
     "text": [
      "\u001b[2m\u001b[36m(wrapped_fn pid=882445)\u001b[0m a, b 364 364\n",
      "\u001b[2m\u001b[36m(wrapped_fn pid=882444)\u001b[0m 6895e06f4b645c9b c, d 16 16\u001b[32m [repeated 4x across cluster]\u001b[0m\n",
      "\u001b[2m\u001b[36m(wrapped_fn pid=882444)\u001b[0m a, b 364 364\u001b[32m [repeated 4x across cluster]\u001b[0m\n",
      "\u001b[2m\u001b[36m(wrapped_fn pid=882435)\u001b[0m rem\u001b[32m [repeated 24x across cluster]\u001b[0m\n",
      "\u001b[2m\u001b[36m(wrapped_fn pid=882435)\u001b[0m hi2\u001b[32m [repeated 25x across cluster]\u001b[0m\n",
      "\u001b[2m\u001b[36m(wrapped_fn pid=882422)\u001b[0m removing\n",
      "\u001b[2m\u001b[36m(wrapped_fn pid=882438)\u001b[0m 6ea37f738f3f5907 c, d 10 10\u001b[32m [repeated 3x across cluster]\u001b[0m\n",
      "\u001b[2m\u001b[36m(wrapped_fn pid=882438)\u001b[0m a, b 295 295\u001b[32m [repeated 3x across cluster]\u001b[0m\n",
      "\u001b[2m\u001b[36m(wrapped_fn pid=882423)\u001b[0m rem\u001b[32m [repeated 32x across cluster]\u001b[0m\n",
      "\u001b[2m\u001b[36m(wrapped_fn pid=882423)\u001b[0m hi2\u001b[32m [repeated 32x across cluster]\u001b[0m\n"
     ]
    },
    {
     "name": "stderr",
     "output_type": "stream",
     "text": [
      "\u001b[2m\u001b[33m(raylet)\u001b[0m [2024-03-20 09:52:52,083 E 882333 882345] (raylet) file_system_monitor.cc:111: /tmp/ray/session_2024-03-20_09-51-50_375781_882040 is over 95% full, available space: 434744791040; capacity: 16125711347712. Object creation will fail if spilling is required.\n"
     ]
    },
    {
     "name": "stdout",
     "output_type": "stream",
     "text": [
      "\u001b[2m\u001b[36m(wrapped_fn pid=882423)\u001b[0m 3e2a313c71015b0e c, d 21 21\n",
      "\u001b[2m\u001b[36m(wrapped_fn pid=882445)\u001b[0m 6e40140ba7835f5b c, d 20 20\u001b[32m [repeated 2x across cluster]\u001b[0m\n",
      "\u001b[2m\u001b[36m(wrapped_fn pid=882445)\u001b[0m a, b 189 189\u001b[32m [repeated 2x across cluster]\u001b[0m\n",
      "\u001b[2m\u001b[36m(wrapped_fn pid=882419)\u001b[0m a, b 189 189\n",
      "\u001b[2m\u001b[36m(wrapped_fn pid=882419)\u001b[0m a, b 189 189\n",
      "\u001b[2m\u001b[36m(wrapped_fn pid=882445)\u001b[0m rem\n",
      "\u001b[2m\u001b[36m(wrapped_fn pid=882445)\u001b[0m hi2\n"
     ]
    },
    {
     "name": "stderr",
     "output_type": "stream",
     "text": [
      "\u001b[2m\u001b[33m(raylet)\u001b[0m [2024-03-20 09:53:02,089 E 882333 882345] (raylet) file_system_monitor.cc:111: /tmp/ray/session_2024-03-20_09-51-50_375781_882040 is over 95% full, available space: 434744635392; capacity: 16125711347712. Object creation will fail if spilling is required.\n"
     ]
    },
    {
     "name": "stdout",
     "output_type": "stream",
     "text": [
      "\u001b[2m\u001b[36m(wrapped_fn pid=882422)\u001b[0m a, b 50 50\n",
      "\u001b[2m\u001b[36m(wrapped_fn pid=882422)\u001b[0m a, b 50 50\n",
      "\u001b[2m\u001b[36m(wrapped_fn pid=882422)\u001b[0m rem\n",
      "\u001b[2m\u001b[36m(wrapped_fn pid=882422)\u001b[0m hi2\n",
      "\u001b[2m\u001b[36m(wrapped_fn pid=882423)\u001b[0m aaa28af94ac15ae4 c, d 9 9\n",
      "\u001b[2m\u001b[36m(wrapped_fn pid=882423)\u001b[0m a, b 355 355\n"
     ]
    },
    {
     "name": "stderr",
     "output_type": "stream",
     "text": [
      "\u001b[2m\u001b[33m(raylet)\u001b[0m [2024-03-20 09:53:12,095 E 882333 882345] (raylet) file_system_monitor.cc:111: /tmp/ray/session_2024-03-20_09-51-50_375781_882040 is over 95% full, available space: 434744623104; capacity: 16125711347712. Object creation will fail if spilling is required.\n",
      "\u001b[2m\u001b[33m(raylet)\u001b[0m [2024-03-20 09:53:22,100 E 882333 882345] (raylet) file_system_monitor.cc:111: /tmp/ray/session_2024-03-20_09-51-50_375781_882040 is over 95% full, available space: 434744619008; capacity: 16125711347712. Object creation will fail if spilling is required.\n",
      "\u001b[2m\u001b[33m(raylet)\u001b[0m [2024-03-20 09:53:32,105 E 882333 882345] (raylet) file_system_monitor.cc:111: /tmp/ray/session_2024-03-20_09-51-50_375781_882040 is over 95% full, available space: 434744606720; capacity: 16125711347712. Object creation will fail if spilling is required.\n",
      "\u001b[2m\u001b[33m(raylet)\u001b[0m [2024-03-20 09:53:42,111 E 882333 882345] (raylet) file_system_monitor.cc:111: /tmp/ray/session_2024-03-20_09-51-50_375781_882040 is over 95% full, available space: 434744594432; capacity: 16125711347712. Object creation will fail if spilling is required.\n",
      "\u001b[2m\u001b[33m(raylet)\u001b[0m [2024-03-20 09:53:52,116 E 882333 882345] (raylet) file_system_monitor.cc:111: /tmp/ray/session_2024-03-20_09-51-50_375781_882040 is over 95% full, available space: 434744561664; capacity: 16125711347712. Object creation will fail if spilling is required.\n",
      "\u001b[2m\u001b[33m(raylet)\u001b[0m [2024-03-20 09:54:02,122 E 882333 882345] (raylet) file_system_monitor.cc:111: /tmp/ray/session_2024-03-20_09-51-50_375781_882040 is over 95% full, available space: 434744545280; capacity: 16125711347712. Object creation will fail if spilling is required.\n"
     ]
    },
    {
     "name": "stdout",
     "output_type": "stream",
     "text": [
      "\u001b[2m\u001b[36m(wrapped_fn pid=882421)\u001b[0m d6e87233d7635cfb c, d 0 0\n",
      "\u001b[2m\u001b[36m(wrapped_fn pid=882421)\u001b[0m a, b 71 506\n"
     ]
    },
    {
     "name": "stderr",
     "output_type": "stream",
     "text": [
      "\u001b[2m\u001b[33m(raylet)\u001b[0m [2024-03-20 09:54:12,127 E 882333 882345] (raylet) file_system_monitor.cc:111: /tmp/ray/session_2024-03-20_09-51-50_375781_882040 is over 95% full, available space: 434744537088; capacity: 16125711347712. Object creation will fail if spilling is required.\n",
      "\u001b[2m\u001b[33m(raylet)\u001b[0m [2024-03-20 09:54:22,133 E 882333 882345] (raylet) file_system_monitor.cc:111: /tmp/ray/session_2024-03-20_09-51-50_375781_882040 is over 95% full, available space: 434744528896; capacity: 16125711347712. Object creation will fail if spilling is required.\n",
      "\u001b[2m\u001b[33m(raylet)\u001b[0m [2024-03-20 09:54:32,139 E 882333 882345] (raylet) file_system_monitor.cc:111: /tmp/ray/session_2024-03-20_09-51-50_375781_882040 is over 95% full, available space: 434744524800; capacity: 16125711347712. Object creation will fail if spilling is required.\n",
      "\u001b[2m\u001b[33m(raylet)\u001b[0m [2024-03-20 09:54:42,145 E 882333 882345] (raylet) file_system_monitor.cc:111: /tmp/ray/session_2024-03-20_09-51-50_375781_882040 is over 95% full, available space: 434744520704; capacity: 16125711347712. Object creation will fail if spilling is required.\n",
      "\u001b[2m\u001b[33m(raylet)\u001b[0m [2024-03-20 09:54:52,150 E 882333 882345] (raylet) file_system_monitor.cc:111: /tmp/ray/session_2024-03-20_09-51-50_375781_882040 is over 95% full, available space: 434744487936; capacity: 16125711347712. Object creation will fail if spilling is required.\n",
      "\u001b[2m\u001b[33m(raylet)\u001b[0m [2024-03-20 09:55:02,156 E 882333 882345] (raylet) file_system_monitor.cc:111: /tmp/ray/session_2024-03-20_09-51-50_375781_882040 is over 95% full, available space: 434744352768; capacity: 16125711347712. Object creation will fail if spilling is required.\n",
      "\u001b[2m\u001b[33m(raylet)\u001b[0m [2024-03-20 09:55:12,161 E 882333 882345] (raylet) file_system_monitor.cc:111: /tmp/ray/session_2024-03-20_09-51-50_375781_882040 is over 95% full, available space: 434744340480; capacity: 16125711347712. Object creation will fail if spilling is required.\n",
      "\u001b[2m\u001b[33m(raylet)\u001b[0m [2024-03-20 09:55:22,165 E 882333 882345] (raylet) file_system_monitor.cc:111: /tmp/ray/session_2024-03-20_09-51-50_375781_882040 is over 95% full, available space: 434744340480; capacity: 16125711347712. Object creation will fail if spilling is required.\n",
      "\u001b[2m\u001b[33m(raylet)\u001b[0m [2024-03-20 09:55:32,170 E 882333 882345] (raylet) file_system_monitor.cc:111: /tmp/ray/session_2024-03-20_09-51-50_375781_882040 is over 95% full, available space: 434744356864; capacity: 16125711347712. Object creation will fail if spilling is required.\n",
      "\u001b[2m\u001b[33m(raylet)\u001b[0m [2024-03-20 09:55:42,175 E 882333 882345] (raylet) file_system_monitor.cc:111: /tmp/ray/session_2024-03-20_09-51-50_375781_882040 is over 95% full, available space: 434744348672; capacity: 16125711347712. Object creation will fail if spilling is required.\n",
      "\u001b[2m\u001b[33m(raylet)\u001b[0m [2024-03-20 09:55:52,180 E 882333 882345] (raylet) file_system_monitor.cc:111: /tmp/ray/session_2024-03-20_09-51-50_375781_882040 is over 95% full, available space: 434744315904; capacity: 16125711347712. Object creation will fail if spilling is required.\n",
      "\u001b[2m\u001b[33m(raylet)\u001b[0m [2024-03-20 09:56:02,185 E 882333 882345] (raylet) file_system_monitor.cc:111: /tmp/ray/session_2024-03-20_09-51-50_375781_882040 is over 95% full, available space: 434722684928; capacity: 16125711347712. Object creation will fail if spilling is required.\n",
      "\u001b[2m\u001b[33m(raylet)\u001b[0m [2024-03-20 09:56:12,190 E 882333 882345] (raylet) file_system_monitor.cc:111: /tmp/ray/session_2024-03-20_09-51-50_375781_882040 is over 95% full, available space: 434722680832; capacity: 16125711347712. Object creation will fail if spilling is required.\n",
      "\u001b[2m\u001b[33m(raylet)\u001b[0m [2024-03-20 09:56:22,196 E 882333 882345] (raylet) file_system_monitor.cc:111: /tmp/ray/session_2024-03-20_09-51-50_375781_882040 is over 95% full, available space: 434722676736; capacity: 16125711347712. Object creation will fail if spilling is required.\n",
      "\u001b[2m\u001b[33m(raylet)\u001b[0m [2024-03-20 09:56:32,202 E 882333 882345] (raylet) file_system_monitor.cc:111: /tmp/ray/session_2024-03-20_09-51-50_375781_882040 is over 95% full, available space: 434722668544; capacity: 16125711347712. Object creation will fail if spilling is required.\n",
      "\u001b[2m\u001b[33m(raylet)\u001b[0m [2024-03-20 09:56:42,208 E 882333 882345] (raylet) file_system_monitor.cc:111: /tmp/ray/session_2024-03-20_09-51-50_375781_882040 is over 95% full, available space: 434722660352; capacity: 16125711347712. Object creation will fail if spilling is required.\n",
      "\u001b[2m\u001b[33m(raylet)\u001b[0m [2024-03-20 09:56:52,213 E 882333 882345] (raylet) file_system_monitor.cc:111: /tmp/ray/session_2024-03-20_09-51-50_375781_882040 is over 95% full, available space: 434722631680; capacity: 16125711347712. Object creation will fail if spilling is required.\n",
      "\u001b[2m\u001b[33m(raylet)\u001b[0m [2024-03-20 09:57:02,219 E 882333 882345] (raylet) file_system_monitor.cc:111: /tmp/ray/session_2024-03-20_09-51-50_375781_882040 is over 95% full, available space: 434722484224; capacity: 16125711347712. Object creation will fail if spilling is required.\n",
      "\u001b[2m\u001b[33m(raylet)\u001b[0m [2024-03-20 09:57:12,225 E 882333 882345] (raylet) file_system_monitor.cc:111: /tmp/ray/session_2024-03-20_09-51-50_375781_882040 is over 95% full, available space: 434722480128; capacity: 16125711347712. Object creation will fail if spilling is required.\n",
      "\u001b[2m\u001b[33m(raylet)\u001b[0m [2024-03-20 09:57:22,230 E 882333 882345] (raylet) file_system_monitor.cc:111: /tmp/ray/session_2024-03-20_09-51-50_375781_882040 is over 95% full, available space: 434722471936; capacity: 16125711347712. Object creation will fail if spilling is required.\n",
      "\u001b[2m\u001b[33m(raylet)\u001b[0m [2024-03-20 09:57:32,236 E 882333 882345] (raylet) file_system_monitor.cc:111: /tmp/ray/session_2024-03-20_09-51-50_375781_882040 is over 95% full, available space: 434722467840; capacity: 16125711347712. Object creation will fail if spilling is required.\n",
      "\u001b[2m\u001b[33m(raylet)\u001b[0m [2024-03-20 09:57:42,242 E 882333 882345] (raylet) file_system_monitor.cc:111: /tmp/ray/session_2024-03-20_09-51-50_375781_882040 is over 95% full, available space: 434722459648; capacity: 16125711347712. Object creation will fail if spilling is required.\n",
      "\u001b[2m\u001b[33m(raylet)\u001b[0m [2024-03-20 09:57:52,247 E 882333 882345] (raylet) file_system_monitor.cc:111: /tmp/ray/session_2024-03-20_09-51-50_375781_882040 is over 95% full, available space: 434722430976; capacity: 16125711347712. Object creation will fail if spilling is required.\n",
      "\u001b[2m\u001b[33m(raylet)\u001b[0m [2024-03-20 09:58:02,252 E 882333 882345] (raylet) file_system_monitor.cc:111: /tmp/ray/session_2024-03-20_09-51-50_375781_882040 is over 95% full, available space: 434722426880; capacity: 16125711347712. Object creation will fail if spilling is required.\n"
     ]
    }
   ],
   "source": [
    "# Run the simulation loop (real-time visualization not yet supported, see next section for visualization)\n",
    "main_simulation(cfg_occ)"
   ]
  },
  {
   "cell_type": "markdown",
   "id": "ddd45a08",
   "metadata": {},
   "source": [
    "# Now we set up the second running regime"
   ]
  },
  {
   "cell_type": "code",
   "execution_count": null,
   "id": "e825205f",
   "metadata": {},
   "outputs": [
    {
     "name": "stdout",
     "output_type": "stream",
     "text": [
      "+scenarios_to_check_in_alternate_regime=['8b80aa05d88b518b_conflict_injection_and_occlusion_injection_1', '8b80aa05d88b518b_conflict_injection_and_occlusion_injection_0']\n"
     ]
    },
    {
     "name": "stderr",
     "output_type": "stream",
     "text": [
      "\u001b[2m\u001b[33m(raylet)\u001b[0m [2024-03-20 08:54:28,267 E 833761 833773] (raylet) file_system_monitor.cc:111: /tmp/ray/session_2024-03-20_08-52-06_492338_833465 is over 95% full, available space: 435211595776; capacity: 16125711347712. Object creation will fail if spilling is required.\n"
     ]
    },
    {
     "name": "stdout",
     "output_type": "stream",
     "text": [
      "output_folder_unocc = \"../../data/nuplan/exp/exp/simulation/closed_loop_multiagent/2024.03.20.08.54.30\"\n"
     ]
    }
   ],
   "source": [
    "#########################################\n",
    "\n",
    "path = output_folder_occ + \"/metrics/\"\n",
    "file_path_1 = path + \"no_ego_at_fault_collisions.parquet\"\n",
    "df = pd.read_parquet(file_path_1)\n",
    "df = df.loc[df[\"number_of_ego_collisions_with_vehicles_stat_value\"] != 0]\n",
    "df = df[\"scenario_name\"]\n",
    "\n",
    "\n",
    "scenario_list = df.tolist()\n",
    "print(f\"+scenarios_to_check_in_alternate_regime={scenario_list}\")\n",
    "\n",
    "hydra.core.global_hydra.GlobalHydra.instance().clear()  # reinitialize hydra if already initialized\n",
    "hydra.initialize(config_path=simulation_hydra_paths.config_path)\n",
    "cfg_unocc = hydra.compose(\n",
    "    config_name=simulation_hydra_paths.config_name,\n",
    "    overrides=[\n",
    "        \"+simulation=closed_loop_multiagent\",  # [open_loop_boxes, closed_loop_nonreactive_agents, closed_loop_reactive_agents, closed_loop_multiagent]\n",
    "        \"planner=pdm_closed_planner\",  # [ml_planner, pdm_hybrid_planner, pdm_closed_planner, idm_planner, log_future_planner, simple_planner]\n",
    "        # \"model=gc_pgp_model\",\n",
    "        # \"model.aggregator.pre_train=false\",\n",
    "        # \"planner.ml_planner.model_config=${model}\",\n",
    "        # f\"planner.ml_planner.checkpoint_path={gc_pgp_ckpt}\",\n",
    "        # f\"planner.pdm_closed_planner.checkpoint_path={hybrid_ckpt}\",\n",
    "        # \"+observation.model=gc_pgp_model\",\n",
    "        # \"+observation.model.aggregator.pre_train=false\",\n",
    "        # \"+observation.model_config=${model}\",\n",
    "        # f\"+observation.checkpoint_path={gc_pgp_ckpt}\",\n",
    "        f\"observation.planner_type=pdm_closed\",\n",
    "        # # f\"observation.pdm_hybrid_ckpt={hybrid_ckpt}\",\n",
    "        f\"observation.occlusion_cfg.occlusion=false\",\n",
    "        \"+modify_scenario_simulations=true\",\n",
    "        \"+second_testing_round=true\",\n",
    "        f\"+scenarios_to_check_in_alternate_regime={scenario_list}\",\n",
    "        \"+modifier_types=[sequential-conflict-with-occlusion-injection]\",  # can select multiple: [occlusion-injection, left-and-right, oncoming-left-turn-and-occlusion-injection, conflict-and-occlusion-injection, sequential-conflict-with-occlusion-injection]\n",
    "        \"+remove_other_agents=true\",\n",
    "        \"+occlusion=false\",\n",
    "        \"worker=ray_distributed\",  # [sequential, ray_distributed]\n",
    "        \"hydra.searchpath=[pkg://tuplan_garage.planning.script.config.common, pkg://tuplan_garage.planning.script.config.simulation, pkg://nuplan.planning.script.config.common, pkg://nuplan.planning.script.experiments]\",\n",
    "        *DATASET_PARAMS,\n",
    "    ],\n",
    ")\n",
    "\n",
    "output_folder_unocc = cfg_unocc.output_dir\n",
    "print('output_folder_unocc = \"' + output_folder_unocc + '\"')"
   ]
  },
  {
   "cell_type": "markdown",
   "id": "f5bffe3d",
   "metadata": {},
   "source": [
    "## Run Second Regime"
   ]
  },
  {
   "cell_type": "code",
   "execution_count": null,
   "id": "3d2c0871",
   "metadata": {},
   "outputs": [
    {
     "name": "stderr",
     "output_type": "stream",
     "text": [
      "Global seed set to 0\n"
     ]
    },
    {
     "name": "stdout",
     "output_type": "stream",
     "text": [
      "2024-03-20 08:54:30,476 INFO {/home/ehdykhne/nuplan-devkit/nuplan/planning/script/builders/main_callback_builder.py:20}  Building MultiMainCallback...\n",
      "2024-03-20 08:54:30,498 INFO {/home/ehdykhne/nuplan-devkit/nuplan/planning/script/builders/main_callback_builder.py:35}  Building MultiMainCallback: 4...DONE!\n",
      "2024-03-20 08:54:30,661 INFO {/home/ehdykhne/nuplan-devkit/nuplan/planning/script/builders/worker_pool_builder.py:19}  Building WorkerPool...\n",
      "2024-03-20 08:54:30,662 WARNING {/home/ehdykhne/nuplan-devkit/nuplan/planning/utils/multithreading/worker_ray.py:135}  Ray is running, we will shut it down before starting again!\n",
      "\u001b[2m\u001b[36m(wrapped_fn pid=833844)\u001b[0m True\u001b[32m [repeated 5x across cluster]\u001b[0m\n"
     ]
    },
    {
     "name": "stderr",
     "output_type": "stream",
     "text": [
      "\u001b[2m\u001b[36m(wrapped_fn pid=833861)\u001b[0m WARNING:nuplan.planning.simulation.planner.idm_planner:IDMPlanner could not find valid path to the target roadblock. Using longest route found instead\n"
     ]
    },
    {
     "name": "stdout",
     "output_type": "stream",
     "text": [
      "2024-03-20 08:54:33,947 INFO {/home/ehdykhne/nuplan-devkit/nuplan/planning/utils/multithreading/worker_ray.py:78}  Starting ray local!\n"
     ]
    },
    {
     "name": "stderr",
     "output_type": "stream",
     "text": [
      "2024-03-20 08:54:35,730\tINFO worker.py:1636 -- Started a local Ray instance.\n"
     ]
    },
    {
     "name": "stdout",
     "output_type": "stream",
     "text": [
      "2024-03-20 08:54:36,472 INFO {/home/ehdykhne/nuplan-devkit/nuplan/planning/utils/multithreading/worker_pool.py:101}  Worker: RayDistributed\n",
      "2024-03-20 08:54:36,473 INFO {/home/ehdykhne/nuplan-devkit/nuplan/planning/utils/multithreading/worker_pool.py:102}  Number of nodes: 1\n",
      "Number of CPUs per node: 32\n",
      "Number of GPUs per node: 4\n",
      "Number of threads across all nodes: 32\n",
      "2024-03-20 08:54:36,473 INFO {/home/ehdykhne/nuplan-devkit/nuplan/planning/script/builders/worker_pool_builder.py:27}  Building WorkerPool...DONE!\n",
      "2024-03-20 08:54:36,473 INFO {/home/ehdykhne/nuplan-devkit/nuplan/planning/script/builders/folder_builder.py:32}  Building experiment folders...\n",
      "2024-03-20 08:54:36,473 INFO {/home/ehdykhne/nuplan-devkit/nuplan/planning/script/builders/folder_builder.py:35}  \n",
      "\n",
      "\tFolder where all results are stored: ../../data/nuplan/exp/exp/simulation/closed_loop_multiagent/2024.03.20.08.54.30\n",
      "\n",
      "2024-03-20 08:54:36,475 INFO {/home/ehdykhne/nuplan-devkit/nuplan/planning/script/builders/folder_builder.py:70}  Building experiment folders...DONE!\n",
      "2024-03-20 08:54:36,475 INFO {/home/ehdykhne/nuplan-devkit/nuplan/planning/script/builders/simulation_callback_builder.py:52}  Building AbstractCallback...\n",
      "2024-03-20 08:54:36,475 INFO {/home/ehdykhne/nuplan-devkit/nuplan/planning/script/builders/simulation_callback_builder.py:68}  Building AbstractCallback: 0...DONE!\n",
      "2024-03-20 08:54:36,475 INFO {/home/ehdykhne/nuplan-devkit/nuplan/planning/script/builders/simulation_builder.py:56}  Building simulations...\n",
      "2024-03-20 08:54:36,475 INFO {/home/ehdykhne/nuplan-devkit/nuplan/planning/script/builders/simulation_builder.py:62}  Extracting scenarios...\n",
      "2024-03-20 08:54:36,475 INFO {/home/ehdykhne/nuplan-devkit/nuplan/common/utils/distributed_scenario_filter.py:83}  Building Scenarios in mode DistributedMode.SINGLE_NODE\n",
      "2024-03-20 08:54:36,476 INFO {/home/ehdykhne/nuplan-devkit/nuplan/planning/script/builders/scenario_building_builder.py:18}  Building AbstractScenarioBuilder...\n",
      "2024-03-20 08:54:36,494 INFO {/home/ehdykhne/nuplan-devkit/nuplan/planning/script/builders/scenario_building_builder.py:21}  Building AbstractScenarioBuilder...DONE!\n",
      "2024-03-20 08:54:36,494 INFO {/home/ehdykhne/nuplan-devkit/nuplan/planning/script/builders/scenario_filter_builder.py:35}  Building ScenarioFilter...\n",
      "2024-03-20 08:54:36,496 INFO {/home/ehdykhne/nuplan-devkit/nuplan/planning/script/builders/scenario_filter_builder.py:44}  Building ScenarioFilter...DONE!\n"
     ]
    },
    {
     "name": "stderr",
     "output_type": "stream",
     "text": [
      "Ray objects: 100%|██████████| 32/32 [00:08<00:00,  3.97it/s]\n",
      "\u001b[2m\u001b[33m(raylet)\u001b[0m [2024-03-20 08:54:45,693 E 835302 835314] (raylet) file_system_monitor.cc:111: /tmp/ray/session_2024-03-20_08-54-33_984305_833465 is over 95% full, available space: 435211005952; capacity: 16125711347712. Object creation will fail if spilling is required.\n"
     ]
    },
    {
     "name": "stdout",
     "output_type": "stream",
     "text": [
      "2024-03-20 08:54:46,310 INFO {/home/ehdykhne/nuplan-devkit/nuplan/planning/script/builders/simulation_builder.py:83}  Building metric engines...\n",
      "2024-03-20 08:54:46,438 INFO {/home/ehdykhne/nuplan-devkit/nuplan/planning/script/builders/simulation_builder.py:85}  Building metric engines...DONE\n",
      "2024-03-20 08:54:46,438 INFO {/home/ehdykhne/nuplan-devkit/nuplan/planning/script/builders/simulation_builder.py:89}  Building simulations from 76 scenarios...\n",
      "2024-03-20 08:54:47,348 INFO {/home/ehdykhne/nuplan-devkit/nuplan/planning/script/builders/simulation_builder.py:151}  Modyfing Scenarios...\n",
      "[\n",
      "\t'8b80aa05d88b518b'\n",
      "]\n",
      "2024-03-20 08:54:47,351 INFO {/home/ehdykhne/nuplan-devkit/nuplan/planning/script/builders/simulation_builder.py:203}  Created 2 modified scenarios from 76 scenarios, 1 of which were modifiable.\n",
      "2024-03-20 08:54:47,351 INFO {/home/ehdykhne/nuplan-devkit/nuplan/planning/script/builders/simulation_builder.py:204}  Building simulations...DONE!\n",
      "2024-03-20 08:54:47,354 INFO {/home/ehdykhne/nuplan-devkit/nuplan/planning/script/run_simulation.py:113}  Running simulation...\n",
      "2024-03-20 08:54:47,354 INFO {/home/ehdykhne/nuplan-devkit/nuplan/planning/script/utils.py:138}  Executing runners...\n",
      "2024-03-20 08:54:47,354 INFO {/home/ehdykhne/nuplan-devkit/nuplan/planning/simulation/runner/executor.py:82}  Starting 2 simulations using RayDistributed!\n"
     ]
    },
    {
     "name": "stderr",
     "output_type": "stream",
     "text": [
      "Ray objects:   0%|          | 0/2 [00:00<?, ?it/s]\u001b[2m\u001b[36m(wrapped_fn pid=835404)\u001b[0m WARNING:nuplan.planning.simulation.planner.idm_planner:IDMPlanner could not find valid path to the target roadblock. Using longest route found instead\n",
      "\u001b[2m\u001b[33m(raylet)\u001b[0m [2024-03-20 08:54:55,698 E 835302 835314] (raylet) file_system_monitor.cc:111: /tmp/ray/session_2024-03-20_08-54-33_984305_833465 is over 95% full, available space: 435210956800; capacity: 16125711347712. Object creation will fail if spilling is required.\n",
      "\u001b[2m\u001b[33m(raylet)\u001b[0m [2024-03-20 08:55:05,702 E 835302 835314] (raylet) file_system_monitor.cc:111: /tmp/ray/session_2024-03-20_08-54-33_984305_833465 is over 95% full, available space: 435210956800; capacity: 16125711347712. Object creation will fail if spilling is required.\n",
      "\u001b[2m\u001b[33m(raylet)\u001b[0m [2024-03-20 08:55:15,707 E 835302 835314] (raylet) file_system_monitor.cc:111: /tmp/ray/session_2024-03-20_08-54-33_984305_833465 is over 95% full, available space: 435210952704; capacity: 16125711347712. Object creation will fail if spilling is required.\n",
      "\u001b[2m\u001b[33m(raylet)\u001b[0m [2024-03-20 08:55:25,711 E 835302 835314] (raylet) file_system_monitor.cc:111: /tmp/ray/session_2024-03-20_08-54-33_984305_833465 is over 95% full, available space: 435210952704; capacity: 16125711347712. Object creation will fail if spilling is required.\n",
      "\u001b[2m\u001b[33m(raylet)\u001b[0m [2024-03-20 08:55:35,716 E 835302 835314] (raylet) file_system_monitor.cc:111: /tmp/ray/session_2024-03-20_08-54-33_984305_833465 is over 95% full, available space: 435210928128; capacity: 16125711347712. Object creation will fail if spilling is required.\n",
      "Ray objects: 100%|██████████| 2/2 [00:55<00:00, 27.90s/it]\n"
     ]
    },
    {
     "name": "stdout",
     "output_type": "stream",
     "text": [
      "2024-03-20 08:55:43,165 INFO {/home/ehdykhne/nuplan-devkit/nuplan/planning/simulation/runner/executor.py:129}  Number of successful simulations: 2\n",
      "2024-03-20 08:55:43,166 INFO {/home/ehdykhne/nuplan-devkit/nuplan/planning/simulation/runner/executor.py:130}  Number of failed simulations: 0\n",
      "2024-03-20 08:55:43,166 INFO {/home/ehdykhne/nuplan-devkit/nuplan/planning/script/utils.py:147}  Finished executing runners!\n",
      "2024-03-20 08:55:43,169 INFO {/home/ehdykhne/nuplan-devkit/nuplan/planning/script/utils.py:74}  Saved runner reports to ../../data/nuplan/exp/exp/simulation/closed_loop_multiagent/2024.03.20.08.54.30/runner_report.parquet\n",
      "2024-03-20 08:55:43,169 INFO {/home/ehdykhne/nuplan-devkit/nuplan/planning/simulation/main_callback/time_callback.py:27}  Simulation duration: 00:01:12 [HH:MM:SS]\n",
      "2024-03-20 08:55:43,247 INFO {/home/ehdykhne/nuplan-devkit/nuplan/planning/simulation/main_callback/metric_file_callback.py:79}  Metric files integration: 00:00:00 [HH:MM:SS]\n",
      "2024-03-20 08:55:43,300 INFO {/home/ehdykhne/nuplan-devkit/nuplan/planning/simulation/main_callback/metric_aggregator_callback.py:58}  Running metric aggregator: closed_loop_multiagent_weighted_average\n",
      "2024-03-20 08:55:43,311 INFO {/home/ehdykhne/nuplan-devkit/nuplan/planning/simulation/main_callback/metric_aggregator_callback.py:69}  Metric aggregator: 00:00:00 [HH:MM:SS]\n",
      "2024-03-20 08:55:43,408 INFO {/home/ehdykhne/nuplan-devkit/nuplan/planning/simulation/main_callback/metric_summary_callback.py:344}  Metric summary: 00:00:00 [HH:MM:SS]\n",
      "2024-03-20 08:55:43,409 INFO {/home/ehdykhne/nuplan-devkit/nuplan/planning/script/run_simulation.py:115}  Finished running simulation!\n"
     ]
    }
   ],
   "source": [
    "main_simulation(cfg_unocc)"
   ]
  },
  {
   "cell_type": "markdown",
   "id": "c81f0d3a",
   "metadata": {},
   "source": [
    "## Prepare the nuBoard config"
   ]
  },
  {
   "cell_type": "code",
   "execution_count": null,
   "id": "34176ce5",
   "metadata": {},
   "outputs": [],
   "source": [
    "# output_folder_alt = []\n",
    "# output_folder_alt.append(\n",
    "#     \"../../data/nuplan/exp/exp/simulation/closed_loop_reactive_agents/2023.12.09.21.59.48\"\n",
    "# )\n",
    "# output_folder_alt.append(\n",
    "#     \"../../data/nuplan/exp/exp/simulation/closed_loop_reactive_agents/2023.12.09.23.21.13\"\n",
    "# )\n",
    "# output_folder_alt.append(\n",
    "#     \"../../data/nuplan/exp/exp/simulation/closed_loop_nonreactive_agents/2023.12.10.07.32.41\"\n",
    "# )\n",
    "# output_folder_alt.append(\n",
    "#     \"../../data/nuplan/exp/exp/simulation/closed_loop_nonreactive_agents/2023.12.10.08.29.23\"\n",
    "# )\n",
    "# output_folder_alt.append(\n",
    "#     \"../../data/nuplan/exp/exp/simulation/closed_loop_reactive_agents/2023.12.11.00.41.30\"\n",
    "# )\n",
    "# output_folder_alt.append(\n",
    "#     \"../../data/nuplan/exp/exp/simulation/closed_loop_reactive_agents/2023.12.10.09.31.44\"\n",
    "# )\n",
    "# output_folder_alt.append(\n",
    "#     \"../../data/nuplan/exp/exp/simulation/closed_loop_reactive_agents/2023.12.13.12.21.28\"\n",
    "# )\n",
    "# output_folder_alt.append(\n",
    "#     \"../../data/nuplan/exp/exp/simulation/closed_loop_reactive_agents/2023.12.13.13.07.48\"\n",
    "# )"
   ]
  },
  {
   "cell_type": "code",
   "execution_count": null,
   "id": "b8fc89e1",
   "metadata": {},
   "outputs": [
    {
     "name": "stdout",
     "output_type": "stream",
     "text": [
      "../../data/nuplan/exp/exp/simulation/closed_loop_multiagent/2024.03.20.08.52.06\n",
      "../../data/nuplan/exp/exp/simulation/closed_loop_multiagent/2024.03.20.08.54.30\n"
     ]
    }
   ],
   "source": [
    "# scenario_builder = \"val\"  # [nuplan (uses trainval), nuplan_mini, test, val, train_boston, train_pittsburgh, train_singapore]\n",
    "# output_folder_occ = \"../../data/nuplan/exp/exp/simulation/closed_loop_multiagent/2024.02.28.20.06.45\"\n",
    "# output_folder_unocc = \"../../data/nuplan/exp/exp/simulation/closed_loop_multiagent/2024.02.28.20.55.22\"\n",
    "# output_folder_occ = (\n",
    "#     \"../../data/nuplan/exp/exp/simulation/closed_loop_multiagent/2024.03.05.19.32.17\"\n",
    "# )\n",
    "# output_folder_unocc = (\n",
    "#     \"../../data/nuplan/exp/exp/simulation/closed_loop_multiagent/2024.03.05.20.12.11\"\n",
    "# )\n",
    "\n",
    "output_folder = [output_folder_occ, output_folder_unocc]\n",
    "print(output_folder_occ)\n",
    "print(output_folder_unocc)\n",
    "\n",
    "CONFIG_PATH = \"../nuplan/planning/script/config/nuboard\"\n",
    "CONFIG_NAME = \"default_nuboard\"\n",
    "\n",
    "# Initialize configuration management system\n",
    "hydra.core.global_hydra.GlobalHydra.instance().clear()  # reinitialize hydra if already initialized\n",
    "hydra.initialize(config_path=CONFIG_PATH)\n",
    "\n",
    "# Compose the configuration\n",
    "cfg = hydra.compose(\n",
    "    config_name=CONFIG_NAME,\n",
    "    overrides=[\n",
    "        f\"scenario_builder={scenario_builder}\",  # set the database (same as simulation) used to fetch data for visualization\n",
    "        f\"simulation_path={output_folder}\",  # [output_folder, output_folder_alt] nuboard file path(s), if left empty the user can open the file inside nuBoard\n",
    "    ],\n",
    ")"
   ]
  },
  {
   "cell_type": "markdown",
   "id": "cf22057a",
   "metadata": {},
   "source": [
    "## Launch nuBoard (open in new tab - recommended)\n"
   ]
  },
  {
   "cell_type": "code",
   "execution_count": null,
   "id": "eea5a24e",
   "metadata": {},
   "outputs": [
    {
     "name": "stdout",
     "output_type": "stream",
     "text": [
      "2024-03-20 08:55:43,634 INFO {/home/ehdykhne/nuplan-devkit/nuplan/planning/script/builders/scenario_building_builder.py:18}  Building AbstractScenarioBuilder...\n",
      "2024-03-20 08:55:43,651 INFO {/home/ehdykhne/nuplan-devkit/nuplan/planning/script/builders/scenario_building_builder.py:21}  Building AbstractScenarioBuilder...DONE!\n",
      "2024-03-20 08:55:43,652 INFO {/home/ehdykhne/nuplan-devkit/nuplan/planning/nuboard/nuboard.py:84}  Opening Bokeh application on http://localhost:5006/\n",
      "2024-03-20 08:55:43,652 INFO {/home/ehdykhne/nuplan-devkit/nuplan/planning/nuboard/nuboard.py:85}  Async rendering is set to: True\n",
      "2024-03-20 08:55:43,652 INFO {/home/ehdykhne/miniconda3/envs/nuplan/lib/python3.9/site-packages/bokeh/server/server.py:403}  Starting Bokeh server version 2.4.3 (running on Tornado 6.3.3)\n",
      "2024-03-20 08:55:43,653 WARNING {/home/ehdykhne/miniconda3/envs/nuplan/lib/python3.9/site-packages/bokeh/server/util.py:145}  Host wildcard '*' will allow connections originating from multiple (or possibly all) hostnames or IPs. Use non-wildcard values to restrict access explicitly\n",
      "2024-03-20 08:55:43,653 INFO {/home/ehdykhne/miniconda3/envs/nuplan/lib/python3.9/site-packages/bokeh/server/tornado.py:360}  User authentication hooks NOT provided (default user enabled)\n"
     ]
    },
    {
     "name": "stderr",
     "output_type": "stream",
     "text": [
      "\u001b[2m\u001b[33m(raylet)\u001b[0m [2024-03-20 08:55:45,720 E 835302 835314] (raylet) file_system_monitor.cc:111: /tmp/ray/session_2024-03-20_08-54-33_984305_833465 is over 95% full, available space: 435176558592; capacity: 16125711347712. Object creation will fail if spilling is required.\n"
     ]
    },
    {
     "name": "stdout",
     "output_type": "stream",
     "text": [
      "2024-03-20 08:55:51,863 INFO {/home/ehdykhne/nuplan-devkit/nuplan/planning/nuboard/base/simulation_tile.py:172}  Minimum frame time=0.017 s\n",
      "2024-03-20 08:55:51,870 INFO {/home/ehdykhne/nuplan-devkit/nuplan/planning/nuboard/tabs/scenario_tab.py:485}  Rending scenario plot takes 0.0005 seconds.\n",
      "2024-03-20 08:55:51,970 INFO {/home/ehdykhne/miniconda3/envs/nuplan/lib/python3.9/site-packages/tornado/web.py:2344}  200 GET / (10.40.118.167) 342.44ms\n"
     ]
    },
    {
     "name": "stderr",
     "output_type": "stream",
     "text": [
      "INFO:tornado.access:200 GET / (10.40.118.167) 342.44ms\n",
      "INFO:tornado.access:101 GET /ws (10.40.118.167) 0.49ms\n"
     ]
    },
    {
     "name": "stdout",
     "output_type": "stream",
     "text": [
      "2024-03-20 08:55:52,330 INFO {/home/ehdykhne/miniconda3/envs/nuplan/lib/python3.9/site-packages/tornado/web.py:2344}  101 GET /ws (10.40.118.167) 0.49ms\n",
      "2024-03-20 08:55:52,330 INFO {/home/ehdykhne/miniconda3/envs/nuplan/lib/python3.9/site-packages/bokeh/server/views/ws.py:132}  WebSocket connection opened\n",
      "2024-03-20 08:55:52,330 INFO {/home/ehdykhne/miniconda3/envs/nuplan/lib/python3.9/site-packages/bokeh/server/views/ws.py:213}  ServerConnection created\n",
      "2024-03-20 08:55:53,197 INFO {/home/ehdykhne/nuplan-devkit/nuplan/planning/nuboard/base/simulation_tile.py:172}  Minimum frame time=0.017 s\n",
      "2024-03-20 08:55:53,203 INFO {/home/ehdykhne/nuplan-devkit/nuplan/planning/nuboard/tabs/scenario_tab.py:485}  Rending scenario plot takes 0.0005 seconds.\n",
      "2024-03-20 08:55:53,302 INFO {/home/ehdykhne/miniconda3/envs/nuplan/lib/python3.9/site-packages/tornado/web.py:2344}  200 GET / (10.40.118.167) 331.15ms\n"
     ]
    },
    {
     "name": "stderr",
     "output_type": "stream",
     "text": [
      "INFO:tornado.access:200 GET / (10.40.118.167) 331.15ms\n",
      "\u001b[2m\u001b[33m(raylet)\u001b[0m [2024-03-20 08:55:55,725 E 835302 835314] (raylet) file_system_monitor.cc:111: /tmp/ray/session_2024-03-20_08-54-33_984305_833465 is over 95% full, available space: 435176554496; capacity: 16125711347712. Object creation will fail if spilling is required.\n",
      "Rendering a scenario: 100%|██████████| 2/2 [00:00<00:00,  5.78it/s]\n",
      "\u001b[2m\u001b[33m(raylet)\u001b[0m [2024-03-20 08:56:05,730 E 835302 835314] (raylet) file_system_monitor.cc:111: /tmp/ray/session_2024-03-20_08-54-33_984305_833465 is over 95% full, available space: 435176554496; capacity: 16125711347712. Object creation will fail if spilling is required.\n"
     ]
    },
    {
     "name": "stdout",
     "output_type": "stream",
     "text": [
      "2024-03-20 08:56:06,842 INFO {/home/ehdykhne/nuplan-devkit/nuplan/planning/nuboard/tabs/scenario_tab.py:485}  Rending scenario plot takes 7.1731 seconds.\n"
     ]
    },
    {
     "name": "stderr",
     "output_type": "stream",
     "text": [
      "\u001b[2m\u001b[33m(raylet)\u001b[0m [2024-03-20 08:56:15,734 E 835302 835314] (raylet) file_system_monitor.cc:111: /tmp/ray/session_2024-03-20_08-54-33_984305_833465 is over 95% full, available space: 435176546304; capacity: 16125711347712. Object creation will fail if spilling is required.\n",
      "\u001b[2m\u001b[33m(raylet)\u001b[0m [2024-03-20 08:56:25,739 E 835302 835314] (raylet) file_system_monitor.cc:111: /tmp/ray/session_2024-03-20_08-54-33_984305_833465 is over 95% full, available space: 435176542208; capacity: 16125711347712. Object creation will fail if spilling is required.\n",
      "\u001b[2m\u001b[33m(raylet)\u001b[0m [2024-03-20 08:56:35,744 E 835302 835314] (raylet) file_system_monitor.cc:111: /tmp/ray/session_2024-03-20_08-54-33_984305_833465 is over 95% full, available space: 435176513536; capacity: 16125711347712. Object creation will fail if spilling is required.\n",
      "\u001b[2m\u001b[33m(raylet)\u001b[0m [2024-03-20 08:56:45,748 E 835302 835314] (raylet) file_system_monitor.cc:111: /tmp/ray/session_2024-03-20_08-54-33_984305_833465 is over 95% full, available space: 435176505344; capacity: 16125711347712. Object creation will fail if spilling is required.\n",
      "\u001b[2m\u001b[33m(raylet)\u001b[0m [2024-03-20 08:56:55,754 E 835302 835314] (raylet) file_system_monitor.cc:111: /tmp/ray/session_2024-03-20_08-54-33_984305_833465 is over 95% full, available space: 435176521728; capacity: 16125711347712. Object creation will fail if spilling is required.\n",
      "\u001b[2m\u001b[33m(raylet)\u001b[0m [2024-03-20 08:57:05,759 E 835302 835314] (raylet) file_system_monitor.cc:111: /tmp/ray/session_2024-03-20_08-54-33_984305_833465 is over 95% full, available space: 435176517632; capacity: 16125711347712. Object creation will fail if spilling is required.\n",
      "\u001b[2m\u001b[33m(raylet)\u001b[0m [2024-03-20 08:57:15,765 E 835302 835314] (raylet) file_system_monitor.cc:111: /tmp/ray/session_2024-03-20_08-54-33_984305_833465 is over 95% full, available space: 435176517632; capacity: 16125711347712. Object creation will fail if spilling is required.\n",
      "\u001b[2m\u001b[33m(raylet)\u001b[0m [2024-03-20 08:57:25,770 E 835302 835314] (raylet) file_system_monitor.cc:111: /tmp/ray/session_2024-03-20_08-54-33_984305_833465 is over 95% full, available space: 435154898944; capacity: 16125711347712. Object creation will fail if spilling is required.\n",
      "\u001b[2m\u001b[33m(raylet)\u001b[0m [2024-03-20 08:57:35,775 E 835302 835314] (raylet) file_system_monitor.cc:111: /tmp/ray/session_2024-03-20_08-54-33_984305_833465 is over 95% full, available space: 435154874368; capacity: 16125711347712. Object creation will fail if spilling is required.\n",
      "\u001b[2m\u001b[33m(raylet)\u001b[0m [2024-03-20 08:57:45,780 E 835302 835314] (raylet) file_system_monitor.cc:111: /tmp/ray/session_2024-03-20_08-54-33_984305_833465 is over 95% full, available space: 435154735104; capacity: 16125711347712. Object creation will fail if spilling is required.\n",
      "\u001b[2m\u001b[33m(raylet)\u001b[0m [2024-03-20 08:57:55,785 E 835302 835314] (raylet) file_system_monitor.cc:111: /tmp/ray/session_2024-03-20_08-54-33_984305_833465 is over 95% full, available space: 435154726912; capacity: 16125711347712. Object creation will fail if spilling is required.\n",
      "\u001b[2m\u001b[33m(raylet)\u001b[0m [2024-03-20 08:58:05,790 E 835302 835314] (raylet) file_system_monitor.cc:111: /tmp/ray/session_2024-03-20_08-54-33_984305_833465 is over 95% full, available space: 435154726912; capacity: 16125711347712. Object creation will fail if spilling is required.\n",
      "\u001b[2m\u001b[33m(raylet)\u001b[0m [2024-03-20 08:58:15,794 E 835302 835314] (raylet) file_system_monitor.cc:111: /tmp/ray/session_2024-03-20_08-54-33_984305_833465 is over 95% full, available space: 435154726912; capacity: 16125711347712. Object creation will fail if spilling is required.\n",
      "\u001b[2m\u001b[33m(raylet)\u001b[0m [2024-03-20 08:58:25,799 E 835302 835314] (raylet) file_system_monitor.cc:111: /tmp/ray/session_2024-03-20_08-54-33_984305_833465 is over 95% full, available space: 435154722816; capacity: 16125711347712. Object creation will fail if spilling is required.\n",
      "\u001b[2m\u001b[33m(raylet)\u001b[0m [2024-03-20 08:58:35,803 E 835302 835314] (raylet) file_system_monitor.cc:111: /tmp/ray/session_2024-03-20_08-54-33_984305_833465 is over 95% full, available space: 435154694144; capacity: 16125711347712. Object creation will fail if spilling is required.\n",
      "\u001b[2m\u001b[33m(raylet)\u001b[0m [2024-03-20 08:58:45,808 E 835302 835314] (raylet) file_system_monitor.cc:111: /tmp/ray/session_2024-03-20_08-54-33_984305_833465 is over 95% full, available space: 435154690048; capacity: 16125711347712. Object creation will fail if spilling is required.\n",
      "\u001b[2m\u001b[33m(raylet)\u001b[0m [2024-03-20 08:58:55,813 E 835302 835314] (raylet) file_system_monitor.cc:111: /tmp/ray/session_2024-03-20_08-54-33_984305_833465 is over 95% full, available space: 435154685952; capacity: 16125711347712. Object creation will fail if spilling is required.\n",
      "\u001b[2m\u001b[33m(raylet)\u001b[0m [2024-03-20 08:59:05,818 E 835302 835314] (raylet) file_system_monitor.cc:111: /tmp/ray/session_2024-03-20_08-54-33_984305_833465 is over 95% full, available space: 435154685952; capacity: 16125711347712. Object creation will fail if spilling is required.\n",
      "\u001b[2m\u001b[33m(raylet)\u001b[0m [2024-03-20 08:59:15,824 E 835302 835314] (raylet) file_system_monitor.cc:111: /tmp/ray/session_2024-03-20_08-54-33_984305_833465 is over 95% full, available space: 435154685952; capacity: 16125711347712. Object creation will fail if spilling is required.\n",
      "\u001b[2m\u001b[33m(raylet)\u001b[0m [2024-03-20 08:59:25,829 E 835302 835314] (raylet) file_system_monitor.cc:111: /tmp/ray/session_2024-03-20_08-54-33_984305_833465 is over 95% full, available space: 435154677760; capacity: 16125711347712. Object creation will fail if spilling is required.\n",
      "\u001b[2m\u001b[33m(raylet)\u001b[0m [2024-03-20 08:59:35,835 E 835302 835314] (raylet) file_system_monitor.cc:111: /tmp/ray/session_2024-03-20_08-54-33_984305_833465 is over 95% full, available space: 435154649088; capacity: 16125711347712. Object creation will fail if spilling is required.\n",
      "\u001b[2m\u001b[33m(raylet)\u001b[0m [2024-03-20 08:59:45,840 E 835302 835314] (raylet) file_system_monitor.cc:111: /tmp/ray/session_2024-03-20_08-54-33_984305_833465 is over 95% full, available space: 435154513920; capacity: 16125711347712. Object creation will fail if spilling is required.\n",
      "\u001b[2m\u001b[33m(raylet)\u001b[0m [2024-03-20 08:59:55,845 E 835302 835314] (raylet) file_system_monitor.cc:111: /tmp/ray/session_2024-03-20_08-54-33_984305_833465 is over 95% full, available space: 435154513920; capacity: 16125711347712. Object creation will fail if spilling is required.\n",
      "\u001b[2m\u001b[33m(raylet)\u001b[0m [2024-03-20 09:00:05,851 E 835302 835314] (raylet) file_system_monitor.cc:111: /tmp/ray/session_2024-03-20_08-54-33_984305_833465 is over 95% full, available space: 435154509824; capacity: 16125711347712. Object creation will fail if spilling is required.\n",
      "\u001b[2m\u001b[33m(raylet)\u001b[0m [2024-03-20 09:00:15,856 E 835302 835314] (raylet) file_system_monitor.cc:111: /tmp/ray/session_2024-03-20_08-54-33_984305_833465 is over 95% full, available space: 435154522112; capacity: 16125711347712. Object creation will fail if spilling is required.\n",
      "\u001b[2m\u001b[33m(raylet)\u001b[0m [2024-03-20 09:00:25,862 E 835302 835314] (raylet) file_system_monitor.cc:111: /tmp/ray/session_2024-03-20_08-54-33_984305_833465 is over 95% full, available space: 435154522112; capacity: 16125711347712. Object creation will fail if spilling is required.\n",
      "\u001b[2m\u001b[33m(raylet)\u001b[0m [2024-03-20 09:00:35,867 E 835302 835314] (raylet) file_system_monitor.cc:111: /tmp/ray/session_2024-03-20_08-54-33_984305_833465 is over 95% full, available space: 435154497536; capacity: 16125711347712. Object creation will fail if spilling is required.\n",
      "\u001b[2m\u001b[33m(raylet)\u001b[0m [2024-03-20 09:00:45,872 E 835302 835314] (raylet) file_system_monitor.cc:111: /tmp/ray/session_2024-03-20_08-54-33_984305_833465 is over 95% full, available space: 435132870656; capacity: 16125711347712. Object creation will fail if spilling is required.\n",
      "\u001b[2m\u001b[33m(raylet)\u001b[0m [2024-03-20 09:00:55,877 E 835302 835314] (raylet) file_system_monitor.cc:111: /tmp/ray/session_2024-03-20_08-54-33_984305_833465 is over 95% full, available space: 435132862464; capacity: 16125711347712. Object creation will fail if spilling is required.\n",
      "\u001b[2m\u001b[33m(raylet)\u001b[0m [2024-03-20 09:01:05,881 E 835302 835314] (raylet) file_system_monitor.cc:111: /tmp/ray/session_2024-03-20_08-54-33_984305_833465 is over 95% full, available space: 435132858368; capacity: 16125711347712. Object creation will fail if spilling is required.\n",
      "\u001b[2m\u001b[33m(raylet)\u001b[0m [2024-03-20 09:01:15,886 E 835302 835314] (raylet) file_system_monitor.cc:111: /tmp/ray/session_2024-03-20_08-54-33_984305_833465 is over 95% full, available space: 435132858368; capacity: 16125711347712. Object creation will fail if spilling is required.\n",
      "\u001b[2m\u001b[33m(raylet)\u001b[0m [2024-03-20 09:01:25,890 E 835302 835314] (raylet) file_system_monitor.cc:111: /tmp/ray/session_2024-03-20_08-54-33_984305_833465 is over 95% full, available space: 435132854272; capacity: 16125711347712. Object creation will fail if spilling is required.\n",
      "\u001b[2m\u001b[33m(raylet)\u001b[0m [2024-03-20 09:01:35,895 E 835302 835314] (raylet) file_system_monitor.cc:111: /tmp/ray/session_2024-03-20_08-54-33_984305_833465 is over 95% full, available space: 435132825600; capacity: 16125711347712. Object creation will fail if spilling is required.\n",
      "\u001b[2m\u001b[33m(raylet)\u001b[0m [2024-03-20 09:01:45,900 E 835302 835314] (raylet) file_system_monitor.cc:111: /tmp/ray/session_2024-03-20_08-54-33_984305_833465 is over 95% full, available space: 435132559360; capacity: 16125711347712. Object creation will fail if spilling is required.\n",
      "\u001b[2m\u001b[33m(raylet)\u001b[0m [2024-03-20 09:01:55,904 E 835302 835314] (raylet) file_system_monitor.cc:111: /tmp/ray/session_2024-03-20_08-54-33_984305_833465 is over 95% full, available space: 435132559360; capacity: 16125711347712. Object creation will fail if spilling is required.\n",
      "\u001b[2m\u001b[33m(raylet)\u001b[0m [2024-03-20 09:02:05,909 E 835302 835314] (raylet) file_system_monitor.cc:111: /tmp/ray/session_2024-03-20_08-54-33_984305_833465 is over 95% full, available space: 435132555264; capacity: 16125711347712. Object creation will fail if spilling is required.\n",
      "\u001b[2m\u001b[33m(raylet)\u001b[0m [2024-03-20 09:02:15,914 E 835302 835314] (raylet) file_system_monitor.cc:111: /tmp/ray/session_2024-03-20_08-54-33_984305_833465 is over 95% full, available space: 435132547072; capacity: 16125711347712. Object creation will fail if spilling is required.\n",
      "\u001b[2m\u001b[33m(raylet)\u001b[0m [2024-03-20 09:02:25,918 E 835302 835314] (raylet) file_system_monitor.cc:111: /tmp/ray/session_2024-03-20_08-54-33_984305_833465 is over 95% full, available space: 435132542976; capacity: 16125711347712. Object creation will fail if spilling is required.\n",
      "\u001b[2m\u001b[33m(raylet)\u001b[0m [2024-03-20 09:02:35,923 E 835302 835314] (raylet) file_system_monitor.cc:111: /tmp/ray/session_2024-03-20_08-54-33_984305_833465 is over 95% full, available space: 435132518400; capacity: 16125711347712. Object creation will fail if spilling is required.\n",
      "\u001b[2m\u001b[33m(raylet)\u001b[0m [2024-03-20 09:02:45,929 E 835302 835314] (raylet) file_system_monitor.cc:111: /tmp/ray/session_2024-03-20_08-54-33_984305_833465 is over 95% full, available space: 435132514304; capacity: 16125711347712. Object creation will fail if spilling is required.\n",
      "\u001b[2m\u001b[33m(raylet)\u001b[0m [2024-03-20 09:02:55,934 E 835302 835314] (raylet) file_system_monitor.cc:111: /tmp/ray/session_2024-03-20_08-54-33_984305_833465 is over 95% full, available space: 435132506112; capacity: 16125711347712. Object creation will fail if spilling is required.\n",
      "\u001b[2m\u001b[33m(raylet)\u001b[0m [2024-03-20 09:03:05,939 E 835302 835314] (raylet) file_system_monitor.cc:111: /tmp/ray/session_2024-03-20_08-54-33_984305_833465 is over 95% full, available space: 435132506112; capacity: 16125711347712. Object creation will fail if spilling is required.\n",
      "\u001b[2m\u001b[33m(raylet)\u001b[0m [2024-03-20 09:03:15,945 E 835302 835314] (raylet) file_system_monitor.cc:111: /tmp/ray/session_2024-03-20_08-54-33_984305_833465 is over 95% full, available space: 435132506112; capacity: 16125711347712. Object creation will fail if spilling is required.\n",
      "\u001b[2m\u001b[33m(raylet)\u001b[0m [2024-03-20 09:03:25,950 E 835302 835314] (raylet) file_system_monitor.cc:111: /tmp/ray/session_2024-03-20_08-54-33_984305_833465 is over 95% full, available space: 435132502016; capacity: 16125711347712. Object creation will fail if spilling is required.\n",
      "\u001b[2m\u001b[33m(raylet)\u001b[0m [2024-03-20 09:03:35,955 E 835302 835314] (raylet) file_system_monitor.cc:111: /tmp/ray/session_2024-03-20_08-54-33_984305_833465 is over 95% full, available space: 435132502016; capacity: 16125711347712. Object creation will fail if spilling is required.\n",
      "\u001b[2m\u001b[33m(raylet)\u001b[0m [2024-03-20 09:03:45,960 E 835302 835314] (raylet) file_system_monitor.cc:111: /tmp/ray/session_2024-03-20_08-54-33_984305_833465 is over 95% full, available space: 435132362752; capacity: 16125711347712. Object creation will fail if spilling is required.\n",
      "\u001b[2m\u001b[33m(raylet)\u001b[0m [2024-03-20 09:03:55,965 E 835302 835314] (raylet) file_system_monitor.cc:111: /tmp/ray/session_2024-03-20_08-54-33_984305_833465 is over 95% full, available space: 435132354560; capacity: 16125711347712. Object creation will fail if spilling is required.\n",
      "\u001b[2m\u001b[33m(raylet)\u001b[0m [2024-03-20 09:04:05,970 E 835302 835314] (raylet) file_system_monitor.cc:111: /tmp/ray/session_2024-03-20_08-54-33_984305_833465 is over 95% full, available space: 435110739968; capacity: 16125711347712. Object creation will fail if spilling is required.\n",
      "\u001b[2m\u001b[33m(raylet)\u001b[0m [2024-03-20 09:04:15,976 E 835302 835314] (raylet) file_system_monitor.cc:111: /tmp/ray/session_2024-03-20_08-54-33_984305_833465 is over 95% full, available space: 435110735872; capacity: 16125711347712. Object creation will fail if spilling is required.\n",
      "\u001b[2m\u001b[33m(raylet)\u001b[0m [2024-03-20 09:04:25,981 E 835302 835314] (raylet) file_system_monitor.cc:111: /tmp/ray/session_2024-03-20_08-54-33_984305_833465 is over 95% full, available space: 435110719488; capacity: 16125711347712. Object creation will fail if spilling is required.\n",
      "\u001b[2m\u001b[33m(raylet)\u001b[0m [2024-03-20 09:04:35,986 E 835302 835314] (raylet) file_system_monitor.cc:111: /tmp/ray/session_2024-03-20_08-54-33_984305_833465 is over 95% full, available space: 435110690816; capacity: 16125711347712. Object creation will fail if spilling is required.\n",
      "\u001b[2m\u001b[33m(raylet)\u001b[0m [2024-03-20 09:04:45,991 E 835302 835314] (raylet) file_system_monitor.cc:111: /tmp/ray/session_2024-03-20_08-54-33_984305_833465 is over 95% full, available space: 435110678528; capacity: 16125711347712. Object creation will fail if spilling is required.\n",
      "\u001b[2m\u001b[33m(raylet)\u001b[0m [2024-03-20 09:04:55,996 E 835302 835314] (raylet) file_system_monitor.cc:111: /tmp/ray/session_2024-03-20_08-54-33_984305_833465 is over 95% full, available space: 435110535168; capacity: 16125711347712. Object creation will fail if spilling is required.\n",
      "\u001b[2m\u001b[33m(raylet)\u001b[0m [2024-03-20 09:05:06,002 E 835302 835314] (raylet) file_system_monitor.cc:111: /tmp/ray/session_2024-03-20_08-54-33_984305_833465 is over 95% full, available space: 435110535168; capacity: 16125711347712. Object creation will fail if spilling is required.\n"
     ]
    },
    {
     "ename": "KeyboardInterrupt",
     "evalue": "",
     "output_type": "error",
     "traceback": [
      "\u001b[0;31m---------------------------------------------------------------------------\u001b[0m",
      "\u001b[0;31mKeyboardInterrupt\u001b[0m                         Traceback (most recent call last)",
      "Cell \u001b[0;32mIn[15], line 4\u001b[0m\n\u001b[1;32m      1\u001b[0m \u001b[38;5;28;01mfrom\u001b[39;00m \u001b[38;5;21;01mnuplan\u001b[39;00m\u001b[38;5;21;01m.\u001b[39;00m\u001b[38;5;21;01mplanning\u001b[39;00m\u001b[38;5;21;01m.\u001b[39;00m\u001b[38;5;21;01mscript\u001b[39;00m\u001b[38;5;21;01m.\u001b[39;00m\u001b[38;5;21;01mrun_nuboard\u001b[39;00m \u001b[38;5;28;01mimport\u001b[39;00m main \u001b[38;5;28;01mas\u001b[39;00m main_nuboard\n\u001b[1;32m      3\u001b[0m \u001b[38;5;66;03m# Run nuBoard\u001b[39;00m\n\u001b[0;32m----> 4\u001b[0m \u001b[43mmain_nuboard\u001b[49m\u001b[43m(\u001b[49m\u001b[43mcfg\u001b[49m\u001b[43m)\u001b[49m\n",
      "File \u001b[0;32m~/miniconda3/envs/nuplan/lib/python3.9/site-packages/hydra/main.py:44\u001b[0m, in \u001b[0;36mmain.<locals>.main_decorator.<locals>.decorated_main\u001b[0;34m(cfg_passthrough)\u001b[0m\n\u001b[1;32m     41\u001b[0m \u001b[38;5;129m@functools\u001b[39m\u001b[38;5;241m.\u001b[39mwraps(task_function)\n\u001b[1;32m     42\u001b[0m \u001b[38;5;28;01mdef\u001b[39;00m \u001b[38;5;21mdecorated_main\u001b[39m(cfg_passthrough: Optional[DictConfig] \u001b[38;5;241m=\u001b[39m \u001b[38;5;28;01mNone\u001b[39;00m) \u001b[38;5;241m-\u001b[39m\u001b[38;5;241m>\u001b[39m Any:\n\u001b[1;32m     43\u001b[0m     \u001b[38;5;28;01mif\u001b[39;00m cfg_passthrough \u001b[38;5;129;01mis\u001b[39;00m \u001b[38;5;129;01mnot\u001b[39;00m \u001b[38;5;28;01mNone\u001b[39;00m:\n\u001b[0;32m---> 44\u001b[0m         \u001b[38;5;28;01mreturn\u001b[39;00m \u001b[43mtask_function\u001b[49m\u001b[43m(\u001b[49m\u001b[43mcfg_passthrough\u001b[49m\u001b[43m)\u001b[49m\n\u001b[1;32m     45\u001b[0m     \u001b[38;5;28;01melse\u001b[39;00m:\n\u001b[1;32m     46\u001b[0m         args \u001b[38;5;241m=\u001b[39m get_args_parser()\n",
      "File \u001b[0;32m~/nuplan-devkit/nuplan/planning/script/run_nuboard.py:74\u001b[0m, in \u001b[0;36mmain\u001b[0;34m(cfg)\u001b[0m\n\u001b[1;32m     69\u001b[0m \u001b[38;5;250m\u001b[39m\u001b[38;5;124;03m\"\"\"\u001b[39;00m\n\u001b[1;32m     70\u001b[0m \u001b[38;5;124;03mExecute all available challenges simultaneously on the same scenario.\u001b[39;00m\n\u001b[1;32m     71\u001b[0m \u001b[38;5;124;03m:param cfg: DictConfig. Configuration that is used to run the experiment.\u001b[39;00m\n\u001b[1;32m     72\u001b[0m \u001b[38;5;124;03m\"\"\"\u001b[39;00m\n\u001b[1;32m     73\u001b[0m nuboard \u001b[38;5;241m=\u001b[39m initialize_nuboard(cfg)\n\u001b[0;32m---> 74\u001b[0m \u001b[43mnuboard\u001b[49m\u001b[38;5;241;43m.\u001b[39;49m\u001b[43mrun\u001b[49m\u001b[43m(\u001b[49m\u001b[43m)\u001b[49m\n",
      "File \u001b[0;32m~/nuplan-devkit/nuplan/planning/nuboard/nuboard.py:112\u001b[0m, in \u001b[0;36mNuBoard.run\u001b[0;34m(self)\u001b[0m\n\u001b[1;32m    110\u001b[0m \u001b[38;5;66;03m# Catch RuntimeError in jupyter notebook\u001b[39;00m\n\u001b[1;32m    111\u001b[0m \u001b[38;5;28;01mtry\u001b[39;00m:\n\u001b[0;32m--> 112\u001b[0m     \u001b[43mio_loop\u001b[49m\u001b[38;5;241;43m.\u001b[39;49m\u001b[43mstart\u001b[49m\u001b[43m(\u001b[49m\u001b[43m)\u001b[49m\n\u001b[1;32m    113\u001b[0m \u001b[38;5;28;01mexcept\u001b[39;00m \u001b[38;5;167;01mRuntimeError\u001b[39;00m \u001b[38;5;28;01mas\u001b[39;00m e:\n\u001b[1;32m    114\u001b[0m     logger\u001b[38;5;241m.\u001b[39mwarning(\u001b[38;5;124mf\u001b[39m\u001b[38;5;124m\"\u001b[39m\u001b[38;5;132;01m{\u001b[39;00me\u001b[38;5;132;01m}\u001b[39;00m\u001b[38;5;124m\"\u001b[39m)\n",
      "File \u001b[0;32m~/miniconda3/envs/nuplan/lib/python3.9/site-packages/tornado/platform/asyncio.py:195\u001b[0m, in \u001b[0;36mBaseAsyncIOLoop.start\u001b[0;34m(self)\u001b[0m\n\u001b[1;32m    194\u001b[0m \u001b[38;5;28;01mdef\u001b[39;00m \u001b[38;5;21mstart\u001b[39m(\u001b[38;5;28mself\u001b[39m) \u001b[38;5;241m-\u001b[39m\u001b[38;5;241m>\u001b[39m \u001b[38;5;28;01mNone\u001b[39;00m:\n\u001b[0;32m--> 195\u001b[0m     \u001b[38;5;28;43mself\u001b[39;49m\u001b[38;5;241;43m.\u001b[39;49m\u001b[43masyncio_loop\u001b[49m\u001b[38;5;241;43m.\u001b[39;49m\u001b[43mrun_forever\u001b[49m\u001b[43m(\u001b[49m\u001b[43m)\u001b[49m\n",
      "File \u001b[0;32m~/miniconda3/envs/nuplan/lib/python3.9/site-packages/nest_asyncio.py:82\u001b[0m, in \u001b[0;36m_patch_loop.<locals>.run_forever\u001b[0;34m(self)\u001b[0m\n\u001b[1;32m     80\u001b[0m \u001b[38;5;28;01mwith\u001b[39;00m manage_run(\u001b[38;5;28mself\u001b[39m), manage_asyncgens(\u001b[38;5;28mself\u001b[39m):\n\u001b[1;32m     81\u001b[0m     \u001b[38;5;28;01mwhile\u001b[39;00m \u001b[38;5;28;01mTrue\u001b[39;00m:\n\u001b[0;32m---> 82\u001b[0m         \u001b[38;5;28;43mself\u001b[39;49m\u001b[38;5;241;43m.\u001b[39;49m\u001b[43m_run_once\u001b[49m\u001b[43m(\u001b[49m\u001b[43m)\u001b[49m\n\u001b[1;32m     83\u001b[0m         \u001b[38;5;28;01mif\u001b[39;00m \u001b[38;5;28mself\u001b[39m\u001b[38;5;241m.\u001b[39m_stopping:\n\u001b[1;32m     84\u001b[0m             \u001b[38;5;28;01mbreak\u001b[39;00m\n",
      "File \u001b[0;32m~/miniconda3/envs/nuplan/lib/python3.9/site-packages/nest_asyncio.py:116\u001b[0m, in \u001b[0;36m_patch_loop.<locals>._run_once\u001b[0;34m(self)\u001b[0m\n\u001b[1;32m    109\u001b[0m     heappop(scheduled)\n\u001b[1;32m    111\u001b[0m timeout \u001b[38;5;241m=\u001b[39m (\n\u001b[1;32m    112\u001b[0m     \u001b[38;5;241m0\u001b[39m \u001b[38;5;28;01mif\u001b[39;00m ready \u001b[38;5;129;01mor\u001b[39;00m \u001b[38;5;28mself\u001b[39m\u001b[38;5;241m.\u001b[39m_stopping\n\u001b[1;32m    113\u001b[0m     \u001b[38;5;28;01melse\u001b[39;00m \u001b[38;5;28mmin\u001b[39m(\u001b[38;5;28mmax\u001b[39m(\n\u001b[1;32m    114\u001b[0m         scheduled[\u001b[38;5;241m0\u001b[39m]\u001b[38;5;241m.\u001b[39m_when \u001b[38;5;241m-\u001b[39m \u001b[38;5;28mself\u001b[39m\u001b[38;5;241m.\u001b[39mtime(), \u001b[38;5;241m0\u001b[39m), \u001b[38;5;241m86400\u001b[39m) \u001b[38;5;28;01mif\u001b[39;00m scheduled\n\u001b[1;32m    115\u001b[0m     \u001b[38;5;28;01melse\u001b[39;00m \u001b[38;5;28;01mNone\u001b[39;00m)\n\u001b[0;32m--> 116\u001b[0m event_list \u001b[38;5;241m=\u001b[39m \u001b[38;5;28;43mself\u001b[39;49m\u001b[38;5;241;43m.\u001b[39;49m\u001b[43m_selector\u001b[49m\u001b[38;5;241;43m.\u001b[39;49m\u001b[43mselect\u001b[49m\u001b[43m(\u001b[49m\u001b[43mtimeout\u001b[49m\u001b[43m)\u001b[49m\n\u001b[1;32m    117\u001b[0m \u001b[38;5;28mself\u001b[39m\u001b[38;5;241m.\u001b[39m_process_events(event_list)\n\u001b[1;32m    119\u001b[0m end_time \u001b[38;5;241m=\u001b[39m \u001b[38;5;28mself\u001b[39m\u001b[38;5;241m.\u001b[39mtime() \u001b[38;5;241m+\u001b[39m \u001b[38;5;28mself\u001b[39m\u001b[38;5;241m.\u001b[39m_clock_resolution\n",
      "File \u001b[0;32m~/miniconda3/envs/nuplan/lib/python3.9/selectors.py:469\u001b[0m, in \u001b[0;36mEpollSelector.select\u001b[0;34m(self, timeout)\u001b[0m\n\u001b[1;32m    467\u001b[0m ready \u001b[38;5;241m=\u001b[39m []\n\u001b[1;32m    468\u001b[0m \u001b[38;5;28;01mtry\u001b[39;00m:\n\u001b[0;32m--> 469\u001b[0m     fd_event_list \u001b[38;5;241m=\u001b[39m \u001b[38;5;28;43mself\u001b[39;49m\u001b[38;5;241;43m.\u001b[39;49m\u001b[43m_selector\u001b[49m\u001b[38;5;241;43m.\u001b[39;49m\u001b[43mpoll\u001b[49m\u001b[43m(\u001b[49m\u001b[43mtimeout\u001b[49m\u001b[43m,\u001b[49m\u001b[43m \u001b[49m\u001b[43mmax_ev\u001b[49m\u001b[43m)\u001b[49m\n\u001b[1;32m    470\u001b[0m \u001b[38;5;28;01mexcept\u001b[39;00m \u001b[38;5;167;01mInterruptedError\u001b[39;00m:\n\u001b[1;32m    471\u001b[0m     \u001b[38;5;28;01mreturn\u001b[39;00m ready\n",
      "\u001b[0;31mKeyboardInterrupt\u001b[0m: "
     ]
    }
   ],
   "source": [
    "from nuplan.planning.script.run_nuboard import main as main_nuboard\n",
    "\n",
    "# Run nuBoard\n",
    "main_nuboard(cfg)"
   ]
  }
 ],
 "metadata": {
  "kernelspec": {
   "display_name": "Python 3 (ipykernel)",
   "language": "python",
   "name": "python3"
  },
  "language_info": {
   "codemirror_mode": {
    "name": "ipython",
    "version": 3
   },
   "file_extension": ".py",
   "mimetype": "text/x-python",
   "name": "python",
   "nbconvert_exporter": "python",
   "pygments_lexer": "ipython3",
   "version": "3.9.18"
  }
 },
 "nbformat": 4,
 "nbformat_minor": 5
}

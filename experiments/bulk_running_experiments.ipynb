{
 "cells": [
  {
   "cell_type": "code",
   "execution_count": 1,
   "id": "3e31b233",
   "metadata": {
    "scrolled": true
   },
   "outputs": [],
   "source": [
    "import asyncio\n",
    "import itertools\n",
    "import logging\n",
    "import random\n",
    "import nest_asyncio\n",
    "\n",
    "nest_asyncio.apply()  # must be run at the start of every notebook to patch the event loop to allow nesting, eg. so we can run asyncio.run from within a notebook."
   ]
  },
  {
   "cell_type": "code",
   "execution_count": 2,
   "id": "8026c8c7",
   "metadata": {},
   "outputs": [
    {
     "data": {
      "text/plain": [
       "True"
      ]
     },
     "execution_count": 2,
     "metadata": {},
     "output_type": "execute_result"
    }
   ],
   "source": [
    "import torch\n",
    "\n",
    "torch.cuda.is_available()"
   ]
  },
  {
   "cell_type": "code",
   "execution_count": 3,
   "id": "5a4f8ab4",
   "metadata": {
    "scrolled": true
   },
   "outputs": [],
   "source": [
    "import os\n",
    "from pathlib import Path\n",
    "import tempfile\n",
    "\n",
    "from shutil import rmtree\n",
    "from typing import List, Optional, Union"
   ]
  },
  {
   "cell_type": "code",
   "execution_count": 4,
   "metadata": {},
   "outputs": [
    {
     "name": "stdout",
     "output_type": "stream",
     "text": [
      "env: NUPLAN_DATA_ROOT=../../../datasets/nuplan/dataset\n",
      "env: NUPLAN_MAPS_ROOT=../../data/nuplan/maps\n",
      "env: NUPLAN_EXP_ROOT=../../data/nuplan/exp\n",
      "env: NUPLAN_DEVKIT_ROOT=../../nuplan-devkit/\n"
     ]
    },
    {
     "data": {
      "text/plain": [
       "'/home/ehdykhne/nuplan-devkit/experiments'"
      ]
     },
     "execution_count": 4,
     "metadata": {},
     "output_type": "execute_result"
    }
   ],
   "source": [
    "# Adjust your env variables here if nescesary\n",
    "\n",
    "%env NUPLAN_DATA_ROOT=../../../datasets/nuplan/dataset\n",
    "%env NUPLAN_MAPS_ROOT=../../data/nuplan/maps\n",
    "%env NUPLAN_EXP_ROOT=../../data/nuplan/exp\n",
    "%env NUPLAN_DEVKIT_ROOT=../../nuplan-devkit/\n",
    "%pwd"
   ]
  },
  {
   "cell_type": "code",
   "execution_count": 5,
   "id": "64d027e9",
   "metadata": {
    "scrolled": true
   },
   "outputs": [],
   "source": [
    "import hydra\n",
    "import pytorch_lightning as pl\n",
    "from omegaconf import DictConfig, OmegaConf\n",
    "\n",
    "from nuplan.common.utils.s3_utils import is_s3_path\n",
    "from nuplan.planning.script.builders.simulation_builder import build_simulations\n",
    "from nuplan.planning.script.builders.simulation_callback_builder import (\n",
    "    build_callbacks_worker,\n",
    "    build_simulation_callbacks,\n",
    ")\n",
    "from nuplan.planning.script.utils import (\n",
    "    run_runners,\n",
    "    set_default_path,\n",
    "    set_up_common_builder,\n",
    ")\n",
    "from nuplan.planning.simulation.planner.abstract_planner import AbstractPlanner\n",
    "\n",
    "logging.basicConfig(level=logging.INFO)\n",
    "logger = logging.getLogger(__name__)\n",
    "\n",
    "# If set, use the env. variable to overwrite the default dataset and experiment paths\n",
    "set_default_path()\n",
    "\n",
    "# If set, use the env. variable to overwrite the Hydra config\n",
    "CONFIG_PATH = os.getenv(\"NUPLAN_HYDRA_CONFIG_PATH\", \"config/simulation\")\n",
    "\n",
    "if os.environ.get(\"NUPLAN_HYDRA_CONFIG_PATH\") is not None:\n",
    "    CONFIG_PATH = os.path.join(\"../../../../\", CONFIG_PATH)\n",
    "\n",
    "if os.path.basename(CONFIG_PATH) != \"simulation\":\n",
    "    CONFIG_PATH = os.path.join(CONFIG_PATH, \"simulation\")\n",
    "CONFIG_NAME = \"default_simulation\""
   ]
  },
  {
   "cell_type": "code",
   "execution_count": 6,
   "id": "191c3970",
   "metadata": {},
   "outputs": [
    {
     "name": "stdout",
     "output_type": "stream",
     "text": [
      "['d6234553edc95d50', '98ddd7851e445b7a', '5ac5795b9b5851e8']\n",
      "['0ab737b385a5570b', '2ed3ac183d1b5f4e', '4a7dae58c4785cdc']\n"
     ]
    }
   ],
   "source": [
    "# list of selected scenario tokens\n",
    "from tokens import selected_scenario_tokens, modifiable_scenario_tokens\n",
    "print(selected_scenario_tokens[0:3])\n",
    "print(modifiable_scenario_tokens[0:3])\n",
    "\n",
    "# selected_scenario_tokens = [\n",
    "#     \"24fb63280ea056eb\",\n",
    "#     \"2bc82d1ff1cf5543\",\n",
    "#     \"4abe466d47685197\",\n",
    "#     \"9fbd33a89d455229\",\n",
    "#     \"bb96cb5ac35b5cf3\",\n",
    "#     \"e945c5019ba75111\",\n",
    "# ]\n"
   ]
  },
  {
   "cell_type": "code",
   "execution_count": 7,
   "id": "ec762c52",
   "metadata": {
    "scrolled": true
   },
   "outputs": [
    {
     "name": "stdout",
     "output_type": "stream",
     "text": [
      "default_simulation\n",
      "output_folder = \"../../data/nuplan/exp/exp/simulation/closed_loop_multiagent/2024.01.24.02.09.13\"\n"
     ]
    }
   ],
   "source": [
    "from tutorials.utils.tutorial_utils import construct_simulation_hydra_paths\n",
    "\n",
    "# Location of paths with all simulation configs\n",
    "BASE_CONFIG_PATH = os.path.join(\n",
    "    os.getenv(\"NUPLAN_TUTORIAL_PATH\", \"\"), \"../nuplan/planning/script\"\n",
    ")\n",
    "simulation_hydra_paths = construct_simulation_hydra_paths(BASE_CONFIG_PATH)\n",
    "\n",
    "# Create a temporary directory to store the simulation artifacts\n",
    "\n",
    "\n",
    "scenario_types = [\n",
    "    \"accelerating_at_traffic_light_with_lead\",\n",
    "    # \"crossed_by_bike\",\n",
    "    # \"crossed_by_vehicle\",\n",
    "    # \"on_intersection\",\n",
    "    # \"on_stopline_crosswalk\",\n",
    "    # \"on_stopline_stop_sign\",\n",
    "    # \"on_stopline_traffic_light\",\n",
    "    # \"on_traffic_light_intersection\",\n",
    "    # \"starting_protected_cross_turn\",\n",
    "    # \"starting_protected_noncross_turn\",\n",
    "    # \"starting_right_turn\",\n",
    "    \"starting_straight_stop_sign_intersection_traversal\",\n",
    "    \"starting_straight_traffic_light_intersection_traversal\",\n",
    "    # \"starting_u_turn\",\n",
    "    \"starting_unprotected_cross_turn\",\n",
    "    # \"starting_unprotected_noncross_turn\",\n",
    "    # \"stationary_at_crosswalk\",\n",
    "    \"stationary_at_traffic_light_with_lead\",\n",
    "    \"stationary_at_traffic_light_without_lead\",\n",
    "    # \"traversing_crosswalk\",\n",
    "    \"traversing_intersection\",\n",
    "    \"traversing_traffic_light_intersection\",\n",
    "]\n",
    "\n",
    "# scenario_types = ['stationary_at_traffic_light_without_lead']\n",
    "\n",
    "scenario_builder = \"val\"  # [nuplan (uses trainval), nuplan_mini, test, val, train_boston, train_pittsburgh, train_singapore]\n",
    "DATASET_PARAMS = [\n",
    "    f\"scenario_builder={scenario_builder}\",\n",
    "    \"scenario_filter=all_scenarios\",  # [all_scenarios, val14_split]\n",
    "    f\"scenario_filter.scenario_types={scenario_types}\",  # there are 70 scenario types in the trainingset and 58 in the validation set including \"unknown\" which make up the majority\n",
    "    \"scenario_filter.ego_displacement_minimum_m=10\",  # use scenarios where the ego vehicle moves at least 10m\n",
    "    #    'scenario_filter.remove_invalid_goals=true',  # remove scenarios where the goal is not invalid\n",
    "    \"scenario_filter.ego_start_speed_threshold=5\",  # Exclusive threshold that the ego's speed must rise above (meters per second) for scenario to be kept\n",
    "    #    'scenario_filter.stop_speed_threshold=10',  # Inclusive threshold that the ego's speed must fall below (meters per second) for scenario to be kept:\n",
    "    \"scenario_filter.map_names=[sg-one-north, us-ma-boston, us-pa-pittsburgh-hazelwood]\",  # select multiple [sg-one-north, us-ma-boston, us-pa-pittsburgh-hazelwood, us-nv-las-vegas-strip]\n",
    "    # \"scenario_filter.num_scenarios_per_type=1\",  # use 10 scenarios per scenario type\n",
    "    f\"scenario_filter.scenario_tokens={modifiable_scenario_tokens}\",  # List of scenarios to include (token)\n",
    "    #'scenario_filter.log_names=[\"2021.08.24.20.03.01_veh-45_01091_01622\"]',  # specific scenrios to simulate\n",
    "    #\"scenario_filter.limit_total_scenarios=0.05\",  # use n total scenarios if int, or if float smaller than 1, use n as a fraction of total scenarios (changes sampling frequency, unchanged leaves the frequency at 20Hz)\n",
    "    # turn off if you are selecting scenarios manually. turn on for initial filtering\n",
    "]\n",
    "urban_ckpt = \"/home/ehdykhne/nuplan-devkit/experiments/pretrained_checkpoints/urbandriver_checkpoint.ckpt\"\n",
    "gc_pgp_ckpt = \"/home/ehdykhne/nuplan-devkit/experiments/pretrained_checkpoints/gc_pgp_checkpoint.ckpt\"\n",
    "hybrid_ckpt = \"/home/ehdykhne/nuplan-devkit/experiments/pretrained_checkpoints/pdm_offset_checkpoint.ckpt\"\n",
    "#'/home/ehdykhne/nuplan-devkit/experiments/pretrained_checkpoints/urbandriver_checkpoint.ckpt'\n",
    "#'/home/ehdykhne/Repos/nuplan-devkit/experiments/pretrained_checkpoints/urbandriver_checkpoint.ckpt'\n",
    "# Initialize configuration management system\n",
    "hydra.core.global_hydra.GlobalHydra.instance().clear()  # reinitialize hydra if already initialized\n",
    "hydra.initialize(config_path=simulation_hydra_paths.config_path)\n",
    "\n",
    "# Compose the configuration\n",
    "print(simulation_hydra_paths.config_name)\n",
    "cfg = hydra.compose(\n",
    "    config_name=simulation_hydra_paths.config_name,\n",
    "    overrides=[\n",
    "        \"+simulation=closed_loop_multiagent\",  # [open_loop_boxes, closed_loop_nonreactive_agents, closed_loop_reactive_agents, closed_loop_multiagent]\n",
    "        \"planner=pdm_closed_planner\",  # [ml_planner, pdm_hybrid_planner, pdm_closed_planner, idm_planner, log_future_planner, simple_planner]\n",
    "        # \"model=gc_pgp_model\",\n",
    "        # \"model.aggregator.pre_train=false\",\n",
    "        # \"planner.ml_planner.model_config=${model}\",\n",
    "        # f\"planner.ml_planner.checkpoint_path={gc_pgp_ckpt}\",\n",
    "        # f\"planner.pdm_closed_planner.checkpoint_path={hybrid_ckpt}\",\n",
    "        # \"+observation.model=gc_pgp_model\",\n",
    "        # \"+observation.model.aggregator.pre_train=false\",\n",
    "        # \"+observation.model_config=${model}\",\n",
    "        # f\"+observation.checkpoint_path={gc_pgp_ckpt}\",\n",
    "        f\"observation.planner_type=pdm_closed\",\n",
    "        # # f\"observation.pdm_hybrid_ckpt={hybrid_ckpt}\",\n",
    "        f\"observation.occlusion_cfg.occlusion=true\",\n",
    "        f\"observation.occlusion_cfg.manager_type=wedge\",\n",
    "        f\"+observation.occlusion_cfg.uncloak_reaction_time=1.5\",\n",
    "        f\"+observation.occlusion_cfg.notice_threshold=1.0\",\n",
    "        \"+modify_scenario_simulations=true\",\n",
    "        \"+modifier_types=[occlusion-injection]\",  # can select multiple: [occlusion-injection, left-and-right]\n",
    "        \"+occlusion=true\",\n",
    "        \"+occlusion.manager_type=wedge\",  # options: [range, shadow, wedge]\n",
    "        \"+occlusion.uncloak_reaction_time=1.0\",\n",
    "        \"+occlusion.notice_threshold=0.1\",\n",
    "        \"worker=ray_distributed\",  # [sequential, ray_distributed]\n",
    "        \"hydra.searchpath=[pkg://tuplan_garage.planning.script.config.common, pkg://tuplan_garage.planning.script.config.simulation, pkg://nuplan.planning.script.config.common, pkg://nuplan.planning.script.experiments]\",\n",
    "        *DATASET_PARAMS,\n",
    "    ],\n",
    ")\n",
    "\n",
    "output_folder = cfg.output_dir\n",
    "print('output_folder = \"' + output_folder + '\"')\n",
    "\n",
    "\n",
    "# closed mixed for simulation\n",
    "# \"+simulation=closed_loop_multiagent\",  # [open_loop_boxes, closed_loop_nonreactive_agents, closed_loop_reactive_agents, closed_loop_multiagent]\n",
    "# \"planner=pdm_closed_planner\",  # [ml_planner, pdm_hybrid_planner, pdm_closed_planner, idm_planner, log_future_planner, simple_planner]\n",
    "# # \"model=gc_pgp_model\",\n",
    "# # \"model.aggregator.pre_train=false\",\n",
    "# # \"planner.ml_planner.model_config=${model}\",\n",
    "# # f\"planner.ml_planner.checkpoint_path={gc_pgp_ckpt}\",\n",
    "# # f\"planner.pdm_closed_planner.checkpoint_path={hybrid_ckpt}\",\n",
    "# # \"+observation.model=gc_pgp_model\",\n",
    "# # \"+observation.model.aggregator.pre_train=false\",\n",
    "# # \"+observation.model_config=${model}\",\n",
    "# # f\"+observation.checkpoint_path={gc_pgp_ckpt}\",\n",
    "# f\"observation.planner_type=pdm_closed\",\n",
    "# # # f\"observation.pdm_hybrid_ckpt={hybrid_ckpt}\",\n",
    "# f\"observation.occlusion_cfg.occlusion=true\",\n",
    "# f\"observation.occlusion_cfg.manager_type=wedge\",\n",
    "# f\"+observation.occlusion_cfg.uncloak_reaction_time=1.5\",\n",
    "# f\"+observation.occlusion_cfg.notice_threshold=1.0\",\n",
    "# \"+modify_scenario_simulations=true\",\n",
    "# \"+modifier_types=[occlusion-injection]\",  # can select multiple: [occlusion-injection, left-and-right]\n",
    "# \"+occlusion=true\",\n",
    "# \"+occlusion.manager_type=wedge\",  # options: [range, shadow, wedge]\n",
    "# \"+occlusion.uncloak_reaction_time=1.0\",\n",
    "# \"+occlusion.notice_threshold=0.1\",\n",
    "# \"worker=ray_distributed\",  # [sequential, ray_distributed]\n",
    "# \"hydra.searchpath=[pkg://tuplan_garage.planning.script.config.common, pkg://tuplan_garage.planning.script.config.simulation, pkg://nuplan.planning.script.config.common, pkg://nuplan.planning.script.experiments]\",\n",
    "# *DATASET_PARAMS,\n",
    "\n",
    "# openloop config for finding risky scenarios\n",
    "# \"+simulation=open_loop_boxes\",  # [open_loop_boxes, closed_loop_nonreactive_agents, closed_loop_reactive_agents, closed_loop_multiagent]\n",
    "#         \"planner=log_future_planner\",  # [ml_planner, pdm_hybrid_planner, gc_pgp_planner, idm_planner, log_future_planner, simple_planner]\n",
    "#         \"ego_controller=perfect_tracking_controller\",\n",
    "#         \"worker=ray_distributed\",  # [sequential, ray_distributed]\n",
    "#         \"+occlusion=true\",  # [true, false]\n",
    "#         \"+occlusion.manager_type=wedge\",  # options: [range, shadow, wedge]\n",
    "#         \"+occlusion.uncloak_reaction_time=1.5\",\n",
    "#         \"+occlusion.notice_threshold=1.0\",\n",
    "#         # \"hydra.searchpath=[pkg://tuplan_garage.planning.script.config.common, pkg://tuplan_garage.planning.script.config.simulation, pkg://nuplan.planning.script.config.common, pkg://nuplan.planning.script.experiments]\",\n",
    "#         *DATASET_PARAMS,\n",
    "\n",
    "\n",
    "# output folders for runs:\n",
    "# closed_loop_reactive_agents, wedge occlusions, urban_planner\n",
    "# output_folder = \"../../data/nuplan/exp/exp/simulation/closed_loop_reactive_agents/2023.12.09.21.59.48\"\n",
    "# overall score: 0.5041, ego_at_fault_collisions: 363\n",
    "\n",
    "# closed_loop_reactive_agents, occlusions = False, urban_planner\n",
    "# output_folder = \"../../data/nuplan/exp/exp/simulation/closed_loop_reactive_agents/2023.12.09.23.21.13\"\n",
    "# overall score: 0.5041, ego_at_fault_collisions: 357\n",
    "\n",
    "# closed_loop_nonreactive_agents, occlusions = False, urban_planner\n",
    "# output_folder = \"../../data/nuplan/exp/exp/simulation/closed_loop_nonreactive_agents/2023.12.10.02.01.14\"\n",
    "# output_folder = \"../../data/nuplan/exp/exp/simulation/closed_loop_nonreactive_agents/2023.12.10.07.32.41\"\n",
    "# overall score: , ego_at_fault_collisions:\n",
    "\n",
    "# closed_loop_nonreactive_agents, wedge occlusions, urban_planner\n",
    "# output_folder = \"../../data/nuplan/exp/exp/simulation/closed_loop_nonreactive_agents/2023.12.10.08.29.23\"\n",
    "# overall score: , ego_at_fault_collisions:\n",
    "\n",
    "# closed_loop_reactive_agents, wedge occlusions, gc_pgp\n",
    "# output_folder = \"../../data/nuplan/exp/exp/simulation/closed_loop_reactive_agents/2023.12.10.09.31.44\"\n",
    "# overall score: , ego_at_fault_collisions:\n",
    "\n",
    "# 'closed_loop_reactive_agents, occlusions = False, gc_pgp'\n",
    "# output_folder = \"../../data/nuplan/exp/exp/simulation/closed_loop_reactive_agents/2023.12.11.00.41.30\"\n",
    "\n",
    "# 'closed_loop_reactive_agents, occlusions = False, pdm_hybrid'\n",
    "# output_folder = \"../../data/nuplan/exp/exp/simulation/closed_loop_reactive_agents/2023.12.13.12.21.28\"\n",
    "\n",
    "# 'closed_loop_reactive_agents,  wedge occlusions, pdm_hybrid'\n",
    "# output_folder = \"../../data/nuplan/exp/exp/simulation/closed_loop_reactive_agents/2023.12.13.13.07.48\""
   ]
  },
  {
   "cell_type": "markdown",
   "id": "1c215b7f",
   "metadata": {},
   "source": [
    "# Now we can run with the following"
   ]
  },
  {
   "cell_type": "code",
   "execution_count": 8,
   "id": "c221b637",
   "metadata": {
    "scrolled": false
   },
   "outputs": [
    {
     "name": "stderr",
     "output_type": "stream",
     "text": [
      "Global seed set to 0\n",
      "INFO:nuplan.planning.script.builders.main_callback_builder:Building MultiMainCallback...\n",
      "INFO:nuplan.planning.script.builders.main_callback_builder:Building MultiMainCallback: 4...DONE!\n"
     ]
    },
    {
     "name": "stdout",
     "output_type": "stream",
     "text": [
      "2024-01-24 02:09:13,414 INFO {/home/ehdykhne/nuplan-devkit/nuplan/planning/script/builders/worker_pool_builder.py:19}  Building WorkerPool...\n",
      "2024-01-24 02:09:13,416 INFO {/home/ehdykhne/nuplan-devkit/nuplan/planning/utils/multithreading/worker_ray.py:78}  Starting ray local!\n"
     ]
    },
    {
     "name": "stderr",
     "output_type": "stream",
     "text": [
      "2024-01-24 02:09:15,024\tINFO worker.py:1636 -- Started a local Ray instance.\n"
     ]
    },
    {
     "name": "stdout",
     "output_type": "stream",
     "text": [
      "2024-01-24 02:09:15,707 INFO {/home/ehdykhne/nuplan-devkit/nuplan/planning/utils/multithreading/worker_pool.py:101}  Worker: RayDistributed\n",
      "2024-01-24 02:09:15,707 INFO {/home/ehdykhne/nuplan-devkit/nuplan/planning/utils/multithreading/worker_pool.py:102}  Number of nodes: 1\n",
      "Number of CPUs per node: 32\n",
      "Number of GPUs per node: 4\n",
      "Number of threads across all nodes: 32\n",
      "2024-01-24 02:09:15,707 INFO {/home/ehdykhne/nuplan-devkit/nuplan/planning/script/builders/worker_pool_builder.py:27}  Building WorkerPool...DONE!\n",
      "2024-01-24 02:09:15,707 INFO {/home/ehdykhne/nuplan-devkit/nuplan/planning/script/builders/folder_builder.py:32}  Building experiment folders...\n",
      "2024-01-24 02:09:15,707 INFO {/home/ehdykhne/nuplan-devkit/nuplan/planning/script/builders/folder_builder.py:35}  \n",
      "\n",
      "\tFolder where all results are stored: ../../data/nuplan/exp/exp/simulation/closed_loop_multiagent/2024.01.24.02.09.13\n",
      "\n",
      "2024-01-24 02:09:15,716 INFO {/home/ehdykhne/nuplan-devkit/nuplan/planning/script/builders/folder_builder.py:70}  Building experiment folders...DONE!\n",
      "2024-01-24 02:09:15,717 INFO {/home/ehdykhne/nuplan-devkit/nuplan/planning/script/builders/simulation_callback_builder.py:52}  Building AbstractCallback...\n",
      "2024-01-24 02:09:15,717 INFO {/home/ehdykhne/nuplan-devkit/nuplan/planning/script/builders/simulation_callback_builder.py:68}  Building AbstractCallback: 0...DONE!\n",
      "2024-01-24 02:09:15,717 INFO {/home/ehdykhne/nuplan-devkit/nuplan/planning/script/builders/simulation_builder.py:55}  Building simulations...\n",
      "2024-01-24 02:09:15,717 INFO {/home/ehdykhne/nuplan-devkit/nuplan/planning/script/builders/simulation_builder.py:61}  Extracting scenarios...\n",
      "2024-01-24 02:09:15,717 INFO {/home/ehdykhne/nuplan-devkit/nuplan/common/utils/distributed_scenario_filter.py:83}  Building Scenarios in mode DistributedMode.SINGLE_NODE\n",
      "2024-01-24 02:09:15,718 INFO {/home/ehdykhne/nuplan-devkit/nuplan/planning/script/builders/scenario_building_builder.py:18}  Building AbstractScenarioBuilder...\n",
      "2024-01-24 02:09:15,736 INFO {/home/ehdykhne/nuplan-devkit/nuplan/planning/script/builders/scenario_building_builder.py:21}  Building AbstractScenarioBuilder...DONE!\n",
      "2024-01-24 02:09:15,736 INFO {/home/ehdykhne/nuplan-devkit/nuplan/planning/script/builders/scenario_filter_builder.py:35}  Building ScenarioFilter...\n",
      "2024-01-24 02:09:15,781 INFO {/home/ehdykhne/nuplan-devkit/nuplan/planning/script/builders/scenario_filter_builder.py:44}  Building ScenarioFilter...DONE!\n"
     ]
    },
    {
     "name": "stderr",
     "output_type": "stream",
     "text": [
      "Ray objects: 100%|██████████| 32/32 [00:01<00:00, 24.00it/s]\n"
     ]
    },
    {
     "name": "stdout",
     "output_type": "stream",
     "text": [
      "2024-01-24 02:09:42,969 INFO {/home/ehdykhne/nuplan-devkit/nuplan/planning/script/builders/simulation_builder.py:82}  Building metric engines...\n",
      "2024-01-24 02:09:43,208 INFO {/home/ehdykhne/nuplan-devkit/nuplan/planning/script/builders/simulation_builder.py:84}  Building metric engines...DONE\n",
      "2024-01-24 02:09:43,209 INFO {/home/ehdykhne/nuplan-devkit/nuplan/planning/script/builders/simulation_builder.py:88}  Building simulations from 928 scenarios...\n",
      "2024-01-24 02:09:56,780 INFO {/home/ehdykhne/nuplan-devkit/nuplan/planning/script/builders/simulation_builder.py:151}  Modyfing Scenarios...\n",
      "1 0 are the number of cpus and gpus\n",
      "2024-01-24 02:09:56,780 INFO {/home/ehdykhne/nuplan-devkit/nuplan/planning/utils/multithreading/worker_pool.py:116}  Submitting 928 tasks!\n",
      "\u001b[2m\u001b[36m(wrapped_fn pid=395275)\u001b[0m No initial tracked agents in scenario 04a7dbedff2f5aef\n",
      "\u001b[2m\u001b[36m(wrapped_fn pid=395266)\u001b[0m No initial tracked agents in scenario 0ff3f4aa023c5c72\n",
      "\u001b[2m\u001b[36m(wrapped_fn pid=395263)\u001b[0m No initial tracked agents in scenario 248eebbc42a052cb\n",
      "\u001b[2m\u001b[36m(wrapped_fn pid=395275)\u001b[0m No initial tracked agents in scenario 2673464966515b3a\n"
     ]
    },
    {
     "name": "stderr",
     "output_type": "stream",
     "text": [
      "Ray objects:  27%|██▋       | 246/928 [00:32<03:29,  3.25it/s] "
     ]
    },
    {
     "name": "stdout",
     "output_type": "stream",
     "text": [
      "\u001b[2m\u001b[36m(wrapped_fn pid=395266)\u001b[0m No initial tracked agents in scenario 4516aaee726e52d2\n"
     ]
    },
    {
     "name": "stderr",
     "output_type": "stream",
     "text": [
      "Ray objects:  33%|███▎      | 306/928 [01:32<04:21,  2.37it/s]"
     ]
    },
    {
     "name": "stdout",
     "output_type": "stream",
     "text": [
      "\u001b[2m\u001b[36m(wrapped_fn pid=395273)\u001b[0m No initial tracked agents in scenario 54288cf0db625b9f\n"
     ]
    },
    {
     "name": "stderr",
     "output_type": "stream",
     "text": [
      "Ray objects:  33%|███▎      | 307/928 [01:32<04:21,  2.37it/s]"
     ]
    },
    {
     "name": "stdout",
     "output_type": "stream",
     "text": [
      "\u001b[2m\u001b[36m(wrapped_fn pid=395273)\u001b[0m No initial tracked agents in scenario 5445edd144e75523\n"
     ]
    },
    {
     "name": "stderr",
     "output_type": "stream",
     "text": [
      "Ray objects:  43%|████▎     | 403/928 [03:01<03:19,  2.63it/s]"
     ]
    },
    {
     "name": "stdout",
     "output_type": "stream",
     "text": [
      "\u001b[2m\u001b[36m(wrapped_fn pid=395280)\u001b[0m No initial tracked agents in scenario 6e5ab00884ff5c07\n"
     ]
    },
    {
     "name": "stderr",
     "output_type": "stream",
     "text": [
      "Ray objects:  46%|████▌     | 427/928 [03:14<03:05,  2.70it/s]"
     ]
    },
    {
     "name": "stdout",
     "output_type": "stream",
     "text": [
      "\u001b[2m\u001b[36m(wrapped_fn pid=395264)\u001b[0m No initial tracked agents in scenario 762e0137838956b4\n"
     ]
    },
    {
     "name": "stderr",
     "output_type": "stream",
     "text": [
      "Ray objects:  54%|█████▍    | 500/928 [04:28<04:14,  1.68it/s]"
     ]
    },
    {
     "name": "stdout",
     "output_type": "stream",
     "text": [
      "\u001b[2m\u001b[36m(wrapped_fn pid=395270)\u001b[0m No initial tracked agents in scenario 8b08a02affdb5bfb\n"
     ]
    },
    {
     "name": "stderr",
     "output_type": "stream",
     "text": [
      "Ray objects:  76%|███████▌  | 707/928 [08:09<00:57,  3.86it/s]"
     ]
    },
    {
     "name": "stdout",
     "output_type": "stream",
     "text": [
      "\u001b[2m\u001b[36m(wrapped_fn pid=395262)\u001b[0m No initial tracked agents in scenario c21b6f62094a5a0b\n"
     ]
    },
    {
     "name": "stderr",
     "output_type": "stream",
     "text": [
      "Ray objects:  92%|█████████▏| 855/928 [11:05<01:22,  1.13s/it]"
     ]
    },
    {
     "name": "stdout",
     "output_type": "stream",
     "text": [
      "\u001b[2m\u001b[36m(wrapped_fn pid=395269)\u001b[0m No initial tracked agents in scenario e7cf34f347f65309\n"
     ]
    },
    {
     "name": "stderr",
     "output_type": "stream",
     "text": [
      "Ray objects:  93%|█████████▎| 864/928 [11:08<00:18,  3.38it/s]"
     ]
    },
    {
     "name": "stdout",
     "output_type": "stream",
     "text": [
      "\u001b[2m\u001b[36m(wrapped_fn pid=395287)\u001b[0m No initial tracked agents in scenario e9ad32f6e3d852bd\n"
     ]
    },
    {
     "name": "stderr",
     "output_type": "stream",
     "text": [
      "Ray objects: 100%|██████████| 928/928 [13:38<00:00,  1.13it/s]\n",
      "0it [00:00, ?it/s]"
     ]
    },
    {
     "name": "stdout",
     "output_type": "stream",
     "text": [
      "2024-01-24 02:26:50,124 INFO {/home/ehdykhne/nuplan-devkit/nuplan/planning/script/builders/simulation_builder.py:161}  Created 33 modified scenarios from scenario with token: 014c7f3502d4597d.\n"
     ]
    },
    {
     "name": "stderr",
     "output_type": "stream",
     "text": [
      "100%|██████████| 33/33 [00:00<00:00, 819.85it/s]\n",
      "0it [00:00, ?it/s]"
     ]
    },
    {
     "name": "stdout",
     "output_type": "stream",
     "text": [
      "2024-01-24 02:26:50,167 INFO {/home/ehdykhne/nuplan-devkit/nuplan/planning/script/builders/simulation_builder.py:161}  Created 83 modified scenarios from scenario with token: 02828821ef045829.\n"
     ]
    },
    {
     "name": "stderr",
     "output_type": "stream",
     "text": [
      "100%|██████████| 83/83 [00:00<00:00, 812.59it/s]\n",
      "5it [00:00, 33.76it/s]"
     ]
    },
    {
     "name": "stdout",
     "output_type": "stream",
     "text": [
      "2024-01-24 02:26:50,272 INFO {/home/ehdykhne/nuplan-devkit/nuplan/planning/script/builders/simulation_builder.py:161}  Created 7 modified scenarios from scenario with token: 02fa9b8d43465e0d.\n"
     ]
    },
    {
     "name": "stderr",
     "output_type": "stream",
     "text": [
      "100%|██████████| 7/7 [00:00<00:00, 788.51it/s]\n",
      "5it [00:00, 33.76it/s]"
     ]
    },
    {
     "name": "stdout",
     "output_type": "stream",
     "text": [
      "2024-01-24 02:26:50,284 INFO {/home/ehdykhne/nuplan-devkit/nuplan/planning/script/builders/simulation_builder.py:161}  Created 37 modified scenarios from scenario with token: 03fec47f75845dec.\n"
     ]
    },
    {
     "name": "stderr",
     "output_type": "stream",
     "text": [
      "100%|██████████| 37/37 [00:00<00:00, 845.16it/s]\n",
      "5it [00:00, 33.76it/s]"
     ]
    },
    {
     "name": "stdout",
     "output_type": "stream",
     "text": [
      "2024-01-24 02:26:50,330 INFO {/home/ehdykhne/nuplan-devkit/nuplan/planning/script/builders/simulation_builder.py:161}  Created 2 modified scenarios from scenario with token: 05e6c9e808cc56b3.\n"
     ]
    },
    {
     "name": "stderr",
     "output_type": "stream",
     "text": [
      "100%|██████████| 2/2 [00:00<00:00, 706.29it/s]\n",
      "5it [00:00, 33.76it/s]"
     ]
    },
    {
     "name": "stdout",
     "output_type": "stream",
     "text": [
      "2024-01-24 02:26:50,336 INFO {/home/ehdykhne/nuplan-devkit/nuplan/planning/script/builders/simulation_builder.py:161}  Created 28 modified scenarios from scenario with token: 0714c9b3f90b5e66.\n"
     ]
    },
    {
     "name": "stderr",
     "output_type": "stream",
     "text": [
      "100%|██████████| 28/28 [00:00<00:00, 806.65it/s]\n",
      "22it [00:00, 99.64it/s]"
     ]
    },
    {
     "name": "stdout",
     "output_type": "stream",
     "text": [
      "2024-01-24 02:26:50,374 INFO {/home/ehdykhne/nuplan-devkit/nuplan/planning/script/builders/simulation_builder.py:161}  Created 21 modified scenarios from scenario with token: 07a31af9e0c750aa.\n"
     ]
    },
    {
     "name": "stderr",
     "output_type": "stream",
     "text": [
      "100%|██████████| 21/21 [00:00<00:00, 838.81it/s]\n",
      "22it [00:00, 99.64it/s]"
     ]
    },
    {
     "name": "stdout",
     "output_type": "stream",
     "text": [
      "2024-01-24 02:26:50,402 INFO {/home/ehdykhne/nuplan-devkit/nuplan/planning/script/builders/simulation_builder.py:161}  Created 33 modified scenarios from scenario with token: 0975bf12a4ca5a0f.\n"
     ]
    },
    {
     "name": "stderr",
     "output_type": "stream",
     "text": [
      "100%|██████████| 33/33 [00:00<00:00, 823.33it/s]\n",
      "22it [00:00, 99.64it/s]"
     ]
    },
    {
     "name": "stdout",
     "output_type": "stream",
     "text": [
      "2024-01-24 02:26:50,444 INFO {/home/ehdykhne/nuplan-devkit/nuplan/planning/script/builders/simulation_builder.py:161}  Created 2 modified scenarios from scenario with token: 09bbd9cc2b1e5701.\n"
     ]
    },
    {
     "name": "stderr",
     "output_type": "stream",
     "text": [
      "100%|██████████| 2/2 [00:00<00:00, 741.70it/s]\n",
      "22it [00:00, 99.64it/s]"
     ]
    },
    {
     "name": "stdout",
     "output_type": "stream",
     "text": [
      "2024-01-24 02:26:50,449 INFO {/home/ehdykhne/nuplan-devkit/nuplan/planning/script/builders/simulation_builder.py:161}  Created 24 modified scenarios from scenario with token: 0ae57d1bb93451fb.\n"
     ]
    },
    {
     "name": "stderr",
     "output_type": "stream",
     "text": [
      "100%|██████████| 24/24 [00:00<00:00, 828.58it/s]\n",
      "36it [00:00, 113.26it/s]"
     ]
    },
    {
     "name": "stdout",
     "output_type": "stream",
     "text": [
      "2024-01-24 02:26:50,481 INFO {/home/ehdykhne/nuplan-devkit/nuplan/planning/script/builders/simulation_builder.py:161}  Created 19 modified scenarios from scenario with token: 0b22867fbbb85d53.\n"
     ]
    },
    {
     "name": "stderr",
     "output_type": "stream",
     "text": [
      "100%|██████████| 19/19 [00:00<00:00, 827.95it/s]\n",
      "36it [00:00, 113.26it/s]"
     ]
    },
    {
     "name": "stdout",
     "output_type": "stream",
     "text": [
      "2024-01-24 02:26:50,506 INFO {/home/ehdykhne/nuplan-devkit/nuplan/planning/script/builders/simulation_builder.py:161}  Created 42 modified scenarios from scenario with token: 0b3ee4e240155746.\n"
     ]
    },
    {
     "name": "stderr",
     "output_type": "stream",
     "text": [
      "100%|██████████| 42/42 [00:00<00:00, 823.75it/s]\n",
      "36it [00:00, 113.26it/s]"
     ]
    },
    {
     "name": "stdout",
     "output_type": "stream",
     "text": [
      "2024-01-24 02:26:50,559 INFO {/home/ehdykhne/nuplan-devkit/nuplan/planning/script/builders/simulation_builder.py:161}  Created 34 modified scenarios from scenario with token: 0d52dcf1bdf15ee9.\n"
     ]
    },
    {
     "name": "stderr",
     "output_type": "stream",
     "text": [
      "100%|██████████| 34/34 [00:00<00:00, 803.60it/s]\n",
      "49it [00:00, 109.85it/s]"
     ]
    },
    {
     "name": "stdout",
     "output_type": "stream",
     "text": [
      "2024-01-24 02:26:50,604 INFO {/home/ehdykhne/nuplan-devkit/nuplan/planning/script/builders/simulation_builder.py:161}  Created 7 modified scenarios from scenario with token: 0e87a5829ac05ecf.\n"
     ]
    },
    {
     "name": "stderr",
     "output_type": "stream",
     "text": [
      "100%|██████████| 7/7 [00:00<00:00, 803.77it/s]\n",
      "49it [00:00, 109.85it/s]"
     ]
    },
    {
     "name": "stdout",
     "output_type": "stream",
     "text": [
      "2024-01-24 02:26:50,616 INFO {/home/ehdykhne/nuplan-devkit/nuplan/planning/script/builders/simulation_builder.py:161}  Created 4 modified scenarios from scenario with token: 0e938c191307560e.\n"
     ]
    },
    {
     "name": "stderr",
     "output_type": "stream",
     "text": [
      "100%|██████████| 4/4 [00:00<00:00, 707.09it/s]\n",
      "49it [00:00, 109.85it/s]"
     ]
    },
    {
     "name": "stdout",
     "output_type": "stream",
     "text": [
      "2024-01-24 02:26:50,625 INFO {/home/ehdykhne/nuplan-devkit/nuplan/planning/script/builders/simulation_builder.py:161}  Created 3 modified scenarios from scenario with token: 1011ee5e5a495953.\n"
     ]
    },
    {
     "name": "stderr",
     "output_type": "stream",
     "text": [
      "100%|██████████| 3/3 [00:00<00:00, 758.51it/s]\n",
      "49it [00:00, 109.85it/s]"
     ]
    },
    {
     "name": "stdout",
     "output_type": "stream",
     "text": [
      "2024-01-24 02:26:50,631 INFO {/home/ehdykhne/nuplan-devkit/nuplan/planning/script/builders/simulation_builder.py:161}  Created 3 modified scenarios from scenario with token: 10d96342be775d60.\n"
     ]
    },
    {
     "name": "stderr",
     "output_type": "stream",
     "text": [
      "100%|██████████| 3/3 [00:00<00:00, 721.75it/s]\n",
      "49it [00:00, 109.85it/s]"
     ]
    },
    {
     "name": "stdout",
     "output_type": "stream",
     "text": [
      "2024-01-24 02:26:50,638 INFO {/home/ehdykhne/nuplan-devkit/nuplan/planning/script/builders/simulation_builder.py:161}  Created 28 modified scenarios from scenario with token: 11699bb0fdce52c3.\n"
     ]
    },
    {
     "name": "stderr",
     "output_type": "stream",
     "text": [
      "100%|██████████| 28/28 [00:00<00:00, 827.90it/s]\n",
      "49it [00:00, 109.85it/s]"
     ]
    },
    {
     "name": "stdout",
     "output_type": "stream",
     "text": [
      "2024-01-24 02:26:50,675 INFO {/home/ehdykhne/nuplan-devkit/nuplan/planning/script/builders/simulation_builder.py:161}  Created 30 modified scenarios from scenario with token: 1310eeeeda845224.\n"
     ]
    },
    {
     "name": "stderr",
     "output_type": "stream",
     "text": [
      "100%|██████████| 30/30 [00:00<00:00, 797.72it/s]\n",
      "70it [00:00, 137.14it/s]"
     ]
    },
    {
     "name": "stdout",
     "output_type": "stream",
     "text": [
      "2024-01-24 02:26:50,716 INFO {/home/ehdykhne/nuplan-devkit/nuplan/planning/script/builders/simulation_builder.py:161}  Created 29 modified scenarios from scenario with token: 13ca54a207085e46.\n"
     ]
    },
    {
     "name": "stderr",
     "output_type": "stream",
     "text": [
      "100%|██████████| 29/29 [00:00<00:00, 813.78it/s]\n",
      "70it [00:00, 137.14it/s]"
     ]
    },
    {
     "name": "stdout",
     "output_type": "stream",
     "text": [
      "2024-01-24 02:26:50,755 INFO {/home/ehdykhne/nuplan-devkit/nuplan/planning/script/builders/simulation_builder.py:161}  Created 16 modified scenarios from scenario with token: 15c96adb5d4a5dbc.\n"
     ]
    },
    {
     "name": "stderr",
     "output_type": "stream",
     "text": [
      "100%|██████████| 16/16 [00:00<00:00, 798.34it/s]\n",
      "70it [00:00, 137.14it/s]"
     ]
    },
    {
     "name": "stdout",
     "output_type": "stream",
     "text": [
      "2024-01-24 02:26:50,778 INFO {/home/ehdykhne/nuplan-devkit/nuplan/planning/script/builders/simulation_builder.py:161}  Created 17 modified scenarios from scenario with token: 16a58a5f38735005.\n"
     ]
    },
    {
     "name": "stderr",
     "output_type": "stream",
     "text": [
      "100%|██████████| 17/17 [00:00<00:00, 790.01it/s]\n",
      "70it [00:00, 137.14it/s]"
     ]
    },
    {
     "name": "stdout",
     "output_type": "stream",
     "text": [
      "2024-01-24 02:26:50,803 INFO {/home/ehdykhne/nuplan-devkit/nuplan/planning/script/builders/simulation_builder.py:161}  Created 37 modified scenarios from scenario with token: 1746531019ea574f.\n"
     ]
    },
    {
     "name": "stderr",
     "output_type": "stream",
     "text": [
      "100%|██████████| 37/37 [00:00<00:00, 796.15it/s]\n",
      "86it [00:00, 129.49it/s]"
     ]
    },
    {
     "name": "stdout",
     "output_type": "stream",
     "text": [
      "2024-01-24 02:26:50,853 INFO {/home/ehdykhne/nuplan-devkit/nuplan/planning/script/builders/simulation_builder.py:161}  Created 21 modified scenarios from scenario with token: 17da44fe42ca5933.\n"
     ]
    },
    {
     "name": "stderr",
     "output_type": "stream",
     "text": [
      "100%|██████████| 21/21 [00:00<00:00, 800.91it/s]\n",
      "86it [00:00, 129.49it/s]"
     ]
    },
    {
     "name": "stdout",
     "output_type": "stream",
     "text": [
      "2024-01-24 02:26:50,882 INFO {/home/ehdykhne/nuplan-devkit/nuplan/planning/script/builders/simulation_builder.py:161}  Created 15 modified scenarios from scenario with token: 191e12a9028057be.\n"
     ]
    },
    {
     "name": "stderr",
     "output_type": "stream",
     "text": [
      "100%|██████████| 15/15 [00:00<00:00, 806.67it/s]\n",
      "86it [00:00, 129.49it/s]"
     ]
    },
    {
     "name": "stdout",
     "output_type": "stream",
     "text": [
      "2024-01-24 02:26:50,904 INFO {/home/ehdykhne/nuplan-devkit/nuplan/planning/script/builders/simulation_builder.py:161}  Created 7 modified scenarios from scenario with token: 1b62060f371e52d5.\n"
     ]
    },
    {
     "name": "stderr",
     "output_type": "stream",
     "text": [
      "100%|██████████| 7/7 [00:00<00:00, 740.80it/s]\n",
      "86it [00:00, 129.49it/s]"
     ]
    },
    {
     "name": "stdout",
     "output_type": "stream",
     "text": [
      "2024-01-24 02:26:50,917 INFO {/home/ehdykhne/nuplan-devkit/nuplan/planning/script/builders/simulation_builder.py:161}  Created 8 modified scenarios from scenario with token: 1c89c72175eb5efe.\n"
     ]
    },
    {
     "name": "stderr",
     "output_type": "stream",
     "text": [
      "100%|██████████| 8/8 [00:00<00:00, 759.49it/s]\n",
      "86it [00:00, 129.49it/s]"
     ]
    },
    {
     "name": "stdout",
     "output_type": "stream",
     "text": [
      "2024-01-24 02:26:50,930 INFO {/home/ehdykhne/nuplan-devkit/nuplan/planning/script/builders/simulation_builder.py:161}  Created 6 modified scenarios from scenario with token: 1ca8d04277e65883.\n"
     ]
    },
    {
     "name": "stderr",
     "output_type": "stream",
     "text": [
      "100%|██████████| 6/6 [00:00<00:00, 804.35it/s]\n",
      "86it [00:00, 129.49it/s]"
     ]
    },
    {
     "name": "stdout",
     "output_type": "stream",
     "text": [
      "2024-01-24 02:26:50,940 INFO {/home/ehdykhne/nuplan-devkit/nuplan/planning/script/builders/simulation_builder.py:161}  Created 8 modified scenarios from scenario with token: 1d98eadfe0a458f9.\n"
     ]
    },
    {
     "name": "stderr",
     "output_type": "stream",
     "text": [
      "100%|██████████| 8/8 [00:00<00:00, 791.43it/s]\n",
      "86it [00:00, 129.49it/s]"
     ]
    },
    {
     "name": "stdout",
     "output_type": "stream",
     "text": [
      "2024-01-24 02:26:50,952 INFO {/home/ehdykhne/nuplan-devkit/nuplan/planning/script/builders/simulation_builder.py:161}  Created 5 modified scenarios from scenario with token: 1df13c0027345180.\n"
     ]
    },
    {
     "name": "stderr",
     "output_type": "stream",
     "text": [
      "100%|██████████| 5/5 [00:00<00:00, 760.61it/s]\n",
      "114it [00:00, 167.80it/s]"
     ]
    },
    {
     "name": "stdout",
     "output_type": "stream",
     "text": [
      "2024-01-24 02:26:50,962 INFO {/home/ehdykhne/nuplan-devkit/nuplan/planning/script/builders/simulation_builder.py:161}  Created 14 modified scenarios from scenario with token: 231a4d1e894a5c0e.\n"
     ]
    },
    {
     "name": "stderr",
     "output_type": "stream",
     "text": [
      "100%|██████████| 14/14 [00:00<00:00, 809.04it/s]\n",
      "114it [00:00, 167.80it/s]"
     ]
    },
    {
     "name": "stdout",
     "output_type": "stream",
     "text": [
      "2024-01-24 02:26:50,981 INFO {/home/ehdykhne/nuplan-devkit/nuplan/planning/script/builders/simulation_builder.py:161}  Created 27 modified scenarios from scenario with token: 24fb63280ea056eb.\n"
     ]
    },
    {
     "name": "stderr",
     "output_type": "stream",
     "text": [
      "100%|██████████| 27/27 [00:00<00:00, 790.12it/s]\n",
      "114it [00:00, 167.80it/s]"
     ]
    },
    {
     "name": "stdout",
     "output_type": "stream",
     "text": [
      "2024-01-24 02:26:51,018 INFO {/home/ehdykhne/nuplan-devkit/nuplan/planning/script/builders/simulation_builder.py:161}  Created 6 modified scenarios from scenario with token: 25bf5a4aef3f5ed1.\n"
     ]
    },
    {
     "name": "stderr",
     "output_type": "stream",
     "text": [
      "100%|██████████| 6/6 [00:00<00:00, 752.90it/s]\n",
      "114it [00:00, 167.80it/s]"
     ]
    },
    {
     "name": "stdout",
     "output_type": "stream",
     "text": [
      "2024-01-24 02:26:51,029 INFO {/home/ehdykhne/nuplan-devkit/nuplan/planning/script/builders/simulation_builder.py:161}  Created 5 modified scenarios from scenario with token: 268ae521fd15582a.\n"
     ]
    },
    {
     "name": "stderr",
     "output_type": "stream",
     "text": [
      "100%|██████████| 5/5 [00:00<00:00, 730.89it/s]\n",
      "114it [00:00, 167.80it/s]"
     ]
    },
    {
     "name": "stdout",
     "output_type": "stream",
     "text": [
      "2024-01-24 02:26:51,039 INFO {/home/ehdykhne/nuplan-devkit/nuplan/planning/script/builders/simulation_builder.py:161}  Created 58 modified scenarios from scenario with token: 2736d8bca4555200.\n"
     ]
    },
    {
     "name": "stderr",
     "output_type": "stream",
     "text": [
      "100%|██████████| 58/58 [00:00<00:00, 207.14it/s]\n",
      "142it [00:01, 114.92it/s]"
     ]
    },
    {
     "name": "stdout",
     "output_type": "stream",
     "text": [
      "2024-01-24 02:26:51,322 INFO {/home/ehdykhne/nuplan-devkit/nuplan/planning/script/builders/simulation_builder.py:161}  Created 38 modified scenarios from scenario with token: 27871f9bfa105bab.\n"
     ]
    },
    {
     "name": "stderr",
     "output_type": "stream",
     "text": [
      "100%|██████████| 38/38 [00:00<00:00, 827.73it/s]\n",
      "142it [00:01, 114.92it/s]"
     ]
    },
    {
     "name": "stdout",
     "output_type": "stream",
     "text": [
      "2024-01-24 02:26:51,371 INFO {/home/ehdykhne/nuplan-devkit/nuplan/planning/script/builders/simulation_builder.py:161}  Created 4 modified scenarios from scenario with token: 2a27f34604225f42.\n"
     ]
    },
    {
     "name": "stderr",
     "output_type": "stream",
     "text": [
      "100%|██████████| 4/4 [00:00<00:00, 672.84it/s]\n",
      "142it [00:01, 114.92it/s]"
     ]
    },
    {
     "name": "stdout",
     "output_type": "stream",
     "text": [
      "2024-01-24 02:26:51,380 INFO {/home/ehdykhne/nuplan-devkit/nuplan/planning/script/builders/simulation_builder.py:161}  Created 26 modified scenarios from scenario with token: 2b115cf6b0cf5bc2.\n"
     ]
    },
    {
     "name": "stderr",
     "output_type": "stream",
     "text": [
      "100%|██████████| 26/26 [00:00<00:00, 815.28it/s]\n",
      "142it [00:01, 114.92it/s]"
     ]
    },
    {
     "name": "stdout",
     "output_type": "stream",
     "text": [
      "2024-01-24 02:26:51,414 INFO {/home/ehdykhne/nuplan-devkit/nuplan/planning/script/builders/simulation_builder.py:161}  Created 5 modified scenarios from scenario with token: 2cf90f719c865190.\n"
     ]
    },
    {
     "name": "stderr",
     "output_type": "stream",
     "text": [
      "100%|██████████| 5/5 [00:00<00:00, 781.15it/s]\n",
      "167it [00:01, 140.06it/s]"
     ]
    },
    {
     "name": "stdout",
     "output_type": "stream",
     "text": [
      "2024-01-24 02:26:51,423 INFO {/home/ehdykhne/nuplan-devkit/nuplan/planning/script/builders/simulation_builder.py:161}  Created 25 modified scenarios from scenario with token: 2d825ef48c5155fb.\n"
     ]
    },
    {
     "name": "stderr",
     "output_type": "stream",
     "text": [
      "100%|██████████| 25/25 [00:00<00:00, 837.38it/s]\n",
      "167it [00:01, 140.06it/s]"
     ]
    },
    {
     "name": "stdout",
     "output_type": "stream",
     "text": [
      "2024-01-24 02:26:51,456 INFO {/home/ehdykhne/nuplan-devkit/nuplan/planning/script/builders/simulation_builder.py:161}  Created 11 modified scenarios from scenario with token: 2e1fd0387cd25686.\n"
     ]
    },
    {
     "name": "stderr",
     "output_type": "stream",
     "text": [
      "100%|██████████| 11/11 [00:00<00:00, 792.34it/s]\n",
      "167it [00:01, 140.06it/s]"
     ]
    },
    {
     "name": "stdout",
     "output_type": "stream",
     "text": [
      "2024-01-24 02:26:51,473 INFO {/home/ehdykhne/nuplan-devkit/nuplan/planning/script/builders/simulation_builder.py:161}  Created 2 modified scenarios from scenario with token: 2ed3ac183d1b5f4e.\n"
     ]
    },
    {
     "name": "stderr",
     "output_type": "stream",
     "text": [
      "100%|██████████| 2/2 [00:00<00:00, 684.62it/s]\n",
      "167it [00:01, 140.06it/s]"
     ]
    },
    {
     "name": "stdout",
     "output_type": "stream",
     "text": [
      "2024-01-24 02:26:51,478 INFO {/home/ehdykhne/nuplan-devkit/nuplan/planning/script/builders/simulation_builder.py:161}  Created 25 modified scenarios from scenario with token: 2f95ce724d5e5e48.\n"
     ]
    },
    {
     "name": "stderr",
     "output_type": "stream",
     "text": [
      "100%|██████████| 25/25 [00:00<00:00, 811.98it/s]\n",
      "167it [00:01, 140.06it/s]"
     ]
    },
    {
     "name": "stdout",
     "output_type": "stream",
     "text": [
      "2024-01-24 02:26:51,512 INFO {/home/ehdykhne/nuplan-devkit/nuplan/planning/script/builders/simulation_builder.py:161}  Created 3 modified scenarios from scenario with token: 3053816c443a5369.\n"
     ]
    },
    {
     "name": "stderr",
     "output_type": "stream",
     "text": [
      "100%|██████████| 3/3 [00:00<00:00, 725.91it/s]\n",
      "167it [00:01, 140.06it/s]"
     ]
    },
    {
     "name": "stdout",
     "output_type": "stream",
     "text": [
      "2024-01-24 02:26:51,519 INFO {/home/ehdykhne/nuplan-devkit/nuplan/planning/script/builders/simulation_builder.py:161}  Created 42 modified scenarios from scenario with token: 315df0cb1d175e37.\n"
     ]
    },
    {
     "name": "stderr",
     "output_type": "stream",
     "text": [
      "100%|██████████| 42/42 [00:00<00:00, 838.93it/s]\n",
      "188it [00:01, 140.54it/s]"
     ]
    },
    {
     "name": "stdout",
     "output_type": "stream",
     "text": [
      "2024-01-24 02:26:51,572 INFO {/home/ehdykhne/nuplan-devkit/nuplan/planning/script/builders/simulation_builder.py:161}  Created 11 modified scenarios from scenario with token: 31f3bfb82bf05f4d.\n"
     ]
    },
    {
     "name": "stderr",
     "output_type": "stream",
     "text": [
      "100%|██████████| 11/11 [00:00<00:00, 739.24it/s]\n",
      "188it [00:01, 140.54it/s]"
     ]
    },
    {
     "name": "stdout",
     "output_type": "stream",
     "text": [
      "2024-01-24 02:26:51,590 INFO {/home/ehdykhne/nuplan-devkit/nuplan/planning/script/builders/simulation_builder.py:161}  Created 4 modified scenarios from scenario with token: 31fd14faadfc5d0f.\n"
     ]
    },
    {
     "name": "stderr",
     "output_type": "stream",
     "text": [
      "100%|██████████| 4/4 [00:00<00:00, 794.30it/s]\n",
      "188it [00:01, 140.54it/s]"
     ]
    },
    {
     "name": "stdout",
     "output_type": "stream",
     "text": [
      "2024-01-24 02:26:51,597 INFO {/home/ehdykhne/nuplan-devkit/nuplan/planning/script/builders/simulation_builder.py:161}  Created 4 modified scenarios from scenario with token: 3211f636db6056a8.\n"
     ]
    },
    {
     "name": "stderr",
     "output_type": "stream",
     "text": [
      "100%|██████████| 4/4 [00:00<00:00, 755.02it/s]\n",
      "188it [00:01, 140.54it/s]"
     ]
    },
    {
     "name": "stdout",
     "output_type": "stream",
     "text": [
      "2024-01-24 02:26:51,605 INFO {/home/ehdykhne/nuplan-devkit/nuplan/planning/script/builders/simulation_builder.py:161}  Created 23 modified scenarios from scenario with token: 3231014941ea5eb9.\n"
     ]
    },
    {
     "name": "stderr",
     "output_type": "stream",
     "text": [
      "100%|██████████| 23/23 [00:00<00:00, 816.92it/s]\n",
      "188it [00:01, 140.54it/s]"
     ]
    },
    {
     "name": "stdout",
     "output_type": "stream",
     "text": [
      "2024-01-24 02:26:51,637 INFO {/home/ehdykhne/nuplan-devkit/nuplan/planning/script/builders/simulation_builder.py:161}  Created 7 modified scenarios from scenario with token: 324280841ad75813.\n"
     ]
    },
    {
     "name": "stderr",
     "output_type": "stream",
     "text": [
      "100%|██████████| 7/7 [00:00<00:00, 770.16it/s]\n",
      "188it [00:01, 140.54it/s]"
     ]
    },
    {
     "name": "stdout",
     "output_type": "stream",
     "text": [
      "2024-01-24 02:26:51,649 INFO {/home/ehdykhne/nuplan-devkit/nuplan/planning/script/builders/simulation_builder.py:161}  Created 13 modified scenarios from scenario with token: 327d56506b1156e0.\n"
     ]
    },
    {
     "name": "stderr",
     "output_type": "stream",
     "text": [
      "100%|██████████| 13/13 [00:00<00:00, 809.59it/s]\n",
      "188it [00:01, 140.54it/s]"
     ]
    },
    {
     "name": "stdout",
     "output_type": "stream",
     "text": [
      "2024-01-24 02:26:51,667 INFO {/home/ehdykhne/nuplan-devkit/nuplan/planning/script/builders/simulation_builder.py:161}  Created 48 modified scenarios from scenario with token: 32f111fd96c05ec1.\n"
     ]
    },
    {
     "name": "stderr",
     "output_type": "stream",
     "text": [
      "100%|██████████| 48/48 [00:00<00:00, 842.22it/s]\n",
      "188it [00:01, 140.54it/s]"
     ]
    },
    {
     "name": "stdout",
     "output_type": "stream",
     "text": [
      "2024-01-24 02:26:51,727 INFO {/home/ehdykhne/nuplan-devkit/nuplan/planning/script/builders/simulation_builder.py:161}  Created 20 modified scenarios from scenario with token: 334f6a8d9dce5c99.\n"
     ]
    },
    {
     "name": "stderr",
     "output_type": "stream",
     "text": [
      "100%|██████████| 20/20 [00:00<00:00, 777.08it/s]\n",
      "205it [00:01, 124.24it/s]"
     ]
    },
    {
     "name": "stdout",
     "output_type": "stream",
     "text": [
      "2024-01-24 02:26:51,756 INFO {/home/ehdykhne/nuplan-devkit/nuplan/planning/script/builders/simulation_builder.py:161}  Created 8 modified scenarios from scenario with token: 3377bd15b2f05595.\n"
     ]
    },
    {
     "name": "stderr",
     "output_type": "stream",
     "text": [
      "100%|██████████| 8/8 [00:00<00:00, 799.47it/s]\n",
      "205it [00:01, 124.24it/s]"
     ]
    },
    {
     "name": "stdout",
     "output_type": "stream",
     "text": [
      "2024-01-24 02:26:51,769 INFO {/home/ehdykhne/nuplan-devkit/nuplan/planning/script/builders/simulation_builder.py:161}  Created 7 modified scenarios from scenario with token: 34129cc4c24f5161.\n"
     ]
    },
    {
     "name": "stderr",
     "output_type": "stream",
     "text": [
      "100%|██████████| 7/7 [00:00<00:00, 787.92it/s]\n",
      "205it [00:01, 124.24it/s]"
     ]
    },
    {
     "name": "stdout",
     "output_type": "stream",
     "text": [
      "2024-01-24 02:26:51,781 INFO {/home/ehdykhne/nuplan-devkit/nuplan/planning/script/builders/simulation_builder.py:161}  Created 5 modified scenarios from scenario with token: 35696c64b06059e7.\n"
     ]
    },
    {
     "name": "stderr",
     "output_type": "stream",
     "text": [
      "100%|██████████| 5/5 [00:00<00:00, 739.32it/s]\n",
      "205it [00:01, 124.24it/s]"
     ]
    },
    {
     "name": "stdout",
     "output_type": "stream",
     "text": [
      "2024-01-24 02:26:51,790 INFO {/home/ehdykhne/nuplan-devkit/nuplan/planning/script/builders/simulation_builder.py:161}  Created 5 modified scenarios from scenario with token: 365955215a0c5cd7.\n"
     ]
    },
    {
     "name": "stderr",
     "output_type": "stream",
     "text": [
      "100%|██████████| 5/5 [00:00<00:00, 748.45it/s]\n",
      "205it [00:01, 124.24it/s]"
     ]
    },
    {
     "name": "stdout",
     "output_type": "stream",
     "text": [
      "2024-01-24 02:26:51,800 INFO {/home/ehdykhne/nuplan-devkit/nuplan/planning/script/builders/simulation_builder.py:161}  Created 28 modified scenarios from scenario with token: 36cb06d289925711.\n"
     ]
    },
    {
     "name": "stderr",
     "output_type": "stream",
     "text": [
      "100%|██████████| 28/28 [00:00<00:00, 847.57it/s]\n",
      "205it [00:01, 124.24it/s]"
     ]
    },
    {
     "name": "stdout",
     "output_type": "stream",
     "text": [
      "2024-01-24 02:26:51,836 INFO {/home/ehdykhne/nuplan-devkit/nuplan/planning/script/builders/simulation_builder.py:161}  Created 26 modified scenarios from scenario with token: 3945ebebc2035ce2.\n"
     ]
    },
    {
     "name": "stderr",
     "output_type": "stream",
     "text": [
      "100%|██████████| 26/26 [00:00<00:00, 835.71it/s]\n",
      "229it [00:01, 144.00it/s]"
     ]
    },
    {
     "name": "stdout",
     "output_type": "stream",
     "text": [
      "2024-01-24 02:26:51,870 INFO {/home/ehdykhne/nuplan-devkit/nuplan/planning/script/builders/simulation_builder.py:161}  Created 4 modified scenarios from scenario with token: 3a430a959d2555f0.\n"
     ]
    },
    {
     "name": "stderr",
     "output_type": "stream",
     "text": [
      "100%|██████████| 4/4 [00:00<00:00, 700.01it/s]\n",
      "229it [00:01, 144.00it/s]"
     ]
    },
    {
     "name": "stdout",
     "output_type": "stream",
     "text": [
      "2024-01-24 02:26:51,879 INFO {/home/ehdykhne/nuplan-devkit/nuplan/planning/script/builders/simulation_builder.py:161}  Created 34 modified scenarios from scenario with token: 3a46e1fb24a454fd.\n"
     ]
    },
    {
     "name": "stderr",
     "output_type": "stream",
     "text": [
      "100%|██████████| 34/34 [00:00<00:00, 820.84it/s]\n",
      "229it [00:01, 144.00it/s]"
     ]
    },
    {
     "name": "stdout",
     "output_type": "stream",
     "text": [
      "2024-01-24 02:26:51,923 INFO {/home/ehdykhne/nuplan-devkit/nuplan/planning/script/builders/simulation_builder.py:161}  Created 13 modified scenarios from scenario with token: 3aa2f662c8e852a3.\n"
     ]
    },
    {
     "name": "stderr",
     "output_type": "stream",
     "text": [
      "100%|██████████| 13/13 [00:00<00:00, 735.98it/s]\n",
      "229it [00:01, 144.00it/s]"
     ]
    },
    {
     "name": "stdout",
     "output_type": "stream",
     "text": [
      "2024-01-24 02:26:51,944 INFO {/home/ehdykhne/nuplan-devkit/nuplan/planning/script/builders/simulation_builder.py:161}  Created 3 modified scenarios from scenario with token: 3d657b4589695717.\n"
     ]
    },
    {
     "name": "stderr",
     "output_type": "stream",
     "text": [
      "100%|██████████| 3/3 [00:00<00:00, 690.38it/s]\n",
      "229it [00:01, 144.00it/s]"
     ]
    },
    {
     "name": "stdout",
     "output_type": "stream",
     "text": [
      "2024-01-24 02:26:51,950 INFO {/home/ehdykhne/nuplan-devkit/nuplan/planning/script/builders/simulation_builder.py:161}  Created 48 modified scenarios from scenario with token: 3e9aefbbda6252bb.\n"
     ]
    },
    {
     "name": "stderr",
     "output_type": "stream",
     "text": [
      "100%|██████████| 48/48 [00:00<00:00, 814.63it/s]\n",
      "246it [00:01, 136.85it/s]"
     ]
    },
    {
     "name": "stdout",
     "output_type": "stream",
     "text": [
      "2024-01-24 02:26:52,013 INFO {/home/ehdykhne/nuplan-devkit/nuplan/planning/script/builders/simulation_builder.py:161}  Created 30 modified scenarios from scenario with token: 3fa3564cc8605a4e.\n"
     ]
    },
    {
     "name": "stderr",
     "output_type": "stream",
     "text": [
      "100%|██████████| 30/30 [00:00<00:00, 802.73it/s]\n",
      "246it [00:01, 136.85it/s]"
     ]
    },
    {
     "name": "stdout",
     "output_type": "stream",
     "text": [
      "2024-01-24 02:26:52,053 INFO {/home/ehdykhne/nuplan-devkit/nuplan/planning/script/builders/simulation_builder.py:161}  Created 9 modified scenarios from scenario with token: 4011cec151d3581d.\n"
     ]
    },
    {
     "name": "stderr",
     "output_type": "stream",
     "text": [
      "100%|██████████| 9/9 [00:00<00:00, 776.13it/s]\n",
      "246it [00:01, 136.85it/s]"
     ]
    },
    {
     "name": "stdout",
     "output_type": "stream",
     "text": [
      "2024-01-24 02:26:52,068 INFO {/home/ehdykhne/nuplan-devkit/nuplan/planning/script/builders/simulation_builder.py:161}  Created 24 modified scenarios from scenario with token: 4014b7f2205751da.\n"
     ]
    },
    {
     "name": "stderr",
     "output_type": "stream",
     "text": [
      "100%|██████████| 24/24 [00:00<00:00, 796.31it/s]\n",
      "246it [00:01, 136.85it/s]"
     ]
    },
    {
     "name": "stdout",
     "output_type": "stream",
     "text": [
      "2024-01-24 02:26:52,101 INFO {/home/ehdykhne/nuplan-devkit/nuplan/planning/script/builders/simulation_builder.py:161}  Created 42 modified scenarios from scenario with token: 41082e6b33ea577b.\n"
     ]
    },
    {
     "name": "stderr",
     "output_type": "stream",
     "text": [
      "100%|██████████| 42/42 [00:00<00:00, 837.21it/s]\n",
      "246it [00:02, 136.85it/s]"
     ]
    },
    {
     "name": "stdout",
     "output_type": "stream",
     "text": [
      "2024-01-24 02:26:52,154 INFO {/home/ehdykhne/nuplan-devkit/nuplan/planning/script/builders/simulation_builder.py:161}  Created 29 modified scenarios from scenario with token: 416d9fc310c1548e.\n"
     ]
    },
    {
     "name": "stderr",
     "output_type": "stream",
     "text": [
      "100%|██████████| 29/29 [00:00<00:00, 838.69it/s]\n",
      "246it [00:02, 136.85it/s]"
     ]
    },
    {
     "name": "stdout",
     "output_type": "stream",
     "text": [
      "2024-01-24 02:26:52,192 INFO {/home/ehdykhne/nuplan-devkit/nuplan/planning/script/builders/simulation_builder.py:161}  Created 2 modified scenarios from scenario with token: 41c27d587bbd564e.\n"
     ]
    },
    {
     "name": "stderr",
     "output_type": "stream",
     "text": [
      "100%|██████████| 2/2 [00:00<00:00, 659.07it/s]\n",
      "246it [00:02, 136.85it/s]"
     ]
    },
    {
     "name": "stdout",
     "output_type": "stream",
     "text": [
      "2024-01-24 02:26:52,198 INFO {/home/ehdykhne/nuplan-devkit/nuplan/planning/script/builders/simulation_builder.py:161}  Created 2 modified scenarios from scenario with token: 429db1e4c4ef5c65.\n"
     ]
    },
    {
     "name": "stderr",
     "output_type": "stream",
     "text": [
      "100%|██████████| 2/2 [00:00<00:00, 605.76it/s]\n",
      "262it [00:02, 117.82it/s]"
     ]
    },
    {
     "name": "stdout",
     "output_type": "stream",
     "text": [
      "2024-01-24 02:26:52,204 INFO {/home/ehdykhne/nuplan-devkit/nuplan/planning/script/builders/simulation_builder.py:161}  Created 24 modified scenarios from scenario with token: 43bba0d5d69050c6.\n"
     ]
    },
    {
     "name": "stderr",
     "output_type": "stream",
     "text": [
      "100%|██████████| 24/24 [00:00<00:00, 809.20it/s]\n",
      "262it [00:02, 117.82it/s]"
     ]
    },
    {
     "name": "stdout",
     "output_type": "stream",
     "text": [
      "2024-01-24 02:26:52,237 INFO {/home/ehdykhne/nuplan-devkit/nuplan/planning/script/builders/simulation_builder.py:161}  Created 2 modified scenarios from scenario with token: 45b687cb1c86598a.\n"
     ]
    },
    {
     "name": "stderr",
     "output_type": "stream",
     "text": [
      "100%|██████████| 2/2 [00:00<00:00, 729.38it/s]\n",
      "262it [00:02, 117.82it/s]"
     ]
    },
    {
     "name": "stdout",
     "output_type": "stream",
     "text": [
      "2024-01-24 02:26:52,242 INFO {/home/ehdykhne/nuplan-devkit/nuplan/planning/script/builders/simulation_builder.py:161}  Created 76 modified scenarios from scenario with token: 461468dd6eaa5bcf.\n"
     ]
    },
    {
     "name": "stderr",
     "output_type": "stream",
     "text": [
      "100%|██████████| 76/76 [00:00<00:00, 860.01it/s]\n",
      "283it [00:02, 129.18it/s]"
     ]
    },
    {
     "name": "stdout",
     "output_type": "stream",
     "text": [
      "2024-01-24 02:26:52,334 INFO {/home/ehdykhne/nuplan-devkit/nuplan/planning/script/builders/simulation_builder.py:161}  Created 32 modified scenarios from scenario with token: 46a9df2bcef45432.\n"
     ]
    },
    {
     "name": "stderr",
     "output_type": "stream",
     "text": [
      "100%|██████████| 32/32 [00:00<00:00, 835.17it/s]\n",
      "283it [00:02, 129.18it/s]"
     ]
    },
    {
     "name": "stdout",
     "output_type": "stream",
     "text": [
      "2024-01-24 02:26:52,375 INFO {/home/ehdykhne/nuplan-devkit/nuplan/planning/script/builders/simulation_builder.py:161}  Created 51 modified scenarios from scenario with token: 46f83ee59a195ed1.\n"
     ]
    },
    {
     "name": "stderr",
     "output_type": "stream",
     "text": [
      "100%|██████████| 51/51 [00:00<00:00, 836.39it/s]\n",
      "283it [00:02, 129.18it/s]"
     ]
    },
    {
     "name": "stdout",
     "output_type": "stream",
     "text": [
      "2024-01-24 02:26:52,439 INFO {/home/ehdykhne/nuplan-devkit/nuplan/planning/script/builders/simulation_builder.py:161}  Created 25 modified scenarios from scenario with token: 479a6222feb350ea.\n"
     ]
    },
    {
     "name": "stderr",
     "output_type": "stream",
     "text": [
      "100%|██████████| 25/25 [00:00<00:00, 813.37it/s]\n",
      "283it [00:02, 129.18it/s]"
     ]
    },
    {
     "name": "stdout",
     "output_type": "stream",
     "text": [
      "2024-01-24 02:26:52,473 INFO {/home/ehdykhne/nuplan-devkit/nuplan/planning/script/builders/simulation_builder.py:161}  Created 15 modified scenarios from scenario with token: 47a00ae6ba3f5659.\n"
     ]
    },
    {
     "name": "stderr",
     "output_type": "stream",
     "text": [
      "100%|██████████| 15/15 [00:00<00:00, 820.79it/s]\n",
      "297it [00:02, 116.05it/s]"
     ]
    },
    {
     "name": "stdout",
     "output_type": "stream",
     "text": [
      "2024-01-24 02:26:52,494 INFO {/home/ehdykhne/nuplan-devkit/nuplan/planning/script/builders/simulation_builder.py:161}  Created 21 modified scenarios from scenario with token: 4b46e9767a155426.\n"
     ]
    },
    {
     "name": "stderr",
     "output_type": "stream",
     "text": [
      "100%|██████████| 21/21 [00:00<00:00, 815.34it/s]\n",
      "297it [00:02, 116.05it/s]"
     ]
    },
    {
     "name": "stdout",
     "output_type": "stream",
     "text": [
      "2024-01-24 02:26:52,522 INFO {/home/ehdykhne/nuplan-devkit/nuplan/planning/script/builders/simulation_builder.py:161}  Created 33 modified scenarios from scenario with token: 4b4b6552ec245124.\n"
     ]
    },
    {
     "name": "stderr",
     "output_type": "stream",
     "text": [
      "100%|██████████| 33/33 [00:00<00:00, 839.57it/s]\n",
      "297it [00:02, 116.05it/s]"
     ]
    },
    {
     "name": "stdout",
     "output_type": "stream",
     "text": [
      "2024-01-24 02:26:52,564 INFO {/home/ehdykhne/nuplan-devkit/nuplan/planning/script/builders/simulation_builder.py:161}  Created 3 modified scenarios from scenario with token: 4c0f403d4ecb5221.\n"
     ]
    },
    {
     "name": "stderr",
     "output_type": "stream",
     "text": [
      "100%|██████████| 3/3 [00:00<00:00, 766.32it/s]\n",
      "297it [00:02, 116.05it/s]"
     ]
    },
    {
     "name": "stdout",
     "output_type": "stream",
     "text": [
      "2024-01-24 02:26:52,571 INFO {/home/ehdykhne/nuplan-devkit/nuplan/planning/script/builders/simulation_builder.py:161}  Created 3 modified scenarios from scenario with token: 4c40a3b952b551e8.\n"
     ]
    },
    {
     "name": "stderr",
     "output_type": "stream",
     "text": [
      "100%|██████████| 3/3 [00:00<00:00, 708.98it/s]\n",
      "297it [00:02, 116.05it/s]"
     ]
    },
    {
     "name": "stdout",
     "output_type": "stream",
     "text": [
      "2024-01-24 02:26:52,578 INFO {/home/ehdykhne/nuplan-devkit/nuplan/planning/script/builders/simulation_builder.py:161}  Created 7 modified scenarios from scenario with token: 4d8a22000bfa5cbb.\n"
     ]
    },
    {
     "name": "stderr",
     "output_type": "stream",
     "text": [
      "100%|██████████| 7/7 [00:00<00:00, 768.27it/s]\n",
      "297it [00:02, 116.05it/s]"
     ]
    },
    {
     "name": "stdout",
     "output_type": "stream",
     "text": [
      "2024-01-24 02:26:52,590 INFO {/home/ehdykhne/nuplan-devkit/nuplan/planning/script/builders/simulation_builder.py:161}  Created 50 modified scenarios from scenario with token: 4ecac8be29b650a0.\n"
     ]
    },
    {
     "name": "stderr",
     "output_type": "stream",
     "text": [
      "100%|██████████| 50/50 [00:00<00:00, 809.89it/s]\n",
      "322it [00:02, 128.21it/s]"
     ]
    },
    {
     "name": "stdout",
     "output_type": "stream",
     "text": [
      "2024-01-24 02:26:52,655 INFO {/home/ehdykhne/nuplan-devkit/nuplan/planning/script/builders/simulation_builder.py:161}  Created 7 modified scenarios from scenario with token: 4fe0289baf5e5f07.\n"
     ]
    },
    {
     "name": "stderr",
     "output_type": "stream",
     "text": [
      "100%|██████████| 7/7 [00:00<00:00, 727.83it/s]\n",
      "322it [00:02, 128.21it/s]"
     ]
    },
    {
     "name": "stdout",
     "output_type": "stream",
     "text": [
      "2024-01-24 02:26:52,667 INFO {/home/ehdykhne/nuplan-devkit/nuplan/planning/script/builders/simulation_builder.py:161}  Created 15 modified scenarios from scenario with token: 52f9cafd69025e2a.\n"
     ]
    },
    {
     "name": "stderr",
     "output_type": "stream",
     "text": [
      "100%|██████████| 15/15 [00:00<00:00, 818.55it/s]\n",
      "322it [00:02, 128.21it/s]"
     ]
    },
    {
     "name": "stdout",
     "output_type": "stream",
     "text": [
      "2024-01-24 02:26:52,689 INFO {/home/ehdykhne/nuplan-devkit/nuplan/planning/script/builders/simulation_builder.py:161}  Created 31 modified scenarios from scenario with token: 54d9d5cd0a6356d5.\n"
     ]
    },
    {
     "name": "stderr",
     "output_type": "stream",
     "text": [
      "100%|██████████| 31/31 [00:00<00:00, 810.98it/s]\n",
      "322it [00:02, 128.21it/s]"
     ]
    },
    {
     "name": "stdout",
     "output_type": "stream",
     "text": [
      "2024-01-24 02:26:52,730 INFO {/home/ehdykhne/nuplan-devkit/nuplan/planning/script/builders/simulation_builder.py:161}  Created 7 modified scenarios from scenario with token: 56898515994f588f.\n"
     ]
    },
    {
     "name": "stderr",
     "output_type": "stream",
     "text": [
      "100%|██████████| 7/7 [00:00<00:00, 782.60it/s]\n",
      "322it [00:02, 128.21it/s]"
     ]
    },
    {
     "name": "stdout",
     "output_type": "stream",
     "text": [
      "2024-01-24 02:26:52,742 INFO {/home/ehdykhne/nuplan-devkit/nuplan/planning/script/builders/simulation_builder.py:161}  Created 25 modified scenarios from scenario with token: 59fbf1b5f25b524e.\n"
     ]
    },
    {
     "name": "stderr",
     "output_type": "stream",
     "text": [
      "100%|██████████| 25/25 [00:00<00:00, 812.18it/s]\n",
      "365it [00:02, 184.97it/s]"
     ]
    },
    {
     "name": "stdout",
     "output_type": "stream",
     "text": [
      "2024-01-24 02:26:52,776 INFO {/home/ehdykhne/nuplan-devkit/nuplan/planning/script/builders/simulation_builder.py:161}  Created 15 modified scenarios from scenario with token: 5ac1d826c7b35016.\n"
     ]
    },
    {
     "name": "stderr",
     "output_type": "stream",
     "text": [
      "100%|██████████| 15/15 [00:00<00:00, 847.56it/s]\n",
      "365it [00:02, 184.97it/s]"
     ]
    },
    {
     "name": "stdout",
     "output_type": "stream",
     "text": [
      "2024-01-24 02:26:52,796 INFO {/home/ehdykhne/nuplan-devkit/nuplan/planning/script/builders/simulation_builder.py:161}  Created 11 modified scenarios from scenario with token: 5ac5795b9b5851e8.\n"
     ]
    },
    {
     "name": "stderr",
     "output_type": "stream",
     "text": [
      "100%|██████████| 11/11 [00:00<00:00, 847.18it/s]\n",
      "365it [00:02, 184.97it/s]"
     ]
    },
    {
     "name": "stdout",
     "output_type": "stream",
     "text": [
      "2024-01-24 02:26:52,812 INFO {/home/ehdykhne/nuplan-devkit/nuplan/planning/script/builders/simulation_builder.py:161}  Created 2 modified scenarios from scenario with token: 5b4d9d4c372c5ec4.\n"
     ]
    },
    {
     "name": "stderr",
     "output_type": "stream",
     "text": [
      "100%|██████████| 2/2 [00:00<00:00, 532.44it/s]\n",
      "365it [00:02, 184.97it/s]"
     ]
    },
    {
     "name": "stdout",
     "output_type": "stream",
     "text": [
      "2024-01-24 02:26:52,818 INFO {/home/ehdykhne/nuplan-devkit/nuplan/planning/script/builders/simulation_builder.py:161}  Created 3 modified scenarios from scenario with token: 5b8ada4b36fd5f91.\n"
     ]
    },
    {
     "name": "stderr",
     "output_type": "stream",
     "text": [
      "100%|██████████| 3/3 [00:00<00:00, 722.49it/s]\n",
      "365it [00:02, 184.97it/s]"
     ]
    },
    {
     "name": "stdout",
     "output_type": "stream",
     "text": [
      "2024-01-24 02:26:52,826 INFO {/home/ehdykhne/nuplan-devkit/nuplan/planning/script/builders/simulation_builder.py:161}  Created 7 modified scenarios from scenario with token: 5bc98127f6b05c6f.\n"
     ]
    },
    {
     "name": "stderr",
     "output_type": "stream",
     "text": [
      "100%|██████████| 7/7 [00:00<00:00, 738.90it/s]\n",
      "365it [00:02, 184.97it/s]"
     ]
    },
    {
     "name": "stdout",
     "output_type": "stream",
     "text": [
      "2024-01-24 02:26:52,838 INFO {/home/ehdykhne/nuplan-devkit/nuplan/planning/script/builders/simulation_builder.py:161}  Created 15 modified scenarios from scenario with token: 5c8eb10e0c305a50.\n"
     ]
    },
    {
     "name": "stderr",
     "output_type": "stream",
     "text": [
      "100%|██████████| 15/15 [00:00<00:00, 799.25it/s]\n",
      "365it [00:02, 184.97it/s]"
     ]
    },
    {
     "name": "stdout",
     "output_type": "stream",
     "text": [
      "2024-01-24 02:26:52,860 INFO {/home/ehdykhne/nuplan-devkit/nuplan/planning/script/builders/simulation_builder.py:161}  Created 79 modified scenarios from scenario with token: 5f81fc8cdba45ff6.\n"
     ]
    },
    {
     "name": "stderr",
     "output_type": "stream",
     "text": [
      "100%|██████████| 79/79 [00:00<00:00, 234.71it/s]\n",
      "365it [00:03, 184.97it/s]"
     ]
    },
    {
     "name": "stdout",
     "output_type": "stream",
     "text": [
      "2024-01-24 02:26:53,199 INFO {/home/ehdykhne/nuplan-devkit/nuplan/planning/script/builders/simulation_builder.py:161}  Created 44 modified scenarios from scenario with token: 5fb4bbe8c6b455c2.\n"
     ]
    },
    {
     "name": "stderr",
     "output_type": "stream",
     "text": [
      "100%|██████████| 44/44 [00:00<00:00, 818.22it/s]\n",
      "365it [00:03, 184.97it/s]"
     ]
    },
    {
     "name": "stdout",
     "output_type": "stream",
     "text": [
      "2024-01-24 02:26:53,256 INFO {/home/ehdykhne/nuplan-devkit/nuplan/planning/script/builders/simulation_builder.py:161}  Created 83 modified scenarios from scenario with token: 60625d1fbe515732.\n"
     ]
    },
    {
     "name": "stderr",
     "output_type": "stream",
     "text": [
      "100%|██████████| 83/83 [00:00<00:00, 845.27it/s]\n",
      "386it [00:03, 90.93it/s] "
     ]
    },
    {
     "name": "stdout",
     "output_type": "stream",
     "text": [
      "2024-01-24 02:26:53,358 INFO {/home/ehdykhne/nuplan-devkit/nuplan/planning/script/builders/simulation_builder.py:161}  Created 25 modified scenarios from scenario with token: 6084baa865c15229.\n"
     ]
    },
    {
     "name": "stderr",
     "output_type": "stream",
     "text": [
      "100%|██████████| 25/25 [00:00<00:00, 801.12it/s]\n",
      "386it [00:03, 90.93it/s]"
     ]
    },
    {
     "name": "stdout",
     "output_type": "stream",
     "text": [
      "2024-01-24 02:26:53,392 INFO {/home/ehdykhne/nuplan-devkit/nuplan/planning/script/builders/simulation_builder.py:161}  Created 34 modified scenarios from scenario with token: 6160d87c9f1d5f03.\n"
     ]
    },
    {
     "name": "stderr",
     "output_type": "stream",
     "text": [
      "100%|██████████| 34/34 [00:00<00:00, 837.95it/s]\n",
      "386it [00:03, 90.93it/s]"
     ]
    },
    {
     "name": "stdout",
     "output_type": "stream",
     "text": [
      "2024-01-24 02:26:53,435 INFO {/home/ehdykhne/nuplan-devkit/nuplan/planning/script/builders/simulation_builder.py:161}  Created 30 modified scenarios from scenario with token: 6177d28aed9b55b3.\n"
     ]
    },
    {
     "name": "stderr",
     "output_type": "stream",
     "text": [
      "100%|██████████| 30/30 [00:00<00:00, 818.91it/s]\n",
      "386it [00:03, 90.93it/s]"
     ]
    },
    {
     "name": "stdout",
     "output_type": "stream",
     "text": [
      "2024-01-24 02:26:53,474 INFO {/home/ehdykhne/nuplan-devkit/nuplan/planning/script/builders/simulation_builder.py:161}  Created 5 modified scenarios from scenario with token: 619c68d35e2a5aee.\n"
     ]
    },
    {
     "name": "stderr",
     "output_type": "stream",
     "text": [
      "100%|██████████| 5/5 [00:00<00:00, 803.94it/s]\n",
      "386it [00:03, 90.93it/s]"
     ]
    },
    {
     "name": "stdout",
     "output_type": "stream",
     "text": [
      "2024-01-24 02:26:53,482 INFO {/home/ehdykhne/nuplan-devkit/nuplan/planning/script/builders/simulation_builder.py:161}  Created 18 modified scenarios from scenario with token: 62d2867d8eb65d75.\n"
     ]
    },
    {
     "name": "stderr",
     "output_type": "stream",
     "text": [
      "100%|██████████| 18/18 [00:00<00:00, 828.36it/s]\n",
      "402it [00:03, 94.05it/s]"
     ]
    },
    {
     "name": "stdout",
     "output_type": "stream",
     "text": [
      "2024-01-24 02:26:53,506 INFO {/home/ehdykhne/nuplan-devkit/nuplan/planning/script/builders/simulation_builder.py:161}  Created 11 modified scenarios from scenario with token: 638b538eb3485dd3.\n"
     ]
    },
    {
     "name": "stderr",
     "output_type": "stream",
     "text": [
      "100%|██████████| 11/11 [00:00<00:00, 788.75it/s]\n",
      "402it [00:03, 94.05it/s]"
     ]
    },
    {
     "name": "stdout",
     "output_type": "stream",
     "text": [
      "2024-01-24 02:26:53,524 INFO {/home/ehdykhne/nuplan-devkit/nuplan/planning/script/builders/simulation_builder.py:161}  Created 13 modified scenarios from scenario with token: 64f8b0f7dbb45136.\n"
     ]
    },
    {
     "name": "stderr",
     "output_type": "stream",
     "text": [
      "100%|██████████| 13/13 [00:00<00:00, 812.89it/s]\n",
      "402it [00:03, 94.05it/s]"
     ]
    },
    {
     "name": "stdout",
     "output_type": "stream",
     "text": [
      "2024-01-24 02:26:53,542 INFO {/home/ehdykhne/nuplan-devkit/nuplan/planning/script/builders/simulation_builder.py:161}  Created 8 modified scenarios from scenario with token: 6625180f1561521a.\n"
     ]
    },
    {
     "name": "stderr",
     "output_type": "stream",
     "text": [
      "100%|██████████| 8/8 [00:00<00:00, 809.11it/s]\n",
      "402it [00:03, 94.05it/s]"
     ]
    },
    {
     "name": "stdout",
     "output_type": "stream",
     "text": [
      "2024-01-24 02:26:53,555 INFO {/home/ehdykhne/nuplan-devkit/nuplan/planning/script/builders/simulation_builder.py:161}  Created 16 modified scenarios from scenario with token: 66949bd63c545fcc.\n"
     ]
    },
    {
     "name": "stderr",
     "output_type": "stream",
     "text": [
      "100%|██████████| 16/16 [00:00<00:00, 769.72it/s]\n",
      "402it [00:03, 94.05it/s]"
     ]
    },
    {
     "name": "stdout",
     "output_type": "stream",
     "text": [
      "2024-01-24 02:26:53,579 INFO {/home/ehdykhne/nuplan-devkit/nuplan/planning/script/builders/simulation_builder.py:161}  Created 3 modified scenarios from scenario with token: 67f184a962c850b9.\n"
     ]
    },
    {
     "name": "stderr",
     "output_type": "stream",
     "text": [
      "100%|██████████| 3/3 [00:00<00:00, 760.07it/s]\n",
      "402it [00:03, 94.05it/s]"
     ]
    },
    {
     "name": "stdout",
     "output_type": "stream",
     "text": [
      "2024-01-24 02:26:53,585 INFO {/home/ehdykhne/nuplan-devkit/nuplan/planning/script/builders/simulation_builder.py:161}  Created 4 modified scenarios from scenario with token: 68da65c564e25e2d.\n"
     ]
    },
    {
     "name": "stderr",
     "output_type": "stream",
     "text": [
      "100%|██████████| 4/4 [00:00<00:00, 746.45it/s]\n",
      "402it [00:03, 94.05it/s]"
     ]
    },
    {
     "name": "stdout",
     "output_type": "stream",
     "text": [
      "2024-01-24 02:26:53,594 INFO {/home/ehdykhne/nuplan-devkit/nuplan/planning/script/builders/simulation_builder.py:161}  Created 15 modified scenarios from scenario with token: 6aa4451128eb53dc.\n"
     ]
    },
    {
     "name": "stderr",
     "output_type": "stream",
     "text": [
      "100%|██████████| 15/15 [00:00<00:00, 852.65it/s]\n",
      "425it [00:03, 113.46it/s]"
     ]
    },
    {
     "name": "stdout",
     "output_type": "stream",
     "text": [
      "2024-01-24 02:26:53,614 INFO {/home/ehdykhne/nuplan-devkit/nuplan/planning/script/builders/simulation_builder.py:161}  Created 38 modified scenarios from scenario with token: 6c4fab782d65547e.\n"
     ]
    },
    {
     "name": "stderr",
     "output_type": "stream",
     "text": [
      "100%|██████████| 38/38 [00:00<00:00, 824.80it/s]\n",
      "425it [00:03, 113.46it/s]"
     ]
    },
    {
     "name": "stdout",
     "output_type": "stream",
     "text": [
      "2024-01-24 02:26:53,663 INFO {/home/ehdykhne/nuplan-devkit/nuplan/planning/script/builders/simulation_builder.py:161}  Created 1 modified scenarios from scenario with token: 6e09a54b0b1f590d.\n"
     ]
    },
    {
     "name": "stderr",
     "output_type": "stream",
     "text": [
      "100%|██████████| 1/1 [00:00<00:00, 606.03it/s]\n",
      "425it [00:03, 113.46it/s]"
     ]
    },
    {
     "name": "stdout",
     "output_type": "stream",
     "text": [
      "2024-01-24 02:26:53,668 INFO {/home/ehdykhne/nuplan-devkit/nuplan/planning/script/builders/simulation_builder.py:161}  Created 22 modified scenarios from scenario with token: 6f40e62a382f5c29.\n"
     ]
    },
    {
     "name": "stderr",
     "output_type": "stream",
     "text": [
      "100%|██████████| 22/22 [00:00<00:00, 844.22it/s]\n",
      "425it [00:03, 113.46it/s]"
     ]
    },
    {
     "name": "stdout",
     "output_type": "stream",
     "text": [
      "2024-01-24 02:26:53,697 INFO {/home/ehdykhne/nuplan-devkit/nuplan/planning/script/builders/simulation_builder.py:161}  Created 23 modified scenarios from scenario with token: 6f6fb774a69c5350.\n"
     ]
    },
    {
     "name": "stderr",
     "output_type": "stream",
     "text": [
      "100%|██████████| 23/23 [00:00<00:00, 828.76it/s]\n",
      "442it [00:03, 120.63it/s]"
     ]
    },
    {
     "name": "stdout",
     "output_type": "stream",
     "text": [
      "2024-01-24 02:26:53,727 INFO {/home/ehdykhne/nuplan-devkit/nuplan/planning/script/builders/simulation_builder.py:161}  Created 39 modified scenarios from scenario with token: 7314d2bb08c75590.\n"
     ]
    },
    {
     "name": "stderr",
     "output_type": "stream",
     "text": [
      "100%|██████████| 39/39 [00:00<00:00, 864.80it/s]\n",
      "442it [00:03, 120.63it/s]"
     ]
    },
    {
     "name": "stdout",
     "output_type": "stream",
     "text": [
      "2024-01-24 02:26:53,775 INFO {/home/ehdykhne/nuplan-devkit/nuplan/planning/script/builders/simulation_builder.py:161}  Created 4 modified scenarios from scenario with token: 743f82f104055ba5.\n"
     ]
    },
    {
     "name": "stderr",
     "output_type": "stream",
     "text": [
      "100%|██████████| 4/4 [00:00<00:00, 724.37it/s]\n",
      "442it [00:03, 120.63it/s]"
     ]
    },
    {
     "name": "stdout",
     "output_type": "stream",
     "text": [
      "2024-01-24 02:26:53,783 INFO {/home/ehdykhne/nuplan-devkit/nuplan/planning/script/builders/simulation_builder.py:161}  Created 5 modified scenarios from scenario with token: 7646a0ea04525229.\n"
     ]
    },
    {
     "name": "stderr",
     "output_type": "stream",
     "text": [
      "100%|██████████| 5/5 [00:00<00:00, 805.42it/s]\n",
      "442it [00:03, 120.63it/s]"
     ]
    },
    {
     "name": "stdout",
     "output_type": "stream",
     "text": [
      "2024-01-24 02:26:53,792 INFO {/home/ehdykhne/nuplan-devkit/nuplan/planning/script/builders/simulation_builder.py:161}  Created 36 modified scenarios from scenario with token: 76bb5406073553a8.\n"
     ]
    },
    {
     "name": "stderr",
     "output_type": "stream",
     "text": [
      "100%|██████████| 36/36 [00:00<00:00, 836.38it/s]\n",
      "460it [00:03, 129.72it/s]"
     ]
    },
    {
     "name": "stdout",
     "output_type": "stream",
     "text": [
      "2024-01-24 02:26:53,838 INFO {/home/ehdykhne/nuplan-devkit/nuplan/planning/script/builders/simulation_builder.py:161}  Created 6 modified scenarios from scenario with token: 775e489b34c95de4.\n"
     ]
    },
    {
     "name": "stderr",
     "output_type": "stream",
     "text": [
      "100%|██████████| 6/6 [00:00<00:00, 769.57it/s]\n",
      "460it [00:03, 129.72it/s]"
     ]
    },
    {
     "name": "stdout",
     "output_type": "stream",
     "text": [
      "2024-01-24 02:26:53,849 INFO {/home/ehdykhne/nuplan-devkit/nuplan/planning/script/builders/simulation_builder.py:161}  Created 81 modified scenarios from scenario with token: 778f1c0b903e52ae.\n"
     ]
    },
    {
     "name": "stderr",
     "output_type": "stream",
     "text": [
      "100%|██████████| 81/81 [00:00<00:00, 852.50it/s]\n",
      "460it [00:03, 129.72it/s]"
     ]
    },
    {
     "name": "stdout",
     "output_type": "stream",
     "text": [
      "2024-01-24 02:26:53,946 INFO {/home/ehdykhne/nuplan-devkit/nuplan/planning/script/builders/simulation_builder.py:161}  Created 38 modified scenarios from scenario with token: 79f267244ab4523e.\n"
     ]
    },
    {
     "name": "stderr",
     "output_type": "stream",
     "text": [
      "100%|██████████| 38/38 [00:00<00:00, 813.70it/s]\n",
      "476it [00:03, 120.92it/s]"
     ]
    },
    {
     "name": "stdout",
     "output_type": "stream",
     "text": [
      "2024-01-24 02:26:53,996 INFO {/home/ehdykhne/nuplan-devkit/nuplan/planning/script/builders/simulation_builder.py:161}  Created 37 modified scenarios from scenario with token: 7a9ea0df396a5211.\n"
     ]
    },
    {
     "name": "stderr",
     "output_type": "stream",
     "text": [
      "100%|██████████| 37/37 [00:00<00:00, 804.74it/s]\n",
      "476it [00:03, 120.92it/s]"
     ]
    },
    {
     "name": "stdout",
     "output_type": "stream",
     "text": [
      "2024-01-24 02:26:54,045 INFO {/home/ehdykhne/nuplan-devkit/nuplan/planning/script/builders/simulation_builder.py:161}  Created 32 modified scenarios from scenario with token: 7c1f2cd9001158c9.\n"
     ]
    },
    {
     "name": "stderr",
     "output_type": "stream",
     "text": [
      "100%|██████████| 32/32 [00:00<00:00, 820.60it/s]\n",
      "476it [00:03, 120.92it/s]"
     ]
    },
    {
     "name": "stdout",
     "output_type": "stream",
     "text": [
      "2024-01-24 02:26:54,087 INFO {/home/ehdykhne/nuplan-devkit/nuplan/planning/script/builders/simulation_builder.py:161}  Created 1 modified scenarios from scenario with token: 7d13e70327b95426.\n"
     ]
    },
    {
     "name": "stderr",
     "output_type": "stream",
     "text": [
      "100%|██████████| 1/1 [00:00<00:00, 549.78it/s]\n",
      "476it [00:03, 120.92it/s]"
     ]
    },
    {
     "name": "stdout",
     "output_type": "stream",
     "text": [
      "2024-01-24 02:26:54,091 INFO {/home/ehdykhne/nuplan-devkit/nuplan/planning/script/builders/simulation_builder.py:161}  Created 7 modified scenarios from scenario with token: 805cd87ea14e57d3.\n"
     ]
    },
    {
     "name": "stderr",
     "output_type": "stream",
     "text": [
      "100%|██████████| 7/7 [00:00<00:00, 744.48it/s]\n",
      "500it [00:03, 144.09it/s]"
     ]
    },
    {
     "name": "stdout",
     "output_type": "stream",
     "text": [
      "2024-01-24 02:26:54,105 INFO {/home/ehdykhne/nuplan-devkit/nuplan/planning/script/builders/simulation_builder.py:161}  Created 56 modified scenarios from scenario with token: 8096bf9e451a53f7.\n"
     ]
    },
    {
     "name": "stderr",
     "output_type": "stream",
     "text": [
      "100%|██████████| 56/56 [00:00<00:00, 836.68it/s]\n",
      "500it [00:04, 144.09it/s]"
     ]
    },
    {
     "name": "stdout",
     "output_type": "stream",
     "text": [
      "2024-01-24 02:26:54,175 INFO {/home/ehdykhne/nuplan-devkit/nuplan/planning/script/builders/simulation_builder.py:161}  Created 24 modified scenarios from scenario with token: 823c2c8ef68b5fc3.\n"
     ]
    },
    {
     "name": "stderr",
     "output_type": "stream",
     "text": [
      "100%|██████████| 24/24 [00:00<00:00, 812.31it/s]\n",
      "500it [00:04, 144.09it/s]"
     ]
    },
    {
     "name": "stdout",
     "output_type": "stream",
     "text": [
      "2024-01-24 02:26:54,208 INFO {/home/ehdykhne/nuplan-devkit/nuplan/planning/script/builders/simulation_builder.py:161}  Created 58 modified scenarios from scenario with token: 82c0672c470a50c4.\n"
     ]
    },
    {
     "name": "stderr",
     "output_type": "stream",
     "text": [
      "100%|██████████| 58/58 [00:00<00:00, 814.90it/s]\n",
      "500it [00:04, 144.09it/s]"
     ]
    },
    {
     "name": "stdout",
     "output_type": "stream",
     "text": [
      "2024-01-24 02:26:54,282 INFO {/home/ehdykhne/nuplan-devkit/nuplan/planning/script/builders/simulation_builder.py:161}  Created 27 modified scenarios from scenario with token: 8418271b3feb5ef3.\n"
     ]
    },
    {
     "name": "stderr",
     "output_type": "stream",
     "text": [
      "100%|██████████| 27/27 [00:00<00:00, 826.41it/s]\n",
      "500it [00:04, 144.09it/s]"
     ]
    },
    {
     "name": "stdout",
     "output_type": "stream",
     "text": [
      "2024-01-24 02:26:54,317 INFO {/home/ehdykhne/nuplan-devkit/nuplan/planning/script/builders/simulation_builder.py:161}  Created 2 modified scenarios from scenario with token: 8564e26cccfa551a.\n"
     ]
    },
    {
     "name": "stderr",
     "output_type": "stream",
     "text": [
      "100%|██████████| 2/2 [00:00<00:00, 669.91it/s]\n",
      "500it [00:04, 144.09it/s]"
     ]
    },
    {
     "name": "stdout",
     "output_type": "stream",
     "text": [
      "2024-01-24 02:26:54,323 INFO {/home/ehdykhne/nuplan-devkit/nuplan/planning/script/builders/simulation_builder.py:161}  Created 19 modified scenarios from scenario with token: 8778508263c95514.\n"
     ]
    },
    {
     "name": "stderr",
     "output_type": "stream",
     "text": [
      "100%|██████████| 19/19 [00:00<00:00, 835.64it/s]\n",
      "517it [00:04, 112.44it/s]"
     ]
    },
    {
     "name": "stdout",
     "output_type": "stream",
     "text": [
      "2024-01-24 02:26:54,349 INFO {/home/ehdykhne/nuplan-devkit/nuplan/planning/script/builders/simulation_builder.py:161}  Created 60 modified scenarios from scenario with token: 88466e8458fc5ff5.\n"
     ]
    },
    {
     "name": "stderr",
     "output_type": "stream",
     "text": [
      "100%|██████████| 60/60 [00:00<00:00, 809.04it/s]\n",
      "517it [00:04, 112.44it/s]"
     ]
    },
    {
     "name": "stdout",
     "output_type": "stream",
     "text": [
      "2024-01-24 02:26:54,425 INFO {/home/ehdykhne/nuplan-devkit/nuplan/planning/script/builders/simulation_builder.py:161}  Created 8 modified scenarios from scenario with token: 8a4dda21d1bc5e6e.\n"
     ]
    },
    {
     "name": "stderr",
     "output_type": "stream",
     "text": [
      "100%|██████████| 8/8 [00:00<00:00, 779.03it/s]\n",
      "517it [00:04, 112.44it/s]"
     ]
    },
    {
     "name": "stdout",
     "output_type": "stream",
     "text": [
      "2024-01-24 02:26:54,439 INFO {/home/ehdykhne/nuplan-devkit/nuplan/planning/script/builders/simulation_builder.py:161}  Created 10 modified scenarios from scenario with token: 8c68ee9097605f54.\n"
     ]
    },
    {
     "name": "stderr",
     "output_type": "stream",
     "text": [
      "100%|██████████| 10/10 [00:00<00:00, 820.48it/s]\n",
      "534it [00:04, 122.56it/s]"
     ]
    },
    {
     "name": "stdout",
     "output_type": "stream",
     "text": [
      "2024-01-24 02:26:54,454 INFO {/home/ehdykhne/nuplan-devkit/nuplan/planning/script/builders/simulation_builder.py:161}  Created 27 modified scenarios from scenario with token: 8d4b223795305582.\n"
     ]
    },
    {
     "name": "stderr",
     "output_type": "stream",
     "text": [
      "100%|██████████| 27/27 [00:00<00:00, 812.73it/s]\n",
      "534it [00:04, 122.56it/s]"
     ]
    },
    {
     "name": "stdout",
     "output_type": "stream",
     "text": [
      "2024-01-24 02:26:54,490 INFO {/home/ehdykhne/nuplan-devkit/nuplan/planning/script/builders/simulation_builder.py:161}  Created 5 modified scenarios from scenario with token: 8fb6d0d6dc275f06.\n"
     ]
    },
    {
     "name": "stderr",
     "output_type": "stream",
     "text": [
      "100%|██████████| 5/5 [00:00<00:00, 725.83it/s]\n",
      "534it [00:04, 122.56it/s]"
     ]
    },
    {
     "name": "stdout",
     "output_type": "stream",
     "text": [
      "2024-01-24 02:26:54,500 INFO {/home/ehdykhne/nuplan-devkit/nuplan/planning/script/builders/simulation_builder.py:161}  Created 4 modified scenarios from scenario with token: 913a8e2525075d74.\n"
     ]
    },
    {
     "name": "stderr",
     "output_type": "stream",
     "text": [
      "100%|██████████| 4/4 [00:00<00:00, 735.71it/s]\n",
      "534it [00:04, 122.56it/s]"
     ]
    },
    {
     "name": "stdout",
     "output_type": "stream",
     "text": [
      "2024-01-24 02:26:54,508 INFO {/home/ehdykhne/nuplan-devkit/nuplan/planning/script/builders/simulation_builder.py:161}  Created 20 modified scenarios from scenario with token: 94704a38a9f95fb4.\n"
     ]
    },
    {
     "name": "stderr",
     "output_type": "stream",
     "text": [
      "100%|██████████| 20/20 [00:00<00:00, 833.87it/s]\n",
      "534it [00:04, 122.56it/s]"
     ]
    },
    {
     "name": "stdout",
     "output_type": "stream",
     "text": [
      "2024-01-24 02:26:54,535 INFO {/home/ehdykhne/nuplan-devkit/nuplan/planning/script/builders/simulation_builder.py:161}  Created 55 modified scenarios from scenario with token: 95a1a8c1a92b5a1a.\n"
     ]
    },
    {
     "name": "stderr",
     "output_type": "stream",
     "text": [
      "100%|██████████| 55/55 [00:00<00:00, 819.39it/s]\n",
      "567it [00:04, 151.19it/s]"
     ]
    },
    {
     "name": "stdout",
     "output_type": "stream",
     "text": [
      "2024-01-24 02:26:54,605 INFO {/home/ehdykhne/nuplan-devkit/nuplan/planning/script/builders/simulation_builder.py:161}  Created 43 modified scenarios from scenario with token: 963b5fa9c04651fa.\n"
     ]
    },
    {
     "name": "stderr",
     "output_type": "stream",
     "text": [
      "100%|██████████| 43/43 [00:00<00:00, 837.77it/s]\n",
      "567it [00:04, 151.19it/s]"
     ]
    },
    {
     "name": "stdout",
     "output_type": "stream",
     "text": [
      "2024-01-24 02:26:54,659 INFO {/home/ehdykhne/nuplan-devkit/nuplan/planning/script/builders/simulation_builder.py:161}  Created 2 modified scenarios from scenario with token: 97d48171abf65591.\n"
     ]
    },
    {
     "name": "stderr",
     "output_type": "stream",
     "text": [
      "100%|██████████| 2/2 [00:00<00:00, 718.69it/s]\n",
      "567it [00:04, 151.19it/s]"
     ]
    },
    {
     "name": "stdout",
     "output_type": "stream",
     "text": [
      "2024-01-24 02:26:54,665 INFO {/home/ehdykhne/nuplan-devkit/nuplan/planning/script/builders/simulation_builder.py:161}  Created 88 modified scenarios from scenario with token: 9ed370fdb95e5c76.\n"
     ]
    },
    {
     "name": "stderr",
     "output_type": "stream",
     "text": [
      "100%|██████████| 88/88 [00:00<00:00, 813.17it/s]\n",
      "596it [00:04, 157.14it/s]"
     ]
    },
    {
     "name": "stdout",
     "output_type": "stream",
     "text": [
      "2024-01-24 02:26:54,776 INFO {/home/ehdykhne/nuplan-devkit/nuplan/planning/script/builders/simulation_builder.py:161}  Created 3 modified scenarios from scenario with token: 9f8a4eb0912e5ad4.\n"
     ]
    },
    {
     "name": "stderr",
     "output_type": "stream",
     "text": [
      "100%|██████████| 3/3 [00:00<00:00, 739.39it/s]\n",
      "596it [00:04, 157.14it/s]"
     ]
    },
    {
     "name": "stdout",
     "output_type": "stream",
     "text": [
      "2024-01-24 02:26:54,783 INFO {/home/ehdykhne/nuplan-devkit/nuplan/planning/script/builders/simulation_builder.py:161}  Created 2 modified scenarios from scenario with token: 9fa24dc7cb6253a0.\n"
     ]
    },
    {
     "name": "stderr",
     "output_type": "stream",
     "text": [
      "100%|██████████| 2/2 [00:00<00:00, 647.52it/s]\n",
      "596it [00:04, 157.14it/s]"
     ]
    },
    {
     "name": "stdout",
     "output_type": "stream",
     "text": [
      "2024-01-24 02:26:54,789 INFO {/home/ehdykhne/nuplan-devkit/nuplan/planning/script/builders/simulation_builder.py:161}  Created 18 modified scenarios from scenario with token: a084bcda5f0453bf.\n"
     ]
    },
    {
     "name": "stderr",
     "output_type": "stream",
     "text": [
      "100%|██████████| 18/18 [00:00<00:00, 818.00it/s]\n",
      "596it [00:04, 157.14it/s]"
     ]
    },
    {
     "name": "stdout",
     "output_type": "stream",
     "text": [
      "2024-01-24 02:26:54,814 INFO {/home/ehdykhne/nuplan-devkit/nuplan/planning/script/builders/simulation_builder.py:161}  Created 15 modified scenarios from scenario with token: a086f4311fb45977.\n"
     ]
    },
    {
     "name": "stderr",
     "output_type": "stream",
     "text": [
      "100%|██████████| 15/15 [00:00<00:00, 838.64it/s]\n",
      "596it [00:04, 157.14it/s]"
     ]
    },
    {
     "name": "stdout",
     "output_type": "stream",
     "text": [
      "2024-01-24 02:26:54,835 INFO {/home/ehdykhne/nuplan-devkit/nuplan/planning/script/builders/simulation_builder.py:161}  Created 29 modified scenarios from scenario with token: a0c3d047a86c5314.\n"
     ]
    },
    {
     "name": "stderr",
     "output_type": "stream",
     "text": [
      "100%|██████████| 29/29 [00:00<00:00, 815.37it/s]\n",
      "596it [00:04, 157.14it/s]"
     ]
    },
    {
     "name": "stdout",
     "output_type": "stream",
     "text": [
      "2024-01-24 02:26:54,873 INFO {/home/ehdykhne/nuplan-devkit/nuplan/planning/script/builders/simulation_builder.py:161}  Created 61 modified scenarios from scenario with token: a1b845d52bed5822.\n"
     ]
    },
    {
     "name": "stderr",
     "output_type": "stream",
     "text": [
      "100%|██████████| 61/61 [00:00<00:00, 820.01it/s]\n",
      "613it [00:04, 137.74it/s]"
     ]
    },
    {
     "name": "stdout",
     "output_type": "stream",
     "text": [
      "2024-01-24 02:26:54,952 INFO {/home/ehdykhne/nuplan-devkit/nuplan/planning/script/builders/simulation_builder.py:161}  Created 34 modified scenarios from scenario with token: a20e8f584f72582c.\n"
     ]
    },
    {
     "name": "stderr",
     "output_type": "stream",
     "text": [
      "100%|██████████| 34/34 [00:00<00:00, 841.73it/s]\n",
      "613it [00:04, 137.74it/s]"
     ]
    },
    {
     "name": "stdout",
     "output_type": "stream",
     "text": [
      "2024-01-24 02:26:54,995 INFO {/home/ehdykhne/nuplan-devkit/nuplan/planning/script/builders/simulation_builder.py:161}  Created 46 modified scenarios from scenario with token: a482957bc7fc5307.\n"
     ]
    },
    {
     "name": "stderr",
     "output_type": "stream",
     "text": [
      "100%|██████████| 46/46 [00:00<00:00, 833.61it/s]\n",
      "628it [00:04, 139.97it/s]"
     ]
    },
    {
     "name": "stdout",
     "output_type": "stream",
     "text": [
      "2024-01-24 02:26:55,053 INFO {/home/ehdykhne/nuplan-devkit/nuplan/planning/script/builders/simulation_builder.py:161}  Created 23 modified scenarios from scenario with token: a69b4057e9335c36.\n"
     ]
    },
    {
     "name": "stderr",
     "output_type": "stream",
     "text": [
      "100%|██████████| 23/23 [00:00<00:00, 809.09it/s]\n",
      "628it [00:04, 139.97it/s]"
     ]
    },
    {
     "name": "stdout",
     "output_type": "stream",
     "text": [
      "2024-01-24 02:26:55,084 INFO {/home/ehdykhne/nuplan-devkit/nuplan/planning/script/builders/simulation_builder.py:161}  Created 16 modified scenarios from scenario with token: a763e8ca392d50e6.\n"
     ]
    },
    {
     "name": "stderr",
     "output_type": "stream",
     "text": [
      "100%|██████████| 16/16 [00:00<00:00, 51.00it/s]\n",
      "628it [00:05, 139.97it/s]"
     ]
    },
    {
     "name": "stdout",
     "output_type": "stream",
     "text": [
      "2024-01-24 02:26:55,401 INFO {/home/ehdykhne/nuplan-devkit/nuplan/planning/script/builders/simulation_builder.py:161}  Created 23 modified scenarios from scenario with token: a7801dfd4ee55654.\n"
     ]
    },
    {
     "name": "stderr",
     "output_type": "stream",
     "text": [
      "100%|██████████| 23/23 [00:00<00:00, 802.36it/s]\n",
      "643it [00:05, 86.73it/s] "
     ]
    },
    {
     "name": "stdout",
     "output_type": "stream",
     "text": [
      "2024-01-24 02:26:55,432 INFO {/home/ehdykhne/nuplan-devkit/nuplan/planning/script/builders/simulation_builder.py:161}  Created 7 modified scenarios from scenario with token: a8f89121ec49561e.\n"
     ]
    },
    {
     "name": "stderr",
     "output_type": "stream",
     "text": [
      "100%|██████████| 7/7 [00:00<00:00, 796.57it/s]\n",
      "643it [00:05, 86.73it/s]"
     ]
    },
    {
     "name": "stdout",
     "output_type": "stream",
     "text": [
      "2024-01-24 02:26:55,444 INFO {/home/ehdykhne/nuplan-devkit/nuplan/planning/script/builders/simulation_builder.py:161}  Created 80 modified scenarios from scenario with token: ab1de9d03bbf5d2d.\n"
     ]
    },
    {
     "name": "stderr",
     "output_type": "stream",
     "text": [
      "100%|██████████| 80/80 [00:00<00:00, 830.50it/s]\n",
      "643it [00:05, 86.73it/s]"
     ]
    },
    {
     "name": "stdout",
     "output_type": "stream",
     "text": [
      "2024-01-24 02:26:55,543 INFO {/home/ehdykhne/nuplan-devkit/nuplan/planning/script/builders/simulation_builder.py:161}  Created 12 modified scenarios from scenario with token: ababf91f957c56e7.\n"
     ]
    },
    {
     "name": "stderr",
     "output_type": "stream",
     "text": [
      "100%|██████████| 12/12 [00:00<00:00, 778.07it/s]\n",
      "655it [00:05, 87.96it/s]"
     ]
    },
    {
     "name": "stdout",
     "output_type": "stream",
     "text": [
      "2024-01-24 02:26:55,562 INFO {/home/ehdykhne/nuplan-devkit/nuplan/planning/script/builders/simulation_builder.py:161}  Created 10 modified scenarios from scenario with token: b025d1e7f6a15351.\n"
     ]
    },
    {
     "name": "stderr",
     "output_type": "stream",
     "text": [
      "100%|██████████| 10/10 [00:00<00:00, 780.42it/s]\n",
      "655it [00:05, 87.96it/s]"
     ]
    },
    {
     "name": "stdout",
     "output_type": "stream",
     "text": [
      "2024-01-24 02:26:55,577 INFO {/home/ehdykhne/nuplan-devkit/nuplan/planning/script/builders/simulation_builder.py:161}  Created 44 modified scenarios from scenario with token: b04e40d8111952b7.\n"
     ]
    },
    {
     "name": "stderr",
     "output_type": "stream",
     "text": [
      "100%|██████████| 44/44 [00:00<00:00, 815.48it/s]\n",
      "655it [00:05, 87.96it/s]"
     ]
    },
    {
     "name": "stdout",
     "output_type": "stream",
     "text": [
      "2024-01-24 02:26:55,633 INFO {/home/ehdykhne/nuplan-devkit/nuplan/planning/script/builders/simulation_builder.py:161}  Created 32 modified scenarios from scenario with token: b093f3c094fd5523.\n"
     ]
    },
    {
     "name": "stderr",
     "output_type": "stream",
     "text": [
      "100%|██████████| 32/32 [00:00<00:00, 801.54it/s]\n",
      "666it [00:05, 89.60it/s]"
     ]
    },
    {
     "name": "stdout",
     "output_type": "stream",
     "text": [
      "2024-01-24 02:26:55,677 INFO {/home/ehdykhne/nuplan-devkit/nuplan/planning/script/builders/simulation_builder.py:161}  Created 2 modified scenarios from scenario with token: b16881355c9a5296.\n"
     ]
    },
    {
     "name": "stderr",
     "output_type": "stream",
     "text": [
      "100%|██████████| 2/2 [00:00<00:00, 745.59it/s]\n",
      "666it [00:05, 89.60it/s]"
     ]
    },
    {
     "name": "stdout",
     "output_type": "stream",
     "text": [
      "2024-01-24 02:26:55,682 INFO {/home/ehdykhne/nuplan-devkit/nuplan/planning/script/builders/simulation_builder.py:161}  Created 16 modified scenarios from scenario with token: b17e0cd651705275.\n"
     ]
    },
    {
     "name": "stderr",
     "output_type": "stream",
     "text": [
      "100%|██████████| 16/16 [00:00<00:00, 830.04it/s]\n",
      "666it [00:05, 89.60it/s]"
     ]
    },
    {
     "name": "stdout",
     "output_type": "stream",
     "text": [
      "2024-01-24 02:26:55,704 INFO {/home/ehdykhne/nuplan-devkit/nuplan/planning/script/builders/simulation_builder.py:161}  Created 25 modified scenarios from scenario with token: b200731e1c0b5163.\n"
     ]
    },
    {
     "name": "stderr",
     "output_type": "stream",
     "text": [
      "100%|██████████| 25/25 [00:00<00:00, 790.49it/s]\n",
      "666it [00:05, 89.60it/s]"
     ]
    },
    {
     "name": "stdout",
     "output_type": "stream",
     "text": [
      "2024-01-24 02:26:55,739 INFO {/home/ehdykhne/nuplan-devkit/nuplan/planning/script/builders/simulation_builder.py:161}  Created 3 modified scenarios from scenario with token: b2dbde90f9a1597b.\n"
     ]
    },
    {
     "name": "stderr",
     "output_type": "stream",
     "text": [
      "100%|██████████| 3/3 [00:00<00:00, 716.44it/s]\n",
      "666it [00:05, 89.60it/s]"
     ]
    },
    {
     "name": "stdout",
     "output_type": "stream",
     "text": [
      "2024-01-24 02:26:55,746 INFO {/home/ehdykhne/nuplan-devkit/nuplan/planning/script/builders/simulation_builder.py:161}  Created 35 modified scenarios from scenario with token: b5c11879f8e855d5.\n"
     ]
    },
    {
     "name": "stderr",
     "output_type": "stream",
     "text": [
      "100%|██████████| 35/35 [00:00<00:00, 839.94it/s]\n",
      "684it [00:05, 104.97it/s]"
     ]
    },
    {
     "name": "stdout",
     "output_type": "stream",
     "text": [
      "2024-01-24 02:26:55,791 INFO {/home/ehdykhne/nuplan-devkit/nuplan/planning/script/builders/simulation_builder.py:161}  Created 51 modified scenarios from scenario with token: b74e9102315f561f.\n"
     ]
    },
    {
     "name": "stderr",
     "output_type": "stream",
     "text": [
      "100%|██████████| 51/51 [00:00<00:00, 838.42it/s]\n",
      "684it [00:05, 104.97it/s]"
     ]
    },
    {
     "name": "stdout",
     "output_type": "stream",
     "text": [
      "2024-01-24 02:26:55,854 INFO {/home/ehdykhne/nuplan-devkit/nuplan/planning/script/builders/simulation_builder.py:161}  Created 2 modified scenarios from scenario with token: b8ee7bf5211e541e.\n"
     ]
    },
    {
     "name": "stderr",
     "output_type": "stream",
     "text": [
      "100%|██████████| 2/2 [00:00<00:00, 644.14it/s]\n",
      "684it [00:05, 104.97it/s]"
     ]
    },
    {
     "name": "stdout",
     "output_type": "stream",
     "text": [
      "2024-01-24 02:26:55,861 INFO {/home/ehdykhne/nuplan-devkit/nuplan/planning/script/builders/simulation_builder.py:161}  Created 7 modified scenarios from scenario with token: b955cfcadcb150fc.\n"
     ]
    },
    {
     "name": "stderr",
     "output_type": "stream",
     "text": [
      "100%|██████████| 7/7 [00:00<00:00, 763.16it/s]\n",
      "684it [00:05, 104.97it/s]"
     ]
    },
    {
     "name": "stdout",
     "output_type": "stream",
     "text": [
      "2024-01-24 02:26:55,873 INFO {/home/ehdykhne/nuplan-devkit/nuplan/planning/script/builders/simulation_builder.py:161}  Created 12 modified scenarios from scenario with token: bb673e79c85f52ed.\n"
     ]
    },
    {
     "name": "stderr",
     "output_type": "stream",
     "text": [
      "100%|██████████| 12/12 [00:00<00:00, 826.14it/s]\n",
      "684it [00:05, 104.97it/s]"
     ]
    },
    {
     "name": "stdout",
     "output_type": "stream",
     "text": [
      "2024-01-24 02:26:55,890 INFO {/home/ehdykhne/nuplan-devkit/nuplan/planning/script/builders/simulation_builder.py:161}  Created 56 modified scenarios from scenario with token: bb8115128653588b.\n"
     ]
    },
    {
     "name": "stderr",
     "output_type": "stream",
     "text": [
      "100%|██████████| 56/56 [00:00<00:00, 842.96it/s]\n",
      "703it [00:05, 107.31it/s]"
     ]
    },
    {
     "name": "stdout",
     "output_type": "stream",
     "text": [
      "2024-01-24 02:26:55,960 INFO {/home/ehdykhne/nuplan-devkit/nuplan/planning/script/builders/simulation_builder.py:161}  Created 66 modified scenarios from scenario with token: bb916dcaf69f5ddf.\n"
     ]
    },
    {
     "name": "stderr",
     "output_type": "stream",
     "text": [
      "100%|██████████| 66/66 [00:00<00:00, 817.02it/s]\n",
      "703it [00:05, 107.31it/s]"
     ]
    },
    {
     "name": "stdout",
     "output_type": "stream",
     "text": [
      "2024-01-24 02:26:56,044 INFO {/home/ehdykhne/nuplan-devkit/nuplan/planning/script/builders/simulation_builder.py:161}  Created 8 modified scenarios from scenario with token: bea87222970a5659.\n"
     ]
    },
    {
     "name": "stderr",
     "output_type": "stream",
     "text": [
      "100%|██████████| 8/8 [00:00<00:00, 818.78it/s]\n",
      "703it [00:05, 107.31it/s]"
     ]
    },
    {
     "name": "stdout",
     "output_type": "stream",
     "text": [
      "2024-01-24 02:26:56,057 INFO {/home/ehdykhne/nuplan-devkit/nuplan/planning/script/builders/simulation_builder.py:161}  Created 39 modified scenarios from scenario with token: bf538cc9a3c15aac.\n"
     ]
    },
    {
     "name": "stderr",
     "output_type": "stream",
     "text": [
      "100%|██████████| 39/39 [00:00<00:00, 846.79it/s]\n",
      "719it [00:05, 108.09it/s]"
     ]
    },
    {
     "name": "stdout",
     "output_type": "stream",
     "text": [
      "2024-01-24 02:26:56,106 INFO {/home/ehdykhne/nuplan-devkit/nuplan/planning/script/builders/simulation_builder.py:161}  Created 6 modified scenarios from scenario with token: bf55a70b969c50d7.\n"
     ]
    },
    {
     "name": "stderr",
     "output_type": "stream",
     "text": [
      "100%|██████████| 6/6 [00:00<00:00, 775.41it/s]\n",
      "719it [00:05, 108.09it/s]"
     ]
    },
    {
     "name": "stdout",
     "output_type": "stream",
     "text": [
      "2024-01-24 02:26:56,117 INFO {/home/ehdykhne/nuplan-devkit/nuplan/planning/script/builders/simulation_builder.py:161}  Created 8 modified scenarios from scenario with token: bf8c5f0cc8fe5932.\n"
     ]
    },
    {
     "name": "stderr",
     "output_type": "stream",
     "text": [
      "100%|██████████| 8/8 [00:00<00:00, 827.95it/s]\n",
      "719it [00:06, 108.09it/s]"
     ]
    },
    {
     "name": "stdout",
     "output_type": "stream",
     "text": [
      "2024-01-24 02:26:56,129 INFO {/home/ehdykhne/nuplan-devkit/nuplan/planning/script/builders/simulation_builder.py:161}  Created 18 modified scenarios from scenario with token: c0f6753201135439.\n"
     ]
    },
    {
     "name": "stderr",
     "output_type": "stream",
     "text": [
      "100%|██████████| 18/18 [00:00<00:00, 811.60it/s]\n",
      "719it [00:06, 108.09it/s]"
     ]
    },
    {
     "name": "stdout",
     "output_type": "stream",
     "text": [
      "2024-01-24 02:26:56,155 INFO {/home/ehdykhne/nuplan-devkit/nuplan/planning/script/builders/simulation_builder.py:161}  Created 65 modified scenarios from scenario with token: c1d6423a10635669.\n"
     ]
    },
    {
     "name": "stderr",
     "output_type": "stream",
     "text": [
      "100%|██████████| 65/65 [00:00<00:00, 808.50it/s]\n",
      "734it [00:06, 109.40it/s]"
     ]
    },
    {
     "name": "stdout",
     "output_type": "stream",
     "text": [
      "2024-01-24 02:26:56,239 INFO {/home/ehdykhne/nuplan-devkit/nuplan/planning/script/builders/simulation_builder.py:161}  Created 76 modified scenarios from scenario with token: c25639850ded5047.\n"
     ]
    },
    {
     "name": "stderr",
     "output_type": "stream",
     "text": [
      "100%|██████████| 76/76 [00:00<00:00, 834.23it/s]\n",
      "734it [00:06, 109.40it/s]"
     ]
    },
    {
     "name": "stdout",
     "output_type": "stream",
     "text": [
      "2024-01-24 02:26:56,333 INFO {/home/ehdykhne/nuplan-devkit/nuplan/planning/script/builders/simulation_builder.py:161}  Created 27 modified scenarios from scenario with token: c2f04339f28c5d0e.\n"
     ]
    },
    {
     "name": "stderr",
     "output_type": "stream",
     "text": [
      "100%|██████████| 27/27 [00:00<00:00, 827.68it/s]\n",
      "734it [00:06, 109.40it/s]"
     ]
    },
    {
     "name": "stdout",
     "output_type": "stream",
     "text": [
      "2024-01-24 02:26:56,368 INFO {/home/ehdykhne/nuplan-devkit/nuplan/planning/script/builders/simulation_builder.py:161}  Created 19 modified scenarios from scenario with token: c3bb96751ebf5e1b.\n"
     ]
    },
    {
     "name": "stderr",
     "output_type": "stream",
     "text": [
      "100%|██████████| 19/19 [00:00<00:00, 830.73it/s]\n",
      "734it [00:06, 109.40it/s]"
     ]
    },
    {
     "name": "stdout",
     "output_type": "stream",
     "text": [
      "2024-01-24 02:26:56,394 INFO {/home/ehdykhne/nuplan-devkit/nuplan/planning/script/builders/simulation_builder.py:161}  Created 10 modified scenarios from scenario with token: c43cae0b24e25dff.\n"
     ]
    },
    {
     "name": "stderr",
     "output_type": "stream",
     "text": [
      "100%|██████████| 10/10 [00:00<00:00, 819.63it/s]\n",
      "746it [00:06, 96.39it/s] "
     ]
    },
    {
     "name": "stdout",
     "output_type": "stream",
     "text": [
      "2024-01-24 02:26:56,409 INFO {/home/ehdykhne/nuplan-devkit/nuplan/planning/script/builders/simulation_builder.py:161}  Created 25 modified scenarios from scenario with token: c64bcc1262155cad.\n"
     ]
    },
    {
     "name": "stderr",
     "output_type": "stream",
     "text": [
      "100%|██████████| 25/25 [00:00<00:00, 798.26it/s]\n",
      "746it [00:06, 96.39it/s]"
     ]
    },
    {
     "name": "stdout",
     "output_type": "stream",
     "text": [
      "2024-01-24 02:26:56,444 INFO {/home/ehdykhne/nuplan-devkit/nuplan/planning/script/builders/simulation_builder.py:161}  Created 10 modified scenarios from scenario with token: c8455942a1df504d.\n"
     ]
    },
    {
     "name": "stderr",
     "output_type": "stream",
     "text": [
      "100%|██████████| 10/10 [00:00<00:00, 808.57it/s]\n",
      "746it [00:06, 96.39it/s]"
     ]
    },
    {
     "name": "stdout",
     "output_type": "stream",
     "text": [
      "2024-01-24 02:26:56,459 INFO {/home/ehdykhne/nuplan-devkit/nuplan/planning/script/builders/simulation_builder.py:161}  Created 10 modified scenarios from scenario with token: c84df12aa76c598f.\n"
     ]
    },
    {
     "name": "stderr",
     "output_type": "stream",
     "text": [
      "100%|██████████| 10/10 [00:00<00:00, 780.71it/s]\n",
      "746it [00:06, 96.39it/s]"
     ]
    },
    {
     "name": "stdout",
     "output_type": "stream",
     "text": [
      "2024-01-24 02:26:56,475 INFO {/home/ehdykhne/nuplan-devkit/nuplan/planning/script/builders/simulation_builder.py:161}  Created 85 modified scenarios from scenario with token: c85d5421d6d35609.\n"
     ]
    },
    {
     "name": "stderr",
     "output_type": "stream",
     "text": [
      "100%|██████████| 85/85 [00:00<00:00, 852.77it/s]\n",
      "760it [00:06, 92.21it/s]"
     ]
    },
    {
     "name": "stdout",
     "output_type": "stream",
     "text": [
      "2024-01-24 02:26:56,578 INFO {/home/ehdykhne/nuplan-devkit/nuplan/planning/script/builders/simulation_builder.py:161}  Created 81 modified scenarios from scenario with token: c8cca91d03535000.\n"
     ]
    },
    {
     "name": "stderr",
     "output_type": "stream",
     "text": [
      "100%|██████████| 81/81 [00:00<00:00, 815.22it/s]\n",
      "760it [00:06, 92.21it/s]"
     ]
    },
    {
     "name": "stdout",
     "output_type": "stream",
     "text": [
      "2024-01-24 02:26:56,680 INFO {/home/ehdykhne/nuplan-devkit/nuplan/planning/script/builders/simulation_builder.py:161}  Created 60 modified scenarios from scenario with token: c96435b689575915.\n"
     ]
    },
    {
     "name": "stderr",
     "output_type": "stream",
     "text": [
      "100%|██████████| 60/60 [00:00<00:00, 851.26it/s]\n",
      "770it [00:06, 80.83it/s]"
     ]
    },
    {
     "name": "stdout",
     "output_type": "stream",
     "text": [
      "2024-01-24 02:26:56,753 INFO {/home/ehdykhne/nuplan-devkit/nuplan/planning/script/builders/simulation_builder.py:161}  Created 56 modified scenarios from scenario with token: c9c431f263bd517f.\n"
     ]
    },
    {
     "name": "stderr",
     "output_type": "stream",
     "text": [
      "100%|██████████| 56/56 [00:00<00:00, 822.00it/s]\n",
      "770it [00:06, 80.83it/s]"
     ]
    },
    {
     "name": "stdout",
     "output_type": "stream",
     "text": [
      "2024-01-24 02:26:56,824 INFO {/home/ehdykhne/nuplan-devkit/nuplan/planning/script/builders/simulation_builder.py:161}  Created 27 modified scenarios from scenario with token: cb889f75500d5da1.\n"
     ]
    },
    {
     "name": "stderr",
     "output_type": "stream",
     "text": [
      "100%|██████████| 27/27 [00:00<00:00, 830.82it/s]\n",
      "770it [00:06, 80.83it/s]"
     ]
    },
    {
     "name": "stdout",
     "output_type": "stream",
     "text": [
      "2024-01-24 02:26:56,861 INFO {/home/ehdykhne/nuplan-devkit/nuplan/planning/script/builders/simulation_builder.py:161}  Created 16 modified scenarios from scenario with token: cbfe48c7594a5257.\n"
     ]
    },
    {
     "name": "stderr",
     "output_type": "stream",
     "text": [
      "100%|██████████| 16/16 [00:00<00:00, 794.23it/s]\n",
      "770it [00:06, 80.83it/s]"
     ]
    },
    {
     "name": "stdout",
     "output_type": "stream",
     "text": [
      "2024-01-24 02:26:56,884 INFO {/home/ehdykhne/nuplan-devkit/nuplan/planning/script/builders/simulation_builder.py:161}  Created 3 modified scenarios from scenario with token: cc0dd88667ef57f4.\n"
     ]
    },
    {
     "name": "stderr",
     "output_type": "stream",
     "text": [
      "100%|██████████| 3/3 [00:00<00:00, 719.35it/s]\n",
      "770it [00:06, 80.83it/s]"
     ]
    },
    {
     "name": "stdout",
     "output_type": "stream",
     "text": [
      "2024-01-24 02:26:56,891 INFO {/home/ehdykhne/nuplan-devkit/nuplan/planning/script/builders/simulation_builder.py:161}  Created 13 modified scenarios from scenario with token: ccb53bceb8d45bde.\n"
     ]
    },
    {
     "name": "stderr",
     "output_type": "stream",
     "text": [
      "100%|██████████| 13/13 [00:00<00:00, 809.66it/s]\n",
      "779it [00:06, 74.07it/s]"
     ]
    },
    {
     "name": "stdout",
     "output_type": "stream",
     "text": [
      "2024-01-24 02:26:56,910 INFO {/home/ehdykhne/nuplan-devkit/nuplan/planning/script/builders/simulation_builder.py:161}  Created 6 modified scenarios from scenario with token: cd14d7e4151b557e.\n"
     ]
    },
    {
     "name": "stderr",
     "output_type": "stream",
     "text": [
      "100%|██████████| 6/6 [00:00<00:00, 779.92it/s]\n",
      "779it [00:06, 74.07it/s]"
     ]
    },
    {
     "name": "stdout",
     "output_type": "stream",
     "text": [
      "2024-01-24 02:26:56,920 INFO {/home/ehdykhne/nuplan-devkit/nuplan/planning/script/builders/simulation_builder.py:161}  Created 14 modified scenarios from scenario with token: cd261c8820c85324.\n"
     ]
    },
    {
     "name": "stderr",
     "output_type": "stream",
     "text": [
      "100%|██████████| 14/14 [00:00<00:00, 816.22it/s]\n",
      "779it [00:06, 74.07it/s]"
     ]
    },
    {
     "name": "stdout",
     "output_type": "stream",
     "text": [
      "2024-01-24 02:26:56,940 INFO {/home/ehdykhne/nuplan-devkit/nuplan/planning/script/builders/simulation_builder.py:161}  Created 24 modified scenarios from scenario with token: cd5c5c66d3545e9c.\n"
     ]
    },
    {
     "name": "stderr",
     "output_type": "stream",
     "text": [
      "100%|██████████| 24/24 [00:00<00:00, 842.58it/s]\n",
      "779it [00:06, 74.07it/s]"
     ]
    },
    {
     "name": "stdout",
     "output_type": "stream",
     "text": [
      "2024-01-24 02:26:56,972 INFO {/home/ehdykhne/nuplan-devkit/nuplan/planning/script/builders/simulation_builder.py:161}  Created 4 modified scenarios from scenario with token: ced5fcde3360574d.\n"
     ]
    },
    {
     "name": "stderr",
     "output_type": "stream",
     "text": [
      "100%|██████████| 4/4 [00:00<00:00, 719.65it/s]\n",
      "779it [00:06, 74.07it/s]"
     ]
    },
    {
     "name": "stdout",
     "output_type": "stream",
     "text": [
      "2024-01-24 02:26:56,980 INFO {/home/ehdykhne/nuplan-devkit/nuplan/planning/script/builders/simulation_builder.py:161}  Created 31 modified scenarios from scenario with token: cfb3907c74345762.\n"
     ]
    },
    {
     "name": "stderr",
     "output_type": "stream",
     "text": [
      "100%|██████████| 31/31 [00:00<00:00, 841.33it/s]\n",
      "793it [00:06, 86.06it/s]"
     ]
    },
    {
     "name": "stdout",
     "output_type": "stream",
     "text": [
      "2024-01-24 02:26:57,020 INFO {/home/ehdykhne/nuplan-devkit/nuplan/planning/script/builders/simulation_builder.py:161}  Created 19 modified scenarios from scenario with token: d0be02abfc125f61.\n"
     ]
    },
    {
     "name": "stderr",
     "output_type": "stream",
     "text": [
      "100%|██████████| 19/19 [00:00<00:00, 776.82it/s]\n",
      "793it [00:06, 86.06it/s]"
     ]
    },
    {
     "name": "stdout",
     "output_type": "stream",
     "text": [
      "2024-01-24 02:26:57,048 INFO {/home/ehdykhne/nuplan-devkit/nuplan/planning/script/builders/simulation_builder.py:161}  Created 3 modified scenarios from scenario with token: d10c1889769e5a31.\n"
     ]
    },
    {
     "name": "stderr",
     "output_type": "stream",
     "text": [
      "100%|██████████| 3/3 [00:00<00:00, 743.58it/s]\n",
      "793it [00:06, 86.06it/s]"
     ]
    },
    {
     "name": "stdout",
     "output_type": "stream",
     "text": [
      "2024-01-24 02:26:57,054 INFO {/home/ehdykhne/nuplan-devkit/nuplan/planning/script/builders/simulation_builder.py:161}  Created 36 modified scenarios from scenario with token: d1f12ef2f3f750a0.\n"
     ]
    },
    {
     "name": "stderr",
     "output_type": "stream",
     "text": [
      "100%|██████████| 36/36 [00:00<00:00, 823.97it/s]\n",
      "793it [00:06, 86.06it/s]"
     ]
    },
    {
     "name": "stdout",
     "output_type": "stream",
     "text": [
      "2024-01-24 02:26:57,101 INFO {/home/ehdykhne/nuplan-devkit/nuplan/planning/script/builders/simulation_builder.py:161}  Created 5 modified scenarios from scenario with token: d1f6e490e4175a56.\n"
     ]
    },
    {
     "name": "stderr",
     "output_type": "stream",
     "text": [
      "100%|██████████| 5/5 [00:00<00:00, 787.40it/s]\n",
      "793it [00:06, 86.06it/s]"
     ]
    },
    {
     "name": "stdout",
     "output_type": "stream",
     "text": [
      "2024-01-24 02:26:57,110 INFO {/home/ehdykhne/nuplan-devkit/nuplan/planning/script/builders/simulation_builder.py:161}  Created 14 modified scenarios from scenario with token: d40647fbc99f5a23.\n"
     ]
    },
    {
     "name": "stderr",
     "output_type": "stream",
     "text": [
      "100%|██████████| 14/14 [00:00<00:00, 819.69it/s]\n",
      "812it [00:07, 107.13it/s]"
     ]
    },
    {
     "name": "stdout",
     "output_type": "stream",
     "text": [
      "2024-01-24 02:26:57,130 INFO {/home/ehdykhne/nuplan-devkit/nuplan/planning/script/builders/simulation_builder.py:161}  Created 24 modified scenarios from scenario with token: d56e6a2437e459c7.\n"
     ]
    },
    {
     "name": "stderr",
     "output_type": "stream",
     "text": [
      "100%|██████████| 24/24 [00:00<00:00, 828.64it/s]\n",
      "812it [00:07, 107.13it/s]"
     ]
    },
    {
     "name": "stdout",
     "output_type": "stream",
     "text": [
      "2024-01-24 02:26:57,162 INFO {/home/ehdykhne/nuplan-devkit/nuplan/planning/script/builders/simulation_builder.py:161}  Created 48 modified scenarios from scenario with token: d6234553edc95d50.\n"
     ]
    },
    {
     "name": "stderr",
     "output_type": "stream",
     "text": [
      "100%|██████████| 48/48 [00:00<00:00, 841.79it/s]\n",
      "812it [00:07, 107.13it/s]"
     ]
    },
    {
     "name": "stdout",
     "output_type": "stream",
     "text": [
      "2024-01-24 02:26:57,222 INFO {/home/ehdykhne/nuplan-devkit/nuplan/planning/script/builders/simulation_builder.py:161}  Created 51 modified scenarios from scenario with token: d985258f55d2536f.\n"
     ]
    },
    {
     "name": "stderr",
     "output_type": "stream",
     "text": [
      "100%|██████████| 51/51 [00:00<00:00, 829.56it/s]\n",
      "835it [00:07, 120.41it/s]"
     ]
    },
    {
     "name": "stdout",
     "output_type": "stream",
     "text": [
      "2024-01-24 02:26:57,286 INFO {/home/ehdykhne/nuplan-devkit/nuplan/planning/script/builders/simulation_builder.py:161}  Created 15 modified scenarios from scenario with token: d9a2ab97b1ad5341.\n"
     ]
    },
    {
     "name": "stderr",
     "output_type": "stream",
     "text": [
      "100%|██████████| 15/15 [00:00<00:00, 803.71it/s]\n",
      "835it [00:07, 120.41it/s]"
     ]
    },
    {
     "name": "stdout",
     "output_type": "stream",
     "text": [
      "2024-01-24 02:26:57,308 INFO {/home/ehdykhne/nuplan-devkit/nuplan/planning/script/builders/simulation_builder.py:161}  Created 1 modified scenarios from scenario with token: da2ec7138fc35c5e.\n"
     ]
    },
    {
     "name": "stderr",
     "output_type": "stream",
     "text": [
      "100%|██████████| 1/1 [00:00<00:00, 539.25it/s]\n",
      "835it [00:07, 120.41it/s]"
     ]
    },
    {
     "name": "stdout",
     "output_type": "stream",
     "text": [
      "2024-01-24 02:26:57,313 INFO {/home/ehdykhne/nuplan-devkit/nuplan/planning/script/builders/simulation_builder.py:161}  Created 4 modified scenarios from scenario with token: dab1040133d0545e.\n"
     ]
    },
    {
     "name": "stderr",
     "output_type": "stream",
     "text": [
      "100%|██████████| 4/4 [00:00<00:00, 649.25it/s]\n",
      "835it [00:07, 120.41it/s]"
     ]
    },
    {
     "name": "stdout",
     "output_type": "stream",
     "text": [
      "2024-01-24 02:26:57,322 INFO {/home/ehdykhne/nuplan-devkit/nuplan/planning/script/builders/simulation_builder.py:161}  Created 11 modified scenarios from scenario with token: dcaa1b47ee3b53c9.\n"
     ]
    },
    {
     "name": "stderr",
     "output_type": "stream",
     "text": [
      "100%|██████████| 11/11 [00:00<00:00, 812.39it/s]\n",
      "835it [00:07, 120.41it/s]"
     ]
    },
    {
     "name": "stdout",
     "output_type": "stream",
     "text": [
      "2024-01-24 02:26:57,338 INFO {/home/ehdykhne/nuplan-devkit/nuplan/planning/script/builders/simulation_builder.py:161}  Created 27 modified scenarios from scenario with token: dd245e68a3a25a30.\n"
     ]
    },
    {
     "name": "stderr",
     "output_type": "stream",
     "text": [
      "100%|██████████| 27/27 [00:00<00:00, 797.56it/s]\n",
      "835it [00:07, 120.41it/s]"
     ]
    },
    {
     "name": "stdout",
     "output_type": "stream",
     "text": [
      "2024-01-24 02:26:57,375 INFO {/home/ehdykhne/nuplan-devkit/nuplan/planning/script/builders/simulation_builder.py:161}  Created 25 modified scenarios from scenario with token: ddacbd8edfdc5167.\n"
     ]
    },
    {
     "name": "stderr",
     "output_type": "stream",
     "text": [
      "100%|██████████| 25/25 [00:00<00:00, 828.06it/s]\n",
      "851it [00:07, 123.58it/s]"
     ]
    },
    {
     "name": "stdout",
     "output_type": "stream",
     "text": [
      "2024-01-24 02:26:57,407 INFO {/home/ehdykhne/nuplan-devkit/nuplan/planning/script/builders/simulation_builder.py:161}  Created 27 modified scenarios from scenario with token: ddfb0ffcbc9e58f4.\n"
     ]
    },
    {
     "name": "stderr",
     "output_type": "stream",
     "text": [
      "100%|██████████| 27/27 [00:00<00:00, 835.16it/s]\n",
      "851it [00:07, 123.58it/s]"
     ]
    },
    {
     "name": "stdout",
     "output_type": "stream",
     "text": [
      "2024-01-24 02:26:57,442 INFO {/home/ehdykhne/nuplan-devkit/nuplan/planning/script/builders/simulation_builder.py:161}  Created 4 modified scenarios from scenario with token: deab9f2f135d5ea0.\n"
     ]
    },
    {
     "name": "stderr",
     "output_type": "stream",
     "text": [
      "100%|██████████| 4/4 [00:00<00:00, 748.48it/s]\n",
      "851it [00:07, 123.58it/s]"
     ]
    },
    {
     "name": "stdout",
     "output_type": "stream",
     "text": [
      "2024-01-24 02:26:57,450 INFO {/home/ehdykhne/nuplan-devkit/nuplan/planning/script/builders/simulation_builder.py:161}  Created 41 modified scenarios from scenario with token: df0735d7c13e5141.\n"
     ]
    },
    {
     "name": "stderr",
     "output_type": "stream",
     "text": [
      "100%|██████████| 41/41 [00:00<00:00, 850.00it/s]\n",
      "851it [00:07, 123.58it/s]"
     ]
    },
    {
     "name": "stdout",
     "output_type": "stream",
     "text": [
      "2024-01-24 02:26:57,501 INFO {/home/ehdykhne/nuplan-devkit/nuplan/planning/script/builders/simulation_builder.py:161}  Created 50 modified scenarios from scenario with token: df4878dbde20552a.\n"
     ]
    },
    {
     "name": "stderr",
     "output_type": "stream",
     "text": [
      "100%|██████████| 50/50 [00:00<00:00, 809.31it/s]\n",
      "864it [00:07, 109.50it/s]"
     ]
    },
    {
     "name": "stdout",
     "output_type": "stream",
     "text": [
      "2024-01-24 02:26:57,567 INFO {/home/ehdykhne/nuplan-devkit/nuplan/planning/script/builders/simulation_builder.py:161}  Created 25 modified scenarios from scenario with token: e1ee1e1cbeb158ad.\n"
     ]
    },
    {
     "name": "stderr",
     "output_type": "stream",
     "text": [
      "100%|██████████| 25/25 [00:00<00:00, 844.29it/s]\n",
      "864it [00:07, 109.50it/s]"
     ]
    },
    {
     "name": "stdout",
     "output_type": "stream",
     "text": [
      "2024-01-24 02:26:57,599 INFO {/home/ehdykhne/nuplan-devkit/nuplan/planning/script/builders/simulation_builder.py:161}  Created 4 modified scenarios from scenario with token: e1f94e85553f5906.\n"
     ]
    },
    {
     "name": "stderr",
     "output_type": "stream",
     "text": [
      "100%|██████████| 4/4 [00:00<00:00, 770.98it/s]\n",
      "864it [00:07, 109.50it/s]"
     ]
    },
    {
     "name": "stdout",
     "output_type": "stream",
     "text": [
      "2024-01-24 02:26:57,607 INFO {/home/ehdykhne/nuplan-devkit/nuplan/planning/script/builders/simulation_builder.py:161}  Created 34 modified scenarios from scenario with token: e3dce3fa109a54fb.\n"
     ]
    },
    {
     "name": "stderr",
     "output_type": "stream",
     "text": [
      "100%|██████████| 34/34 [00:00<00:00, 832.12it/s]\n",
      "864it [00:07, 109.50it/s]"
     ]
    },
    {
     "name": "stdout",
     "output_type": "stream",
     "text": [
      "2024-01-24 02:26:57,651 INFO {/home/ehdykhne/nuplan-devkit/nuplan/planning/script/builders/simulation_builder.py:161}  Created 74 modified scenarios from scenario with token: e5161629aa165ecb.\n"
     ]
    },
    {
     "name": "stderr",
     "output_type": "stream",
     "text": [
      "100%|██████████| 74/74 [00:00<00:00, 844.28it/s]\n",
      "878it [00:07, 99.31it/s] "
     ]
    },
    {
     "name": "stdout",
     "output_type": "stream",
     "text": [
      "2024-01-24 02:26:57,742 INFO {/home/ehdykhne/nuplan-devkit/nuplan/planning/script/builders/simulation_builder.py:161}  Created 57 modified scenarios from scenario with token: e5909e3c01fb59a0.\n"
     ]
    },
    {
     "name": "stderr",
     "output_type": "stream",
     "text": [
      "100%|██████████| 57/57 [00:00<00:00, 134.35it/s]\n",
      "878it [00:08, 99.31it/s]"
     ]
    },
    {
     "name": "stdout",
     "output_type": "stream",
     "text": [
      "2024-01-24 02:26:58,169 INFO {/home/ehdykhne/nuplan-devkit/nuplan/planning/script/builders/simulation_builder.py:161}  Created 3 modified scenarios from scenario with token: e657867195a4587f.\n"
     ]
    },
    {
     "name": "stderr",
     "output_type": "stream",
     "text": [
      "100%|██████████| 3/3 [00:00<00:00, 685.61it/s]\n",
      "878it [00:08, 99.31it/s]"
     ]
    },
    {
     "name": "stdout",
     "output_type": "stream",
     "text": [
      "2024-01-24 02:26:58,176 INFO {/home/ehdykhne/nuplan-devkit/nuplan/planning/script/builders/simulation_builder.py:161}  Created 5 modified scenarios from scenario with token: e72fa183d7a45da3.\n"
     ]
    },
    {
     "name": "stderr",
     "output_type": "stream",
     "text": [
      "100%|██████████| 5/5 [00:00<00:00, 790.63it/s]\n",
      "889it [00:08, 57.98it/s]"
     ]
    },
    {
     "name": "stdout",
     "output_type": "stream",
     "text": [
      "2024-01-24 02:26:58,185 INFO {/home/ehdykhne/nuplan-devkit/nuplan/planning/script/builders/simulation_builder.py:161}  Created 71 modified scenarios from scenario with token: e92d10b119205d09.\n"
     ]
    },
    {
     "name": "stderr",
     "output_type": "stream",
     "text": [
      "100%|██████████| 71/71 [00:00<00:00, 836.55it/s]\n",
      "889it [00:08, 57.98it/s]"
     ]
    },
    {
     "name": "stdout",
     "output_type": "stream",
     "text": [
      "2024-01-24 02:26:58,272 INFO {/home/ehdykhne/nuplan-devkit/nuplan/planning/script/builders/simulation_builder.py:161}  Created 13 modified scenarios from scenario with token: e9971876f62452e4.\n"
     ]
    },
    {
     "name": "stderr",
     "output_type": "stream",
     "text": [
      "100%|██████████| 13/13 [00:00<00:00, 836.02it/s]\n",
      "889it [00:08, 57.98it/s]"
     ]
    },
    {
     "name": "stdout",
     "output_type": "stream",
     "text": [
      "2024-01-24 02:26:58,291 INFO {/home/ehdykhne/nuplan-devkit/nuplan/planning/script/builders/simulation_builder.py:161}  Created 4 modified scenarios from scenario with token: e9e9c7d539b75dcf.\n"
     ]
    },
    {
     "name": "stderr",
     "output_type": "stream",
     "text": [
      "100%|██████████| 4/4 [00:00<00:00, 724.09it/s]\n",
      "897it [00:08, 59.92it/s]"
     ]
    },
    {
     "name": "stdout",
     "output_type": "stream",
     "text": [
      "2024-01-24 02:26:58,300 INFO {/home/ehdykhne/nuplan-devkit/nuplan/planning/script/builders/simulation_builder.py:161}  Created 19 modified scenarios from scenario with token: ea5f96784a3c57d1.\n"
     ]
    },
    {
     "name": "stderr",
     "output_type": "stream",
     "text": [
      "100%|██████████| 19/19 [00:00<00:00, 820.67it/s]\n",
      "897it [00:08, 59.92it/s]"
     ]
    },
    {
     "name": "stdout",
     "output_type": "stream",
     "text": [
      "2024-01-24 02:26:58,326 INFO {/home/ehdykhne/nuplan-devkit/nuplan/planning/script/builders/simulation_builder.py:161}  Created 51 modified scenarios from scenario with token: ecbf954330ed5105.\n"
     ]
    },
    {
     "name": "stderr",
     "output_type": "stream",
     "text": [
      "100%|██████████| 51/51 [00:00<00:00, 857.42it/s]\n",
      "897it [00:08, 59.92it/s]"
     ]
    },
    {
     "name": "stdout",
     "output_type": "stream",
     "text": [
      "2024-01-24 02:26:58,388 INFO {/home/ehdykhne/nuplan-devkit/nuplan/planning/script/builders/simulation_builder.py:161}  Created 29 modified scenarios from scenario with token: ecc3456e53105cba.\n"
     ]
    },
    {
     "name": "stderr",
     "output_type": "stream",
     "text": [
      "100%|██████████| 29/29 [00:00<00:00, 833.11it/s]\n",
      "907it [00:08, 64.03it/s]"
     ]
    },
    {
     "name": "stdout",
     "output_type": "stream",
     "text": [
      "2024-01-24 02:26:58,426 INFO {/home/ehdykhne/nuplan-devkit/nuplan/planning/script/builders/simulation_builder.py:161}  Created 33 modified scenarios from scenario with token: eced3deecf70521b.\n"
     ]
    },
    {
     "name": "stderr",
     "output_type": "stream",
     "text": [
      "100%|██████████| 33/33 [00:00<00:00, 808.38it/s]\n",
      "907it [00:08, 64.03it/s]"
     ]
    },
    {
     "name": "stdout",
     "output_type": "stream",
     "text": [
      "2024-01-24 02:26:58,470 INFO {/home/ehdykhne/nuplan-devkit/nuplan/planning/script/builders/simulation_builder.py:161}  Created 35 modified scenarios from scenario with token: ed1b34c363185605.\n"
     ]
    },
    {
     "name": "stderr",
     "output_type": "stream",
     "text": [
      "100%|██████████| 35/35 [00:00<00:00, 814.10it/s]\n",
      "907it [00:08, 64.03it/s]"
     ]
    },
    {
     "name": "stdout",
     "output_type": "stream",
     "text": [
      "2024-01-24 02:26:58,516 INFO {/home/ehdykhne/nuplan-devkit/nuplan/planning/script/builders/simulation_builder.py:161}  Created 23 modified scenarios from scenario with token: ed6b15b029855c6b.\n"
     ]
    },
    {
     "name": "stderr",
     "output_type": "stream",
     "text": [
      "100%|██████████| 23/23 [00:00<00:00, 841.78it/s]\n",
      "916it [00:08, 66.43it/s]"
     ]
    },
    {
     "name": "stdout",
     "output_type": "stream",
     "text": [
      "2024-01-24 02:26:58,547 INFO {/home/ehdykhne/nuplan-devkit/nuplan/planning/script/builders/simulation_builder.py:161}  Created 64 modified scenarios from scenario with token: ef45810f15f652a6.\n"
     ]
    },
    {
     "name": "stderr",
     "output_type": "stream",
     "text": [
      "100%|██████████| 64/64 [00:00<00:00, 816.26it/s]\n",
      "916it [00:08, 66.43it/s]"
     ]
    },
    {
     "name": "stdout",
     "output_type": "stream",
     "text": [
      "2024-01-24 02:26:58,628 INFO {/home/ehdykhne/nuplan-devkit/nuplan/planning/script/builders/simulation_builder.py:161}  Created 43 modified scenarios from scenario with token: f2346ebb5f4050c7.\n"
     ]
    },
    {
     "name": "stderr",
     "output_type": "stream",
     "text": [
      "100%|██████████| 43/43 [00:00<00:00, 823.61it/s]\n",
      "927it [00:08, 70.17it/s]"
     ]
    },
    {
     "name": "stdout",
     "output_type": "stream",
     "text": [
      "2024-01-24 02:26:58,683 INFO {/home/ehdykhne/nuplan-devkit/nuplan/planning/script/builders/simulation_builder.py:161}  Created 68 modified scenarios from scenario with token: f293a1e4fa8e5d7d.\n"
     ]
    },
    {
     "name": "stderr",
     "output_type": "stream",
     "text": [
      "100%|██████████| 68/68 [00:00<00:00, 831.15it/s]\n",
      "928it [00:08, 107.35it/s]\n"
     ]
    },
    {
     "name": "stdout",
     "output_type": "stream",
     "text": [
      "[\n",
      "\t'014c7f3502d4597d',\n",
      "\t'02828821ef045829',\n",
      "\t'02fa9b8d43465e0d',\n",
      "\t'03fec47f75845dec',\n",
      "\t'05e6c9e808cc56b3',\n",
      "\t'0714c9b3f90b5e66',\n",
      "\t'07a31af9e0c750aa',\n",
      "\t'0975bf12a4ca5a0f',\n",
      "\t'09bbd9cc2b1e5701',\n",
      "\t'0ae57d1bb93451fb',\n",
      "\t'0b22867fbbb85d53',\n",
      "\t'0b3ee4e240155746',\n",
      "\t'0d52dcf1bdf15ee9',\n",
      "\t'0e87a5829ac05ecf',\n",
      "\t'0e938c191307560e',\n",
      "\t'1011ee5e5a495953',\n",
      "\t'10d96342be775d60',\n",
      "\t'11699bb0fdce52c3',\n",
      "\t'1310eeeeda845224',\n",
      "\t'13ca54a207085e46',\n",
      "\t'15c96adb5d4a5dbc',\n",
      "\t'16a58a5f38735005',\n",
      "\t'1746531019ea574f',\n",
      "\t'17da44fe42ca5933',\n",
      "\t'191e12a9028057be',\n",
      "\t'1b62060f371e52d5',\n",
      "\t'1c89c72175eb5efe',\n",
      "\t'1ca8d04277e65883',\n",
      "\t'1d98eadfe0a458f9',\n",
      "\t'1df13c0027345180',\n",
      "\t'231a4d1e894a5c0e',\n",
      "\t'24fb63280ea056eb',\n",
      "\t'25bf5a4aef3f5ed1',\n",
      "\t'268ae521fd15582a',\n",
      "\t'2736d8bca4555200',\n",
      "\t'27871f9bfa105bab',\n",
      "\t'2a27f34604225f42',\n",
      "\t'2b115cf6b0cf5bc2',\n",
      "\t'2cf90f719c865190',\n",
      "\t'2d825ef48c5155fb',\n",
      "\t'2e1fd0387cd25686',\n",
      "\t'2ed3ac183d1b5f4e',\n",
      "\t'2f95ce724d5e5e48',\n",
      "\t'3053816c443a5369',\n",
      "\t'315df0cb1d175e37',\n",
      "\t'31f3bfb82bf05f4d',\n",
      "\t'31fd14faadfc5d0f',\n",
      "\t'3211f636db6056a8',\n",
      "\t'3231014941ea5eb9',\n",
      "\t'324280841ad75813',\n",
      "\t'327d56506b1156e0',\n",
      "\t'32f111fd96c05ec1',\n",
      "\t'334f6a8d9dce5c99',\n",
      "\t'3377bd15b2f05595',\n",
      "\t'34129cc4c24f5161',\n",
      "\t'35696c64b06059e7',\n",
      "\t'365955215a0c5cd7',\n",
      "\t'36cb06d289925711',\n",
      "\t'3945ebebc2035ce2',\n",
      "\t'3a430a959d2555f0',\n",
      "\t'3a46e1fb24a454fd',\n",
      "\t'3aa2f662c8e852a3',\n",
      "\t'3d657b4589695717',\n",
      "\t'3e9aefbbda6252bb',\n",
      "\t'3fa3564cc8605a4e',\n",
      "\t'4011cec151d3581d',\n",
      "\t'4014b7f2205751da',\n",
      "\t'41082e6b33ea577b',\n",
      "\t'416d9fc310c1548e',\n",
      "\t'41c27d587bbd564e',\n",
      "\t'429db1e4c4ef5c65',\n",
      "\t'43bba0d5d69050c6',\n",
      "\t'45b687cb1c86598a',\n",
      "\t'461468dd6eaa5bcf',\n",
      "\t'46a9df2bcef45432',\n",
      "\t'46f83ee59a195ed1',\n",
      "\t'479a6222feb350ea',\n",
      "\t'47a00ae6ba3f5659',\n",
      "\t'4b46e9767a155426',\n",
      "\t'4b4b6552ec245124',\n",
      "\t'4c0f403d4ecb5221',\n",
      "\t'4c40a3b952b551e8',\n",
      "\t'4d8a22000bfa5cbb',\n",
      "\t'4ecac8be29b650a0',\n",
      "\t'4fe0289baf5e5f07',\n",
      "\t'52f9cafd69025e2a',\n",
      "\t'54d9d5cd0a6356d5',\n",
      "\t'56898515994f588f',\n",
      "\t'59fbf1b5f25b524e',\n",
      "\t'5ac1d826c7b35016',\n",
      "\t'5ac5795b9b5851e8',\n",
      "\t'5b4d9d4c372c5ec4',\n",
      "\t'5b8ada4b36fd5f91',\n",
      "\t'5bc98127f6b05c6f',\n",
      "\t'5c8eb10e0c305a50',\n",
      "\t'5f81fc8cdba45ff6',\n",
      "\t'5fb4bbe8c6b455c2',\n",
      "\t'60625d1fbe515732',\n",
      "\t'6084baa865c15229',\n",
      "\t'6160d87c9f1d5f03',\n",
      "\t'6177d28aed9b55b3',\n",
      "\t'619c68d35e2a5aee',\n",
      "\t'62d2867d8eb65d75',\n",
      "\t'638b538eb3485dd3',\n",
      "\t'64f8b0f7dbb45136',\n",
      "\t'6625180f1561521a',\n",
      "\t'66949bd63c545fcc',\n",
      "\t'67f184a962c850b9',\n",
      "\t'68da65c564e25e2d',\n",
      "\t'6aa4451128eb53dc',\n",
      "\t'6c4fab782d65547e',\n",
      "\t'6e09a54b0b1f590d',\n",
      "\t'6f40e62a382f5c29',\n",
      "\t'6f6fb774a69c5350',\n",
      "\t'7314d2bb08c75590',\n",
      "\t'743f82f104055ba5',\n",
      "\t'7646a0ea04525229',\n",
      "\t'76bb5406073553a8',\n",
      "\t'775e489b34c95de4',\n",
      "\t'778f1c0b903e52ae',\n",
      "\t'79f267244ab4523e',\n",
      "\t'7a9ea0df396a5211',\n",
      "\t'7c1f2cd9001158c9',\n",
      "\t'7d13e70327b95426',\n",
      "\t'805cd87ea14e57d3',\n",
      "\t'8096bf9e451a53f7',\n",
      "\t'823c2c8ef68b5fc3',\n",
      "\t'82c0672c470a50c4',\n",
      "\t'8418271b3feb5ef3',\n",
      "\t'8564e26cccfa551a',\n",
      "\t'8778508263c95514',\n",
      "\t'88466e8458fc5ff5',\n",
      "\t'8a4dda21d1bc5e6e',\n",
      "\t'8c68ee9097605f54',\n",
      "\t'8d4b223795305582',\n",
      "\t'8fb6d0d6dc275f06',\n",
      "\t'913a8e2525075d74',\n",
      "\t'94704a38a9f95fb4',\n",
      "\t'95a1a8c1a92b5a1a',\n",
      "\t'963b5fa9c04651fa',\n",
      "\t'97d48171abf65591',\n",
      "\t'9ed370fdb95e5c76',\n",
      "\t'9f8a4eb0912e5ad4',\n",
      "\t'9fa24dc7cb6253a0',\n",
      "\t'a084bcda5f0453bf',\n",
      "\t'a086f4311fb45977',\n",
      "\t'a0c3d047a86c5314',\n",
      "\t'a1b845d52bed5822',\n",
      "\t'a20e8f584f72582c',\n",
      "\t'a482957bc7fc5307',\n",
      "\t'a69b4057e9335c36',\n",
      "\t'a763e8ca392d50e6',\n",
      "\t'a7801dfd4ee55654',\n",
      "\t'a8f89121ec49561e',\n",
      "\t'ab1de9d03bbf5d2d',\n",
      "\t'ababf91f957c56e7',\n",
      "\t'b025d1e7f6a15351',\n",
      "\t'b04e40d8111952b7',\n",
      "\t'b093f3c094fd5523',\n",
      "\t'b16881355c9a5296',\n",
      "\t'b17e0cd651705275',\n",
      "\t'b200731e1c0b5163',\n",
      "\t'b2dbde90f9a1597b',\n",
      "\t'b5c11879f8e855d5',\n",
      "\t'b74e9102315f561f',\n",
      "\t'b8ee7bf5211e541e',\n",
      "\t'b955cfcadcb150fc',\n",
      "\t'bb673e79c85f52ed',\n",
      "\t'bb8115128653588b',\n",
      "\t'bb916dcaf69f5ddf',\n",
      "\t'bea87222970a5659',\n",
      "\t'bf538cc9a3c15aac',\n",
      "\t'bf55a70b969c50d7',\n",
      "\t'bf8c5f0cc8fe5932',\n",
      "\t'c0f6753201135439',\n",
      "\t'c1d6423a10635669',\n",
      "\t'c25639850ded5047',\n",
      "\t'c2f04339f28c5d0e',\n",
      "\t'c3bb96751ebf5e1b',\n",
      "\t'c43cae0b24e25dff',\n",
      "\t'c64bcc1262155cad',\n",
      "\t'c8455942a1df504d',\n",
      "\t'c84df12aa76c598f',\n",
      "\t'c85d5421d6d35609',\n",
      "\t'c8cca91d03535000',\n",
      "\t'c96435b689575915',\n",
      "\t'c9c431f263bd517f',\n",
      "\t'cb889f75500d5da1',\n",
      "\t'cbfe48c7594a5257',\n",
      "\t'cc0dd88667ef57f4',\n",
      "\t'ccb53bceb8d45bde',\n",
      "\t'cd14d7e4151b557e',\n",
      "\t'cd261c8820c85324',\n",
      "\t'cd5c5c66d3545e9c',\n",
      "\t'ced5fcde3360574d',\n",
      "\t'cfb3907c74345762',\n",
      "\t'd0be02abfc125f61',\n",
      "\t'd10c1889769e5a31',\n",
      "\t'd1f12ef2f3f750a0',\n",
      "\t'd1f6e490e4175a56',\n",
      "\t'd40647fbc99f5a23',\n",
      "\t'd56e6a2437e459c7',\n",
      "\t'd6234553edc95d50',\n",
      "\t'd985258f55d2536f',\n",
      "\t'd9a2ab97b1ad5341',\n",
      "\t'da2ec7138fc35c5e',\n",
      "\t'dab1040133d0545e',\n",
      "\t'dcaa1b47ee3b53c9',\n",
      "\t'dd245e68a3a25a30',\n",
      "\t'ddacbd8edfdc5167',\n",
      "\t'ddfb0ffcbc9e58f4',\n",
      "\t'deab9f2f135d5ea0',\n",
      "\t'df0735d7c13e5141',\n",
      "\t'df4878dbde20552a',\n",
      "\t'e1ee1e1cbeb158ad',\n",
      "\t'e1f94e85553f5906',\n",
      "\t'e3dce3fa109a54fb',\n",
      "\t'e5161629aa165ecb',\n",
      "\t'e5909e3c01fb59a0',\n",
      "\t'e657867195a4587f',\n",
      "\t'e72fa183d7a45da3',\n",
      "\t'e92d10b119205d09',\n",
      "\t'e9971876f62452e4',\n",
      "\t'e9e9c7d539b75dcf',\n",
      "\t'ea5f96784a3c57d1',\n",
      "\t'ecbf954330ed5105',\n",
      "\t'ecc3456e53105cba',\n",
      "\t'eced3deecf70521b',\n",
      "\t'ed1b34c363185605',\n",
      "\t'ed6b15b029855c6b',\n",
      "\t'ef45810f15f652a6',\n",
      "\t'f2346ebb5f4050c7',\n",
      "\t'f293a1e4fa8e5d7d'\n",
      "]\n",
      "2024-01-24 02:26:58,777 INFO {/home/ehdykhne/nuplan-devkit/nuplan/planning/script/builders/simulation_builder.py:172}  Created 5626 modified scenarios from 928 scenarios.\n",
      "2024-01-24 02:26:58,777 INFO {/home/ehdykhne/nuplan-devkit/nuplan/planning/script/builders/simulation_builder.py:173}  Building simulations...DONE!\n",
      "2024-01-24 02:26:58,780 INFO {/home/ehdykhne/nuplan-devkit/nuplan/planning/script/run_simulation.py:113}  Running simulation...\n",
      "2024-01-24 02:26:58,780 INFO {/home/ehdykhne/nuplan-devkit/nuplan/planning/script/utils.py:138}  Executing runners...\n",
      "2024-01-24 02:26:58,780 INFO {/home/ehdykhne/nuplan-devkit/nuplan/planning/simulation/runner/executor.py:82}  Starting 5626 simulations using RayDistributed!\n"
     ]
    },
    {
     "name": "stderr",
     "output_type": "stream",
     "text": [
      "Ray objects:   1%|          | 32/5626 [03:15<28:02,  3.32it/s]    \u001b[2m\u001b[36m(wrapped_fn pid=395265)\u001b[0m WARNING:nuplan.planning.simulation.planner.idm_planner:IDMPlanner could not find valid path to the target roadblock. Using longest route found instead\n",
      "\u001b[2m\u001b[36m(wrapped_fn pid=395282)\u001b[0m WARNING:nuplan.planning.simulation.planner.idm_planner:IDMPlanner could not find valid path to the target roadblock. Using longest route found instead\u001b[32m [repeated 24x across cluster] (Ray deduplicates logs by default. Set RAY_DEDUP_LOGS=0 to disable log deduplication, or see https://docs.ray.io/en/master/ray-observability/ray-logging.html#log-deduplication for more options.)\u001b[0m\n",
      "Ray objects:   1%|          | 33/5626 [06:25<75:42:01, 48.73s/it]\u001b[2m\u001b[36m(wrapped_fn pid=395286)\u001b[0m WARNING:nuplan.planning.simulation.planner.idm_planner:IDMPlanner could not find valid path to the target roadblock. Using longest route found instead\u001b[32m [repeated 7x across cluster]\u001b[0m\n",
      "Ray objects:   1%|          | 64/5626 [08:40<1:23:35,  1.11it/s]  \u001b[2m\u001b[36m(wrapped_fn pid=395285)\u001b[0m WARNING:nuplan.planning.simulation.planner.idm_planner:IDMPlanner could not find valid path to the target roadblock. Using longest route found instead\n",
      "\u001b[2m\u001b[36m(wrapped_fn pid=395289)\u001b[0m WARNING:nuplan.planning.simulation.planner.idm_planner:IDMPlanner could not find valid path to the target roadblock. Using longest route found instead\n",
      "\u001b[2m\u001b[36m(wrapped_fn pid=395292)\u001b[0m WARNING:nuplan.planning.simulation.planner.idm_planner:IDMPlanner could not find valid path to the target roadblock. Using longest route found instead\u001b[32m [repeated 13x across cluster]\u001b[0m\n",
      "\u001b[2m\u001b[36m(wrapped_fn pid=395282)\u001b[0m WARNING:nuplan.planning.simulation.planner.idm_planner:IDMPlanner could not find valid path to the target roadblock. Using longest route found instead\u001b[32m [repeated 11x across cluster]\u001b[0m\n",
      "Ray objects:   1%|          | 65/5626 [11:41<74:32:43, 48.26s/it]\u001b[2m\u001b[36m(wrapped_fn pid=395286)\u001b[0m WARNING:nuplan.planning.simulation.planner.idm_planner:IDMPlanner could not find valid path to the target roadblock. Using longest route found instead\u001b[32m [repeated 6x across cluster]\u001b[0m\n",
      "Ray objects:   1%|▏         | 76/5626 [14:00<5:41:23,  3.69s/it]  \u001b[2m\u001b[36m(wrapped_fn pid=395285)\u001b[0m WARNING:nuplan.planning.simulation.planner.idm_planner:IDMPlanner could not find valid path to the target roadblock. Using longest route found instead\n",
      "Ray objects:   1%|▏         | 79/5626 [14:02<2:35:35,  1.68s/it]\u001b[2m\u001b[36m(wrapped_fn pid=395289)\u001b[0m WARNING:nuplan.planning.simulation.planner.idm_planner:IDMPlanner could not find valid path to the target roadblock. Using longest route found instead\n",
      "Ray objects:   2%|▏         | 89/5626 [14:12<2:04:22,  1.35s/it]\u001b[2m\u001b[36m(wrapped_fn pid=395291)\u001b[0m WARNING:nuplan.planning.simulation.planner.idm_planner:IDMPlanner could not find valid path to the target roadblock. Using longest route found instead\u001b[32m [repeated 5x across cluster]\u001b[0m\n",
      "Ray objects:   2%|▏         | 95/5626 [14:18<1:27:01,  1.06it/s]\u001b[2m\u001b[36m(wrapped_fn pid=395284)\u001b[0m WARNING:nuplan.planning.simulation.planner.idm_planner:IDMPlanner could not find valid path to the target roadblock. Using longest route found instead\u001b[32m [repeated 4x across cluster]\u001b[0m\n",
      "Ray objects:   2%|▏         | 96/5626 [14:23<2:48:14,  1.83s/it]\u001b[2m\u001b[36m(wrapped_fn pid=395266)\u001b[0m WARNING:nuplan.planning.simulation.planner.idm_planner:IDMPlanner could not find valid path to the target roadblock. Using longest route found instead\u001b[32m [repeated 6x across cluster]\u001b[0m\n",
      "Ray objects:   2%|▏         | 106/5626 [18:57<49:36:16, 32.35s/it]"
     ]
    }
   ],
   "source": [
    "from nuplan.planning.script.run_simulation import main as main_simulation\n",
    "\n",
    "# Run the simulation loop (real-time visualization not yet supported, see next section for visualization)\n",
    "main_simulation(cfg)"
   ]
  },
  {
   "cell_type": "markdown",
   "id": "4ace6fd1",
   "metadata": {},
   "source": [
    "## Prepare the nuBoard config"
   ]
  },
  {
   "cell_type": "code",
   "execution_count": null,
   "id": "f9bba706",
   "metadata": {},
   "outputs": [],
   "source": [
    "output_folder_alt = []\n",
    "output_folder_alt.append(\n",
    "    \"../../data/nuplan/exp/exp/simulation/closed_loop_reactive_agents/2023.12.09.21.59.48\"\n",
    ")\n",
    "output_folder_alt.append(\n",
    "    \"../../data/nuplan/exp/exp/simulation/closed_loop_reactive_agents/2023.12.09.23.21.13\"\n",
    ")\n",
    "output_folder_alt.append(\n",
    "    \"../../data/nuplan/exp/exp/simulation/closed_loop_nonreactive_agents/2023.12.10.07.32.41\"\n",
    ")\n",
    "output_folder_alt.append(\n",
    "    \"../../data/nuplan/exp/exp/simulation/closed_loop_nonreactive_agents/2023.12.10.08.29.23\"\n",
    ")\n",
    "output_folder_alt.append(\n",
    "    \"../../data/nuplan/exp/exp/simulation/closed_loop_reactive_agents/2023.12.11.00.41.30\"\n",
    ")\n",
    "output_folder_alt.append(\n",
    "    \"../../data/nuplan/exp/exp/simulation/closed_loop_reactive_agents/2023.12.10.09.31.44\"\n",
    ")\n",
    "output_folder_alt.append(\n",
    "    \"../../data/nuplan/exp/exp/simulation/closed_loop_reactive_agents/2023.12.13.12.21.28\"\n",
    ")\n",
    "output_folder_alt.append(\n",
    "    \"../../data/nuplan/exp/exp/simulation/closed_loop_reactive_agents/2023.12.13.13.07.48\"\n",
    ")"
   ]
  },
  {
   "cell_type": "code",
   "execution_count": null,
   "id": "1bdb7bef",
   "metadata": {
    "scrolled": true
   },
   "outputs": [],
   "source": [
    "# scenario_builder = \"val\"  # [nuplan (uses trainval), nuplan_mini, test, val, train_boston, train_pittsburgh, train_singapore]\n",
    "# output_folder = \"../../data/nuplan/exp/exp/simulation/open_loop_boxes/2023.12.31.02.58.31\"\n",
    "\n",
    "# without injection\n",
    "# output_folder = \"../../data/nuplan/exp/exp/simulation/closed_loop_multiagent/2024.01.02.00.44.56\"\n",
    "\n",
    "# output_folder = (\n",
    "#     \"../../data/nuplan/exp/exp/simulation/open_loop_boxes/2023.12.20.13.59.34\"\n",
    "# )\n",
    "# output_folder = '../../data/nuplan/exp/exp/simulation/open_loop_boxes/2023.12.09.21.19.06'\n",
    "# output_folder = \"../../data/nuplan/exp/exp/simulation/closed_loop_reactive_agents/2023.12.09.21.59.48\"\n",
    "# Location of path with all nuBoard configs\n",
    "\n",
    "# scenario_builder = \"val\"\n",
    "# output_folder = \"../../data/nuplan/exp/exp/simulation/closed_loop_multiagent/2024.01.18.22.20.52\"\n",
    "# print(output_folder)\n",
    "CONFIG_PATH = \"../nuplan/planning/script/config/nuboard\"\n",
    "CONFIG_NAME = \"default_nuboard\"\n",
    "\n",
    "# Initialize configuration management system\n",
    "hydra.core.global_hydra.GlobalHydra.instance().clear()  # reinitialize hydra if already initialized\n",
    "hydra.initialize(config_path=CONFIG_PATH)\n",
    "\n",
    "# Compose the configuration\n",
    "cfg = hydra.compose(\n",
    "    config_name=CONFIG_NAME,\n",
    "    overrides=[\n",
    "        f\"scenario_builder={scenario_builder}\",  # set the database (same as simulation) used to fetch data for visualization\n",
    "        f\"simulation_path={output_folder}\",  # [output_folder, output_folder_alt] nuboard file path(s), if left empty the user can open the file inside nuBoard\n",
    "    ],\n",
    ")"
   ]
  },
  {
   "cell_type": "markdown",
   "id": "91fe931f",
   "metadata": {},
   "source": [
    "## Launch nuBoard (open in new tab - recommended)"
   ]
  },
  {
   "cell_type": "code",
   "execution_count": null,
   "id": "e1f01dcc",
   "metadata": {
    "scrolled": false
   },
   "outputs": [
    {
     "name": "stdout",
     "output_type": "stream",
     "text": [
      "2024-01-23 18:45:12,220 INFO {/home/ehdykhne/nuplan-devkit/nuplan/planning/script/builders/scenario_building_builder.py:18}  Building AbstractScenarioBuilder...\n",
      "2024-01-23 18:45:12,238 INFO {/home/ehdykhne/nuplan-devkit/nuplan/planning/script/builders/scenario_building_builder.py:21}  Building AbstractScenarioBuilder...DONE!\n",
      "2024-01-23 18:45:12,239 INFO {/home/ehdykhne/nuplan-devkit/nuplan/planning/nuboard/nuboard.py:84}  Opening Bokeh application on http://localhost:5006/\n",
      "2024-01-23 18:45:12,239 INFO {/home/ehdykhne/nuplan-devkit/nuplan/planning/nuboard/nuboard.py:85}  Async rendering is set to: True\n",
      "2024-01-23 18:45:12,239 INFO {/home/ehdykhne/miniconda3/envs/nuplan/lib/python3.9/site-packages/bokeh/server/server.py:403}  Starting Bokeh server version 2.4.3 (running on Tornado 6.3.3)\n",
      "2024-01-23 18:45:12,240 WARNING {/home/ehdykhne/miniconda3/envs/nuplan/lib/python3.9/site-packages/bokeh/server/util.py:145}  Host wildcard '*' will allow connections originating from multiple (or possibly all) hostnames or IPs. Use non-wildcard values to restrict access explicitly\n",
      "2024-01-23 18:45:12,240 INFO {/home/ehdykhne/miniconda3/envs/nuplan/lib/python3.9/site-packages/bokeh/server/tornado.py:360}  User authentication hooks NOT provided (default user enabled)\n",
      "2024-01-23 18:45:23,117 INFO {/home/ehdykhne/nuplan-devkit/nuplan/planning/nuboard/base/simulation_tile.py:172}  Minimum frame time=0.017 s\n",
      "2024-01-23 18:45:23,153 INFO {/home/ehdykhne/nuplan-devkit/nuplan/planning/nuboard/tabs/scenario_tab.py:485}  Rending scenario plot takes 0.0012 seconds.\n",
      "2024-01-23 18:45:23,269 INFO {/home/ehdykhne/miniconda3/envs/nuplan/lib/python3.9/site-packages/tornado/web.py:2344}  200 GET / (129.97.229.226) 295.03ms\n"
     ]
    },
    {
     "name": "stderr",
     "output_type": "stream",
     "text": [
      "INFO:tornado.access:200 GET / (129.97.229.226) 295.03ms\n",
      "INFO:tornado.access:200 GET /static/js/bokeh.min.js?v=3c61e952b808bb7e346ce828a565a5f23aaf7708d034fa9d0906403813355d45bb4e8d8b0b23a93f032c76831d4f0221846f28699c7f5147caa62e0d31668314 (129.97.229.226) 5.16ms\n",
      "INFO:tornado.access:200 GET /static/js/bokeh-gl.min.js?v=e5df31fd9010eacff0aa72d315264604b5e34972ba445acea6fce98080eecf33acf2d2986126360faaa5852813cffa16f6f6f4889923318300f062497c02da4e (129.97.229.226) 2.19ms\n",
      "INFO:tornado.access:200 GET /static/js/bokeh-widgets.min.js?v=8a1ff6f5aa0d967f4998d275803bbb111d928fd9f605ef9e1f30cfd021df0e77224ee3d13f83edb3a942f6e4ccc569ee5dd8951a8aa6cb600602463b90c65a87 (129.97.229.226) 2.23ms\n",
      "INFO:tornado.access:200 GET /static/js/bokeh-tables.min.js?v=ae2903e57cf57f52819fdf4d938c648982b51c34f73b6e653a0f3bb3c8ab44f338505931ace43eafc1636e215492e2314acf54c54baffb47813b86b4923a7fe0 (129.97.229.226) 2.48ms\n",
      "INFO:tornado.access:200 GET /static/js/bokeh-mathjax.min.js?v=176c36fdbcd8fc1019fc828101a2804081a35baf4018d7f2633cd263156b593aa73112f400112b662daa0590138b74851bc91f1f2a5fbf5416ee8c876c3e0d0c (129.97.229.226) 17.88ms\n"
     ]
    },
    {
     "name": "stdout",
     "output_type": "stream",
     "text": [
      "2024-01-23 18:45:23,323 INFO {/home/ehdykhne/miniconda3/envs/nuplan/lib/python3.9/site-packages/tornado/web.py:2344}  200 GET /static/js/bokeh.min.js?v=3c61e952b808bb7e346ce828a565a5f23aaf7708d034fa9d0906403813355d45bb4e8d8b0b23a93f032c76831d4f0221846f28699c7f5147caa62e0d31668314 (129.97.229.226) 5.16ms\n",
      "2024-01-23 18:45:23,323 INFO {/home/ehdykhne/miniconda3/envs/nuplan/lib/python3.9/site-packages/tornado/web.py:2344}  200 GET /static/js/bokeh-gl.min.js?v=e5df31fd9010eacff0aa72d315264604b5e34972ba445acea6fce98080eecf33acf2d2986126360faaa5852813cffa16f6f6f4889923318300f062497c02da4e (129.97.229.226) 2.19ms\n",
      "2024-01-23 18:45:23,323 INFO {/home/ehdykhne/miniconda3/envs/nuplan/lib/python3.9/site-packages/tornado/web.py:2344}  200 GET /static/js/bokeh-widgets.min.js?v=8a1ff6f5aa0d967f4998d275803bbb111d928fd9f605ef9e1f30cfd021df0e77224ee3d13f83edb3a942f6e4ccc569ee5dd8951a8aa6cb600602463b90c65a87 (129.97.229.226) 2.23ms\n",
      "2024-01-23 18:45:23,323 INFO {/home/ehdykhne/miniconda3/envs/nuplan/lib/python3.9/site-packages/tornado/web.py:2344}  200 GET /static/js/bokeh-tables.min.js?v=ae2903e57cf57f52819fdf4d938c648982b51c34f73b6e653a0f3bb3c8ab44f338505931ace43eafc1636e215492e2314acf54c54baffb47813b86b4923a7fe0 (129.97.229.226) 2.48ms\n",
      "2024-01-23 18:45:23,339 INFO {/home/ehdykhne/miniconda3/envs/nuplan/lib/python3.9/site-packages/tornado/web.py:2344}  200 GET /static/js/bokeh-mathjax.min.js?v=176c36fdbcd8fc1019fc828101a2804081a35baf4018d7f2633cd263156b593aa73112f400112b662daa0590138b74851bc91f1f2a5fbf5416ee8c876c3e0d0c (129.97.229.226) 17.88ms\n",
      "2024-01-23 18:45:23,523 INFO {/home/ehdykhne/miniconda3/envs/nuplan/lib/python3.9/site-packages/tornado/web.py:2344}  101 GET /ws (129.97.229.226) 0.51ms\n",
      "2024-01-23 18:45:23,523 INFO {/home/ehdykhne/miniconda3/envs/nuplan/lib/python3.9/site-packages/bokeh/server/views/ws.py:132}  WebSocket connection opened\n"
     ]
    },
    {
     "name": "stderr",
     "output_type": "stream",
     "text": [
      "INFO:tornado.access:101 GET /ws (129.97.229.226) 0.51ms\n"
     ]
    },
    {
     "name": "stdout",
     "output_type": "stream",
     "text": [
      "2024-01-23 18:45:23,524 INFO {/home/ehdykhne/miniconda3/envs/nuplan/lib/python3.9/site-packages/bokeh/server/views/ws.py:213}  ServerConnection created\n"
     ]
    },
    {
     "name": "stderr",
     "output_type": "stream",
     "text": [
      "Rendering a scenario: 100%|██████████| 1/1 [00:00<00:00, 16.41it/s]\n"
     ]
    },
    {
     "name": "stdout",
     "output_type": "stream",
     "text": [
      "2024-01-23 18:45:52,509 INFO {/home/ehdykhne/nuplan-devkit/nuplan/planning/nuboard/tabs/scenario_tab.py:485}  Rending scenario plot takes 4.3217 seconds.\n",
      "2024-01-23 18:47:00,811 INFO {/home/ehdykhne/nuplan-devkit/nuplan/planning/nuboard/base/simulation_tile.py:575}  Frame deferred: 88\n",
      "2024-01-23 18:47:01,243 INFO {/home/ehdykhne/nuplan-devkit/nuplan/planning/nuboard/base/simulation_tile.py:575}  Frame deferred: 77\n",
      "2024-01-23 18:47:01,378 INFO {/home/ehdykhne/nuplan-devkit/nuplan/planning/nuboard/base/simulation_tile.py:575}  Frame deferred: 72\n",
      "2024-01-23 18:47:01,687 INFO {/home/ehdykhne/nuplan-devkit/nuplan/planning/nuboard/base/simulation_tile.py:897}  Frame dropped 72\n",
      "2024-01-23 18:47:01,844 INFO {/home/ehdykhne/nuplan-devkit/nuplan/planning/nuboard/base/simulation_tile.py:575}  Frame deferred: 53\n",
      "2024-01-23 18:47:02,688 INFO {/home/ehdykhne/nuplan-devkit/nuplan/planning/nuboard/base/simulation_tile.py:897}  Frame dropped 53\n",
      "2024-01-23 18:47:05,546 INFO {/home/ehdykhne/nuplan-devkit/nuplan/planning/nuboard/base/simulation_tile.py:575}  Frame deferred: 47\n",
      "2024-01-23 18:47:05,597 INFO {/home/ehdykhne/nuplan-devkit/nuplan/planning/nuboard/base/simulation_tile.py:575}  Frame deferred: 43\n",
      "2024-01-23 18:47:05,690 INFO {/home/ehdykhne/nuplan-devkit/nuplan/planning/nuboard/base/simulation_tile.py:897}  Frame dropped 43\n",
      "2024-01-23 18:47:05,779 INFO {/home/ehdykhne/nuplan-devkit/nuplan/planning/nuboard/base/simulation_tile.py:575}  Frame deferred: 37\n",
      "2024-01-23 18:47:06,345 INFO {/home/ehdykhne/nuplan-devkit/nuplan/planning/nuboard/base/simulation_tile.py:575}  Frame deferred: 33\n",
      "2024-01-23 18:47:06,394 INFO {/home/ehdykhne/nuplan-devkit/nuplan/planning/nuboard/base/simulation_tile.py:575}  Frame deferred: 37\n",
      "2024-01-23 18:47:06,428 INFO {/home/ehdykhne/nuplan-devkit/nuplan/planning/nuboard/base/simulation_tile.py:575}  Frame deferred: 39\n",
      "2024-01-23 18:47:06,690 INFO {/home/ehdykhne/nuplan-devkit/nuplan/planning/nuboard/base/simulation_tile.py:897}  Frame dropped 39\n",
      "2024-01-23 18:47:06,762 INFO {/home/ehdykhne/nuplan-devkit/nuplan/planning/nuboard/base/simulation_tile.py:575}  Frame deferred: 55\n",
      "2024-01-23 18:47:07,690 INFO {/home/ehdykhne/nuplan-devkit/nuplan/planning/nuboard/base/simulation_tile.py:897}  Frame dropped 55\n",
      "2024-01-23 18:47:08,996 INFO {/home/ehdykhne/nuplan-devkit/nuplan/planning/nuboard/base/simulation_tile.py:575}  Frame deferred: 70\n",
      "2024-01-23 18:47:09,178 INFO {/home/ehdykhne/nuplan-devkit/nuplan/planning/nuboard/base/simulation_tile.py:575}  Frame deferred: 75\n",
      "2024-01-23 18:47:09,244 INFO {/home/ehdykhne/nuplan-devkit/nuplan/planning/nuboard/base/simulation_tile.py:575}  Frame deferred: 77\n",
      "2024-01-23 18:47:09,277 INFO {/home/ehdykhne/nuplan-devkit/nuplan/planning/nuboard/base/simulation_tile.py:575}  Frame deferred: 80\n",
      "2024-01-23 18:47:09,349 INFO {/home/ehdykhne/nuplan-devkit/nuplan/planning/nuboard/base/simulation_tile.py:575}  Frame deferred: 85\n",
      "2024-01-23 18:47:09,693 INFO {/home/ehdykhne/nuplan-devkit/nuplan/planning/nuboard/base/simulation_tile.py:902}  Processing render queue for frame 85\n",
      "2024-01-23 18:47:10,579 INFO {/home/ehdykhne/nuplan-devkit/nuplan/planning/nuboard/base/simulation_tile.py:575}  Frame deferred: 88\n",
      "2024-01-23 18:47:10,634 INFO {/home/ehdykhne/nuplan-devkit/nuplan/planning/nuboard/base/simulation_tile.py:575}  Frame deferred: 102\n",
      "2024-01-23 18:47:10,660 INFO {/home/ehdykhne/nuplan-devkit/nuplan/planning/nuboard/base/simulation_tile.py:575}  Frame deferred: 108\n",
      "2024-01-23 18:47:10,693 INFO {/home/ehdykhne/nuplan-devkit/nuplan/planning/nuboard/base/simulation_tile.py:902}  Processing render queue for frame 108\n",
      "2024-01-23 18:47:11,803 INFO {/home/ehdykhne/nuplan-devkit/nuplan/planning/nuboard/base/simulation_tile.py:575}  Frame deferred: 116\n",
      "2024-01-23 18:47:11,804 INFO {/home/ehdykhne/nuplan-devkit/nuplan/planning/nuboard/base/simulation_tile.py:575}  Frame deferred: 117\n",
      "2024-01-23 18:47:12,788 INFO {/home/ehdykhne/nuplan-devkit/nuplan/planning/nuboard/base/simulation_tile.py:897}  Frame dropped 117\n",
      "2024-01-23 18:47:16,093 INFO {/home/ehdykhne/nuplan-devkit/nuplan/planning/nuboard/base/simulation_tile.py:575}  Frame deferred: 134\n",
      "2024-01-23 18:47:16,789 INFO {/home/ehdykhne/nuplan-devkit/nuplan/planning/nuboard/base/simulation_tile.py:897}  Frame dropped 134\n",
      "2024-01-23 18:47:18,827 INFO {/home/ehdykhne/nuplan-devkit/nuplan/planning/nuboard/base/simulation_tile.py:575}  Frame deferred: 140\n",
      "2024-01-23 18:47:18,994 INFO {/home/ehdykhne/nuplan-devkit/nuplan/planning/nuboard/base/simulation_tile.py:575}  Frame deferred: 120\n",
      "2024-01-23 18:47:19,027 INFO {/home/ehdykhne/nuplan-devkit/nuplan/planning/nuboard/base/simulation_tile.py:575}  Frame deferred: 118\n",
      "2024-01-23 18:47:19,477 INFO {/home/ehdykhne/nuplan-devkit/nuplan/planning/nuboard/base/simulation_tile.py:575}  Frame deferred: 94\n",
      "2024-01-23 18:47:19,792 INFO {/home/ehdykhne/nuplan-devkit/nuplan/planning/nuboard/base/simulation_tile.py:897}  Frame dropped 94\n",
      "2024-01-23 18:47:20,677 INFO {/home/ehdykhne/nuplan-devkit/nuplan/planning/nuboard/base/simulation_tile.py:575}  Frame deferred: 91\n",
      "2024-01-23 18:47:20,710 INFO {/home/ehdykhne/nuplan-devkit/nuplan/planning/nuboard/base/simulation_tile.py:575}  Frame deferred: 93\n",
      "2024-01-23 18:47:20,793 INFO {/home/ehdykhne/nuplan-devkit/nuplan/planning/nuboard/base/simulation_tile.py:897}  Frame dropped 93\n",
      "2024-01-23 18:47:21,177 INFO {/home/ehdykhne/nuplan-devkit/nuplan/planning/nuboard/base/simulation_tile.py:575}  Frame deferred: 91\n",
      "2024-01-23 18:47:21,210 INFO {/home/ehdykhne/nuplan-devkit/nuplan/planning/nuboard/base/simulation_tile.py:575}  Frame deferred: 88\n",
      "2024-01-23 18:47:21,799 INFO {/home/ehdykhne/nuplan-devkit/nuplan/planning/nuboard/base/simulation_tile.py:897}  Frame dropped 88\n",
      "2024-01-23 18:47:22,449 INFO {/home/ehdykhne/nuplan-devkit/nuplan/planning/nuboard/base/simulation_tile.py:575}  Frame deferred: 23\n",
      "2024-01-23 18:47:22,766 INFO {/home/ehdykhne/nuplan-devkit/nuplan/planning/nuboard/base/simulation_tile.py:575}  Frame deferred: 7\n",
      "2024-01-23 18:47:22,801 INFO {/home/ehdykhne/nuplan-devkit/nuplan/planning/nuboard/base/simulation_tile.py:897}  Frame dropped 7\n",
      "2024-01-23 18:47:23,262 INFO {/home/ehdykhne/nuplan-devkit/nuplan/planning/nuboard/base/simulation_tile.py:575}  Frame deferred: 6\n",
      "2024-01-23 18:47:23,312 INFO {/home/ehdykhne/nuplan-devkit/nuplan/planning/nuboard/base/simulation_tile.py:575}  Frame deferred: 12\n",
      "2024-01-23 18:47:23,343 INFO {/home/ehdykhne/nuplan-devkit/nuplan/planning/nuboard/base/simulation_tile.py:575}  Frame deferred: 14\n",
      "2024-01-23 18:47:23,543 INFO {/home/ehdykhne/nuplan-devkit/nuplan/planning/nuboard/base/simulation_tile.py:575}  Frame deferred: 24\n",
      "2024-01-23 18:47:23,577 INFO {/home/ehdykhne/nuplan-devkit/nuplan/planning/nuboard/base/simulation_tile.py:575}  Frame deferred: 26\n",
      "2024-01-23 18:47:23,609 INFO {/home/ehdykhne/nuplan-devkit/nuplan/planning/nuboard/base/simulation_tile.py:575}  Frame deferred: 28\n",
      "2024-01-23 18:47:23,643 INFO {/home/ehdykhne/nuplan-devkit/nuplan/planning/nuboard/base/simulation_tile.py:575}  Frame deferred: 30\n",
      "2024-01-23 18:47:23,795 INFO {/home/ehdykhne/nuplan-devkit/nuplan/planning/nuboard/base/simulation_tile.py:897}  Frame dropped 30\n",
      "2024-01-23 18:47:23,960 INFO {/home/ehdykhne/nuplan-devkit/nuplan/planning/nuboard/base/simulation_tile.py:575}  Frame deferred: 43\n",
      "2024-01-23 18:47:24,546 INFO {/home/ehdykhne/nuplan-devkit/nuplan/planning/nuboard/base/simulation_tile.py:575}  Frame deferred: 59\n",
      "2024-01-23 18:47:24,796 INFO {/home/ehdykhne/nuplan-devkit/nuplan/planning/nuboard/base/simulation_tile.py:897}  Frame dropped 59\n",
      "2024-01-23 18:47:25,125 INFO {/home/ehdykhne/nuplan-devkit/nuplan/planning/nuboard/base/simulation_tile.py:575}  Frame deferred: 82\n",
      "2024-01-23 18:47:25,797 INFO {/home/ehdykhne/nuplan-devkit/nuplan/planning/nuboard/base/simulation_tile.py:897}  Frame dropped 82\n",
      "2024-01-23 18:47:25,976 INFO {/home/ehdykhne/nuplan-devkit/nuplan/planning/nuboard/base/simulation_tile.py:575}  Frame deferred: 37\n",
      "2024-01-23 18:47:26,010 INFO {/home/ehdykhne/nuplan-devkit/nuplan/planning/nuboard/base/simulation_tile.py:575}  Frame deferred: 32\n",
      "2024-01-23 18:47:26,110 INFO {/home/ehdykhne/nuplan-devkit/nuplan/planning/nuboard/base/simulation_tile.py:575}  Frame deferred: 22\n",
      "2024-01-23 18:47:26,177 INFO {/home/ehdykhne/nuplan-devkit/nuplan/planning/nuboard/base/simulation_tile.py:575}  Frame deferred: 19\n",
      "2024-01-23 18:47:26,230 INFO {/home/ehdykhne/nuplan-devkit/nuplan/planning/nuboard/base/simulation_tile.py:575}  Frame deferred: 14\n",
      "2024-01-23 18:47:26,261 INFO {/home/ehdykhne/nuplan-devkit/nuplan/planning/nuboard/base/simulation_tile.py:575}  Frame deferred: 11\n",
      "2024-01-23 18:47:26,326 INFO {/home/ehdykhne/nuplan-devkit/nuplan/planning/nuboard/base/simulation_tile.py:575}  Frame deferred: 2\n",
      "2024-01-23 18:47:26,798 INFO {/home/ehdykhne/nuplan-devkit/nuplan/planning/nuboard/base/simulation_tile.py:897}  Frame dropped 2\n",
      "2024-01-23 18:47:27,380 INFO {/home/ehdykhne/nuplan-devkit/nuplan/planning/nuboard/base/simulation_tile.py:575}  Frame deferred: 27\n",
      "2024-01-23 18:47:27,409 INFO {/home/ehdykhne/nuplan-devkit/nuplan/planning/nuboard/base/simulation_tile.py:575}  Frame deferred: 31\n",
      "2024-01-23 18:47:27,800 INFO {/home/ehdykhne/nuplan-devkit/nuplan/planning/nuboard/base/simulation_tile.py:575}  Frame deferred: 38\n",
      "2024-01-23 18:47:27,800 INFO {/home/ehdykhne/nuplan-devkit/nuplan/planning/nuboard/base/simulation_tile.py:902}  Processing render queue for frame 38\n",
      "2024-01-23 18:47:27,843 INFO {/home/ehdykhne/nuplan-devkit/nuplan/planning/nuboard/base/simulation_tile.py:575}  Frame deferred: 46\n",
      "2024-01-23 18:47:27,876 INFO {/home/ehdykhne/nuplan-devkit/nuplan/planning/nuboard/base/simulation_tile.py:575}  Frame deferred: 50\n",
      "2024-01-23 18:47:28,410 INFO {/home/ehdykhne/nuplan-devkit/nuplan/planning/nuboard/base/simulation_tile.py:575}  Frame deferred: 64\n",
      "2024-01-23 18:47:28,443 INFO {/home/ehdykhne/nuplan-devkit/nuplan/planning/nuboard/base/simulation_tile.py:575}  Frame deferred: 68\n",
      "2024-01-23 18:47:28,476 INFO {/home/ehdykhne/nuplan-devkit/nuplan/planning/nuboard/base/simulation_tile.py:575}  Frame deferred: 70\n",
      "2024-01-23 18:47:28,799 INFO {/home/ehdykhne/nuplan-devkit/nuplan/planning/nuboard/base/simulation_tile.py:902}  Processing render queue for frame 70\n",
      "2024-01-23 18:47:28,862 INFO {/home/ehdykhne/nuplan-devkit/nuplan/planning/nuboard/base/simulation_tile.py:575}  Frame deferred: 73\n",
      "2024-01-23 18:47:29,333 INFO {/home/ehdykhne/nuplan-devkit/nuplan/planning/nuboard/base/simulation_tile.py:575}  Frame deferred: 83\n",
      "2024-01-23 18:47:29,360 INFO {/home/ehdykhne/nuplan-devkit/nuplan/planning/nuboard/base/simulation_tile.py:575}  Frame deferred: 88\n",
      "2024-01-23 18:47:29,393 INFO {/home/ehdykhne/nuplan-devkit/nuplan/planning/nuboard/base/simulation_tile.py:575}  Frame deferred: 92\n",
      "2024-01-23 18:47:29,710 INFO {/home/ehdykhne/nuplan-devkit/nuplan/planning/nuboard/base/simulation_tile.py:575}  Frame deferred: 104\n",
      "2024-01-23 18:47:29,743 INFO {/home/ehdykhne/nuplan-devkit/nuplan/planning/nuboard/base/simulation_tile.py:575}  Frame deferred: 107\n",
      "2024-01-23 18:47:29,804 INFO {/home/ehdykhne/nuplan-devkit/nuplan/planning/nuboard/base/simulation_tile.py:897}  Frame dropped 107\n",
      "2024-01-23 18:47:29,811 INFO {/home/ehdykhne/nuplan-devkit/nuplan/planning/nuboard/base/simulation_tile.py:575}  Frame deferred: 111\n",
      "2024-01-23 18:47:29,842 INFO {/home/ehdykhne/nuplan-devkit/nuplan/planning/nuboard/base/simulation_tile.py:575}  Frame deferred: 113\n",
      "2024-01-23 18:47:29,977 INFO {/home/ehdykhne/nuplan-devkit/nuplan/planning/nuboard/base/simulation_tile.py:575}  Frame deferred: 118\n",
      "2024-01-23 18:47:30,046 INFO {/home/ehdykhne/nuplan-devkit/nuplan/planning/nuboard/base/simulation_tile.py:575}  Frame deferred: 123\n",
      "2024-01-23 18:47:30,360 INFO {/home/ehdykhne/nuplan-devkit/nuplan/planning/nuboard/base/simulation_tile.py:575}  Frame deferred: 136\n",
      "2024-01-23 18:47:30,403 INFO {/home/ehdykhne/nuplan-devkit/nuplan/planning/nuboard/base/simulation_tile.py:575}  Frame deferred: 139\n",
      "2024-01-23 18:47:30,427 INFO {/home/ehdykhne/nuplan-devkit/nuplan/planning/nuboard/base/simulation_tile.py:575}  Frame deferred: 141\n",
      "2024-01-23 18:47:30,460 INFO {/home/ehdykhne/nuplan-devkit/nuplan/planning/nuboard/base/simulation_tile.py:575}  Frame deferred: 143\n",
      "2024-01-23 18:47:30,493 INFO {/home/ehdykhne/nuplan-devkit/nuplan/planning/nuboard/base/simulation_tile.py:575}  Frame deferred: 145\n",
      "2024-01-23 18:47:30,526 INFO {/home/ehdykhne/nuplan-devkit/nuplan/planning/nuboard/base/simulation_tile.py:575}  Frame deferred: 147\n",
      "2024-01-23 18:47:30,802 INFO {/home/ehdykhne/nuplan-devkit/nuplan/planning/nuboard/base/simulation_tile.py:897}  Frame dropped 147\n",
      "2024-01-23 18:47:31,277 INFO {/home/ehdykhne/nuplan-devkit/nuplan/planning/nuboard/base/simulation_tile.py:575}  Frame deferred: 130\n",
      "2024-01-23 18:47:31,392 INFO {/home/ehdykhne/nuplan-devkit/nuplan/planning/nuboard/base/simulation_tile.py:575}  Frame deferred: 122\n",
      "2024-01-23 18:47:31,460 INFO {/home/ehdykhne/nuplan-devkit/nuplan/planning/nuboard/base/simulation_tile.py:575}  Frame deferred: 113\n",
      "2024-01-23 18:47:31,494 INFO {/home/ehdykhne/nuplan-devkit/nuplan/planning/nuboard/base/simulation_tile.py:575}  Frame deferred: 110\n",
      "2024-01-23 18:47:31,526 INFO {/home/ehdykhne/nuplan-devkit/nuplan/planning/nuboard/base/simulation_tile.py:575}  Frame deferred: 107\n",
      "2024-01-23 18:47:31,559 INFO {/home/ehdykhne/nuplan-devkit/nuplan/planning/nuboard/base/simulation_tile.py:575}  Frame deferred: 104\n",
      "2024-01-23 18:47:31,592 INFO {/home/ehdykhne/nuplan-devkit/nuplan/planning/nuboard/base/simulation_tile.py:575}  Frame deferred: 102\n",
      "2024-01-23 18:47:31,626 INFO {/home/ehdykhne/nuplan-devkit/nuplan/planning/nuboard/base/simulation_tile.py:575}  Frame deferred: 100\n",
      "2024-01-23 18:47:31,793 INFO {/home/ehdykhne/nuplan-devkit/nuplan/planning/nuboard/base/simulation_tile.py:575}  Frame deferred: 92\n",
      "2024-01-23 18:47:31,802 INFO {/home/ehdykhne/nuplan-devkit/nuplan/planning/nuboard/base/simulation_tile.py:902}  Processing render queue for frame 92\n",
      "2024-01-23 18:47:32,626 INFO {/home/ehdykhne/nuplan-devkit/nuplan/planning/nuboard/base/simulation_tile.py:575}  Frame deferred: 38\n",
      "2024-01-23 18:47:32,659 INFO {/home/ehdykhne/nuplan-devkit/nuplan/planning/nuboard/base/simulation_tile.py:575}  Frame deferred: 35\n",
      "2024-01-23 18:47:32,693 INFO {/home/ehdykhne/nuplan-devkit/nuplan/planning/nuboard/base/simulation_tile.py:575}  Frame deferred: 31\n",
      "2024-01-23 18:47:32,726 INFO {/home/ehdykhne/nuplan-devkit/nuplan/planning/nuboard/base/simulation_tile.py:575}  Frame deferred: 29\n",
      "2024-01-23 18:47:32,804 INFO {/home/ehdykhne/nuplan-devkit/nuplan/planning/nuboard/base/simulation_tile.py:897}  Frame dropped 29\n",
      "2024-01-23 18:47:32,865 INFO {/home/ehdykhne/nuplan-devkit/nuplan/planning/nuboard/base/simulation_tile.py:575}  Frame deferred: 23\n",
      "2024-01-23 18:47:33,803 INFO {/home/ehdykhne/nuplan-devkit/nuplan/planning/nuboard/base/simulation_tile.py:897}  Frame dropped 23\n",
      "2024-01-23 18:47:34,029 INFO {/home/ehdykhne/nuplan-devkit/nuplan/planning/nuboard/base/simulation_tile.py:575}  Frame deferred: 18\n",
      "2024-01-23 18:47:34,066 INFO {/home/ehdykhne/nuplan-devkit/nuplan/planning/nuboard/base/simulation_tile.py:575}  Frame deferred: 28\n",
      "2024-01-23 18:47:34,392 INFO {/home/ehdykhne/nuplan-devkit/nuplan/planning/nuboard/base/simulation_tile.py:575}  Frame deferred: 33\n",
      "2024-01-23 18:47:34,462 INFO {/home/ehdykhne/nuplan-devkit/nuplan/planning/nuboard/base/simulation_tile.py:575}  Frame deferred: 43\n",
      "2024-01-23 18:47:34,494 INFO {/home/ehdykhne/nuplan-devkit/nuplan/planning/nuboard/base/simulation_tile.py:575}  Frame deferred: 45\n",
      "2024-01-23 18:47:34,743 INFO {/home/ehdykhne/nuplan-devkit/nuplan/planning/nuboard/base/simulation_tile.py:575}  Frame deferred: 56\n",
      "2024-01-23 18:47:34,776 INFO {/home/ehdykhne/nuplan-devkit/nuplan/planning/nuboard/base/simulation_tile.py:575}  Frame deferred: 63\n",
      "2024-01-23 18:47:34,804 INFO {/home/ehdykhne/nuplan-devkit/nuplan/planning/nuboard/base/simulation_tile.py:897}  Frame dropped 63\n",
      "2024-01-23 18:47:34,996 INFO {/home/ehdykhne/nuplan-devkit/nuplan/planning/nuboard/base/simulation_tile.py:575}  Frame deferred: 69\n",
      "2024-01-23 18:47:35,027 INFO {/home/ehdykhne/nuplan-devkit/nuplan/planning/nuboard/base/simulation_tile.py:575}  Frame deferred: 75\n",
      "2024-01-23 18:47:35,059 INFO {/home/ehdykhne/nuplan-devkit/nuplan/planning/nuboard/base/simulation_tile.py:575}  Frame deferred: 77\n",
      "2024-01-23 18:47:35,804 INFO {/home/ehdykhne/nuplan-devkit/nuplan/planning/nuboard/base/simulation_tile.py:897}  Frame dropped 77\n",
      "2024-01-23 18:47:36,064 INFO {/home/ehdykhne/nuplan-devkit/nuplan/planning/nuboard/base/simulation_tile.py:575}  Frame deferred: 81\n",
      "2024-01-23 18:47:36,092 INFO {/home/ehdykhne/nuplan-devkit/nuplan/planning/nuboard/base/simulation_tile.py:575}  Frame deferred: 79\n",
      "2024-01-23 18:47:36,209 INFO {/home/ehdykhne/nuplan-devkit/nuplan/planning/nuboard/base/simulation_tile.py:575}  Frame deferred: 71\n",
      "2024-01-23 18:47:36,243 INFO {/home/ehdykhne/nuplan-devkit/nuplan/planning/nuboard/base/simulation_tile.py:575}  Frame deferred: 69\n",
      "2024-01-23 18:47:36,343 INFO {/home/ehdykhne/nuplan-devkit/nuplan/planning/nuboard/base/simulation_tile.py:575}  Frame deferred: 65\n",
      "2024-01-23 18:47:36,642 INFO {/home/ehdykhne/nuplan-devkit/nuplan/planning/nuboard/base/simulation_tile.py:575}  Frame deferred: 53\n",
      "2024-01-23 18:47:36,805 INFO {/home/ehdykhne/nuplan-devkit/nuplan/planning/nuboard/base/simulation_tile.py:897}  Frame dropped 53\n",
      "2024-01-23 18:47:36,943 INFO {/home/ehdykhne/nuplan-devkit/nuplan/planning/nuboard/base/simulation_tile.py:575}  Frame deferred: 43\n",
      "2024-01-23 18:47:37,009 INFO {/home/ehdykhne/nuplan-devkit/nuplan/planning/nuboard/base/simulation_tile.py:575}  Frame deferred: 39\n",
      "2024-01-23 18:47:37,043 INFO {/home/ehdykhne/nuplan-devkit/nuplan/planning/nuboard/base/simulation_tile.py:575}  Frame deferred: 36\n",
      "2024-01-23 18:47:37,076 INFO {/home/ehdykhne/nuplan-devkit/nuplan/planning/nuboard/base/simulation_tile.py:575}  Frame deferred: 33\n",
      "2024-01-23 18:47:37,110 INFO {/home/ehdykhne/nuplan-devkit/nuplan/planning/nuboard/base/simulation_tile.py:575}  Frame deferred: 31\n",
      "2024-01-23 18:47:37,143 INFO {/home/ehdykhne/nuplan-devkit/nuplan/planning/nuboard/base/simulation_tile.py:575}  Frame deferred: 28\n",
      "2024-01-23 18:47:37,243 INFO {/home/ehdykhne/nuplan-devkit/nuplan/planning/nuboard/base/simulation_tile.py:575}  Frame deferred: 24\n",
      "2024-01-23 18:47:37,343 INFO {/home/ehdykhne/nuplan-devkit/nuplan/planning/nuboard/base/simulation_tile.py:575}  Frame deferred: 20\n",
      "2024-01-23 18:47:37,409 INFO {/home/ehdykhne/nuplan-devkit/nuplan/planning/nuboard/base/simulation_tile.py:575}  Frame deferred: 17\n",
      "2024-01-23 18:47:37,443 INFO {/home/ehdykhne/nuplan-devkit/nuplan/planning/nuboard/base/simulation_tile.py:575}  Frame deferred: 10\n",
      "2024-01-23 18:47:37,475 INFO {/home/ehdykhne/nuplan-devkit/nuplan/planning/nuboard/base/simulation_tile.py:575}  Frame deferred: 4\n",
      "2024-01-23 18:47:37,806 INFO {/home/ehdykhne/nuplan-devkit/nuplan/planning/nuboard/base/simulation_tile.py:897}  Frame dropped 4\n",
      "2024-01-23 18:47:37,910 INFO {/home/ehdykhne/nuplan-devkit/nuplan/planning/nuboard/base/simulation_tile.py:575}  Frame deferred: 8\n",
      "2024-01-23 18:47:37,943 INFO {/home/ehdykhne/nuplan-devkit/nuplan/planning/nuboard/base/simulation_tile.py:575}  Frame deferred: 11\n",
      "2024-01-23 18:47:37,976 INFO {/home/ehdykhne/nuplan-devkit/nuplan/planning/nuboard/base/simulation_tile.py:575}  Frame deferred: 14\n",
      "2024-01-23 18:47:38,042 INFO {/home/ehdykhne/nuplan-devkit/nuplan/planning/nuboard/base/simulation_tile.py:575}  Frame deferred: 20\n",
      "2024-01-23 18:47:38,093 INFO {/home/ehdykhne/nuplan-devkit/nuplan/planning/nuboard/base/simulation_tile.py:575}  Frame deferred: 23\n",
      "2024-01-23 18:47:38,125 INFO {/home/ehdykhne/nuplan-devkit/nuplan/planning/nuboard/base/simulation_tile.py:575}  Frame deferred: 25\n",
      "2024-01-23 18:47:38,159 INFO {/home/ehdykhne/nuplan-devkit/nuplan/planning/nuboard/base/simulation_tile.py:575}  Frame deferred: 27\n",
      "2024-01-23 18:47:38,807 INFO {/home/ehdykhne/nuplan-devkit/nuplan/planning/nuboard/base/simulation_tile.py:897}  Frame dropped 27\n",
      "2024-01-23 18:47:43,507 INFO {/home/ehdykhne/nuplan-devkit/nuplan/planning/nuboard/base/simulation_tile.py:575}  Frame deferred: 135\n",
      "2024-01-23 18:47:43,813 INFO {/home/ehdykhne/nuplan-devkit/nuplan/planning/nuboard/base/simulation_tile.py:897}  Frame dropped 135\n",
      "2024-01-23 18:47:45,022 INFO {/home/ehdykhne/nuplan-devkit/nuplan/planning/nuboard/base/simulation_tile.py:575}  Frame deferred: 111\n",
      "2024-01-23 18:47:45,814 INFO {/home/ehdykhne/nuplan-devkit/nuplan/planning/nuboard/base/simulation_tile.py:897}  Frame dropped 111\n",
      "2024-01-23 18:47:50,057 INFO {/home/ehdykhne/nuplan-devkit/nuplan/planning/nuboard/base/simulation_tile.py:575}  Frame deferred: 18\n",
      "2024-01-23 18:47:50,119 INFO {/home/ehdykhne/nuplan-devkit/nuplan/planning/nuboard/base/simulation_tile.py:575}  Frame deferred: 27\n",
      "2024-01-23 18:47:50,817 INFO {/home/ehdykhne/nuplan-devkit/nuplan/planning/nuboard/base/simulation_tile.py:897}  Frame dropped 27\n",
      "2024-01-23 18:47:54,443 INFO {/home/ehdykhne/nuplan-devkit/nuplan/planning/nuboard/base/simulation_tile.py:575}  Frame deferred: 130\n",
      "2024-01-23 18:47:54,473 INFO {/home/ehdykhne/nuplan-devkit/nuplan/planning/nuboard/base/simulation_tile.py:575}  Frame deferred: 126\n",
      "2024-01-23 18:47:54,535 INFO {/home/ehdykhne/nuplan-devkit/nuplan/planning/nuboard/base/simulation_tile.py:575}  Frame deferred: 111\n",
      "2024-01-23 18:47:54,563 INFO {/home/ehdykhne/nuplan-devkit/nuplan/planning/nuboard/base/simulation_tile.py:575}  Frame deferred: 103\n",
      "2024-01-23 18:47:54,819 INFO {/home/ehdykhne/nuplan-devkit/nuplan/planning/nuboard/base/simulation_tile.py:897}  Frame dropped 103\n"
     ]
    },
    {
     "name": "stderr",
     "output_type": "stream",
     "text": [
      "Rendering a scenario: 100%|██████████| 1/1 [00:00<00:00, 167.35it/s]\n"
     ]
    },
    {
     "name": "stdout",
     "output_type": "stream",
     "text": [
      "2024-01-23 18:49:19,514 INFO {/home/ehdykhne/nuplan-devkit/nuplan/planning/nuboard/tabs/scenario_tab.py:485}  Rending scenario plot takes 3.8713 seconds.\n"
     ]
    },
    {
     "name": "stderr",
     "output_type": "stream",
     "text": [
      "Rendering a scenario: 100%|██████████| 1/1 [00:00<00:00, 18.12it/s]\n"
     ]
    },
    {
     "name": "stdout",
     "output_type": "stream",
     "text": [
      "2024-01-23 18:52:07,503 INFO {/home/ehdykhne/nuplan-devkit/nuplan/planning/nuboard/tabs/scenario_tab.py:485}  Rending scenario plot takes 4.0167 seconds.\n"
     ]
    },
    {
     "name": "stderr",
     "output_type": "stream",
     "text": [
      "Rendering a scenario: 100%|██████████| 1/1 [00:00<00:00, 20.43it/s]\n"
     ]
    },
    {
     "name": "stdout",
     "output_type": "stream",
     "text": [
      "2024-01-23 18:54:50,374 INFO {/home/ehdykhne/nuplan-devkit/nuplan/planning/nuboard/tabs/scenario_tab.py:485}  Rending scenario plot takes 3.6081 seconds.\n"
     ]
    },
    {
     "name": "stderr",
     "output_type": "stream",
     "text": [
      "Rendering a scenario: 100%|██████████| 1/1 [00:00<00:00, 27.45it/s]\n"
     ]
    },
    {
     "name": "stdout",
     "output_type": "stream",
     "text": [
      "2024-01-23 19:33:55,975 INFO {/home/ehdykhne/nuplan-devkit/nuplan/planning/nuboard/tabs/scenario_tab.py:485}  Rending scenario plot takes 4.1235 seconds.\n"
     ]
    },
    {
     "name": "stderr",
     "output_type": "stream",
     "text": [
      "Rendering a scenario: 100%|██████████| 1/1 [00:00<00:00, 31.54it/s]\n"
     ]
    },
    {
     "name": "stdout",
     "output_type": "stream",
     "text": [
      "2024-01-23 19:36:48,375 INFO {/home/ehdykhne/nuplan-devkit/nuplan/planning/nuboard/tabs/scenario_tab.py:485}  Rending scenario plot takes 3.5669 seconds.\n"
     ]
    },
    {
     "name": "stderr",
     "output_type": "stream",
     "text": [
      "Rendering a scenario: 100%|██████████| 1/1 [00:00<00:00, 90.87it/s]\n"
     ]
    },
    {
     "name": "stdout",
     "output_type": "stream",
     "text": [
      "2024-01-23 19:37:33,902 INFO {/home/ehdykhne/nuplan-devkit/nuplan/planning/nuboard/tabs/scenario_tab.py:485}  Rending scenario plot takes 4.4469 seconds.\n"
     ]
    },
    {
     "ename": "KeyboardInterrupt",
     "evalue": "",
     "output_type": "error",
     "traceback": [
      "\u001b[0;31m---------------------------------------------------------------------------\u001b[0m",
      "\u001b[0;31mKeyboardInterrupt\u001b[0m                         Traceback (most recent call last)",
      "\u001b[1;32m/home/ehdykhne/nuplan-devkit/experiments/bulk_running_experiments.ipynb Cell 14\u001b[0m line \u001b[0;36m4\n\u001b[1;32m      <a href='vscode-notebook-cell://ssh-remote%2Bwisedave.eng.uwaterloo.ca/home/ehdykhne/nuplan-devkit/experiments/bulk_running_experiments.ipynb#X16sdnNjb2RlLXJlbW90ZQ%3D%3D?line=0'>1</a>\u001b[0m \u001b[39mfrom\u001b[39;00m \u001b[39mnuplan\u001b[39;00m\u001b[39m.\u001b[39;00m\u001b[39mplanning\u001b[39;00m\u001b[39m.\u001b[39;00m\u001b[39mscript\u001b[39;00m\u001b[39m.\u001b[39;00m\u001b[39mrun_nuboard\u001b[39;00m \u001b[39mimport\u001b[39;00m main \u001b[39mas\u001b[39;00m main_nuboard\n\u001b[1;32m      <a href='vscode-notebook-cell://ssh-remote%2Bwisedave.eng.uwaterloo.ca/home/ehdykhne/nuplan-devkit/experiments/bulk_running_experiments.ipynb#X16sdnNjb2RlLXJlbW90ZQ%3D%3D?line=2'>3</a>\u001b[0m \u001b[39m# Run nuBoard\u001b[39;00m\n\u001b[0;32m----> <a href='vscode-notebook-cell://ssh-remote%2Bwisedave.eng.uwaterloo.ca/home/ehdykhne/nuplan-devkit/experiments/bulk_running_experiments.ipynb#X16sdnNjb2RlLXJlbW90ZQ%3D%3D?line=3'>4</a>\u001b[0m main_nuboard(cfg)\n",
      "File \u001b[0;32m~/miniconda3/envs/nuplan/lib/python3.9/site-packages/hydra/main.py:44\u001b[0m, in \u001b[0;36mmain.<locals>.main_decorator.<locals>.decorated_main\u001b[0;34m(cfg_passthrough)\u001b[0m\n\u001b[1;32m     41\u001b[0m \u001b[39m@functools\u001b[39m\u001b[39m.\u001b[39mwraps(task_function)\n\u001b[1;32m     42\u001b[0m \u001b[39mdef\u001b[39;00m \u001b[39mdecorated_main\u001b[39m(cfg_passthrough: Optional[DictConfig] \u001b[39m=\u001b[39m \u001b[39mNone\u001b[39;00m) \u001b[39m-\u001b[39m\u001b[39m>\u001b[39m Any:\n\u001b[1;32m     43\u001b[0m     \u001b[39mif\u001b[39;00m cfg_passthrough \u001b[39mis\u001b[39;00m \u001b[39mnot\u001b[39;00m \u001b[39mNone\u001b[39;00m:\n\u001b[0;32m---> 44\u001b[0m         \u001b[39mreturn\u001b[39;00m task_function(cfg_passthrough)\n\u001b[1;32m     45\u001b[0m     \u001b[39melse\u001b[39;00m:\n\u001b[1;32m     46\u001b[0m         args \u001b[39m=\u001b[39m get_args_parser()\n",
      "File \u001b[0;32m~/nuplan-devkit/nuplan/planning/script/run_nuboard.py:74\u001b[0m, in \u001b[0;36mmain\u001b[0;34m(cfg)\u001b[0m\n\u001b[1;32m     69\u001b[0m \u001b[39m\u001b[39m\u001b[39m\"\"\"\u001b[39;00m\n\u001b[1;32m     70\u001b[0m \u001b[39mExecute all available challenges simultaneously on the same scenario.\u001b[39;00m\n\u001b[1;32m     71\u001b[0m \u001b[39m:param cfg: DictConfig. Configuration that is used to run the experiment.\u001b[39;00m\n\u001b[1;32m     72\u001b[0m \u001b[39m\"\"\"\u001b[39;00m\n\u001b[1;32m     73\u001b[0m nuboard \u001b[39m=\u001b[39m initialize_nuboard(cfg)\n\u001b[0;32m---> 74\u001b[0m nuboard\u001b[39m.\u001b[39;49mrun()\n",
      "File \u001b[0;32m~/nuplan-devkit/nuplan/planning/nuboard/nuboard.py:112\u001b[0m, in \u001b[0;36mNuBoard.run\u001b[0;34m(self)\u001b[0m\n\u001b[1;32m    110\u001b[0m \u001b[39m# Catch RuntimeError in jupyter notebook\u001b[39;00m\n\u001b[1;32m    111\u001b[0m \u001b[39mtry\u001b[39;00m:\n\u001b[0;32m--> 112\u001b[0m     io_loop\u001b[39m.\u001b[39;49mstart()\n\u001b[1;32m    113\u001b[0m \u001b[39mexcept\u001b[39;00m \u001b[39mRuntimeError\u001b[39;00m \u001b[39mas\u001b[39;00m e:\n\u001b[1;32m    114\u001b[0m     logger\u001b[39m.\u001b[39mwarning(\u001b[39mf\u001b[39m\u001b[39m\"\u001b[39m\u001b[39m{\u001b[39;00me\u001b[39m}\u001b[39;00m\u001b[39m\"\u001b[39m)\n",
      "File \u001b[0;32m~/miniconda3/envs/nuplan/lib/python3.9/site-packages/tornado/platform/asyncio.py:195\u001b[0m, in \u001b[0;36mBaseAsyncIOLoop.start\u001b[0;34m(self)\u001b[0m\n\u001b[1;32m    194\u001b[0m \u001b[39mdef\u001b[39;00m \u001b[39mstart\u001b[39m(\u001b[39mself\u001b[39m) \u001b[39m-\u001b[39m\u001b[39m>\u001b[39m \u001b[39mNone\u001b[39;00m:\n\u001b[0;32m--> 195\u001b[0m     \u001b[39mself\u001b[39;49m\u001b[39m.\u001b[39;49masyncio_loop\u001b[39m.\u001b[39;49mrun_forever()\n",
      "File \u001b[0;32m~/miniconda3/envs/nuplan/lib/python3.9/site-packages/nest_asyncio.py:82\u001b[0m, in \u001b[0;36m_patch_loop.<locals>.run_forever\u001b[0;34m(self)\u001b[0m\n\u001b[1;32m     80\u001b[0m \u001b[39mwith\u001b[39;00m manage_run(\u001b[39mself\u001b[39m), manage_asyncgens(\u001b[39mself\u001b[39m):\n\u001b[1;32m     81\u001b[0m     \u001b[39mwhile\u001b[39;00m \u001b[39mTrue\u001b[39;00m:\n\u001b[0;32m---> 82\u001b[0m         \u001b[39mself\u001b[39;49m\u001b[39m.\u001b[39;49m_run_once()\n\u001b[1;32m     83\u001b[0m         \u001b[39mif\u001b[39;00m \u001b[39mself\u001b[39m\u001b[39m.\u001b[39m_stopping:\n\u001b[1;32m     84\u001b[0m             \u001b[39mbreak\u001b[39;00m\n",
      "File \u001b[0;32m~/miniconda3/envs/nuplan/lib/python3.9/site-packages/nest_asyncio.py:116\u001b[0m, in \u001b[0;36m_patch_loop.<locals>._run_once\u001b[0;34m(self)\u001b[0m\n\u001b[1;32m    109\u001b[0m     heappop(scheduled)\n\u001b[1;32m    111\u001b[0m timeout \u001b[39m=\u001b[39m (\n\u001b[1;32m    112\u001b[0m     \u001b[39m0\u001b[39m \u001b[39mif\u001b[39;00m ready \u001b[39mor\u001b[39;00m \u001b[39mself\u001b[39m\u001b[39m.\u001b[39m_stopping\n\u001b[1;32m    113\u001b[0m     \u001b[39melse\u001b[39;00m \u001b[39mmin\u001b[39m(\u001b[39mmax\u001b[39m(\n\u001b[1;32m    114\u001b[0m         scheduled[\u001b[39m0\u001b[39m]\u001b[39m.\u001b[39m_when \u001b[39m-\u001b[39m \u001b[39mself\u001b[39m\u001b[39m.\u001b[39mtime(), \u001b[39m0\u001b[39m), \u001b[39m86400\u001b[39m) \u001b[39mif\u001b[39;00m scheduled\n\u001b[1;32m    115\u001b[0m     \u001b[39melse\u001b[39;00m \u001b[39mNone\u001b[39;00m)\n\u001b[0;32m--> 116\u001b[0m event_list \u001b[39m=\u001b[39m \u001b[39mself\u001b[39;49m\u001b[39m.\u001b[39;49m_selector\u001b[39m.\u001b[39;49mselect(timeout)\n\u001b[1;32m    117\u001b[0m \u001b[39mself\u001b[39m\u001b[39m.\u001b[39m_process_events(event_list)\n\u001b[1;32m    119\u001b[0m end_time \u001b[39m=\u001b[39m \u001b[39mself\u001b[39m\u001b[39m.\u001b[39mtime() \u001b[39m+\u001b[39m \u001b[39mself\u001b[39m\u001b[39m.\u001b[39m_clock_resolution\n",
      "File \u001b[0;32m~/miniconda3/envs/nuplan/lib/python3.9/selectors.py:469\u001b[0m, in \u001b[0;36mEpollSelector.select\u001b[0;34m(self, timeout)\u001b[0m\n\u001b[1;32m    467\u001b[0m ready \u001b[39m=\u001b[39m []\n\u001b[1;32m    468\u001b[0m \u001b[39mtry\u001b[39;00m:\n\u001b[0;32m--> 469\u001b[0m     fd_event_list \u001b[39m=\u001b[39m \u001b[39mself\u001b[39;49m\u001b[39m.\u001b[39;49m_selector\u001b[39m.\u001b[39;49mpoll(timeout, max_ev)\n\u001b[1;32m    470\u001b[0m \u001b[39mexcept\u001b[39;00m \u001b[39mInterruptedError\u001b[39;00m:\n\u001b[1;32m    471\u001b[0m     \u001b[39mreturn\u001b[39;00m ready\n",
      "\u001b[0;31mKeyboardInterrupt\u001b[0m: "
     ]
    }
   ],
   "source": [
    "from nuplan.planning.script.run_nuboard import main as main_nuboard\n",
    "\n",
    "# Run nuBoard\n",
    "main_nuboard(cfg)"
   ]
  },
  {
   "cell_type": "code",
   "execution_count": null,
   "id": "455dd871",
   "metadata": {
    "scrolled": true
   },
   "outputs": [],
   "source": []
  }
 ],
 "metadata": {
  "kernelspec": {
   "display_name": "Python 3 (ipykernel)",
   "language": "python",
   "name": "python3"
  },
  "language_info": {
   "codemirror_mode": {
    "name": "ipython",
    "version": 3
   },
   "file_extension": ".py",
   "mimetype": "text/x-python",
   "name": "python",
   "nbconvert_exporter": "python",
   "pygments_lexer": "ipython3",
   "version": "3.9.18"
  }
 },
 "nbformat": 4,
 "nbformat_minor": 5
}

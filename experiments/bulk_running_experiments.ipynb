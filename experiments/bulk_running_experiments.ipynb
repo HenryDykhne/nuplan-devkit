{
 "cells": [
  {
   "cell_type": "code",
   "execution_count": 1,
   "id": "3e31b233",
   "metadata": {
    "scrolled": true
   },
   "outputs": [],
   "source": [
    "import asyncio\n",
    "import itertools\n",
    "import logging\n",
    "import random\n",
    "import nest_asyncio\n",
    "\n",
    "nest_asyncio.apply()  # must be run at the start of every notebook to patch the event loop to allow nesting, eg. so we can run asyncio.run from within a notebook."
   ]
  },
  {
   "cell_type": "code",
   "execution_count": 2,
   "id": "5a4f8ab4",
   "metadata": {
    "scrolled": true
   },
   "outputs": [],
   "source": [
    "import os\n",
    "from pathlib import Path\n",
    "import tempfile\n",
    "\n",
    "from shutil import rmtree\n",
    "from typing import List, Optional, Union"
   ]
  },
  {
   "cell_type": "code",
   "execution_count": 3,
   "metadata": {},
   "outputs": [
    {
     "name": "stdout",
     "output_type": "stream",
     "text": [
      "env: NUPLAN_DATA_ROOT=../../../datasets/nuplan/dataset\n",
      "env: NUPLAN_MAPS_ROOT=../../data/nuplan/maps\n",
      "env: NUPLAN_EXP_ROOT=../../data/nuplan/exp\n",
      "env: NUPLAN_DEVKIT_ROOT=../../nuplan-devkit/\n"
     ]
    },
    {
     "data": {
      "text/plain": [
       "'/home/ehdykhne/nuplan-devkit/experiments'"
      ]
     },
     "execution_count": 3,
     "metadata": {},
     "output_type": "execute_result"
    }
   ],
   "source": [
    "# Adjust your env variables here if nescesary\n",
    "\n",
    "%env NUPLAN_DATA_ROOT=../../../datasets/nuplan/dataset\n",
    "%env NUPLAN_MAPS_ROOT=../../data/nuplan/maps\n",
    "%env NUPLAN_EXP_ROOT=../../data/nuplan/exp\n",
    "%env NUPLAN_DEVKIT_ROOT=../../nuplan-devkit/\n",
    "%pwd"
   ]
  },
  {
   "cell_type": "code",
   "execution_count": 4,
   "id": "64d027e9",
   "metadata": {
    "scrolled": true
   },
   "outputs": [],
   "source": [
    "import hydra\n",
    "import pytorch_lightning as pl\n",
    "from omegaconf import DictConfig, OmegaConf\n",
    "\n",
    "from nuplan.common.utils.s3_utils import is_s3_path\n",
    "from nuplan.planning.script.builders.simulation_builder import build_simulations\n",
    "from nuplan.planning.script.builders.simulation_callback_builder import (\n",
    "    build_callbacks_worker,\n",
    "    build_simulation_callbacks,\n",
    ")\n",
    "from nuplan.planning.script.utils import (\n",
    "    run_runners,\n",
    "    set_default_path,\n",
    "    set_up_common_builder,\n",
    ")\n",
    "from nuplan.planning.simulation.planner.abstract_planner import AbstractPlanner\n",
    "\n",
    "logging.basicConfig(level=logging.INFO)\n",
    "logger = logging.getLogger(__name__)\n",
    "\n",
    "# If set, use the env. variable to overwrite the default dataset and experiment paths\n",
    "set_default_path()\n",
    "\n",
    "# If set, use the env. variable to overwrite the Hydra config\n",
    "CONFIG_PATH = os.getenv(\"NUPLAN_HYDRA_CONFIG_PATH\", \"config/simulation\")\n",
    "\n",
    "if os.environ.get(\"NUPLAN_HYDRA_CONFIG_PATH\") is not None:\n",
    "    CONFIG_PATH = os.path.join(\"../../../../\", CONFIG_PATH)\n",
    "\n",
    "if os.path.basename(CONFIG_PATH) != \"simulation\":\n",
    "    CONFIG_PATH = os.path.join(CONFIG_PATH, \"simulation\")\n",
    "CONFIG_NAME = \"default_simulation\""
   ]
  },
  {
   "cell_type": "code",
   "execution_count": 5,
   "id": "ec762c52",
   "metadata": {
    "scrolled": true
   },
   "outputs": [
    {
     "name": "stdout",
     "output_type": "stream",
     "text": [
      "default_simulation\n",
      "output_folder = \"../../data/nuplan/exp/exp/simulation/closed_loop_multiagent/2024.01.08.04.07.08\"\n"
     ]
    }
   ],
   "source": [
    "from tutorials.utils.tutorial_utils import construct_simulation_hydra_paths\n",
    "\n",
    "# Location of paths with all simulation configs\n",
    "BASE_CONFIG_PATH = os.path.join(\n",
    "    os.getenv(\"NUPLAN_TUTORIAL_PATH\", \"\"), \"../nuplan/planning/script\"\n",
    ")\n",
    "simulation_hydra_paths = construct_simulation_hydra_paths(BASE_CONFIG_PATH)\n",
    "\n",
    "# Create a temporary directory to store the simulation artifacts\n",
    "\n",
    "\n",
    "scenario_types = [\n",
    "    \"accelerating_at_traffic_light_with_lead\",\n",
    "    # \"crossed_by_bike\",\n",
    "    # \"crossed_by_vehicle\",\n",
    "    # \"on_intersection\",\n",
    "    # \"on_stopline_crosswalk\",\n",
    "    # \"on_stopline_stop_sign\",\n",
    "    # \"on_stopline_traffic_light\",\n",
    "    # \"on_traffic_light_intersection\",\n",
    "    # \"starting_protected_cross_turn\",\n",
    "    # \"starting_protected_noncross_turn\",\n",
    "    # \"starting_right_turn\",\n",
    "    # \"starting_straight_stop_sign_intersection_traversal\",\n",
    "    # \"starting_straight_traffic_light_intersection_traversal\",\n",
    "    # \"starting_u_turn\",\n",
    "    \"starting_unprotected_cross_turn\",\n",
    "    # \"starting_unprotected_noncross_turn\",\n",
    "    # \"stationary_at_crosswalk\",\n",
    "    # \"stationary_at_traffic_light_with_lead\",\n",
    "    # \"stationary_at_traffic_light_without_lead\",\n",
    "    # \"traversing_crosswalk\",\n",
    "    # \"traversing_intersection\",\n",
    "    \"traversing_traffic_light_intersection\",\n",
    "]\n",
    "\n",
    "# scenario_types = ['stationary_at_traffic_light_without_lead']\n",
    "\n",
    "scenario_builder = \"val\"  # [nuplan (uses trainval), nuplan_mini, test, val, train_boston, train_pittsburgh, train_singapore]\n",
    "DATASET_PARAMS = [\n",
    "    f\"scenario_builder={scenario_builder}\",\n",
    "    \"scenario_filter=val14_split\",  # [all_scenarios, val14_split]\n",
    "    # f\"scenario_filter.scenario_types={scenario_types}\",  # there are 70 scenario types in the trainingset and 58 in the validation set including \"unknown\" which make up the majority\n",
    "    # \"scenario_filter.ego_displacement_minimum_m=10\",  # use scenarios where the ego vehicle moves at least 10m\n",
    "    #    'scenario_filter.remove_invalid_goals=true',  # remove scenarios where the goal is not invalid\n",
    "    # \"scenario_filter.ego_start_speed_threshold=5\",  # Exclusive threshold that the ego's speed must rise above (meters per second) for scenario to be kept\n",
    "    #    'scenario_filter.stop_speed_threshold=10',  # Inclusive threshold that the ego's speed must fall below (meters per second) for scenario to be kept:\n",
    "    # \"scenario_filter.map_names=[us-pa-pittsburgh-hazelwood]\",  # select multiple [sg-one-north, us-ma-boston, us-pa-pittsburgh-hazelwood, us-nv-las-vegas-strip]\n",
    "    # \"scenario_filter.num_scenarios_per_type=200\",  # use 10 scenarios per scenario type\n",
    "    \"scenario_filter.scenario_tokens=['06f3e1d3f9df598a']\",  # List of scenarios to include (token)\n",
    "    #'scenario_filter.log_names=[\"2021.08.24.20.03.01_veh-45_01091_01622\"]',  # specific scenrios to simulate\n",
    "    # \"scenario_filter.limit_total_scenarios=0.05\",  # use n total scenarios if int, or if float smaller than 1, use n as a fraction of total scenarios (changes sampling frequency, unchanged leaves the frequency at 20Hz)\n",
    "]\n",
    "ckpt_dir = \"/home/ehdykhne/nuplan-devkit/experiments/pretrained_checkpoints/urbandriver_checkpoint.ckpt\"\n",
    "hybrid_ckpt = \"/home/ehdykhne/nuplan-devkit/experiments/pretrained_checkpoints/pdm_offset_checkpoint.ckpt\"\n",
    "#'/home/ehdykhne/nuplan-devkit/experiments/pretrained_checkpoints/urbandriver_checkpoint.ckpt'\n",
    "#'/home/ehdykhne/Repos/nuplan-devkit/experiments/pretrained_checkpoints/urbandriver_checkpoint.ckpt'\n",
    "# Initialize configuration management system\n",
    "hydra.core.global_hydra.GlobalHydra.instance().clear()  # reinitialize hydra if already initialized\n",
    "hydra.initialize(config_path=simulation_hydra_paths.config_path)\n",
    "\n",
    "# Compose the configuration\n",
    "print(simulation_hydra_paths.config_name)\n",
    "cfg = hydra.compose(\n",
    "    config_name=simulation_hydra_paths.config_name,\n",
    "    overrides=[\n",
    "        \"+simulation=closed_loop_multiagent\",  # [open_loop_boxes, closed_loop_nonreactive_agents, closed_loop_reactive_agents, closed_loop_multiagent]\n",
    "        \"planner=pdm_closed_planner\",  # [ml_planner, pdm_hybrid_planner, gc_pgp_planner, idm_planner, log_future_planner, simple_planner]\n",
    "        #'model=urban_driver_open_loop_model',\n",
    "        # \"ego_controller=perfect_tracking_controller\",\n",
    "        # \"planner=pdm_closed_planner\",\n",
    "        # f\"planner.pdm_closed_planner.checkpoint_path={hybrid_ckpt}\",\n",
    "        #'observation.model_config=${model}',\n",
    "        # f'observation.checkpoint_path={ckpt_dir}',\n",
    "        f\"observation.planner_type=idm\",\n",
    "        # # f\"observation.pdm_hybrid_ckpt={hybrid_ckpt}\",\n",
    "        f\"observation.occlusion_cfg.occlusion=true\",\n",
    "        f\"observation.occlusion_cfg.manager_type=wedge\",\n",
    "        \"+modify_scenario_simulations=true\",\n",
    "        \"+modifier_types=[left-and-right]\",\n",
    "        \"+occlusion=true\",\n",
    "        \"+occlusion.manager_type=wedge\",  # options: [range, shadow, wedge]\n",
    "        \"+occlusion.uncloak_reaction_time=1.5\",\n",
    "        \"+occlusion.notice_threshold=1.0\",\n",
    "        \"worker=ray_distributed\",  # [sequential, ray_distributed]\n",
    "        \"hydra.searchpath=[pkg://tuplan_garage.planning.script.config.common, pkg://tuplan_garage.planning.script.config.simulation, pkg://nuplan.planning.script.config.common, pkg://nuplan.planning.script.experiments]\",\n",
    "        *DATASET_PARAMS,\n",
    "    ],\n",
    ")\n",
    "\n",
    "output_folder = cfg.output_dir\n",
    "print('output_folder = \"' + output_folder + '\"')\n",
    "\n",
    "\n",
    "# \"+simulation=open_loop_boxes\",  # [open_loop_boxes, closed_loop_nonreactive_agents, closed_loop_reactive_agents, closed_loop_multiagent]\n",
    "#         #'model=gc_pgp_model',\n",
    "#         #'model.aggregator.pre_train=false',\n",
    "#         # 'planner=pdm_hybrid_planner',\n",
    "#         # f\"planner.pdm_hybrid_planner.checkpoint_path={ckpt_dir}\" ,\n",
    "#         \"planner=log_future_planner\",  # [ml_planner, pdm_hybrid_planner, gc_pgp_planner, idm_planner, log_future_planner, simple_planner]\n",
    "#         #'model=urban_driver_open_loop_model',\n",
    "#         \"ego_controller=perfect_tracking_controller\",\n",
    "#         #'planner.ml_planner.model_config=${model}',\n",
    "#         # f'planner.ml_planner.checkpoint_path={obs_ckpt_dir}',\n",
    "#         # f'observation=idm_agents_observation',\n",
    "#         #'observation.model_config=${model}',\n",
    "#         # f'observation.checkpoint_path={ckpt_dir}',\n",
    "#         \"worker=ray_distributed\",  # [sequential, ray_distributed]\n",
    "#         \"+occlusion=true\",  # [true, false]\n",
    "#         \"+occlusion.manager_type=wedge\",  # options: [range, shadow, wedge]\n",
    "#         \"+occlusion.uncloak_reaction_time=1.5\",\n",
    "#         \"+occlusion.notice_threshold=1.0\",\n",
    "#         # \"hydra.searchpath=[pkg://tuplan_garage.planning.script.config.common, pkg://tuplan_garage.planning.script.config.simulation, pkg://nuplan.planning.script.config.common, pkg://nuplan.planning.script.experiments]\",\n",
    "#         *DATASET_PARAMS,\n",
    "\n",
    "\n",
    "# output folders for runs:\n",
    "# closed_loop_reactive_agents, wedge occlusions, urban_planner\n",
    "# output_folder = \"../../data/nuplan/exp/exp/simulation/closed_loop_reactive_agents/2023.12.09.21.59.48\"\n",
    "# overall score: 0.5041, ego_at_fault_collisions: 363\n",
    "\n",
    "# closed_loop_reactive_agents, occlusions = False, urban_planner\n",
    "# output_folder = \"../../data/nuplan/exp/exp/simulation/closed_loop_reactive_agents/2023.12.09.23.21.13\"\n",
    "# overall score: 0.5041, ego_at_fault_collisions: 357\n",
    "\n",
    "# closed_loop_nonreactive_agents, occlusions = False, urban_planner\n",
    "# output_folder = \"../../data/nuplan/exp/exp/simulation/closed_loop_nonreactive_agents/2023.12.10.02.01.14\"\n",
    "# output_folder = \"../../data/nuplan/exp/exp/simulation/closed_loop_nonreactive_agents/2023.12.10.07.32.41\"\n",
    "# overall score: , ego_at_fault_collisions:\n",
    "\n",
    "# closed_loop_nonreactive_agents, wedge occlusions, urban_planner\n",
    "# output_folder = \"../../data/nuplan/exp/exp/simulation/closed_loop_nonreactive_agents/2023.12.10.08.29.23\"\n",
    "# overall score: , ego_at_fault_collisions:\n",
    "\n",
    "# closed_loop_reactive_agents, wedge occlusions, gc_pgp\n",
    "# output_folder = \"../../data/nuplan/exp/exp/simulation/closed_loop_reactive_agents/2023.12.10.09.31.44\"\n",
    "# overall score: , ego_at_fault_collisions:\n",
    "\n",
    "# 'closed_loop_reactive_agents, occlusions = False, gc_pgp'\n",
    "# output_folder = \"../../data/nuplan/exp/exp/simulation/closed_loop_reactive_agents/2023.12.11.00.41.30\"\n",
    "\n",
    "# 'closed_loop_reactive_agents, occlusions = False, pdm_hybrid'\n",
    "# output_folder = \"../../data/nuplan/exp/exp/simulation/closed_loop_reactive_agents/2023.12.13.12.21.28\"\n",
    "\n",
    "# 'closed_loop_reactive_agents,  wedge occlusions, pdm_hybrid'\n",
    "# output_folder = \"../../data/nuplan/exp/exp/simulation/closed_loop_reactive_agents/2023.12.13.13.07.48\""
   ]
  },
  {
   "cell_type": "markdown",
   "id": "1c215b7f",
   "metadata": {},
   "source": [
    "# Now we can run with the following"
   ]
  },
  {
   "cell_type": "code",
   "execution_count": 6,
   "id": "c221b637",
   "metadata": {
    "scrolled": false
   },
   "outputs": [
    {
     "name": "stderr",
     "output_type": "stream",
     "text": [
      "Global seed set to 0\n",
      "INFO:nuplan.planning.script.builders.main_callback_builder:Building MultiMainCallback...\n",
      "INFO:nuplan.planning.script.builders.main_callback_builder:Building MultiMainCallback: 4...DONE!\n"
     ]
    },
    {
     "name": "stdout",
     "output_type": "stream",
     "text": [
      "2024-01-08 04:07:08,383 INFO {/home/ehdykhne/nuplan-devkit/nuplan/planning/script/builders/worker_pool_builder.py:19}  Building WorkerPool...\n",
      "2024-01-08 04:07:08,437 INFO {/home/ehdykhne/nuplan-devkit/nuplan/planning/utils/multithreading/worker_ray.py:78}  Starting ray local!\n"
     ]
    },
    {
     "name": "stderr",
     "output_type": "stream",
     "text": [
      "2024-01-08 04:07:10,043\tINFO worker.py:1636 -- Started a local Ray instance.\n"
     ]
    },
    {
     "name": "stdout",
     "output_type": "stream",
     "text": [
      "2024-01-08 04:07:10,738 INFO {/home/ehdykhne/nuplan-devkit/nuplan/planning/utils/multithreading/worker_pool.py:102}  Worker: RayDistributed\n",
      "2024-01-08 04:07:10,738 INFO {/home/ehdykhne/nuplan-devkit/nuplan/planning/utils/multithreading/worker_pool.py:103}  Number of nodes: 1\n",
      "Number of CPUs per node: 32\n",
      "Number of GPUs per node: 4\n",
      "Number of threads across all nodes: 32\n",
      "2024-01-08 04:07:10,738 INFO {/home/ehdykhne/nuplan-devkit/nuplan/planning/script/builders/worker_pool_builder.py:27}  Building WorkerPool...DONE!\n",
      "2024-01-08 04:07:10,739 INFO {/home/ehdykhne/nuplan-devkit/nuplan/planning/script/builders/folder_builder.py:32}  Building experiment folders...\n",
      "2024-01-08 04:07:10,739 INFO {/home/ehdykhne/nuplan-devkit/nuplan/planning/script/builders/folder_builder.py:35}  \n",
      "\n",
      "\tFolder where all results are stored: ../../data/nuplan/exp/exp/simulation/closed_loop_multiagent/2024.01.08.04.07.08\n",
      "\n",
      "2024-01-08 04:07:10,750 INFO {/home/ehdykhne/nuplan-devkit/nuplan/planning/script/builders/folder_builder.py:70}  Building experiment folders...DONE!\n",
      "2024-01-08 04:07:10,750 INFO {/home/ehdykhne/nuplan-devkit/nuplan/planning/script/builders/simulation_callback_builder.py:52}  Building AbstractCallback...\n",
      "2024-01-08 04:07:10,750 INFO {/home/ehdykhne/nuplan-devkit/nuplan/planning/script/builders/simulation_callback_builder.py:68}  Building AbstractCallback: 0...DONE!\n",
      "2024-01-08 04:07:10,750 INFO {/home/ehdykhne/nuplan-devkit/nuplan/planning/script/builders/simulation_builder.py:51}  Building simulations...\n",
      "2024-01-08 04:07:10,750 INFO {/home/ehdykhne/nuplan-devkit/nuplan/planning/script/builders/simulation_builder.py:57}  Extracting scenarios...\n",
      "2024-01-08 04:07:10,750 INFO {/home/ehdykhne/nuplan-devkit/nuplan/common/utils/distributed_scenario_filter.py:83}  Building Scenarios in mode DistributedMode.SINGLE_NODE\n",
      "2024-01-08 04:07:10,751 INFO {/home/ehdykhne/nuplan-devkit/nuplan/planning/script/builders/scenario_building_builder.py:18}  Building AbstractScenarioBuilder...\n",
      "2024-01-08 04:07:10,769 INFO {/home/ehdykhne/nuplan-devkit/nuplan/planning/script/builders/scenario_building_builder.py:21}  Building AbstractScenarioBuilder...DONE!\n",
      "2024-01-08 04:07:10,769 INFO {/home/ehdykhne/nuplan-devkit/nuplan/planning/script/builders/scenario_filter_builder.py:35}  Building ScenarioFilter...\n",
      "2024-01-08 04:07:10,826 INFO {/home/ehdykhne/nuplan-devkit/nuplan/planning/script/builders/scenario_filter_builder.py:44}  Building ScenarioFilter...DONE!\n"
     ]
    },
    {
     "name": "stderr",
     "output_type": "stream",
     "text": [
      "Ray objects: 100%|██████████| 32/32 [00:01<00:00, 25.48it/s]\n"
     ]
    },
    {
     "name": "stdout",
     "output_type": "stream",
     "text": [
      "2024-01-08 04:07:12,114 INFO {/home/ehdykhne/nuplan-devkit/nuplan/planning/script/builders/simulation_builder.py:78}  Building metric engines...\n",
      "2024-01-08 04:07:12,277 INFO {/home/ehdykhne/nuplan-devkit/nuplan/planning/script/builders/simulation_builder.py:80}  Building metric engines...DONE\n",
      "2024-01-08 04:07:12,277 INFO {/home/ehdykhne/nuplan-devkit/nuplan/planning/script/builders/simulation_builder.py:84}  Building simulations from 1 scenarios...\n",
      "2024-01-08 04:07:12,575 INFO {/home/ehdykhne/nuplan-devkit/nuplan/planning/script/builders/simulation_builder.py:148}  Modyfing Scenarios...\n",
      "original object <nuplan.planning.simulation.runner.simulations_runner.SimulationRunner object at 0x7f76f09d0cd0>\n",
      "modded scenario\n",
      "06f3e1d3f9df598aright\n",
      "2024-01-08 04:07:19,703 INFO {/home/ehdykhne/nuplan-devkit/nuplan/planning/script/builders/simulation_builder.py:154}  Created 2 modified scenarios from 1 scenarios.\n",
      "c\n",
      "06f3e1d3f9df598aleft\n",
      "c\n",
      "06f3e1d3f9df598aright\n",
      "2024-01-08 04:07:19,703 INFO {/home/ehdykhne/nuplan-devkit/nuplan/planning/script/builders/simulation_builder.py:158}  Building simulations...DONE!\n",
      "d 06f3e1d3f9df598aleft\n",
      "d 06f3e1d3f9df598aright\n",
      "2024-01-08 04:07:19,703 INFO {/home/ehdykhne/nuplan-devkit/nuplan/planning/script/run_simulation.py:117}  Running simulation...\n",
      "2024-01-08 04:07:19,704 INFO {/home/ehdykhne/nuplan-devkit/nuplan/planning/script/utils.py:138}  Executing runners...\n",
      "2024-01-08 04:07:19,704 INFO {/home/ehdykhne/nuplan-devkit/nuplan/planning/simulation/runner/executor.py:86}  Starting 2 simulations using RayDistributed!\n",
      "hohoho\n",
      "left\n",
      "<nuplan.planning.simulation.runner.simulations_runner.SimulationRunner object at 0x7f76f0ab9d90>\n",
      "e 06f3e1d3f9df598aleft\n",
      "hohoho\n",
      "right\n",
      "<nuplan.planning.simulation.runner.simulations_runner.SimulationRunner object at 0x7f76f0aacd90>\n",
      "e 06f3e1d3f9df598aright\n"
     ]
    },
    {
     "name": "stderr",
     "output_type": "stream",
     "text": [
      "Ray objects:   0%|          | 0/2 [00:00<?, ?it/s]"
     ]
    },
    {
     "name": "stdout",
     "output_type": "stream",
     "text": [
      "\u001b[2m\u001b[36m(wrapped_fn pid=1741962)\u001b[0m hihihi\n",
      "\u001b[2m\u001b[36m(wrapped_fn pid=1741962)\u001b[0m \n",
      "\u001b[2m\u001b[36m(wrapped_fn pid=1741962)\u001b[0m <nuplan.planning.simulation.runner.simulations_runner.SimulationRunner object at 0x7f0eac6a8a30>\n",
      "\u001b[2m\u001b[36m(wrapped_fn pid=1741962)\u001b[0m a 06f3e1d3f9df598a\n"
     ]
    },
    {
     "name": "stderr",
     "output_type": "stream",
     "text": [
      "Ray objects:   0%|          | 0/2 [01:02<?, ?it/s]\n"
     ]
    },
    {
     "ename": "KeyboardInterrupt",
     "evalue": "",
     "output_type": "error",
     "traceback": [
      "\u001b[0;31m---------------------------------------------------------------------------\u001b[0m",
      "\u001b[0;31mKeyboardInterrupt\u001b[0m                         Traceback (most recent call last)",
      "Cell \u001b[0;32mIn[6], line 4\u001b[0m\n\u001b[1;32m      1\u001b[0m \u001b[38;5;28;01mfrom\u001b[39;00m \u001b[38;5;21;01mnuplan\u001b[39;00m\u001b[38;5;21;01m.\u001b[39;00m\u001b[38;5;21;01mplanning\u001b[39;00m\u001b[38;5;21;01m.\u001b[39;00m\u001b[38;5;21;01mscript\u001b[39;00m\u001b[38;5;21;01m.\u001b[39;00m\u001b[38;5;21;01mrun_simulation\u001b[39;00m \u001b[38;5;28;01mimport\u001b[39;00m main \u001b[38;5;28;01mas\u001b[39;00m main_simulation\n\u001b[1;32m      3\u001b[0m \u001b[38;5;66;03m# Run the simulation loop (real-time visualization not yet supported, see next section for visualization)\u001b[39;00m\n\u001b[0;32m----> 4\u001b[0m \u001b[43mmain_simulation\u001b[49m\u001b[43m(\u001b[49m\u001b[43mcfg\u001b[49m\u001b[43m)\u001b[49m\n",
      "File \u001b[0;32m~/miniconda3/envs/nuplan/lib/python3.9/site-packages/hydra/main.py:44\u001b[0m, in \u001b[0;36mmain.<locals>.main_decorator.<locals>.decorated_main\u001b[0;34m(cfg_passthrough)\u001b[0m\n\u001b[1;32m     41\u001b[0m \u001b[38;5;129m@functools\u001b[39m\u001b[38;5;241m.\u001b[39mwraps(task_function)\n\u001b[1;32m     42\u001b[0m \u001b[38;5;28;01mdef\u001b[39;00m \u001b[38;5;21mdecorated_main\u001b[39m(cfg_passthrough: Optional[DictConfig] \u001b[38;5;241m=\u001b[39m \u001b[38;5;28;01mNone\u001b[39;00m) \u001b[38;5;241m-\u001b[39m\u001b[38;5;241m>\u001b[39m Any:\n\u001b[1;32m     43\u001b[0m     \u001b[38;5;28;01mif\u001b[39;00m cfg_passthrough \u001b[38;5;129;01mis\u001b[39;00m \u001b[38;5;129;01mnot\u001b[39;00m \u001b[38;5;28;01mNone\u001b[39;00m:\n\u001b[0;32m---> 44\u001b[0m         \u001b[38;5;28;01mreturn\u001b[39;00m \u001b[43mtask_function\u001b[49m\u001b[43m(\u001b[49m\u001b[43mcfg_passthrough\u001b[49m\u001b[43m)\u001b[49m\n\u001b[1;32m     45\u001b[0m     \u001b[38;5;28;01melse\u001b[39;00m:\n\u001b[1;32m     46\u001b[0m         args \u001b[38;5;241m=\u001b[39m get_args_parser()\n",
      "File \u001b[0;32m~/nuplan-devkit/nuplan/planning/script/run_simulation.py:149\u001b[0m, in \u001b[0;36mmain\u001b[0;34m(cfg)\u001b[0m\n\u001b[1;32m    146\u001b[0m \u001b[38;5;28;01massert\u001b[39;00m cfg\u001b[38;5;241m.\u001b[39msimulation_log_main_path \u001b[38;5;129;01mis\u001b[39;00m \u001b[38;5;28;01mNone\u001b[39;00m, \u001b[38;5;124m'\u001b[39m\u001b[38;5;124mSimulation_log_main_path must not be set when running simulation.\u001b[39m\u001b[38;5;124m'\u001b[39m\n\u001b[1;32m    148\u001b[0m \u001b[38;5;66;03m# Execute simulation with preconfigured planner(s).\u001b[39;00m\n\u001b[0;32m--> 149\u001b[0m \u001b[43mrun_simulation\u001b[49m\u001b[43m(\u001b[49m\u001b[43mcfg\u001b[49m\u001b[38;5;241;43m=\u001b[39;49m\u001b[43mcfg\u001b[49m\u001b[43m)\u001b[49m\n\u001b[1;32m    151\u001b[0m \u001b[38;5;28;01mif\u001b[39;00m is_s3_path(Path(cfg\u001b[38;5;241m.\u001b[39moutput_dir)):\n\u001b[1;32m    152\u001b[0m     clean_up_s3_artifacts()\n",
      "File \u001b[0;32m~/nuplan-devkit/nuplan/planning/script/run_simulation.py:118\u001b[0m, in \u001b[0;36mrun_simulation\u001b[0;34m(cfg, planners)\u001b[0m\n\u001b[1;32m    115\u001b[0m     common_builder\u001b[38;5;241m.\u001b[39mprofiler\u001b[38;5;241m.\u001b[39msave_profiler(profiler_name)\n\u001b[1;32m    117\u001b[0m logger\u001b[38;5;241m.\u001b[39minfo(\u001b[38;5;124m'\u001b[39m\u001b[38;5;124mRunning simulation...\u001b[39m\u001b[38;5;124m'\u001b[39m)\n\u001b[0;32m--> 118\u001b[0m \u001b[43mrun_runners\u001b[49m\u001b[43m(\u001b[49m\u001b[43mrunners\u001b[49m\u001b[38;5;241;43m=\u001b[39;49m\u001b[43mrunners\u001b[49m\u001b[43m,\u001b[49m\u001b[43m \u001b[49m\u001b[43mcommon_builder\u001b[49m\u001b[38;5;241;43m=\u001b[39;49m\u001b[43mcommon_builder\u001b[49m\u001b[43m,\u001b[49m\u001b[43m \u001b[49m\u001b[43mcfg\u001b[49m\u001b[38;5;241;43m=\u001b[39;49m\u001b[43mcfg\u001b[49m\u001b[43m,\u001b[49m\u001b[43m \u001b[49m\u001b[43mprofiler_name\u001b[49m\u001b[38;5;241;43m=\u001b[39;49m\u001b[38;5;124;43m'\u001b[39;49m\u001b[38;5;124;43mrunning_simulation\u001b[39;49m\u001b[38;5;124;43m'\u001b[39;49m\u001b[43m)\u001b[49m\n\u001b[1;32m    119\u001b[0m logger\u001b[38;5;241m.\u001b[39minfo(\u001b[38;5;124m'\u001b[39m\u001b[38;5;124mFinished running simulation!\u001b[39m\u001b[38;5;124m'\u001b[39m)\n",
      "File \u001b[0;32m~/nuplan-devkit/nuplan/planning/script/utils.py:139\u001b[0m, in \u001b[0;36mrun_runners\u001b[0;34m(runners, common_builder, profiler_name, cfg)\u001b[0m\n\u001b[1;32m    136\u001b[0m     common_builder\u001b[38;5;241m.\u001b[39mprofiler\u001b[38;5;241m.\u001b[39mstart_profiler(profiler_name)\n\u001b[1;32m    138\u001b[0m logger\u001b[38;5;241m.\u001b[39minfo(\u001b[38;5;124m'\u001b[39m\u001b[38;5;124mExecuting runners...\u001b[39m\u001b[38;5;124m'\u001b[39m)\n\u001b[0;32m--> 139\u001b[0m reports \u001b[38;5;241m=\u001b[39m \u001b[43mexecute_runners\u001b[49m\u001b[43m(\u001b[49m\n\u001b[1;32m    140\u001b[0m \u001b[43m    \u001b[49m\u001b[43mrunners\u001b[49m\u001b[38;5;241;43m=\u001b[39;49m\u001b[43mrunners\u001b[49m\u001b[43m,\u001b[49m\n\u001b[1;32m    141\u001b[0m \u001b[43m    \u001b[49m\u001b[43mworker\u001b[49m\u001b[38;5;241;43m=\u001b[39;49m\u001b[43mcommon_builder\u001b[49m\u001b[38;5;241;43m.\u001b[39;49m\u001b[43mworker\u001b[49m\u001b[43m,\u001b[49m\n\u001b[1;32m    142\u001b[0m \u001b[43m    \u001b[49m\u001b[43mnum_gpus\u001b[49m\u001b[38;5;241;43m=\u001b[39;49m\u001b[43mcfg\u001b[49m\u001b[38;5;241;43m.\u001b[39;49m\u001b[43mnumber_of_gpus_allocated_per_simulation\u001b[49m\u001b[43m,\u001b[49m\n\u001b[1;32m    143\u001b[0m \u001b[43m    \u001b[49m\u001b[43mnum_cpus\u001b[49m\u001b[38;5;241;43m=\u001b[39;49m\u001b[43mcfg\u001b[49m\u001b[38;5;241;43m.\u001b[39;49m\u001b[43mnumber_of_cpus_allocated_per_simulation\u001b[49m\u001b[43m,\u001b[49m\n\u001b[1;32m    144\u001b[0m \u001b[43m    \u001b[49m\u001b[43mexit_on_failure\u001b[49m\u001b[38;5;241;43m=\u001b[39;49m\u001b[43mcfg\u001b[49m\u001b[38;5;241;43m.\u001b[39;49m\u001b[43mexit_on_failure\u001b[49m\u001b[43m,\u001b[49m\n\u001b[1;32m    145\u001b[0m \u001b[43m    \u001b[49m\u001b[43mverbose\u001b[49m\u001b[38;5;241;43m=\u001b[39;49m\u001b[43mcfg\u001b[49m\u001b[38;5;241;43m.\u001b[39;49m\u001b[43mverbose\u001b[49m\u001b[43m,\u001b[49m\n\u001b[1;32m    146\u001b[0m \u001b[43m\u001b[49m\u001b[43m)\u001b[49m\n\u001b[1;32m    147\u001b[0m logger\u001b[38;5;241m.\u001b[39minfo(\u001b[38;5;124m'\u001b[39m\u001b[38;5;124mFinished executing runners!\u001b[39m\u001b[38;5;124m'\u001b[39m)\n\u001b[1;32m    149\u001b[0m \u001b[38;5;66;03m# Save RunnerReports as parquet file\u001b[39;00m\n",
      "File \u001b[0;32m~/nuplan-devkit/nuplan/planning/simulation/runner/executor.py:97\u001b[0m, in \u001b[0;36mexecute_runners\u001b[0;34m(runners, worker, num_gpus, num_cpus, exit_on_failure, verbose)\u001b[0m\n\u001b[1;32m     92\u001b[0m     \u001b[38;5;28mprint\u001b[39m(\u001b[38;5;124m'\u001b[39m\u001b[38;5;124me\u001b[39m\u001b[38;5;124m'\u001b[39m, runner\u001b[38;5;241m.\u001b[39mscenario\u001b[38;5;241m.\u001b[39mscenario_name)\n\u001b[1;32m     94\u001b[0m \u001b[38;5;66;03m#run_simulation(runners[0], exit_on_failure) this if you just want to run one without ray.map\u001b[39;00m\n\u001b[0;32m---> 97\u001b[0m reports: List[RunnerReport] \u001b[38;5;241m=\u001b[39m \u001b[43mworker\u001b[49m\u001b[38;5;241;43m.\u001b[39;49m\u001b[43mmap\u001b[49m\u001b[43m(\u001b[49m\n\u001b[1;32m     98\u001b[0m \u001b[43m    \u001b[49m\u001b[43mTask\u001b[49m\u001b[43m(\u001b[49m\u001b[43mfn\u001b[49m\u001b[38;5;241;43m=\u001b[39;49m\u001b[43mrun_simulation\u001b[49m\u001b[43m,\u001b[49m\u001b[43m \u001b[49m\u001b[43mnum_gpus\u001b[49m\u001b[38;5;241;43m=\u001b[39;49m\u001b[43mnum_gpus\u001b[49m\u001b[43m,\u001b[49m\u001b[43m \u001b[49m\u001b[43mnum_cpus\u001b[49m\u001b[38;5;241;43m=\u001b[39;49m\u001b[43mnum_cpus\u001b[49m\u001b[43m)\u001b[49m\u001b[43m,\u001b[49m\u001b[43m \u001b[49m\u001b[43mrunners\u001b[49m\u001b[43m,\u001b[49m\u001b[43m \u001b[49m\u001b[43mexit_on_failure\u001b[49m\u001b[43m,\u001b[49m\u001b[43m \u001b[49m\u001b[43mverbose\u001b[49m\u001b[38;5;241;43m=\u001b[39;49m\u001b[43mverbose\u001b[49m\n\u001b[1;32m     99\u001b[0m \u001b[43m\u001b[49m\u001b[43m)\u001b[49m\n\u001b[1;32m    100\u001b[0m reports \u001b[38;5;241m=\u001b[39m []\n\u001b[1;32m    101\u001b[0m \u001b[38;5;28mprint\u001b[39m(\u001b[38;5;28mlen\u001b[39m(reports))\n",
      "File \u001b[0;32m~/nuplan-devkit/nuplan/planning/utils/multithreading/worker_pool.py:118\u001b[0m, in \u001b[0;36mWorkerPool.map\u001b[0;34m(self, task, verbose, *item_lists)\u001b[0m\n\u001b[1;32m    116\u001b[0m \u001b[38;5;28;01mif\u001b[39;00m verbose:\n\u001b[1;32m    117\u001b[0m     logger\u001b[38;5;241m.\u001b[39minfo(\u001b[38;5;124mf\u001b[39m\u001b[38;5;124m'\u001b[39m\u001b[38;5;124mSubmitting \u001b[39m\u001b[38;5;132;01m{\u001b[39;00mmax_size\u001b[38;5;132;01m}\u001b[39;00m\u001b[38;5;124m tasks!\u001b[39m\u001b[38;5;124m'\u001b[39m)\n\u001b[0;32m--> 118\u001b[0m \u001b[38;5;28;01mreturn\u001b[39;00m \u001b[38;5;28;43mself\u001b[39;49m\u001b[38;5;241;43m.\u001b[39;49m\u001b[43m_map\u001b[49m\u001b[43m(\u001b[49m\u001b[43mtask\u001b[49m\u001b[43m,\u001b[49m\u001b[43m \u001b[49m\u001b[38;5;241;43m*\u001b[39;49m\u001b[43maligned_item_lists\u001b[49m\u001b[43m,\u001b[49m\u001b[43m \u001b[49m\u001b[43mverbose\u001b[49m\u001b[38;5;241;43m=\u001b[39;49m\u001b[43mverbose\u001b[49m\u001b[43m)\u001b[49m\n",
      "File \u001b[0;32m~/nuplan-devkit/nuplan/planning/utils/multithreading/worker_ray.py:155\u001b[0m, in \u001b[0;36mRayDistributed._map\u001b[0;34m(***failed resolving arguments***)\u001b[0m\n\u001b[1;32m    153\u001b[0m \u001b[38;5;250m\u001b[39m\u001b[38;5;124;03m\"\"\"Inherited, see superclass.\"\"\"\u001b[39;00m\n\u001b[1;32m    154\u001b[0m \u001b[38;5;28;01mdel\u001b[39;00m verbose\n\u001b[0;32m--> 155\u001b[0m \u001b[38;5;28;01mreturn\u001b[39;00m \u001b[43mray_map\u001b[49m\u001b[43m(\u001b[49m\u001b[43mtask\u001b[49m\u001b[43m,\u001b[49m\u001b[43m \u001b[49m\u001b[38;5;241;43m*\u001b[39;49m\u001b[43mitem_lists\u001b[49m\u001b[43m,\u001b[49m\u001b[43m \u001b[49m\u001b[43mlog_dir\u001b[49m\u001b[38;5;241;43m=\u001b[39;49m\u001b[38;5;28;43mself\u001b[39;49m\u001b[38;5;241;43m.\u001b[39;49m\u001b[43m_log_dir\u001b[49m\u001b[43m)\u001b[49m\n",
      "File \u001b[0;32m~/nuplan-devkit/nuplan/planning/utils/multithreading/ray_execution.py:117\u001b[0m, in \u001b[0;36mray_map\u001b[0;34m(task, log_dir, *item_lists)\u001b[0m\n\u001b[1;32m    109\u001b[0m \u001b[38;5;250m\u001b[39m\u001b[38;5;124;03m\"\"\"\u001b[39;00m\n\u001b[1;32m    110\u001b[0m \u001b[38;5;124;03mInitialize ray, align item lists and map each item of a list of arguments to a callable and executes in parallel.\u001b[39;00m\n\u001b[1;32m    111\u001b[0m \u001b[38;5;124;03m:param task: callable to be run\u001b[39;00m\n\u001b[0;32m   (...)\u001b[0m\n\u001b[1;32m    114\u001b[0m \u001b[38;5;124;03m:return: list of outputs\u001b[39;00m\n\u001b[1;32m    115\u001b[0m \u001b[38;5;124;03m\"\"\"\u001b[39;00m\n\u001b[1;32m    116\u001b[0m \u001b[38;5;28;01mtry\u001b[39;00m:\n\u001b[0;32m--> 117\u001b[0m     results \u001b[38;5;241m=\u001b[39m \u001b[43m_ray_map_items\u001b[49m\u001b[43m(\u001b[49m\u001b[43mtask\u001b[49m\u001b[43m,\u001b[49m\u001b[43m \u001b[49m\u001b[38;5;241;43m*\u001b[39;49m\u001b[43mitem_lists\u001b[49m\u001b[43m,\u001b[49m\u001b[43m \u001b[49m\u001b[43mlog_dir\u001b[49m\u001b[38;5;241;43m=\u001b[39;49m\u001b[43mlog_dir\u001b[49m\u001b[43m)\u001b[49m\n\u001b[1;32m    118\u001b[0m     \u001b[38;5;28;01mreturn\u001b[39;00m results\n\u001b[1;32m    119\u001b[0m \u001b[38;5;28;01mexcept\u001b[39;00m (RayTaskError, \u001b[38;5;167;01mException\u001b[39;00m) \u001b[38;5;28;01mas\u001b[39;00m exc:\n",
      "File \u001b[0;32m~/nuplan-devkit/nuplan/planning/utils/multithreading/ray_execution.py:100\u001b[0m, in \u001b[0;36m_ray_map_items\u001b[0;34m(task, log_dir, *item_lists)\u001b[0m\n\u001b[1;32m     97\u001b[0m object_result_map \u001b[38;5;241m=\u001b[39m \u001b[38;5;28mdict\u001b[39m\u001b[38;5;241m.\u001b[39mfromkeys(object_ids, \u001b[38;5;28;01mNone\u001b[39;00m)\n\u001b[1;32m     99\u001b[0m \u001b[38;5;66;03m# Asynchronously iterate through the object and track progress\u001b[39;00m\n\u001b[0;32m--> 100\u001b[0m \u001b[38;5;28;01mfor\u001b[39;00m object_id, output \u001b[38;5;129;01min\u001b[39;00m tqdm(_ray_object_iterator(object_ids), total\u001b[38;5;241m=\u001b[39m\u001b[38;5;28mlen\u001b[39m(object_ids), desc\u001b[38;5;241m=\u001b[39m\u001b[38;5;124m'\u001b[39m\u001b[38;5;124mRay objects\u001b[39m\u001b[38;5;124m'\u001b[39m):\n\u001b[1;32m    101\u001b[0m     object_result_map[object_id] \u001b[38;5;241m=\u001b[39m output\n\u001b[1;32m    103\u001b[0m results \u001b[38;5;241m=\u001b[39m \u001b[38;5;28mlist\u001b[39m(object_result_map\u001b[38;5;241m.\u001b[39mvalues())\n",
      "File \u001b[0;32m~/miniconda3/envs/nuplan/lib/python3.9/site-packages/tqdm/std.py:1182\u001b[0m, in \u001b[0;36mtqdm.__iter__\u001b[0;34m(self)\u001b[0m\n\u001b[1;32m   1179\u001b[0m time \u001b[38;5;241m=\u001b[39m \u001b[38;5;28mself\u001b[39m\u001b[38;5;241m.\u001b[39m_time\n\u001b[1;32m   1181\u001b[0m \u001b[38;5;28;01mtry\u001b[39;00m:\n\u001b[0;32m-> 1182\u001b[0m     \u001b[38;5;28;01mfor\u001b[39;00m obj \u001b[38;5;129;01min\u001b[39;00m iterable:\n\u001b[1;32m   1183\u001b[0m         \u001b[38;5;28;01myield\u001b[39;00m obj\n\u001b[1;32m   1184\u001b[0m         \u001b[38;5;66;03m# Update and possibly print the progressbar.\u001b[39;00m\n\u001b[1;32m   1185\u001b[0m         \u001b[38;5;66;03m# Note: does not call self.update(1) for speed optimisation.\u001b[39;00m\n",
      "File \u001b[0;32m~/nuplan-devkit/nuplan/planning/utils/multithreading/ray_execution.py:25\u001b[0m, in \u001b[0;36m_ray_object_iterator\u001b[0;34m(initial_ids)\u001b[0m\n\u001b[1;32m     22\u001b[0m next_ids \u001b[38;5;241m=\u001b[39m initial_ids\n\u001b[1;32m     24\u001b[0m \u001b[38;5;28;01mwhile\u001b[39;00m next_ids:\n\u001b[0;32m---> 25\u001b[0m     ready_ids, not_ready_ids \u001b[38;5;241m=\u001b[39m \u001b[43mray\u001b[49m\u001b[38;5;241;43m.\u001b[39;49m\u001b[43mwait\u001b[49m\u001b[43m(\u001b[49m\u001b[43mnext_ids\u001b[49m\u001b[43m)\u001b[49m\n\u001b[1;32m     26\u001b[0m     next_id \u001b[38;5;241m=\u001b[39m ready_ids[\u001b[38;5;241m0\u001b[39m]\n\u001b[1;32m     28\u001b[0m     \u001b[38;5;28;01myield\u001b[39;00m next_id, ray\u001b[38;5;241m.\u001b[39mget(next_id)\n",
      "File \u001b[0;32m~/miniconda3/envs/nuplan/lib/python3.9/site-packages/ray/_private/auto_init_hook.py:18\u001b[0m, in \u001b[0;36mwrap_auto_init.<locals>.auto_init_wrapper\u001b[0;34m(*args, **kwargs)\u001b[0m\n\u001b[1;32m     15\u001b[0m \u001b[38;5;129m@wraps\u001b[39m(fn)\n\u001b[1;32m     16\u001b[0m \u001b[38;5;28;01mdef\u001b[39;00m \u001b[38;5;21mauto_init_wrapper\u001b[39m(\u001b[38;5;241m*\u001b[39margs, \u001b[38;5;241m*\u001b[39m\u001b[38;5;241m*\u001b[39mkwargs):\n\u001b[1;32m     17\u001b[0m     auto_init_ray()\n\u001b[0;32m---> 18\u001b[0m     \u001b[38;5;28;01mreturn\u001b[39;00m \u001b[43mfn\u001b[49m\u001b[43m(\u001b[49m\u001b[38;5;241;43m*\u001b[39;49m\u001b[43margs\u001b[49m\u001b[43m,\u001b[49m\u001b[43m \u001b[49m\u001b[38;5;241;43m*\u001b[39;49m\u001b[38;5;241;43m*\u001b[39;49m\u001b[43mkwargs\u001b[49m\u001b[43m)\u001b[49m\n",
      "File \u001b[0;32m~/miniconda3/envs/nuplan/lib/python3.9/site-packages/ray/_private/client_mode_hook.py:103\u001b[0m, in \u001b[0;36mclient_mode_hook.<locals>.wrapper\u001b[0;34m(*args, **kwargs)\u001b[0m\n\u001b[1;32m    101\u001b[0m     \u001b[38;5;28;01mif\u001b[39;00m func\u001b[38;5;241m.\u001b[39m\u001b[38;5;18m__name__\u001b[39m \u001b[38;5;241m!=\u001b[39m \u001b[38;5;124m\"\u001b[39m\u001b[38;5;124minit\u001b[39m\u001b[38;5;124m\"\u001b[39m \u001b[38;5;129;01mor\u001b[39;00m is_client_mode_enabled_by_default:\n\u001b[1;32m    102\u001b[0m         \u001b[38;5;28;01mreturn\u001b[39;00m \u001b[38;5;28mgetattr\u001b[39m(ray, func\u001b[38;5;241m.\u001b[39m\u001b[38;5;18m__name__\u001b[39m)(\u001b[38;5;241m*\u001b[39margs, \u001b[38;5;241m*\u001b[39m\u001b[38;5;241m*\u001b[39mkwargs)\n\u001b[0;32m--> 103\u001b[0m \u001b[38;5;28;01mreturn\u001b[39;00m \u001b[43mfunc\u001b[49m\u001b[43m(\u001b[49m\u001b[38;5;241;43m*\u001b[39;49m\u001b[43margs\u001b[49m\u001b[43m,\u001b[49m\u001b[43m \u001b[49m\u001b[38;5;241;43m*\u001b[39;49m\u001b[38;5;241;43m*\u001b[39;49m\u001b[43mkwargs\u001b[49m\u001b[43m)\u001b[49m\n",
      "File \u001b[0;32m~/miniconda3/envs/nuplan/lib/python3.9/site-packages/ray/_private/worker.py:2737\u001b[0m, in \u001b[0;36mwait\u001b[0;34m(object_refs, num_returns, timeout, fetch_local)\u001b[0m\n\u001b[1;32m   2735\u001b[0m timeout \u001b[38;5;241m=\u001b[39m timeout \u001b[38;5;28;01mif\u001b[39;00m timeout \u001b[38;5;129;01mis\u001b[39;00m \u001b[38;5;129;01mnot\u001b[39;00m \u001b[38;5;28;01mNone\u001b[39;00m \u001b[38;5;28;01melse\u001b[39;00m \u001b[38;5;241m10\u001b[39m\u001b[38;5;241m*\u001b[39m\u001b[38;5;241m*\u001b[39m\u001b[38;5;241m6\u001b[39m\n\u001b[1;32m   2736\u001b[0m timeout_milliseconds \u001b[38;5;241m=\u001b[39m \u001b[38;5;28mint\u001b[39m(timeout \u001b[38;5;241m*\u001b[39m \u001b[38;5;241m1000\u001b[39m)\n\u001b[0;32m-> 2737\u001b[0m ready_ids, remaining_ids \u001b[38;5;241m=\u001b[39m \u001b[43mworker\u001b[49m\u001b[38;5;241;43m.\u001b[39;49m\u001b[43mcore_worker\u001b[49m\u001b[38;5;241;43m.\u001b[39;49m\u001b[43mwait\u001b[49m\u001b[43m(\u001b[49m\n\u001b[1;32m   2738\u001b[0m \u001b[43m    \u001b[49m\u001b[43mobject_refs\u001b[49m\u001b[43m,\u001b[49m\n\u001b[1;32m   2739\u001b[0m \u001b[43m    \u001b[49m\u001b[43mnum_returns\u001b[49m\u001b[43m,\u001b[49m\n\u001b[1;32m   2740\u001b[0m \u001b[43m    \u001b[49m\u001b[43mtimeout_milliseconds\u001b[49m\u001b[43m,\u001b[49m\n\u001b[1;32m   2741\u001b[0m \u001b[43m    \u001b[49m\u001b[43mworker\u001b[49m\u001b[38;5;241;43m.\u001b[39;49m\u001b[43mcurrent_task_id\u001b[49m\u001b[43m,\u001b[49m\n\u001b[1;32m   2742\u001b[0m \u001b[43m    \u001b[49m\u001b[43mfetch_local\u001b[49m\u001b[43m,\u001b[49m\n\u001b[1;32m   2743\u001b[0m \u001b[43m\u001b[49m\u001b[43m)\u001b[49m\n\u001b[1;32m   2744\u001b[0m \u001b[38;5;28;01mreturn\u001b[39;00m ready_ids, remaining_ids\n",
      "File \u001b[0;32mpython/ray/_raylet.pyx:2760\u001b[0m, in \u001b[0;36mray._raylet.CoreWorker.wait\u001b[0;34m()\u001b[0m\n",
      "File \u001b[0;32mpython/ray/_raylet.pyx:444\u001b[0m, in \u001b[0;36mray._raylet.check_status\u001b[0;34m()\u001b[0m\n",
      "\u001b[0;31mKeyboardInterrupt\u001b[0m: "
     ]
    }
   ],
   "source": [
    "from nuplan.planning.script.run_simulation import main as main_simulation\n",
    "\n",
    "# Run the simulation loop (real-time visualization not yet supported, see next section for visualization)\n",
    "main_simulation(cfg)"
   ]
  },
  {
   "cell_type": "markdown",
   "id": "4ace6fd1",
   "metadata": {},
   "source": [
    "## Prepare the nuBoard config"
   ]
  },
  {
   "cell_type": "code",
   "execution_count": null,
   "metadata": {},
   "outputs": [],
   "source": [
    "output_folder_alt = []\n",
    "output_folder_alt.append(\n",
    "    \"../../data/nuplan/exp/exp/simulation/closed_loop_reactive_agents/2023.12.09.21.59.48\"\n",
    ")\n",
    "output_folder_alt.append(\n",
    "    \"../../data/nuplan/exp/exp/simulation/closed_loop_reactive_agents/2023.12.09.23.21.13\"\n",
    ")\n",
    "output_folder_alt.append(\n",
    "    \"../../data/nuplan/exp/exp/simulation/closed_loop_nonreactive_agents/2023.12.10.07.32.41\"\n",
    ")\n",
    "output_folder_alt.append(\n",
    "    \"../../data/nuplan/exp/exp/simulation/closed_loop_nonreactive_agents/2023.12.10.08.29.23\"\n",
    ")\n",
    "output_folder_alt.append(\n",
    "    \"../../data/nuplan/exp/exp/simulation/closed_loop_reactive_agents/2023.12.11.00.41.30\"\n",
    ")\n",
    "output_folder_alt.append(\n",
    "    \"../../data/nuplan/exp/exp/simulation/closed_loop_reactive_agents/2023.12.10.09.31.44\"\n",
    ")\n",
    "output_folder_alt.append(\n",
    "    \"../../data/nuplan/exp/exp/simulation/closed_loop_reactive_agents/2023.12.13.12.21.28\"\n",
    ")\n",
    "output_folder_alt.append(\n",
    "    \"../../data/nuplan/exp/exp/simulation/closed_loop_reactive_agents/2023.12.13.13.07.48\"\n",
    ")"
   ]
  },
  {
   "cell_type": "code",
   "execution_count": null,
   "id": "1bdb7bef",
   "metadata": {
    "scrolled": true
   },
   "outputs": [],
   "source": [
    "# scenario_builder = \"val\"  # [nuplan (uses trainval), nuplan_mini, test, val, train_boston, train_pittsburgh, train_singapore]\n",
    "# output_folder = \"../../data/nuplan/exp/exp/simulation/open_loop_boxes/2023.12.31.02.58.31\"\n",
    "\n",
    "# without injection\n",
    "# output_folder = \"../../data/nuplan/exp/exp/simulation/closed_loop_multiagent/2024.01.02.00.44.56\"\n",
    "\n",
    "# output_folder = (\n",
    "#     \"../../data/nuplan/exp/exp/simulation/open_loop_boxes/2023.12.20.13.59.34\"\n",
    "# )\n",
    "# output_folder = '../../data/nuplan/exp/exp/simulation/open_loop_boxes/2023.12.09.21.19.06'\n",
    "# output_folder = \"../../data/nuplan/exp/exp/simulation/closed_loop_reactive_agents/2023.12.09.21.59.48\"\n",
    "# Location of path with all nuBoard configs\n",
    "CONFIG_PATH = \"../nuplan/planning/script/config/nuboard\"\n",
    "CONFIG_NAME = \"default_nuboard\"\n",
    "\n",
    "# Initialize configuration management system\n",
    "hydra.core.global_hydra.GlobalHydra.instance().clear()  # reinitialize hydra if already initialized\n",
    "hydra.initialize(config_path=CONFIG_PATH)\n",
    "\n",
    "# Compose the configuration\n",
    "cfg = hydra.compose(\n",
    "    config_name=CONFIG_NAME,\n",
    "    overrides=[\n",
    "        f\"scenario_builder={scenario_builder}\",  # set the database (same as simulation) used to fetch data for visualization\n",
    "        f\"simulation_path={output_folder}\",  # [output_folder, output_folder_alt] nuboard file path(s), if left empty the user can open the file inside nuBoard\n",
    "    ],\n",
    ")"
   ]
  },
  {
   "cell_type": "markdown",
   "id": "91fe931f",
   "metadata": {},
   "source": [
    "## Launch nuBoard (open in new tab - recommended)"
   ]
  },
  {
   "cell_type": "code",
   "execution_count": null,
   "id": "e1f01dcc",
   "metadata": {
    "scrolled": false
   },
   "outputs": [
    {
     "name": "stdout",
     "output_type": "stream",
     "text": [
      "2024-01-07 13:07:48,774 INFO {/home/ehdykhne/nuplan-devkit/nuplan/planning/script/builders/scenario_building_builder.py:18}  Building AbstractScenarioBuilder...\n",
      "2024-01-07 13:07:48,792 INFO {/home/ehdykhne/nuplan-devkit/nuplan/planning/script/builders/scenario_building_builder.py:21}  Building AbstractScenarioBuilder...DONE!\n",
      "2024-01-07 13:07:48,793 INFO {/home/ehdykhne/nuplan-devkit/nuplan/planning/nuboard/nuboard.py:84}  Opening Bokeh application on http://localhost:5006/\n",
      "2024-01-07 13:07:48,793 INFO {/home/ehdykhne/nuplan-devkit/nuplan/planning/nuboard/nuboard.py:85}  Async rendering is set to: True\n",
      "2024-01-07 13:07:48,793 INFO {/home/ehdykhne/miniconda3/envs/nuplan/lib/python3.9/site-packages/bokeh/server/server.py:403}  Starting Bokeh server version 2.4.3 (running on Tornado 6.3.3)\n",
      "2024-01-07 13:07:48,793 WARNING {/home/ehdykhne/miniconda3/envs/nuplan/lib/python3.9/site-packages/bokeh/server/util.py:145}  Host wildcard '*' will allow connections originating from multiple (or possibly all) hostnames or IPs. Use non-wildcard values to restrict access explicitly\n",
      "2024-01-07 13:07:48,794 INFO {/home/ehdykhne/miniconda3/envs/nuplan/lib/python3.9/site-packages/bokeh/server/tornado.py:360}  User authentication hooks NOT provided (default user enabled)\n",
      "2024-01-07 13:07:49,536 INFO {/home/ehdykhne/nuplan-devkit/nuplan/planning/nuboard/base/simulation_tile.py:172}  Minimum frame time=0.017 s\n",
      "2024-01-07 13:07:49,541 INFO {/home/ehdykhne/nuplan-devkit/nuplan/planning/nuboard/tabs/scenario_tab.py:485}  Rending scenario plot takes 0.0005 seconds.\n",
      "2024-01-07 13:07:49,642 INFO {/home/ehdykhne/miniconda3/envs/nuplan/lib/python3.9/site-packages/tornado/web.py:2344}  200 GET / (127.0.0.1) 217.93ms\n"
     ]
    },
    {
     "name": "stderr",
     "output_type": "stream",
     "text": [
      "INFO:tornado.access:200 GET / (127.0.0.1) 217.93ms\n"
     ]
    },
    {
     "name": "stdout",
     "output_type": "stream",
     "text": [
      "2024-01-07 13:07:50,299 INFO {/home/ehdykhne/miniconda3/envs/nuplan/lib/python3.9/site-packages/tornado/web.py:2344}  101 GET /ws (127.0.0.1) 0.49ms\n",
      "2024-01-07 13:07:50,299 INFO {/home/ehdykhne/miniconda3/envs/nuplan/lib/python3.9/site-packages/bokeh/server/views/ws.py:132}  WebSocket connection opened\n",
      "2024-01-07 13:07:50,300 INFO {/home/ehdykhne/miniconda3/envs/nuplan/lib/python3.9/site-packages/bokeh/server/views/ws.py:213}  ServerConnection created\n",
      "2024-01-07 13:07:50,456 INFO {/home/ehdykhne/nuplan-devkit/nuplan/planning/nuboard/base/simulation_tile.py:172}  Minimum frame time=0.017 s\n",
      "2024-01-07 13:07:50,460 INFO {/home/ehdykhne/nuplan-devkit/nuplan/planning/nuboard/tabs/scenario_tab.py:485}  Rending scenario plot takes 0.0005 seconds.\n"
     ]
    },
    {
     "name": "stderr",
     "output_type": "stream",
     "text": [
      "INFO:tornado.access:101 GET /ws (127.0.0.1) 0.49ms\n"
     ]
    },
    {
     "name": "stdout",
     "output_type": "stream",
     "text": [
      "2024-01-07 13:07:50,556 INFO {/home/ehdykhne/miniconda3/envs/nuplan/lib/python3.9/site-packages/tornado/web.py:2344}  200 GET / (127.0.0.1) 210.18ms\n"
     ]
    },
    {
     "name": "stderr",
     "output_type": "stream",
     "text": [
      "INFO:tornado.access:200 GET / (127.0.0.1) 210.18ms\n"
     ]
    }
   ],
   "source": [
    "from nuplan.planning.script.run_nuboard import main as main_nuboard\n",
    "\n",
    "# Run nuBoard\n",
    "main_nuboard(cfg)"
   ]
  },
  {
   "cell_type": "code",
   "execution_count": null,
   "id": "455dd871",
   "metadata": {
    "scrolled": true
   },
   "outputs": [],
   "source": []
  }
 ],
 "metadata": {
  "kernelspec": {
   "display_name": "Python 3 (ipykernel)",
   "language": "python",
   "name": "python3"
  },
  "language_info": {
   "codemirror_mode": {
    "name": "ipython",
    "version": 3
   },
   "file_extension": ".py",
   "mimetype": "text/x-python",
   "name": "python",
   "nbconvert_exporter": "python",
   "pygments_lexer": "ipython3",
   "version": "3.9.18"
  }
 },
 "nbformat": 4,
 "nbformat_minor": 5
}

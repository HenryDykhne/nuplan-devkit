{
 "cells": [
  {
   "cell_type": "code",
   "execution_count": 1,
   "id": "3e31b233",
   "metadata": {
    "scrolled": true
   },
   "outputs": [],
   "source": [
    "import asyncio\n",
    "import itertools\n",
    "import logging\n",
    "import random\n",
    "import nest_asyncio\n",
    "\n",
    "nest_asyncio.apply()  # must be run at the start of every notebook to patch the event loop to allow nesting, eg. so we can run asyncio.run from within a notebook."
   ]
  },
  {
   "cell_type": "code",
   "execution_count": 2,
   "id": "8026c8c7",
   "metadata": {},
   "outputs": [
    {
     "data": {
      "text/plain": [
       "True"
      ]
     },
     "execution_count": 2,
     "metadata": {},
     "output_type": "execute_result"
    }
   ],
   "source": [
    "import torch\n",
    "\n",
    "torch.cuda.is_available()"
   ]
  },
  {
   "cell_type": "code",
   "execution_count": 3,
   "id": "5a4f8ab4",
   "metadata": {
    "scrolled": true
   },
   "outputs": [],
   "source": [
    "import os\n",
    "from pathlib import Path\n",
    "import tempfile\n",
    "\n",
    "from shutil import rmtree\n",
    "from typing import List, Optional, Union"
   ]
  },
  {
   "cell_type": "code",
   "execution_count": 4,
   "metadata": {},
   "outputs": [
    {
     "name": "stdout",
     "output_type": "stream",
     "text": [
      "env: NUPLAN_DATA_ROOT=../../../datasets/nuplan/dataset\n",
      "env: NUPLAN_MAPS_ROOT=../../data/nuplan/maps\n",
      "env: NUPLAN_EXP_ROOT=../../data/nuplan/exp\n",
      "env: NUPLAN_DEVKIT_ROOT=../../nuplan-devkit/\n"
     ]
    },
    {
     "data": {
      "text/plain": [
       "'/home/ehdykhne/nuplan-devkit/experiments'"
      ]
     },
     "execution_count": 4,
     "metadata": {},
     "output_type": "execute_result"
    }
   ],
   "source": [
    "# Adjust your env variables here if nescesary\n",
    "\n",
    "%env NUPLAN_DATA_ROOT=../../../datasets/nuplan/dataset\n",
    "%env NUPLAN_MAPS_ROOT=../../data/nuplan/maps\n",
    "%env NUPLAN_EXP_ROOT=../../data/nuplan/exp\n",
    "%env NUPLAN_DEVKIT_ROOT=../../nuplan-devkit/\n",
    "%pwd"
   ]
  },
  {
   "cell_type": "code",
   "execution_count": 5,
   "id": "64d027e9",
   "metadata": {
    "scrolled": true
   },
   "outputs": [],
   "source": [
    "import hydra\n",
    "import pytorch_lightning as pl\n",
    "from omegaconf import DictConfig, OmegaConf\n",
    "\n",
    "from nuplan.common.utils.s3_utils import is_s3_path\n",
    "from nuplan.planning.script.builders.simulation_builder import build_simulations\n",
    "from nuplan.planning.script.builders.simulation_callback_builder import (\n",
    "    build_callbacks_worker,\n",
    "    build_simulation_callbacks,\n",
    ")\n",
    "from nuplan.planning.script.utils import (\n",
    "    run_runners,\n",
    "    set_default_path,\n",
    "    set_up_common_builder,\n",
    ")\n",
    "from nuplan.planning.simulation.planner.abstract_planner import AbstractPlanner\n",
    "\n",
    "logging.basicConfig(level=logging.INFO)\n",
    "logger = logging.getLogger(__name__)\n",
    "\n",
    "# If set, use the env. variable to overwrite the default dataset and experiment paths\n",
    "set_default_path()\n",
    "\n",
    "# If set, use the env. variable to overwrite the Hydra config\n",
    "CONFIG_PATH = os.getenv(\"NUPLAN_HYDRA_CONFIG_PATH\", \"config/simulation\")\n",
    "\n",
    "if os.environ.get(\"NUPLAN_HYDRA_CONFIG_PATH\") is not None:\n",
    "    CONFIG_PATH = os.path.join(\"../../../../\", CONFIG_PATH)\n",
    "\n",
    "if os.path.basename(CONFIG_PATH) != \"simulation\":\n",
    "    CONFIG_PATH = os.path.join(CONFIG_PATH, \"simulation\")\n",
    "CONFIG_NAME = \"default_simulation\""
   ]
  },
  {
   "cell_type": "code",
   "execution_count": 6,
   "id": "191c3970",
   "metadata": {},
   "outputs": [
    {
     "name": "stdout",
     "output_type": "stream",
     "text": [
      "['d6234553edc95d50', '98ddd7851e445b7a', '5ac5795b9b5851e8']\n",
      "['014c7f3502d4597d', '02828821ef045829', '02fa9b8d43465e0d']\n"
     ]
    }
   ],
   "source": [
    "# list of selected scenario tokens\n",
    "from tokens import selected_scenario_tokens, modifiable_scenario_tokens\n",
    "\n",
    "print(selected_scenario_tokens[0:3])\n",
    "print(modifiable_scenario_tokens[0:3])\n",
    "\n",
    "selected_scenario_tokens = [\"fa01caf734875df7\"]"
   ]
  },
  {
   "cell_type": "code",
   "execution_count": 7,
   "id": "ec762c52",
   "metadata": {
    "scrolled": true
   },
   "outputs": [
    {
     "name": "stdout",
     "output_type": "stream",
     "text": [
      "default_simulation\n",
      "output_folder = \"../../data/nuplan/exp/exp/simulation/closed_loop_multiagent/2024.02.14.14.38.02\"\n"
     ]
    }
   ],
   "source": [
    "from tutorials.utils.tutorial_utils import construct_simulation_hydra_paths\n",
    "\n",
    "# Location of paths with all simulation configs\n",
    "BASE_CONFIG_PATH = os.path.join(\n",
    "    os.getenv(\"NUPLAN_TUTORIAL_PATH\", \"\"), \"../nuplan/planning/script\"\n",
    ")\n",
    "simulation_hydra_paths = construct_simulation_hydra_paths(BASE_CONFIG_PATH)\n",
    "\n",
    "# Create a temporary directory to store the simulation artifacts\n",
    "\n",
    "left_turn_types = [\n",
    "    \"stopping_at_crosswalk\",\n",
    "    \"high_lateral_acceleration\",\n",
    "    \"near_multiple_vehicles\",\n",
    "    \"on_stopline_stop_sign\",\n",
    "    \"near_long_vehicle\",\n",
    "    \"unknown\",\n",
    "    \"near_barrier_on_driveable\",\n",
    "    \"near_high_speed_vehicle\",\n",
    "]\n",
    "scenario_types = [\n",
    "    # \"accelerating_at_traffic_light_with_lead\",\n",
    "    # \"crossed_by_bike\",\n",
    "    # \"crossed_by_vehicle\",\n",
    "    # \"on_intersection\",\n",
    "    # \"on_stopline_crosswalk\",\n",
    "    # \"on_stopline_stop_sign\",\n",
    "    # \"on_stopline_traffic_light\",\n",
    "    # \"on_traffic_light_intersection\",\n",
    "    # \"starting_protected_cross_turn\",\n",
    "    # \"starting_protected_noncross_turn\",\n",
    "    # \"starting_right_turn\",\n",
    "    \"starting_straight_stop_sign_intersection_traversal\",\n",
    "    \"starting_straight_traffic_light_intersection_traversal\",\n",
    "    # \"starting_u_turn\",\n",
    "    \"starting_unprotected_cross_turn\",\n",
    "    # \"starting_unprotected_noncross_turn\",\n",
    "    # \"stationary_at_crosswalk\",\n",
    "    # \"stationary_at_traffic_light_with_lead\",\n",
    "    # \"stationary_at_traffic_light_without_lead\",\n",
    "    # \"traversing_crosswalk\",\n",
    "    \"traversing_intersection\",\n",
    "    \"traversing_traffic_light_intersection\",\n",
    "]\n",
    "\n",
    "left_turn_potential = [\"starting_left_turn\"]\n",
    "\n",
    "# scenario_types = ['stationary_at_traffic_light_without_lead']\n",
    "\n",
    "scenario_builder = \"val\"  # [nuplan (uses trainval), nuplan_mini, test, val, train_boston, train_pittsburgh, train_singapore]\n",
    "DATASET_PARAMS = [\n",
    "    f\"scenario_builder={scenario_builder}\",\n",
    "    \"scenario_filter=all_scenarios\",  # [all_scenarios, val14_split]\n",
    "    f\"scenario_filter.scenario_types={left_turn_potential}\",  # there are 70 scenario types in the trainingset and 58 in the validation set including \"unknown\" which make up the majority\n",
    "    \"scenario_filter.ego_displacement_minimum_m=10\",  # use scenarios where the ego vehicle moves at least 10m\n",
    "    #    'scenario_filter.remove_invalid_goals=true',  # remove scenarios where the goal is not invalid\n",
    "    # \"scenario_filter.ego_start_speed_threshold=5\",  # Exclusive threshold that the ego's speed must rise above (meters per second) for scenario to be kept\n",
    "    #    'scenario_filter.stop_speed_threshold=10',  # Inclusive threshold that the ego's speed must fall below (meters per second) for scenario to be kept:\n",
    "    \"scenario_filter.map_names=[sg-one-north, us-ma-boston, us-pa-pittsburgh-hazelwood]\",  # select multiple [sg-one-north, us-ma-boston, us-pa-pittsburgh-hazelwood, us-nv-las-vegas-strip]\n",
    "    # \"scenario_filter.limit_total_scenarios=0.05\",  # use n total scenarios if int, or if float smaller than 1, use n as a fraction of total scenarios (changes sampling frequency, unchanged leaves the frequency at 20Hz)\n",
    "    \"scenario_filter.num_scenarios_per_type=60\",  # use 10 scenarios per scenario type\n",
    "    # f\"scenario_filter.scenario_tokens={selected_scenario_tokens}\",  # List of scenarios to include (token)\n",
    "    #'scenario_filter.log_names=[\"2021.08.24.20.03.01_veh-45_01091_01622\"]',  # specific scenrios to simulate\n",
    "    # turn off if you are selecting scenarios manually. turn on for initial filtering (0.05 gives us 1 scenario per second)\n",
    "]\n",
    "urban_ckpt = \"/home/ehdykhne/nuplan-devkit/experiments/pretrained_checkpoints/urbandriver_checkpoint.ckpt\"\n",
    "gc_pgp_ckpt = \"/home/ehdykhne/nuplan-devkit/experiments/pretrained_checkpoints/gc_pgp_checkpoint.ckpt\"\n",
    "hybrid_ckpt = \"/home/ehdykhne/nuplan-devkit/experiments/pretrained_checkpoints/pdm_offset_checkpoint.ckpt\"\n",
    "#'/home/ehdykhne/nuplan-devkit/experiments/pretrained_checkpoints/urbandriver_checkpoint.ckpt'\n",
    "#'/home/ehdykhne/Repos/nuplan-devkit/experiments/pretrained_checkpoints/urbandriver_checkpoint.ckpt'\n",
    "# Initialize configuration management system\n",
    "hydra.core.global_hydra.GlobalHydra.instance().clear()  # reinitialize hydra if already initialized\n",
    "hydra.initialize(config_path=simulation_hydra_paths.config_path)\n",
    "\n",
    "# Compose the configuration\n",
    "print(simulation_hydra_paths.config_name)\n",
    "cfg = hydra.compose(\n",
    "    config_name=simulation_hydra_paths.config_name,\n",
    "    overrides=[\n",
    "        \"+simulation=closed_loop_multiagent\",  # [open_loop_boxes, closed_loop_nonreactive_agents, closed_loop_reactive_agents, closed_loop_multiagent]\n",
    "        \"planner=pdm_closed_planner\",  # [ml_planner, pdm_hybrid_planner, pdm_closed_planner, idm_planner, log_future_planner, simple_planner]\n",
    "        # \"model=gc_pgp_model\",\n",
    "        # \"model.aggregator.pre_train=false\",\n",
    "        # \"planner.ml_planner.model_config=${model}\",\n",
    "        # f\"planner.ml_planner.checkpoint_path={gc_pgp_ckpt}\",\n",
    "        # f\"planner.pdm_closed_planner.checkpoint_path={hybrid_ckpt}\",\n",
    "        # \"+observation.model=gc_pgp_model\",\n",
    "        # \"+observation.model.aggregator.pre_train=false\",\n",
    "        # \"+observation.model_config=${model}\",\n",
    "        # f\"+observation.checkpoint_path={gc_pgp_ckpt}\",\n",
    "        f\"observation.planner_type=pdm_closed\",\n",
    "        # # f\"observation.pdm_hybrid_ckpt={hybrid_ckpt}\",\n",
    "        f\"observation.occlusion_cfg.occlusion=false\",\n",
    "        # f\"observation.occlusion_cfg.manager_type=wedge\",\n",
    "        # f\"+observation.occlusion_cfg.uncloak_reaction_time=1.5\",\n",
    "        # f\"+observation.occlusion_cfg.notice_threshold=1.0\",\n",
    "        \"+modify_scenario_simulations=true\",\n",
    "        \"+modifier_types=[oncoming-left-turn-and-occlusion-injection]\",  # can select multiple: [occlusion-injection, left-and-right]\n",
    "        \"+occlusion=false\",\n",
    "        # \"+occlusion.manager_type=wedge\",  # options: [range, shadow, wedge]\n",
    "        # \"+occlusion.uncloak_reaction_time=1.5\",  # 0.1\n",
    "        # \"+occlusion.notice_threshold=1.0\",  # 0.1\n",
    "        \"worker=ray_distributed\",  # [sequential, ray_distributed]\n",
    "        \"hydra.searchpath=[pkg://tuplan_garage.planning.script.config.common, pkg://tuplan_garage.planning.script.config.simulation, pkg://nuplan.planning.script.config.common, pkg://nuplan.planning.script.experiments]\",\n",
    "        *DATASET_PARAMS,\n",
    "    ],\n",
    ")\n",
    "\n",
    "output_folder = cfg.output_dir\n",
    "print('output_folder = \"' + output_folder + '\"')\n",
    "\n",
    "\n",
    "# closed mixed for simulation\n",
    "# \"+simulation=closed_loop_multiagent\",  # [open_loop_boxes, closed_loop_nonreactive_agents, closed_loop_reactive_agents, closed_loop_multiagent]\n",
    "# \"planner=pdm_closed_planner\",  # [ml_planner, pdm_hybrid_planner, pdm_closed_planner, idm_planner, log_future_planner, simple_planner]\n",
    "# # \"model=gc_pgp_model\",\n",
    "# # \"model.aggregator.pre_train=false\",\n",
    "# # \"planner.ml_planner.model_config=${model}\",\n",
    "# # f\"planner.ml_planner.checkpoint_path={gc_pgp_ckpt}\",\n",
    "# # f\"planner.pdm_closed_planner.checkpoint_path={hybrid_ckpt}\",\n",
    "# # \"+observation.model=gc_pgp_model\",\n",
    "# # \"+observation.model.aggregator.pre_train=false\",\n",
    "# # \"+observation.model_config=${model}\",\n",
    "# # f\"+observation.checkpoint_path={gc_pgp_ckpt}\",\n",
    "# f\"observation.planner_type=pdm_closed\",\n",
    "# # # f\"observation.pdm_hybrid_ckpt={hybrid_ckpt}\",\n",
    "# f\"observation.occlusion_cfg.occlusion=true\",\n",
    "# f\"observation.occlusion_cfg.manager_type=wedge\",\n",
    "# f\"+observation.occlusion_cfg.uncloak_reaction_time=1.5\",\n",
    "# f\"+observation.occlusion_cfg.notice_threshold=1.0\",\n",
    "# \"+modify_scenario_simulations=true\",\n",
    "# \"+modifier_types=[occlusion-injection]\",  # can select multiple: [occlusion-injection, left-and-right]\n",
    "# \"+occlusion=true\",\n",
    "# \"+occlusion.manager_type=wedge\",  # options: [range, shadow, wedge]\n",
    "# \"+occlusion.uncloak_reaction_time=1.0\",\n",
    "# \"+occlusion.notice_threshold=0.1\",\n",
    "# \"worker=ray_distributed\",  # [sequential, ray_distributed]\n",
    "# \"hydra.searchpath=[pkg://tuplan_garage.planning.script.config.common, pkg://tuplan_garage.planning.script.config.simulation, pkg://nuplan.planning.script.config.common, pkg://nuplan.planning.script.experiments]\",\n",
    "# *DATASET_PARAMS,\n",
    "\n",
    "# openloop config for finding risky scenarios\n",
    "# f\"scenario_builder={scenario_builder}\",\n",
    "# \"scenario_filter=all_scenarios\",  # [all_scenarios, val14_split]\n",
    "# # f\"scenario_filter.scenario_types={left_turn_types}\",  # there are 70 scenario types in the trainingset and 58 in the validation set including \"unknown\" which make up the majority\n",
    "# \"scenario_filter.ego_displacement_minimum_m=10\",  # use scenarios where the ego vehicle moves at least 10m\n",
    "# #    'scenario_filter.remove_invalid_goals=true',  # remove scenarios where the goal is not invalid\n",
    "# \"scenario_filter.ego_start_speed_threshold=5\",  # Exclusive threshold that the ego's speed must rise above (meters per second) for scenario to be kept\n",
    "# #    'scenario_filter.stop_speed_threshold=10',  # Inclusive threshold that the ego's speed must fall below (meters per second) for scenario to be kept:\n",
    "# \"scenario_filter.map_names=[sg-one-north, us-ma-boston, us-pa-pittsburgh-hazelwood]\",  # select multiple [sg-one-north, us-ma-boston, us-pa-pittsburgh-hazelwood, us-nv-las-vegas-strip]\n",
    "# # \"scenario_filter.num_scenarios_per_type=300\",  # use 10 scenarios per scenario type\n",
    "# # f\"scenario_filter.scenario_tokens={selected_scenario_tokens}\",  # List of scenarios to include (token)\n",
    "# #'scenario_filter.log_names=[\"2021.08.24.20.03.01_veh-45_01091_01622\"]',  # specific scenrios to simulate\n",
    "# \"scenario_filter.limit_total_scenarios=0.01\",  # use n total scenarios if int, or if float smaller than 1, use n as a fraction of total scenarios (changes sampling frequency, unchanged leaves the frequency at 20Hz)\n",
    "# # turn off if you are selecting scenarios manually. turn on for initial filtering (0.05 gives us 1 scenario per second)\n",
    "\n",
    "\n",
    "# \"+simulation=open_loop_boxes\",  # [open_loop_boxes, closed_loop_nonreactive_agents, closed_loop_reactive_agents, closed_loop_multiagent]\n",
    "#         \"planner=log_future_planner\",  # [ml_planner, pdm_hybrid_planner, gc_pgp_planner, idm_planner, log_future_planner, simple_planner]\n",
    "#         \"ego_controller=perfect_tracking_controller\",\n",
    "#         \"worker=ray_distributed\",  # [sequential, ray_distributed]\n",
    "#         \"+occlusion=true\",  # [true, false]\n",
    "#         \"+occlusion.manager_type=wedge\",  # options: [range, shadow, wedge]\n",
    "#         \"+occlusion.uncloak_reaction_time=1.5\",\n",
    "#         \"+occlusion.notice_threshold=1.0\",\n",
    "#         # \"hydra.searchpath=[pkg://tuplan_garage.planning.script.config.common, pkg://tuplan_garage.planning.script.config.simulation, pkg://nuplan.planning.script.config.common, pkg://nuplan.planning.script.experiments]\",\n",
    "#         *DATASET_PARAMS,\n",
    "\n",
    "\n",
    "# output folders for runs:\n",
    "# closed_loop_reactive_agents, wedge occlusions, urban_planner\n",
    "# output_folder = \"../../data/nuplan/exp/exp/simulation/closed_loop_reactive_agents/2023.12.09.21.59.48\"\n",
    "# overall score: 0.5041, ego_at_fault_collisions: 363\n",
    "\n",
    "# closed_loop_reactive_agents, occlusions = False, urban_planner\n",
    "# output_folder = \"../../data/nuplan/exp/exp/simulation/closed_loop_reactive_agents/2023.12.09.23.21.13\"\n",
    "# overall score: 0.5041, ego_at_fault_collisions: 357\n",
    "\n",
    "# closed_loop_nonreactive_agents, occlusions = False, urban_planner\n",
    "# output_folder = \"../../data/nuplan/exp/exp/simulation/closed_loop_nonreactive_agents/2023.12.10.02.01.14\"\n",
    "# output_folder = \"../../data/nuplan/exp/exp/simulation/closed_loop_nonreactive_agents/2023.12.10.07.32.41\"\n",
    "# overall score: , ego_at_fault_collisions:\n",
    "\n",
    "# closed_loop_nonreactive_agents, wedge occlusions, urban_planner\n",
    "# output_folder = \"../../data/nuplan/exp/exp/simulation/closed_loop_nonreactive_agents/2023.12.10.08.29.23\"\n",
    "# overall score: , ego_at_fault_collisions:\n",
    "\n",
    "# closed_loop_reactive_agents, wedge occlusions, gc_pgp\n",
    "# output_folder = \"../../data/nuplan/exp/exp/simulation/closed_loop_reactive_agents/2023.12.10.09.31.44\"\n",
    "# overall score: , ego_at_fault_collisions:\n",
    "\n",
    "# 'closed_loop_reactive_agents, occlusions = False, gc_pgp'\n",
    "# output_folder = \"../../data/nuplan/exp/exp/simulation/closed_loop_reactive_agents/2023.12.11.00.41.30\"\n",
    "\n",
    "# 'closed_loop_reactive_agents, occlusions = False, pdm_hybrid'\n",
    "# output_folder = \"../../data/nuplan/exp/exp/simulation/closed_loop_reactive_agents/2023.12.13.12.21.28\"\n",
    "\n",
    "# 'closed_loop_reactive_agents,  wedge occlusions, pdm_hybrid'\n",
    "# output_folder = \"../../data/nuplan/exp/exp/simulation/closed_loop_reactive_agents/2023.12.13.13.07.48\"\n",
    "\n",
    "# # be8c7a230b9c5b4e_oncoming_vehicle_injection_for_left_turn_and_occlusion_injection_0\n",
    "# # output_folder = \"../../data/nuplan/exp/exp/simulation/closed_loop_multiagent/2024.02.14.14.14.30\"\n",
    "# output_folder = \"../../data/nuplan/exp/exp/simulation/closed_loop_multiagent/2024.02.14.14.38.02\""
   ]
  },
  {
   "cell_type": "markdown",
   "id": "1c215b7f",
   "metadata": {},
   "source": [
    "# Now we can run with the following"
   ]
  },
  {
   "cell_type": "code",
   "execution_count": 7,
   "id": "c221b637",
   "metadata": {
    "scrolled": false
   },
   "outputs": [
    {
     "ename": "NameError",
     "evalue": "name 'cfg' is not defined",
     "output_type": "error",
     "traceback": [
      "\u001b[0;31m---------------------------------------------------------------------------\u001b[0m",
      "\u001b[0;31mNameError\u001b[0m                                 Traceback (most recent call last)",
      "Cell \u001b[0;32mIn[7], line 4\u001b[0m\n\u001b[1;32m      1\u001b[0m \u001b[38;5;28;01mfrom\u001b[39;00m \u001b[38;5;21;01mnuplan\u001b[39;00m\u001b[38;5;21;01m.\u001b[39;00m\u001b[38;5;21;01mplanning\u001b[39;00m\u001b[38;5;21;01m.\u001b[39;00m\u001b[38;5;21;01mscript\u001b[39;00m\u001b[38;5;21;01m.\u001b[39;00m\u001b[38;5;21;01mrun_simulation\u001b[39;00m \u001b[38;5;28;01mimport\u001b[39;00m main \u001b[38;5;28;01mas\u001b[39;00m main_simulation\n\u001b[1;32m      3\u001b[0m \u001b[38;5;66;03m# Run the simulation loop (real-time visualization not yet supported, see next section for visualization)\u001b[39;00m\n\u001b[0;32m----> 4\u001b[0m main_simulation(\u001b[43mcfg\u001b[49m)\n",
      "\u001b[0;31mNameError\u001b[0m: name 'cfg' is not defined"
     ]
    }
   ],
   "source": [
    "from nuplan.planning.script.run_simulation import main as main_simulation\n",
    "\n",
    "# Run the simulation loop (real-time visualization not yet supported, see next section for visualization)\n",
    "main_simulation(cfg)"
   ]
  },
  {
   "cell_type": "markdown",
   "id": "4ace6fd1",
   "metadata": {},
   "source": [
    "## Prepare the nuBoard config"
   ]
  },
  {
   "cell_type": "code",
   "execution_count": 8,
   "id": "f9bba706",
   "metadata": {},
   "outputs": [],
   "source": [
    "output_folder_alt = []\n",
    "output_folder_alt.append(\n",
    "    \"../../data/nuplan/exp/exp/simulation/closed_loop_reactive_agents/2023.12.09.21.59.48\"\n",
    ")\n",
    "output_folder_alt.append(\n",
    "    \"../../data/nuplan/exp/exp/simulation/closed_loop_reactive_agents/2023.12.09.23.21.13\"\n",
    ")\n",
    "output_folder_alt.append(\n",
    "    \"../../data/nuplan/exp/exp/simulation/closed_loop_nonreactive_agents/2023.12.10.07.32.41\"\n",
    ")\n",
    "output_folder_alt.append(\n",
    "    \"../../data/nuplan/exp/exp/simulation/closed_loop_nonreactive_agents/2023.12.10.08.29.23\"\n",
    ")\n",
    "output_folder_alt.append(\n",
    "    \"../../data/nuplan/exp/exp/simulation/closed_loop_reactive_agents/2023.12.11.00.41.30\"\n",
    ")\n",
    "output_folder_alt.append(\n",
    "    \"../../data/nuplan/exp/exp/simulation/closed_loop_reactive_agents/2023.12.10.09.31.44\"\n",
    ")\n",
    "output_folder_alt.append(\n",
    "    \"../../data/nuplan/exp/exp/simulation/closed_loop_reactive_agents/2023.12.13.12.21.28\"\n",
    ")\n",
    "output_folder_alt.append(\n",
    "    \"../../data/nuplan/exp/exp/simulation/closed_loop_reactive_agents/2023.12.13.13.07.48\"\n",
    ")"
   ]
  },
  {
   "cell_type": "code",
   "execution_count": 9,
   "id": "1bdb7bef",
   "metadata": {
    "scrolled": true
   },
   "outputs": [],
   "source": [
    "scenario_builder = \"val\"  # [nuplan (uses trainval), nuplan_mini, test, val, train_boston, train_pittsburgh, train_singapore]\n",
    "# be8c7a230b9c5b4e_oncoming_vehicle_injection_for_left_turn_and_occlusion_injection_0\n",
    "output_folder_occ = (\n",
    "    \"../../data/nuplan/exp/exp/simulation/closed_loop_multiagent/2024.02.14.14.14.30\"\n",
    ")\n",
    "output_folder_unocc = (\n",
    "    \"../../data/nuplan/exp/exp/simulation/closed_loop_multiagent/2024.02.14.14.38.02\"\n",
    ")\n",
    "output_folder = [output_folder_occ, output_folder_unocc]\n",
    "# output_folder = \"../../data/nuplan/exp/exp/simulation/open_loop_boxes/2024.02.01.22.35.31\"\n",
    "\n",
    "# without injection\n",
    "# output_folder = (\n",
    "#     \"../../data/nuplan/exp/exp/simulation/closed_loop_multiagent/2024.01.24.02.58.57\"\n",
    "# )\n",
    "\n",
    "# output_folder = (\n",
    "#     \"../../data/nuplan/exp/exp/simulation/open_loop_boxes/2023.12.20.13.59.34\"\n",
    "# )\n",
    "# output_folder = '../../data/nuplan/exp/exp/simulation/open_loop_boxes/2023.12.09.21.19.06'\n",
    "# output_folder = \"../../data/nuplan/exp/exp/simulation/closed_loop_reactive_agents/2023.12.09.21.59.48\"\n",
    "# Location of path with all nuBoard configs\n",
    "\n",
    "# scenario_builder = \"val\"\n",
    "# output_folder = \"../../data/nuplan/exp/exp/simulation/closed_loop_multiagent/2024.01.18.22.20.52\"\n",
    "# print(output_folder)\n",
    "CONFIG_PATH = \"../nuplan/planning/script/config/nuboard\"\n",
    "CONFIG_NAME = \"default_nuboard\"\n",
    "\n",
    "# Initialize configuration management system\n",
    "hydra.core.global_hydra.GlobalHydra.instance().clear()  # reinitialize hydra if already initialized\n",
    "hydra.initialize(config_path=CONFIG_PATH)\n",
    "\n",
    "# Compose the configuration\n",
    "cfg = hydra.compose(\n",
    "    config_name=CONFIG_NAME,\n",
    "    overrides=[\n",
    "        f\"scenario_builder={scenario_builder}\",  # set the database (same as simulation) used to fetch data for visualization\n",
    "        f\"simulation_path={output_folder}\",  # [output_folder, output_folder_alt] nuboard file path(s), if left empty the user can open the file inside nuBoard\n",
    "    ],\n",
    ")"
   ]
  },
  {
   "cell_type": "markdown",
   "id": "91fe931f",
   "metadata": {},
   "source": [
    "## Launch nuBoard (open in new tab - recommended)"
   ]
  },
  {
   "cell_type": "code",
   "execution_count": 10,
   "id": "e1f01dcc",
   "metadata": {
    "scrolled": false
   },
   "outputs": [
    {
     "name": "stderr",
     "output_type": "stream",
     "text": [
      "INFO:nuplan.planning.script.builders.scenario_building_builder:Building AbstractScenarioBuilder...\n",
      "INFO:nuplan.planning.script.builders.scenario_building_builder:Building AbstractScenarioBuilder...DONE!\n",
      "INFO:nuplan.planning.nuboard.nuboard:Opening Bokeh application on http://localhost:5006/\n",
      "INFO:nuplan.planning.nuboard.nuboard:Async rendering is set to: True\n",
      "INFO:bokeh.server.server:Starting Bokeh server version 2.4.3 (running on Tornado 6.3.3)\n",
      "WARNING:bokeh.server.util:Host wildcard '*' will allow connections originating from multiple (or possibly all) hostnames or IPs. Use non-wildcard values to restrict access explicitly\n",
      "INFO:bokeh.server.tornado:User authentication hooks NOT provided (default user enabled)\n",
      "INFO:nuplan.planning.nuboard.base.simulation_tile:Minimum frame time=0.017 s\n",
      "INFO:nuplan.planning.nuboard.tabs.scenario_tab:Rending scenario plot takes 0.0014 seconds.\n",
      "INFO:tornado.access:200 GET / (127.0.0.1) 2702.01ms\n",
      "INFO:tornado.access:200 GET / (127.0.0.1) 2702.01ms\n",
      "INFO:tornado.access:200 GET /resource/spectre.min.css (127.0.0.1) 4.58ms\n",
      "INFO:tornado.access:200 GET /resource/spectre.min.css (127.0.0.1) 4.58ms\n",
      "INFO:tornado.access:200 GET /resource/spectre-exp.min.css (127.0.0.1) 1.02ms\n",
      "INFO:tornado.access:200 GET /resource/spectre-exp.min.css (127.0.0.1) 1.02ms\n",
      "INFO:tornado.access:200 GET /resource/spectre-icons.min.css (127.0.0.1) 0.76ms\n",
      "INFO:tornado.access:200 GET /resource/spectre-icons.min.css (127.0.0.1) 0.76ms\n",
      "INFO:tornado.access:200 GET /resource/style.css (127.0.0.1) 0.81ms\n",
      "INFO:tornado.access:200 GET /resource/style.css (127.0.0.1) 0.81ms\n",
      "INFO:tornado.access:200 GET /resource/css/overview.css (127.0.0.1) 0.82ms\n",
      "INFO:tornado.access:200 GET /resource/css/overview.css (127.0.0.1) 0.82ms\n",
      "INFO:tornado.access:200 GET /resource/css/cloud.css (127.0.0.1) 0.86ms\n",
      "INFO:tornado.access:200 GET /resource/css/cloud.css (127.0.0.1) 0.86ms\n",
      "INFO:tornado.access:200 GET /resource/css/scenario.css (127.0.0.1) 1.25ms\n",
      "INFO:tornado.access:200 GET /resource/css/scenario.css (127.0.0.1) 1.25ms\n",
      "INFO:tornado.access:200 GET /resource/css/histogram.css (127.0.0.1) 0.92ms\n",
      "INFO:tornado.access:200 GET /resource/css/histogram.css (127.0.0.1) 0.92ms\n",
      "INFO:tornado.access:200 GET /static/js/bokeh.min.js?v=3c61e952b808bb7e346ce828a565a5f23aaf7708d034fa9d0906403813355d45bb4e8d8b0b23a93f032c76831d4f0221846f28699c7f5147caa62e0d31668314 (127.0.0.1) 1.59ms\n",
      "INFO:tornado.access:200 GET /static/js/bokeh.min.js?v=3c61e952b808bb7e346ce828a565a5f23aaf7708d034fa9d0906403813355d45bb4e8d8b0b23a93f032c76831d4f0221846f28699c7f5147caa62e0d31668314 (127.0.0.1) 1.59ms\n",
      "INFO:tornado.access:200 GET /static/js/bokeh-gl.min.js?v=e5df31fd9010eacff0aa72d315264604b5e34972ba445acea6fce98080eecf33acf2d2986126360faaa5852813cffa16f6f6f4889923318300f062497c02da4e (127.0.0.1) 1.19ms\n",
      "INFO:tornado.access:200 GET /static/js/bokeh-gl.min.js?v=e5df31fd9010eacff0aa72d315264604b5e34972ba445acea6fce98080eecf33acf2d2986126360faaa5852813cffa16f6f6f4889923318300f062497c02da4e (127.0.0.1) 1.19ms\n",
      "INFO:tornado.access:200 GET /static/js/bokeh-widgets.min.js?v=8a1ff6f5aa0d967f4998d275803bbb111d928fd9f605ef9e1f30cfd021df0e77224ee3d13f83edb3a942f6e4ccc569ee5dd8951a8aa6cb600602463b90c65a87 (127.0.0.1) 0.93ms\n",
      "INFO:tornado.access:200 GET /static/js/bokeh-widgets.min.js?v=8a1ff6f5aa0d967f4998d275803bbb111d928fd9f605ef9e1f30cfd021df0e77224ee3d13f83edb3a942f6e4ccc569ee5dd8951a8aa6cb600602463b90c65a87 (127.0.0.1) 0.93ms\n",
      "INFO:tornado.access:200 GET /static/js/bokeh-tables.min.js?v=ae2903e57cf57f52819fdf4d938c648982b51c34f73b6e653a0f3bb3c8ab44f338505931ace43eafc1636e215492e2314acf54c54baffb47813b86b4923a7fe0 (127.0.0.1) 0.91ms\n",
      "INFO:tornado.access:200 GET /static/js/bokeh-tables.min.js?v=ae2903e57cf57f52819fdf4d938c648982b51c34f73b6e653a0f3bb3c8ab44f338505931ace43eafc1636e215492e2314acf54c54baffb47813b86b4923a7fe0 (127.0.0.1) 0.91ms\n",
      "INFO:tornado.access:200 GET /static/js/bokeh-mathjax.min.js?v=176c36fdbcd8fc1019fc828101a2804081a35baf4018d7f2633cd263156b593aa73112f400112b662daa0590138b74851bc91f1f2a5fbf5416ee8c876c3e0d0c (127.0.0.1) 2.43ms\n",
      "INFO:tornado.access:200 GET /static/js/bokeh-mathjax.min.js?v=176c36fdbcd8fc1019fc828101a2804081a35baf4018d7f2633cd263156b593aa73112f400112b662daa0590138b74851bc91f1f2a5fbf5416ee8c876c3e0d0c (127.0.0.1) 2.43ms\n",
      "INFO:tornado.access:200 GET /resource/scripts/utils.js (127.0.0.1) 7.51ms\n",
      "INFO:tornado.access:200 GET /resource/scripts/utils.js (127.0.0.1) 7.51ms\n",
      "INFO:tornado.access:200 GET /resource/motional_logo.png (127.0.0.1) 13.43ms\n",
      "INFO:tornado.access:200 GET /resource/motional_logo.png (127.0.0.1) 13.43ms\n",
      "WARNING:tornado.access:404 GET /favicon.ico (127.0.0.1) 0.58ms\n",
      "WARNING:tornado.access:404 GET /favicon.ico (127.0.0.1) 0.58ms\n",
      "INFO:tornado.access:101 GET /ws (127.0.0.1) 0.74ms\n",
      "INFO:tornado.access:101 GET /ws (127.0.0.1) 0.74ms\n",
      "INFO:bokeh.server.views.ws:WebSocket connection opened\n",
      "INFO:bokeh.server.views.ws:ServerConnection created\n",
      "INFO:nuplan.planning.nuboard.base.simulation_tile:Minimum frame time=0.017 s\n",
      "INFO:nuplan.planning.nuboard.tabs.scenario_tab:Rending scenario plot takes 0.0009 seconds.\n",
      "INFO:tornado.access:200 GET / (127.0.0.1) 485.46ms\n",
      "INFO:tornado.access:200 GET / (127.0.0.1) 485.46ms\n",
      "Rendering a scenario: 100%|██████████| 2/2 [00:00<00:00,  3.92it/s]\n",
      "INFO:nuplan.planning.nuboard.tabs.scenario_tab:Rending scenario plot takes 12.7448 seconds.\n"
     ]
    }
   ],
   "source": [
    "from nuplan.planning.script.run_nuboard import main as main_nuboard\n",
    "\n",
    "# Run nuBoard\n",
    "main_nuboard(cfg)"
   ]
  },
  {
   "cell_type": "code",
   "execution_count": null,
   "id": "455dd871",
   "metadata": {
    "scrolled": true
   },
   "outputs": [],
   "source": []
  }
 ],
 "metadata": {
  "kernelspec": {
   "display_name": "Python 3 (ipykernel)",
   "language": "python",
   "name": "python3"
  },
  "language_info": {
   "codemirror_mode": {
    "name": "ipython",
    "version": 3
   },
   "file_extension": ".py",
   "mimetype": "text/x-python",
   "name": "python",
   "nbconvert_exporter": "python",
   "pygments_lexer": "ipython3",
   "version": "3.9.0"
  }
 },
 "nbformat": 4,
 "nbformat_minor": 5
}

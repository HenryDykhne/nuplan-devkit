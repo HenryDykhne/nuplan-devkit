{
 "cells": [
  {
   "cell_type": "markdown",
   "metadata": {},
   "source": [
    "### NPSC psudeo-extension stands for NuPlan Scenario Collection. \n",
    "#### It is a pkl file with the naming convention `filename.npsc.pkl` that contains:\n",
    "* The data structure of a dictionary of scenario modifications.\n",
    "* The `DATASET_PARAMS` list of filters in order to extract the correct scenarios to modify."
   ]
  },
  {
   "cell_type": "code",
   "execution_count": 1,
   "metadata": {},
   "outputs": [],
   "source": [
    "import logging\n",
    "import random\n",
    "import nest_asyncio\n",
    "import pandas as pd\n",
    "\n",
    "nest_asyncio.apply()\n",
    "\n",
    "import torch\n",
    "\n",
    "torch.cuda.is_available()\n",
    "\n",
    "import os\n",
    "from pathlib import Path\n",
    "import tempfile\n",
    "\n",
    "from shutil import rmtree\n",
    "from typing import List, Optional, Union\n",
    "\n",
    "from nuplan.planning.script.run_simulation import main as main_simulation"
   ]
  },
  {
   "cell_type": "code",
   "execution_count": 2,
   "metadata": {},
   "outputs": [
    {
     "name": "stdout",
     "output_type": "stream",
     "text": [
      "env: NUPLAN_DATA_ROOT=../../../datasets/nuplan/dataset\n",
      "env: NUPLAN_MAPS_ROOT=../../data/nuplan/maps\n",
      "env: NUPLAN_EXP_ROOT=../../data/nuplan/exp\n",
      "env: NUPLAN_DEVKIT_ROOT=../../nuplan-devkit/\n"
     ]
    },
    {
     "data": {
      "text/plain": [
       "'/home/ehdykhne/nuplan-devkit/experiments'"
      ]
     },
     "execution_count": 2,
     "metadata": {},
     "output_type": "execute_result"
    }
   ],
   "source": [
    "%env NUPLAN_DATA_ROOT=../../../datasets/nuplan/dataset\n",
    "%env NUPLAN_MAPS_ROOT=../../data/nuplan/maps\n",
    "%env NUPLAN_EXP_ROOT=../../data/nuplan/exp\n",
    "%env NUPLAN_DEVKIT_ROOT=../../nuplan-devkit/\n",
    "%pwd"
   ]
  },
  {
   "cell_type": "code",
   "execution_count": 3,
   "metadata": {},
   "outputs": [],
   "source": [
    "import hydra\n",
    "import pytorch_lightning as pl\n",
    "from omegaconf import DictConfig, OmegaConf\n",
    "\n",
    "from nuplan.common.utils.s3_utils import is_s3_path\n",
    "from nuplan.planning.script.builders.simulation_builder import build_simulations\n",
    "from nuplan.planning.script.builders.simulation_callback_builder import (\n",
    "    build_callbacks_worker,\n",
    "    build_simulation_callbacks,\n",
    ")\n",
    "from nuplan.planning.script.utils import (\n",
    "    run_runners,\n",
    "    set_default_path,\n",
    "    set_up_common_builder,\n",
    ")\n",
    "from nuplan.planning.simulation.planner.abstract_planner import AbstractPlanner\n",
    "\n",
    "logging.basicConfig(level=logging.INFO)\n",
    "logger = logging.getLogger(__name__)\n",
    "\n",
    "# If set, use the env. variable to overwrite the default dataset and experiment paths\n",
    "set_default_path()\n",
    "\n",
    "# If set, use the env. variable to overwrite the Hydra config\n",
    "CONFIG_PATH = os.getenv(\"NUPLAN_HYDRA_CONFIG_PATH\", \"config/simulation\")\n",
    "\n",
    "if os.environ.get(\"NUPLAN_HYDRA_CONFIG_PATH\") is not None:\n",
    "    CONFIG_PATH = os.path.join(\"../../../../\", CONFIG_PATH)\n",
    "\n",
    "if os.path.basename(CONFIG_PATH) != \"simulation\":\n",
    "    CONFIG_PATH = os.path.join(CONFIG_PATH, \"simulation\")\n",
    "CONFIG_NAME = \"default_simulation\""
   ]
  },
  {
   "cell_type": "code",
   "execution_count": 4,
   "metadata": {},
   "outputs": [],
   "source": [
    "from tutorials.utils.tutorial_utils import construct_simulation_hydra_paths\n",
    "\n",
    "# Location of paths with all simulation configs\n",
    "BASE_CONFIG_PATH = os.path.join(\n",
    "    os.getenv(\"NUPLAN_TUTORIAL_PATH\", \"\"), \"../nuplan/planning/script\"\n",
    ")\n",
    "simulation_hydra_paths = construct_simulation_hydra_paths(BASE_CONFIG_PATH)"
   ]
  },
  {
   "cell_type": "code",
   "execution_count": 5,
   "metadata": {},
   "outputs": [
    {
     "name": "stdout",
     "output_type": "stream",
     "text": [
      "['ea29f4aa6dd2598c', 'b0646a16830258a6', 'ec5653d7ba5a5464', 'c6492065deb75fa1', '694b93d17f1355be', '17a1b01f3ae45487']\n",
      "['scenario_builder=val', 'scenario_filter=all_scenarios', \"scenario_filter.scenario_types=['starting_left_turn', 'starting_right_turn', 'starting_straight_stop_sign_intersection_traversal', 'starting_straight_traffic_light_intersection_traversal', 'starting_unprotected_cross_turn', 'starting_unprotected_noncross_turn', 'traversing_intersection', 'traversing_traffic_light_intersection']\", 'scenario_filter.ego_displacement_minimum_m=10', 'scenario_filter.map_names=[sg-one-north, us-ma-boston, us-pa-pittsburgh-hazelwood, us-nv-las-vegas-strip]', 'scenario_filter.num_scenarios_per_type=1400']\n"
     ]
    }
   ],
   "source": [
    "import pickle\n",
    "\n",
    "EXPERIMENT_NAME = \"pdm_closed_pdm_closed_diverge_pure_scen_1400\"\n",
    "modification_file_path = \"npsc_files/\" + EXPERIMENT_NAME + \".npsc.pkl\"\n",
    "with open(modification_file_path, \"rb\") as output_file:\n",
    "    mod_list_dict = pickle.load(output_file)\n",
    "    print(list(mod_list_dict.keys()))\n",
    "    DATASET_PARAMS = pickle.load(output_file)\n",
    "\n",
    "print(DATASET_PARAMS)"
   ]
  },
  {
   "cell_type": "code",
   "execution_count": 6,
   "metadata": {},
   "outputs": [],
   "source": [
    "urban_ckpt = \"/home/ehdykhne/nuplan-devkit/experiments/pretrained_checkpoints/urbandriver_checkpoint.ckpt\"\n",
    "gc_pgp_ckpt = \"/home/ehdykhne/nuplan-devkit/experiments/pretrained_checkpoints/gc_pgp_checkpoint.ckpt\"\n",
    "hybrid_ckpt = \"/home/ehdykhne/nuplan-devkit/experiments/pretrained_checkpoints/pdm_offset_checkpoint.ckpt\"\n",
    "#'/home/ehdykhne/nuplan-devkit/experiments/pretrained_checkpoints/urbandriver_checkpoint.ckpt'\n",
    "#'/home/ehdykhne/Repos/nuplan-devkit/experiments/pretrained_checkpoints/urbandriver_checkpoint.ckpt'"
   ]
  },
  {
   "cell_type": "code",
   "execution_count": 7,
   "metadata": {},
   "outputs": [
    {
     "name": "stdout",
     "output_type": "stream",
     "text": [
      "default_simulation\n",
      "output_folder_occ = \"../../data/nuplan/exp/exp/simulation/closed_loop_multiagent/2024.05.01.06.04.26\"\n"
     ]
    }
   ],
   "source": [
    "# Initialize configuration management system\n",
    "hydra.core.global_hydra.GlobalHydra.instance().clear()  # reinitialize hydra if already initialized\n",
    "hydra.initialize(config_path=simulation_hydra_paths.config_path)\n",
    "\n",
    "# Compose the configuration\n",
    "print(simulation_hydra_paths.config_name)\n",
    "cfg_occ = hydra.compose(\n",
    "    config_name=simulation_hydra_paths.config_name,\n",
    "    overrides=[\n",
    "        # planner\n",
    "        ################################################\n",
    "        \"planner=pdm_closed_planner\",  # [ml_planner, pdm_hybrid_planner, pdm_closed_planner, idm_planner, log_future_planner, simple_planner]\n",
    "        # planner occlusion\n",
    "        ################################################\n",
    "        \"+occlusion_cfg.occlusion=true\",\n",
    "        \"+occlusion_cfg.manager_type=wedge\",  # options: [range, shadow, wedge]\n",
    "        \"+occlusion_cfg.uncloak_reaction_time=0.5\",  # 0.1\n",
    "        \"+occlusion_cfg.notice_threshold=0.33\",  # 0.1\n",
    "        ################################################\n",
    "        # obs\n",
    "        ################################################\n",
    "        f\"observation.planner_type=pdm_closed\",\n",
    "        ################################################\n",
    "        # obs occlusion\n",
    "        ################################################\n",
    "        f\"observation.occlusion_cfg.occlusion=True\",\n",
    "        f\"observation.occlusion_cfg.manager_type=wedge\",\n",
    "        f\"+observation.occlusion_cfg.uncloak_reaction_time=1.0\",\n",
    "        f\"+observation.occlusion_cfg.notice_threshold=0.67\",\n",
    "        ################################################\n",
    "        # scenario modification\n",
    "        \"+modify_scenario_simulations=true\",\n",
    "        \"+second_testing_round=true\",\n",
    "        f\"+modification_file_path={modification_file_path}\",\n",
    "        # \"+remove_other_agents=true\",\n",
    "        ################################################\n",
    "        # misc\n",
    "        ################################################\n",
    "        \"+simulation=closed_loop_multiagent\",  # [open_loop_boxes, closed_loop_nonreactive_agents, closed_loop_reactive_agents, closed_loop_multiagent]\n",
    "        \"worker=ray_distributed\",  # [sequential, ray_distributed]\n",
    "        \"hydra.searchpath=[pkg://tuplan_garage.planning.script.config.common, pkg://tuplan_garage.planning.script.config.simulation, pkg://nuplan.planning.script.config.common, pkg://nuplan.planning.script.experiments]\",\n",
    "        *DATASET_PARAMS,\n",
    "        ################################################\n",
    "    ],\n",
    ")\n",
    "\n",
    "output_folder_occ = cfg_occ.output_dir\n",
    "print('output_folder_occ = \"' + output_folder_occ + '\"')"
   ]
  },
  {
   "cell_type": "markdown",
   "metadata": {},
   "source": [
    "### Now, we run the simulations"
   ]
  },
  {
   "cell_type": "code",
   "execution_count": 8,
   "metadata": {},
   "outputs": [
    {
     "name": "stderr",
     "output_type": "stream",
     "text": [
      "Global seed set to 0\n",
      "INFO:nuplan.planning.script.builders.main_callback_builder:Building MultiMainCallback...\n",
      "INFO:nuplan.planning.script.builders.main_callback_builder:Building MultiMainCallback: 4...DONE!\n"
     ]
    },
    {
     "name": "stdout",
     "output_type": "stream",
     "text": [
      "2024-05-01 06:04:26,632 INFO {/home/ehdykhne/nuplan-devkit/nuplan/planning/script/builders/worker_pool_builder.py:19}  Building WorkerPool...\n",
      "2024-05-01 06:04:26,669 INFO {/home/ehdykhne/nuplan-devkit/nuplan/planning/utils/multithreading/worker_ray.py:78}  Starting ray local!\n"
     ]
    },
    {
     "name": "stderr",
     "output_type": "stream",
     "text": [
      "2024-05-01 06:04:28,301\tINFO worker.py:1636 -- Started a local Ray instance.\n"
     ]
    },
    {
     "name": "stdout",
     "output_type": "stream",
     "text": [
      "2024-05-01 06:04:29,020 INFO {/home/ehdykhne/nuplan-devkit/nuplan/planning/utils/multithreading/worker_pool.py:101}  Worker: RayDistributed\n",
      "2024-05-01 06:04:29,020 INFO {/home/ehdykhne/nuplan-devkit/nuplan/planning/utils/multithreading/worker_pool.py:102}  Number of nodes: 1\n",
      "Number of CPUs per node: 32\n",
      "Number of GPUs per node: 4\n",
      "Number of threads across all nodes: 32\n",
      "2024-05-01 06:04:29,021 INFO {/home/ehdykhne/nuplan-devkit/nuplan/planning/script/builders/worker_pool_builder.py:27}  Building WorkerPool...DONE!\n",
      "2024-05-01 06:04:29,021 INFO {/home/ehdykhne/nuplan-devkit/nuplan/planning/script/builders/folder_builder.py:32}  Building experiment folders...\n",
      "2024-05-01 06:04:29,021 INFO {/home/ehdykhne/nuplan-devkit/nuplan/planning/script/builders/folder_builder.py:35}  \n",
      "\n",
      "\tFolder where all results are stored: ../../data/nuplan/exp/exp/simulation/closed_loop_multiagent/2024.05.01.06.04.26\n",
      "\n",
      "2024-05-01 06:04:29,023 INFO {/home/ehdykhne/nuplan-devkit/nuplan/planning/script/builders/folder_builder.py:70}  Building experiment folders...DONE!\n",
      "2024-05-01 06:04:29,023 INFO {/home/ehdykhne/nuplan-devkit/nuplan/planning/script/builders/simulation_callback_builder.py:52}  Building AbstractCallback...\n",
      "2024-05-01 06:04:29,023 INFO {/home/ehdykhne/nuplan-devkit/nuplan/planning/script/builders/simulation_callback_builder.py:68}  Building AbstractCallback: 0...DONE!\n",
      "2024-05-01 06:04:29,023 INFO {/home/ehdykhne/nuplan-devkit/nuplan/planning/script/builders/simulation_builder.py:56}  Building simulations...\n",
      "2024-05-01 06:04:29,023 INFO {/home/ehdykhne/nuplan-devkit/nuplan/planning/script/builders/simulation_builder.py:62}  Extracting scenarios...\n",
      "2024-05-01 06:04:29,023 INFO {/home/ehdykhne/nuplan-devkit/nuplan/common/utils/distributed_scenario_filter.py:83}  Building Scenarios in mode DistributedMode.SINGLE_NODE\n",
      "2024-05-01 06:04:29,024 INFO {/home/ehdykhne/nuplan-devkit/nuplan/planning/script/builders/scenario_building_builder.py:18}  Building AbstractScenarioBuilder...\n",
      "2024-05-01 06:04:29,041 INFO {/home/ehdykhne/nuplan-devkit/nuplan/planning/script/builders/scenario_building_builder.py:21}  Building AbstractScenarioBuilder...DONE!\n",
      "2024-05-01 06:04:29,041 INFO {/home/ehdykhne/nuplan-devkit/nuplan/planning/script/builders/scenario_filter_builder.py:35}  Building ScenarioFilter...\n",
      "2024-05-01 06:04:29,042 INFO {/home/ehdykhne/nuplan-devkit/nuplan/planning/script/builders/scenario_filter_builder.py:44}  Building ScenarioFilter...DONE!\n"
     ]
    },
    {
     "name": "stderr",
     "output_type": "stream",
     "text": [
      "Ray objects: 100%|██████████| 32/32 [00:07<00:00,  4.17it/s]\n",
      "\u001b[2m\u001b[33m(raylet)\u001b[0m [2024-05-01 06:04:38,276 E 143002 143014] (raylet) file_system_monitor.cc:111: /tmp/ray/session_2024-05-01_06-04-26_697255_142690 is over 95% full, available space: 562422562816; capacity: 16125711347712. Object creation will fail if spilling is required.\n",
      "\u001b[2m\u001b[33m(raylet)\u001b[0m [2024-05-01 06:04:48,279 E 143002 143014] (raylet) file_system_monitor.cc:111: /tmp/ray/session_2024-05-01_06-04-26_697255_142690 is over 95% full, available space: 562420236288; capacity: 16125711347712. Object creation will fail if spilling is required.\n",
      "\u001b[2m\u001b[33m(raylet)\u001b[0m [2024-05-01 06:04:58,284 E 143002 143014] (raylet) file_system_monitor.cc:111: /tmp/ray/session_2024-05-01_06-04-26_697255_142690 is over 95% full, available space: 562422550528; capacity: 16125711347712. Object creation will fail if spilling is required.\n",
      "\u001b[2m\u001b[33m(raylet)\u001b[0m [2024-05-01 06:05:08,287 E 143002 143014] (raylet) file_system_monitor.cc:111: /tmp/ray/session_2024-05-01_06-04-26_697255_142690 is over 95% full, available space: 562422546432; capacity: 16125711347712. Object creation will fail if spilling is required.\n",
      "\u001b[2m\u001b[33m(raylet)\u001b[0m [2024-05-01 06:05:18,291 E 143002 143014] (raylet) file_system_monitor.cc:111: /tmp/ray/session_2024-05-01_06-04-26_697255_142690 is over 95% full, available space: 562415751168; capacity: 16125711347712. Object creation will fail if spilling is required.\n",
      "\u001b[2m\u001b[33m(raylet)\u001b[0m [2024-05-01 06:05:28,295 E 143002 143014] (raylet) file_system_monitor.cc:111: /tmp/ray/session_2024-05-01_06-04-26_697255_142690 is over 95% full, available space: 562420654080; capacity: 16125711347712. Object creation will fail if spilling is required.\n",
      "\u001b[2m\u001b[33m(raylet)\u001b[0m [2024-05-01 06:05:38,300 E 143002 143014] (raylet) file_system_monitor.cc:111: /tmp/ray/session_2024-05-01_06-04-26_697255_142690 is over 95% full, available space: 562418569216; capacity: 16125711347712. Object creation will fail if spilling is required.\n",
      "\u001b[2m\u001b[33m(raylet)\u001b[0m [2024-05-01 06:05:48,304 E 143002 143014] (raylet) file_system_monitor.cc:111: /tmp/ray/session_2024-05-01_06-04-26_697255_142690 is over 95% full, available space: 562420473856; capacity: 16125711347712. Object creation will fail if spilling is required.\n",
      "\u001b[2m\u001b[33m(raylet)\u001b[0m [2024-05-01 06:05:58,308 E 143002 143014] (raylet) file_system_monitor.cc:111: /tmp/ray/session_2024-05-01_06-04-26_697255_142690 is over 95% full, available space: 562422382592; capacity: 16125711347712. Object creation will fail if spilling is required.\n",
      "\u001b[2m\u001b[33m(raylet)\u001b[0m [2024-05-01 06:06:08,310 E 143002 143014] (raylet) file_system_monitor.cc:111: /tmp/ray/session_2024-05-01_06-04-26_697255_142690 is over 95% full, available space: 562422374400; capacity: 16125711347712. Object creation will fail if spilling is required.\n",
      "\u001b[2m\u001b[33m(raylet)\u001b[0m [2024-05-01 06:06:18,314 E 143002 143014] (raylet) file_system_monitor.cc:111: /tmp/ray/session_2024-05-01_06-04-26_697255_142690 is over 95% full, available space: 562422366208; capacity: 16125711347712. Object creation will fail if spilling is required.\n",
      "\u001b[2m\u001b[33m(raylet)\u001b[0m [2024-05-01 06:06:28,318 E 143002 143014] (raylet) file_system_monitor.cc:111: /tmp/ray/session_2024-05-01_06-04-26_697255_142690 is over 95% full, available space: 562422337536; capacity: 16125711347712. Object creation will fail if spilling is required.\n",
      "\u001b[2m\u001b[33m(raylet)\u001b[0m [2024-05-01 06:06:38,321 E 143002 143014] (raylet) file_system_monitor.cc:111: /tmp/ray/session_2024-05-01_06-04-26_697255_142690 is over 95% full, available space: 562422329344; capacity: 16125711347712. Object creation will fail if spilling is required.\n",
      "\u001b[2m\u001b[33m(raylet)\u001b[0m [2024-05-01 06:06:48,323 E 143002 143014] (raylet) file_system_monitor.cc:111: /tmp/ray/session_2024-05-01_06-04-26_697255_142690 is over 95% full, available space: 562422329344; capacity: 16125711347712. Object creation will fail if spilling is required.\n",
      "\u001b[2m\u001b[33m(raylet)\u001b[0m [2024-05-01 06:06:58,326 E 143002 143014] (raylet) file_system_monitor.cc:111: /tmp/ray/session_2024-05-01_06-04-26_697255_142690 is over 95% full, available space: 562422325248; capacity: 16125711347712. Object creation will fail if spilling is required.\n",
      "\u001b[2m\u001b[33m(raylet)\u001b[0m [2024-05-01 06:07:08,329 E 143002 143014] (raylet) file_system_monitor.cc:111: /tmp/ray/session_2024-05-01_06-04-26_697255_142690 is over 95% full, available space: 562422325248; capacity: 16125711347712. Object creation will fail if spilling is required.\n",
      "\u001b[2m\u001b[33m(raylet)\u001b[0m [2024-05-01 06:07:18,331 E 143002 143014] (raylet) file_system_monitor.cc:111: /tmp/ray/session_2024-05-01_06-04-26_697255_142690 is over 95% full, available space: 562422317056; capacity: 16125711347712. Object creation will fail if spilling is required.\n",
      "\u001b[2m\u001b[33m(raylet)\u001b[0m [2024-05-01 06:07:28,334 E 143002 143014] (raylet) file_system_monitor.cc:111: /tmp/ray/session_2024-05-01_06-04-26_697255_142690 is over 95% full, available space: 562422292480; capacity: 16125711347712. Object creation will fail if spilling is required.\n",
      "\u001b[2m\u001b[33m(raylet)\u001b[0m [2024-05-01 06:07:38,337 E 143002 143014] (raylet) file_system_monitor.cc:111: /tmp/ray/session_2024-05-01_06-04-26_697255_142690 is over 95% full, available space: 562422161408; capacity: 16125711347712. Object creation will fail if spilling is required.\n",
      "\u001b[2m\u001b[33m(raylet)\u001b[0m [2024-05-01 06:07:48,340 E 143002 143014] (raylet) file_system_monitor.cc:111: /tmp/ray/session_2024-05-01_06-04-26_697255_142690 is over 95% full, available space: 562422157312; capacity: 16125711347712. Object creation will fail if spilling is required.\n"
     ]
    },
    {
     "name": "stdout",
     "output_type": "stream",
     "text": [
      "2024-05-01 06:07:53,029 INFO {/home/ehdykhne/nuplan-devkit/nuplan/planning/script/builders/simulation_builder.py:83}  Building metric engines...\n",
      "2024-05-01 06:07:53,180 INFO {/home/ehdykhne/nuplan-devkit/nuplan/planning/script/builders/simulation_builder.py:85}  Building metric engines...DONE\n",
      "2024-05-01 06:07:53,180 INFO {/home/ehdykhne/nuplan-devkit/nuplan/planning/script/builders/simulation_builder.py:89}  Building simulations from 8789 scenarios...\n"
     ]
    },
    {
     "name": "stderr",
     "output_type": "stream",
     "text": [
      "\u001b[2m\u001b[33m(raylet)\u001b[0m [2024-05-01 06:07:58,342 E 143002 143014] (raylet) file_system_monitor.cc:111: /tmp/ray/session_2024-05-01_06-04-26_697255_142690 is over 95% full, available space: 562422153216; capacity: 16125711347712. Object creation will fail if spilling is required.\n",
      "\u001b[2m\u001b[33m(raylet)\u001b[0m [2024-05-01 06:08:08,345 E 143002 143014] (raylet) file_system_monitor.cc:111: /tmp/ray/session_2024-05-01_06-04-26_697255_142690 is over 95% full, available space: 562422149120; capacity: 16125711347712. Object creation will fail if spilling is required.\n",
      "\u001b[2m\u001b[33m(raylet)\u001b[0m [2024-05-01 06:08:18,348 E 143002 143014] (raylet) file_system_monitor.cc:111: /tmp/ray/session_2024-05-01_06-04-26_697255_142690 is over 95% full, available space: 562422149120; capacity: 16125711347712. Object creation will fail if spilling is required.\n",
      "\u001b[2m\u001b[33m(raylet)\u001b[0m [2024-05-01 06:08:28,351 E 143002 143014] (raylet) file_system_monitor.cc:111: /tmp/ray/session_2024-05-01_06-04-26_697255_142690 is over 95% full, available space: 562422124544; capacity: 16125711347712. Object creation will fail if spilling is required.\n",
      "\u001b[2m\u001b[33m(raylet)\u001b[0m [2024-05-01 06:08:38,354 E 143002 143014] (raylet) file_system_monitor.cc:111: /tmp/ray/session_2024-05-01_06-04-26_697255_142690 is over 95% full, available space: 562422116352; capacity: 16125711347712. Object creation will fail if spilling is required.\n",
      "\u001b[2m\u001b[33m(raylet)\u001b[0m [2024-05-01 06:08:48,356 E 143002 143014] (raylet) file_system_monitor.cc:111: /tmp/ray/session_2024-05-01_06-04-26_697255_142690 is over 95% full, available space: 562422112256; capacity: 16125711347712. Object creation will fail if spilling is required.\n",
      "\u001b[2m\u001b[33m(raylet)\u001b[0m [2024-05-01 06:08:58,359 E 143002 143014] (raylet) file_system_monitor.cc:111: /tmp/ray/session_2024-05-01_06-04-26_697255_142690 is over 95% full, available space: 562422108160; capacity: 16125711347712. Object creation will fail if spilling is required.\n",
      "\u001b[2m\u001b[33m(raylet)\u001b[0m [2024-05-01 06:09:08,362 E 143002 143014] (raylet) file_system_monitor.cc:111: /tmp/ray/session_2024-05-01_06-04-26_697255_142690 is over 95% full, available space: 562422108160; capacity: 16125711347712. Object creation will fail if spilling is required.\n",
      "\u001b[2m\u001b[33m(raylet)\u001b[0m [2024-05-01 06:09:18,365 E 143002 143014] (raylet) file_system_monitor.cc:111: /tmp/ray/session_2024-05-01_06-04-26_697255_142690 is over 95% full, available space: 562422099968; capacity: 16125711347712. Object creation will fail if spilling is required.\n",
      "\u001b[2m\u001b[33m(raylet)\u001b[0m [2024-05-01 06:09:28,368 E 143002 143014] (raylet) file_system_monitor.cc:111: /tmp/ray/session_2024-05-01_06-04-26_697255_142690 is over 95% full, available space: 562422075392; capacity: 16125711347712. Object creation will fail if spilling is required.\n",
      "\u001b[2m\u001b[33m(raylet)\u001b[0m [2024-05-01 06:09:38,371 E 143002 143014] (raylet) file_system_monitor.cc:111: /tmp/ray/session_2024-05-01_06-04-26_697255_142690 is over 95% full, available space: 562421927936; capacity: 16125711347712. Object creation will fail if spilling is required.\n"
     ]
    },
    {
     "name": "stdout",
     "output_type": "stream",
     "text": [
      "2024-05-01 06:09:42,627 INFO {/home/ehdykhne/nuplan-devkit/nuplan/planning/script/builders/simulation_builder.py:151}  Modyfing Scenarios...\n",
      "[\n",
      "\t'17a1b01f3ae45487',\n",
      "\t'694b93d17f1355be',\n",
      "\t'b0646a16830258a6',\n",
      "\t'c6492065deb75fa1',\n",
      "\t'ea29f4aa6dd2598c',\n",
      "\t'ec5653d7ba5a5464'\n",
      "]\n",
      "2024-05-01 06:09:42,714 INFO {/home/ehdykhne/nuplan-devkit/nuplan/planning/script/builders/simulation_builder.py:206}  Created 7 modified scenarios from 8789 scenarios, 6 of which were modifiable.\n",
      "2024-05-01 06:09:42,714 INFO {/home/ehdykhne/nuplan-devkit/nuplan/planning/script/builders/simulation_builder.py:207}  Building simulations...DONE!\n",
      "2024-05-01 06:09:42,714 INFO {/home/ehdykhne/nuplan-devkit/nuplan/planning/script/run_simulation.py:113}  Running simulation...\n",
      "2024-05-01 06:09:42,714 INFO {/home/ehdykhne/nuplan-devkit/nuplan/planning/script/utils.py:138}  Executing runners...\n",
      "2024-05-01 06:09:42,714 INFO {/home/ehdykhne/nuplan-devkit/nuplan/planning/simulation/runner/executor.py:82}  Starting 7 simulations using RayDistributed!\n"
     ]
    },
    {
     "name": "stderr",
     "output_type": "stream",
     "text": [
      "Ray objects:   0%|          | 0/7 [00:00<?, ?it/s]\u001b[2m\u001b[33m(raylet)\u001b[0m [2024-05-01 06:09:48,375 E 143002 143014] (raylet) file_system_monitor.cc:111: /tmp/ray/session_2024-05-01_06-04-26_697255_142690 is over 95% full, available space: 562421854208; capacity: 16125711347712. Object creation will fail if spilling is required.\n",
      "\u001b[2m\u001b[33m(raylet)\u001b[0m [2024-05-01 06:09:58,380 E 143002 143014] (raylet) file_system_monitor.cc:111: /tmp/ray/session_2024-05-01_06-04-26_697255_142690 is over 95% full, available space: 562421846016; capacity: 16125711347712. Object creation will fail if spilling is required.\n",
      "\u001b[2m\u001b[33m(raylet)\u001b[0m [2024-05-01 06:10:08,385 E 143002 143014] (raylet) file_system_monitor.cc:111: /tmp/ray/session_2024-05-01_06-04-26_697255_142690 is over 95% full, available space: 562421837824; capacity: 16125711347712. Object creation will fail if spilling is required.\n",
      "\u001b[2m\u001b[33m(raylet)\u001b[0m [2024-05-01 06:10:18,389 E 143002 143014] (raylet) file_system_monitor.cc:111: /tmp/ray/session_2024-05-01_06-04-26_697255_142690 is over 95% full, available space: 562421817344; capacity: 16125711347712. Object creation will fail if spilling is required.\n",
      "\u001b[2m\u001b[33m(raylet)\u001b[0m [2024-05-01 06:10:28,395 E 143002 143014] (raylet) file_system_monitor.cc:111: /tmp/ray/session_2024-05-01_06-04-26_697255_142690 is over 95% full, available space: 562421702656; capacity: 16125711347712. Object creation will fail if spilling is required.\n",
      "Ray objects:  71%|███████▏  | 5/7 [00:54<00:12,  6.04s/it]\u001b[2m\u001b[33m(raylet)\u001b[0m [2024-05-01 06:10:38,400 E 143002 143014] (raylet) file_system_monitor.cc:111: /tmp/ray/session_2024-05-01_06-04-26_697255_142690 is over 95% full, available space: 562352377856; capacity: 16125711347712. Object creation will fail if spilling is required.\n",
      "\u001b[2m\u001b[33m(raylet)\u001b[0m [2024-05-01 06:10:48,405 E 143002 143014] (raylet) file_system_monitor.cc:111: /tmp/ray/session_2024-05-01_06-04-26_697255_142690 is over 95% full, available space: 562352238592; capacity: 16125711347712. Object creation will fail if spilling is required.\n",
      "Ray objects: 100%|██████████| 7/7 [01:08<00:00,  9.78s/it]\n"
     ]
    },
    {
     "name": "stdout",
     "output_type": "stream",
     "text": [
      "2024-05-01 06:10:51,214 INFO {/home/ehdykhne/nuplan-devkit/nuplan/planning/simulation/runner/executor.py:129}  Number of successful simulations: 7\n",
      "2024-05-01 06:10:51,214 INFO {/home/ehdykhne/nuplan-devkit/nuplan/planning/simulation/runner/executor.py:130}  Number of failed simulations: 0\n",
      "2024-05-01 06:10:51,214 INFO {/home/ehdykhne/nuplan-devkit/nuplan/planning/script/utils.py:147}  Finished executing runners!\n",
      "2024-05-01 06:10:51,249 INFO {/home/ehdykhne/nuplan-devkit/nuplan/planning/script/utils.py:74}  Saved runner reports to ../../data/nuplan/exp/exp/simulation/closed_loop_multiagent/2024.05.01.06.04.26/runner_report.parquet\n",
      "2024-05-01 06:10:51,249 INFO {/home/ehdykhne/nuplan-devkit/nuplan/planning/simulation/main_callback/time_callback.py:27}  Simulation duration: 00:06:24 [HH:MM:SS]\n",
      "2024-05-01 06:10:51,388 INFO {/home/ehdykhne/nuplan-devkit/nuplan/planning/simulation/main_callback/metric_file_callback.py:79}  Metric files integration: 00:00:00 [HH:MM:SS]\n",
      "2024-05-01 06:10:51,452 INFO {/home/ehdykhne/nuplan-devkit/nuplan/planning/simulation/main_callback/metric_aggregator_callback.py:58}  Running metric aggregator: closed_loop_multiagent_weighted_average\n",
      "2024-05-01 06:10:51,470 INFO {/home/ehdykhne/nuplan-devkit/nuplan/planning/simulation/main_callback/metric_aggregator_callback.py:69}  Metric aggregator: 00:00:00 [HH:MM:SS]\n",
      "2024-05-01 06:10:51,566 INFO {/home/ehdykhne/nuplan-devkit/nuplan/planning/simulation/main_callback/metric_summary_callback.py:344}  Metric summary: 00:00:00 [HH:MM:SS]\n",
      "2024-05-01 06:10:51,566 INFO {/home/ehdykhne/nuplan-devkit/nuplan/planning/script/run_simulation.py:115}  Finished running simulation!\n"
     ]
    }
   ],
   "source": [
    "# Run the simulation loop (real-time visualization not yet supported, see next section for visualization)\n",
    "main_simulation(cfg_occ)"
   ]
  },
  {
   "cell_type": "code",
   "execution_count": 9,
   "metadata": {},
   "outputs": [
    {
     "data": {
      "image/png": "[encoded data removed]",
      "text/plain": [
       "<Figure size 640x480 with 2 Axes>"
      ]
     },
     "metadata": {},
     "output_type": "display_data"
    }
   ],
   "source": [
    "import numpy as np\n",
    "import pandas as pd\n",
    "import matplotlib.pyplot as plt\n",
    "import seaborn as sns\n",
    "from vis_utils import circular_hist\n",
    "\n",
    "%matplotlib inline\n",
    "\n",
    "# # seq\n",
    "# output_folder_occ_s = (\n",
    "#     \"../../data/nuplan/exp/exp/simulation/closed_loop_multiagent/2024.04.26.07.27.19\"\n",
    "# )\n",
    "# #cross\n",
    "# output_folder_occ_c = (\n",
    "#     \"../../data/nuplan/exp/exp/simulation/closed_loop_multiagent/2024.04.26.07.37.26\"\n",
    "# )\n",
    "# #merge\n",
    "# output_folder_occ_m = (\n",
    "#   \"../../data/nuplan/exp/exp/simulation/closed_loop_multiagent/2024.04.26.07.42.37\"\n",
    "# )\n",
    "# #diverge\n",
    "# output_folder_occ_d = (\n",
    "#   \"../../data/nuplan/exp/exp/simulation/closed_loop_multiagent/2024.04.26.07.45.40\"\n",
    "# )\n",
    "\n",
    "file_path = output_folder_occ + \"/metrics/\" + \"no_ego_at_fault_collisions.parquet\"\n",
    "df = pd.read_parquet(file_path)\n",
    "relative_angles_of_impact_df = df[\n",
    "    \"relative_impact_angle_at_first_ego_collision_with_vehicles_stat_value\"\n",
    "]\n",
    "relative_angles_of_impact = relative_angles_of_impact_df.to_numpy()\n",
    "\n",
    "# fig, ax = plt.subplots(1, 2)\n",
    "# fig.tight_layout()\n",
    "figp, axp = plt.subplots(1, 2, subplot_kw=dict(projection=\"polar\"))\n",
    "figp.tight_layout()\n",
    "\n",
    "# Visualise by area of bins\n",
    "circular_hist(\n",
    "    axp[0],\n",
    "    relative_angles_of_impact,\n",
    "    bins=8,\n",
    "    density=True,\n",
    "    offset=np.pi / 2,\n",
    "    gaps=False,\n",
    ")\n",
    "\n",
    "circular_hist(\n",
    "    axp[1],\n",
    "    relative_angles_of_impact,\n",
    "    bins=8,\n",
    "    density=False,\n",
    "    offset=np.pi / 2,\n",
    "    gaps=False,\n",
    ")\n",
    "\n",
    "\n",
    "axp[0].title.set_text(\"Relative Impact Angles (Area Density)\")\n",
    "axp[1].title.set_text(\"Relative Impact Angles (Count)\")"
   ]
  },
  {
   "cell_type": "code",
   "execution_count": 10,
   "metadata": {},
   "outputs": [
    {
     "name": "stdout",
     "output_type": "stream",
     "text": [
      "num :  1\n"
     ]
    }
   ],
   "source": [
    "path = output_folder_occ + \"/metrics/\"\n",
    "file_path_1 = path + \"no_ego_at_fault_collisions.parquet\"\n",
    "df = pd.read_parquet(file_path_1)\n",
    "df = df.loc[df[\"number_of_ego_collisions_with_vehicles_stat_value\"] != 0]\n",
    "df = df[\"scenario_name\"]\n",
    "\n",
    "\n",
    "scenario_list = df.tolist()\n",
    "print(\"num : \", len(scenario_list))"
   ]
  },
  {
   "cell_type": "code",
   "execution_count": 11,
   "metadata": {},
   "outputs": [
    {
     "name": "stdout",
     "output_type": "stream",
     "text": [
      "../../data/nuplan/exp/exp/simulation/closed_loop_multiagent/2024.05.01.06.04.26\n",
      "val\n"
     ]
    }
   ],
   "source": [
    "import re\n",
    "\n",
    "output_folder = [output_folder_occ]\n",
    "\n",
    "print(output_folder_occ)\n",
    "\n",
    "CONFIG_PATH = \"../nuplan/planning/script/config/nuboard\"\n",
    "CONFIG_NAME = \"default_nuboard\"\n",
    "\n",
    "# Initialize configuration management system\n",
    "hydra.core.global_hydra.GlobalHydra.instance().clear()  # reinitialize hydra if already initialized\n",
    "hydra.initialize(config_path=CONFIG_PATH)\n",
    "scenario_builder = None\n",
    "for item in DATASET_PARAMS:\n",
    "    parts = re.split(\"=\", item, 1)\n",
    "    if parts[0] == \"scenario_builder\":\n",
    "        scenario_builder = parts[1]\n",
    "if scenario_builder is None:\n",
    "    raise ValueError(\"scenario_builder not specified in the dataset parameters\")\n",
    "print(scenario_builder)\n",
    "# Compose the configuration\n",
    "cfg = hydra.compose(\n",
    "    config_name=CONFIG_NAME,\n",
    "    overrides=[\n",
    "        f\"scenario_builder={scenario_builder}\",  # set the database (same as simulation) used to fetch data for visualization\n",
    "        f\"simulation_path={output_folder}\",  # [output_folder, output_folder_alt] nuboard file path(s), if left empty the user can open the file inside nuBoard\n",
    "    ],\n",
    ")"
   ]
  },
  {
   "cell_type": "markdown",
   "metadata": {},
   "source": [
    "### Launch NuBoard"
   ]
  },
  {
   "cell_type": "code",
   "execution_count": 12,
   "metadata": {},
   "outputs": [
    {
     "name": "stdout",
     "output_type": "stream",
     "text": [
      "2024-05-01 06:10:52,260 INFO {/home/ehdykhne/nuplan-devkit/nuplan/planning/script/builders/scenario_building_builder.py:18}  Building AbstractScenarioBuilder...\n",
      "2024-05-01 06:10:52,278 INFO {/home/ehdykhne/nuplan-devkit/nuplan/planning/script/builders/scenario_building_builder.py:21}  Building AbstractScenarioBuilder...DONE!\n",
      "2024-05-01 06:10:52,279 INFO {/home/ehdykhne/nuplan-devkit/nuplan/planning/nuboard/nuboard.py:84}  Opening Bokeh application on http://localhost:5006/\n",
      "2024-05-01 06:10:52,279 INFO {/home/ehdykhne/nuplan-devkit/nuplan/planning/nuboard/nuboard.py:85}  Async rendering is set to: True\n",
      "2024-05-01 06:10:52,279 INFO {/home/ehdykhne/miniconda3/envs/nuplan/lib/python3.9/site-packages/bokeh/server/server.py:403}  Starting Bokeh server version 2.4.3 (running on Tornado 6.3.3)\n",
      "2024-05-01 06:10:52,279 WARNING {/home/ehdykhne/miniconda3/envs/nuplan/lib/python3.9/site-packages/bokeh/server/util.py:145}  Host wildcard '*' will allow connections originating from multiple (or possibly all) hostnames or IPs. Use non-wildcard values to restrict access explicitly\n",
      "2024-05-01 06:10:52,280 INFO {/home/ehdykhne/miniconda3/envs/nuplan/lib/python3.9/site-packages/bokeh/server/tornado.py:360}  User authentication hooks NOT provided (default user enabled)\n",
      "2024-05-01 06:10:53,044 INFO {/home/ehdykhne/nuplan-devkit/nuplan/planning/nuboard/base/simulation_tile.py:172}  Minimum frame time=0.017 s\n",
      "2024-05-01 06:10:53,051 INFO {/home/ehdykhne/nuplan-devkit/nuplan/planning/nuboard/tabs/scenario_tab.py:485}  Rending scenario plot takes 0.0005 seconds.\n",
      "2024-05-01 06:10:53,150 INFO {/home/ehdykhne/miniconda3/envs/nuplan/lib/python3.9/site-packages/tornado/web.py:2344}  200 GET / (127.0.0.1) 234.41ms\n"
     ]
    },
    {
     "name": "stderr",
     "output_type": "stream",
     "text": [
      "INFO:tornado.access:200 GET / (127.0.0.1) 234.41ms\n"
     ]
    },
    {
     "name": "stdout",
     "output_type": "stream",
     "text": [
      "2024-05-01 06:10:53,831 INFO {/home/ehdykhne/miniconda3/envs/nuplan/lib/python3.9/site-packages/tornado/web.py:2344}  101 GET /ws (127.0.0.1) 0.51ms\n",
      "2024-05-01 06:10:53,831 INFO {/home/ehdykhne/miniconda3/envs/nuplan/lib/python3.9/site-packages/bokeh/server/views/ws.py:132}  WebSocket connection opened\n",
      "2024-05-01 06:10:53,832 INFO {/home/ehdykhne/miniconda3/envs/nuplan/lib/python3.9/site-packages/bokeh/server/views/ws.py:213}  ServerConnection created\n"
     ]
    },
    {
     "name": "stderr",
     "output_type": "stream",
     "text": [
      "INFO:tornado.access:101 GET /ws (127.0.0.1) 0.51ms\n"
     ]
    },
    {
     "name": "stdout",
     "output_type": "stream",
     "text": [
      "2024-05-01 06:10:54,324 INFO {/home/ehdykhne/nuplan-devkit/nuplan/planning/nuboard/base/simulation_tile.py:172}  Minimum frame time=0.017 s\n",
      "2024-05-01 06:10:54,330 INFO {/home/ehdykhne/nuplan-devkit/nuplan/planning/nuboard/tabs/scenario_tab.py:485}  Rending scenario plot takes 0.0005 seconds.\n",
      "2024-05-01 06:10:54,421 INFO {/home/ehdykhne/miniconda3/envs/nuplan/lib/python3.9/site-packages/tornado/web.py:2344}  200 GET / (127.0.0.1) 217.86ms\n"
     ]
    },
    {
     "name": "stderr",
     "output_type": "stream",
     "text": [
      "INFO:tornado.access:200 GET / (127.0.0.1) 217.86ms\n",
      "\u001b[2m\u001b[33m(raylet)\u001b[0m [2024-05-01 06:10:58,408 E 143002 143014] (raylet) file_system_monitor.cc:111: /tmp/ray/session_2024-05-01_06-04-26_697255_142690 is over 95% full, available space: 562318438400; capacity: 16125711347712. Object creation will fail if spilling is required.\n",
      "\u001b[2m\u001b[33m(raylet)\u001b[0m [2024-05-01 06:11:08,410 E 143002 143014] (raylet) file_system_monitor.cc:111: /tmp/ray/session_2024-05-01_06-04-26_697255_142690 is over 95% full, available space: 562318430208; capacity: 16125711347712. Object creation will fail if spilling is required.\n",
      "\u001b[2m\u001b[33m(raylet)\u001b[0m [2024-05-01 06:11:18,412 E 143002 143014] (raylet) file_system_monitor.cc:111: /tmp/ray/session_2024-05-01_06-04-26_697255_142690 is over 95% full, available space: 562318430208; capacity: 16125711347712. Object creation will fail if spilling is required.\n",
      "\u001b[2m\u001b[33m(raylet)\u001b[0m [2024-05-01 06:11:28,415 E 143002 143014] (raylet) file_system_monitor.cc:111: /tmp/ray/session_2024-05-01_06-04-26_697255_142690 is over 95% full, available space: 562318397440; capacity: 16125711347712. Object creation will fail if spilling is required.\n",
      "\u001b[2m\u001b[33m(raylet)\u001b[0m [2024-05-01 06:11:38,418 E 143002 143014] (raylet) file_system_monitor.cc:111: /tmp/ray/session_2024-05-01_06-04-26_697255_142690 is over 95% full, available space: 562318131200; capacity: 16125711347712. Object creation will fail if spilling is required.\n",
      "\u001b[2m\u001b[33m(raylet)\u001b[0m [2024-05-01 06:11:48,420 E 143002 143014] (raylet) file_system_monitor.cc:111: /tmp/ray/session_2024-05-01_06-04-26_697255_142690 is over 95% full, available space: 562318131200; capacity: 16125711347712. Object creation will fail if spilling is required.\n",
      "\u001b[2m\u001b[33m(raylet)\u001b[0m [2024-05-01 06:11:58,422 E 143002 143014] (raylet) file_system_monitor.cc:111: /tmp/ray/session_2024-05-01_06-04-26_697255_142690 is over 95% full, available space: 562318127104; capacity: 16125711347712. Object creation will fail if spilling is required.\n",
      "\u001b[2m\u001b[33m(raylet)\u001b[0m [2024-05-01 06:12:08,425 E 143002 143014] (raylet) file_system_monitor.cc:111: /tmp/ray/session_2024-05-01_06-04-26_697255_142690 is over 95% full, available space: 562318127104; capacity: 16125711347712. Object creation will fail if spilling is required.\n",
      "\u001b[2m\u001b[33m(raylet)\u001b[0m [2024-05-01 06:12:18,427 E 143002 143014] (raylet) file_system_monitor.cc:111: /tmp/ray/session_2024-05-01_06-04-26_697255_142690 is over 95% full, available space: 562318123008; capacity: 16125711347712. Object creation will fail if spilling is required.\n",
      "\u001b[2m\u001b[33m(raylet)\u001b[0m [2024-05-01 06:12:28,430 E 143002 143014] (raylet) file_system_monitor.cc:111: /tmp/ray/session_2024-05-01_06-04-26_697255_142690 is over 95% full, available space: 562318094336; capacity: 16125711347712. Object creation will fail if spilling is required.\n",
      "\u001b[2m\u001b[33m(raylet)\u001b[0m [2024-05-01 06:12:38,436 E 143002 143014] (raylet) file_system_monitor.cc:111: /tmp/ray/session_2024-05-01_06-04-26_697255_142690 is over 95% full, available space: 562318086144; capacity: 16125711347712. Object creation will fail if spilling is required.\n"
     ]
    },
    {
     "ename": "KeyboardInterrupt",
     "evalue": "",
     "output_type": "error",
     "traceback": [
      "\u001b[0;31m---------------------------------------------------------------------------\u001b[0m",
      "\u001b[0;31mKeyboardInterrupt\u001b[0m                         Traceback (most recent call last)",
      "Cell \u001b[0;32mIn[12], line 4\u001b[0m\n\u001b[1;32m      1\u001b[0m \u001b[38;5;28;01mfrom\u001b[39;00m \u001b[38;5;21;01mnuplan\u001b[39;00m\u001b[38;5;21;01m.\u001b[39;00m\u001b[38;5;21;01mplanning\u001b[39;00m\u001b[38;5;21;01m.\u001b[39;00m\u001b[38;5;21;01mscript\u001b[39;00m\u001b[38;5;21;01m.\u001b[39;00m\u001b[38;5;21;01mrun_nuboard\u001b[39;00m \u001b[38;5;28;01mimport\u001b[39;00m main \u001b[38;5;28;01mas\u001b[39;00m main_nuboard\n\u001b[1;32m      3\u001b[0m \u001b[38;5;66;03m# Run nuBoard\u001b[39;00m\n\u001b[0;32m----> 4\u001b[0m \u001b[43mmain_nuboard\u001b[49m\u001b[43m(\u001b[49m\u001b[43mcfg\u001b[49m\u001b[43m)\u001b[49m\n",
      "File \u001b[0;32m~/miniconda3/envs/nuplan/lib/python3.9/site-packages/hydra/main.py:44\u001b[0m, in \u001b[0;36mmain.<locals>.main_decorator.<locals>.decorated_main\u001b[0;34m(cfg_passthrough)\u001b[0m\n\u001b[1;32m     41\u001b[0m \u001b[38;5;129m@functools\u001b[39m\u001b[38;5;241m.\u001b[39mwraps(task_function)\n\u001b[1;32m     42\u001b[0m \u001b[38;5;28;01mdef\u001b[39;00m \u001b[38;5;21mdecorated_main\u001b[39m(cfg_passthrough: Optional[DictConfig] \u001b[38;5;241m=\u001b[39m \u001b[38;5;28;01mNone\u001b[39;00m) \u001b[38;5;241m-\u001b[39m\u001b[38;5;241m>\u001b[39m Any:\n\u001b[1;32m     43\u001b[0m     \u001b[38;5;28;01mif\u001b[39;00m cfg_passthrough \u001b[38;5;129;01mis\u001b[39;00m \u001b[38;5;129;01mnot\u001b[39;00m \u001b[38;5;28;01mNone\u001b[39;00m:\n\u001b[0;32m---> 44\u001b[0m         \u001b[38;5;28;01mreturn\u001b[39;00m \u001b[43mtask_function\u001b[49m\u001b[43m(\u001b[49m\u001b[43mcfg_passthrough\u001b[49m\u001b[43m)\u001b[49m\n\u001b[1;32m     45\u001b[0m     \u001b[38;5;28;01melse\u001b[39;00m:\n\u001b[1;32m     46\u001b[0m         args \u001b[38;5;241m=\u001b[39m get_args_parser()\n",
      "File \u001b[0;32m~/nuplan-devkit/nuplan/planning/script/run_nuboard.py:74\u001b[0m, in \u001b[0;36mmain\u001b[0;34m(cfg)\u001b[0m\n\u001b[1;32m     69\u001b[0m \u001b[38;5;250m\u001b[39m\u001b[38;5;124;03m\"\"\"\u001b[39;00m\n\u001b[1;32m     70\u001b[0m \u001b[38;5;124;03mExecute all available challenges simultaneously on the same scenario.\u001b[39;00m\n\u001b[1;32m     71\u001b[0m \u001b[38;5;124;03m:param cfg: DictConfig. Configuration that is used to run the experiment.\u001b[39;00m\n\u001b[1;32m     72\u001b[0m \u001b[38;5;124;03m\"\"\"\u001b[39;00m\n\u001b[1;32m     73\u001b[0m nuboard \u001b[38;5;241m=\u001b[39m initialize_nuboard(cfg)\n\u001b[0;32m---> 74\u001b[0m \u001b[43mnuboard\u001b[49m\u001b[38;5;241;43m.\u001b[39;49m\u001b[43mrun\u001b[49m\u001b[43m(\u001b[49m\u001b[43m)\u001b[49m\n",
      "File \u001b[0;32m~/nuplan-devkit/nuplan/planning/nuboard/nuboard.py:112\u001b[0m, in \u001b[0;36mNuBoard.run\u001b[0;34m(self)\u001b[0m\n\u001b[1;32m    110\u001b[0m \u001b[38;5;66;03m# Catch RuntimeError in jupyter notebook\u001b[39;00m\n\u001b[1;32m    111\u001b[0m \u001b[38;5;28;01mtry\u001b[39;00m:\n\u001b[0;32m--> 112\u001b[0m     \u001b[43mio_loop\u001b[49m\u001b[38;5;241;43m.\u001b[39;49m\u001b[43mstart\u001b[49m\u001b[43m(\u001b[49m\u001b[43m)\u001b[49m\n\u001b[1;32m    113\u001b[0m \u001b[38;5;28;01mexcept\u001b[39;00m \u001b[38;5;167;01mRuntimeError\u001b[39;00m \u001b[38;5;28;01mas\u001b[39;00m e:\n\u001b[1;32m    114\u001b[0m     logger\u001b[38;5;241m.\u001b[39mwarning(\u001b[38;5;124mf\u001b[39m\u001b[38;5;124m\"\u001b[39m\u001b[38;5;132;01m{\u001b[39;00me\u001b[38;5;132;01m}\u001b[39;00m\u001b[38;5;124m\"\u001b[39m)\n",
      "File \u001b[0;32m~/miniconda3/envs/nuplan/lib/python3.9/site-packages/tornado/platform/asyncio.py:195\u001b[0m, in \u001b[0;36mBaseAsyncIOLoop.start\u001b[0;34m(self)\u001b[0m\n\u001b[1;32m    194\u001b[0m \u001b[38;5;28;01mdef\u001b[39;00m \u001b[38;5;21mstart\u001b[39m(\u001b[38;5;28mself\u001b[39m) \u001b[38;5;241m-\u001b[39m\u001b[38;5;241m>\u001b[39m \u001b[38;5;28;01mNone\u001b[39;00m:\n\u001b[0;32m--> 195\u001b[0m     \u001b[38;5;28;43mself\u001b[39;49m\u001b[38;5;241;43m.\u001b[39;49m\u001b[43masyncio_loop\u001b[49m\u001b[38;5;241;43m.\u001b[39;49m\u001b[43mrun_forever\u001b[49m\u001b[43m(\u001b[49m\u001b[43m)\u001b[49m\n",
      "File \u001b[0;32m~/miniconda3/envs/nuplan/lib/python3.9/site-packages/nest_asyncio.py:82\u001b[0m, in \u001b[0;36m_patch_loop.<locals>.run_forever\u001b[0;34m(self)\u001b[0m\n\u001b[1;32m     80\u001b[0m \u001b[38;5;28;01mwith\u001b[39;00m manage_run(\u001b[38;5;28mself\u001b[39m), manage_asyncgens(\u001b[38;5;28mself\u001b[39m):\n\u001b[1;32m     81\u001b[0m     \u001b[38;5;28;01mwhile\u001b[39;00m \u001b[38;5;28;01mTrue\u001b[39;00m:\n\u001b[0;32m---> 82\u001b[0m         \u001b[38;5;28;43mself\u001b[39;49m\u001b[38;5;241;43m.\u001b[39;49m\u001b[43m_run_once\u001b[49m\u001b[43m(\u001b[49m\u001b[43m)\u001b[49m\n\u001b[1;32m     83\u001b[0m         \u001b[38;5;28;01mif\u001b[39;00m \u001b[38;5;28mself\u001b[39m\u001b[38;5;241m.\u001b[39m_stopping:\n\u001b[1;32m     84\u001b[0m             \u001b[38;5;28;01mbreak\u001b[39;00m\n",
      "File \u001b[0;32m~/miniconda3/envs/nuplan/lib/python3.9/site-packages/nest_asyncio.py:116\u001b[0m, in \u001b[0;36m_patch_loop.<locals>._run_once\u001b[0;34m(self)\u001b[0m\n\u001b[1;32m    109\u001b[0m     heappop(scheduled)\n\u001b[1;32m    111\u001b[0m timeout \u001b[38;5;241m=\u001b[39m (\n\u001b[1;32m    112\u001b[0m     \u001b[38;5;241m0\u001b[39m \u001b[38;5;28;01mif\u001b[39;00m ready \u001b[38;5;129;01mor\u001b[39;00m \u001b[38;5;28mself\u001b[39m\u001b[38;5;241m.\u001b[39m_stopping\n\u001b[1;32m    113\u001b[0m     \u001b[38;5;28;01melse\u001b[39;00m \u001b[38;5;28mmin\u001b[39m(\u001b[38;5;28mmax\u001b[39m(\n\u001b[1;32m    114\u001b[0m         scheduled[\u001b[38;5;241m0\u001b[39m]\u001b[38;5;241m.\u001b[39m_when \u001b[38;5;241m-\u001b[39m \u001b[38;5;28mself\u001b[39m\u001b[38;5;241m.\u001b[39mtime(), \u001b[38;5;241m0\u001b[39m), \u001b[38;5;241m86400\u001b[39m) \u001b[38;5;28;01mif\u001b[39;00m scheduled\n\u001b[1;32m    115\u001b[0m     \u001b[38;5;28;01melse\u001b[39;00m \u001b[38;5;28;01mNone\u001b[39;00m)\n\u001b[0;32m--> 116\u001b[0m event_list \u001b[38;5;241m=\u001b[39m \u001b[38;5;28;43mself\u001b[39;49m\u001b[38;5;241;43m.\u001b[39;49m\u001b[43m_selector\u001b[49m\u001b[38;5;241;43m.\u001b[39;49m\u001b[43mselect\u001b[49m\u001b[43m(\u001b[49m\u001b[43mtimeout\u001b[49m\u001b[43m)\u001b[49m\n\u001b[1;32m    117\u001b[0m \u001b[38;5;28mself\u001b[39m\u001b[38;5;241m.\u001b[39m_process_events(event_list)\n\u001b[1;32m    119\u001b[0m end_time \u001b[38;5;241m=\u001b[39m \u001b[38;5;28mself\u001b[39m\u001b[38;5;241m.\u001b[39mtime() \u001b[38;5;241m+\u001b[39m \u001b[38;5;28mself\u001b[39m\u001b[38;5;241m.\u001b[39m_clock_resolution\n",
      "File \u001b[0;32m~/miniconda3/envs/nuplan/lib/python3.9/selectors.py:469\u001b[0m, in \u001b[0;36mEpollSelector.select\u001b[0;34m(self, timeout)\u001b[0m\n\u001b[1;32m    467\u001b[0m ready \u001b[38;5;241m=\u001b[39m []\n\u001b[1;32m    468\u001b[0m \u001b[38;5;28;01mtry\u001b[39;00m:\n\u001b[0;32m--> 469\u001b[0m     fd_event_list \u001b[38;5;241m=\u001b[39m \u001b[38;5;28;43mself\u001b[39;49m\u001b[38;5;241;43m.\u001b[39;49m\u001b[43m_selector\u001b[49m\u001b[38;5;241;43m.\u001b[39;49m\u001b[43mpoll\u001b[49m\u001b[43m(\u001b[49m\u001b[43mtimeout\u001b[49m\u001b[43m,\u001b[49m\u001b[43m \u001b[49m\u001b[43mmax_ev\u001b[49m\u001b[43m)\u001b[49m\n\u001b[1;32m    470\u001b[0m \u001b[38;5;28;01mexcept\u001b[39;00m \u001b[38;5;167;01mInterruptedError\u001b[39;00m:\n\u001b[1;32m    471\u001b[0m     \u001b[38;5;28;01mreturn\u001b[39;00m ready\n",
      "\u001b[0;31mKeyboardInterrupt\u001b[0m: "
     ]
    },
    {
     "name": "stderr",
     "output_type": "stream",
     "text": [
      "\u001b[2m\u001b[33m(raylet)\u001b[0m [2024-05-01 06:12:48,444 E 143002 143014] (raylet) file_system_monitor.cc:111: /tmp/ray/session_2024-05-01_06-04-26_697255_142690 is over 95% full, available space: 562317869056; capacity: 16125711347712. Object creation will fail if spilling is required.\n",
      "\u001b[2m\u001b[33m(raylet)\u001b[0m [2024-05-01 06:12:58,449 E 143002 143014] (raylet) file_system_monitor.cc:111: /tmp/ray/session_2024-05-01_06-04-26_697255_142690 is over 95% full, available space: 562317004800; capacity: 16125711347712. Object creation will fail if spilling is required.\n",
      "\u001b[2m\u001b[33m(raylet)\u001b[0m [2024-05-01 06:13:08,453 E 143002 143014] (raylet) file_system_monitor.cc:111: /tmp/ray/session_2024-05-01_06-04-26_697255_142690 is over 95% full, available space: 562316976128; capacity: 16125711347712. Object creation will fail if spilling is required.\n",
      "\u001b[2m\u001b[33m(raylet)\u001b[0m [2024-05-01 06:13:18,455 E 143002 143014] (raylet) file_system_monitor.cc:111: /tmp/ray/session_2024-05-01_06-04-26_697255_142690 is over 95% full, available space: 562316963840; capacity: 16125711347712. Object creation will fail if spilling is required.\n",
      "\u001b[2m\u001b[33m(raylet)\u001b[0m [2024-05-01 06:13:28,459 E 143002 143014] (raylet) file_system_monitor.cc:111: /tmp/ray/session_2024-05-01_06-04-26_697255_142690 is over 95% full, available space: 562316926976; capacity: 16125711347712. Object creation will fail if spilling is required.\n",
      "\u001b[2m\u001b[33m(raylet)\u001b[0m [2024-05-01 06:13:38,465 E 143002 143014] (raylet) file_system_monitor.cc:111: /tmp/ray/session_2024-05-01_06-04-26_697255_142690 is over 95% full, available space: 562316636160; capacity: 16125711347712. Object creation will fail if spilling is required.\n",
      "\u001b[2m\u001b[33m(raylet)\u001b[0m [2024-05-01 06:13:48,472 E 143002 143014] (raylet) file_system_monitor.cc:111: /tmp/ray/session_2024-05-01_06-04-26_697255_142690 is over 95% full, available space: 562316460032; capacity: 16125711347712. Object creation will fail if spilling is required.\n",
      "\u001b[2m\u001b[33m(raylet)\u001b[0m [2024-05-01 06:13:58,478 E 143002 143014] (raylet) file_system_monitor.cc:111: /tmp/ray/session_2024-05-01_06-04-26_697255_142690 is over 95% full, available space: 562316238848; capacity: 16125711347712. Object creation will fail if spilling is required.\n",
      "\u001b[2m\u001b[33m(raylet)\u001b[0m [2024-05-01 06:14:08,485 E 143002 143014] (raylet) file_system_monitor.cc:111: /tmp/ray/session_2024-05-01_06-04-26_697255_142690 is over 95% full, available space: 562316226560; capacity: 16125711347712. Object creation will fail if spilling is required.\n",
      "\u001b[2m\u001b[33m(raylet)\u001b[0m [2024-05-01 06:14:18,491 E 143002 143014] (raylet) file_system_monitor.cc:111: /tmp/ray/session_2024-05-01_06-04-26_697255_142690 is over 95% full, available space: 562316214272; capacity: 16125711347712. Object creation will fail if spilling is required.\n",
      "\u001b[2m\u001b[33m(raylet)\u001b[0m [2024-05-01 06:14:28,497 E 143002 143014] (raylet) file_system_monitor.cc:111: /tmp/ray/session_2024-05-01_06-04-26_697255_142690 is over 95% full, available space: 562316165120; capacity: 16125711347712. Object creation will fail if spilling is required.\n",
      "\u001b[2m\u001b[33m(raylet)\u001b[0m [2024-05-01 06:14:38,503 E 143002 143014] (raylet) file_system_monitor.cc:111: /tmp/ray/session_2024-05-01_06-04-26_697255_142690 is over 95% full, available space: 562316021760; capacity: 16125711347712. Object creation will fail if spilling is required.\n",
      "\u001b[2m\u001b[33m(raylet)\u001b[0m [2024-05-01 06:14:48,509 E 143002 143014] (raylet) file_system_monitor.cc:111: /tmp/ray/session_2024-05-01_06-04-26_697255_142690 is over 95% full, available space: 562149150720; capacity: 16125711347712. Object creation will fail if spilling is required.\n",
      "\u001b[2m\u001b[33m(raylet)\u001b[0m [2024-05-01 06:14:58,513 E 143002 143014] (raylet) file_system_monitor.cc:111: /tmp/ray/session_2024-05-01_06-04-26_697255_142690 is over 95% full, available space: 562022653952; capacity: 16125711347712. Object creation will fail if spilling is required.\n",
      "\u001b[2m\u001b[33m(raylet)\u001b[0m [2024-05-01 06:15:08,516 E 143002 143014] (raylet) file_system_monitor.cc:111: /tmp/ray/session_2024-05-01_06-04-26_697255_142690 is over 95% full, available space: 562022572032; capacity: 16125711347712. Object creation will fail if spilling is required.\n",
      "\u001b[2m\u001b[33m(raylet)\u001b[0m [2024-05-01 06:15:18,520 E 143002 143014] (raylet) file_system_monitor.cc:111: /tmp/ray/session_2024-05-01_06-04-26_697255_142690 is over 95% full, available space: 561994174464; capacity: 16125711347712. Object creation will fail if spilling is required.\n",
      "\u001b[2m\u001b[33m(raylet)\u001b[0m [2024-05-01 06:15:28,524 E 143002 143014] (raylet) file_system_monitor.cc:111: /tmp/ray/session_2024-05-01_06-04-26_697255_142690 is over 95% full, available space: 561994141696; capacity: 16125711347712. Object creation will fail if spilling is required.\n",
      "\u001b[2m\u001b[33m(raylet)\u001b[0m [2024-05-01 06:15:38,528 E 143002 143014] (raylet) file_system_monitor.cc:111: /tmp/ray/session_2024-05-01_06-04-26_697255_142690 is over 95% full, available space: 561908629504; capacity: 16125711347712. Object creation will fail if spilling is required.\n",
      "\u001b[2m\u001b[33m(raylet)\u001b[0m [2024-05-01 06:15:48,531 E 143002 143014] (raylet) file_system_monitor.cc:111: /tmp/ray/session_2024-05-01_06-04-26_697255_142690 is over 95% full, available space: 561880510464; capacity: 16125711347712. Object creation will fail if spilling is required.\n",
      "\u001b[2m\u001b[33m(raylet)\u001b[0m [2024-05-01 06:15:58,535 E 143002 143014] (raylet) file_system_monitor.cc:111: /tmp/ray/session_2024-05-01_06-04-26_697255_142690 is over 95% full, available space: 561879973888; capacity: 16125711347712. Object creation will fail if spilling is required.\n",
      "\u001b[2m\u001b[33m(raylet)\u001b[0m [2024-05-01 06:16:08,538 E 143002 143014] (raylet) file_system_monitor.cc:111: /tmp/ray/session_2024-05-01_06-04-26_697255_142690 is over 95% full, available space: 561879953408; capacity: 16125711347712. Object creation will fail if spilling is required.\n",
      "\u001b[2m\u001b[33m(raylet)\u001b[0m [2024-05-01 06:16:18,541 E 143002 143014] (raylet) file_system_monitor.cc:111: /tmp/ray/session_2024-05-01_06-04-26_697255_142690 is over 95% full, available space: 561879945216; capacity: 16125711347712. Object creation will fail if spilling is required.\n",
      "\u001b[2m\u001b[33m(raylet)\u001b[0m [2024-05-01 06:16:28,546 E 143002 143014] (raylet) file_system_monitor.cc:111: /tmp/ray/session_2024-05-01_06-04-26_697255_142690 is over 95% full, available space: 561879810048; capacity: 16125711347712. Object creation will fail if spilling is required.\n",
      "\u001b[2m\u001b[33m(raylet)\u001b[0m [2024-05-01 06:16:38,552 E 143002 143014] (raylet) file_system_monitor.cc:111: /tmp/ray/session_2024-05-01_06-04-26_697255_142690 is over 95% full, available space: 561879764992; capacity: 16125711347712. Object creation will fail if spilling is required.\n",
      "\u001b[2m\u001b[33m(raylet)\u001b[0m [2024-05-01 06:16:48,559 E 143002 143014] (raylet) file_system_monitor.cc:111: /tmp/ray/session_2024-05-01_06-04-26_697255_142690 is over 95% full, available space: 561879736320; capacity: 16125711347712. Object creation will fail if spilling is required.\n",
      "\u001b[2m\u001b[33m(raylet)\u001b[0m [2024-05-01 06:16:58,565 E 143002 143014] (raylet) file_system_monitor.cc:111: /tmp/ray/session_2024-05-01_06-04-26_697255_142690 is over 95% full, available space: 561879539712; capacity: 16125711347712. Object creation will fail if spilling is required.\n",
      "\u001b[2m\u001b[33m(raylet)\u001b[0m [2024-05-01 06:17:08,572 E 143002 143014] (raylet) file_system_monitor.cc:111: /tmp/ray/session_2024-05-01_06-04-26_697255_142690 is over 95% full, available space: 561879527424; capacity: 16125711347712. Object creation will fail if spilling is required.\n",
      "\u001b[2m\u001b[33m(raylet)\u001b[0m [2024-05-01 06:17:18,578 E 143002 143014] (raylet) file_system_monitor.cc:111: /tmp/ray/session_2024-05-01_06-04-26_697255_142690 is over 95% full, available space: 561879506944; capacity: 16125711347712. Object creation will fail if spilling is required.\n",
      "\u001b[2m\u001b[33m(raylet)\u001b[0m [2024-05-01 06:17:28,585 E 143002 143014] (raylet) file_system_monitor.cc:111: /tmp/ray/session_2024-05-01_06-04-26_697255_142690 is over 95% full, available space: 561879470080; capacity: 16125711347712. Object creation will fail if spilling is required.\n",
      "\u001b[2m\u001b[33m(raylet)\u001b[0m [2024-05-01 06:17:38,593 E 143002 143014] (raylet) file_system_monitor.cc:111: /tmp/ray/session_2024-05-01_06-04-26_697255_142690 is over 95% full, available space: 561780244480; capacity: 16125711347712. Object creation will fail if spilling is required.\n",
      "\u001b[2m\u001b[33m(raylet)\u001b[0m [2024-05-01 06:17:48,598 E 143002 143014] (raylet) file_system_monitor.cc:111: /tmp/ray/session_2024-05-01_06-04-26_697255_142690 is over 95% full, available space: 561613643776; capacity: 16125711347712. Object creation will fail if spilling is required.\n",
      "\u001b[2m\u001b[33m(raylet)\u001b[0m [2024-05-01 06:17:58,601 E 143002 143014] (raylet) file_system_monitor.cc:111: /tmp/ray/session_2024-05-01_06-04-26_697255_142690 is over 95% full, available space: 561585770496; capacity: 16125711347712. Object creation will fail if spilling is required.\n",
      "\u001b[2m\u001b[33m(raylet)\u001b[0m [2024-05-01 06:18:08,604 E 143002 143014] (raylet) file_system_monitor.cc:111: /tmp/ray/session_2024-05-01_06-04-26_697255_142690 is over 95% full, available space: 561557393408; capacity: 16125711347712. Object creation will fail if spilling is required.\n",
      "\u001b[2m\u001b[33m(raylet)\u001b[0m [2024-05-01 06:18:18,609 E 143002 143014] (raylet) file_system_monitor.cc:111: /tmp/ray/session_2024-05-01_06-04-26_697255_142690 is over 95% full, available space: 561557372928; capacity: 16125711347712. Object creation will fail if spilling is required.\n",
      "\u001b[2m\u001b[33m(raylet)\u001b[0m [2024-05-01 06:18:28,613 E 143002 143014] (raylet) file_system_monitor.cc:111: /tmp/ray/session_2024-05-01_06-04-26_697255_142690 is over 95% full, available space: 561557270528; capacity: 16125711347712. Object creation will fail if spilling is required.\n",
      "\u001b[2m\u001b[33m(raylet)\u001b[0m [2024-05-01 06:18:38,616 E 143002 143014] (raylet) file_system_monitor.cc:111: /tmp/ray/session_2024-05-01_06-04-26_697255_142690 is over 95% full, available space: 561443897344; capacity: 16125711347712. Object creation will fail if spilling is required.\n",
      "\u001b[2m\u001b[33m(raylet)\u001b[0m [2024-05-01 06:18:48,618 E 143002 143014] (raylet) file_system_monitor.cc:111: /tmp/ray/session_2024-05-01_06-04-26_697255_142690 is over 95% full, available space: 561443872768; capacity: 16125711347712. Object creation will fail if spilling is required.\n",
      "\u001b[2m\u001b[33m(raylet)\u001b[0m [2024-05-01 06:18:58,621 E 143002 143014] (raylet) file_system_monitor.cc:111: /tmp/ray/session_2024-05-01_06-04-26_697255_142690 is over 95% full, available space: 561443700736; capacity: 16125711347712. Object creation will fail if spilling is required.\n",
      "\u001b[2m\u001b[33m(raylet)\u001b[0m [2024-05-01 06:19:08,623 E 143002 143014] (raylet) file_system_monitor.cc:111: /tmp/ray/session_2024-05-01_06-04-26_697255_142690 is over 95% full, available space: 561443667968; capacity: 16125711347712. Object creation will fail if spilling is required.\n",
      "\u001b[2m\u001b[33m(raylet)\u001b[0m [2024-05-01 06:19:18,626 E 143002 143014] (raylet) file_system_monitor.cc:111: /tmp/ray/session_2024-05-01_06-04-26_697255_142690 is over 95% full, available space: 561443647488; capacity: 16125711347712. Object creation will fail if spilling is required.\n",
      "\u001b[2m\u001b[33m(raylet)\u001b[0m [2024-05-01 06:19:28,628 E 143002 143014] (raylet) file_system_monitor.cc:111: /tmp/ray/session_2024-05-01_06-04-26_697255_142690 is over 95% full, available space: 561443598336; capacity: 16125711347712. Object creation will fail if spilling is required.\n",
      "\u001b[2m\u001b[33m(raylet)\u001b[0m [2024-05-01 06:19:38,631 E 143002 143014] (raylet) file_system_monitor.cc:111: /tmp/ray/session_2024-05-01_06-04-26_697255_142690 is over 95% full, available space: 561443434496; capacity: 16125711347712. Object creation will fail if spilling is required.\n",
      "\u001b[2m\u001b[33m(raylet)\u001b[0m [2024-05-01 06:19:48,633 E 143002 143014] (raylet) file_system_monitor.cc:111: /tmp/ray/session_2024-05-01_06-04-26_697255_142690 is over 95% full, available space: 561443405824; capacity: 16125711347712. Object creation will fail if spilling is required.\n",
      "\u001b[2m\u001b[33m(raylet)\u001b[0m [2024-05-01 06:19:58,636 E 143002 143014] (raylet) file_system_monitor.cc:111: /tmp/ray/session_2024-05-01_06-04-26_697255_142690 is over 95% full, available space: 561443352576; capacity: 16125711347712. Object creation will fail if spilling is required.\n",
      "\u001b[2m\u001b[33m(raylet)\u001b[0m [2024-05-01 06:20:08,638 E 143002 143014] (raylet) file_system_monitor.cc:111: /tmp/ray/session_2024-05-01_06-04-26_697255_142690 is over 95% full, available space: 561443332096; capacity: 16125711347712. Object creation will fail if spilling is required.\n",
      "\u001b[2m\u001b[33m(raylet)\u001b[0m [2024-05-01 06:20:18,641 E 143002 143014] (raylet) file_system_monitor.cc:111: /tmp/ray/session_2024-05-01_06-04-26_697255_142690 is over 95% full, available space: 561443303424; capacity: 16125711347712. Object creation will fail if spilling is required.\n",
      "\u001b[2m\u001b[33m(raylet)\u001b[0m [2024-05-01 06:20:28,643 E 143002 143014] (raylet) file_system_monitor.cc:111: /tmp/ray/session_2024-05-01_06-04-26_697255_142690 is over 95% full, available space: 561443246080; capacity: 16125711347712. Object creation will fail if spilling is required.\n",
      "\u001b[2m\u001b[33m(raylet)\u001b[0m [2024-05-01 06:20:38,646 E 143002 143014] (raylet) file_system_monitor.cc:111: /tmp/ray/session_2024-05-01_06-04-26_697255_142690 is over 95% full, available space: 561443082240; capacity: 16125711347712. Object creation will fail if spilling is required.\n",
      "\u001b[2m\u001b[33m(raylet)\u001b[0m [2024-05-01 06:20:48,649 E 143002 143014] (raylet) file_system_monitor.cc:111: /tmp/ray/session_2024-05-01_06-04-26_697255_142690 is over 95% full, available space: 561443033088; capacity: 16125711347712. Object creation will fail if spilling is required.\n",
      "\u001b[2m\u001b[33m(raylet)\u001b[0m [2024-05-01 06:20:58,651 E 143002 143014] (raylet) file_system_monitor.cc:111: /tmp/ray/session_2024-05-01_06-04-26_697255_142690 is over 95% full, available space: 561442828288; capacity: 16125711347712. Object creation will fail if spilling is required.\n",
      "\u001b[2m\u001b[33m(raylet)\u001b[0m [2024-05-01 06:21:08,653 E 143002 143014] (raylet) file_system_monitor.cc:111: /tmp/ray/session_2024-05-01_06-04-26_697255_142690 is over 95% full, available space: 561442803712; capacity: 16125711347712. Object creation will fail if spilling is required.\n",
      "\u001b[2m\u001b[33m(raylet)\u001b[0m [2024-05-01 06:21:18,656 E 143002 143014] (raylet) file_system_monitor.cc:111: /tmp/ray/session_2024-05-01_06-04-26_697255_142690 is over 95% full, available space: 561442766848; capacity: 16125711347712. Object creation will fail if spilling is required.\n"
     ]
    },
    {
     "ename": "",
     "evalue": "",
     "output_type": "error",
     "traceback": [
      "\u001b[1;31mThe Kernel crashed while executing code in the current cell or a previous cell. \n",
      "\u001b[1;31mPlease review the code in the cell(s) to identify a possible cause of the failure. \n",
      "\u001b[1;31mClick <a href='https://aka.ms/vscodeJupyterKernelCrash'>here</a> for more info. \n",
      "\u001b[1;31mView Jupyter <a href='command:jupyter.viewOutput'>log</a> for further details."
     ]
    }
   ],
   "source": [
    "from nuplan.planning.script.run_nuboard import main as main_nuboard\n",
    "\n",
    "# Run nuBoard\n",
    "main_nuboard(cfg)"
   ]
  }
 ],
 "metadata": {
  "kernelspec": {
   "display_name": "nuplan",
   "language": "python",
   "name": "python3"
  },
  "language_info": {
   "codemirror_mode": {
    "name": "ipython",
    "version": 3
   },
   "file_extension": ".py",
   "mimetype": "text/x-python",
   "name": "python",
   "nbconvert_exporter": "python",
   "pygments_lexer": "ipython3",
   "version": "3.9.18"
  }
 },
 "nbformat": 4,
 "nbformat_minor": 2
}

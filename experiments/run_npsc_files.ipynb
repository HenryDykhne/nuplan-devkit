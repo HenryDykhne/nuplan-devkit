{
 "cells": [
  {
   "cell_type": "markdown",
   "metadata": {},
   "source": [
    "### NPSC psudeo-extension stands for NuPlan Scenario Collection. \n",
    "#### It is a pkl file with the naming convention `filename.npsc.pkl` that contains:\n",
    "* The data structure of a dictionary of scenario modifications.\n",
    "* The `DATASET_PARAMS` list of filters in order to extract the correct scenarios to modify."
   ]
  },
  {
   "cell_type": "code",
   "execution_count": 1,
   "metadata": {},
   "outputs": [],
   "source": [
    "import logging\n",
    "import random\n",
    "import nest_asyncio\n",
    "import pandas as pd\n",
    "\n",
    "nest_asyncio.apply()\n",
    "\n",
    "import torch\n",
    "\n",
    "torch.cuda.is_available()\n",
    "\n",
    "import os\n",
    "from pathlib import Path\n",
    "import tempfile\n",
    "\n",
    "from shutil import rmtree\n",
    "from typing import List, Optional, Union\n",
    "\n",
    "from nuplan.planning.script.run_simulation import main as main_simulation"
   ]
  },
  {
   "cell_type": "code",
   "execution_count": 2,
   "metadata": {},
   "outputs": [
    {
     "name": "stdout",
     "output_type": "stream",
     "text": [
      "env: NUPLAN_DATA_ROOT=../../../datasets/nuplan/dataset\n",
      "env: NUPLAN_MAPS_ROOT=../../data/nuplan/maps\n",
      "env: NUPLAN_EXP_ROOT=../../data/nuplan/exp\n",
      "env: NUPLAN_DEVKIT_ROOT=../../nuplan-devkit/\n"
     ]
    },
    {
     "data": {
      "text/plain": [
       "'/home/ehdykhne/nuplan-devkit/experiments'"
      ]
     },
     "execution_count": 2,
     "metadata": {},
     "output_type": "execute_result"
    }
   ],
   "source": [
    "%env NUPLAN_DATA_ROOT=../../../datasets/nuplan/dataset\n",
    "%env NUPLAN_MAPS_ROOT=../../data/nuplan/maps\n",
    "%env NUPLAN_EXP_ROOT=../../data/nuplan/exp\n",
    "%env NUPLAN_DEVKIT_ROOT=../../nuplan-devkit/\n",
    "%pwd"
   ]
  },
  {
   "cell_type": "code",
   "execution_count": 3,
   "metadata": {},
   "outputs": [],
   "source": [
    "import hydra\n",
    "import pytorch_lightning as pl\n",
    "from omegaconf import DictConfig, OmegaConf\n",
    "\n",
    "from nuplan.common.utils.s3_utils import is_s3_path\n",
    "from nuplan.planning.script.builders.simulation_builder import build_simulations\n",
    "from nuplan.planning.script.builders.simulation_callback_builder import (\n",
    "    build_callbacks_worker,\n",
    "    build_simulation_callbacks,\n",
    ")\n",
    "from nuplan.planning.script.utils import (\n",
    "    run_runners,\n",
    "    set_default_path,\n",
    "    set_up_common_builder,\n",
    ")\n",
    "from nuplan.planning.simulation.planner.abstract_planner import AbstractPlanner\n",
    "\n",
    "logging.basicConfig(level=logging.INFO)\n",
    "logger = logging.getLogger(__name__)\n",
    "\n",
    "# If set, use the env. variable to overwrite the default dataset and experiment paths\n",
    "set_default_path()\n",
    "\n",
    "# If set, use the env. variable to overwrite the Hydra config\n",
    "CONFIG_PATH = os.getenv(\"NUPLAN_HYDRA_CONFIG_PATH\", \"config/simulation\")\n",
    "\n",
    "if os.environ.get(\"NUPLAN_HYDRA_CONFIG_PATH\") is not None:\n",
    "    CONFIG_PATH = os.path.join(\"../../../../\", CONFIG_PATH)\n",
    "\n",
    "if os.path.basename(CONFIG_PATH) != \"simulation\":\n",
    "    CONFIG_PATH = os.path.join(CONFIG_PATH, \"simulation\")\n",
    "CONFIG_NAME = \"default_simulation\""
   ]
  },
  {
   "cell_type": "code",
   "execution_count": 4,
   "metadata": {},
   "outputs": [],
   "source": [
    "from tutorials.utils.tutorial_utils import construct_simulation_hydra_paths\n",
    "\n",
    "# Location of paths with all simulation configs\n",
    "BASE_CONFIG_PATH = os.path.join(\n",
    "    os.getenv(\"NUPLAN_TUTORIAL_PATH\", \"\"), \"../nuplan/planning/script\"\n",
    ")\n",
    "simulation_hydra_paths = construct_simulation_hydra_paths(BASE_CONFIG_PATH)"
   ]
  },
  {
   "cell_type": "code",
   "execution_count": 5,
   "metadata": {},
   "outputs": [
    {
     "name": "stdout",
     "output_type": "stream",
     "text": [
      "['33488d1c844c5428', 'a1aef53dcf0a5e43', '895bf97a81b65c5b', '8fb31d539eff54f7', 'e72f1ff10a7758b9', '911afc3674645ac7', 'e19110381bdb5fb2', 'fd2cd894bd565a95', '4298e30c9c2453be']\n",
      "['scenario_builder=val', 'scenario_filter=all_scenarios', \"scenario_filter.scenario_types=['starting_left_turn', 'starting_right_turn', 'starting_straight_stop_sign_intersection_traversal', 'starting_straight_traffic_light_intersection_traversal', 'starting_unprotected_cross_turn', 'starting_unprotected_noncross_turn', 'traversing_intersection', 'traversing_traffic_light_intersection']\", 'scenario_filter.ego_displacement_minimum_m=10', 'scenario_filter.map_names=[sg-one-north, us-ma-boston, us-pa-pittsburgh-hazelwood, us-nv-las-vegas-strip]', 'scenario_filter.num_scenarios_per_type=100']\n"
     ]
    }
   ],
   "source": [
    "import pickle\n",
    "\n",
    "EXPERIMENT_NAME = \"pdm_closed_pdm_closed_cross_pure_scen_20\"\n",
    "modification_file_path = \"npsc_files/\" + EXPERIMENT_NAME + \".npsc.pkl\"\n",
    "with open(modification_file_path, \"rb\") as output_file:\n",
    "    mod_list_dict = pickle.load(output_file)\n",
    "    print(list(mod_list_dict.keys()))\n",
    "    DATASET_PARAMS = pickle.load(output_file)\n",
    "\n",
    "print(DATASET_PARAMS)"
   ]
  },
  {
   "cell_type": "code",
   "execution_count": 6,
   "metadata": {},
   "outputs": [],
   "source": [
    "urban_ckpt = \"/home/ehdykhne/nuplan-devkit/experiments/pretrained_checkpoints/urbandriver_checkpoint.ckpt\"\n",
    "gc_pgp_ckpt = \"/home/ehdykhne/nuplan-devkit/experiments/pretrained_checkpoints/gc_pgp_checkpoint.ckpt\"\n",
    "hybrid_ckpt = \"/home/ehdykhne/nuplan-devkit/experiments/pretrained_checkpoints/pdm_offset_checkpoint.ckpt\"\n",
    "#'/home/ehdykhne/nuplan-devkit/experiments/pretrained_checkpoints/urbandriver_checkpoint.ckpt'\n",
    "#'/home/ehdykhne/Repos/nuplan-devkit/experiments/pretrained_checkpoints/urbandriver_checkpoint.ckpt'"
   ]
  },
  {
   "cell_type": "code",
   "execution_count": 7,
   "metadata": {},
   "outputs": [
    {
     "name": "stdout",
     "output_type": "stream",
     "text": [
      "default_simulation\n"
     ]
    },
    {
     "name": "stdout",
     "output_type": "stream",
     "text": [
      "output_folder_occ = \"../../data/nuplan/exp/exp/simulation/closed_loop_multiagent/2024.05.13.10.12.36\"\n"
     ]
    }
   ],
   "source": [
    "# Initialize configuration management system\n",
    "hydra.core.global_hydra.GlobalHydra.instance().clear()  # reinitialize hydra if already initialized\n",
    "hydra.initialize(config_path=simulation_hydra_paths.config_path)\n",
    "\n",
    "# Compose the configuration\n",
    "print(simulation_hydra_paths.config_name)\n",
    "cfg_occ = hydra.compose(\n",
    "    config_name=simulation_hydra_paths.config_name,\n",
    "    overrides=[\n",
    "        # planner\n",
    "        ################################################\n",
    "        \"planner=pdm_closed_planner\",  # [ml_planner, pdm_hybrid_planner, pdm_closed_planner, idm_planner, log_future_planner, simple_planner]\n",
    "        # planner occlusion\n",
    "        ################################################\n",
    "        \"+occlusion_cfg.occlusion=true\",\n",
    "        \"+occlusion_cfg.manager_type=wedge\",  # options: [range, shadow, wedge]\n",
    "        \"+occlusion_cfg.uncloak_reaction_time=1.5\",\n",
    "        \"+occlusion_cfg.notice_threshold=1.0\",\n",
    "        ################################################\n",
    "        # obs\n",
    "        ################################################\n",
    "        f\"observation.planner_type=pdm_closed\",\n",
    "        ################################################\n",
    "        # obs occlusion\n",
    "        ################################################\n",
    "        f\"observation.occlusion_cfg.occlusion=True\",\n",
    "        f\"observation.occlusion_cfg.manager_type=wedge\",\n",
    "        f\"+observation.occlusion_cfg.uncloak_reaction_time=1.5\",\n",
    "        f\"+observation.occlusion_cfg.notice_threshold=1.0\",\n",
    "        ################################################\n",
    "        # scenario modification\n",
    "        \"+modify_scenario_simulations=true\",\n",
    "        \"+second_testing_round=true\",\n",
    "        f\"+modification_file_path={modification_file_path}\",\n",
    "        # \"+remove_other_agents=true\",\n",
    "        ################################################\n",
    "        # misc\n",
    "        ################################################\n",
    "        \"+simulation=closed_loop_multiagent\",  # [open_loop_boxes, closed_loop_nonreactive_agents, closed_loop_reactive_agents, closed_loop_multiagent]\n",
    "        \"worker=ray_distributed\",  # [sequential, ray_distributed]\n",
    "        \"hydra.searchpath=[pkg://tuplan_garage.planning.script.config.common, pkg://tuplan_garage.planning.script.config.simulation, pkg://nuplan.planning.script.config.common, pkg://nuplan.planning.script.experiments]\",\n",
    "        *DATASET_PARAMS,\n",
    "        ################################################\n",
    "    ],\n",
    ")\n",
    "\n",
    "output_folder_occ = cfg_occ.output_dir\n",
    "print('output_folder_occ = \"' + output_folder_occ + '\"')"
   ]
  },
  {
   "cell_type": "markdown",
   "metadata": {},
   "source": [
    "### Now, we run the simulations"
   ]
  },
  {
   "cell_type": "code",
   "execution_count": 8,
   "metadata": {},
   "outputs": [
    {
     "name": "stderr",
     "output_type": "stream",
     "text": [
      "Global seed set to 0\n",
      "INFO:nuplan.planning.script.builders.main_callback_builder:Building MultiMainCallback...\n",
      "INFO:nuplan.planning.script.builders.main_callback_builder:Building MultiMainCallback: 4...DONE!\n"
     ]
    },
    {
     "name": "stdout",
     "output_type": "stream",
     "text": [
      "2024-05-13 10:12:36,294 INFO {/home/ehdykhne/nuplan-devkit/nuplan/planning/script/builders/worker_pool_builder.py:19}  Building WorkerPool...\n",
      "2024-05-13 10:12:36,330 INFO {/home/ehdykhne/nuplan-devkit/nuplan/planning/utils/multithreading/worker_ray.py:78}  Starting ray local!\n"
     ]
    },
    {
     "name": "stderr",
     "output_type": "stream",
     "text": [
      "2024-05-13 10:12:37,949\tINFO worker.py:1636 -- Started a local Ray instance.\n"
     ]
    },
    {
     "name": "stdout",
     "output_type": "stream",
     "text": [
      "2024-05-13 10:12:38,630 INFO {/home/ehdykhne/nuplan-devkit/nuplan/planning/utils/multithreading/worker_pool.py:101}  Worker: RayDistributed\n",
      "2024-05-13 10:12:38,631 INFO {/home/ehdykhne/nuplan-devkit/nuplan/planning/utils/multithreading/worker_pool.py:102}  Number of nodes: 1\n",
      "Number of CPUs per node: 32\n",
      "Number of GPUs per node: 4\n",
      "Number of threads across all nodes: 32\n",
      "2024-05-13 10:12:38,631 INFO {/home/ehdykhne/nuplan-devkit/nuplan/planning/script/builders/worker_pool_builder.py:27}  Building WorkerPool...DONE!\n",
      "2024-05-13 10:12:38,631 INFO {/home/ehdykhne/nuplan-devkit/nuplan/planning/script/builders/folder_builder.py:32}  Building experiment folders...\n",
      "2024-05-13 10:12:38,631 INFO {/home/ehdykhne/nuplan-devkit/nuplan/planning/script/builders/folder_builder.py:35}  \n",
      "\n",
      "\tFolder where all results are stored: ../../data/nuplan/exp/exp/simulation/closed_loop_multiagent/2024.05.13.10.12.36\n",
      "\n",
      "2024-05-13 10:12:38,633 INFO {/home/ehdykhne/nuplan-devkit/nuplan/planning/script/builders/folder_builder.py:70}  Building experiment folders...DONE!\n",
      "2024-05-13 10:12:38,633 INFO {/home/ehdykhne/nuplan-devkit/nuplan/planning/script/builders/simulation_callback_builder.py:52}  Building AbstractCallback...\n",
      "2024-05-13 10:12:38,633 INFO {/home/ehdykhne/nuplan-devkit/nuplan/planning/script/builders/simulation_callback_builder.py:68}  Building AbstractCallback: 0...DONE!\n",
      "2024-05-13 10:12:38,633 INFO {/home/ehdykhne/nuplan-devkit/nuplan/planning/script/builders/simulation_builder.py:56}  Building simulations...\n",
      "2024-05-13 10:12:38,633 INFO {/home/ehdykhne/nuplan-devkit/nuplan/planning/script/builders/simulation_builder.py:62}  Extracting scenarios...\n",
      "2024-05-13 10:12:38,634 INFO {/home/ehdykhne/nuplan-devkit/nuplan/common/utils/distributed_scenario_filter.py:83}  Building Scenarios in mode DistributedMode.SINGLE_NODE\n",
      "2024-05-13 10:12:38,634 INFO {/home/ehdykhne/nuplan-devkit/nuplan/planning/script/builders/scenario_building_builder.py:18}  Building AbstractScenarioBuilder...\n",
      "2024-05-13 10:12:38,651 INFO {/home/ehdykhne/nuplan-devkit/nuplan/planning/script/builders/scenario_building_builder.py:21}  Building AbstractScenarioBuilder...DONE!\n",
      "2024-05-13 10:12:38,651 INFO {/home/ehdykhne/nuplan-devkit/nuplan/planning/script/builders/scenario_filter_builder.py:35}  Building ScenarioFilter...\n",
      "2024-05-13 10:12:38,653 INFO {/home/ehdykhne/nuplan-devkit/nuplan/planning/script/builders/scenario_filter_builder.py:44}  Building ScenarioFilter...DONE!\n"
     ]
    },
    {
     "name": "stderr",
     "output_type": "stream",
     "text": [
      "Ray objects: 100%|██████████| 32/32 [00:07<00:00,  4.11it/s]\n",
      "\u001b[2m\u001b[33m(raylet)\u001b[0m [2024-05-13 10:12:47,924 E 323103 323115] (raylet) file_system_monitor.cc:111: /tmp/ray/session_2024-05-13_10-12-36_357405_322805 is over 95% full, available space: 504491642880; capacity: 16125711347712. Object creation will fail if spilling is required.\n",
      "\u001b[2m\u001b[33m(raylet)\u001b[0m [2024-05-13 10:12:57,926 E 323103 323115] (raylet) file_system_monitor.cc:111: /tmp/ray/session_2024-05-13_10-12-36_357405_322805 is over 95% full, available space: 504497336320; capacity: 16125711347712. Object creation will fail if spilling is required.\n"
     ]
    },
    {
     "name": "stdout",
     "output_type": "stream",
     "text": [
      "2024-05-13 10:13:00,704 INFO {/home/ehdykhne/nuplan-devkit/nuplan/planning/script/builders/simulation_builder.py:83}  Building metric engines...\n",
      "2024-05-13 10:13:00,841 INFO {/home/ehdykhne/nuplan-devkit/nuplan/planning/script/builders/simulation_builder.py:85}  Building metric engines...DONE\n",
      "2024-05-13 10:13:00,841 INFO {/home/ehdykhne/nuplan-devkit/nuplan/planning/script/builders/simulation_builder.py:89}  Building simulations from 697 scenarios...\n"
     ]
    },
    {
     "name": "stderr",
     "output_type": "stream",
     "text": [
      "\u001b[2m\u001b[33m(raylet)\u001b[0m [2024-05-13 10:13:07,929 E 323103 323115] (raylet) file_system_monitor.cc:111: /tmp/ray/session_2024-05-13_10-12-36_357405_322805 is over 95% full, available space: 504497336320; capacity: 16125711347712. Object creation will fail if spilling is required.\n"
     ]
    },
    {
     "name": "stdout",
     "output_type": "stream",
     "text": [
      "2024-05-13 10:13:09,639 INFO {/home/ehdykhne/nuplan-devkit/nuplan/planning/script/builders/simulation_builder.py:151}  Modyfing Scenarios...\n",
      "[\n",
      "\t'33488d1c844c5428',\n",
      "\t'4298e30c9c2453be',\n",
      "\t'895bf97a81b65c5b',\n",
      "\t'8fb31d539eff54f7',\n",
      "\t'911afc3674645ac7',\n",
      "\t'a1aef53dcf0a5e43',\n",
      "\t'e19110381bdb5fb2',\n",
      "\t'e72f1ff10a7758b9',\n",
      "\t'fd2cd894bd565a95'\n",
      "]\n",
      "2024-05-13 10:13:09,673 INFO {/home/ehdykhne/nuplan-devkit/nuplan/planning/script/builders/simulation_builder.py:206}  Created 22 modified scenarios from 697 scenarios, 9 of which were modifiable.\n",
      "2024-05-13 10:13:09,673 INFO {/home/ehdykhne/nuplan-devkit/nuplan/planning/script/builders/simulation_builder.py:207}  Building simulations...DONE!\n",
      "2024-05-13 10:13:09,673 INFO {/home/ehdykhne/nuplan-devkit/nuplan/planning/script/run_simulation.py:113}  Running simulation...\n",
      "2024-05-13 10:13:09,673 INFO {/home/ehdykhne/nuplan-devkit/nuplan/planning/script/utils.py:138}  Executing runners...\n",
      "2024-05-13 10:13:09,673 INFO {/home/ehdykhne/nuplan-devkit/nuplan/planning/simulation/runner/executor.py:82}  Starting 22 simulations using RayDistributed!\n"
     ]
    },
    {
     "name": "stderr",
     "output_type": "stream",
     "text": [
      "Ray objects:   0%|          | 0/22 [00:00<?, ?it/s]\u001b[2m\u001b[33m(raylet)\u001b[0m [2024-05-13 10:13:17,936 E 323103 323115] (raylet) file_system_monitor.cc:111: /tmp/ray/session_2024-05-13_10-12-36_357405_322805 is over 95% full, available space: 504497225728; capacity: 16125711347712. Object creation will fail if spilling is required.\n",
      "\u001b[2m\u001b[33m(raylet)\u001b[0m [2024-05-13 10:13:27,942 E 323103 323115] (raylet) file_system_monitor.cc:111: /tmp/ray/session_2024-05-13_10-12-36_357405_322805 is over 95% full, available space: 504497205248; capacity: 16125711347712. Object creation will fail if spilling is required.\n",
      "\u001b[2m\u001b[33m(raylet)\u001b[0m [2024-05-13 10:13:37,948 E 323103 323115] (raylet) file_system_monitor.cc:111: /tmp/ray/session_2024-05-13_10-12-36_357405_322805 is over 95% full, available space: 504497168384; capacity: 16125711347712. Object creation will fail if spilling is required.\n",
      "\u001b[2m\u001b[33m(raylet)\u001b[0m [2024-05-13 10:13:47,955 E 323103 323115] (raylet) file_system_monitor.cc:111: /tmp/ray/session_2024-05-13_10-12-36_357405_322805 is over 95% full, available space: 504497016832; capacity: 16125711347712. Object creation will fail if spilling is required.\n",
      "\u001b[2m\u001b[33m(raylet)\u001b[0m [2024-05-13 10:13:57,961 E 323103 323115] (raylet) file_system_monitor.cc:111: /tmp/ray/session_2024-05-13_10-12-36_357405_322805 is over 95% full, available space: 504497016832; capacity: 16125711347712. Object creation will fail if spilling is required.\n",
      "Ray objects:  14%|█▎        | 3/22 [00:58<04:11, 13.25s/it]\u001b[2m\u001b[33m(raylet)\u001b[0m [2024-05-13 10:14:07,968 E 323103 323115] (raylet) file_system_monitor.cc:111: /tmp/ray/session_2024-05-13_10-12-36_357405_322805 is over 95% full, available space: 504446300160; capacity: 16125711347712. Object creation will fail if spilling is required.\n",
      "Ray objects:  27%|██▋       | 6/22 [01:04<01:22,  5.13s/it]\u001b[2m\u001b[33m(raylet)\u001b[0m [2024-05-13 10:14:17,974 E 323103 323115] (raylet) file_system_monitor.cc:111: /tmp/ray/session_2024-05-13_10-12-36_357405_322805 is over 95% full, available space: 504410714112; capacity: 16125711347712. Object creation will fail if spilling is required.\n",
      "Ray objects:  55%|█████▍    | 12/22 [01:16<00:21,  2.14s/it]\u001b[2m\u001b[33m(raylet)\u001b[0m [2024-05-13 10:14:27,979 E 323103 323115] (raylet) file_system_monitor.cc:111: /tmp/ray/session_2024-05-13_10-12-36_357405_322805 is over 95% full, available space: 504317272064; capacity: 16125711347712. Object creation will fail if spilling is required.\n",
      "Ray objects:  73%|███████▎  | 16/22 [01:26<00:11,  1.99s/it]\u001b[2m\u001b[33m(raylet)\u001b[0m [2024-05-13 10:14:37,983 E 323103 323115] (raylet) file_system_monitor.cc:111: /tmp/ray/session_2024-05-13_10-12-36_357405_322805 is over 95% full, available space: 504231280640; capacity: 16125711347712. Object creation will fail if spilling is required.\n",
      "Ray objects:  82%|████████▏ | 18/22 [01:32<00:10,  2.52s/it]\u001b[2m\u001b[33m(raylet)\u001b[0m [2024-05-13 10:14:47,988 E 323103 323115] (raylet) file_system_monitor.cc:111: /tmp/ray/session_2024-05-13_10-12-36_357405_322805 is over 95% full, available space: 504175026176; capacity: 16125711347712. Object creation will fail if spilling is required.\n",
      "\u001b[2m\u001b[33m(raylet)\u001b[0m [2024-05-13 10:14:57,993 E 323103 323115] (raylet) file_system_monitor.cc:111: /tmp/ray/session_2024-05-13_10-12-36_357405_322805 is over 95% full, available space: 504175026176; capacity: 16125711347712. Object creation will fail if spilling is required.\n",
      "\u001b[2m\u001b[33m(raylet)\u001b[0m [2024-05-13 10:15:07,997 E 323103 323115] (raylet) file_system_monitor.cc:111: /tmp/ray/session_2024-05-13_10-12-36_357405_322805 is over 95% full, available space: 504174956544; capacity: 16125711347712. Object creation will fail if spilling is required.\n",
      "Ray objects:  86%|████████▋ | 19/22 [02:00<00:30, 10.01s/it]\u001b[2m\u001b[33m(raylet)\u001b[0m [2024-05-13 10:15:17,999 E 323103 323115] (raylet) file_system_monitor.cc:111: /tmp/ray/session_2024-05-13_10-12-36_357405_322805 is over 95% full, available space: 504146432000; capacity: 16125711347712. Object creation will fail if spilling is required.\n",
      "Ray objects:  95%|█████████▌| 21/22 [02:10<00:07,  7.15s/it]\u001b[2m\u001b[33m(raylet)\u001b[0m [2024-05-13 10:15:28,001 E 323103 323115] (raylet) file_system_monitor.cc:111: /tmp/ray/session_2024-05-13_10-12-36_357405_322805 is over 95% full, available space: 504089567232; capacity: 16125711347712. Object creation will fail if spilling is required.\n",
      "Ray objects: 100%|██████████| 22/22 [02:19<00:00,  6.33s/it]\n"
     ]
    },
    {
     "name": "stdout",
     "output_type": "stream",
     "text": [
      "2024-05-13 10:15:29,045 INFO {/home/ehdykhne/nuplan-devkit/nuplan/planning/simulation/runner/executor.py:129}  Number of successful simulations: 22\n",
      "2024-05-13 10:15:29,046 INFO {/home/ehdykhne/nuplan-devkit/nuplan/planning/simulation/runner/executor.py:130}  Number of failed simulations: 0\n",
      "2024-05-13 10:15:29,046 INFO {/home/ehdykhne/nuplan-devkit/nuplan/planning/script/utils.py:147}  Finished executing runners!\n",
      "2024-05-13 10:15:29,056 INFO {/home/ehdykhne/nuplan-devkit/nuplan/planning/script/utils.py:74}  Saved runner reports to ../../data/nuplan/exp/exp/simulation/closed_loop_multiagent/2024.05.13.10.12.36/runner_report.parquet\n",
      "2024-05-13 10:15:29,056 INFO {/home/ehdykhne/nuplan-devkit/nuplan/planning/simulation/main_callback/time_callback.py:27}  Simulation duration: 00:02:52 [HH:MM:SS]\n",
      "2024-05-13 10:15:29,379 INFO {/home/ehdykhne/nuplan-devkit/nuplan/planning/simulation/main_callback/metric_file_callback.py:79}  Metric files integration: 00:00:00 [HH:MM:SS]\n",
      "2024-05-13 10:15:29,449 INFO {/home/ehdykhne/nuplan-devkit/nuplan/planning/simulation/main_callback/metric_aggregator_callback.py:58}  Running metric aggregator: closed_loop_multiagent_weighted_average\n",
      "2024-05-13 10:15:29,482 INFO {/home/ehdykhne/nuplan-devkit/nuplan/planning/simulation/main_callback/metric_aggregator_callback.py:69}  Metric aggregator: 00:00:00 [HH:MM:SS]\n",
      "2024-05-13 10:15:29,586 INFO {/home/ehdykhne/nuplan-devkit/nuplan/planning/simulation/main_callback/metric_summary_callback.py:344}  Metric summary: 00:00:00 [HH:MM:SS]\n",
      "2024-05-13 10:15:29,587 INFO {/home/ehdykhne/nuplan-devkit/nuplan/planning/script/run_simulation.py:115}  Finished running simulation!\n"
     ]
    }
   ],
   "source": [
    "# Run the simulation loop (real-time visualization not yet supported, see next section for visualization)\n",
    "main_simulation(cfg_occ)"
   ]
  },
  {
   "cell_type": "code",
   "execution_count": 9,
   "metadata": {},
   "outputs": [
    {
     "data": {
      "image/png": "[encoded data removed]",
      "text/plain": [
       "<Figure size 640x480 with 2 Axes>"
      ]
     },
     "metadata": {},
     "output_type": "display_data"
    }
   ],
   "source": [
    "import numpy as np\n",
    "import pandas as pd\n",
    "import matplotlib.pyplot as plt\n",
    "import seaborn as sns\n",
    "from vis_utils import circular_hist\n",
    "\n",
    "%matplotlib inline\n",
    "\n",
    "# # seq\n",
    "# output_folder_occ_s = (\n",
    "#     \"../../data/nuplan/exp/exp/simulation/closed_loop_multiagent/2024.04.26.07.27.19\"\n",
    "# )\n",
    "# #cross\n",
    "# output_folder_occ_c = (\n",
    "#     \"../../data/nuplan/exp/exp/simulation/closed_loop_multiagent/2024.04.26.07.37.26\"\n",
    "# )\n",
    "# #merge\n",
    "# output_folder_occ_m = (\n",
    "#   \"../../data/nuplan/exp/exp/simulation/closed_loop_multiagent/2024.04.26.07.42.37\"\n",
    "# )\n",
    "# #diverge\n",
    "# output_folder_occ_d = (\n",
    "#   \"../../data/nuplan/exp/exp/simulation/closed_loop_multiagent/2024.04.26.07.45.40\"\n",
    "# )\n",
    "\n",
    "file_path = output_folder_occ + \"/metrics/\" + \"no_ego_at_fault_collisions.parquet\"\n",
    "df = pd.read_parquet(file_path)\n",
    "relative_angles_of_impact_df = df[\n",
    "    \"relative_impact_angle_at_first_ego_collision_with_vehicles_stat_value\"\n",
    "]\n",
    "relative_angles_of_impact = relative_angles_of_impact_df.to_numpy()\n",
    "\n",
    "# fig, ax = plt.subplots(1, 2)\n",
    "# fig.tight_layout()\n",
    "figp, axp = plt.subplots(1, 2, subplot_kw=dict(projection=\"polar\"))\n",
    "figp.tight_layout()\n",
    "\n",
    "# Visualise by area of bins\n",
    "circular_hist(\n",
    "    axp[0],\n",
    "    relative_angles_of_impact,\n",
    "    bins=8,\n",
    "    density=True,\n",
    "    offset=np.pi / 2,\n",
    "    gaps=False,\n",
    ")\n",
    "\n",
    "circular_hist(\n",
    "    axp[1],\n",
    "    relative_angles_of_impact,\n",
    "    bins=8,\n",
    "    density=False,\n",
    "    offset=np.pi / 2,\n",
    "    gaps=False,\n",
    ")\n",
    "\n",
    "\n",
    "axp[0].title.set_text(\"Relative Impact Angles (Area Density)\")\n",
    "axp[1].title.set_text(\"Relative Impact Angles (Count)\")"
   ]
  },
  {
   "cell_type": "code",
   "execution_count": 10,
   "metadata": {},
   "outputs": [
    {
     "name": "stdout",
     "output_type": "stream",
     "text": [
      "num :  22\n",
      "list :  ['33488d1c844c5428_sequential_conflict_injection_and_occlusion_injection_1', 'a1aef53dcf0a5e43_sequential_conflict_injection_and_occlusion_injection_0', '895bf97a81b65c5b_sequential_conflict_injection_and_occlusion_injection_2', '8fb31d539eff54f7_sequential_conflict_injection_and_occlusion_injection_0', 'e72f1ff10a7758b9_sequential_conflict_injection_and_occlusion_injection_3', '911afc3674645ac7_sequential_conflict_injection_and_occlusion_injection_1', '895bf97a81b65c5b_sequential_conflict_injection_and_occlusion_injection_4', 'e72f1ff10a7758b9_sequential_conflict_injection_and_occlusion_injection_1', 'e19110381bdb5fb2_sequential_conflict_injection_and_occlusion_injection_0', 'fd2cd894bd565a95_sequential_conflict_injection_and_occlusion_injection_1', '895bf97a81b65c5b_sequential_conflict_injection_and_occlusion_injection_3', '4298e30c9c2453be_sequential_conflict_injection_and_occlusion_injection_0', '33488d1c844c5428_sequential_conflict_injection_and_occlusion_injection_0', 'e72f1ff10a7758b9_sequential_conflict_injection_and_occlusion_injection_0', '895bf97a81b65c5b_sequential_conflict_injection_and_occlusion_injection_1', '4298e30c9c2453be_sequential_conflict_injection_and_occlusion_injection_2', '911afc3674645ac7_sequential_conflict_injection_and_occlusion_injection_0', '4298e30c9c2453be_sequential_conflict_injection_and_occlusion_injection_1', '8fb31d539eff54f7_sequential_conflict_injection_and_occlusion_injection_1', 'fd2cd894bd565a95_sequential_conflict_injection_and_occlusion_injection_0', 'e72f1ff10a7758b9_sequential_conflict_injection_and_occlusion_injection_2', 'fd2cd894bd565a95_sequential_conflict_injection_and_occlusion_injection_2']\n"
     ]
    }
   ],
   "source": [
    "path = output_folder_occ + \"/metrics/\"\n",
    "file_path_1 = path + \"no_ego_at_fault_collisions.parquet\"\n",
    "df = pd.read_parquet(file_path_1)\n",
    "df = df.loc[df[\"number_of_ego_collisions_with_vehicles_stat_value\"] != 0]\n",
    "df = df[\"scenario_name\"]\n",
    "\n",
    "\n",
    "scenario_list = df.tolist()\n",
    "print(\"num : \", len(scenario_list))\n",
    "for item in scenario_list:\n",
    "    print(item)"
   ]
  },
  {
   "cell_type": "code",
   "execution_count": 11,
   "metadata": {},
   "outputs": [
    {
     "name": "stdout",
     "output_type": "stream",
     "text": [
      "../../data/nuplan/exp/exp/simulation/closed_loop_multiagent/2024.05.13.10.12.36\n",
      "val\n"
     ]
    }
   ],
   "source": [
    "import re\n",
    "\n",
    "output_folder = [output_folder_occ]\n",
    "\n",
    "print(output_folder_occ)\n",
    "\n",
    "CONFIG_PATH = \"../nuplan/planning/script/config/nuboard\"\n",
    "CONFIG_NAME = \"default_nuboard\"\n",
    "\n",
    "# Initialize configuration management system\n",
    "hydra.core.global_hydra.GlobalHydra.instance().clear()  # reinitialize hydra if already initialized\n",
    "hydra.initialize(config_path=CONFIG_PATH)\n",
    "scenario_builder = None\n",
    "for item in DATASET_PARAMS:\n",
    "    parts = re.split(\"=\", item, 1)\n",
    "    if parts[0] == \"scenario_builder\":\n",
    "        scenario_builder = parts[1]\n",
    "if scenario_builder is None:\n",
    "    raise ValueError(\"scenario_builder not specified in the dataset parameters\")\n",
    "print(scenario_builder)\n",
    "# Compose the configuration\n",
    "cfg = hydra.compose(\n",
    "    config_name=CONFIG_NAME,\n",
    "    overrides=[\n",
    "        f\"scenario_builder={scenario_builder}\",  # set the database (same as simulation) used to fetch data for visualization\n",
    "        f\"simulation_path={output_folder}\",  # [output_folder, output_folder_alt] nuboard file path(s), if left empty the user can open the file inside nuBoard\n",
    "    ],\n",
    ")"
   ]
  },
  {
   "cell_type": "markdown",
   "metadata": {},
   "source": [
    "### Launch NuBoard"
   ]
  },
  {
   "cell_type": "code",
   "execution_count": 12,
   "metadata": {},
   "outputs": [
    {
     "name": "stdout",
     "output_type": "stream",
     "text": [
      "2024-05-13 10:15:30,286 INFO {/home/ehdykhne/nuplan-devkit/nuplan/planning/script/builders/scenario_building_builder.py:18}  Building AbstractScenarioBuilder...\n",
      "2024-05-13 10:15:30,303 INFO {/home/ehdykhne/nuplan-devkit/nuplan/planning/script/builders/scenario_building_builder.py:21}  Building AbstractScenarioBuilder...DONE!\n",
      "2024-05-13 10:15:30,304 INFO {/home/ehdykhne/nuplan-devkit/nuplan/planning/nuboard/nuboard.py:84}  Opening Bokeh application on http://localhost:5006/\n",
      "2024-05-13 10:15:30,304 INFO {/home/ehdykhne/nuplan-devkit/nuplan/planning/nuboard/nuboard.py:85}  Async rendering is set to: True\n",
      "2024-05-13 10:15:30,304 INFO {/home/ehdykhne/miniconda3/envs/nuplan/lib/python3.9/site-packages/bokeh/server/server.py:403}  Starting Bokeh server version 2.4.3 (running on Tornado 6.3.3)\n",
      "2024-05-13 10:15:30,304 WARNING {/home/ehdykhne/miniconda3/envs/nuplan/lib/python3.9/site-packages/bokeh/server/util.py:145}  Host wildcard '*' will allow connections originating from multiple (or possibly all) hostnames or IPs. Use non-wildcard values to restrict access explicitly\n",
      "2024-05-13 10:15:30,305 INFO {/home/ehdykhne/miniconda3/envs/nuplan/lib/python3.9/site-packages/bokeh/server/tornado.py:360}  User authentication hooks NOT provided (default user enabled)\n"
     ]
    },
    {
     "name": "stdout",
     "output_type": "stream",
     "text": [
      "2024-05-13 10:15:32,374 INFO {/home/ehdykhne/nuplan-devkit/nuplan/planning/nuboard/base/simulation_tile.py:172}  Minimum frame time=0.017 s\n",
      "2024-05-13 10:15:32,384 INFO {/home/ehdykhne/nuplan-devkit/nuplan/planning/nuboard/tabs/scenario_tab.py:485}  Rending scenario plot takes 0.0006 seconds.\n",
      "2024-05-13 10:15:32,484 INFO {/home/ehdykhne/miniconda3/envs/nuplan/lib/python3.9/site-packages/tornado/web.py:2344}  200 GET / (127.0.0.1) 447.25ms\n",
      "2024-05-13 10:15:32,538 INFO {/home/ehdykhne/miniconda3/envs/nuplan/lib/python3.9/site-packages/tornado/web.py:2344}  200 GET /resource/spectre.min.css (127.0.0.1) 2.60ms\n",
      "2024-05-13 10:15:32,550 INFO {/home/ehdykhne/miniconda3/envs/nuplan/lib/python3.9/site-packages/tornado/web.py:2344}  200 GET /resource/spectre-exp.min.css (127.0.0.1) 0.33ms\n"
     ]
    },
    {
     "name": "stderr",
     "output_type": "stream",
     "text": [
      "INFO:tornado.access:200 GET / (127.0.0.1) 447.25ms\n",
      "INFO:tornado.access:200 GET /resource/spectre.min.css (127.0.0.1) 2.60ms\n",
      "INFO:tornado.access:200 GET /resource/spectre-exp.min.css (127.0.0.1) 0.33ms\n"
     ]
    },
    {
     "name": "stdout",
     "output_type": "stream",
     "text": [
      "2024-05-13 10:15:33,493 INFO {/home/ehdykhne/miniconda3/envs/nuplan/lib/python3.9/site-packages/tornado/web.py:2344}  101 GET /ws (127.0.0.1) 0.43ms\n",
      "2024-05-13 10:15:33,494 INFO {/home/ehdykhne/miniconda3/envs/nuplan/lib/python3.9/site-packages/bokeh/server/views/ws.py:132}  WebSocket connection opened\n",
      "2024-05-13 10:15:33,494 INFO {/home/ehdykhne/miniconda3/envs/nuplan/lib/python3.9/site-packages/bokeh/server/views/ws.py:213}  ServerConnection created\n",
      "2024-05-13 10:15:33,625 INFO {/home/ehdykhne/nuplan-devkit/nuplan/planning/nuboard/base/simulation_tile.py:172}  Minimum frame time=0.017 s\n",
      "2024-05-13 10:15:33,635 INFO {/home/ehdykhne/nuplan-devkit/nuplan/planning/nuboard/tabs/scenario_tab.py:485}  Rending scenario plot takes 0.0006 seconds.\n"
     ]
    },
    {
     "name": "stderr",
     "output_type": "stream",
     "text": [
      "INFO:tornado.access:101 GET /ws (127.0.0.1) 0.43ms\n"
     ]
    },
    {
     "name": "stdout",
     "output_type": "stream",
     "text": [
      "2024-05-13 10:15:33,728 INFO {/home/ehdykhne/miniconda3/envs/nuplan/lib/python3.9/site-packages/tornado/web.py:2344}  200 GET / (127.0.0.1) 227.14ms\n"
     ]
    },
    {
     "name": "stderr",
     "output_type": "stream",
     "text": [
      "INFO:tornado.access:200 GET / (127.0.0.1) 227.14ms\n",
      "\u001b[2m\u001b[33m(raylet)\u001b[0m [2024-05-13 10:15:38,004 E 323103 323115] (raylet) file_system_monitor.cc:111: /tmp/ray/session_2024-05-13_10-12-36_357405_322805 is over 95% full, available space: 504061468672; capacity: 16125711347712. Object creation will fail if spilling is required.\n",
      "\u001b[2m\u001b[33m(raylet)\u001b[0m [2024-05-13 10:15:48,006 E 323103 323115] (raylet) file_system_monitor.cc:111: /tmp/ray/session_2024-05-13_10-12-36_357405_322805 is over 95% full, available space: 504061337600; capacity: 16125711347712. Object creation will fail if spilling is required.\n",
      "\u001b[2m\u001b[33m(raylet)\u001b[0m [2024-05-13 10:15:58,008 E 323103 323115] (raylet) file_system_monitor.cc:111: /tmp/ray/session_2024-05-13_10-12-36_357405_322805 is over 95% full, available space: 504061329408; capacity: 16125711347712. Object creation will fail if spilling is required.\n",
      "\u001b[2m\u001b[33m(raylet)\u001b[0m [2024-05-13 10:16:08,010 E 323103 323115] (raylet) file_system_monitor.cc:111: /tmp/ray/session_2024-05-13_10-12-36_357405_322805 is over 95% full, available space: 504061329408; capacity: 16125711347712. Object creation will fail if spilling is required.\n",
      "\u001b[2m\u001b[33m(raylet)\u001b[0m [2024-05-13 10:16:18,012 E 323103 323115] (raylet) file_system_monitor.cc:111: /tmp/ray/session_2024-05-13_10-12-36_357405_322805 is over 95% full, available space: 504061329408; capacity: 16125711347712. Object creation will fail if spilling is required.\n",
      "\u001b[2m\u001b[33m(raylet)\u001b[0m [2024-05-13 10:16:28,014 E 323103 323115] (raylet) file_system_monitor.cc:111: /tmp/ray/session_2024-05-13_10-12-36_357405_322805 is over 95% full, available space: 504061329408; capacity: 16125711347712. Object creation will fail if spilling is required.\n",
      "\u001b[2m\u001b[33m(raylet)\u001b[0m [2024-05-13 10:16:38,016 E 323103 323115] (raylet) file_system_monitor.cc:111: /tmp/ray/session_2024-05-13_10-12-36_357405_322805 is over 95% full, available space: 504061292544; capacity: 16125711347712. Object creation will fail if spilling is required.\n",
      "\u001b[2m\u001b[33m(raylet)\u001b[0m [2024-05-13 10:16:48,018 E 323103 323115] (raylet) file_system_monitor.cc:111: /tmp/ray/session_2024-05-13_10-12-36_357405_322805 is over 95% full, available space: 504061288448; capacity: 16125711347712. Object creation will fail if spilling is required.\n",
      "\u001b[2m\u001b[33m(raylet)\u001b[0m [2024-05-13 10:16:58,020 E 323103 323115] (raylet) file_system_monitor.cc:111: /tmp/ray/session_2024-05-13_10-12-36_357405_322805 is over 95% full, available space: 504061284352; capacity: 16125711347712. Object creation will fail if spilling is required.\n",
      "\u001b[2m\u001b[33m(raylet)\u001b[0m [2024-05-13 10:17:08,022 E 323103 323115] (raylet) file_system_monitor.cc:111: /tmp/ray/session_2024-05-13_10-12-36_357405_322805 is over 95% full, available space: 504061280256; capacity: 16125711347712. Object creation will fail if spilling is required.\n",
      "\u001b[2m\u001b[33m(raylet)\u001b[0m [2024-05-13 10:17:18,024 E 323103 323115] (raylet) file_system_monitor.cc:111: /tmp/ray/session_2024-05-13_10-12-36_357405_322805 is over 95% full, available space: 504061280256; capacity: 16125711347712. Object creation will fail if spilling is required.\n",
      "\u001b[2m\u001b[33m(raylet)\u001b[0m [2024-05-13 10:17:28,026 E 323103 323115] (raylet) file_system_monitor.cc:111: /tmp/ray/session_2024-05-13_10-12-36_357405_322805 is over 95% full, available space: 504061272064; capacity: 16125711347712. Object creation will fail if spilling is required.\n",
      "\u001b[2m\u001b[33m(raylet)\u001b[0m [2024-05-13 10:17:38,028 E 323103 323115] (raylet) file_system_monitor.cc:111: /tmp/ray/session_2024-05-13_10-12-36_357405_322805 is over 95% full, available space: 504061247488; capacity: 16125711347712. Object creation will fail if spilling is required.\n",
      "\u001b[2m\u001b[33m(raylet)\u001b[0m [2024-05-13 10:17:48,030 E 323103 323115] (raylet) file_system_monitor.cc:111: /tmp/ray/session_2024-05-13_10-12-36_357405_322805 is over 95% full, available space: 504061116416; capacity: 16125711347712. Object creation will fail if spilling is required.\n",
      "\u001b[2m\u001b[33m(raylet)\u001b[0m [2024-05-13 10:17:58,032 E 323103 323115] (raylet) file_system_monitor.cc:111: /tmp/ray/session_2024-05-13_10-12-36_357405_322805 is over 95% full, available space: 504061050880; capacity: 16125711347712. Object creation will fail if spilling is required.\n",
      "\u001b[2m\u001b[33m(raylet)\u001b[0m [2024-05-13 10:18:08,034 E 323103 323115] (raylet) file_system_monitor.cc:111: /tmp/ray/session_2024-05-13_10-12-36_357405_322805 is over 95% full, available space: 504061046784; capacity: 16125711347712. Object creation will fail if spilling is required.\n",
      "\u001b[2m\u001b[33m(raylet)\u001b[0m [2024-05-13 10:18:18,036 E 323103 323115] (raylet) file_system_monitor.cc:111: /tmp/ray/session_2024-05-13_10-12-36_357405_322805 is over 95% full, available space: 504061038592; capacity: 16125711347712. Object creation will fail if spilling is required.\n",
      "\u001b[2m\u001b[33m(raylet)\u001b[0m [2024-05-13 10:18:28,038 E 323103 323115] (raylet) file_system_monitor.cc:111: /tmp/ray/session_2024-05-13_10-12-36_357405_322805 is over 95% full, available space: 504061038592; capacity: 16125711347712. Object creation will fail if spilling is required.\n",
      "\u001b[2m\u001b[33m(raylet)\u001b[0m [2024-05-13 10:18:38,040 E 323103 323115] (raylet) file_system_monitor.cc:111: /tmp/ray/session_2024-05-13_10-12-36_357405_322805 is over 95% full, available space: 504060973056; capacity: 16125711347712. Object creation will fail if spilling is required.\n",
      "Rendering a scenario: 100%|██████████| 1/1 [00:00<00:00, 37.90it/s]\n",
      "\u001b[2m\u001b[33m(raylet)\u001b[0m [2024-05-13 10:18:48,043 E 323103 323115] (raylet) file_system_monitor.cc:111: /tmp/ray/session_2024-05-13_10-12-36_357405_322805 is over 95% full, available space: 504060948480; capacity: 16125711347712. Object creation will fail if spilling is required.\n"
     ]
    },
    {
     "name": "stdout",
     "output_type": "stream",
     "text": [
      "2024-05-13 10:18:48,962 INFO {/home/ehdykhne/nuplan-devkit/nuplan/planning/nuboard/tabs/scenario_tab.py:485}  Rending scenario plot takes 2.8999 seconds.\n"
     ]
    },
    {
     "name": "stderr",
     "output_type": "stream",
     "text": [
      "\u001b[2m\u001b[33m(raylet)\u001b[0m [2024-05-13 10:18:58,045 E 323103 323115] (raylet) file_system_monitor.cc:111: /tmp/ray/session_2024-05-13_10-12-36_357405_322805 is over 95% full, available space: 504060944384; capacity: 16125711347712. Object creation will fail if spilling is required.\n",
      "\u001b[2m\u001b[33m(raylet)\u001b[0m [2024-05-13 10:19:08,047 E 323103 323115] (raylet) file_system_monitor.cc:111: /tmp/ray/session_2024-05-13_10-12-36_357405_322805 is over 95% full, available space: 504060944384; capacity: 16125711347712. Object creation will fail if spilling is required.\n",
      "\u001b[2m\u001b[33m(raylet)\u001b[0m [2024-05-13 10:19:18,049 E 323103 323115] (raylet) file_system_monitor.cc:111: /tmp/ray/session_2024-05-13_10-12-36_357405_322805 is over 95% full, available space: 504060940288; capacity: 16125711347712. Object creation will fail if spilling is required.\n",
      "\u001b[2m\u001b[33m(raylet)\u001b[0m [2024-05-13 10:19:28,051 E 323103 323115] (raylet) file_system_monitor.cc:111: /tmp/ray/session_2024-05-13_10-12-36_357405_322805 is over 95% full, available space: 504060932096; capacity: 16125711347712. Object creation will fail if spilling is required.\n",
      "\u001b[2m\u001b[33m(raylet)\u001b[0m [2024-05-13 10:19:38,053 E 323103 323115] (raylet) file_system_monitor.cc:111: /tmp/ray/session_2024-05-13_10-12-36_357405_322805 is over 95% full, available space: 504060903424; capacity: 16125711347712. Object creation will fail if spilling is required.\n",
      "\u001b[2m\u001b[33m(raylet)\u001b[0m [2024-05-13 10:19:48,055 E 323103 323115] (raylet) file_system_monitor.cc:111: /tmp/ray/session_2024-05-13_10-12-36_357405_322805 is over 95% full, available space: 504060768256; capacity: 16125711347712. Object creation will fail if spilling is required.\n",
      "\u001b[2m\u001b[33m(raylet)\u001b[0m [2024-05-13 10:19:58,057 E 323103 323115] (raylet) file_system_monitor.cc:111: /tmp/ray/session_2024-05-13_10-12-36_357405_322805 is over 95% full, available space: 504060768256; capacity: 16125711347712. Object creation will fail if spilling is required.\n",
      "\u001b[2m\u001b[33m(raylet)\u001b[0m [2024-05-13 10:20:08,059 E 323103 323115] (raylet) file_system_monitor.cc:111: /tmp/ray/session_2024-05-13_10-12-36_357405_322805 is over 95% full, available space: 504060760064; capacity: 16125711347712. Object creation will fail if spilling is required.\n",
      "\u001b[2m\u001b[33m(raylet)\u001b[0m [2024-05-13 10:20:18,061 E 323103 323115] (raylet) file_system_monitor.cc:111: /tmp/ray/session_2024-05-13_10-12-36_357405_322805 is over 95% full, available space: 504060628992; capacity: 16125711347712. Object creation will fail if spilling is required.\n",
      "\u001b[2m\u001b[33m(raylet)\u001b[0m [2024-05-13 10:20:28,063 E 323103 323115] (raylet) file_system_monitor.cc:111: /tmp/ray/session_2024-05-13_10-12-36_357405_322805 is over 95% full, available space: 504060624896; capacity: 16125711347712. Object creation will fail if spilling is required.\n",
      "\u001b[2m\u001b[33m(raylet)\u001b[0m [2024-05-13 10:20:38,065 E 323103 323115] (raylet) file_system_monitor.cc:111: /tmp/ray/session_2024-05-13_10-12-36_357405_322805 is over 95% full, available space: 504060596224; capacity: 16125711347712. Object creation will fail if spilling is required.\n",
      "\u001b[2m\u001b[33m(raylet)\u001b[0m [2024-05-13 10:20:48,067 E 323103 323115] (raylet) file_system_monitor.cc:111: /tmp/ray/session_2024-05-13_10-12-36_357405_322805 is over 95% full, available space: 504060592128; capacity: 16125711347712. Object creation will fail if spilling is required.\n",
      "\u001b[2m\u001b[33m(raylet)\u001b[0m [2024-05-13 10:20:58,070 E 323103 323115] (raylet) file_system_monitor.cc:111: /tmp/ray/session_2024-05-13_10-12-36_357405_322805 is over 95% full, available space: 504060588032; capacity: 16125711347712. Object creation will fail if spilling is required.\n",
      "\u001b[2m\u001b[33m(raylet)\u001b[0m [2024-05-13 10:21:08,072 E 323103 323115] (raylet) file_system_monitor.cc:111: /tmp/ray/session_2024-05-13_10-12-36_357405_322805 is over 95% full, available space: 504060588032; capacity: 16125711347712. Object creation will fail if spilling is required.\n",
      "\u001b[2m\u001b[33m(raylet)\u001b[0m [2024-05-13 10:21:18,074 E 323103 323115] (raylet) file_system_monitor.cc:111: /tmp/ray/session_2024-05-13_10-12-36_357405_322805 is over 95% full, available space: 504060588032; capacity: 16125711347712. Object creation will fail if spilling is required.\n",
      "Rendering a scenario: 100%|██████████| 1/1 [00:00<00:00, 14.29it/s]\n"
     ]
    },
    {
     "name": "stdout",
     "output_type": "stream",
     "text": [
      "2024-05-13 10:21:23,236 INFO {/home/ehdykhne/nuplan-devkit/nuplan/planning/nuboard/tabs/scenario_tab.py:485}  Rending scenario plot takes 5.5868 seconds.\n"
     ]
    },
    {
     "name": "stderr",
     "output_type": "stream",
     "text": [
      "\u001b[2m\u001b[33m(raylet)\u001b[0m [2024-05-13 10:21:28,077 E 323103 323115] (raylet) file_system_monitor.cc:111: /tmp/ray/session_2024-05-13_10-12-36_357405_322805 is over 95% full, available space: 504060583936; capacity: 16125711347712. Object creation will fail if spilling is required.\n",
      "\u001b[2m\u001b[33m(raylet)\u001b[0m [2024-05-13 10:21:38,079 E 323103 323115] (raylet) file_system_monitor.cc:111: /tmp/ray/session_2024-05-13_10-12-36_357405_322805 is over 95% full, available space: 504060559360; capacity: 16125711347712. Object creation will fail if spilling is required.\n",
      "\u001b[2m\u001b[33m(raylet)\u001b[0m [2024-05-13 10:21:48,081 E 323103 323115] (raylet) file_system_monitor.cc:111: /tmp/ray/session_2024-05-13_10-12-36_357405_322805 is over 95% full, available space: 504060424192; capacity: 16125711347712. Object creation will fail if spilling is required.\n",
      "\u001b[2m\u001b[33m(raylet)\u001b[0m [2024-05-13 10:21:58,083 E 323103 323115] (raylet) file_system_monitor.cc:111: /tmp/ray/session_2024-05-13_10-12-36_357405_322805 is over 95% full, available space: 504060416000; capacity: 16125711347712. Object creation will fail if spilling is required.\n",
      "\u001b[2m\u001b[33m(raylet)\u001b[0m [2024-05-13 10:22:08,085 E 323103 323115] (raylet) file_system_monitor.cc:111: /tmp/ray/session_2024-05-13_10-12-36_357405_322805 is over 95% full, available space: 504060416000; capacity: 16125711347712. Object creation will fail if spilling is required.\n",
      "\u001b[2m\u001b[33m(raylet)\u001b[0m [2024-05-13 10:22:18,087 E 323103 323115] (raylet) file_system_monitor.cc:111: /tmp/ray/session_2024-05-13_10-12-36_357405_322805 is over 95% full, available space: 504060416000; capacity: 16125711347712. Object creation will fail if spilling is required.\n",
      "\u001b[2m\u001b[33m(raylet)\u001b[0m [2024-05-13 10:22:28,089 E 323103 323115] (raylet) file_system_monitor.cc:111: /tmp/ray/session_2024-05-13_10-12-36_357405_322805 is over 95% full, available space: 504060407808; capacity: 16125711347712. Object creation will fail if spilling is required.\n",
      "\u001b[2m\u001b[33m(raylet)\u001b[0m [2024-05-13 10:22:38,091 E 323103 323115] (raylet) file_system_monitor.cc:111: /tmp/ray/session_2024-05-13_10-12-36_357405_322805 is over 95% full, available space: 504060383232; capacity: 16125711347712. Object creation will fail if spilling is required.\n",
      "\u001b[2m\u001b[33m(raylet)\u001b[0m [2024-05-13 10:22:48,094 E 323103 323115] (raylet) file_system_monitor.cc:111: /tmp/ray/session_2024-05-13_10-12-36_357405_322805 is over 95% full, available space: 504060375040; capacity: 16125711347712. Object creation will fail if spilling is required.\n",
      "\u001b[2m\u001b[33m(raylet)\u001b[0m [2024-05-13 10:22:58,096 E 323103 323115] (raylet) file_system_monitor.cc:111: /tmp/ray/session_2024-05-13_10-12-36_357405_322805 is over 95% full, available space: 504060370944; capacity: 16125711347712. Object creation will fail if spilling is required.\n",
      "\u001b[2m\u001b[33m(raylet)\u001b[0m [2024-05-13 10:23:08,098 E 323103 323115] (raylet) file_system_monitor.cc:111: /tmp/ray/session_2024-05-13_10-12-36_357405_322805 is over 95% full, available space: 504060370944; capacity: 16125711347712. Object creation will fail if spilling is required.\n",
      "\u001b[2m\u001b[33m(raylet)\u001b[0m [2024-05-13 10:23:18,100 E 323103 323115] (raylet) file_system_monitor.cc:111: /tmp/ray/session_2024-05-13_10-12-36_357405_322805 is over 95% full, available space: 504060366848; capacity: 16125711347712. Object creation will fail if spilling is required.\n",
      "\u001b[2m\u001b[33m(raylet)\u001b[0m [2024-05-13 10:23:28,102 E 323103 323115] (raylet) file_system_monitor.cc:111: /tmp/ray/session_2024-05-13_10-12-36_357405_322805 is over 95% full, available space: 504060358656; capacity: 16125711347712. Object creation will fail if spilling is required.\n",
      "\u001b[2m\u001b[33m(raylet)\u001b[0m [2024-05-13 10:23:38,104 E 323103 323115] (raylet) file_system_monitor.cc:111: /tmp/ray/session_2024-05-13_10-12-36_357405_322805 is over 95% full, available space: 504060334080; capacity: 16125711347712. Object creation will fail if spilling is required.\n",
      "\u001b[2m\u001b[33m(raylet)\u001b[0m [2024-05-13 10:23:48,105 E 323103 323115] (raylet) file_system_monitor.cc:111: /tmp/ray/session_2024-05-13_10-12-36_357405_322805 is over 95% full, available space: 504060194816; capacity: 16125711347712. Object creation will fail if spilling is required.\n",
      "\u001b[2m\u001b[33m(raylet)\u001b[0m [2024-05-13 10:23:58,107 E 323103 323115] (raylet) file_system_monitor.cc:111: /tmp/ray/session_2024-05-13_10-12-36_357405_322805 is over 95% full, available space: 504060194816; capacity: 16125711347712. Object creation will fail if spilling is required.\n",
      "Rendering a scenario: 100%|██████████| 1/1 [00:00<00:00, 27.25it/s]\n"
     ]
    },
    {
     "name": "stdout",
     "output_type": "stream",
     "text": [
      "2024-05-13 10:24:02,367 INFO {/home/ehdykhne/nuplan-devkit/nuplan/planning/nuboard/tabs/scenario_tab.py:485}  Rending scenario plot takes 4.9399 seconds.\n"
     ]
    },
    {
     "name": "stderr",
     "output_type": "stream",
     "text": [
      "\u001b[2m\u001b[33m(raylet)\u001b[0m [2024-05-13 10:24:08,110 E 323103 323115] (raylet) file_system_monitor.cc:111: /tmp/ray/session_2024-05-13_10-12-36_357405_322805 is over 95% full, available space: 504060186624; capacity: 16125711347712. Object creation will fail if spilling is required.\n",
      "\u001b[2m\u001b[33m(raylet)\u001b[0m [2024-05-13 10:24:18,112 E 323103 323115] (raylet) file_system_monitor.cc:111: /tmp/ray/session_2024-05-13_10-12-36_357405_322805 is over 95% full, available space: 504060186624; capacity: 16125711347712. Object creation will fail if spilling is required.\n",
      "\u001b[2m\u001b[33m(raylet)\u001b[0m [2024-05-13 10:24:28,114 E 323103 323115] (raylet) file_system_monitor.cc:111: /tmp/ray/session_2024-05-13_10-12-36_357405_322805 is over 95% full, available space: 504060186624; capacity: 16125711347712. Object creation will fail if spilling is required.\n",
      "\u001b[2m\u001b[33m(raylet)\u001b[0m [2024-05-13 10:24:38,116 E 323103 323115] (raylet) file_system_monitor.cc:111: /tmp/ray/session_2024-05-13_10-12-36_357405_322805 is over 95% full, available space: 504060153856; capacity: 16125711347712. Object creation will fail if spilling is required.\n",
      "\u001b[2m\u001b[33m(raylet)\u001b[0m [2024-05-13 10:24:48,118 E 323103 323115] (raylet) file_system_monitor.cc:111: /tmp/ray/session_2024-05-13_10-12-36_357405_322805 is over 95% full, available space: 504060149760; capacity: 16125711347712. Object creation will fail if spilling is required.\n",
      "\u001b[2m\u001b[33m(raylet)\u001b[0m [2024-05-13 10:24:58,120 E 323103 323115] (raylet) file_system_monitor.cc:111: /tmp/ray/session_2024-05-13_10-12-36_357405_322805 is over 95% full, available space: 504060145664; capacity: 16125711347712. Object creation will fail if spilling is required.\n",
      "\u001b[2m\u001b[33m(raylet)\u001b[0m [2024-05-13 10:25:08,122 E 323103 323115] (raylet) file_system_monitor.cc:111: /tmp/ray/session_2024-05-13_10-12-36_357405_322805 is over 95% full, available space: 504060137472; capacity: 16125711347712. Object creation will fail if spilling is required.\n",
      "\u001b[2m\u001b[33m(raylet)\u001b[0m [2024-05-13 10:25:18,124 E 323103 323115] (raylet) file_system_monitor.cc:111: /tmp/ray/session_2024-05-13_10-12-36_357405_322805 is over 95% full, available space: 504060137472; capacity: 16125711347712. Object creation will fail if spilling is required.\n",
      "\u001b[2m\u001b[33m(raylet)\u001b[0m [2024-05-13 10:25:28,125 E 323103 323115] (raylet) file_system_monitor.cc:111: /tmp/ray/session_2024-05-13_10-12-36_357405_322805 is over 95% full, available space: 504060133376; capacity: 16125711347712. Object creation will fail if spilling is required.\n",
      "\u001b[2m\u001b[33m(raylet)\u001b[0m [2024-05-13 10:25:38,127 E 323103 323115] (raylet) file_system_monitor.cc:111: /tmp/ray/session_2024-05-13_10-12-36_357405_322805 is over 95% full, available space: 504060108800; capacity: 16125711347712. Object creation will fail if spilling is required.\n",
      "Rendering a scenario: 100%|██████████| 1/1 [00:00<00:00, 159.96it/s]\n"
     ]
    },
    {
     "name": "stdout",
     "output_type": "stream",
     "text": [
      "2024-05-13 10:25:45,708 INFO {/home/ehdykhne/nuplan-devkit/nuplan/planning/nuboard/tabs/scenario_tab.py:485}  Rending scenario plot takes 5.2187 seconds.\n"
     ]
    },
    {
     "name": "stderr",
     "output_type": "stream",
     "text": [
      "\u001b[2m\u001b[33m(raylet)\u001b[0m [2024-05-13 10:25:48,130 E 323103 323115] (raylet) file_system_monitor.cc:111: /tmp/ray/session_2024-05-13_10-12-36_357405_322805 is over 95% full, available space: 504059973632; capacity: 16125711347712. Object creation will fail if spilling is required.\n",
      "\u001b[2m\u001b[33m(raylet)\u001b[0m [2024-05-13 10:25:58,132 E 323103 323115] (raylet) file_system_monitor.cc:111: /tmp/ray/session_2024-05-13_10-12-36_357405_322805 is over 95% full, available space: 504059969536; capacity: 16125711347712. Object creation will fail if spilling is required.\n",
      "\u001b[2m\u001b[33m(raylet)\u001b[0m [2024-05-13 10:26:08,134 E 323103 323115] (raylet) file_system_monitor.cc:111: /tmp/ray/session_2024-05-13_10-12-36_357405_322805 is over 95% full, available space: 504059965440; capacity: 16125711347712. Object creation will fail if spilling is required.\n",
      "\u001b[2m\u001b[33m(raylet)\u001b[0m [2024-05-13 10:26:18,136 E 323103 323115] (raylet) file_system_monitor.cc:111: /tmp/ray/session_2024-05-13_10-12-36_357405_322805 is over 95% full, available space: 504059965440; capacity: 16125711347712. Object creation will fail if spilling is required.\n",
      "\u001b[2m\u001b[33m(raylet)\u001b[0m [2024-05-13 10:26:28,138 E 323103 323115] (raylet) file_system_monitor.cc:111: /tmp/ray/session_2024-05-13_10-12-36_357405_322805 is over 95% full, available space: 504059957248; capacity: 16125711347712. Object creation will fail if spilling is required.\n",
      "\u001b[2m\u001b[33m(raylet)\u001b[0m [2024-05-13 10:26:38,140 E 323103 323115] (raylet) file_system_monitor.cc:111: /tmp/ray/session_2024-05-13_10-12-36_357405_322805 is over 95% full, available space: 504059932672; capacity: 16125711347712. Object creation will fail if spilling is required.\n",
      "\u001b[2m\u001b[33m(raylet)\u001b[0m [2024-05-13 10:26:48,142 E 323103 323115] (raylet) file_system_monitor.cc:111: /tmp/ray/session_2024-05-13_10-12-36_357405_322805 is over 95% full, available space: 504059928576; capacity: 16125711347712. Object creation will fail if spilling is required.\n",
      "\u001b[2m\u001b[33m(raylet)\u001b[0m [2024-05-13 10:26:58,143 E 323103 323115] (raylet) file_system_monitor.cc:111: /tmp/ray/session_2024-05-13_10-12-36_357405_322805 is over 95% full, available space: 504059928576; capacity: 16125711347712. Object creation will fail if spilling is required.\n",
      "\u001b[2m\u001b[33m(raylet)\u001b[0m [2024-05-13 10:27:08,145 E 323103 323115] (raylet) file_system_monitor.cc:111: /tmp/ray/session_2024-05-13_10-12-36_357405_322805 is over 95% full, available space: 504059928576; capacity: 16125711347712. Object creation will fail if spilling is required.\n",
      "\u001b[2m\u001b[33m(raylet)\u001b[0m [2024-05-13 10:27:18,147 E 323103 323115] (raylet) file_system_monitor.cc:111: /tmp/ray/session_2024-05-13_10-12-36_357405_322805 is over 95% full, available space: 504059920384; capacity: 16125711347712. Object creation will fail if spilling is required.\n",
      "\u001b[2m\u001b[33m(raylet)\u001b[0m [2024-05-13 10:27:28,149 E 323103 323115] (raylet) file_system_monitor.cc:111: /tmp/ray/session_2024-05-13_10-12-36_357405_322805 is over 95% full, available space: 504059920384; capacity: 16125711347712. Object creation will fail if spilling is required.\n",
      "\u001b[2m\u001b[33m(raylet)\u001b[0m [2024-05-13 10:27:38,151 E 323103 323115] (raylet) file_system_monitor.cc:111: /tmp/ray/session_2024-05-13_10-12-36_357405_322805 is over 95% full, available space: 504059895808; capacity: 16125711347712. Object creation will fail if spilling is required.\n",
      "Rendering a scenario: 100%|██████████| 1/1 [00:00<00:00, 1061.85it/s]\n"
     ]
    },
    {
     "name": "stdout",
     "output_type": "stream",
     "text": [
      "2024-05-13 10:27:39,993 INFO {/home/ehdykhne/nuplan-devkit/nuplan/planning/nuboard/tabs/scenario_tab.py:485}  Rending scenario plot takes 3.9692 seconds.\n"
     ]
    },
    {
     "name": "stderr",
     "output_type": "stream",
     "text": [
      "\u001b[2m\u001b[33m(raylet)\u001b[0m [2024-05-13 10:27:48,153 E 323103 323115] (raylet) file_system_monitor.cc:111: /tmp/ray/session_2024-05-13_10-12-36_357405_322805 is over 95% full, available space: 504059752448; capacity: 16125711347712. Object creation will fail if spilling is required.\n",
      "\u001b[2m\u001b[33m(raylet)\u001b[0m [2024-05-13 10:27:58,155 E 323103 323115] (raylet) file_system_monitor.cc:111: /tmp/ray/session_2024-05-13_10-12-36_357405_322805 is over 95% full, available space: 504059748352; capacity: 16125711347712. Object creation will fail if spilling is required.\n",
      "Rendering a scenario: 100%|██████████| 1/1 [00:00<00:00, 90.36it/s]\n"
     ]
    },
    {
     "name": "stdout",
     "output_type": "stream",
     "text": [
      "2024-05-13 10:28:02,201 INFO {/home/ehdykhne/nuplan-devkit/nuplan/planning/nuboard/tabs/scenario_tab.py:485}  Rending scenario plot takes 3.5565 seconds.\n"
     ]
    },
    {
     "name": "stderr",
     "output_type": "stream",
     "text": [
      "\u001b[2m\u001b[33m(raylet)\u001b[0m [2024-05-13 10:28:08,157 E 323103 323115] (raylet) file_system_monitor.cc:111: /tmp/ray/session_2024-05-13_10-12-36_357405_322805 is over 95% full, available space: 504059744256; capacity: 16125711347712. Object creation will fail if spilling is required.\n",
      "\u001b[2m\u001b[33m(raylet)\u001b[0m [2024-05-13 10:28:18,159 E 323103 323115] (raylet) file_system_monitor.cc:111: /tmp/ray/session_2024-05-13_10-12-36_357405_322805 is over 95% full, available space: 504059744256; capacity: 16125711347712. Object creation will fail if spilling is required.\n",
      "\u001b[2m\u001b[33m(raylet)\u001b[0m [2024-05-13 10:28:28,161 E 323103 323115] (raylet) file_system_monitor.cc:111: /tmp/ray/session_2024-05-13_10-12-36_357405_322805 is over 95% full, available space: 504059744256; capacity: 16125711347712. Object creation will fail if spilling is required.\n",
      "\u001b[2m\u001b[33m(raylet)\u001b[0m [2024-05-13 10:28:38,163 E 323103 323115] (raylet) file_system_monitor.cc:111: /tmp/ray/session_2024-05-13_10-12-36_357405_322805 is over 95% full, available space: 504059715584; capacity: 16125711347712. Object creation will fail if spilling is required.\n",
      "\u001b[2m\u001b[33m(raylet)\u001b[0m [2024-05-13 10:28:48,165 E 323103 323115] (raylet) file_system_monitor.cc:111: /tmp/ray/session_2024-05-13_10-12-36_357405_322805 is over 95% full, available space: 504059576320; capacity: 16125711347712. Object creation will fail if spilling is required.\n",
      "Rendering a scenario: 100%|██████████| 1/1 [00:00<00:00, 165.07it/s]\n"
     ]
    },
    {
     "name": "stdout",
     "output_type": "stream",
     "text": [
      "2024-05-13 10:28:51,996 INFO {/home/ehdykhne/nuplan-devkit/nuplan/planning/nuboard/tabs/scenario_tab.py:485}  Rending scenario plot takes 3.1856 seconds.\n"
     ]
    },
    {
     "name": "stderr",
     "output_type": "stream",
     "text": [
      "\u001b[2m\u001b[33m(raylet)\u001b[0m [2024-05-13 10:28:58,167 E 323103 323115] (raylet) file_system_monitor.cc:111: /tmp/ray/session_2024-05-13_10-12-36_357405_322805 is over 95% full, available space: 504059576320; capacity: 16125711347712. Object creation will fail if spilling is required.\n",
      "\u001b[2m\u001b[33m(raylet)\u001b[0m [2024-05-13 10:29:08,169 E 323103 323115] (raylet) file_system_monitor.cc:111: /tmp/ray/session_2024-05-13_10-12-36_357405_322805 is over 95% full, available space: 504059568128; capacity: 16125711347712. Object creation will fail if spilling is required.\n",
      "\u001b[2m\u001b[33m(raylet)\u001b[0m [2024-05-13 10:29:18,171 E 323103 323115] (raylet) file_system_monitor.cc:111: /tmp/ray/session_2024-05-13_10-12-36_357405_322805 is over 95% full, available space: 504059568128; capacity: 16125711347712. Object creation will fail if spilling is required.\n",
      "\u001b[2m\u001b[33m(raylet)\u001b[0m [2024-05-13 10:29:28,173 E 323103 323115] (raylet) file_system_monitor.cc:111: /tmp/ray/session_2024-05-13_10-12-36_357405_322805 is over 95% full, available space: 504059559936; capacity: 16125711347712. Object creation will fail if spilling is required.\n",
      "\u001b[2m\u001b[33m(raylet)\u001b[0m [2024-05-13 10:29:38,175 E 323103 323115] (raylet) file_system_monitor.cc:111: /tmp/ray/session_2024-05-13_10-12-36_357405_322805 is over 95% full, available space: 504059535360; capacity: 16125711347712. Object creation will fail if spilling is required.\n",
      "\u001b[2m\u001b[33m(raylet)\u001b[0m [2024-05-13 10:29:48,177 E 323103 323115] (raylet) file_system_monitor.cc:111: /tmp/ray/session_2024-05-13_10-12-36_357405_322805 is over 95% full, available space: 504059535360; capacity: 16125711347712. Object creation will fail if spilling is required.\n",
      "\u001b[2m\u001b[33m(raylet)\u001b[0m [2024-05-13 10:29:58,179 E 323103 323115] (raylet) file_system_monitor.cc:111: /tmp/ray/session_2024-05-13_10-12-36_357405_322805 is over 95% full, available space: 504059527168; capacity: 16125711347712. Object creation will fail if spilling is required.\n",
      "\u001b[2m\u001b[33m(raylet)\u001b[0m [2024-05-13 10:30:08,181 E 323103 323115] (raylet) file_system_monitor.cc:111: /tmp/ray/session_2024-05-13_10-12-36_357405_322805 is over 95% full, available space: 504059527168; capacity: 16125711347712. Object creation will fail if spilling is required.\n",
      "\u001b[2m\u001b[33m(raylet)\u001b[0m [2024-05-13 10:30:18,182 E 323103 323115] (raylet) file_system_monitor.cc:111: /tmp/ray/session_2024-05-13_10-12-36_357405_322805 is over 95% full, available space: 504059527168; capacity: 16125711347712. Object creation will fail if spilling is required.\n",
      "\u001b[2m\u001b[33m(raylet)\u001b[0m [2024-05-13 10:30:28,184 E 323103 323115] (raylet) file_system_monitor.cc:111: /tmp/ray/session_2024-05-13_10-12-36_357405_322805 is over 95% full, available space: 504059523072; capacity: 16125711347712. Object creation will fail if spilling is required.\n",
      "\u001b[2m\u001b[33m(raylet)\u001b[0m [2024-05-13 10:30:38,186 E 323103 323115] (raylet) file_system_monitor.cc:111: /tmp/ray/session_2024-05-13_10-12-36_357405_322805 is over 95% full, available space: 504059494400; capacity: 16125711347712. Object creation will fail if spilling is required.\n",
      "\u001b[2m\u001b[33m(raylet)\u001b[0m [2024-05-13 10:30:48,188 E 323103 323115] (raylet) file_system_monitor.cc:111: /tmp/ray/session_2024-05-13_10-12-36_357405_322805 is over 95% full, available space: 504059355136; capacity: 16125711347712. Object creation will fail if spilling is required.\n",
      "\u001b[2m\u001b[33m(raylet)\u001b[0m [2024-05-13 10:30:58,190 E 323103 323115] (raylet) file_system_monitor.cc:111: /tmp/ray/session_2024-05-13_10-12-36_357405_322805 is over 95% full, available space: 504059351040; capacity: 16125711347712. Object creation will fail if spilling is required.\n",
      "\u001b[2m\u001b[33m(raylet)\u001b[0m [2024-05-13 10:31:08,192 E 323103 323115] (raylet) file_system_monitor.cc:111: /tmp/ray/session_2024-05-13_10-12-36_357405_322805 is over 95% full, available space: 504059351040; capacity: 16125711347712. Object creation will fail if spilling is required.\n",
      "\u001b[2m\u001b[33m(raylet)\u001b[0m [2024-05-13 10:31:18,194 E 323103 323115] (raylet) file_system_monitor.cc:111: /tmp/ray/session_2024-05-13_10-12-36_357405_322805 is over 95% full, available space: 504059346944; capacity: 16125711347712. Object creation will fail if spilling is required.\n",
      "\u001b[2m\u001b[33m(raylet)\u001b[0m [2024-05-13 10:31:28,195 E 323103 323115] (raylet) file_system_monitor.cc:111: /tmp/ray/session_2024-05-13_10-12-36_357405_322805 is over 95% full, available space: 504059342848; capacity: 16125711347712. Object creation will fail if spilling is required.\n",
      "\u001b[2m\u001b[33m(raylet)\u001b[0m [2024-05-13 10:31:38,198 E 323103 323115] (raylet) file_system_monitor.cc:111: /tmp/ray/session_2024-05-13_10-12-36_357405_322805 is over 95% full, available space: 504059318272; capacity: 16125711347712. Object creation will fail if spilling is required.\n",
      "\u001b[2m\u001b[33m(raylet)\u001b[0m [2024-05-13 10:31:48,200 E 323103 323115] (raylet) file_system_monitor.cc:111: /tmp/ray/session_2024-05-13_10-12-36_357405_322805 is over 95% full, available space: 504059310080; capacity: 16125711347712. Object creation will fail if spilling is required.\n",
      "\u001b[2m\u001b[33m(raylet)\u001b[0m [2024-05-13 10:31:58,202 E 323103 323115] (raylet) file_system_monitor.cc:111: /tmp/ray/session_2024-05-13_10-12-36_357405_322805 is over 95% full, available space: 504059310080; capacity: 16125711347712. Object creation will fail if spilling is required.\n",
      "\u001b[2m\u001b[33m(raylet)\u001b[0m [2024-05-13 10:32:08,203 E 323103 323115] (raylet) file_system_monitor.cc:111: /tmp/ray/session_2024-05-13_10-12-36_357405_322805 is over 95% full, available space: 504059305984; capacity: 16125711347712. Object creation will fail if spilling is required.\n",
      "\u001b[2m\u001b[33m(raylet)\u001b[0m [2024-05-13 10:32:18,205 E 323103 323115] (raylet) file_system_monitor.cc:111: /tmp/ray/session_2024-05-13_10-12-36_357405_322805 is over 95% full, available space: 504059301888; capacity: 16125711347712. Object creation will fail if spilling is required.\n",
      "\u001b[2m\u001b[33m(raylet)\u001b[0m [2024-05-13 10:32:28,207 E 323103 323115] (raylet) file_system_monitor.cc:111: /tmp/ray/session_2024-05-13_10-12-36_357405_322805 is over 95% full, available space: 504059297792; capacity: 16125711347712. Object creation will fail if spilling is required.\n",
      "\u001b[2m\u001b[33m(raylet)\u001b[0m [2024-05-13 10:32:38,210 E 323103 323115] (raylet) file_system_monitor.cc:111: /tmp/ray/session_2024-05-13_10-12-36_357405_322805 is over 95% full, available space: 504059265024; capacity: 16125711347712. Object creation will fail if spilling is required.\n",
      "\u001b[2m\u001b[33m(raylet)\u001b[0m [2024-05-13 10:32:48,213 E 323103 323115] (raylet) file_system_monitor.cc:111: /tmp/ray/session_2024-05-13_10-12-36_357405_322805 is over 95% full, available space: 504059133952; capacity: 16125711347712. Object creation will fail if spilling is required.\n",
      "\u001b[2m\u001b[33m(raylet)\u001b[0m [2024-05-13 10:32:58,216 E 323103 323115] (raylet) file_system_monitor.cc:111: /tmp/ray/session_2024-05-13_10-12-36_357405_322805 is over 95% full, available space: 504059133952; capacity: 16125711347712. Object creation will fail if spilling is required.\n",
      "\u001b[2m\u001b[33m(raylet)\u001b[0m [2024-05-13 10:33:08,220 E 323103 323115] (raylet) file_system_monitor.cc:111: /tmp/ray/session_2024-05-13_10-12-36_357405_322805 is over 95% full, available space: 504059129856; capacity: 16125711347712. Object creation will fail if spilling is required.\n",
      "\u001b[2m\u001b[33m(raylet)\u001b[0m [2024-05-13 10:33:18,223 E 323103 323115] (raylet) file_system_monitor.cc:111: /tmp/ray/session_2024-05-13_10-12-36_357405_322805 is over 95% full, available space: 504059129856; capacity: 16125711347712. Object creation will fail if spilling is required.\n",
      "\u001b[2m\u001b[33m(raylet)\u001b[0m [2024-05-13 10:33:28,227 E 323103 323115] (raylet) file_system_monitor.cc:111: /tmp/ray/session_2024-05-13_10-12-36_357405_322805 is over 95% full, available space: 504059129856; capacity: 16125711347712. Object creation will fail if spilling is required.\n",
      "\u001b[2m\u001b[33m(raylet)\u001b[0m [2024-05-13 10:33:38,230 E 323103 323115] (raylet) file_system_monitor.cc:111: /tmp/ray/session_2024-05-13_10-12-36_357405_322805 is over 95% full, available space: 504059101184; capacity: 16125711347712. Object creation will fail if spilling is required.\n",
      "\u001b[2m\u001b[33m(raylet)\u001b[0m [2024-05-13 10:33:48,233 E 323103 323115] (raylet) file_system_monitor.cc:111: /tmp/ray/session_2024-05-13_10-12-36_357405_322805 is over 95% full, available space: 504059097088; capacity: 16125711347712. Object creation will fail if spilling is required.\n",
      "\u001b[2m\u001b[33m(raylet)\u001b[0m [2024-05-13 10:33:58,237 E 323103 323115] (raylet) file_system_monitor.cc:111: /tmp/ray/session_2024-05-13_10-12-36_357405_322805 is over 95% full, available space: 504059088896; capacity: 16125711347712. Object creation will fail if spilling is required.\n",
      "\u001b[2m\u001b[33m(raylet)\u001b[0m [2024-05-13 10:34:08,240 E 323103 323115] (raylet) file_system_monitor.cc:111: /tmp/ray/session_2024-05-13_10-12-36_357405_322805 is over 95% full, available space: 504059084800; capacity: 16125711347712. Object creation will fail if spilling is required.\n",
      "\u001b[2m\u001b[33m(raylet)\u001b[0m [2024-05-13 10:34:18,242 E 323103 323115] (raylet) file_system_monitor.cc:111: /tmp/ray/session_2024-05-13_10-12-36_357405_322805 is over 95% full, available space: 504059080704; capacity: 16125711347712. Object creation will fail if spilling is required.\n",
      "\u001b[2m\u001b[33m(raylet)\u001b[0m [2024-05-13 10:34:28,244 E 323103 323115] (raylet) file_system_monitor.cc:111: /tmp/ray/session_2024-05-13_10-12-36_357405_322805 is over 95% full, available space: 504059076608; capacity: 16125711347712. Object creation will fail if spilling is required.\n",
      "\u001b[2m\u001b[33m(raylet)\u001b[0m [2024-05-13 10:34:38,246 E 323103 323115] (raylet) file_system_monitor.cc:111: /tmp/ray/session_2024-05-13_10-12-36_357405_322805 is over 95% full, available space: 504059056128; capacity: 16125711347712. Object creation will fail if spilling is required.\n",
      "\u001b[2m\u001b[33m(raylet)\u001b[0m [2024-05-13 10:34:48,247 E 323103 323115] (raylet) file_system_monitor.cc:111: /tmp/ray/session_2024-05-13_10-12-36_357405_322805 is over 95% full, available space: 504058916864; capacity: 16125711347712. Object creation will fail if spilling is required.\n",
      "\u001b[2m\u001b[33m(raylet)\u001b[0m [2024-05-13 10:34:58,249 E 323103 323115] (raylet) file_system_monitor.cc:111: /tmp/ray/session_2024-05-13_10-12-36_357405_322805 is over 95% full, available space: 504058912768; capacity: 16125711347712. Object creation will fail if spilling is required.\n",
      "\u001b[2m\u001b[33m(raylet)\u001b[0m [2024-05-13 10:35:08,251 E 323103 323115] (raylet) file_system_monitor.cc:111: /tmp/ray/session_2024-05-13_10-12-36_357405_322805 is over 95% full, available space: 504058912768; capacity: 16125711347712. Object creation will fail if spilling is required.\n",
      "\u001b[2m\u001b[33m(raylet)\u001b[0m [2024-05-13 10:35:18,253 E 323103 323115] (raylet) file_system_monitor.cc:111: /tmp/ray/session_2024-05-13_10-12-36_357405_322805 is over 95% full, available space: 504058908672; capacity: 16125711347712. Object creation will fail if spilling is required.\n",
      "\u001b[2m\u001b[33m(raylet)\u001b[0m [2024-05-13 10:35:28,255 E 323103 323115] (raylet) file_system_monitor.cc:111: /tmp/ray/session_2024-05-13_10-12-36_357405_322805 is over 95% full, available space: 504058904576; capacity: 16125711347712. Object creation will fail if spilling is required.\n",
      "\u001b[2m\u001b[33m(raylet)\u001b[0m [2024-05-13 10:35:38,257 E 323103 323115] (raylet) file_system_monitor.cc:111: /tmp/ray/session_2024-05-13_10-12-36_357405_322805 is over 95% full, available space: 504058875904; capacity: 16125711347712. Object creation will fail if spilling is required.\n",
      "\u001b[2m\u001b[33m(raylet)\u001b[0m [2024-05-13 10:35:48,259 E 323103 323115] (raylet) file_system_monitor.cc:111: /tmp/ray/session_2024-05-13_10-12-36_357405_322805 is over 95% full, available space: 504058863616; capacity: 16125711347712. Object creation will fail if spilling is required.\n",
      "\u001b[2m\u001b[33m(raylet)\u001b[0m [2024-05-13 10:35:58,261 E 323103 323115] (raylet) file_system_monitor.cc:111: /tmp/ray/session_2024-05-13_10-12-36_357405_322805 is over 95% full, available space: 504058863616; capacity: 16125711347712. Object creation will fail if spilling is required.\n",
      "\u001b[2m\u001b[33m(raylet)\u001b[0m [2024-05-13 10:36:08,263 E 323103 323115] (raylet) file_system_monitor.cc:111: /tmp/ray/session_2024-05-13_10-12-36_357405_322805 is over 95% full, available space: 504058863616; capacity: 16125711347712. Object creation will fail if spilling is required.\n",
      "\u001b[2m\u001b[33m(raylet)\u001b[0m [2024-05-13 10:36:18,265 E 323103 323115] (raylet) file_system_monitor.cc:111: /tmp/ray/session_2024-05-13_10-12-36_357405_322805 is over 95% full, available space: 504058859520; capacity: 16125711347712. Object creation will fail if spilling is required.\n",
      "\u001b[2m\u001b[33m(raylet)\u001b[0m [2024-05-13 10:36:28,267 E 323103 323115] (raylet) file_system_monitor.cc:111: /tmp/ray/session_2024-05-13_10-12-36_357405_322805 is over 95% full, available space: 504058859520; capacity: 16125711347712. Object creation will fail if spilling is required.\n",
      "\u001b[2m\u001b[33m(raylet)\u001b[0m [2024-05-13 10:36:38,270 E 323103 323115] (raylet) file_system_monitor.cc:111: /tmp/ray/session_2024-05-13_10-12-36_357405_322805 is over 95% full, available space: 504058830848; capacity: 16125711347712. Object creation will fail if spilling is required.\n",
      "\u001b[2m\u001b[33m(raylet)\u001b[0m [2024-05-13 10:36:48,274 E 323103 323115] (raylet) file_system_monitor.cc:111: /tmp/ray/session_2024-05-13_10-12-36_357405_322805 is over 95% full, available space: 504058695680; capacity: 16125711347712. Object creation will fail if spilling is required.\n",
      "\u001b[2m\u001b[33m(raylet)\u001b[0m [2024-05-13 10:36:58,277 E 323103 323115] (raylet) file_system_monitor.cc:111: /tmp/ray/session_2024-05-13_10-12-36_357405_322805 is over 95% full, available space: 504058687488; capacity: 16125711347712. Object creation will fail if spilling is required.\n",
      "\u001b[2m\u001b[33m(raylet)\u001b[0m [2024-05-13 10:37:08,281 E 323103 323115] (raylet) file_system_monitor.cc:111: /tmp/ray/session_2024-05-13_10-12-36_357405_322805 is over 95% full, available space: 504058683392; capacity: 16125711347712. Object creation will fail if spilling is required.\n",
      "\u001b[2m\u001b[33m(raylet)\u001b[0m [2024-05-13 10:37:18,284 E 323103 323115] (raylet) file_system_monitor.cc:111: /tmp/ray/session_2024-05-13_10-12-36_357405_322805 is over 95% full, available space: 504058683392; capacity: 16125711347712. Object creation will fail if spilling is required.\n",
      "\u001b[2m\u001b[33m(raylet)\u001b[0m [2024-05-13 10:37:28,287 E 323103 323115] (raylet) file_system_monitor.cc:111: /tmp/ray/session_2024-05-13_10-12-36_357405_322805 is over 95% full, available space: 504058683392; capacity: 16125711347712. Object creation will fail if spilling is required.\n",
      "\u001b[2m\u001b[33m(raylet)\u001b[0m [2024-05-13 10:37:38,291 E 323103 323115] (raylet) file_system_monitor.cc:111: /tmp/ray/session_2024-05-13_10-12-36_357405_322805 is over 95% full, available space: 504058650624; capacity: 16125711347712. Object creation will fail if spilling is required.\n",
      "\u001b[2m\u001b[33m(raylet)\u001b[0m [2024-05-13 10:37:48,295 E 323103 323115] (raylet) file_system_monitor.cc:111: /tmp/ray/session_2024-05-13_10-12-36_357405_322805 is over 95% full, available space: 504058646528; capacity: 16125711347712. Object creation will fail if spilling is required.\n",
      "\u001b[2m\u001b[33m(raylet)\u001b[0m [2024-05-13 10:37:58,299 E 323103 323115] (raylet) file_system_monitor.cc:111: /tmp/ray/session_2024-05-13_10-12-36_357405_322805 is over 95% full, available space: 504058642432; capacity: 16125711347712. Object creation will fail if spilling is required.\n",
      "\u001b[2m\u001b[33m(raylet)\u001b[0m [2024-05-13 10:38:08,303 E 323103 323115] (raylet) file_system_monitor.cc:111: /tmp/ray/session_2024-05-13_10-12-36_357405_322805 is over 95% full, available space: 504058642432; capacity: 16125711347712. Object creation will fail if spilling is required.\n",
      "\u001b[2m\u001b[33m(raylet)\u001b[0m [2024-05-13 10:38:18,307 E 323103 323115] (raylet) file_system_monitor.cc:111: /tmp/ray/session_2024-05-13_10-12-36_357405_322805 is over 95% full, available space: 504058642432; capacity: 16125711347712. Object creation will fail if spilling is required.\n",
      "\u001b[2m\u001b[33m(raylet)\u001b[0m [2024-05-13 10:38:28,311 E 323103 323115] (raylet) file_system_monitor.cc:111: /tmp/ray/session_2024-05-13_10-12-36_357405_322805 is over 95% full, available space: 504058634240; capacity: 16125711347712. Object creation will fail if spilling is required.\n",
      "\u001b[2m\u001b[33m(raylet)\u001b[0m [2024-05-13 10:38:38,315 E 323103 323115] (raylet) file_system_monitor.cc:111: /tmp/ray/session_2024-05-13_10-12-36_357405_322805 is over 95% full, available space: 504058609664; capacity: 16125711347712. Object creation will fail if spilling is required.\n",
      "\u001b[2m\u001b[33m(raylet)\u001b[0m [2024-05-13 10:38:48,321 E 323103 323115] (raylet) file_system_monitor.cc:111: /tmp/ray/session_2024-05-13_10-12-36_357405_322805 is over 95% full, available space: 504058474496; capacity: 16125711347712. Object creation will fail if spilling is required.\n",
      "\u001b[2m\u001b[33m(raylet)\u001b[0m [2024-05-13 10:38:58,326 E 323103 323115] (raylet) file_system_monitor.cc:111: /tmp/ray/session_2024-05-13_10-12-36_357405_322805 is over 95% full, available space: 504058470400; capacity: 16125711347712. Object creation will fail if spilling is required.\n",
      "\u001b[2m\u001b[33m(raylet)\u001b[0m [2024-05-13 10:39:08,330 E 323103 323115] (raylet) file_system_monitor.cc:111: /tmp/ray/session_2024-05-13_10-12-36_357405_322805 is over 95% full, available space: 504058470400; capacity: 16125711347712. Object creation will fail if spilling is required.\n",
      "\u001b[2m\u001b[33m(raylet)\u001b[0m [2024-05-13 10:39:18,337 E 323103 323115] (raylet) file_system_monitor.cc:111: /tmp/ray/session_2024-05-13_10-12-36_357405_322805 is over 95% full, available space: 504058462208; capacity: 16125711347712. Object creation will fail if spilling is required.\n",
      "\u001b[2m\u001b[33m(raylet)\u001b[0m [2024-05-13 10:39:28,342 E 323103 323115] (raylet) file_system_monitor.cc:111: /tmp/ray/session_2024-05-13_10-12-36_357405_322805 is over 95% full, available space: 504058458112; capacity: 16125711347712. Object creation will fail if spilling is required.\n",
      "\u001b[2m\u001b[33m(raylet)\u001b[0m [2024-05-13 10:39:38,351 E 323103 323115] (raylet) file_system_monitor.cc:111: /tmp/ray/session_2024-05-13_10-12-36_357405_322805 is over 95% full, available space: 504058433536; capacity: 16125711347712. Object creation will fail if spilling is required.\n",
      "\u001b[2m\u001b[33m(raylet)\u001b[0m [2024-05-13 10:39:48,358 E 323103 323115] (raylet) file_system_monitor.cc:111: /tmp/ray/session_2024-05-13_10-12-36_357405_322805 is over 95% full, available space: 504058429440; capacity: 16125711347712. Object creation will fail if spilling is required.\n",
      "\u001b[2m\u001b[33m(raylet)\u001b[0m [2024-05-13 10:39:58,365 E 323103 323115] (raylet) file_system_monitor.cc:111: /tmp/ray/session_2024-05-13_10-12-36_357405_322805 is over 95% full, available space: 504058425344; capacity: 16125711347712. Object creation will fail if spilling is required.\n",
      "\u001b[2m\u001b[33m(raylet)\u001b[0m [2024-05-13 10:40:08,369 E 323103 323115] (raylet) file_system_monitor.cc:111: /tmp/ray/session_2024-05-13_10-12-36_357405_322805 is over 95% full, available space: 504058425344; capacity: 16125711347712. Object creation will fail if spilling is required.\n",
      "\u001b[2m\u001b[33m(raylet)\u001b[0m [2024-05-13 10:40:18,372 E 323103 323115] (raylet) file_system_monitor.cc:111: /tmp/ray/session_2024-05-13_10-12-36_357405_322805 is over 95% full, available space: 504058421248; capacity: 16125711347712. Object creation will fail if spilling is required.\n",
      "\u001b[2m\u001b[33m(raylet)\u001b[0m [2024-05-13 10:40:28,376 E 323103 323115] (raylet) file_system_monitor.cc:111: /tmp/ray/session_2024-05-13_10-12-36_357405_322805 is over 95% full, available space: 504058421248; capacity: 16125711347712. Object creation will fail if spilling is required.\n",
      "\u001b[2m\u001b[33m(raylet)\u001b[0m [2024-05-13 10:40:38,379 E 323103 323115] (raylet) file_system_monitor.cc:111: /tmp/ray/session_2024-05-13_10-12-36_357405_322805 is over 95% full, available space: 504058388480; capacity: 16125711347712. Object creation will fail if spilling is required.\n",
      "\u001b[2m\u001b[33m(raylet)\u001b[0m [2024-05-13 10:40:48,383 E 323103 323115] (raylet) file_system_monitor.cc:111: /tmp/ray/session_2024-05-13_10-12-36_357405_322805 is over 95% full, available space: 504058253312; capacity: 16125711347712. Object creation will fail if spilling is required.\n",
      "\u001b[2m\u001b[33m(raylet)\u001b[0m [2024-05-13 10:40:58,386 E 323103 323115] (raylet) file_system_monitor.cc:111: /tmp/ray/session_2024-05-13_10-12-36_357405_322805 is over 95% full, available space: 504058253312; capacity: 16125711347712. Object creation will fail if spilling is required.\n",
      "\u001b[2m\u001b[33m(raylet)\u001b[0m [2024-05-13 10:41:08,389 E 323103 323115] (raylet) file_system_monitor.cc:111: /tmp/ray/session_2024-05-13_10-12-36_357405_322805 is over 95% full, available space: 504058249216; capacity: 16125711347712. Object creation will fail if spilling is required.\n",
      "\u001b[2m\u001b[33m(raylet)\u001b[0m [2024-05-13 10:41:18,393 E 323103 323115] (raylet) file_system_monitor.cc:111: /tmp/ray/session_2024-05-13_10-12-36_357405_322805 is over 95% full, available space: 504058249216; capacity: 16125711347712. Object creation will fail if spilling is required.\n",
      "\u001b[2m\u001b[33m(raylet)\u001b[0m [2024-05-13 10:41:28,396 E 323103 323115] (raylet) file_system_monitor.cc:111: /tmp/ray/session_2024-05-13_10-12-36_357405_322805 is over 95% full, available space: 504058241024; capacity: 16125711347712. Object creation will fail if spilling is required.\n",
      "\u001b[2m\u001b[33m(raylet)\u001b[0m [2024-05-13 10:41:38,399 E 323103 323115] (raylet) file_system_monitor.cc:111: /tmp/ray/session_2024-05-13_10-12-36_357405_322805 is over 95% full, available space: 504058216448; capacity: 16125711347712. Object creation will fail if spilling is required.\n",
      "\u001b[2m\u001b[33m(raylet)\u001b[0m [2024-05-13 10:41:48,403 E 323103 323115] (raylet) file_system_monitor.cc:111: /tmp/ray/session_2024-05-13_10-12-36_357405_322805 is over 95% full, available space: 504058097664; capacity: 16125711347712. Object creation will fail if spilling is required.\n",
      "\u001b[2m\u001b[33m(raylet)\u001b[0m [2024-05-13 10:41:58,406 E 323103 323115] (raylet) file_system_monitor.cc:111: /tmp/ray/session_2024-05-13_10-12-36_357405_322805 is over 95% full, available space: 504058089472; capacity: 16125711347712. Object creation will fail if spilling is required.\n",
      "\u001b[2m\u001b[33m(raylet)\u001b[0m [2024-05-13 10:42:08,410 E 323103 323115] (raylet) file_system_monitor.cc:111: /tmp/ray/session_2024-05-13_10-12-36_357405_322805 is over 95% full, available space: 504058085376; capacity: 16125711347712. Object creation will fail if spilling is required.\n",
      "\u001b[2m\u001b[33m(raylet)\u001b[0m [2024-05-13 10:42:18,413 E 323103 323115] (raylet) file_system_monitor.cc:111: /tmp/ray/session_2024-05-13_10-12-36_357405_322805 is over 95% full, available space: 504058085376; capacity: 16125711347712. Object creation will fail if spilling is required.\n",
      "\u001b[2m\u001b[33m(raylet)\u001b[0m [2024-05-13 10:42:28,416 E 323103 323115] (raylet) file_system_monitor.cc:111: /tmp/ray/session_2024-05-13_10-12-36_357405_322805 is over 95% full, available space: 504058081280; capacity: 16125711347712. Object creation will fail if spilling is required.\n",
      "\u001b[2m\u001b[33m(raylet)\u001b[0m [2024-05-13 10:42:38,420 E 323103 323115] (raylet) file_system_monitor.cc:111: /tmp/ray/session_2024-05-13_10-12-36_357405_322805 is over 95% full, available space: 504058056704; capacity: 16125711347712. Object creation will fail if spilling is required.\n",
      "\u001b[2m\u001b[33m(raylet)\u001b[0m [2024-05-13 10:42:48,423 E 323103 323115] (raylet) file_system_monitor.cc:111: /tmp/ray/session_2024-05-13_10-12-36_357405_322805 is over 95% full, available space: 504058040320; capacity: 16125711347712. Object creation will fail if spilling is required.\n",
      "\u001b[2m\u001b[33m(raylet)\u001b[0m [2024-05-13 10:42:58,427 E 323103 323115] (raylet) file_system_monitor.cc:111: /tmp/ray/session_2024-05-13_10-12-36_357405_322805 is over 95% full, available space: 504058032128; capacity: 16125711347712. Object creation will fail if spilling is required.\n",
      "\u001b[2m\u001b[33m(raylet)\u001b[0m [2024-05-13 10:43:08,430 E 323103 323115] (raylet) file_system_monitor.cc:111: /tmp/ray/session_2024-05-13_10-12-36_357405_322805 is over 95% full, available space: 504058032128; capacity: 16125711347712. Object creation will fail if spilling is required.\n",
      "\u001b[2m\u001b[33m(raylet)\u001b[0m [2024-05-13 10:43:18,433 E 323103 323115] (raylet) file_system_monitor.cc:111: /tmp/ray/session_2024-05-13_10-12-36_357405_322805 is over 95% full, available space: 504058032128; capacity: 16125711347712. Object creation will fail if spilling is required.\n",
      "\u001b[2m\u001b[33m(raylet)\u001b[0m [2024-05-13 10:43:28,437 E 323103 323115] (raylet) file_system_monitor.cc:111: /tmp/ray/session_2024-05-13_10-12-36_357405_322805 is over 95% full, available space: 504058028032; capacity: 16125711347712. Object creation will fail if spilling is required.\n",
      "\u001b[2m\u001b[33m(raylet)\u001b[0m [2024-05-13 10:43:38,440 E 323103 323115] (raylet) file_system_monitor.cc:111: /tmp/ray/session_2024-05-13_10-12-36_357405_322805 is over 95% full, available space: 504057999360; capacity: 16125711347712. Object creation will fail if spilling is required.\n",
      "\u001b[2m\u001b[33m(raylet)\u001b[0m [2024-05-13 10:43:48,444 E 323103 323115] (raylet) file_system_monitor.cc:111: /tmp/ray/session_2024-05-13_10-12-36_357405_322805 is over 95% full, available space: 504057860096; capacity: 16125711347712. Object creation will fail if spilling is required.\n",
      "\u001b[2m\u001b[33m(raylet)\u001b[0m [2024-05-13 10:43:58,447 E 323103 323115] (raylet) file_system_monitor.cc:111: /tmp/ray/session_2024-05-13_10-12-36_357405_322805 is over 95% full, available space: 504057856000; capacity: 16125711347712. Object creation will fail if spilling is required.\n",
      "\u001b[2m\u001b[33m(raylet)\u001b[0m [2024-05-13 10:44:08,451 E 323103 323115] (raylet) file_system_monitor.cc:111: /tmp/ray/session_2024-05-13_10-12-36_357405_322805 is over 95% full, available space: 504057851904; capacity: 16125711347712. Object creation will fail if spilling is required.\n",
      "\u001b[2m\u001b[33m(raylet)\u001b[0m [2024-05-13 10:44:18,454 E 323103 323115] (raylet) file_system_monitor.cc:111: /tmp/ray/session_2024-05-13_10-12-36_357405_322805 is over 95% full, available space: 504057847808; capacity: 16125711347712. Object creation will fail if spilling is required.\n",
      "\u001b[2m\u001b[33m(raylet)\u001b[0m [2024-05-13 10:44:28,458 E 323103 323115] (raylet) file_system_monitor.cc:111: /tmp/ray/session_2024-05-13_10-12-36_357405_322805 is over 95% full, available space: 504057843712; capacity: 16125711347712. Object creation will fail if spilling is required.\n",
      "\u001b[2m\u001b[33m(raylet)\u001b[0m [2024-05-13 10:44:38,461 E 323103 323115] (raylet) file_system_monitor.cc:111: /tmp/ray/session_2024-05-13_10-12-36_357405_322805 is over 95% full, available space: 504057819136; capacity: 16125711347712. Object creation will fail if spilling is required.\n",
      "\u001b[2m\u001b[33m(raylet)\u001b[0m [2024-05-13 10:44:48,464 E 323103 323115] (raylet) file_system_monitor.cc:111: /tmp/ray/session_2024-05-13_10-12-36_357405_322805 is over 95% full, available space: 504057806848; capacity: 16125711347712. Object creation will fail if spilling is required.\n",
      "\u001b[2m\u001b[33m(raylet)\u001b[0m [2024-05-13 10:44:58,468 E 323103 323115] (raylet) file_system_monitor.cc:111: /tmp/ray/session_2024-05-13_10-12-36_357405_322805 is over 95% full, available space: 504057806848; capacity: 16125711347712. Object creation will fail if spilling is required.\n",
      "\u001b[2m\u001b[33m(raylet)\u001b[0m [2024-05-13 10:45:08,471 E 323103 323115] (raylet) file_system_monitor.cc:111: /tmp/ray/session_2024-05-13_10-12-36_357405_322805 is over 95% full, available space: 504057802752; capacity: 16125711347712. Object creation will fail if spilling is required.\n",
      "\u001b[2m\u001b[33m(raylet)\u001b[0m [2024-05-13 10:45:18,475 E 323103 323115] (raylet) file_system_monitor.cc:111: /tmp/ray/session_2024-05-13_10-12-36_357405_322805 is over 95% full, available space: 504057802752; capacity: 16125711347712. Object creation will fail if spilling is required.\n",
      "\u001b[2m\u001b[33m(raylet)\u001b[0m [2024-05-13 10:45:28,478 E 323103 323115] (raylet) file_system_monitor.cc:111: /tmp/ray/session_2024-05-13_10-12-36_357405_322805 is over 95% full, available space: 504057802752; capacity: 16125711347712. Object creation will fail if spilling is required.\n",
      "\u001b[2m\u001b[33m(raylet)\u001b[0m [2024-05-13 10:45:38,480 E 323103 323115] (raylet) file_system_monitor.cc:111: /tmp/ray/session_2024-05-13_10-12-36_357405_322805 is over 95% full, available space: 504057720832; capacity: 16125711347712. Object creation will fail if spilling is required.\n",
      "\u001b[2m\u001b[33m(raylet)\u001b[0m [2024-05-13 10:45:48,484 E 323103 323115] (raylet) file_system_monitor.cc:111: /tmp/ray/session_2024-05-13_10-12-36_357405_322805 is over 95% full, available space: 504057638912; capacity: 16125711347712. Object creation will fail if spilling is required.\n",
      "\u001b[2m\u001b[33m(raylet)\u001b[0m [2024-05-13 10:45:58,487 E 323103 323115] (raylet) file_system_monitor.cc:111: /tmp/ray/session_2024-05-13_10-12-36_357405_322805 is over 95% full, available space: 504057634816; capacity: 16125711347712. Object creation will fail if spilling is required.\n",
      "\u001b[2m\u001b[33m(raylet)\u001b[0m [2024-05-13 10:46:08,491 E 323103 323115] (raylet) file_system_monitor.cc:111: /tmp/ray/session_2024-05-13_10-12-36_357405_322805 is over 95% full, available space: 504057630720; capacity: 16125711347712. Object creation will fail if spilling is required.\n",
      "\u001b[2m\u001b[33m(raylet)\u001b[0m [2024-05-13 10:46:18,494 E 323103 323115] (raylet) file_system_monitor.cc:111: /tmp/ray/session_2024-05-13_10-12-36_357405_322805 is over 95% full, available space: 504057626624; capacity: 16125711347712. Object creation will fail if spilling is required.\n",
      "\u001b[2m\u001b[33m(raylet)\u001b[0m [2024-05-13 10:46:28,497 E 323103 323115] (raylet) file_system_monitor.cc:111: /tmp/ray/session_2024-05-13_10-12-36_357405_322805 is over 95% full, available space: 504057618432; capacity: 16125711347712. Object creation will fail if spilling is required.\n",
      "\u001b[2m\u001b[33m(raylet)\u001b[0m [2024-05-13 10:46:38,501 E 323103 323115] (raylet) file_system_monitor.cc:111: /tmp/ray/session_2024-05-13_10-12-36_357405_322805 is over 95% full, available space: 504057593856; capacity: 16125711347712. Object creation will fail if spilling is required.\n",
      "Rendering a scenario: 100%|██████████| 1/1 [00:00<00:00, 1038.71it/s]\n"
     ]
    },
    {
     "name": "stdout",
     "output_type": "stream",
     "text": [
      "2024-05-13 10:46:45,179 INFO {/home/ehdykhne/nuplan-devkit/nuplan/planning/nuboard/tabs/scenario_tab.py:485}  Rending scenario plot takes 2.9445 seconds.\n"
     ]
    },
    {
     "name": "stderr",
     "output_type": "stream",
     "text": [
      "\u001b[2m\u001b[33m(raylet)\u001b[0m [2024-05-13 10:46:48,505 E 323103 323115] (raylet) file_system_monitor.cc:111: /tmp/ray/session_2024-05-13_10-12-36_357405_322805 is over 95% full, available space: 504057589760; capacity: 16125711347712. Object creation will fail if spilling is required.\n",
      "\u001b[2m\u001b[33m(raylet)\u001b[0m [2024-05-13 10:46:58,508 E 323103 323115] (raylet) file_system_monitor.cc:111: /tmp/ray/session_2024-05-13_10-12-36_357405_322805 is over 95% full, available space: 504057585664; capacity: 16125711347712. Object creation will fail if spilling is required.\n",
      "\u001b[2m\u001b[33m(raylet)\u001b[0m [2024-05-13 10:47:08,511 E 323103 323115] (raylet) file_system_monitor.cc:111: /tmp/ray/session_2024-05-13_10-12-36_357405_322805 is over 95% full, available space: 504057585664; capacity: 16125711347712. Object creation will fail if spilling is required.\n",
      "\u001b[2m\u001b[33m(raylet)\u001b[0m [2024-05-13 10:47:18,515 E 323103 323115] (raylet) file_system_monitor.cc:111: /tmp/ray/session_2024-05-13_10-12-36_357405_322805 is over 95% full, available space: 504057585664; capacity: 16125711347712. Object creation will fail if spilling is required.\n",
      "\u001b[2m\u001b[33m(raylet)\u001b[0m [2024-05-13 10:47:28,518 E 323103 323115] (raylet) file_system_monitor.cc:111: /tmp/ray/session_2024-05-13_10-12-36_357405_322805 is over 95% full, available space: 504057573376; capacity: 16125711347712. Object creation will fail if spilling is required.\n",
      "Rendering a scenario: 100%|██████████| 1/1 [00:00<00:00, 15.88it/s]\n",
      "\u001b[2m\u001b[33m(raylet)\u001b[0m [2024-05-13 10:47:38,521 E 323103 323115] (raylet) file_system_monitor.cc:111: /tmp/ray/session_2024-05-13_10-12-36_357405_322805 is over 95% full, available space: 504057446400; capacity: 16125711347712. Object creation will fail if spilling is required.\n"
     ]
    },
    {
     "name": "stdout",
     "output_type": "stream",
     "text": [
      "2024-05-13 10:47:40,129 INFO {/home/ehdykhne/nuplan-devkit/nuplan/planning/nuboard/tabs/scenario_tab.py:485}  Rending scenario plot takes 5.1120 seconds.\n"
     ]
    },
    {
     "name": "stderr",
     "output_type": "stream",
     "text": [
      "\u001b[2m\u001b[33m(raylet)\u001b[0m [2024-05-13 10:47:48,525 E 323103 323115] (raylet) file_system_monitor.cc:111: /tmp/ray/session_2024-05-13_10-12-36_357405_322805 is over 95% full, available space: 504057409536; capacity: 16125711347712. Object creation will fail if spilling is required.\n",
      "\u001b[2m\u001b[33m(raylet)\u001b[0m [2024-05-13 10:47:58,529 E 323103 323115] (raylet) file_system_monitor.cc:111: /tmp/ray/session_2024-05-13_10-12-36_357405_322805 is over 95% full, available space: 504057409536; capacity: 16125711347712. Object creation will fail if spilling is required.\n",
      "\u001b[2m\u001b[33m(raylet)\u001b[0m [2024-05-13 10:48:08,532 E 323103 323115] (raylet) file_system_monitor.cc:111: /tmp/ray/session_2024-05-13_10-12-36_357405_322805 is over 95% full, available space: 504057409536; capacity: 16125711347712. Object creation will fail if spilling is required.\n",
      "\u001b[2m\u001b[33m(raylet)\u001b[0m [2024-05-13 10:48:18,535 E 323103 323115] (raylet) file_system_monitor.cc:111: /tmp/ray/session_2024-05-13_10-12-36_357405_322805 is over 95% full, available space: 504057405440; capacity: 16125711347712. Object creation will fail if spilling is required.\n",
      "\u001b[2m\u001b[33m(raylet)\u001b[0m [2024-05-13 10:48:28,539 E 323103 323115] (raylet) file_system_monitor.cc:111: /tmp/ray/session_2024-05-13_10-12-36_357405_322805 is over 95% full, available space: 504057401344; capacity: 16125711347712. Object creation will fail if spilling is required.\n",
      "\u001b[2m\u001b[33m(raylet)\u001b[0m [2024-05-13 10:48:38,542 E 323103 323115] (raylet) file_system_monitor.cc:111: /tmp/ray/session_2024-05-13_10-12-36_357405_322805 is over 95% full, available space: 504057376768; capacity: 16125711347712. Object creation will fail if spilling is required.\n",
      "\u001b[2m\u001b[33m(raylet)\u001b[0m [2024-05-13 10:48:48,546 E 323103 323115] (raylet) file_system_monitor.cc:111: /tmp/ray/session_2024-05-13_10-12-36_357405_322805 is over 95% full, available space: 504057372672; capacity: 16125711347712. Object creation will fail if spilling is required.\n",
      "\u001b[2m\u001b[33m(raylet)\u001b[0m [2024-05-13 10:48:58,549 E 323103 323115] (raylet) file_system_monitor.cc:111: /tmp/ray/session_2024-05-13_10-12-36_357405_322805 is over 95% full, available space: 504057368576; capacity: 16125711347712. Object creation will fail if spilling is required.\n",
      "Rendering a scenario: 100%|██████████| 1/1 [00:00<00:00, 27.22it/s]\n"
     ]
    },
    {
     "name": "stdout",
     "output_type": "stream",
     "text": [
      "2024-05-13 10:49:08,217 INFO {/home/ehdykhne/nuplan-devkit/nuplan/planning/nuboard/tabs/scenario_tab.py:485}  Rending scenario plot takes 3.7301 seconds.\n"
     ]
    },
    {
     "name": "stderr",
     "output_type": "stream",
     "text": [
      "\u001b[2m\u001b[33m(raylet)\u001b[0m [2024-05-13 10:49:08,553 E 323103 323115] (raylet) file_system_monitor.cc:111: /tmp/ray/session_2024-05-13_10-12-36_357405_322805 is over 95% full, available space: 504057360384; capacity: 16125711347712. Object creation will fail if spilling is required.\n",
      "\u001b[2m\u001b[33m(raylet)\u001b[0m [2024-05-13 10:49:18,555 E 323103 323115] (raylet) file_system_monitor.cc:111: /tmp/ray/session_2024-05-13_10-12-36_357405_322805 is over 95% full, available space: 504057360384; capacity: 16125711347712. Object creation will fail if spilling is required.\n",
      "\u001b[2m\u001b[33m(raylet)\u001b[0m [2024-05-13 10:49:28,557 E 323103 323115] (raylet) file_system_monitor.cc:111: /tmp/ray/session_2024-05-13_10-12-36_357405_322805 is over 95% full, available space: 504057360384; capacity: 16125711347712. Object creation will fail if spilling is required.\n",
      "\u001b[2m\u001b[33m(raylet)\u001b[0m [2024-05-13 10:49:38,558 E 323103 323115] (raylet) file_system_monitor.cc:111: /tmp/ray/session_2024-05-13_10-12-36_357405_322805 is over 95% full, available space: 504057221120; capacity: 16125711347712. Object creation will fail if spilling is required.\n",
      "\u001b[2m\u001b[33m(raylet)\u001b[0m [2024-05-13 10:49:48,560 E 323103 323115] (raylet) file_system_monitor.cc:111: /tmp/ray/session_2024-05-13_10-12-36_357405_322805 is over 95% full, available space: 504057196544; capacity: 16125711347712. Object creation will fail if spilling is required.\n",
      "Rendering a scenario: 100%|██████████| 1/1 [00:00<00:00, 60.52it/s]\n"
     ]
    },
    {
     "name": "stdout",
     "output_type": "stream",
     "text": [
      "2024-05-13 10:49:50,776 INFO {/home/ehdykhne/nuplan-devkit/nuplan/planning/nuboard/tabs/scenario_tab.py:485}  Rending scenario plot takes 2.9407 seconds.\n"
     ]
    },
    {
     "name": "stderr",
     "output_type": "stream",
     "text": [
      "\u001b[2m\u001b[33m(raylet)\u001b[0m [2024-05-13 10:49:58,562 E 323103 323115] (raylet) file_system_monitor.cc:111: /tmp/ray/session_2024-05-13_10-12-36_357405_322805 is over 95% full, available space: 504057196544; capacity: 16125711347712. Object creation will fail if spilling is required.\n",
      "\u001b[2m\u001b[33m(raylet)\u001b[0m [2024-05-13 10:50:08,564 E 323103 323115] (raylet) file_system_monitor.cc:111: /tmp/ray/session_2024-05-13_10-12-36_357405_322805 is over 95% full, available space: 504057188352; capacity: 16125711347712. Object creation will fail if spilling is required.\n",
      "\u001b[2m\u001b[33m(raylet)\u001b[0m [2024-05-13 10:50:18,566 E 323103 323115] (raylet) file_system_monitor.cc:111: /tmp/ray/session_2024-05-13_10-12-36_357405_322805 is over 95% full, available space: 504057188352; capacity: 16125711347712. Object creation will fail if spilling is required.\n",
      "\u001b[2m\u001b[33m(raylet)\u001b[0m [2024-05-13 10:50:28,568 E 323103 323115] (raylet) file_system_monitor.cc:111: /tmp/ray/session_2024-05-13_10-12-36_357405_322805 is over 95% full, available space: 504057184256; capacity: 16125711347712. Object creation will fail if spilling is required.\n",
      "Rendering a scenario: 100%|██████████| 1/1 [00:00<00:00, 31.75it/s]\n"
     ]
    },
    {
     "name": "stdout",
     "output_type": "stream",
     "text": [
      "2024-05-13 10:50:38,460 INFO {/home/ehdykhne/nuplan-devkit/nuplan/planning/nuboard/tabs/scenario_tab.py:485}  Rending scenario plot takes 5.5603 seconds.\n"
     ]
    },
    {
     "name": "stderr",
     "output_type": "stream",
     "text": [
      "\u001b[2m\u001b[33m(raylet)\u001b[0m [2024-05-13 10:50:38,570 E 323103 323115] (raylet) file_system_monitor.cc:111: /tmp/ray/session_2024-05-13_10-12-36_357405_322805 is over 95% full, available space: 504057155584; capacity: 16125711347712. Object creation will fail if spilling is required.\n",
      "\u001b[2m\u001b[33m(raylet)\u001b[0m [2024-05-13 10:50:48,572 E 323103 323115] (raylet) file_system_monitor.cc:111: /tmp/ray/session_2024-05-13_10-12-36_357405_322805 is over 95% full, available space: 504057151488; capacity: 16125711347712. Object creation will fail if spilling is required.\n",
      "\u001b[2m\u001b[33m(raylet)\u001b[0m [2024-05-13 10:50:58,574 E 323103 323115] (raylet) file_system_monitor.cc:111: /tmp/ray/session_2024-05-13_10-12-36_357405_322805 is over 95% full, available space: 504057147392; capacity: 16125711347712. Object creation will fail if spilling is required.\n",
      "\u001b[2m\u001b[33m(raylet)\u001b[0m [2024-05-13 10:51:08,577 E 323103 323115] (raylet) file_system_monitor.cc:111: /tmp/ray/session_2024-05-13_10-12-36_357405_322805 is over 95% full, available space: 504057143296; capacity: 16125711347712. Object creation will fail if spilling is required.\n",
      "\u001b[2m\u001b[33m(raylet)\u001b[0m [2024-05-13 10:51:18,579 E 323103 323115] (raylet) file_system_monitor.cc:111: /tmp/ray/session_2024-05-13_10-12-36_357405_322805 is over 95% full, available space: 504057143296; capacity: 16125711347712. Object creation will fail if spilling is required.\n",
      "\u001b[2m\u001b[33m(raylet)\u001b[0m [2024-05-13 10:51:28,581 E 323103 323115] (raylet) file_system_monitor.cc:111: /tmp/ray/session_2024-05-13_10-12-36_357405_322805 is over 95% full, available space: 504057139200; capacity: 16125711347712. Object creation will fail if spilling is required.\n",
      "\u001b[2m\u001b[33m(raylet)\u001b[0m [2024-05-13 10:51:38,583 E 323103 323115] (raylet) file_system_monitor.cc:111: /tmp/ray/session_2024-05-13_10-12-36_357405_322805 is over 95% full, available space: 504056987648; capacity: 16125711347712. Object creation will fail if spilling is required.\n",
      "\u001b[2m\u001b[33m(raylet)\u001b[0m [2024-05-13 10:51:48,585 E 323103 323115] (raylet) file_system_monitor.cc:111: /tmp/ray/session_2024-05-13_10-12-36_357405_322805 is over 95% full, available space: 504056975360; capacity: 16125711347712. Object creation will fail if spilling is required.\n",
      "Rendering a scenario: 100%|██████████| 1/1 [00:00<00:00, 24.03it/s]\n"
     ]
    },
    {
     "name": "stdout",
     "output_type": "stream",
     "text": [
      "2024-05-13 10:51:53,275 INFO {/home/ehdykhne/nuplan-devkit/nuplan/planning/nuboard/tabs/scenario_tab.py:485}  Rending scenario plot takes 5.2235 seconds.\n"
     ]
    },
    {
     "name": "stderr",
     "output_type": "stream",
     "text": [
      "\u001b[2m\u001b[33m(raylet)\u001b[0m [2024-05-13 10:51:58,587 E 323103 323115] (raylet) file_system_monitor.cc:111: /tmp/ray/session_2024-05-13_10-12-36_357405_322805 is over 95% full, available space: 504056975360; capacity: 16125711347712. Object creation will fail if spilling is required.\n",
      "\u001b[2m\u001b[33m(raylet)\u001b[0m [2024-05-13 10:52:08,590 E 323103 323115] (raylet) file_system_monitor.cc:111: /tmp/ray/session_2024-05-13_10-12-36_357405_322805 is over 95% full, available space: 504056971264; capacity: 16125711347712. Object creation will fail if spilling is required.\n",
      "\u001b[2m\u001b[33m(raylet)\u001b[0m [2024-05-13 10:52:18,593 E 323103 323115] (raylet) file_system_monitor.cc:111: /tmp/ray/session_2024-05-13_10-12-36_357405_322805 is over 95% full, available space: 504056967168; capacity: 16125711347712. Object creation will fail if spilling is required.\n",
      "\u001b[2m\u001b[33m(raylet)\u001b[0m [2024-05-13 10:52:28,597 E 323103 323115] (raylet) file_system_monitor.cc:111: /tmp/ray/session_2024-05-13_10-12-36_357405_322805 is over 95% full, available space: 504056967168; capacity: 16125711347712. Object creation will fail if spilling is required.\n",
      "\u001b[2m\u001b[33m(raylet)\u001b[0m [2024-05-13 10:52:38,600 E 323103 323115] (raylet) file_system_monitor.cc:111: /tmp/ray/session_2024-05-13_10-12-36_357405_322805 is over 95% full, available space: 504056942592; capacity: 16125711347712. Object creation will fail if spilling is required.\n",
      "\u001b[2m\u001b[33m(raylet)\u001b[0m [2024-05-13 10:52:48,603 E 323103 323115] (raylet) file_system_monitor.cc:111: /tmp/ray/session_2024-05-13_10-12-36_357405_322805 is over 95% full, available space: 504056930304; capacity: 16125711347712. Object creation will fail if spilling is required.\n",
      "Rendering a scenario: 100%|██████████| 1/1 [00:00<00:00, 1007.52it/s]\n"
     ]
    },
    {
     "name": "stdout",
     "output_type": "stream",
     "text": [
      "2024-05-13 10:52:55,176 INFO {/home/ehdykhne/nuplan-devkit/nuplan/planning/nuboard/tabs/scenario_tab.py:485}  Rending scenario plot takes 3.3653 seconds.\n"
     ]
    },
    {
     "name": "stderr",
     "output_type": "stream",
     "text": [
      "\u001b[2m\u001b[33m(raylet)\u001b[0m [2024-05-13 10:52:58,607 E 323103 323115] (raylet) file_system_monitor.cc:111: /tmp/ray/session_2024-05-13_10-12-36_357405_322805 is over 95% full, available space: 504056930304; capacity: 16125711347712. Object creation will fail if spilling is required.\n",
      "\u001b[2m\u001b[33m(raylet)\u001b[0m [2024-05-13 10:53:08,611 E 323103 323115] (raylet) file_system_monitor.cc:111: /tmp/ray/session_2024-05-13_10-12-36_357405_322805 is over 95% full, available space: 504056926208; capacity: 16125711347712. Object creation will fail if spilling is required.\n",
      "\u001b[2m\u001b[33m(raylet)\u001b[0m [2024-05-13 10:53:18,615 E 323103 323115] (raylet) file_system_monitor.cc:111: /tmp/ray/session_2024-05-13_10-12-36_357405_322805 is over 95% full, available space: 504056922112; capacity: 16125711347712. Object creation will fail if spilling is required.\n",
      "\u001b[2m\u001b[33m(raylet)\u001b[0m [2024-05-13 10:53:28,617 E 323103 323115] (raylet) file_system_monitor.cc:111: /tmp/ray/session_2024-05-13_10-12-36_357405_322805 is over 95% full, available space: 504056922112; capacity: 16125711347712. Object creation will fail if spilling is required.\n",
      "\u001b[2m\u001b[33m(raylet)\u001b[0m [2024-05-13 10:53:38,619 E 323103 323115] (raylet) file_system_monitor.cc:111: /tmp/ray/session_2024-05-13_10-12-36_357405_322805 is over 95% full, available space: 504056758272; capacity: 16125711347712. Object creation will fail if spilling is required.\n",
      "\u001b[2m\u001b[33m(raylet)\u001b[0m [2024-05-13 10:53:48,621 E 323103 323115] (raylet) file_system_monitor.cc:111: /tmp/ray/session_2024-05-13_10-12-36_357405_322805 is over 95% full, available space: 504056750080; capacity: 16125711347712. Object creation will fail if spilling is required.\n",
      "\u001b[2m\u001b[33m(raylet)\u001b[0m [2024-05-13 10:53:58,623 E 323103 323115] (raylet) file_system_monitor.cc:111: /tmp/ray/session_2024-05-13_10-12-36_357405_322805 is over 95% full, available space: 504056750080; capacity: 16125711347712. Object creation will fail if spilling is required.\n",
      "\u001b[2m\u001b[33m(raylet)\u001b[0m [2024-05-13 10:54:08,625 E 323103 323115] (raylet) file_system_monitor.cc:111: /tmp/ray/session_2024-05-13_10-12-36_357405_322805 is over 95% full, available space: 504056741888; capacity: 16125711347712. Object creation will fail if spilling is required.\n",
      "\u001b[2m\u001b[33m(raylet)\u001b[0m [2024-05-13 10:54:18,627 E 323103 323115] (raylet) file_system_monitor.cc:111: /tmp/ray/session_2024-05-13_10-12-36_357405_322805 is over 95% full, available space: 504056741888; capacity: 16125711347712. Object creation will fail if spilling is required.\n",
      "\u001b[2m\u001b[33m(raylet)\u001b[0m [2024-05-13 10:54:28,629 E 323103 323115] (raylet) file_system_monitor.cc:111: /tmp/ray/session_2024-05-13_10-12-36_357405_322805 is over 95% full, available space: 504056741888; capacity: 16125711347712. Object creation will fail if spilling is required.\n",
      "\u001b[2m\u001b[33m(raylet)\u001b[0m [2024-05-13 10:54:38,631 E 323103 323115] (raylet) file_system_monitor.cc:111: /tmp/ray/session_2024-05-13_10-12-36_357405_322805 is over 95% full, available space: 504056700928; capacity: 16125711347712. Object creation will fail if spilling is required.\n",
      "Rendering a scenario: 100%|██████████| 1/1 [00:00<00:00, 59.93it/s]\n"
     ]
    },
    {
     "name": "stdout",
     "output_type": "stream",
     "text": [
      "2024-05-13 10:54:48,111 INFO {/home/ehdykhne/nuplan-devkit/nuplan/planning/nuboard/tabs/scenario_tab.py:485}  Rending scenario plot takes 2.9763 seconds.\n"
     ]
    },
    {
     "name": "stderr",
     "output_type": "stream",
     "text": [
      "\u001b[2m\u001b[33m(raylet)\u001b[0m [2024-05-13 10:54:48,634 E 323103 323115] (raylet) file_system_monitor.cc:111: /tmp/ray/session_2024-05-13_10-12-36_357405_322805 is over 95% full, available space: 504056700928; capacity: 16125711347712. Object creation will fail if spilling is required.\n",
      "\u001b[2m\u001b[33m(raylet)\u001b[0m [2024-05-13 10:54:58,636 E 323103 323115] (raylet) file_system_monitor.cc:111: /tmp/ray/session_2024-05-13_10-12-36_357405_322805 is over 95% full, available space: 504056696832; capacity: 16125711347712. Object creation will fail if spilling is required.\n",
      "\u001b[2m\u001b[33m(raylet)\u001b[0m [2024-05-13 10:55:08,638 E 323103 323115] (raylet) file_system_monitor.cc:111: /tmp/ray/session_2024-05-13_10-12-36_357405_322805 is over 95% full, available space: 504056692736; capacity: 16125711347712. Object creation will fail if spilling is required.\n",
      "\u001b[2m\u001b[33m(raylet)\u001b[0m [2024-05-13 10:55:18,640 E 323103 323115] (raylet) file_system_monitor.cc:111: /tmp/ray/session_2024-05-13_10-12-36_357405_322805 is over 95% full, available space: 504056692736; capacity: 16125711347712. Object creation will fail if spilling is required.\n",
      "\u001b[2m\u001b[33m(raylet)\u001b[0m [2024-05-13 10:55:28,642 E 323103 323115] (raylet) file_system_monitor.cc:111: /tmp/ray/session_2024-05-13_10-12-36_357405_322805 is over 95% full, available space: 504056680448; capacity: 16125711347712. Object creation will fail if spilling is required.\n",
      "\u001b[2m\u001b[33m(raylet)\u001b[0m [2024-05-13 10:55:38,644 E 323103 323115] (raylet) file_system_monitor.cc:111: /tmp/ray/session_2024-05-13_10-12-36_357405_322805 is over 95% full, available space: 504056541184; capacity: 16125711347712. Object creation will fail if spilling is required.\n",
      "\u001b[2m\u001b[33m(raylet)\u001b[0m [2024-05-13 10:55:48,646 E 323103 323115] (raylet) file_system_monitor.cc:111: /tmp/ray/session_2024-05-13_10-12-36_357405_322805 is over 95% full, available space: 504056537088; capacity: 16125711347712. Object creation will fail if spilling is required.\n",
      "\u001b[2m\u001b[33m(raylet)\u001b[0m [2024-05-13 10:55:58,648 E 323103 323115] (raylet) file_system_monitor.cc:111: /tmp/ray/session_2024-05-13_10-12-36_357405_322805 is over 95% full, available space: 504056528896; capacity: 16125711347712. Object creation will fail if spilling is required.\n",
      "\u001b[2m\u001b[33m(raylet)\u001b[0m [2024-05-13 10:56:08,652 E 323103 323115] (raylet) file_system_monitor.cc:111: /tmp/ray/session_2024-05-13_10-12-36_357405_322805 is over 95% full, available space: 504056528896; capacity: 16125711347712. Object creation will fail if spilling is required.\n",
      "\u001b[2m\u001b[33m(raylet)\u001b[0m [2024-05-13 10:56:18,655 E 323103 323115] (raylet) file_system_monitor.cc:111: /tmp/ray/session_2024-05-13_10-12-36_357405_322805 is over 95% full, available space: 504056524800; capacity: 16125711347712. Object creation will fail if spilling is required.\n",
      "\u001b[2m\u001b[33m(raylet)\u001b[0m [2024-05-13 10:56:28,659 E 323103 323115] (raylet) file_system_monitor.cc:111: /tmp/ray/session_2024-05-13_10-12-36_357405_322805 is over 95% full, available space: 504056524800; capacity: 16125711347712. Object creation will fail if spilling is required.\n",
      "\u001b[2m\u001b[33m(raylet)\u001b[0m [2024-05-13 10:56:38,662 E 323103 323115] (raylet) file_system_monitor.cc:111: /tmp/ray/session_2024-05-13_10-12-36_357405_322805 is over 95% full, available space: 504056360960; capacity: 16125711347712. Object creation will fail if spilling is required.\n",
      "\u001b[2m\u001b[33m(raylet)\u001b[0m [2024-05-13 10:56:48,665 E 323103 323115] (raylet) file_system_monitor.cc:111: /tmp/ray/session_2024-05-13_10-12-36_357405_322805 is over 95% full, available space: 504056352768; capacity: 16125711347712. Object creation will fail if spilling is required.\n",
      "\u001b[2m\u001b[33m(raylet)\u001b[0m [2024-05-13 10:56:58,669 E 323103 323115] (raylet) file_system_monitor.cc:111: /tmp/ray/session_2024-05-13_10-12-36_357405_322805 is over 95% full, available space: 504056352768; capacity: 16125711347712. Object creation will fail if spilling is required.\n",
      "\u001b[2m\u001b[33m(raylet)\u001b[0m [2024-05-13 10:57:08,672 E 323103 323115] (raylet) file_system_monitor.cc:111: /tmp/ray/session_2024-05-13_10-12-36_357405_322805 is over 95% full, available space: 504056352768; capacity: 16125711347712. Object creation will fail if spilling is required.\n",
      "\u001b[2m\u001b[33m(raylet)\u001b[0m [2024-05-13 10:57:18,675 E 323103 323115] (raylet) file_system_monitor.cc:111: /tmp/ray/session_2024-05-13_10-12-36_357405_322805 is over 95% full, available space: 504056348672; capacity: 16125711347712. Object creation will fail if spilling is required.\n",
      "\u001b[2m\u001b[33m(raylet)\u001b[0m [2024-05-13 10:57:28,679 E 323103 323115] (raylet) file_system_monitor.cc:111: /tmp/ray/session_2024-05-13_10-12-36_357405_322805 is over 95% full, available space: 504056348672; capacity: 16125711347712. Object creation will fail if spilling is required.\n",
      "\u001b[2m\u001b[33m(raylet)\u001b[0m [2024-05-13 10:57:38,682 E 323103 323115] (raylet) file_system_monitor.cc:111: /tmp/ray/session_2024-05-13_10-12-36_357405_322805 is over 95% full, available space: 504056320000; capacity: 16125711347712. Object creation will fail if spilling is required.\n",
      "\u001b[2m\u001b[33m(raylet)\u001b[0m [2024-05-13 10:57:48,686 E 323103 323115] (raylet) file_system_monitor.cc:111: /tmp/ray/session_2024-05-13_10-12-36_357405_322805 is over 95% full, available space: 504056320000; capacity: 16125711347712. Object creation will fail if spilling is required.\n",
      "\u001b[2m\u001b[33m(raylet)\u001b[0m [2024-05-13 10:57:58,689 E 323103 323115] (raylet) file_system_monitor.cc:111: /tmp/ray/session_2024-05-13_10-12-36_357405_322805 is over 95% full, available space: 504056320000; capacity: 16125711347712. Object creation will fail if spilling is required.\n",
      "\u001b[2m\u001b[33m(raylet)\u001b[0m [2024-05-13 10:58:08,692 E 323103 323115] (raylet) file_system_monitor.cc:111: /tmp/ray/session_2024-05-13_10-12-36_357405_322805 is over 95% full, available space: 504056303616; capacity: 16125711347712. Object creation will fail if spilling is required.\n",
      "Rendering a scenario: 100%|██████████| 1/1 [00:00<00:00, 21.10it/s]\n"
     ]
    },
    {
     "name": "stdout",
     "output_type": "stream",
     "text": [
      "2024-05-13 10:58:15,895 INFO {/home/ehdykhne/nuplan-devkit/nuplan/planning/nuboard/tabs/scenario_tab.py:485}  Rending scenario plot takes 3.5377 seconds.\n"
     ]
    },
    {
     "name": "stderr",
     "output_type": "stream",
     "text": [
      "\u001b[2m\u001b[33m(raylet)\u001b[0m [2024-05-13 10:58:18,697 E 323103 323115] (raylet) file_system_monitor.cc:111: /tmp/ray/session_2024-05-13_10-12-36_357405_322805 is over 95% full, available space: 504056303616; capacity: 16125711347712. Object creation will fail if spilling is required.\n",
      "\u001b[2m\u001b[33m(raylet)\u001b[0m [2024-05-13 10:58:28,700 E 323103 323115] (raylet) file_system_monitor.cc:111: /tmp/ray/session_2024-05-13_10-12-36_357405_322805 is over 95% full, available space: 504056303616; capacity: 16125711347712. Object creation will fail if spilling is required.\n",
      "\u001b[2m\u001b[33m(raylet)\u001b[0m [2024-05-13 10:58:38,704 E 323103 323115] (raylet) file_system_monitor.cc:111: /tmp/ray/session_2024-05-13_10-12-36_357405_322805 is over 95% full, available space: 504056139776; capacity: 16125711347712. Object creation will fail if spilling is required.\n",
      "\u001b[2m\u001b[33m(raylet)\u001b[0m [2024-05-13 10:58:48,707 E 323103 323115] (raylet) file_system_monitor.cc:111: /tmp/ray/session_2024-05-13_10-12-36_357405_322805 is over 95% full, available space: 504056135680; capacity: 16125711347712. Object creation will fail if spilling is required.\n",
      "\u001b[2m\u001b[33m(raylet)\u001b[0m [2024-05-13 10:58:58,710 E 323103 323115] (raylet) file_system_monitor.cc:111: /tmp/ray/session_2024-05-13_10-12-36_357405_322805 is over 95% full, available space: 504056131584; capacity: 16125711347712. Object creation will fail if spilling is required.\n",
      "\u001b[2m\u001b[33m(raylet)\u001b[0m [2024-05-13 10:59:08,714 E 323103 323115] (raylet) file_system_monitor.cc:111: /tmp/ray/session_2024-05-13_10-12-36_357405_322805 is over 95% full, available space: 504056131584; capacity: 16125711347712. Object creation will fail if spilling is required.\n",
      "\u001b[2m\u001b[33m(raylet)\u001b[0m [2024-05-13 10:59:18,717 E 323103 323115] (raylet) file_system_monitor.cc:111: /tmp/ray/session_2024-05-13_10-12-36_357405_322805 is over 95% full, available space: 504056131584; capacity: 16125711347712. Object creation will fail if spilling is required.\n",
      "\u001b[2m\u001b[33m(raylet)\u001b[0m [2024-05-13 10:59:28,722 E 323103 323115] (raylet) file_system_monitor.cc:111: /tmp/ray/session_2024-05-13_10-12-36_357405_322805 is over 95% full, available space: 504056127488; capacity: 16125711347712. Object creation will fail if spilling is required.\n",
      "Rendering a scenario: 100%|██████████| 1/1 [00:00<00:00, 90.02it/s]\n"
     ]
    },
    {
     "name": "stdout",
     "output_type": "stream",
     "text": [
      "2024-05-13 10:59:31,362 INFO {/home/ehdykhne/nuplan-devkit/nuplan/planning/nuboard/tabs/scenario_tab.py:485}  Rending scenario plot takes 5.2601 seconds.\n"
     ]
    },
    {
     "name": "stderr",
     "output_type": "stream",
     "text": [
      "\u001b[2m\u001b[33m(raylet)\u001b[0m [2024-05-13 10:59:38,726 E 323103 323115] (raylet) file_system_monitor.cc:111: /tmp/ray/session_2024-05-13_10-12-36_357405_322805 is over 95% full, available space: 504056098816; capacity: 16125711347712. Object creation will fail if spilling is required.\n",
      "\u001b[2m\u001b[33m(raylet)\u001b[0m [2024-05-13 10:59:48,729 E 323103 323115] (raylet) file_system_monitor.cc:111: /tmp/ray/session_2024-05-13_10-12-36_357405_322805 is over 95% full, available space: 504056094720; capacity: 16125711347712. Object creation will fail if spilling is required.\n",
      "\u001b[2m\u001b[33m(raylet)\u001b[0m [2024-05-13 10:59:58,733 E 323103 323115] (raylet) file_system_monitor.cc:111: /tmp/ray/session_2024-05-13_10-12-36_357405_322805 is over 95% full, available space: 504056090624; capacity: 16125711347712. Object creation will fail if spilling is required.\n",
      "\u001b[2m\u001b[33m(raylet)\u001b[0m [2024-05-13 11:00:08,736 E 323103 323115] (raylet) file_system_monitor.cc:111: /tmp/ray/session_2024-05-13_10-12-36_357405_322805 is over 95% full, available space: 504056090624; capacity: 16125711347712. Object creation will fail if spilling is required.\n",
      "\u001b[2m\u001b[33m(raylet)\u001b[0m [2024-05-13 11:00:18,739 E 323103 323115] (raylet) file_system_monitor.cc:111: /tmp/ray/session_2024-05-13_10-12-36_357405_322805 is over 95% full, available space: 504056082432; capacity: 16125711347712. Object creation will fail if spilling is required.\n",
      "\u001b[2m\u001b[33m(raylet)\u001b[0m [2024-05-13 11:00:28,743 E 323103 323115] (raylet) file_system_monitor.cc:111: /tmp/ray/session_2024-05-13_10-12-36_357405_322805 is over 95% full, available space: 504056082432; capacity: 16125711347712. Object creation will fail if spilling is required.\n",
      "\u001b[2m\u001b[33m(raylet)\u001b[0m [2024-05-13 11:00:38,746 E 323103 323115] (raylet) file_system_monitor.cc:111: /tmp/ray/session_2024-05-13_10-12-36_357405_322805 is over 95% full, available space: 504055930880; capacity: 16125711347712. Object creation will fail if spilling is required.\n",
      "Rendering a scenario: 100%|██████████| 1/1 [00:00<00:00, 89.72it/s]\n"
     ]
    },
    {
     "name": "stdout",
     "output_type": "stream",
     "text": [
      "2024-05-13 11:00:46,646 INFO {/home/ehdykhne/nuplan-devkit/nuplan/planning/nuboard/tabs/scenario_tab.py:485}  Rending scenario plot takes 3.6550 seconds.\n"
     ]
    },
    {
     "name": "stderr",
     "output_type": "stream",
     "text": [
      "\u001b[2m\u001b[33m(raylet)\u001b[0m [2024-05-13 11:00:48,750 E 323103 323115] (raylet) file_system_monitor.cc:111: /tmp/ray/session_2024-05-13_10-12-36_357405_322805 is over 95% full, available space: 504055918592; capacity: 16125711347712. Object creation will fail if spilling is required.\n",
      "\u001b[2m\u001b[33m(raylet)\u001b[0m [2024-05-13 11:00:58,753 E 323103 323115] (raylet) file_system_monitor.cc:111: /tmp/ray/session_2024-05-13_10-12-36_357405_322805 is over 95% full, available space: 504055922688; capacity: 16125711347712. Object creation will fail if spilling is required.\n",
      "\u001b[2m\u001b[33m(raylet)\u001b[0m [2024-05-13 11:01:08,756 E 323103 323115] (raylet) file_system_monitor.cc:111: /tmp/ray/session_2024-05-13_10-12-36_357405_322805 is over 95% full, available space: 504055914496; capacity: 16125711347712. Object creation will fail if spilling is required.\n",
      "\u001b[2m\u001b[33m(raylet)\u001b[0m [2024-05-13 11:01:18,760 E 323103 323115] (raylet) file_system_monitor.cc:111: /tmp/ray/session_2024-05-13_10-12-36_357405_322805 is over 95% full, available space: 504055910400; capacity: 16125711347712. Object creation will fail if spilling is required.\n",
      "\u001b[2m\u001b[33m(raylet)\u001b[0m [2024-05-13 11:01:28,763 E 323103 323115] (raylet) file_system_monitor.cc:111: /tmp/ray/session_2024-05-13_10-12-36_357405_322805 is over 95% full, available space: 504055910400; capacity: 16125711347712. Object creation will fail if spilling is required.\n",
      "Rendering a scenario: 100%|██████████| 1/1 [00:00<00:00, 15.00it/s]\n"
     ]
    },
    {
     "name": "stdout",
     "output_type": "stream",
     "text": [
      "2024-05-13 11:01:37,174 INFO {/home/ehdykhne/nuplan-devkit/nuplan/planning/nuboard/tabs/scenario_tab.py:485}  Rending scenario plot takes 3.5793 seconds.\n"
     ]
    },
    {
     "name": "stderr",
     "output_type": "stream",
     "text": [
      "\u001b[2m\u001b[33m(raylet)\u001b[0m [2024-05-13 11:01:38,768 E 323103 323115] (raylet) file_system_monitor.cc:111: /tmp/ray/session_2024-05-13_10-12-36_357405_322805 is over 95% full, available space: 504055877632; capacity: 16125711347712. Object creation will fail if spilling is required.\n",
      "\u001b[2m\u001b[33m(raylet)\u001b[0m [2024-05-13 11:01:48,770 E 323103 323115] (raylet) file_system_monitor.cc:111: /tmp/ray/session_2024-05-13_10-12-36_357405_322805 is over 95% full, available space: 504055873536; capacity: 16125711347712. Object creation will fail if spilling is required.\n",
      "\u001b[2m\u001b[33m(raylet)\u001b[0m [2024-05-13 11:01:58,773 E 323103 323115] (raylet) file_system_monitor.cc:111: /tmp/ray/session_2024-05-13_10-12-36_357405_322805 is over 95% full, available space: 504055873536; capacity: 16125711347712. Object creation will fail if spilling is required.\n",
      "\u001b[2m\u001b[33m(raylet)\u001b[0m [2024-05-13 11:02:08,777 E 323103 323115] (raylet) file_system_monitor.cc:111: /tmp/ray/session_2024-05-13_10-12-36_357405_322805 is over 95% full, available space: 504055869440; capacity: 16125711347712. Object creation will fail if spilling is required.\n",
      "\u001b[2m\u001b[33m(raylet)\u001b[0m [2024-05-13 11:02:18,780 E 323103 323115] (raylet) file_system_monitor.cc:111: /tmp/ray/session_2024-05-13_10-12-36_357405_322805 is over 95% full, available space: 504055869440; capacity: 16125711347712. Object creation will fail if spilling is required.\n",
      "\u001b[2m\u001b[33m(raylet)\u001b[0m [2024-05-13 11:02:28,783 E 323103 323115] (raylet) file_system_monitor.cc:111: /tmp/ray/session_2024-05-13_10-12-36_357405_322805 is over 95% full, available space: 504055865344; capacity: 16125711347712. Object creation will fail if spilling is required.\n",
      "\u001b[2m\u001b[33m(raylet)\u001b[0m [2024-05-13 11:02:38,787 E 323103 323115] (raylet) file_system_monitor.cc:111: /tmp/ray/session_2024-05-13_10-12-36_357405_322805 is over 95% full, available space: 504055705600; capacity: 16125711347712. Object creation will fail if spilling is required.\n",
      "Rendering a scenario: 100%|██████████| 1/1 [00:00<00:00, 36.76it/s]\n"
     ]
    },
    {
     "name": "stdout",
     "output_type": "stream",
     "text": [
      "2024-05-13 11:02:41,436 INFO {/home/ehdykhne/nuplan-devkit/nuplan/planning/nuboard/tabs/scenario_tab.py:485}  Rending scenario plot takes 3.8880 seconds.\n"
     ]
    },
    {
     "name": "stderr",
     "output_type": "stream",
     "text": [
      "\u001b[2m\u001b[33m(raylet)\u001b[0m [2024-05-13 11:02:48,790 E 323103 323115] (raylet) file_system_monitor.cc:111: /tmp/ray/session_2024-05-13_10-12-36_357405_322805 is over 95% full, available space: 504055701504; capacity: 16125711347712. Object creation will fail if spilling is required.\n",
      "\u001b[2m\u001b[33m(raylet)\u001b[0m [2024-05-13 11:02:58,793 E 323103 323115] (raylet) file_system_monitor.cc:111: /tmp/ray/session_2024-05-13_10-12-36_357405_322805 is over 95% full, available space: 504055693312; capacity: 16125711347712. Object creation will fail if spilling is required.\n",
      "\u001b[2m\u001b[33m(raylet)\u001b[0m [2024-05-13 11:03:08,796 E 323103 323115] (raylet) file_system_monitor.cc:111: /tmp/ray/session_2024-05-13_10-12-36_357405_322805 is over 95% full, available space: 504055693312; capacity: 16125711347712. Object creation will fail if spilling is required.\n",
      "\u001b[2m\u001b[33m(raylet)\u001b[0m [2024-05-13 11:03:18,800 E 323103 323115] (raylet) file_system_monitor.cc:111: /tmp/ray/session_2024-05-13_10-12-36_357405_322805 is over 95% full, available space: 504055693312; capacity: 16125711347712. Object creation will fail if spilling is required.\n",
      "\u001b[2m\u001b[33m(raylet)\u001b[0m [2024-05-13 11:03:28,803 E 323103 323115] (raylet) file_system_monitor.cc:111: /tmp/ray/session_2024-05-13_10-12-36_357405_322805 is over 95% full, available space: 504055685120; capacity: 16125711347712. Object creation will fail if spilling is required.\n",
      "\u001b[2m\u001b[33m(raylet)\u001b[0m [2024-05-13 11:03:38,806 E 323103 323115] (raylet) file_system_monitor.cc:111: /tmp/ray/session_2024-05-13_10-12-36_357405_322805 is over 95% full, available space: 504055660544; capacity: 16125711347712. Object creation will fail if spilling is required.\n",
      "\u001b[2m\u001b[33m(raylet)\u001b[0m [2024-05-13 11:03:48,810 E 323103 323115] (raylet) file_system_monitor.cc:111: /tmp/ray/session_2024-05-13_10-12-36_357405_322805 is over 95% full, available space: 504055660544; capacity: 16125711347712. Object creation will fail if spilling is required.\n",
      "\u001b[2m\u001b[33m(raylet)\u001b[0m [2024-05-13 11:03:58,813 E 323103 323115] (raylet) file_system_monitor.cc:111: /tmp/ray/session_2024-05-13_10-12-36_357405_322805 is over 95% full, available space: 504055656448; capacity: 16125711347712. Object creation will fail if spilling is required.\n",
      "Rendering a scenario: 100%|██████████| 1/1 [00:00<00:00, 30.95it/s]\n"
     ]
    },
    {
     "name": "stdout",
     "output_type": "stream",
     "text": [
      "2024-05-13 11:04:04,763 INFO {/home/ehdykhne/nuplan-devkit/nuplan/planning/nuboard/tabs/scenario_tab.py:485}  Rending scenario plot takes 5.5586 seconds.\n"
     ]
    },
    {
     "name": "stderr",
     "output_type": "stream",
     "text": [
      "\u001b[2m\u001b[33m(raylet)\u001b[0m [2024-05-13 11:04:08,818 E 323103 323115] (raylet) file_system_monitor.cc:111: /tmp/ray/session_2024-05-13_10-12-36_357405_322805 is over 95% full, available space: 504055652352; capacity: 16125711347712. Object creation will fail if spilling is required.\n",
      "\u001b[2m\u001b[33m(raylet)\u001b[0m [2024-05-13 11:04:18,821 E 323103 323115] (raylet) file_system_monitor.cc:111: /tmp/ray/session_2024-05-13_10-12-36_357405_322805 is over 95% full, available space: 504055648256; capacity: 16125711347712. Object creation will fail if spilling is required.\n",
      "\u001b[2m\u001b[33m(raylet)\u001b[0m [2024-05-13 11:04:28,824 E 323103 323115] (raylet) file_system_monitor.cc:111: /tmp/ray/session_2024-05-13_10-12-36_357405_322805 is over 95% full, available space: 504055648256; capacity: 16125711347712. Object creation will fail if spilling is required.\n",
      "\u001b[2m\u001b[33m(raylet)\u001b[0m [2024-05-13 11:04:38,828 E 323103 323115] (raylet) file_system_monitor.cc:111: /tmp/ray/session_2024-05-13_10-12-36_357405_322805 is over 95% full, available space: 504055488512; capacity: 16125711347712. Object creation will fail if spilling is required.\n",
      "\u001b[2m\u001b[33m(raylet)\u001b[0m [2024-05-13 11:04:48,831 E 323103 323115] (raylet) file_system_monitor.cc:111: /tmp/ray/session_2024-05-13_10-12-36_357405_322805 is over 95% full, available space: 504055480320; capacity: 16125711347712. Object creation will fail if spilling is required.\n",
      "\u001b[2m\u001b[33m(raylet)\u001b[0m [2024-05-13 11:04:58,835 E 323103 323115] (raylet) file_system_monitor.cc:111: /tmp/ray/session_2024-05-13_10-12-36_357405_322805 is over 95% full, available space: 504055480320; capacity: 16125711347712. Object creation will fail if spilling is required.\n",
      "\u001b[2m\u001b[33m(raylet)\u001b[0m [2024-05-13 11:05:08,838 E 323103 323115] (raylet) file_system_monitor.cc:111: /tmp/ray/session_2024-05-13_10-12-36_357405_322805 is over 95% full, available space: 504055468032; capacity: 16125711347712. Object creation will fail if spilling is required.\n",
      "\u001b[2m\u001b[33m(raylet)\u001b[0m [2024-05-13 11:05:18,842 E 323103 323115] (raylet) file_system_monitor.cc:111: /tmp/ray/session_2024-05-13_10-12-36_357405_322805 is over 95% full, available space: 504055463936; capacity: 16125711347712. Object creation will fail if spilling is required.\n",
      "Rendering a scenario: 100%|██████████| 1/1 [00:00<00:00, 89.55it/s]\n"
     ]
    },
    {
     "name": "stdout",
     "output_type": "stream",
     "text": [
      "2024-05-13 11:05:26,475 INFO {/home/ehdykhne/nuplan-devkit/nuplan/planning/nuboard/tabs/scenario_tab.py:485}  Rending scenario plot takes 3.3855 seconds.\n"
     ]
    },
    {
     "name": "stderr",
     "output_type": "stream",
     "text": [
      "\u001b[2m\u001b[33m(raylet)\u001b[0m [2024-05-13 11:05:28,845 E 323103 323115] (raylet) file_system_monitor.cc:111: /tmp/ray/session_2024-05-13_10-12-36_357405_322805 is over 95% full, available space: 504055463936; capacity: 16125711347712. Object creation will fail if spilling is required.\n",
      "\u001b[2m\u001b[33m(raylet)\u001b[0m [2024-05-13 11:05:38,848 E 323103 323115] (raylet) file_system_monitor.cc:111: /tmp/ray/session_2024-05-13_10-12-36_357405_322805 is over 95% full, available space: 504055435264; capacity: 16125711347712. Object creation will fail if spilling is required.\n",
      "\u001b[2m\u001b[33m(raylet)\u001b[0m [2024-05-13 11:05:48,852 E 323103 323115] (raylet) file_system_monitor.cc:111: /tmp/ray/session_2024-05-13_10-12-36_357405_322805 is over 95% full, available space: 504055427072; capacity: 16125711347712. Object creation will fail if spilling is required.\n",
      "\u001b[2m\u001b[33m(raylet)\u001b[0m [2024-05-13 11:05:58,855 E 323103 323115] (raylet) file_system_monitor.cc:111: /tmp/ray/session_2024-05-13_10-12-36_357405_322805 is over 95% full, available space: 504055427072; capacity: 16125711347712. Object creation will fail if spilling is required.\n",
      "Rendering a scenario: 100%|██████████| 1/1 [00:00<00:00, 953.47it/s]\n",
      "\u001b[2m\u001b[33m(raylet)\u001b[0m [2024-05-13 11:06:08,859 E 323103 323115] (raylet) file_system_monitor.cc:111: /tmp/ray/session_2024-05-13_10-12-36_357405_322805 is over 95% full, available space: 504055418880; capacity: 16125711347712. Object creation will fail if spilling is required.\n"
     ]
    },
    {
     "name": "stdout",
     "output_type": "stream",
     "text": [
      "2024-05-13 11:06:09,810 INFO {/home/ehdykhne/nuplan-devkit/nuplan/planning/nuboard/tabs/scenario_tab.py:485}  Rending scenario plot takes 5.4549 seconds.\n"
     ]
    },
    {
     "name": "stderr",
     "output_type": "stream",
     "text": [
      "\u001b[2m\u001b[33m(raylet)\u001b[0m [2024-05-13 11:06:18,862 E 323103 323115] (raylet) file_system_monitor.cc:111: /tmp/ray/session_2024-05-13_10-12-36_357405_322805 is over 95% full, available space: 504055418880; capacity: 16125711347712. Object creation will fail if spilling is required.\n",
      "\u001b[2m\u001b[33m(raylet)\u001b[0m [2024-05-13 11:06:28,865 E 323103 323115] (raylet) file_system_monitor.cc:111: /tmp/ray/session_2024-05-13_10-12-36_357405_322805 is over 95% full, available space: 504055418880; capacity: 16125711347712. Object creation will fail if spilling is required.\n",
      "\u001b[2m\u001b[33m(raylet)\u001b[0m [2024-05-13 11:06:38,868 E 323103 323115] (raylet) file_system_monitor.cc:111: /tmp/ray/session_2024-05-13_10-12-36_357405_322805 is over 95% full, available space: 504055255040; capacity: 16125711347712. Object creation will fail if spilling is required.\n",
      "\u001b[2m\u001b[33m(raylet)\u001b[0m [2024-05-13 11:06:48,872 E 323103 323115] (raylet) file_system_monitor.cc:111: /tmp/ray/session_2024-05-13_10-12-36_357405_322805 is over 95% full, available space: 504055255040; capacity: 16125711347712. Object creation will fail if spilling is required.\n",
      "\u001b[2m\u001b[33m(raylet)\u001b[0m [2024-05-13 11:06:58,875 E 323103 323115] (raylet) file_system_monitor.cc:111: /tmp/ray/session_2024-05-13_10-12-36_357405_322805 is over 95% full, available space: 504055255040; capacity: 16125711347712. Object creation will fail if spilling is required.\n",
      "\u001b[2m\u001b[33m(raylet)\u001b[0m [2024-05-13 11:07:08,879 E 323103 323115] (raylet) file_system_monitor.cc:111: /tmp/ray/session_2024-05-13_10-12-36_357405_322805 is over 95% full, available space: 504055246848; capacity: 16125711347712. Object creation will fail if spilling is required.\n",
      "\u001b[2m\u001b[33m(raylet)\u001b[0m [2024-05-13 11:07:18,882 E 323103 323115] (raylet) file_system_monitor.cc:111: /tmp/ray/session_2024-05-13_10-12-36_357405_322805 is over 95% full, available space: 504055242752; capacity: 16125711347712. Object creation will fail if spilling is required.\n",
      "\u001b[2m\u001b[33m(raylet)\u001b[0m [2024-05-13 11:07:28,885 E 323103 323115] (raylet) file_system_monitor.cc:111: /tmp/ray/session_2024-05-13_10-12-36_357405_322805 is over 95% full, available space: 504055238656; capacity: 16125711347712. Object creation will fail if spilling is required.\n",
      "\u001b[2m\u001b[33m(raylet)\u001b[0m [2024-05-13 11:07:38,888 E 323103 323115] (raylet) file_system_monitor.cc:111: /tmp/ray/session_2024-05-13_10-12-36_357405_322805 is over 95% full, available space: 504055218176; capacity: 16125711347712. Object creation will fail if spilling is required.\n",
      "\u001b[2m\u001b[33m(raylet)\u001b[0m [2024-05-13 11:07:48,892 E 323103 323115] (raylet) file_system_monitor.cc:111: /tmp/ray/session_2024-05-13_10-12-36_357405_322805 is over 95% full, available space: 504055209984; capacity: 16125711347712. Object creation will fail if spilling is required.\n",
      "\u001b[2m\u001b[33m(raylet)\u001b[0m [2024-05-13 11:07:58,895 E 323103 323115] (raylet) file_system_monitor.cc:111: /tmp/ray/session_2024-05-13_10-12-36_357405_322805 is over 95% full, available space: 504055205888; capacity: 16125711347712. Object creation will fail if spilling is required.\n",
      "\u001b[2m\u001b[33m(raylet)\u001b[0m [2024-05-13 11:08:08,899 E 323103 323115] (raylet) file_system_monitor.cc:111: /tmp/ray/session_2024-05-13_10-12-36_357405_322805 is over 95% full, available space: 504055205888; capacity: 16125711347712. Object creation will fail if spilling is required.\n",
      "\u001b[2m\u001b[33m(raylet)\u001b[0m [2024-05-13 11:08:18,902 E 323103 323115] (raylet) file_system_monitor.cc:111: /tmp/ray/session_2024-05-13_10-12-36_357405_322805 is over 95% full, available space: 504055205888; capacity: 16125711347712. Object creation will fail if spilling is required.\n",
      "\u001b[2m\u001b[33m(raylet)\u001b[0m [2024-05-13 11:08:28,905 E 323103 323115] (raylet) file_system_monitor.cc:111: /tmp/ray/session_2024-05-13_10-12-36_357405_322805 is over 95% full, available space: 504055201792; capacity: 16125711347712. Object creation will fail if spilling is required.\n",
      "\u001b[2m\u001b[33m(raylet)\u001b[0m [2024-05-13 11:08:38,909 E 323103 323115] (raylet) file_system_monitor.cc:111: /tmp/ray/session_2024-05-13_10-12-36_357405_322805 is over 95% full, available space: 504055042048; capacity: 16125711347712. Object creation will fail if spilling is required.\n",
      "\u001b[2m\u001b[33m(raylet)\u001b[0m [2024-05-13 11:08:48,912 E 323103 323115] (raylet) file_system_monitor.cc:111: /tmp/ray/session_2024-05-13_10-12-36_357405_322805 is over 95% full, available space: 504055029760; capacity: 16125711347712. Object creation will fail if spilling is required.\n",
      "\u001b[2m\u001b[33m(raylet)\u001b[0m [2024-05-13 11:08:58,915 E 323103 323115] (raylet) file_system_monitor.cc:111: /tmp/ray/session_2024-05-13_10-12-36_357405_322805 is over 95% full, available space: 504055029760; capacity: 16125711347712. Object creation will fail if spilling is required.\n",
      "\u001b[2m\u001b[33m(raylet)\u001b[0m [2024-05-13 11:09:08,919 E 323103 323115] (raylet) file_system_monitor.cc:111: /tmp/ray/session_2024-05-13_10-12-36_357405_322805 is over 95% full, available space: 504055025664; capacity: 16125711347712. Object creation will fail if spilling is required.\n",
      "\u001b[2m\u001b[33m(raylet)\u001b[0m [2024-05-13 11:09:18,922 E 323103 323115] (raylet) file_system_monitor.cc:111: /tmp/ray/session_2024-05-13_10-12-36_357405_322805 is over 95% full, available space: 504055021568; capacity: 16125711347712. Object creation will fail if spilling is required.\n",
      "\u001b[2m\u001b[33m(raylet)\u001b[0m [2024-05-13 11:09:28,925 E 323103 323115] (raylet) file_system_monitor.cc:111: /tmp/ray/session_2024-05-13_10-12-36_357405_322805 is over 95% full, available space: 504055017472; capacity: 16125711347712. Object creation will fail if spilling is required.\n",
      "\u001b[2m\u001b[33m(raylet)\u001b[0m [2024-05-13 11:09:38,929 E 323103 323115] (raylet) file_system_monitor.cc:111: /tmp/ray/session_2024-05-13_10-12-36_357405_322805 is over 95% full, available space: 504054935552; capacity: 16125711347712. Object creation will fail if spilling is required.\n",
      "\u001b[2m\u001b[33m(raylet)\u001b[0m [2024-05-13 11:09:48,932 E 323103 323115] (raylet) file_system_monitor.cc:111: /tmp/ray/session_2024-05-13_10-12-36_357405_322805 is over 95% full, available space: 504054927360; capacity: 16125711347712. Object creation will fail if spilling is required.\n",
      "\u001b[2m\u001b[33m(raylet)\u001b[0m [2024-05-13 11:09:58,935 E 323103 323115] (raylet) file_system_monitor.cc:111: /tmp/ray/session_2024-05-13_10-12-36_357405_322805 is over 95% full, available space: 504054923264; capacity: 16125711347712. Object creation will fail if spilling is required.\n",
      "\u001b[2m\u001b[33m(raylet)\u001b[0m [2024-05-13 11:10:08,939 E 323103 323115] (raylet) file_system_monitor.cc:111: /tmp/ray/session_2024-05-13_10-12-36_357405_322805 is over 95% full, available space: 504054915072; capacity: 16125711347712. Object creation will fail if spilling is required.\n",
      "\u001b[2m\u001b[33m(raylet)\u001b[0m [2024-05-13 11:10:18,942 E 323103 323115] (raylet) file_system_monitor.cc:111: /tmp/ray/session_2024-05-13_10-12-36_357405_322805 is over 95% full, available space: 504054915072; capacity: 16125711347712. Object creation will fail if spilling is required.\n",
      "\u001b[2m\u001b[33m(raylet)\u001b[0m [2024-05-13 11:10:28,945 E 323103 323115] (raylet) file_system_monitor.cc:111: /tmp/ray/session_2024-05-13_10-12-36_357405_322805 is over 95% full, available space: 504054915072; capacity: 16125711347712. Object creation will fail if spilling is required.\n",
      "\u001b[2m\u001b[33m(raylet)\u001b[0m [2024-05-13 11:10:38,949 E 323103 323115] (raylet) file_system_monitor.cc:111: /tmp/ray/session_2024-05-13_10-12-36_357405_322805 is over 95% full, available space: 504054812672; capacity: 16125711347712. Object creation will fail if spilling is required.\n",
      "\u001b[2m\u001b[33m(raylet)\u001b[0m [2024-05-13 11:10:48,952 E 323103 323115] (raylet) file_system_monitor.cc:111: /tmp/ray/session_2024-05-13_10-12-36_357405_322805 is over 95% full, available space: 504054812672; capacity: 16125711347712. Object creation will fail if spilling is required.\n",
      "\u001b[2m\u001b[33m(raylet)\u001b[0m [2024-05-13 11:10:58,956 E 323103 323115] (raylet) file_system_monitor.cc:111: /tmp/ray/session_2024-05-13_10-12-36_357405_322805 is over 95% full, available space: 504054812672; capacity: 16125711347712. Object creation will fail if spilling is required.\n",
      "\u001b[2m\u001b[33m(raylet)\u001b[0m [2024-05-13 11:11:08,959 E 323103 323115] (raylet) file_system_monitor.cc:111: /tmp/ray/session_2024-05-13_10-12-36_357405_322805 is over 95% full, available space: 504054808576; capacity: 16125711347712. Object creation will fail if spilling is required.\n",
      "\u001b[2m\u001b[33m(raylet)\u001b[0m [2024-05-13 11:11:18,962 E 323103 323115] (raylet) file_system_monitor.cc:111: /tmp/ray/session_2024-05-13_10-12-36_357405_322805 is over 95% full, available space: 504054808576; capacity: 16125711347712. Object creation will fail if spilling is required.\n",
      "\u001b[2m\u001b[33m(raylet)\u001b[0m [2024-05-13 11:11:28,966 E 323103 323115] (raylet) file_system_monitor.cc:111: /tmp/ray/session_2024-05-13_10-12-36_357405_322805 is over 95% full, available space: 504054800384; capacity: 16125711347712. Object creation will fail if spilling is required.\n",
      "\u001b[2m\u001b[33m(raylet)\u001b[0m [2024-05-13 11:11:38,969 E 323103 323115] (raylet) file_system_monitor.cc:111: /tmp/ray/session_2024-05-13_10-12-36_357405_322805 is over 95% full, available space: 504054640640; capacity: 16125711347712. Object creation will fail if spilling is required.\n",
      "\u001b[2m\u001b[33m(raylet)\u001b[0m [2024-05-13 11:11:48,972 E 323103 323115] (raylet) file_system_monitor.cc:111: /tmp/ray/session_2024-05-13_10-12-36_357405_322805 is over 95% full, available space: 504054636544; capacity: 16125711347712. Object creation will fail if spilling is required.\n",
      "\u001b[2m\u001b[33m(raylet)\u001b[0m [2024-05-13 11:11:58,976 E 323103 323115] (raylet) file_system_monitor.cc:111: /tmp/ray/session_2024-05-13_10-12-36_357405_322805 is over 95% full, available space: 504054632448; capacity: 16125711347712. Object creation will fail if spilling is required.\n",
      "\u001b[2m\u001b[33m(raylet)\u001b[0m [2024-05-13 11:12:08,979 E 323103 323115] (raylet) file_system_monitor.cc:111: /tmp/ray/session_2024-05-13_10-12-36_357405_322805 is over 95% full, available space: 504054628352; capacity: 16125711347712. Object creation will fail if spilling is required.\n",
      "\u001b[2m\u001b[33m(raylet)\u001b[0m [2024-05-13 11:12:18,982 E 323103 323115] (raylet) file_system_monitor.cc:111: /tmp/ray/session_2024-05-13_10-12-36_357405_322805 is over 95% full, available space: 504054628352; capacity: 16125711347712. Object creation will fail if spilling is required.\n",
      "\u001b[2m\u001b[33m(raylet)\u001b[0m [2024-05-13 11:12:28,986 E 323103 323115] (raylet) file_system_monitor.cc:111: /tmp/ray/session_2024-05-13_10-12-36_357405_322805 is over 95% full, available space: 504054624256; capacity: 16125711347712. Object creation will fail if spilling is required.\n",
      "\u001b[2m\u001b[33m(raylet)\u001b[0m [2024-05-13 11:12:38,989 E 323103 323115] (raylet) file_system_monitor.cc:111: /tmp/ray/session_2024-05-13_10-12-36_357405_322805 is over 95% full, available space: 504054595584; capacity: 16125711347712. Object creation will fail if spilling is required.\n",
      "\u001b[2m\u001b[33m(raylet)\u001b[0m [2024-05-13 11:12:48,992 E 323103 323115] (raylet) file_system_monitor.cc:111: /tmp/ray/session_2024-05-13_10-12-36_357405_322805 is over 95% full, available space: 504054587392; capacity: 16125711347712. Object creation will fail if spilling is required.\n",
      "\u001b[2m\u001b[33m(raylet)\u001b[0m [2024-05-13 11:12:58,996 E 323103 323115] (raylet) file_system_monitor.cc:111: /tmp/ray/session_2024-05-13_10-12-36_357405_322805 is over 95% full, available space: 504054587392; capacity: 16125711347712. Object creation will fail if spilling is required.\n",
      "\u001b[2m\u001b[33m(raylet)\u001b[0m [2024-05-13 11:13:08,999 E 323103 323115] (raylet) file_system_monitor.cc:111: /tmp/ray/session_2024-05-13_10-12-36_357405_322805 is over 95% full, available space: 504054583296; capacity: 16125711347712. Object creation will fail if spilling is required.\n",
      "\u001b[2m\u001b[33m(raylet)\u001b[0m [2024-05-13 11:13:19,002 E 323103 323115] (raylet) file_system_monitor.cc:111: /tmp/ray/session_2024-05-13_10-12-36_357405_322805 is over 95% full, available space: 504054579200; capacity: 16125711347712. Object creation will fail if spilling is required.\n",
      "\u001b[2m\u001b[33m(raylet)\u001b[0m [2024-05-13 11:13:29,006 E 323103 323115] (raylet) file_system_monitor.cc:111: /tmp/ray/session_2024-05-13_10-12-36_357405_322805 is over 95% full, available space: 504054579200; capacity: 16125711347712. Object creation will fail if spilling is required.\n",
      "\u001b[2m\u001b[33m(raylet)\u001b[0m [2024-05-13 11:13:39,009 E 323103 323115] (raylet) file_system_monitor.cc:111: /tmp/ray/session_2024-05-13_10-12-36_357405_322805 is over 95% full, available space: 504054423552; capacity: 16125711347712. Object creation will fail if spilling is required.\n",
      "\u001b[2m\u001b[33m(raylet)\u001b[0m [2024-05-13 11:13:49,012 E 323103 323115] (raylet) file_system_monitor.cc:111: /tmp/ray/session_2024-05-13_10-12-36_357405_322805 is over 95% full, available space: 504054419456; capacity: 16125711347712. Object creation will fail if spilling is required.\n",
      "\u001b[2m\u001b[33m(raylet)\u001b[0m [2024-05-13 11:13:59,016 E 323103 323115] (raylet) file_system_monitor.cc:111: /tmp/ray/session_2024-05-13_10-12-36_357405_322805 is over 95% full, available space: 504054419456; capacity: 16125711347712. Object creation will fail if spilling is required.\n",
      "\u001b[2m\u001b[33m(raylet)\u001b[0m [2024-05-13 11:14:09,019 E 323103 323115] (raylet) file_system_monitor.cc:111: /tmp/ray/session_2024-05-13_10-12-36_357405_322805 is over 95% full, available space: 504054411264; capacity: 16125711347712. Object creation will fail if spilling is required.\n",
      "\u001b[2m\u001b[33m(raylet)\u001b[0m [2024-05-13 11:14:19,022 E 323103 323115] (raylet) file_system_monitor.cc:111: /tmp/ray/session_2024-05-13_10-12-36_357405_322805 is over 95% full, available space: 504054407168; capacity: 16125711347712. Object creation will fail if spilling is required.\n",
      "\u001b[2m\u001b[33m(raylet)\u001b[0m [2024-05-13 11:14:29,026 E 323103 323115] (raylet) file_system_monitor.cc:111: /tmp/ray/session_2024-05-13_10-12-36_357405_322805 is over 95% full, available space: 504054407168; capacity: 16125711347712. Object creation will fail if spilling is required.\n",
      "\u001b[2m\u001b[33m(raylet)\u001b[0m [2024-05-13 11:14:39,029 E 323103 323115] (raylet) file_system_monitor.cc:111: /tmp/ray/session_2024-05-13_10-12-36_357405_322805 is over 95% full, available space: 504054370304; capacity: 16125711347712. Object creation will fail if spilling is required.\n",
      "\u001b[2m\u001b[33m(raylet)\u001b[0m [2024-05-13 11:14:49,032 E 323103 323115] (raylet) file_system_monitor.cc:111: /tmp/ray/session_2024-05-13_10-12-36_357405_322805 is over 95% full, available space: 504054366208; capacity: 16125711347712. Object creation will fail if spilling is required.\n",
      "\u001b[2m\u001b[33m(raylet)\u001b[0m [2024-05-13 11:14:59,036 E 323103 323115] (raylet) file_system_monitor.cc:111: /tmp/ray/session_2024-05-13_10-12-36_357405_322805 is over 95% full, available space: 504054366208; capacity: 16125711347712. Object creation will fail if spilling is required.\n",
      "\u001b[2m\u001b[33m(raylet)\u001b[0m [2024-05-13 11:15:09,039 E 323103 323115] (raylet) file_system_monitor.cc:111: /tmp/ray/session_2024-05-13_10-12-36_357405_322805 is over 95% full, available space: 504054362112; capacity: 16125711347712. Object creation will fail if spilling is required.\n",
      "\u001b[2m\u001b[33m(raylet)\u001b[0m [2024-05-13 11:15:19,042 E 323103 323115] (raylet) file_system_monitor.cc:111: /tmp/ray/session_2024-05-13_10-12-36_357405_322805 is over 95% full, available space: 504054362112; capacity: 16125711347712. Object creation will fail if spilling is required.\n",
      "\u001b[2m\u001b[33m(raylet)\u001b[0m [2024-05-13 11:15:29,046 E 323103 323115] (raylet) file_system_monitor.cc:111: /tmp/ray/session_2024-05-13_10-12-36_357405_322805 is over 95% full, available space: 504054362112; capacity: 16125711347712. Object creation will fail if spilling is required.\n",
      "\u001b[2m\u001b[33m(raylet)\u001b[0m [2024-05-13 11:15:39,049 E 323103 323115] (raylet) file_system_monitor.cc:111: /tmp/ray/session_2024-05-13_10-12-36_357405_322805 is over 95% full, available space: 504054198272; capacity: 16125711347712. Object creation will fail if spilling is required.\n",
      "\u001b[2m\u001b[33m(raylet)\u001b[0m [2024-05-13 11:15:49,053 E 323103 323115] (raylet) file_system_monitor.cc:111: /tmp/ray/session_2024-05-13_10-12-36_357405_322805 is over 95% full, available space: 504054198272; capacity: 16125711347712. Object creation will fail if spilling is required.\n",
      "\u001b[2m\u001b[33m(raylet)\u001b[0m [2024-05-13 11:15:59,056 E 323103 323115] (raylet) file_system_monitor.cc:111: /tmp/ray/session_2024-05-13_10-12-36_357405_322805 is over 95% full, available space: 504054194176; capacity: 16125711347712. Object creation will fail if spilling is required.\n",
      "\u001b[2m\u001b[33m(raylet)\u001b[0m [2024-05-13 11:16:09,059 E 323103 323115] (raylet) file_system_monitor.cc:111: /tmp/ray/session_2024-05-13_10-12-36_357405_322805 is over 95% full, available space: 504054190080; capacity: 16125711347712. Object creation will fail if spilling is required.\n",
      "\u001b[2m\u001b[33m(raylet)\u001b[0m [2024-05-13 11:16:19,063 E 323103 323115] (raylet) file_system_monitor.cc:111: /tmp/ray/session_2024-05-13_10-12-36_357405_322805 is over 95% full, available space: 504054190080; capacity: 16125711347712. Object creation will fail if spilling is required.\n",
      "\u001b[2m\u001b[33m(raylet)\u001b[0m [2024-05-13 11:16:29,066 E 323103 323115] (raylet) file_system_monitor.cc:111: /tmp/ray/session_2024-05-13_10-12-36_357405_322805 is over 95% full, available space: 504054181888; capacity: 16125711347712. Object creation will fail if spilling is required.\n",
      "\u001b[2m\u001b[33m(raylet)\u001b[0m [2024-05-13 11:16:39,070 E 323103 323115] (raylet) file_system_monitor.cc:111: /tmp/ray/session_2024-05-13_10-12-36_357405_322805 is over 95% full, available space: 504054161408; capacity: 16125711347712. Object creation will fail if spilling is required.\n",
      "\u001b[2m\u001b[33m(raylet)\u001b[0m [2024-05-13 11:16:49,073 E 323103 323115] (raylet) file_system_monitor.cc:111: /tmp/ray/session_2024-05-13_10-12-36_357405_322805 is over 95% full, available space: 504054157312; capacity: 16125711347712. Object creation will fail if spilling is required.\n",
      "\u001b[2m\u001b[33m(raylet)\u001b[0m [2024-05-13 11:16:59,076 E 323103 323115] (raylet) file_system_monitor.cc:111: /tmp/ray/session_2024-05-13_10-12-36_357405_322805 is over 95% full, available space: 504054149120; capacity: 16125711347712. Object creation will fail if spilling is required.\n",
      "\u001b[2m\u001b[33m(raylet)\u001b[0m [2024-05-13 11:17:09,080 E 323103 323115] (raylet) file_system_monitor.cc:111: /tmp/ray/session_2024-05-13_10-12-36_357405_322805 is over 95% full, available space: 504054149120; capacity: 16125711347712. Object creation will fail if spilling is required.\n",
      "\u001b[2m\u001b[33m(raylet)\u001b[0m [2024-05-13 11:17:19,083 E 323103 323115] (raylet) file_system_monitor.cc:111: /tmp/ray/session_2024-05-13_10-12-36_357405_322805 is over 95% full, available space: 504054145024; capacity: 16125711347712. Object creation will fail if spilling is required.\n",
      "\u001b[2m\u001b[33m(raylet)\u001b[0m [2024-05-13 11:17:29,086 E 323103 323115] (raylet) file_system_monitor.cc:111: /tmp/ray/session_2024-05-13_10-12-36_357405_322805 is over 95% full, available space: 504054145024; capacity: 16125711347712. Object creation will fail if spilling is required.\n",
      "\u001b[2m\u001b[33m(raylet)\u001b[0m [2024-05-13 11:17:39,090 E 323103 323115] (raylet) file_system_monitor.cc:111: /tmp/ray/session_2024-05-13_10-12-36_357405_322805 is over 95% full, available space: 504053977088; capacity: 16125711347712. Object creation will fail if spilling is required.\n",
      "\u001b[2m\u001b[33m(raylet)\u001b[0m [2024-05-13 11:17:49,093 E 323103 323115] (raylet) file_system_monitor.cc:111: /tmp/ray/session_2024-05-13_10-12-36_357405_322805 is over 95% full, available space: 504053972992; capacity: 16125711347712. Object creation will fail if spilling is required.\n",
      "\u001b[2m\u001b[33m(raylet)\u001b[0m [2024-05-13 11:17:59,096 E 323103 323115] (raylet) file_system_monitor.cc:111: /tmp/ray/session_2024-05-13_10-12-36_357405_322805 is over 95% full, available space: 504053972992; capacity: 16125711347712. Object creation will fail if spilling is required.\n",
      "\u001b[2m\u001b[33m(raylet)\u001b[0m [2024-05-13 11:18:09,100 E 323103 323115] (raylet) file_system_monitor.cc:111: /tmp/ray/session_2024-05-13_10-12-36_357405_322805 is over 95% full, available space: 504053972992; capacity: 16125711347712. Object creation will fail if spilling is required.\n",
      "\u001b[2m\u001b[33m(raylet)\u001b[0m [2024-05-13 11:18:19,103 E 323103 323115] (raylet) file_system_monitor.cc:111: /tmp/ray/session_2024-05-13_10-12-36_357405_322805 is over 95% full, available space: 504053968896; capacity: 16125711347712. Object creation will fail if spilling is required.\n",
      "\u001b[2m\u001b[33m(raylet)\u001b[0m [2024-05-13 11:18:29,106 E 323103 323115] (raylet) file_system_monitor.cc:111: /tmp/ray/session_2024-05-13_10-12-36_357405_322805 is over 95% full, available space: 504053968896; capacity: 16125711347712. Object creation will fail if spilling is required.\n",
      "\u001b[2m\u001b[33m(raylet)\u001b[0m [2024-05-13 11:18:39,109 E 323103 323115] (raylet) file_system_monitor.cc:111: /tmp/ray/session_2024-05-13_10-12-36_357405_322805 is over 95% full, available space: 504053936128; capacity: 16125711347712. Object creation will fail if spilling is required.\n",
      "\u001b[2m\u001b[33m(raylet)\u001b[0m [2024-05-13 11:18:49,113 E 323103 323115] (raylet) file_system_monitor.cc:111: /tmp/ray/session_2024-05-13_10-12-36_357405_322805 is over 95% full, available space: 504053936128; capacity: 16125711347712. Object creation will fail if spilling is required.\n",
      "\u001b[2m\u001b[33m(raylet)\u001b[0m [2024-05-13 11:18:59,116 E 323103 323115] (raylet) file_system_monitor.cc:111: /tmp/ray/session_2024-05-13_10-12-36_357405_322805 is over 95% full, available space: 504053936128; capacity: 16125711347712. Object creation will fail if spilling is required.\n",
      "\u001b[2m\u001b[33m(raylet)\u001b[0m [2024-05-13 11:19:09,119 E 323103 323115] (raylet) file_system_monitor.cc:111: /tmp/ray/session_2024-05-13_10-12-36_357405_322805 is over 95% full, available space: 504053919744; capacity: 16125711347712. Object creation will fail if spilling is required.\n",
      "\u001b[2m\u001b[33m(raylet)\u001b[0m [2024-05-13 11:19:19,123 E 323103 323115] (raylet) file_system_monitor.cc:111: /tmp/ray/session_2024-05-13_10-12-36_357405_322805 is over 95% full, available space: 504053919744; capacity: 16125711347712. Object creation will fail if spilling is required.\n",
      "\u001b[2m\u001b[33m(raylet)\u001b[0m [2024-05-13 11:19:29,126 E 323103 323115] (raylet) file_system_monitor.cc:111: /tmp/ray/session_2024-05-13_10-12-36_357405_322805 is over 95% full, available space: 504053915648; capacity: 16125711347712. Object creation will fail if spilling is required.\n",
      "\u001b[2m\u001b[33m(raylet)\u001b[0m [2024-05-13 11:19:39,130 E 323103 323115] (raylet) file_system_monitor.cc:111: /tmp/ray/session_2024-05-13_10-12-36_357405_322805 is over 95% full, available space: 504053751808; capacity: 16125711347712. Object creation will fail if spilling is required.\n",
      "\u001b[2m\u001b[33m(raylet)\u001b[0m [2024-05-13 11:19:49,133 E 323103 323115] (raylet) file_system_monitor.cc:111: /tmp/ray/session_2024-05-13_10-12-36_357405_322805 is over 95% full, available space: 504053751808; capacity: 16125711347712. Object creation will fail if spilling is required.\n",
      "\u001b[2m\u001b[33m(raylet)\u001b[0m [2024-05-13 11:19:59,136 E 323103 323115] (raylet) file_system_monitor.cc:111: /tmp/ray/session_2024-05-13_10-12-36_357405_322805 is over 95% full, available space: 504053747712; capacity: 16125711347712. Object creation will fail if spilling is required.\n",
      "\u001b[2m\u001b[33m(raylet)\u001b[0m [2024-05-13 11:20:09,140 E 323103 323115] (raylet) file_system_monitor.cc:111: /tmp/ray/session_2024-05-13_10-12-36_357405_322805 is over 95% full, available space: 504053747712; capacity: 16125711347712. Object creation will fail if spilling is required.\n",
      "\u001b[2m\u001b[33m(raylet)\u001b[0m [2024-05-13 11:20:19,143 E 323103 323115] (raylet) file_system_monitor.cc:111: /tmp/ray/session_2024-05-13_10-12-36_357405_322805 is over 95% full, available space: 504053747712; capacity: 16125711347712. Object creation will fail if spilling is required.\n",
      "\u001b[2m\u001b[33m(raylet)\u001b[0m [2024-05-13 11:20:29,147 E 323103 323115] (raylet) file_system_monitor.cc:111: /tmp/ray/session_2024-05-13_10-12-36_357405_322805 is over 95% full, available space: 504053743616; capacity: 16125711347712. Object creation will fail if spilling is required.\n",
      "\u001b[2m\u001b[33m(raylet)\u001b[0m [2024-05-13 11:20:39,150 E 323103 323115] (raylet) file_system_monitor.cc:111: /tmp/ray/session_2024-05-13_10-12-36_357405_322805 is over 95% full, available space: 504053710848; capacity: 16125711347712. Object creation will fail if spilling is required.\n",
      "\u001b[2m\u001b[33m(raylet)\u001b[0m [2024-05-13 11:20:49,153 E 323103 323115] (raylet) file_system_monitor.cc:111: /tmp/ray/session_2024-05-13_10-12-36_357405_322805 is over 95% full, available space: 504053710848; capacity: 16125711347712. Object creation will fail if spilling is required.\n",
      "\u001b[2m\u001b[33m(raylet)\u001b[0m [2024-05-13 11:20:59,157 E 323103 323115] (raylet) file_system_monitor.cc:111: /tmp/ray/session_2024-05-13_10-12-36_357405_322805 is over 95% full, available space: 504053706752; capacity: 16125711347712. Object creation will fail if spilling is required.\n",
      "\u001b[2m\u001b[33m(raylet)\u001b[0m [2024-05-13 11:21:09,160 E 323103 323115] (raylet) file_system_monitor.cc:111: /tmp/ray/session_2024-05-13_10-12-36_357405_322805 is over 95% full, available space: 504053706752; capacity: 16125711347712. Object creation will fail if spilling is required.\n",
      "\u001b[2m\u001b[33m(raylet)\u001b[0m [2024-05-13 11:21:19,163 E 323103 323115] (raylet) file_system_monitor.cc:111: /tmp/ray/session_2024-05-13_10-12-36_357405_322805 is over 95% full, available space: 504053698560; capacity: 16125711347712. Object creation will fail if spilling is required.\n",
      "\u001b[2m\u001b[33m(raylet)\u001b[0m [2024-05-13 11:21:29,167 E 323103 323115] (raylet) file_system_monitor.cc:111: /tmp/ray/session_2024-05-13_10-12-36_357405_322805 is over 95% full, available space: 504053698560; capacity: 16125711347712. Object creation will fail if spilling is required.\n",
      "\u001b[2m\u001b[33m(raylet)\u001b[0m [2024-05-13 11:21:39,170 E 323103 323115] (raylet) file_system_monitor.cc:111: /tmp/ray/session_2024-05-13_10-12-36_357405_322805 is over 95% full, available space: 504053542912; capacity: 16125711347712. Object creation will fail if spilling is required.\n",
      "\u001b[2m\u001b[33m(raylet)\u001b[0m [2024-05-13 11:21:49,173 E 323103 323115] (raylet) file_system_monitor.cc:111: /tmp/ray/session_2024-05-13_10-12-36_357405_322805 is over 95% full, available space: 504053534720; capacity: 16125711347712. Object creation will fail if spilling is required.\n",
      "\u001b[2m\u001b[33m(raylet)\u001b[0m [2024-05-13 11:21:59,177 E 323103 323115] (raylet) file_system_monitor.cc:111: /tmp/ray/session_2024-05-13_10-12-36_357405_322805 is over 95% full, available space: 504053534720; capacity: 16125711347712. Object creation will fail if spilling is required.\n",
      "\u001b[2m\u001b[33m(raylet)\u001b[0m [2024-05-13 11:22:09,180 E 323103 323115] (raylet) file_system_monitor.cc:111: /tmp/ray/session_2024-05-13_10-12-36_357405_322805 is over 95% full, available space: 504053526528; capacity: 16125711347712. Object creation will fail if spilling is required.\n",
      "\u001b[2m\u001b[33m(raylet)\u001b[0m [2024-05-13 11:22:19,183 E 323103 323115] (raylet) file_system_monitor.cc:111: /tmp/ray/session_2024-05-13_10-12-36_357405_322805 is over 95% full, available space: 504053522432; capacity: 16125711347712. Object creation will fail if spilling is required.\n",
      "\u001b[2m\u001b[33m(raylet)\u001b[0m [2024-05-13 11:22:29,187 E 323103 323115] (raylet) file_system_monitor.cc:111: /tmp/ray/session_2024-05-13_10-12-36_357405_322805 is over 95% full, available space: 504053522432; capacity: 16125711347712. Object creation will fail if spilling is required.\n",
      "\u001b[2m\u001b[33m(raylet)\u001b[0m [2024-05-13 11:22:39,190 E 323103 323115] (raylet) file_system_monitor.cc:111: /tmp/ray/session_2024-05-13_10-12-36_357405_322805 is over 95% full, available space: 504053481472; capacity: 16125711347712. Object creation will fail if spilling is required.\n",
      "\u001b[2m\u001b[33m(raylet)\u001b[0m [2024-05-13 11:22:49,192 E 323103 323115] (raylet) file_system_monitor.cc:111: /tmp/ray/session_2024-05-13_10-12-36_357405_322805 is over 95% full, available space: 504053481472; capacity: 16125711347712. Object creation will fail if spilling is required.\n",
      "\u001b[2m\u001b[33m(raylet)\u001b[0m [2024-05-13 11:22:59,195 E 323103 323115] (raylet) file_system_monitor.cc:111: /tmp/ray/session_2024-05-13_10-12-36_357405_322805 is over 95% full, available space: 504053481472; capacity: 16125711347712. Object creation will fail if spilling is required.\n",
      "\u001b[2m\u001b[33m(raylet)\u001b[0m [2024-05-13 11:23:09,198 E 323103 323115] (raylet) file_system_monitor.cc:111: /tmp/ray/session_2024-05-13_10-12-36_357405_322805 is over 95% full, available space: 504053477376; capacity: 16125711347712. Object creation will fail if spilling is required.\n",
      "\u001b[2m\u001b[33m(raylet)\u001b[0m [2024-05-13 11:23:19,202 E 323103 323115] (raylet) file_system_monitor.cc:111: /tmp/ray/session_2024-05-13_10-12-36_357405_322805 is over 95% full, available space: 504053477376; capacity: 16125711347712. Object creation will fail if spilling is required.\n",
      "\u001b[2m\u001b[33m(raylet)\u001b[0m [2024-05-13 11:23:29,205 E 323103 323115] (raylet) file_system_monitor.cc:111: /tmp/ray/session_2024-05-13_10-12-36_357405_322805 is over 95% full, available space: 504053473280; capacity: 16125711347712. Object creation will fail if spilling is required.\n",
      "\u001b[2m\u001b[33m(raylet)\u001b[0m [2024-05-13 11:23:39,209 E 323103 323115] (raylet) file_system_monitor.cc:111: /tmp/ray/session_2024-05-13_10-12-36_357405_322805 is over 95% full, available space: 504053317632; capacity: 16125711347712. Object creation will fail if spilling is required.\n",
      "\u001b[2m\u001b[33m(raylet)\u001b[0m [2024-05-13 11:23:49,212 E 323103 323115] (raylet) file_system_monitor.cc:111: /tmp/ray/session_2024-05-13_10-12-36_357405_322805 is over 95% full, available space: 504053317632; capacity: 16125711347712. Object creation will fail if spilling is required.\n",
      "\u001b[2m\u001b[33m(raylet)\u001b[0m [2024-05-13 11:23:59,215 E 323103 323115] (raylet) file_system_monitor.cc:111: /tmp/ray/session_2024-05-13_10-12-36_357405_322805 is over 95% full, available space: 504053309440; capacity: 16125711347712. Object creation will fail if spilling is required.\n",
      "\u001b[2m\u001b[33m(raylet)\u001b[0m [2024-05-13 11:24:09,219 E 323103 323115] (raylet) file_system_monitor.cc:111: /tmp/ray/session_2024-05-13_10-12-36_357405_322805 is over 95% full, available space: 504053309440; capacity: 16125711347712. Object creation will fail if spilling is required.\n",
      "\u001b[2m\u001b[33m(raylet)\u001b[0m [2024-05-13 11:24:19,222 E 323103 323115] (raylet) file_system_monitor.cc:111: /tmp/ray/session_2024-05-13_10-12-36_357405_322805 is over 95% full, available space: 504053309440; capacity: 16125711347712. Object creation will fail if spilling is required.\n",
      "\u001b[2m\u001b[33m(raylet)\u001b[0m [2024-05-13 11:24:29,225 E 323103 323115] (raylet) file_system_monitor.cc:111: /tmp/ray/session_2024-05-13_10-12-36_357405_322805 is over 95% full, available space: 504053305344; capacity: 16125711347712. Object creation will fail if spilling is required.\n",
      "\u001b[2m\u001b[33m(raylet)\u001b[0m [2024-05-13 11:24:39,229 E 323103 323115] (raylet) file_system_monitor.cc:111: /tmp/ray/session_2024-05-13_10-12-36_357405_322805 is over 95% full, available space: 504053178368; capacity: 16125711347712. Object creation will fail if spilling is required.\n",
      "\u001b[2m\u001b[33m(raylet)\u001b[0m [2024-05-13 11:24:49,232 E 323103 323115] (raylet) file_system_monitor.cc:111: /tmp/ray/session_2024-05-13_10-12-36_357405_322805 is over 95% full, available space: 504053174272; capacity: 16125711347712. Object creation will fail if spilling is required.\n",
      "\u001b[2m\u001b[33m(raylet)\u001b[0m [2024-05-13 11:24:59,236 E 323103 323115] (raylet) file_system_monitor.cc:111: /tmp/ray/session_2024-05-13_10-12-36_357405_322805 is over 95% full, available space: 504053170176; capacity: 16125711347712. Object creation will fail if spilling is required.\n",
      "\u001b[2m\u001b[33m(raylet)\u001b[0m [2024-05-13 11:25:09,239 E 323103 323115] (raylet) file_system_monitor.cc:111: /tmp/ray/session_2024-05-13_10-12-36_357405_322805 is over 95% full, available space: 504053170176; capacity: 16125711347712. Object creation will fail if spilling is required.\n",
      "\u001b[2m\u001b[33m(raylet)\u001b[0m [2024-05-13 11:25:19,242 E 323103 323115] (raylet) file_system_monitor.cc:111: /tmp/ray/session_2024-05-13_10-12-36_357405_322805 is over 95% full, available space: 504053161984; capacity: 16125711347712. Object creation will fail if spilling is required.\n",
      "\u001b[2m\u001b[33m(raylet)\u001b[0m [2024-05-13 11:25:29,246 E 323103 323115] (raylet) file_system_monitor.cc:111: /tmp/ray/session_2024-05-13_10-12-36_357405_322805 is over 95% full, available space: 504053161984; capacity: 16125711347712. Object creation will fail if spilling is required.\n",
      "\u001b[2m\u001b[33m(raylet)\u001b[0m [2024-05-13 11:25:39,249 E 323103 323115] (raylet) file_system_monitor.cc:111: /tmp/ray/session_2024-05-13_10-12-36_357405_322805 is over 95% full, available space: 504053100544; capacity: 16125711347712. Object creation will fail if spilling is required.\n",
      "\u001b[2m\u001b[33m(raylet)\u001b[0m [2024-05-13 11:25:49,252 E 323103 323115] (raylet) file_system_monitor.cc:111: /tmp/ray/session_2024-05-13_10-12-36_357405_322805 is over 95% full, available space: 504053096448; capacity: 16125711347712. Object creation will fail if spilling is required.\n",
      "\u001b[2m\u001b[33m(raylet)\u001b[0m [2024-05-13 11:25:59,256 E 323103 323115] (raylet) file_system_monitor.cc:111: /tmp/ray/session_2024-05-13_10-12-36_357405_322805 is over 95% full, available space: 504053096448; capacity: 16125711347712. Object creation will fail if spilling is required.\n",
      "\u001b[2m\u001b[33m(raylet)\u001b[0m [2024-05-13 11:26:09,259 E 323103 323115] (raylet) file_system_monitor.cc:111: /tmp/ray/session_2024-05-13_10-12-36_357405_322805 is over 95% full, available space: 504053092352; capacity: 16125711347712. Object creation will fail if spilling is required.\n",
      "\u001b[2m\u001b[33m(raylet)\u001b[0m [2024-05-13 11:26:19,263 E 323103 323115] (raylet) file_system_monitor.cc:111: /tmp/ray/session_2024-05-13_10-12-36_357405_322805 is over 95% full, available space: 504053088256; capacity: 16125711347712. Object creation will fail if spilling is required.\n",
      "\u001b[2m\u001b[33m(raylet)\u001b[0m [2024-05-13 11:26:29,266 E 323103 323115] (raylet) file_system_monitor.cc:111: /tmp/ray/session_2024-05-13_10-12-36_357405_322805 is over 95% full, available space: 504053088256; capacity: 16125711347712. Object creation will fail if spilling is required.\n",
      "\u001b[2m\u001b[33m(raylet)\u001b[0m [2024-05-13 11:26:39,269 E 323103 323115] (raylet) file_system_monitor.cc:111: /tmp/ray/session_2024-05-13_10-12-36_357405_322805 is over 95% full, available space: 504052928512; capacity: 16125711347712. Object creation will fail if spilling is required.\n",
      "\u001b[2m\u001b[33m(raylet)\u001b[0m [2024-05-13 11:26:49,273 E 323103 323115] (raylet) file_system_monitor.cc:111: /tmp/ray/session_2024-05-13_10-12-36_357405_322805 is over 95% full, available space: 504052920320; capacity: 16125711347712. Object creation will fail if spilling is required.\n",
      "\u001b[2m\u001b[33m(raylet)\u001b[0m [2024-05-13 11:26:59,276 E 323103 323115] (raylet) file_system_monitor.cc:111: /tmp/ray/session_2024-05-13_10-12-36_357405_322805 is over 95% full, available space: 504052920320; capacity: 16125711347712. Object creation will fail if spilling is required.\n",
      "\u001b[2m\u001b[33m(raylet)\u001b[0m [2024-05-13 11:27:09,280 E 323103 323115] (raylet) file_system_monitor.cc:111: /tmp/ray/session_2024-05-13_10-12-36_357405_322805 is over 95% full, available space: 504052916224; capacity: 16125711347712. Object creation will fail if spilling is required.\n",
      "\u001b[2m\u001b[33m(raylet)\u001b[0m [2024-05-13 11:27:19,283 E 323103 323115] (raylet) file_system_monitor.cc:111: /tmp/ray/session_2024-05-13_10-12-36_357405_322805 is over 95% full, available space: 504052916224; capacity: 16125711347712. Object creation will fail if spilling is required.\n",
      "\u001b[2m\u001b[33m(raylet)\u001b[0m [2024-05-13 11:27:29,286 E 323103 323115] (raylet) file_system_monitor.cc:111: /tmp/ray/session_2024-05-13_10-12-36_357405_322805 is over 95% full, available space: 504052912128; capacity: 16125711347712. Object creation will fail if spilling is required.\n",
      "\u001b[2m\u001b[33m(raylet)\u001b[0m [2024-05-13 11:27:39,290 E 323103 323115] (raylet) file_system_monitor.cc:111: /tmp/ray/session_2024-05-13_10-12-36_357405_322805 is over 95% full, available space: 504052875264; capacity: 16125711347712. Object creation will fail if spilling is required.\n",
      "\u001b[2m\u001b[33m(raylet)\u001b[0m [2024-05-13 11:27:49,293 E 323103 323115] (raylet) file_system_monitor.cc:111: /tmp/ray/session_2024-05-13_10-12-36_357405_322805 is over 95% full, available space: 504052875264; capacity: 16125711347712. Object creation will fail if spilling is required.\n",
      "\u001b[2m\u001b[33m(raylet)\u001b[0m [2024-05-13 11:27:59,296 E 323103 323115] (raylet) file_system_monitor.cc:111: /tmp/ray/session_2024-05-13_10-12-36_357405_322805 is over 95% full, available space: 504052875264; capacity: 16125711347712. Object creation will fail if spilling is required.\n",
      "\u001b[2m\u001b[33m(raylet)\u001b[0m [2024-05-13 11:28:09,300 E 323103 323115] (raylet) file_system_monitor.cc:111: /tmp/ray/session_2024-05-13_10-12-36_357405_322805 is over 95% full, available space: 504052871168; capacity: 16125711347712. Object creation will fail if spilling is required.\n",
      "\u001b[2m\u001b[33m(raylet)\u001b[0m [2024-05-13 11:28:19,303 E 323103 323115] (raylet) file_system_monitor.cc:111: /tmp/ray/session_2024-05-13_10-12-36_357405_322805 is over 95% full, available space: 504052867072; capacity: 16125711347712. Object creation will fail if spilling is required.\n",
      "\u001b[2m\u001b[33m(raylet)\u001b[0m [2024-05-13 11:28:29,307 E 323103 323115] (raylet) file_system_monitor.cc:111: /tmp/ray/session_2024-05-13_10-12-36_357405_322805 is over 95% full, available space: 504052858880; capacity: 16125711347712. Object creation will fail if spilling is required.\n",
      "\u001b[2m\u001b[33m(raylet)\u001b[0m [2024-05-13 11:28:39,310 E 323103 323115] (raylet) file_system_monitor.cc:111: /tmp/ray/session_2024-05-13_10-12-36_357405_322805 is over 95% full, available space: 504052707328; capacity: 16125711347712. Object creation will fail if spilling is required.\n",
      "\u001b[2m\u001b[33m(raylet)\u001b[0m [2024-05-13 11:28:49,313 E 323103 323115] (raylet) file_system_monitor.cc:111: /tmp/ray/session_2024-05-13_10-12-36_357405_322805 is over 95% full, available space: 504052703232; capacity: 16125711347712. Object creation will fail if spilling is required.\n",
      "\u001b[2m\u001b[33m(raylet)\u001b[0m [2024-05-13 11:28:59,317 E 323103 323115] (raylet) file_system_monitor.cc:111: /tmp/ray/session_2024-05-13_10-12-36_357405_322805 is over 95% full, available space: 504052699136; capacity: 16125711347712. Object creation will fail if spilling is required.\n",
      "\u001b[2m\u001b[33m(raylet)\u001b[0m [2024-05-13 11:29:09,320 E 323103 323115] (raylet) file_system_monitor.cc:111: /tmp/ray/session_2024-05-13_10-12-36_357405_322805 is over 95% full, available space: 504052695040; capacity: 16125711347712. Object creation will fail if spilling is required.\n",
      "\u001b[2m\u001b[33m(raylet)\u001b[0m [2024-05-13 11:29:19,324 E 323103 323115] (raylet) file_system_monitor.cc:111: /tmp/ray/session_2024-05-13_10-12-36_357405_322805 is over 95% full, available space: 504052695040; capacity: 16125711347712. Object creation will fail if spilling is required.\n",
      "\u001b[2m\u001b[33m(raylet)\u001b[0m [2024-05-13 11:29:29,327 E 323103 323115] (raylet) file_system_monitor.cc:111: /tmp/ray/session_2024-05-13_10-12-36_357405_322805 is over 95% full, available space: 504052690944; capacity: 16125711347712. Object creation will fail if spilling is required.\n",
      "\u001b[2m\u001b[33m(raylet)\u001b[0m [2024-05-13 11:29:39,330 E 323103 323115] (raylet) file_system_monitor.cc:111: /tmp/ray/session_2024-05-13_10-12-36_357405_322805 is over 95% full, available space: 504052662272; capacity: 16125711347712. Object creation will fail if spilling is required.\n",
      "\u001b[2m\u001b[33m(raylet)\u001b[0m [2024-05-13 11:29:49,334 E 323103 323115] (raylet) file_system_monitor.cc:111: /tmp/ray/session_2024-05-13_10-12-36_357405_322805 is over 95% full, available space: 504052654080; capacity: 16125711347712. Object creation will fail if spilling is required.\n",
      "\u001b[2m\u001b[33m(raylet)\u001b[0m [2024-05-13 11:29:59,337 E 323103 323115] (raylet) file_system_monitor.cc:111: /tmp/ray/session_2024-05-13_10-12-36_357405_322805 is over 95% full, available space: 504052654080; capacity: 16125711347712. Object creation will fail if spilling is required.\n",
      "\u001b[2m\u001b[33m(raylet)\u001b[0m [2024-05-13 11:30:09,340 E 323103 323115] (raylet) file_system_monitor.cc:111: /tmp/ray/session_2024-05-13_10-12-36_357405_322805 is over 95% full, available space: 504052645888; capacity: 16125711347712. Object creation will fail if spilling is required.\n",
      "\u001b[2m\u001b[33m(raylet)\u001b[0m [2024-05-13 11:30:19,343 E 323103 323115] (raylet) file_system_monitor.cc:111: /tmp/ray/session_2024-05-13_10-12-36_357405_322805 is over 95% full, available space: 504052641792; capacity: 16125711347712. Object creation will fail if spilling is required.\n",
      "\u001b[2m\u001b[33m(raylet)\u001b[0m [2024-05-13 11:30:29,345 E 323103 323115] (raylet) file_system_monitor.cc:111: /tmp/ray/session_2024-05-13_10-12-36_357405_322805 is over 95% full, available space: 504052641792; capacity: 16125711347712. Object creation will fail if spilling is required.\n",
      "\u001b[2m\u001b[33m(raylet)\u001b[0m [2024-05-13 11:30:39,347 E 323103 323115] (raylet) file_system_monitor.cc:111: /tmp/ray/session_2024-05-13_10-12-36_357405_322805 is over 95% full, available space: 504052477952; capacity: 16125711347712. Object creation will fail if spilling is required.\n",
      "\u001b[2m\u001b[33m(raylet)\u001b[0m [2024-05-13 11:30:49,350 E 323103 323115] (raylet) file_system_monitor.cc:111: /tmp/ray/session_2024-05-13_10-12-36_357405_322805 is over 95% full, available space: 504052473856; capacity: 16125711347712. Object creation will fail if spilling is required.\n",
      "\u001b[2m\u001b[33m(raylet)\u001b[0m [2024-05-13 11:30:59,354 E 323103 323115] (raylet) file_system_monitor.cc:111: /tmp/ray/session_2024-05-13_10-12-36_357405_322805 is over 95% full, available space: 504052469760; capacity: 16125711347712. Object creation will fail if spilling is required.\n",
      "\u001b[2m\u001b[33m(raylet)\u001b[0m [2024-05-13 11:31:09,357 E 323103 323115] (raylet) file_system_monitor.cc:111: /tmp/ray/session_2024-05-13_10-12-36_357405_322805 is over 95% full, available space: 504052465664; capacity: 16125711347712. Object creation will fail if spilling is required.\n",
      "\u001b[2m\u001b[33m(raylet)\u001b[0m [2024-05-13 11:31:19,360 E 323103 323115] (raylet) file_system_monitor.cc:111: /tmp/ray/session_2024-05-13_10-12-36_357405_322805 is over 95% full, available space: 504052461568; capacity: 16125711347712. Object creation will fail if spilling is required.\n",
      "\u001b[2m\u001b[33m(raylet)\u001b[0m [2024-05-13 11:31:29,364 E 323103 323115] (raylet) file_system_monitor.cc:111: /tmp/ray/session_2024-05-13_10-12-36_357405_322805 is over 95% full, available space: 504052461568; capacity: 16125711347712. Object creation will fail if spilling is required.\n",
      "\u001b[2m\u001b[33m(raylet)\u001b[0m [2024-05-13 11:31:39,367 E 323103 323115] (raylet) file_system_monitor.cc:111: /tmp/ray/session_2024-05-13_10-12-36_357405_322805 is over 95% full, available space: 504052432896; capacity: 16125711347712. Object creation will fail if spilling is required.\n",
      "\u001b[2m\u001b[33m(raylet)\u001b[0m [2024-05-13 11:31:49,371 E 323103 323115] (raylet) file_system_monitor.cc:111: /tmp/ray/session_2024-05-13_10-12-36_357405_322805 is over 95% full, available space: 504052432896; capacity: 16125711347712. Object creation will fail if spilling is required.\n",
      "\u001b[2m\u001b[33m(raylet)\u001b[0m [2024-05-13 11:31:59,374 E 323103 323115] (raylet) file_system_monitor.cc:111: /tmp/ray/session_2024-05-13_10-12-36_357405_322805 is over 95% full, available space: 504052432896; capacity: 16125711347712. Object creation will fail if spilling is required.\n",
      "\u001b[2m\u001b[33m(raylet)\u001b[0m [2024-05-13 11:32:09,377 E 323103 323115] (raylet) file_system_monitor.cc:111: /tmp/ray/session_2024-05-13_10-12-36_357405_322805 is over 95% full, available space: 504052428800; capacity: 16125711347712. Object creation will fail if spilling is required.\n",
      "\u001b[2m\u001b[33m(raylet)\u001b[0m [2024-05-13 11:32:19,381 E 323103 323115] (raylet) file_system_monitor.cc:111: /tmp/ray/session_2024-05-13_10-12-36_357405_322805 is over 95% full, available space: 504052428800; capacity: 16125711347712. Object creation will fail if spilling is required.\n",
      "\u001b[2m\u001b[33m(raylet)\u001b[0m [2024-05-13 11:32:29,384 E 323103 323115] (raylet) file_system_monitor.cc:111: /tmp/ray/session_2024-05-13_10-12-36_357405_322805 is over 95% full, available space: 504052424704; capacity: 16125711347712. Object creation will fail if spilling is required.\n",
      "\u001b[2m\u001b[33m(raylet)\u001b[0m [2024-05-13 11:32:39,388 E 323103 323115] (raylet) file_system_monitor.cc:111: /tmp/ray/session_2024-05-13_10-12-36_357405_322805 is over 95% full, available space: 504052264960; capacity: 16125711347712. Object creation will fail if spilling is required.\n",
      "\u001b[2m\u001b[33m(raylet)\u001b[0m [2024-05-13 11:32:49,391 E 323103 323115] (raylet) file_system_monitor.cc:111: /tmp/ray/session_2024-05-13_10-12-36_357405_322805 is over 95% full, available space: 504052256768; capacity: 16125711347712. Object creation will fail if spilling is required.\n",
      "\u001b[2m\u001b[33m(raylet)\u001b[0m [2024-05-13 11:32:59,395 E 323103 323115] (raylet) file_system_monitor.cc:111: /tmp/ray/session_2024-05-13_10-12-36_357405_322805 is over 95% full, available space: 504052252672; capacity: 16125711347712. Object creation will fail if spilling is required.\n",
      "\u001b[2m\u001b[33m(raylet)\u001b[0m [2024-05-13 11:33:09,398 E 323103 323115] (raylet) file_system_monitor.cc:111: /tmp/ray/session_2024-05-13_10-12-36_357405_322805 is over 95% full, available space: 504052248576; capacity: 16125711347712. Object creation will fail if spilling is required.\n",
      "\u001b[2m\u001b[33m(raylet)\u001b[0m [2024-05-13 11:33:19,401 E 323103 323115] (raylet) file_system_monitor.cc:111: /tmp/ray/session_2024-05-13_10-12-36_357405_322805 is over 95% full, available space: 504052248576; capacity: 16125711347712. Object creation will fail if spilling is required.\n",
      "\u001b[2m\u001b[33m(raylet)\u001b[0m [2024-05-13 11:33:29,405 E 323103 323115] (raylet) file_system_monitor.cc:111: /tmp/ray/session_2024-05-13_10-12-36_357405_322805 is over 95% full, available space: 504052244480; capacity: 16125711347712. Object creation will fail if spilling is required.\n",
      "\u001b[2m\u001b[33m(raylet)\u001b[0m [2024-05-13 11:33:39,408 E 323103 323115] (raylet) file_system_monitor.cc:111: /tmp/ray/session_2024-05-13_10-12-36_357405_322805 is over 95% full, available space: 504052211712; capacity: 16125711347712. Object creation will fail if spilling is required.\n",
      "\u001b[2m\u001b[33m(raylet)\u001b[0m [2024-05-13 11:33:49,412 E 323103 323115] (raylet) file_system_monitor.cc:111: /tmp/ray/session_2024-05-13_10-12-36_357405_322805 is over 95% full, available space: 504052207616; capacity: 16125711347712. Object creation will fail if spilling is required.\n",
      "\u001b[2m\u001b[33m(raylet)\u001b[0m [2024-05-13 11:33:59,415 E 323103 323115] (raylet) file_system_monitor.cc:111: /tmp/ray/session_2024-05-13_10-12-36_357405_322805 is over 95% full, available space: 504052207616; capacity: 16125711347712. Object creation will fail if spilling is required.\n",
      "\u001b[2m\u001b[33m(raylet)\u001b[0m [2024-05-13 11:34:09,419 E 323103 323115] (raylet) file_system_monitor.cc:111: /tmp/ray/session_2024-05-13_10-12-36_357405_322805 is over 95% full, available space: 504052207616; capacity: 16125711347712. Object creation will fail if spilling is required.\n",
      "\u001b[2m\u001b[33m(raylet)\u001b[0m [2024-05-13 11:34:19,422 E 323103 323115] (raylet) file_system_monitor.cc:111: /tmp/ray/session_2024-05-13_10-12-36_357405_322805 is over 95% full, available space: 504052199424; capacity: 16125711347712. Object creation will fail if spilling is required.\n",
      "\u001b[2m\u001b[33m(raylet)\u001b[0m [2024-05-13 11:34:29,426 E 323103 323115] (raylet) file_system_monitor.cc:111: /tmp/ray/session_2024-05-13_10-12-36_357405_322805 is over 95% full, available space: 504052199424; capacity: 16125711347712. Object creation will fail if spilling is required.\n",
      "\u001b[2m\u001b[33m(raylet)\u001b[0m [2024-05-13 11:34:39,429 E 323103 323115] (raylet) file_system_monitor.cc:111: /tmp/ray/session_2024-05-13_10-12-36_357405_322805 is over 95% full, available space: 504052043776; capacity: 16125711347712. Object creation will fail if spilling is required.\n",
      "\u001b[2m\u001b[33m(raylet)\u001b[0m [2024-05-13 11:34:49,432 E 323103 323115] (raylet) file_system_monitor.cc:111: /tmp/ray/session_2024-05-13_10-12-36_357405_322805 is over 95% full, available space: 504052039680; capacity: 16125711347712. Object creation will fail if spilling is required.\n",
      "\u001b[2m\u001b[33m(raylet)\u001b[0m [2024-05-13 11:34:59,436 E 323103 323115] (raylet) file_system_monitor.cc:111: /tmp/ray/session_2024-05-13_10-12-36_357405_322805 is over 95% full, available space: 504052039680; capacity: 16125711347712. Object creation will fail if spilling is required.\n",
      "\u001b[2m\u001b[33m(raylet)\u001b[0m [2024-05-13 11:35:09,439 E 323103 323115] (raylet) file_system_monitor.cc:111: /tmp/ray/session_2024-05-13_10-12-36_357405_322805 is over 95% full, available space: 504052035584; capacity: 16125711347712. Object creation will fail if spilling is required.\n",
      "\u001b[2m\u001b[33m(raylet)\u001b[0m [2024-05-13 11:35:19,443 E 323103 323115] (raylet) file_system_monitor.cc:111: /tmp/ray/session_2024-05-13_10-12-36_357405_322805 is over 95% full, available space: 504052035584; capacity: 16125711347712. Object creation will fail if spilling is required.\n",
      "\u001b[2m\u001b[33m(raylet)\u001b[0m [2024-05-13 11:35:29,446 E 323103 323115] (raylet) file_system_monitor.cc:111: /tmp/ray/session_2024-05-13_10-12-36_357405_322805 is over 95% full, available space: 504052027392; capacity: 16125711347712. Object creation will fail if spilling is required.\n",
      "\u001b[2m\u001b[33m(raylet)\u001b[0m [2024-05-13 11:35:39,449 E 323103 323115] (raylet) file_system_monitor.cc:111: /tmp/ray/session_2024-05-13_10-12-36_357405_322805 is over 95% full, available space: 504051994624; capacity: 16125711347712. Object creation will fail if spilling is required.\n",
      "\u001b[2m\u001b[33m(raylet)\u001b[0m [2024-05-13 11:35:49,452 E 323103 323115] (raylet) file_system_monitor.cc:111: /tmp/ray/session_2024-05-13_10-12-36_357405_322805 is over 95% full, available space: 504051986432; capacity: 16125711347712. Object creation will fail if spilling is required.\n",
      "\u001b[2m\u001b[33m(raylet)\u001b[0m [2024-05-13 11:35:59,455 E 323103 323115] (raylet) file_system_monitor.cc:111: /tmp/ray/session_2024-05-13_10-12-36_357405_322805 is over 95% full, available space: 504051986432; capacity: 16125711347712. Object creation will fail if spilling is required.\n",
      "\u001b[2m\u001b[33m(raylet)\u001b[0m [2024-05-13 11:36:09,458 E 323103 323115] (raylet) file_system_monitor.cc:111: /tmp/ray/session_2024-05-13_10-12-36_357405_322805 is over 95% full, available space: 504051982336; capacity: 16125711347712. Object creation will fail if spilling is required.\n",
      "\u001b[2m\u001b[33m(raylet)\u001b[0m [2024-05-13 11:36:19,460 E 323103 323115] (raylet) file_system_monitor.cc:111: /tmp/ray/session_2024-05-13_10-12-36_357405_322805 is over 95% full, available space: 504051982336; capacity: 16125711347712. Object creation will fail if spilling is required.\n",
      "\u001b[2m\u001b[33m(raylet)\u001b[0m [2024-05-13 11:36:29,462 E 323103 323115] (raylet) file_system_monitor.cc:111: /tmp/ray/session_2024-05-13_10-12-36_357405_322805 is over 95% full, available space: 504051978240; capacity: 16125711347712. Object creation will fail if spilling is required.\n",
      "\u001b[2m\u001b[33m(raylet)\u001b[0m [2024-05-13 11:36:39,464 E 323103 323115] (raylet) file_system_monitor.cc:111: /tmp/ray/session_2024-05-13_10-12-36_357405_322805 is over 95% full, available space: 504051818496; capacity: 16125711347712. Object creation will fail if spilling is required.\n",
      "\u001b[2m\u001b[33m(raylet)\u001b[0m [2024-05-13 11:36:49,466 E 323103 323115] (raylet) file_system_monitor.cc:111: /tmp/ray/session_2024-05-13_10-12-36_357405_322805 is over 95% full, available space: 504051818496; capacity: 16125711347712. Object creation will fail if spilling is required.\n",
      "\u001b[2m\u001b[33m(raylet)\u001b[0m [2024-05-13 11:36:59,470 E 323103 323115] (raylet) file_system_monitor.cc:111: /tmp/ray/session_2024-05-13_10-12-36_357405_322805 is over 95% full, available space: 504051814400; capacity: 16125711347712. Object creation will fail if spilling is required.\n",
      "\u001b[2m\u001b[33m(raylet)\u001b[0m [2024-05-13 11:37:09,473 E 323103 323115] (raylet) file_system_monitor.cc:111: /tmp/ray/session_2024-05-13_10-12-36_357405_322805 is over 95% full, available space: 504051814400; capacity: 16125711347712. Object creation will fail if spilling is required.\n",
      "\u001b[2m\u001b[33m(raylet)\u001b[0m [2024-05-13 11:37:19,476 E 323103 323115] (raylet) file_system_monitor.cc:111: /tmp/ray/session_2024-05-13_10-12-36_357405_322805 is over 95% full, available space: 504051810304; capacity: 16125711347712. Object creation will fail if spilling is required.\n",
      "\u001b[2m\u001b[33m(raylet)\u001b[0m [2024-05-13 11:37:29,480 E 323103 323115] (raylet) file_system_monitor.cc:111: /tmp/ray/session_2024-05-13_10-12-36_357405_322805 is over 95% full, available space: 504051806208; capacity: 16125711347712. Object creation will fail if spilling is required.\n",
      "\u001b[2m\u001b[33m(raylet)\u001b[0m [2024-05-13 11:37:39,483 E 323103 323115] (raylet) file_system_monitor.cc:111: /tmp/ray/session_2024-05-13_10-12-36_357405_322805 is over 95% full, available space: 504051757056; capacity: 16125711347712. Object creation will fail if spilling is required.\n",
      "\u001b[2m\u001b[33m(raylet)\u001b[0m [2024-05-13 11:37:49,487 E 323103 323115] (raylet) file_system_monitor.cc:111: /tmp/ray/session_2024-05-13_10-12-36_357405_322805 is over 95% full, available space: 504051757056; capacity: 16125711347712. Object creation will fail if spilling is required.\n",
      "\u001b[2m\u001b[33m(raylet)\u001b[0m [2024-05-13 11:37:59,490 E 323103 323115] (raylet) file_system_monitor.cc:111: /tmp/ray/session_2024-05-13_10-12-36_357405_322805 is over 95% full, available space: 504051752960; capacity: 16125711347712. Object creation will fail if spilling is required.\n",
      "\u001b[2m\u001b[33m(raylet)\u001b[0m [2024-05-13 11:38:09,494 E 323103 323115] (raylet) file_system_monitor.cc:111: /tmp/ray/session_2024-05-13_10-12-36_357405_322805 is over 95% full, available space: 504051744768; capacity: 16125711347712. Object creation will fail if spilling is required.\n",
      "\u001b[2m\u001b[33m(raylet)\u001b[0m [2024-05-13 11:38:19,496 E 323103 323115] (raylet) file_system_monitor.cc:111: /tmp/ray/session_2024-05-13_10-12-36_357405_322805 is over 95% full, available space: 504051740672; capacity: 16125711347712. Object creation will fail if spilling is required.\n",
      "\u001b[2m\u001b[33m(raylet)\u001b[0m [2024-05-13 11:38:29,498 E 323103 323115] (raylet) file_system_monitor.cc:111: /tmp/ray/session_2024-05-13_10-12-36_357405_322805 is over 95% full, available space: 504051740672; capacity: 16125711347712. Object creation will fail if spilling is required.\n",
      "\u001b[2m\u001b[33m(raylet)\u001b[0m [2024-05-13 11:38:39,500 E 323103 323115] (raylet) file_system_monitor.cc:111: /tmp/ray/session_2024-05-13_10-12-36_357405_322805 is over 95% full, available space: 504051601408; capacity: 16125711347712. Object creation will fail if spilling is required.\n",
      "\u001b[2m\u001b[33m(raylet)\u001b[0m [2024-05-13 11:38:49,502 E 323103 323115] (raylet) file_system_monitor.cc:111: /tmp/ray/session_2024-05-13_10-12-36_357405_322805 is over 95% full, available space: 504051593216; capacity: 16125711347712. Object creation will fail if spilling is required.\n",
      "\u001b[2m\u001b[33m(raylet)\u001b[0m [2024-05-13 11:38:59,504 E 323103 323115] (raylet) file_system_monitor.cc:111: /tmp/ray/session_2024-05-13_10-12-36_357405_322805 is over 95% full, available space: 504051593216; capacity: 16125711347712. Object creation will fail if spilling is required.\n",
      "\u001b[2m\u001b[33m(raylet)\u001b[0m [2024-05-13 11:39:09,506 E 323103 323115] (raylet) file_system_monitor.cc:111: /tmp/ray/session_2024-05-13_10-12-36_357405_322805 is over 95% full, available space: 504051589120; capacity: 16125711347712. Object creation will fail if spilling is required.\n",
      "\u001b[2m\u001b[33m(raylet)\u001b[0m [2024-05-13 11:39:19,508 E 323103 323115] (raylet) file_system_monitor.cc:111: /tmp/ray/session_2024-05-13_10-12-36_357405_322805 is over 95% full, available space: 504051585024; capacity: 16125711347712. Object creation will fail if spilling is required.\n",
      "\u001b[2m\u001b[33m(raylet)\u001b[0m [2024-05-13 11:39:29,510 E 323103 323115] (raylet) file_system_monitor.cc:111: /tmp/ray/session_2024-05-13_10-12-36_357405_322805 is over 95% full, available space: 504051585024; capacity: 16125711347712. Object creation will fail if spilling is required.\n",
      "\u001b[2m\u001b[33m(raylet)\u001b[0m [2024-05-13 11:39:39,512 E 323103 323115] (raylet) file_system_monitor.cc:111: /tmp/ray/session_2024-05-13_10-12-36_357405_322805 is over 95% full, available space: 504051421184; capacity: 16125711347712. Object creation will fail if spilling is required.\n",
      "\u001b[2m\u001b[33m(raylet)\u001b[0m [2024-05-13 11:39:49,514 E 323103 323115] (raylet) file_system_monitor.cc:111: /tmp/ray/session_2024-05-13_10-12-36_357405_322805 is over 95% full, available space: 504051421184; capacity: 16125711347712. Object creation will fail if spilling is required.\n",
      "\u001b[2m\u001b[33m(raylet)\u001b[0m [2024-05-13 11:39:59,516 E 323103 323115] (raylet) file_system_monitor.cc:111: /tmp/ray/session_2024-05-13_10-12-36_357405_322805 is over 95% full, available space: 504051421184; capacity: 16125711347712. Object creation will fail if spilling is required.\n",
      "\u001b[2m\u001b[33m(raylet)\u001b[0m [2024-05-13 11:40:09,518 E 323103 323115] (raylet) file_system_monitor.cc:111: /tmp/ray/session_2024-05-13_10-12-36_357405_322805 is over 95% full, available space: 504051417088; capacity: 16125711347712. Object creation will fail if spilling is required.\n",
      "\u001b[2m\u001b[33m(raylet)\u001b[0m [2024-05-13 11:40:19,520 E 323103 323115] (raylet) file_system_monitor.cc:111: /tmp/ray/session_2024-05-13_10-12-36_357405_322805 is over 95% full, available space: 504051408896; capacity: 16125711347712. Object creation will fail if spilling is required.\n",
      "\u001b[2m\u001b[33m(raylet)\u001b[0m [2024-05-13 11:40:29,522 E 323103 323115] (raylet) file_system_monitor.cc:111: /tmp/ray/session_2024-05-13_10-12-36_357405_322805 is over 95% full, available space: 504051408896; capacity: 16125711347712. Object creation will fail if spilling is required.\n",
      "\u001b[2m\u001b[33m(raylet)\u001b[0m [2024-05-13 11:40:39,524 E 323103 323115] (raylet) file_system_monitor.cc:111: /tmp/ray/session_2024-05-13_10-12-36_357405_322805 is over 95% full, available space: 504051376128; capacity: 16125711347712. Object creation will fail if spilling is required.\n",
      "\u001b[2m\u001b[33m(raylet)\u001b[0m [2024-05-13 11:40:49,526 E 323103 323115] (raylet) file_system_monitor.cc:111: /tmp/ray/session_2024-05-13_10-12-36_357405_322805 is over 95% full, available space: 504051372032; capacity: 16125711347712. Object creation will fail if spilling is required.\n",
      "\u001b[2m\u001b[33m(raylet)\u001b[0m [2024-05-13 11:40:59,528 E 323103 323115] (raylet) file_system_monitor.cc:111: /tmp/ray/session_2024-05-13_10-12-36_357405_322805 is over 95% full, available space: 504051367936; capacity: 16125711347712. Object creation will fail if spilling is required.\n",
      "\u001b[2m\u001b[33m(raylet)\u001b[0m [2024-05-13 11:41:09,530 E 323103 323115] (raylet) file_system_monitor.cc:111: /tmp/ray/session_2024-05-13_10-12-36_357405_322805 is over 95% full, available space: 504051367936; capacity: 16125711347712. Object creation will fail if spilling is required.\n",
      "\u001b[2m\u001b[33m(raylet)\u001b[0m [2024-05-13 11:41:19,532 E 323103 323115] (raylet) file_system_monitor.cc:111: /tmp/ray/session_2024-05-13_10-12-36_357405_322805 is over 95% full, available space: 504051367936; capacity: 16125711347712. Object creation will fail if spilling is required.\n",
      "\u001b[2m\u001b[33m(raylet)\u001b[0m [2024-05-13 11:41:29,534 E 323103 323115] (raylet) file_system_monitor.cc:111: /tmp/ray/session_2024-05-13_10-12-36_357405_322805 is over 95% full, available space: 504051363840; capacity: 16125711347712. Object creation will fail if spilling is required.\n",
      "\u001b[2m\u001b[33m(raylet)\u001b[0m [2024-05-13 11:41:39,536 E 323103 323115] (raylet) file_system_monitor.cc:111: /tmp/ray/session_2024-05-13_10-12-36_357405_322805 is over 95% full, available space: 504051204096; capacity: 16125711347712. Object creation will fail if spilling is required.\n",
      "\u001b[2m\u001b[33m(raylet)\u001b[0m [2024-05-13 11:41:49,537 E 323103 323115] (raylet) file_system_monitor.cc:111: /tmp/ray/session_2024-05-13_10-12-36_357405_322805 is over 95% full, available space: 504051200000; capacity: 16125711347712. Object creation will fail if spilling is required.\n",
      "\u001b[2m\u001b[33m(raylet)\u001b[0m [2024-05-13 11:41:59,539 E 323103 323115] (raylet) file_system_monitor.cc:111: /tmp/ray/session_2024-05-13_10-12-36_357405_322805 is over 95% full, available space: 504051195904; capacity: 16125711347712. Object creation will fail if spilling is required.\n",
      "\u001b[2m\u001b[33m(raylet)\u001b[0m [2024-05-13 11:42:09,541 E 323103 323115] (raylet) file_system_monitor.cc:111: /tmp/ray/session_2024-05-13_10-12-36_357405_322805 is over 95% full, available space: 504051195904; capacity: 16125711347712. Object creation will fail if spilling is required.\n",
      "\u001b[2m\u001b[33m(raylet)\u001b[0m [2024-05-13 11:42:19,543 E 323103 323115] (raylet) file_system_monitor.cc:111: /tmp/ray/session_2024-05-13_10-12-36_357405_322805 is over 95% full, available space: 504051191808; capacity: 16125711347712. Object creation will fail if spilling is required.\n",
      "\u001b[2m\u001b[33m(raylet)\u001b[0m [2024-05-13 11:42:29,545 E 323103 323115] (raylet) file_system_monitor.cc:111: /tmp/ray/session_2024-05-13_10-12-36_357405_322805 is over 95% full, available space: 504051187712; capacity: 16125711347712. Object creation will fail if spilling is required.\n",
      "\u001b[2m\u001b[33m(raylet)\u001b[0m [2024-05-13 11:42:39,547 E 323103 323115] (raylet) file_system_monitor.cc:111: /tmp/ray/session_2024-05-13_10-12-36_357405_322805 is over 95% full, available space: 504051163136; capacity: 16125711347712. Object creation will fail if spilling is required.\n",
      "\u001b[2m\u001b[33m(raylet)\u001b[0m [2024-05-13 11:42:49,549 E 323103 323115] (raylet) file_system_monitor.cc:111: /tmp/ray/session_2024-05-13_10-12-36_357405_322805 is over 95% full, available space: 504051154944; capacity: 16125711347712. Object creation will fail if spilling is required.\n",
      "\u001b[2m\u001b[33m(raylet)\u001b[0m [2024-05-13 11:42:59,552 E 323103 323115] (raylet) file_system_monitor.cc:111: /tmp/ray/session_2024-05-13_10-12-36_357405_322805 is over 95% full, available space: 504051154944; capacity: 16125711347712. Object creation will fail if spilling is required.\n",
      "\u001b[2m\u001b[33m(raylet)\u001b[0m [2024-05-13 11:43:09,554 E 323103 323115] (raylet) file_system_monitor.cc:111: /tmp/ray/session_2024-05-13_10-12-36_357405_322805 is over 95% full, available space: 504051154944; capacity: 16125711347712. Object creation will fail if spilling is required.\n",
      "\u001b[2m\u001b[33m(raylet)\u001b[0m [2024-05-13 11:43:19,556 E 323103 323115] (raylet) file_system_monitor.cc:111: /tmp/ray/session_2024-05-13_10-12-36_357405_322805 is over 95% full, available space: 504051146752; capacity: 16125711347712. Object creation will fail if spilling is required.\n",
      "\u001b[2m\u001b[33m(raylet)\u001b[0m [2024-05-13 11:43:29,558 E 323103 323115] (raylet) file_system_monitor.cc:111: /tmp/ray/session_2024-05-13_10-12-36_357405_322805 is over 95% full, available space: 504051142656; capacity: 16125711347712. Object creation will fail if spilling is required.\n",
      "\u001b[2m\u001b[33m(raylet)\u001b[0m [2024-05-13 11:43:39,560 E 323103 323115] (raylet) file_system_monitor.cc:111: /tmp/ray/session_2024-05-13_10-12-36_357405_322805 is over 95% full, available space: 504050978816; capacity: 16125711347712. Object creation will fail if spilling is required.\n",
      "\u001b[2m\u001b[33m(raylet)\u001b[0m [2024-05-13 11:43:49,562 E 323103 323115] (raylet) file_system_monitor.cc:111: /tmp/ray/session_2024-05-13_10-12-36_357405_322805 is over 95% full, available space: 504050978816; capacity: 16125711347712. Object creation will fail if spilling is required.\n",
      "\u001b[2m\u001b[33m(raylet)\u001b[0m [2024-05-13 11:43:59,564 E 323103 323115] (raylet) file_system_monitor.cc:111: /tmp/ray/session_2024-05-13_10-12-36_357405_322805 is over 95% full, available space: 504050978816; capacity: 16125711347712. Object creation will fail if spilling is required.\n",
      "\u001b[2m\u001b[33m(raylet)\u001b[0m [2024-05-13 11:44:09,566 E 323103 323115] (raylet) file_system_monitor.cc:111: /tmp/ray/session_2024-05-13_10-12-36_357405_322805 is over 95% full, available space: 504050974720; capacity: 16125711347712. Object creation will fail if spilling is required.\n",
      "\u001b[2m\u001b[33m(raylet)\u001b[0m [2024-05-13 11:44:19,568 E 323103 323115] (raylet) file_system_monitor.cc:111: /tmp/ray/session_2024-05-13_10-12-36_357405_322805 is over 95% full, available space: 504050974720; capacity: 16125711347712. Object creation will fail if spilling is required.\n",
      "\u001b[2m\u001b[33m(raylet)\u001b[0m [2024-05-13 11:44:29,570 E 323103 323115] (raylet) file_system_monitor.cc:111: /tmp/ray/session_2024-05-13_10-12-36_357405_322805 is over 95% full, available space: 504050974720; capacity: 16125711347712. Object creation will fail if spilling is required.\n",
      "\u001b[2m\u001b[33m(raylet)\u001b[0m [2024-05-13 11:44:39,572 E 323103 323115] (raylet) file_system_monitor.cc:111: /tmp/ray/session_2024-05-13_10-12-36_357405_322805 is over 95% full, available space: 504050941952; capacity: 16125711347712. Object creation will fail if spilling is required.\n",
      "\u001b[2m\u001b[33m(raylet)\u001b[0m [2024-05-13 11:44:49,574 E 323103 323115] (raylet) file_system_monitor.cc:111: /tmp/ray/session_2024-05-13_10-12-36_357405_322805 is over 95% full, available space: 504050937856; capacity: 16125711347712. Object creation will fail if spilling is required.\n",
      "\u001b[2m\u001b[33m(raylet)\u001b[0m [2024-05-13 11:44:59,576 E 323103 323115] (raylet) file_system_monitor.cc:111: /tmp/ray/session_2024-05-13_10-12-36_357405_322805 is over 95% full, available space: 504050933760; capacity: 16125711347712. Object creation will fail if spilling is required.\n",
      "\u001b[2m\u001b[33m(raylet)\u001b[0m [2024-05-13 11:45:09,578 E 323103 323115] (raylet) file_system_monitor.cc:111: /tmp/ray/session_2024-05-13_10-12-36_357405_322805 is over 95% full, available space: 504050929664; capacity: 16125711347712. Object creation will fail if spilling is required.\n",
      "\u001b[2m\u001b[33m(raylet)\u001b[0m [2024-05-13 11:45:19,580 E 323103 323115] (raylet) file_system_monitor.cc:111: /tmp/ray/session_2024-05-13_10-12-36_357405_322805 is over 95% full, available space: 504050929664; capacity: 16125711347712. Object creation will fail if spilling is required.\n",
      "\u001b[2m\u001b[33m(raylet)\u001b[0m [2024-05-13 11:45:29,582 E 323103 323115] (raylet) file_system_monitor.cc:111: /tmp/ray/session_2024-05-13_10-12-36_357405_322805 is over 95% full, available space: 504050925568; capacity: 16125711347712. Object creation will fail if spilling is required.\n",
      "\u001b[2m\u001b[33m(raylet)\u001b[0m [2024-05-13 11:45:39,584 E 323103 323115] (raylet) file_system_monitor.cc:111: /tmp/ray/session_2024-05-13_10-12-36_357405_322805 is over 95% full, available space: 504050765824; capacity: 16125711347712. Object creation will fail if spilling is required.\n",
      "\u001b[2m\u001b[33m(raylet)\u001b[0m [2024-05-13 11:45:49,586 E 323103 323115] (raylet) file_system_monitor.cc:111: /tmp/ray/session_2024-05-13_10-12-36_357405_322805 is over 95% full, available space: 504050765824; capacity: 16125711347712. Object creation will fail if spilling is required.\n",
      "\u001b[2m\u001b[33m(raylet)\u001b[0m [2024-05-13 11:45:59,588 E 323103 323115] (raylet) file_system_monitor.cc:111: /tmp/ray/session_2024-05-13_10-12-36_357405_322805 is over 95% full, available space: 504050761728; capacity: 16125711347712. Object creation will fail if spilling is required.\n",
      "\u001b[2m\u001b[33m(raylet)\u001b[0m [2024-05-13 11:46:09,590 E 323103 323115] (raylet) file_system_monitor.cc:111: /tmp/ray/session_2024-05-13_10-12-36_357405_322805 is over 95% full, available space: 504050757632; capacity: 16125711347712. Object creation will fail if spilling is required.\n",
      "\u001b[2m\u001b[33m(raylet)\u001b[0m [2024-05-13 11:46:19,592 E 323103 323115] (raylet) file_system_monitor.cc:111: /tmp/ray/session_2024-05-13_10-12-36_357405_322805 is over 95% full, available space: 504050749440; capacity: 16125711347712. Object creation will fail if spilling is required.\n",
      "\u001b[2m\u001b[33m(raylet)\u001b[0m [2024-05-13 11:46:29,594 E 323103 323115] (raylet) file_system_monitor.cc:111: /tmp/ray/session_2024-05-13_10-12-36_357405_322805 is over 95% full, available space: 504050749440; capacity: 16125711347712. Object creation will fail if spilling is required.\n",
      "\u001b[2m\u001b[33m(raylet)\u001b[0m [2024-05-13 11:46:39,596 E 323103 323115] (raylet) file_system_monitor.cc:111: /tmp/ray/session_2024-05-13_10-12-36_357405_322805 is over 95% full, available space: 504050716672; capacity: 16125711347712. Object creation will fail if spilling is required.\n",
      "\u001b[2m\u001b[33m(raylet)\u001b[0m [2024-05-13 11:46:49,598 E 323103 323115] (raylet) file_system_monitor.cc:111: /tmp/ray/session_2024-05-13_10-12-36_357405_322805 is over 95% full, available space: 504050700288; capacity: 16125711347712. Object creation will fail if spilling is required.\n",
      "\u001b[2m\u001b[33m(raylet)\u001b[0m [2024-05-13 11:46:59,601 E 323103 323115] (raylet) file_system_monitor.cc:111: /tmp/ray/session_2024-05-13_10-12-36_357405_322805 is over 95% full, available space: 504050675712; capacity: 16125711347712. Object creation will fail if spilling is required.\n",
      "\u001b[2m\u001b[33m(raylet)\u001b[0m [2024-05-13 11:47:09,603 E 323103 323115] (raylet) file_system_monitor.cc:111: /tmp/ray/session_2024-05-13_10-12-36_357405_322805 is over 95% full, available space: 504050675712; capacity: 16125711347712. Object creation will fail if spilling is required.\n",
      "\u001b[2m\u001b[33m(raylet)\u001b[0m [2024-05-13 11:47:19,605 E 323103 323115] (raylet) file_system_monitor.cc:111: /tmp/ray/session_2024-05-13_10-12-36_357405_322805 is over 95% full, available space: 504050667520; capacity: 16125711347712. Object creation will fail if spilling is required.\n"
     ]
    }
   ],
   "source": [
    "from nuplan.planning.script.run_nuboard import main as main_nuboard\n",
    "\n",
    "# Run nuBoard\n",
    "main_nuboard(cfg)"
   ]
  }
 ],
 "metadata": {
  "kernelspec": {
   "display_name": "nuplan",
   "language": "python",
   "name": "python3"
  },
  "language_info": {
   "codemirror_mode": {
    "name": "ipython",
    "version": 3
   },
   "file_extension": ".py",
   "mimetype": "text/x-python",
   "name": "python",
   "nbconvert_exporter": "python",
   "pygments_lexer": "ipython3",
   "version": "3.9.18"
  }
 },
 "nbformat": 4,
 "nbformat_minor": 2
}

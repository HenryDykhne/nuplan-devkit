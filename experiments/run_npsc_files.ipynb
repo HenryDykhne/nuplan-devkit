{
 "cells": [
  {
   "cell_type": "markdown",
   "metadata": {},
   "source": [
    "### NPSC psudeo-extension stands for NuPlan Scenario Collection. \n",
    "#### It is a pkl file with the naming convention `filename.npsc.pkl` that contains:\n",
    "* The data structure of a dictionary of scenario modifications.\n",
    "* The `DATASET_PARAMS` list of filters in order to extract the correct scenarios to modify."
   ]
  },
  {
   "cell_type": "code",
   "execution_count": 1,
   "metadata": {},
   "outputs": [
    {
     "name": "stderr",
     "output_type": "stream",
     "text": [
      "/home/ehdykhne/miniconda3/envs/nuplan/lib/python3.9/site-packages/torch/cuda/__init__.py:107: UserWarning: CUDA initialization: Unexpected error from cudaGetDeviceCount(). Did you run some cuda functions before calling NumCudaDevices() that might have already set an error? Error 803: system has unsupported display driver / cuda driver combination (Triggered internally at ../c10/cuda/CUDAFunctions.cpp:109.)\n",
      "  return torch._C._cuda_getDeviceCount() > 0\n"
     ]
    }
   ],
   "source": [
    "import logging\n",
    "import random\n",
    "import nest_asyncio\n",
    "import pandas as pd\n",
    "\n",
    "nest_asyncio.apply()\n",
    "\n",
    "import torch\n",
    "\n",
    "torch.cuda.is_available()\n",
    "\n",
    "import os\n",
    "from pathlib import Path\n",
    "import tempfile\n",
    "\n",
    "from shutil import rmtree\n",
    "from typing import List, Optional, Union\n",
    "\n",
    "from nuplan.planning.script.run_simulation import main as main_simulation"
   ]
  },
  {
   "cell_type": "code",
   "execution_count": 2,
   "metadata": {},
   "outputs": [
    {
     "name": "stdout",
     "output_type": "stream",
     "text": [
      "env: NUPLAN_DATA_ROOT=../../../datasets/nuplan/dataset\n",
      "env: NUPLAN_MAPS_ROOT=../../data/nuplan/maps\n",
      "env: NUPLAN_EXP_ROOT=../../data/nuplan/exp\n",
      "env: NUPLAN_DEVKIT_ROOT=../../nuplan-devkit/\n"
     ]
    },
    {
     "data": {
      "text/plain": [
       "'/home/ehdykhne/nuplan-devkit/experiments'"
      ]
     },
     "execution_count": 2,
     "metadata": {},
     "output_type": "execute_result"
    }
   ],
   "source": [
    "%env NUPLAN_DATA_ROOT=../../../datasets/nuplan/dataset\n",
    "%env NUPLAN_MAPS_ROOT=../../data/nuplan/maps\n",
    "%env NUPLAN_EXP_ROOT=../../data/nuplan/exp\n",
    "%env NUPLAN_DEVKIT_ROOT=../../nuplan-devkit/\n",
    "%pwd"
   ]
  },
  {
   "cell_type": "code",
   "execution_count": 3,
   "metadata": {},
   "outputs": [],
   "source": [
    "import hydra\n",
    "import pytorch_lightning as pl\n",
    "from omegaconf import DictConfig, OmegaConf\n",
    "\n",
    "from nuplan.common.utils.s3_utils import is_s3_path\n",
    "from nuplan.planning.script.builders.simulation_builder import build_simulations\n",
    "from nuplan.planning.script.builders.simulation_callback_builder import (\n",
    "    build_callbacks_worker,\n",
    "    build_simulation_callbacks,\n",
    ")\n",
    "from nuplan.planning.script.utils import (\n",
    "    run_runners,\n",
    "    set_default_path,\n",
    "    set_up_common_builder,\n",
    ")\n",
    "from nuplan.planning.simulation.planner.abstract_planner import AbstractPlanner\n",
    "\n",
    "logging.basicConfig(level=logging.INFO)\n",
    "logger = logging.getLogger(__name__)\n",
    "\n",
    "# If set, use the env. variable to overwrite the default dataset and experiment paths\n",
    "set_default_path()\n",
    "\n",
    "# If set, use the env. variable to overwrite the Hydra config\n",
    "CONFIG_PATH = os.getenv(\"NUPLAN_HYDRA_CONFIG_PATH\", \"config/simulation\")\n",
    "\n",
    "if os.environ.get(\"NUPLAN_HYDRA_CONFIG_PATH\") is not None:\n",
    "    CONFIG_PATH = os.path.join(\"../../../../\", CONFIG_PATH)\n",
    "\n",
    "if os.path.basename(CONFIG_PATH) != \"simulation\":\n",
    "    CONFIG_PATH = os.path.join(CONFIG_PATH, \"simulation\")\n",
    "CONFIG_NAME = \"default_simulation\""
   ]
  },
  {
   "cell_type": "code",
   "execution_count": 4,
   "metadata": {},
   "outputs": [],
   "source": [
    "from tutorials.utils.tutorial_utils import construct_simulation_hydra_paths\n",
    "\n",
    "# Location of paths with all simulation configs\n",
    "BASE_CONFIG_PATH = os.path.join(\n",
    "    os.getenv(\"NUPLAN_TUTORIAL_PATH\", \"\"), \"../nuplan/planning/script\"\n",
    ")\n",
    "simulation_hydra_paths = construct_simulation_hydra_paths(BASE_CONFIG_PATH)"
   ]
  },
  {
   "cell_type": "code",
   "execution_count": 5,
   "metadata": {},
   "outputs": [
    {
     "name": "stdout",
     "output_type": "stream",
     "text": [
      "['ea29f4aa6dd2598c', 'b0646a16830258a6', 'ec5653d7ba5a5464', 'c6492065deb75fa1', '694b93d17f1355be', '17a1b01f3ae45487']\n",
      "['scenario_builder=val', 'scenario_filter=all_scenarios', \"scenario_filter.scenario_types=['starting_left_turn', 'starting_right_turn', 'starting_straight_stop_sign_intersection_traversal', 'starting_straight_traffic_light_intersection_traversal', 'starting_unprotected_cross_turn', 'starting_unprotected_noncross_turn', 'traversing_intersection', 'traversing_traffic_light_intersection']\", 'scenario_filter.ego_displacement_minimum_m=10', 'scenario_filter.map_names=[sg-one-north, us-ma-boston, us-pa-pittsburgh-hazelwood, us-nv-las-vegas-strip]', 'scenario_filter.num_scenarios_per_type=1400']\n"
     ]
    }
   ],
   "source": [
    "import pickle\n",
    "\n",
    "EXPERIMENT_NAME = \"pdm_closed_pdm_closed_diverge_pure_scen_1400\"\n",
    "modification_file_path = \"npsc_files/\" + EXPERIMENT_NAME + \".npsc.pkl\"\n",
    "with open(modification_file_path, \"rb\") as output_file:\n",
    "    mod_list_dict = pickle.load(output_file)\n",
    "    print(list(mod_list_dict.keys()))\n",
    "    DATASET_PARAMS = pickle.load(output_file)\n",
    "\n",
    "print(DATASET_PARAMS)"
   ]
  },
  {
   "cell_type": "code",
   "execution_count": 6,
   "metadata": {},
   "outputs": [
    {
     "name": "stdout",
     "output_type": "stream",
     "text": [
      "default_simulation\n",
      "output_folder_occ = \"../../data/nuplan/exp/exp/simulation/closed_loop_multiagent/2024.04.26.07.45.40\"\n"
     ]
    }
   ],
   "source": [
    "urban_ckpt = \"/home/ehdykhne/nuplan-devkit/experiments/pretrained_checkpoints/urbandriver_checkpoint.ckpt\"\n",
    "gc_pgp_ckpt = \"/home/ehdykhne/nuplan-devkit/experiments/pretrained_checkpoints/gc_pgp_checkpoint.ckpt\"\n",
    "hybrid_ckpt = \"/home/ehdykhne/nuplan-devkit/experiments/pretrained_checkpoints/pdm_offset_checkpoint.ckpt\"\n",
    "#'/home/ehdykhne/nuplan-devkit/experiments/pretrained_checkpoints/urbandriver_checkpoint.ckpt'\n",
    "#'/home/ehdykhne/Repos/nuplan-devkit/experiments/pretrained_checkpoints/urbandriver_checkpoint.ckpt'\n",
    "# Initialize configuration management system\n",
    "hydra.core.global_hydra.GlobalHydra.instance().clear()  # reinitialize hydra if already initialized\n",
    "hydra.initialize(config_path=simulation_hydra_paths.config_path)\n",
    "\n",
    "# Compose the configuration\n",
    "print(simulation_hydra_paths.config_name)\n",
    "cfg_occ = hydra.compose(\n",
    "    config_name=simulation_hydra_paths.config_name,\n",
    "    overrides=[\n",
    "        # planner\n",
    "        ################################################\n",
    "        \"planner=pdm_closed_planner\",  # [ml_planner, pdm_hybrid_planner, pdm_closed_planner, idm_planner, log_future_planner, simple_planner]\n",
    "        # planner occlusion\n",
    "        ################################################\n",
    "        \"+occlusion_cfg.occlusion=true\",\n",
    "        \"+occlusion_cfg.manager_type=wedge\",  # options: [range, shadow, wedge]\n",
    "        \"+occlusion_cfg.uncloak_reaction_time=1.5\",  # 0.1\n",
    "        \"+occlusion_cfg.notice_threshold=1.0\",  # 0.1\n",
    "        ################################################\n",
    "        # obs\n",
    "        ################################################\n",
    "        f\"observation.planner_type=pdm_closed\",\n",
    "        ################################################\n",
    "        # obs occlusion\n",
    "        ################################################\n",
    "        f\"observation.occlusion_cfg.occlusion=True\",\n",
    "        f\"observation.occlusion_cfg.manager_type=wedge\",\n",
    "        f\"+observation.occlusion_cfg.uncloak_reaction_time=1.5\",\n",
    "        f\"+observation.occlusion_cfg.notice_threshold=1.0\",\n",
    "        ################################################\n",
    "        # scenario modification\n",
    "        \"+modify_scenario_simulations=true\",\n",
    "        \"+second_testing_round=true\",\n",
    "        f\"+modification_file_path={modification_file_path}\",\n",
    "        # \"+remove_other_agents=true\",\n",
    "        ################################################\n",
    "        # misc\n",
    "        ################################################\n",
    "        \"+simulation=closed_loop_multiagent\",  # [open_loop_boxes, closed_loop_nonreactive_agents, closed_loop_reactive_agents, closed_loop_multiagent]\n",
    "        \"worker=ray_distributed\",  # [sequential, ray_distributed]\n",
    "        \"hydra.searchpath=[pkg://tuplan_garage.planning.script.config.common, pkg://tuplan_garage.planning.script.config.simulation, pkg://nuplan.planning.script.config.common, pkg://nuplan.planning.script.experiments]\",\n",
    "        *DATASET_PARAMS,\n",
    "        ################################################\n",
    "    ],\n",
    ")\n",
    "\n",
    "output_folder_occ = cfg_occ.output_dir\n",
    "print('output_folder_occ = \"' + output_folder_occ + '\"')"
   ]
  },
  {
   "cell_type": "markdown",
   "metadata": {},
   "source": [
    "### Now, we run the simulations"
   ]
  },
  {
   "cell_type": "code",
   "execution_count": 7,
   "metadata": {},
   "outputs": [
    {
     "name": "stderr",
     "output_type": "stream",
     "text": [
      "Global seed set to 0\n",
      "INFO:nuplan.planning.script.builders.main_callback_builder:Building MultiMainCallback...\n",
      "INFO:nuplan.planning.script.builders.main_callback_builder:Building MultiMainCallback: 4...DONE!\n"
     ]
    },
    {
     "name": "stdout",
     "output_type": "stream",
     "text": [
      "2024-04-26 07:45:40,457 INFO {/home/ehdykhne/nuplan-devkit/nuplan/planning/script/builders/worker_pool_builder.py:19}  Building WorkerPool...\n",
      "2024-04-26 07:45:40,459 INFO {/home/ehdykhne/nuplan-devkit/nuplan/planning/utils/multithreading/worker_ray.py:52}  Not using GPU in ray\n",
      "2024-04-26 07:45:40,459 INFO {/home/ehdykhne/nuplan-devkit/nuplan/planning/utils/multithreading/worker_ray.py:78}  Starting ray local!\n"
     ]
    },
    {
     "name": "stderr",
     "output_type": "stream",
     "text": [
      "2024-04-26 07:45:42,069\tINFO worker.py:1636 -- Started a local Ray instance.\n"
     ]
    },
    {
     "name": "stdout",
     "output_type": "stream",
     "text": [
      "2024-04-26 07:45:42,739 INFO {/home/ehdykhne/nuplan-devkit/nuplan/planning/utils/multithreading/worker_pool.py:101}  Worker: RayDistributed\n",
      "2024-04-26 07:45:42,740 INFO {/home/ehdykhne/nuplan-devkit/nuplan/planning/utils/multithreading/worker_pool.py:102}  Number of nodes: 1\n",
      "Number of CPUs per node: 32\n",
      "Number of GPUs per node: 0\n",
      "Number of threads across all nodes: 32\n",
      "2024-04-26 07:45:42,740 INFO {/home/ehdykhne/nuplan-devkit/nuplan/planning/script/builders/worker_pool_builder.py:27}  Building WorkerPool...DONE!\n",
      "2024-04-26 07:45:42,740 INFO {/home/ehdykhne/nuplan-devkit/nuplan/planning/script/builders/folder_builder.py:32}  Building experiment folders...\n",
      "2024-04-26 07:45:42,740 INFO {/home/ehdykhne/nuplan-devkit/nuplan/planning/script/builders/folder_builder.py:35}  \n",
      "\n",
      "\tFolder where all results are stored: ../../data/nuplan/exp/exp/simulation/closed_loop_multiagent/2024.04.26.07.45.40\n",
      "\n",
      "2024-04-26 07:45:42,742 INFO {/home/ehdykhne/nuplan-devkit/nuplan/planning/script/builders/folder_builder.py:70}  Building experiment folders...DONE!\n",
      "2024-04-26 07:45:42,742 INFO {/home/ehdykhne/nuplan-devkit/nuplan/planning/script/builders/simulation_callback_builder.py:52}  Building AbstractCallback...\n",
      "2024-04-26 07:45:42,742 INFO {/home/ehdykhne/nuplan-devkit/nuplan/planning/script/builders/simulation_callback_builder.py:68}  Building AbstractCallback: 0...DONE!\n",
      "2024-04-26 07:45:42,743 INFO {/home/ehdykhne/nuplan-devkit/nuplan/planning/script/builders/simulation_builder.py:56}  Building simulations...\n",
      "2024-04-26 07:45:42,743 INFO {/home/ehdykhne/nuplan-devkit/nuplan/planning/script/builders/simulation_builder.py:62}  Extracting scenarios...\n",
      "2024-04-26 07:45:42,743 INFO {/home/ehdykhne/nuplan-devkit/nuplan/common/utils/distributed_scenario_filter.py:83}  Building Scenarios in mode DistributedMode.SINGLE_NODE\n",
      "2024-04-26 07:45:42,743 INFO {/home/ehdykhne/nuplan-devkit/nuplan/planning/script/builders/scenario_building_builder.py:18}  Building AbstractScenarioBuilder...\n",
      "2024-04-26 07:45:42,760 INFO {/home/ehdykhne/nuplan-devkit/nuplan/planning/script/builders/scenario_building_builder.py:21}  Building AbstractScenarioBuilder...DONE!\n",
      "2024-04-26 07:45:42,761 INFO {/home/ehdykhne/nuplan-devkit/nuplan/planning/script/builders/scenario_filter_builder.py:35}  Building ScenarioFilter...\n",
      "2024-04-26 07:45:42,762 INFO {/home/ehdykhne/nuplan-devkit/nuplan/planning/script/builders/scenario_filter_builder.py:44}  Building ScenarioFilter...DONE!\n"
     ]
    },
    {
     "name": "stderr",
     "output_type": "stream",
     "text": [
      "Ray objects: 100%|██████████| 32/32 [00:07<00:00,  4.04it/s]\n",
      "\u001b[2m\u001b[33m(raylet)\u001b[0m [2024-04-26 07:45:52,045 E 1625146 1625158] (raylet) file_system_monitor.cc:111: /tmp/ray/session_2024-04-26_07-45-40_493167_1608550 is over 95% full, available space: 489607450624; capacity: 16125711347712. Object creation will fail if spilling is required.\n",
      "\u001b[2m\u001b[33m(raylet)\u001b[0m [2024-04-26 07:46:02,048 E 1625146 1625158] (raylet) file_system_monitor.cc:111: /tmp/ray/session_2024-04-26_07-45-40_493167_1608550 is over 95% full, available space: 489603706880; capacity: 16125711347712. Object creation will fail if spilling is required.\n",
      "\u001b[2m\u001b[33m(raylet)\u001b[0m [2024-04-26 07:46:12,052 E 1625146 1625158] (raylet) file_system_monitor.cc:111: /tmp/ray/session_2024-04-26_07-45-40_493167_1608550 is over 95% full, available space: 489607438336; capacity: 16125711347712. Object creation will fail if spilling is required.\n",
      "\u001b[2m\u001b[33m(raylet)\u001b[0m [2024-04-26 07:46:22,055 E 1625146 1625158] (raylet) file_system_monitor.cc:111: /tmp/ray/session_2024-04-26_07-45-40_493167_1608550 is over 95% full, available space: 489607430144; capacity: 16125711347712. Object creation will fail if spilling is required.\n",
      "\u001b[2m\u001b[33m(raylet)\u001b[0m [2024-04-26 07:46:32,057 E 1625146 1625158] (raylet) file_system_monitor.cc:111: /tmp/ray/session_2024-04-26_07-45-40_493167_1608550 is over 95% full, available space: 489600622592; capacity: 16125711347712. Object creation will fail if spilling is required.\n",
      "\u001b[2m\u001b[33m(raylet)\u001b[0m [2024-04-26 07:46:42,059 E 1625146 1625158] (raylet) file_system_monitor.cc:111: /tmp/ray/session_2024-04-26_07-45-40_493167_1608550 is over 95% full, available space: 489603649536; capacity: 16125711347712. Object creation will fail if spilling is required.\n",
      "\u001b[2m\u001b[33m(raylet)\u001b[0m [2024-04-26 07:46:52,061 E 1625146 1625158] (raylet) file_system_monitor.cc:111: /tmp/ray/session_2024-04-26_07-45-40_493167_1608550 is over 95% full, available space: 489607241728; capacity: 16125711347712. Object creation will fail if spilling is required.\n",
      "\u001b[2m\u001b[33m(raylet)\u001b[0m [2024-04-26 07:47:02,063 E 1625146 1625158] (raylet) file_system_monitor.cc:111: /tmp/ray/session_2024-04-26_07-45-40_493167_1608550 is over 95% full, available space: 489607241728; capacity: 16125711347712. Object creation will fail if spilling is required.\n",
      "\u001b[2m\u001b[33m(raylet)\u001b[0m [2024-04-26 07:47:12,065 E 1625146 1625158] (raylet) file_system_monitor.cc:111: /tmp/ray/session_2024-04-26_07-45-40_493167_1608550 is over 95% full, available space: 489607241728; capacity: 16125711347712. Object creation will fail if spilling is required.\n",
      "\u001b[2m\u001b[33m(raylet)\u001b[0m [2024-04-26 07:47:22,067 E 1625146 1625158] (raylet) file_system_monitor.cc:111: /tmp/ray/session_2024-04-26_07-45-40_493167_1608550 is over 95% full, available space: 489607233536; capacity: 16125711347712. Object creation will fail if spilling is required.\n",
      "\u001b[2m\u001b[33m(raylet)\u001b[0m [2024-04-26 07:47:32,069 E 1625146 1625158] (raylet) file_system_monitor.cc:111: /tmp/ray/session_2024-04-26_07-45-40_493167_1608550 is over 95% full, available space: 489607229440; capacity: 16125711347712. Object creation will fail if spilling is required.\n",
      "\u001b[2m\u001b[33m(raylet)\u001b[0m [2024-04-26 07:47:42,072 E 1625146 1625158] (raylet) file_system_monitor.cc:111: /tmp/ray/session_2024-04-26_07-45-40_493167_1608550 is over 95% full, available space: 489607196672; capacity: 16125711347712. Object creation will fail if spilling is required.\n",
      "\u001b[2m\u001b[33m(raylet)\u001b[0m [2024-04-26 07:47:52,074 E 1625146 1625158] (raylet) file_system_monitor.cc:111: /tmp/ray/session_2024-04-26_07-45-40_493167_1608550 is over 95% full, available space: 489607188480; capacity: 16125711347712. Object creation will fail if spilling is required.\n",
      "\u001b[2m\u001b[33m(raylet)\u001b[0m [2024-04-26 07:48:02,076 E 1625146 1625158] (raylet) file_system_monitor.cc:111: /tmp/ray/session_2024-04-26_07-45-40_493167_1608550 is over 95% full, available space: 489607188480; capacity: 16125711347712. Object creation will fail if spilling is required.\n",
      "\u001b[2m\u001b[33m(raylet)\u001b[0m [2024-04-26 07:48:12,078 E 1625146 1625158] (raylet) file_system_monitor.cc:111: /tmp/ray/session_2024-04-26_07-45-40_493167_1608550 is over 95% full, available space: 489607184384; capacity: 16125711347712. Object creation will fail if spilling is required.\n",
      "\u001b[2m\u001b[33m(raylet)\u001b[0m [2024-04-26 07:48:22,080 E 1625146 1625158] (raylet) file_system_monitor.cc:111: /tmp/ray/session_2024-04-26_07-45-40_493167_1608550 is over 95% full, available space: 489604001792; capacity: 16125711347712. Object creation will fail if spilling is required.\n",
      "\u001b[2m\u001b[33m(raylet)\u001b[0m [2024-04-26 07:48:32,082 E 1625146 1625158] (raylet) file_system_monitor.cc:111: /tmp/ray/session_2024-04-26_07-45-40_493167_1608550 is over 95% full, available space: 489607176192; capacity: 16125711347712. Object creation will fail if spilling is required.\n",
      "\u001b[2m\u001b[33m(raylet)\u001b[0m [2024-04-26 07:48:42,084 E 1625146 1625158] (raylet) file_system_monitor.cc:111: /tmp/ray/session_2024-04-26_07-45-40_493167_1608550 is over 95% full, available space: 489604042752; capacity: 16125711347712. Object creation will fail if spilling is required.\n",
      "\u001b[2m\u001b[33m(raylet)\u001b[0m [2024-04-26 07:48:52,086 E 1625146 1625158] (raylet) file_system_monitor.cc:111: /tmp/ray/session_2024-04-26_07-45-40_493167_1608550 is over 95% full, available space: 489607020544; capacity: 16125711347712. Object creation will fail if spilling is required.\n",
      "\u001b[2m\u001b[33m(raylet)\u001b[0m [2024-04-26 07:49:02,088 E 1625146 1625158] (raylet) file_system_monitor.cc:111: /tmp/ray/session_2024-04-26_07-45-40_493167_1608550 is over 95% full, available space: 489607012352; capacity: 16125711347712. Object creation will fail if spilling is required.\n"
     ]
    },
    {
     "name": "stdout",
     "output_type": "stream",
     "text": [
      "2024-04-26 07:49:06,633 INFO {/home/ehdykhne/nuplan-devkit/nuplan/planning/script/builders/simulation_builder.py:83}  Building metric engines...\n",
      "2024-04-26 07:49:06,780 INFO {/home/ehdykhne/nuplan-devkit/nuplan/planning/script/builders/simulation_builder.py:85}  Building metric engines...DONE\n",
      "2024-04-26 07:49:06,780 INFO {/home/ehdykhne/nuplan-devkit/nuplan/planning/script/builders/simulation_builder.py:89}  Building simulations from 8789 scenarios...\n"
     ]
    },
    {
     "name": "stderr",
     "output_type": "stream",
     "text": [
      "\u001b[2m\u001b[33m(raylet)\u001b[0m [2024-04-26 07:49:12,090 E 1625146 1625158] (raylet) file_system_monitor.cc:111: /tmp/ray/session_2024-04-26_07-45-40_493167_1608550 is over 95% full, available space: 489607008256; capacity: 16125711347712. Object creation will fail if spilling is required.\n",
      "\u001b[2m\u001b[33m(raylet)\u001b[0m [2024-04-26 07:49:22,092 E 1625146 1625158] (raylet) file_system_monitor.cc:111: /tmp/ray/session_2024-04-26_07-45-40_493167_1608550 is over 95% full, available space: 489607008256; capacity: 16125711347712. Object creation will fail if spilling is required.\n",
      "\u001b[2m\u001b[33m(raylet)\u001b[0m [2024-04-26 07:49:32,094 E 1625146 1625158] (raylet) file_system_monitor.cc:111: /tmp/ray/session_2024-04-26_07-45-40_493167_1608550 is over 95% full, available space: 489607008256; capacity: 16125711347712. Object creation will fail if spilling is required.\n",
      "\u001b[2m\u001b[33m(raylet)\u001b[0m [2024-04-26 07:49:42,096 E 1625146 1625158] (raylet) file_system_monitor.cc:111: /tmp/ray/session_2024-04-26_07-45-40_493167_1608550 is over 95% full, available space: 489606975488; capacity: 16125711347712. Object creation will fail if spilling is required.\n",
      "\u001b[2m\u001b[33m(raylet)\u001b[0m [2024-04-26 07:49:52,098 E 1625146 1625158] (raylet) file_system_monitor.cc:111: /tmp/ray/session_2024-04-26_07-45-40_493167_1608550 is over 95% full, available space: 489606967296; capacity: 16125711347712. Object creation will fail if spilling is required.\n",
      "\u001b[2m\u001b[33m(raylet)\u001b[0m [2024-04-26 07:50:02,100 E 1625146 1625158] (raylet) file_system_monitor.cc:111: /tmp/ray/session_2024-04-26_07-45-40_493167_1608550 is over 95% full, available space: 489606963200; capacity: 16125711347712. Object creation will fail if spilling is required.\n",
      "\u001b[2m\u001b[33m(raylet)\u001b[0m [2024-04-26 07:50:12,102 E 1625146 1625158] (raylet) file_system_monitor.cc:111: /tmp/ray/session_2024-04-26_07-45-40_493167_1608550 is over 95% full, available space: 489606959104; capacity: 16125711347712. Object creation will fail if spilling is required.\n",
      "\u001b[2m\u001b[33m(raylet)\u001b[0m [2024-04-26 07:50:22,104 E 1625146 1625158] (raylet) file_system_monitor.cc:111: /tmp/ray/session_2024-04-26_07-45-40_493167_1608550 is over 95% full, available space: 489606959104; capacity: 16125711347712. Object creation will fail if spilling is required.\n",
      "\u001b[2m\u001b[33m(raylet)\u001b[0m [2024-04-26 07:50:32,106 E 1625146 1625158] (raylet) file_system_monitor.cc:111: /tmp/ray/session_2024-04-26_07-45-40_493167_1608550 is over 95% full, available space: 489606950912; capacity: 16125711347712. Object creation will fail if spilling is required.\n",
      "\u001b[2m\u001b[33m(raylet)\u001b[0m [2024-04-26 07:50:42,108 E 1625146 1625158] (raylet) file_system_monitor.cc:111: /tmp/ray/session_2024-04-26_07-45-40_493167_1608550 is over 95% full, available space: 489606926336; capacity: 16125711347712. Object creation will fail if spilling is required.\n",
      "\u001b[2m\u001b[33m(raylet)\u001b[0m [2024-04-26 07:50:52,110 E 1625146 1625158] (raylet) file_system_monitor.cc:111: /tmp/ray/session_2024-04-26_07-45-40_493167_1608550 is over 95% full, available space: 489606795264; capacity: 16125711347712. Object creation will fail if spilling is required.\n"
     ]
    },
    {
     "name": "stdout",
     "output_type": "stream",
     "text": [
      "2024-04-26 07:50:53,930 INFO {/home/ehdykhne/nuplan-devkit/nuplan/planning/script/builders/simulation_builder.py:151}  Modyfing Scenarios...\n",
      "[\n",
      "\t'17a1b01f3ae45487',\n",
      "\t'694b93d17f1355be',\n",
      "\t'b0646a16830258a6',\n",
      "\t'c6492065deb75fa1',\n",
      "\t'ea29f4aa6dd2598c',\n",
      "\t'ec5653d7ba5a5464'\n",
      "]\n",
      "2024-04-26 07:50:54,017 INFO {/home/ehdykhne/nuplan-devkit/nuplan/planning/script/builders/simulation_builder.py:206}  Created 7 modified scenarios from 8789 scenarios, 6 of which were modifiable.\n",
      "2024-04-26 07:50:54,017 INFO {/home/ehdykhne/nuplan-devkit/nuplan/planning/script/builders/simulation_builder.py:207}  Building simulations...DONE!\n",
      "2024-04-26 07:50:54,046 INFO {/home/ehdykhne/nuplan-devkit/nuplan/planning/script/run_simulation.py:113}  Running simulation...\n",
      "2024-04-26 07:50:54,047 INFO {/home/ehdykhne/nuplan-devkit/nuplan/planning/script/utils.py:138}  Executing runners...\n",
      "2024-04-26 07:50:54,047 INFO {/home/ehdykhne/nuplan-devkit/nuplan/planning/simulation/runner/executor.py:82}  Starting 7 simulations using RayDistributed!\n"
     ]
    },
    {
     "name": "stderr",
     "output_type": "stream",
     "text": [
      "Ray objects:   0%|          | 0/7 [00:00<?, ?it/s]\u001b[2m\u001b[33m(raylet)\u001b[0m [2024-04-26 07:51:02,114 E 1625146 1625158] (raylet) file_system_monitor.cc:111: /tmp/ray/session_2024-04-26_07-45-40_493167_1608550 is over 95% full, available space: 489606717440; capacity: 16125711347712. Object creation will fail if spilling is required.\n",
      "\u001b[2m\u001b[33m(raylet)\u001b[0m [2024-04-26 07:51:12,119 E 1625146 1625158] (raylet) file_system_monitor.cc:111: /tmp/ray/session_2024-04-26_07-45-40_493167_1608550 is over 95% full, available space: 489606717440; capacity: 16125711347712. Object creation will fail if spilling is required.\n",
      "\u001b[2m\u001b[33m(raylet)\u001b[0m [2024-04-26 07:51:22,126 E 1625146 1625158] (raylet) file_system_monitor.cc:111: /tmp/ray/session_2024-04-26_07-45-40_493167_1608550 is over 95% full, available space: 489606713344; capacity: 16125711347712. Object creation will fail if spilling is required.\n",
      "\u001b[2m\u001b[33m(raylet)\u001b[0m [2024-04-26 07:51:32,132 E 1625146 1625158] (raylet) file_system_monitor.cc:111: /tmp/ray/session_2024-04-26_07-45-40_493167_1608550 is over 95% full, available space: 489606709248; capacity: 16125711347712. Object creation will fail if spilling is required.\n",
      "Ray objects:  43%|████▎     | 3/7 [00:44<00:41, 10.39s/it]\u001b[2m\u001b[33m(raylet)\u001b[0m [2024-04-26 07:51:42,136 E 1625146 1625158] (raylet) file_system_monitor.cc:111: /tmp/ray/session_2024-04-26_07-45-40_493167_1608550 is over 95% full, available space: 489567461376; capacity: 16125711347712. Object creation will fail if spilling is required.\n",
      "Ray objects:  71%|███████▏  | 5/7 [00:51<00:11,  5.89s/it]\u001b[2m\u001b[33m(raylet)\u001b[0m [2024-04-26 07:51:52,142 E 1625146 1625158] (raylet) file_system_monitor.cc:111: /tmp/ray/session_2024-04-26_07-45-40_493167_1608550 is over 95% full, available space: 489537253376; capacity: 16125711347712. Object creation will fail if spilling is required.\n",
      "Ray objects: 100%|██████████| 7/7 [01:01<00:00,  8.74s/it]\n"
     ]
    },
    {
     "name": "stdout",
     "output_type": "stream",
     "text": [
      "2024-04-26 07:51:55,257 INFO {/home/ehdykhne/nuplan-devkit/nuplan/planning/simulation/runner/executor.py:129}  Number of successful simulations: 7\n",
      "2024-04-26 07:51:55,258 INFO {/home/ehdykhne/nuplan-devkit/nuplan/planning/simulation/runner/executor.py:130}  Number of failed simulations: 0\n",
      "2024-04-26 07:51:55,258 INFO {/home/ehdykhne/nuplan-devkit/nuplan/planning/script/utils.py:147}  Finished executing runners!\n",
      "2024-04-26 07:51:55,264 INFO {/home/ehdykhne/nuplan-devkit/nuplan/planning/script/utils.py:74}  Saved runner reports to ../../data/nuplan/exp/exp/simulation/closed_loop_multiagent/2024.04.26.07.45.40/runner_report.parquet\n",
      "2024-04-26 07:51:55,264 INFO {/home/ehdykhne/nuplan-devkit/nuplan/planning/simulation/main_callback/time_callback.py:27}  Simulation duration: 00:06:14 [HH:MM:SS]\n",
      "2024-04-26 07:51:56,122 INFO {/home/ehdykhne/nuplan-devkit/nuplan/planning/simulation/main_callback/metric_file_callback.py:79}  Metric files integration: 00:00:00 [HH:MM:SS]\n",
      "2024-04-26 07:51:56,189 INFO {/home/ehdykhne/nuplan-devkit/nuplan/planning/simulation/main_callback/metric_aggregator_callback.py:58}  Running metric aggregator: closed_loop_multiagent_weighted_average\n",
      "2024-04-26 07:51:56,206 INFO {/home/ehdykhne/nuplan-devkit/nuplan/planning/simulation/main_callback/metric_aggregator_callback.py:69}  Metric aggregator: 00:00:00 [HH:MM:SS]\n",
      "2024-04-26 07:51:56,300 INFO {/home/ehdykhne/nuplan-devkit/nuplan/planning/simulation/main_callback/metric_summary_callback.py:344}  Metric summary: 00:00:00 [HH:MM:SS]\n",
      "2024-04-26 07:51:56,300 INFO {/home/ehdykhne/nuplan-devkit/nuplan/planning/script/run_simulation.py:115}  Finished running simulation!\n"
     ]
    }
   ],
   "source": [
    "# Run the simulation loop (real-time visualization not yet supported, see next section for visualization)\n",
    "main_simulation(cfg_occ)"
   ]
  },
  {
   "cell_type": "code",
   "execution_count": 8,
   "metadata": {},
   "outputs": [
    {
     "data": {
      "image/png": "[encoded data removed]",
      "text/plain": [
       "<Figure size 640x480 with 2 Axes>"
      ]
     },
     "metadata": {},
     "output_type": "display_data"
    }
   ],
   "source": [
    "import numpy as np\n",
    "import pandas as pd\n",
    "import matplotlib.pyplot as plt\n",
    "import seaborn as sns\n",
    "from vis_utils import circular_hist\n",
    "\n",
    "%matplotlib inline\n",
    "\n",
    "# # seq\n",
    "# output_folder_occ_s = (\n",
    "#     \"../../data/nuplan/exp/exp/simulation/closed_loop_multiagent/2024.04.26.07.27.19\"\n",
    "# )\n",
    "# #cross\n",
    "# output_folder_occ_c = (\n",
    "#     \"../../data/nuplan/exp/exp/simulation/closed_loop_multiagent/2024.04.26.07.37.26\"\n",
    "# )\n",
    "# #merge\n",
    "# output_folder_occ_m = (\n",
    "#   \"../../data/nuplan/exp/exp/simulation/closed_loop_multiagent/2024.04.26.07.42.37\"\n",
    "# )\n",
    "# #diverge\n",
    "# output_folder_occ_d = (\n",
    "#   \"../../data/nuplan/exp/exp/simulation/closed_loop_multiagent/2024.04.26.07.45.40\"\n",
    "# )\n",
    "\n",
    "file_path = output_folder_occ + \"/metrics/\" + \"no_ego_at_fault_collisions.parquet\"\n",
    "df = pd.read_parquet(file_path)\n",
    "relative_angles_of_impact_df = df[\n",
    "    \"relative_impact_angle_at_first_ego_collision_with_vehicles_stat_value\"\n",
    "]\n",
    "relative_angles_of_impact = relative_angles_of_impact_df.to_numpy()\n",
    "\n",
    "# fig, ax = plt.subplots(1, 2)\n",
    "# fig.tight_layout()\n",
    "figp, axp = plt.subplots(1, 2, subplot_kw=dict(projection=\"polar\"))\n",
    "figp.tight_layout()\n",
    "\n",
    "# Visualise by area of bins\n",
    "circular_hist(\n",
    "    axp[0],\n",
    "    relative_angles_of_impact,\n",
    "    bins=8,\n",
    "    density=True,\n",
    "    offset=np.pi / 2,\n",
    "    gaps=False,\n",
    ")\n",
    "\n",
    "circular_hist(\n",
    "    axp[1],\n",
    "    relative_angles_of_impact,\n",
    "    bins=8,\n",
    "    density=False,\n",
    "    offset=np.pi / 2,\n",
    "    gaps=False,\n",
    ")\n",
    "\n",
    "\n",
    "axp[0].title.set_text(\"Relative Impact Angles (Area Density)\")\n",
    "axp[1].title.set_text(\"Relative Impact Angles (Count)\")"
   ]
  },
  {
   "cell_type": "code",
   "execution_count": 9,
   "metadata": {},
   "outputs": [
    {
     "name": "stdout",
     "output_type": "stream",
     "text": [
      "../../data/nuplan/exp/exp/simulation/closed_loop_multiagent/2024.04.26.07.45.40\n",
      "val\n"
     ]
    }
   ],
   "source": [
    "import re\n",
    "\n",
    "output_folder = [output_folder_occ]\n",
    "\n",
    "print(output_folder_occ)\n",
    "\n",
    "CONFIG_PATH = \"../nuplan/planning/script/config/nuboard\"\n",
    "CONFIG_NAME = \"default_nuboard\"\n",
    "\n",
    "# Initialize configuration management system\n",
    "hydra.core.global_hydra.GlobalHydra.instance().clear()  # reinitialize hydra if already initialized\n",
    "hydra.initialize(config_path=CONFIG_PATH)\n",
    "scenario_builder = None\n",
    "for item in DATASET_PARAMS:\n",
    "    parts = re.split(\"=\", item, 1)\n",
    "    if parts[0] == \"scenario_builder\":\n",
    "        scenario_builder = parts[1]\n",
    "if scenario_builder is None:\n",
    "    raise ValueError(\"scenario_builder not specified in the dataset parameters\")\n",
    "print(scenario_builder)\n",
    "# Compose the configuration\n",
    "cfg = hydra.compose(\n",
    "    config_name=CONFIG_NAME,\n",
    "    overrides=[\n",
    "        f\"scenario_builder={scenario_builder}\",  # set the database (same as simulation) used to fetch data for visualization\n",
    "        f\"simulation_path={output_folder}\",  # [output_folder, output_folder_alt] nuboard file path(s), if left empty the user can open the file inside nuBoard\n",
    "    ],\n",
    ")"
   ]
  },
  {
   "cell_type": "markdown",
   "metadata": {},
   "source": [
    "### Launch NuBoard"
   ]
  },
  {
   "cell_type": "code",
   "execution_count": 10,
   "metadata": {},
   "outputs": [
    {
     "name": "stdout",
     "output_type": "stream",
     "text": [
      "2024-04-26 07:51:56,952 INFO {/home/ehdykhne/nuplan-devkit/nuplan/planning/script/builders/scenario_building_builder.py:18}  Building AbstractScenarioBuilder...\n",
      "2024-04-26 07:51:56,969 INFO {/home/ehdykhne/nuplan-devkit/nuplan/planning/script/builders/scenario_building_builder.py:21}  Building AbstractScenarioBuilder...DONE!\n",
      "2024-04-26 07:51:56,970 INFO {/home/ehdykhne/nuplan-devkit/nuplan/planning/nuboard/nuboard.py:84}  Opening Bokeh application on http://localhost:5006/\n",
      "2024-04-26 07:51:56,970 INFO {/home/ehdykhne/nuplan-devkit/nuplan/planning/nuboard/nuboard.py:85}  Async rendering is set to: True\n",
      "2024-04-26 07:51:56,970 INFO {/home/ehdykhne/miniconda3/envs/nuplan/lib/python3.9/site-packages/bokeh/server/server.py:403}  Starting Bokeh server version 2.4.3 (running on Tornado 6.3.3)\n",
      "2024-04-26 07:51:56,970 WARNING {/home/ehdykhne/miniconda3/envs/nuplan/lib/python3.9/site-packages/bokeh/server/util.py:145}  Host wildcard '*' will allow connections originating from multiple (or possibly all) hostnames or IPs. Use non-wildcard values to restrict access explicitly\n",
      "2024-04-26 07:51:56,971 INFO {/home/ehdykhne/miniconda3/envs/nuplan/lib/python3.9/site-packages/bokeh/server/tornado.py:360}  User authentication hooks NOT provided (default user enabled)\n"
     ]
    },
    {
     "name": "stdout",
     "output_type": "stream",
     "text": [
      "2024-04-26 07:51:58,007 INFO {/home/ehdykhne/nuplan-devkit/nuplan/planning/nuboard/base/simulation_tile.py:172}  Minimum frame time=0.017 s\n",
      "2024-04-26 07:51:58,013 INFO {/home/ehdykhne/nuplan-devkit/nuplan/planning/nuboard/tabs/scenario_tab.py:485}  Rending scenario plot takes 0.0005 seconds.\n",
      "2024-04-26 07:51:58,112 INFO {/home/ehdykhne/miniconda3/envs/nuplan/lib/python3.9/site-packages/tornado/web.py:2344}  200 GET / (127.0.0.1) 230.97ms\n"
     ]
    },
    {
     "name": "stderr",
     "output_type": "stream",
     "text": [
      "INFO:tornado.access:200 GET / (127.0.0.1) 230.97ms\n"
     ]
    },
    {
     "name": "stdout",
     "output_type": "stream",
     "text": [
      "2024-04-26 07:51:58,866 INFO {/home/ehdykhne/miniconda3/envs/nuplan/lib/python3.9/site-packages/tornado/web.py:2344}  101 GET /ws (127.0.0.1) 0.46ms\n",
      "2024-04-26 07:51:58,867 INFO {/home/ehdykhne/miniconda3/envs/nuplan/lib/python3.9/site-packages/bokeh/server/views/ws.py:132}  WebSocket connection opened\n",
      "2024-04-26 07:51:58,867 INFO {/home/ehdykhne/miniconda3/envs/nuplan/lib/python3.9/site-packages/bokeh/server/views/ws.py:213}  ServerConnection created\n"
     ]
    },
    {
     "name": "stderr",
     "output_type": "stream",
     "text": [
      "INFO:tornado.access:101 GET /ws (127.0.0.1) 0.46ms\n"
     ]
    },
    {
     "name": "stdout",
     "output_type": "stream",
     "text": [
      "2024-04-26 07:51:59,501 INFO {/home/ehdykhne/nuplan-devkit/nuplan/planning/nuboard/base/simulation_tile.py:172}  Minimum frame time=0.017 s\n",
      "2024-04-26 07:51:59,507 INFO {/home/ehdykhne/nuplan-devkit/nuplan/planning/nuboard/tabs/scenario_tab.py:485}  Rending scenario plot takes 0.0005 seconds.\n",
      "2024-04-26 07:51:59,599 INFO {/home/ehdykhne/miniconda3/envs/nuplan/lib/python3.9/site-packages/tornado/web.py:2344}  200 GET / (127.0.0.1) 217.51ms\n"
     ]
    },
    {
     "name": "stderr",
     "output_type": "stream",
     "text": [
      "INFO:tornado.access:200 GET / (127.0.0.1) 217.51ms\n",
      "\u001b[2m\u001b[33m(raylet)\u001b[0m [2024-04-26 07:52:02,145 E 1625146 1625158] (raylet) file_system_monitor.cc:111: /tmp/ray/session_2024-04-26_07-45-40_493167_1608550 is over 95% full, available space: 489503449088; capacity: 16125711347712. Object creation will fail if spilling is required.\n",
      "\u001b[2m\u001b[33m(raylet)\u001b[0m [2024-04-26 07:52:12,147 E 1625146 1625158] (raylet) file_system_monitor.cc:111: /tmp/ray/session_2024-04-26_07-45-40_493167_1608550 is over 95% full, available space: 489503428608; capacity: 16125711347712. Object creation will fail if spilling is required.\n",
      "\u001b[2m\u001b[33m(raylet)\u001b[0m [2024-04-26 07:52:22,149 E 1625146 1625158] (raylet) file_system_monitor.cc:111: /tmp/ray/session_2024-04-26_07-45-40_493167_1608550 is over 95% full, available space: 489503424512; capacity: 16125711347712. Object creation will fail if spilling is required.\n",
      "\u001b[2m\u001b[33m(raylet)\u001b[0m [2024-04-26 07:52:32,151 E 1625146 1625158] (raylet) file_system_monitor.cc:111: /tmp/ray/session_2024-04-26_07-45-40_493167_1608550 is over 95% full, available space: 489503424512; capacity: 16125711347712. Object creation will fail if spilling is required.\n",
      "\u001b[2m\u001b[33m(raylet)\u001b[0m [2024-04-26 07:52:42,153 E 1625146 1625158] (raylet) file_system_monitor.cc:111: /tmp/ray/session_2024-04-26_07-45-40_493167_1608550 is over 95% full, available space: 489503391744; capacity: 16125711347712. Object creation will fail if spilling is required.\n",
      "\u001b[2m\u001b[33m(raylet)\u001b[0m [2024-04-26 07:52:52,155 E 1625146 1625158] (raylet) file_system_monitor.cc:111: /tmp/ray/session_2024-04-26_07-45-40_493167_1608550 is over 95% full, available space: 489503125504; capacity: 16125711347712. Object creation will fail if spilling is required.\n",
      "\u001b[2m\u001b[33m(raylet)\u001b[0m [2024-04-26 07:53:02,157 E 1625146 1625158] (raylet) file_system_monitor.cc:111: /tmp/ray/session_2024-04-26_07-45-40_493167_1608550 is over 95% full, available space: 489503125504; capacity: 16125711347712. Object creation will fail if spilling is required.\n",
      "\u001b[2m\u001b[33m(raylet)\u001b[0m [2024-04-26 07:53:12,159 E 1625146 1625158] (raylet) file_system_monitor.cc:111: /tmp/ray/session_2024-04-26_07-45-40_493167_1608550 is over 95% full, available space: 489503121408; capacity: 16125711347712. Object creation will fail if spilling is required.\n",
      "\u001b[2m\u001b[33m(raylet)\u001b[0m [2024-04-26 07:53:22,161 E 1625146 1625158] (raylet) file_system_monitor.cc:111: /tmp/ray/session_2024-04-26_07-45-40_493167_1608550 is over 95% full, available space: 489503121408; capacity: 16125711347712. Object creation will fail if spilling is required.\n",
      "\u001b[2m\u001b[33m(raylet)\u001b[0m [2024-04-26 07:53:32,163 E 1625146 1625158] (raylet) file_system_monitor.cc:111: /tmp/ray/session_2024-04-26_07-45-40_493167_1608550 is over 95% full, available space: 489503117312; capacity: 16125711347712. Object creation will fail if spilling is required.\n",
      "\u001b[2m\u001b[33m(raylet)\u001b[0m [2024-04-26 07:53:42,165 E 1625146 1625158] (raylet) file_system_monitor.cc:111: /tmp/ray/session_2024-04-26_07-45-40_493167_1608550 is over 95% full, available space: 489503084544; capacity: 16125711347712. Object creation will fail if spilling is required.\n",
      "\u001b[2m\u001b[33m(raylet)\u001b[0m [2024-04-26 07:53:52,167 E 1625146 1625158] (raylet) file_system_monitor.cc:111: /tmp/ray/session_2024-04-26_07-45-40_493167_1608550 is over 95% full, available space: 489503084544; capacity: 16125711347712. Object creation will fail if spilling is required.\n",
      "\u001b[2m\u001b[33m(raylet)\u001b[0m [2024-04-26 07:54:02,169 E 1625146 1625158] (raylet) file_system_monitor.cc:111: /tmp/ray/session_2024-04-26_07-45-40_493167_1608550 is over 95% full, available space: 489503080448; capacity: 16125711347712. Object creation will fail if spilling is required.\n",
      "\u001b[2m\u001b[33m(raylet)\u001b[0m [2024-04-26 07:54:12,171 E 1625146 1625158] (raylet) file_system_monitor.cc:111: /tmp/ray/session_2024-04-26_07-45-40_493167_1608550 is over 95% full, available space: 489503080448; capacity: 16125711347712. Object creation will fail if spilling is required.\n",
      "\u001b[2m\u001b[33m(raylet)\u001b[0m [2024-04-26 07:54:22,173 E 1625146 1625158] (raylet) file_system_monitor.cc:111: /tmp/ray/session_2024-04-26_07-45-40_493167_1608550 is over 95% full, available space: 489503076352; capacity: 16125711347712. Object creation will fail if spilling is required.\n",
      "\u001b[2m\u001b[33m(raylet)\u001b[0m [2024-04-26 07:54:32,175 E 1625146 1625158] (raylet) file_system_monitor.cc:111: /tmp/ray/session_2024-04-26_07-45-40_493167_1608550 is over 95% full, available space: 489503072256; capacity: 16125711347712. Object creation will fail if spilling is required.\n",
      "\u001b[2m\u001b[33m(raylet)\u001b[0m [2024-04-26 07:54:42,176 E 1625146 1625158] (raylet) file_system_monitor.cc:111: /tmp/ray/session_2024-04-26_07-45-40_493167_1608550 is over 95% full, available space: 489503047680; capacity: 16125711347712. Object creation will fail if spilling is required.\n",
      "\u001b[2m\u001b[33m(raylet)\u001b[0m [2024-04-26 07:54:52,179 E 1625146 1625158] (raylet) file_system_monitor.cc:111: /tmp/ray/session_2024-04-26_07-45-40_493167_1608550 is over 95% full, available space: 489502912512; capacity: 16125711347712. Object creation will fail if spilling is required.\n",
      "\u001b[2m\u001b[33m(raylet)\u001b[0m [2024-04-26 07:55:02,181 E 1625146 1625158] (raylet) file_system_monitor.cc:111: /tmp/ray/session_2024-04-26_07-45-40_493167_1608550 is over 95% full, available space: 489502900224; capacity: 16125711347712. Object creation will fail if spilling is required.\n",
      "\u001b[2m\u001b[33m(raylet)\u001b[0m [2024-04-26 07:55:12,183 E 1625146 1625158] (raylet) file_system_monitor.cc:111: /tmp/ray/session_2024-04-26_07-45-40_493167_1608550 is over 95% full, available space: 489502900224; capacity: 16125711347712. Object creation will fail if spilling is required.\n",
      "\u001b[2m\u001b[33m(raylet)\u001b[0m [2024-04-26 07:55:22,184 E 1625146 1625158] (raylet) file_system_monitor.cc:111: /tmp/ray/session_2024-04-26_07-45-40_493167_1608550 is over 95% full, available space: 489502900224; capacity: 16125711347712. Object creation will fail if spilling is required.\n",
      "\u001b[2m\u001b[33m(raylet)\u001b[0m [2024-04-26 07:55:32,187 E 1625146 1625158] (raylet) file_system_monitor.cc:111: /tmp/ray/session_2024-04-26_07-45-40_493167_1608550 is over 95% full, available space: 489502896128; capacity: 16125711347712. Object creation will fail if spilling is required.\n",
      "\u001b[2m\u001b[33m(raylet)\u001b[0m [2024-04-26 07:55:42,189 E 1625146 1625158] (raylet) file_system_monitor.cc:111: /tmp/ray/session_2024-04-26_07-45-40_493167_1608550 is over 95% full, available space: 489502871552; capacity: 16125711347712. Object creation will fail if spilling is required.\n",
      "\u001b[2m\u001b[33m(raylet)\u001b[0m [2024-04-26 07:55:52,191 E 1625146 1625158] (raylet) file_system_monitor.cc:111: /tmp/ray/session_2024-04-26_07-45-40_493167_1608550 is over 95% full, available space: 489502863360; capacity: 16125711347712. Object creation will fail if spilling is required.\n",
      "\u001b[2m\u001b[33m(raylet)\u001b[0m [2024-04-26 07:56:02,193 E 1625146 1625158] (raylet) file_system_monitor.cc:111: /tmp/ray/session_2024-04-26_07-45-40_493167_1608550 is over 95% full, available space: 489502863360; capacity: 16125711347712. Object creation will fail if spilling is required.\n",
      "\u001b[2m\u001b[33m(raylet)\u001b[0m [2024-04-26 07:56:12,195 E 1625146 1625158] (raylet) file_system_monitor.cc:111: /tmp/ray/session_2024-04-26_07-45-40_493167_1608550 is over 95% full, available space: 489502863360; capacity: 16125711347712. Object creation will fail if spilling is required.\n",
      "\u001b[2m\u001b[33m(raylet)\u001b[0m [2024-04-26 07:56:22,197 E 1625146 1625158] (raylet) file_system_monitor.cc:111: /tmp/ray/session_2024-04-26_07-45-40_493167_1608550 is over 95% full, available space: 489502851072; capacity: 16125711347712. Object creation will fail if spilling is required.\n",
      "\u001b[2m\u001b[33m(raylet)\u001b[0m [2024-04-26 07:56:32,199 E 1625146 1625158] (raylet) file_system_monitor.cc:111: /tmp/ray/session_2024-04-26_07-45-40_493167_1608550 is over 95% full, available space: 489502846976; capacity: 16125711347712. Object creation will fail if spilling is required.\n",
      "\u001b[2m\u001b[33m(raylet)\u001b[0m [2024-04-26 07:56:42,201 E 1625146 1625158] (raylet) file_system_monitor.cc:111: /tmp/ray/session_2024-04-26_07-45-40_493167_1608550 is over 95% full, available space: 489502822400; capacity: 16125711347712. Object creation will fail if spilling is required.\n",
      "\u001b[2m\u001b[33m(raylet)\u001b[0m [2024-04-26 07:56:52,203 E 1625146 1625158] (raylet) file_system_monitor.cc:111: /tmp/ray/session_2024-04-26_07-45-40_493167_1608550 is over 95% full, available space: 489502687232; capacity: 16125711347712. Object creation will fail if spilling is required.\n",
      "\u001b[2m\u001b[33m(raylet)\u001b[0m [2024-04-26 07:57:02,205 E 1625146 1625158] (raylet) file_system_monitor.cc:111: /tmp/ray/session_2024-04-26_07-45-40_493167_1608550 is over 95% full, available space: 489502687232; capacity: 16125711347712. Object creation will fail if spilling is required.\n",
      "\u001b[2m\u001b[33m(raylet)\u001b[0m [2024-04-26 07:57:12,208 E 1625146 1625158] (raylet) file_system_monitor.cc:111: /tmp/ray/session_2024-04-26_07-45-40_493167_1608550 is over 95% full, available space: 489502683136; capacity: 16125711347712. Object creation will fail if spilling is required.\n",
      "\u001b[2m\u001b[33m(raylet)\u001b[0m [2024-04-26 07:57:22,210 E 1625146 1625158] (raylet) file_system_monitor.cc:111: /tmp/ray/session_2024-04-26_07-45-40_493167_1608550 is over 95% full, available space: 489502679040; capacity: 16125711347712. Object creation will fail if spilling is required.\n",
      "\u001b[2m\u001b[33m(raylet)\u001b[0m [2024-04-26 07:57:32,212 E 1625146 1625158] (raylet) file_system_monitor.cc:111: /tmp/ray/session_2024-04-26_07-45-40_493167_1608550 is over 95% full, available space: 489502679040; capacity: 16125711347712. Object creation will fail if spilling is required.\n",
      "\u001b[2m\u001b[33m(raylet)\u001b[0m [2024-04-26 07:57:42,214 E 1625146 1625158] (raylet) file_system_monitor.cc:111: /tmp/ray/session_2024-04-26_07-45-40_493167_1608550 is over 95% full, available space: 489502650368; capacity: 16125711347712. Object creation will fail if spilling is required.\n",
      "\u001b[2m\u001b[33m(raylet)\u001b[0m [2024-04-26 07:57:52,216 E 1625146 1625158] (raylet) file_system_monitor.cc:111: /tmp/ray/session_2024-04-26_07-45-40_493167_1608550 is over 95% full, available space: 489502642176; capacity: 16125711347712. Object creation will fail if spilling is required.\n",
      "\u001b[2m\u001b[33m(raylet)\u001b[0m [2024-04-26 07:58:02,218 E 1625146 1625158] (raylet) file_system_monitor.cc:111: /tmp/ray/session_2024-04-26_07-45-40_493167_1608550 is over 95% full, available space: 489502638080; capacity: 16125711347712. Object creation will fail if spilling is required.\n",
      "\u001b[2m\u001b[33m(raylet)\u001b[0m [2024-04-26 07:58:12,220 E 1625146 1625158] (raylet) file_system_monitor.cc:111: /tmp/ray/session_2024-04-26_07-45-40_493167_1608550 is over 95% full, available space: 489502633984; capacity: 16125711347712. Object creation will fail if spilling is required.\n",
      "\u001b[2m\u001b[33m(raylet)\u001b[0m [2024-04-26 07:58:22,222 E 1625146 1625158] (raylet) file_system_monitor.cc:111: /tmp/ray/session_2024-04-26_07-45-40_493167_1608550 is over 95% full, available space: 489502633984; capacity: 16125711347712. Object creation will fail if spilling is required.\n",
      "\u001b[2m\u001b[33m(raylet)\u001b[0m [2024-04-26 07:58:32,224 E 1625146 1625158] (raylet) file_system_monitor.cc:111: /tmp/ray/session_2024-04-26_07-45-40_493167_1608550 is over 95% full, available space: 489502629888; capacity: 16125711347712. Object creation will fail if spilling is required.\n",
      "\u001b[2m\u001b[33m(raylet)\u001b[0m [2024-04-26 07:58:42,226 E 1625146 1625158] (raylet) file_system_monitor.cc:111: /tmp/ray/session_2024-04-26_07-45-40_493167_1608550 is over 95% full, available space: 489502605312; capacity: 16125711347712. Object creation will fail if spilling is required.\n",
      "\u001b[2m\u001b[33m(raylet)\u001b[0m [2024-04-26 07:58:52,228 E 1625146 1625158] (raylet) file_system_monitor.cc:111: /tmp/ray/session_2024-04-26_07-45-40_493167_1608550 is over 95% full, available space: 489502470144; capacity: 16125711347712. Object creation will fail if spilling is required.\n",
      "\u001b[2m\u001b[33m(raylet)\u001b[0m [2024-04-26 07:59:02,230 E 1625146 1625158] (raylet) file_system_monitor.cc:111: /tmp/ray/session_2024-04-26_07-45-40_493167_1608550 is over 95% full, available space: 489502461952; capacity: 16125711347712. Object creation will fail if spilling is required.\n",
      "\u001b[2m\u001b[33m(raylet)\u001b[0m [2024-04-26 07:59:12,232 E 1625146 1625158] (raylet) file_system_monitor.cc:111: /tmp/ray/session_2024-04-26_07-45-40_493167_1608550 is over 95% full, available space: 489502461952; capacity: 16125711347712. Object creation will fail if spilling is required.\n",
      "\u001b[2m\u001b[33m(raylet)\u001b[0m [2024-04-26 07:59:22,234 E 1625146 1625158] (raylet) file_system_monitor.cc:111: /tmp/ray/session_2024-04-26_07-45-40_493167_1608550 is over 95% full, available space: 489502461952; capacity: 16125711347712. Object creation will fail if spilling is required.\n",
      "\u001b[2m\u001b[33m(raylet)\u001b[0m [2024-04-26 07:59:32,236 E 1625146 1625158] (raylet) file_system_monitor.cc:111: /tmp/ray/session_2024-04-26_07-45-40_493167_1608550 is over 95% full, available space: 489502453760; capacity: 16125711347712. Object creation will fail if spilling is required.\n",
      "\u001b[2m\u001b[33m(raylet)\u001b[0m [2024-04-26 07:59:42,238 E 1625146 1625158] (raylet) file_system_monitor.cc:111: /tmp/ray/session_2024-04-26_07-45-40_493167_1608550 is over 95% full, available space: 489502429184; capacity: 16125711347712. Object creation will fail if spilling is required.\n",
      "\u001b[2m\u001b[33m(raylet)\u001b[0m [2024-04-26 07:59:52,240 E 1625146 1625158] (raylet) file_system_monitor.cc:111: /tmp/ray/session_2024-04-26_07-45-40_493167_1608550 is over 95% full, available space: 489502420992; capacity: 16125711347712. Object creation will fail if spilling is required.\n",
      "\u001b[2m\u001b[33m(raylet)\u001b[0m [2024-04-26 08:00:02,242 E 1625146 1625158] (raylet) file_system_monitor.cc:111: /tmp/ray/session_2024-04-26_07-45-40_493167_1608550 is over 95% full, available space: 489502420992; capacity: 16125711347712. Object creation will fail if spilling is required.\n",
      "\u001b[2m\u001b[33m(raylet)\u001b[0m [2024-04-26 08:00:12,244 E 1625146 1625158] (raylet) file_system_monitor.cc:111: /tmp/ray/session_2024-04-26_07-45-40_493167_1608550 is over 95% full, available space: 489502420992; capacity: 16125711347712. Object creation will fail if spilling is required.\n",
      "\u001b[2m\u001b[33m(raylet)\u001b[0m [2024-04-26 08:00:22,246 E 1625146 1625158] (raylet) file_system_monitor.cc:111: /tmp/ray/session_2024-04-26_07-45-40_493167_1608550 is over 95% full, available space: 489502412800; capacity: 16125711347712. Object creation will fail if spilling is required.\n",
      "\u001b[2m\u001b[33m(raylet)\u001b[0m [2024-04-26 08:00:32,248 E 1625146 1625158] (raylet) file_system_monitor.cc:111: /tmp/ray/session_2024-04-26_07-45-40_493167_1608550 is over 95% full, available space: 489502412800; capacity: 16125711347712. Object creation will fail if spilling is required.\n",
      "\u001b[2m\u001b[33m(raylet)\u001b[0m [2024-04-26 08:00:42,250 E 1625146 1625158] (raylet) file_system_monitor.cc:111: /tmp/ray/session_2024-04-26_07-45-40_493167_1608550 is over 95% full, available space: 489502388224; capacity: 16125711347712. Object creation will fail if spilling is required.\n",
      "\u001b[2m\u001b[33m(raylet)\u001b[0m [2024-04-26 08:00:52,252 E 1625146 1625158] (raylet) file_system_monitor.cc:111: /tmp/ray/session_2024-04-26_07-45-40_493167_1608550 is over 95% full, available space: 489502248960; capacity: 16125711347712. Object creation will fail if spilling is required.\n",
      "\u001b[2m\u001b[33m(raylet)\u001b[0m [2024-04-26 08:01:02,254 E 1625146 1625158] (raylet) file_system_monitor.cc:111: /tmp/ray/session_2024-04-26_07-45-40_493167_1608550 is over 95% full, available space: 489502244864; capacity: 16125711347712. Object creation will fail if spilling is required.\n",
      "\u001b[2m\u001b[33m(raylet)\u001b[0m [2024-04-26 08:01:12,256 E 1625146 1625158] (raylet) file_system_monitor.cc:111: /tmp/ray/session_2024-04-26_07-45-40_493167_1608550 is over 95% full, available space: 489502240768; capacity: 16125711347712. Object creation will fail if spilling is required.\n",
      "\u001b[2m\u001b[33m(raylet)\u001b[0m [2024-04-26 08:01:22,258 E 1625146 1625158] (raylet) file_system_monitor.cc:111: /tmp/ray/session_2024-04-26_07-45-40_493167_1608550 is over 95% full, available space: 489502240768; capacity: 16125711347712. Object creation will fail if spilling is required.\n",
      "\u001b[2m\u001b[33m(raylet)\u001b[0m [2024-04-26 08:01:32,260 E 1625146 1625158] (raylet) file_system_monitor.cc:111: /tmp/ray/session_2024-04-26_07-45-40_493167_1608550 is over 95% full, available space: 489502236672; capacity: 16125711347712. Object creation will fail if spilling is required.\n",
      "\u001b[2m\u001b[33m(raylet)\u001b[0m [2024-04-26 08:01:42,262 E 1625146 1625158] (raylet) file_system_monitor.cc:111: /tmp/ray/session_2024-04-26_07-45-40_493167_1608550 is over 95% full, available space: 489502208000; capacity: 16125711347712. Object creation will fail if spilling is required.\n",
      "\u001b[2m\u001b[33m(raylet)\u001b[0m [2024-04-26 08:01:52,264 E 1625146 1625158] (raylet) file_system_monitor.cc:111: /tmp/ray/session_2024-04-26_07-45-40_493167_1608550 is over 95% full, available space: 489502072832; capacity: 16125711347712. Object creation will fail if spilling is required.\n",
      "\u001b[2m\u001b[33m(raylet)\u001b[0m [2024-04-26 08:02:02,266 E 1625146 1625158] (raylet) file_system_monitor.cc:111: /tmp/ray/session_2024-04-26_07-45-40_493167_1608550 is over 95% full, available space: 489502072832; capacity: 16125711347712. Object creation will fail if spilling is required.\n",
      "\u001b[2m\u001b[33m(raylet)\u001b[0m [2024-04-26 08:02:12,268 E 1625146 1625158] (raylet) file_system_monitor.cc:111: /tmp/ray/session_2024-04-26_07-45-40_493167_1608550 is over 95% full, available space: 489502068736; capacity: 16125711347712. Object creation will fail if spilling is required.\n",
      "\u001b[2m\u001b[33m(raylet)\u001b[0m [2024-04-26 08:02:22,270 E 1625146 1625158] (raylet) file_system_monitor.cc:111: /tmp/ray/session_2024-04-26_07-45-40_493167_1608550 is over 95% full, available space: 489502068736; capacity: 16125711347712. Object creation will fail if spilling is required.\n",
      "\u001b[2m\u001b[33m(raylet)\u001b[0m [2024-04-26 08:02:32,272 E 1625146 1625158] (raylet) file_system_monitor.cc:111: /tmp/ray/session_2024-04-26_07-45-40_493167_1608550 is over 95% full, available space: 489502060544; capacity: 16125711347712. Object creation will fail if spilling is required.\n",
      "\u001b[2m\u001b[33m(raylet)\u001b[0m [2024-04-26 08:02:42,274 E 1625146 1625158] (raylet) file_system_monitor.cc:111: /tmp/ray/session_2024-04-26_07-45-40_493167_1608550 is over 95% full, available space: 489502031872; capacity: 16125711347712. Object creation will fail if spilling is required.\n",
      "\u001b[2m\u001b[33m(raylet)\u001b[0m [2024-04-26 08:02:52,276 E 1625146 1625158] (raylet) file_system_monitor.cc:111: /tmp/ray/session_2024-04-26_07-45-40_493167_1608550 is over 95% full, available space: 489502031872; capacity: 16125711347712. Object creation will fail if spilling is required.\n",
      "\u001b[2m\u001b[33m(raylet)\u001b[0m [2024-04-26 08:03:02,278 E 1625146 1625158] (raylet) file_system_monitor.cc:111: /tmp/ray/session_2024-04-26_07-45-40_493167_1608550 is over 95% full, available space: 489502027776; capacity: 16125711347712. Object creation will fail if spilling is required.\n",
      "\u001b[2m\u001b[33m(raylet)\u001b[0m [2024-04-26 08:03:12,280 E 1625146 1625158] (raylet) file_system_monitor.cc:111: /tmp/ray/session_2024-04-26_07-45-40_493167_1608550 is over 95% full, available space: 489502023680; capacity: 16125711347712. Object creation will fail if spilling is required.\n",
      "\u001b[2m\u001b[33m(raylet)\u001b[0m [2024-04-26 08:03:22,282 E 1625146 1625158] (raylet) file_system_monitor.cc:111: /tmp/ray/session_2024-04-26_07-45-40_493167_1608550 is over 95% full, available space: 489502023680; capacity: 16125711347712. Object creation will fail if spilling is required.\n",
      "\u001b[2m\u001b[33m(raylet)\u001b[0m [2024-04-26 08:03:32,284 E 1625146 1625158] (raylet) file_system_monitor.cc:111: /tmp/ray/session_2024-04-26_07-45-40_493167_1608550 is over 95% full, available space: 489502019584; capacity: 16125711347712. Object creation will fail if spilling is required.\n",
      "\u001b[2m\u001b[33m(raylet)\u001b[0m [2024-04-26 08:03:42,286 E 1625146 1625158] (raylet) file_system_monitor.cc:111: /tmp/ray/session_2024-04-26_07-45-40_493167_1608550 is over 95% full, available space: 489501995008; capacity: 16125711347712. Object creation will fail if spilling is required.\n",
      "\u001b[2m\u001b[33m(raylet)\u001b[0m [2024-04-26 08:03:52,288 E 1625146 1625158] (raylet) file_system_monitor.cc:111: /tmp/ray/session_2024-04-26_07-45-40_493167_1608550 is over 95% full, available space: 489501855744; capacity: 16125711347712. Object creation will fail if spilling is required.\n",
      "\u001b[2m\u001b[33m(raylet)\u001b[0m [2024-04-26 08:04:02,290 E 1625146 1625158] (raylet) file_system_monitor.cc:111: /tmp/ray/session_2024-04-26_07-45-40_493167_1608550 is over 95% full, available space: 489501851648; capacity: 16125711347712. Object creation will fail if spilling is required.\n",
      "\u001b[2m\u001b[33m(raylet)\u001b[0m [2024-04-26 08:04:12,292 E 1625146 1625158] (raylet) file_system_monitor.cc:111: /tmp/ray/session_2024-04-26_07-45-40_493167_1608550 is over 95% full, available space: 489501847552; capacity: 16125711347712. Object creation will fail if spilling is required.\n",
      "\u001b[2m\u001b[33m(raylet)\u001b[0m [2024-04-26 08:04:22,295 E 1625146 1625158] (raylet) file_system_monitor.cc:111: /tmp/ray/session_2024-04-26_07-45-40_493167_1608550 is over 95% full, available space: 489501843456; capacity: 16125711347712. Object creation will fail if spilling is required.\n",
      "\u001b[2m\u001b[33m(raylet)\u001b[0m [2024-04-26 08:04:32,297 E 1625146 1625158] (raylet) file_system_monitor.cc:111: /tmp/ray/session_2024-04-26_07-45-40_493167_1608550 is over 95% full, available space: 489501843456; capacity: 16125711347712. Object creation will fail if spilling is required.\n",
      "\u001b[2m\u001b[33m(raylet)\u001b[0m [2024-04-26 08:04:42,299 E 1625146 1625158] (raylet) file_system_monitor.cc:111: /tmp/ray/session_2024-04-26_07-45-40_493167_1608550 is over 95% full, available space: 489501818880; capacity: 16125711347712. Object creation will fail if spilling is required.\n",
      "\u001b[2m\u001b[33m(raylet)\u001b[0m [2024-04-26 08:04:52,301 E 1625146 1625158] (raylet) file_system_monitor.cc:111: /tmp/ray/session_2024-04-26_07-45-40_493167_1608550 is over 95% full, available space: 489501810688; capacity: 16125711347712. Object creation will fail if spilling is required.\n",
      "\u001b[2m\u001b[33m(raylet)\u001b[0m [2024-04-26 08:05:02,303 E 1625146 1625158] (raylet) file_system_monitor.cc:111: /tmp/ray/session_2024-04-26_07-45-40_493167_1608550 is over 95% full, available space: 489501810688; capacity: 16125711347712. Object creation will fail if spilling is required.\n",
      "\u001b[2m\u001b[33m(raylet)\u001b[0m [2024-04-26 08:05:12,305 E 1625146 1625158] (raylet) file_system_monitor.cc:111: /tmp/ray/session_2024-04-26_07-45-40_493167_1608550 is over 95% full, available space: 489501806592; capacity: 16125711347712. Object creation will fail if spilling is required.\n",
      "\u001b[2m\u001b[33m(raylet)\u001b[0m [2024-04-26 08:05:22,307 E 1625146 1625158] (raylet) file_system_monitor.cc:111: /tmp/ray/session_2024-04-26_07-45-40_493167_1608550 is over 95% full, available space: 489501806592; capacity: 16125711347712. Object creation will fail if spilling is required.\n",
      "\u001b[2m\u001b[33m(raylet)\u001b[0m [2024-04-26 08:05:32,309 E 1625146 1625158] (raylet) file_system_monitor.cc:111: /tmp/ray/session_2024-04-26_07-45-40_493167_1608550 is over 95% full, available space: 489501798400; capacity: 16125711347712. Object creation will fail if spilling is required.\n",
      "\u001b[2m\u001b[33m(raylet)\u001b[0m [2024-04-26 08:05:42,311 E 1625146 1625158] (raylet) file_system_monitor.cc:111: /tmp/ray/session_2024-04-26_07-45-40_493167_1608550 is over 95% full, available space: 489501769728; capacity: 16125711347712. Object creation will fail if spilling is required.\n",
      "\u001b[2m\u001b[33m(raylet)\u001b[0m [2024-04-26 08:05:52,313 E 1625146 1625158] (raylet) file_system_monitor.cc:111: /tmp/ray/session_2024-04-26_07-45-40_493167_1608550 is over 95% full, available space: 489501638656; capacity: 16125711347712. Object creation will fail if spilling is required.\n",
      "\u001b[2m\u001b[33m(raylet)\u001b[0m [2024-04-26 08:06:02,315 E 1625146 1625158] (raylet) file_system_monitor.cc:111: /tmp/ray/session_2024-04-26_07-45-40_493167_1608550 is over 95% full, available space: 489501634560; capacity: 16125711347712. Object creation will fail if spilling is required.\n",
      "\u001b[2m\u001b[33m(raylet)\u001b[0m [2024-04-26 08:06:12,317 E 1625146 1625158] (raylet) file_system_monitor.cc:111: /tmp/ray/session_2024-04-26_07-45-40_493167_1608550 is over 95% full, available space: 489501630464; capacity: 16125711347712. Object creation will fail if spilling is required.\n",
      "\u001b[2m\u001b[33m(raylet)\u001b[0m [2024-04-26 08:06:22,319 E 1625146 1625158] (raylet) file_system_monitor.cc:111: /tmp/ray/session_2024-04-26_07-45-40_493167_1608550 is over 95% full, available space: 489501630464; capacity: 16125711347712. Object creation will fail if spilling is required.\n",
      "\u001b[2m\u001b[33m(raylet)\u001b[0m [2024-04-26 08:06:32,321 E 1625146 1625158] (raylet) file_system_monitor.cc:111: /tmp/ray/session_2024-04-26_07-45-40_493167_1608550 is over 95% full, available space: 489501630464; capacity: 16125711347712. Object creation will fail if spilling is required.\n",
      "\u001b[2m\u001b[33m(raylet)\u001b[0m [2024-04-26 08:06:42,323 E 1625146 1625158] (raylet) file_system_monitor.cc:111: /tmp/ray/session_2024-04-26_07-45-40_493167_1608550 is over 95% full, available space: 489501601792; capacity: 16125711347712. Object creation will fail if spilling is required.\n",
      "\u001b[2m\u001b[33m(raylet)\u001b[0m [2024-04-26 08:06:52,325 E 1625146 1625158] (raylet) file_system_monitor.cc:111: /tmp/ray/session_2024-04-26_07-45-40_493167_1608550 is over 95% full, available space: 489501593600; capacity: 16125711347712. Object creation will fail if spilling is required.\n",
      "\u001b[2m\u001b[33m(raylet)\u001b[0m [2024-04-26 08:07:02,327 E 1625146 1625158] (raylet) file_system_monitor.cc:111: /tmp/ray/session_2024-04-26_07-45-40_493167_1608550 is over 95% full, available space: 489501585408; capacity: 16125711347712. Object creation will fail if spilling is required.\n",
      "\u001b[2m\u001b[33m(raylet)\u001b[0m [2024-04-26 08:07:12,329 E 1625146 1625158] (raylet) file_system_monitor.cc:111: /tmp/ray/session_2024-04-26_07-45-40_493167_1608550 is over 95% full, available space: 489501585408; capacity: 16125711347712. Object creation will fail if spilling is required.\n",
      "\u001b[2m\u001b[33m(raylet)\u001b[0m [2024-04-26 08:07:22,332 E 1625146 1625158] (raylet) file_system_monitor.cc:111: /tmp/ray/session_2024-04-26_07-45-40_493167_1608550 is over 95% full, available space: 489501585408; capacity: 16125711347712. Object creation will fail if spilling is required.\n"
     ]
    }
   ],
   "source": [
    "from nuplan.planning.script.run_nuboard import main as main_nuboard\n",
    "\n",
    "# Run nuBoard\n",
    "main_nuboard(cfg)"
   ]
  }
 ],
 "metadata": {
  "kernelspec": {
   "display_name": "nuplan",
   "language": "python",
   "name": "python3"
  },
  "language_info": {
   "codemirror_mode": {
    "name": "ipython",
    "version": 3
   },
   "file_extension": ".py",
   "mimetype": "text/x-python",
   "name": "python",
   "nbconvert_exporter": "python",
   "pygments_lexer": "ipython3",
   "version": "3.9.18"
  }
 },
 "nbformat": 4,
 "nbformat_minor": 2
}

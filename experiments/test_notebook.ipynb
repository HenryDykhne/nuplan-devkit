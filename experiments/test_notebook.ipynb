{
 "cells": [
  {
   "cell_type": "markdown",
   "id": "34460db1",
   "metadata": {},
   "source": [
    "# Creating a new planner in nuPlan <a name=\"introduction\"></a>\n"
   ]
  },
  {
   "cell_type": "markdown",
   "id": "f0189156",
   "metadata": {},
   "source": [
    "## Setup"
   ]
  },
  {
   "cell_type": "code",
   "execution_count": 1,
   "id": "373ffd1c",
   "metadata": {},
   "outputs": [
    {
     "name": "stderr",
     "output_type": "stream",
     "text": [
      "/tmp/ipykernel_187055/4095267831.py:5: DeprecationWarning: Importing display from IPython.core.display is deprecated since IPython 7.14, please import from IPython display\n",
      "  from IPython.core.display import display, HTML\n"
     ]
    }
   ],
   "source": [
    "# Useful imports\n",
    "import os\n",
    "import hydra\n",
    "import nest_asyncio\n",
    "from IPython.core.display import display, HTML\n",
    "from bokeh.io import output_notebook\n"
   ]
  },
  {
   "cell_type": "code",
   "execution_count": 2,
   "id": "13c00121",
   "metadata": {},
   "outputs": [
    {
     "data": {
      "text/html": [
       "<div class=\"bk-root\">\n",
       "        <a href=\"https://bokeh.org\" target=\"_blank\" class=\"bk-logo bk-logo-small bk-logo-notebook\"></a>\n",
       "        <span id=\"1001\">Loading BokehJS ...</span>\n",
       "    </div>\n"
      ]
     },
     "metadata": {},
     "output_type": "display_data"
    },
    {
     "data": {
      "application/javascript": "(function(root) {\n  function now() {\n    return new Date();\n  }\n\n  const force = true;\n\n  if (typeof root._bokeh_onload_callbacks === \"undefined\" || force === true) {\n    root._bokeh_onload_callbacks = [];\n    root._bokeh_is_loading = undefined;\n  }\n\nconst JS_MIME_TYPE = 'application/javascript';\n  const HTML_MIME_TYPE = 'text/html';\n  const EXEC_MIME_TYPE = 'application/vnd.bokehjs_exec.v0+json';\n  const CLASS_NAME = 'output_bokeh rendered_html';\n\n  /**\n   * Render data to the DOM node\n   */\n  function render(props, node) {\n    const script = document.createElement(\"script\");\n    node.appendChild(script);\n  }\n\n  /**\n   * Handle when an output is cleared or removed\n   */\n  function handleClearOutput(event, handle) {\n    const cell = handle.cell;\n\n    const id = cell.output_area._bokeh_element_id;\n    const server_id = cell.output_area._bokeh_server_id;\n    // Clean up Bokeh references\n    if (id != null && id in Bokeh.index) {\n      Bokeh.index[id].model.document.clear();\n      delete Bokeh.index[id];\n    }\n\n    if (server_id !== undefined) {\n      // Clean up Bokeh references\n      const cmd_clean = \"from bokeh.io.state import curstate; print(curstate().uuid_to_server['\" + server_id + \"'].get_sessions()[0].document.roots[0]._id)\";\n      cell.notebook.kernel.execute(cmd_clean, {\n        iopub: {\n          output: function(msg) {\n            const id = msg.content.text.trim();\n            if (id in Bokeh.index) {\n              Bokeh.index[id].model.document.clear();\n              delete Bokeh.index[id];\n            }\n          }\n        }\n      });\n      // Destroy server and session\n      const cmd_destroy = \"import bokeh.io.notebook as ion; ion.destroy_server('\" + server_id + \"')\";\n      cell.notebook.kernel.execute(cmd_destroy);\n    }\n  }\n\n  /**\n   * Handle when a new output is added\n   */\n  function handleAddOutput(event, handle) {\n    const output_area = handle.output_area;\n    const output = handle.output;\n\n    // limit handleAddOutput to display_data with EXEC_MIME_TYPE content only\n    if ((output.output_type != \"display_data\") || (!Object.prototype.hasOwnProperty.call(output.data, EXEC_MIME_TYPE))) {\n      return\n    }\n\n    const toinsert = output_area.element.find(\".\" + CLASS_NAME.split(' ')[0]);\n\n    if (output.metadata[EXEC_MIME_TYPE][\"id\"] !== undefined) {\n      toinsert[toinsert.length - 1].firstChild.textContent = output.data[JS_MIME_TYPE];\n      // store reference to embed id on output_area\n      output_area._bokeh_element_id = output.metadata[EXEC_MIME_TYPE][\"id\"];\n    }\n    if (output.metadata[EXEC_MIME_TYPE][\"server_id\"] !== undefined) {\n      const bk_div = document.createElement(\"div\");\n      bk_div.innerHTML = output.data[HTML_MIME_TYPE];\n      const script_attrs = bk_div.children[0].attributes;\n      for (let i = 0; i < script_attrs.length; i++) {\n        toinsert[toinsert.length - 1].firstChild.setAttribute(script_attrs[i].name, script_attrs[i].value);\n        toinsert[toinsert.length - 1].firstChild.textContent = bk_div.children[0].textContent\n      }\n      // store reference to server id on output_area\n      output_area._bokeh_server_id = output.metadata[EXEC_MIME_TYPE][\"server_id\"];\n    }\n  }\n\n  function register_renderer(events, OutputArea) {\n\n    function append_mime(data, metadata, element) {\n      // create a DOM node to render to\n      const toinsert = this.create_output_subarea(\n        metadata,\n        CLASS_NAME,\n        EXEC_MIME_TYPE\n      );\n      this.keyboard_manager.register_events(toinsert);\n      // Render to node\n      const props = {data: data, metadata: metadata[EXEC_MIME_TYPE]};\n      render(props, toinsert[toinsert.length - 1]);\n      element.append(toinsert);\n      return toinsert\n    }\n\n    /* Handle when an output is cleared or removed */\n    events.on('clear_output.CodeCell', handleClearOutput);\n    events.on('delete.Cell', handleClearOutput);\n\n    /* Handle when a new output is added */\n    events.on('output_added.OutputArea', handleAddOutput);\n\n    /**\n     * Register the mime type and append_mime function with output_area\n     */\n    OutputArea.prototype.register_mime_type(EXEC_MIME_TYPE, append_mime, {\n      /* Is output safe? */\n      safe: true,\n      /* Index of renderer in `output_area.display_order` */\n      index: 0\n    });\n  }\n\n  // register the mime type if in Jupyter Notebook environment and previously unregistered\n  if (root.Jupyter !== undefined) {\n    const events = require('base/js/events');\n    const OutputArea = require('notebook/js/outputarea').OutputArea;\n\n    if (OutputArea.prototype.mime_types().indexOf(EXEC_MIME_TYPE) == -1) {\n      register_renderer(events, OutputArea);\n    }\n  }\n  if (typeof (root._bokeh_timeout) === \"undefined\" || force === true) {\n    root._bokeh_timeout = Date.now() + 5000;\n    root._bokeh_failed_load = false;\n  }\n\n  const NB_LOAD_WARNING = {'data': {'text/html':\n     \"<div style='background-color: #fdd'>\\n\"+\n     \"<p>\\n\"+\n     \"BokehJS does not appear to have successfully loaded. If loading BokehJS from CDN, this \\n\"+\n     \"may be due to a slow or bad network connection. Possible fixes:\\n\"+\n     \"</p>\\n\"+\n     \"<ul>\\n\"+\n     \"<li>re-rerun `output_notebook()` to attempt to load from CDN again, or</li>\\n\"+\n     \"<li>use INLINE resources instead, as so:</li>\\n\"+\n     \"</ul>\\n\"+\n     \"<code>\\n\"+\n     \"from bokeh.resources import INLINE\\n\"+\n     \"output_notebook(resources=INLINE)\\n\"+\n     \"</code>\\n\"+\n     \"</div>\"}};\n\n  function display_loaded() {\n    const el = document.getElementById(\"1001\");\n    if (el != null) {\n      el.textContent = \"BokehJS is loading...\";\n    }\n    if (root.Bokeh !== undefined) {\n      if (el != null) {\n        el.textContent = \"BokehJS \" + root.Bokeh.version + \" successfully loaded.\";\n      }\n    } else if (Date.now() < root._bokeh_timeout) {\n      setTimeout(display_loaded, 100)\n    }\n  }\n\n  function run_callbacks() {\n    try {\n      root._bokeh_onload_callbacks.forEach(function(callback) {\n        if (callback != null)\n          callback();\n      });\n    } finally {\n      delete root._bokeh_onload_callbacks\n    }\n    console.debug(\"Bokeh: all callbacks have finished\");\n  }\n\n  function load_libs(css_urls, js_urls, callback) {\n    if (css_urls == null) css_urls = [];\n    if (js_urls == null) js_urls = [];\n\n    root._bokeh_onload_callbacks.push(callback);\n    if (root._bokeh_is_loading > 0) {\n      console.debug(\"Bokeh: BokehJS is being loaded, scheduling callback at\", now());\n      return null;\n    }\n    if (js_urls == null || js_urls.length === 0) {\n      run_callbacks();\n      return null;\n    }\n    console.debug(\"Bokeh: BokehJS not loaded, scheduling load and callback at\", now());\n    root._bokeh_is_loading = css_urls.length + js_urls.length;\n\n    function on_load() {\n      root._bokeh_is_loading--;\n      if (root._bokeh_is_loading === 0) {\n        console.debug(\"Bokeh: all BokehJS libraries/stylesheets loaded\");\n        run_callbacks()\n      }\n    }\n\n    function on_error(url) {\n      console.error(\"failed to load \" + url);\n    }\n\n    for (let i = 0; i < css_urls.length; i++) {\n      const url = css_urls[i];\n      const element = document.createElement(\"link\");\n      element.onload = on_load;\n      element.onerror = on_error.bind(null, url);\n      element.rel = \"stylesheet\";\n      element.type = \"text/css\";\n      element.href = url;\n      console.debug(\"Bokeh: injecting link tag for BokehJS stylesheet: \", url);\n      document.body.appendChild(element);\n    }\n\n    for (let i = 0; i < js_urls.length; i++) {\n      const url = js_urls[i];\n      const element = document.createElement('script');\n      element.onload = on_load;\n      element.onerror = on_error.bind(null, url);\n      element.async = false;\n      element.src = url;\n      console.debug(\"Bokeh: injecting script tag for BokehJS library: \", url);\n      document.head.appendChild(element);\n    }\n  };\n\n  function inject_raw_css(css) {\n    const element = document.createElement(\"style\");\n    element.appendChild(document.createTextNode(css));\n    document.body.appendChild(element);\n  }\n\n  const js_urls = [\"https://cdn.bokeh.org/bokeh/release/bokeh-2.4.3.min.js\", \"https://cdn.bokeh.org/bokeh/release/bokeh-gl-2.4.3.min.js\", \"https://cdn.bokeh.org/bokeh/release/bokeh-widgets-2.4.3.min.js\", \"https://cdn.bokeh.org/bokeh/release/bokeh-tables-2.4.3.min.js\", \"https://cdn.bokeh.org/bokeh/release/bokeh-mathjax-2.4.3.min.js\"];\n  const css_urls = [];\n\n  const inline_js = [    function(Bokeh) {\n      Bokeh.set_log_level(\"info\");\n    },\nfunction(Bokeh) {\n    }\n  ];\n\n  function run_inline_js() {\n    if (root.Bokeh !== undefined || force === true) {\n          for (let i = 0; i < inline_js.length; i++) {\n      inline_js[i].call(root, root.Bokeh);\n    }\nif (force === true) {\n        display_loaded();\n      }} else if (Date.now() < root._bokeh_timeout) {\n      setTimeout(run_inline_js, 100);\n    } else if (!root._bokeh_failed_load) {\n      console.log(\"Bokeh: BokehJS failed to load within specified timeout.\");\n      root._bokeh_failed_load = true;\n    } else if (force !== true) {\n      const cell = $(document.getElementById(\"1001\")).parents('.cell').data().cell;\n      cell.output_area.append_execute_result(NB_LOAD_WARNING)\n    }\n  }\n\n  if (root._bokeh_is_loading === 0) {\n    console.debug(\"Bokeh: BokehJS loaded, going straight to plotting\");\n    run_inline_js();\n  } else {\n    load_libs(css_urls, js_urls, function() {\n      console.debug(\"Bokeh: BokehJS plotting callback run at\", now());\n      run_inline_js();\n    });\n  }\n}(window));",
      "application/vnd.bokehjs_load.v0+json": ""
     },
     "metadata": {},
     "output_type": "display_data"
    },
    {
     "data": {
      "text/html": [
       "<style>.output_result { max-width:100% !important; }</style>"
      ],
      "text/plain": [
       "<IPython.core.display.HTML object>"
      ]
     },
     "metadata": {},
     "output_type": "display_data"
    },
    {
     "data": {
      "text/html": [
       "<style>.container { width:100% !important; }</style>"
      ],
      "text/plain": [
       "<IPython.core.display.HTML object>"
      ]
     },
     "metadata": {},
     "output_type": "display_data"
    }
   ],
   "source": [
    "nest_asyncio.apply()\n",
    "output_notebook()\n",
    "display(HTML(\"<style>.output_result { max-width:100% !important; }</style>\"))\n",
    "display(HTML(\"<style>.container { width:100% !important; }</style>\"))"
   ]
  },
  {
   "cell_type": "code",
   "execution_count": 3,
   "id": "39408ef5",
   "metadata": {},
   "outputs": [
    {
     "data": {
      "text/plain": [
       "'/media/sacardoz/Storage/nuplan-devkit/experiments'"
      ]
     },
     "execution_count": 3,
     "metadata": {},
     "output_type": "execute_result"
    }
   ],
   "source": [
    "%pwd"
   ]
  },
  {
   "cell_type": "markdown",
   "id": "128b0d15",
   "metadata": {},
   "source": [
    "# Simulating the planner <a name=\"simulation\"></a>"
   ]
  },
  {
   "cell_type": "markdown",
   "id": "db337ceb",
   "metadata": {},
   "source": [
    "## Prepare the simulation config"
   ]
  },
  {
   "cell_type": "code",
   "execution_count": 4,
   "id": "11b08c6d",
   "metadata": {},
   "outputs": [],
   "source": [
    "from tutorials.utils.tutorial_utils import construct_simulation_hydra_paths\n",
    "\n",
    "# Location of paths with all simulation configs\n",
    "BASE_CONFIG_PATH = os.path.join(os.getenv('NUPLAN_TUTORIAL_PATH', ''), '../nuplan/planning/script')\n",
    "simulation_hydra_paths = construct_simulation_hydra_paths(BASE_CONFIG_PATH)\n",
    "\n",
    "# Create a temporary directory to store the simulation artifacts\n",
    "\n",
    "DATASET_PARAMS = [\n",
    "    'scenario_builder=nuplan_mini',  # use nuplan mini database (2.5h of 8 autolabeled logs in Las Vegas)\n",
    "    'scenario_filter=one_continuous_log',  # simulate only one log\n",
    "    \"scenario_filter.log_names=['2021.06.14.16.48.02_veh-12_04057_04438']\",\n",
    "    'scenario_filter.limit_total_scenarios=1',  # use 1 total scenarios\n",
    "]\n",
    "ckpt_dir = '/home/sacardoz/checkpoints/urbandriver_checkpoint.ckpt'\n",
    "hybrid_ckpt = '/home/sacardoz/checkpoints/pdm_offset_checkpoint.ckpt'\n",
    "#'/home/sacardoz/checkpoints/urbandriver_checkpoint.ckpt'\n",
    "#\"/home/sacardoz/tutorial_vector_framework/training_simple_vector_experiment/train_default_simple_vector/2023.11.23.09.55.21/best_model/epoch.ckpt\"\n",
    "#\"/home/sacardoz/training_raster_experiment/train_default_raster/2023.11.23.07.36.36/best_model/epoch.ckpt\"\n",
    "# Initialize configuration management system\n",
    "hydra.core.global_hydra.GlobalHydra.instance().clear()  # reinitialize hydra if already initialized\n",
    "hydra.initialize(config_path=simulation_hydra_paths.config_path)\n",
    "\n",
    "# Compose the configuration\n",
    "cfg = hydra.compose(config_name=simulation_hydra_paths.config_name, overrides=[\n",
    "    '+simulation=closed_loop_multiagent',\n",
    "    'model=urban_driver_open_loop_model',\n",
    "    'planner=pdm_hybrid_planner',\n",
    "    f\"planner.pdm_hybrid_planner.checkpoint_path={hybrid_ckpt}\" ,\n",
    "    'observation.model_config=${model}',\n",
    "    f'observation.checkpoint_path={ckpt_dir}',\n",
    "    f'observation.planner_type=idm',\n",
    "    f'observation.pdm_hybrid_ckpt={hybrid_ckpt}',\n",
    "    f'observation.occlusions=true',\n",
    "    'worker=sequential',\n",
    "    '+occlusion=true',\n",
    "    '+occlusion.manager_type=wedge', #options: [range, shadow, wedge]\n",
    "    \"hydra.searchpath=[pkg://tuplan_garage.planning.script.config.common, pkg://tuplan_garage.planning.script.config.simulation, pkg://nuplan.planning.script.config.common, pkg://nuplan.planning.script.experiments]\",\n",
    "    *DATASET_PARAMS,\n",
    "])\n"
   ]
  },
  {
   "cell_type": "code",
   "execution_count": 5,
   "id": "161cc166",
   "metadata": {
    "scrolled": true
   },
   "outputs": [
    {
     "name": "stderr",
     "output_type": "stream",
     "text": [
      "Global seed set to 0\n",
      "INFO:nuplan.planning.script.builders.main_callback_builder:Building MultiMainCallback...\n",
      "INFO:nuplan.planning.script.builders.main_callback_builder:Building MultiMainCallback: 4...DONE!\n"
     ]
    },
    {
     "name": "stdout",
     "output_type": "stream",
     "text": [
      "2023-12-22 02:28:15,284 INFO {/media/sacardoz/Storage/nuplan-devkit/nuplan/planning/script/builders/worker_pool_builder.py:19}  Building WorkerPool...\n",
      "2023-12-22 02:28:15,286 INFO {/media/sacardoz/Storage/nuplan-devkit/nuplan/planning/utils/multithreading/worker_pool.py:101}  Worker: Sequential\n",
      "2023-12-22 02:28:15,286 INFO {/media/sacardoz/Storage/nuplan-devkit/nuplan/planning/utils/multithreading/worker_pool.py:102}  Number of nodes: 1\n",
      "Number of CPUs per node: 1\n",
      "Number of GPUs per node: 0\n",
      "Number of threads across all nodes: 1\n",
      "2023-12-22 02:28:15,286 INFO {/media/sacardoz/Storage/nuplan-devkit/nuplan/planning/script/builders/worker_pool_builder.py:27}  Building WorkerPool...DONE!\n",
      "2023-12-22 02:28:15,286 INFO {/media/sacardoz/Storage/nuplan-devkit/nuplan/planning/script/builders/folder_builder.py:32}  Building experiment folders...\n",
      "2023-12-22 02:28:15,286 INFO {/media/sacardoz/Storage/nuplan-devkit/nuplan/planning/script/builders/folder_builder.py:35}  \n",
      "\n",
      "\tFolder where all results are stored: /media/sacardoz/Storage/nuplan/exp/exp/simulation/closed_loop_multiagent/2023.12.22.02.28.14\n",
      "\n",
      "2023-12-22 02:28:15,288 INFO {/media/sacardoz/Storage/nuplan-devkit/nuplan/planning/script/builders/folder_builder.py:70}  Building experiment folders...DONE!\n",
      "2023-12-22 02:28:15,288 INFO {/media/sacardoz/Storage/nuplan-devkit/nuplan/planning/script/builders/simulation_callback_builder.py:52}  Building AbstractCallback...\n",
      "2023-12-22 02:28:15,288 INFO {/media/sacardoz/Storage/nuplan-devkit/nuplan/planning/script/builders/simulation_callback_builder.py:68}  Building AbstractCallback: 0...DONE!\n",
      "2023-12-22 02:28:15,288 INFO {/media/sacardoz/Storage/nuplan-devkit/nuplan/planning/script/builders/simulation_builder.py:49}  Building simulations...\n",
      "2023-12-22 02:28:15,288 INFO {/media/sacardoz/Storage/nuplan-devkit/nuplan/planning/script/builders/simulation_builder.py:55}  Extracting scenarios...\n",
      "2023-12-22 02:28:15,288 INFO {/media/sacardoz/Storage/nuplan-devkit/nuplan/common/utils/distributed_scenario_filter.py:83}  Building Scenarios in mode DistributedMode.SINGLE_NODE\n",
      "2023-12-22 02:28:15,289 INFO {/media/sacardoz/Storage/nuplan-devkit/nuplan/planning/script/builders/scenario_building_builder.py:18}  Building AbstractScenarioBuilder...\n",
      "2023-12-22 02:28:15,302 INFO {/media/sacardoz/Storage/nuplan-devkit/nuplan/planning/script/builders/scenario_building_builder.py:21}  Building AbstractScenarioBuilder...DONE!\n",
      "2023-12-22 02:28:15,302 INFO {/media/sacardoz/Storage/nuplan-devkit/nuplan/planning/script/builders/scenario_filter_builder.py:35}  Building ScenarioFilter...\n",
      "2023-12-22 02:28:15,303 INFO {/media/sacardoz/Storage/nuplan-devkit/nuplan/planning/script/builders/scenario_filter_builder.py:44}  Building ScenarioFilter...DONE!\n",
      "2023-12-22 02:28:15,322 INFO {/media/sacardoz/Storage/nuplan-devkit/nuplan/planning/script/builders/simulation_builder.py:76}  Building metric engines...\n",
      "2023-12-22 02:28:15,352 INFO {/media/sacardoz/Storage/nuplan-devkit/nuplan/planning/script/builders/simulation_builder.py:78}  Building metric engines...DONE\n",
      "2023-12-22 02:28:15,352 INFO {/media/sacardoz/Storage/nuplan-devkit/nuplan/planning/script/builders/simulation_builder.py:82}  Building simulations from 1 scenarios...\n",
      "2023-12-22 02:28:15,506 INFO {/media/sacardoz/Storage/nuplan-devkit/nuplan/planning/script/builders/model_builder.py:18}  Building TorchModuleWrapper...\n",
      "2023-12-22 02:28:15,547 INFO {/media/sacardoz/Storage/nuplan-devkit/nuplan/planning/script/builders/model_builder.py:21}  Building TorchModuleWrapper...DONE!\n",
      "2023-12-22 02:28:16,201 INFO {/media/sacardoz/Storage/nuplan-devkit/nuplan/planning/script/builders/simulation_builder.py:142}  Building simulations...DONE!\n"
     ]
    }
   ],
   "source": [
    "from nuplan.planning.script.run_simulation import build_simulation_runners\n",
    "from nuplan.common.actor_state.tracked_objects_types import AGENT_TYPES, STATIC_OBJECT_TYPES, TrackedObjectType\n",
    "\n",
    "# Run the simulation loop (real-time visualization not yet supported, see next section for visualization)\n",
    "runners, common_builder, cfg = build_simulation_runners(cfg)"
   ]
  },
  {
   "cell_type": "code",
   "execution_count": 6,
   "id": "223284d4",
   "metadata": {},
   "outputs": [],
   "source": [
    "runner = runners[0]"
   ]
  },
  {
   "cell_type": "code",
   "execution_count": 7,
   "id": "907ad940",
   "metadata": {},
   "outputs": [],
   "source": [
    "from nuplan.common.actor_state.agent import Agent\n",
    "from nuplan.common.actor_state.oriented_box import OrientedBox\n",
    "from nuplan.common.actor_state.scene_object import SceneObjectMetadata\n",
    "from nuplan.common.actor_state.state_representation import StateSE2, StateVector2D\n",
    "\n",
    "inserted_agent = Agent(tracked_object_type=TrackedObjectType.VEHICLE,\n",
    "                       oriented_box=OrientedBox(StateSE2(664433, 3997400, -3.14 / 2), 5, 2, 2),\n",
    "                       velocity=StateVector2D(0, 0),\n",
    "                       metadata=SceneObjectMetadata(1623707858950113, \"inserted\", -2, \"inserted\"),\n",
    "                       angular_velocity=0.0)\n",
    "\n",
    "inserted_goal = StateSE2(664433, 3997000, -3.14 / 2)"
   ]
  },
  {
   "cell_type": "code",
   "execution_count": 8,
   "id": "90b79421",
   "metadata": {},
   "outputs": [
    {
     "name": "stdout",
     "output_type": "stream",
     "text": [
      "SimulationIteration(time_point=TimePoint(time_us=1623707846350127), index=0)\n",
      "2023-12-22 02:28:27,237 WARNING {/media/sacardoz/Storage/nuplan-devkit/nuplan/planning/simulation/planner/idm_planner.py:153}  IDMPlanner could not find valid path to the target roadblock. Using longest route found instead\n",
      "2023-12-22 02:28:28,208 WARNING {/media/sacardoz/Storage/nuplan-devkit/nuplan/planning/simulation/planner/idm_planner.py:153}  IDMPlanner could not find valid path to the target roadblock. Using longest route found instead\n",
      "2023-12-22 02:28:29,094 WARNING {/media/sacardoz/Storage/nuplan-devkit/nuplan/planning/simulation/planner/idm_planner.py:153}  IDMPlanner could not find valid path to the target roadblock. Using longest route found instead\n",
      "2023-12-22 02:28:30,074 WARNING {/media/sacardoz/Storage/nuplan-devkit/nuplan/planning/simulation/planner/idm_planner.py:153}  IDMPlanner could not find valid path to the target roadblock. Using longest route found instead\n",
      "2023-12-22 02:28:31,080 WARNING {/media/sacardoz/Storage/nuplan-devkit/nuplan/planning/simulation/planner/idm_planner.py:153}  IDMPlanner could not find valid path to the target roadblock. Using longest route found instead\n",
      "2023-12-22 02:28:32,985 WARNING {/media/sacardoz/Storage/nuplan-devkit/nuplan/planning/simulation/planner/idm_planner.py:153}  IDMPlanner could not find valid path to the target roadblock. Using longest route found instead\n",
      "2023-12-22 02:28:34,668 WARNING {/media/sacardoz/Storage/nuplan-devkit/nuplan/planning/simulation/planner/idm_planner.py:153}  IDMPlanner could not find valid path to the target roadblock. Using longest route found instead\n",
      "2023-12-22 02:28:35,448 WARNING {/media/sacardoz/Storage/nuplan-devkit/nuplan/planning/simulation/planner/idm_planner.py:153}  IDMPlanner could not find valid path to the target roadblock. Using longest route found instead\n",
      "2023-12-22 02:28:36,250 WARNING {/media/sacardoz/Storage/nuplan-devkit/nuplan/planning/simulation/planner/idm_planner.py:153}  IDMPlanner could not find valid path to the target roadblock. Using longest route found instead\n",
      "2023-12-22 02:28:38,638 WARNING {/media/sacardoz/Storage/nuplan-devkit/nuplan/planning/simulation/planner/idm_planner.py:153}  IDMPlanner could not find valid path to the target roadblock. Using longest route found instead\n",
      "2023-12-22 02:28:43,540 WARNING {/media/sacardoz/Storage/nuplan-devkit/nuplan/planning/simulation/planner/idm_planner.py:153}  IDMPlanner could not find valid path to the target roadblock. Using longest route found instead\n",
      "2023-12-22 02:28:44,367 WARNING {/media/sacardoz/Storage/nuplan-devkit/nuplan/planning/simulation/planner/idm_planner.py:153}  IDMPlanner could not find valid path to the target roadblock. Using longest route found instead\n",
      "2023-12-22 02:28:51,440 WARNING {/media/sacardoz/Storage/nuplan-devkit/nuplan/planning/simulation/planner/idm_planner.py:153}  IDMPlanner could not find valid path to the target roadblock. Using longest route found instead\n",
      "2023-12-22 02:28:52,331 WARNING {/media/sacardoz/Storage/nuplan-devkit/nuplan/planning/simulation/planner/idm_planner.py:153}  IDMPlanner could not find valid path to the target roadblock. Using longest route found instead\n",
      "2023-12-22 02:28:53,206 WARNING {/media/sacardoz/Storage/nuplan-devkit/nuplan/planning/simulation/planner/idm_planner.py:153}  IDMPlanner could not find valid path to the target roadblock. Using longest route found instead\n",
      "2023-12-22 02:28:54,967 WARNING {/media/sacardoz/Storage/nuplan-devkit/nuplan/planning/simulation/planner/idm_planner.py:153}  IDMPlanner could not find valid path to the target roadblock. Using longest route found instead\n",
      "2023-12-22 02:28:57,304 WARNING {/media/sacardoz/Storage/nuplan-devkit/nuplan/planning/simulation/planner/idm_planner.py:153}  IDMPlanner could not find valid path to the target roadblock. Using longest route found instead\n",
      "2023-12-22 02:28:58,116 WARNING {/media/sacardoz/Storage/nuplan-devkit/nuplan/planning/simulation/planner/idm_planner.py:153}  IDMPlanner could not find valid path to the target roadblock. Using longest route found instead\n",
      "2023-12-22 02:28:58,881 WARNING {/media/sacardoz/Storage/nuplan-devkit/nuplan/planning/simulation/planner/idm_planner.py:153}  IDMPlanner could not find valid path to the target roadblock. Using longest route found instead\n",
      "2023-12-22 02:28:59,765 WARNING {/media/sacardoz/Storage/nuplan-devkit/nuplan/planning/simulation/planner/idm_planner.py:153}  IDMPlanner could not find valid path to the target roadblock. Using longest route found instead\n",
      "2023-12-22 02:29:00,661 WARNING {/media/sacardoz/Storage/nuplan-devkit/nuplan/planning/simulation/planner/idm_planner.py:153}  IDMPlanner could not find valid path to the target roadblock. Using longest route found instead\n",
      "2023-12-22 02:29:01,327 WARNING {/media/sacardoz/Storage/nuplan-devkit/nuplan/planning/simulation/planner/idm_planner.py:153}  IDMPlanner could not find valid path to the target roadblock. Using longest route found instead\n",
      "SimulationIteration(time_point=TimePoint(time_us=1623707846450055), index=1)\n",
      "SimulationIteration(time_point=TimePoint(time_us=1623707846549980), index=2)\n",
      "SimulationIteration(time_point=TimePoint(time_us=1623707846649908), index=3)\n",
      "SimulationIteration(time_point=TimePoint(time_us=1623707846749828), index=4)\n",
      "SimulationIteration(time_point=TimePoint(time_us=1623707846849751), index=5)\n",
      "SimulationIteration(time_point=TimePoint(time_us=1623707846949678), index=6)\n",
      "SimulationIteration(time_point=TimePoint(time_us=1623707847049600), index=7)\n",
      "SimulationIteration(time_point=TimePoint(time_us=1623707847149533), index=8)\n",
      "SimulationIteration(time_point=TimePoint(time_us=1623707847249494), index=9)\n",
      "SimulationIteration(time_point=TimePoint(time_us=1623707847349489), index=10)\n",
      "2023-12-22 02:29:31,281 WARNING {/media/sacardoz/Storage/nuplan-devkit/nuplan/planning/simulation/planner/idm_planner.py:153}  IDMPlanner could not find valid path to the target roadblock. Using longest route found instead\n",
      "SimulationIteration(time_point=TimePoint(time_us=1623707847449511), index=11)\n",
      "SimulationIteration(time_point=TimePoint(time_us=1623707847549545), index=12)\n",
      "SimulationIteration(time_point=TimePoint(time_us=1623707847649595), index=13)\n",
      "SimulationIteration(time_point=TimePoint(time_us=1623707847749661), index=14)\n",
      "SimulationIteration(time_point=TimePoint(time_us=1623707847849740), index=15)\n",
      "SimulationIteration(time_point=TimePoint(time_us=1623707847949830), index=16)\n",
      "SimulationIteration(time_point=TimePoint(time_us=1623707848049917), index=17)\n",
      "SimulationIteration(time_point=TimePoint(time_us=1623707848149996), index=18)\n",
      "SimulationIteration(time_point=TimePoint(time_us=1623707848250061), index=19)\n",
      "SimulationIteration(time_point=TimePoint(time_us=1623707848350125), index=20)\n",
      "SimulationIteration(time_point=TimePoint(time_us=1623707848450201), index=21)\n",
      "SimulationIteration(time_point=TimePoint(time_us=1623707848550285), index=22)\n",
      "SimulationIteration(time_point=TimePoint(time_us=1623707848650366), index=23)\n",
      "SimulationIteration(time_point=TimePoint(time_us=1623707848750437), index=24)\n",
      "SimulationIteration(time_point=TimePoint(time_us=1623707848850498), index=25)\n",
      "SimulationIteration(time_point=TimePoint(time_us=1623707848950550), index=26)\n",
      "SimulationIteration(time_point=TimePoint(time_us=1623707849050609), index=27)\n",
      "SimulationIteration(time_point=TimePoint(time_us=1623707849150663), index=28)\n",
      "SimulationIteration(time_point=TimePoint(time_us=1623707849250694), index=29)\n",
      "SimulationIteration(time_point=TimePoint(time_us=1623707849350712), index=30)\n",
      "SimulationIteration(time_point=TimePoint(time_us=1623707849450721), index=31)\n",
      "SimulationIteration(time_point=TimePoint(time_us=1623707849550719), index=32)\n",
      "SimulationIteration(time_point=TimePoint(time_us=1623707849650719), index=33)\n",
      "SimulationIteration(time_point=TimePoint(time_us=1623707849750708), index=34)\n",
      "SimulationIteration(time_point=TimePoint(time_us=1623707849850693), index=35)\n",
      "SimulationIteration(time_point=TimePoint(time_us=1623707849950680), index=36)\n",
      "SimulationIteration(time_point=TimePoint(time_us=1623707850050657), index=37)\n",
      "SimulationIteration(time_point=TimePoint(time_us=1623707850150617), index=38)\n",
      "SimulationIteration(time_point=TimePoint(time_us=1623707850250579), index=39)\n",
      "SimulationIteration(time_point=TimePoint(time_us=1623707850350533), index=40)\n",
      "SimulationIteration(time_point=TimePoint(time_us=1623707850450476), index=41)\n",
      "SimulationIteration(time_point=TimePoint(time_us=1623707850550409), index=42)\n",
      "SimulationIteration(time_point=TimePoint(time_us=1623707850650331), index=43)\n",
      "SimulationIteration(time_point=TimePoint(time_us=1623707850750249), index=44)\n",
      "SimulationIteration(time_point=TimePoint(time_us=1623707850850165), index=45)\n",
      "SimulationIteration(time_point=TimePoint(time_us=1623707850950074), index=46)\n",
      "SimulationIteration(time_point=TimePoint(time_us=1623707851049984), index=47)\n",
      "SimulationIteration(time_point=TimePoint(time_us=1623707851149906), index=48)\n",
      "SimulationIteration(time_point=TimePoint(time_us=1623707851249854), index=49)\n",
      "SimulationIteration(time_point=TimePoint(time_us=1623707851349817), index=50)\n",
      "SimulationIteration(time_point=TimePoint(time_us=1623707851449795), index=51)\n",
      "SimulationIteration(time_point=TimePoint(time_us=1623707851549788), index=52)\n",
      "SimulationIteration(time_point=TimePoint(time_us=1623707851649785), index=53)\n",
      "SimulationIteration(time_point=TimePoint(time_us=1623707851749789), index=54)\n",
      "SimulationIteration(time_point=TimePoint(time_us=1623707851849798), index=55)\n",
      "SimulationIteration(time_point=TimePoint(time_us=1623707851949814), index=56)\n",
      "SimulationIteration(time_point=TimePoint(time_us=1623707852049839), index=57)\n",
      "SimulationIteration(time_point=TimePoint(time_us=1623707852149873), index=58)\n",
      "SimulationIteration(time_point=TimePoint(time_us=1623707852249912), index=59)\n",
      "SimulationIteration(time_point=TimePoint(time_us=1623707852349958), index=60)\n",
      "SimulationIteration(time_point=TimePoint(time_us=1623707852450015), index=61)\n",
      "SimulationIteration(time_point=TimePoint(time_us=1623707852550074), index=62)\n",
      "SimulationIteration(time_point=TimePoint(time_us=1623707852650134), index=63)\n",
      "SimulationIteration(time_point=TimePoint(time_us=1623707852750202), index=64)\n",
      "SimulationIteration(time_point=TimePoint(time_us=1623707852850274), index=65)\n",
      "SimulationIteration(time_point=TimePoint(time_us=1623707852950341), index=66)\n",
      "SimulationIteration(time_point=TimePoint(time_us=1623707853050396), index=67)\n",
      "SimulationIteration(time_point=TimePoint(time_us=1623707853150437), index=68)\n",
      "SimulationIteration(time_point=TimePoint(time_us=1623707853250455), index=69)\n",
      "SimulationIteration(time_point=TimePoint(time_us=1623707853350458), index=70)\n",
      "SimulationIteration(time_point=TimePoint(time_us=1623707853450447), index=71)\n",
      "SimulationIteration(time_point=TimePoint(time_us=1623707853550423), index=72)\n",
      "SimulationIteration(time_point=TimePoint(time_us=1623707853650396), index=73)\n",
      "SimulationIteration(time_point=TimePoint(time_us=1623707853750371), index=74)\n",
      "SimulationIteration(time_point=TimePoint(time_us=1623707853850348), index=75)\n",
      "SimulationIteration(time_point=TimePoint(time_us=1623707853950316), index=76)\n",
      "SimulationIteration(time_point=TimePoint(time_us=1623707854050282), index=77)\n",
      "SimulationIteration(time_point=TimePoint(time_us=1623707854150246), index=78)\n",
      "SimulationIteration(time_point=TimePoint(time_us=1623707854250202), index=79)\n",
      "SimulationIteration(time_point=TimePoint(time_us=1623707854350166), index=80)\n",
      "SimulationIteration(time_point=TimePoint(time_us=1623707854450127), index=81)\n",
      "SimulationIteration(time_point=TimePoint(time_us=1623707854550087), index=82)\n",
      "SimulationIteration(time_point=TimePoint(time_us=1623707854650049), index=83)\n",
      "SimulationIteration(time_point=TimePoint(time_us=1623707854750013), index=84)\n",
      "SimulationIteration(time_point=TimePoint(time_us=1623707854849975), index=85)\n",
      "SimulationIteration(time_point=TimePoint(time_us=1623707854949934), index=86)\n",
      "SimulationIteration(time_point=TimePoint(time_us=1623707855049897), index=87)\n",
      "SimulationIteration(time_point=TimePoint(time_us=1623707855149866), index=88)\n",
      "SimulationIteration(time_point=TimePoint(time_us=1623707855249835), index=89)\n",
      "SimulationIteration(time_point=TimePoint(time_us=1623707855349806), index=90)\n",
      "SimulationIteration(time_point=TimePoint(time_us=1623707855449781), index=91)\n",
      "SimulationIteration(time_point=TimePoint(time_us=1623707855549767), index=92)\n",
      "SimulationIteration(time_point=TimePoint(time_us=1623707855649761), index=93)\n",
      "SimulationIteration(time_point=TimePoint(time_us=1623707855749759), index=94)\n",
      "SimulationIteration(time_point=TimePoint(time_us=1623707855849764), index=95)\n",
      "SimulationIteration(time_point=TimePoint(time_us=1623707855949781), index=96)\n",
      "SimulationIteration(time_point=TimePoint(time_us=1623707856049800), index=97)\n",
      "SimulationIteration(time_point=TimePoint(time_us=1623707856149811), index=98)\n",
      "SimulationIteration(time_point=TimePoint(time_us=1623707856249820), index=99)\n",
      "SimulationIteration(time_point=TimePoint(time_us=1623707856349835), index=100)\n",
      "SimulationIteration(time_point=TimePoint(time_us=1623707856449843), index=101)\n",
      "SimulationIteration(time_point=TimePoint(time_us=1623707856549842), index=102)\n",
      "SimulationIteration(time_point=TimePoint(time_us=1623707856649840), index=103)\n",
      "SimulationIteration(time_point=TimePoint(time_us=1623707856749839), index=104)\n",
      "SimulationIteration(time_point=TimePoint(time_us=1623707856849830), index=105)\n",
      "SimulationIteration(time_point=TimePoint(time_us=1623707856949823), index=106)\n",
      "SimulationIteration(time_point=TimePoint(time_us=1623707857049822), index=107)\n",
      "SimulationIteration(time_point=TimePoint(time_us=1623707857149827), index=108)\n",
      "SimulationIteration(time_point=TimePoint(time_us=1623707857249832), index=109)\n",
      "SimulationIteration(time_point=TimePoint(time_us=1623707857349847), index=110)\n",
      "SimulationIteration(time_point=TimePoint(time_us=1623707857449869), index=111)\n",
      "SimulationIteration(time_point=TimePoint(time_us=1623707857549895), index=112)\n",
      "SimulationIteration(time_point=TimePoint(time_us=1623707857649926), index=113)\n",
      "SimulationIteration(time_point=TimePoint(time_us=1623707857749959), index=114)\n",
      "SimulationIteration(time_point=TimePoint(time_us=1623707857849999), index=115)\n",
      "SimulationIteration(time_point=TimePoint(time_us=1623707857950037), index=116)\n",
      "SimulationIteration(time_point=TimePoint(time_us=1623707858050070), index=117)\n",
      "SimulationIteration(time_point=TimePoint(time_us=1623707858150098), index=118)\n",
      "SimulationIteration(time_point=TimePoint(time_us=1623707858250120), index=119)\n",
      "SimulationIteration(time_point=TimePoint(time_us=1623707858350135), index=120)\n",
      "SimulationIteration(time_point=TimePoint(time_us=1623707858450145), index=121)\n",
      "SimulationIteration(time_point=TimePoint(time_us=1623707858550149), index=122)\n",
      "SimulationIteration(time_point=TimePoint(time_us=1623707858650146), index=123)\n"
     ]
    }
   ],
   "source": [
    "runner.simulation.callback.on_simulation_start(runner.simulation.setup)\n",
    "\n",
    "# Initialize all simulations\n",
    "runner._initialize()\n",
    "\n",
    "while runner.simulation.is_simulation_running():\n",
    "\n",
    "    if runner.simulation._time_controller.get_iteration().index == 10:\n",
    "        runner.simulation._observations.add_agent_to_scene(inserted_agent, inserted_goal, iteration.time_point)\n",
    "\n",
    "    # Execute specific callback\n",
    "    runner.simulation.callback.on_step_start(runner.simulation.setup, runner.planner)\n",
    "\n",
    "    # Perform step\n",
    "    planner_input = runner._simulation.get_planner_input()\n",
    "\n",
    "    # Execute specific callback\n",
    "    runner._simulation.callback.on_planner_start(runner.simulation.setup, runner.planner)\n",
    "\n",
    "    # Plan path based on all planner's inputs\n",
    "    trajectory = runner.planner.compute_trajectory(planner_input)\n",
    "\n",
    "    # Propagate simulation based on planner trajectory\n",
    "    runner._simulation.callback.on_planner_end(runner.simulation.setup, runner.planner, trajectory)\n",
    "\n",
    "    iteration = runner.simulation._time_controller.get_iteration()\n",
    "    print(iteration)\n",
    "    runner.simulation.propagate(trajectory)\n",
    "\n",
    "    # Execute specific callback\n",
    "    runner.simulation.callback.on_step_end(runner.simulation.setup, runner.planner, runner.simulation.history.last())\n",
    "\n",
    "runner.simulation.callback.on_simulation_end(runner.simulation.setup, runner.planner, runner.simulation.history)"
   ]
  },
  {
   "cell_type": "code",
   "execution_count": null,
   "id": "e6c22f5f",
   "metadata": {
    "scrolled": true
   },
   "outputs": [
    {
     "name": "stderr",
     "output_type": "stream",
     "text": [
      "INFO:bokeh.server.server:Starting Bokeh server version 2.4.3 (running on Tornado 6.3.3)\n",
      "WARNING:bokeh.server.util:Host wildcard '*' will allow connections originating from multiple (or possibly all) hostnames or IPs. Use non-wildcard values to restrict access explicitly\n",
      "INFO:bokeh.server.tornado:User authentication hooks NOT provided (default user enabled)\n"
     ]
    },
    {
     "data": {
      "application/vnd.bokehjs_exec.v0+json": "",
      "text/html": [
       "<script id=\"1003\">\n",
       "  (function() {\n",
       "    const xhr = new XMLHttpRequest()\n",
       "    xhr.responseType = 'blob';\n",
       "    xhr.open('GET', \"http://localhost:5000/autoload.js?bokeh-autoload-element=1003&bokeh-absolute-url=http://localhost:5000&resources=none\", true);\n",
       "    xhr.onload = function (event) {\n",
       "      const script = document.createElement('script');\n",
       "      const src = URL.createObjectURL(event.target.response);\n",
       "      script.src = src;\n",
       "      document.body.appendChild(script);\n",
       "    };\n",
       "    xhr.send();\n",
       "  })();\n",
       "</script>"
      ]
     },
     "metadata": {
      "application/vnd.bokehjs_exec.v0+json": {
       "server_id": "15b154fce756424d9ca7e3de9f9760be"
      }
     },
     "output_type": "display_data"
    },
    {
     "name": "stdout",
     "output_type": "stream",
     "text": [
      "2023-12-22 01:52:05,312 INFO {/media/sacardoz/Storage/nuplan-devkit/nuplan/planning/nuboard/base/experiment_file_data.py:140}  Error creating dataset. Could not read schema from 'run_sim_closed_loop/training_raster_experiment/train_default_raster/2023.11.14.22.55.23/hparams.yaml'. Is this a 'parquet' file?: Could not open Parquet input source 'run_sim_closed_loop/training_raster_experiment/train_default_raster/2023.11.14.22.55.23/hparams.yaml': Parquet magic bytes not found in footer. Either the file is corrupted or this is not a parquet file.\n",
      "2023-12-22 01:52:05,313 INFO {/media/sacardoz/Storage/nuplan-devkit/nuplan/planning/nuboard/base/experiment_file_data.py:140}  Could not open Parquet input source '<Buffer>': Parquet magic bytes not found in footer. Either the file is corrupted or this is not a parquet file.\n",
      "2023-12-22 01:52:05,313 INFO {/media/sacardoz/Storage/nuplan-devkit/nuplan/planning/nuboard/base/experiment_file_data.py:140}  Could not open Parquet input source '<Buffer>': Parquet magic bytes not found in footer. Either the file is corrupted or this is not a parquet file.\n",
      "2023-12-22 01:52:05,314 INFO {/media/sacardoz/Storage/nuplan-devkit/nuplan/planning/nuboard/base/experiment_file_data.py:140}  Error creating dataset. Could not read schema from 'pretrained_checkpoints/gc_pgp_checkpoint.ckpt'. Is this a 'parquet' file?: Could not open Parquet input source 'pretrained_checkpoints/gc_pgp_checkpoint.ckpt': Parquet magic bytes not found in footer. Either the file is corrupted or this is not a parquet file.\n",
      "2023-12-22 01:52:05,314 INFO {/media/sacardoz/Storage/nuplan-devkit/nuplan/planning/nuboard/base/experiment_file_data.py:140}  Could not open Parquet input source '<Buffer>': Parquet magic bytes not found in footer. Either the file is corrupted or this is not a parquet file.\n",
      "2023-12-22 01:52:05,314 INFO {/media/sacardoz/Storage/nuplan-devkit/nuplan/planning/nuboard/base/experiment_file_data.py:140}  Could not open Parquet input source '<Buffer>': Parquet magic bytes not found in footer. Either the file is corrupted or this is not a parquet file.\n",
      "2023-12-22 01:52:05,315 INFO {/media/sacardoz/Storage/nuplan-devkit/nuplan/planning/nuboard/base/experiment_file_data.py:140}  Could not open Parquet input source '<Buffer>': Parquet magic bytes not found in footer. Either the file is corrupted or this is not a parquet file.\n",
      "2023-12-22 01:52:05,315 INFO {/media/sacardoz/Storage/nuplan-devkit/nuplan/planning/nuboard/base/experiment_file_data.py:140}  Could not open Parquet input source '<Buffer>': Parquet magic bytes not found in footer. Either the file is corrupted or this is not a parquet file.\n",
      "2023-12-22 01:52:05,318 INFO {/media/sacardoz/Storage/nuplan-devkit/nuplan/planning/nuboard/base/simulation_tile.py:172}  Minimum frame time=0.017 s\n"
     ]
    },
    {
     "name": "stderr",
     "output_type": "stream",
     "text": [
      "Rendering a scenario: 100%|██████████| 1/1 [00:00<00:00, 60.29it/s]\n",
      "WARNING:bokeh.core.validation.check:W-1000 (MISSING_RENDERERS): Plot has no renderers: Figure(id='1005', ...)\n",
      "INFO:tornado.access:200 GET /autoload.js?bokeh-autoload-element=1003&bokeh-absolute-url=http://localhost:5000&resources=none (::1) 846.47ms\n",
      "INFO:bokeh.server.views.ws:WebSocket connection opened\n",
      "INFO:tornado.access:101 GET /ws?id=935f7e47-d5c0-410b-9cdd-a988d9f0ac32&origin=da2f890a-eb18-4637-9199-dd0f06169aef&swVersion=4&extensionId=&platform=electron&vscode-resource-base-authority=vscode-resource.vscode-cdn.net&parentOrigin=vscode-file%3A%2F%2Fvscode-app&purpose=notebookRenderer (::1) 0.64ms\n",
      "INFO:bokeh.server.views.ws:ServerConnection created\n"
     ]
    },
    {
     "name": "stdout",
     "output_type": "stream",
     "text": [
      "2023-12-22 01:52:06,143 INFO {/home/sacardoz/miniconda3/envs/nuplan/lib/python3.9/site-packages/tornado/web.py:2344}  200 GET /autoload.js?bokeh-autoload-element=1003&bokeh-absolute-url=http://localhost:5000&resources=none (::1) 846.47ms\n",
      "2023-12-22 01:52:06,157 INFO {/media/sacardoz/Storage/nuplan-devkit/tutorials/utils/tutorial_utils.py:267}  Done rendering!\n",
      "2023-12-22 01:52:06,158 INFO {/home/sacardoz/miniconda3/envs/nuplan/lib/python3.9/site-packages/tornado/web.py:2344}  101 GET /ws?id=935f7e47-d5c0-410b-9cdd-a988d9f0ac32&origin=da2f890a-eb18-4637-9199-dd0f06169aef&swVersion=4&extensionId=&platform=electron&vscode-resource-base-authority=vscode-resource.vscode-cdn.net&parentOrigin=vscode-file%3A%2F%2Fvscode-app&purpose=notebookRenderer (::1) 0.64ms\n"
     ]
    }
   ],
   "source": [
    "from tutorials.utils.tutorial_utils import visualize_history\n",
    "visualize_history(runner.simulation._history, runner.scenario, bokeh_port=5000)"
   ]
  }
 ],
 "metadata": {
  "kernelspec": {
   "display_name": "Python 3 (ipykernel)",
   "language": "python",
   "name": "python3"
  },
  "language_info": {
   "codemirror_mode": {
    "name": "ipython",
    "version": 3
   },
   "file_extension": ".py",
   "mimetype": "text/x-python",
   "name": "python",
   "nbconvert_exporter": "python",
   "pygments_lexer": "ipython3",
   "version": "3.9.18"
  }
 },
 "nbformat": 4,
 "nbformat_minor": 5
}

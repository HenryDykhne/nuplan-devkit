{
 "cells": [
  {
   "cell_type": "markdown",
   "metadata": {},
   "source": [
    "### NPSC psudeo-extension stands for NuPlan Scenario Collection. \n",
    "#### It is a pkl file with the naming convention `filename.npsc.pkl` that contains:\n",
    "* The data structure of a dictionary of scenario modifications.\n",
    "* The `DATASET_PARAMS` list of filters in order to extract the correct scenarios to modify."
   ]
  },
  {
   "cell_type": "code",
   "execution_count": 1,
   "metadata": {},
   "outputs": [],
   "source": [
    "import logging\n",
    "import nest_asyncio\n",
    "\n",
    "nest_asyncio.apply()\n",
    "\n",
    "import torch\n",
    "\n",
    "torch.cuda.is_available()\n",
    "\n",
    "import os\n",
    "\n",
    "from nuplan.planning.script.run_simulation import main as main_simulation"
   ]
  },
  {
   "cell_type": "markdown",
   "metadata": {},
   "source": [
    "### If your paths arent set correctly in the environment, set them here manually."
   ]
  },
  {
   "cell_type": "code",
   "execution_count": null,
   "metadata": {},
   "outputs": [],
   "source": [
    "%env NUPLAN_DATA_ROOT=../../../../datasets/nuplan/dataset\n",
    "%env NUPLAN_MAPS_ROOT=../../data/nuplan/maps\n",
    "%env NUPLAN_EXP_ROOT=../../data/nuplan/exp\n",
    "%env NUPLAN_DEVKIT_ROOT=../../nuplan-devkit/\n",
    "%pwd"
   ]
  },
  {
   "cell_type": "code",
   "execution_count": 3,
   "metadata": {},
   "outputs": [],
   "source": [
    "import hydra\n",
    "from nuplan.planning.script.utils import (\n",
    "    set_default_path,\n",
    ")\n",
    "\n",
    "logging.basicConfig(level=logging.INFO)\n",
    "logger = logging.getLogger(__name__)\n",
    "\n",
    "# If set, use the env. variable to overwrite the default dataset and experiment paths\n",
    "set_default_path()\n",
    "\n",
    "# If set, use the env. variable to overwrite the Hydra config\n",
    "CONFIG_PATH = os.getenv(\"NUPLAN_HYDRA_CONFIG_PATH\", \"config/simulation\")\n",
    "\n",
    "if os.environ.get(\"NUPLAN_HYDRA_CONFIG_PATH\") is not None:\n",
    "    CONFIG_PATH = os.path.join(\"../../../../\", CONFIG_PATH)\n",
    "\n",
    "if os.path.basename(CONFIG_PATH) != \"simulation\":\n",
    "    CONFIG_PATH = os.path.join(CONFIG_PATH, \"simulation\")\n",
    "CONFIG_NAME = \"default_simulation\""
   ]
  },
  {
   "cell_type": "code",
   "execution_count": 4,
   "metadata": {},
   "outputs": [],
   "source": [
    "from tutorials.utils.tutorial_utils import construct_simulation_hydra_paths\n",
    "\n",
    "# Location of paths with all simulation configs\n",
    "BASE_CONFIG_PATH = os.path.join(\n",
    "    os.getenv(\"NUPLAN_TUTORIAL_PATH\", \"\"), \"../nuplan/planning/script\"\n",
    ")\n",
    "simulation_hydra_paths = construct_simulation_hydra_paths(BASE_CONFIG_PATH)"
   ]
  },
  {
   "cell_type": "markdown",
   "metadata": {},
   "source": [
    "### Choose the experiment name you want to re-run"
   ]
  },
  {
   "cell_type": "code",
   "execution_count": null,
   "metadata": {},
   "outputs": [],
   "source": [
    "import pickle\n",
    "#pdm_closed_pdm_closed_cross_pure_scen_20\n",
    "#pdm_closed_pdm_closed_seq_pure_scen_100\n",
    "#pdm_closed_pdm_closed_merge_pure_scen_20\n",
    "#pdm_closed_pdm_closed_diverge_pure_scen_1400\n",
    "EXPERIMENT_NAME = \"choose_saved_experiment_name\"\n",
    "modification_file_path = \"npsc_files/\" + EXPERIMENT_NAME + \".npsc.pkl\"\n",
    "with open(modification_file_path, \"rb\") as output_file:\n",
    "    mod_list_dict = pickle.load(output_file)\n",
    "    print(list(mod_list_dict.keys()))\n",
    "    DATASET_PARAMS = pickle.load(output_file)\n",
    "\n",
    "print(DATASET_PARAMS)"
   ]
  },
  {
   "cell_type": "markdown",
   "metadata": {},
   "source": [
    "### Path to appropriate checkpoints listed. Change if wrong"
   ]
  },
  {
   "cell_type": "code",
   "execution_count": 6,
   "metadata": {},
   "outputs": [],
   "source": [
    "urban_ckpt = \"/home/ehdykhne/occ-gen/experiments/pretrained_checkpoints/urbandriver_checkpoint.ckpt\"\n",
    "gc_pgp_ckpt = \"/home/ehdykhne/occ-gen/experiments/pretrained_checkpoints/gc_pgp_checkpoint.ckpt\"\n",
    "hybrid_ckpt = \"/home/ehdykhne/occ-gen/experiments/pretrained_checkpoints/pdm_offset_checkpoint.ckpt\""
   ]
  },
  {
   "cell_type": "markdown",
   "metadata": {},
   "source": [
    "### Prep first regime. Select appropriate planners and observations from comments below."
   ]
  },
  {
   "cell_type": "code",
   "execution_count": null,
   "metadata": {},
   "outputs": [],
   "source": [
    "hydra.core.global_hydra.GlobalHydra.instance().clear()  # reinitialize hydra if already initialized\n",
    "hydra.initialize(config_path=simulation_hydra_paths.config_path)\n",
    "\n",
    "# Compose the configuration\n",
    "print(simulation_hydra_paths.config_name)\n",
    "cfg_occ = hydra.compose(\n",
    "    config_name=simulation_hydra_paths.config_name,\n",
    "    overrides=[\n",
    "        # planner\n",
    "        ################################################\n",
    "        \"planner=pdm_closed_planner\",  # [ml_planner, pdm_hybrid_planner, pdm_closed_planner, idm_planner, log_future_planner, simple_planner]\n",
    "        # planner occlusion\n",
    "        ################################################\n",
    "        \"+occlusion_cfg.occlusion=true\",\n",
    "        \"+occlusion_cfg.manager_type=wedge\",  # options: [range, shadow, wedge]\n",
    "        \"+occlusion_cfg.uncloak_reaction_time=0.5\",  # 0.1\n",
    "        \"+occlusion_cfg.notice_threshold=0.33\",  # 0.1\n",
    "        ################################################\n",
    "        # obs\n",
    "        ################################################\n",
    "        f\"observation.planner_type=pdm_closed\",\n",
    "        ################################################\n",
    "        # obs occlusion\n",
    "        ################################################\n",
    "        f\"observation.occlusion_cfg.occlusion=True\",\n",
    "        f\"observation.occlusion_cfg.manager_type=wedge\",\n",
    "        f\"+observation.occlusion_cfg.uncloak_reaction_time=0.5\",\n",
    "        f\"+observation.occlusion_cfg.notice_threshold=0.33\",\n",
    "        ################################################\n",
    "        # scenario modification\n",
    "        \"+modify_scenario_simulations=true\",\n",
    "        \"+second_testing_round=true\", \n",
    "        # unlike in the bulk running experiments ipynb file, we are testing all the scenarios.\n",
    "        # #not just the ones that are OCCs, just in case different settings result in different scenarios having OCCs. \n",
    "        # If you want to restrict this, you can set the `scenarios_to_check` variable in the config like in the bulk running experiments file.        f\"+modification_file_path={modification_file_path}\",\n",
    "        # \"+remove_other_agents=true\",\n",
    "        ################################################\n",
    "        # misc\n",
    "        ################################################\n",
    "        \"+simulation=closed_loop_multiagent\",  # [open_loop_boxes, closed_loop_nonreactive_agents, closed_loop_reactive_agents, closed_loop_multiagent]\n",
    "        \"worker=ray_distributed\",  # [sequential, ray_distributed]\n",
    "        \"hydra.searchpath=[pkg://tuplan_garage.planning.script.config.common, pkg://tuplan_garage.planning.script.config.simulation, pkg://nuplan.planning.script.config.common, pkg://nuplan.planning.script.experiments]\",\n",
    "        *DATASET_PARAMS,\n",
    "        ################################################\n",
    "    ],\n",
    ")\n",
    "\n",
    "output_folder_reg_1 = cfg_occ.output_dir\n",
    "print('output_folder_reg_1 = \"' + output_folder_reg_1 + '\"')\n",
    "\n",
    "## Below are config options to run other types of planners and observations (observations being non-ego vehicles):\n",
    "\n",
    "# planner: pdm_closed\n",
    "##########################################\n",
    "# \"planner=pdm_closed_planner\",  # [ml_planner, pdm_hybrid_planner, pdm_closed_planner, idm_planner, log_future_planner, simple_planner]\n",
    "##########################################\n",
    "\n",
    "# obs: pdm_closed\n",
    "##########################################\n",
    "# f\"observation.planner_type=pdm_closed\",\n",
    "##########################################\n",
    "\n",
    "# planner: urban driver\n",
    "##########################################\n",
    "# \"planner=ml_planner\",  # [ml_planner, pdm_hybrid_planner, pdm_closed_planner, idm_planner, log_future_planner, simple_planner]\n",
    "# \"model=urban_driver_open_loop_model\",\n",
    "# \"planner.ml_planner.model_config=${model}\",\n",
    "# f\"planner.ml_planner.checkpoint_path={urban_ckpt}\",\n",
    "##########################################\n",
    "\n",
    "# obs: urban driver\n",
    "##########################################\n",
    "# \"+observation.model=urban_driver_open_loop_model\",\n",
    "# f\"observation.planner_type=ml\",\n",
    "# \"+observation.model_config=${model}\",\n",
    "# f\"observation.checkpoint_path={urban_ckpt}\",\n",
    "##########################################\n",
    "\n",
    "# planner: gc_pgp\n",
    "################################################\n",
    "# \"planner=ml_planner\",  # [ml_planner, pdm_hybrid_planner, pdm_closed_planner, idm_planner, log_future_planner, simple_planner]\n",
    "# \"model=gc_pgp_model\",\n",
    "# \"model.aggregator.pre_train=false\",\n",
    "# \"planner.ml_planner.model_config=${model}\",\n",
    "# f\"planner.ml_planner.checkpoint_path={gc_pgp_ckpt}\",\n",
    "###############################################\n",
    "\n",
    "# obs: gc_pgp\n",
    "###############################################\n",
    "# \"+observation.model_config=${model}\",\n",
    "# \"+observation.model=gc_pgp_model\",\n",
    "# \"+observation.model.aggregator.pre_train=false\",\n",
    "# f\"observation.planner_type=ml\",\n",
    "# f\"observation.checkpoint_path={gc_pgp_ckpt}\",\n",
    "################################################"
   ]
  },
  {
   "cell_type": "markdown",
   "metadata": {},
   "source": [
    "### Now, we run the first regime"
   ]
  },
  {
   "cell_type": "code",
   "execution_count": null,
   "metadata": {},
   "outputs": [],
   "source": [
    "# Run the simulation loop (real-time visualization not yet supported, see next section for visualization)\n",
    "main_simulation(cfg_occ)"
   ]
  },
  {
   "cell_type": "markdown",
   "metadata": {},
   "source": [
    "### Prep Second Regime"
   ]
  },
  {
   "cell_type": "code",
   "execution_count": null,
   "metadata": {},
   "outputs": [],
   "source": [
    "hydra.core.global_hydra.GlobalHydra.instance().clear()  # reinitialize hydra if already initialized\n",
    "hydra.initialize(config_path=simulation_hydra_paths.config_path)\n",
    "\n",
    "# Compose the configuration\n",
    "print(simulation_hydra_paths.config_name)\n",
    "cfg_occ = hydra.compose(\n",
    "    config_name=simulation_hydra_paths.config_name,\n",
    "    overrides=[\n",
    "        # planner\n",
    "        ################################################\n",
    "        \"planner=pdm_closed_planner\",  # [ml_planner, pdm_hybrid_planner, pdm_closed_planner, idm_planner, log_future_planner, simple_planner]\n",
    "        # planner occlusion\n",
    "        ################################################\n",
    "        \"+occlusion_cfg.occlusion=true\",\n",
    "        \"+occlusion_cfg.manager_type=wedge\",  # options: [range, shadow, wedge]\n",
    "        \"+occlusion_cfg.uncloak_reaction_time=0.5\",  # 0.1\n",
    "        \"+occlusion_cfg.notice_threshold=0.33\",  # 0.1\n",
    "        ################################################\n",
    "        # obs\n",
    "        ################################################\n",
    "        f\"observation.planner_type=pdm_closed\",\n",
    "        ################################################\n",
    "        # obs occlusion\n",
    "        ################################################\n",
    "        f\"observation.occlusion_cfg.occlusion=True\",\n",
    "        f\"observation.occlusion_cfg.manager_type=wedge\",\n",
    "        f\"+observation.occlusion_cfg.uncloak_reaction_time=0.5\",\n",
    "        f\"+observation.occlusion_cfg.notice_threshold=0.33\",\n",
    "        ################################################\n",
    "        # scenario modification\n",
    "        \"+modify_scenario_simulations=true\",\n",
    "        \"+second_testing_round=true\", \n",
    "        # unlike in the bulk running experiments ipynb file, we are testing all the scenarios.\n",
    "        # #not just the ones that are OCCs, just in case different settings result in different scenarios having OCCs. \n",
    "        # If you want to restrict this, you can set the `scenarios_to_check` variable in the config like in the bulk running experiments file.\n",
    "        f\"+modification_file_path={modification_file_path}\",\n",
    "        # \"+remove_other_agents=true\",\n",
    "        ################################################\n",
    "        # misc\n",
    "        ################################################\n",
    "        \"+simulation=closed_loop_multiagent\",  # [open_loop_boxes, closed_loop_nonreactive_agents, closed_loop_reactive_agents, closed_loop_multiagent]\n",
    "        \"worker=ray_distributed\",  # [sequential, ray_distributed]\n",
    "        \"hydra.searchpath=[pkg://tuplan_garage.planning.script.config.common, pkg://tuplan_garage.planning.script.config.simulation, pkg://nuplan.planning.script.config.common, pkg://nuplan.planning.script.experiments]\",\n",
    "        *DATASET_PARAMS,\n",
    "        ################################################\n",
    "    ],\n",
    ")\n",
    "\n",
    "output_folder_reg_2 = cfg_occ.output_dir\n",
    "print('output_folder_reg_2 = \"' + output_folder_reg_2 + '\"')"
   ]
  },
  {
   "cell_type": "markdown",
   "metadata": {},
   "source": [
    "### Run Second Regime"
   ]
  },
  {
   "cell_type": "code",
   "execution_count": null,
   "metadata": {},
   "outputs": [],
   "source": [
    "# Run the simulation loop (real-time visualization not yet supported, see next section for visualization)\n",
    "main_simulation(cfg_occ)"
   ]
  },
  {
   "cell_type": "markdown",
   "metadata": {},
   "source": [
    "## Number of collisions of of each scenario type visualized. You may use the plot_diff function to visualize many more metrics"
   ]
  },
  {
   "cell_type": "code",
   "execution_count": null,
   "metadata": {},
   "outputs": [],
   "source": [
    "from vis_utils import plot_diff\n",
    "\n",
    "# %env NUPLAN_DATA_ROOT=../../../datasets/nuplan/dataset\n",
    "# %env NUPLAN_MAPS_ROOT=../../data/nuplan/maps\n",
    "# %env NUPLAN_EXP_ROOT=../../data/nuplan/exp\n",
    "# %env NUPLAN_DEVKIT_ROOT=../../nuplan-devkit/\n",
    "# %pwd\n",
    "\n",
    "file_path_1 = output_folder_reg_1 + \"/metrics/\" + \"no_ego_at_fault_collisions.parquet\"\n",
    "file_path_2 = output_folder_reg_2 + \"/metrics/\" + \"no_ego_at_fault_collisions.parquet\"\n",
    "\n",
    "\n",
    "metrics = [\n",
    "    \"number_of_ego_collisions_with_vehicles_stat_value\",\n",
    "]\n",
    "metric_op = [\n",
    "    \"sum\",\n",
    "]\n",
    "# metrics are 'good' if you would like to succeed at them. ex: amount of crashes is bad, amount of money is good\n",
    "good_metric = [\n",
    "    False,\n",
    "]\n",
    "\n",
    "plot_diff(\n",
    "    file_path_2,\n",
    "    file_path_1,\n",
    "    \"unocc\",\n",
    "    \"occ\",\n",
    "    metrics,\n",
    "    metric_op,\n",
    "    good_metric,\n",
    "    group_by=\"scenario_type\",\n",
    "    k_differences=25,\n",
    "    as_bool=True,\n",
    ")"
   ]
  },
  {
   "cell_type": "markdown",
   "metadata": {},
   "source": [
    "## Prep NuBoard"
   ]
  },
  {
   "cell_type": "code",
   "execution_count": null,
   "metadata": {},
   "outputs": [],
   "source": [
    "import re\n",
    "\n",
    "output_folder = [output_folder_reg_1, output_folder_reg_2]\n",
    "\n",
    "print(output_folder_reg_1)\n",
    "print(output_folder_reg_2)\n",
    "\n",
    "CONFIG_PATH = \"../nuplan/planning/script/config/nuboard\"\n",
    "CONFIG_NAME = \"default_nuboard\"\n",
    "\n",
    "# Initialize configuration management system\n",
    "hydra.core.global_hydra.GlobalHydra.instance().clear()  # reinitialize hydra if already initialized\n",
    "hydra.initialize(config_path=CONFIG_PATH)\n",
    "scenario_builder = None\n",
    "for item in DATASET_PARAMS:\n",
    "    parts = re.split(\"=\", item, 1)\n",
    "    if parts[0] == \"scenario_builder\":\n",
    "        scenario_builder = parts[1]\n",
    "if scenario_builder is None:\n",
    "    raise ValueError(\"scenario_builder not specified in the dataset parameters\")\n",
    "print(scenario_builder)\n",
    "# Compose the configuration\n",
    "cfg = hydra.compose(\n",
    "    config_name=CONFIG_NAME,\n",
    "    overrides=[\n",
    "        f\"scenario_builder={scenario_builder}\",  # set the database (same as simulation) used to fetch data for visualization\n",
    "        f\"simulation_path={output_folder}\",  # [output_folder, output_folder_alt] nuboard file path(s), if left empty the user can open the file inside nuBoard\n",
    "    ],\n",
    ")"
   ]
  },
  {
   "cell_type": "markdown",
   "metadata": {},
   "source": [
    "### Launch NuBoard"
   ]
  },
  {
   "cell_type": "code",
   "execution_count": null,
   "metadata": {},
   "outputs": [],
   "source": [
    "from nuplan.planning.script.run_nuboard import main as main_nuboard\n",
    "\n",
    "# Run nuBoard\n",
    "main_nuboard(cfg)"
   ]
  }
 ],
 "metadata": {
  "kernelspec": {
   "display_name": "nuplan",
   "language": "python",
   "name": "python3"
  },
  "language_info": {
   "codemirror_mode": {
    "name": "ipython",
    "version": 3
   },
   "file_extension": ".py",
   "mimetype": "text/x-python",
   "name": "python",
   "nbconvert_exporter": "python",
   "pygments_lexer": "ipython3",
   "version": "3.9.18"
  }
 },
 "nbformat": 4,
 "nbformat_minor": 2
}
